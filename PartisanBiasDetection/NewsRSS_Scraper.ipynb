{
  "nbformat": 4,
  "nbformat_minor": 0,
  "metadata": {
    "colab": {
      "provenance": [],
      "include_colab_link": true
    },
    "kernelspec": {
      "name": "python3",
      "display_name": "Python 3"
    },
    "language_info": {
      "name": "python"
    }
  },
  "cells": [
    {
      "cell_type": "markdown",
      "metadata": {
        "id": "view-in-github",
        "colab_type": "text"
      },
      "source": [
        "<a href=\"https://colab.research.google.com/github/ExCaLBBR/ExCaLBBR_Projects/blob/main/PartisanBiasDetection/NewsRSS_Scraper.ipynb\" target=\"_parent\"><img src=\"https://colab.research.google.com/assets/colab-badge.svg\" alt=\"Open In Colab\"/></a>"
      ]
    },
    {
      "cell_type": "code",
      "execution_count": 4,
      "metadata": {
        "id": "jzf4wY-T8Frl"
      },
      "outputs": [],
      "source": [
        "#@title Install Dependancies\n",
        "!pip install requests beautifulsoup4 --quiet\n",
        "\n",
        "#Import libraries\n",
        "import requests\n",
        "from bs4 import BeautifulSoup\n",
        "import time"
      ]
    },
    {
      "cell_type": "code",
      "source": [
        "# @title Define Utility Functions\n",
        "\n",
        "#Article Scrapper\n",
        "def scrape_article_text(url):\n",
        "    # Send a GET request to the URL\n",
        "    response = requests.get(url)\n",
        "    # Check if the request was successful\n",
        "    if response.status_code == 200:\n",
        "        # Parse the HTML content\n",
        "        soup = BeautifulSoup(response.text, 'html.parser')\n",
        "        # Find elements containing text - this part may need customization\n",
        "        # For example, assuming article text is within <p> tags\n",
        "        article_text = ' '.join(p.get_text() for p in soup.find_all('p'))\n",
        "        return article_text\n",
        "    else:\n",
        "        return \"Error: Unable to fetch the webpage.\"\n",
        "\n",
        "#Query for LLM\n",
        "def query(payload, headers):\n",
        "    response = requests.post(API_URL, headers=headers, json=payload)\n",
        "    if response.status_code == 200:\n",
        "        return response.json()  # Expecting this to always be a list for simplicity\n",
        "    else:\n",
        "        return [{\"error\": response.text}]\n",
        "\n",
        "#Political Bias Classification using LLM\n",
        "def reduce_and_query(initial_text, llm_instructions, reduction_fraction, headers):\n",
        "    text = initial_text\n",
        "    while True:\n",
        "        payload = {\"inputs\": llm_instructions + text}\n",
        "        response = query(payload, headers)\n",
        "        # Since we expect a list, check the first item for an 'error' key\n",
        "        if \"error\" in response[0]:\n",
        "            error_message = response[0][\"error\"]\n",
        "            if \"token\" in error_message.lower():\n",
        "                # Reduce the text by the specified fraction if it's a token limit error\n",
        "                new_length = int(len(text) * (1 - reduction_fraction))\n",
        "                text = text[:new_length]\n",
        "            else:\n",
        "                # Return the error message directly if it's a different kind of error\n",
        "                return error_message\n",
        "        else:\n",
        "            # If there's no 'error' key, assume the response is successful\n",
        "            return response"
      ],
      "metadata": {
        "id": "-1vSCujtWffV"
      },
      "execution_count": 2,
      "outputs": []
    },
    {
      "cell_type": "code",
      "source": [
        "#Extract article links for CNN\n",
        "page = requests.get('https://www.cnn.com/politics')\n",
        "soup = BeautifulSoup(page.text, 'html.parser')\n",
        "allLinks = []\n",
        "link = \"https://www.cnn.com/politics\"\n",
        "for link in soup.find_all('a'):\n",
        "    allLinks.append(link.get('href'))\n",
        "allLinks = filter(None, allLinks)\n",
        "linkEnds = [i for i in allLinks if i.startswith('/2')]\n",
        "result = ['https://www.cnn.com' + i for i in linkEnds]\n",
        "#result = filter(lambda x: x.startswith('/2'), allLinks)"
      ],
      "metadata": {
        "id": "U36vKED56Kll"
      },
      "execution_count": 31,
      "outputs": []
    },
    {
      "cell_type": "code",
      "source": [
        "result"
      ],
      "metadata": {
        "id": "R0VL5iQh60yt",
        "outputId": "cb37fe79-bb3c-4936-ee24-f5647bbdc3ff",
        "colab": {
          "base_uri": "https://localhost:8080/"
        }
      },
      "execution_count": 32,
      "outputs": [
        {
          "output_type": "execute_result",
          "data": {
            "text/plain": [
              "['https://www.cnn.com/2024/06/11/politics/hunter-biden-gun-trial-verdict/index.html',\n",
              " 'https://www.cnn.com/2024/06/11/politics/hunter-biden-gun-trial-verdict/index.html',\n",
              " 'https://www.cnn.com/2024/06/11/politics/supreme-court-recordings-alito-wife-roberts/index.html',\n",
              " 'https://www.cnn.com/2024/06/11/politics/trump-classified-documents-case/index.html',\n",
              " 'https://www.cnn.com/2024/06/11/politics/antony-blinken-gaza-aid-humanitarian/index.html',\n",
              " 'https://www.cnn.com/2024/06/10/politics/coast-guard-official-resigns-alleges-coverup-invs/index.html',\n",
              " 'https://www.cnn.com/2024/06/11/politics/marjorie-taylor-greene-republicans/index.html',\n",
              " 'https://www.cnn.com/2024/06/11/politics/merrick-garland-justice-department-attacks/index.html',\n",
              " 'https://www.cnn.com/2024/06/11/politics/us-intelligence-houthis-al-shabaab/index.html',\n",
              " 'https://www.cnn.com/2024/06/11/politics/republicans-hunter-biden-what-matters/index.html',\n",
              " 'https://www.cnn.com/2024/06/11/politics/republicans-hunter-biden-what-matters/index.html',\n",
              " 'https://www.cnn.com/2024/06/11/politics/coast-guard-investigation-what-matters/index.html',\n",
              " 'https://www.cnn.com/2024/06/11/politics/trump-european-union-elections-analysis/index.html',\n",
              " 'https://www.cnn.com/2024/06/11/politics/joe-biden-son-trial-analysis/index.html',\n",
              " 'https://www.cnn.com/2024/06/11/politics/gender-gap-2024-election-analysis/index.html',\n",
              " 'https://www.cnn.com/2024/06/10/politics/biden-israel-hostage-rescue-analysis/index.html',\n",
              " 'https://www.cnn.com/2024/06/08/politics/teddy-roosevelt-president-what-matters/index.html',\n",
              " 'https://www.cnn.com/2024/06/08/sport/cricket-united-states-changing-world/index.html',\n",
              " 'https://www.cnn.com/2024/06/07/politics/biden-trump-democracy-analysis/index.html',\n",
              " 'https://www.cnn.com/2024/06/11/politics/video/windsor-martha-justice-alito-recordings-digvid',\n",
              " 'https://www.cnn.com/2024/06/11/politics/video/windsor-martha-justice-alito-recordings-digvid',\n",
              " 'https://www.cnn.com/2024/06/11/politics/video/martha-alito-secret-audio-recording-digvid',\n",
              " 'https://www.cnn.com/2024/06/11/politics/video/martha-alito-secret-audio-recording-digvid',\n",
              " 'https://www.cnn.com/2024/05/31/politics/voters-trump-conviction-2024/index.html',\n",
              " 'https://www.cnn.com/2024/05/31/politics/voters-trump-conviction-2024/index.html',\n",
              " 'https://www.cnn.com/2024/05/29/politics/haley-voters-pennsylvania-trump/index.html',\n",
              " 'https://www.cnn.com/2024/05/29/politics/haley-voters-pennsylvania-trump/index.html',\n",
              " 'https://www.cnn.com/2024/06/11/politics/fact-check-trump-iran-fund-terror-groups/index.html',\n",
              " 'https://www.cnn.com/2024/06/11/politics/fact-check-trump-iran-fund-terror-groups/index.html',\n",
              " 'https://www.cnn.com/2024/06/06/politics/fact-check-donald-trump-abortion-babies-executed/index.html',\n",
              " 'https://www.cnn.com/2024/06/06/politics/fact-check-donald-trump-abortion-babies-executed/index.html',\n",
              " 'https://www.cnn.com/2024/04/10/politics/lara-trump-rnc-2020-election-fraud-claims/index.html',\n",
              " 'https://www.cnn.com/2024/04/10/politics/lara-trump-rnc-2020-election-fraud-claims/index.html',\n",
              " 'https://www.cnn.com/2024/04/09/politics/rfk-jr-campaign-official-january-6-trump/index.html',\n",
              " 'https://www.cnn.com/2024/04/09/politics/rfk-jr-campaign-official-january-6-trump/index.html',\n",
              " 'https://www.cnn.com/2024/06/06/politics/fascism-trump-biden-what-matters/index.html',\n",
              " 'https://www.cnn.com/2024/06/06/politics/fascism-trump-biden-what-matters/index.html',\n",
              " 'https://www.cnn.com/2024/06/04/politics/biden-trump-weaknesses-analysis/index.html',\n",
              " 'https://www.cnn.com/2024/06/04/politics/biden-trump-weaknesses-analysis/index.html',\n",
              " 'https://www.cnn.com/2024/06/11/politics/rfk-jr-coalition-challenges/index.html',\n",
              " 'https://www.cnn.com/2024/06/11/politics/trump-promises-supporters/index.html',\n",
              " 'https://www.cnn.com/2024/06/10/politics/bob-menendez-bribery-trial/index.html',\n",
              " 'https://www.cnn.com/2024/06/10/politics/judge-cannon-trump-classified-documents-charges/index.html',\n",
              " 'https://www.cnn.com/2024/06/10/politics/takeaways-day-6-hunter-biden-trial/index.html',\n",
              " 'https://www.cnn.com/2024/06/10/politics/rudy-giuliani-mugshot-arizona-election-subversion/index.html',\n",
              " 'https://www.cnn.com/2024/06/10/politics/trump-probation-office-interview-hush-money/index.html',\n",
              " 'https://www.cnn.com/2024/06/10/politics/biden-family-trial/index.html',\n",
              " 'https://www.cnn.com/2024/06/10/politics/va-job-cuts-frontline-worker-invs/index.html',\n",
              " 'https://www.cnn.com/2024/06/10/politics/kamala-harris-byron-donalds/index.html',\n",
              " 'https://www.cnn.com/2024/06/10/politics/supreme-court-facebook-cambridge-analytica-breach/index.html',\n",
              " 'https://www.cnn.com/2024/06/10/politics/trump-endorses-sam-brown-nevada-gop-senate-primary/index.html',\n",
              " 'https://www.cnn.com/2024/06/09/politics/donald-trump-nevada-rally/index.html',\n",
              " 'https://www.cnn.com/2024/06/09/politics/mayorkas-biden-asylum-action/index.html',\n",
              " 'https://www.cnn.com/2024/06/09/politics/trump-probation-interview-hush-money/index.html',\n",
              " 'https://www.cnn.com/2024/06/09/politics/us-ukraine-loan-50-billion-frozen-russian-assets/index.html',\n",
              " 'https://www.cnn.com/2024/06/09/politics/hunter-biden-trial-case-news/index.html',\n",
              " 'https://www.cnn.com/2024/06/09/politics/jake-sullivan-israeli-hostage-rescue-operation/index.html',\n",
              " 'https://www.cnn.com/2024/06/08/politics/us-officials-gaza-policy-resignations/index.html',\n",
              " 'https://www.cnn.com/2024/06/09/politics/biden-aisne-marne-cemetery/index.html',\n",
              " 'https://www.cnn.com/2024/06/09/politics/joe-biden-immigration-future-moves/index.html',\n",
              " 'https://www.cnn.com/2023/03/31/politics/gallery/trump-indictment/index.html',\n",
              " 'https://www.cnn.com/2023/03/31/politics/gallery/trump-indictment/index.html',\n",
              " 'https://www.cnn.com/2021/01/08/politics/gallery/donald-trump/index.html',\n",
              " 'https://www.cnn.com/2021/01/08/politics/gallery/donald-trump/index.html',\n",
              " 'https://www.cnn.com/2022/11/30/politics/gallery/white-house-state-dinners/index.html',\n",
              " 'https://www.cnn.com/2022/11/30/politics/gallery/white-house-state-dinners/index.html']"
            ]
          },
          "metadata": {},
          "execution_count": 32
        }
      ]
    },
    {
      "cell_type": "code",
      "source": [
        "#List of RSS feeds\n",
        "\n",
        "#Fox News: Politics\n",
        "foxPolRSS = f\"https://moxie.foxnews.com/google-publisher/politics.xml\"\n",
        "#CNN News: Politics\n",
        "CNNPolRSS = f\"http://rss.cnn.com/rss/cnn_allpolitics.rss\"\n",
        "#NYT News: Politics\n",
        "NYTPolRSS = f\"https://rss.nytimes.com/services/xml/rss/nyt/Politics.xml\"\n",
        "https://github.com/susannapaoli/web-scraper-nyt"
      ],
      "metadata": {
        "id": "sX7n4GKSzh5Q"
      },
      "execution_count": null,
      "outputs": []
    },
    {
      "cell_type": "code",
      "source": [
        "url = NYTPolRSS\n",
        "html_page = requests.get(url)\n",
        "soup = BeautifulSoup(html_page.text, \"lxml\")\n",
        "links = []\n",
        "for item in soup.find_all(\"item\"):\n",
        "  link= str(item)\n",
        "  i = link.find(\"<link/>\")\n",
        "  j = link.find(\"<guid\")\n",
        "  x = link[i+7:j]\n",
        "  y = x.split('\\n', 1)[0]\n",
        "  links.append(y)\n",
        "  print( link[i+7:j] )"
      ],
      "metadata": {
        "colab": {
          "base_uri": "https://localhost:8080/"
        },
        "id": "5mml0I9kwLNy",
        "outputId": "1cf71485-c57e-4146-9c6f-f75218dd25fa"
      },
      "execution_count": null,
      "outputs": [
        {
          "output_type": "stream",
          "name": "stdout",
          "text": [
            "https://www.nytimes.com/2024/06/10/us/politics/2024-election-gop-black-men-voters.html\n",
            "      \n",
            "https://www.nytimes.com/2024/06/10/us/politics/hunter-biden-gun-trial-defense.html\n",
            "      \n",
            "https://www.nytimes.com/2024/06/10/us/politics/fec-deadlock-deregulation.html\n",
            "      \n",
            "https://www.nytimes.com/2024/06/10/us/politics/trump-vegas-strategy.html\n",
            "      \n",
            "https://www.nytimes.com/2024/06/10/us/politics/supreme-court-alito.html\n",
            "      \n",
            "https://www.nytimes.com/2024/06/10/us/politics/trump-documents-charges-cannon.html\n",
            "      \n",
            "https://www.nytimes.com/2024/06/10/us/politics/steve-bannon-european-parliament-elections.html\n",
            "      \n",
            "https://www.nytimes.com/2024/06/10/world/middleeast/security-council-gaza-ceasefire-blinken.html\n",
            "      \n",
            "https://www.nytimes.com/2024/06/10/us/politics/teamsters-president-conventions.html\n",
            "      \n",
            "https://www.nytimes.com/2024/06/10/us/politics/rfk-jay-carson-clinton-family.html\n",
            "      \n",
            "https://www.nytimes.com/2024/06/10/world/europe/putin-plaque-saint-nicholas-bari-ukraine.html\n",
            "      \n",
            "https://www.nytimes.com/2024/06/09/us/politics/trump-endorsement-sam-brown.html\n",
            "      \n",
            "https://www.nytimes.com/2024/06/09/us/politics/trump-las-vegas-rally.html\n",
            "      \n",
            "https://www.nytimes.com/2024/06/09/world/middleeast/gaza-hostage-rescues-israel.html\n",
            "      \n",
            "https://www.nytimes.com/2024/06/09/us/politics/biden-protection-undocumented-spouses.html\n",
            "      \n",
            "https://www.nytimes.com/2024/06/09/us/politics/trump-biden-immigration-kristi-noem.html\n",
            "      \n",
            "https://www.nytimes.com/2024/06/09/world/europe/biden-trump-france-cemetery.html\n",
            "      \n",
            "https://www.nytimes.com/2024/06/09/us/politics/burgum-trump-vp-search.html\n",
            "      \n",
            "https://www.nytimes.com/2024/06/09/us/politics/biden-history-fact-check.html\n",
            "      \n",
            "https://www.nytimes.com/2024/06/08/world/europe/state-dinner-paris-biden-macron.html\n",
            "      \n"
          ]
        },
        {
          "output_type": "stream",
          "name": "stderr",
          "text": [
            "<ipython-input-58-1a084badc32a>:3: XMLParsedAsHTMLWarning: It looks like you're parsing an XML document using an HTML parser. If this really is an HTML document (maybe it's XHTML?), you can ignore or filter this warning. If it's XML, you should know that using an XML parser will be more reliable. To parse this document as XML, make sure you have the lxml package installed, and pass the keyword argument `features=\"xml\"` into the BeautifulSoup constructor.\n",
            "  soup = BeautifulSoup(html_page.text, \"lxml\")\n"
          ]
        }
      ]
    },
    {
      "cell_type": "code",
      "source": [
        "y"
      ],
      "metadata": {
        "id": "foXT1QVM4GoW",
        "outputId": "a5557e49-a4ad-4383-e788-a15edf13271c",
        "colab": {
          "base_uri": "https://localhost:8080/",
          "height": 35
        }
      },
      "execution_count": null,
      "outputs": [
        {
          "output_type": "execute_result",
          "data": {
            "text/plain": [
              "'https://www.nytimes.com/2024/06/08/world/europe/state-dinner-paris-biden-macron.html'"
            ],
            "application/vnd.google.colaboratory.intrinsic+json": {
              "type": "string"
            }
          },
          "metadata": {},
          "execution_count": 60
        }
      ]
    },
    {
      "cell_type": "code",
      "source": [
        "#Test case\n",
        "# Change URL to get article text\n",
        "url = y\n",
        "article_text = scrape_article_text(url)\n",
        "print(article_text)"
      ],
      "metadata": {
        "id": "XoAiwRTm8Rk0",
        "outputId": "dde4cb76-416f-433b-f308-df2fb91b33ea",
        "colab": {
          "base_uri": "https://localhost:8080/"
        }
      },
      "execution_count": null,
      "outputs": [
        {
          "output_type": "stream",
          "name": "stdout",
          "text": [
            "Error: Unable to fetch the webpage.\n"
          ]
        }
      ]
    },
    {
      "cell_type": "code",
      "source": [
        "api_token_hug =\n",
        "\n",
        "\n",
        "# Following URL is the URL of the LLM being utilized from HuggingFace\n",
        "API_URL = \"https://api-inference.huggingface.co/models/google/flan-t5-xxl\"\n",
        "headers = {\"Authorization\": f\"Bearer {api_token_hug}\"}\n",
        "\n",
        "# Instructions sent to the LLM in front of article text\n",
        "system_input = \"Analyze the text content and assign a label from {left, right, center, uncertain}. In this context, “left” indicates a left-leaning article, “right” signifies a right-leaning article, “center” implies no obvious political leaning, and “uncertain” denotes that the political orientation could not be determined. Please provide your analysis and output a new single line containing only the assigned label.\"\n",
        "\n",
        "#reduce by 10% until it fits query\n",
        "reduction_fraction = 0.10\n",
        "\n",
        "\n",
        "\n",
        "result = reduce_and_query(article_text, system_input, reduction_fraction, headers)\n",
        "print(result)\n",
        "\n",
        "second_article = \"https://www.cnn.com/2024/03/19/politics/texas-immigration-law-blocked-appeals/index.html\"\n",
        "second_result = reduce_and_query(second_article, system_input, reduction_fraction, headers)\n",
        "print(second_result)\n",
        "\n",
        "third_article = \"https://www.cnn.com/videos/world/2024/03/20/israel-gaza-west-bank-settler-movement-clarissa-ward-pkg-intl-ldn-vpx.cnn\"\n",
        "third_result = reduce_and_query(third_article, system_input, reduction_fraction, headers)\n",
        "print(third_result)\n",
        "\n",
        "fourth_article = \"https://www.cnn.com/2024/03/19/politics/trump-bond-deadline-panic/index.html\"\n",
        "fourth_result = reduce_and_query(fourth_article, system_input, reduction_fraction, headers)\n",
        "print(fourth_result)\n",
        "\n",
        "fifth_article = \"https://www.foxnews.com/live-news/joe-biden-gop-impeachment-inquiry-hearing-hunter-biden-business-dealings\"\n",
        "fifth_result = reduce_and_query(fifth_article, system_input, reduction_fraction, headers)\n",
        "print(fifth_result)\n",
        "\n",
        "sixth_article = \"https://www.msnbc.com/deadline-white-house/deadline-legal-blog/trump-supreme-court-immunity-appeal-delay-rcna144155\"\n",
        "sixth_result = reduce_and_query(sixth_article, system_input, reduction_fraction, headers)\n",
        "print(sixth_result)\n",
        "\n",
        "seventh_article = \"https://www.msnbc.com/rachel-maddow-show/maddowblog/biden-white-house-reason-celebrate-falling-crime-rates-rcna144215\"\n",
        "seventh_result = reduce_and_query(seventh_article, system_input, reduction_fraction, headers)"
      ],
      "metadata": {
        "colab": {
          "base_uri": "https://localhost:8080/"
        },
        "id": "6-9ObRECI1s3",
        "outputId": "73da7875-7cb8-49e8-8d1b-141bdab26b23"
      },
      "execution_count": null,
      "outputs": [
        {
          "output_type": "stream",
          "name": "stdout",
          "text": [
            "[{'generated_text': 'left'}]\n",
            "[{'generated_text': 'uncertain'}]\n",
            "[{'generated_text': 'center'}]\n",
            "[{'generated_text': 'center'}]\n",
            "[{'generated_text': 'center'}]\n",
            "[{'generated_text': 'center'}]\n"
          ]
        }
      ]
    }
  ]
}
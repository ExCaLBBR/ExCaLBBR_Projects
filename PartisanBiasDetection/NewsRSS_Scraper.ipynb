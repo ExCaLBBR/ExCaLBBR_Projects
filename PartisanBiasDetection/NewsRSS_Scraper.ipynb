{
  "nbformat": 4,
  "nbformat_minor": 0,
  "metadata": {
    "colab": {
      "provenance": [],
      "include_colab_link": true
    },
    "kernelspec": {
      "name": "python3",
      "display_name": "Python 3"
    },
    "language_info": {
      "name": "python"
    }
  },
  "cells": [
    {
      "cell_type": "markdown",
      "metadata": {
        "id": "view-in-github",
        "colab_type": "text"
      },
      "source": [
        "<a href=\"https://colab.research.google.com/github/ExCaLBBR/ExCaLBBR_Projects/blob/main/PartisanBiasDetection/NewsRSS_Scraper.ipynb\" target=\"_parent\"><img src=\"https://colab.research.google.com/assets/colab-badge.svg\" alt=\"Open In Colab\"/></a>"
      ]
    },
    {
      "cell_type": "code",
      "execution_count": 4,
      "metadata": {
        "id": "jzf4wY-T8Frl"
      },
      "outputs": [],
      "source": [
        "#@title Install Dependancies\n",
        "!pip install requests beautifulsoup4 --quiet\n",
        "\n",
        "#Import libraries\n",
        "import requests\n",
        "from bs4 import BeautifulSoup\n",
        "import time"
      ]
    },
    {
      "cell_type": "code",
      "source": [
        "# @title Define Utility Functions\n",
        "\n",
        "#Article Scrapper\n",
        "def scrape_article_text(url):\n",
        "    # Send a GET request to the URL\n",
        "    response = requests.get(url)\n",
        "    # Check if the request was successful\n",
        "    if response.status_code == 200:\n",
        "        # Parse the HTML content\n",
        "        soup = BeautifulSoup(response.text, 'html.parser')\n",
        "        # Find elements containing text - this part may need customization\n",
        "        # For example, assuming article text is within <p> tags\n",
        "        article_text = ' '.join(p.get_text() for p in soup.find_all('p'))\n",
        "        return article_text\n",
        "    else:\n",
        "        return \"Error: Unable to fetch the webpage.\"\n",
        "\n",
        "#Query for LLM\n",
        "def query(payload, headers):\n",
        "    response = requests.post(API_URL, headers=headers, json=payload)\n",
        "    if response.status_code == 200:\n",
        "        return response.json()  # Expecting this to always be a list for simplicity\n",
        "    else:\n",
        "        return [{\"error\": response.text}]\n",
        "\n",
        "#Political Bias Classification using LLM\n",
        "def reduce_and_query(initial_text, llm_instructions, reduction_fraction, headers):\n",
        "    text = initial_text\n",
        "    while True:\n",
        "        payload = {\"inputs\": llm_instructions + text}\n",
        "        response = query(payload, headers)\n",
        "        # Since we expect a list, check the first item for an 'error' key\n",
        "        if \"error\" in response[0]:\n",
        "            error_message = response[0][\"error\"]\n",
        "            if \"token\" in error_message.lower():\n",
        "                # Reduce the text by the specified fraction if it's a token limit error\n",
        "                new_length = int(len(text) * (1 - reduction_fraction))\n",
        "                text = text[:new_length]\n",
        "            else:\n",
        "                # Return the error message directly if it's a different kind of error\n",
        "                return error_message\n",
        "        else:\n",
        "            # If there's no 'error' key, assume the response is successful\n",
        "            return response"
      ],
      "metadata": {
        "id": "-1vSCujtWffV"
      },
      "execution_count": 2,
      "outputs": []
    },
    {
      "cell_type": "code",
      "source": [
        "#Extract article links for CNN\n",
        "page = requests.get('https://www.cnn.com/politics')\n",
        "soup = BeautifulSoup(page.text, 'html.parser')\n",
        "allLinks = []\n",
        "link = \"https://www.cnn.com/politics\"\n",
        "for link in soup.find_all('a'):\n",
        "    allLinks.append(link.get('href'))\n",
        "allLinks = filter(None, allLinks)\n",
        "linkEnds = [i for i in allLinks if i.startswith('/2')]\n",
        "result = ['https://www.cnn.com' + i for i in linkEnds]\n",
        "#result = filter(lambda x: x.startswith('/2'), allLinks)"
      ],
      "metadata": {
        "id": "U36vKED56Kll"
      },
      "execution_count": 31,
      "outputs": []
    },
    {
      "cell_type": "code",
      "source": [
        "result"
      ],
      "metadata": {
        "colab": {
          "base_uri": "https://localhost:8080/"
        },
        "id": "R0VL5iQh60yt",
        "outputId": "cb37fe79-bb3c-4936-ee24-f5647bbdc3ff"
      },
      "execution_count": 32,
      "outputs": [
        {
          "output_type": "execute_result",
          "data": {
            "text/plain": [
              "['https://www.cnn.com/2024/06/11/politics/hunter-biden-gun-trial-verdict/index.html',\n",
              " 'https://www.cnn.com/2024/06/11/politics/hunter-biden-gun-trial-verdict/index.html',\n",
              " 'https://www.cnn.com/2024/06/11/politics/supreme-court-recordings-alito-wife-roberts/index.html',\n",
              " 'https://www.cnn.com/2024/06/11/politics/trump-classified-documents-case/index.html',\n",
              " 'https://www.cnn.com/2024/06/11/politics/antony-blinken-gaza-aid-humanitarian/index.html',\n",
              " 'https://www.cnn.com/2024/06/10/politics/coast-guard-official-resigns-alleges-coverup-invs/index.html',\n",
              " 'https://www.cnn.com/2024/06/11/politics/marjorie-taylor-greene-republicans/index.html',\n",
              " 'https://www.cnn.com/2024/06/11/politics/merrick-garland-justice-department-attacks/index.html',\n",
              " 'https://www.cnn.com/2024/06/11/politics/us-intelligence-houthis-al-shabaab/index.html',\n",
              " 'https://www.cnn.com/2024/06/11/politics/republicans-hunter-biden-what-matters/index.html',\n",
              " 'https://www.cnn.com/2024/06/11/politics/republicans-hunter-biden-what-matters/index.html',\n",
              " 'https://www.cnn.com/2024/06/11/politics/coast-guard-investigation-what-matters/index.html',\n",
              " 'https://www.cnn.com/2024/06/11/politics/trump-european-union-elections-analysis/index.html',\n",
              " 'https://www.cnn.com/2024/06/11/politics/joe-biden-son-trial-analysis/index.html',\n",
              " 'https://www.cnn.com/2024/06/11/politics/gender-gap-2024-election-analysis/index.html',\n",
              " 'https://www.cnn.com/2024/06/10/politics/biden-israel-hostage-rescue-analysis/index.html',\n",
              " 'https://www.cnn.com/2024/06/08/politics/teddy-roosevelt-president-what-matters/index.html',\n",
              " 'https://www.cnn.com/2024/06/08/sport/cricket-united-states-changing-world/index.html',\n",
              " 'https://www.cnn.com/2024/06/07/politics/biden-trump-democracy-analysis/index.html',\n",
              " 'https://www.cnn.com/2024/06/11/politics/video/windsor-martha-justice-alito-recordings-digvid',\n",
              " 'https://www.cnn.com/2024/06/11/politics/video/windsor-martha-justice-alito-recordings-digvid',\n",
              " 'https://www.cnn.com/2024/06/11/politics/video/martha-alito-secret-audio-recording-digvid',\n",
              " 'https://www.cnn.com/2024/06/11/politics/video/martha-alito-secret-audio-recording-digvid',\n",
              " 'https://www.cnn.com/2024/05/31/politics/voters-trump-conviction-2024/index.html',\n",
              " 'https://www.cnn.com/2024/05/31/politics/voters-trump-conviction-2024/index.html',\n",
              " 'https://www.cnn.com/2024/05/29/politics/haley-voters-pennsylvania-trump/index.html',\n",
              " 'https://www.cnn.com/2024/05/29/politics/haley-voters-pennsylvania-trump/index.html',\n",
              " 'https://www.cnn.com/2024/06/11/politics/fact-check-trump-iran-fund-terror-groups/index.html',\n",
              " 'https://www.cnn.com/2024/06/11/politics/fact-check-trump-iran-fund-terror-groups/index.html',\n",
              " 'https://www.cnn.com/2024/06/06/politics/fact-check-donald-trump-abortion-babies-executed/index.html',\n",
              " 'https://www.cnn.com/2024/06/06/politics/fact-check-donald-trump-abortion-babies-executed/index.html',\n",
              " 'https://www.cnn.com/2024/04/10/politics/lara-trump-rnc-2020-election-fraud-claims/index.html',\n",
              " 'https://www.cnn.com/2024/04/10/politics/lara-trump-rnc-2020-election-fraud-claims/index.html',\n",
              " 'https://www.cnn.com/2024/04/09/politics/rfk-jr-campaign-official-january-6-trump/index.html',\n",
              " 'https://www.cnn.com/2024/04/09/politics/rfk-jr-campaign-official-january-6-trump/index.html',\n",
              " 'https://www.cnn.com/2024/06/06/politics/fascism-trump-biden-what-matters/index.html',\n",
              " 'https://www.cnn.com/2024/06/06/politics/fascism-trump-biden-what-matters/index.html',\n",
              " 'https://www.cnn.com/2024/06/04/politics/biden-trump-weaknesses-analysis/index.html',\n",
              " 'https://www.cnn.com/2024/06/04/politics/biden-trump-weaknesses-analysis/index.html',\n",
              " 'https://www.cnn.com/2024/06/11/politics/rfk-jr-coalition-challenges/index.html',\n",
              " 'https://www.cnn.com/2024/06/11/politics/trump-promises-supporters/index.html',\n",
              " 'https://www.cnn.com/2024/06/10/politics/bob-menendez-bribery-trial/index.html',\n",
              " 'https://www.cnn.com/2024/06/10/politics/judge-cannon-trump-classified-documents-charges/index.html',\n",
              " 'https://www.cnn.com/2024/06/10/politics/takeaways-day-6-hunter-biden-trial/index.html',\n",
              " 'https://www.cnn.com/2024/06/10/politics/rudy-giuliani-mugshot-arizona-election-subversion/index.html',\n",
              " 'https://www.cnn.com/2024/06/10/politics/trump-probation-office-interview-hush-money/index.html',\n",
              " 'https://www.cnn.com/2024/06/10/politics/biden-family-trial/index.html',\n",
              " 'https://www.cnn.com/2024/06/10/politics/va-job-cuts-frontline-worker-invs/index.html',\n",
              " 'https://www.cnn.com/2024/06/10/politics/kamala-harris-byron-donalds/index.html',\n",
              " 'https://www.cnn.com/2024/06/10/politics/supreme-court-facebook-cambridge-analytica-breach/index.html',\n",
              " 'https://www.cnn.com/2024/06/10/politics/trump-endorses-sam-brown-nevada-gop-senate-primary/index.html',\n",
              " 'https://www.cnn.com/2024/06/09/politics/donald-trump-nevada-rally/index.html',\n",
              " 'https://www.cnn.com/2024/06/09/politics/mayorkas-biden-asylum-action/index.html',\n",
              " 'https://www.cnn.com/2024/06/09/politics/trump-probation-interview-hush-money/index.html',\n",
              " 'https://www.cnn.com/2024/06/09/politics/us-ukraine-loan-50-billion-frozen-russian-assets/index.html',\n",
              " 'https://www.cnn.com/2024/06/09/politics/hunter-biden-trial-case-news/index.html',\n",
              " 'https://www.cnn.com/2024/06/09/politics/jake-sullivan-israeli-hostage-rescue-operation/index.html',\n",
              " 'https://www.cnn.com/2024/06/08/politics/us-officials-gaza-policy-resignations/index.html',\n",
              " 'https://www.cnn.com/2024/06/09/politics/biden-aisne-marne-cemetery/index.html',\n",
              " 'https://www.cnn.com/2024/06/09/politics/joe-biden-immigration-future-moves/index.html',\n",
              " 'https://www.cnn.com/2023/03/31/politics/gallery/trump-indictment/index.html',\n",
              " 'https://www.cnn.com/2023/03/31/politics/gallery/trump-indictment/index.html',\n",
              " 'https://www.cnn.com/2021/01/08/politics/gallery/donald-trump/index.html',\n",
              " 'https://www.cnn.com/2021/01/08/politics/gallery/donald-trump/index.html',\n",
              " 'https://www.cnn.com/2022/11/30/politics/gallery/white-house-state-dinners/index.html',\n",
              " 'https://www.cnn.com/2022/11/30/politics/gallery/white-house-state-dinners/index.html']"
            ]
          },
          "metadata": {},
          "execution_count": 32
        }
      ]
    },
    {
      "cell_type": "code",
      "source": [
        "#List of RSS feeds\n",
        "\n",
        "#Fox News: Politics\n",
        "foxPolRSS = f\"https://moxie.foxnews.com/google-publisher/politics.xml\"\n",
        "#CNN News: Politics\n",
        "CNNPolRSS = f\"http://rss.cnn.com/rss/cnn_allpolitics.rss\"\n",
        "#NYT News: Politics\n",
        "NYTPolRSS = f\"https://rss.nytimes.com/services/xml/rss/nyt/Politics.xml\"\n",
        "https://github.com/susannapaoli/web-scraper-nyt"
      ],
      "metadata": {
        "id": "sX7n4GKSzh5Q"
      },
      "execution_count": null,
      "outputs": []
    },
    {
      "cell_type": "code",
      "source": [
        "url = 'https://www.cnn.com/2024/06/11/politics/hunter-biden-gun-trial-verdict/index.html'\n",
        "html_page = requests.get(url)\n",
        "soup = BeautifulSoup(html_page.text, \"lxml\")\n",
        "links = []\n",
        "for item in soup.find_all(\"item\"):\n",
        "  link= str(item)\n",
        "  i = link.find(\"<link/>\")\n",
        "  j = link.find(\"<guid\")\n",
        "  x = link[i+7:j]\n",
        "  y = x.split('\\n', 1)[0]\n",
        "  links.append(y)\n",
        "  print( link[i+7:j] )"
      ],
      "metadata": {
        "id": "5mml0I9kwLNy"
      },
      "execution_count": 33,
      "outputs": []
    },
    {
      "cell_type": "code",
      "source": [
        "y"
      ],
      "metadata": {
        "id": "foXT1QVM4GoW",
        "outputId": "4e65f20f-949d-4478-895d-3c09c98a6d8e",
        "colab": {
          "base_uri": "https://localhost:8080/",
          "height": 141
        }
      },
      "execution_count": 34,
      "outputs": [
        {
          "output_type": "error",
          "ename": "NameError",
          "evalue": "name 'y' is not defined",
          "traceback": [
            "\u001b[0;31m---------------------------------------------------------------------------\u001b[0m",
            "\u001b[0;31mNameError\u001b[0m                                 Traceback (most recent call last)",
            "\u001b[0;32m<ipython-input-34-9063a9f0e032>\u001b[0m in \u001b[0;36m<cell line: 1>\u001b[0;34m()\u001b[0m\n\u001b[0;32m----> 1\u001b[0;31m \u001b[0my\u001b[0m\u001b[0;34m\u001b[0m\u001b[0;34m\u001b[0m\u001b[0m\n\u001b[0m",
            "\u001b[0;31mNameError\u001b[0m: name 'y' is not defined"
          ]
        }
      ]
    },
    {
      "cell_type": "code",
      "source": [
        "#Test case\n",
        "# Change URL to get article text\n",
        "url = 'https://www.cnn.com/2024/06/11/politics/hunter-biden-gun-trial-verdict/index.html'\n",
        "article_text = scrape_article_text(url)\n",
        "print(article_text)"
      ],
      "metadata": {
        "id": "XoAiwRTm8Rk0",
        "outputId": "85165afa-1d74-4101-c127-2b387aaa67e1",
        "colab": {
          "base_uri": "https://localhost:8080/"
        }
      },
      "execution_count": 35,
      "outputs": [
        {
          "output_type": "stream",
          "name": "stdout",
          "text": [
            "Follow: \n",
            "            A federal jury has convicted Hunter Biden on all three federal felony gun charges he faced, concluding that he violated laws meant to prevent drug addicts from owning firearms.\n",
            "     \n",
            "            The conviction marks the first time a president’s immediate family member has been found guilty of a crime during their father’s term in office, though his crimes predate Joe Biden’s tenure as president.\n",
            "     \n",
            "            The jury, which deliberated for just under three hours, returned guilty verdicts on all three charges, which stemmed from a revolver Hunter Biden bought in October 2018 at a Delaware gun shop. The first two counts were for lying about his drug use on a federal background check form, and the third count was for possessing a gun while addicted to, or using, illegal drugs.\n",
            "     \n",
            "            Hunter Biden could face up to 25 years in prison and a fine of up to $750,000 at sentencing, though he likely will receive far less than the maximum as a first-time offender. Before dismissing the parties, the judge told them sentencing is usually set for 120 days following a verdict, which means it is likely to happen before Election Day.\n",
            "     \n",
            "            Prosecutors declined to comment following the verdict. Hunter Biden is expected to issue a written statement, a source familiar with the matter said.\n",
            "     \n",
            "            In a statement, President Biden said he will “accept the outcome of this case” and pledged support for his son.\n",
            "     \n",
            "            “As I said last week, I am the president, but I am also a dad,” the president said. “Jill and I love our son, and we are so proud of the man he is today. So many families who have had loved ones battle addiction understand the feeling of pride seeing someone you love come out the other side and be so strong and resilient in recovery. As I also said last week, I will accept the outcome of this case and will continue to respect the judicial process as Hunter considers an appeal. Jill and I will always be there for Hunter and the rest of our family with our love and support. Nothing will ever change that.”\n",
            "     \n",
            "            The outcome ends a painful chapter for the Biden family, including many members who were directly involved in the courtroom drama. Hunter Biden was in the defendant’s seat; many members of the family, including first lady Jill Biden, were often in the courtroom showing support, and a few family members were called to testify.\n",
            "     \n",
            "            The first lady arrived at the courthouse shortly after the verdict was read. She stared immediately ahead and did not move her glare away. In the moments following the verdict, after court ended, Hunter Biden turned around to his legal team and flashed a brief smile, perhaps stunned by the outcome, before hugging all of his attorneys and patting them on the back.\n",
            "     \n",
            "            As he exited, Hunter Biden gave kisses and hugs to family members and friends in the courtroom, almost like a receiving line. His friend and financial backer Kevin Morris walked out with his arms crossed. Some of the supporters looked stunned.\n",
            "     \n",
            "            Valerie Biden, President Biden’s sister, entered the courtroom a few minutes after the verdict was read.\n",
            "     \n",
            "            Leaving the courthouse after the verdict, Hunter Biden shuffled his family members into an elevator as he held hands with his wife. He smiled briefly and left.\n",
            "     \n",
            "            Hunter Biden’s conviction comes after a long-running Justice Department investigation that began in 2018, and it raises the stakes for his second scheduled trial, slated to begin in September, on federal tax offenses.\n",
            " \n",
            "            Both cases have been overseen by special counsel David Weiss, who was previously the Trump-appointed US attorney in Delaware. The guilty verdicts in the gun case are a major vindication for Weiss’ team of prosecutors, who have vehemently denied allegations from Hunter Biden’s lawyers that the cases are politically motivated.\n",
            "     \n",
            "            President Biden and the White House have repeatedly ruled out a pardon for his son.\n",
            "     \n",
            "            The weeklong gun trial featured intensely personal and gut-wrenching testimony about Hunter Biden’s well-known struggles with alcoholism and crack cocaine addiction. It shed a national spotlight on a period that Hunter Biden described in his book as “a blur of complete and utter debauchery” where he did “nothing but drinking and drugging.”\n",
            "     \n",
            "            Prosecutors leaned on the testimony of three of Hunter Biden’s ex-partners – including their star witness Hallie Biden, widow of his brother Beau Biden – to tell the jury in excruciating detail how his dependency on crack cocaine led to the end of his marriage, strained his relationships with his kids, and put him in danger on several occasions.\n",
            "     \n",
            "            Hunter Biden’s defense team argued, unsuccessfully, that he didn’t actually view himself as a user or addict when he bought and possessed the gun. Defense attorney Abbe Lowell had implored the jury to acquit Hunter Biden on those grounds.\n",
            "     \n",
            "This story has been updated with additional developments.\n",
            " \n",
            "            CNN’s Hannah Rabinowitz, Paula Reid and Kit Maher contributed to this report.\n",
            "     © 2024 Cable News Network. A Warner Bros. Discovery Company. All Rights Reserved.  CNN Sans ™ & © 2016 Cable News Network.\n"
          ]
        }
      ]
    },
    {
      "cell_type": "code",
      "source": [
        "api_token_hug =\n",
        "\n",
        "\n",
        "# Following URL is the URL of the LLM being utilized from HuggingFace\n",
        "API_URL = \"https://api-inference.huggingface.co/models/google/flan-t5-xxl\"\n",
        "headers = {\"Authorization\": f\"Bearer {api_token_hug}\"}\n",
        "\n",
        "# Instructions sent to the LLM in front of article text\n",
        "system_input = \"Analyze the text content and assign a label from {left, right, center, uncertain}. In this context, “left” indicates a left-leaning article, “right” signifies a right-leaning article, “center” implies no obvious political leaning, and “uncertain” denotes that the political orientation could not be determined. Please provide your analysis and output a new single line containing only the assigned label.\"\n",
        "\n",
        "#reduce by 10% until it fits query\n",
        "reduction_fraction = 0.10\n",
        "\n",
        "\n",
        "\n",
        "result = reduce_and_query(article_text, system_input, reduction_fraction, headers)\n",
        "print(result)\n",
        "\n",
        "second_article = \"https://www.cnn.com/2024/03/19/politics/texas-immigration-law-blocked-appeals/index.html\"\n",
        "second_result = reduce_and_query(second_article, system_input, reduction_fraction, headers)\n",
        "print(second_result)\n",
        "\n",
        "third_article = \"https://www.cnn.com/videos/world/2024/03/20/israel-gaza-west-bank-settler-movement-clarissa-ward-pkg-intl-ldn-vpx.cnn\"\n",
        "third_result = reduce_and_query(third_article, system_input, reduction_fraction, headers)\n",
        "print(third_result)\n",
        "\n",
        "fourth_article = \"https://www.cnn.com/2024/03/19/politics/trump-bond-deadline-panic/index.html\"\n",
        "fourth_result = reduce_and_query(fourth_article, system_input, reduction_fraction, headers)\n",
        "print(fourth_result)\n",
        "\n",
        "fifth_article = \"https://www.foxnews.com/live-news/joe-biden-gop-impeachment-inquiry-hearing-hunter-biden-business-dealings\"\n",
        "fifth_result = reduce_and_query(fifth_article, system_input, reduction_fraction, headers)\n",
        "print(fifth_result)\n",
        "\n",
        "sixth_article = \"https://www.msnbc.com/deadline-white-house/deadline-legal-blog/trump-supreme-court-immunity-appeal-delay-rcna144155\"\n",
        "sixth_result = reduce_and_query(sixth_article, system_input, reduction_fraction, headers)\n",
        "print(sixth_result)\n",
        "\n",
        "seventh_article = \"https://www.msnbc.com/rachel-maddow-show/maddowblog/biden-white-house-reason-celebrate-falling-crime-rates-rcna144215\"\n",
        "seventh_result = reduce_and_query(seventh_article, system_input, reduction_fraction, headers)"
      ],
      "metadata": {
        "colab": {
          "base_uri": "https://localhost:8080/"
        },
        "id": "6-9ObRECI1s3",
        "outputId": "73da7875-7cb8-49e8-8d1b-141bdab26b23"
      },
      "execution_count": null,
      "outputs": [
        {
          "output_type": "stream",
          "name": "stdout",
          "text": [
            "[{'generated_text': 'left'}]\n",
            "[{'generated_text': 'uncertain'}]\n",
            "[{'generated_text': 'center'}]\n",
            "[{'generated_text': 'center'}]\n",
            "[{'generated_text': 'center'}]\n",
            "[{'generated_text': 'center'}]\n"
          ]
        }
      ]
    }
  ]
}
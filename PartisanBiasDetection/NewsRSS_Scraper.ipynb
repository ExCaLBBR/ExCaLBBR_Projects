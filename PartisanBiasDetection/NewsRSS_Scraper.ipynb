{
  "nbformat": 4,
  "nbformat_minor": 0,
  "metadata": {
    "colab": {
      "provenance": [],
      "include_colab_link": true
    },
    "kernelspec": {
      "name": "python3",
      "display_name": "Python 3"
    },
    "language_info": {
      "name": "python"
    }
  },
  "cells": [
    {
      "cell_type": "markdown",
      "metadata": {
        "id": "view-in-github",
        "colab_type": "text"
      },
      "source": [
        "<a href=\"https://colab.research.google.com/github/ExCaLBBR/ExCaLBBR_Projects/blob/main/PartisanBiasDetection/NewsRSS_Scraper.ipynb\" target=\"_parent\"><img src=\"https://colab.research.google.com/assets/colab-badge.svg\" alt=\"Open In Colab\"/></a>"
      ]
    },
    {
      "cell_type": "code",
      "execution_count": 2,
      "metadata": {
        "id": "jzf4wY-T8Frl"
      },
      "outputs": [],
      "source": [
        "#@title Install Dependancies\n",
        "!pip install requests beautifulsoup4 --quiet\n",
        "\n",
        "#Import libraries\n",
        "import requests\n",
        "from bs4 import BeautifulSoup\n",
        "import time"
      ]
    },
    {
      "cell_type": "code",
      "source": [
        "# @title Define Utility Functions\n",
        "\n",
        "#Article Scrapper\n",
        "def scrape_article_text(url):\n",
        "    # Send a GET request to the URL\n",
        "    response = requests.get(url)\n",
        "    # Check if the request was successful\n",
        "    if response.status_code == 200:\n",
        "        # Parse the HTML content\n",
        "        soup = BeautifulSoup(response.text, 'html.parser')\n",
        "        # Find elements containing text - this part may need customization\n",
        "        # For example, assuming article text is within <p> tags\n",
        "        article_text = ' '.join(p.get_text() for p in soup.find_all('p'))\n",
        "        return article_text\n",
        "    else:\n",
        "        return \"Error: Unable to fetch the webpage.\"\n",
        "\n",
        "#Query for LLM\n",
        "def query(payload, headers):\n",
        "    response = requests.post(API_URL, headers=headers, json=payload)\n",
        "    if response.status_code == 200:\n",
        "        return response.json()  # Expecting this to always be a list for simplicity\n",
        "    else:\n",
        "        return [{\"error\": response.text}]\n",
        "\n",
        "#Political Bias Classification using LLM\n",
        "def reduce_and_query(initial_text, llm_instructions, reduction_fraction, headers):\n",
        "    text = initial_text\n",
        "    while True:\n",
        "        payload = {\"inputs\": llm_instructions + text}\n",
        "        response = query(payload, headers)\n",
        "        # Since we expect a list, check the first item for an 'error' key\n",
        "        if \"error\" in response[0]:\n",
        "            error_message = response[0][\"error\"]\n",
        "            if \"token\" in error_message.lower():\n",
        "                # Reduce the text by the specified fraction if it's a token limit error\n",
        "                new_length = int(len(text) * (1 - reduction_fraction))\n",
        "                text = text[:new_length]\n",
        "            else:\n",
        "                # Return the error message directly if it's a different kind of error\n",
        "                return error_message\n",
        "        else:\n",
        "            # If there's no 'error' key, assume the response is successful\n",
        "            return response"
      ],
      "metadata": {
        "id": "-1vSCujtWffV"
      },
      "execution_count": 3,
      "outputs": []
    },
    {
      "cell_type": "code",
      "source": [
        "#Test case\n",
        "# Change URL to get article text\n",
        "url = \"https://www.foxnews.com/politics/mike-lee-praises-trump-resisting-clinton-lawfare-warns-biden-slippery-slope\"\n",
        "article_text = scrape_article_text(url)\n",
        "print(article_text)"
      ],
      "metadata": {
        "id": "XoAiwRTm8Rk0",
        "outputId": "d4cf5fd8-7149-4364-eea4-ed90cb0ccc41",
        "colab": {
          "base_uri": "https://localhost:8080/"
        }
      },
      "execution_count": 5,
      "outputs": [
        {
          "output_type": "stream",
          "name": "stdout",
          "text": [
            "\n",
            "      This material may not be published, broadcast, rewritten,\n",
            "      or redistributed. ©2024 FOX News Network, LLC. All rights reserved.\n",
            "      Quotes displayed in real-time or delayed by at least 15 minutes. Market data provided by\n",
            "      Factset. Powered and implemented by\n",
            "      FactSet Digital Solutions.\n",
            "      Legal Statement. Mutual Fund and ETF data provided by\n",
            "      Refinitiv Lipper.\n",
            "     Sen. Mike Lee, R-Utah, urged President Biden to \"put the genie back in the bottle\" and not unleash a cycle of retaliatory lawfare into American politics, telling him that it is not too late to do \"the right thing.\" Utah Republican Sen. Mike Lee said chants of \"lock her up\" in regard to former Secretary of State Hillary Clinton made him \"uncomfortable\" and urged President Biden to refrain from starting a cycle of political lawfare in the wake of former President Trump's guilty verdict.  \"They could still do the right thing and perhaps put the genie back in the bottle,\" the Republican told Fox News Digital in a Monday interview.  \"There's so many instances of reversible error in this New York conviction that [Manhattan District Attorney Alvin] Bragg's office, and those who are handling this case on appeal could, and I believe, should confess error on appeal and walk away from the whole thing and leave it alone,\" he said.  SENATE DEM DOUBLES DOWN ON OLD ALITO COMPLAINT AS SCOTUS NEARS TRUMP IMMUNITY RULING Republican senators, led by Mike Lee, R-Utah, said they won't allow the Senate to function and accomplish Democrat priorities after former President Trump's guilty verdict. (Getty Images) Last month, Trump was found guilty on all 34 counts of falsifying business records by a New York jury.  Lee led several Republican colleagues on a pledge, vowing not to comply with their Democrat counterparts in the Senate after the verdict. \"Strongly worded statements are not enough. Those who turned our judicial system into a political cudgel must be held accountable. We are no longer cooperating with any Democrat legislative priorities or nominations, and we invite all concerned Senators to join our stand,\" he announced at the time.  According to the senator, \"We can't, in the wake of that conviction, pretend that nothing has happened – Pretend that this is just now going to be business as usual.\" DEMS SET TO BRING UP NEXT REPRODUCTIVE MESSAGING BILL AHEAD OF 2024 ELECTIONS Sen. Mike Lee, R-Utah, speaks during the Senate Judiciary Committee markup hearing on Nov. 30, 2023. (Bill Clark) \"The pledge is an attempt to harness that message,\" he explained.  So far, 14 senators have joined him, including National Republican Senatorial Committee Chair Steve Daines, R-Mont., and Sen. Rick Scott, R-Fla., who is running for Republican leader to succeed outgoing Minority Leader Mitch McConnell, R-Ky. BALANCE OF POWER: SENATE DEMS MOUNT SWING STATE OFFENSE ON 'CARPETBAGGER' CLAIMS Former President Trump returns to the courthouse moments before hearing that the jury had a verdict in his criminal trial at Manhattan Criminal Court, Thursday, May 30, 2024, in New York City. (Justin Lane/Pool Photo via AP) \"I do think we're going to continue to pick up more Republican senators as time goes on,\" Lee predicted. He noted that his Democrat counterparts haven't given it much of a response or paid it much attention: \"We'll see how much they feel it as it gains more steam.\" \"It's still a minority of the minority conference,\" however, he said he expects that will change.  GOP SHORES UP MICHIGAN EFFORT AS DEMS LOSE SENATE INCUMBENT ADVANTAGE Tester is in one of the most competitive races in the country. (Drew Angerer) CLICK HERE TO GET THE FOX NEWS APP The Utah senator further suggested, \"Jon Tester has got to be feeling it. Sherrod Brown has got to be feeling it,\" referencing pressure to push back against Trump's guilty verdict. The two senators are part of a group of several Democrat incumbents who are facing competitive challenges to their re-election bids.  Lee also rejected the idea that the pledge to disallow any increases to nonsecurity funding as well as any money toward funding \"partisan lawfare\" would cause a government shutdown. \"There's nothing about this that even necessarily makes a shutdown any more likely than it would be otherwise,\" he said, noting he expects a stopgap funding bill to be necessary when current appropriations bills run out in September. The White House did not provide comment to Fox News Digital for purposes of this story. Julia Johnson is a politics writer for Fox News Digital and Fox Business, leading coverage of the U.S. Senate. She was previously a politics reporter at the Washington Examiner.  Follow Julia's reporting on X at @JuliaaJohnson_ and send tips to Julia.Johnson@fox.com. Get the latest updates from the 2024 campaign trail, exclusive interviews and more Fox News politics content. Subscribed You've successfully subscribed to this newsletter! \n",
            "        This material may not be published, broadcast, rewritten, or redistributed. ©2024 FOX News Network, LLC. All rights reserved. Quotes displayed in real-time or delayed by at least 15 minutes. Market data provided by\n",
            "        Factset. Powered and implemented by\n",
            "        FactSet Digital Solutions.\n",
            "        Legal Statement. Mutual Fund and ETF data provided by\n",
            "        Refinitiv Lipper.\n",
            "      \n"
          ]
        }
      ]
    },
    {
      "cell_type": "code",
      "source": [
        "api_token_hug =\n",
        "\n",
        "\n",
        "# Following URL is the URL of the LLM being utilized from HuggingFace\n",
        "API_URL = \"https://api-inference.huggingface.co/models/google/flan-t5-xxl\"\n",
        "headers = {\"Authorization\": f\"Bearer {api_token_hug}\"}\n",
        "\n",
        "# Instructions sent to the LLM in front of article text\n",
        "system_input = \"Score the following article from -1 to 1 on its party stance where -1 is Republican messaging and 1 is Democratic messaging and 0 is neutral: \"\n",
        "\n",
        "#reduce by 10% until it fits query\n",
        "reduction_fraction = 0.10\n",
        "\n",
        "\n",
        "\n",
        "result = reduce_and_query(article_text, system_input, reduction_fraction, headers)\n",
        "print(result)\n",
        "\n",
        "second_article = \"https://www.cnn.com/2024/03/19/politics/texas-immigration-law-blocked-appeals/index.html\"\n",
        "second_result = reduce_and_query(second_article, system_input, reduction_fraction, headers)\n",
        "print(second_result)\n",
        "\n",
        "third_article = \"https://www.cnn.com/videos/world/2024/03/20/israel-gaza-west-bank-settler-movement-clarissa-ward-pkg-intl-ldn-vpx.cnn\"\n",
        "third_result = reduce_and_query(third_article, system_input, reduction_fraction, headers)\n",
        "print(third_result)\n",
        "\n",
        "fourth_article = \"https://www.cnn.com/2024/03/19/politics/trump-bond-deadline-panic/index.html\"\n",
        "fourth_result = reduce_and_query(fourth_article, system_input, reduction_fraction, headers)\n",
        "print(fourth_result)\n",
        "\n",
        "fifth_article = \"https://www.foxnews.com/live-news/joe-biden-gop-impeachment-inquiry-hearing-hunter-biden-business-dealings\"\n",
        "fifth_result = reduce_and_query(fifth_article, system_input, reduction_fraction, headers)\n",
        "print(fifth_result)\n",
        "\n",
        "sixth_article = \"https://www.msnbc.com/deadline-white-house/deadline-legal-blog/trump-supreme-court-immunity-appeal-delay-rcna144155\"\n",
        "sixth_result = reduce_and_query(sixth_article, system_input, reduction_fraction, headers)\n",
        "print(sixth_result)\n",
        "\n",
        "seventh_article = \"https://www.msnbc.com/rachel-maddow-show/maddowblog/biden-white-house-reason-celebrate-falling-crime-rates-rcna144215\"\n",
        "seventh_result = reduce_and_query(seventh_article, system_input, reduction_fraction, headers)"
      ],
      "metadata": {
        "colab": {
          "base_uri": "https://localhost:8080/",
          "height": 106
        },
        "id": "6-9ObRECI1s3",
        "outputId": "30bddba0-d3e2-4a8a-c0cb-6a529b86ddf2"
      },
      "execution_count": 6,
      "outputs": [
        {
          "output_type": "error",
          "ename": "SyntaxError",
          "evalue": "invalid syntax (<ipython-input-6-4f760c219065>, line 1)",
          "traceback": [
            "\u001b[0;36m  File \u001b[0;32m\"<ipython-input-6-4f760c219065>\"\u001b[0;36m, line \u001b[0;32m1\u001b[0m\n\u001b[0;31m    api_token_hug =\u001b[0m\n\u001b[0m                    ^\u001b[0m\n\u001b[0;31mSyntaxError\u001b[0m\u001b[0;31m:\u001b[0m invalid syntax\n"
          ]
        }
      ]
    }
  ]
}
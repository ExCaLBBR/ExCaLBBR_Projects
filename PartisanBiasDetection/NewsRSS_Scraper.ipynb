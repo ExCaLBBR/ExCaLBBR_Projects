{
  "cells": [
    {
      "cell_type": "markdown",
      "metadata": {
        "id": "view-in-github",
        "colab_type": "text"
      },
      "source": [
        "<a href=\"https://colab.research.google.com/github/ExCaLBBR/ExCaLBBR_Projects/blob/main/PartisanBiasDetection/NewsRSS_Scraper.ipynb\" target=\"_parent\"><img src=\"https://colab.research.google.com/assets/colab-badge.svg\" alt=\"Open In Colab\"/></a>"
      ]
    },
    {
      "cell_type": "code",
      "execution_count": 113,
      "metadata": {
        "id": "jzf4wY-T8Frl",
        "cellView": "form"
      },
      "outputs": [],
      "source": [
        "#@title Install Dependancies\n",
        "!pip install requests beautifulsoup4 --quiet\n",
        "\n",
        "#Import libraries\n",
        "import requests\n",
        "from bs4 import BeautifulSoup\n",
        "import time"
      ]
    },
    {
      "cell_type": "code",
      "execution_count": 114,
      "metadata": {
        "id": "-1vSCujtWffV",
        "cellView": "form"
      },
      "outputs": [],
      "source": [
        "# @title Define Utility Functions\n",
        "\n",
        "#Article Scraper\n",
        "def scrape_article_text(url):\n",
        "    # Send a GET request to the URL\n",
        "    response = requests.get(url)\n",
        "    # Check if the request was successful\n",
        "    if response.status_code == 200:\n",
        "        # Parse the HTML content\n",
        "        soup = BeautifulSoup(response.text, 'html.parser')\n",
        "        # Find elements containing text - this part may need customization\n",
        "        # For example, assuming article text is within <p> tags\n",
        "        article_text = ' '.join(p.get_text() for p in soup.find_all('p'))\n",
        "        return article_text\n",
        "    else:\n",
        "        return \"Error: Unable to fetch the webpage.\"\n",
        "\n",
        "#Article Scraper with User Agent\n",
        "def scrape_article_text_useragent(url,ua):\n",
        "    # Send a GET request to the URL\n",
        "    response = requests.get(url, headers=ua)\n",
        "    # Check if the request was successful\n",
        "    if response.status_code == 200:\n",
        "        # Parse the HTML content\n",
        "        soup = BeautifulSoup(response.text, 'html.parser')\n",
        "        # Find elements containing text - this part may need customization\n",
        "        # For example, assuming article text is within <p> tags\n",
        "        article_text = ' '.join(p.get_text() for p in soup.find_all('p'))\n",
        "        return article_text\n",
        "    else:\n",
        "        return \"Error: Unable to fetch the webpage.\"\n",
        "\n",
        "#Query for LLM\n",
        "def query(payload, headers):\n",
        "    response = requests.post(API_URL, headers=headers, json=payload)\n",
        "    if response.status_code == 200:\n",
        "        return response.json()  # Expecting this to always be a list for simplicity\n",
        "    else:\n",
        "        return [{\"error\": response.text}]\n",
        "\n",
        "#Political Bias Classification using LLM\n",
        "def reduce_and_query(initial_text, llm_instructions, reduction_fraction, headers):\n",
        "    text = initial_text\n",
        "    while True:\n",
        "        payload = {\"inputs\": llm_instructions + text}\n",
        "        response = query(payload, headers)\n",
        "        # Since we expect a list, check the first item for an 'error' key\n",
        "        if \"error\" in response[0]:\n",
        "            error_message = response[0][\"error\"]\n",
        "            if \"token\" in error_message.lower():\n",
        "                # Reduce the text by the specified fraction if it's a token limit error\n",
        "                new_length = int(len(text) * (1 - reduction_fraction))\n",
        "                text = text[:new_length]\n",
        "            else:\n",
        "                # Return the error message directly if it's a different kind of error\n",
        "                return error_message\n",
        "        else:\n",
        "            # If there's no 'error' key, assume the response is successful\n",
        "            return response"
      ]
    },
    {
      "cell_type": "code",
      "execution_count": null,
      "metadata": {
        "id": "U36vKED56Kll"
      },
      "outputs": [],
      "source": [
        "# @title CNN [completed: links, articleTxt, headers, and pubdate]\n",
        "# CNN Article Link Scraper\n",
        "page = requests.get('https://www.cnn.com/politics')\n",
        "soup = BeautifulSoup(page.text, 'html.parser')\n",
        "\n",
        "links = []\n",
        "for l in soup.find_all('a'):\n",
        "    links.append(l.get('href'))\n",
        "links = filter(None, links)\n",
        "linkEnds = [i for i in links if i.startswith('/2') and \"/video/\" not in i]\n",
        "result = ['https://www.cnn.com' + i for i in linkEnds]\n",
        "links = set(result)\n",
        "links = list(links)\n",
        "\n",
        "#CNN Article Text Scraper\n",
        "artTxt = []\n",
        "for art in links:\n",
        "  article_text = scrape_article_text(art)\n",
        "  artTxt.append(article_text)\n",
        "CNN_artTxt = artTxt\n",
        "\n",
        "#combined headers + pubdate:\n",
        "pubds = []\n",
        "headers = []\n",
        "for h in links:\n",
        "  hp = requests.get(h)\n",
        "  souph = BeautifulSoup(hp.text, 'html.parser')\n",
        "  span = souph.find_all('h1')\n",
        "  header= str(span)\n",
        "  i = header.find(\">\")\n",
        "  j = header.find(\"</h1>\")\n",
        "  x = header[i+8:j]\n",
        "  y = x.split('\\n', 1)[0]\n",
        "  headers.append(y)\n",
        "  span = souph.find_all('div', class_='timestamp vossi-timestamp')\n",
        "  pubd = str(span)\n",
        "  i = pubd.find(\"Published\")\n",
        "  j = pubd.find(\">]\")\n",
        "  if i == -1:\n",
        "    i = pubd.find(\"Updated\")\n",
        "  x = pubd[i+10:j].lstrip()\n",
        "  y = x.split('\\n', 1)[0]\n",
        "  pubds.append(y)\n",
        "CNN_pubds = pubds\n",
        "CNN_headers = headers\n",
        "\n",
        "# #CNN Article Header Scraper\n",
        "# headers = []\n",
        "# for h in links:\n",
        "#   hp = requests.get(h)\n",
        "#   souph = BeautifulSoup(hp.text, 'html.parser')\n",
        "#   span = souph.find_all('h1')\n",
        "#   header= str(span)\n",
        "#   i = header.find(\">\")\n",
        "#   j = header.find(\"</h1>\")\n",
        "#   x = header[i+8:j]\n",
        "#   y = x.split('\\n', 1)[0]\n",
        "#   headers.append(y)\n",
        "# CNN_headers = headers\n",
        "\n",
        "# #CNN News Article PubDate Scraper\n",
        "# pubds = []\n",
        "# for h in links:\n",
        "#   hp = requests.get(h)\n",
        "#   souph = BeautifulSoup(hp.text, 'html.parser')\n",
        "#   span = souph.find_all('div', class_='timestamp vossi-timestamp')\n",
        "#   pubd = str(span)\n",
        "#   i = pubd.find(\"Published\")\n",
        "#   j = pubd.find(\">]\")\n",
        "#   if i == -1:\n",
        "#     i = pubd.find(\"Updated\")\n",
        "#   x = pubd[i+10:j].lstrip()\n",
        "#   y = x.split('\\n', 1)[0]\n",
        "#   pubds.append(y)\n",
        "# CNN_pubdate = pubds"
      ]
    },
    {
      "cell_type": "code",
      "execution_count": null,
      "metadata": {
        "colab": {
          "base_uri": "https://localhost:8080/"
        },
        "collapsed": true,
        "id": "5mml0I9kwLNy",
        "outputId": "d203a8e0-479f-4925-fce5-8df8723635a0"
      },
      "outputs": [
        {
          "output_type": "stream",
          "name": "stderr",
          "text": [
            "<ipython-input-118-1a2f6ef9f2db>:5: XMLParsedAsHTMLWarning: It looks like you're parsing an XML document using an HTML parser. If this really is an HTML document (maybe it's XHTML?), you can ignore or filter this warning. If it's XML, you should know that using an XML parser will be more reliable. To parse this document as XML, make sure you have the lxml package installed, and pass the keyword argument `features=\"xml\"` into the BeautifulSoup constructor.\n",
            "  soup = BeautifulSoup(html_page.text, \"lxml\")\n"
          ]
        }
      ],
      "source": [
        "# @title Fox News [completed: links, articleTxt, headers, and pubdate]\n",
        "#Fox News Article Text Link Scraper\n",
        "url = 'https://moxie.foxnews.com/google-publisher/politics.xml'\n",
        "html_page = requests.get(url)\n",
        "soup = BeautifulSoup(html_page.text, \"lxml\")\n",
        "links = []\n",
        "artTxt = []\n",
        "for item in soup.find_all(\"item\"):\n",
        "  link= str(item)\n",
        "  i = link.find(\"<link/>\")\n",
        "  j = link.find(\"<guid\")\n",
        "  x = link[i+7:j]\n",
        "  y = x.split('\\n', 1)[0]\n",
        "  links.append(y)\n",
        "  article_text = scrape_article_text(y)\n",
        "  artTxt.append(article_text)\n",
        "FoxNews_artTxt = artTxt\n",
        "\n",
        "#Fox News Article Header Scraper\n",
        "headers = []\n",
        "for item in soup.find_all(\"item\"):\n",
        "  header= str(item)\n",
        "  i = header.find(\"<title>\")\n",
        "  j = header.find(\"</title>\")\n",
        "  x = header[i+7:j]\n",
        "  y = x.split('\\n', 1)[0]\n",
        "  headers.append(y)\n",
        "FoxNews_headers = headers\n",
        "\n",
        "#Fox News Article PubDate Scraper\n",
        "pubds = []\n",
        "for item in soup.find_all(\"item\"):\n",
        "  pubd= str(item)\n",
        "  i = pubd.find(\"<pubdate>\")\n",
        "  j = pubd.find(\"</pubdate>\")\n",
        "  x = pubd[i+9:j]\n",
        "  y = x.split('\\n', 1)[0]\n",
        "  pubds.append(y)\n",
        "FoxNews_pubdate = pubds"
      ]
    },
    {
      "cell_type": "code",
      "execution_count": null,
      "metadata": {
        "colab": {
          "base_uri": "https://localhost:8080/"
        },
        "collapsed": true,
        "id": "Dcsv7hwKb0wV",
        "outputId": "f9981ef8-62fd-4dbe-ecfa-f6ae1c285859"
      },
      "outputs": [
        {
          "output_type": "stream",
          "name": "stderr",
          "text": [
            "<ipython-input-3-d5bd07c2d47a>:4: XMLParsedAsHTMLWarning: It looks like you're parsing an XML document using an HTML parser. If this really is an HTML document (maybe it's XHTML?), you can ignore or filter this warning. If it's XML, you should know that using an XML parser will be more reliable. To parse this document as XML, make sure you have the lxml package installed, and pass the keyword argument `features=\"xml\"` into the BeautifulSoup constructor.\n",
            "  soup = BeautifulSoup(html_page.text, \"lxml\")\n"
          ]
        }
      ],
      "source": [
        "#NYT Article Link Scraper\n",
        "url = 'https://rss.nytimes.com/services/xml/rss/nyt/Politics.xml'\n",
        "html_page = requests.get(url)\n",
        "soup = BeautifulSoup(html_page.text, \"lxml\")\n",
        "links = []\n",
        "for item in soup.find_all(\"item\"):\n",
        "  link= str(item)\n",
        "  i = link.find(\"<link/>\")\n",
        "  j = link.find(\"<guid\")\n",
        "  x = link[i+7:j]\n",
        "  y = x.split('\\n', 1)[0]\n",
        "  links.append(y)\n",
        "NYT_links = links"
      ]
    },
    {
      "cell_type": "code",
      "source": [
        "NYT_links"
      ],
      "metadata": {
        "colab": {
          "base_uri": "https://localhost:8080/"
        },
        "id": "gkHTnIzznB7l",
        "outputId": "25364a45-c446-4c13-eaca-1c16c91949bc"
      },
      "execution_count": null,
      "outputs": [
        {
          "output_type": "execute_result",
          "data": {
            "text/plain": [
              "['https://www.nytimes.com/2024/10/21/us/politics/biden-harris-birth-control-rules.html',\n",
              " 'https://www.nytimes.com/2024/10/21/us/politics/trump-harris-undecided-voters.html',\n",
              " 'https://www.nytimes.com/2024/10/20/us/politics/trump-scandals.html',\n",
              " 'https://www.nytimes.com/2024/10/20/us/politics/jill-stein-harris-trump.html',\n",
              " 'https://www.nytimes.com/2024/10/21/upshot/trump-harris-polls-election.html',\n",
              " 'https://www.nytimes.com/2024/10/21/us/politics/secret-service-trump-butler-house-report.html',\n",
              " 'https://www.nytimes.com/2024/10/21/us/politics/supreme-court-public-corruption.html',\n",
              " 'https://www.nytimes.com/2024/10/21/health/abortion-pill-mifepristone-lawsuit.html',\n",
              " 'https://www.nytimes.com/video/us/politics/100000009762791/where-harris-and-trump-stand-on-abortion.html',\n",
              " 'https://www.nytimes.com/2024/10/21/books/review/economics-business-books.html',\n",
              " 'https://www.nytimes.com/2024/10/21/us/politics/9-11-defendants-trial.html',\n",
              " 'https://www.nytimes.com/2024/10/21/business/media/trump-media-broadcast-licenses.html',\n",
              " 'https://www.nytimes.com/2024/10/20/style/donald-trump-mcdonalds.html',\n",
              " 'https://www.nytimes.com/2024/10/20/us/politics/trump-arnold-palmer-kamala-harris.html',\n",
              " 'https://www.nytimes.com/2024/10/20/us/politics/trump-mcdonalds-fries.html',\n",
              " 'https://www.nytimes.com/2024/10/20/us/politics/nebraska-walz-tony-vargas.html',\n",
              " 'https://www.nytimes.com/2024/10/20/us/politics/elon-musk-million-dollar-petition.html',\n",
              " 'https://www.nytimes.com/2024/10/20/us/politics/trump-fox-news-jan-6-haitians.html',\n",
              " 'https://www.nytimes.com/2024/10/20/us/politics/kamala-harris-mcdonalds-work-trump.html',\n",
              " 'https://www.nytimes.com/2024/10/20/us/politics/trump-meandering-remarks.html',\n",
              " 'https://www.nytimes.com/2024/10/20/us/politics/harris-howard-hbcus.html']"
            ]
          },
          "metadata": {},
          "execution_count": 8
        }
      ]
    },
    {
      "cell_type": "code",
      "source": [
        "# @title NYT [not completed: articleTxt]\n",
        "#completed: links, headers, pubdate\n",
        "#NYT Article Text Link Scraper\n",
        "url = 'https://rss.nytimes.com/services/xml/rss/nyt/Politics.xml'\n",
        "html_page = requests.get(NYT_links[0])\n",
        "soup = BeautifulSoup(html_page.text, \"html.parser\")\n",
        "print(soup)\n",
        "links = []\n",
        "artTxt = []\n",
        "for item in soup.find_all(\"item\"):\n",
        "  link= str(item)\n",
        "  i = link.find(\"<link/>\")\n",
        "  j = link.find(\"<guid\")\n",
        "  x = link[i+7:j]\n",
        "  y = x.split('\\n', 1)[0]\n",
        "  links.append(y)\n",
        "  article_text = scrape_article_text(y)\n",
        "  artTxt.append(article_text)\n",
        "NYT_artTxt = artTxt\n",
        "\n",
        "#NYT Article Header Scraper\n",
        "headers = []\n",
        "for item in soup.find_all(\"item\"):\n",
        "  header= str(item)\n",
        "  i = header.find(\"<title>\")\n",
        "  j = header.find(\"</title>\")\n",
        "  x = header[i+7:j]\n",
        "  y = x.split('\\n', 1)[0]\n",
        "  headers.append(y)\n",
        "NYT_headers = headers\n",
        "\n",
        "#NYT Article PubDate Scraper\n",
        "pubds = []\n",
        "for item in soup.find_all(\"item\"):\n",
        "  pubd= str(item)\n",
        "  i = pubd.find(\"<pubdate>\")\n",
        "  j = pubd.find(\"</pubdate>\")\n",
        "  x = pubd[i+9:j]\n",
        "  y = x.split('\\n', 1)[0]\n",
        "  pubds.append(y)\n",
        "NYT_pubds = pubds"
      ],
      "metadata": {
        "colab": {
          "base_uri": "https://localhost:8080/"
        },
        "id": "TxWBuqeugljj",
        "outputId": "a620141e-af8c-4c65-dd80-ea344d15bca0"
      },
      "execution_count": null,
      "outputs": [
        {
          "output_type": "stream",
          "name": "stdout",
          "text": [
            "<html><head><title>nytimes.com</title><style>#cmsg{animation: A 1.5s;}@keyframes A{0%{opacity:0;}99%{opacity:0;}100%{opacity:1;}}</style></head><body style=\"margin:0\"><p id=\"cmsg\">Please enable JS and disable any ad blocker</p><script data-cfasync=\"false\">var dd={'rt':'c','cid':'AHrlqAAAAAMAMoSxbSIbc8cAImo5kg==','hsh':'499AE34129FA4E4FABC31582C3075D','t':'bv','s':17439,'e':'4045dbb42d70ac0c4371124f8504f1ecd4a1504c229f49ffe1b1045285dc4229','host':'geo.captcha-delivery.com','cookie':'cXxe92Ptu_AqNGRGxu2uvOsM_NCyV4XzMRBFniltyBrPmsa7OkPTil2778dwwZt2aPFKzgfs3yCo8YAV_dXsDsImugfwSiISQZVdgXTqD2gJUQ8PlM1Bc1oDzekki8rn'}</script><script data-cfasync=\"false\" src=\"https://ct.captcha-delivery.com/c.js\"></script></body></html>\n"
          ]
        }
      ]
    },
    {
      "cell_type": "code",
      "source": [
        "NYT_artTxt\n",
        "#'Error: Unable to fetch the webpage.'\n",
        "# paywall or maybe not being on campus is the issue"
      ],
      "metadata": {
        "colab": {
          "base_uri": "https://localhost:8080/"
        },
        "collapsed": true,
        "id": "wl5Bi_d1g7Dq",
        "outputId": "e63ab9fc-ef4a-4960-9edf-b11c11d1b609"
      },
      "execution_count": null,
      "outputs": [
        {
          "output_type": "execute_result",
          "data": {
            "text/plain": [
              "[]"
            ]
          },
          "metadata": {},
          "execution_count": 10
        }
      ]
    },
    {
      "cell_type": "code",
      "execution_count": null,
      "metadata": {
        "id": "_MdFJZGfhJdQ"
      },
      "outputs": [],
      "source": [
        "# @title USA Today [completed: links, articleTxt, headers, pubdate]\n",
        "# issue: published and updated dates included\n",
        "# being on campus may un-break it though?\n",
        "\n",
        "#USA Today Article Link Scraper\n",
        "page = requests.get('https://www.usatoday.com/news/politics/')\n",
        "soup = BeautifulSoup(page.text, 'html.parser')\n",
        "allLinks = []\n",
        "link = \"https://www.usatoday.com/news/politics/\"\n",
        "for link in soup.find_all('a'):\n",
        "    allLinks.append(link.get('href'))\n",
        "allLinks = filter(None, allLinks)\n",
        "'''\n",
        "   /politics removes livestream & corrections & world politics\n",
        "   also removes other articles e.g. /investigation (ryan routh article)\n",
        "'''\n",
        "linkEnds = [i for i in allLinks if i.startswith('/story/news/politics')]\n",
        "result = ['https://www.usatoday.com' + i for i in linkEnds]\n",
        "USAToday_links = set(result)\n",
        "USAToday_links = list(USAToday_links)\n",
        "\n",
        "#USA Today Article Text Scraper\n",
        "artTxt = []\n",
        "for art in USAToday_links:\n",
        "  article_text = scrape_article_text(art)\n",
        "  artTxt.append(article_text)\n",
        "USAToday_artTxt = artTxt\n",
        "\n",
        "#combined headers + pubdate:\n",
        "pubds = []\n",
        "headers = []\n",
        "for h in USAToday_links:\n",
        "  hp = requests.get(h)\n",
        "  souph = BeautifulSoup(hp.text, 'html.parser')\n",
        "  span = souph.find_all('h1')\n",
        "  header= str(span)\n",
        "  i = header.find(\">\")\n",
        "  j = header.find(\"</h1>\")\n",
        "  x = header[i+1:j]\n",
        "  y = x.split('\\n', 1)[0]\n",
        "  headers.append(y)\n",
        "  span = souph.find_all('div', class_='gnt_ar_dt')\n",
        "  pubd = str(span)\n",
        "  i = pubd.find(\"Published\")\n",
        "  j = pubd.find(\"class\")\n",
        "  if i == -1:\n",
        "    i = pubd.find(\"Updated\")\n",
        "  x = pubd[i:j].rstrip()\n",
        "  y = x.split('\\n', 1)[0]\n",
        "  pubds.append(y)\n",
        "USAToday_pubds = pubds\n",
        "USAToday_headers = headers"
      ]
    },
    {
      "cell_type": "code",
      "source": [
        "USAToday_pubds"
      ],
      "metadata": {
        "colab": {
          "base_uri": "https://localhost:8080/"
        },
        "collapsed": true,
        "id": "jYl4e0j4sC6_",
        "outputId": "f75ed5da-0dff-47b2-a767-1df7dbc98e99"
      },
      "execution_count": null,
      "outputs": [
        {
          "output_type": "execute_result",
          "data": {
            "text/plain": [
              "['Published: 2:45 p.m. ET Oct. 18, 2024 Updated: 5:12 p.m. ET Oct. 18, 2024\"',\n",
              " 'Published: 5:14 a.m. ET Oct. 20, 2024 Updated: 3:59 p.m. ET Oct. 20, 2024\"',\n",
              " 'Published: 2:08 p.m. ET Oct. 20, 2024 Updated: 2:08 p.m. ET Oct. 20, 2024\"',\n",
              " 'Published: 5:02 a.m. ET Oct. 20, 2024 Updated: 9:03 a.m. ET Oct. 20, 2024\"',\n",
              " 'Published: 8:50 p.m. ET Oct. 20, 2024 Updated: 8:56 p.m. ET Oct. 20, 2024\"',\n",
              " 'Published: 12:16 p.m. ET Oct. 18, 2024 Updated: 12:17 p.m. ET Oct. 18, 2024\"',\n",
              " 'Published: 12:11 p.m. ET Oct. 18, 2024 Updated: 12:11 p.m. ET Oct. 18, 2024\"',\n",
              " 'Published: 9:01 p.m. ET Oct. 19, 2024 Updated: 10:43 p.m. ET Oct. 19, 2024\"',\n",
              " 'Published: 11:08 p.m. ET Oct. 19, 2024 Updated: 2:19 p.m. ET Oct. 20, 2024\"',\n",
              " 'Published: 5:06 a.m. ET Oct. 19, 2024 Updated: 6:37 a.m. ET Oct. 19, 2024\"',\n",
              " 'Published 12:12 p.m. ET Oct. 18, 2024\"',\n",
              " 'Published: 9:19 a.m. ET Oct. 20, 2024 Updated: 11:32 a.m. ET Oct. 20, 2024\"',\n",
              " 'Published: 3:11 p.m. ET Oct. 20, 2024 Updated: 7:59 p.m. ET Oct. 20, 2024\"',\n",
              " 'Published: 5:02 a.m. ET Oct. 19, 2024 Updated: 5:02 a.m. ET Oct. 19, 2024\"',\n",
              " 'Updated: 4:46 p.m. ET Oct. 20, 2024\"',\n",
              " 'Published: 12:54 p.m. ET Oct. 20, 2024 Updated: 1:01 p.m. ET Oct. 20, 2024\"',\n",
              " 'Published: 6:23 p.m. ET Oct. 18, 2024 Updated: 6:23 p.m. ET Oct. 18, 2024\"',\n",
              " 'Published: 8:22 a.m. ET Oct. 19, 2024 Updated: 8:22 a.m. ET Oct. 19, 2024\"',\n",
              " 'Published: 9:26 p.m. ET Oct. 18, 2024 Updated: 10:02 a.m. ET Oct. 19, 2024\"',\n",
              " 'Published: 10:47 p.m. ET Oct. 19, 2024 Updated: 8:56 a.m. ET Oct. 20, 2024\"',\n",
              " 'Published: 5:00 a.m. ET Oct. 20, 2024 Updated: 7:10 p.m. ET Oct. 20, 2024\"',\n",
              " 'Published: 9:02 a.m. ET Oct. 19, 2024 Updated: 9:02 a.m. ET Oct. 19, 2024\"',\n",
              " 'Published 12:43 p.m. ET Oct. 19, 2024\"']"
            ]
          },
          "metadata": {},
          "execution_count": 10
        }
      ]
    },
    {
      "cell_type": "code",
      "execution_count": null,
      "metadata": {
        "colab": {
          "base_uri": "https://localhost:8080/"
        },
        "collapsed": true,
        "id": "US_4hPNLmlqe",
        "outputId": "53b0f365-365a-4fb7-d1b8-0de194ea5c7d"
      },
      "outputs": [
        {
          "output_type": "stream",
          "name": "stderr",
          "text": [
            "<ipython-input-156-4f9876e9c3ac>:6: XMLParsedAsHTMLWarning: It looks like you're parsing an XML document using an HTML parser. If this really is an HTML document (maybe it's XHTML?), you can ignore or filter this warning. If it's XML, you should know that using an XML parser will be more reliable. To parse this document as XML, make sure you have the lxml package installed, and pass the keyword argument `features=\"xml\"` into the BeautifulSoup constructor.\n",
            "  soup = BeautifulSoup(html_page.text, \"lxml\")\n"
          ]
        }
      ],
      "source": [
        "#NY Post Article Link Scraper\n",
        "#check lxml thing later\n",
        "headers = {\"user-agent\": \"Mozilla/5.0\"}\n",
        "url = 'https://nypost.com/politics/feed/'\n",
        "html_page = requests.get(url, headers=headers)\n",
        "soup = BeautifulSoup(html_page.text, \"lxml\")\n",
        "links = []\n",
        "for item in soup.find_all(\"item\"):\n",
        "  link = str(item)\n",
        "  i = link.find(\"<link/>\")\n",
        "  j = link.find(\"<guid\")\n",
        "  x = link[i+7:j]\n",
        "  y = x.split('\\n', 1)[0]\n",
        "  #remove videos\n",
        "  if not (y.startswith('https://nypost.com/video')):\n",
        "    links.append(y)\n",
        "NYPost_links = links"
      ]
    },
    {
      "cell_type": "code",
      "source": [
        "# @title NYPost [completed: links, articleTxt, headers, and pubdate]\n",
        "#NYPost Article Text Scraper\n",
        "url = 'https://nypost.com/politics/feed/'\n",
        "headers = {\"user-agent\": \"Mozilla/5.0\"}\n",
        "html_page = requests.get(url,headers=headers)\n",
        "soup = BeautifulSoup(html_page.text, \"lxml\")\n",
        "links = []\n",
        "artTxt = []\n",
        "for item in soup.find_all(\"item\"):\n",
        "  link= str(item)\n",
        "  i = link.find(\"<link/>\")\n",
        "  j = link.find(\"<guid\")\n",
        "  x = link[i+7:j]\n",
        "  y = x.split('\\n', 1)[0]\n",
        "  links.append(y)\n",
        "  article_text = scrape_article_text_useragent(y,headers)\n",
        "  artTxt.append(article_text)\n",
        "NYPost_artTxt = artTxt\n",
        "\n",
        "#NYPost Article Header Scraper\n",
        "headers = []\n",
        "for item in soup.find_all(\"item\"):\n",
        "  header= str(item)\n",
        "  i = header.find(\"<title>\")\n",
        "  j = header.find(\"</title>\")\n",
        "  x = header[i+7:j]\n",
        "  y = x.split('\\n', 1)[0]\n",
        "  headers.append(y)\n",
        "NYPost_headers = headers\n",
        "\n",
        "#NYPost Article PubDate Scraper\n",
        "pubds = []\n",
        "for item in soup.find_all(\"item\"):\n",
        "  pubd = str(item)\n",
        "  i = pubd.find(\"<pubdate>\")\n",
        "  j = pubd.find(\"</pubdate>\")\n",
        "  x = pubd[i+9:j]\n",
        "  y = x.split('\\n', 1)[0]\n",
        "  pubds.append(y)\n",
        "NYPost_pubds = pubds"
      ],
      "metadata": {
        "colab": {
          "base_uri": "https://localhost:8080/"
        },
        "id": "LAhonLbblKVC",
        "outputId": "aaf754f1-3934-467b-bdc6-ee7323e2cf43"
      },
      "execution_count": null,
      "outputs": [
        {
          "output_type": "stream",
          "name": "stderr",
          "text": [
            "<ipython-input-37-e828cb051f93>:6: XMLParsedAsHTMLWarning: It looks like you're parsing an XML document using an HTML parser. If this really is an HTML document (maybe it's XHTML?), you can ignore or filter this warning. If it's XML, you should know that using an XML parser will be more reliable. To parse this document as XML, make sure you have the lxml package installed, and pass the keyword argument `features=\"xml\"` into the BeautifulSoup constructor.\n",
            "  soup = BeautifulSoup(html_page.text, \"lxml\")\n"
          ]
        }
      ]
    },
    {
      "cell_type": "code",
      "execution_count": null,
      "metadata": {
        "collapsed": true,
        "id": "_zLYbXfDsF-3"
      },
      "outputs": [],
      "source": [
        "#People Article Link Scraper\n",
        "#without user-agent\n",
        "page = requests.get('https://people.com/politics/')\n",
        "soup = BeautifulSoup(page.text, 'html.parser')\n",
        "\n",
        "allLinks = []\n",
        "link = \"https://people.com/politics/\"\n",
        "for link in soup.find_all('a'):\n",
        "    allLinks.append(link.get('href'))\n",
        "allLinks = filter(None, allLinks)\n",
        "#identifier for political articles seems to be a 7 digit # that starts w 87 at the end of the link\n",
        "#check to confirm, at least i got astrology out of there\n",
        "linkEnds = [i for i in allLinks if (len(i) > 8 and i[-7] == '8' and i[-6] == '7')]\n",
        "# result = ['https://people.com' + i for i in linkEnds]\n",
        "People_links = set(linkEnds)\n",
        "People_links = list(People_links)"
      ]
    },
    {
      "cell_type": "code",
      "source": [
        "People_links"
      ],
      "metadata": {
        "colab": {
          "base_uri": "https://localhost:8080/"
        },
        "id": "B2mu_78xev3N",
        "outputId": "fdf536ea-6b53-4241-f33b-1106263e2faa",
        "collapsed": true
      },
      "execution_count": null,
      "outputs": [
        {
          "output_type": "execute_result",
          "data": {
            "text/plain": [
              "['https://people.com/nicole-scherzinger-breaks-silence-on-backlash-after-commenting-on-russell-brand-s-election-post-8742695',\n",
              " 'https://people.com/donald-trump-defeats-kamala-harris-2024-presidential-election-8734187',\n",
              " 'https://people.com/adam-schiff-defeats-steve-garvey-california-senate-election-8730007',\n",
              " 'https://people.com/kamala-harris-stepdaughter-ella-emhoff-responds-mental-breakdown-rumors-instagram-8742872',\n",
              " 'https://people.com/former-ny-congressman-paralyzed-from-chest-down-after-getting-thrown-off-horse-during-polo-game-report-8743874',\n",
              " 'https://people.com/pennsylvania-presidential-election-results-harris-trump-8737718',\n",
              " 'https://people.com/donald-trump-thanks-voters-presidential-victory-nobody-expected-that-8740440',\n",
              " 'https://people.com/democrat-elissa-slotkin-defeats-mike-rogers-michigan-senate-race-8736891',\n",
              " 'https://people.com/lauren-boebert-wins-house-election-different-colorado-district-8717085',\n",
              " 'https://people.com/donald-trump-cabinet-picks-senior-officials-8742995',\n",
              " 'https://people.com/donald-trump-mentions-third-term-house-gop-meeting-8744857',\n",
              " 'https://people.com/congressman-gerry-connolly-cancer-diagnosis-election-week-8741304',\n",
              " 'https://people.com/mike-johnson-reelected-house-gop-leader-8744450',\n",
              " 'https://people.com/arizona-senate-race-results-ruben-gallego-kari-lake-8719032',\n",
              " 'https://people.com/2024-election-day-full-recap-8740177',\n",
              " 'https://people.com/jacky-rosen-defends-nevada-senate-seat-election-results-8721246',\n",
              " 'https://people.com/tim-sheehy-ousts-jon-tester-montana-senate-race-8734704',\n",
              " 'https://people.com/maori-lawmakers-perform-dance-protest-new-zealand-bill-8746211',\n",
              " 'https://people.com/google-searches-for-birth-control-spike-after-donald-trump-wins-2024-presidential-election-8742180',\n",
              " 'https://people.com/kamala-harris-concedes-election-donald-trump-8739330',\n",
              " 'https://people.com/liz-cheney-asks-americans-to-be-guardrails-of-democracy-following-election-8740583',\n",
              " 'https://people.com/ohio-senate-race-results-bernie-moreno-sherrod-brown-8738242',\n",
              " 'https://people.com/same-sex-marriage-ballot-measures-california-colorado-hawaii-8741494',\n",
              " 'https://people.com/pa-senator-bob-casey-ousted-dave-mccormick-wins-8725703',\n",
              " 'https://people.com/what-happens-to-donald-trump-criminal-cases-now-as-president-8740433',\n",
              " 'https://people.com/nevada-presidential-election-results-trump-wins-8732103',\n",
              " 'https://people.com/snl-introduces-hot-jacked-donald-trump-dana-carvey-as-elon-musk-8742845',\n",
              " 'https://people.com/texas-senate-race-results-ted-cruz-colin-allred-8735939',\n",
              " 'https://people.com/dennis-prager-hospitalized-back-injury-8745492',\n",
              " 'https://people.com/joe-biden-donald-trump-white-house-meeting-melania-declined-invite-8744519',\n",
              " 'https://people.com/jimmy-carter-nominated-for-10th-grammy-award-nearly-21-months-after-beginning-hospice-care-8742644',\n",
              " 'https://people.com/olivia-nuzzi-reporter-in-rfk-jr-sexting-scandal-drops-protective-order-against-ex-8744328',\n",
              " 'https://people.com/tammy-baldwin-defends-critical-wisconsin-senate-seat-8731690',\n",
              " 'https://people.com/donald-trump-wins-arizona-completing-swing-state-sweep-8734207',\n",
              " 'https://people.com/nebraska-senate-election-results-deb-fischer-dan-osborn-8736101',\n",
              " 'https://people.com/abortion-rights-amendment-results-2024-elections-8739199',\n",
              " 'https://people.com/john-thune-elected-replace-mitch-mcconnell-republican-senate-leader-8744046',\n",
              " 'https://people.com/rep-michael-mccaul-was-briefly-detained-at-airtport-for-appearing-drunk-8745125',\n",
              " 'https://people.com/chris-wallace-announces-departure-from-cnn-after-3-years-8744178',\n",
              " 'https://people.com/ex-nfl-player-antwione-williams-charged-assaulting-police-jan-6-riot-8745763',\n",
              " 'https://people.com/what-happens-to-j-d-vance-ohio-senate-seat-now-8734248',\n",
              " 'https://people.com/levi-jeans-heir-daniel-lurie-wins-san-francisco-mayor-election-8742037',\n",
              " 'https://people.com/republicans-win-senate-majority-2024-elections-8739765',\n",
              " 'https://people.com/joe-biden-addresses-2024-election-results-rose-garden-speech-8741345',\n",
              " 'https://people.com/matt-gaetz-nominated-trump-attorney-general-8744954',\n",
              " 'https://people.com/matt-gaetz-resigns-from-congress-before-house-ethics-committee-report-release-8745172',\n",
              " 'https://people.com/marijuana-legalization-measures-unpopular-2024-elections-8735486',\n",
              " 'https://people.com/georgia-presidential-election-results-trump-harris-8735873',\n",
              " 'https://people.com/kamala-harris-concession-speech-2024-presidential-election-8736313',\n",
              " 'https://people.com/eva-longoria-clarifies-she-did-not-move-outside-of-the-us-because-of-election-donald-trump-8746674',\n",
              " 'https://people.com/pete-hegseth-trump-defense-secretary-nominee-alleged-sexual-assault-investigation-8746391',\n",
              " 'https://people.com/secret-service-agent-took-lover-to-former-president-barack-obama-s-according-to-new-memoir-8744532',\n",
              " 'https://people.com/former-survivor-contestant-nick-brown-elected-state-attorney-general-8740949',\n",
              " 'https://people.com/nfl-player-nick-bosa-fined-for-wearing-make-america-great-again-hat-during-interview-8742869',\n",
              " 'https://people.com/donald-trump-wins-michigan-electoral-votes-after-victory-8732114',\n",
              " 'https://people.com/republicans-keep-house-majority-2024-elections-8728903',\n",
              " 'https://people.com/elon-musk-weighing-in-on-donald-trumps-staffing-decisions-report-8743115',\n",
              " 'https://people.com/fbi-is-aware-of-offensive-and-racist-text-messages-sent-across-multiple-states-after-election-day-8741966']"
            ]
          },
          "metadata": {},
          "execution_count": 4
        }
      ]
    },
    {
      "cell_type": "code",
      "source": [
        "# @title people [completed(?) but breaks sometimes]\n",
        "\n",
        "#People Article Text Scraper\n",
        "artTxt = []\n",
        "for art in People_links:\n",
        "  article_text = scrape_article_text(art)\n",
        "  artTxt.append(article_text)\n",
        "People_artTxt = artTxt\n",
        "\n",
        "#combined headers + pubdate:\n",
        "pubds = []\n",
        "headers = []\n",
        "for h in People_links:\n",
        "  hp = requests.get(h)\n",
        "  souph = BeautifulSoup(hp.text, 'html.parser')\n",
        "  span = souph.find_all('head', class_=\"loc head\")\n",
        "  header= str(span)\n",
        "  i = header.find(\"<title>\")\n",
        "  j = header.find(\"<\\title\")\n",
        "  x = header[i+7:j]\n",
        "  y = x.split('\\n', 1)[0]\n",
        "  headers.append(y)\n",
        "  span = souph.find_all('div', class_='mntl-attribution__item-date')\n",
        "  pubd = str(span)\n",
        "  i = pubd.find(\"Published on\")\n",
        "  j = pubd.find(\"</div>\")\n",
        "  if i == -1:\n",
        "    i = pubd.find(\"Updated on\")\n",
        "  x = pubd[i+10:j].lstrip(\"on \")\n",
        "  y = x.split('\\n', 1)[0]\n",
        "  pubds.append(y)\n",
        "People_pubds = pubds\n",
        "People_headers = headers"
      ],
      "metadata": {
        "collapsed": true,
        "id": "-4SEzVLidVgj"
      },
      "execution_count": null,
      "outputs": []
    },
    {
      "cell_type": "code",
      "source": [
        "People_headers"
      ],
      "metadata": {
        "colab": {
          "base_uri": "https://localhost:8080/"
        },
        "id": "Qj4tRAoUePii",
        "outputId": "478f8398-992f-4b62-85ae-0d26efb70673",
        "collapsed": true
      },
      "execution_count": null,
      "outputs": [
        {
          "output_type": "execute_result",
          "data": {
            "text/plain": [
              "[\"Nicole Scherzinger Responds to Backlash After Commenting on Russell Brand's Election Post</title>\",\n",
              " 'Donald Trump Defeats Kamala Harris in 2024 Presidential Election</title>',\n",
              " 'Adam Schiff Wins California Senate Race, Filling Dianne Feinstein’s Former Seat</title>',\n",
              " \"Kamala Harris' Stepdaughter Ella Emhoff Responds to Rumors of Mental Breakdown</title>\",\n",
              " 'Former Congressman Paralyzed from Chest Down After Getting Thrown Off Horse</title>',\n",
              " 'Donald Trump Is Projected to Win Pennsylvania</title>',\n",
              " \"Donald Trump Thanks Voters for Electing Him: 'Look at All Those Victories'</title>\",\n",
              " \"Democrat Elissa Slotkin Defeats Mike Rogers in Michigan's High-Stakes Senate Race</title>\",\n",
              " 'Lauren Boebert Wins House Election After Switching Districts</title>',\n",
              " \"Donald Trump's Cabinet Picks: Who He's Chosen and Who Is Being Considered</title>\",\n",
              " \"Trump Tells Republicans He Won't Seek Third Term Unless They Find a Way to Allow It</title>\",\n",
              " 'Virginia Rep. Gerry Connolly Reveals Cancer Diagnosis 2 Days After Reelection</title>',\n",
              " 'Mike Johnson Is Reelected as House GOP Leader for 2 More Years</title>',\n",
              " 'Ruben Gallego Defeats Kari Lake in Arizona Senate Race to Replace Kyrsten Sinema</title>',\n",
              " '2024 Election Day Recap: Donald Trump Defeats Kamala Harris to Win Presidency</title>',\n",
              " 'Democrat Jacky Rosen Defends Nevada Senate Seat in Tight Race Against Sam Brown</title>',\n",
              " 'Tim Sheehy Ousts Montana Sen. Jon Tester, Flipping Key Seat Red</title>',\n",
              " 'Māori Lawmakers Perform Traditional Dance to Protest New Zealand Bill</title>',\n",
              " \"Google Searches for 'Birth Control' Spike After Donald Trump Wins 2024 Presidential Election</title>\",\n",
              " 'Kamala Harris Concedes to Donald Trump in the 2024 Presidential Election</title>',\n",
              " 'Liz Cheney Asks Americans to Be ‘Guardrails of Democracy’ Following Election</title>',\n",
              " 'Bernie Moreno Ousts Ohio Sen. Sherrod Brown, Flipping Senate Seat Red</title>',\n",
              " \"States Pass Marriage Equality Measures in Case Supreme Court Targets 'Obergefell'</title>\",\n",
              " \"Democrat Bob Casey Loses Pennsylvania Senate Seat, Widening Republicans' Majority</title>\",\n",
              " \"What Happens to Donald Trump's Criminal Cases Now That He's Won the Presidency?</title>\",\n",
              " \"Donald Trump Wins Nevada's 6 Electoral Votes as He Secures 6th Swing State</title>\",\n",
              " \"'SNL' Introduces 'Hot Jacked' Donald Trump, Dana Carvey as Elon Musk</title>\",\n",
              " 'Ted Cruz Defeats Democrat Colin Allred in Tough Texas Senate Race</title>',\n",
              " 'Dennis Prager, Far-Right Talk Show Host Who Founded PragerU, Hospitalized with Serious Back Injury from Fall</title>',\n",
              " 'Joe Biden and Donald Trump Shake Hands at White House Meeting, as Melania Skips Event</title>',\n",
              " 'Jimmy Carter Nominated for 10th Grammy Award</title>',\n",
              " \"Reporter in RFK Jr. Sexting Scandal Drops Protective Order Against Ex Who Claims She ‘Lied to Me'</title>\",\n",
              " 'Democrat Tammy Baldwin Narrowly Defends Wisconsin Senate Seat</title>',\n",
              " 'Donald Trump Wins Arizona, Completing Swing-State Sweep</title>',\n",
              " 'Nebraska Sen. Deb Fischer Narrowly Defeats Independent Challenger Dan Osborn</title>',\n",
              " '10 States Put Abortion Rights on the Ballot This Year. 7 Voted to Enshrine Protections</title>',\n",
              " 'John Thune Elected to Replace Mitch McConnell as the Republican Senate Leader</title>',\n",
              " 'Rep. Michael McCaul Charged with Being Drunk Following Airport Detainment</title>',\n",
              " \"Chris Wallace Announces Departure from CNN After 3 Years: 'Excited and Liberated'</title>\",\n",
              " 'Ex-NFL Player Antwione Williams Charged with Assaulting Police at Jan. 6 Riot</title>',\n",
              " \"What Happens to J.D. Vance's Ohio Senate Seat Now? How His Replacement Is chosen</title>\",\n",
              " 'Levi Jeans Heir Daniel Lurie Wins San Francisco Mayor Election</title>',\n",
              " 'Republicans Win Senate Majority for First Time in 4 Years</title>',\n",
              " \"Joe Biden Addresses 2024 Presidential Election Results: 'We Accept' the Outcome</title>\",\n",
              " \"Matt Gaetz Nominated as Trump's Attorney General amid Ethics Investigation</title>\",\n",
              " 'Matt Gaetz Resigns from Congress Prior to House Ethics Committee Report</title>',\n",
              " \"Marijuana Legalization Efforts Flopped in 2024 Elections: Here's How States Voted</title>\",\n",
              " \"Donald Trump Wins Georgia's 16 Electoral Votes in Second Major Battleground Call</title>\",\n",
              " \"Kamala Harris Delivers Her Concession Speech: 'It's Going to Be Okay'</title>\",\n",
              " 'Eva Longoria Did Not Move Out of the U.S. Because of Election, Donald Trump</title>',\n",
              " \"Pete Hegseth, Trump's Defense Secretary Nominee, Involved in 2017 Alleged Assault Investigation</title>\",\n",
              " 'Secret Service Agent Took Lover to Former President Barack Obama’s Beach House</title>',\n",
              " \"Former 'Survivor' Contestant Nick Brown Elected State Attorney General</title>\",\n",
              " 'NFL Player Nick Bosa Fined $11,255 for Wearing ‘Make America Great Again’ Hat</title>',\n",
              " \"Donald Trump Wins Michigan in 2024 Election, Replicating 2016 'Blue Wall' Sweep</title>\",\n",
              " 'Republicans Keep Control of House in 2024 Elections, Completing GOP Trifecta</title>',\n",
              " \"Elon Musk 'Weighing In on' Donald Trump's Staffing Decisions: Report</title>\",\n",
              " \"FBI Is 'Aware' of 'Offensive and Racist Text Messages' Sent Across Multiple States After Election Day</title>\"]"
            ]
          },
          "metadata": {},
          "execution_count": 8
        }
      ]
    },
    {
      "cell_type": "code",
      "execution_count": null,
      "metadata": {
        "cellView": "form",
        "id": "Rypb1tJBdZvt"
      },
      "outputs": [],
      "source": [
        "# @title [Potenitally discontinuted] Ver 2: People Article Link Scraper\n",
        "#with user-agent\n",
        "#try if the other one breaks\n",
        "'''\n",
        "#Mozilla/5.0 (compatible; Googlebot/2.1; +http://www.google.com/bot.html)\n",
        "#reference: https://www.stanventures.com/blog/googlebot-user-agent-string/\n",
        "#Mozilla/5.0 AppleWebKit/537.36 (KHTML, like Gecko; compatible; Googlebot/2.1; +http://www.google.com/bot.html) Chrome/W.X.Y.Z Safari/537.36\n",
        "headers = {\"user-agent\": \"Mozilla/5.0 (compatible; Googlebot/2.1; +http://www.google.com/bot.html)\"}\n",
        "#Mozilla/5.0 AppleWebKit/537.36 (KHTML, like Gecko; compatible; Googlebot/2.1; +http://www.google.com/bot.html) Chrome/W.X.Y.Z Safari/537.36\n",
        "#Mozilla/5.0 (Windows NT 10.0; Win64; x64) AppleWebKit/537.36 (KHTML, like Gecko) Chrome/113.0.0.0 Safari/537.36 Edg/113.0.1774.35\n",
        "page = requests.get('https://people.com/politics/',headers=headers)\n",
        "soup = BeautifulSoup(page.text, 'html.parser')\n",
        "# print(soup)\n",
        "allLinks = []\n",
        "link = \"https://people.com/politics/\"\n",
        "for link in soup.find_all('a'):\n",
        "    allLinks.append(link.get('href'))\n",
        "allLinks = filter(None, allLinks)\n",
        "#identifier for political articles seems to be a 7 digit # that starts w 87 at the end of the link\n",
        "#check to confirm, at least i got astrology out of there\n",
        "linkEnds = [i for i in allLinks if (len(i) > 8 and i[-7] == '8' and i[-6] == '7')]\n",
        "# result = ['https://people.com' + i for i in linkEnds]\n",
        "People_links = set(linkEnds)\n",
        "People_links = list(People_links)\n",
        "'''"
      ]
    },
    {
      "cell_type": "code",
      "execution_count": null,
      "metadata": {
        "id": "a34NKIqqyV_Y"
      },
      "outputs": [],
      "source": [
        "#Daily Mail Article Link Scraper\n",
        "#use this one\n",
        "page = requests.get('https://www.dailymail.co.uk/news/us-politics/index.html')\n",
        "soup = BeautifulSoup(page.text, 'html.parser')\n",
        "allLinks = []\n",
        "link = \"https://www.dailymail.co.uk/news/us-politics/index.html\"\n",
        "for link in soup.find_all('a'):\n",
        "    allLinks.append(link.get('href'))\n",
        "allLinks = filter(None, allLinks)\n",
        "linkEnds = [i for i in allLinks if i.startswith('/news/article')]\n",
        "result = ['https://www.dailymail.co.uk/' + i for i in linkEnds]\n",
        "DailyMail_links = set(result)\n",
        "DailyMail_links = list(DailyMail_links)"
      ]
    },
    {
      "cell_type": "code",
      "source": [
        "len(DailyMail_links)"
      ],
      "metadata": {
        "colab": {
          "base_uri": "https://localhost:8080/"
        },
        "id": "C1ZShtKHBY66",
        "outputId": "9cc7da33-bc0a-44e1-8976-caf465549e33"
      },
      "execution_count": null,
      "outputs": [
        {
          "output_type": "execute_result",
          "data": {
            "text/plain": [
              "379"
            ]
          },
          "metadata": {},
          "execution_count": 93
        }
      ]
    },
    {
      "cell_type": "code",
      "source": [
        "#Daily Mail\n",
        "#41 seconds for scraping text from 50 articles, should i pull random ones ?\n",
        "#7*41 = 257/60 = 4.3 mins lord"
      ],
      "metadata": {
        "id": "7eQum4zIDcc7"
      },
      "execution_count": null,
      "outputs": []
    },
    {
      "cell_type": "code",
      "source": [
        "#Daily Mail Article Text Scraper\n",
        "\n",
        "# import random\n",
        "# DailyMail_links_short = random.sample(DailyMail_links, 5)\n",
        "# DailyMail_links = DailyMail_links_short\n",
        "\n",
        "artTxt = []\n",
        "for art in DailyMail_links:\n",
        "  article_text = scrape_article_text(art)\n",
        "  artTxt.append(article_text)\n",
        "DailyMail_artTxt = artTxt\n",
        "\n",
        "#combined headers + pubdate:\n",
        "pubds = []\n",
        "headers = []\n",
        "for h in DailyMail_links:\n",
        "  hp = requests.get(h)\n",
        "  souph = BeautifulSoup(hp.text, 'html.parser')\n",
        "  span = souph.find_all('h1')\n",
        "  header= str(span)\n",
        "  i = header.find(\">\")\n",
        "  j = header.find(\"</h1>\")\n",
        "  x = header[i+1:j]\n",
        "  y = x.split('\\n', 1)[0]\n",
        "  headers.append(y)\n",
        "  span = souph.find_all('time')\n",
        "  pubd = str(span)\n",
        "  i = pubd.find(\"> \")\n",
        "  j = pubd.find(\"</time>\")\n",
        "  # if i == -1:\n",
        "  #   i = pubd.find(\"Updated\")\n",
        "  x = pubd[i+1:j].lstrip()\n",
        "  y = x.split('\\n', 1)[0]\n",
        "  pubds.append(y)\n",
        "DailyMail_pubds = pubds\n",
        "DailyMail_headers = headers"
      ],
      "metadata": {
        "id": "bSLhh5JeBVU8"
      },
      "execution_count": null,
      "outputs": []
    },
    {
      "cell_type": "code",
      "execution_count": null,
      "metadata": {
        "cellView": "form",
        "colab": {
          "base_uri": "https://localhost:8080/",
          "height": 71
        },
        "collapsed": true,
        "id": "gEdpv5VjhTyi",
        "outputId": "317d20f4-85c1-4005-9583-6cad661d3d94"
      },
      "outputs": [
        {
          "data": {
            "application/vnd.google.colaboratory.intrinsic+json": {
              "type": "string"
            },
            "text/plain": [
              "'url = \\'https://www.dailymail.co.uk/ushome/index.rss\\'\\nhtml_page = requests.get(url)\\nsoup = BeautifulSoup(html_page.text, \"lxml\")\\nlinks = []\\nfor item in soup.find_all(\"item\"):\\n  link= str(item)\\n  i = link.find(\"<link/>\")\\n  j = link.find(\"<guid\")\\n  x = link[i+7:j]\\n  y = x.split(\\'\\n\\', 1)[0]\\n  links.append(y)\\ndm_links = links\\nlist(set(DailyMail_links).intersection(dm_links))\\n'"
            ]
          },
          "execution_count": 19,
          "metadata": {},
          "output_type": "execute_result"
        }
      ],
      "source": [
        "# @title [Potenitally discontinuted] Daily Mail RSS Article Link Scraper - articles not as relevant\n",
        "#don't use this one\n",
        "'''\n",
        "url = 'https://www.dailymail.co.uk/ushome/index.rss'\n",
        "html_page = requests.get(url)\n",
        "soup = BeautifulSoup(html_page.text, \"lxml\")\n",
        "links = []\n",
        "for item in soup.find_all(\"item\"):\n",
        "  link= str(item)\n",
        "  i = link.find(\"<link/>\")\n",
        "  j = link.find(\"<guid\")\n",
        "  x = link[i+7:j]\n",
        "  y = x.split('\\n', 1)[0]\n",
        "  links.append(y)\n",
        "dm_links = links\n",
        "list(set(DailyMail_links).intersection(dm_links))\n",
        "'''"
      ]
    },
    {
      "cell_type": "code",
      "execution_count": null,
      "metadata": {
        "collapsed": true,
        "id": "q5aaCRR07LF0"
      },
      "outputs": [],
      "source": [
        "#Newsweek Article Link Scraper\n",
        "headers = {\"user-agent\": \"Mozilla/5.0\"}\n",
        "#Mozilla/5.0 (Windows NT 10.0; Win64; x64) AppleWebKit/537.36 (KHTML, like Gecko) Chrome/113.0.0.0 Safari/537.36 Edg/113.0.1774.35\n",
        "page = requests.get('https://www.newsweek.com/politics',headers=headers)\n",
        "soup = BeautifulSoup(page.text, 'html.parser')\n",
        "allLinks = []\n",
        "link = \"https://www.newsweek.com/politics\"\n",
        "for link in soup.find_all('a'):\n",
        "    allLinks.append(link.get('href'))\n",
        "allLinks = filter(None, allLinks)\n",
        "linkEnds = [i for i in allLinks if (len(i) > 8 and i[-7] == '1')]\n",
        "# linkEnds = [i for i in allLinks]\n",
        "result = ['https://www.newsweek.com' + i for i in linkEnds]\n",
        "Newsweek_links = set(result)\n",
        "Newsweek_links = list(Newsweek_links)\n",
        "\n",
        "# initial error\n",
        "# print(soup.find_all('body'))\n",
        "# [<body>\n",
        "# <center><h1>403 Forbidden</h1></center>\n",
        "# </body>]\n",
        "\n",
        "# reference: https://stackoverflow.com/questions/40255128/how-to-parse-the-website-using-beautifulsoup\n",
        "# reference: https://www.useragentlist.net/"
      ]
    },
    {
      "cell_type": "code",
      "source": [
        "#Newsweek Article Text Scraper\n",
        "ua = {\"user-agent\": \"Mozilla/5.0\"}\n",
        "links = Newsweek_links\n",
        "artTxt = []\n",
        "for art in links:\n",
        "  article_text = scrape_article_text_useragent(art,ua)\n",
        "  artTxt.append(article_text)\n",
        "Newsweek_artTxt = artTxt\n",
        "\n",
        "#combined headers + pubdate:\n",
        "pubds = []\n",
        "headers = []\n",
        "for h in links:\n",
        "  hp = requests.get(h,headers = ua)\n",
        "  souph = BeautifulSoup(hp.text, 'html.parser')\n",
        "  span = souph.find_all('h1')\n",
        "  header= str(span)\n",
        "  i = header.find(\">\")\n",
        "  j = header.find(\"</h1>\")\n",
        "  x = header[i+1:j]\n",
        "  y = x.split('\\n', 1)[0]\n",
        "  headers.append(y)\n",
        "  span = souph.find_all('time')\n",
        "  pubd = str(span)\n",
        "  i = pubd.find(\"Published\")\n",
        "  j = pubd.find(\"</time>\")\n",
        "  if i == -1:\n",
        "    i = pubd.find(\"Updated\")\n",
        "  x = pubd[i+13:j].lstrip()\n",
        "  y = x.split('\\n', 1)[0]\n",
        "  pubds.append(y)\n",
        "Newsweek_pubds = pubds\n",
        "Newsweek_headers = headers"
      ],
      "metadata": {
        "id": "dKmIhwVFKF46"
      },
      "execution_count": null,
      "outputs": []
    },
    {
      "cell_type": "code",
      "execution_count": null,
      "metadata": {
        "collapsed": true,
        "id": "eAjDWt0X0Vvm"
      },
      "outputs": [],
      "source": [
        "#NBC News Article Link Scraper\n",
        "url = 'https://feeds.nbcnews.com/nbcnews/public/politics'\n",
        "html_page = requests.get(url)\n",
        "soup = BeautifulSoup(html_page.text, \"lxml\")\n",
        "links = []\n",
        "for item in soup.find_all(\"item\"):\n",
        "  link = str(item)\n",
        "  i = link.find(\"<guid>\")\n",
        "  j = link.find(\"</guid\")\n",
        "  x = link[i+6:j]\n",
        "  y = x.split('\\n', 1)[0]\n",
        "  if y[0:4] == 'http':\n",
        "    links.append(y)\n",
        "# probably unnecessary, try adding in if it breaks\n",
        "links = [x for x in links if x != \"https://www.nbcnews.com/\"]\n",
        "# if \"https://www.nbcnews.com/\"  in links:\n",
        "#   links.remove(\"https://www.nbcnews.com/\")\n",
        "NBCNews_links = links\n",
        "\n",
        "artTxt = []\n",
        "for y in NBCNews_links:\n",
        "  article_text = scrape_article_text(y)\n",
        "  artTxt.append(article_text)\n",
        "NBCNews_artTxt = artTxt\n",
        "\n",
        "#NBC Article Header Scraper\n",
        "headers = []\n",
        "pubds = []\n",
        "for item in soup.find_all(\"item\"):\n",
        "  header= str(item)\n",
        "  i = header.find(\"<title>\")\n",
        "  j = header.find(\"</title>\")\n",
        "  x = header[i+7:j]\n",
        "  y = x.split('\\n', 1)[0]\n",
        "  headers.append(y)\n",
        "  pubd= str(item)\n",
        "  i = pubd.find(\"<pubdate>\")\n",
        "  j = pubd.find(\"</pubdate>\")\n",
        "  x = pubd[i+9:j]\n",
        "  y = x.split('\\n', 1)[0]\n",
        "  pubds.append(y)\n",
        "NBCNews_headers = headers\n",
        "NBCNews_pubds = pubds"
      ]
    },
    {
      "cell_type": "code",
      "execution_count": null,
      "metadata": {
        "id": "sqqTbfcM6dJd"
      },
      "outputs": [],
      "source": [
        "#Forbes Article Link Scraper\n",
        "page = requests.get('https://www.forbes.com/topics/politics/')\n",
        "soup = BeautifulSoup(page.text, 'html.parser')\n",
        "allLinks = []\n",
        "link = \"https://www.forbes.com/topics/politics/\"\n",
        "for link in soup.find_all('a'):\n",
        "    allLinks.append(link.get('href'))\n",
        "allLinks = filter(None, allLinks)\n",
        "#all articles contain date (e.g. /2024/09/18)\n",
        "relevantLinks = [i for i in allLinks if '/2' in i]\n",
        "Forbes_links = set(relevantLinks)\n",
        "Forbes_links = list(Forbes_links)"
      ]
    },
    {
      "cell_type": "code",
      "source": [
        "# @title forbes [completed: links, articleTxt, headers, and pubdate]\n",
        "#Forbes Article Text Scraper\n",
        "artTxt = []\n",
        "for art in Forbes_links:\n",
        "  article_text = scrape_article_text(art)\n",
        "  artTxt.append(article_text)\n",
        "Forbes_artTxt = artTxt\n",
        "\n",
        "#combined headers + pubdate:\n",
        "pubds = []\n",
        "headers = []\n",
        "times = []\n",
        "for h in Forbes_links:\n",
        "  hp = requests.get(h)\n",
        "  souph = BeautifulSoup(hp.text, 'html.parser')\n",
        "  span = souph.find_all('h1')\n",
        "  header= str(span)\n",
        "  i = header.find(\">\")\n",
        "  j = header.find(\"</h1>\")\n",
        "  x = header[i+1:j]\n",
        "  y = x.split('\\n', 1)[0]\n",
        "  headers.append(y)\n",
        "  span = souph.find_all('div')\n",
        "  pubd = str(span)\n",
        "  i = pubd.find(\"<time>\")\n",
        "  j = pubd.find(\"</time>\")\n",
        "  # if i == -1:\n",
        "  #   span = souph.find_all('div', class_ = \"top-stories__date\")\n",
        "  #   pubd = str(span)\n",
        "  #   i = pubd.find(\"<time>\")\n",
        "  #   j = pubd.find(\"</time>\")\n",
        "  x = pubd[i:j]\n",
        "  y = x.split('\\n', 1)[0]\n",
        "\n",
        "  span = souph.find_all('span', class_ = 'time')\n",
        "  pubd = str(span)\n",
        "  k = pubd.find(\"<time>\")\n",
        "  l = pubd.find(\"</time>\")\n",
        "  z = pubd[k:l]\n",
        "  t = z.split('\\n', 1)[0]\n",
        "  times.append(t)\n",
        "\n",
        "  pubds.append(y)\n",
        "\n",
        "#this if-statement scares me\n",
        "if len(times) == len(pubds):\n",
        "  Forbes_pubds = [pubds[i] + times[i] for i in range(len(times))]\n",
        "  Forbes_pubds = [i.replace(\"time>\", \"\").replace(\"<\", \"\") for i in Forbes_pubds]\n",
        "Forbes_headers = headers"
      ],
      "metadata": {
        "id": "p7pDo1udyVnF"
      },
      "execution_count": null,
      "outputs": []
    },
    {
      "cell_type": "code",
      "source": [
        "Forbes_links"
      ],
      "metadata": {
        "colab": {
          "base_uri": "https://localhost:8080/"
        },
        "id": "pPm-CHL1_Xrt",
        "outputId": "fa97a8f4-c938-423c-ceab-3b84aaff7dde",
        "collapsed": true
      },
      "execution_count": null,
      "outputs": [
        {
          "output_type": "execute_result",
          "data": {
            "text/plain": [
              "['http://www.forbes.com/sites/arielcohen/2024/11/18/us-coping-out-of-global-climate-leadership/',\n",
              " 'http://www.forbes.com/sites/siladityaray/2024/11/18/fuel-to-the-fire-kremlin-criticizes-us-for-reportedly-letting-ukraine-strike-russia-with-long-range-missiles/',\n",
              " 'http://www.forbes.com/sites/dereksaul/2024/11/18/tesla-stock-rises-7-what-we-know-about-trumps-impact-on-musks-ev-giant/',\n",
              " 'http://www.forbes.com/sites/emilsayegh/2024/11/18/decoding-trumps-tech-and-ai-agenda-innovation-and-policy-impacts/',\n",
              " 'http://www.forbes.com/sites/taxnotes/2024/11/18/kenyas-latest-tax-pitch/',\n",
              " 'http://www.forbes.com/sites/amyfeldman/2024/11/18/clean-energys-cost-edge-could-trump-drill-baby-drill/',\n",
              " 'http://www.forbes.com/sites/phoebeliu/2024/11/18/tech-darling-palantir-mints-two-more-billionaires-in-post-election-surge/',\n",
              " 'http://www.forbes.com/sites/saradorn/2024/11/18/trump-confirms-he-could-use-military-for-deportations-in-national-emergency/',\n",
              " 'http://www.forbes.com/sites/siladityaray/2024/11/18/caroline-kennedy-calls-cousin-rfk-jrs-vaccine-stance-dangerous-in-farewell-speech-as-ambassador-to-australia/',\n",
              " 'http://www.forbes.com/sites/robertwood/2024/11/18/eleven-things-trump--congress-might-do-to-your-taxes/']"
            ]
          },
          "metadata": {},
          "execution_count": 57
        }
      ]
    },
    {
      "cell_type": "code",
      "source": [
        "# @title forbes second try -- nah check on this later why is it changing ? [completed: links, articleTxt, headers, and pubdate]\n",
        "# import time\n",
        "#Forbes Article Text Scraper\n",
        "\n",
        "# artTxt = []\n",
        "# for art in Forbes_links:\n",
        "#   article_text = scrape_article_text(art)\n",
        "#   artTxt.append(article_text)\n",
        "# Forbes_artTxt = artTxt\n",
        "\n",
        "#combined headers + pubdate:\n",
        "pubds = []\n",
        "headers = []\n",
        "# times = []\n",
        "\n",
        "#indices since it seems to be losing its place?\n",
        "# i_h = 0\n",
        "# i_d = 0\n",
        "for h in Forbes_links:\n",
        "  hp = requests.get(h)\n",
        "  souph = BeautifulSoup(hp.text, 'html.parser')\n",
        "  span = souph.find_all('h1')\n",
        "  header= str(span)\n",
        "  i = header.find(\">\")\n",
        "  j = header.find(\"</h1>\")\n",
        "  x = header[i+1:j]\n",
        "  y = x.split('\\n', 1)[0]\n",
        "  headers.append(y)\n",
        "  # span = souph.find_all('div')\n",
        "  # pubd = str(span)\n",
        "  # i = pubd.find(\"<time>\")\n",
        "  # j = pubd.find(\"</time>\")\n",
        "  # i == -1:\n",
        "  span = souph.find_all('div', class_ = \"content-data metrics-text color-body light-text standard-metrics-text\")\n",
        "  pubd = str(span)\n",
        "  # print(span)\n",
        "  i = pubd.find(\"<time>\")\n",
        "  j = pubd.find(\"</div>\")\n",
        "  if i == -1:\n",
        "    span = souph.find_all('span') #, class_ = \"ycHdAQ4U _0th4g\"\n",
        "    pubd = str(span)\n",
        "    print(span)\n",
        "    i = pubd.find(\"\\\">\")\n",
        "    j = pubd.find(\"</span>\")\n",
        "  x = pubd[i:j]\n",
        "  y = x.split('\\n', 1)[0]\n",
        "  y = y.lstrip(\"<time>\").replace(\"</time><span class=\\\"time\\\"><time>\", \" \").rstrip(\"</time></span>\")\n",
        "\n",
        "  # span = souph.find_all('span', class_ = 'time')\n",
        "  # pubd = str(span)\n",
        "  # k = pubd.find(\"<time>\")\n",
        "  # l = pubd.find(\"</time>\")\n",
        "  # z = pubd[k:l]\n",
        "  # t = z.split('\\n', 1)[0]\n",
        "  # times.append(t)\n",
        "\n",
        "  pubds.append(y)\n",
        "  # times[i_d] = t\n",
        "  # pub\n",
        "  # time.sleep(0.1)\n",
        "# print(times)\n",
        "# print(pubds)\n",
        "#this if-statement scares me\n",
        "# if len(times) == len(pubds):\n",
        "#   Forbes_pubds = [pubds[i] + times[i] for i in range(len(times))]\n",
        "#   Forbes_pubds = [i.replace(\"time>\", \"\").replace(\"<\", \"\") for i in Forbes_pubds]\n",
        "# Forbes_headers = headers\n",
        "# print('hi')\n",
        "Forbes_pubds = pubds\n",
        "print(Forbes_pubds)"
      ],
      "metadata": {
        "colab": {
          "base_uri": "https://localhost:8080/"
        },
        "id": "1wXNKT4SAmni",
        "outputId": "d335f108-50bd-4af0-8627-ac9064acd436"
      },
      "execution_count": null,
      "outputs": [
        {
          "output_type": "stream",
          "name": "stdout",
          "text": [
            "[<span class=\"tzX7W8zX\">Subscribe To Newsletters</span>, <span class=\"jyxDkm4x\"><svg class=\"envelope_svg__fs-icon envelope_svg__fs-icon--envelope\" viewbox=\"0 0 15 15\" xmlns=\"http://www.w3.org/2000/svg\"><path clip-rule=\"evenodd\" d=\"M13.667 2c0-.733-.6-1.333-1.333-1.333H1.667C.934.667.334 1.267.334 2v8c0 .733.6 1.333 1.333 1.333h10.667c.733 0 1.333-.6 1.333-1.333V2zm-1.332 0L7 5.333 1.668 2h10.667zm0 8H1.668V3.333l5.333 3.334 5.334-3.334V10z\" fill-rule=\"evenodd\"></path></svg></span>, <span>HERE</span>, <span>Edit Story</span>, <span class=\"_6Q2IDc-r\"><a class=\"isDg-4PG\" data-ga-track=\"breadcrumb-L1\" href=\"https://www.forbes.com/\">Forbes</a></span>, <span class=\"_6Q2IDc-r\"><span class=\"KChd-Vju\" data-testid=\"separator\"><svg class=\"chevron-right_svg__fs-icon chevron-right_svg__fs-icon--chevron-right\" viewbox=\"0 0 24 24\" xmlns=\"http://www.w3.org/2000/svg\"><path d=\"M8.2 7.2L13 12l-4.8 4.8 1.5 1.4L16 12 9.7 5.8z\"></path></svg></span><a class=\"isDg-4PG\" data-ga-track=\"breadcrumb-L2\" href=\"https://www.forbes.com/innovation/\">Innovation</a></span>, <span class=\"KChd-Vju\" data-testid=\"separator\"><svg class=\"chevron-right_svg__fs-icon chevron-right_svg__fs-icon--chevron-right\" viewbox=\"0 0 24 24\" xmlns=\"http://www.w3.org/2000/svg\"><path d=\"M8.2 7.2L13 12l-4.8 4.8 1.5 1.4L16 12 9.7 5.8z\"></path></svg></span>, <span class=\"fs-author-name\"><a aria-label=\"Amy Feldman\" class=\"contrib-link--name remove-underline author-name--tracking color-body\" data-ga-track=\"contrib block byline\" href=\"https://www.forbes.com/sites/amyfeldman/\" title=\"https://www.forbes.com/sites/amyfeldman/\">Amy Feldman</a><div class=\"contrib-label-container\"><span class=\"contrib-byline-type color-body premium-light-text\">Forbes Staff</span></div></span>, <span class=\"contrib-byline-type color-body premium-light-text\">Forbes Staff</span>, <span>Senior editor </span>, <span class=\"fs-author-name\"><a aria-label=\"Alan Ohnsman\" class=\"contrib-link--name remove-underline author-name--tracking color-body\" data-ga-track=\"contrib block byline\" href=\"https://www.forbes.com/sites/alanohnsman/\" title=\"https://www.forbes.com/sites/alanohnsman/\">Alan Ohnsman</a><div class=\"contrib-label-container\"><span class=\"contrib-byline-type color-body premium-light-text\">Forbes Staff</span></div></span>, <span class=\"contrib-byline-type color-body premium-light-text\">Forbes Staff</span>, <span>Senior editor covering cleantech and advanced mobility</span>, <span class=\"time\"><time>07:00am EST</time></span>, <span class=\"screen-reader-text\">Share to Facebook</span>, <span class=\"screen-reader-text\">Share to Twitter</span>, <span class=\"screen-reader-text\">Share to Linkedin</span>, <span class=\"link-embed__info\"><span class=\"link-embed__provider\">Forbes</span><span class=\"link-embed__title\">Why Billionaire Investor Tom Steyer Is Bullish On Clean Energy Under Trump</span><small class=\"link-embed__byline\">By <span class=\"link-embed__author\">Alan Ohnsman</span></small></span>, <span class=\"link-embed__provider\">Forbes</span>, <span class=\"link-embed__title\">Why Billionaire Investor Tom Steyer Is Bullish On Clean Energy Under Trump</span>, <span class=\"link-embed__author\">Alan Ohnsman</span>, <span class=\"link-embed__thumbnail-wrapper\"><span class=\"link-embed__thumbnail allow-inline-style\" style=\"background-image: url(https://specials-images.forbesimg.com/imageserve/67350de1b5258d60ebb09444/0x0.jpg);\"></span></span>, <span class=\"link-embed__thumbnail allow-inline-style\" style=\"background-image: url(https://specials-images.forbesimg.com/imageserve/67350de1b5258d60ebb09444/0x0.jpg);\"></span>, <span class=\"link-embed__info\"><span class=\"link-embed__provider\">Forbes</span><span class=\"link-embed__title\">10 Reasons Why Trump 2.0 Won’t Kill The Green Revolution</span><small class=\"link-embed__byline\">By <span class=\"link-embed__author\">Christopher Helman</span></small></span>, <span class=\"link-embed__provider\">Forbes</span>, <span class=\"link-embed__title\">10 Reasons Why Trump 2.0 Won’t Kill The Green Revolution</span>, <span class=\"link-embed__author\">Christopher Helman</span>, <span class=\"link-embed__thumbnail-wrapper\"><span class=\"link-embed__thumbnail allow-inline-style\" style=\"background-image: url(https://specials-images.forbesimg.com/imageserve/67350b036c3c98b89327f756/0x0.jpg);\"></span></span>, <span class=\"link-embed__thumbnail allow-inline-style\" style=\"background-image: url(https://specials-images.forbesimg.com/imageserve/67350b036c3c98b89327f756/0x0.jpg);\"></span>, <span class=\"link-embed__info\"><span class=\"link-embed__provider\">Forbes</span><span class=\"link-embed__title\">Policy Makers At COP29 Urged To Act On ‘Super Pollutant’ Gases</span><small class=\"link-embed__byline\">By <span class=\"link-embed__author\">Jamie Hailstone</span></small></span>, <span class=\"link-embed__provider\">Forbes</span>, <span class=\"link-embed__title\">Policy Makers At COP29 Urged To Act On ‘Super Pollutant’ Gases</span>, <span class=\"link-embed__author\">Jamie Hailstone</span>, <span class=\"link-embed__thumbnail-wrapper\"><span class=\"link-embed__thumbnail allow-inline-style\" style=\"background-image: url(https://specials-images.forbesimg.com/imageserve/6735db9d5eeed9c660b467f6/960x0.jpg);\"></span></span>, <span class=\"link-embed__thumbnail allow-inline-style\" style=\"background-image: url(https://specials-images.forbesimg.com/imageserve/6735db9d5eeed9c660b467f6/960x0.jpg);\"></span>, <span>Following</span>, <span class=\"emoji\"></span>, <span class=\"comments\">Comments </span>, <span class=\"count content_66fd53528212357b4e45d0f2\"></span>, <span>Read our community guidelines </span>, <span>.</span>]\n",
            "[<span class=\"tzX7W8zX\">Subscribe To Newsletters</span>, <span class=\"jyxDkm4x\"><svg class=\"envelope_svg__fs-icon envelope_svg__fs-icon--envelope\" viewbox=\"0 0 15 15\" xmlns=\"http://www.w3.org/2000/svg\"><path clip-rule=\"evenodd\" d=\"M13.667 2c0-.733-.6-1.333-1.333-1.333H1.667C.934.667.334 1.267.334 2v8c0 .733.6 1.333 1.333 1.333h10.667c.733 0 1.333-.6 1.333-1.333V2zm-1.332 0L7 5.333 1.668 2h10.667zm0 8H1.668V3.333l5.333 3.334 5.334-3.334V10z\" fill-rule=\"evenodd\"></path></svg></span>, <span>HERE</span>, <span class=\"_6Q2IDc-r\"><a class=\"isDg-4PG\" data-ga-track=\"breadcrumb-L1\" href=\"https://www.forbes.com/\">Forbes</a></span>, <span class=\"_6Q2IDc-r\"><span class=\"KChd-Vju\" data-testid=\"separator\"><svg class=\"chevron-right_svg__fs-icon chevron-right_svg__fs-icon--chevron-right\" viewbox=\"0 0 24 24\" xmlns=\"http://www.w3.org/2000/svg\"><path d=\"M8.2 7.2L13 12l-4.8 4.8 1.5 1.4L16 12 9.7 5.8z\"></path></svg></span><a class=\"isDg-4PG\" data-ga-track=\"breadcrumb-L2\" href=\"https://www.forbes.com/worlds-billionaires/\">Billionaires</a></span>, <span class=\"KChd-Vju\" data-testid=\"separator\"><svg class=\"chevron-right_svg__fs-icon chevron-right_svg__fs-icon--chevron-right\" viewbox=\"0 0 24 24\" xmlns=\"http://www.w3.org/2000/svg\"><path d=\"M8.2 7.2L13 12l-4.8 4.8 1.5 1.4L16 12 9.7 5.8z\"></path></svg></span>, <span>Edit Story</span>, <span class=\"fs-author-name\"><a aria-label=\"Phoebe Liu\" class=\"contrib-link--name remove-underline author-name--tracking color-body\" data-ga-track=\"contrib block byline\" href=\"https://www.forbes.com/sites/phoebeliu/\" title=\"https://www.forbes.com/sites/phoebeliu/\">Phoebe Liu</a><div class=\"contrib-label-container\"><span class=\"contrib-byline-type color-body premium-light-text\">Forbes Staff</span></div></span>, <span class=\"contrib-byline-type color-body premium-light-text\">Forbes Staff</span>, <span>Following</span>, <span class=\"time\"><time>06:30am EST</time></span>, <span class=\"link-embed__info\"><span class=\"link-embed__provider\">Forbes</span><span class=\"link-embed__title\">Google Is On The Antitrust Chopping Block, And Trump Probably Won’t Save It</span><small class=\"link-embed__byline\">By <span class=\"link-embed__author\"></span></small></span>, <span class=\"link-embed__provider\">Forbes</span>, <span class=\"link-embed__title\">Google Is On The Antitrust Chopping Block, And Trump Probably Won’t Save It</span>, <span class=\"link-embed__author\"></span>, <span class=\"link-embed__info\"><span class=\"link-embed__provider\">Forbes</span><span class=\"link-embed__title\">Immigrant Tech Workers Scrambling To Secure Visas Ahead Of Trump’s Inauguration</span><small class=\"link-embed__byline\">By <span class=\"link-embed__author\"></span></small></span>, <span class=\"link-embed__provider\">Forbes</span>, <span class=\"link-embed__title\">Immigrant Tech Workers Scrambling To Secure Visas Ahead Of Trump’s Inauguration</span>, <span class=\"link-embed__author\"></span>, <span class=\"link-embed__info\"><span class=\"link-embed__provider\">Forbes</span><span class=\"link-embed__title\">Wall Street Looks Forward To  Less Regulation And Higher Profits</span><small class=\"link-embed__byline\">By <span class=\"link-embed__author\"></span></small></span>, <span class=\"link-embed__provider\">Forbes</span>, <span class=\"link-embed__title\">Wall Street Looks Forward To  Less Regulation And Higher Profits</span>, <span class=\"link-embed__author\"></span>, <span class=\"link-embed__info\"><span class=\"link-embed__provider\">Forbes</span><span class=\"link-embed__title\">Handicapping Trump’s Brain Trust: The New Trumpiverse</span><small class=\"link-embed__byline\">By <span class=\"link-embed__author\"></span></small></span>, <span class=\"link-embed__provider\">Forbes</span>, <span class=\"link-embed__title\">Handicapping Trump’s Brain Trust: The New Trumpiverse</span>, <span class=\"link-embed__author\"></span>, <span class=\"link-embed__info\"><span class=\"link-embed__provider\">Forbes</span><span class=\"link-embed__title\">Here’s What Billionaires Are Saying Online In Response To Trump’s Victory</span><small class=\"link-embed__byline\">By <span class=\"link-embed__author\"></span></small></span>, <span class=\"link-embed__provider\">Forbes</span>, <span class=\"link-embed__title\">Here’s What Billionaires Are Saying Online In Response To Trump’s Victory</span>, <span class=\"link-embed__author\"></span>, <span>Follow me on </span>, <span>Send me a secure <a class=\"color-link\" href=\"https://www.forbes.com/tips/\" rel=\"nofollow noopener noreferrer\" target=\"_blank\">tip</a></span>, <span>Following</span>]\n",
            "['Nov 18, 2024, 09:59am EST', 'Nov 18, 2024, 08:27am EST', 'Nov 18, 2024, 10:07am EST', 'Nov 18, 2024, 07:00am EST', 'Nov 18, 2024, 10:24am EST', '\">Subscribe To Newsletter', '\">Subscribe To Newsletter', 'Nov 18, 2024, 10:19am EST', 'Nov 18, 2024, 06:13am EST', 'Nov 18, 2024, 09:34am EST']\n"
          ]
        }
      ]
    },
    {
      "cell_type": "code",
      "source": [
        "# @title forbes third try -- nah check on this later why is it changing ? [completed: links, articleTxt, headers, and pubdate]\n",
        "# import time\n",
        "#Forbes Article Text Scraper\n",
        "\n",
        "# artTxt = []\n",
        "# for art in Forbes_links:\n",
        "#   article_text = scrape_article_text(art)\n",
        "#   artTxt.append(article_text)\n",
        "# Forbes_artTxt = artTxt\n",
        "\n",
        "#combined headers + pubdate:\n",
        "pubds = []\n",
        "headers = []\n",
        "# times = []\n",
        "\n",
        "#indices since it seems to be losing its place?\n",
        "# i_h = 0\n",
        "# i_d = 0\n",
        "for h in Forbes_links:\n",
        "  hp = requests.get(h)\n",
        "  souph = BeautifulSoup(hp.text, 'html.parser')\n",
        "  span = souph.find_all('h1')\n",
        "  header= str(span)\n",
        "  i = header.find(\">\")\n",
        "  j = header.find(\"</h1>\")\n",
        "  x = header[i+1:j]\n",
        "  y = x.split('\\n', 1)[0]\n",
        "  headers.append(y)\n",
        "  # span = souph.find_all('div')\n",
        "  # pubd = str(span)\n",
        "  # i = pubd.find(\"<time>\")\n",
        "  # j = pubd.find(\"</time>\")\n",
        "  # i == -1:\n",
        "  span = souph.find_all('time')\n",
        "  pubd = str(span)\n",
        "  print(pubd)\n",
        "  i = pubd.find(\"<time>\")\n",
        "  j = pubd.find(\"</time>\")\n",
        "  # if i == -1:\n",
        "  #   span = souph.find_all('span') #, class_ = \"ycHdAQ4U _0th4g\"\n",
        "  #   pubd = str(span)\n",
        "  #   print(span)\n",
        "  #   i = pubd.find(\"\\\">\")\n",
        "  #   j = pubd.find(\"</span>\")\n",
        "  x = pubd[i:j]\n",
        "  y = x.split('\\n', 1)[0]\n",
        "  print(y)\n",
        "  # y = y.lstrip(\"<time>\").replace(\"</time><span class=\\\"time\\\"><time>\", \" \").rstrip(\"</time></span>\")\n",
        "\n",
        "  # span = souph.find_all('span', class_ = 'time')\n",
        "  # pubd = str(span)\n",
        "  # k = pubd.find(\"<time>\")\n",
        "  # l = pubd.find(\"</time>\")\n",
        "  # z = pubd[k:l]\n",
        "  # t = z.split('\\n', 1)[0]\n",
        "  # times.append(t)\n",
        "\n",
        "  pubds.append(y)\n",
        "  # times[i_d] = t\n",
        "  # pub\n",
        "  # time.sleep(0.1)\n",
        "# print(times)\n",
        "# print(pubds)\n",
        "#this if-statement scares me\n",
        "# if len(times) == len(pubds):\n",
        "#   Forbes_pubds = [pubds[i] + times[i] for i in range(len(times))]\n",
        "#   Forbes_pubds = [i.replace(\"time>\", \"\").replace(\"<\", \"\") for i in Forbes_pubds]\n",
        "# Forbes_headers = headers\n",
        "# print('hi')\n",
        "Forbes_pubds = pubds\n",
        "\n",
        "# print(Forbes_pubds)"
      ],
      "metadata": {
        "colab": {
          "base_uri": "https://localhost:8080/"
        },
        "id": "z3KgcphpOgeF",
        "outputId": "9b09a4dc-f061-4cad-fa19-f7a7b6990a2b"
      },
      "execution_count": null,
      "outputs": [
        {
          "output_type": "stream",
          "name": "stdout",
          "text": [
            "[<time>Nov 14, 2024,</time>, <time>03:18pm EST</time>, <time>Nov 17, 2024,</time>, <time>12:00pm EST</time>, <time>Nov 17, 2024,</time>, <time>07:00am EST</time>, <time>Nov 15, 2024,</time>, <time>08:47am EST</time>, <time>Nov 15, 2024,</time>, <time>08:20am EST</time>, <time>Nov 14, 2024,</time>, <time>01:50pm EST</time>, <time>Nov 14, 2024,</time>, <time>06:30am EST</time>, <time>Nov 13, 2024,</time>, <time>11:28am EST</time>, <time>Nov 18, 2024,</time>, <time>09:59am EST</time>]\n",
            "<time>Nov 14, 2024,\n",
            "[<time>Nov 18, 2024,</time>, <time>08:27am EST</time>]\n",
            "<time>Nov 18, 2024,\n",
            "[<time>Nov 18, 2024,</time>, <time>10:07am EST</time>]\n",
            "<time>Nov 18, 2024,\n",
            "[<time>Nov 17, 2024,</time>, <time>06:00am EST</time>, <time>Nov 18, 2024,</time>, <time>05:39am EST</time>, <time>Nov 18, 2024,</time>, <time>04:49am EST</time>, <time>Nov 18, 2024,</time>, <time>12:54am EST</time>, <time>Nov 18, 2024,</time>, <time>12:31am EST</time>, <time>Nov 17, 2024,</time>, <time>04:11pm EST</time>, <time>Nov 17, 2024,</time>, <time>09:43am EST</time>, <time>Nov 17, 2024,</time>, <time>06:47am EST</time>, <time>Nov 18, 2024,</time>, <time>07:00am EST</time>]\n",
            "<time>Nov 17, 2024,\n",
            "[<time>Nov 15, 2024,</time>, <time>09:45am EST</time>, <time>Nov 18, 2024,</time>, <time>09:34am EST</time>, <time>Nov 16, 2024,</time>, <time>10:00am EST</time>, <time>Nov 16, 2024,</time>, <time>07:30am EST</time>, <time>Nov 15, 2024,</time>, <time>02:20pm EST</time>, <time>Nov 15, 2024,</time>, <time>07:30am EST</time>, <time>Nov 14, 2024,</time>, <time>10:48am EST</time>, <time>Nov 14, 2024,</time>, <time>08:35am EST</time>, <time>Nov 18, 2024,</time>, <time>10:24am EST</time>]\n",
            "<time>Nov 15, 2024,\n",
            "[<time>Nov 18, 2024,</time>, <time>07:00am EST</time>]\n",
            "<time>Nov 18, 2024,\n",
            "[<time>Nov 18, 2024,</time>, <time>06:30am EST</time>]\n",
            "<time>Nov 18, 2024,\n",
            "[<time>Nov 18, 2024,</time>, <time>10:19am EST</time>]\n",
            "<time>Nov 18, 2024,\n",
            "[<time>Nov 18, 2024,</time>, <time>06:13am EST</time>]\n",
            "<time>Nov 18, 2024,\n",
            "[<time>Nov 15, 2024,</time>, <time>01:00am EST</time>, <time>Nov 16, 2024,</time>, <time>10:00am EST</time>, <time>Nov 16, 2024,</time>, <time>07:30am EST</time>, <time>Nov 15, 2024,</time>, <time>02:20pm EST</time>, <time>Nov 15, 2024,</time>, <time>07:30am EST</time>, <time>Nov 14, 2024,</time>, <time>10:48am EST</time>, <time>Nov 14, 2024,</time>, <time>08:35am EST</time>, <time>Nov 14, 2024,</time>, <time>12:38am EST</time>, <time>Nov 18, 2024,</time>, <time>09:34am EST</time>]\n",
            "<time>Nov 15, 2024,\n"
          ]
        }
      ]
    },
    {
      "cell_type": "code",
      "source": [
        "pubds"
      ],
      "metadata": {
        "colab": {
          "base_uri": "https://localhost:8080/"
        },
        "id": "sMzaER_MPuq2",
        "outputId": "a8526f84-b5e2-405a-9b00-055bb0043dea"
      },
      "execution_count": null,
      "outputs": [
        {
          "output_type": "execute_result",
          "data": {
            "text/plain": [
              "['<time>Nov 14, 2024,',\n",
              " '<time>Nov 18, 2024,',\n",
              " '<time>Nov 18, 2024,',\n",
              " '<time>Nov 17, 2024,',\n",
              " '<time>Nov 15, 2024,',\n",
              " '<time>Nov 18, 2024,',\n",
              " '<time>Nov 18, 2024,',\n",
              " '<time>Nov 18, 2024,',\n",
              " '<time>Nov 18, 2024,',\n",
              " '<time>Nov 15, 2024,']"
            ]
          },
          "metadata": {},
          "execution_count": 69
        }
      ]
    },
    {
      "cell_type": "code",
      "source": [
        "print(Forbes_pubds)"
      ],
      "metadata": {
        "colab": {
          "base_uri": "https://localhost:8080/"
        },
        "id": "8D48Yb8QO2Br",
        "outputId": "4ec2a469-de25-45b4-8bfc-c3de480c6bd9"
      },
      "execution_count": null,
      "outputs": [
        {
          "output_type": "stream",
          "name": "stdout",
          "text": [
            "['<time>Nov 14, 2024,', '<time>Nov 18, 2024,', '<time>Nov 18, 2024,', '', '<time>Nov 15, 2024,', '<time>Nov 18, 2024,', '<time>Nov 18, 2024,', '<time>Nov 18, 2024,', '<time>Nov 18, 2024,', '<time>Nov 15, 2024,']\n"
          ]
        }
      ]
    },
    {
      "cell_type": "code",
      "source": [
        "Forbes_links"
      ],
      "metadata": {
        "id": "nJxUFaJu7huq",
        "outputId": "13a40000-aa40-4166-e5cf-feb58d3b7fe1",
        "colab": {
          "base_uri": "https://localhost:8080/"
        },
        "collapsed": true
      },
      "execution_count": null,
      "outputs": [
        {
          "output_type": "execute_result",
          "data": {
            "text/plain": [
              "['http://www.forbes.com/sites/arielcohen/2024/11/18/us-coping-out-of-global-climate-leadership/',\n",
              " 'http://www.forbes.com/sites/siladityaray/2024/11/18/fuel-to-the-fire-kremlin-criticizes-us-for-reportedly-letting-ukraine-strike-russia-with-long-range-missiles/',\n",
              " 'http://www.forbes.com/sites/dereksaul/2024/11/18/tesla-stock-rises-7-what-we-know-about-trumps-impact-on-musks-ev-giant/',\n",
              " 'http://www.forbes.com/sites/emilsayegh/2024/11/18/decoding-trumps-tech-and-ai-agenda-innovation-and-policy-impacts/',\n",
              " 'http://www.forbes.com/sites/taxnotes/2024/11/18/kenyas-latest-tax-pitch/',\n",
              " 'http://www.forbes.com/sites/amyfeldman/2024/11/18/clean-energys-cost-edge-could-trump-drill-baby-drill/',\n",
              " 'http://www.forbes.com/sites/phoebeliu/2024/11/18/tech-darling-palantir-mints-two-more-billionaires-in-post-election-surge/',\n",
              " 'http://www.forbes.com/sites/saradorn/2024/11/18/trump-confirms-he-could-use-military-for-deportations-in-national-emergency/',\n",
              " 'http://www.forbes.com/sites/siladityaray/2024/11/18/caroline-kennedy-calls-cousin-rfk-jrs-vaccine-stance-dangerous-in-farewell-speech-as-ambassador-to-australia/',\n",
              " 'http://www.forbes.com/sites/robertwood/2024/11/18/eleven-things-trump--congress-might-do-to-your-taxes/']"
            ]
          },
          "metadata": {},
          "execution_count": 67
        }
      ]
    },
    {
      "cell_type": "code",
      "source": [
        "# len(Forbes_artTxt)\n",
        "Forbes_headers\n",
        "# len(Forbes_links)"
      ],
      "metadata": {
        "colab": {
          "base_uri": "https://localhost:8080/"
        },
        "id": "DIlKqfxcyxeh",
        "outputId": "997ed02d-a83d-44ac-98b6-aa6c2a148b02",
        "collapsed": true
      },
      "execution_count": null,
      "outputs": [
        {
          "output_type": "execute_result",
          "data": {
            "text/plain": [
              "['What Is The Price Of Morality, A Political Tragedy Of The Commons',\n",
              " 'President Trump’s First Energy Move',\n",
              " 'Republicans Only Four Seats Away From House Control—But Key Races Too Close To Call',\n",
              " \"Will Intel's Trump-Fuelled Rally Continue After 14% Jump?\",\n",
              " 'COP29: Asserting American Energy Leadership Amid Change',\n",
              " \"Bitcoin Surges Following Trump's Presidential Win—But Where Are The Healthcare Altcoins?\",\n",
              " 'Your Student Loan Payments May Go Up In 2025 As Loan Forgiveness Paths Narrow',\n",
              " 'Running Of The Bulls',\n",
              " 'How To Handle Political Discussion — And Emotions — In The Workplace',\n",
              " 'Elon Musk Now $50 Billion Richer Post-Election As Tesla Stock Up Another 7%']"
            ]
          },
          "metadata": {},
          "execution_count": 53
        }
      ]
    },
    {
      "cell_type": "code",
      "execution_count": null,
      "metadata": {
        "id": "h-PrNyR79Kao"
      },
      "outputs": [],
      "source": [
        "#AP News Article Link Scraper\n",
        "page = requests.get('https://apnews.com/politics')\n",
        "soup = BeautifulSoup(page.text, 'html.parser')\n",
        "allLinks = []\n",
        "link = \"https://apnews.com/politics\"\n",
        "for link in soup.find_all('a'):\n",
        "    allLinks.append(link.get('href'))\n",
        "allLinks = filter(None, allLinks)\n",
        "relevantLinks = [i for i in allLinks if '/article' in i]\n",
        "APNews_links = set(relevantLinks)\n",
        "APNews_links = list(APNews_links)"
      ]
    },
    {
      "cell_type": "code",
      "source": [
        "APNews_links"
      ],
      "metadata": {
        "collapsed": true,
        "colab": {
          "base_uri": "https://localhost:8080/"
        },
        "id": "oSkvr5G6SxdP",
        "outputId": "9999d0fa-e653-4df2-9427-8992a172f9d7"
      },
      "execution_count": null,
      "outputs": [
        {
          "output_type": "execute_result",
          "data": {
            "text/plain": [
              "['https://apnews.com/article/arizona-house-schweikert-shah-congress-election-2024-d9074746d0ec216131127d223d9552f1',\n",
              " 'https://apnews.com/article/mexico-donald-trump-threats-tariffs-border-closing-deportations-b9f11e55911613cf72ac1d5695bba5ec',\n",
              " 'https://apnews.com/article/arizona-election-curing-deadline-extension-f107a94e9a90fb8120e6cf7e066a6428',\n",
              " 'https://apnews.com/article/europe-us-trump-lithuania-defense-minister-kasciunas-e3cfbf4d56a69433790b6ceaa6ef947f',\n",
              " 'https://apnews.com/article/paris-agreementclimate-changedonald-trump-a89bdade10242cd69a03c7be544a09b8',\n",
              " 'https://apnews.com/article/arizona-election-curing-deadline-extension-648adc7d3a0439eec756f4cf2e6eb10d',\n",
              " 'https://apnews.com/article/trump-biden-white-house-meeting-awkward-obama-6ad7c112e2e1af6ff4fe2ebb4117eef5',\n",
              " 'https://apnews.com/article/economy-trump-inflation-prices-election-tariffs-immigrants-e791d15158195a8a15a71ee43c77d749',\n",
              " 'https://apnews.com/article/arizona-house-crane-nez-congress-election-2024-6b00c449926594fdb5da3cde6f5855f1',\n",
              " 'https://apnews.com/article/young-black-latino-men-trump-economy-jobs-9184ca85b1651f06fd555ab2df7982b5',\n",
              " 'https://apnews.com/article/trump-us-vucic-serbia-election-balkans-kushner-1a0cabc9d5f4ed2fb1bf50d2bbe1777b',\n",
              " 'https://apnews.com/article/army-recruits-prep-course-soldiers-e161c892b92138999b01ae5ea6650b92',\n",
              " 'https://apnews.com/article/biden-trump-oval-office-meeting-0f804df19b84c1c19bb19086ed283b92',\n",
              " 'https://apnews.com/article/trump-immunity-hush-money-merchan-stormy-daniels-02e54baf65b233ad7f6875536fb998ea',\n",
              " 'https://apnews.com/article/louisiana-special-session-tax-income-corporate-landry-ac35068035188747498351e9d29c2ba0',\n",
              " 'https://apnews.com/article/trump-day-1-priorities-deportations-drilling-ukraine-6747c6e64b0440978f59450b928f61d1',\n",
              " 'https://apnews.com/article/small-business-veterans-day-loans-7d86ae810928bb5b8a8bc598c395d93e',\n",
              " 'https://apnews.com/article/trump-key-people-transition-election-93605a3ffa9f929cb1b74fde7f1ee877',\n",
              " 'https://apnews.com/article/guantanamo-911-pentagon-pleas-khalid-sheikh-mohammed-5eaec86cfb1f855951e4581b4512a323',\n",
              " 'https://apnews.com/article/hispanic-voters-trump-florida-texas-pennsylvania-democrats-3637d86dede99e36f35d725afabdcba1',\n",
              " 'https://apnews.com/article/marie-gluesenkamp-perez-washington-congressional-race-706bfe6f8d69d50e310bd60aeba050bf',\n",
              " 'https://apnews.com/article/trump-senate-thune-cornyn-scott-republican-leadership-2a711f260887926676bb5d69866a1981',\n",
              " 'https://apnews.com/article/california-newsom-charitable-donation-fine-report-7421050b54579ee3f9f68b16f5824d82',\n",
              " 'https://apnews.com/article/jackson-mississippi-mayor-lumumba-bribery-indictment-c6050720bc72e4866db7fbe2d0250b1d',\n",
              " 'https://apnews.com/article/maine-ranked-voting-congressional-race-golden-theriault-d87048fe215282d020295d95a491b0a5',\n",
              " 'https://apnews.com/article/maricopa-county-recorder-arizona-election-73a8c98f977568e677dd5773ca341c1c',\n",
              " 'https://apnews.com/article/california-proposition-6-defeat-forced-labor-f07b8976c38a1177542eb923d1106636',\n",
              " 'https://apnews.com/article/democracy-harris-trump-threats-authoritarianism-election-2024-56b4eb981f34f3e60aec1e45a67fc8a2',\n",
              " 'https://apnews.com/article/trump-stephen-miller-policy-immigration-9cc6ad3118779b23bff88022ca5e2260',\n",
              " 'https://apnews.com/article/fema-worker-fired-hurricane-trump-b8b889764260090ad81b51f72cb1485e',\n",
              " 'https://apnews.com/article/service-dogs-veterans-ptsd-4b9e73723549d1c7f25a1b7b8dc249d1',\n",
              " 'https://apnews.com/article/maryland-house-election-2024-delaney-parrott-97c6100d9881014e8c56a5c39d858e59',\n",
              " 'https://apnews.com/article/wisconsin-supreme-court-abortion-lawsuit-arguments-09ef69db3e0ef6117b3cf059f4a01a26',\n",
              " 'https://apnews.com/article/trump-inauguration-8d90aacdb40a461214c828abac53e916',\n",
              " 'https://apnews.com/article/trump-harris-arab-americans-michigan-dearborn-aea96b9161a77de1fa47d668e23edb98',\n",
              " 'https://apnews.com/article/trump-united-nations-elise-stefanik-ambassador-2b482fb39a8d6f03d389d27cc8820056',\n",
              " 'https://apnews.com/article/trump-homan-ice-border-czar-7dea915b5ea43896390b8020d254f887',\n",
              " 'https://apnews.com/article/ap-votecast-2020-election-2024-election-biden-trump-harris-f8e35d86efcea67c1eb6713b62c35546',\n",
              " 'https://apnews.com/article/nevada-senate-election-race-2024-f6646cfc6bdfb00d78897322cd25ae44',\n",
              " 'https://apnews.com/article/trump-offshore-wind-energy-4e5b18ecd4799cc4cfd8cd7dc7b326ee']"
            ]
          },
          "metadata": {},
          "execution_count": 56
        }
      ]
    },
    {
      "cell_type": "code",
      "source": [
        "# @title APNews [not completed: pubdate] -- should use the unix timestamp, not this\n",
        "# try this: https://stackoverflow.com/questions/3682748/converting-unix-timestamp-string-to-readable-date\n",
        "\n",
        "#AP News Article Text Scraper\n",
        "# artTxt = []\n",
        "# for art in APNews_links:\n",
        "#   article_text = scrape_article_text(art)\n",
        "#   artTxt.append(article_text)\n",
        "# APNews_artTxt = artTxt\n",
        "\n",
        "#combined headers + pubdate:\n",
        "#span data-date\n",
        "pubds = []\n",
        "headers = []\n",
        "for h in APNews_links:\n",
        "  hp = requests.get(h)\n",
        "  souph = BeautifulSoup(hp.text, 'html.parser')\n",
        "  # span = souph.find_all('h1')\n",
        "  # header= str(span)\n",
        "  # i = header.find(\">\")\n",
        "  # j = header.find(\"</h1>\")\n",
        "  # x = header[i+1:j]\n",
        "  # y = x.split('\\n', 1)[0]\n",
        "  # headers.append(y)\n",
        "  span = souph.find_all('div', class_=\"Page-dateModified\")\n",
        "  pubd = str(span)\n",
        "  # print(span)\n",
        "  i = pubd.find(\"Updated\")\n",
        "  j = pubd.find(\"</template>\")\n",
        "  # if i == -1:\n",
        "  #   i = pubd.find(\"Updated\")\n",
        "  x = pubd[i:j].lstrip()\n",
        "  y = x.split('\\n', 1)[0]\n",
        "  print(y)\n",
        "  pubds.append(y)\n",
        "APNews_pubds = pubds\n",
        "APNews_headers = headers"
      ],
      "metadata": {
        "id": "BFeEtV17BmTN",
        "colab": {
          "base_uri": "https://localhost:8080/"
        },
        "collapsed": true,
        "outputId": "147402af-67e0-4319-dcd1-ab39e634a023"
      },
      "execution_count": null,
      "outputs": [
        {
          "output_type": "stream",
          "name": "stdout",
          "text": [
            "Updated [hour]:[minute] [AMPM] [timezone], [monthFull] [day], [year]\n",
            "Updated [hour]:[minute] [AMPM] [timezone], [monthFull] [day], [year]\n",
            "Updated [hour]:[minute] [AMPM] [timezone], [monthFull] [day], [year]\n",
            "Updated [hour]:[minute] [AMPM] [timezone], [monthFull] [day], [year]\n",
            "Updated [hour]:[minute] [AMPM] [timezone], [monthFull] [day], [year]\n",
            "Updated [hour]:[minute] [AMPM] [timezone], [monthFull] [day], [year]\n",
            "Updated [hour]:[minute] [AMPM] [timezone], [monthFull] [day], [year]\n",
            "Updated [hour]:[minute] [AMPM] [timezone], [monthFull] [day], [year]\n",
            "Updated [hour]:[minute] [AMPM] [timezone], [monthFull] [day], [year]\n",
            "Updated [hour]:[minute] [AMPM] [timezone], [monthFull] [day], [year]\n",
            "Updated [hour]:[minute] [AMPM] [timezone], [monthFull] [day], [year]\n",
            "Updated [hour]:[minute] [AMPM] [timezone], [monthFull] [day], [year]\n",
            "Updated [hour]:[minute] [AMPM] [timezone], [monthFull] [day], [year]\n",
            "Updated [hour]:[minute] [AMPM] [timezone], [monthFull] [day], [year]\n",
            "Updated [hour]:[minute] [AMPM] [timezone], [monthFull] [day], [year]\n",
            "Updated [hour]:[minute] [AMPM] [timezone], [monthFull] [day], [year]\n",
            "Updated [hour]:[minute] [AMPM] [timezone], [monthFull] [day], [year]\n",
            "Updated [hour]:[minute] [AMPM] [timezone], [monthFull] [day], [year]\n",
            "Updated [hour]:[minute] [AMPM] [timezone], [monthFull] [day], [year]\n",
            "Updated [hour]:[minute] [AMPM] [timezone], [monthFull] [day], [year]\n",
            "Updated [hour]:[minute] [AMPM] [timezone], [monthFull] [day], [year]\n",
            "Updated [hour]:[minute] [AMPM] [timezone], [monthFull] [day], [year]\n",
            "Updated [hour]:[minute] [AMPM] [timezone], [monthFull] [day], [year]\n",
            "Updated [hour]:[minute] [AMPM] [timezone], [monthFull] [day], [year]\n",
            "Updated [hour]:[minute] [AMPM] [timezone], [monthFull] [day], [year]\n",
            "Updated [hour]:[minute] [AMPM] [timezone], [monthFull] [day], [year]\n",
            "Updated [hour]:[minute] [AMPM] [timezone], [monthFull] [day], [year]\n",
            "Updated [hour]:[minute] [AMPM] [timezone], [monthFull] [day], [year]\n",
            "Updated [hour]:[minute] [AMPM] [timezone], [monthFull] [day], [year]\n",
            "Updated [hour]:[minute] [AMPM] [timezone], [monthFull] [day], [year]\n",
            "Updated [hour]:[minute] [AMPM] [timezone], [monthFull] [day], [year]\n",
            "Updated [hour]:[minute] [AMPM] [timezone], [monthFull] [day], [year]\n",
            "Updated [hour]:[minute] [AMPM] [timezone], [monthFull] [day], [year]\n",
            "Updated [hour]:[minute] [AMPM] [timezone], [monthFull] [day], [year]\n",
            "Updated [hour]:[minute] [AMPM] [timezone], [monthFull] [day], [year]\n",
            "Updated [hour]:[minute] [AMPM] [timezone], [monthFull] [day], [year]\n",
            "Updated [hour]:[minute] [AMPM] [timezone], [monthFull] [day], [year]\n",
            "Updated [hour]:[minute] [AMPM] [timezone], [monthFull] [day], [year]\n",
            "Updated [hour]:[minute] [AMPM] [timezone], [monthFull] [day], [year]\n",
            "Updated [hour]:[minute] [AMPM] [timezone], [monthFull] [day], [year]\n"
          ]
        }
      ]
    },
    {
      "cell_type": "code",
      "source": [
        "APNews_pubds"
      ],
      "metadata": {
        "colab": {
          "base_uri": "https://localhost:8080/"
        },
        "collapsed": true,
        "id": "nFkuZmUGCnEy",
        "outputId": "2c21ce9b-54a6-4b57-cd2a-cb31aaa5783f"
      },
      "execution_count": null,
      "outputs": [
        {
          "output_type": "execute_result",
          "data": {
            "text/plain": [
              "['',\n",
              " '',\n",
              " '',\n",
              " '',\n",
              " '',\n",
              " '',\n",
              " '',\n",
              " '',\n",
              " '',\n",
              " '',\n",
              " '',\n",
              " '',\n",
              " '',\n",
              " '',\n",
              " '',\n",
              " '',\n",
              " '',\n",
              " '',\n",
              " '',\n",
              " '',\n",
              " '',\n",
              " '',\n",
              " '',\n",
              " '',\n",
              " '',\n",
              " '',\n",
              " '',\n",
              " '',\n",
              " '',\n",
              " '',\n",
              " '',\n",
              " '',\n",
              " '',\n",
              " '',\n",
              " '',\n",
              " '',\n",
              " '',\n",
              " '',\n",
              " '',\n",
              " '']"
            ]
          },
          "metadata": {},
          "execution_count": 71
        }
      ]
    },
    {
      "cell_type": "code",
      "execution_count": null,
      "metadata": {
        "id": "toTEFXAk_VlT"
      },
      "outputs": [],
      "source": [
        "# @title BBC [not completed: pubdate -> seems to be in \"days ago\" rather than numeric date, check for real date\"]\n",
        "# get time and date convert in est (pytz library)\n",
        "  # -> time since article published and current time stamp\n",
        "\n",
        "#BBC Article Link Scraper\n",
        "#via U.S. Politics page\n",
        "page = requests.get('https://www.bbc.com/news/topics/cwnpxwzd269t')\n",
        "soup = BeautifulSoup(page.text, 'html.parser')\n",
        "allLinks = []\n",
        "link = \"https://www.bbc.com/news/topics/cwnpxwzd269t\"\n",
        "for link in soup.find_all('a'):\n",
        "    allLinks.append(link.get('href'))\n",
        "allLinks = filter(None, allLinks)\n",
        "linkEnds = [i for i in allLinks if '/article' in i]\n",
        "result = ['https://www.bbc.com' + i for i in linkEnds]\n",
        "BBC_links = set(result)\n",
        "BBC_links = list(BBC_links)"
      ]
    },
    {
      "cell_type": "code",
      "source": [
        "BBC_links"
      ],
      "metadata": {
        "colab": {
          "base_uri": "https://localhost:8080/"
        },
        "collapsed": true,
        "id": "aCOx0C0mF84R",
        "outputId": "ec32f0c6-36e1-474c-d6d9-3c6c1103bb7a"
      },
      "execution_count": null,
      "outputs": [
        {
          "output_type": "execute_result",
          "data": {
            "text/plain": [
              "['https://www.bbc.com/news/articles/cwy343z53l1o',\n",
              " 'https://www.bbc.com/news/articles/cde7ng85jwgo',\n",
              " 'https://www.bbc.com/news/articles/cj4vn0qxy0lo',\n",
              " 'https://www.bbc.com/news/articles/cm20d70j4r3o',\n",
              " 'https://www.bbc.com/news/articles/cly2d4evq5po',\n",
              " 'https://www.bbc.com/news/articles/ce3y0y15kpyo',\n",
              " 'https://www.bbc.com/news/articles/cj4x71znwxdo',\n",
              " 'https://www.bbc.com/news/articles/cwy1ekqpy00o']"
            ]
          },
          "metadata": {},
          "execution_count": 6
        }
      ]
    },
    {
      "cell_type": "code",
      "source": [
        "#BBC Article Text Scraper\n",
        "artTxt = []\n",
        "for art in BBC_links:\n",
        "  article_text = scrape_article_text(art)\n",
        "  artTxt.append(article_text)\n",
        "BBC_artTxt = artTxt\n",
        "\n",
        "#combined headers + pubdate:\n",
        "pubds = []\n",
        "headers = []\n",
        "for h in BBC_links:\n",
        "  hp = requests.get(h)\n",
        "  souph = BeautifulSoup(hp.text, 'html.parser')\n",
        "  span = souph.find_all('h1')\n",
        "  header= str(span)\n",
        "  i = header.find(\">\")\n",
        "  j = header.find(\"<!\")\n",
        "  x = header[i+1:j]\n",
        "  y = x.split('\\n', 1)[0]\n",
        "  headers.append(y)\n",
        "  span = souph.find_all('div')\n",
        "  pubd = str(span)\n",
        "  i = pubd.find(\"<time\")\n",
        "  j = pubd.find(\"</time>\")\n",
        "  # if i == -1:\n",
        "  #   i = pubd.find(\"Updated\")\n",
        "  x = pubd[i+10:j].lstrip()\n",
        "  y = x.split('\\n', 1)[0]\n",
        "  pubds.append(y)\n",
        "BBC_pubds = pubds\n",
        "BBC_headers = headers"
      ],
      "metadata": {
        "id": "DdxghjjzFNhU"
      },
      "execution_count": null,
      "outputs": []
    },
    {
      "cell_type": "code",
      "execution_count": null,
      "metadata": {
        "colab": {
          "base_uri": "https://localhost:8080/"
        },
        "id": "rpyYilP8BCus",
        "outputId": "79d52373-5e35-4c0e-b130-c39d14849b79",
        "collapsed": true
      },
      "outputs": [
        {
          "output_type": "execute_result",
          "data": {
            "text/plain": [
              "['https://www.washingtonpost.com//politics/2024/11/04/gop-health-election-strategy/?itid=mr_politics_2',\n",
              " 'https://www.washingtonpost.com/politics/2024/11/04/so-whats-up-with-that-iowa-poll-few-scenarios/',\n",
              " 'https://www.washingtonpost.com/politics/2024/10/31/polls-show-harris-with-big-early-vote-lead-despite-gop-gains/',\n",
              " 'https://www.washingtonpost.com/discussions/2021/01/01/rss-terms-service/',\n",
              " 'https://www.washingtonpost.com//elections/interactive/2024/presidential-polling-averages/?itid=mr_politics_4',\n",
              " 'https://www.washingtonpost.com/information/2020/11/20/terms-sale-print-products/',\n",
              " 'https://www.washingtonpost.com//politics/2024/11/03/polls-kamala-harris-donald-trump-polling-error/?itid=mr_politics_1',\n",
              " 'https://www.washingtonpost.com/politics/2024/11/01/presidential-election-results-scenarios-trump-harris/',\n",
              " 'https://www.washingtonpost.com/politics/2024/11/04/atlanta-suburbs-trump-harris-forsyth-county/',\n",
              " 'https://www.washingtonpost.com/politics/2024/10/30/they-tried-prove-trumps-fraud-claims-they-failed-got-trouble/',\n",
              " 'https://www.washingtonpost.com/politics/2024/11/04/washington-post-election-results-2024-explained/',\n",
              " 'https://www.washingtonpost.com/politics/2024/11/04/post-pulse-election-results-model-2024/',\n",
              " 'https://www.washingtonpost.com/politics/2024/11/04/trump-cheating-fraud-election-violence/',\n",
              " 'https://www.washingtonpost.com/elections/2024/11/04/can-harris-win-election/',\n",
              " 'https://www.washingtonpost.com/politics/2024/10/28/can-independent-dan-osborn-win-nebraska-would-it-matter/',\n",
              " 'https://www.washingtonpost.com//politics/2024/11/04/trump-harris-voters-election-america-divided/?itid=mr_politics_5',\n",
              " 'https://www.washingtonpost.com//politics/2024/11/04/election-results-timing/?itid=mr_politics_3',\n",
              " 'https://www.washingtonpost.com/politics/2024/11/04/election-results-timing/',\n",
              " 'https://www.washingtonpost.com/discussions/2021/11/23/discussion-submission-guidelines/',\n",
              " 'https://www.washingtonpost.com/elections/2024/10/29/poll-close-times/',\n",
              " 'https://www.washingtonpost.com/politics/2024/11/04/cochise-county-arizona-election-certification/',\n",
              " 'https://www.washingtonpost.com/discussions/2021/05/13/vulnerability-disclosure-policy/',\n",
              " 'https://www.washingtonpost.com/information/2022/06/17/terms-sale-digital-products/',\n",
              " 'https://www.washingtonpost.com/politics/2024/11/04/pennsylvania-election-ballots-disqualified/',\n",
              " 'https://www.washingtonpost.com/elections/2024/11/04/trump-harris-foreign-policy-us-american-election/',\n",
              " 'https://www.washingtonpost.com/politics/2024/11/01/trumps-latest-violent-fantasy/',\n",
              " 'https://www.washingtonpost.com/information/2022/01/01/ad-choices/',\n",
              " 'https://www.washingtonpost.com/politics/2024/11/04/trump-harris-voters-election-america-divided/',\n",
              " 'https://www.washingtonpost.com/politics/2024/10/30/biden-garbage-comment-trump-supporters/',\n",
              " 'https://www.washingtonpost.com/elections/2024/11/04/trump-harris-election-live-updates/',\n",
              " 'https://www.washingtonpost.com/politics/2024/11/04/can-trump-win-election/',\n",
              " 'https://www.washingtonpost.com/politics/2024/11/03/trump-harris-election-live-updates/',\n",
              " 'https://www.washingtonpost.com/politics/2024/11/04/final-gop-push-pennsylvania-focuses-imaginary-voters-over-real-ones/',\n",
              " 'https://www.washingtonpost.com/politics/2024/11/04/puerto-rican-vote-garbage-trump-rally-pennsylvania/',\n",
              " 'https://www.washingtonpost.com/politics/2024/11/04/gop-health-election-strategy/',\n",
              " 'https://www.washingtonpost.com/politics/2024/11/04/trump-criminal-cases-election/',\n",
              " 'https://www.washingtonpost.com/politics/2024/11/04/hurricane-election-voting-north-carolina/']"
            ]
          },
          "metadata": {},
          "execution_count": 8
        }
      ],
      "source": [
        "#Washington Post Article Link Scraper - in progress\n",
        "headers = {'User-Agent':'Mozilla/5.0 (Macintosh; Intel Mac OS X 10_11_2) AppleWebKit/601.3.9 (KHTML, like Gecko) Version/9.0.2 Safari/601.3.9'}\n",
        "#headers = {\"user-agent\": \"Mozilla/5.0 (compatible; Googlebot/2.1; +http://www.google.com/bot.html)\"}\n",
        "#headers = {\"user-agent\": \"Mozilla/5.0 (compatible; Googlebot/2.1; +http://www.google.com/bot.html)\"}\n",
        "#User-Agent\":'Mozilla/5.0 (Windows NT 6.3; WOW64) AppleWebKit/537.36 (KHTML, like Gecko) Chrome/59.0.3071.115 Safari/537.36\n",
        "#Mozilla/5.0 (Windows NT 10.0; Win64; x64) AppleWebKit/537.36 (KHTML, like Gecko) Chrome/113.0.0.0 Safari/537.36 Edg/113.0.1774.35\n",
        "\n",
        "page = requests.get('https://www.washingtonpost.com/politics/',headers=headers)\n",
        "# print(BS(page.content, 'lxml'))\n",
        "soup = BeautifulSoup(page.text, 'html.parser')\n",
        "# print(soup)\n",
        "\n",
        "allLinks = []\n",
        "link = \"https://www.washingtonpost.com/politics/\"\n",
        "for link in soup.find_all('a'):\n",
        "    allLinks.append(link.get('href'))\n",
        "allLinks = filter(None, allLinks)\n",
        "linkEnds = [i for i in allLinks if \"/politics/\" and \"/2\" in i]\n",
        "links = [i if i.startswith(\"https\") else \"https://www.washingtonpost.com/\" + i for i in linkEnds]\n",
        "\n",
        "WP_links = set(links)\n",
        "WP_links = list(WP_links)\n",
        "WP_links\n",
        "\n",
        "#RSS: https://feeds.washingtonpost.com/rss/rss_the-fix?itid=lk_inline_manual_5"
      ]
    },
    {
      "cell_type": "code",
      "source": [
        "# @title WP [not completed: pubds]\n",
        "\n",
        "#WP Article Text Scraper\n",
        "ua = {'User-Agent':'Mozilla/5.0 (Macintosh; Intel Mac OS X 10_11_2) AppleWebKit/601.3.9 (KHTML, like Gecko) Version/9.0.2 Safari/601.3.9'}\n",
        "artTxt = []\n",
        "for art in WP_links:\n",
        "  article_text = scrape_article_text_useragent(art,ua)\n",
        "  artTxt.append(article_text)\n",
        "WP_artTxt = artTxt\n",
        "\n",
        "#combined headers + pubdate:\n",
        "pubds = []\n",
        "headers = []\n",
        "months = [\"January\", \"February\", \"March\", \"April\", \"May\", \"June\", \"July\", \"August\", \"September\", \"October\", \"November\", \"December\"]\n",
        "\n",
        "for h in WP_links:\n",
        "  hp = requests.get(h,headers = ua)\n",
        "  souph = BeautifulSoup(hp.text, 'html.parser')\n",
        "  span = souph.find_all('head')\n",
        "  header= str(span)\n",
        "  i = header.find(\"<title>\")\n",
        "  j = header.find(\"</title>\")\n",
        "  x = header[i:j]\n",
        "  y = x.split('\\n', 1)[0].lstrip(\"<title>\")\n",
        "  headers.append(y)\n",
        "  span = souph.find_all(\"div\")\n",
        "  pubd = str(span)\n",
        "  # print(span)\n",
        "  for m in months:\n",
        "    if m in pubd:\n",
        "      i = pubd.find(m)\n",
        "  j = pubd.find(\"</time>\")\n",
        "  if i == -1:\n",
        "    i = pubd.find(\"Updated\")\n",
        "  x = pubd[i:j].lstrip()\n",
        "  y = x.split('\\n', 1)[0]\n",
        "  sep = '</span>'\n",
        "  dateOnly = y.split(sep, 1)[0]\n",
        "  pubds.append(dateOnly)\n",
        "\n",
        "WP_pubds = pubds\n",
        "# WP_headers = headers"
      ],
      "metadata": {
        "collapsed": true,
        "id": "4win1t_UMiw7"
      },
      "execution_count": null,
      "outputs": []
    },
    {
      "cell_type": "code",
      "source": [
        "WP_pubds"
      ],
      "metadata": {
        "colab": {
          "base_uri": "https://localhost:8080/"
        },
        "collapsed": true,
        "id": "x_55xItDf5pL",
        "outputId": "6e55c007-6c41-4a0c-c01a-b8853bc46e29"
      },
      "execution_count": null,
      "outputs": [
        {
          "output_type": "execute_result",
          "data": {
            "text/plain": [
              "['October 30, 2024 at 5:00 a.m. EDT',\n",
              " 'October 30, 2024',\n",
              " 'October 30, 2024 at 5:21 p.m. EDT',\n",
              " 'October 30, 2024 at 3:44 p.m. EDT',\n",
              " 'October 30, 2024 at 10:18 p.m. EDT',\n",
              " 'October 30, 2024 at 6:26 p.m. EDT',\n",
              " 'January 1, 2021 at 11:14 a.m. EST',\n",
              " 'October 28, 2024 at 7:16 p.m. EDT',\n",
              " 'October 30, 2024 at 10:43 a.m. EDT',\n",
              " 'October 30, 2024 at 4:30 p.m. EDT',\n",
              " 'October 30, 2024 at 5:21 p.m. EDT',\n",
              " 'November 20, 2020 at 11:09 a.m. EST',\n",
              " 'October 30, 2024 at 6:14 p.m. EDT',\n",
              " 'October 30, 2024 at 5:22 p.m. EDT',\n",
              " 'October 30, 2024 at 2:01 p.m. EDT',\n",
              " 'October 30, 2024 at 6:03 p.m. EDT',\n",
              " 'October 30, 2024 at 12:41 p.m. EDT',\n",
              " 'September 11, 2024 at 4:23 p.m. EDT',\n",
              " 'October 30, 2024',\n",
              " 'October 30, 2024 at 2:41 p.m. EDT',\n",
              " 'May 13, 2021 at 4:51 p.m. EDT',\n",
              " 'October 28, 2024 at 1:18 p.m. EDT',\n",
              " '',\n",
              " 'October 30, 2024 at 12:33 p.m. EDT',\n",
              " 'October 30, 2024 at 3:34 p.m. EDT',\n",
              " '',\n",
              " 'October 21, 2024 at 2:58 p.m. EDT',\n",
              " '',\n",
              " 'October 30, 2024 at 7:42 p.m. EDT',\n",
              " 'October 30, 2024 at 12:04 p.m. EDT',\n",
              " 'October 30, 2024 at 12:04 p.m. EDT',\n",
              " 'October 30, 2024 at 6:14 p.m. EDT',\n",
              " 'November 23, 2021 at 12:00 p.m. EST']"
            ]
          },
          "metadata": {},
          "execution_count": 77
        }
      ]
    },
    {
      "cell_type": "code",
      "source": [
        "len(WP_artTxt)"
      ],
      "metadata": {
        "colab": {
          "base_uri": "https://localhost:8080/"
        },
        "id": "2prByEQIM5Ki",
        "outputId": "2f866395-1e38-476e-a283-04897a13ec9c"
      },
      "execution_count": null,
      "outputs": [
        {
          "output_type": "execute_result",
          "data": {
            "text/plain": [
              "33"
            ]
          },
          "metadata": {},
          "execution_count": 8
        }
      ]
    },
    {
      "cell_type": "code",
      "execution_count": null,
      "metadata": {
        "colab": {
          "base_uri": "https://localhost:8080/"
        },
        "collapsed": true,
        "id": "qPRHMXMHS-_i",
        "outputId": "32aee613-5922-4e45-dc6a-4c7c108df819"
      },
      "outputs": [
        {
          "output_type": "stream",
          "name": "stderr",
          "text": [
            "<ipython-input-80-bec0c30b8cb0>:4: XMLParsedAsHTMLWarning: It looks like you're parsing an XML document using an HTML parser. If this really is an HTML document (maybe it's XHTML?), you can ignore or filter this warning. If it's XML, you should know that using an XML parser will be more reliable. To parse this document as XML, make sure you have the lxml package installed, and pass the keyword argument `features=\"xml\"` into the BeautifulSoup constructor.\n",
            "  soup = BeautifulSoup(html_page.text, \"lxml\")\n"
          ]
        }
      ],
      "source": [
        "#CNBC Article Link Scraper\n",
        "url = 'https://search.cnbc.com/rs/search/combinedcms/view.xml?partnerId=wrss01&id=10000113'\n",
        "html_page = requests.get(url)\n",
        "soup = BeautifulSoup(html_page.text, \"lxml\")\n",
        "links = []\n",
        "for item in soup.find_all(\"item\"):\n",
        "  link= str(item)\n",
        "  i = link.find(\"<link/>\")\n",
        "  j = link.find(\"<guid\")\n",
        "  x = link[i+7:j]\n",
        "  #removes white space at end of links\n",
        "  y = x.split('\\n', 1)[0].strip()\n",
        "  links.append(y)\n",
        "CNBC_links = links"
      ]
    },
    {
      "cell_type": "code",
      "source": [
        "# @title CNBC [not completed: artTxt]\n",
        "url = 'https://search.cnbc.com/rs/search/combinedcms/view.xml?partnerId=wrss01&id=10000113'\n",
        "# ua = {'User-Agent':'Mozilla/5.0 (Macintosh; Intel Mac OS X 10_11_2) AppleWebKit/601.3.9 (KHTML, like Gecko) Version/9.0.2 Safari/601.3.9'}\n",
        "\n",
        "html_page = requests.get(url)\n",
        "soup = BeautifulSoup(html_page.text, \"lxml\")\n",
        "links = []\n",
        "artTxt = []\n",
        "\n",
        "for item in soup.find_all(\"item\"):\n",
        "  link = str(item)\n",
        "  i = link.find(\"<link/>\")\n",
        "  j = link.find(\"<guid\")\n",
        "  x = link[i+7:j]\n",
        "  y = x.split('\\n', 1)[0]\n",
        "  links.append(y)\n",
        "  article_text = scrape_article_text(y)\n",
        "  artTxt.append(article_text)\n",
        "CNBC_artTxt = artTxt\n",
        "\n",
        "# CNBC Header Scraper\n",
        "headers = []\n",
        "for item in soup.find_all(\"item\"):\n",
        "  header= str(item)\n",
        "  i = header.find(\"<title>\")\n",
        "  j = header.find(\"</title>\")\n",
        "  x = header[i+7:j]\n",
        "  y = x.split('\\n', 1)[0]\n",
        "  headers.append(y)\n",
        "CNBC_headers = headers\n",
        "\n",
        "#CNBC PubDate Scraper\n",
        "pubds = []\n",
        "for item in soup.find_all(\"item\"):\n",
        "  pubd= str(item)\n",
        "  i = pubd.find(\"<pubdate>\")\n",
        "  j = pubd.find(\"</pubdate>\")\n",
        "  x = pubd[i+9:j]\n",
        "  y = x.split('\\n', 1)[0]\n",
        "  pubds.append(y)\n",
        "CNBC_pubds = pubds"
      ],
      "metadata": {
        "colab": {
          "base_uri": "https://localhost:8080/"
        },
        "id": "Q1Y-xZkhhi7v",
        "outputId": "61f20ff9-d842-4cb3-a438-0ac751cbeed9"
      },
      "execution_count": null,
      "outputs": [
        {
          "output_type": "stream",
          "name": "stderr",
          "text": [
            "<ipython-input-10-b3533bf6275a>:6: XMLParsedAsHTMLWarning: It looks like you're parsing an XML document using an HTML parser. If this really is an HTML document (maybe it's XHTML?), you can ignore or filter this warning. If it's XML, you should know that using an XML parser will be more reliable. To parse this document as XML, make sure you have the lxml package installed, and pass the keyword argument `features=\"xml\"` into the BeautifulSoup constructor.\n",
            "  soup = BeautifulSoup(html_page.text, \"lxml\")\n"
          ]
        }
      ]
    },
    {
      "cell_type": "code",
      "source": [
        "CNBC_artTxt"
      ],
      "metadata": {
        "colab": {
          "base_uri": "https://localhost:8080/"
        },
        "collapsed": true,
        "id": "q6QVHvU0h-YP",
        "outputId": "fc0c09e2-18fa-4b51-8e95-808507ee9a97"
      },
      "execution_count": null,
      "outputs": [
        {
          "output_type": "execute_result",
          "data": {
            "text/plain": [
              "['Error: Unable to fetch the webpage.',\n",
              " 'Error: Unable to fetch the webpage.',\n",
              " 'Error: Unable to fetch the webpage.',\n",
              " 'Error: Unable to fetch the webpage.',\n",
              " 'Error: Unable to fetch the webpage.',\n",
              " 'Error: Unable to fetch the webpage.',\n",
              " 'Error: Unable to fetch the webpage.',\n",
              " 'Error: Unable to fetch the webpage.',\n",
              " 'Error: Unable to fetch the webpage.',\n",
              " 'Error: Unable to fetch the webpage.',\n",
              " 'Error: Unable to fetch the webpage.',\n",
              " 'Error: Unable to fetch the webpage.',\n",
              " 'Error: Unable to fetch the webpage.',\n",
              " 'Error: Unable to fetch the webpage.',\n",
              " 'Error: Unable to fetch the webpage.',\n",
              " 'Error: Unable to fetch the webpage.',\n",
              " 'Error: Unable to fetch the webpage.',\n",
              " 'Error: Unable to fetch the webpage.',\n",
              " 'Error: Unable to fetch the webpage.',\n",
              " 'Error: Unable to fetch the webpage.',\n",
              " 'Error: Unable to fetch the webpage.',\n",
              " 'Error: Unable to fetch the webpage.',\n",
              " 'Error: Unable to fetch the webpage.',\n",
              " 'Error: Unable to fetch the webpage.',\n",
              " 'Error: Unable to fetch the webpage.',\n",
              " 'Error: Unable to fetch the webpage.',\n",
              " 'Error: Unable to fetch the webpage.',\n",
              " 'Error: Unable to fetch the webpage.',\n",
              " 'Error: Unable to fetch the webpage.',\n",
              " 'Error: Unable to fetch the webpage.']"
            ]
          },
          "metadata": {},
          "execution_count": 90
        }
      ]
    },
    {
      "cell_type": "code",
      "execution_count": null,
      "metadata": {
        "colab": {
          "base_uri": "https://localhost:8080/"
        },
        "collapsed": true,
        "id": "eTUXOMlXXMlU",
        "outputId": "a7e14ecf-64e2-4850-cadf-8f7701358ece"
      },
      "outputs": [
        {
          "output_type": "stream",
          "name": "stderr",
          "text": [
            "<ipython-input-91-36164bfd68a9>:4: XMLParsedAsHTMLWarning: It looks like you're parsing an XML document using an HTML parser. If this really is an HTML document (maybe it's XHTML?), you can ignore or filter this warning. If it's XML, you should know that using an XML parser will be more reliable. To parse this document as XML, make sure you have the lxml package installed, and pass the keyword argument `features=\"xml\"` into the BeautifulSoup constructor.\n",
            "  soup = BeautifulSoup(html_page.text, \"lxml\")\n"
          ]
        },
        {
          "output_type": "execute_result",
          "data": {
            "text/plain": [
              "['https://www.cbsnews.com/news/bidens-response-to-garbage-joke-about-puerto-rico/',\n",
              " 'https://www.cbsnews.com/news/elon-musk-philadelphia-hearing-larry-krasner/',\n",
              " 'https://www.cbsnews.com/news/harris-responds-biden-garbage-comment/',\n",
              " 'https://www.cbsnews.com/news/nicky-jam-trump-endorsement-puerto-rico-madison-square-garden/',\n",
              " 'https://www.cbsnews.com/news/north-korean-troops-russian-uniforms-moving-towards-ukraine/',\n",
              " 'https://www.cbsnews.com/news/trump-rally-puerto-rico-garbage-comment-congress-races/',\n",
              " 'https://www.cbsnews.com/news/american-airstrikes-kill-up-to-35-isis-operatives-us-military-says/',\n",
              " 'https://www.cbsnews.com/news/trump-noncitizen-voter-fraud-fact-check/',\n",
              " 'https://www.cbsnews.com/news/republican-candidate-larry-savage-charged-stealing-ballots/',\n",
              " 'https://www.cbsnews.com/news/supreme-court-virginia-voter-rolls/',\n",
              " 'https://www.cbsnews.com/news/early-voting-2024-election-55-million-30-10-2024/',\n",
              " 'https://www.cbsnews.com/news/ballot-drop-boxes-misinformation-threats-fires/',\n",
              " 'https://www.cbsnews.com/news/bucks-county-ballots-mail-lawsuit-pennsylvania-election/',\n",
              " 'https://www.cbsnews.com/news/tim-walz-unity-kamala-harris-speech-ellipse/',\n",
              " 'https://www.cbsnews.com/news/trump-harris-health-care-2024/',\n",
              " 'https://www.cbsnews.com/news/presidential-election-harris-trump-inflation-could-decide-outcome/',\n",
              " 'https://www.cbsnews.com/news/man-sentenced-to-prison-threats-against-fulton-county-da-fani-willis/',\n",
              " 'https://www.cbsnews.com/news/election-ballots-printing-facility-arizona-security-measures/']"
            ]
          },
          "metadata": {},
          "execution_count": 91
        }
      ],
      "source": [
        "#CBS News Article Link Scraper\n",
        "url = 'https://www.cbsnews.com/latest/rss/politics'\n",
        "html_page = requests.get(url)\n",
        "soup = BeautifulSoup(html_page.text, \"lxml\")\n",
        "links = []\n",
        "for item in soup.find_all(\"item\"):\n",
        "  link= str(item)\n",
        "  i = link.find(\"<link/>\")\n",
        "  j = link.find(\"<guid\")\n",
        "  x = link[i+7:j]\n",
        "  y = x.split('\\n', 1)[0]\n",
        "  if \"/news/\" in y:\n",
        "    links.append(y)\n",
        "CBS_links = links\n",
        "CBS_links"
      ]
    },
    {
      "cell_type": "code",
      "source": [
        "url = 'https://www.cbsnews.com/latest/rss/politics'\n",
        "# ua = {'User-Agent':'Mozilla/5.0 (Macintosh; Intel Mac OS X 10_11_2) AppleWebKit/601.3.9 (KHTML, like Gecko) Version/9.0.2 Safari/601.3.9'}\n",
        "\n",
        "html_page = requests.get(url)\n",
        "soup = BeautifulSoup(html_page.text, \"lxml\")\n",
        "links = []\n",
        "artTxt = []\n",
        "\n",
        "for item in soup.find_all(\"item\"):\n",
        "  link = str(item)\n",
        "  i = link.find(\"<link/>\")\n",
        "  j = link.find(\"<guid\")\n",
        "  x = link[i+7:j]\n",
        "  y = x.split('\\n', 1)[0]\n",
        "  links.append(y)\n",
        "  article_text = scrape_article_text(y)\n",
        "  artTxt.append(article_text)\n",
        "CBS_artTxt = artTxt\n",
        "\n",
        "# CNBC Header Scraper\n",
        "headers = []\n",
        "for item in soup.find_all(\"item\"):\n",
        "  header= str(item)\n",
        "  i = header.find(\"<title>\")\n",
        "  j = header.find(\"</title>\")\n",
        "  x = header[i+7:j]\n",
        "  y = x.split('\\n', 1)[0]\n",
        "  headers.append(y)\n",
        "CBS_headers = headers\n",
        "\n",
        "#CNBC PubDate Scraper\n",
        "pubds = []\n",
        "for item in soup.find_all(\"item\"):\n",
        "  pubd= str(item)\n",
        "  i = pubd.find(\"<pubdate>\")\n",
        "  j = pubd.find(\"</pubdate>\")\n",
        "  x = pubd[i+9:j]\n",
        "  y = x.split('\\n', 1)[0]\n",
        "  pubds.append(y)\n",
        "CBS_pubds = pubds"
      ],
      "metadata": {
        "colab": {
          "base_uri": "https://localhost:8080/"
        },
        "id": "mo0D2Frii5vl",
        "outputId": "aee8b3b0-46f5-4003-bdba-6fcf3a3ad544"
      },
      "execution_count": null,
      "outputs": [
        {
          "output_type": "stream",
          "name": "stderr",
          "text": [
            "<ipython-input-92-33b2d7c3f9d7>:5: XMLParsedAsHTMLWarning: It looks like you're parsing an XML document using an HTML parser. If this really is an HTML document (maybe it's XHTML?), you can ignore or filter this warning. If it's XML, you should know that using an XML parser will be more reliable. To parse this document as XML, make sure you have the lxml package installed, and pass the keyword argument `features=\"xml\"` into the BeautifulSoup constructor.\n",
            "  soup = BeautifulSoup(html_page.text, \"lxml\")\n"
          ]
        }
      ]
    },
    {
      "cell_type": "code",
      "execution_count": 115,
      "metadata": {
        "collapsed": true,
        "id": "JMUnOcm5YLG9"
      },
      "outputs": [],
      "source": [
        "# @title ABC [completed]\n",
        "#ABC Article Link Scraper html\n",
        "page = requests.get('https://abcnews.go.com/Politics')\n",
        "soup = BeautifulSoup(page.text, 'html.parser')\n",
        "allLinks = []\n",
        "link = \"https://abcnews.go.com/Politics\"\n",
        "for link in soup.find_all('a'):\n",
        "    allLinks.append(link.get('href'))\n",
        "allLinks = filter(None, allLinks)\n",
        "links = [i for i in allLinks if \"/Politics/\" in i and \"/video/\" not in i]\n",
        "links = sorted(set(links), key=links.index)\n",
        "\n",
        "headers = []\n",
        "artTxt = []\n",
        "pubds = []\n",
        "for h in links:\n",
        "  #Get Article Headers\n",
        "  hp = requests.get(h)\n",
        "  souph = BeautifulSoup(hp.text, 'html.parser')\n",
        "  span = souph.find_all('title')\n",
        "  header= str(span)\n",
        "  i = header.find(\"\\\"true\\\">\")\n",
        "  j = header.find(\" - ABC\")\n",
        "  x = header[i+7:j]\n",
        "  y = x.split('\\n', 1)[0]\n",
        "  headers.append(y)\n",
        "\n",
        "  #Get pub dates\n",
        "  span = souph.find_all('div', class_ = 'xAPpq JQYD ZdbeE jTKbV zIIsP xpuOU pCRh')\n",
        "  pubd = str(span)\n",
        "  i = pubd.find(\"\\\">\")\n",
        "  j = pubd.find(\"</div\")\n",
        "  x = pubd[i+2:j]\n",
        "  y = x.split('\\n', 1)[0]\n",
        "  pubds.append(y)\n",
        "\n",
        "  #Extract Article Text\n",
        "  article_text = scrape_article_text(h)\n",
        "  artTxt.append(article_text)"
      ]
    },
    {
      "cell_type": "code",
      "execution_count": null,
      "metadata": {
        "colab": {
          "base_uri": "https://localhost:8080/"
        },
        "collapsed": true,
        "id": "XoAiwRTm8Rk0",
        "outputId": "26e711e9-1099-4404-ee29-055d7e015c4a"
      },
      "outputs": [
        {
          "output_type": "stream",
          "name": "stdout",
          "text": [
            "Error: Unable to fetch the webpage.\n"
          ]
        }
      ],
      "source": [
        "#Extract article text from links for all news sources\n",
        "#Use this to text article link efficacy?\n",
        "\n",
        "#CNBC_links includes ad text in the beginning(?)\n",
        "url = NYT_links[0]\n",
        "article_text = scrape_article_text(url)\n",
        "print(article_text)"
      ]
    },
    {
      "cell_type": "code",
      "execution_count": null,
      "metadata": {
        "colab": {
          "base_uri": "https://localhost:8080/"
        },
        "collapsed": true,
        "id": "XIlX8JRwtPjs",
        "outputId": "d2498f3f-b054-4f7a-a92d-261b78f1c0e0"
      },
      "outputs": [
        {
          "name": "stdout",
          "output_type": "stream",
          "text": [
            "While New York is seen as a solid blue state, the Republican party still enjoys widespread support in its rural and suburban areas, and this year the gap between the GOP and the Democrat Party could be narrowing. In the 2024 presidential election, Donald Trump has the potential to gain the largest share of the vote in the Empire State than any other Republican candidate since 1988, some polls have suggested. Trump's very unlikely to win the state and get its 28 electoral votes, but a good performance in the Democratic stronghold gives Republicans a new message to bring to voters and enthusiasm about Trump could help the GOP in down ballot races. Before his rally on Long Island Wednesday night, Trump told supporters in a Manhattan bar that he was going to \"win New York!\" – a message he repeated to the crowd later on. \"When I told some people in Washington that I'm going up to New York, we're doing a campaign speech, they said, 'What do you mean New York? You can't ever ... Republicans can't win New York,\" Trump said at the Nassau Coliseum. \"I said, 'I can win New York,'\" he continued. \"We can win New York. We're going to win New York ... Your love for your state will come roaring back.\" In two polls that pit Trump against Vice President Kamala Harris, Trump's support ranges from 41.7 percent to 42 percent. That puts Trump in a position to possibly break his own record in New York and get more support than any Republican since 1988. Siena College's latest survey of New York voters, released on Thursday, showed Harris leading Trump 55 percent to 42 percent. Trump's support in the Empire State appeared to be holding steady from August, according to Siena College's polling. New York voters said they trust the vice president more on abortion, democracy and the economy, while the key issue of immigration essentially tied the pair – Harris on 48 percent and Trump on 47 percent. \"New York remains solidly 'blue' but perhaps not as deep blue as it has been in the last several presidential cycles,\" Siena College pollster Steven Greenberg said in a press release. Greenberg said that in the six presidential elections this century, Democrats have carried New York by at least 18 points, but Harris currently only leads by 13. \"Despite the Democratic convention, the debate and numerous other events during the six weeks between Siena College polls, there has been little movement in the horse race or in either candidate's favorability rating,\" Greenberg added. An earlier poll in August, by ActiVote, showed a greater lead for Harris, who was ahead by 16.6%. Trump was beating Harris among rural New York voters, with 52% supporting him. \"Independents moved further in Trump's direction, supporting him over Harris 58-34%, up from 47-40% last month,\" Greenberg explained. If polling holds true in the election, it would put Trump at more of an advantage than he enjoyed in the previous two elections, but the Queens native still would not have enough support to win the state on November 5. Four years ago, Trump lost to President Joe Biden with 37.7 percent of the vote compared to 60.9 percent. It was a very similar picture against former Secretary of State Hilary Clinton in 2016. In 1988, former President George H.W. Bush received 47.52 percent of the state's vote, narrowly losing it to Michael Dukakis' 51.62 percent. No Republican has been able to match Bush's support in New York since. In the next two elections, former President Bill Clinton had a 15 and then an almost 30-point lead over his GOP rivals. Former President George W. Bush lost New York by similar margins, as did former Senators John McCain and Mitt Romney.  Republicans winning New York would upend the Electoral College for Democrats, but the likelihood of that happening is very slim. However, Trump doesn't need to win the state to help his party. Targeting New York could still be beneficial for the GOP when it comes to House races, especially in areas like Long Island where support for the party is greater than within New York City. Polling from 538 showed Representative Anthony D'Esposito's Democratic rival Laura Gillen leading him by three points in August (50-47%), but earlier numbers showed him ahead by five (48-42%). \"While New York perhaps is not a battleground state, Long Island is a battleground island,\" D'Esposito told Politico. \"It does benefit him, because as president, he's going to need a majority in the House, and those seats that we're defending on Long Island and around New York are key to that majority.\" Newsweek is committed to journalism that's factual and fair. Hold us accountable and submit your rating of this article on the meter.  Newsweek is committed to journalism that's factual and fair. Hold us accountable and submit your rating of this article on the meter.  Dan Gooding is a Newsweek reporter based in New York City. His focus is reporting on immigration and border security. He has covered immigration issues extensively, including the root causes of migration to the U.S., its impact on border communities and responses around the country. Dan joined Newsweek in 2024 from The Independent and previously worked at The Messenger, Business Insider and in U.K. local radio. He is a graduate of De Montfort University in Leicester, UK. You can get in touch with Dan by emailing d.gooding@newsweek.com. You can find him on X @DanGooding. Languages: English. Dan Gooding is a Newsweek reporter based in New York City. His focus is reporting on immigration and border security.                                    ...\n",
            "Read more\n",
            " Newsletters in your inbox See all Company Editions: Contact Terms of Use © 2024 NEWSWEEK DIGITAL LLC\n"
          ]
        }
      ],
      "source": [
        "#Extract article text from links for news sources requiring user agent\n",
        "url = Newsweek_links[0]\n",
        "headers = {\"user-agent\": \"Mozilla/5.0\"}\n",
        "#Mozilla/5.0 (Windows NT 10.0; Win64; x64) AppleWebKit/537.36 (KHTML, like Gecko) Chrome/113.0.0.0 Safari/537.36 Edg/113.0.1774.35\n",
        "article_text = scrape_article_text_useragent(url, headers)\n",
        "print(article_text)"
      ]
    },
    {
      "cell_type": "code",
      "execution_count": null,
      "metadata": {
        "id": "sX7n4GKSzh5Q"
      },
      "outputs": [],
      "source": [
        "#List of RSS feeds\n",
        "\n",
        "#Fox News: Politics\n",
        "foxPolRSS = f\"https://moxie.foxnews.com/google-publisher/politics.xml\"\n",
        "#CNN News: Politics\n",
        "CNNPolRSS = f\"http://rss.cnn.com/rss/cnn_allpolitics.rss\"\n",
        "#NYT News: Politics\n",
        "NYTPolRSS = f\"https://rss.nytimes.com/services/xml/rss/nyt/Politics.xml\"\n",
        "#https://github.com/susannapaoli/web-scraper-nyt\n",
        "#NY Post: Politics\n",
        "NYPostPolRSS = f\"https://nypost.com/politics/feed/\"\n",
        "#Daily Mail: U.S.\n",
        "DailyMailUSRSS = f\"https://www.dailymail.co.uk/ushome/index.rss\"\n",
        "#NBC News: Politics\n",
        "NBCPolRSS = f\"https://feeds.nbcnews.com/nbcnews/public/politics\"\n",
        "#CNBC: Politics\n",
        "CNBCPolRSS = f\"https://search.cnbc.com/rs/search/combinedcms/view.xml?partnerId=wrss01&id=10000113\"\n",
        "#CBS News: Politics\n",
        "CBSPolRSS = f\"https://www.cbsnews.com/latest/rss/politics\"\n",
        "#ABC News: Politics\n",
        "ABCPolRSS = f\"https://abcnews.go.com/abcnews/politicsheadlines\""
      ]
    },
    {
      "cell_type": "code",
      "execution_count": null,
      "metadata": {
        "cellView": "form",
        "colab": {
          "base_uri": "https://localhost:8080/"
        },
        "id": "6-9ObRECI1s3",
        "outputId": "73da7875-7cb8-49e8-8d1b-141bdab26b23"
      },
      "outputs": [
        {
          "name": "stdout",
          "output_type": "stream",
          "text": [
            "[{'generated_text': 'left'}]\n",
            "[{'generated_text': 'uncertain'}]\n",
            "[{'generated_text': 'center'}]\n",
            "[{'generated_text': 'center'}]\n",
            "[{'generated_text': 'center'}]\n",
            "[{'generated_text': 'center'}]\n"
          ]
        }
      ],
      "source": [
        "# @title [likly discontinuted]\n",
        "\n",
        "\n",
        "# Following URL is the URL of the LLM being utilized from HuggingFace\n",
        "API_URL = \"https://api-inference.huggingface.co/models/google/flan-t5-xxl\"\n",
        "headers = {\"Authorization\": f\"Bearer {api_token_hug}\"}\n",
        "\n",
        "# Instructions sent to the LLM in front of article text\n",
        "system_input = \"Analyze the text content and assign a label from {left, right, center, uncertain}. In this context, “left” indicates a left-leaning article, “right” signifies a right-leaning article, “center” implies no obvious political leaning, and “uncertain” denotes that the political orientation could not be determined. Please provide your analysis and output a new single line containing only the assigned label.\"\n",
        "\n",
        "#reduce by 10% until it fits query\n",
        "reduction_fraction = 0.10\n",
        "\n",
        "\n",
        "\n",
        "result = reduce_and_query(article_text, system_input, reduction_fraction, headers)\n",
        "print(result)\n",
        "\n",
        "second_article = \"https://www.cnn.com/2024/03/19/politics/texas-immigration-law-blocked-appeals/index.html\"\n",
        "second_result = reduce_and_query(second_article, system_input, reduction_fraction, headers)\n",
        "print(second_result)\n",
        "\n",
        "third_article = \"https://www.cnn.com/videos/world/2024/03/20/israel-gaza-west-bank-settler-movement-clarissa-ward-pkg-intl-ldn-vpx.cnn\"\n",
        "third_result = reduce_and_query(third_article, system_input, reduction_fraction, headers)\n",
        "print(third_result)\n",
        "\n",
        "fourth_article = \"https://www.cnn.com/2024/03/19/politics/trump-bond-deadline-panic/index.html\"\n",
        "fourth_result = reduce_and_query(fourth_article, system_input, reduction_fraction, headers)\n",
        "print(fourth_result)\n",
        "\n",
        "fifth_article = \"https://www.foxnews.com/live-news/joe-biden-gop-impeachment-inquiry-hearing-hunter-biden-business-dealings\"\n",
        "fifth_result = reduce_and_query(fifth_article, system_input, reduction_fraction, headers)\n",
        "print(fifth_result)\n",
        "\n",
        "sixth_article = \"https://www.msnbc.com/deadline-white-house/deadline-legal-blog/trump-supreme-court-immunity-appeal-delay-rcna144155\"\n",
        "sixth_result = reduce_and_query(sixth_article, system_input, reduction_fraction, headers)\n",
        "print(sixth_result)\n",
        "\n",
        "seventh_article = \"https://www.msnbc.com/rachel-maddow-show/maddowblog/biden-white-house-reason-celebrate-falling-crime-rates-rcna144215\"\n",
        "seventh_result = reduce_and_query(seventh_article, system_input, reduction_fraction, headers)"
      ]
    }
  ],
  "metadata": {
    "colab": {
      "provenance": [],
      "include_colab_link": true
    },
    "kernelspec": {
      "display_name": "Python 3",
      "name": "python3"
    },
    "language_info": {
      "name": "python"
    }
  },
  "nbformat": 4,
  "nbformat_minor": 0
}
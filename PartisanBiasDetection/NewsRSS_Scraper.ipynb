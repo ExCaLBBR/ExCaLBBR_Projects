{
  "nbformat": 4,
  "nbformat_minor": 0,
  "metadata": {
    "colab": {
      "provenance": [],
      "include_colab_link": true
    },
    "kernelspec": {
      "name": "python3",
      "display_name": "Python 3"
    },
    "language_info": {
      "name": "python"
    }
  },
  "cells": [
    {
      "cell_type": "markdown",
      "metadata": {
        "id": "view-in-github",
        "colab_type": "text"
      },
      "source": [
        "<a href=\"https://colab.research.google.com/github/ExCaLBBR/ExCaLBBR_Projects/blob/main/PartisanBiasDetection/NewsRSS_Scraper.ipynb\" target=\"_parent\"><img src=\"https://colab.research.google.com/assets/colab-badge.svg\" alt=\"Open In Colab\"/></a>"
      ]
    },
    {
      "cell_type": "code",
      "execution_count": null,
      "metadata": {
        "id": "jzf4wY-T8Frl"
      },
      "outputs": [],
      "source": [
        "#@title Install Dependancies\n",
        "!pip install requests beautifulsoup4 --quiet\n",
        "\n",
        "#Import libraries\n",
        "import requests\n",
        "from bs4 import BeautifulSoup\n",
        "import time"
      ]
    },
    {
      "cell_type": "code",
      "source": [
        "# @title Define Utility Functions\n",
        "\n",
        "#Article Scraper\n",
        "def scrape_article_text(url):\n",
        "    # Send a GET request to the URL\n",
        "    response = requests.get(url)\n",
        "    # Check if the request was successful\n",
        "    if response.status_code == 200:\n",
        "        # Parse the HTML content\n",
        "        soup = BeautifulSoup(response.text, 'html.parser')\n",
        "        # Find elements containing text - this part may need customization\n",
        "        # For example, assuming article text is within <p> tags\n",
        "        article_text = ' '.join(p.get_text() for p in soup.find_all('p'))\n",
        "        return article_text\n",
        "    else:\n",
        "        return \"Error: Unable to fetch the webpage.\"\n",
        "\n",
        "#Article Scraper with User Agent\n",
        "def scrape_article_text_useragent(url,ua):\n",
        "    # Send a GET request to the URL\n",
        "    response = requests.get(url, headers=ua)\n",
        "    # Check if the request was successful\n",
        "    if response.status_code == 200:\n",
        "        # Parse the HTML content\n",
        "        soup = BeautifulSoup(response.text, 'html.parser')\n",
        "        # Find elements containing text - this part may need customization\n",
        "        # For example, assuming article text is within <p> tags\n",
        "        article_text = ' '.join(p.get_text() for p in soup.find_all('p'))\n",
        "        return article_text\n",
        "    else:\n",
        "        return \"Error: Unable to fetch the webpage.\"\n",
        "\n",
        "#Query for LLM\n",
        "def query(payload, headers):\n",
        "    response = requests.post(API_URL, headers=headers, json=payload)\n",
        "    if response.status_code == 200:\n",
        "        return response.json()  # Expecting this to always be a list for simplicity\n",
        "    else:\n",
        "        return [{\"error\": response.text}]\n",
        "\n",
        "#Political Bias Classification using LLM\n",
        "def reduce_and_query(initial_text, llm_instructions, reduction_fraction, headers):\n",
        "    text = initial_text\n",
        "    while True:\n",
        "        payload = {\"inputs\": llm_instructions + text}\n",
        "        response = query(payload, headers)\n",
        "        # Since we expect a list, check the first item for an 'error' key\n",
        "        if \"error\" in response[0]:\n",
        "            error_message = response[0][\"error\"]\n",
        "            if \"token\" in error_message.lower():\n",
        "                # Reduce the text by the specified fraction if it's a token limit error\n",
        "                new_length = int(len(text) * (1 - reduction_fraction))\n",
        "                text = text[:new_length]\n",
        "            else:\n",
        "                # Return the error message directly if it's a different kind of error\n",
        "                return error_message\n",
        "        else:\n",
        "            # If there's no 'error' key, assume the response is successful\n",
        "            return response"
      ],
      "metadata": {
        "id": "-1vSCujtWffV"
      },
      "execution_count": null,
      "outputs": []
    },
    {
      "cell_type": "code",
      "source": [
        "# CNN Article Link Scraper\n",
        "page = requests.get('https://www.cnn.com/politics')\n",
        "soup = BeautifulSoup(page.text, 'html.parser')\n",
        "allLinks = []\n",
        "link = \"https://www.cnn.com/politics\"\n",
        "for link in soup.find_all('a'):\n",
        "    allLinks.append(link.get('href'))\n",
        "allLinks = filter(None, allLinks)\n",
        "linkEnds = [i for i in allLinks if i.startswith('/2') and \"/video/\" not in i]\n",
        "result = ['https://www.cnn.com' + i for i in linkEnds]\n",
        "CNN_links = set(result)\n",
        "CNN_links = list(CNN_links)"
      ],
      "metadata": {
        "id": "U36vKED56Kll"
      },
      "execution_count": null,
      "outputs": []
    },
    {
      "cell_type": "code",
      "source": [
        "#Fox News Article Text Link Scraper\n",
        "url = 'https://moxie.foxnews.com/google-publisher/politics.xml'\n",
        "html_page = requests.get(url)\n",
        "soup = BeautifulSoup(html_page.text, \"lxml\")\n",
        "links = []\n",
        "for item in soup.find_all(\"item\"):\n",
        "  link= str(item)\n",
        "  i = link.find(\"<link/>\")\n",
        "  j = link.find(\"<guid\")\n",
        "  x = link[i+7:j]\n",
        "  y = x.split('\\n', 1)[0]\n",
        "  links.append(y)\n",
        "FoxNews_links = links\n",
        "\n",
        "#Fox News Article Header Scraper\n",
        "headers = []\n",
        "for item in soup.find_all(\"item\"):\n",
        "  header= str(item)\n",
        "  i = header.find(\"<title>\")\n",
        "  j = header.find(\"</title>\")\n",
        "  x = header[i+7:j]\n",
        "  y = x.split('\\n', 1)[0]\n",
        "  headers.append(y)\n",
        "FoxNews_headers = headers\n",
        "\n",
        "#Fox News Article PubDate Scraper\n",
        "pubds = []\n",
        "for item in soup.find_all(\"item\"):\n",
        "  pubd= str(item)\n",
        "  i = pubd.find(\"<pubdate>\")\n",
        "  j = pubd.find(\"</pubdate>\")\n",
        "  x = pubd[i+9:j]\n",
        "  y = x.split('\\n', 1)[0]\n",
        "  pubds.append(y)\n",
        "FoxNews_pubdate = pubds"
      ],
      "metadata": {
        "id": "5mml0I9kwLNy",
        "outputId": "aad1fa75-01ce-4c8a-e96c-29d940eae973",
        "colab": {
          "base_uri": "https://localhost:8080/"
        },
        "collapsed": true
      },
      "execution_count": null,
      "outputs": [
        {
          "output_type": "stream",
          "name": "stderr",
          "text": [
            "<ipython-input-12-1c78da776872>:4: XMLParsedAsHTMLWarning: It looks like you're parsing an XML document using an HTML parser. If this really is an HTML document (maybe it's XHTML?), you can ignore or filter this warning. If it's XML, you should know that using an XML parser will be more reliable. To parse this document as XML, make sure you have the lxml package installed, and pass the keyword argument `features=\"xml\"` into the BeautifulSoup constructor.\n",
            "  soup = BeautifulSoup(html_page.text, \"lxml\")\n"
          ]
        }
      ]
    },
    {
      "cell_type": "code",
      "source": [
        "#NYT Article Link Scraper\n",
        "url = 'https://rss.nytimes.com/services/xml/rss/nyt/Politics.xml'\n",
        "html_page = requests.get(url)\n",
        "soup = BeautifulSoup(html_page.text, \"lxml\")\n",
        "links = []\n",
        "for item in soup.find_all(\"item\"):\n",
        "  link= str(item)\n",
        "  i = link.find(\"<link/>\")\n",
        "  j = link.find(\"<guid\")\n",
        "  x = link[i+7:j]\n",
        "  y = x.split('\\n', 1)[0]\n",
        "  links.append(y)\n",
        "NYT_links = links"
      ],
      "metadata": {
        "id": "Dcsv7hwKb0wV",
        "outputId": "bad728e0-cb8e-4e9d-bc4c-f5f717426b1d",
        "colab": {
          "base_uri": "https://localhost:8080/"
        },
        "collapsed": true
      },
      "execution_count": null,
      "outputs": [
        {
          "output_type": "stream",
          "name": "stderr",
          "text": [
            "<ipython-input-14-d5bd07c2d47a>:4: XMLParsedAsHTMLWarning: It looks like you're parsing an XML document using an HTML parser. If this really is an HTML document (maybe it's XHTML?), you can ignore or filter this warning. If it's XML, you should know that using an XML parser will be more reliable. To parse this document as XML, make sure you have the lxml package installed, and pass the keyword argument `features=\"xml\"` into the BeautifulSoup constructor.\n",
            "  soup = BeautifulSoup(html_page.text, \"lxml\")\n"
          ]
        }
      ]
    },
    {
      "cell_type": "code",
      "source": [
        "#USA Today Article Link Scraper\n",
        "page = requests.get('https://www.usatoday.com/news/politics/')\n",
        "soup = BeautifulSoup(page.text, 'html.parser')\n",
        "allLinks = []\n",
        "link = \"https://www.usatoday.com/news/politics/\"\n",
        "for link in soup.find_all('a'):\n",
        "    allLinks.append(link.get('href'))\n",
        "allLinks = filter(None, allLinks)\n",
        "'''\n",
        "   /politics removes livestream & corrections & world politics\n",
        "   also removes other articles e.g. /investigation (ryan routh article)\n",
        "'''\n",
        "linkEnds = [i for i in allLinks if i.startswith('/story/news/politics')]\n",
        "result = ['https://www.usatoday.com' + i for i in linkEnds]\n",
        "USAToday_links = set(result)\n",
        "USAToday_links = list(USAToday_links)"
      ],
      "metadata": {
        "id": "_MdFJZGfhJdQ"
      },
      "execution_count": null,
      "outputs": []
    },
    {
      "cell_type": "code",
      "source": [
        "#NY Post Article Link Scraper\n",
        "#check lxml thing later\n",
        "headers = {\"user-agent\": \"Mozilla/5.0\"}\n",
        "url = 'https://nypost.com/politics/feed/'\n",
        "html_page = requests.get(url, headers=headers)\n",
        "soup = BeautifulSoup(html_page.text, \"lxml\")\n",
        "links = []\n",
        "for item in soup.find_all(\"item\"):\n",
        "  link = str(item)\n",
        "  i = link.find(\"<link/>\")\n",
        "  j = link.find(\"<guid\")\n",
        "  x = link[i+7:j]\n",
        "  y = x.split('\\n', 1)[0]\n",
        "  #remove videos\n",
        "  if not (y.startswith('https://nypost.com/video')):\n",
        "    links.append(y)\n",
        "NYPost_links = links"
      ],
      "metadata": {
        "id": "US_4hPNLmlqe",
        "colab": {
          "base_uri": "https://localhost:8080/"
        },
        "collapsed": true,
        "outputId": "591eff63-435f-43a2-8c89-1f8e9d26096a"
      },
      "execution_count": null,
      "outputs": [
        {
          "output_type": "stream",
          "name": "stderr",
          "text": [
            "<ipython-input-20-4f9876e9c3ac>:6: XMLParsedAsHTMLWarning: It looks like you're parsing an XML document using an HTML parser. If this really is an HTML document (maybe it's XHTML?), you can ignore or filter this warning. If it's XML, you should know that using an XML parser will be more reliable. To parse this document as XML, make sure you have the lxml package installed, and pass the keyword argument `features=\"xml\"` into the BeautifulSoup constructor.\n",
            "  soup = BeautifulSoup(html_page.text, \"lxml\")\n"
          ]
        }
      ]
    },
    {
      "cell_type": "code",
      "source": [
        "#People Article Link Scraper\n",
        "#without user-agent\n",
        "page = requests.get('https://people.com/politics/')\n",
        "soup = BeautifulSoup(page.text, 'html.parser')\n",
        "\n",
        "allLinks = []\n",
        "link = \"https://people.com/politics/\"\n",
        "for link in soup.find_all('a'):\n",
        "    allLinks.append(link.get('href'))\n",
        "allLinks = filter(None, allLinks)\n",
        "#identifier for political articles seems to be a 7 digit # that starts w 87 at the end of the link\n",
        "#check to confirm, at least i got astrology out of there\n",
        "linkEnds = [i for i in allLinks if (len(i) > 8 and i[-7] == '8' and i[-6] == '7')]\n",
        "# result = ['https://people.com' + i for i in linkEnds]\n",
        "People_links = set(linkEnds)\n",
        "People_links = list(People_links)"
      ],
      "metadata": {
        "id": "_zLYbXfDsF-3",
        "colab": {
          "base_uri": "https://localhost:8080/"
        },
        "outputId": "da13bedf-7ff2-485e-a7c2-e4d2a72799f6",
        "collapsed": true
      },
      "execution_count": null,
      "outputs": [
        {
          "output_type": "execute_result",
          "data": {
            "text/plain": [
              "50"
            ]
          },
          "metadata": {},
          "execution_count": 27
        }
      ]
    },
    {
      "cell_type": "code",
      "source": [
        "#Ver 2: People Article Link Scraper\n",
        "#with user-agent\n",
        "#try if the other one breaks\n",
        "'''\n",
        "#Mozilla/5.0 (compatible; Googlebot/2.1; +http://www.google.com/bot.html)\n",
        "#reference: https://www.stanventures.com/blog/googlebot-user-agent-string/\n",
        "#Mozilla/5.0 AppleWebKit/537.36 (KHTML, like Gecko; compatible; Googlebot/2.1; +http://www.google.com/bot.html) Chrome/W.X.Y.Z Safari/537.36\n",
        "headers = {\"user-agent\": \"Mozilla/5.0 (compatible; Googlebot/2.1; +http://www.google.com/bot.html)\"}\n",
        "#Mozilla/5.0 AppleWebKit/537.36 (KHTML, like Gecko; compatible; Googlebot/2.1; +http://www.google.com/bot.html) Chrome/W.X.Y.Z Safari/537.36\n",
        "#Mozilla/5.0 (Windows NT 10.0; Win64; x64) AppleWebKit/537.36 (KHTML, like Gecko) Chrome/113.0.0.0 Safari/537.36 Edg/113.0.1774.35\n",
        "page = requests.get('https://people.com/politics/',headers=headers)\n",
        "soup = BeautifulSoup(page.text, 'html.parser')\n",
        "# print(soup)\n",
        "allLinks = []\n",
        "link = \"https://people.com/politics/\"\n",
        "for link in soup.find_all('a'):\n",
        "    allLinks.append(link.get('href'))\n",
        "allLinks = filter(None, allLinks)\n",
        "#identifier for political articles seems to be a 7 digit # that starts w 87 at the end of the link\n",
        "#check to confirm, at least i got astrology out of there\n",
        "linkEnds = [i for i in allLinks if (len(i) > 8 and i[-7] == '8' and i[-6] == '7')]\n",
        "# result = ['https://people.com' + i for i in linkEnds]\n",
        "People_links = set(linkEnds)\n",
        "People_links = list(People_links)\n",
        "'''"
      ],
      "metadata": {
        "id": "Rypb1tJBdZvt"
      },
      "execution_count": null,
      "outputs": []
    },
    {
      "cell_type": "code",
      "source": [
        "#Daily Mail Article Link Scraper\n",
        "#use this one\n",
        "page = requests.get('https://www.dailymail.co.uk/news/us-politics/index.html')\n",
        "soup = BeautifulSoup(page.text, 'html.parser')\n",
        "allLinks = []\n",
        "link = \"https://www.dailymail.co.uk/news/us-politics/index.html\"\n",
        "for link in soup.find_all('a'):\n",
        "    allLinks.append(link.get('href'))\n",
        "allLinks = filter(None, allLinks)\n",
        "linkEnds = [i for i in allLinks if i.startswith('/news/article')]\n",
        "result = ['https://www.dailymail.co.uk/' + i for i in linkEnds]\n",
        "DailyMail_links = set(result)\n",
        "DailyMail_links = list(DailyMail_links)"
      ],
      "metadata": {
        "id": "a34NKIqqyV_Y"
      },
      "execution_count": null,
      "outputs": []
    },
    {
      "cell_type": "code",
      "source": [
        "#Daily Mail RSS Article Link Scraper - articles not as relevant\n",
        "#don't use this one\n",
        "'''\n",
        "url = 'https://www.dailymail.co.uk/ushome/index.rss'\n",
        "html_page = requests.get(url)\n",
        "soup = BeautifulSoup(html_page.text, \"lxml\")\n",
        "links = []\n",
        "for item in soup.find_all(\"item\"):\n",
        "  link= str(item)\n",
        "  i = link.find(\"<link/>\")\n",
        "  j = link.find(\"<guid\")\n",
        "  x = link[i+7:j]\n",
        "  y = x.split('\\n', 1)[0]\n",
        "  links.append(y)\n",
        "dm_links = links\n",
        "list(set(DailyMail_links).intersection(dm_links))\n",
        "'''"
      ],
      "metadata": {
        "colab": {
          "base_uri": "https://localhost:8080/",
          "height": 71
        },
        "id": "gEdpv5VjhTyi",
        "outputId": "317d20f4-85c1-4005-9583-6cad661d3d94",
        "collapsed": true
      },
      "execution_count": null,
      "outputs": [
        {
          "output_type": "execute_result",
          "data": {
            "text/plain": [
              "'url = \\'https://www.dailymail.co.uk/ushome/index.rss\\'\\nhtml_page = requests.get(url)\\nsoup = BeautifulSoup(html_page.text, \"lxml\")\\nlinks = []\\nfor item in soup.find_all(\"item\"):\\n  link= str(item)\\n  i = link.find(\"<link/>\")\\n  j = link.find(\"<guid\")\\n  x = link[i+7:j]\\n  y = x.split(\\'\\n\\', 1)[0]\\n  links.append(y)\\ndm_links = links\\nlist(set(DailyMail_links).intersection(dm_links))\\n'"
            ],
            "application/vnd.google.colaboratory.intrinsic+json": {
              "type": "string"
            }
          },
          "metadata": {},
          "execution_count": 19
        }
      ]
    },
    {
      "cell_type": "code",
      "source": [
        "#Newsweek Article Link Scraper\n",
        "headers = {\"user-agent\": \"Mozilla/5.0\"}\n",
        "#Mozilla/5.0 (Windows NT 10.0; Win64; x64) AppleWebKit/537.36 (KHTML, like Gecko) Chrome/113.0.0.0 Safari/537.36 Edg/113.0.1774.35\n",
        "page = requests.get('https://www.newsweek.com/politics',headers=headers)\n",
        "soup = BeautifulSoup(page.text, 'html.parser')\n",
        "allLinks = []\n",
        "link = \"https://www.newsweek.com/politics\"\n",
        "for link in soup.find_all('a'):\n",
        "    allLinks.append(link.get('href'))\n",
        "allLinks = filter(None, allLinks)\n",
        "linkEnds = [i for i in allLinks if (len(i) > 8 and i[-7] == '1')]\n",
        "# linkEnds = [i for i in allLinks]\n",
        "result = ['https://www.newsweek.com' + i for i in linkEnds]\n",
        "Newsweek_links = set(result)\n",
        "Newsweek_links = list(Newsweek_links)\n",
        "\n",
        "# initial error\n",
        "# print(soup.find_all('body'))\n",
        "# [<body>\n",
        "# <center><h1>403 Forbidden</h1></center>\n",
        "# </body>]\n",
        "\n",
        "# reference: https://stackoverflow.com/questions/40255128/how-to-parse-the-website-using-beautifulsoup\n",
        "# reference: https://www.useragentlist.net/"
      ],
      "metadata": {
        "id": "q5aaCRR07LF0",
        "collapsed": true
      },
      "execution_count": null,
      "outputs": []
    },
    {
      "cell_type": "code",
      "source": [
        "#NBC News Article Link Scraper\n",
        "url = 'https://feeds.nbcnews.com/nbcnews/public/politics'\n",
        "html_page = requests.get(url)\n",
        "soup = BeautifulSoup(html_page.text, \"lxml\")\n",
        "links = []\n",
        "for item in soup.find_all(\"item\"):\n",
        "  link = str(item)\n",
        "  i = link.find(\"<guid>\")\n",
        "  j = link.find(\"</guid\")\n",
        "  x = link[i+6:j]\n",
        "  y = x.split('\\n', 1)[0]\n",
        "  if y[0:4] == 'http':\n",
        "    links.append(y)\n",
        "# probably unnecessary, try adding in if it breaks\n",
        "# if \"https://www.nbcnews.com/\"  in links:\n",
        "#   links.remove(\"https://www.nbcnews.com/\")\n",
        "NBCNews_links = links"
      ],
      "metadata": {
        "collapsed": true,
        "id": "eAjDWt0X0Vvm"
      },
      "execution_count": null,
      "outputs": []
    },
    {
      "cell_type": "code",
      "source": [
        "#Forbes Article Link Scraper\n",
        "page = requests.get('https://www.forbes.com/topics/politics/')\n",
        "soup = BeautifulSoup(page.text, 'html.parser')\n",
        "allLinks = []\n",
        "link = \"https://www.forbes.com/topics/politics/\"\n",
        "for link in soup.find_all('a'):\n",
        "    allLinks.append(link.get('href'))\n",
        "allLinks = filter(None, allLinks)\n",
        "#all articles contain date (e.g. /2024/09/18)\n",
        "relevantLinks = [i for i in allLinks if '/2' in i]\n",
        "Forbes_links = set(relevantLinks)\n",
        "Forbes_links = list(Forbes_links)"
      ],
      "metadata": {
        "id": "sqqTbfcM6dJd"
      },
      "execution_count": null,
      "outputs": []
    },
    {
      "cell_type": "code",
      "source": [
        "#AP News Article Link Scraper\n",
        "page = requests.get('https://apnews.com/politics')\n",
        "soup = BeautifulSoup(page.text, 'html.parser')\n",
        "allLinks = []\n",
        "link = \"https://apnews.com/politics\"\n",
        "for link in soup.find_all('a'):\n",
        "    allLinks.append(link.get('href'))\n",
        "allLinks = filter(None, allLinks)\n",
        "relevantLinks = [i for i in allLinks if '/article' in i]\n",
        "APNews_links = set(relevantLinks)\n",
        "APNews_links = list(APNews_links)"
      ],
      "metadata": {
        "id": "h-PrNyR79Kao"
      },
      "execution_count": null,
      "outputs": []
    },
    {
      "cell_type": "code",
      "source": [
        "#BBC Article Link Scraper\n",
        "#via U.S. Politics page\n",
        "page = requests.get('https://www.bbc.com/news/topics/cwnpxwzd269t')\n",
        "soup = BeautifulSoup(page.text, 'html.parser')\n",
        "allLinks = []\n",
        "link = \"https://www.bbc.com/news/topics/cwnpxwzd269t\"\n",
        "for link in soup.find_all('a'):\n",
        "    allLinks.append(link.get('href'))\n",
        "allLinks = filter(None, allLinks)\n",
        "linkEnds = [i for i in allLinks if '/article' in i]\n",
        "result = ['https://www.bbc.com' + i for i in linkEnds]\n",
        "BBC_links = set(result)\n",
        "BBC_links = list(BBC_links)"
      ],
      "metadata": {
        "id": "toTEFXAk_VlT"
      },
      "execution_count": null,
      "outputs": []
    },
    {
      "cell_type": "code",
      "source": [
        "#Washington Post Article Link Scraper - in progress\n",
        "headers = {'User-Agent':'Mozilla/5.0 (Macintosh; Intel Mac OS X 10_11_2) AppleWebKit/601.3.9 (KHTML, like Gecko) Version/9.0.2 Safari/601.3.9'}\n",
        "#headers = {\"user-agent\": \"Mozilla/5.0 (compatible; Googlebot/2.1; +http://www.google.com/bot.html)\"}\n",
        "#headers = {\"user-agent\": \"Mozilla/5.0 (compatible; Googlebot/2.1; +http://www.google.com/bot.html)\"}\n",
        "#User-Agent\":'Mozilla/5.0 (Windows NT 6.3; WOW64) AppleWebKit/537.36 (KHTML, like Gecko) Chrome/59.0.3071.115 Safari/537.36\n",
        "#Mozilla/5.0 (Windows NT 10.0; Win64; x64) AppleWebKit/537.36 (KHTML, like Gecko) Chrome/113.0.0.0 Safari/537.36 Edg/113.0.1774.35\n",
        "\n",
        "page = requests.get('https://www.washingtonpost.com/politics/',headers=headers)\n",
        "# print(BS(page.content, 'lxml'))\n",
        "soup = BeautifulSoup(page.text, 'html.parser')\n",
        "# print(soup)\n",
        "\n",
        "allLinks = []\n",
        "link = \"https://www.washingtonpost.com/politics/\"\n",
        "for link in soup.find_all('a'):\n",
        "    allLinks.append(link.get('href'))\n",
        "allLinks = filter(None, allLinks)\n",
        "linkEnds = [i for i in allLinks if \"/politics/\" and \"/2\" in i]\n",
        "links = [i if i.startswith(\"https\") else \"https://www.washingtonpost.com/\" + i for i in linkEnds]\n",
        "\n",
        "WP_links = set(links)\n",
        "WP_links = list(WP_links)\n",
        "WP_links\n",
        "\n",
        "#RSS: https://feeds.washingtonpost.com/rss/rss_the-fix?itid=lk_inline_manual_5"
      ],
      "metadata": {
        "colab": {
          "base_uri": "https://localhost:8080/"
        },
        "id": "rpyYilP8BCus",
        "outputId": "d8156fa3-08fc-4aaf-d8b9-06c3e703e381",
        "collapsed": true
      },
      "execution_count": null,
      "outputs": [
        {
          "output_type": "execute_result",
          "data": {
            "text/plain": [
              "['https://www.washingtonpost.com/elections/interactive/2024/presidential-polling-averages/',\n",
              " 'https://www.washingtonpost.com/politics/2024/10/02/vance-debate-moderators-fact-check/',\n",
              " 'https://www.washingtonpost.com/politics/2024/10/02/vp-debate-overshadowed-war-disaster/',\n",
              " 'https://www.washingtonpost.com//politics/2024/10/02/vance-debate-moderators-fact-check/?itid=mr_politics_5',\n",
              " 'https://www.washingtonpost.com/politics/2024/10/01/donald-trump-60-minutes-interview-kamala-harris/',\n",
              " 'https://www.washingtonpost.com/elections/interactive/2024/vice-presidential-debate-voter-poll/',\n",
              " 'https://www.washingtonpost.com/politics/2024/10/02/trump-his-allies-are-not-planning-concede-another-electoral-loss/',\n",
              " 'https://www.washingtonpost.com//elections/interactive/2024/presidential-polling-averages/?itid=mr_politics_3',\n",
              " 'https://www.washingtonpost.com/politics/2024/10/02/tim-walz-son-witness-shooting-gus/',\n",
              " 'https://www.washingtonpost.com/politics/2024/10/01/trump-maga-misinformation/',\n",
              " 'https://www.washingtonpost.com/politics/2024/10/02/vance-probably-won-debate-walz-might-have-gained-more/',\n",
              " 'https://www.washingtonpost.com/politics/2024/09/30/polls-show-big-increase-republicans-planning-vote-abortion-rights/',\n",
              " 'https://www.washingtonpost.com/politics/2024/10/01/how-voters-view-vance-walz-detail/',\n",
              " 'https://www.washingtonpost.com/politics/2024/10/02/jd-vance-is-trump-20/',\n",
              " 'https://www.washingtonpost.com/politics/2024/10/02/vance-abortion-debate-maga-walz-trump/',\n",
              " 'https://www.washingtonpost.com/politics/2024/10/02/trump-iran-attack-troops-brain-injury/',\n",
              " 'https://www.washingtonpost.com/elections/2024/10/02/election-2024-vp-debate-harris-trump-vance-walz/',\n",
              " 'https://www.washingtonpost.com//politics/2024/10/02/vance-probably-won-debate-walz-might-have-gained-more/?itid=mr_politics_4',\n",
              " 'https://www.washingtonpost.com/politics/2024/10/02/trumps-continued-callousness-toward-injured-soldiers/',\n",
              " 'https://www.washingtonpost.com//politics/2024/10/02/vp-debate-overshadowed-war-disaster/?itid=mr_politics_2',\n",
              " 'https://www.washingtonpost.com/politics/2024/10/02/debate-false-claims-immigrants-housing-crime/',\n",
              " 'https://www.washingtonpost.com/politics/2024/10/02/fact-check-vp-debate-vance-walz/',\n",
              " 'https://www.washingtonpost.com/politics/2024/10/02/vance-used-past-gop-climate-inaction-argue-climate-inaction/',\n",
              " 'https://www.washingtonpost.com//politics/2024/10/01/trump-wisconsin-swerves-subjects/?itid=mr_politics_1',\n",
              " 'https://www.washingtonpost.com/politics/2024/10/02/kamala-harris-liberal-progressive-bernie-sanders-policy/',\n",
              " 'https://www.washingtonpost.com/politics/2024/10/02/highlights-vp-debate-lines-vance-walz/',\n",
              " 'https://www.washingtonpost.com/politics/2024/09/30/union-members-could-be-big-trump-he-keeps-complicating-that/']"
            ]
          },
          "metadata": {},
          "execution_count": 66
        }
      ]
    },
    {
      "cell_type": "code",
      "source": [
        "#CNBC Article Link Scraper\n",
        "url = 'https://search.cnbc.com/rs/search/combinedcms/view.xml?partnerId=wrss01&id=10000113'\n",
        "html_page = requests.get(url)\n",
        "soup = BeautifulSoup(html_page.text, \"lxml\")\n",
        "links = []\n",
        "for item in soup.find_all(\"item\"):\n",
        "  link= str(item)\n",
        "  i = link.find(\"<link/>\")\n",
        "  j = link.find(\"<guid\")\n",
        "  x = link[i+7:j]\n",
        "  #removes white space at end of links\n",
        "  y = x.split('\\n', 1)[0].strip()\n",
        "  links.append(y)\n",
        "CNBC_links = links"
      ],
      "metadata": {
        "colab": {
          "base_uri": "https://localhost:8080/"
        },
        "id": "qPRHMXMHS-_i",
        "outputId": "94c5c6a9-640b-40b9-d1b2-250d9034f265",
        "collapsed": true
      },
      "execution_count": null,
      "outputs": [
        {
          "output_type": "stream",
          "name": "stderr",
          "text": [
            "<ipython-input-67-45db278800c3>:4: XMLParsedAsHTMLWarning: It looks like you're parsing an XML document using an HTML parser. If this really is an HTML document (maybe it's XHTML?), you can ignore or filter this warning. If it's XML, you should know that using an XML parser will be more reliable. To parse this document as XML, make sure you have the lxml package installed, and pass the keyword argument `features=\"xml\"` into the BeautifulSoup constructor.\n",
            "  soup = BeautifulSoup(html_page.text, \"lxml\")\n"
          ]
        },
        {
          "output_type": "execute_result",
          "data": {
            "text/plain": [
              "['https://www.cnbc.com/2024/10/02/trump-special-counsel-evidence-election-harris.html',\n",
              " 'https://www.cnbc.com/2024/10/02/bets-on-congressional-races-allowed-cftc-appeals-court.html',\n",
              " 'https://www.cnbc.com/2024/10/01/harris-small-business-tour-latino-black-voters-trump-election.html',\n",
              " 'https://www.cnbc.com/2024/10/01/israeli-forces-launch-ground-offensive-in-lebanon-as-markets-eye-escalation-.html',\n",
              " 'https://www.cnbc.com/2024/10/01/iran-readying-imminent-ballistic-missile-attack-against-israel-us-official-tells-nbc-news.html',\n",
              " 'https://www.cnbc.com/2024/10/01/vice-presidential-debate-jd-vance-tim-walz.html',\n",
              " 'https://www.cnbc.com/2024/10/01/obamacares-future-hangs-in-the-balance-in-2024-election-.html',\n",
              " 'https://www.cnbc.com/2024/09/30/israeli-military-says-limited-operation-against-hezbollah-targets-in-southern-lebanon-has-begun.html',\n",
              " 'https://www.cnbc.com/2024/09/30/biden-administration-doubles-down-on-tough-asylum-restrictions-at-border.html',\n",
              " 'https://www.cnbc.com/2024/09/30/hurricane-helene-trump-georgia-harris-biden.html',\n",
              " 'https://www.cnbc.com/2024/09/30/education-dept-extends-deadline-for-defaulted-student-loan-borrowers-to-get-current.html',\n",
              " 'https://www.cnbc.com/2024/09/30/irans-response-to-israel-is-a-choice-between-revenge-and-survival.html',\n",
              " 'https://www.cnbc.com/2024/09/29/us-east-coast-port-strike-set-to-start-tuesday-union-says.html',\n",
              " 'https://www.cnbc.com/2024/09/29/-biden-says-he-wont-intervene-if-port-workers-go-on-strike.html',\n",
              " 'https://www.cnbc.com/2024/09/29/mark-cuban-elon-musk-trumps-warning-loyalty-election.html',\n",
              " 'https://www.cnbc.com/2024/09/29/us-boosts-air-support-hikes-troops-readiness-to-deploy-for-middle-east.html',\n",
              " 'https://www.cnbc.com/2024/09/29/israel-pounds-lebanon-pressuring-hezbollah-after-killing-its-leader.html',\n",
              " 'https://www.cnbc.com/2024/09/28/hezbollah-leader-hassan-nasrallah-killed-in-strike-israeli-army-says.html',\n",
              " 'https://www.cnbc.com/2024/09/28/israel-strikes-beirut-suburb-nasrallahs-fate-unclear-after-fridays-massive-attack.html',\n",
              " 'https://www.cnbc.com/2024/09/27/trump-google-should-be-prosecuted-over-search-results.html',\n",
              " 'https://www.cnbc.com/2024/09/27/trump-media-stock-jumps-higher-after-co-founders-dump-djt-shares.html',\n",
              " 'https://www.cnbc.com/2024/09/27/trump-iran-campaign-hack-charges.html',\n",
              " 'https://www.cnbc.com/2024/09/27/israel-says-it-struck-hezbollahs-headquarters-as-huge-explosions-rocked-beirut.html',\n",
              " 'https://www.cnbc.com/2024/09/27/new-york-eric-adams-arraignment-corruption-court.html',\n",
              " 'https://www.cnbc.com/2024/09/27/uk-pm-keir-starmer-touts-pro-business-agenda-as-he-meets-us-ceos.html',\n",
              " 'https://www.cnbc.com/2024/09/26/trump-media-shareholder-dumped-more-than-7point5-million-shares.html',\n",
              " 'https://www.cnbc.com/2024/09/26/matt-gaetz-house-ethics-subpoena-sex-drugs-investigation.html',\n",
              " 'https://www.cnbc.com/2024/09/26/voting-technology-firm-conservative-outlet-reach-settlement-in-2020-election-defamation-case-.html',\n",
              " 'https://www.cnbc.com/2024/09/26/biden-announces-8-billion-in-military-aid-for-ukraine.html',\n",
              " 'https://www.cnbc.com/2024/09/26/eric-adams-probe-hones-in-on-turkish-businessman-.html']"
            ]
          },
          "metadata": {},
          "execution_count": 67
        }
      ]
    },
    {
      "cell_type": "code",
      "source": [
        "#CBS News Article Link Scraper\n",
        "url = 'https://www.cbsnews.com/latest/rss/politics'\n",
        "html_page = requests.get(url)\n",
        "soup = BeautifulSoup(html_page.text, \"lxml\")\n",
        "links = []\n",
        "for item in soup.find_all(\"item\"):\n",
        "  link= str(item)\n",
        "  i = link.find(\"<link/>\")\n",
        "  j = link.find(\"<guid\")\n",
        "  x = link[i+7:j]\n",
        "  y = x.split('\\n', 1)[0]\n",
        "  if \"/news/\" in y:\n",
        "    links.append(y)\n",
        "CBS_links = links\n",
        "CBS_links"
      ],
      "metadata": {
        "colab": {
          "base_uri": "https://localhost:8080/"
        },
        "collapsed": true,
        "id": "eTUXOMlXXMlU",
        "outputId": "4da0d05f-8a64-49b9-f114-96d6561f2d00"
      },
      "execution_count": null,
      "outputs": [
        {
          "output_type": "stream",
          "name": "stderr",
          "text": [
            "<ipython-input-72-36164bfd68a9>:4: XMLParsedAsHTMLWarning: It looks like you're parsing an XML document using an HTML parser. If this really is an HTML document (maybe it's XHTML?), you can ignore or filter this warning. If it's XML, you should know that using an XML parser will be more reliable. To parse this document as XML, make sure you have the lxml package installed, and pass the keyword argument `features=\"xml\"` into the BeautifulSoup constructor.\n",
            "  soup = BeautifulSoup(html_page.text, \"lxml\")\n"
          ]
        },
        {
          "output_type": "execute_result",
          "data": {
            "text/plain": [
              "['https://www.cbsnews.com/news/kamala-harris-fracking-ban/',\n",
              " 'https://www.cbsnews.com/news/trump-2020-election-filing-special-counsel-jack-smith/',\n",
              " 'https://www.cbsnews.com/news/tim-walz-gus-witnessed-st-paul-community-center-shooting/',\n",
              " 'https://www.cbsnews.com/news/biden-hurricane-helene-north-carolina-south-carolina/',\n",
              " 'https://www.cbsnews.com/news/vp-debate-replay-2024/',\n",
              " 'https://www.cbsnews.com/news/how-to-watch-vp-debate-2024/',\n",
              " 'https://www.cbsnews.com/news/vp-debate-moderators-2024/',\n",
              " 'https://www.cbsnews.com/news/full-vp-debate-transcript-walz-vance-2024/',\n",
              " 'https://www.cbsnews.com/news/cbs-news-vp-debate-poll-2024/',\n",
              " 'https://www.cbsnews.com/news/donald-trump-says-he-would-veto-federal-abortion-ban/',\n",
              " 'https://www.cbsnews.com/news/vp-debate-2024-location/',\n",
              " 'https://www.cbsnews.com/news/jd-vance-closing-statement-vp-debate-2024/',\n",
              " 'https://www.cbsnews.com/news/tim-walz-2024-vp-debate-closing-statement/',\n",
              " 'https://www.cbsnews.com/news/fact-check-vp-debate-2024/',\n",
              " 'https://www.cbsnews.com/news/election-deniers-fueling-push-to-hand-count-ballots-georgia-gillespie-county-texas-2024-election/',\n",
              " 'https://www.cbsnews.com/news/kamala-harris-us-steel-nippon-deal/',\n",
              " 'https://www.cbsnews.com/news/tim-walz-jd-vance-debate-economic-policies-minnesota-ctc-taxes-social-security/',\n",
              " 'https://www.cbsnews.com/news/jimmy-carter-turns-100-birthday/',\n",
              " 'https://www.cbsnews.com/news/jimmy-carter-secret-service-reflections/',\n",
              " 'https://www.cbsnews.com/news/trump-tower-nyc-dnc-projections/',\n",
              " 'https://www.cbsnews.com/news/kamala-harris-latinos-ad-blitz-health-care-trump/',\n",
              " 'https://www.cbsnews.com/news/where-does-the-vice-president-live-inside-one-observatory-circle/',\n",
              " 'https://www.cbsnews.com/news/harris-trump-insulin-cost-walz-minnesota-law/']"
            ]
          },
          "metadata": {},
          "execution_count": 72
        }
      ]
    },
    {
      "cell_type": "code",
      "source": [
        "#ABC News Article Link Scraper - in progress\n",
        "\n",
        "# headers = {\"user-agent\": \"Mozilla/5.0\"}\n",
        "#Mozilla/5.0 (Windows NT 10.0; Win64; x64) AppleWebKit/537.36 (KHTML, like Gecko) Chrome/113.0.0.0 Safari/537.36 Edg/113.0.1774.35\n",
        "html_page = requests.get('https://abcnews.go.com/abcnews/politicsheadlines')\n",
        "#lxml-xml needed so it can parse the CDATA (where the links are) ? jk\n",
        "soup = BeautifulSoup(html_page.text, \"lxml\")\n",
        "links = []\n",
        "for item in soup.find_all(\"item\"):\n",
        "  link= str(item)\n",
        "  i = link.find(\"CDATA\")\n",
        "  j = link.find(\"<guid\")\n",
        "  x = link[i+7:j]\n",
        "  y = x.split('\\n', 1)[0]\n",
        "  links.append(y)\n",
        "\n",
        "ABC_links = links\n",
        "ABC_links"
      ],
      "metadata": {
        "colab": {
          "base_uri": "https://localhost:8080/"
        },
        "collapsed": true,
        "id": "JMUnOcm5YLG9",
        "outputId": "4808e038-a81c-42f9-c86c-0319c9a861ac"
      },
      "execution_count": null,
      "outputs": [
        {
          "output_type": "stream",
          "name": "stderr",
          "text": [
            "<ipython-input-75-e623378e342b>:7: XMLParsedAsHTMLWarning: It looks like you're parsing an XML document using an HTML parser. If this really is an HTML document (maybe it's XHTML?), you can ignore or filter this warning. If it's XML, you should know that using an XML parser will be more reliable. To parse this document as XML, make sure you have the lxml package installed, and pass the keyword argument `features=\"xml\"` into the BeautifulSoup constructor.\n",
            "  soup = BeautifulSoup(html_page.text, \"lxml\")\n"
          ]
        },
        {
          "output_type": "execute_result",
          "data": {
            "text/plain": [
              "['<media:thumbnail height=\"288\" url=\"https://s.abcnews.com/images/US/wirestory_948b9f7356c5954faac7b8ca15d6567c_4x3_384.jpg\" width=\"384\"></media:thumbnail><media:thumbnail height=\"108\" url=\"https://s.abcnews.com/images/US/wirestory_948b9f7356c5954faac7b8ca15d6567c_4x3_144.jpg\" width=\"144\"></media:thumbnail><media:thumbnail height=\"288\" url=\"https://s.abcnews.com/images/US/wirestory_948b9f7356c5954faac7b8ca15d6567c_4x3_384.jpg\" width=\"384\"></media:thumbnail><media:thumbnail height=\"135\" url=\"https://s.abcnews.com/images/US/wirestory_948b9f7356c5954faac7b8ca15d6567c_16x9_240.jpg\" width=\"240\"></media:thumbnail><media:thumbnail height=\"456\" url=\"https://s.abcnews.com/images/US/wirestory_948b9f7356c5954faac7b8ca15d6567c_4x3_608.jpg\" width=\"608\"></media:thumbnail><media:thumbnail height=\"558\" url=\"https://s.abcnews.com/images/US/wirestory_948b9f7356c5954faac7b8ca15d6567c_16x9_992.jpg\" width=\"992\"></media:thumbnail><media:thumbnail height=\"900\" url=\"https://s.abcnews.com/images/US/wirestory_948b9f7356c5954faac7b8ca15d6567c_16x9_1600.jpg\" width=\"1600\"></media:thumbnail>',\n",
              " '<media:thumbnail height=\"288\" url=\"https://s.abcnews.com/images/Sports/wirestory_889884bcf79cfb4f038603a4ee4bc4e4_4x3_384.jpg\" width=\"384\"></media:thumbnail><media:thumbnail height=\"108\" url=\"https://s.abcnews.com/images/Sports/wirestory_889884bcf79cfb4f038603a4ee4bc4e4_4x3_144.jpg\" width=\"144\"></media:thumbnail><media:thumbnail height=\"288\" url=\"https://s.abcnews.com/images/Sports/wirestory_889884bcf79cfb4f038603a4ee4bc4e4_4x3_384.jpg\" width=\"384\"></media:thumbnail><media:thumbnail height=\"135\" url=\"https://s.abcnews.com/images/Sports/wirestory_889884bcf79cfb4f038603a4ee4bc4e4_16x9_240.jpg\" width=\"240\"></media:thumbnail><media:thumbnail height=\"456\" url=\"https://s.abcnews.com/images/Sports/wirestory_889884bcf79cfb4f038603a4ee4bc4e4_4x3_608.jpg\" width=\"608\"></media:thumbnail><media:thumbnail height=\"558\" url=\"https://s.abcnews.com/images/Sports/wirestory_889884bcf79cfb4f038603a4ee4bc4e4_16x9_992.jpg\" width=\"992\"></media:thumbnail><media:thumbnail height=\"900\" url=\"https://s.abcnews.com/images/Sports/wirestory_889884bcf79cfb4f038603a4ee4bc4e4_16x9_1600.jpg\" width=\"1600\"></media:thumbnail>',\n",
              " '<media:thumbnail height=\"288\" url=\"https://s.abcnews.com/images/US/wirestory_51e1dec76376e46ccb57b42bc0843704_4x3_384.jpg\" width=\"384\"></media:thumbnail><media:thumbnail height=\"108\" url=\"https://s.abcnews.com/images/US/wirestory_51e1dec76376e46ccb57b42bc0843704_4x3_144.jpg\" width=\"144\"></media:thumbnail><media:thumbnail height=\"288\" url=\"https://s.abcnews.com/images/US/wirestory_51e1dec76376e46ccb57b42bc0843704_4x3_384.jpg\" width=\"384\"></media:thumbnail><media:thumbnail height=\"135\" url=\"https://s.abcnews.com/images/US/wirestory_51e1dec76376e46ccb57b42bc0843704_16x9_240.jpg\" width=\"240\"></media:thumbnail><media:thumbnail height=\"456\" url=\"https://s.abcnews.com/images/US/wirestory_51e1dec76376e46ccb57b42bc0843704_4x3_608.jpg\" width=\"608\"></media:thumbnail><media:thumbnail height=\"558\" url=\"https://s.abcnews.com/images/US/wirestory_51e1dec76376e46ccb57b42bc0843704_16x9_992.jpg\" width=\"992\"></media:thumbnail><media:thumbnail height=\"900\" url=\"https://s.abcnews.com/images/US/wirestory_51e1dec76376e46ccb57b42bc0843704_16x9_1600.jpg\" width=\"1600\"></media:thumbnail>',\n",
              " '<media:thumbnail height=\"288\" url=\"https://s.abcnews.com/images/US/wirestory_adccecd533294838bbb2cb08fcd41258_4x3_384.jpg\" width=\"384\"></media:thumbnail><media:thumbnail height=\"108\" url=\"https://s.abcnews.com/images/US/wirestory_adccecd533294838bbb2cb08fcd41258_4x3_144.jpg\" width=\"144\"></media:thumbnail><media:thumbnail height=\"288\" url=\"https://s.abcnews.com/images/US/wirestory_adccecd533294838bbb2cb08fcd41258_4x3_384.jpg\" width=\"384\"></media:thumbnail><media:thumbnail height=\"135\" url=\"https://s.abcnews.com/images/US/wirestory_adccecd533294838bbb2cb08fcd41258_16x9_240.jpg\" width=\"240\"></media:thumbnail><media:thumbnail height=\"456\" url=\"https://s.abcnews.com/images/US/wirestory_adccecd533294838bbb2cb08fcd41258_4x3_608.jpg\" width=\"608\"></media:thumbnail><media:thumbnail height=\"558\" url=\"https://s.abcnews.com/images/US/wirestory_adccecd533294838bbb2cb08fcd41258_16x9_992.jpg\" width=\"992\"></media:thumbnail><media:thumbnail height=\"900\" url=\"https://s.abcnews.com/images/US/wirestory_adccecd533294838bbb2cb08fcd41258_16x9_1600.jpg\" width=\"1600\"></media:thumbnail>',\n",
              " '<media:thumbnail height=\"288\" url=\"https://s.abcnews.com/images/Sports/wirestory_1645c02233d53eb7094e6d2f9653813e_4x3_384.jpg\" width=\"384\"></media:thumbnail><media:thumbnail height=\"108\" url=\"https://s.abcnews.com/images/Sports/wirestory_1645c02233d53eb7094e6d2f9653813e_4x3_144.jpg\" width=\"144\"></media:thumbnail><media:thumbnail height=\"288\" url=\"https://s.abcnews.com/images/Sports/wirestory_1645c02233d53eb7094e6d2f9653813e_4x3_384.jpg\" width=\"384\"></media:thumbnail><media:thumbnail height=\"135\" url=\"https://s.abcnews.com/images/Sports/wirestory_1645c02233d53eb7094e6d2f9653813e_16x9_240.jpg\" width=\"240\"></media:thumbnail><media:thumbnail height=\"456\" url=\"https://s.abcnews.com/images/Sports/wirestory_1645c02233d53eb7094e6d2f9653813e_4x3_608.jpg\" width=\"608\"></media:thumbnail><media:thumbnail height=\"558\" url=\"https://s.abcnews.com/images/Sports/wirestory_1645c02233d53eb7094e6d2f9653813e_16x9_992.jpg\" width=\"992\"></media:thumbnail><media:thumbnail height=\"900\" url=\"https://s.abcnews.com/images/Sports/wirestory_1645c02233d53eb7094e6d2f9653813e_16x9_1600.jpg\" width=\"1600\"></media:thumbnail>',\n",
              " '<media:thumbnail height=\"288\" url=\"https://s.abcnews.com/images/US/wirestory_fb0d90c029b5ba595d3ef58b887794b5_4x3_384.jpg\" width=\"384\"></media:thumbnail><media:thumbnail height=\"108\" url=\"https://s.abcnews.com/images/US/wirestory_fb0d90c029b5ba595d3ef58b887794b5_4x3_144.jpg\" width=\"144\"></media:thumbnail><media:thumbnail height=\"288\" url=\"https://s.abcnews.com/images/US/wirestory_fb0d90c029b5ba595d3ef58b887794b5_4x3_384.jpg\" width=\"384\"></media:thumbnail><media:thumbnail height=\"135\" url=\"https://s.abcnews.com/images/US/wirestory_fb0d90c029b5ba595d3ef58b887794b5_16x9_240.jpg\" width=\"240\"></media:thumbnail><media:thumbnail height=\"456\" url=\"https://s.abcnews.com/images/US/wirestory_fb0d90c029b5ba595d3ef58b887794b5_4x3_608.jpg\" width=\"608\"></media:thumbnail><media:thumbnail height=\"558\" url=\"https://s.abcnews.com/images/US/wirestory_fb0d90c029b5ba595d3ef58b887794b5_16x9_992.jpg\" width=\"992\"></media:thumbnail><media:thumbnail height=\"900\" url=\"https://s.abcnews.com/images/US/wirestory_fb0d90c029b5ba595d3ef58b887794b5_16x9_1600.jpg\" width=\"1600\"></media:thumbnail>',\n",
              " '<media:thumbnail height=\"288\" url=\"https://s.abcnews.com/images/Politics/wirestory_b2ba13e1974f406e68681adfb26fdd5d_4x3_384.jpg\" width=\"384\"></media:thumbnail><media:thumbnail height=\"108\" url=\"https://s.abcnews.com/images/Politics/wirestory_b2ba13e1974f406e68681adfb26fdd5d_4x3_144.jpg\" width=\"144\"></media:thumbnail><media:thumbnail height=\"288\" url=\"https://s.abcnews.com/images/Politics/wirestory_b2ba13e1974f406e68681adfb26fdd5d_4x3_384.jpg\" width=\"384\"></media:thumbnail><media:thumbnail height=\"135\" url=\"https://s.abcnews.com/images/Politics/wirestory_b2ba13e1974f406e68681adfb26fdd5d_16x9_240.jpg\" width=\"240\"></media:thumbnail><media:thumbnail height=\"456\" url=\"https://s.abcnews.com/images/Politics/wirestory_b2ba13e1974f406e68681adfb26fdd5d_4x3_608.jpg\" width=\"608\"></media:thumbnail><media:thumbnail height=\"558\" url=\"https://s.abcnews.com/images/Politics/wirestory_b2ba13e1974f406e68681adfb26fdd5d_16x9_992.jpg\" width=\"992\"></media:thumbnail><media:thumbnail height=\"900\" url=\"https://s.abcnews.com/images/Politics/wirestory_b2ba13e1974f406e68681adfb26fdd5d_16x9_1600.jpg\" width=\"1600\"></media:thumbnail>',\n",
              " '<media:thumbnail height=\"288\" url=\"https://s.abcnews.com/images/US/abc_news_default_2000x2000_update_4x3t_384.jpg\" width=\"384\"></media:thumbnail><media:thumbnail height=\"108\" url=\"https://s.abcnews.com/images/US/abc_news_default_2000x2000_update_4x3t_144.jpg\" width=\"144\"></media:thumbnail><media:thumbnail height=\"288\" url=\"https://s.abcnews.com/images/US/abc_news_default_2000x2000_update_4x3t_384.jpg\" width=\"384\"></media:thumbnail><media:thumbnail height=\"135\" url=\"https://s.abcnews.com/images/US/abc_news_default_2000x2000_update_16x9t_240.jpg\" width=\"240\"></media:thumbnail><media:thumbnail height=\"456\" url=\"https://s.abcnews.com/images/US/abc_news_default_2000x2000_update_4x3_608.jpg\" width=\"608\"></media:thumbnail><media:thumbnail height=\"558\" url=\"https://s.abcnews.com/images/US/abc_news_default_2000x2000_update_16x9_992.jpg\" width=\"992\"></media:thumbnail><media:thumbnail height=\"900\" url=\"https://s.abcnews.com/images/US/abc_news_default_2000x2000_update_16x9_1600.jpg\" width=\"1600\"></media:thumbnail>',\n",
              " '<media:thumbnail height=\"288\" url=\"https://s.abcnews.com/images/US/abc_news_default_2000x2000_update_4x3t_384.jpg\" width=\"384\"></media:thumbnail><media:thumbnail height=\"108\" url=\"https://s.abcnews.com/images/US/abc_news_default_2000x2000_update_4x3t_144.jpg\" width=\"144\"></media:thumbnail><media:thumbnail height=\"288\" url=\"https://s.abcnews.com/images/US/abc_news_default_2000x2000_update_4x3t_384.jpg\" width=\"384\"></media:thumbnail><media:thumbnail height=\"135\" url=\"https://s.abcnews.com/images/US/abc_news_default_2000x2000_update_16x9t_240.jpg\" width=\"240\"></media:thumbnail><media:thumbnail height=\"456\" url=\"https://s.abcnews.com/images/US/abc_news_default_2000x2000_update_4x3_608.jpg\" width=\"608\"></media:thumbnail><media:thumbnail height=\"558\" url=\"https://s.abcnews.com/images/US/abc_news_default_2000x2000_update_16x9_992.jpg\" width=\"992\"></media:thumbnail><media:thumbnail height=\"900\" url=\"https://s.abcnews.com/images/US/abc_news_default_2000x2000_update_16x9_1600.jpg\" width=\"1600\"></media:thumbnail>',\n",
              " '<media:thumbnail height=\"288\" url=\"https://s.abcnews.com/images/US/wirestory_1db4e1163c48045ce5c996ef7d5a9896_4x3_384.jpg\" width=\"384\"></media:thumbnail><media:thumbnail height=\"108\" url=\"https://s.abcnews.com/images/US/wirestory_1db4e1163c48045ce5c996ef7d5a9896_4x3_144.jpg\" width=\"144\"></media:thumbnail><media:thumbnail height=\"288\" url=\"https://s.abcnews.com/images/US/wirestory_1db4e1163c48045ce5c996ef7d5a9896_4x3_384.jpg\" width=\"384\"></media:thumbnail><media:thumbnail height=\"135\" url=\"https://s.abcnews.com/images/US/wirestory_1db4e1163c48045ce5c996ef7d5a9896_16x9_240.jpg\" width=\"240\"></media:thumbnail><media:thumbnail height=\"456\" url=\"https://s.abcnews.com/images/US/wirestory_1db4e1163c48045ce5c996ef7d5a9896_4x3_608.jpg\" width=\"608\"></media:thumbnail><media:thumbnail height=\"558\" url=\"https://s.abcnews.com/images/US/wirestory_1db4e1163c48045ce5c996ef7d5a9896_16x9_992.jpg\" width=\"992\"></media:thumbnail><media:thumbnail height=\"900\" url=\"https://s.abcnews.com/images/US/wirestory_1db4e1163c48045ce5c996ef7d5a9896_16x9_1600.jpg\" width=\"1600\"></media:thumbnail>',\n",
              " '<media:thumbnail height=\"288\" url=\"https://s.abcnews.com/images/US/wirestory_f7b9aee24c58ee8a65d437c15c2d77a7_4x3_384.jpg\" width=\"384\"></media:thumbnail><media:thumbnail height=\"108\" url=\"https://s.abcnews.com/images/US/wirestory_f7b9aee24c58ee8a65d437c15c2d77a7_4x3_144.jpg\" width=\"144\"></media:thumbnail><media:thumbnail height=\"288\" url=\"https://s.abcnews.com/images/US/wirestory_f7b9aee24c58ee8a65d437c15c2d77a7_4x3_384.jpg\" width=\"384\"></media:thumbnail><media:thumbnail height=\"135\" url=\"https://s.abcnews.com/images/US/wirestory_f7b9aee24c58ee8a65d437c15c2d77a7_16x9_240.jpg\" width=\"240\"></media:thumbnail><media:thumbnail height=\"456\" url=\"https://s.abcnews.com/images/US/wirestory_f7b9aee24c58ee8a65d437c15c2d77a7_4x3_608.jpg\" width=\"608\"></media:thumbnail><media:thumbnail height=\"558\" url=\"https://s.abcnews.com/images/US/wirestory_f7b9aee24c58ee8a65d437c15c2d77a7_16x9_992.jpg\" width=\"992\"></media:thumbnail><media:thumbnail height=\"900\" url=\"https://s.abcnews.com/images/US/wirestory_f7b9aee24c58ee8a65d437c15c2d77a7_16x9_1600.jpg\" width=\"1600\"></media:thumbnail>',\n",
              " '<media:thumbnail height=\"288\" url=\"https://s.abcnews.com/images/US/abc_news_default_2000x2000_update_4x3t_384.jpg\" width=\"384\"></media:thumbnail><media:thumbnail height=\"108\" url=\"https://s.abcnews.com/images/US/abc_news_default_2000x2000_update_4x3t_144.jpg\" width=\"144\"></media:thumbnail><media:thumbnail height=\"288\" url=\"https://s.abcnews.com/images/US/abc_news_default_2000x2000_update_4x3t_384.jpg\" width=\"384\"></media:thumbnail><media:thumbnail height=\"135\" url=\"https://s.abcnews.com/images/US/abc_news_default_2000x2000_update_16x9t_240.jpg\" width=\"240\"></media:thumbnail><media:thumbnail height=\"456\" url=\"https://s.abcnews.com/images/US/abc_news_default_2000x2000_update_4x3_608.jpg\" width=\"608\"></media:thumbnail><media:thumbnail height=\"558\" url=\"https://s.abcnews.com/images/US/abc_news_default_2000x2000_update_16x9_992.jpg\" width=\"992\"></media:thumbnail><media:thumbnail height=\"900\" url=\"https://s.abcnews.com/images/US/abc_news_default_2000x2000_update_16x9_1600.jpg\" width=\"1600\"></media:thumbnail>',\n",
              " '<media:thumbnail height=\"288\" url=\"https://s.abcnews.com/images/Politics/wirestory_b99fa141637231470123c1e4ffeb071e_4x3_384.jpg\" width=\"384\"></media:thumbnail><media:thumbnail height=\"108\" url=\"https://s.abcnews.com/images/Politics/wirestory_b99fa141637231470123c1e4ffeb071e_4x3_144.jpg\" width=\"144\"></media:thumbnail><media:thumbnail height=\"288\" url=\"https://s.abcnews.com/images/Politics/wirestory_b99fa141637231470123c1e4ffeb071e_4x3_384.jpg\" width=\"384\"></media:thumbnail><media:thumbnail height=\"135\" url=\"https://s.abcnews.com/images/Politics/wirestory_b99fa141637231470123c1e4ffeb071e_16x9_240.jpg\" width=\"240\"></media:thumbnail><media:thumbnail height=\"456\" url=\"https://s.abcnews.com/images/Politics/wirestory_b99fa141637231470123c1e4ffeb071e_4x3_608.jpg\" width=\"608\"></media:thumbnail><media:thumbnail height=\"558\" url=\"https://s.abcnews.com/images/Politics/wirestory_b99fa141637231470123c1e4ffeb071e_16x9_992.jpg\" width=\"992\"></media:thumbnail><media:thumbnail height=\"900\" url=\"https://s.abcnews.com/images/Politics/wirestory_b99fa141637231470123c1e4ffeb071e_16x9_1600.jpg\" width=\"1600\"></media:thumbnail>',\n",
              " '<media:thumbnail height=\"288\" url=\"https://s.abcnews.com/images/US/wirestory_000be5d166708536a39b9e764868fbb4_4x3_384.jpg\" width=\"384\"></media:thumbnail><media:thumbnail height=\"108\" url=\"https://s.abcnews.com/images/US/wirestory_000be5d166708536a39b9e764868fbb4_4x3_144.jpg\" width=\"144\"></media:thumbnail><media:thumbnail height=\"288\" url=\"https://s.abcnews.com/images/US/wirestory_000be5d166708536a39b9e764868fbb4_4x3_384.jpg\" width=\"384\"></media:thumbnail><media:thumbnail height=\"135\" url=\"https://s.abcnews.com/images/US/wirestory_000be5d166708536a39b9e764868fbb4_16x9_240.jpg\" width=\"240\"></media:thumbnail><media:thumbnail height=\"456\" url=\"https://s.abcnews.com/images/US/wirestory_000be5d166708536a39b9e764868fbb4_4x3_608.jpg\" width=\"608\"></media:thumbnail><media:thumbnail height=\"558\" url=\"https://s.abcnews.com/images/US/wirestory_000be5d166708536a39b9e764868fbb4_16x9_992.jpg\" width=\"992\"></media:thumbnail><media:thumbnail height=\"900\" url=\"https://s.abcnews.com/images/US/wirestory_000be5d166708536a39b9e764868fbb4_16x9_1600.jpg\" width=\"1600\"></media:thumbnail>',\n",
              " '<media:thumbnail height=\"288\" url=\"https://s.abcnews.com/images/US/wirestory_759c54bf1b8225644dd7e69ae0ceb4a7_4x3_384.jpg\" width=\"384\"></media:thumbnail><media:thumbnail height=\"108\" url=\"https://s.abcnews.com/images/US/wirestory_759c54bf1b8225644dd7e69ae0ceb4a7_4x3_144.jpg\" width=\"144\"></media:thumbnail><media:thumbnail height=\"288\" url=\"https://s.abcnews.com/images/US/wirestory_759c54bf1b8225644dd7e69ae0ceb4a7_4x3_384.jpg\" width=\"384\"></media:thumbnail><media:thumbnail height=\"135\" url=\"https://s.abcnews.com/images/US/wirestory_759c54bf1b8225644dd7e69ae0ceb4a7_16x9_240.jpg\" width=\"240\"></media:thumbnail><media:thumbnail height=\"456\" url=\"https://s.abcnews.com/images/US/wirestory_759c54bf1b8225644dd7e69ae0ceb4a7_4x3_608.jpg\" width=\"608\"></media:thumbnail><media:thumbnail height=\"558\" url=\"https://s.abcnews.com/images/US/wirestory_759c54bf1b8225644dd7e69ae0ceb4a7_16x9_992.jpg\" width=\"992\"></media:thumbnail><media:thumbnail height=\"900\" url=\"https://s.abcnews.com/images/US/wirestory_759c54bf1b8225644dd7e69ae0ceb4a7_16x9_1600.jpg\" width=\"1600\"></media:thumbnail>',\n",
              " '<media:thumbnail height=\"288\" url=\"https://s.abcnews.com/images/US/wirestory_a3f67b1fdef425038dfac9267861247c_4x3_384.jpg\" width=\"384\"></media:thumbnail><media:thumbnail height=\"108\" url=\"https://s.abcnews.com/images/US/wirestory_a3f67b1fdef425038dfac9267861247c_4x3_144.jpg\" width=\"144\"></media:thumbnail><media:thumbnail height=\"288\" url=\"https://s.abcnews.com/images/US/wirestory_a3f67b1fdef425038dfac9267861247c_4x3_384.jpg\" width=\"384\"></media:thumbnail><media:thumbnail height=\"135\" url=\"https://s.abcnews.com/images/US/wirestory_a3f67b1fdef425038dfac9267861247c_16x9_240.jpg\" width=\"240\"></media:thumbnail><media:thumbnail height=\"456\" url=\"https://s.abcnews.com/images/US/wirestory_a3f67b1fdef425038dfac9267861247c_4x3_608.jpg\" width=\"608\"></media:thumbnail><media:thumbnail height=\"558\" url=\"https://s.abcnews.com/images/US/wirestory_a3f67b1fdef425038dfac9267861247c_16x9_992.jpg\" width=\"992\"></media:thumbnail><media:thumbnail height=\"900\" url=\"https://s.abcnews.com/images/US/wirestory_a3f67b1fdef425038dfac9267861247c_16x9_1600.jpg\" width=\"1600\"></media:thumbnail>',\n",
              " '<media:thumbnail height=\"288\" url=\"https://s.abcnews.com/images/US/wirestory_66ff2e5e45a8dda55b0a2242fc238fdc_4x3_384.jpg\" width=\"384\"></media:thumbnail><media:thumbnail height=\"108\" url=\"https://s.abcnews.com/images/US/wirestory_66ff2e5e45a8dda55b0a2242fc238fdc_4x3_144.jpg\" width=\"144\"></media:thumbnail><media:thumbnail height=\"288\" url=\"https://s.abcnews.com/images/US/wirestory_66ff2e5e45a8dda55b0a2242fc238fdc_4x3_384.jpg\" width=\"384\"></media:thumbnail><media:thumbnail height=\"135\" url=\"https://s.abcnews.com/images/US/wirestory_66ff2e5e45a8dda55b0a2242fc238fdc_16x9_240.jpg\" width=\"240\"></media:thumbnail><media:thumbnail height=\"456\" url=\"https://s.abcnews.com/images/US/wirestory_66ff2e5e45a8dda55b0a2242fc238fdc_4x3_608.jpg\" width=\"608\"></media:thumbnail><media:thumbnail height=\"558\" url=\"https://s.abcnews.com/images/US/wirestory_66ff2e5e45a8dda55b0a2242fc238fdc_16x9_992.jpg\" width=\"992\"></media:thumbnail><media:thumbnail height=\"900\" url=\"https://s.abcnews.com/images/US/wirestory_66ff2e5e45a8dda55b0a2242fc238fdc_16x9_1600.jpg\" width=\"1600\"></media:thumbnail>',\n",
              " '<media:thumbnail height=\"288\" url=\"https://s.abcnews.com/images/US/wirestory_5bb7129c955756010eecc81cfcf1c8fd_4x3_384.jpg\" width=\"384\"></media:thumbnail><media:thumbnail height=\"108\" url=\"https://s.abcnews.com/images/US/wirestory_5bb7129c955756010eecc81cfcf1c8fd_4x3_144.jpg\" width=\"144\"></media:thumbnail><media:thumbnail height=\"288\" url=\"https://s.abcnews.com/images/US/wirestory_5bb7129c955756010eecc81cfcf1c8fd_4x3_384.jpg\" width=\"384\"></media:thumbnail><media:thumbnail height=\"135\" url=\"https://s.abcnews.com/images/US/wirestory_5bb7129c955756010eecc81cfcf1c8fd_16x9_240.jpg\" width=\"240\"></media:thumbnail><media:thumbnail height=\"456\" url=\"https://s.abcnews.com/images/US/wirestory_5bb7129c955756010eecc81cfcf1c8fd_4x3_608.jpg\" width=\"608\"></media:thumbnail><media:thumbnail height=\"558\" url=\"https://s.abcnews.com/images/US/wirestory_5bb7129c955756010eecc81cfcf1c8fd_16x9_992.jpg\" width=\"992\"></media:thumbnail><media:thumbnail height=\"900\" url=\"https://s.abcnews.com/images/US/wirestory_5bb7129c955756010eecc81cfcf1c8fd_16x9_1600.jpg\" width=\"1600\"></media:thumbnail>',\n",
              " '<media:thumbnail height=\"288\" url=\"https://s.abcnews.com/images/US/wirestory_765c318244e3fc60dd2bb56f32bc7603_4x3_384.jpg\" width=\"384\"></media:thumbnail><media:thumbnail height=\"108\" url=\"https://s.abcnews.com/images/US/wirestory_765c318244e3fc60dd2bb56f32bc7603_4x3_144.jpg\" width=\"144\"></media:thumbnail><media:thumbnail height=\"288\" url=\"https://s.abcnews.com/images/US/wirestory_765c318244e3fc60dd2bb56f32bc7603_4x3_384.jpg\" width=\"384\"></media:thumbnail><media:thumbnail height=\"135\" url=\"https://s.abcnews.com/images/US/wirestory_765c318244e3fc60dd2bb56f32bc7603_16x9_240.jpg\" width=\"240\"></media:thumbnail><media:thumbnail height=\"456\" url=\"https://s.abcnews.com/images/US/wirestory_765c318244e3fc60dd2bb56f32bc7603_4x3_608.jpg\" width=\"608\"></media:thumbnail><media:thumbnail height=\"558\" url=\"https://s.abcnews.com/images/US/wirestory_765c318244e3fc60dd2bb56f32bc7603_16x9_992.jpg\" width=\"992\"></media:thumbnail><media:thumbnail height=\"900\" url=\"https://s.abcnews.com/images/US/wirestory_765c318244e3fc60dd2bb56f32bc7603_16x9_1600.jpg\" width=\"1600\"></media:thumbnail>',\n",
              " '<media:thumbnail height=\"288\" url=\"https://s.abcnews.com/images/US/wirestory_f0400b64e7e632e39e0704b07b415b48_4x3_384.jpg\" width=\"384\"></media:thumbnail><media:thumbnail height=\"108\" url=\"https://s.abcnews.com/images/US/wirestory_f0400b64e7e632e39e0704b07b415b48_4x3_144.jpg\" width=\"144\"></media:thumbnail><media:thumbnail height=\"288\" url=\"https://s.abcnews.com/images/US/wirestory_f0400b64e7e632e39e0704b07b415b48_4x3_384.jpg\" width=\"384\"></media:thumbnail><media:thumbnail height=\"135\" url=\"https://s.abcnews.com/images/US/wirestory_f0400b64e7e632e39e0704b07b415b48_16x9_240.jpg\" width=\"240\"></media:thumbnail><media:thumbnail height=\"456\" url=\"https://s.abcnews.com/images/US/wirestory_f0400b64e7e632e39e0704b07b415b48_4x3_608.jpg\" width=\"608\"></media:thumbnail><media:thumbnail height=\"558\" url=\"https://s.abcnews.com/images/US/wirestory_f0400b64e7e632e39e0704b07b415b48_16x9_992.jpg\" width=\"992\"></media:thumbnail><media:thumbnail height=\"900\" url=\"https://s.abcnews.com/images/US/wirestory_f0400b64e7e632e39e0704b07b415b48_16x9_1600.jpg\" width=\"1600\"></media:thumbnail>',\n",
              " '<media:thumbnail height=\"288\" url=\"https://s.abcnews.com/images/US/wirestory_b93d6bbbf08c5046b4cee70ba7676a52_4x3_384.jpg\" width=\"384\"></media:thumbnail><media:thumbnail height=\"108\" url=\"https://s.abcnews.com/images/US/wirestory_b93d6bbbf08c5046b4cee70ba7676a52_4x3_144.jpg\" width=\"144\"></media:thumbnail><media:thumbnail height=\"288\" url=\"https://s.abcnews.com/images/US/wirestory_b93d6bbbf08c5046b4cee70ba7676a52_4x3_384.jpg\" width=\"384\"></media:thumbnail><media:thumbnail height=\"135\" url=\"https://s.abcnews.com/images/US/wirestory_b93d6bbbf08c5046b4cee70ba7676a52_16x9_240.jpg\" width=\"240\"></media:thumbnail><media:thumbnail height=\"456\" url=\"https://s.abcnews.com/images/US/wirestory_b93d6bbbf08c5046b4cee70ba7676a52_4x3_608.jpg\" width=\"608\"></media:thumbnail><media:thumbnail height=\"558\" url=\"https://s.abcnews.com/images/US/wirestory_b93d6bbbf08c5046b4cee70ba7676a52_16x9_992.jpg\" width=\"992\"></media:thumbnail><media:thumbnail height=\"900\" url=\"https://s.abcnews.com/images/US/wirestory_b93d6bbbf08c5046b4cee70ba7676a52_16x9_1600.jpg\" width=\"1600\"></media:thumbnail>',\n",
              " '<media:thumbnail height=\"288\" url=\"https://s.abcnews.com/images/US/wirestory_9d7e3087d38a0e4b308613c0e2a91a94_4x3_384.jpg\" width=\"384\"></media:thumbnail><media:thumbnail height=\"108\" url=\"https://s.abcnews.com/images/US/wirestory_9d7e3087d38a0e4b308613c0e2a91a94_4x3_144.jpg\" width=\"144\"></media:thumbnail><media:thumbnail height=\"288\" url=\"https://s.abcnews.com/images/US/wirestory_9d7e3087d38a0e4b308613c0e2a91a94_4x3_384.jpg\" width=\"384\"></media:thumbnail><media:thumbnail height=\"135\" url=\"https://s.abcnews.com/images/US/wirestory_9d7e3087d38a0e4b308613c0e2a91a94_16x9_240.jpg\" width=\"240\"></media:thumbnail><media:thumbnail height=\"456\" url=\"https://s.abcnews.com/images/US/wirestory_9d7e3087d38a0e4b308613c0e2a91a94_4x3_608.jpg\" width=\"608\"></media:thumbnail><media:thumbnail height=\"558\" url=\"https://s.abcnews.com/images/US/wirestory_9d7e3087d38a0e4b308613c0e2a91a94_16x9_992.jpg\" width=\"992\"></media:thumbnail><media:thumbnail height=\"900\" url=\"https://s.abcnews.com/images/US/wirestory_9d7e3087d38a0e4b308613c0e2a91a94_16x9_1600.jpg\" width=\"1600\"></media:thumbnail>',\n",
              " '<media:thumbnail height=\"288\" url=\"https://s.abcnews.com/images/Politics/wirestory_639ceab0831b4c304fb132bcf254e48a_4x3_384.jpg\" width=\"384\"></media:thumbnail><media:thumbnail height=\"108\" url=\"https://s.abcnews.com/images/Politics/wirestory_639ceab0831b4c304fb132bcf254e48a_4x3_144.jpg\" width=\"144\"></media:thumbnail><media:thumbnail height=\"288\" url=\"https://s.abcnews.com/images/Politics/wirestory_639ceab0831b4c304fb132bcf254e48a_4x3_384.jpg\" width=\"384\"></media:thumbnail><media:thumbnail height=\"135\" url=\"https://s.abcnews.com/images/Politics/wirestory_639ceab0831b4c304fb132bcf254e48a_16x9_240.jpg\" width=\"240\"></media:thumbnail><media:thumbnail height=\"456\" url=\"https://s.abcnews.com/images/Politics/wirestory_639ceab0831b4c304fb132bcf254e48a_4x3_608.jpg\" width=\"608\"></media:thumbnail><media:thumbnail height=\"558\" url=\"https://s.abcnews.com/images/Politics/wirestory_639ceab0831b4c304fb132bcf254e48a_16x9_992.jpg\" width=\"992\"></media:thumbnail><media:thumbnail height=\"900\" url=\"https://s.abcnews.com/images/Politics/wirestory_639ceab0831b4c304fb132bcf254e48a_16x9_1600.jpg\" width=\"1600\"></media:thumbnail>',\n",
              " '<media:thumbnail height=\"288\" url=\"https://s.abcnews.com/images/US/wirestory_48baf62af5560a9617ae2032f8776d1e_4x3_384.jpg\" width=\"384\"></media:thumbnail><media:thumbnail height=\"108\" url=\"https://s.abcnews.com/images/US/wirestory_48baf62af5560a9617ae2032f8776d1e_4x3_144.jpg\" width=\"144\"></media:thumbnail><media:thumbnail height=\"288\" url=\"https://s.abcnews.com/images/US/wirestory_48baf62af5560a9617ae2032f8776d1e_4x3_384.jpg\" width=\"384\"></media:thumbnail><media:thumbnail height=\"135\" url=\"https://s.abcnews.com/images/US/wirestory_48baf62af5560a9617ae2032f8776d1e_16x9_240.jpg\" width=\"240\"></media:thumbnail><media:thumbnail height=\"456\" url=\"https://s.abcnews.com/images/US/wirestory_48baf62af5560a9617ae2032f8776d1e_4x3_608.jpg\" width=\"608\"></media:thumbnail><media:thumbnail height=\"558\" url=\"https://s.abcnews.com/images/US/wirestory_48baf62af5560a9617ae2032f8776d1e_16x9_992.jpg\" width=\"992\"></media:thumbnail><media:thumbnail height=\"900\" url=\"https://s.abcnews.com/images/US/wirestory_48baf62af5560a9617ae2032f8776d1e_16x9_1600.jpg\" width=\"1600\"></media:thumbnail>',\n",
              " '<media:thumbnail height=\"288\" url=\"https://s.abcnews.com/images/US/wirestory_53fb26077c8d88637b4bd366ad3343cb_4x3_384.jpg\" width=\"384\"></media:thumbnail><media:thumbnail height=\"108\" url=\"https://s.abcnews.com/images/US/wirestory_53fb26077c8d88637b4bd366ad3343cb_4x3_144.jpg\" width=\"144\"></media:thumbnail><media:thumbnail height=\"288\" url=\"https://s.abcnews.com/images/US/wirestory_53fb26077c8d88637b4bd366ad3343cb_4x3_384.jpg\" width=\"384\"></media:thumbnail><media:thumbnail height=\"135\" url=\"https://s.abcnews.com/images/US/wirestory_53fb26077c8d88637b4bd366ad3343cb_16x9_240.jpg\" width=\"240\"></media:thumbnail><media:thumbnail height=\"456\" url=\"https://s.abcnews.com/images/US/wirestory_53fb26077c8d88637b4bd366ad3343cb_4x3_608.jpg\" width=\"608\"></media:thumbnail><media:thumbnail height=\"558\" url=\"https://s.abcnews.com/images/US/wirestory_53fb26077c8d88637b4bd366ad3343cb_16x9_992.jpg\" width=\"992\"></media:thumbnail><media:thumbnail height=\"900\" url=\"https://s.abcnews.com/images/US/wirestory_53fb26077c8d88637b4bd366ad3343cb_16x9_1600.jpg\" width=\"1600\"></media:thumbnail>']"
            ]
          },
          "metadata": {},
          "execution_count": 75
        }
      ]
    },
    {
      "cell_type": "code",
      "source": [
        "#ABC Article Link Scraper html\n",
        "page = requests.get('https://abcnews.go.com/Politics')\n",
        "soup = BeautifulSoup(page.text, 'html.parser')\n",
        "allLinks = []\n",
        "link = \"https://abcnews.go.com/Politics\"\n",
        "for link in soup.find_all('a'):\n",
        "    allLinks.append(link.get('href'))\n",
        "allLinks = filter(None, allLinks)\n",
        "links = [i for i in allLinks if \"/Politics/\" in i and \"/video/\" not in i]\n",
        "ABC_links = set(links)\n",
        "ABC_links = list(ABC_links)"
      ],
      "metadata": {
        "id": "m6cjGTFNYeZe"
      },
      "execution_count": null,
      "outputs": []
    },
    {
      "cell_type": "code",
      "source": [
        "#Extract article text from links for all news sources\n",
        "#Use this to text article link efficacy?\n",
        "\n",
        "#CNBC_links includes ad text in the beginning(?)\n",
        "url = CBS_links[0]\n",
        "article_text = scrape_article_text(url)\n",
        "print(article_text)"
      ],
      "metadata": {
        "id": "XoAiwRTm8Rk0",
        "outputId": "febc6b6c-00fe-4628-a87f-228fdc61928b",
        "colab": {
          "base_uri": "https://localhost:8080/"
        },
        "collapsed": true
      },
      "execution_count": null,
      "outputs": [
        {
          "output_type": "stream",
          "name": "stdout",
          "text": [
            "Watch CBS News \n",
            "Updated on:  September 18, 2024 / 10:18 PM EDT\n",
            "          / CBS/AP\n",
            "         Iranian hackers sought to interest President Biden's campaign in information stolen from the rival campaign of former President Donald Trump, sending unsolicited emails to people connected to the Democratic president in an effort to interfere in the 2024 election, the FBI and other federal agencies said Wednesday. There's no evidence that any of the recipients responded, officials said, preventing the hacked information from surfacing in the final months of the closely contested election. The hackers sent emails in late June and early July to people who were associated with Mr. Biden's campaign before he dropped out. The emails \"contained an excerpt taken from stolen, non-public material from former President Trump's campaign as text in the emails,\" according to a U.S. government statement. In late July, officials with the FBI, the Office of the Director of National Intelligence and the Department of Homeland Security said that Tehran had started a campaign that was working to weaken Trump's candidacy, while Russia was attempting to do the opposite.  Last month, sources told CBS News that the FBI was investigating whether Iranian hackers had targeted people associated with both the Trump and Biden-Harris campaigns.  In response to the revelation, Harris campaign spokesperson Morgan Finkelstein told CBS News in a statement Wednesday evening that \"we're not aware of any material being sent directly to the campaign,\" adding that \"a few individuals were targeted on their personal emails with what looked like a spam or phishing attempt.\" Finkelstein said the campaign has \"cooperated with the appropriate law enforcement authorities since we were made aware that individuals associated with the then-Biden campaign were among the intended victims of this foreign influence operation.\" Trump campaign spokesperson Karoline Leavitt told CBS News in a statement that \"this is further proof the Iranians are actively interfering in the election to help Kamala Harris and Joe Biden because they know President Trump will restore his tough sanctions and stand against their reign of terror.\" A Microsoft threat intelligence report last month provided examples about the actions of Iranian groups seeking to influence the 2024 election.   \"Not surprisingly, the latest revelations confirm that Iran's efforts are multi-pronged and intended to damage the Trump campaign,\" Chris Krebs, former Cybersecurity and Infrastructure Security Agency director, told CBS News Wednesday. \"This comes on the same day as a Senate Intelligence Committee hearing on foreign threats to elections. In that hearing Microsoft President Brad Smith characterized the state of foreign interference as Russia vs Harris and Iran vs Trump.\"   The Trump campaign disclosed on Aug. 10 that it had been hacked and said Iranian actors had stolen and distributed sensitive internal documents. At least three news outlets — Politico, The New York Times and The Washington Post — were leaked confidential material from inside the Trump campaign. So far, each has refused to reveal any details about what it received. Politico reported that it began receiving emails on July 22 from an anonymous account. The source —an AOL email account identified only as \"Robert\"— passed along what appeared to be a research dossier that the campaign had apparently done on the Republican vice presidential nominee, Ohio Sen. JD Vance. The document was dated Feb. 23, almost five months before Trump selected Vance as his running mate. A spokesperson for Iran's permanent mission to the U.N. told CBS News in a statement Wednesday that the FBI's \"allegations\" were \"fundamentally unfounded, and wholly inadmissible.\" \"Having already unequivocally and repeatedly announced, Iran neither has any motive nor intent to interfere in the U.S. election; and, it therefore categorically repudiates such accusations,\" the statement read. \"Should the U.S. government genuinely seek the truth, it is incumbent upon them to formally and transparently provide their substantiated evidence, so as to receive a corresponding and precise response.\" \n",
            "© 2024 CBS Interactive Inc. All Rights Reserved. This material may not be published, broadcast, rewritten, or redistributed. The Associated Press contributed to this report.\n",
            " Copyright ©2024 CBS Interactive Inc. All rights reserved.\n"
          ]
        }
      ]
    },
    {
      "cell_type": "code",
      "source": [
        "#Extract article text from links for news sources requiring user agent\n",
        "url = Newsweek_links[0]\n",
        "headers = {\"user-agent\": \"Mozilla/5.0\"}\n",
        "#Mozilla/5.0 (Windows NT 10.0; Win64; x64) AppleWebKit/537.36 (KHTML, like Gecko) Chrome/113.0.0.0 Safari/537.36 Edg/113.0.1774.35\n",
        "article_text = scrape_article_text_useragent(url, headers)\n",
        "print(article_text)"
      ],
      "metadata": {
        "colab": {
          "base_uri": "https://localhost:8080/"
        },
        "id": "XIlX8JRwtPjs",
        "outputId": "d2498f3f-b054-4f7a-a92d-261b78f1c0e0",
        "collapsed": true
      },
      "execution_count": null,
      "outputs": [
        {
          "output_type": "stream",
          "name": "stdout",
          "text": [
            "While New York is seen as a solid blue state, the Republican party still enjoys widespread support in its rural and suburban areas, and this year the gap between the GOP and the Democrat Party could be narrowing. In the 2024 presidential election, Donald Trump has the potential to gain the largest share of the vote in the Empire State than any other Republican candidate since 1988, some polls have suggested. Trump's very unlikely to win the state and get its 28 electoral votes, but a good performance in the Democratic stronghold gives Republicans a new message to bring to voters and enthusiasm about Trump could help the GOP in down ballot races. Before his rally on Long Island Wednesday night, Trump told supporters in a Manhattan bar that he was going to \"win New York!\" – a message he repeated to the crowd later on. \"When I told some people in Washington that I'm going up to New York, we're doing a campaign speech, they said, 'What do you mean New York? You can't ever ... Republicans can't win New York,\" Trump said at the Nassau Coliseum. \"I said, 'I can win New York,'\" he continued. \"We can win New York. We're going to win New York ... Your love for your state will come roaring back.\" In two polls that pit Trump against Vice President Kamala Harris, Trump's support ranges from 41.7 percent to 42 percent. That puts Trump in a position to possibly break his own record in New York and get more support than any Republican since 1988. Siena College's latest survey of New York voters, released on Thursday, showed Harris leading Trump 55 percent to 42 percent. Trump's support in the Empire State appeared to be holding steady from August, according to Siena College's polling. New York voters said they trust the vice president more on abortion, democracy and the economy, while the key issue of immigration essentially tied the pair – Harris on 48 percent and Trump on 47 percent. \"New York remains solidly 'blue' but perhaps not as deep blue as it has been in the last several presidential cycles,\" Siena College pollster Steven Greenberg said in a press release. Greenberg said that in the six presidential elections this century, Democrats have carried New York by at least 18 points, but Harris currently only leads by 13. \"Despite the Democratic convention, the debate and numerous other events during the six weeks between Siena College polls, there has been little movement in the horse race or in either candidate's favorability rating,\" Greenberg added. An earlier poll in August, by ActiVote, showed a greater lead for Harris, who was ahead by 16.6%. Trump was beating Harris among rural New York voters, with 52% supporting him. \"Independents moved further in Trump's direction, supporting him over Harris 58-34%, up from 47-40% last month,\" Greenberg explained. If polling holds true in the election, it would put Trump at more of an advantage than he enjoyed in the previous two elections, but the Queens native still would not have enough support to win the state on November 5. Four years ago, Trump lost to President Joe Biden with 37.7 percent of the vote compared to 60.9 percent. It was a very similar picture against former Secretary of State Hilary Clinton in 2016. In 1988, former President George H.W. Bush received 47.52 percent of the state's vote, narrowly losing it to Michael Dukakis' 51.62 percent. No Republican has been able to match Bush's support in New York since. In the next two elections, former President Bill Clinton had a 15 and then an almost 30-point lead over his GOP rivals. Former President George W. Bush lost New York by similar margins, as did former Senators John McCain and Mitt Romney.  Republicans winning New York would upend the Electoral College for Democrats, but the likelihood of that happening is very slim. However, Trump doesn't need to win the state to help his party. Targeting New York could still be beneficial for the GOP when it comes to House races, especially in areas like Long Island where support for the party is greater than within New York City. Polling from 538 showed Representative Anthony D'Esposito's Democratic rival Laura Gillen leading him by three points in August (50-47%), but earlier numbers showed him ahead by five (48-42%). \"While New York perhaps is not a battleground state, Long Island is a battleground island,\" D'Esposito told Politico. \"It does benefit him, because as president, he's going to need a majority in the House, and those seats that we're defending on Long Island and around New York are key to that majority.\" Newsweek is committed to journalism that's factual and fair. Hold us accountable and submit your rating of this article on the meter.  Newsweek is committed to journalism that's factual and fair. Hold us accountable and submit your rating of this article on the meter.  Dan Gooding is a Newsweek reporter based in New York City. His focus is reporting on immigration and border security. He has covered immigration issues extensively, including the root causes of migration to the U.S., its impact on border communities and responses around the country. Dan joined Newsweek in 2024 from The Independent and previously worked at The Messenger, Business Insider and in U.K. local radio. He is a graduate of De Montfort University in Leicester, UK. You can get in touch with Dan by emailing d.gooding@newsweek.com. You can find him on X @DanGooding. Languages: English. Dan Gooding is a Newsweek reporter based in New York City. His focus is reporting on immigration and border security.                                    ...\n",
            "Read more\n",
            " Newsletters in your inbox See all Company Editions: Contact Terms of Use © 2024 NEWSWEEK DIGITAL LLC\n"
          ]
        }
      ]
    },
    {
      "cell_type": "code",
      "source": [
        "#List of RSS feeds\n",
        "\n",
        "#Fox News: Politics\n",
        "foxPolRSS = f\"https://moxie.foxnews.com/google-publisher/politics.xml\"\n",
        "#CNN News: Politics\n",
        "CNNPolRSS = f\"http://rss.cnn.com/rss/cnn_allpolitics.rss\"\n",
        "#NYT News: Politics\n",
        "NYTPolRSS = f\"https://rss.nytimes.com/services/xml/rss/nyt/Politics.xml\"\n",
        "#https://github.com/susannapaoli/web-scraper-nyt\n",
        "#NY Post: Politics\n",
        "NYPostPolRSS = f\"https://nypost.com/politics/feed/\"\n",
        "#Daily Mail: U.S.\n",
        "DailyMailUSRSS = f\"https://www.dailymail.co.uk/ushome/index.rss\"\n",
        "#NBC News: Politics\n",
        "NBCPolRSS = f\"https://feeds.nbcnews.com/nbcnews/public/politics\"\n",
        "#CNBC: Politics\n",
        "CNBCPolRSS = f\"https://search.cnbc.com/rs/search/combinedcms/view.xml?partnerId=wrss01&id=10000113\"\n",
        "#CBS News: Politics\n",
        "CBSPolRSS = f\"https://www.cbsnews.com/latest/rss/politics\"\n",
        "#ABC News: Politics\n",
        "ABCPolRSS = f\"https://abcnews.go.com/abcnews/politicsheadlines\""
      ],
      "metadata": {
        "id": "sX7n4GKSzh5Q"
      },
      "execution_count": null,
      "outputs": []
    },
    {
      "cell_type": "code",
      "source": [
        "api_token_hug =\n",
        "\n",
        "\n",
        "# Following URL is the URL of the LLM being utilized from HuggingFace\n",
        "API_URL = \"https://api-inference.huggingface.co/models/google/flan-t5-xxl\"\n",
        "headers = {\"Authorization\": f\"Bearer {api_token_hug}\"}\n",
        "\n",
        "# Instructions sent to the LLM in front of article text\n",
        "system_input = \"Analyze the text content and assign a label from {left, right, center, uncertain}. In this context, “left” indicates a left-leaning article, “right” signifies a right-leaning article, “center” implies no obvious political leaning, and “uncertain” denotes that the political orientation could not be determined. Please provide your analysis and output a new single line containing only the assigned label.\"\n",
        "\n",
        "#reduce by 10% until it fits query\n",
        "reduction_fraction = 0.10\n",
        "\n",
        "\n",
        "\n",
        "result = reduce_and_query(article_text, system_input, reduction_fraction, headers)\n",
        "print(result)\n",
        "\n",
        "second_article = \"https://www.cnn.com/2024/03/19/politics/texas-immigration-law-blocked-appeals/index.html\"\n",
        "second_result = reduce_and_query(second_article, system_input, reduction_fraction, headers)\n",
        "print(second_result)\n",
        "\n",
        "third_article = \"https://www.cnn.com/videos/world/2024/03/20/israel-gaza-west-bank-settler-movement-clarissa-ward-pkg-intl-ldn-vpx.cnn\"\n",
        "third_result = reduce_and_query(third_article, system_input, reduction_fraction, headers)\n",
        "print(third_result)\n",
        "\n",
        "fourth_article = \"https://www.cnn.com/2024/03/19/politics/trump-bond-deadline-panic/index.html\"\n",
        "fourth_result = reduce_and_query(fourth_article, system_input, reduction_fraction, headers)\n",
        "print(fourth_result)\n",
        "\n",
        "fifth_article = \"https://www.foxnews.com/live-news/joe-biden-gop-impeachment-inquiry-hearing-hunter-biden-business-dealings\"\n",
        "fifth_result = reduce_and_query(fifth_article, system_input, reduction_fraction, headers)\n",
        "print(fifth_result)\n",
        "\n",
        "sixth_article = \"https://www.msnbc.com/deadline-white-house/deadline-legal-blog/trump-supreme-court-immunity-appeal-delay-rcna144155\"\n",
        "sixth_result = reduce_and_query(sixth_article, system_input, reduction_fraction, headers)\n",
        "print(sixth_result)\n",
        "\n",
        "seventh_article = \"https://www.msnbc.com/rachel-maddow-show/maddowblog/biden-white-house-reason-celebrate-falling-crime-rates-rcna144215\"\n",
        "seventh_result = reduce_and_query(seventh_article, system_input, reduction_fraction, headers)"
      ],
      "metadata": {
        "colab": {
          "base_uri": "https://localhost:8080/"
        },
        "id": "6-9ObRECI1s3",
        "outputId": "73da7875-7cb8-49e8-8d1b-141bdab26b23"
      },
      "execution_count": null,
      "outputs": [
        {
          "output_type": "stream",
          "name": "stdout",
          "text": [
            "[{'generated_text': 'left'}]\n",
            "[{'generated_text': 'uncertain'}]\n",
            "[{'generated_text': 'center'}]\n",
            "[{'generated_text': 'center'}]\n",
            "[{'generated_text': 'center'}]\n",
            "[{'generated_text': 'center'}]\n"
          ]
        }
      ]
    }
  ]
}
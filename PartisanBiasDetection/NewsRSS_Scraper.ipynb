{
  "cells": [
    {
      "cell_type": "markdown",
      "metadata": {
        "id": "view-in-github",
        "colab_type": "text"
      },
      "source": [
        "<a href=\"https://colab.research.google.com/github/ExCaLBBR/ExCaLBBR_Projects/blob/main/PartisanBiasDetection/NewsRSS_Scraper.ipynb\" target=\"_parent\"><img src=\"https://colab.research.google.com/assets/colab-badge.svg\" alt=\"Open In Colab\"/></a>"
      ]
    },
    {
      "cell_type": "code",
      "execution_count": 1,
      "metadata": {
        "id": "jzf4wY-T8Frl",
        "cellView": "form"
      },
      "outputs": [],
      "source": [
        "#@title Install Dependancies\n",
        "!pip install requests beautifulsoup4 --quiet\n",
        "\n",
        "#Import libraries\n",
        "import requests\n",
        "from bs4 import BeautifulSoup\n",
        "import time"
      ]
    },
    {
      "cell_type": "code",
      "execution_count": 2,
      "metadata": {
        "id": "-1vSCujtWffV"
      },
      "outputs": [],
      "source": [
        "# @title Define Utility Functions\n",
        "\n",
        "#Article Scraper\n",
        "def scrape_article_text(url):\n",
        "    # Send a GET request to the URL\n",
        "    response = requests.get(url)\n",
        "    # Check if the request was successful\n",
        "    if response.status_code == 200:\n",
        "        # Parse the HTML content\n",
        "        soup = BeautifulSoup(response.text, 'html.parser')\n",
        "        # Find elements containing text - this part may need customization\n",
        "        # For example, assuming article text is within <p> tags\n",
        "        article_text = ' '.join(p.get_text() for p in soup.find_all('p'))\n",
        "        return article_text\n",
        "    else:\n",
        "        return \"Error: Unable to fetch the webpage.\"\n",
        "\n",
        "#Article Scraper with User Agent\n",
        "def scrape_article_text_useragent(url,ua):\n",
        "    # Send a GET request to the URL\n",
        "    response = requests.get(url, headers=ua)\n",
        "    # Check if the request was successful\n",
        "    if response.status_code == 200:\n",
        "        # Parse the HTML content\n",
        "        soup = BeautifulSoup(response.text, 'html.parser')\n",
        "        # Find elements containing text - this part may need customization\n",
        "        # For example, assuming article text is within <p> tags\n",
        "        article_text = ' '.join(p.get_text() for p in soup.find_all('p'))\n",
        "        return article_text\n",
        "    else:\n",
        "        return \"Error: Unable to fetch the webpage.\"\n",
        "\n",
        "#Query for LLM\n",
        "def query(payload, headers):\n",
        "    response = requests.post(API_URL, headers=headers, json=payload)\n",
        "    if response.status_code == 200:\n",
        "        return response.json()  # Expecting this to always be a list for simplicity\n",
        "    else:\n",
        "        return [{\"error\": response.text}]\n",
        "\n",
        "#Political Bias Classification using LLM\n",
        "def reduce_and_query(initial_text, llm_instructions, reduction_fraction, headers):\n",
        "    text = initial_text\n",
        "    while True:\n",
        "        payload = {\"inputs\": llm_instructions + text}\n",
        "        response = query(payload, headers)\n",
        "        # Since we expect a list, check the first item for an 'error' key\n",
        "        if \"error\" in response[0]:\n",
        "            error_message = response[0][\"error\"]\n",
        "            if \"token\" in error_message.lower():\n",
        "                # Reduce the text by the specified fraction if it's a token limit error\n",
        "                new_length = int(len(text) * (1 - reduction_fraction))\n",
        "                text = text[:new_length]\n",
        "            else:\n",
        "                # Return the error message directly if it's a different kind of error\n",
        "                return error_message\n",
        "        else:\n",
        "            # If there's no 'error' key, assume the response is successful\n",
        "            return response"
      ]
    },
    {
      "cell_type": "code",
      "execution_count": null,
      "metadata": {
        "id": "U36vKED56Kll"
      },
      "outputs": [],
      "source": [
        "# @title CNN [completed: links, articleTxt, headers, and pubdate]\n",
        "# CNN Article Link Scraper\n",
        "page = requests.get('https://www.cnn.com/politics')\n",
        "soup = BeautifulSoup(page.text, 'html.parser')\n",
        "\n",
        "links = []\n",
        "for l in soup.find_all('a'):\n",
        "    links.append(l.get('href'))\n",
        "links = filter(None, links)\n",
        "linkEnds = [i for i in links if i.startswith('/2') and \"/video/\" not in i]\n",
        "result = ['https://www.cnn.com' + i for i in linkEnds]\n",
        "links = set(result)\n",
        "links = list(links)\n",
        "\n",
        "#CNN Article Text Scraper\n",
        "artTxt = []\n",
        "for art in links:\n",
        "  article_text = scrape_article_text(art)\n",
        "  artTxt.append(article_text)\n",
        "CNN_artTxt = artTxt\n",
        "\n",
        "#combined headers + pubdate:\n",
        "pubds = []\n",
        "headers = []\n",
        "for h in links:\n",
        "  hp = requests.get(h)\n",
        "  souph = BeautifulSoup(hp.text, 'html.parser')\n",
        "  span = souph.find_all('h1')\n",
        "  header= str(span)\n",
        "  i = header.find(\">\")\n",
        "  j = header.find(\"</h1>\")\n",
        "  x = header[i+8:j]\n",
        "  y = x.split('\\n', 1)[0]\n",
        "  headers.append(y)\n",
        "  span = souph.find_all('div', class_='timestamp vossi-timestamp')\n",
        "  pubd = str(span)\n",
        "  i = pubd.find(\"Published\")\n",
        "  j = pubd.find(\">]\")\n",
        "  if i == -1:\n",
        "    i = pubd.find(\"Updated\")\n",
        "  x = pubd[i+10:j].lstrip()\n",
        "  y = x.split('\\n', 1)[0]\n",
        "  pubds.append(y)\n",
        "CNN_pubds = pubds\n",
        "CNN_headers = headers\n",
        "\n",
        "# #CNN Article Header Scraper\n",
        "# headers = []\n",
        "# for h in links:\n",
        "#   hp = requests.get(h)\n",
        "#   souph = BeautifulSoup(hp.text, 'html.parser')\n",
        "#   span = souph.find_all('h1')\n",
        "#   header= str(span)\n",
        "#   i = header.find(\">\")\n",
        "#   j = header.find(\"</h1>\")\n",
        "#   x = header[i+8:j]\n",
        "#   y = x.split('\\n', 1)[0]\n",
        "#   headers.append(y)\n",
        "# CNN_headers = headers\n",
        "\n",
        "# #CNN News Article PubDate Scraper\n",
        "# pubds = []\n",
        "# for h in links:\n",
        "#   hp = requests.get(h)\n",
        "#   souph = BeautifulSoup(hp.text, 'html.parser')\n",
        "#   span = souph.find_all('div', class_='timestamp vossi-timestamp')\n",
        "#   pubd = str(span)\n",
        "#   i = pubd.find(\"Published\")\n",
        "#   j = pubd.find(\">]\")\n",
        "#   if i == -1:\n",
        "#     i = pubd.find(\"Updated\")\n",
        "#   x = pubd[i+10:j].lstrip()\n",
        "#   y = x.split('\\n', 1)[0]\n",
        "#   pubds.append(y)\n",
        "# CNN_pubdate = pubds"
      ]
    },
    {
      "cell_type": "code",
      "execution_count": null,
      "metadata": {
        "colab": {
          "base_uri": "https://localhost:8080/"
        },
        "collapsed": true,
        "id": "5mml0I9kwLNy",
        "outputId": "d203a8e0-479f-4925-fce5-8df8723635a0"
      },
      "outputs": [
        {
          "output_type": "stream",
          "name": "stderr",
          "text": [
            "<ipython-input-118-1a2f6ef9f2db>:5: XMLParsedAsHTMLWarning: It looks like you're parsing an XML document using an HTML parser. If this really is an HTML document (maybe it's XHTML?), you can ignore or filter this warning. If it's XML, you should know that using an XML parser will be more reliable. To parse this document as XML, make sure you have the lxml package installed, and pass the keyword argument `features=\"xml\"` into the BeautifulSoup constructor.\n",
            "  soup = BeautifulSoup(html_page.text, \"lxml\")\n"
          ]
        }
      ],
      "source": [
        "# @title Fox News [completed: links, articleTxt, headers, and pubdate]\n",
        "#Fox News Article Text Link Scraper\n",
        "url = 'https://moxie.foxnews.com/google-publisher/politics.xml'\n",
        "html_page = requests.get(url)\n",
        "soup = BeautifulSoup(html_page.text, \"lxml\")\n",
        "links = []\n",
        "artTxt = []\n",
        "for item in soup.find_all(\"item\"):\n",
        "  link= str(item)\n",
        "  i = link.find(\"<link/>\")\n",
        "  j = link.find(\"<guid\")\n",
        "  x = link[i+7:j]\n",
        "  y = x.split('\\n', 1)[0]\n",
        "  links.append(y)\n",
        "  article_text = scrape_article_text(y)\n",
        "  artTxt.append(article_text)\n",
        "FoxNews_artTxt = artTxt\n",
        "\n",
        "#Fox News Article Header Scraper\n",
        "headers = []\n",
        "for item in soup.find_all(\"item\"):\n",
        "  header= str(item)\n",
        "  i = header.find(\"<title>\")\n",
        "  j = header.find(\"</title>\")\n",
        "  x = header[i+7:j]\n",
        "  y = x.split('\\n', 1)[0]\n",
        "  headers.append(y)\n",
        "FoxNews_headers = headers\n",
        "\n",
        "#Fox News Article PubDate Scraper\n",
        "pubds = []\n",
        "for item in soup.find_all(\"item\"):\n",
        "  pubd= str(item)\n",
        "  i = pubd.find(\"<pubdate>\")\n",
        "  j = pubd.find(\"</pubdate>\")\n",
        "  x = pubd[i+9:j]\n",
        "  y = x.split('\\n', 1)[0]\n",
        "  pubds.append(y)\n",
        "FoxNews_pubdate = pubds"
      ]
    },
    {
      "cell_type": "code",
      "execution_count": null,
      "metadata": {
        "colab": {
          "base_uri": "https://localhost:8080/"
        },
        "collapsed": true,
        "id": "Dcsv7hwKb0wV",
        "outputId": "f9981ef8-62fd-4dbe-ecfa-f6ae1c285859"
      },
      "outputs": [
        {
          "output_type": "stream",
          "name": "stderr",
          "text": [
            "<ipython-input-3-d5bd07c2d47a>:4: XMLParsedAsHTMLWarning: It looks like you're parsing an XML document using an HTML parser. If this really is an HTML document (maybe it's XHTML?), you can ignore or filter this warning. If it's XML, you should know that using an XML parser will be more reliable. To parse this document as XML, make sure you have the lxml package installed, and pass the keyword argument `features=\"xml\"` into the BeautifulSoup constructor.\n",
            "  soup = BeautifulSoup(html_page.text, \"lxml\")\n"
          ]
        }
      ],
      "source": [
        "#NYT Article Link Scraper\n",
        "url = 'https://rss.nytimes.com/services/xml/rss/nyt/Politics.xml'\n",
        "html_page = requests.get(url)\n",
        "soup = BeautifulSoup(html_page.text, \"lxml\")\n",
        "links = []\n",
        "for item in soup.find_all(\"item\"):\n",
        "  link= str(item)\n",
        "  i = link.find(\"<link/>\")\n",
        "  j = link.find(\"<guid\")\n",
        "  x = link[i+7:j]\n",
        "  y = x.split('\\n', 1)[0]\n",
        "  links.append(y)\n",
        "NYT_links = links"
      ]
    },
    {
      "cell_type": "code",
      "source": [
        "NYT_links"
      ],
      "metadata": {
        "colab": {
          "base_uri": "https://localhost:8080/"
        },
        "id": "gkHTnIzznB7l",
        "outputId": "25364a45-c446-4c13-eaca-1c16c91949bc"
      },
      "execution_count": null,
      "outputs": [
        {
          "output_type": "execute_result",
          "data": {
            "text/plain": [
              "['https://www.nytimes.com/2024/10/21/us/politics/biden-harris-birth-control-rules.html',\n",
              " 'https://www.nytimes.com/2024/10/21/us/politics/trump-harris-undecided-voters.html',\n",
              " 'https://www.nytimes.com/2024/10/20/us/politics/trump-scandals.html',\n",
              " 'https://www.nytimes.com/2024/10/20/us/politics/jill-stein-harris-trump.html',\n",
              " 'https://www.nytimes.com/2024/10/21/upshot/trump-harris-polls-election.html',\n",
              " 'https://www.nytimes.com/2024/10/21/us/politics/secret-service-trump-butler-house-report.html',\n",
              " 'https://www.nytimes.com/2024/10/21/us/politics/supreme-court-public-corruption.html',\n",
              " 'https://www.nytimes.com/2024/10/21/health/abortion-pill-mifepristone-lawsuit.html',\n",
              " 'https://www.nytimes.com/video/us/politics/100000009762791/where-harris-and-trump-stand-on-abortion.html',\n",
              " 'https://www.nytimes.com/2024/10/21/books/review/economics-business-books.html',\n",
              " 'https://www.nytimes.com/2024/10/21/us/politics/9-11-defendants-trial.html',\n",
              " 'https://www.nytimes.com/2024/10/21/business/media/trump-media-broadcast-licenses.html',\n",
              " 'https://www.nytimes.com/2024/10/20/style/donald-trump-mcdonalds.html',\n",
              " 'https://www.nytimes.com/2024/10/20/us/politics/trump-arnold-palmer-kamala-harris.html',\n",
              " 'https://www.nytimes.com/2024/10/20/us/politics/trump-mcdonalds-fries.html',\n",
              " 'https://www.nytimes.com/2024/10/20/us/politics/nebraska-walz-tony-vargas.html',\n",
              " 'https://www.nytimes.com/2024/10/20/us/politics/elon-musk-million-dollar-petition.html',\n",
              " 'https://www.nytimes.com/2024/10/20/us/politics/trump-fox-news-jan-6-haitians.html',\n",
              " 'https://www.nytimes.com/2024/10/20/us/politics/kamala-harris-mcdonalds-work-trump.html',\n",
              " 'https://www.nytimes.com/2024/10/20/us/politics/trump-meandering-remarks.html',\n",
              " 'https://www.nytimes.com/2024/10/20/us/politics/harris-howard-hbcus.html']"
            ]
          },
          "metadata": {},
          "execution_count": 8
        }
      ]
    },
    {
      "cell_type": "code",
      "source": [
        "# @title NYT [not completed: articleTxt]\n",
        "#completed: links, headers, pubdate\n",
        "#NYT Article Text Link Scraper\n",
        "url = 'https://rss.nytimes.com/services/xml/rss/nyt/Politics.xml'\n",
        "html_page = requests.get(NYT_links[0])\n",
        "soup = BeautifulSoup(html_page.text, \"html.parser\")\n",
        "print(soup)\n",
        "links = []\n",
        "artTxt = []\n",
        "for item in soup.find_all(\"item\"):\n",
        "  link= str(item)\n",
        "  i = link.find(\"<link/>\")\n",
        "  j = link.find(\"<guid\")\n",
        "  x = link[i+7:j]\n",
        "  y = x.split('\\n', 1)[0]\n",
        "  links.append(y)\n",
        "  article_text = scrape_article_text(y)\n",
        "  artTxt.append(article_text)\n",
        "NYT_artTxt = artTxt\n",
        "\n",
        "#NYT Article Header Scraper\n",
        "headers = []\n",
        "for item in soup.find_all(\"item\"):\n",
        "  header= str(item)\n",
        "  i = header.find(\"<title>\")\n",
        "  j = header.find(\"</title>\")\n",
        "  x = header[i+7:j]\n",
        "  y = x.split('\\n', 1)[0]\n",
        "  headers.append(y)\n",
        "NYT_headers = headers\n",
        "\n",
        "#NYT Article PubDate Scraper\n",
        "pubds = []\n",
        "for item in soup.find_all(\"item\"):\n",
        "  pubd= str(item)\n",
        "  i = pubd.find(\"<pubdate>\")\n",
        "  j = pubd.find(\"</pubdate>\")\n",
        "  x = pubd[i+9:j]\n",
        "  y = x.split('\\n', 1)[0]\n",
        "  pubds.append(y)\n",
        "NYT_pubds = pubds"
      ],
      "metadata": {
        "colab": {
          "base_uri": "https://localhost:8080/"
        },
        "id": "TxWBuqeugljj",
        "outputId": "a620141e-af8c-4c65-dd80-ea344d15bca0"
      },
      "execution_count": null,
      "outputs": [
        {
          "output_type": "stream",
          "name": "stdout",
          "text": [
            "<html><head><title>nytimes.com</title><style>#cmsg{animation: A 1.5s;}@keyframes A{0%{opacity:0;}99%{opacity:0;}100%{opacity:1;}}</style></head><body style=\"margin:0\"><p id=\"cmsg\">Please enable JS and disable any ad blocker</p><script data-cfasync=\"false\">var dd={'rt':'c','cid':'AHrlqAAAAAMAMoSxbSIbc8cAImo5kg==','hsh':'499AE34129FA4E4FABC31582C3075D','t':'bv','s':17439,'e':'4045dbb42d70ac0c4371124f8504f1ecd4a1504c229f49ffe1b1045285dc4229','host':'geo.captcha-delivery.com','cookie':'cXxe92Ptu_AqNGRGxu2uvOsM_NCyV4XzMRBFniltyBrPmsa7OkPTil2778dwwZt2aPFKzgfs3yCo8YAV_dXsDsImugfwSiISQZVdgXTqD2gJUQ8PlM1Bc1oDzekki8rn'}</script><script data-cfasync=\"false\" src=\"https://ct.captcha-delivery.com/c.js\"></script></body></html>\n"
          ]
        }
      ]
    },
    {
      "cell_type": "code",
      "source": [
        "NYT_artTxt\n",
        "#'Error: Unable to fetch the webpage.'\n",
        "# paywall or maybe not being on campus is the issue"
      ],
      "metadata": {
        "colab": {
          "base_uri": "https://localhost:8080/"
        },
        "collapsed": true,
        "id": "wl5Bi_d1g7Dq",
        "outputId": "e63ab9fc-ef4a-4960-9edf-b11c11d1b609"
      },
      "execution_count": null,
      "outputs": [
        {
          "output_type": "execute_result",
          "data": {
            "text/plain": [
              "[]"
            ]
          },
          "metadata": {},
          "execution_count": 10
        }
      ]
    },
    {
      "cell_type": "code",
      "execution_count": null,
      "metadata": {
        "id": "_MdFJZGfhJdQ"
      },
      "outputs": [],
      "source": [
        "# @title USA Today [completed: links, articleTxt, headers, pubdate]\n",
        "# issue: published and updated dates included\n",
        "# being on campus may un-break it though?\n",
        "\n",
        "#USA Today Article Link Scraper\n",
        "page = requests.get('https://www.usatoday.com/news/politics/')\n",
        "soup = BeautifulSoup(page.text, 'html.parser')\n",
        "allLinks = []\n",
        "link = \"https://www.usatoday.com/news/politics/\"\n",
        "for link in soup.find_all('a'):\n",
        "    allLinks.append(link.get('href'))\n",
        "allLinks = filter(None, allLinks)\n",
        "'''\n",
        "   /politics removes livestream & corrections & world politics\n",
        "   also removes other articles e.g. /investigation (ryan routh article)\n",
        "'''\n",
        "linkEnds = [i for i in allLinks if i.startswith('/story/news/politics')]\n",
        "result = ['https://www.usatoday.com' + i for i in linkEnds]\n",
        "USAToday_links = set(result)\n",
        "USAToday_links = list(USAToday_links)\n",
        "\n",
        "#USA Today Article Text Scraper\n",
        "artTxt = []\n",
        "for art in USAToday_links:\n",
        "  article_text = scrape_article_text(art)\n",
        "  artTxt.append(article_text)\n",
        "USAToday_artTxt = artTxt\n",
        "\n",
        "#combined headers + pubdate:\n",
        "pubds = []\n",
        "headers = []\n",
        "for h in USAToday_links:\n",
        "  hp = requests.get(h)\n",
        "  souph = BeautifulSoup(hp.text, 'html.parser')\n",
        "  span = souph.find_all('h1')\n",
        "  header= str(span)\n",
        "  i = header.find(\">\")\n",
        "  j = header.find(\"</h1>\")\n",
        "  x = header[i+1:j]\n",
        "  y = x.split('\\n', 1)[0]\n",
        "  headers.append(y)\n",
        "  span = souph.find_all('div', class_='gnt_ar_dt')\n",
        "  pubd = str(span)\n",
        "  i = pubd.find(\"Published\")\n",
        "  j = pubd.find(\"class\")\n",
        "  if i == -1:\n",
        "    i = pubd.find(\"Updated\")\n",
        "  x = pubd[i:j].rstrip()\n",
        "  y = x.split('\\n', 1)[0]\n",
        "  pubds.append(y)\n",
        "USAToday_pubds = pubds\n",
        "USAToday_headers = headers"
      ]
    },
    {
      "cell_type": "code",
      "source": [
        "USAToday_pubds"
      ],
      "metadata": {
        "colab": {
          "base_uri": "https://localhost:8080/"
        },
        "collapsed": true,
        "id": "jYl4e0j4sC6_",
        "outputId": "f75ed5da-0dff-47b2-a767-1df7dbc98e99"
      },
      "execution_count": null,
      "outputs": [
        {
          "output_type": "execute_result",
          "data": {
            "text/plain": [
              "['Published: 2:45 p.m. ET Oct. 18, 2024 Updated: 5:12 p.m. ET Oct. 18, 2024\"',\n",
              " 'Published: 5:14 a.m. ET Oct. 20, 2024 Updated: 3:59 p.m. ET Oct. 20, 2024\"',\n",
              " 'Published: 2:08 p.m. ET Oct. 20, 2024 Updated: 2:08 p.m. ET Oct. 20, 2024\"',\n",
              " 'Published: 5:02 a.m. ET Oct. 20, 2024 Updated: 9:03 a.m. ET Oct. 20, 2024\"',\n",
              " 'Published: 8:50 p.m. ET Oct. 20, 2024 Updated: 8:56 p.m. ET Oct. 20, 2024\"',\n",
              " 'Published: 12:16 p.m. ET Oct. 18, 2024 Updated: 12:17 p.m. ET Oct. 18, 2024\"',\n",
              " 'Published: 12:11 p.m. ET Oct. 18, 2024 Updated: 12:11 p.m. ET Oct. 18, 2024\"',\n",
              " 'Published: 9:01 p.m. ET Oct. 19, 2024 Updated: 10:43 p.m. ET Oct. 19, 2024\"',\n",
              " 'Published: 11:08 p.m. ET Oct. 19, 2024 Updated: 2:19 p.m. ET Oct. 20, 2024\"',\n",
              " 'Published: 5:06 a.m. ET Oct. 19, 2024 Updated: 6:37 a.m. ET Oct. 19, 2024\"',\n",
              " 'Published 12:12 p.m. ET Oct. 18, 2024\"',\n",
              " 'Published: 9:19 a.m. ET Oct. 20, 2024 Updated: 11:32 a.m. ET Oct. 20, 2024\"',\n",
              " 'Published: 3:11 p.m. ET Oct. 20, 2024 Updated: 7:59 p.m. ET Oct. 20, 2024\"',\n",
              " 'Published: 5:02 a.m. ET Oct. 19, 2024 Updated: 5:02 a.m. ET Oct. 19, 2024\"',\n",
              " 'Updated: 4:46 p.m. ET Oct. 20, 2024\"',\n",
              " 'Published: 12:54 p.m. ET Oct. 20, 2024 Updated: 1:01 p.m. ET Oct. 20, 2024\"',\n",
              " 'Published: 6:23 p.m. ET Oct. 18, 2024 Updated: 6:23 p.m. ET Oct. 18, 2024\"',\n",
              " 'Published: 8:22 a.m. ET Oct. 19, 2024 Updated: 8:22 a.m. ET Oct. 19, 2024\"',\n",
              " 'Published: 9:26 p.m. ET Oct. 18, 2024 Updated: 10:02 a.m. ET Oct. 19, 2024\"',\n",
              " 'Published: 10:47 p.m. ET Oct. 19, 2024 Updated: 8:56 a.m. ET Oct. 20, 2024\"',\n",
              " 'Published: 5:00 a.m. ET Oct. 20, 2024 Updated: 7:10 p.m. ET Oct. 20, 2024\"',\n",
              " 'Published: 9:02 a.m. ET Oct. 19, 2024 Updated: 9:02 a.m. ET Oct. 19, 2024\"',\n",
              " 'Published 12:43 p.m. ET Oct. 19, 2024\"']"
            ]
          },
          "metadata": {},
          "execution_count": 10
        }
      ]
    },
    {
      "cell_type": "code",
      "execution_count": null,
      "metadata": {
        "colab": {
          "base_uri": "https://localhost:8080/"
        },
        "collapsed": true,
        "id": "US_4hPNLmlqe",
        "outputId": "53b0f365-365a-4fb7-d1b8-0de194ea5c7d"
      },
      "outputs": [
        {
          "output_type": "stream",
          "name": "stderr",
          "text": [
            "<ipython-input-156-4f9876e9c3ac>:6: XMLParsedAsHTMLWarning: It looks like you're parsing an XML document using an HTML parser. If this really is an HTML document (maybe it's XHTML?), you can ignore or filter this warning. If it's XML, you should know that using an XML parser will be more reliable. To parse this document as XML, make sure you have the lxml package installed, and pass the keyword argument `features=\"xml\"` into the BeautifulSoup constructor.\n",
            "  soup = BeautifulSoup(html_page.text, \"lxml\")\n"
          ]
        }
      ],
      "source": [
        "#NY Post Article Link Scraper\n",
        "#check lxml thing later\n",
        "headers = {\"user-agent\": \"Mozilla/5.0\"}\n",
        "url = 'https://nypost.com/politics/feed/'\n",
        "html_page = requests.get(url, headers=headers)\n",
        "soup = BeautifulSoup(html_page.text, \"lxml\")\n",
        "links = []\n",
        "for item in soup.find_all(\"item\"):\n",
        "  link = str(item)\n",
        "  i = link.find(\"<link/>\")\n",
        "  j = link.find(\"<guid\")\n",
        "  x = link[i+7:j]\n",
        "  y = x.split('\\n', 1)[0]\n",
        "  #remove videos\n",
        "  if not (y.startswith('https://nypost.com/video')):\n",
        "    links.append(y)\n",
        "NYPost_links = links"
      ]
    },
    {
      "cell_type": "code",
      "source": [
        "# @title NYPost [completed: links, articleTxt, headers, and pubdate]\n",
        "#NYPost Article Text Scraper\n",
        "url = 'https://nypost.com/politics/feed/'\n",
        "headers = {\"user-agent\": \"Mozilla/5.0\"}\n",
        "html_page = requests.get(url,headers=headers)\n",
        "soup = BeautifulSoup(html_page.text, \"lxml\")\n",
        "links = []\n",
        "artTxt = []\n",
        "for item in soup.find_all(\"item\"):\n",
        "  link= str(item)\n",
        "  i = link.find(\"<link/>\")\n",
        "  j = link.find(\"<guid\")\n",
        "  x = link[i+7:j]\n",
        "  y = x.split('\\n', 1)[0]\n",
        "  links.append(y)\n",
        "  article_text = scrape_article_text_useragent(y,headers)\n",
        "  artTxt.append(article_text)\n",
        "NYPost_artTxt = artTxt\n",
        "\n",
        "#NYPost Article Header Scraper\n",
        "headers = []\n",
        "for item in soup.find_all(\"item\"):\n",
        "  header= str(item)\n",
        "  i = header.find(\"<title>\")\n",
        "  j = header.find(\"</title>\")\n",
        "  x = header[i+7:j]\n",
        "  y = x.split('\\n', 1)[0]\n",
        "  headers.append(y)\n",
        "NYPost_headers = headers\n",
        "\n",
        "#NYPost Article PubDate Scraper\n",
        "pubds = []\n",
        "for item in soup.find_all(\"item\"):\n",
        "  pubd = str(item)\n",
        "  i = pubd.find(\"<pubdate>\")\n",
        "  j = pubd.find(\"</pubdate>\")\n",
        "  x = pubd[i+9:j]\n",
        "  y = x.split('\\n', 1)[0]\n",
        "  pubds.append(y)\n",
        "NYPost_pubds = pubds"
      ],
      "metadata": {
        "colab": {
          "base_uri": "https://localhost:8080/"
        },
        "id": "LAhonLbblKVC",
        "outputId": "aaf754f1-3934-467b-bdc6-ee7323e2cf43"
      },
      "execution_count": null,
      "outputs": [
        {
          "output_type": "stream",
          "name": "stderr",
          "text": [
            "<ipython-input-37-e828cb051f93>:6: XMLParsedAsHTMLWarning: It looks like you're parsing an XML document using an HTML parser. If this really is an HTML document (maybe it's XHTML?), you can ignore or filter this warning. If it's XML, you should know that using an XML parser will be more reliable. To parse this document as XML, make sure you have the lxml package installed, and pass the keyword argument `features=\"xml\"` into the BeautifulSoup constructor.\n",
            "  soup = BeautifulSoup(html_page.text, \"lxml\")\n"
          ]
        }
      ]
    },
    {
      "cell_type": "code",
      "execution_count": null,
      "metadata": {
        "collapsed": true,
        "id": "_zLYbXfDsF-3"
      },
      "outputs": [],
      "source": [
        "#People Article Link Scraper\n",
        "#without user-agent\n",
        "page = requests.get('https://people.com/politics/')\n",
        "soup = BeautifulSoup(page.text, 'html.parser')\n",
        "\n",
        "allLinks = []\n",
        "link = \"https://people.com/politics/\"\n",
        "for link in soup.find_all('a'):\n",
        "    allLinks.append(link.get('href'))\n",
        "allLinks = filter(None, allLinks)\n",
        "#identifier for political articles seems to be a 7 digit # that starts w 87 at the end of the link\n",
        "#check to confirm, at least i got astrology out of there\n",
        "linkEnds = [i for i in allLinks if (len(i) > 8 and i[-7] == '8' and i[-6] == '7')]\n",
        "# result = ['https://people.com' + i for i in linkEnds]\n",
        "People_links = set(linkEnds)\n",
        "People_links = list(People_links)"
      ]
    },
    {
      "cell_type": "code",
      "source": [
        "People_links"
      ],
      "metadata": {
        "colab": {
          "base_uri": "https://localhost:8080/"
        },
        "id": "B2mu_78xev3N",
        "outputId": "f05b65d0-12f6-412e-fc0e-e528bc302774",
        "collapsed": true
      },
      "execution_count": null,
      "outputs": [
        {
          "output_type": "execute_result",
          "data": {
            "text/plain": [
              "['https://people.com/jimmy-carter-fulfills-wish-votes-kamala-harris-8729118',\n",
              " 'https://people.com/eminem-introduces-barack-obama-at-detroit-rally-for-kamala-harris-8732134',\n",
              " 'https://people.com/rufus-wainwright-mortified-his-version-of-hallelujah-played-at-trump-rally-8728716',\n",
              " 'https://people.com/several-ballots-destroyed-in-arizona-mailbox-arson-8733824',\n",
              " 'https://people.com/olivia-nuzzi-departs-ny-mag-amid-rfk-jr-sexting-scandal-8731645',\n",
              " 'https://people.com/ethel-kennedy-spicy-valentines-clinton-obama-biden-pelosi-8729729',\n",
              " 'https://people.com/rfk-jr-wanted-to-possess-and-impregnate-journalist-olivia-nuzzi-her-ex-alleges-in-court-filing-8728707',\n",
              " 'https://people.com/kentucky-lawmaker-dies-after-plunging-into-empty-swimming-pool-on-lawnmower-8733394',\n",
              " 'https://people.com/barack-obama-says-he-ran-late-for-rally-because-plane-started-leaking-in-the-air-8732461',\n",
              " 'https://people.com/kamala-harris-calls-out-fox-news-trimmed-clip-trump-8729804',\n",
              " 'https://people.com/melania-donald-trump-reactions-grabbing-kitty-joke-al-smith-dinner-8730406',\n",
              " 'https://people.com/ethel-kennedy-memorial-service-8729001',\n",
              " 'https://people.com/former-model-stacey-williams-alleges-donald-trump-groped-her-in-1993-after-being-introduced-to-him-by-jeffrey-epstein-8733316',\n",
              " 'https://people.com/beyonce-harris-rally-8733637',\n",
              " 'https://people.com/donald-trump-calls-female-senator-fantastically-attractive-to-crowd-full-of-women-8729484',\n",
              " 'https://people.com/rfk-jr-cheryl-hines-arrive-ethel-kennedy-memorial-service-8728924',\n",
              " 'https://people.com/lilly-ledbetter-equal-pay-pioneer-dies-at-86-8727855',\n",
              " 'https://people.com/nelson-rockefeller-former-aide-megan-marshack-addresses-him-in-her-obit-8731048',\n",
              " 'https://people.com/elections-2024-races-to-watch-8702372',\n",
              " 'https://people.com/donald-trump-third-assassination-attempt-coachella-valley-rally-prevented-sheriff-says-8727695',\n",
              " 'https://people.com/comedian-opens-trump-nyc-rally-with-attacks-on-people-of-color-calls-puerto-rico-floating-island-of-garbage-8735078',\n",
              " 'https://people.com/stealing-campaign-signs-criminal-prosecution-8734718',\n",
              " 'https://people.com/aileen-cannon-trump-attorney-general-shortlist-8732823',\n",
              " 'https://people.com/donald-trump-calls-kamala-harris-an-expletive-vice-president-at-rally-8731119',\n",
              " 'https://people.com/donald-trump-town-hall-plays-music-39-minutes-8728085',\n",
              " 'https://people.com/donald-trump-insists-men-found-arnold-palmers-genitalia-unbelievable-8731151',\n",
              " 'https://people.com/judge-orders-desantis-administration-stop-threatening-tv-stations-airing-abortion-ads-8730417',\n",
              " 'https://people.com/mark-ruffalo-joined-navajo-nation-walk-to-the-polls-exclusive-8726536',\n",
              " 'https://people.com/trump-accused-raging-murdered-soldier-funeral-bill-8732728',\n",
              " 'https://people.com/betty-cartledge-81-year-old-first-time-voter-8730028',\n",
              " 'https://people.com/donald-trump-suggests-military-to-stop-radical-left-8728401',\n",
              " 'https://people.com/bill-clinton-confused-for-joe-biden-by-mcdonalds-employee-video-8727973',\n",
              " 'https://people.com/gerald-ford-daughter-endorses-kamala-harris-8732004',\n",
              " 'https://people.com/ivanka-trump-attends-taylor-swift-show-after-dad-said-he-hates-her-exclusive-8732533',\n",
              " 'https://people.com/when-jimmy-carter-absentee-vote-will-be-counted-8729995',\n",
              " 'https://people.com/president-trump-said-i-need-the-kind-of-generals-that-hitler-had-8732581',\n",
              " 'https://people.com/secret-service-agents-train-tyler-perry-white-house-8728262',\n",
              " 'https://people.com/rudy-giuliani-must-give-penthouse-luxury-items-election-workers-8732397',\n",
              " 'https://people.com/arnold-palmer-daughter-reaction-donald-trump-genitalia-remarks-8731488',\n",
              " 'https://people.com/see-all-celeb-voting-selfies-for-the-2024-presidential-election-8729665',\n",
              " 'https://people.com/kerry-kennedy-dog-killed-violent-attack-same-day-mom-ethel-kennedy-died-8734202',\n",
              " 'https://people.com/kerry-washington-says-kamala-harris-great-nieces-helped-nerves-dnc-exclusive-8727840',\n",
              " 'https://people.com/who-is-olivia-nuzzi-robert-f-kennedy-jr-8715961',\n",
              " 'https://people.com/donald-trump-slammed-for-declaring-himself-the-father-of-ivf-8729378',\n",
              " 'https://people.com/donald-trump-didnt-have-to-tour-nc-hurricane-areas-8732050',\n",
              " 'https://people.com/elon-musk-giving-away-1-million-to-trump-supporters-every-day-until-election-day-8731176',\n",
              " 'https://people.com/kamala-harris-jokes-at-hecklers-at-rally-you-meant-to-go-to-the-smaller-one-8730192',\n",
              " 'https://people.com/elon-musk-vladimir-putin-close-contact-report-8734264',\n",
              " 'https://people.com/rfk-jr-cheryl-hines-pda-al-smith-dinner-8730583',\n",
              " 'https://people.com/andy-harris-north-carolina-plot-allocate-electoral-votes-donald-trump-8734583',\n",
              " 'https://people.com/dave-bautista-attacks-donald-trump-masculinity-not-tough-whiny-8729921',\n",
              " 'https://people.com/donald-trump-threatens-to-deny-california-federal-disaster-aid-as-president-8727916',\n",
              " 'https://people.com/donald-trump-calls-kamala-harris-the-r-word-at-dinner-with-billionaire-donors-report-8727651',\n",
              " 'https://people.com/beyonce-kamala-harris-houston-rally-8713800',\n",
              " 'https://people.com/ethel-kennedy-memorial-photos-loved-ones-special-guests-8729097']"
            ]
          },
          "metadata": {},
          "execution_count": 143
        }
      ]
    },
    {
      "cell_type": "code",
      "source": [
        "# @title people [not completed: headers, pubdate]\n",
        "\n",
        "#People Article Text Scraper\n",
        "artTxt = []\n",
        "for art in People_links:\n",
        "  article_text = scrape_article_text(art)\n",
        "  artTxt.append(article_text)\n",
        "People_artTxt = artTxt\n",
        "\n",
        "#combined headers + pubdate:\n",
        "pubds = []\n",
        "headers = []\n",
        "for h in People_links:\n",
        "  hp = requests.get(h)\n",
        "  souph = BeautifulSoup(hp.text, 'html.parser')\n",
        "  span = souph.find_all('head', class_=\"loc head\")\n",
        "  header= str(span)\n",
        "  i = header.find(\"<title>\")\n",
        "  j = header.find(\"<\\title\")\n",
        "  x = header[i+7:j]\n",
        "  y = x.split('\\n', 1)[0]\n",
        "  headers.append(y)\n",
        "  span = souph.find_all('div', class_='mntl-attribution__item-date')\n",
        "  pubd = str(span)\n",
        "  i = pubd.find(\"Published on\")\n",
        "  j = pubd.find(\"</div>\")\n",
        "  if i == -1:\n",
        "    i = pubd.find(\"Updated on\")\n",
        "  x = pubd[i+10:j].lstrip(\"on \")\n",
        "  y = x.split('\\n', 1)[0]\n",
        "  pubds.append(y)\n",
        "People_pubds = pubds\n",
        "People_headers = headers"
      ],
      "metadata": {
        "collapsed": true,
        "id": "-4SEzVLidVgj"
      },
      "execution_count": null,
      "outputs": []
    },
    {
      "cell_type": "code",
      "source": [
        "People_artTxt"
      ],
      "metadata": {
        "colab": {
          "base_uri": "https://localhost:8080/"
        },
        "id": "Qj4tRAoUePii",
        "outputId": "3f2110d1-d88b-489e-dccb-3b6b35b00fa5",
        "collapsed": true
      },
      "execution_count": null,
      "outputs": [
        {
          "output_type": "execute_result",
          "data": {
            "text/plain": [
              "['The 39th U.S. president, who turned 100 on Oct. 1, filled out a ballot which was placed in a dropbox at the Sumter County Courthouse in Georgia ALEX BRANDON/POOL/AFP via Getty; Hannah Beier/Bloomberg via Getty  Jimmy Carter voiced one remaining wish as he neared 20 months in hospice care, and he just fulfilled it.\\n  The former president, who turned 100 on Oct. 1, previously revealed to family that he had one last goal before he dies: \"I’m only trying to make it to vote for Kamala Harris,\" Jimmy said, according to grandson Jason Carter.\\n  On Wednesday, Oct. 16, his wish came true. The longest-living U.S. president filled out a ballot for Harris, 59, which was placed in a dropbox at the Sumter County Courthouse near his hometown of Plains, Ga., Jason and Chip Carter confirmed to The Atlanta Journal-Constitution.\\n  “I think he feels good,” Chip, 74, said about his dad — who has been in hospice care since February 2023 — filling out the ballot. “It was a good morning for him and good for us that he got it done.”\\n  The absentee ballot was dropped off by Chip\\'s wife, Becky, on her father-in-law’s behalf.\\n  When asked if his father voted for Harris, Chip responded “absolutely,” saying, “He’s never voted for a Republican in his life.”\\n David Paul Morris/getty  At the Democratic National Convention in August, Jason, 49, explained why he and his grandfather were throwing their support behind Harris.\\n  \"Kamala Harris carries my grandfather’s legacy,\" he said on stage. \"She knows what is right, and she fights for it. She understands that leadership is about service, not about selfishness. That you can show strength and demonstrate decency. And that you can get a whole lot more done with a smile than with a scowl.\"\\n  While Jason\\'s grandfather just voted in what the family acknowledges could be his final election, his son Henry — who just turned 18 — looks forward to participating in his first.\\n  \"I am excited about this year’s election because it will be my first time able to vote,\" Henry told PEOPLE on Tuesday, Sept 17. \"And that means a lot.\"\\n  Georgia is a key swing state in the 2024 presidential election, carrying 16 electoral votes. Polling shows Harris in a tight race with former President Donald Trump, with no clear front-runner in the state.\\n',\n",
              " 'The Grammy-winning rapper has supported both Obama and Harris\\' careers, and it\\'s now clear that Obama has been following his Abigail Adams is a Human Interest Writer and Reporter for PEOPLE. She has been working in journalism for seven years.  Eminem welcomed Barack Obama to the stage while appearing at a Kamala Harris rally in Michigan just two weeks before the 2024 presidential election. And the former president couldn\\'t help but rap one of Eminem\\'s biggest hits.\\n  The Grammy-winning artist, 52, and former Democratic president, 63, briefly shared the spotlight on Tuesday, Oct. 22, in Detroit as they rallied support for Harris\\' campaign ahead of Election Day.\\n  After being introduced by Eminem, Obama began his speech by quoting the rapper\\'s 2002 hit song \"Lose Yourself.\"\\n  \"I have done a lot of rallies, so I don\\'t usually get nervous. But I was feeling some kind of way following Eminem,\" Obama said once at the podium. \"I noticed, my palms are sweaty, knees weak, arms are heavy, vomit on my sweater already, Mom\\'s spaghetti.\"\\n  As the crowd roared, Obama continued rapping the single, which won a Grammy for Best Rap Song and Best Male Rap Solo Performance in 2004: \"I\\'m nervous but on the surface I look calm and ready, to drop bombs but I keep on forgetting ... \"\\n  Obama ended by singing the famous intro music and telling the cheering crowd, \"I love me some Eminem.\"\\n AP Photo/Paul Sancya  While introducing Obama moments before, Eminem explained that he \"wrote down a few things I wanted to say.\"\\n  \"I\\'m here tonight for a couple of important reasons,\" said the \"Houdini\" rapper. \"As most of you know, the city of Detroit and the whole state of Michigan mean a lot to me, and going into this election, the spotlight is on us more than ever, and I think it\\'s important to use your voice, so I\\'m encouraging everybody to get out and vote,\\xa0please.\"\\n  \"I also think that people shouldn\\'t be afraid to express their opinions, and I don\\'t think anyone wants an America where people are worried about retribution of what people will do if you make your opinion known,\" he continued.\\n  \"I think Vice President Harris\\xa0supports a future for this country where\\xa0these freedoms and many others will be protected and upheld,\" said Eminem.\\n AP Photo/Paul Sancya  Eminem, who previously supported Obama\\'s political career, also endorsed the Biden-Harris ticket in 2020. The day before the last election, the rap icon released an official campaign ad with \"Lose Yourself\" playing in the background, which he captioned, \"One opportunity… #Vote.\"\\n  The rapper has been a vocal critic of Harris’ opponent, Donald Trump. In October 2017, Eminem delivered a nearly five-minute freestyle rap at the BET Awards that dissed the 45th president of the United States, who was wrapping up his first year in office at the time.\\n  In the song, called \"The Storm,\" Eminem called Trump a \"b----\" and slammed him for his comments about a White nationalist rally in Charlottesville and his attacks on NFL player protests.\\n  Eminem released another song in 2017, called \"Framed,\" that also took aim at Trump with a lyric that said, \"That’s an awfully hot coffee pot/Should I drop it on Donald Trump? Probably not/But that’s all I got till I come up with a solid plot.\"\\n AP Photo/Paul Sancya  In 2018, Eminem suggested in a lyric from his song \"The Ringer\" that he was visited by the Secret Service after \"Framed\" was released. \" \\'Cause Agent Orange just sent the Secret Service/To meet in person to see if I really think of hurting him,\" he rapped in the song.\\n  Never miss a story — sign up for PEOPLE\\'s free daily newsletter to stay up-to-date on the best of what PEOPLE has to offer, from celebrity news to compelling human interest stories.\\n  At the time, the Secret Service characterized Eminem as \"exhibiting inappropriate behavior\" and said he threatened the \"protectee,\" meaning Trump, according to documents previously obtained by BuzzFeed.\\n',\n",
              " '\"And needless to say: I am all in for Kamala!\" the musician added Chip Somodevilla/Getty; Axelle/Bauer-Griffin/Film  Rufus Wainwright is not OK with his song \"Hallelujah\" being played at a Donald Trump rally.\\xa0\\n  In a statement shared to social media on Tuesday, Oct. 15, the Canadian-American singer and songwriter, 51, denounced the Republican presidential nominee\\'s use of his song and expressed his support for Kamala Harris.\\n  “Last night (October 14), at a Donald Trump town hall in Oaks, Pennsylvania, that NPR characterized as going ‘from a Q-and-A session to a bizarre musical event in which Trump stood in front of his audience for an extended period while songs played on the sound system,’ numerous songs were played,” Wainwright wrote.\\n  \"The song \\'Hallelujah\\' by Leonard Cohen has become an anthem dedicated to peace, love and acceptance of the truth. I\\'ve been supremely honored over the years to be connected with this ode to tolerance,” his tweet continued, referring to his cover of Cohen\\'s 1984 song.\\xa0\\n  “Witnessing Trump and his supporters commune with this music last night was the height of blasphemy. Of course, I in no way condone this and was mortified, but the good in me hopes that perhaps in inhabiting and really listening to the lyrics of Cohen\\'s masterpiece, Donald Trump just might experience a hint of remorse over what he\\'s caused. I\\'m not holding my breath.\"\\n  Wainwright added that the Trump campaign has been issued a cease and desist letter on behalf of the publishing company for Leonard Cohen’s estate.\\n Spencer Platt/Getty  “And needless to say: I am all in for Kamala!” the composer added, throwing his support behind the Democratic nominee.\\xa0\\n  As Wainwright pointed out, Trump made headlines for what many deemed “bizarre” behavior at his Oaks, Pa., town hall event.\\n  While onstage, the former president was seen in videos shared on social media swaying to music for more than 30 minutes without speaking during his rally, as well as once again discussing fictional serial killer Hannibal Lecter from Silence of the Lambs.\\n  However, his eyebrow-raising behavior didn’t end there.\\xa0\\n  Trump also urged his supporters to vote on Jan. 5, despite Election Day being Nov. 5.\\n Steven Hirsch-Pool/Getty; David Paul Morris/Bloomberg via Getty  The incident comes just days after Harris’ doctors gave the vice president, 59, an “excellent” bill of health.\\xa0\\n  Never miss a story — sign up for PEOPLE\\'s free daily newsletter to stay up-to-date on the best of what PEOPLE has to offer\\u200b\\u200b, from celebrity news to compelling human interest stories.\\n  In her medical report, published by the White House and written by her physician, Dr. Joshua Simmons, the doctor stated that Harris “possesses the physical and mental resiliency required to successfully execute the duties of the Presidency.”\\n  On Monday, Oct. 14, Harris addressed Trump’s Oaks, Pa. rally.\\n  “Hope he\\'s OK,” she tweeted, along with a video clip of him appearing “lost, confused, and frozen” onstage.\\n',\n",
              " 'Mayor Kate Gallego confirmed on X (formerly Twitter) that a suspect has been arrested after the Thursday, Oct. 24, fire 12NewsAZ/Youtube  A suspect has been arrested after a United States Postal Service mailbox — reportedly containing several general election ballots — was set on fire this week.\\n  The blue, drive-up collection box located on the property of a post office at North 7th Avenue was set on fire around 1:20 a.m. local time on Thursday, Oct. 24, per NBC News and AZFamily, which cited the Phoenix Fire Department.\\n  Approximately 20 ballots were damaged in the fire before the postal inspector took possession of the damaged mail, both outlets reported, citing Rob McDade of the PFD. The office of Arizona Secretary of State Adrian Fontes told NBC News that the number of damaged ballots was in flux.\\n  Fontes added that \"many undamaged ballots\" were collected and that voters would be contacted. \"Any attack that strikes at our democratic process carries criminal consequences,\" Fontes, a Democrat, said in a statement to NBC News. \"Ballot abuse is a felony in Arizona, and mailbox vandalism is a federal crime.\"\\n  Per NBC News, which cited a spokesperson for the Phoenix Police Department, investigators obtained surveillance footage of the crime. The Phoenix Police Department and Phoenix Fire Department did not immediately respond to PEOPLE\\'s request for more information on Thursday afternoon.\\n  Phoenix Mayor Kate Gallego announced on X (formerly Twitter) that a suspect was arrested thanks to an effort by police, the local fire department and \"federal partners.\"\\n  \"I am concerned about the recent incident at one of our post offices involving damage to several ballots,\" she wrote on the platform. \"There is zero tolerance for criminal activity in our community, and we are working collaboratively with every level of government to bring the perpetrator to justice.\"\\n  According to KNXV-TV, emergency crews were first called to the Osborn Station USPS around 1:30 a.m. on Thursday. The outlet also noted that an unknown person fled the scene after lighting the fire. After crews extinguished the fire, KNXV reports that investigators could later be seen going through damaged mail.\\n  Police, alongside postal inspectors and the Phoenix Fire Department’s Arson Investigation Taskforce, are performing a criminal investigation, per KNXV.\\n Justin Sullivan/Getty  The fire and subsequent investigation come days before the last day to request a replacement ballot on Friday, Oct. 25, Maricopa County Recorder Stephen Richer told AZFamily. Voters who used that specific mailbox in the last 36 hours are encouraged to check their ballot status online.\\n  \"This does not happen often and is rare,\" a USPS spokesperson and postal inspector told the outlet, noting that postal inspectors are working with the local election commission to \"ensure any affected election mail is remedied and that other mail is routed to the appropriate parties.\"\\n  Never miss a story — sign up for PEOPLE\\'s free daily newsletter to stay up-to-date on the best of what PEOPLE has to offer.\\n  Those who believe their mail was impacted by the fire are being encouraged by the USPS to contact their local election office to \"confirm receipt and identify options for tracking your ballot.\"\\n  \"Postal Inspectors are immediately reviewing and addressing all complaints of impacted political or election mail,\" the statement continued. \"Anyone who steals, disrupts, delays or otherwise tampers with political or election mail should know that the full investigative strength of the federal government will be directed toward them, including Postal Inspectors, special agents with the USPS Office of Inspector General and Federal Bureau of Investigation, and prosecutors with the Department of Justice.\"\\n  Arizona, carrying 11 electoral votes, will play a crucial role in determining the next president. It is one of seven swing states in the 2024 presidential election and has flip-flopped between supporting Democrats and Republicans in recent years.\\n',\n",
              " 'The magazine said that, while a third-party review did not find evidence of bias in Nuzzi\\'s 2024 campaign reporting, the political reporter has mutually agreed to part ways with the brand Kyler Alvord is a news editor at PEOPLE, leading the brand\\'s political coverage. He joined the publication on the crime beat. Randy Shropshire/Getty; John Nacion/Getty  Olivia Nuzzi, the political journalist who allegedly developed a \"personal relationship\" with Robert F. Kennedy Jr. on the campaign trail, has left New York magazine amid the fallout from their scandal.\\n  On Oct. 21, New York revealed in a statement that Nuzzi, 31, is no longer employed by the outlet, one month after she was placed on leave following allegations that she grew close to Kennedy while covering his independent presidential campaign. The statement said that New York and Nuzzi agreed to \"part ways\" despite a third-party review concluding that she did not show signs of bias in her reporting.\\n  \"Last month, the magazine enlisted the law firm Davis Wright Tremaine to review Olivia Nuzzi’s work during the 2024 campaign,\" the magazine\\'s statement reads. \"They reached the same conclusion as the magazine’s initial internal review of her published work, finding no inaccuracies nor evidence of bias.\"\\n  The statement continued: \"Nevertheless, the magazine and Nuzzi agreed that the best course forward is to part ways. Nuzzi is a uniquely talented writer and we have been proud to publish her work over her nearly eight years as our Washington Correspondent. We wish her the best.\"\\n Paul Morigi/Getty  A spokesperson for New York magazine\\xa0previously released a statement\\xa0on Thursday, Sept. 19, saying that Nuzzi had recently \"acknowledged to the magazine’s editors\" that she engaged in a relationship with a former subject \"while she was reporting on the campaign,\" which was \"a violation of the magazine’s standards around conflicts of interest and disclosures.\"\\n  \"Had the magazine been aware of this relationship, she would not have continued to cover the presidential campaign,\" the spokesperson added at the time.\\n  Nuzzi shared in a statement to PEOPLE in September that \"the nature of some communication\" between her and a reporting subject had \"turned personal,\" though she claimed that she \"did not directly report on the subject nor use them as a source\" during that time.\\xa0\\n  \"The relationship was never physical but should have been disclosed to prevent the appearance of a conflict,\" she said. \"I deeply regret not doing so immediately and apologize to those I’ve disappointed, especially my colleagues at\\xa0New York.\"\\n  Though Nuzzi and New York omitted the name of the subject in question, a source with knowledge of the incident quickly told\\xa0CNN\\xa0that the person in question was Kennedy, 70, who\\xa0dropped out of the 2024 presidential race\\xa0in August before endorsing former President\\xa0Donald Trump.\\n Chip Somodevilla/Getty  In the weeks after Nuzzi was placed on leave, numerous rumors emerged about the nature of her relationship to Kennedy, who has been married to actress Cheryl Hines since 2014.\\n  Among them are allegations from Nuzzi\\'s ex-fiancé, Ryan Lizza, the chief Washington correspondent at Politico. Lizza is now in a court dispute with Nuzzi, and in a legal filing, he reportedly accused Nuzzi of engaging in \"catastrophically reckless behavior.\"\\n  Lizza also claimed that Nuzzi described her alleged relationship with Kennedy as \"toxic,\" \"unhealthy,\" \"stupid,\" \"psychotic,\" \"crazy,\" and \"indefensible,\" acknowledging the \"huge power disparity\" between her and Kennedy, CNN reported, citing the court filing.\\n  Nuzzi allegedly told Lizza that Kennedy wanted to \"control,\" \"possess\" and \"impregnate\" her, according to that same filing.\\n  Never miss a story — sign up for PEOPLE\\'s free daily newsletter to stay up-to-date on the best of what PEOPLE has to offer.\\n  A spokesperson for Kennedy told the Wall Street Journal\\xa0that Lizza\\'s account of the dynamic between Nuzzi and Kennedy\\xa0\"is not true.\" The rep\\xa0previously denied the reports of a relationship altogether, saying, \"Mr. Kennedy only met Olivia Nuzzi once in his life for an interview she requested, which yielded a hit piece.\"\\n  Speaking to PEOPLE, a Kennedy spokesperson said, \"The accusations about Robert Kennedy are categorically\\xa0false and he will not participate\\xa0in reporting on triple\\xa0hearsay allegations made in a dispute between other people.\"\\n',\n",
              " 'The late Kennedy matriarch was known for sending humorous, handmade Valentine\\'s Day cards to hundreds of major political figures each year, including Joe Biden, Barack Obama and Bill Clinton Charlotte Phillipp is a Weekend Writer-Reporter at PEOPLE. She has been working at PEOPLE since 2024, and was previously an entertainment reporter at The Messenger. Patrick McMullan/Patrick McMullan via Getty\\xa0  Ethel Kennedy\\'s daughter Kerry Kennedy is showing off some of her late mother\\'s best homemade valentines, which were mentioned multiple times at Ethel\\'s memorial service this week.\\n  On Wednesday, Oct. 16, Kerry shared images to social media of some of the cards that her mother, the widow of late Sen.\\xa0Robert F. Kennedy, sent out to her politician friends for Valentine\\'s Day over the years.\\n  In her post on X (formerly Twitter), Kerry wrote that some of her \"Mummy’s favorite Valentine’s cards\" included ones she sent to President Joe Biden, former Presidents Barack Obama and Bill Clinton, and former House Speaker\\xa0Nancy Pelosi.\\n Kevin Mazur/Getty  In one card, Ethel wrote to Biden, \"I\\'m not Biden my time waiting for you, Valentine,\" alongside a photo of the pair together and a handwritten note that read: \"\\'Cuz he\\'s no ordinary Joe. XO Bearhugs, Ethel.\"\\n  While delivering the final eulogy for Ethel at her memorial on Wednesday, Biden brought up that valentine as a cherished possession of his.\\n  \"I don’t know how many of you got that damn valentine, but I tell you what, it meant a lot to me,\" he said. \"I’ve received a lot of honors in my life, but that might be the best one I’ve ever received.\"\\n  Another card that Ethel sent to Obama joked: \"I thought they said Merman,\" alongside a photo of the duo together taken as he awarded her with the Presidential\\xa0Medal\\xa0of Freedom.\\n Alex Wong/Getty\\xa0  Ethel\\'s card to Clinton featured a photoshopped image of herself and the former president playing the saxophone together, and was captioned: \"One day we\\'ll make music, \\'cuz you know how I feel; But right now, Valentine — This guy blows my mind with his sax appeal.\"\\n  Another card, seemingly sent to Pelosi, featured a photoshopped picture of Ethel tearing open an envelope full of hearts with the text: \"Roses are red, Violets are blue. I\\'ll tear up all the others, Valentine, so I\\'ll just have you.\"\\n  \"Heartwarming to hear that\\xa0@POTUS, President\\xa0@BarackObama, President\\xa0@BillClinton, and\\xa0@SpeakerPelosi\\xa0loved them as much as we did! ❤️\" Kerry, 65, captioned the post, referencing their nods to the valentines at the memorial service.\\n Jim Lo Scalzo/EPA/Bloomberg via Getty  Many of Ethel\\'s friends and family attended “A Celebration of Life for Mrs. Robert F. Kennedy” at the Cathedral of St. Matthew the Apostle in Washington D.C., on Oct. 16.\\n  The human rights activist and mother of 11 died at the age of 96 on Oct. 10.\\n  Never miss a story — sign up for PEOPLE\\'s free daily newsletter to stay up-to-date on the best of what PEOPLE has to offer.\\n  Obama, Clinton, Biden and Pelosi all played a role in the memorial program, as did Martin Luther King III, Kenny Chesney, Stevie Wonder, Sting and several of Ethel\\'s children and grandchildren.\\n',\n",
              " 'Nuzzi is reportedly accusing her former fiancé Ryan Lizza of leaking her alleged \"personal relationship\" with RFK Jr., and claims Lizza attempted to blackmail her to reconcile Dimitrios Kambouris/Getty; Randy Shropshire/Getty; Michael M. Santiago/Getty\\xa0  Olivia Nuzzi\\'s former fiancé Ryan Lizza is making more claims about her alleged year-long \"personal relationship\" with Robert F. Kennedy Jr.\\n  Last month, reports surfaced that Nuzzi, a 31-year-old New York magazine reporter, and the former presidential candidate, 70, had been in a relationship after she interviewed him for a profile last November. Nuzzi later claimed that Lizza harassed and blackmailed her before allegedly leaking her and Kennedy\\'s alleged relationship in an attempt, she claims, to get her back.\\n  In new court documents filed this week and obtained by CNN, The Daily Beast\\xa0and Wall Street Journal, Lizza denied the allegations and recalled finding out that Nuzzi \"had been cheating on me with a married man for almost a year.\"\\n  Kennedy has been married to Curb Your Enthusiasm actress Cheryl Hines since 2014.\\n  Lizza reportedly alleged in his filing in Washington, DC’s Superior Court that after he discovered Nuzzi and Kennedy\\'s alleged relationship, Nuzzi claimed Kennedy wanted to \"control,\" \"possess\" and \"impregnate\" her.\\n Alexander Tamargo/Getty Images for Vox Media)  Lizza, the Chief Washington Correspondent\\xa0for Politico, claimed that Nuzzi described the relationship as \"toxic,\" \"unhealthy,\" “stupid,” psychotic,” “crazy,” and “indefensible,\" acknowledging the “huge power disparity” between her and Kennedy, per CNN.\\n  Lizza reportedly further claimed that Nuzzi showed \"catastrophically reckless behavior\" as Kennedy allegedly manipulated her throughout their relationship.\\n  Lizza reportedly alleged in his filing that although he reassured Nuzzi he could \"help her get away from the disturbing relationship with her paramour,\" he \"seriously doubted that it was possible for us to have a future together,\" despite Nuzzi\\'s attempts and pleas to reconcile.\\n  “Ms. Nuzzi resisted any effort to formally end our relationship and she repeatedly asked me for more time to consider our future,\" Lizza alleged in his filing. \"This remained her position up until the last time we had any discussion about it, on September 15th.\"\\n  Never miss a story — sign up for PEOPLE\\'s free daily newsletter to stay up-to-date on the best of what PEOPLE has to offer\\u200b\\u200b, from celebrity news to compelling human interest stories.\\xa0\\n John Nacion/Getty  Lizza reiterated that he never harassed Nuzzi nor threatened to expose her and Kennedy\\'s relationship to get her back. “Everything I know about her affair comes directly from Ms. Nuzzi herself,\" he reportedly stated in court docs.\\n  He also reportedly denied the \"defamatory lies\" that he hacked into Nuzzi\\'s devices, and \\xa0“threatened physical violence”\\xa0against her. Instead, he said he urged her to pay back the advance they received from a book deal claiming this to be \"the second presidential cycle in a row where Ms. Nuzzi\\'s personal indiscretions have sabotaged our book project,” per CNN. He claims in his filing that Nuzzi also allegedly had an affair in 2020 that thwarted their book deal.\\n  The PEOPLE Puzzler crossword is here! How quickly can you solve it? Play now!\\n  A representative for Kennedy also said, per WSJ, that Lizza\\'s account of his relationship with Nuzzi \\xa0“is not true.”\\xa0The rep also previously denied the reports of a relationship and said, “Mr. Kennedy only met Olivia Nuzzi once in his life for an interview she requested, which yielded a hit piece.”\\n  A spokesperson for Kennedy told PEOPLE, \"The accusations about Robert Kennedy are categorically\\xa0false and he will not participate\\xa0in reporting on triple\\xa0hearsay allegations made in a dispute between other people.\"\\n  In his filing, Lizza denied leaking Kennedy and Nuzzi\\'s alleged relationship.\\n Paul Morigi/Getty Images; Michael M. Santiago/Getty Images  \"I was also not the source for the reporter who first broke the news of Ms. Nuzzi\\'s affair,” Lizza reportedly stated in the filing, referencing Status:\\xa0New York\\xa0Magazine reporter Oliver Darcy who broke the story on Nuzzi and Kennedy\\'s alleged affair. “Ms. Nuzzi knows this because the reporter told her this.”\\n  “Her allegation of [me] trying to blackmail her back into our relationship is a disgraceful lie contradicted by the most basic facts,” he reportedly continued. “Ms Nuzzi\\'s own recklessness is solely responsible for the public ridicule, humiliation and professional damage she says she has suffered.”\\n  A court hearing between Lizza and Nuzzi is scheduled for this time next month, CNN reports. Both Lizza and Nuzzi have been placed on leave from their jobs.\\n',\n",
              " 'The state senator died on Tuesday, Oct. 22, according to Kentucky Senate President Robert Stivers Gabrielle Rockson is a staff writer-reporter for PEOPLE. She joined PEOPLE in 2023 and covers entertainment and human interest stories. She\\'s interviewed David Beckham, Zendaya, Timothée Chalamet and many others. Her previous work can be found in OK! Magazine, MyLondon, GRM Daily, and more. Kentucky Legislative Research Commission  Republican Kentucky state Sen. Johnnie Turner has died at the age 76.\\n  According to ABC News, the lawmaker died after he plunged into an empty pool while driving a lawnmower. The incident occurred on Sept. 15, when authorities confirmed to the Associated Press that Turner had plunged into the deep end of the pool on his lawnmower.\\n  At the time, the senator was taken to a local hospital before being transferred to UT Medical Center.\\n  On Wednesday, Oct. 23, Kentucky Senate President Robert Stivers announced in a press release that Turner had died following the accident.\\n  \"It is with heavy hearts that we share the news of Sen. Johnnie Turner’s passing Tuesday evening, following a hard-fought battle with injuries sustained in his recent accident,” the release read, per LINK NKY.\\xa0\\n  Never miss a story — sign up for PEOPLE\\'s free daily newsletter to stay up-to-date on the best of what PEOPLE has to offer, from juicy celebrity news to compelling human interest stories.\\n AP Photo/Bruce Schreiner  “Over the past weeks, his remarkable resolve and strength filled the Turner family — and all of us — with optimism, making this loss all the more difficult to bear,” he added.\\n  Stivers, 62, went on to say that he will miss his friend, adding that his “heart breaks for his wife, Maritza, and his children.”\\n  PEOPLE reached out to Stivers for comment, but did not receive an immediate response.\\n  “This loss is deeply personal to me, as I have known Johnnie long before our paths crossed in public office,” he said.\\n  “Johnnie spent his life lifting others — whether through his service in the U.S. Army, as a member of the State House of Representatives and State Senate, or in his private legal practice,” Stivers continued. “His unwavering commitment to the people of Eastern Kentucky—his constituents, brothers and sisters in Christ, whom he so fondly referred to as ‘his people’—was at the heart of everything he did.”\\n  According to Sky News, Turner served in the US military and the Kentucky House of Representatives. He then became a state senator in 2020 and worked in his legal practice.\\n',\n",
              " '\"I do not know anything about planes, except for the fact that it should not leak oil,” the former president said Kamil Krzaczynski/Getty  Barack Obama made sure to show up for Minnesota Gov. Tim Walz’s rally in Madison, Wis., despite plane problems.\\xa0\\n  On Tuesday, Oct. 22, the former US president, 63, joined the Democratic vice presidential nominee, 60, for a campaign rally ahead of Election Day on Nov. 5 — however, he was a bit behind schedule.\\xa0\\n  “It is good to be back in Madison! It is good to be here,” he began. “Look, first of all, I wanna apologize, I was a little late.”\\xa0\\n Kamil Krzaczynski/Getty  His speech was briefly interrupted by a supporter who yelled from the crowd that she loved him.\\n  “I love you back!” he replied from the podium.\\n  Obama then explained the reason for his tardiness.\\n  “I was in my hometown, Chicago, and so we boarded the plane, great takeoff. And then the pilot comes in and says, ‘Sir, there’s a pile of oil leaking out of the back of the plane.’ And, I do not know anything about planes, except for the fact that it should not leak oil,” he said while laughing.\\n  “So, we had a nice road trip instead,” Obama added.\\xa0\\n  The drive from Chicago to Madison is just over two hours, depending on traffic and weather conditions. A direct flight would have cut the time in half.\\xa0\\n  Walz is campaigning as Vice President Kamala’s Harris’ running mate after President Joe Biden exited the 2024 presidential race on July 21.\\n  The PEOPLE Puzzler crossword is here! How quickly can you solve it? Play now!\\n Chip Somodevilla/Getty  After his initial announcement, Biden later tweeted: “Today I want to offer my full support and endorsement for Kamala to be the nominee for our party this year. Democrats — it\\'s time to come together and beat Trump. Let\\'s do this.\"\\n  Since then, Obama and former First Lady Michelle Obama have also endorsed Harris, 60, sharing their support less than a week after Biden, 81.\\n  Never miss a story — sign up for PEOPLE\\'s free daily newsletter to stay up-to-date on the best of what PEOPLE has to offer\\u200b\\u200b, from celebrity news to compelling human interest stories.\\n  \"I can’t have this phone call without saying to my girl Kamala: I am proud of you. This is going to be historic,\" Michelle, 60, told Harris in the July 26 video announcement.\\n  Barack added: \"Michelle and I couldn’t be prouder to endorse you and do everything we can to get you through this election and into the Oval Office.\"\\n',\n",
              " 'The vice president pushed back during a sit-down interview with Fox News\\' Bret Baier when he showed her a trimmed soundbite of Donald Trump speaking that downplayed his attacks against Democrats Fox News/YouTube  Kamala Harris called out a Fox News interviewer on the air after the network played a misleading clip of Donald Trump to try and prove a point.\\n  During a sit-down interview with Bret Baier on Wednesday, Oct. 16, the Fox News host attempted to corner Harris by asking her if she believes that Trump\\'s supporters are \"stupid.\"\\n  \"Oh, God, I would never say that about the American people,\" Harris, 59, responded. \"And in fact, if you listen to Donald Trump, if you watch any of his rallies, he\\'s the one who tends to demean and belittle and diminish the American people. He\\'s the one who talks about an \\'enemy within\\' ... talking about the American people. Suggesting he would turn the American military on the American people.\"\\n  Harris was referencing Trump\\'s recent string of comments where he has described \"radical left lunatics\" — using California Rep. Adam Schiff as an example — as the United States\\' \"enemy from within,\" at one point offering up an idea that the military could be used to wrangle the left.\\n  Baier, 54, told Harris that Trump had already cleared the air about his troubling comments, then played a clip for Harris of how the former president explained them on The Faulkner Focus.\\n  \"They were saying I was threatening, I\\'m not threatening anybody,\" Trump, 78, said in the clip that Harris was shown. He then claimed that he has been the victim of \"weaponization of government.\"\\n  What the clip left out is that seconds before Trump told Harris Faulkner that he wasn\\'t threatening anybody, he had doubled down on his rhetoric against the \"enemy from within,\" saying that a \"strong president\" is needed to \"handle\" anti-MAGA Democrats, whom he described as \"sick\" and \"evil.\"\\n  After the trimmed clip of Trump\\'s comments played, Harris told Baier, \"With all due respect, that clip was not what he has been saying about the \\'enemy within,\\' that he has repeated, when he\\'s speaking about the American people.\"\\n  \"That’s not what you just showed in all fairness and respect to you,\" the vice president added.\\n  \"I\\'m telling you that was the question we asked him,\" Baier responded before Harris insisted, \"No, no, that\\'s not what you showed.\"\\n  Harris continued her point, saying, \"Here’s the bottom line: he has repeated it many times, and you I both know that, and you and I both know that he’s talked about turning the American military on the American people.\"\\n  \"He has talked about locking people up because they disagree with him. This is a democracy, and in a democracy, the president of the United States in the United States of America should be willing to be able to handle criticism without saying he\\'d lock people up who do it,\" she said.\\n Spencer Platt/Getty  Trump first made headlines for his \"enemy from within\" comments when he was asked about concerns from President\\xa0Joe Biden that MAGA supporters may become unruly on Election Day during an appearance on Fox News’\\xa0Sunday Morning Futures\\xa0on Sunday, Oct. 13.\\n  The former president reacted by saying he does not think his supporters — who\\xa0stormed the Capitol on Jan. 6, 2021, to prevent Biden\\'s election victory from being certified in Congress — will ignite chaos, claiming that the real threat to November\\'s election is \"the enemy from within.\"\\n  “I think the bigger problem are the people from within. We have some very bad people. We have some sick people, radical left lunatics,” Trump continued. “And I think it should be very easily handled by, if necessary, by National Guard or, if really necessary, by the military, because they can’t let that happen.”\\n  Never miss a story — sign up for\\xa0PEOPLE\\'s free daily newsletter\\xa0to stay up-to-date on the best of what PEOPLE has to offer, from juicy celebrity news to compelling human interest stories.\\n  Harris\\' senior campaign adviser Ian Sams said that Trump’s remarks should \"alarm every American who cares about their freedom and security,\" in a statement issued to The Hill after the former president\\'s comments.\\n  Sams added. \"What Donald Trump is promising is dangerous, and returning him to office is simply a risk Americans cannot afford.\"\\n Win McNamee/Getty  Harris\\' interview with Baier on Oct. 16 comes as the Trump campaign has accused his opponent of playing it safe with her media appearances.\\n  Aiming to dispel false rumors from MAGA supporters that the former prosecutor cannot speak without a teleprompter and colludes with media outlets to get questions in advance, Harris has adopted a more aggressive media schedule in recent weeks.\\n  The Harris campaign\\'s goal with the Fox News sit-down was to demonstrate that the vice president is willing to get in the hot seat on a conservative network and defend her campaign. Trump, meanwhile, has turned down debate invitations and interviews with left-leaning journalists in recent weeks, and canceled an upcoming interview with CNBC after previously agreeing to participate.\\n',\n",
              " 'During a rare joint appearance at the Al Smith Dinner in New York City on Thursday, Oct. 17, the former first couple was confronted with one particularly awkward moment Charlotte Phillipp is a Weekend Writer-Reporter at PEOPLE. She has been working at PEOPLE since 2024, and was previously an entertainment reporter at The Messenger. Anthony Behar/AP  Donald Trump\\xa0and his wife, Melania Trump, had very different reactions to a joke about the former president\\'s infamous Hollywood Access tape.\\n  During the high-profile Al Smith Dinner — an election year tradition in New York City to raise money for Catholic charities and roast political candidates — comedian and dinner host Jim Gaffigan began cracking jokes about Donald, 78, as the former president and Melania, 54, sat just feet away.\\n  Gaffigan jokingly compared Donald\\'s recent false claims about Haitian immigrants eating pets in Ohio to his lewd comments in a 2005 recording that surfaced during the 2016 presidential race, according to Newsweek.\\n  \"During the first and only debate, President Trump talked about migrants taking cats and eating them,\" Gaffigan said. \"You know, if you\\'re keeping track at home, this is the second time grabbing a kitty has been part of a campaign issue.\"\\n Michael M. Santiago/Getty  According to Newsweek, Donald was smiling through the joke, while Melania remained \"stone-faced.\" Some audience members laughed and groaned, while others stayed silent.\\n  Mary Callahan Erdoes, vice chair of the Alfred E. Smith Memorial Foundation board, was then heard telling Gaffigan, \"We talked about leaving that out.\"\\n  Gaffigan responded to her affirmatively, saying, \"I was gonna leave that out.\"\\n Michael M. Santiago/Getty  In the 2005 tape that Gaffigan referenced, Donald was heard on a hot microphone speaking with Access Hollywood\\'s Billy Bush about groping and trying to have sex with women.\\n  At one point, the real estate mogul notoriously said, \"You know I\\'m automatically attracted to beautiful... I just start kissing them. It\\'s like a magnet. Just kiss. I don\\'t even wait. And when you\\'re a star they let you do it. You can do anything.\"\\n  \"Grab them by the p---y,\" Donald continued. \"You can do anything.\"\\n  Additionally, during the recent presidential debate against Vice President\\xa0Kamala Harris\\xa0in September, Donald brought up the far-right conspiracy theory regarding Haitian migrants “eating pets,\" which received mass criticism ahead of the debate.\\n  \"In Springfield, [Ohio,] they\\'re eating the dogs, the people that came in. They\\'re eating the cats. They\\'re eating the pets of the people who live there, and this is what\\'s happening in our country,” Donald falsely claimed of Haitian people who have moved there.\\n  Moderator David Muir interjected at the time to note that the city manager of Springfield has publicly stated \"there have been no credible reports of specific claims of pets being harmed, injured or abused by individuals within the immigrant community.\"\\n GIORGIO VIERA/AFP via Getty  This isn\\'t the first time Melania has had a less-than-enthusiastic reaction to buzz about Donald\\'s sex-related scandals. A source previously told PEOPLE in March 2023 that the former model was completely uninterested in talking about the alleged hush money payment Donald made to adult film star\\xa0Stormy Daniels\\xa0in 2016.\\n  Daniels previously alleged that her rumored extramarital affair\\xa0with Donald took place less than four months after Melania gave birth to the couple\\'s son,\\xa0Barron, in 2006.\\n  Never miss a story — sign up for PEOPLE\\'s free daily newsletter to stay up-to-date on the best of what PEOPLE has to offer\\u200b\\u200b, from celebrity news to compelling human interest stories.\\n  According to the source, Melania has been \"leading her own life, and still feels happy being at Mar-a-Lago, surrounded by people who love her and who never talk about reality, or bad things about her husband.\"\\n  \"She remains angry and doesn\\'t want to hear [the alleged hush money payment] mentioned,\" the source added. \"She is aware of who her husband is and keeps her life upbeat with her own family and a few close friends.\"\\n  The source also noted at the time that Melania has been upset by the Daniels accusations since at least 2018, when the\\xa0Wall Street Journal\\xa0reported that\\xa0Donald had arranged a $130,000 payment\\xa0to the ex-porn star a month before the 2016 election so she\\'d keep quiet about their alleged affair.\\n',\n",
              " 'The mother of 11 and founder of RFK Human Rights died at age 96 on Oct. 10 Kyler Alvord is a news editor at PEOPLE, leading the brand\\'s political coverage. He joined the publication on the crime beat. Jim Lo Scalzo/EPA/Bloomberg via Getty  Ethel Kennedy is being remembered by those who loved her most.\\xa0\\n  Ethel, the widow of late Sen. Robert F. Kennedy, died at age 96 on Oct. 10 from complications related to a stroke. After her husband’s assassination in 1968, she dedicated herself to raising their 11 children and devoted her life to public service and human rights.\\n  “Along with a lifetime’s work in social justice and human rights, our mother leaves behind nine children, 34 grandchildren and 24 great-great-grandchildren, along with numerous nieces and nephews, all of whom love her dearly,” the family statement said in announcing her death.\\n David L. Ryan/The Boston Globe via Getty  To honor her life and legacy, powerful friends and numerous Kennedy family members attended “A Celebration of Life for Mrs. Robert F. Kennedy” at the Cathedral of St. Matthew the Apostle in Washington D.C. on Wednesday, Oct. 16. A private funeral was held for the matriarch two days earlier.\\n  The service was closed to the public but available to livestream.\\n MANDEL NGAN/AFP via Getty  Among the many distinguished guests at Ethel\\'s celebration of life were three United States presidents: Joe Biden, Barack Obama and Bill Clinton.\\n  \"Her life was marked by more tragedy and heartbreak than most of us could bear,\" Obama said during his eulogy. \"And she would have been forgiven, I think, if at any point she had stepped away from public life or allowed bitterness to fester after all she and her family had been through. But that\\'s not what Ethel did because that\\'s not who she was.\"\\n  Obama called Ethel \"a big dose in a small package,\" contrasting her \"spitfire\" personality to RFK\\'s more \"shy and serious\" demeanor.\\n  \"I thought your mother was the cat\\'s meow. She would flirt with me in the most innocent ways,\" Clinton playfully told Ethel\\'s children. \"She was an amazing fireball of continuous energy. It was wonderful to be around her.\"\\n  Biden, whose eulogy closed out the service, said that Ethel was there for him at the very start of his career, when his wife and daughter were killed in a car accident after he had just been elected to the Senate.\\n  \"Along with Teddy [Kennedy], she got me through a time I didn\\'t want to stick around. I wanted no part of being in the Congress or the Senate, I mean it,\" Biden said, reflecting on the difficulty he faced in launching his political career in a time of grief. \"But Teddy and Ethel wanted to hear none of it. You know the fact is, like she did for the country, Ethel helped my family find a way forward with principle and purpose.\"\\n  And throughout his time in public service, Biden said, she always remained a friend.\\n  \"There was nothing, from my perspective — and I suspect most of you — that she couldn\\'t do,\" he said. \"Nothing.\"\\n Jim Lo Scalzo/EPA/Bloomberg via Getty  Other political power players appeared at the service as well, like California Gov. Gavin Newsom, former Secretary of State John Kerry and former House Speaker Nancy Pelosi, the latter of whom called Ethel a \"national treasure\" on stage.\\n  Martin Luther King III, son of MLK Jr., spoke about his family\\'s ties to the Kennedys.\\n  \"I remember when Mrs. Kennedy came to our home with Sen. Kennedy in 1968 after my father was assassinated. That was the first time I remember meeting Mrs. Kennedy,\" King, 66, said. \"And just two months later, my mom went to the Kennedy home to express her condolences after the assassination of Sen. Robert Kennedy.\"\\n  He continued: \"Like millions of Americans I was deeply moved and profoundly impressed by the remarkable courage and dignity Mrs. Kennedy displayed in the days after her beloved husband Sen. Robert F. Kennedy was assassinated.\"\\n MANDEL NGAN/AFP via Getty  Singers Kenny Chesney, Sting and Stevie Wonder were among the musical talent invited to perform, and in a memorable moment from the service, Ethel\\'s many grandchildren piled onto the stage and took turns offering up prayers in honor of their grandmother.\\n  Never miss a story — sign up for PEOPLE\\'s free daily newsletter to stay up-to-date on the best of what PEOPLE has to offer.\\n  A handful of Ethel\\'s children — who called her \"Mummy\" — also played prominent roles in the service, including Kathleen, Kerry, Max and Rory.\\n  \"Mummy was all I had, but she was more than I could have ever hoped for,\" said Rory, who was born after RFK\\'s assassination. \"She was my staunchest advocate.\"\\n  \"We have been lucky, Mummy, because we have lived so long with you, who had been in love all of those years with Daddy,\" Kathleen, the oldest daughter of Ethel and Bobby, said. \"We expect you will have heaven much better decorated before the holidays, and we’re comforted that you will always find a place for us at that table.\"\\n',\n",
              " 'A representative for the former president denied the allegations in a statement to PEOPLE, calling them \"unequivocally false\" Spencer Platt/Getty  Former model Stacey Williams says Donald Trump groped her after being introduced to him by Jeffrey Epstein in 1993.\\n  According to The Guardian, Williams, 56, made the allegations during a Zoom call on Monday, Oct. 21, among supporters of Kamala Harris, organized by\\xa0Survivors for Kamala.\\n  Williams claimed that the alleged groping occurred months after she and Trump met in 1992 at a Christmas party after Epstein, whom she said she was casually dating at the time, suggested they visit Trump Tower during a walk.\\n AP Photo/Alex Brandon  \"[We] went up the elevator and moments later Trump was greeting us and he pulled me into him and started groping me. He put his hands all over my breasts, my waist, my butt, and I froze,\" said Williams in a clip from the call posted in The Guardian article. Trump\\'s niece Mary L. Trump and several other users posted the video on X.\\n  PerThe Guardian, Williams said she was \"deeply confused\" about what was happening and believed she saw Epstein and Trump smiling at each other after the alleged groping.\\n  According to the outlet, Williams said on the Zoom call that after they left Trump Tower, Epstein \"berated\" her and allegedly asked, \"Why did you let him do that?\"\\n Bill Pugliano/Getty  Later that same year, Trump allegedly sent her a postcard that showed an aerial view of Mar-a-Lago with the handwritten message, \"Stacey – Your home away from home. Love Donald.\" The Guardian included a photo of the postcard.\\n  Williiams\\' allegations were denied by Trump’s campaign in a statement to PEOPLE.\\n  \"These accusations, made by a former activist for Barack Obama and announced on a Harris campaign call two weeks before the election, are unequivocally false,\" their statement read in part.\\n  Never miss a story — sign up for\\xa0PEOPLE\\'s free daily newsletter\\xa0to stay up-to-date on the best of what PEOPLE has to offer, from celebrity news to compelling human interest stories.\\n  Trump has been accused of varying degrees of sexual misconduct by\\xa0at least 26 women, all of which he has denied. In May 2023, a jury found that Trump sexually abused writer E. Jean Carroll in a department store dressing room 27 years ago. He was ordered to pay the former Elle columnist $5 million from that civil trial, and then a further $83 million for defaming her.\\n  Epstein\\xa0died by suicide at the Metropolitan Correctional Center in New York City\\xa0in August 2019. His death occurred after\\xa0he was arrested for allegedly sex-trafficking girls\\xa0as young as 14.\\n  If you or someone you know has been sexually assaulted, please contact the National Sexual Assault Hotline at 1-800-656-HOPE (4673) or go to rainn.org.\\n',\n",
              " '\"We must vote. And we need you. It\\'s time to sing a new song,\" the singer said  Beyoncé joined Kamala Harris on the campaign trail in Houston, officially demonstrating her support for the Democratic nominee in the 2024 presidential election with an energetic speech.\\n  On Friday, Oct. 25, the 43-year-old superstar attended the rally in her hometown alongside her mother Tina Knowles, longtime friend and Destiny\\'s Child groupmate Kelly Rowland and country music legend Willie Nelson, with whom she collaborated for Cowboy Carter.\\n CARLOS RAMIREZ/EPA-EFE/Shutterstock; Anna Moneymaker/Getty  Following a performance from Nelson and speeches from Knowles and Rowland, Beyoncé took the stage to introduce Harris, making it clear that as a mother of three, she is concerned about the future of America. Beyoncé shares daughter Blue Ivy, 11, and twins Rumi and Sir, 7, with husband JAY-Z.\\n F. Carter Smith/Bloomberg via Getty  \"We are so happy to be standing here on this stage as proud, country, Texas women, supporting and celebrating the one and only Vice President Kamala Harris,\" Beyoncé began as the crowd cheered.\\n  She saluted Harris as \"the woman who\\'s been pushing for what this country really needs right now — unity. It\\'s impossible not to feel the energy in this room, the positivity, the community, the humanity. We are at the precipice of an incredible shift. The brink of history.\"\\n  She told the audience that she was speaking \"as a mother,\" not a \"celebrity\" or \"politician.\"\\n  \"A mother who cares deeply about the world my children and all of our children live in,\" Beyoncé added. \"A world where we have the freedom to control our bodies. A world where we\\'re not divided — our past, our present, our future merged to meet us here.\"\\n  \"Imagine our daughters growing up, seeing what\\'s possible with no ceilings,\" she continued. \"No limitations. Imagine our grandmothers, imagine what they feel right now, those who have lived to see this historic day. Even those who are no longer physically with us, imagine all of their sacrifices. The sacrifices made so we can witness the strength of a woman standing in her power, reimagining what leadership is. For all the men and women in this room and watching around the country, we need you.\"\\n  Beyoncé urged those who were tuning in to cast their vote, telling them their voices and votes matter. \"Your freedom is your God-given right, your human right.\"\\n CARLOS RAMIREZ/EPA-EFE/Shutterstock\\xa0  She continued, pointing out that Texans, specifically those from Houston, \"play a pivotal role to change the course of our future.\"\\n  \"We must vote. And we need you. It\\'s time to sing a new song.\"\\n  Beyoncé’s appearance comes months after she allowed Harris’ first campaign video to feature her song “Freedom” in July, shortly after Harris entered the presidential race. On several occasions, Harris has played it as a walk-in track at events, including at the Democratic National Convention.\\n  The 32-time Grammy winner has supported Democratic candidates before, including in 2013, when she sang the national anthem at Obama\\'s inauguration. She also previously posted a social media clip encouraging voters to support Joe Biden in 2020.\\n AP Photo/Susan Walsh  In 2023, Beyoncé gifted Harris and second gentleman Doug Emhoff tickets to the Renaissance World Tour.\\n  Never miss a story — sign up for PEOPLE\\'s free daily newsletter to stay up-to-date on the best of what PEOPLE has to offer\\u200b\\u200b, from celebrity news to compelling human interest stories.\\n  Friday’s rally ended months of speculation about whether Beyoncé would officially endorse or publicly support the Harris-Walz presidential campaign.\\n  Other big-name stars and public figures who have formally endorsed Harris for president include Taylor Swift, John Legend, Steph Curry, Cher, Bruce Springsteen, Jimmy Carter and more.\\n',\n",
              " \"The former president commented on Alabama Sen. Katie Britt's age and physical appearance while recalling a conversation they had about IVF Elijah Nouvelage/getty  Donald Trump raised eyebrows while speaking to an all-women audience on Tuesday, Oct. 15, when he commented on a female politician's age and physical appearance.\\n  The remark was made at a Fox News town hall in Cumming, Ga., in reference to Alabama Sen. Katie Britt.\\n  “I got a call from Katie Britt, a young, just a fantastically attractive person from Alabama, she’s a senator,” Trump, 78, said at the event before recalling a conversation he and Britt had about in vitro fertilization.\\n  “She called me up like, emergency, emergency, because an Alabama judge had ruled that the IVF clinics were illegal and they have to be closed down.”\\n Anna Moneymaker/Getty  After the town hall with Fox News host Harris Faulkner aired on Wednesday, Oct. 16, some called Trump out for “sexist” remarks, questioning why it mattered that he viewed Britt, 42, as “fantastically attractive” in relation to the issue at hand.\\n  Continuing his speech, Trump also shared that Britt had helped him to better understand IVF and why it's so important to so many families.\\n  “I said, ‘Explain IVF very quickly.’ And within about two minutes, I understood it. I said, ‘No, no. We’re totally in favor of IVF,’ ” he said of his phone conversation with the senator on Tuesday, per New York magazine.\\n AP Photo/Alex Brandon  Tuesday’s town hall is also where Trump faced backlash for declaring himself the “father of IVF.”\\n  “Donald Trump called himself ‘the father of IVF.’ What is he talking about?” Vice President Kamala Harris tweeted afterward. “His abortion bans have already jeopardized access to it in states across the country — and his own platform could end IVF altogether.”\\xa0\\n  IVF “is the most effective type of fertility treatment that involves the handling of eggs or embryos and sperm,” per the Mayo Clinic.\\n  Women’s fertility treatments, including abortions, have been jeopardized since the Supreme Court’s 2022 decision to overturn Roe v. Wade.\\n  On Wednesday, Harris, 59, further called Trump out by telling reporters “one in three women in America lives in a Trump abortion ban state,” per CBS News.\\n  Never miss a story — sign up for PEOPLE's free daily newsletter to stay up-to-date on the best of what PEOPLE has to offer\\u200b\\u200b, from celebrity news to compelling human interest stories.\\n  Trump also made headlines for his Pennsylvania town hall event on Oct. 14, after he cut off questions early and instead swayed on stage for 39 minutes while music played. Prior to queueing the playlist, he incorrectly asked his supporters to get out and vote on Jan. 5.\\n\",\n",
              " 'Despite ongoing controversy surrounding RFK Jr.\\'s alleged relationship with a younger journalist, he and his wife came together on Oct. 16 to honor the late Kennedy matriarch Chip Somodevilla/Getty  Cheryl Hines is showing up for her husband, Robert F. Kennedy Jr., at a difficult time despite rumors that he engaged in a \"personal relationship\" with a political journalist.\\xa0\\n  Hines, 59, was seen holding hands with Kennedy, 70, as they arrived at his mother Ethel\\'s memorial service on Wednesday, Oct. 16, following her recent death at age 96.\\n  The celebration of life, held at the Cathedral of St. Matthew the Apostle in Washington, D.C., drew many notable attendees, including Presidents Joe Biden, Bill Clinton and Barack Obama; former House Speaker Nancy Pelosi; Martin Luther King III; and singers Kenny Chesney, Sting and Stevie Wonder. RFK Jr. was not listed as a speaker on the program.\\n  In September, Kennedy\\'s relationship to Hines took the spotlight when a sexting scandal unfolded allegedly involving the former presidential candidate and political reporter Olivia Nuzzi.\\n Paul Morigi/Getty Images; Michael M. Santiago/Getty Images  Weeks after the controversy arose, a source close to Hines told PEOPLE that the Curb Your Enthusiasm actress “has been talking about filing for divorce, but he\\'s begging her not to file.” Another source added that the pair “barely spoke” in the two weeks following the news.\\xa0\\n  Despite the earlier split rumors, Hines is seemingly supporting Kennedy, whom she has been married to since 2014.\\n  After the death of his mother, Kennedy took to Instagram with a lengthy and heartfelt tribute, writing, \"She deeded to each of her 11 children her love of good stories, her athleticism, her competitive spirit, and the deep curiosity about the world, and the intense interest in people of all backgrounds, which caused her to pepper everyone she met — from cab drivers to presidents — with a relentless cascade of questions about their lives.”\\n  He added at the end, \"I credit her for all my virtues. I’m grateful for her generosity in overlooking my faults.”\\n  Hines wrote in the comment section, “This is beautiful. Your mother was very proud of you. 🤍.”\\n  Since posting the tribute to his mother, new details about Kennedy\\'s alleged relationship with the 31-year-old journalist have emerged in a court dispute between Nuzzi and her ex-fiancé, Ryan Lizza.\\n  In the court filings, Lizza reportedly claimed that after he learned about Nuzzi and Kennedy\\'s alleged fling, she asserted that Kennedy wanted to \"control,\" \"possess,\" and \"impregnate\" her.\\n Dimitrios Kambouris/Getty; Randy Shropshire/Getty; Michael M. Santiago/Getty\\xa0  Lizza, 50, the chief Washington correspondent for Politico, also stated that Nuzzi described the relationship as \"toxic,\" \"unhealthy,\" \"stupid,\" \"psychotic,\" \"crazy,\" and \"indefensible,\" acknowledging the \"huge power disparity\" between her and Kennedy, according to CNN.\\n  A spokesperson for Kennedy told PEOPLE, \"The accusations about Robert Kennedy are categorically false and he will not participate in reporting on triple hearsay allegations made in a dispute between other people.\"\\n',\n",
              " '\"Michelle and I are grateful for her advocacy and her friendship,\" former President Barack Obama said in a statement about Ledbetter\\'s death Mark Wilson/Getty  Lilly Ledbetter, a pioneer in the fight for gender pay equity, died on Saturday, Oct. 12. She was 86.\\xa0\\n  “Lilly Ledbetter passed away peacefully last night at the age of 86,” her family said in a statement issued to CNN and AL.com, which was the first to report the news, on Sunday.\\n  They noted to both outlets that Lebetter died of respiratory failure. “She was surrounded by her family and loved ones. Our mother lived an extraordinary life. We truly appreciate your respect for our privacy during this time of grief. \"\\n  Ledbetter worked at Goodyear Tire & Rubber for 19 years when she discovered that she was being paid thousands of dollars less each month than her male counterparts doing the same job.\\xa0\\n  In 1999, Lilly Ledbetter sued Goodyear for gender discrimination, initially winning her case in federal court and being awarded $3.8 million in back pay and damages in 2003. However, the decision was later overturned when Goodyear appealed.\\n  The case reached the Supreme Court in 2007, where the justices ruled 5-4 that Ledbetter should have filed her lawsuit within 180 days of her first unequal pay compared to her peers. Since she missed this deadline, the court determined she had no grounds to proceed with her suit.\\n  Never miss a story — sign up for PEOPLE\\'s free daily newsletter to stay up-to-date on the best of what PEOPLE has to offer\\u200b\\u200b, from celebrity news to compelling human interest stories.\\xa0\\n  Despite her loss, Ledbetter became a strong advocate for gender equity, and her activism led to the first bill signed into law by former President Barack Obama after he took office. The Lilly Ledbetter Fair Pay Restoration Act made it easier for workers to sue after discovering potential pay discrimination.\\xa0\\n  “That was the most awesome emotion I think that I have ever had,” Ledbetter told CNN in 2018. “I’ll put it behind having a son and a daughter.”\\n  On Sunday, Obama, 63, took to social media to share Ledbetter’s impact on the world. “Lilly Ledbetter never set out to be a trailblazer or a household name. She just wanted to be paid the same as a man for her hard work. But this grandmother from Alabama kept on fighting,” the former president wrote on X (formerly Twitter).\\n  He added, “Lilly did what so many Americans before her have done: setting her sights high for herself and even higher for her children and grandchildren. Michelle [Obama] and I are grateful for her advocacy and her friendship, and we send our love and prayers to her family and everyone who is continuing the fight that she began.”\\n',\n",
              " \"Former political aide and journalist Megan Marshack died at the age of 70 due to liver and kidney failure on Oct. 2, 2024 Getty;AP  Nelson Rockefeller’s former aide Megan Marshack didn't shy away from her connection to the former vice president in her self-written obituary.\\n  The journalist died at age 70 due to liver and kidney failure on Oct. 2, 2024. In her obituary, Marshack noted her connection to Rockefeller —\\xa0with whom she was rumored to have been romantically involved — after staying mum on him for a majority of her life.\\n  In fact, she named Rockefeller in the opening line, writing that she was “associated around the world” with his death. She then detailed her work with him, noting that she was his “assistant press secretary” in 1976, which was his “last year in public office.”\\n  She went on to discuss her achievements as Rockefeller's “deputy press secretary” after he returned to his “private life in New York,” which included “working as the director of his art collection” and assisting “in projects involving international ventures.”\\n  While she never outright discussed her relationship with Rockefeller, Marshack seemingly addressed the rumors of their romance at the conclusion of her obituary, with a lyric from the 1975 musical A Chorus Line.\\n  “Kiss today goodbye, the sweetness and the sorrow” she wrote. “A Chorus Line,” “Wish me luck, the same to you… (But I) won’t forget, can’t regret what I did for love.”\\n  Speculation about a romantic relationship between Marshack and Rockefeller first sparked after she began working for the politician. Her friends previously shared how she came to work for Rockefeller in an interview with AP Radio, saying that she landed an interview following her graduation from California State University, Northridge.\\xa0\\n  Never miss a story — sign up for\\xa0PEOPLE's free daily newsletter\\xa0to stay up-to-date on the best of what PEOPLE has to offer, from juicy celebrity news to compelling human interest stories.\\n  “She heard that he liked Oreo cookies and she came prepared [to the interview] with some — individually wrapped,” a former colleague recalled to the outlet, adding that the Oreos paid remarkable dividends.\\xa0\\n  “One day she was on the schedule for an interview, and shortly after that she came to work,” a former member of Rockefeller's staff added. “Then one time, at the end of a big office party, Megan put her arm around [Rockefeller], and we all just stood there stunned.”\\n  “After the ’76 election just a handful of people were offered jobs with him in New York,” her colleague continued. “No one was surprised when Megan was one of them.”\\n  In her obituary, Marshack wrote that, following Rockefeller’s “fatal heart attack” in 1979, she returned to journalism, working for CBS News and a newspaper in Placerville, Calif., where she met her husband, Edmond Jacoby Jr. They eventually wed in 2003, and were married until his death last year.\\xa0\\n  Marshack is survived by her younger brother, Jon Marshack, and his husband, The Rev. Rik Rasmussen.\\n\",\n",
              " 'Countless battleground races will capture attention this November, but a few remain toss-ups in the truest sense Kyler Alvord is a news editor at PEOPLE, leading the brand\\'s political coverage. He joined the publication on the crime beat.  During a presidential election year, down-ballot races are easily overlooked as all eyes turn toward the Electoral College. But a president can\\'t legislate without a like-minded Congress, and the Supreme Court\\'s recent push toward states\\' rights has made gubernatorial and local races more important than ever.\\n  Heading into the election, the United States Congress is narrowly divided. Democrats currently control the Senate 51-49, and Republicans control the House of Representatives 220-212, with a few seats vacant.\\n  Republicans have a likely path to winning the Senate majority in November, and Democrats are on strong footing to retake control of the House, but neither side has room for error in an election cycle where razor-thin voting margins will determine Washington\\'s priorities for years to come.\\n  Countless battleground races are in play this November — from the Senate to the House to statehouses around the country — but a few remain toss-ups in the truest sense. Here are the most competitive 2024 election races to watch, regularly updated with the latest polling averages from poll tracker FiveThirtyEight.\\n Michael Brochstein/SOPA Images/Shutterstock; Alex Edelman/Getty  Latest polling: Scott up 4.6 points\\n  Florida Sen. Rick Scott has received some warning signs in his bid for reelection as some polling shows Democratic challenger Debbie Mucarsel-Powell within striking distance of his seat.\\n  Scott, 71, is not only vying for a second term in the Senate, but has expressed a desire to replace Mitch McConnell as the Republican Senate leader in the 119th Congress. Though he\\'s still a front-runner in his reelection race, former Florida Rep. Mucarsel-Powell, 53, has slimmed his polling lead nearly in half since June.\\n  Scott previously served eight years as the Florida governor and has a strong lead on his opponent in terms of experience, but with a lengthy track record comes political baggage. Mucarsel-Powell\\'s younger, fresher campaign has stayed competitive in a state that voted solidly Republican in the last two presidential elections.\\n MANDEL NGAN/AFP via Getty; Eva Marie Uzcategui/Bloomberg via Getty  Latest polling: Slotkin up 3.8 points\\n  Longtime Democratic Sen. Debbie Stabenow, 74, decided not to seek reelection in Michigan in 2024, giving Republicans an opportunity to pick up a critical swing state seat.\\n  Democrats quickly lined up Michigan Rep. Elissa Slotkin — who has proved an invaluable asset to her party by winning three congressional toss-up elections — to run in Stabenow\\'s place, hoping that she can continue her streak. Slotkin, 48, faces former Michigan Rep. Mike Rogers, a 61-year-old Republican who retired from the House in 2015.\\n  Slotkin is a former CIA analyst who worked with George W. Bush\\'s National Security Council and was tapped to oversee international security as an assistant defense secretary in the Obama administration. Rogers is an Army veteran and former FBI agent who spent 14 years in Congress before taking a decade-long hiatus from politics.\\n Kevin Dietsch/Getty; Eva Marie Uzcategui/Bloomberg via Getty  Latest polling: Sheehy up 5.4 points\\n  Control of the Senate could come down to the firmly Republican state of Montana, where moderate Democrat Jon Tester has defied the odds since 2006, securing three consecutive terms in Congress\\' upper chamber. Now Tester, 68, is considered the most vulnerable Senate incumbent running for reelection in 2024. Though the farmer and former music teacher has enjoyed high approval ratings for most of his tenure, today\\'s hyper-partisanship puts him in a trickier spot with conservative voters.\\n  The Democratic incumbent faces a challenge from Republican Tim Sheehy, a former Navy SEAL from Minnesota who relocated to Montana in 2014 to start an aerial firefighting company. Sheehy, who will be 37 years old on Election Day, quickly eliminated Tester\\'s onetime advantage, and is seen as the favorite to win by some pollsters.\\n Bill Clark/CQ-Roll Call, Inc via Getty; Nikos Frazier/Omaha World-Herald via AP  Latest polling: Fischer up 0.6 points\\n  An unexpected Republican Senate seat has become the most vulnerable in the nation, according to recent polls. GOP Sen. Deb Fischer is running for a third term in Nebraska\\'s general Senate election in November (there\\'s a separate special election involving the other seat, where Republicans are handily ahead), and she has a formidable challenger in political newcomer Dan Osborn, an independent who says he\\'s always been registered as nonpartisan.\\n  In an unusual move, Osborn has vowed not to caucus with either party if elected, meaning he would form his own independent caucus and disrupt the typical two-party split between Democrats and Republicans. The other independents in Senate, like Bernie Sanders, caucus with Democrats and are therefore counted as Democrats in the overall tally.\\n  Osborn, 49, is a Navy veteran and former union president, and his lack of party affiliation has seemingly resonated with voters who are disappointed in Fischer\\'s leadership. The Nebraska Democratic Party opted not to run their own candidate this year in order to boost Osborn\\'s chances, though the independent candidate declined their endorsement.\\n  Fischer, 73, suffered low approval ratings heading into her reelection year. She is the ranking member on the Senate Rules Committee and previously served in the Nebraska Legislature.\\n Tom Williams/CQ-Roll Call, Inc via Getty; Eva Marie Uzcategui/Bloomberg via Getty\\xa0  Latest polling: Brown up 2.3 points\\n  Democratic Ohio Sen. Sherrod Brown, 71, may be looking at the toughest reelection battle of his three-term Senate career, seeking victory in a state that has turned comfortably Republican since his last campaign. Trump won Ohio by 8 points in 2020, and freshman Ohio Sen. J.D. Vance defeated his Democratic opponent by 6 points in the 2022 midterms.\\n  Brown is the only Democrat who still holds a partisan, statewide office in Ohio. He faces a challenge from Republican car dealership owner Bernie Moreno, 57, who began to embrace far-right views in the lead-up to his campaign. Moreno has the backing of Trump and the rest of the MAGA machine, and has gained ground in one of multiple races that Democrats need to win in order to retain control of Senate.\\n Noam Galai/Getty; Sharon Steinmann/Houston Chronicle via Getty\\xa0  Latest polling: Cruz up 4.0 points\\n  Texas Democrats have long talked about turning the state blue, and while Republicans still have the advantage in the 2024 elections, statewide polling suggests that a couple of upsets are certainly possible. Notably, Texas Sen. Ted Cruz — who placed second behind Trump in the 2016 GOP presidential primaries — faces a serious challenge from Democratic Rep. Colin Allred.\\n  Allred, 41, was a professional football player for the Tennessee Titans who turned to a career in civil rights law and politics. He defeated a Republican incumbent in his 2018 congressional race and is now eyeing Cruz\\'s seat in the Senate.\\n  Cruz, 53, joined the Senate in 2013 and is seeking a third term. The staunchly conservative lawmaker has a history of making enemies on both sides of the aisle, and has been both an opponent of reproductive rights and same-sex marriage, lauding the overturning of Roe v. Wade and suggesting that Obergefell v. Hodges — which legalized gay marriage nationwide — should similarly be overturned. In the 2024 Senate race, he has stayed quieter on his abortion views.\\n \\xa0Chip Somodevilla/Getty; Bill Clark/CQ-Roll Call, Inc via Getty  Latest polling: Baldwin up 4.2 points\\n  Wisconsin\\'s Democratic Sen. Tammy Baldwin is seeking a third term in the U.S. Senate this election cycle. Baldwin, 62, became the first openly lesbian woman elected to Congress when she joined the House of Representatives in 1999, and made history again as the first openly LGBTQ+ senator when she assumed her latest role in 2013. She is a member of the Congressional Progressive Caucus, and has a background in law and local politics. During the 2020 presidential election, she was rumored to be on Joe Biden\\'s initial running mate shortlist.\\n  Baldwin faces 60-year-old Republican Eric Hovde in the 2024 election, a businessman who previously sought his party\\'s Senate nomination in 2012. Though Hovde and his family have deep roots in Wisconsin, the candidate has faced criticism on the campaign trail for owning a $7 million mansion in Southern California and failing to vote in 17 of the last 30 elections in Wisconsin (when he voted in 2023, his absentee ballot was delivered to the California home). Still, in a state that\\'s politically divided, his solidly conservative values and endorsement from Trump have put him within arm\\'s reach of unseating the incumbent Democrat.\\n Bing Guan for The Washington Post via Getty; Christina House / Los Angeles Times via Getty  Latest polling: Toss-up\\n  Rep. Michelle Steel, 69, joined the list of vulnerable California Republicans in September when election forecasters shifted her House race from \"lean Republican\" to \"toss up\" territory. Steel, who was first elected to Congress in 2020, represents a flip-flopping district that voted for Biden four years ago but also supported Republican state candidates in the 2022 midterms.\\n  Democratic opponent Derek Tran has gained momentum in California\\'s 45th Congressional District, outraising Steel\\'s campaign in the second fundraising quarter. Highlighting his experience as a trial lawyer and Army veteran, Tran is running on a platform largely in line with his party.\\n  Throughout the race, identity-based attacks have flung between candidates. Tran, the son of Vietnam refugees, has been accused of exaggerating about his Vietnamese fluency to resonate with voters in Little Saigon; Steel, who is from South Korea, was accused by her opponent of coming to the United States \"for economic gain.\"\\n AP Photo/Paul Sancya; Tom Williams/CQ Roll Call via AP  Latest polling: Barrett ahead\\n  Democrat Curtis Hertel Jr. and Republican Tom Barrett — two former colleagues in the Michigan state Senate — are vying for the same House seat in Michigan\\'s 7th Congressional District this year, as incumbent Democratic Rep. Elissa Slotkin seeks higher office.\\n  MI-07 is one of the most purple districts in the nation. In 2022, Barrett\\'s well-funded attempt at defeating Slotkin failed; with a new Democrat in the race this time around, he hopes to have more success. Unlike last time around, Barrett is running with Trump\\'s endorsement.\\n  Barrett, 43, is an ex-Army helicopter pilot who worked as an analyst for the Michigan Department of Treasury. Hertel, 46, comes from a well-known family in Michigan politics and has held multiple elected positions. Hertel hopes to thwart his opponent\\'s momentum in the race by spotlighting his bridge-building record in comparison to Barrett\\'s hyper-partisan approach to politics.\\n Noam Galai/Getty; Daniel Boczarski/Getty  Latest polling: Toss-up\\n  Republican Rep. Mike Lawler unseated a longtime Democratic congressman in a 2022 upset, contributing to his party\\'s narrow takeover of the House after the midterms. In his first reelection battle, though, Lawler\\'s ability to retain the seat appears uncertain — his biggest asset is that he has a relatively bipartisan voting record that could appeal to a divided constituency.\\n  Lawler, 38, finds himself in a close race against former Democratic Rep. Mondaire Jones, 37, a progressive who was ousted in a different district in 2022 after just one term in Congress. While New York\\'s 17th Congressional District has a slight liberal tilt on the Cook Partisan Voting Index, Jones doesn\\'t seem to have an automatic advantage; the little polling available hints at another nail-biter on Nov. 5.\\n Bill Clark/CQ-Roll Call, Inc via Getty; The New York State Senate  Latest polling: Mannion ahead\\n  Partisan control of the House may very well come down to New York, where another swing district has a Republican incumbent fighting for his political life. In New York\\'s 22nd Congressional District, which contains Syracuse and part of the Finger Lakes, 57-year-old Rep. Brandon Williams finds himself in an uphill battle to defend his seat. He was elected to the House by only 1.5% in 2022, and the state\\'s recently redrawn congressional map doesn\\'t help his chances.\\n  Williams\\' Democratic opponent this year, New York state Sen. John Mannion, has had a strong showing in local polls. Syracuse University political science professor Grant Reeher previously explained to Spectrum News 1 that Mannion, 56, is more visible in the community than Williams, which exposes a weak spot for the incumbent. But Reeher also cautioned that Williams has already exceeded expectations on Election Day once before and shouldn\\'t be underestimated.\\n Bill Clark/CQ-Roll Call, Inc via Getty; AP Photo/Carolyn Kaster  Latest polling: N/A\\n  Northeastern Pennsylvania\\'s 8th Congressional District is the most Republican-leaning district in the nation that is represented by a member of the Congressional Progressive Caucus. Democratic Rep. Matt Cartwright, 63, was first elected to the House in 2012, and his incumbent advantage has seemingly helped him hold the seat thus far in an increasingly conservative district that voted for Trump in 2020.\\n  In his bid for a seventh term, Cartwright faces a challenge from Republican businessman Rob Bresnahan, 34, who runs the electrical contracting company that his grandfather founded. Local infrastructure has become a key issue in the race, with Cartwright having campaigned from day one on a specific goal to revive the rail system in the area.\\n Bill Clark/CQ-Roll Call, Inc via Getty; Nathan Howard/Getty  Latest polling: Toss-up\\n  Two years after Democrat Marie Gluesenkamp Perez flipped a House seat blue in a district that voted for Trump in 2020, she\\'ll rematch with the same man she defeated before — far-right Army veteran Joe Kent.\\n  Kent, 44, rode Trump\\'s endorsement to Election Day in 2022, ousting the incumbent congresswoman at the time in the Republican primaries. Though he was popular enough to win his party\\'s nomination, his promotion of conspiracy theories and association with far-right extremists made him less appealing to a general election audience, allowing Gluesenkamp Perez to slide in with an upset victory.\\n  This time around, Gluesenkamp Perez has a bipartisan record to run on. The 36-year-old former auto repair shop owner is a Blue Dog Democrat who has broken from her party on several occasions in Congress and proven that neither party owns her vote. Still, after winning in 2022 by less than 1%, she can\\'t assume that reelection is guaranteed.\\n Mark Wilson/Getty, Margie Cullen / USA TODAY NETWORK  Latest polling: Ayotte slightly ahead\\n  Two lifelong New Hampshirites are fighting for the governor\\'s seat after a drawn-out primary season concluded in September in the race to replace outgoing Republican Gov. Chris Sununu. New Hampshire is unique in that its congressional delegation is entirely blue, but its state-level government is entirely red.\\n  GOP nominee Kelly Ayotte, 56, has experience as a former U.S. senator and New Hampshire attorney general, which gives her a head start in a state that\\'s known to look beyond party lines. Ayotte is facing former Manchester Mayor Joyce Craig, 57, who only narrowly secured the Democratic nomination after a bitter primary battle that divided the liberal base.\\n  In the Senate, Ayotte had a moderately conservative record, aligning with Republicans on most issues — including pushing to pass a national abortion ban — while taking left-of-center stances on some issues, like LGBTQ+ rights. Now that governors have a strong influence on issues like reproductive rights post-Roe v. Wade, Craig will aim to keep Ayotte\\'s more staunchly conservative positions at the front of voters\\' minds as they head to the ballot box.\\n',\n",
              " '“I truly do believe we prevented another assassination attempt,” Riverside County Sheriff Chad Bianco said on Oct. 13 AP Photo/Alex Brandon  A man with a loaded weapon was arrested on Saturday, Oct. 12, outside of Donald Trump\\'s rally in California’s Coachella Valley, with officials believing they thwarted another assassination attempt on him.\\n  During a press conference on Sunday, Oct. 13, Riverside County Sheriff Chad Bianco addressed the incident in Coachella, telling reporters, “I truly do believe we prevented another assassination attempt.”\\n  According to a police report from the Riverside County Sheriff\\'s Office obtained by PEOPLE, 49-year-old Las Vegas resident Vem Miller was contacted after his black SUV was found by deputies onsite at a checkpoint at the intersection of Avenue 52 and Celebration Drive.\\xa0\\n  As he entered the outside perimeter of the rally, Miller had credentials that indicated he belonged at the rally with a VIP pass and claimed to be a member of the press. However, \"irregularities\" popped up as he made his way into the inside perimeter.\\n Mario Tama/Getty  Miller was\\xa0\"found to be illegally in possession of a shotgun, a loaded handgun, and a high-capacity magazine.\" Multiple passports and multiple IDs with different names were also found in his vehicle, which was \"in disarray,\" Bianco detailed. Additionally, his vehicle was unregistered.\\n  Miller was taken into custody without incident and was booked at the John J. Benoit Detention Center\\xa0in Indio for possession of a loaded firearm and possession of a high-capacity magazine.\\n  Never miss a story — sign up for PEOPLE\\'s free daily newsletter to stay up-to-date on the best of what PEOPLE has to offer\\u200b\\u200b, from celebrity news to compelling human interest stories.\\xa0\\n  The sheriff\\'s office noted that the incident \"did not impact the safety of former President Trump or attendees of the event\" and the incident occurred an hour before the rally was set to begin.\\n  The U.S. Attorney\\'s Office, U.S. Secret Service and FBI issued a joint statement on Sunday stating \"the incident did not impact protective operations and former President Trump was not in any danger.\"\\n  The statement added, \"While no federal arrest has been made at this time, the investigation is ongoing.\"\\n  Miller was released on $5,000 bail and will make an appearance in court at a future date. \"We are actively engaged in working with Secret Service and FBI to ensure this person is followed up on and all the information they can gather,\" Bianco said.\\n  While addressing reporters on whether Miller was part of a far-right organization, Bianco noted, \"There is absolutely no way that any of us are going to truly know what was in [Miller\\'s] head.”\\n Wally Skalij/Los Angeles Times via Getty\\xa0  This is the third incident during the 2024 election in which weapons had been found near Trump. In July during a rally in Butler, Pa., when Trump was mid-speech, gunshots rang out and he was rushed offstage.\\n  One bystander, firefighter Corey Comperatore, was killed and two others were injured. The shooter, who was identified as Thomas Matthew Crooks, was killed. The FBI called the incident an assassination attempt. Trump was injured by a bullet grazing his ear.\\n  In September, multiple gunshots were fired near the Trump National Golf Club in West Palm Beach while Trump was playing golf. At the time, the FBI said they were investigating the incident as another assassination attempt.\\n',\n",
              " '\\'Kill Tony\\' host Tony Hinchcliffe also joked that Latinos \"love making babies\" during the rally at Madison Square Garden on Sunday, Oct. 27 Charlotte Phillipp is a Weekend Writer-Reporter at PEOPLE. She has been working at PEOPLE since 2024, and was previously an entertainment reporter at The Messenger. Getty(2)  Comedian\\xa0Tony Hinchcliffe is facing criticism after making a series of racially charged jokes at a rally in support of Donald Trump in New York City.\\n  On Sunday, Oct. 27, Hinchcliffe, 40, appeared at Trump\\'s rally at Madison Square Garden — where he was the first speaker of nearly 30 openers ahead of the former president\\'s remarks — and spoke crudely about Latinos, Black people and others.\\n  “I welcome migrants to the United States of America with open arms. And by open arms I mean like this,” Hinchcliffe\\xa0said at the event, per Rolling Stone, before waving his hands as if to say \"go away.\"\\n  \"These Latinos, they love making babies, too. Just know that they do,\" Hinchcliffe continued, per NBC News. \"There\\'s no pulling out. They don’t do that. They c-- inside, just like they did to our country.\"\\n ANGELA WEISS/AFP via Getty  Hinchcliffe, who is known for writing for several of Comedy Central\\'s celebrity roasts, also made jokes about Puerto Rico.\\n  \"I don’t know if you guys know this, but there\\'s literally a floating island of garbage in the middle of the ocean right now. I think it\\'s called Puerto Rico,\" he said.\\n  The Kill Tony podcast host also joked that he \"carved watermelons\" with a Black \"buddy,\" while pointing to a Black audience member.\\n  The comedian, who has opened for stars such as Joe Rogan and has a special on Netflix, immediately drew criticism over the jokes. Rep. Alexandria Ocasio-Cortez and vice presidential nominee and Minnesota Gov. Tim Walz watched a clip of the stand-up routine while livestreaming on Twitch on Sunday.\\n  \"Who is this jackwad?\" Walz said of Hinchcliffe, before criticizing Trump\\'s response to Hurricane Maria, which devastated Puerto Rico in 2017. \"People in Puerto Rico are citizens. They pay taxes and serve in the military, almost at a higher rate than anybody else.\"\\n  \"It\\'s super upsetting to me,\" Ocasio-Cortez said in part. \"My family is from Puerto Rico, I\\'m Puerto Rican. The thing that is so messed up that I wish more people understood is that the things that they do in Puerto Rico are a testing ground for the policies and the horrors that they unveil in working class communities across the United States.\"\\n  \"When you have some a-hole calling Puerto Rico \\'floating garbage,\\' know that that\\'s what they think about you,\" she added.\\n  Soon after Hinchcliffe’s comments began to make the rounds online, Puerto Rican musician Bad Bunny endorsed Kamala Harris by posting a video of her plan for Puerto Rico on his Instagram Stories, and then editing the video to cut to Harris saying: \"I will never forget what Donald Trump did.\"\\n  Singer Ricky Martin, who is also Puerto Rican, shared a clip of Hinchcliffe\\'s jokes on his Instagram Stories and wrote in Spanish: \"This is what they think of us.\"\\n  Never miss a story — sign up for PEOPLE\\'s free daily newsletter to stay up-to-date on the best of what PEOPLE has to offer\\u200b\\u200b, from celebrity news to compelling human interest stories.\\xa0\\n  In 2021, Hinchcliffe drew further controversy and was\\xa0dropped by his talent agency\\xa0after he called Asian American comedian Peng Dang a racial slur, according to Rolling Stone.\\n  Later on Sunday, Hinchcliffe wrote in a\\xa0post on X (formerly Twitter) that he loves Puerto Rico and has vacationed there.\\n  \"Wild that a vice presidential candidate would take time out of his \\'busy schedule\\' to analyze a joke taken out of context to make it seem racist,\" Hinchcliffe wrote. \"I love Puerto Rico and vacation there. I made fun of everyone…watch the whole set. I’m a comedian Tim…might be time to change your tampon.\"\\n  Check your voter registration, locate your polling place, and make a voting plan at Vote.org to ensure that your voice is heard this election season.\\n',\n",
              " \"Although there are no federal laws against it, there are laws in all 50 states making it illegal to steal campaign signs from private property  Scott Olson/Getty  With the election less than two weeks away, you may have noticed an abundance of political campaign signs popping up on lawns across the country. Sometimes, these signs can be a point of contention between neighbors. In extreme cases, they lead to theft, vandalism and trespassing.After having her campaign signs for presidential candidate Kamala Harris stolen multiple times, a Springfield, Missouri woman decided to take matters into her own hands and find out what was happening to them. She placed an Apple AirTag in her latest sign, and after it was stolen, the tracker led her to a trunk full of them.\\xa0\\n  Laura McCaskill posted a video of the confrontation on Facebook. Once the alleged thief opened his trunk, he revealed close to 60 signs taken from nearby neighborhoods.\\n  “I’m sorry, this is funny. Why don’t you just take them all?” the alleged thief’s mom said in the video as she threw the signs on the ground. “Here you go, liberals.”\\n  “It’s a felony, ma’am,” McCaskill responded.\\xa0\\n  According to Missouri law, “stealing or willfully defacing, mutilating, or destroying any campaign yard sign on private property,” is considered a class four election offense. These offenses are deemed misdemeanors and could carry a fine of up to $2,500 and/or up to a year in prison.\\xa0\\n  McCaskill decided to press charges and an investigation is ongoing, according to a follow-up Facebook post on Oct. 23.\\xa0\\n  Here’s what to know about stealing political yard signs.\\n Paul Hennessy/Anadolu/Getty  Expression of political beliefs is protected under the First Amendment. This includes posting signs in yards and windows on private property. In 1994, the Supreme Court reversed a local ordinance in Ladue, Missouri that prevented residents from publicly displaying signs with political messages.\\xa0Entering private property to steal, damage or otherwise destroy a sign also involves further criminal implications.\\xa0\\n  Each state has its own laws and penalties surrounding theft and vandalism, but most states consider tampering with a political sign to be a misdemeanor.\\xa0According to the Cornell Law School, a misdemeanor is typically punishable by up to 12 months in jail. Other penalties include fines, community service and imprisonment for less than a year.\\xa0Also depending on each state, this crime can become a felony when the value of the damaged or stolen property exceeds a certain amount. In Missouri, it becomes a class D felony when the property value exceeds $750.\\n  If a yard sign is stolen, it is recommended to reach out to the local police department's non-emergency line to report the incident. To help the investigation, consider installing an outdoor or doorbell security camera to aid in identifying the people and vehicles involved.\\n  Never miss a story — sign up for PEOPLE's free daily newsletter to stay up-to-date on the best of what PEOPLE has to offer\\u200b\\u200b, from celebrity news to compelling human interest stories.\\xa0\\n  Judith Enck, founder of Beyond Plastics in Bennington, Vermont, told TODAY that almost 90% of political signs are made with corrugated cardboard coated in plastic. Because of the various materials, including plastic, campaign signs are almost impossible to recycle.\\xa0It is not recommended that you throw them in your regular recycling bin; however, some municipalities will now host special election sign collection days in order to recycle them properly.If your town does not offer recycling opportunities, consider saving signs until the next election cycle. Add a plastic or paper cover to reuse them or paint a new message on top.\\xa0Some campaigns may reuse campaign signs in the future. Reach out to the campaign office that issued the sign to see if they will repurpose or recycle them.\\n\",\n",
              " 'Aileen Cannon, whose handling of Trump\\'s criminal case was blasted by legal scholars, is now being considered for the nation\\'s top law enforcement position — just four years after Trump put her on the bench HANDOUT/US District Court for the Southe/AFP via Getty; Tasos Katopodis/Getty  One of Donald Trump’s top candidates for attorney general is U.S. District Judge Aileen Cannon, who was slammed by legal scholars for slow-walking the former president\\'s classified documents case before throwing it out altogether this summer.\\n  The relatively new Florida judge was among the names on a proposed roster listing potential staffers for the White House counsel\\'s office, ABC News reported. Titled “Transition Planning: Legal Principals,” the roster was drafted by the presidential candidate’s top advisers, and included input from his legal team head, Boris Epshteyn.\\n  According to the outlet, Cannon — who was appointed to her role by Trump in the final months of his presidency — is not first in line for the law enforcement position. She appears second after Jay Clayton, who was the U.S. Securities and Exchange Commission chairman while Trump, 78, was in the White House, according to ABC.\\n  Cannon previously made headlines, and came under the scrutiny of fellow legal professionals, in July after she ruled that Trump’s federal classified documents trial would be dismissed because she believed special counsel Jack Smith\\'s \"appointment violates the Appointments Clause of the United States Constitution.\"\\n  The federal classified documents case against the former president centered on how he handled top-secret documents at Mar-a-Lago after leaving office, and saw him facing 40 felony counts — including a violation of the Espionage Act.\\xa0\\n Shutterstock  In her filing, Cannon, who had previously faced accusations of being biased toward Trump, offered a criticism of how the executive branch handled the case, particularly the appointment of a special counsel.\\n  Nancy Gertner — a senior lecturer at Harvard Law School and retired federal district court judge appointed by Former President Bill Clinton — was among the legal scholars who blasted the move, telling ProPublica that, given other rulings from Cannon that favored Trump and his attorneys, the dismissal was \"clearly bias.\"\\n  Prior to the widely criticized July dismissal, Cannon also came under fire for her unusual treatment of the criminal case, which included delays and inviting outside groups to weigh in. At the time, Gertner told The Hill that Cannon’s handling of the high-profile case was \"clearly in Trump’s interest.\"\\n  \"There’s nothing — nothing — about the way she has handled the case that is normal, that is usual, and that makes a degree of sense — except that she’s just so inexperienced or second, that she’s just not confident, or third, that she is so biased to Trump,\" she told The Hill in June.\\n  \"By not setting a trial date, by not deciding motions, she is simply slow-walking the case,\" Gertner added, \"and that is clearly in Trump’s interest.\"\\n Angela Weiss/AFP/Bloomberg via Getty Images  Cannon’s controversial move to dismiss, which was quickly appealed by the Justice Department, also inspired legal action.\\n  Months after Cannon tossed the charges, a public interest group argued in a filing that her decision should be reversed and she should be removed from the case altogether in order to \"preserve the appearance of justice,\" ProPublica reported.\\n  Never miss a story — sign up for PEOPLE\\'s free daily newsletter to stay up-to-date on the best of what PEOPLE has to offer, from celebrity news to compelling human interest stories.\\n  Filed by Citizens for Responsibility and Ethics in Washington and other legal experts in September, the brief claims that the judge’s controversial decision \"hinged on ignoring the plain text of four federal statutes,\" the outlet reported.\\xa0\\n  The filing also alleged that Cannon dismissed \"a landmark Supreme Court opinion confirming the Attorney General’s power to appoint a Special Counsel,\" and was the culmination of her \"many efforts to undermine and derail the prosecution of this case.\"\\n',\n",
              " '\"So you have to tell Kamala Harris that you’ve had enough,\" Trump told his crowd at a Pennsylvania rally on Oct. 19 Scott Olson/Getty; Alex Wong/Getty  Donald Trump\\xa0referred to Kamala Harris\\xa0as a \"s--- vice president\" during his latest rally in Pennsylvania.\\n  While speaking at Latrobe\\'s Arnold Palmer Regional Airport on Saturday, Oct. 19, the former commander-in-chief and current Republican presidential candidate, 78, used the expletive when referring to Harris, as he continues to ramp up personal attacks just weeks before Election Day.\\n  The comment came after Trump mentioned Senator Bernie Sanders, as he claimed that Harris was \"further left\" than him. \"And then, so you have to tell Kamala Harris that you’ve had enough, that you just can’t take it anymore,\" he said, encouraging his crowd in footage shared by multiple outlets.\\n  \"We can’t stand you. You’re a s--- vice president.\"\\n Win McNamee/Getty  Trump\\'s audience also had the opportunity to use the word \"s---\" in reference to the Biden-Harris administration at another point during his remarks, per the New York Times. “Such a horrible four years,” he said. \"We had a horrible — think of the — everything they touch turns to —” he said, to which many members of the crowd reportedly yelled \"s---.\"\\n  Previously, Trump called Harris a \"horrible person,\" \"not a smart person\" and a \"liar\" during a campaign event in Scranton, Pa., earlier this month, as reported by NBC News at the time. His latest Harris attack comes nearly three weeks after he also reportedly used the R-word to describe the Democratic nominee during a dinner with billionaire donors.\\n  Per the NYT, the politician hosted a gathering at his Trump Tower penthouse on Sunday, Sept. 29, and used the term while also airing grievances about the 2024 presidential race and lashing out about donors not appreciating him. A representative for Trump did not immediately respond to PEOPLE\\'s request for comment at the time.\\n CRAIG LASSIG/AFP via Getty\\xa0  Speaking with PEOPLE last month, the former president\\'s nephew Fred C. Trump III\\xa0said that he believes Trump \"doesn\\'t care who gets hurt in the wake of what he\\'s trying to get accomplished, which is to benefit himself.\"\\n  Fred, who endorsed Harris for president, added that he believed Joe Biden\\'s departure from the race caught the Trump campaign \"flat-footed\" and that his uncle was \"going to go nuts\" on people as things progressed. \"It\\'s going to get nasty,\" he said. \"The race is going to come up in a big ugly way. [Donald] demeans people on a regular basis. ... Everybody\\'s a loser. Everybody is stupider than him. You\\'ve seen it already.\"\\n  Never miss a story — sign up for PEOPLE\\'s free daily newsletter to stay up-to-date on the best of what PEOPLE has to offer\\u200b\\u200b, from celebrity news to compelling human interest stories.\\xa0\\n  Campaign rallies were a topic of discussion during Harris and Trump\\'s sole presidential debate\\xa0on Tuesday, Sept. 10. At the time, Harris described the former president\\'s rallies as a \"really interesting thing to watch.\"\\n  \"You will see during the course of his rallies he talks about fictional characters like Hannibal Lecter,\" she said. \"He will talk about windmills cause cancer. And what you will also notice is that people start leaving his rallies early out of exhaustion and boredom.\"\\n  Trump responded, claiming that voters had \"no reason to go\" to Harris\\' campaign events.\\n  Election day is approaching on Nov. 5 as Trump and Harris continue on their respective campaign trails. Some Americans have already filled out their 2024 absentee ballots, including former president Jimmy Carter, who \"absolutely\" voted for Harris, per his family.\\n',\n",
              " 'After struggling to answer a couple of questions about the economy and then getting thrown off further by fainting audience members, Trump veered from politics altogether during a critical swing state event \\xa0Spencer Platt/Getty; JIM WATSON/AFP via Getty  Donald Trump hosted an impromptu musical event on Monday, Oct. 14, when a gaffe-filled town hall ended with 39 minutes of quiet swaying to his favorite songs.\\n  At an Oaks, Pa., town hall that was intended to focus on policy, Trump\\'s behavior became troubling as the evening progressed.\\n  Trump, 78, struggled to answer the few questions he was asked during the Monday night event and at one point asked the crowd, “Who the hell wants to hear questions, right?” before switching gears to play music for attendees rather than discuss politics.\\n  His behavior came hot off the heels of several days of confusing and aggressive statements on the campaign trail, which raised concerns about his mental acuity.\\n JIM WATSON/AFP via Getty  Videos shared on social media showed the bizarre evening unfolding. At one point, Trump mentioned Hannibal Lecter, the fictitious serial killer and cannibal from Silence of the Lambs.\\n  At another moment, he told people to vote on Jan. 5. Election Day is Nov. 5.\\n  Roughly 30 minutes into the Q&A session, Trump gave a rambling response when asked about how he will help small businesses, talking about how his friends enjoy cooking on gas stoves and saying that hydrogen cars disfigure people.\\n  Two people suffered medical emergencies during the Q&A segment of the event, which led to confusion about how to proceed with the scheduled programming. While the crowd waited on the first person to get medical attention, Trump asked for \"Ave Maria\" to play.\\n  \"While we’re waiting. So we had a beautiful evening. And I don’t know if they could get this song up quickly, but if they could work really quickly backstage while we’re waiting. \\'Ave Maria,\\' \" he requested, according to The Washington Post.\\n  When a second medical emergency happened, he asked the crowd, \"Would anybody else like to faint? Please raise your hand. Let\\'s do it now,\" before requesting \"Ave Maria\" again.\\n  \"Those two people who went down are patriots. We love them. And because of them, we ended up with some great music, right?\" Trump said after \"Ave Maria\" played the second time, the Post reports. \"So play ‘YMCA!’ Go ahead. Let’s go nice and loud!\"\\n  When it appeared that the Q&A would not get back on track, the moderator — South Dakota Gov. Kristi Noem — asked Trump if they should end his town hall with the walk-off song he wanted or try to take more questions from the audience.\\n  Trump opted for music. \"So Justin, how about a couple really beauties and we’ll sit down and relax,\" he told one of his aides.\\n JIM WATSON/AFP via Getty  The spontaneous musical interlude lasted 39 minutes, as Trump alternated between standing still and swaying onstage while songs such as \"Nothing Compares 2 U\" by Sinéad O\\'Connor, \"The YMCA\" by The Village People and \"Hallelujah\" by Rufus Wainwright were played.\\n  Many crowd members left the venue prematurely, according to social media videos, and at least one attendee standing on stage behind him was spotted looking at his phone.\\n  Never miss a story — sign up for PEOPLE\\'s free daily newsletter to stay up-to-date on the best of what PEOPLE has to offer\\u200b\\u200b, from celebrity news to compelling human interest stories.\\xa0Following the event, Trump\\'s spokesperson Steven Cheung boasted about the evening on X (formerly Twitter). \"Total lovefest at the PA townhall! Everyone was so excited they were fainting so\\xa0@realDonaldTrump\\xa0turned to music,\" he wrote.\\n  \"Nobody wanted to leave and wanted to hear more songs from the famous DJT Spotify playlist!\"\\n  Meanwhile, Vice President Kamala Harris reposted her campaign\\'s summary of the evening with the simple line: \"Hope he\\'s okay.\"\\n Spencer Platt/Getty  Days before the town hall, Harris, 59, sought to call attention to questions about Trump\\'s cognitive ability and overall health when she released a health summary from her physician, which showed no major concerns. Her doctor wrote in the report that she \"possesses the physical and mental resiliency required to successfully execute the duties of the Presidency.\"\\n  Trump, meanwhile, has repeatedly promised to share his health report but declines to do so when reporters follow up.\\n',\n",
              " 'Trump made his remarks during an Oct. 19 speech that an advisor teased as one that would preview his closing arguments against Kamala Harris Getty(2)  Donald Trump opened his latest rally in Pennsylvania by paying tribute to Arnold Palmer for several minutes — before sharing an anecdote about the late golf legend\\'s anatomy.\\n  While campaigning at the Arnold Palmer Regional Airport on Friday, Oct. 19, the 78-year-old former U.S. president called Palmer \"one of the greatest golfers in the world\" before he launched into 12 minutes of talk about the athlete, including an eventual aside in which he appeared to allude to Palmer\\'s genitalia.\\n  \"But Arnold Palmer was all man. And I say that with all due respect to women, and I love women,\" Trump said during the appearance, just weeks before\\xa0Election Day. \"But this guy, this is a guy [who] was all man. This man was strong, and I refuse to say it, but when he took showers with the other pros, they came out of there, they said, \\'Oh my God. That\\'s unbelievable.\\' \"\\n  After laughing to himself, Trump told his crowd that he \"had to say it.\"\\n  \"We have women that are highly sophisticated here, but they used to look at Arnold as a man,\" he said. \"But he was really something special. Arnold was something special.\"\\n Win McNamee/Getty  Earlier in the speech, Trump said that Palmer knew how to \"electrify\" a crowd and imagined what it would be like to have him present at the rally over the weekend. Palmer died in 2016 at age 87.\\n  \"If I had him here right now with me, this crowd would be going absolutely crazy,\" Trump said. \"They\\'d say \\'Trump, get off the stage, we want Arnold Palmer to speak.\\' He would electrify a crowd, and he would go for shots that nobody else would do. And they were risky as hell, sometimes it wouldn\\'t work out, but usually it did with him.\"\\n  Speaking with the Associated Press on Sunday, Palmer\\'s daughter, Peg Palmer Wears, said she wasn\\'t upset by Trump\\'s remarks, but called them “a poor choice of approaches\" to honoring the late golfer\\'s memory.\\n  She added that Trump and Palmer shared “an interest in golf and a love of golf\" and that her father \"believed in the Republican Party.\"\\n  “There’s nothing much to say. I’m not really upset,” the 68-year-old said. “I think it was a poor choice of approaches to remembering my father, but what are you going to do?”\\n  “A day doesn’t go by that I don’t think about what my father would say about something or what’s happening,” she continued. “We didn’t always agree on things, but he was a quintessential American who believed fervently in this country, even when he questioned its direction.”\\n  Never miss a story — sign up for PEOPLE\\'s free daily newsletter to stay up-to-date on the best of what PEOPLE has to offer\\u200b\\u200b, from celebrity news to compelling human interest stories.\\xa0\\n Elijah Nouvelage/getty  Speaking with The Sporting News in 2018, as reported by The Daily Beast, the athlete\\'s daughter once told the outlet that Palmer once \"made a sound of disgust\" when he saw Trump on television once.\\n  \"Trump was talking. And my dad made a sound of disgust — like ‘uck’ or ‘ugg’ — like he couldn’t believe the arrogance and crudeness of this man who was the nominee of the political party that he believed in,\" she said of her father, who was previously friendly with Dwight D. Eisenhower. \"Then he said, ‘He’s not as smart as we thought he was,’ and walked out of the room. What would my dad think of Donald Trump today? I think he’d cringe.”\\n  Palmer\\'s daughter added at the time that her dad would join Trump for charity fundraisers and events at his golf courses, and that he had \"no patience for people who demean other people in public.\"\\n  Trump\\'s latest campaign event — during which he also referred to\\xa0Kamala Harris\\xa0as a \"s--- vice president\"\\xa0— was teased as one that would preview his closing arguments against Harris and “start to get into that framing,\" according to senior adviser Jason Miller, per the AP.\\n  Both Harris and Trump are continuing on their respective campaign trails ahead of Election Day on Nov. 5.\\n',\n",
              " 'A federal judge declared that the Florida Department of Health has been \"trampling\" on free speech in its attempts to get pro-choice ads off the air, writing, \"It\\'s the First Amendment, stupid\" Scott Olson/Getty  On Thursday, Oct. 17, a federal judge ordered the Florida Department of Health to stop threatening local television stations for airing abortion rights commercials.\\n  The ruling comes after Florida Gov. Ron DeSantis\\' administration aimed to intimidate TV stations across the state by saying they would prosecute those that continued to run political ads supporting a pro-choice amendment on the Florida ballot this year.\\n  Chief U.S. District Judge Mark Walker of the Northern District of Florida chastised the DeSantis administration for infringing on free speech in his ruling, saying, \"To keep it simple for the State of Florida: it’s the First Amendment, stupid.\"\\n  “Whether it’s a woman’s right to choose, or the right to talk about it,” Walker wrote, “the First Amendment prohibits the State of Florida from trampling on [the pro-choice advocates\\'] free speech.”\\n  On Election Day, Floridians will vote on Amendment 4, a ballot measure that aims to repeal the state\\'s restrictive six-week abortion ban and guarantee the right to an abortion until fetal viability.\\n  A group in favor of the amendment, Floridians Protecting Freedom, began running a television ad as part of their \"Yes on 4\" campaign. The ad, titled “Caroline,” features a woman discussing the abortion she received during her second pregnancy.\\n  \"The doctors knew that if I did not end my pregnancy, I would lose my baby, I would lose my life, and my daughter would lose her mom,\" she says in the 30-second spot. \"Florida has now banned abortions, even in cases like mine.\"\\n  After the ad aired, dozens of local TV stations received cease-and-desist orders from the state’s health department saying they could invoke a \"sanitary nuisance\" law — often reserved for mitigating disease risks from things like faulty septic tanks and improperly disposed waste — which would allow them to initiate criminal proceedings.\\n  The cease-and-desist letters called the ads \"false\" and claimed they \"would likely have a detrimental effect on the lives and health of pregnant women in Florida.\" According to Walker’s ruling, at least one station stopped airing the ad as a result.\\n  In response to the cease-and-desist letters, Floridians Protecting Freedoms sued Florida Surgeon General Joseph Ladapo and the health department\\'s top attorney John Wilson, the latter of whom has since resigned.\\n  In the lawsuit, Floridians Protecting Freedoms claimed the threats were \"unconstitutional coercion and viewpoint discrimination.\" The judge sided with the advocacy group, instituting an injunction against the state’s attempt to halt the ad until Oct. 29.\\n  \"This critical initial victory is a triumph for every Floridian who believes in democracy and the sanctity of the First Amendment,\" said Lauren Brenzel, campaign director for Floridians Protecting Freedoms, in a statement. \"The court has affirmed what we’ve known all along: The government cannot silence the truth about Florida’s extreme abortion ban.\"\\n  Never miss a story — sign up for\\xa0PEOPLE\\'s free daily newsletter\\xa0to stay up-to-date on the best of what PEOPLE has to offer\\u200b\\u200b, from celebrity news to compelling human interest stories.\\n  Desantis’ deputy press secretary Julia Friedland, meanwhile, criticized the ruling as “another order that excites the press.”\\xa0\\n  \"The ads are unequivocally false and put the lives and health of pregnant women at risk,\" Friedland claimed. \"Florida’s heartbeat protection law always protects the life of a mother and includes exceptions for victims of rape, incest, and human trafficking.\"\\n  Florida is one of nine states with abortion amendments on the ballot this November. For the measure to pass, it needs to receive at least 60% support.\\n',\n",
              " '\"It\\'s a commemoration of the long struggle, the resilience, and resistance, and beauty of this culture,\" Ruffalo tells PEOPLE  Kyler Alvord is a news editor at PEOPLE, leading the brand\\'s political coverage. He joined the publication on the crime beat. Larry Price  Mark Ruffalo is encouraging Native American communities make their voices heard in the polls, one step at a time.\\n  The 56-year-old actor traveled to the Navajo Nation on Saturday, Oct. 12, to participate in Walk to the Polls, a civic campaign to boost voter turnout among young Indigenous people in the 2024 presidential election.\\n  Partnering with Protect the Sacred, Ruffalo and members of the Diné (Navajo) community walked three miles to a ballot drop box, where residents casted their votes early while honoring 100 years of Native American citizenship and commemorating the Navajo Long Walk, the Diné\\'s Trail of Tears in the 1860s.\\n  Allie Redhorse Young, Diné activist and founder of the youth engagement initiative Protect the Sacred, says that the goal of the walk was to encourage \"record voter turnout\" among young Native American people.\\n  \"This is a way to draw attention to all of the barriers [to voting], one of them being the long distances we have to travel — 45 minutes to an hour\\'s drive — to register to vote, and also to cast the ballot. It\\'s 2024, and we haven\\'t found solutions for this,\" Young explains. \"It\\'s a way to reclaim our power and rebuild our power.\"\\n Larry Price  Ruffalo is not Native American but has gotten involved with various tribes through his years of environmental activism, explaining that \"we were all sort of fighting for the same thing, which was Mother Earth.\"\\n  He tells PEOPLE that change happens when people exercise their voices, citing how the U.S. government has made some progress with Indigenous representation since the last election.\\n  \"We\\'re hopefully about to have our first Native female governor. We have Deb Haaland in the Department of the Interior, actually having a Native American speak for their own people in a cabinet of the presidency,\" he says. \"That comes from voting.\"\\n  With Walk to the Polls — part of the larger civic engagement campaign Ride to the Polls — Ruffalo says, \"The message [to young Indigenous people] has been, ‘Hey, this system has really treated you badly and it\\'s completely understandable, your distrust for it, but the fact of the matter is the bad guys want you to not vote. This system hasn\\'t been fair to you, but it\\'s also the promise of America and using our vote is how we actually capture power and how we get a seat at the table.\\' \"\\n Larry Price  During the 2020 presidential election season, the Diné were grappling with the severe impact of COVID-19, which led Ruffalo to partner with Young on spreading accurate information about the virus\\'s danger. “They were suffering much more than anyone else in the country with the most deaths and they had the least effective and well-funded healthcare system,” Ruffalo explains.\\n  Four years later, just two days before Indigenous Peoples Day, Young and Ruffalo joined forces again for Walk to the Polls to shed light on election challenges and put an empowering spin on how Native American youth can fight back.\\n  “I think it\\'s a story about the wrong, disenfranchised, really invisible community that is making a statement that we\\'re still here,” Young tells PEOPLE.\\n  She adds, “We are asking the world and specifically this country to acknowledge our existence and our contributions to this country and to American democracy. There are over 570-plus recognized tribes in the country, and a lot of people don\\'t know that. So do your research. This is about solidarity and these movements require all of us to show up for each other.”\\n Larry Price  Ruffalo, who was also joined on the Walk to the Polls by actor Wilmer Valderrama and Native American actress Cara Jade Myers, expressed his happiness in celebrating a community that holds deep significance for him.\\n  \"We\\'re celebrating the work that we’ve done. It\\'s a commemoration of the long struggle, the resilience, and resistance, and beauty of this culture and value of this culture in the United States,\" the actor says.\\n  He adds, \"It\\'s for this too, but also just for connecting to a culture that means a great deal to me and I\\'ve gotten so much from, and learned so much from, and have developed as a human being because of.\"\\n  Learn more about Protect the Sacred\\'s mission to empower future generations of Native American leaders and protect Indigenous sovereignty at IWillHarness.com.\\n',\n",
              " 'A new report alleges that when Trump learned the cost of Vanessa Guillén\\'s funeral — which he had promised to cover if needed — he grew irate and said, \"Don\\'t pay it!\" Trump\\'s campaign denies the damning claim Kyler Alvord is a news editor at PEOPLE, leading the brand\\'s political coverage. He joined the publication on the crime beat. Doug Mills/Getty  Donald Trump\\'s campaign is pushing back against a stunning new report from The Atlantic about his alleged anger when he learned the cost of a murdered soldier\\'s funeral, which he had vowed to pay for when he was president.\\n  Twenty-year-old Army private Vanessa Guillén was fatally beaten with a hammer by a fellow soldier at their Texas post in April 2020. The gruesome case garnered significant media attention after her remains were discovered, leading then-President Trump to invite Guillén\\'s family and television crews to the White House to offer his condolences.\\n  During the meeting, Trump told Guillén\\'s mother that he heard the soldier was a \"spectacular person, and respected and loved by everybody.\" He then made a promise: \"If I can help you out with the funeral, I’ll help — I’ll help you with that ... Financially, I’ll help you.\" The family\\'s attorney told the president that the military would likely cover the costs, and Trump said that if needed, he would step in and offer more help.\\n  Not long after, a public memorial service in Houston and a private funeral were held to honor Guillén.\\n Sergio Flores/Getty\\xa0  Several months later, in December 2020, Trump allegedly brought Guillén up during an Oval Office meeting. The Atlantic spoke to two witnesses who were reportedly in the room, who said that Trump asked an official, \"Did they bill us for the funeral? What did it cost?\"\\n  According to the attendees, whose accounts were cross-checked with notes that a participant took at the meeting, an aide responded by telling the president that they had been billed for the funeral proceedings, and that it totaled $60,000.\\n  Trump allegedly grew irate at the news, according to The Atlantic\\'s sources, saying, \"It doesn\\'t cost 60,000 bucks to bury a f---ing Mexican!\" The witnesses claim that Trump then turned to his chief of staff, Mark Meadows, and ordered him not to pay the bill.\\n  Later that day, a witness claimed that Trump expressed continued anger at the cost, allegedly saying, \"Can you believe it? F---ing people, trying to rip me off.\"\\n  The Guillén family\\'s attorney told The Atlantic that she did forward the bill to the White House, but never received payment from Trump, instead getting the costs covered by a mix of military aid and donations.\\n Win McNamee/Getty  When confronted with The Atlantic\\'s reporting, the Trump campaign called the story an \"outrageous lie\" and suggested that the outlet was aiming to hurt Trump\\'s presidential bid as Election Day draws near.\\n  The campaign also forwarded — to both The Atlantic and PEOPLE — accounts from others in Trump\\'s orbit who refuted the claims.\\n  One denial was attributed to Kash Patel, who was in the room when the \"f---ing Mexican\" comment was allegedly made, saying, \"Of course, President Trump didn\\'t say that. President Trump ensured that this victim received full military honors.\"\\n  Another came from Meadows, who has been indicted in two separate criminal cases for allegedly engaging in illegal activity on Trump\\'s behalf. \"Any suggestion that President Trump disparaged Ms. Guillen or refused to pay for her funeral is absolutely false,\" Meadows\\' statement read. \"He was nothing, but kind, gracious, and wanted to make sure that the military and the U.S. government did right by Vanessa Guillen and her family.\"\\n  Never miss a story — sign up for PEOPLE\\'s free daily newsletter to stay up-to-date on the best of what PEOPLE has to offer.\\n  Mayra Guillén — the late soldier\\'s sister who has remained a Trump supporter — also shared a statement, saying, \"I am beyond grateful for all the support President Donald Trump showed our family during a trying time. I witnessed firsthand how President Trump honors our nation\\'s heroes\\' service. We are grateful for everything he has done and continues to do to support our troops.\"\\n Bing Guan/Bloomberg via Getty  Trump\\'s relationship with the military and its veterans has long been a topic of conversation, as reports of disparaging remarks have surfaced since his time in office.\\n  In 2020, The Atlantic reported that Trump allegedly called fallen soldiers \"suckers\" and \"losers\" as he canceled a cemetery visit. The outlet claimed that he also applied that criticism to late Republican Sen. John McCain, who spent more than five years as a prisoner of war in Vietnam, saying, \"We\\'re not going to support that loser\\'s funeral.\"\\n  Trump denied both of those claims — though Meghan McCain, for one, said she believed the reports because of the \"consistent history and pattern\" of him insulting people who served in the military.\\n  Another widely publicized claim from Trump\\'s time as president, which was reported by both The New Yorker and The Atlantic, alleges that he said he didn\\'t want \"wounded guys\" in a military parade because \"it doesn\\'t look good for me.\"\\n  Trump denied the parade story as well, but in 2023 his former chief of staff John Kelly — who was reportedly present during that conversation — seconded the allegation in a statement to CNN, calling Trump \"a person that did not want to be seen in the presence of military amputees because \\'it doesn’t look good for me.\\' \"\\n  In the statement, the retired U.S. Marine Corps general claimed Trump \"thinks those who defend their country in uniform, or are shot down or seriously wounded in combat, or spend years being tortured as POWs are all ‘suckers’ because ‘there is nothing in it for them.\\' \"\\n Aaron P. Bernstein/Getty  A new book from journalist Bob Woodward, titled War, includes more Trump criticisms from those in his former administration.\\n  Retired Army Gen. Mark A. Milley — who served as chairman of the Joint Chiefs of Staff under Trump — told Woodward that he used to warn colleagues how the former\\xa0Apprentice\\xa0host is \"a walking, talking advertisement of what he’s going to try to do.\"\\n  According to Woodward, Milley called Trump a \"fascist to the core\" and \"the most dangerous person to this country.\"\\n  Trump\\'s campaign spokesperson blasted the reporting in Woodward\\'s book, saying, “None of these made up stories by Bob Woodward are true and are the work of a truly demented and deranged man who suffers from a debilitating case of Trump Derangement Syndrome.\"\\n',\n",
              " '\"I was so young and everything when we got married, I never really thought about it,\" said Betty Cartledge, a first-time voter in the greater Atlanta area Kyler Alvord is a news editor at PEOPLE, leading the brand\\'s political coverage. He joined the publication on the crime beat. WSB-TV  For decades, Betty Cartledge didn\\'t put much thought into the fact that she had never participated in an election. But this year, on the eve of her 82nd birthday, something changed.\\n  One day after early voting began in Georgia, local television station Channel 2 Action News caught Cartledge on her way into a Newton County polling location in the greater Atlanta area.\\n  \"I’m going to vote for the first time in my life,\" the Covington resident told the outlet on Wednesday, Oct. 16, noting that she was casting her inaugural ballot four days before turning 82 years old.\\n  Cartledge, who was accompanied by her niece, explained that she had never tried voting sooner because her longtime husband discouraged it.\\n  \"I was so young and everything when we got married, I never really thought about it,\" she said. \"And then I got old and I thought that it wouldn’t count to vote.\"\\n  After her husband died last year, Georgia\\'s pivotal role in the 2024 election became a national conversation. When early voting rolled around, she decided it was time to make her voice heard.\\n Slaven Vlasic/Getty; Adam Glanzman/Bloomberg/Getty  Cartledge didn\\'t share who she voted for, but she did debrief the experience to Channel 2 as she returned to her car afterward.\\n  “It was neat, it was good,\" Cartledge said. \"If I’m here, I’ll be back again.\"\\n  Never miss a story — sign up for PEOPLE\\'s free daily newsletter to stay up-to-date on the best of what PEOPLE has to offer.\\n  As the eighth most populous state in the nation, Georgia has a strong say in picking U.S. presidents.\\n  Vice President Kamala Harris and former President Donald Trump have put considerable focus on winning over Georgia voters in order to earn their 16 Electoral College votes, and polling does not currently point to a clear front-runner.\\n',\n",
              " 'In a Fox News interview, Trump said that \"lunatic\" Democrats like Adam Schiff, who led his first impeachment trial, are \"tough to handle\" enemies that pose bigger national threats than Russia and China Spencer Platt/Getty  Former President Donald Trump recently made a suggestion that the military could be used to shut down “radical left lunatics.”\\n  During an interview on Fox News’ Sunday Morning Futures on Sunday, Oct. 13, Trump was asked about President Joe Biden’s previous comment that he fears there could be chaos from MAGA supporters on Election Day.\\n  The former president reacted by saying he does not think his supporters — who stormed the Capitol on Jan. 6, 2021, to prevent Biden\\'s election victory from being certified in Congress — will ignite chaos, saying the real election threat is \"the enemy from within.\"\\n  “I think the bigger problem are the people from within. We have some very bad people. We have some sick people, radical left lunatics,” he continued. “And I think it should be very easily handled by, if necessary, by National Guard or, if really necessary, by the military, because they can’t let that happen.”\\n Bill Pugliano/Getty  Though the context of Trump\\'s initial remark implied that he was talking about policing militant people stirring up trouble on Election Day, the former president dug a deeper hole for himself by also telling Fox News that Democrats like California Rep. Adam Schiff — who led the prosecution in Trump\\'s first impeachment trial — are part of the \"enemy from within.\"\\n  \"The thing that’s tougher to handle are these lunatics that we have inside, like Adam Schiff,\" he said later in the interview. He then called those people \"more dangerous than China, Russia and all these countries.\"\\n  Following the comment about policing liberals with the National Guard or military, Vice President Kamala Harris\\' presidential campaign responded, stating that Trump’s remarks should \"alarm every American who cares about their freedom and security.\"\\n  In a statement shared with The Hill, Harris’ senior campaign adviser and senior spokesperson Ian Sams said, \"Donald Trump is suggesting that his fellow Americans are worse ‘enemies’ than foreign adversaries, and he is saying he would use the military against them.\"\\n  Sams continued by calling attention to Trump\\'s previous claim that he would briefly be a \"dictator\" if he took office in January 2025.\\n  \"Taken with his vow to be a dictator on ‘day one,’ calls for the ‘termination’ of the Constitution, and plans to surround himself with sycophants who will give him unchecked, unprecedented power if he returns to office, this should alarm every American who cares about their freedom and security,\" Sams added. \"What Donald Trump is promising is dangerous, and returning him to office is simply a risk Americans cannot afford.\"\\n Steven Ferdman/GC Images  Trump\\'s new remark about the \"radical left\" comes after a series of aggressive statements about how he will handle his adversaries if elected president.\\n  When Fox News\\' Laura Ingraham recently asked him to confirm that he wouldn\\'t weaponize the justice system against his political enemies, he said that \"a lot of people\" want him to do just that.\\n  Never miss a story — sign up for PEOPLE\\'s free daily newsletter to stay up-to-date on the best of what PEOPLE has to offer, from celebrity news to compelling human interest stories.\\n  After Trump baselessly accused Biden and Harris of playing politics with hurricane relief efforts, two former White House officials alleged that it was Trump who wielded disaster aid as a political tool during his presidency, refusing to provide California with federal relief for a 2018 wildfire until they showed him that the affected area was Republican-leaning.\\n  Trump seemingly vowed to do it again while speaking to California voters on the campaign trail in October, threatening that he would refuse to give the heavily Democratic state \"fire money\" down the road if the governor doesn\\'t meet his demands.\\n  The idea of using the military to police liberals hits at a similar theme found in Project 2025, a far-right playbook for Trump\\'s presidency that was drafted by his allies, about refocusing federal agents.\\n  The Project 2025 mandate suggests that the FBI should be overhauled to increase federal law enforcement presence in select areas of the U.S. where the administration believes its laws aren\\'t being enforced strictly enough.\\n  It also advises that a potential Trump administration should sue local government officials who don\\'t prosecute crimes to the administration\\'s liking.\\n',\n",
              " '“Bill? Oh my God. Hi Bill!,\" the employee said excitedly after realizing her mistake  An employee was in for quite a surprise when a president dropped by a McDonald’s in Georgia over the weekend — but he wasn\\'t the exactly the man she thought he was.\\n  While stumping for Vice President Kamala Harris on Sunday, Oct. 13, former President Bill Clinton stopped by the fast food chain and came face-to-face with a shocked employee.\\xa0\\n  “You Joe? Mr. Joe,\" the employee asked Clinton, 78, who was sporting a jacket with “USA” fastened on the back. It only took the employee a few seconds to realize it was not President Joe Biden, but rather the 42nd U.S. president.\\xa0\\n  Correcting her mistake the employee said, “Bill? Oh my God. Hi Bill!\" She then ran around the counter to give the former president a big hug. Keeping their arms around each other, the woman asked a fellow employee to take a photo and said, “This is Bill, y’all.”\\n  Angel Ureña, Deputy Chief of Staff for Clinton, recorded the wholesome encounter and shared it on X (formerly Twitter). “The boss was stumping for @KamalaHarris in Georgia and had to stop by the old stomping grounds, @McDonalds,” he captioned the clip.\\n  This is not the first time Clinton, who was notorious for his visits to McDonald\\'s, has expressed his love for the fast food chain.\\n  Most recently, while speaking on behalf of Harris, 59, at the Democratic National Convention in August, Clinton highlighted the vice president\\'s first job as a fast food worker. “I’ll be so happy when she enters the White House as president because she will break my record as the president who spent the most time at McDonald’s,” he joked.\\n CHARLY TRIBALLEAU/AFP via Getty\\xa0  On Sunday, Clinton also spoke to congregants at Mount Zion Baptist Church in Albany, Ga, in support of Harris. \"This whole election and the future of the country is turning out to be what people who were sort of on the fence about voting are going to do in the next three and a half weeks,\" Clinton said.\\n  He added, \"It’s the craziest thing I’ve ever seen.\"\\n  Following Sunday\\'s events, it was announced by the Harris campaign that Clinton is set to headline a bus tour through eastern North Carolina during the remainder of this week.\\n',\n",
              " '\"I know she will work to bring all Americans together to move us beyond partisanship,\" Susan Ford Bales said. \"That is what America deserves from our President\" Guy DeLort/WWD/Penske Media via Getty/Getty; Drew Hallowell/Getty  President Gerald Ford\\'s conservative daughter, Susan Ford Bales, has endorsed Kamala Harris in the 2024 presidential election.\\n  Bales\\' late father was a prominent Republican who served as the House minority leader before becoming vice president and then president in 1974 following Richard Nixon\\'s resignation. A half-century after Ford\\'s ascension to the Oval Office, his youngest child is weighing in on the state of politics today.\\n  Bales, 67, wrote in a statement on Monday, Oct. 21, about Harris\\' integrity and commitment to defending the Constitution, which were not unlike her father\\'s principles while in the White House.\\n  \"When my father, Gerald Ford, was sworn-in as America’s 38th President, the nation was in need of a serious, compassionate and honorable leader who had the courage to do what was right and always to defend our Constitution,\" Bales began. \"His dedication to those values helped bring our country through a turbulent time and restored Americans\\' trust in our democracy.\"\\n  \"We face a similar dynamic today. America cannot regress back to a divisive paradigm of loathing toward one another and disdain for our Constitution. We witnessed on January 6 the horrors of what that looks like, and we can never allow a repeat of that tragedy,\" Bales continued, asserting that those responsible for inciting violence at the Capitol on Jan. 6, 2021, \"must be held accountable.\"\\n PL Gould/Images Press/Getty  Bales noted that though she and Harris, 60, \"likely disagree on some policy matters,\" the vice president\\'s \"integrity and commitment\" to the same principles that her father committed to \"have led me to conclude that Kamala Harris should be elected 47th President of the United States.\"\\n  \"She recognizes the goodness and the greatness in our country. I know she will defend the rule of law and our Constitution. And I know she will work to bring all Americans together to move us beyond partisanship,\" Bales continued.\\n  \"That is what America deserves from our President, and that is why I am proud to endorse Vice President Harris for President of the United States.\"\\n Win McNamee/Getty\\xa0  Harris\\' presidential campaign has built a wide base across the political spectrum, from Democratic Socialist Rep. Alexandria Ocasio-Cortez and progressive independent Sen. Bernie Sanders on the left, to military generals and former Trump officials on the right.\\n  Harris also notably earned the support of former Vice President Dick Cheney and his daughter, former Wyoming Rep. Liz Cheney, who have denounced Trump.\\n  “He can never be trusted with power again,” Dick said about Trump in a September statement, according to AP. “As citizens, we each have a duty to put country above partisanship to defend our Constitution. That is why I will be casting my vote for Vice President Kamala Harris.”\\n  Former Rep. Adam Kinzinger, former Trump spokeswoman Stephanie Grisham and Trump\\'s former communications director Anthony Scaramucci are among other Republicans endorsing Harris over Trump.\\n',\n",
              " 'Swift endorsed Kamala Harris, who is running against Ivanka\\'s father Donald Trump in the presidential election, in September Jamie McCarthy/WireImage; Ethan Miller/Getty\\xa0  Taylor Swift’s Eras Tour stop in Miami featured a famous face in the crowd: Ivanka Trump.\\n  Ivanka, the daughter of Republican presidential candidate Donald Trump, took her 13-year-old daughter Arabella and friends to see Swift in concert at Hard Rock Stadium over the weekend, sources tell PEOPLE.\\n  The outing comes just weeks after Swift, 34, announced her endorsement of Democratic candidate Kamala Harris, prompting Donald Trump to issue a blunt statement to social media that read, “I HATE TAYLOR SWIFT!”\\n  Ivanka, 42, shares Arabella with husband Jared Kushner, and previously revealed her daughter’s passion for the pop superstar on her birthday in July. To celebrate, Arabella received a white heart cake that read, “Boys only want love if it’s torture,” a line from Swift’s 2014 hit “Blank Space.”\\n  “Best cake for my favorite Swiftie,” Ivanka captioned an Instagram photo of the dessert, which had been cut into and was covered in red, echoing the cake featured in the “Blank Space” music video.\\n John Shearer/Getty  Ahead of the election, Donald Trump was using Swift’s likeness for his campaign, sharing posts to social media that featured campaign merch inspired by the Eras Tour.\\n  In her endorsement of Harris, which she shared to Instagram on Sept. 10, Swift said she was unsettled by Trump using her likeness to promote his campaign.\\n  “Recently I was made aware that AI of ‘me’ falsely endorsing Donald Trump’s presidential run was posted to his site. It really conjured up my fears around AI, and the dangers of spreading misinformation,” she wrote. “It brought me to the conclusion that I need to be very transparent about my actual plans for this election as a voter. The simplest way to combat misinformation is with the truth.”\\n Steven Hirsch-Pool/Getty; David Paul Morris/Bloomberg via Getty  Swift continued, “I will be casting my vote for Kamala Harris and Tim Walz in the 2024 Presidential Election. I’m voting for @kamalaharris because she fights for the rights and causes I believe need a warrior to champion them. I think she is a steady-handed, gifted leader and I believe we can accomplish so much more in this country if we are led by calm and not chaos. I was so heartened and impressed by her selection of running mate @timwalz, who has been standing up for LGBTQ+ rights, IVF, and a woman’s right to her own body for decades.”\\n  The post — which Swift signed “Childless cat lady” in a dig at Trump’s running mate J.D. Vance — came shortly after the presidential debate between Harris and Trump.\\n  The next day, Trump responded to the endorsement in an interview with Fox & Friends.\\n  \"I was not a Taylor Swift fan,\" he said on the show. \"It was just a question of time. ... But she’s a very liberal person. She seems to always endorse a Democrat. And she’ll probably pay a price for it in the marketplace.\"\\n  Swift is currently on her Eras Tour, which began in March 2023 and will end in December after nearly 150 shows.\\n',\n",
              " 'The former president filled out his 2024 absentee ballot in support of Kamala Harris. It was placed in a dropbox at the Sumter County Courthouse in Georgia on Oct. 16 Scott Cunningham/Getty; SAUL LOEB/AFP via Getty\\xa0  Jimmy Carter\\'s absentee ballot was dropped off at a county courthouse near his Georgia hometown this week, which means his vote is on its way to getting locked in.\\n  As his son Chip\\xa0and grandson Jason confirmed to\\xa0The Atlanta Journal-Constitution, the 39th U.S. president filled out his ballot for Democratic presidential nominee\\xa0Kamala Harris on Wednesday, Oct. 16, before it was placed by Chip\\'s wife, Becky, in a dropbox at the Sumter County Courthouse.\\n  And while Jimmy, 100, fulfilled his self-proclaimed wish of living long enough to vote for Harris, there\\'s one more step before the vote is secured.\\n  In Georgia, when an absentee voter returns their ballot, their vote is locked in as soon as it is processed by election officials. Processing involves verifying voters\\' identities by cross-checking signatures and ensuring that they are eligible to vote.\\n  After an absentee voter\\'s authenticity has been confirmed, their ballot is removed from the outer envelope and set aside to be counted on Election Day.\\n  \"Once a ballot is removed from the envelope there is no way to trace a ballot back to an individual voter,\" Robert Sinners, a spokesperson for the Georgia Secretary of State\\'s Office, previously explained to PEOPLE.\\n  That\\'s the moment it becomes a done deal.\\n Eddie Mullholland-WPA Pool/Getty  After confirming that Jimmy\\'s ballot had been sent in, Chip told the Journal-Constitution, “It was a good morning for him and good for us that he got it done.”\\n  Chip also reaffirmed that his father \"absolutely\" voted for Harris, 59, saying, \"He’s never voted for a Republican in his life.\"\\n  Never miss a story — sign up for PEOPLE\\'s free daily newsletter to stay up-to-date on the best of what PEOPLE has to offer\\u200b\\u200b, from celebrity news to compelling human interest stories.\\n  Georgia is a key swing state in the 2024 presidential election, carrying 16 electoral votes. State polling shows Harris in a tight race with former President\\xa0Donald Trump, who narrowly lost there in 2020.\\n  Ahead of Jimmy\\'s 100th birthday on Oct. 1, his grandson Jason, 49, told the\\xa0Atlanta Journal-Constitution that the former president was \"only trying to make it to vote for Kamala Harris.\"\\n  Jimmy, who served in the White House from 1977 to 1981, is the longest-living U.S. president and has been in hospice care since February 2023. His wife,\\xa0Rosalynn, died in\\xa0November 2023\\xa0after she was diagnosed with dementia.\\n  Jason spoke at the Democratic National Convention\\xa0in August about why he and Jimmy were supporting Harris, whom he said \"carries my grandfather’s legacy.\"\\n  \"She knows what is right, and she fights for it,\" he said. \"She understands that leadership is about service, not about selfishness. That you can show strength and demonstrate decency. And that you can get a whole lot more done with a smile than with a scowl.\"\\n',\n",
              " 'Trump\\'s ex-chief of staff John Kelly corroborated \\'The Atlantic\\'\\'s reporting, but Trump\\'s campaign denies he made the statement AP Photo/Alex Brandon  Former president Donald Trump reportedly stated his interest in having generals similar to ones who once reported to Adolf Hitler.\\n  The Atlantic published an article on Tuesday, Oct. 22 reporting that Trump, 78, brought up the Nazi dictator during a private conversation in the White House during his presidency.\\n  “I need the kind of generals that Hitler had,” the Republican presidential nominee reportedly said. “People who were totally loyal to him, that follow orders.”\\xa0\\xa0\\xa0\\n JIM WATSON/AFP via Getty  According to The Atlantic, two witnesses heard Trump make the Hitler comments.\\n  However, a Trump campaign spokesperson, Alex Pfeiffer, told PEOPLE, “This is absolutely false. President Trump never said this.”\\n  In Tuesday’s article, The Atlantic said they recently spoke with Trump\\'s ex-chief of staff John Kelly, who corroborated alleged Hitler comments.\\xa0\\n  The 2022 book, The Divider: Trump in the White House by Peter Baker and Susan Glasser, claims Trump once asked Kelly, “Why can’t you be like the German generals?”\\n  Additionally, the book notes that Trump seemed was enamored with the idea that Hitler’s generals were “totally loyal to him” despite Kelly telling him German generals “tried to kill Hitler three times and almost pulled it off.”\\n Spencer Platt/Getty  Kelly remembered that conversation during his interview with The Atlantic.\\xa0\\n  “He told me that when Trump raised the subject of ‘German generals,’ Kelly responded by asking, ‘Do you mean Bismarck’s generals?’ He went on: ‘I mean, I knew he didn’t know who Bismarck was, or about the Franco-Prussian War.’ I said, ‘Do you mean the Kaiser\\'s generals? Surely you can’t mean Hitler’s generals?’ And he said, ‘Yeah, yeah, Hitler’s generals.’ I explained to him that Rommel had to commit suicide after taking part in a plot against Hitler.’ Kelly told me Trump was not acquainted with Rommel,” the outlet wrote.\\xa0\\n  Trump’s alleged statements mark yet another controversial comment made by him.\\n  Never miss a story — sign up for PEOPLE\\'s free daily newsletter to stay up-to-date on the best of what PEOPLE has to offer\\u200b\\u200b, from celebrity news to compelling human interest stories.\\n  During a Sept. 29 dinner with billionaire donors at his Trump Tower penthouse, Trump reportedly called Vice President Kamala Harris the R-word, according to The New York Times.\\n  More recently, he referred to her as a \"s--- vice president\" at a Pennsylvania rally held at Latrobe\\'s Arnold Palmer Regional Airport on Saturday, Oct. 19.\\n',\n",
              " 'Journalist Eric Lipton claimed that the Secret Service has become an \"afterthought\" in the Department of Homeland Security\\'s budget, making it hard to \"equip and train\" new hires NICHOLAS KAMM/AFP via Getty  Despite what many may assume, there are a handful Secret Service agents who have never set foot inside the White House — and some have been trained on its layout by visiting a White House replica at filmmaker Tyler Perry\\'s studios.\\n  While discussing the Secret Service\\'s recent challenges on a recent episode of The Daily podcast, New York Times investigative reporter Eric Lipton spoke about the myriad problems plaguing the federal law enforcement agency, including their resources and training capabilities.\\n  “Homeland Security is a giant agency … and the Secret Service became sort of an afterthought and as a result, it was unable to effectively compete for the money that it needed to equip and train its new hires,” Lipton said.\\n  Elaborating on the issues, Lipton stated that the current training facilities are in dire need of upgrades and should “simply be demolished.”\\n  “Perhaps the biggest area that it’s impacted is Secret Service training. The training facility that they have in suburban Maryland, outside of Washington, is in pretty bad shape,” he said.\\n  “And when it comes to how to defend and protect the White House, they don’t even have a mock White House that they can train around. Even though they’ve been talking about building one for over a decade,” Lipton continued.\\n John Nacion/Variety via Getty\\xa0  Lipton then revealed how filmmaker Tyler Perry came into play, courtesy of the mock White House he had built at his Atlanta movie studios.\\n  Based on direct information he received from the Homeland Security secretary, Lipton claimed that “some of the uniformed officers have never been inside the White House.”\\n  “The Secret Service is so short of proper training facilities that they actually sent, on several occasions, their personnel down to the Atlanta area to train at a mock White House that Tyler Perry, the Hollywood producer, had built as a stage in Georgia. It’s hard to believe, but that’s what the Secret Service has been left with as its options for training its people,” Lipton said.\\n REBECCA DROKE/AFP via Getty\\xa0  Anthony Guglielmi, a spokesperson for the Secret Service, offered PEOPLE more context on how Perry became involved with agents\\' training.\\n  \"Following a series of security issues at the White House in 2014, an independent protective mission panel recommended that the U.S. Secret Service construct a replica White House to facilitate scenario-based training under real-world conditions,\" he said, noting that the Secret Service can\\'t often conduct training at the actual White House because it\\'s used as a secure office, museum and residence.\\n  He continued: \"In 2023, former Director Kimberly Cheatle collaborated with Mr. Tyler Perry and his staff to study the White House replica used for filming in Atlanta. We also conducted a scenario-based training exercise at that facility to assess how a similar model could be utilized in Maryland for training future special agents, officers and partner agencies from D.C., Maryland and Virginia who would respond to a potential emergency or critical incident.\"\\n  Never miss a story — sign up for PEOPLE\\'s free daily newsletter to stay up-to-date on the best of what PEOPLE has to offer.\\n  Guglielmi said that in the past year, the Secret Service has worked with Congress and the DHS to make progress on planning the construction of an eventual White House Defense Training Facility.\\n  \"We are grateful for Congress’ initial investments, which were crucial in getting this important project off the ground,\" he said.\\n',\n",
              " '\"We are proud that our clients will finally begin to receive some of the compensation to which they are entitled for Giuliani’s actions,\" said a lawyer for Ruby Freeman and her daughter, Shaye Moss Abigail Adams is a Human Interest Writer and Reporter for PEOPLE. She has been working in journalism for seven years. Michael M. Santiago/Getty  Rudy Giuliani must turn over control of his Manhattan penthouse apartment and several luxury items to two Georgia poll workers who he admitted to defaming after the 2020 election, a judge has ruled.\\n  U.S. District Court Judge Lewis Liman of New York issued the ruling on Tuesday, giving the former New York City mayor just seven days to turn the items over to a receivership, according to CNN and The Washington Post.\\n  The judge determined in December 2023 that election workers Ruby Freeman and her daughter, Shaye Moss, are owed nearly $150 million after Giuliani publicly lied about the two women after the 2020 election, when he was working as legal counsel to former President Donald Trump.\\n  Liman also determined that Freeman and Moss should receive $2 million in legal fees that Giuliani has said he is owed by the Trump campaign and the Republican National Committee, per the reports.\\n DAVID DEE DELGADO/AFP via Getty  In addition to the apartment and legal fees, Giuliani has been ordered to turn over a 1980s Mercedes-Benz previously owned by actress Lauren Bacall, a television, New York Yankees memorabilia and multiple luxury watches, including some he received from European leaders after the 9/11 attacks.\\n  Aaron Nathan, a lawyer representing Freeman and Moss, said in a statement that the outcome of this case \"should send a powerful message that there is a price to pay for those who choose to intentionally spread disinformation.\"\\n  \"The road to justice for Ruby and Shaye has been long, but they have never wavered,\" said Nathan. \"Last December, a jury delivered a powerful verdict in their favor, and we’re proud that today’s ruling makes that verdict a reality.\"\\n  He later added, \"We are proud that our clients will finally begin to receive some of the compensation to which they are entitled for Giuliani’s actions.\"\\n  Never miss a story — sign up for PEOPLE\\'s free daily newsletter to stay up-to-date on the best of what PEOPLE has to offer, from celebrity news to compelling human interest stories.\\n  Giuliani spokesperson Ted Goodman told PEOPLE in a statement that he believes the former N.Y.C. mayor is \"being unfairly punished by partisan, political activists who are trying to make an example out of him\" and \"bully and intimidate him into silence.\"\\n  Goodman added that the judgment is currently on appeal, and the court \"could have held off on this step\" until the appeal is resolved.\\n  \"The court order forces the mayor to relinquish deeply personal belongings, including gifts from his children and close family friends,\" Goodman said in the statement. \"They are attempting to take everything from him, including a personal gift from his childhood hero Joe DiMaggio and a gift from the first soldiers who entered Afghanistan following September 11th. They are also forcing the mayor to relinquish his only vehicle.\"\\n  He continued: \"They’ve restricted his access to his personal bank accounts and his credit cards, and they’ve blocked him from his business accounts in a failed effort to crush his highly successful two-hour livestream program on X and his other social media platforms.\"\\n  Freeman and Moss sued Giuliani after he publicized a video that falsely claimed to show them rigging the Georgia election results in Joe Biden\\'s favor, following Trump\\'s loss in 2020.\\n  In June 2022, the mother and daughter testified at a Jan. 6 Committee hearing about living in fear after Giuliani publicized the clip, which showed Moss and Freeman counting ballots during election night.\\n  Trump, Giuliani and others falsely claimed the pair were \"involved in a plot to kick out observers, bring suitcases of false ballots for [Joe] Biden into the [State Farm] arena, and then run them through the machines multiple times,” Democratic Rep. Adam Schiff said at the time.\\n  Moss and Freeman claimed they were bombarded with threats on social media. Some people even began showing up at the election workers’ homes.\\n  \"I\\'ve lost my name, I\\'ve lost my reputation, I\\'ve lost my sense of security, all because a group of people, starting with 45 and his ally Rudy Giuliani, deciding to scapegoat me and my daughter, to push their own lies about how the presidential election was stolen,\" Freeman testified.\\n  In July 2024, Giuliani was disbarred in New York for \"flagrantly\" misusing his power to spread false information about the 2020 election. He was also disbarred in Washington D.C. in September 2024 for his \"unparalleled\" attempts to overturn the election.\\n',\n",
              " 'Arnold Palmer\\'s daughter Peg called Trump\\'s remarks about the late golf star \"a poor choice of approaches to remembering my father,\" after Trump alluded to men being impressed by his nude form Charlotte Phillipp is a Weekend Writer-Reporter at PEOPLE. She has been working at PEOPLE since 2024, and was previously an entertainment reporter at The Messenger. Kim Stepinsky/Pittsburgh Tribune-Review via AP, Jeff Swensen/Getty Images  Arnold Palmer\\'s daughter is sharing her thoughts on Donald Trump\\'s unorthodox remarks about her father.\\n  The former president brought up the late golf star — including calling him \"one of the greatest golfers in the world\" and commenting on his genitalia — as he held a campaign event at Arnold Palmer Regional Airport in Latrobe, Pa. (Palmer\\'s place of birth) on Friday, Oct. 19.\\n  \"Arnold Palmer was all man. And I say that with all due respect to women, and I love women,\" Trump said during the appearance. \"But this guy, this is a guy [who] was all man. This man was strong, and I refuse to say it, but when he took showers with the other pros, they came out of there, they said, \\'Oh my God. That\\'s unbelievable.\\' \"\\n  Speaking with the\\xa0Associated Press\\xa0on Sunday, Palmer\\'s daughter Peg Palmer Wears said she wasn\\'t \"upset\" by Trump\\'s comments, but called them \"a poor choice of approaches\" to honoring her father\\'s memory.\\n  \"There’s nothing much to say. I’m not really upset,” the 68-year-old told the AP. \"I think it was a poor choice of approaches to remembering my father, but what are you going to do?\"\\n Jeff Swensen for The Washington Post via Getty Images, Allsport/Getty Images  Palmer\\xa0died in 2016 at age 87. Wears said that Trump and her dad shared \"an interest in golf and a love of golf\" but only met a few times in passing.\\n  \"A day doesn\\'t go by that I don’t think about what my father would say about something or what’s happening,\" Wears said, adding that Palmer \"believed in the Republican Party.\"\\n  \"We didn’t always agree on things,\" she added, \"but he was a quintessential American who believed fervently in this country, even when he questioned its direction.\"\\n  Also at his rally on Friday, Trump said that Palmer knew how to \"electrify\" a crowd.\\n  \"If I had him here right now with me, this crowd would be going absolutely crazy,\" the former president said of the golfer. \"They\\'d say \\'Trump, get off the stage, we want Arnold Palmer to speak.\\' He would electrify a crowd, and he would go for shots that nobody else would do. And they were risky as hell, sometimes it wouldn\\'t work out, but usually it did with him.\"\\n Win McNamee/Getty  Speaking with\\xa0The Sporting News\\xa0in 2018, as reported by\\xa0The Daily Beast, Wears told the outlet that Palmer once \"made a sound of disgust\" when he saw Trump on TV.\\n  \"Trump was talking. And my dad made a sound of disgust — like \\'uck\\' or \\'ugg\\' — like he couldn’t believe the arrogance and crudeness of this man who was the nominee of the political party that he believed in,\" she said of her father, who was previously friendly with President Dwight D. Eisenhower.\\n  \"Then he said, \\'He’s not as smart as we thought he was,\\' and walked out of the room. What would my dad think of Donald Trump today? I think he’d cringe,\" she continued.\\n  Never miss a story — sign up for PEOPLE\\'s free daily newsletter to stay up-to-date on the best of what PEOPLE has to offer\\u200b\\u200b, from celebrity news to compelling human interest stories.\\n  Palmer\\'s daughter added at the time that her dad would join Trump for charity fundraisers and events at his golf courses, but once he made the jump to politics, Palmer\\'s opinion of him changed.\\n  \"My dad had no patience for people who demean other people in public,\" she said at the time. \"He had no patience for people who are dishonest and cheat. My dad was disciplined. He wanted to be a good role model. He was appalled by Trump’s lack of civility and what he began to see as Trump’s lack of character.\"\\n  Elsewhere in his speech on Friday, Trump ramped up his rhetoric against Democratic presidential nominee Kamala Harris. Trump senior adviser Jason Miller told reporters before the speech that Trump planned to preview his closing argument against Harris and \"start to get into that framing,\" the AP reported.\\n  \"You have to tell Kamala Harris that you’ve had enough, that you just can’t take it anymore, we can’t stand you anymore, you’re a s--- vice president,\" Trump said to cheers, per AP. \"The worst. You’re the worst vice president. Kamala, you’re fired. Get the hell out of here.\"\\n',\n",
              " 'Just poll with it: Stars including Gwyneth Paltrow, James Taylor, Kevin Bacon and more have shared snapshots after casting their ballots, to encourage others to get out and vote Alexandra Schonfeld is a features writer at PEOPLE. She has been working at PEOPLE since April 2022. Her work previously appeared in Newsweek. Gwyneth Paltrow/Instagram;Michelle Pfeiffer/Instagram;James Taylor/X  Voting for the 2024 presidential election is officially underway.\\n  And though Election Day is not until Nov. 5, as Kevin Bacon pointed out when he danced to cast his mail-in ballot, \"the election doesn’t start on Nov 5th; that’s when it ends.\"\\n  In 47 states plus the District of Columbia, Guam, Puerto Rico, and the Virgin Islands, voters can cast their votes early and in person, according to the National Conference of State Legislatures. Though Alabama, Mississippi and New Hampshire do not offer early in-person voting, options to send in absentee ballots might still be available.\\n  In addition to absentee voting, which is available in most states for those who won\\'t be able to vote in-person on election day, some states also offer a vote-by-mail option for those who can\\'t or do not want to vote in person. (Vote411 has a handy guide to all the options available to you.)\\n  For those interested in casting votes before Nov. 5, it\\'s important to look into specific state and county guidelines. Not sure where to vote in person? It\\'s easy to locate using this tool. \\n  Read on to see which celebrities are taking advantage of early voting — and sharing selfies with their \"I Voted!\" sticker to encourage others to do the same.\\n Michelle Pfeiffer/Instagram\\xa0  Michelle Pfeiffer donned a statement cap that read, \"Please Vote.\" In the caption, she continued where she left off: \"...and #vote early!\"\\n Brooklyn Decker/Instagram  Brooklyn Decker and her husband of 15 years, Andy Roddick, headed out to vote early in North Carolina. With \"I Voted\" stickers stuck to their cheeks, Decker rallied North Carolina voters to cast their ballots.\\n  Meghan Trainor collaborated with her husband Daryl Sabara and close friend Chris Olsen for a \"cheeky\" tune encouraging fans to vote.\\n Gwyneth Paltrow/Instagram  As early voting kicked off around the country, the Goop founder showed off her \"I Voted\" sticker in a selfie shared to her Instagram Story.\\n \\xa0Lizzo/Instagram  Wearing a Harris-Walz cap and \"It\\'s About Madam Time\" t-shirt — a nod to her similarly-titled song — Lizzo shared that she had cast her vote in a post to Instagram on Oct. 14.\\n  Yung Gravy returned to his alma mater, the University of Wisconsin, to lead students students in a march to cast their votes at the Memorial Union, Democratic Party of Wisconsin chair Ben Wikler (pictured right) shared on X.\\n Kevin Bacon/X  In a video shared to X seemingly shot on the streets of New York City, Kevin Bacon is seen dancing to the mailbox to cast his vote.\\n  \"The election doesn’t start on Nov 5th; that’s when it ends. Vote early!,\" the Footloose actor noted.\\n Ben Schwartz/X  Ben Schwartz shared a photo of his voting sticker on his forehead along with the message, \"This is an awfully important election. Try not to put off voting until the last minute. Get out there and vote. Your voice matters.\"\\n James Taylor/X  Along with a photo posing alongside his wife and one of his sons pointing to their stickers after voting early, Taylor wrote a message in five parts shared to X.\\n  \"This is a really important election - they all are, but this one especially so with so much at stake,\" he wrote in part. \"Can you feel it, America? Can you feel what it is we need to do? How important it is right now? I sure do.\"\\n Kat Dennings/Instagram  Kat Dennings kept it simple with her voting selfie, just sharing a close up image of the sticker.\\n Pauline Chalamet/Instagram  While showing her love for poll workers with her choice of hat, Pauline Chalamet shared that she had made a trip to her local mailbox to cast her ballot from Europe.\\n  \"IT’S THE FINAL COUNTDOWN..! time to mail in our ballots!,\" the Sex Lives of College Girls actress wrote on Instagram. \"and a MAAAAJOR shoutout and THANK YOU to all the POLL WORKERS across the USA who are making it possible for ALLLL US citizens to exercise their right to vote. let’s go.\"\\n Danica Patrick/X  Race car driver Danica Patrick revealed that she cast her first-ever vote in this election, for former President Donald Trump.\\n Michelle Obama/Instagram  Former First Lady Michelle Obama showed off her vote-by-mail ballot and urged people to get out and vote, whether early or on Election Day.\\n',\n",
              " '\"The only sense I could make of it is that Mum wanted a companion for her journey, and she received the very best in Bellini,\" Kerry wrote Kerry Kennedy/x; 2020 Robert F. Kennedy Ripple Of Hope Award Gala/Getty\\xa0  Kerry Kennedy recently revealed her dog was killed in a \"terrifying and violent\" attack in Hyannis Port, Mass., just hours after her mom, Ethel Kennedy, died.\\n  On Oct. 24, Kerry shared on social media that her family dog,\\xa0Bellini, died on Thursday, Oct. 10, the same day Ethel died,\\xa0at age 96, from complications related to a stroke.\\n  In an emotional post shared on X (formerly known as Twitter), Kerry wrote, \"A few hours after my Mum passed, I returned home to Hyannis Port, where Michaela [Kennedy-Cuomo] and I took Bellini for a walk on the beach. Out of nowhere, a neighborhood dog charged, attacked, and killed Bellini.\"\\xa0\\n  \"It was terrifying and violent beyond words. The only sense I could make of it is that Mum wanted a companion for her journey, and she received the very best in Bellini,\" the lawyer added, sharing multiple pics of the pup, who has appeared in many of her social media posts.\\n  Insisting she doesn\\'t hold anything against her neighbor, Kerry wrote, \"As for my neighbor, he was undone by the entire episode. He emailed me every day to express his dismay and offer help. He called me yesterday to say he has sent his beloved dog away, and we both cried on the phone together, having lost our pets.\"\\n  \"Reflecting on the episode, I am heartbroken to have lost my beautiful companion, and I also am grateful to have a neighbor who was kind to me in the aftermath and who, instead of taking the easy stance of defensiveness, denial and blame, took the hard decision for the greater good. I feel sad, but I also know I am blessed,\" she added.\\n Kerry Kennedy/x  Kerry\\'s daughter Michaela, 27 — whom Kerry shares with her ex-husband Andrew Cuomo, 66 — paid tribute to her grandma Ethel and Bellini in an Instagram post on Oct. 17.\\n  \"Grateful and lucky for the lives they lead and the miracle of their welcome home party strobe lights shone on their home, Hyannis Port that night 👼,\" Michaela captioned the post, which included photos of the Northern Lights.\\n  Never miss a story — sign up for\\xa0PEOPLE\\'s free daily newsletter\\xa0to stay up-to-date on the best of what PEOPLE has to offer\\u200b\\u200b, from celebrity news to compelling human interest stories.\\n  On Oct. 10, Robert F. Kennedy Jr. shared a tribute to Ethel, his mother, referencing her wanting to be \"reunited with her many dogs\" in \"the afterlife.\"\\n  \"She was never more enthusiastic about the afterlife than when she considered that she would also be reunited with her many dogs, including 16 Irish setters — all conveniently named \\'Rusty,\\' \" he wrote on X.\\n  Ethel died in Boston \"surrounded by many of her nine surviving children and her friends,\" the politician included in the tribute, adding, \"God gave her 34 grandchildren, 24 great-grandchildren, and the energy to give them all the attention they required. He blessed her with a rich and eventful life.\"\\n  Ethel survived\\xa0many tragedies\\xa0in her 96 years, including the assassination of her husband, Robert F. Kennedy, in 1968, five years after his older brother,\\xa0John F. Kennedy\\'s\\xa0assassination.\\n',\n",
              " '\"Those girls, they were great because they wanted to practice a hundred times,\" the \\'Scandal\\' actress tells PEOPLE of being joined onstage by Amara and Leela Al Drago/Getty; David Paul Morris/Getty  Kamala Harris\\' great-nieces helped calm Kerry Washington\\'s nerves as they made a joint appearance at the Democratic National Convention in Chicago in August.\\n  While speaking exclusively to PEOPLE at the 7th Annual Black Love Summit in Los Angeles on Saturday, Oct. 12, Washington, 47, recalled taking the stage with Harris’ great-nieces, Amara, 8, and Leela, 6, who helped explain how to pronounce their aunt\\'s name.\\xa0\\n  The girls — who regularly dress like their aunt — are the daughters of Meena Harris (who is Kamala\\'s niece) and her husband, Nikolas Ajagu.\\n  Washington — who hosted the evening\\'s events in the lead-up to Harris, 59, accepting the Democratic Party\\'s nomination for president on Aug. 22 — said of the special moment, \"They\\'re so sweet. Those girls, they were great because they wanted to practice a hundred times. So backstage up until the moment we walked out, we were rehearsing again and again and again.\"\\xa0\\n Saul Loeb/Getty  \"I thought they were wonderful. I thought they were wonderful and I think in many ways helped me to not be nervous,\" the Scandal actress continued, adding, \"I was so focused on being present for them that I didn\\'t have time to think about that insanely big crowd.\"\\n  During the DNC, Washington said, “It’s come to my attention that there are some folks who struggle, or pretend to struggle, with the proper pronunciation of our future president’s name.”\\n  Never miss a story — sign up for\\xa0PEOPLE\\'s free daily newsletter\\xa0to stay up-to-date on the best of what PEOPLE has to offer\\u200b\\u200b, from celebrity news to compelling human interest stories.\\n  The Little Fires Everywhere star added, “So hear me out: Confusion is understandable. Disrespect is not,”\\n  Insisting she would “help everyone get it right,” Washington then said, “Here to help me are some very special guests,” as the two young girls — who introduced themselves as Amara and “her little sister” Leela — joined her on the stage at Chicago\\'s United Artists Convention Center.\\n Kevin Dietsch/Getty  Amara said the best way to say the first part of Harris\\' name was to say “comma, like a comma in a sentence,” as Leela explained how the second half was said like \"luh,\" comparing it to singing a song.\\n  “Put it together and it\\'s one, two, three...” Washington said while kneeling to be the same height as the sisters.\\xa0The girls and Washington then shouted in unison, “Kamala!” before getting the audience involved; each side shouting half of the name.\\n  After multiple “Comma-Luh” chants around the room, Washington then added, “For president!”\\n',\n",
              " '\\'New York\\' magazine reporter Olivia Nuzzi covered RFK Jr.\\'s campaign before being put on leave in September 2024 for her alleged relationship with the politician Paul Morigi/Getty Images; Michael M. Santiago/Getty Images  New York magazine reporter Olivia Nuzzi had a large following in the journalism sphere but gained national attention when her alleged \"personal relationship\" with former presidential candidate Robert F. Kennedy Jr. came to light.\\n  The magazine\\'s Washington correspondent, who is 31, was placed on leave in September 2024 after she told the publication\\'s editors of her \"personal relationship with a former subject relevant to the 2024 campaign,\" per a press release. A person with direct knowledge of the situation reportedly told CNN that the subject was Kennedy, 70, who dropped out of the presidential campaign in August and offered his endorsement for former President Donald Trump.\\n  “Earlier this year, the nature of some communication between myself and a former reporting subject turned personal,\" Nuzzi said in a statement to PEOPLE. \"During that time, I did not directly report on the subject nor use them as a source.\"\\n  Meanwhile, a representative for Kennedy, who is married to actress Cheryl Hines, told CNN that the politician had only met Nuzzi once for an article, her November 2023 story, “The Mind-Bending Politics of RFK Jr.’s Spoiler Campaign.”\\n  “Mr. Kennedy only met Olivia Nuzzi once in his life for an interview she requested, which yielded a hit piece,” the representative said\\n  So who is Olivia Nuzzi? Here\\'s everything to know about the journalist who allegedly had a relationship with Kennedy.\\n Randy Shropshire/Getty Images for Vox Media  Nuzzi was born on Jan. 6, 1993, in New York City and grew up in Middletown Township, N.J. She graduated from Middletown High School South, per Two River Times, and attended Fordham University after.\\n  However, Nuzzi dropped out of Fordham after she got a full time offer to write for The Daily Beast in May 2014.\\n Alexander Tamargo/Getty Images for Vox Media)  When she was 20 years old, Nuzzi interned for former New York Rep. Anthony Weiner\\'s N.Y.C. mayoral campaign. While she was there, she was hired as a staff writer for NSFWcorp where she wrote about her experiences working with Weiner in a July 2013 blog post.\\n  In the post, she wrote that he called her \"Monica\" and alleged that his campaign manager had quit after he lied to her, just one in a \"series of staffers who have fled the campaign.\"\\n Olivia Nuzzi/Instagram  The journalist grew her career after she was hired by The Daily Beast in 2014 where she covered the presidential campaigns of Rand Paul and Chris Christie, as well as Trump\\'s ascent into politics. In 2016, Politico named her one of the \"16 Breakout Media Stars\" and in 2018, Forbes included her on their \"30 Under 30\" list.\\n  In February 2017, she was hired as a Washington correspondent for New York magazine, where she worked leading up to her being placed \"on leave\" in September 2024. She\\'s also written for outlets like GQ, Esquire and The Washington Post.\\n  At New York, Nuzzi covered politics, writing about the candidates in the 2024 presidential election. In addition to her November 2023 profile of Kennedy, Nuzzi also wrote other features, including a look into Trump\\'s personal life.\\n Olivia Nuzzi/Instagram  In July 2024, Nuzzi launched a new series in collaboration with Bloomberg called Working Capital with Olivia Nuzzi. Airing on Bloomberg Television and on Bloomberg Originals platforms, the series followed Nuzzi as she interviewed politicians and business leaders to see their humanity.\\n  Nuzzi spoke with New Hampshire Gov. Chris Sununu, Rep. Ilhan Omar, New York Mayor Eric Adams and billionaire entrepreneur Mark Cuban, among others.\\n Tasos Katopodis/Getty Images for CBS News  In 2022, Nuzzi became engaged to Politico\\'s\\xa0chief Washington correspondent Ryan Lizza. Lizza, 50, first gained fame as a journalist for The New Yorker, whose interview with then-White House communications director Anthony Scaramucci allegedly led to his removal in 2017.\\n  However, later that year, Lizza was accused of sexual misconduct in the wake of the Me Too movement. He was fired from The New Yorker after an internal review, per The New York Times, though other media organizations declined to terminate or bar him from employment after their own investigations.\\n  He was previously married for over 10 years before divorcing in 2015 and shares two children with his ex-wife.\\n  Following Nuzzi\\'s alleged relationship with Kennedy, Lizza wrote in his Politico newsletter that he would no longer be covering anything related to Kennedy, calling Nuzzi his \"ex-fiancée.\"\\n  \"Because of my connection to this story through my ex-fiancée, my editors and I have agreed that I won\\'t be involved in any coverage of Kennedy in Playbook or elsewhere at POLITICO,\" he wrote at the end of his newsletter.\\n  Days later, Nuzzi claimed that Lizza \"explicitly threatened to make public personal information about me to destroy my life, career, and reputation\" in a court filing, according to CNN.\\n  However, in court documents filed in October 2024 that were obtained by CNN and other outlets, Lizza denied Nuzzi\\'s claims, alleging that his ex-fiancé \"had been cheating on me with a married man for almost a year.\"\\n  He went on to claim that Nuzzi told him Kennedy wanted to \"control,\" \"possess\" and \"impregnate\" her, with Nuzzi reportedly exhibiting \"catastrophically reckless behavior\" during this time.\\n  A representative for Kennedy told Wall Street Journal that what Lizza said in the filing “is not true.”\\n Randy Shropshire/Getty; Michael M. Santiago/Getty  In September 2024, New York magazine announced it was putting Nuzzi on leave after discovering she had an alleged relationship with ”a\\xa0former subject relevant to the 2024 campaign while she was reporting on the campaign.”\\n  \"Had the magazine been aware of this relationship, she would not have continued to cover the presidential campaign,\" the magazine\\'s statement read. They added that an internal review \"found no inaccuracies nor evidence of bias\" in her published work.\\n  A source told CNN that the alleged relationship was \"digital\" in nature rather than physical. In her own statement, Nuzzi further elaborated on the details without naming Kennedy.\\n  “The relationship was never physical but should have been disclosed to prevent the appearance of a conflict,\" she said. \"I deeply regret not doing so immediately and apologize to those I’ve disappointed, especially my colleagues at New York.”\\n  PEOPLE reached out to Kennedy, who has yet to respond to a text and call for comment. PEOPLE also reached out to Hines for comment.\\n',\n",
              " '“Let’s not be distracted by his choice of words. The reality is actually very harmful to women and families in America,\" responded Vice President Kamala Harris Bill Pugliano/Getty  Donald Trump declared himself the “father of IVF” during a Fox News town hall in Cumming, Ga., on Tuesday, Oct. 15.\\n  The former president, 78, told The Faulkner Focus host Harris Faulkner that\\xa0he wanted \"to talk about IVF\" during the town hall. “We really are the party for IVF,” Trump said, per CNN. “We want fertilization, and it’s all the way, and the Democrats tried to attack us on it, and we’re out there on IVF, even more than them. So, we’re totally in favor.”\\n  During the same town hall, Trump said that he previously asked Alabama Sen. Katie Britt to \"explain IVF very quickly,\" which allowed him to understand that he was in favor of the practice.\\n  Trump’s comments follow the jeopardization of fertility treatment after the Supreme Court’s 2022 decision to overturn Roe v. Wade. (In vitro fertilization “is the most effective type of fertility treatment that involves the handling of eggs or embryos and sperm,” per the Mayo Clinic.)\\n Spencer Platt/Getty  IVF has become a prominent issue in the 2024 presidential race, triggered by the Alabama Supreme Court’s February 2024 ruling that frozen embryos will now legally be considered children.\\n  Since then, in both June and September, congressional Republicans voted to block bills that would protect the legality of IVF and insurance coverage for the fertility treatment, the latter of which Trump has stated he would support, per the New York Times.\\n Michael M. Santiago/Getty  “Donald Trump called himself ‘the father of IVF.’ What is he talking about?” Vice President Kamala Harris reacted in a Tuesday X post (formerly known as Twitter). “His abortion bans have already jeopardized access to it in states across the country — and his own platform could end IVF altogether.”\\n  After her initial reaction, Harris, 59, told reporters on Wednesday, Oct. 16, that Trump’s statement was “quite bizarre,” per CBS News. “What a man is taking responsibility for the fact that one in three women in America lives in a Trump abortion ban state,” she said.\\n  “What he should take responsibility for is that couples who are praying, hoping and working toward growing a family have been so disappointed and harmed by the fact that IVF treatments have now been put at risk.”\\n  “Let’s not be distracted by his choice of words,” she said, adding, “The reality is actually very harmful to women and families in America.”\\n SAUL LOEB/AFP via Getty\\xa0  Never miss a story — sign up for PEOPLE\\'s free daily newsletter to stay up-to-date on the best of what PEOPLE has to offer\\u200b\\u200b, from celebrity news to compelling human interest stories.\\xa0\\n  One reporter followed up by asking the vice president if Trump should be administered a cognitive test.\\xa0\\n  “I’m going to say what I’ve said publicly and what I’ve said many times based on my observations, Donald Trump is increasingly unstable, and as has been said by people who have worked closely with him even when he was president,\" she said. \"He’s unfit to be president of the United States.”\\n',\n",
              " 'During a traffic-jamming stop in the Asheville suburbs, Trump touted that he\\'s been working hard and showed off an honorary \"French Fry Certification pin\" for his recent McDonald\\'s photo op Abigail Adams is a Human Interest Writer and Reporter for PEOPLE. She has been working in journalism for seven years. JIM WATSON/AFP via Getty  Donald Trump said he \"didn\\'t have to be\" on the campaign trail touring hurricane-battered portions of North Carolina while speaking in one of the state\\'s hardest-hit areas nearly one month after disaster struck.\\n  The former president created traffic jams and closed highways as he stopped through portions of North Carolina that were devastated by Hurricane Helene just two weeks before the Nov. 5 election, according to Blue Ridge Public Radio.\\n  President Joe Biden has yet to visit the area on the ground and instead did an aerial tour, noting in comments on Sept. 30 that he believed it would be \"disruptive\" to interfere with recovery efforts, according to Newsweek.\\n  During a press conference in Swannanoa, one of the ravaged towns in western North Carolina, Trump, 78, seemingly suggested he \"didn’t have to be\" there to \"work\" that day, and that he \"could have been on a beautiful beach\" instead.\\n  The Republican presidential nominee also claimed that it has been a while since he had a day off, per a clip shared by NewsNation. \"I have no days off,\" he told reporters, \"so I’ll be going into the 60s or 70s in terms of no days off.\"\\n  Trump then added,\\xa0\"I don’t want a day off. We have to win. We have to win, we have to save our country. We have to just make America great again. That’s the message.\"\\n  His comments about maintaining a busy schedule come on the heels of criticism that he has avoided tough news interviews, which a Trump adviser allegedly told one media outlet was because he is \"exhausted,\" according to Politico.\\n JIM WATSON/AFP via Getty  U.S. Rep. Chuck Edwards was one of multiple elected officials on hand for Trump’s press conference in Swannanoa, where Edwards bestowed Trump with a \"French Fry Certification pin\" to honor Trump’s recent staged appearance at a McDonald\\'s in Pennsylvania.\\n  \"We\\'ve seen other folks do a flyover,\" said Edwards, who owns multiple McDonalds franchises, according to BPR. \"It is so heartening to see you here, with some dust on your shoes, actually seeing what\\'s taking place.\"\\n  Never miss a story — sign up for PEOPLE\\'s free daily newsletter to stay up-to-date on the best of what PEOPLE has to offer, from celebrity news to compelling human interest stories.\\n  Also at Monday’s press conference, Trump continued to perpetuate false claims about FEMA and the recovery efforts following Helene, including that FEMA’s response was hindered because its budget had gone to people entering the country illegally.\\xa0\\n  \"You didn’t get the proper support from this administration — they spent their money on illegal migrants,\" Trump said, per The Charlotte Observer.\\n  This claim was specifically debunked by many lawmakers nationwide, including Edwards himself. In an Oct. 8 news release titled \"Debunking Helene Response Myths,\" the Republican congressman said, \"FEMA has NOT diverted disaster response funding to the border or foreign aid.\"\\n  \"Disaster response efforts and individual assistance are funded through the Disaster Relief Fund, which is a dedicated fund for disaster efforts,\" Edwards explained in the release.\\n  To learn more about how to help with relief, recovery and rebuilding efforts from Hurricane Helene,\\xa0click here.\\n',\n",
              " '“You know, it seems like a good use of money basically,” Musk said at an America PAC event JIM WATSON/AFP via Getty  Elon Musk is giving away money to Donald Trump supporters every day until Election Day on Nov. 5.\\n  Musk, 53, announced the daily giveaway on Saturday, Oct. 19, at an America PAC event in Harrisburg, Penn., where he explained he plans to randomly award $1 million every day to a swing state supporter of the Republican presidential candidate.\\n  “I have a surprise for you,\" Musk told the crowd before bringing out a giant check. \"We are going to be awarding $1 million to people who have signed the petition — every day, from now until the election.”\\n  During the event, the Tesla CEO handed attendee John Dreher a check for $1 million. Musk called the stunt \"kind of fun,\" adding that \"it seems like a good use of money basically.\"\\n Michael Swensen/Getty  To qualify, registered voters must sign a petition for Musk\\'s \"pro-Trump political action committee,\" as per CNBC. People wishing to sign the petition on the America PAC website \"must be registered voters of Arizona, Georgia, Michigan, Nevada, North Carolina, Pennsylvania, or Wisconsin.\"\\n  On Sunday, Oct. 20, the SpaceX founder handed another $1 million giant check out to Kristine Fishell during a town hall at Pittsburgh.\\n  According to Reuters, Musk has donated $75 million to America PAC in support of Trump, 78.\\n  Musk has also been active in encouraging Pennsylvanian residents to register to vote, speaking at events throughout the state. “How Pennsylvania goes I think is how the election goes,” Musk said, per CNBC.\\n  Musk\\'s giveaway might violate federal election laws that state that someone who “pays or offers to pay or accepts payment either for registration to vote or for voting shall be fined not more than $10,000 or imprisoned not more than five years, or both.”\\n Anna Moneymaker/Getty  Never miss a story — sign up for PEOPLE\\'s free daily newsletter to stay up-to-date on the best of what PEOPLE has to offer\\u200b\\u200b, from celebrity news to compelling human interest stories.\\xa0\\n  Josh Shapiro, the governor of Pennsylvania, also weighed in on Musk\\'s proposed giveaway. \"I think it’s something that law enforcement should take a look at,\" Shapiro said during an appearance on NBC\\'s Meet the Press on Oct. 20.\\n  \"I’m not the attorney general anymore of Pennsylvania, I’m the governor, but it does raise serious questions,\" Shapiro added.\\n  The X (formerly known as Twitter) owner hadn\\'t been a Trump supporter in the past. In July 2022, he had said that Trump would be too old to run for president. \"Trump would be 82 at end of term, which is too old to be chief executive of anything,\"\\xa0he posted on X.\\n  However, in July, he said he was all in on Trump following the assassination attempt at a rally in Butler, Penn. \"I fully endorse President Trump and hope for his rapid recovery,\" the CEO said at the time.\\n',\n",
              " '\"Oh, you guys are at the wrong rally,\" Harris teased after being heckled at her Wisconsin campaign stop on Thursday CRAIG LASSIG/AFP via Getty\\xa0  Kamala Harris knows how to keep the show going.\\n  The Democratic presidential nominee was discussed her stance on abortion and the overturning of Roe v. Wade at a campaign rally in La Crosse, Wis., on Thursday, Oct. 17, when hecklers began to interrupt her.\\n  \"We will move forward because ours is a fight for the\\xa0future, and it is a fight for freedom — for freedom. Like the fundamental freedom of a woman to make decisions about her own\\xa0body and not have her government tell her what to do,\" she said as attendees, whistled, and cheered loudly.\\n Andy Manis/Getty  \"And again, we’re not going to be gaslighted on this. We remember Donald Trump hand-selected three members of the United States Supreme Court with the intention that they would undo the protections of Roe v. Wade, and they did as he intended,\" continued Harris, before some crowd members shouted out, \"That\\'s a lie.\"\\n  As the audience turn toward the direction of the hecklers, Harris paused and said, \"Oh, you guys are at the wrong rally,\" before cracking a smile.\\n  As the crowd cheered and Harris laughed, she added, \"No, I think you meant to go to the smaller one down the street.\" Watch the clip below:\\n  Campaign rallies were previously a topic of discussion during Harris\\' and Trump\\'s sole presidential debate on Tuesday, Sept. 10.\\n  \"I\\'m going to invite you to attend one of Donald Trump\\'s rallies because it\\'s a really interesting thing to watch. You will see during the course of his rallies he talks about fictional characters like Hannibal Lecter. He will talk about windmills cause cancer. And what you will also notice is that people start leaving his rallies early out of exhaustion and boredom,\" the vice president said.\\n  Trump responded to Harris and shared his own opinion about his rallies.\\n Andy Manis/Getty  \"She said people start leaving. People don\\'t go to her rallies. There\\'s no reason to go. And the people that do go, she\\'s busing them in and paying them to be there,\" he said without evidence.\\n  Never miss a story — sign up for\\xa0PEOPLE\\'s free daily newsletter\\xa0to stay up-to-date on the best of what PEOPLE has to offer\\u200b\\u200b, from celebrity news to compelling human interest stories.\\n  \"And then showing them in a different light. So, she can\\'t talk about that,\" the former president continued. \"People don\\'t leave my rallies. We have the biggest rallies, the most incredible rallies in the history of politics.\"\\n',\n",
              " 'The Tesla CEO and Russian president have allegedly been having private conversations since 2022, with a report claiming that Putin even asked Musk for a favor involving international relations ALEXEY DRUZHININ/AFP via Getty; Chesnot/Getty  Elon Musk has reportedly been in close contact with the Russian President Vladimir Putin over the past two years.\\n  According to The Wall Street Journal, the X CEO, 53, and Putin, 72, have spoken about topics including \"business and geopolitical tensions,\" along with personal topics —\\xa0the former causing national security concerns.\\n  One of Musk and Putin\\'s alleged conversations involved the Russian leader asking Musk to refrain from activating the internet service over Taiwan on his Starlink satellite as a favor to Chinese President Xi Jinping in late 2023. Russia\\'s alleged request was made as a way to benefit trade relationships with China, the report says.\\n  Musk\\'s Starlink satellite network is operated by SpaceX, which is the main rocket launcher for NASA and the Pentagon. This connection gives him access to classified government information, which an insider told The Wall Street Journal causes an issue since the U.S. relies on Musk\\'s work.\\n  Starlink previously shipped satellite internet terminals to Ukraine when Russia attacked in February 2022, and Musk showed support for the country by posting on X. However, his alliances appeared to shift in September 2023 when Musk believed that Ukraine\\'s use of the Starlink terminals in Russia-occupied Crimea could result in a nuclear war, raising concerns within the Pentagon.\\n Kevin Dietsch/Getty\\xa0  Russian disinformation has infiltrated X this election season, allegedly pushing voters toward Republican candidate Donald Trump, who bragged about his relationship with Putin amid the Ukraine invasion.\\n  The Kremlin reportedly used social media accounts and coded messages to quietly persuade voters away from supporting Ukraine and toward supporting Russia instead. That further complicates the Musk-Putin connections, as the presidential election is less than two weeks away.\\n  Never miss a story — sign up for PEOPLE\\'s free daily newsletter to stay up-to-date on the best of what PEOPLE has to offer\\u200b\\u200b, from celebrity news to compelling human interest stories.\\xa0\\n  The billionaire, who is the richest person in the world, has played an increasingly partisan role in the 2024 election, becoming an outspoken mega-donor for Trump, 78, after saying on X in March 2024 that he wouldn\\'t contribute to \"either candidate for US President.\"\\n  According to Reuters, Musk spent $44 million in the first two weeks of October, donating to his pro-Trump PAC.\\n Anna Moneymaker/Getty  On Saturday, Oct. 19, Musk announced he was giving away $1 million a day to Trump supporters every day up until the election.\\n  Those interested in winning need to sign a petition for Musk\\'s \"pro-Trump political action committee\" and must be registered to vote in swing states Arizona, Georgia, Michigan, Nevada, North Carolina, Pennsylvania, or Wisconsin.\\n  Questions of the legality surrounding Musk\\'s giveaway have risen since his announcement, with the Justice Department issuing him a warning.\\n',\n",
              " 'The couple, who were seen publicly embracing and sharing a kiss on Oct. 17, have been under scrutiny following allegations that Kennedy and a political reporter got personal during his presidential campaign GWR/STAR MAX/IPx  Cheryl Hines and Robert F. Kennedy Jr. cozied up in front of cameras this week, as allegations fly about how Kennedy allegedly developed a \"personal relationship\" with a political journalist.\\n  The pair, who married in 2014, were seen embracing, laughing and sharing a kiss at the Alfred E. Smith Memorial Foundation Dinner on Thursday. In a video posted to X, Hines, 59, was seen stroking her husband’s face with her finger.\\n  Other attendees included former President Donald Trump and former first lady Melania Trump, former New York City Mayor Michael Bloomberg and current N.Y.C. Mayor Eric Adams, who was indicted on federal criminal charges in September.\\n  Just under a month ago, Kennedy, 70, and Hines\\' relationship was spotlighted when allegations emerged that the former presidential candidate and New York magazine reporter Olivia Nuzzi had grown close during the campaign and exchanged lewd texts.\\n  The magazine published a statement about Nuzzi, 31, being put on leave on Sept. 19, noting that she \"acknowledged\" that she \"engaged in a personal relationship with a former subject relevant to the 2024 campaign while she was reporting on the campaign.\"\\n  Weeks after the controversy surfaced, a source close to Hines told PEOPLE that she and Kennedy \"barely spoke\" in the two weeks after the news broke. Another source claimed in early October that the Curb Your Enthusiasm actress \"has been talking about filing for divorce, but he\\'s begging her not to file.\"\\n Chip Somodevilla/Getty  Recently the couple have displayed a united front in public appearances.\\n  Two days after the death of Kennedy\\'s mother, Ethel, on Oct. 10, Kennedy and Hines were seen holding hands around the Kennedy family\\'s compound in Hyannis Port.\\n  Hines also commented on Kennedy\\'s social media tribute to his mother, writing, \"This is beautiful. Your mother was very proud of you. 🤍.\"\\n  Never miss a story — sign up for PEOPLE\\'s free daily newsletter to stay up-to-date on the best of what PEOPLE has to offer.\\n  At Ethel\\'s memorial service in Washington, D.C., on Oct. 16 — which was attended by Presidents Bill Clinton, Barack Obama and Joe Biden — the couple arrived together hand in hand, with Hines appearing to support her husband.\\n',\n",
              " 'Rep. Andy Harris, chair of the House Freedom Caucus, proposed that the swing state\\'s Republican-controlled legislature could hand their 16 Electoral College votes to Trump regardless of the election results Bill Clark/CQ-Roll Call, Inc via Getty; Emily Elconin/Getty  Maryland Rep. Andy Harris has proposed that North Carolina deviate from the democratic voting process in the 2024 election by preemptively allocating the state’s presidential electors to former President Donald Trump, according to Politico.\\n  At the Talbot County Lincoln Reagan Dinner on Thursday, Oct. 24, the chair of the far-right House Freedom Caucus, 67, asserted that it \"makes a lot of sense\" for North Carolina\\'s Republican-controlled legislature to directly decide the winner, given the potential barriers to voting that some areas are facing amid the Hurricane Helene recovery efforts.\\n  \"You statistically can go and say, \\'Look, you got disenfranchised in 25 counties. You know what that vote probably would have been,\\' \" the congressman said in conversation with MAGA operative Ivan Raiklin, who has endorsed a similar plan to ensure a Trump victory in North Carolina.\\n  Rep. Harris continued by saying that the devastation from Hurricane Helene \"would be — if I were in the legislature — enough to go, \\'Yeah, we have to convene the Legislature. We can’t disenfranchise the voters.\\' \"\\n Bill Clark/CQ-Roll Call, Inc via Getty  While Rep. Harris acknowledged that it would appear to be \"just a power play\" if other states started allocating Electoral College votes before ballots had been counted, he argued that in North Carolina, \"it’s legitimate.\"\\n  \"There are a lot of people that aren’t going to get to vote and it may make the difference in that state,\" he said.\\n  In response to his comments when he was asked to elaborate, Harris issued a statement to Politico, writing, “As I’ve repeatedly said, every legal vote should be counted. I would hope everyone could agree that legal American voters whose lives were devastated by the recent storms should not be disenfranchised in the upcoming voting process.”\\n  Raiklin, 46, posted his exchange with Harris on Thursday night on X, writing, \"Breaking! @freedomcaucus chairman @RepAndyHarrisMD at Talbot County Lincoln Reagan Dinner agrees that NC Speaker of the House @NCHouseSpeaker and the State Legislature should convene a joint session to allocate the electors on Nov 5 directly to ensure the franchise of 25 counties is restored.\"\\n  Raiklin himself has raised concerns by positioning himself as a potential \"secretary of retribution\" in a future Trump administration. He has reportedly compiled a \"Deep State Target List\" of 350 individuals he considers enemies, and has promised to appoint \"Constitutional sheriffs\" to go after those enemies if Trump is elected and offer them \"the maximum punishment for treason.\" (The Department of Justice says that treason can be punishable by death.)\\n  Raiklin was the man who shared a two-page memo on X (then called Twitter) in December 2020 called \"Operation Pence Card,\" which detailed a plan to have Vice President Mike Pence reject the certification of the 2020 election results. Trump retweeted the memo, and after the idea grew in popularity, Pence ultimately refused to participate.\\n  Never miss a story — sign up for PEOPLE\\'s free daily newsletter to stay up-to-date on the best of what PEOPLE has to offer.\\n  North Carolinians will play a key role in deciding the next president. The state is one of seven battlegrounds identified in the 2024 election, carrying a large prize of 16 Electoral College votes for the winner. Polls suggest that Kamala Harris has a chance at flipping the state blue, with Trump only an inch ahead in most surveys.\\n',\n",
              " '\"What\\'s wrong, tough guy? Did someone grab you by the p----?\" Bautista sarcastically addressed Trump in a scathing video on \\'Jimmy Kimmel Live!\\' John Nacion/Getty; Steven Hirsch-Pool/Getty\\xa0  Dave Bautista is ripping into Donald Trump\\'s masculinity.\\n  The actor and retired wrestler sent out a video message to men everywhere that aired on Jimmy Kimmel Live! Wednesday, Oct. 16, urging them to consider how \"tough\" the former president really is ahead of his attempt at a second term this November.\\n  \"Fellas, we gotta talk. A lot of men seem to think that Donald Trump is some kinda tough guy. He\\'s not,\" began Bautista, 55, in the 2-minute clip, speaking from inside a gym as he participated in a variety of strength and weight-lifting exercises.\\n  The Guardians of the Galaxy star went on to say Trump, 78, \"wears more makeup than Dolly Parton\" and added, \"He whines like a baby. The guy is afraid of birds.\"\\n  Added the actor, \"Donald Trump had his daddy pay a doctor to say his little feet hurt so he could dodge the draft. Look at that gut. It\\'s like a garbage bag full of buttermilk.\" Plus, Trump is \"barely strong enough to hold an umbrella,\" he said alongside a clip of the Trump in a rainstorm. \"He\\'s got jugs. Big ones. Like Dolly Parton.\"\\n  Never miss a story — sign up for\\xa0PEOPLE\\'s free daily newsletter\\xa0to stay up-to-date on the best of what PEOPLE has to offer\\u200b\\u200b, from celebrity news to compelling human-interest stories.\\n  \"This November, let\\'s stop kidding ourselves,\" Bautista continued. \"Donald Trump is afraid — of rain, of dogs, of windmills, of Meryl f---ing Streep and being laughed at. Mostly, he\\'s terrified that real, red-blooded American men will find out that he\\'s a weak, tubby toddler.\"\\n  Concluded the actor, referencing one of the former president\\'s controversial quotes, \"What\\'s wrong, tough guy? Did someone grab you by the p----? Whiny little bitch.\"\\n  PEOPLE is out to a representative for Trump for comment.\\n  The PEOPLE Puzzler crossword is here! How quickly can you solve it? Play now!\\n  Bautista has been outspoken about his support for social-justice reform and his criticism of Trump over the years.\\n  \"This election is too important to just sit by and not vote — you gotta get out. You gotta vote,\" he said in a Sept. 29 video that chronicled his early-voting experience in Tampa, Florida.\\n  \"Made my freedom heard,\" Bautista wrote in the caption of his post. \"Voting early took me 20 mins — no excuses. Freedom isn’t something we just talk about; it’s something we act on.\"\\n  \"Do your part, get out there, and vote. Your voice matters, and this election’s too important to sit out.\\xa0#VoteEarly\\xa0#YourVoiceMatters\\xa0#LoveAmericaAgain,\" he concluded.\\n',\n",
              " 'The former president falsely accused President Joe Biden of directing federal disaster funds to migrants rather than those in need during Hurricane Helene AP Photo/Alex Brandon  Donald Trump is threatening to withhold fire-fighting aid from California.\\n  The former president, 78, addressed rally-goers in Coachella, Calif., on Saturday, Oct. 12, stating that if elected, he would deny federal disaster aid to the state unless Governor Gavin Newsom complies with his demands.\\n  “We’re going to take care of our farmers, we’re going to take care of your water situation and we’ll force it down his throat and we’ll say, ‘Gavin if you don’t do it we’re not giving you any of that fire money that we send you all the time for all the forest fires that you have’,” Trump declared at the rally, according to The Independent and clips of the event posted on social media.\\n  He added, “It’s not hard to do.”\\n  This remark follows Trump’s recent false claim that President Joe Biden directed federal disaster funds to migrants rather than to North Carolina and Georgia during Hurricane Helene.\\n  “It’s profound and it is the height of irresponsibility, and frankly callousness,” Vice President Kamala Harris said on The View earlier this month when asked about Trump’s claims regarding Biden, 81.\\xa0\\n  “Lives are literally at stake right now,\" Harris, 59, continued. \"I fear that he really lacks empathy on a very basic level, to care about the suffering of other people and then to understand the role of a leader is not to beat people down — it’s to lift people up, especially in a time of crisis.”\\n SAUL LOEB / AFP via Getty; Grant Baldwin/Getty  Trump’s comments have faced increased backlash following bombshell claims from former officials in his White House staff, who said that during his time in office, Trump sought to withhold federal disaster aid from states that did not lean Republican.\\n  Speaking to Politico’s E&E News, Mark Harvey, a senior director on Trump\\'s National Security Council staff, and Olivia Troye, the former homeland security adviser to Mike Pence, alleged that there are at least three occasions where Trump played politics and deliberately delayed disaster relief as president.\\n  In one example — during the devastating California wildfires in 2018 — Harvey alleged that Trump initially refused to approve disaster aid because California is a Democratic state, only changing his mind after staff pointed out that Orange County, where the fire was spreading, largely supported him. “We looked up how many votes he received in those impacted areas to show him these are people who voted for you,” Harvey claimed, which was corroborated by Troye.\\n Mario Tama/Getty  Troye warned that if Trump wins the 2024 presidential election, he will likely continue to view disaster relief through a political lens. \"It’s not going to be about that American voter out there who isn’t even really paying attention to politics, and their house is gone, and the president of the United States is judging them for how they voted, and they didn’t even vote,” Troye said.\\n  Harvey added, \"There’s no empathy for the survivors. It is all about getting your photo-op, right? Disaster theater to make him look good.\"\\n',\n",
              " 'The former president reportedly lashed out about donors not appreciating him at the dinner, according to \\'The New York Times\\' Steven Hirsch-Pool/Getty; David Paul Morris/Bloomberg via Getty  Donald Trump reportedly called Kamala Harris the R-word during a dinner with billionaire donors, according to The New York Times.\\n  Trump, 78, reportedly used the term re------ while hosting a gathering that took place at his Trump Tower penthouse on Sunday, Sept. 29, the outlet said.\\n  Airing grievances about the 2024 presidential race, the Times reported that Trump lashed out about donors not appreciating him.\\n  Former Secretary of Education Betsy DeVos, hedge fund manager Paul Singer and investment banker Warren Stevens were present at the dinner party, according to the outlet.\\n  A representative for Trump did not immediately respond to PEOPLE\\'s request for comment.\\n Win McNamee/Getty\\xa0  Trump\\'s reported use of the r-word comes less than a month before Election Day, when he will go up against Harris, 59, on the presidential ballot.\\n  The former president\\'s recent stops on the campaign trail included a visit to Detroit, where he called the midwestern city a \"mess.\"\\xa0\\n  \"We\\'re a developing nation, too. Just take a look at Detroit,\" he said during a speech for the Detroit Economic Club on Oct. 10.\\n  Days before, Trump told a News Nation reporter that should he be elected president, he would \"remove\" Haitian immigrants from Springfield.\\n  \"It has nothing to do with Haiti or anything else. You have to remove the people, and you have to bring them back to their own country,” Trump said at the time.\\n  Meanwhile, Harris appeared on 60 Minutes on Oct. 7 to speak with Bill Whitaker about the economy, immigration and her time in Washington, D.C., among other topics.\\n  Never miss a story — sign up for PEOPLE\\'s free daily newsletter to stay up-to-date on the best of what PEOPLE has to offer\\u200b\\u200b, from celebrity news to compelling human interest stories.\\xa0\\n  According to CNN, on Sunday, Oct. 13, both candidates will be making stops in battleground states.\\n  Harris will campaign in Greenville, N.C. following a visit in Raleigh the day before. Trump, meanwhile, will be hosting a rally in Prescott Valley, Ariz.\\n Win McNamee/Getty\\xa0  The New York Times\\' polling statistics show that Harris is leading the national average at 49% to Trump\\'s 47% as of Oct. 13.\\n',\n",
              " 'The Washington Post reports that Beyoncé and Tina Knowles, plus country music star Willie Nelson, will appear at Harris\\' Texas rally on Friday, Oct. 25 Slaven Vlasic/Getty Images; Mason Poole/Parkwood Media/Getty Images  Beyoncé is joining Kamala Harris on the campaign trail as the 2024 presidential race nears the finish line, according to a new report from The Washington Post.\\n  The 43-year-old superstar will reportedly appear in her hometown of Houston alongside Harris, 60, on Friday, Oct. 25, after months of suspense over whether she would formally weigh in on the Democratic nominee\\'s candidacy.\\n  According to the Post, which cites people familiar with the planning of the rally, Beyoncé\\'s mother, Tina Knowles, and country music legend Willie Nelson will also make appearances. It\\'s still unclear whether the artists will perform — at a Democratic rally in Detroit earlier this week, Eminem introduced former President Barack Obama, but did not rap.\\n  Beyoncé has previously shown support for Harris by gifting her and second gentleman Doug Emhoff tickets to the Renaissance World Tour in 2023, and by allowing her music to be used by Harris\\' presidential campaign.\\n BRENDAN SMIALOWSKI/AFP via Getty  Beyoncé\\'s appearance will come months after Harris’ first campaign video in July featured her song \"Freedom.”\\n  In the video, Harris\\' narration draws a contrast between herself and former President Donald Trump. \"In this election, we each face a question,\" she says in the ad. \"What kind of country do we want to live in?\"\\n  “There are some people who think we should be a country of chaos. Of fear. Of hate,” Harris continues. “But us? We choose something different. We choose freedom.”\\n  Never miss a story — sign up for PEOPLE\\'s free daily newsletter to stay up-to-date on the best of what PEOPLE has to offer\\u200b\\u200b, from celebrity news to compelling human interest stories.\\xa0\\n  In the ad, Harris says \"freedom\" includes the ability “not just to get by, but to get ahead. The freedom to be safe from gun violence. The freedom to make decisions about your own body.”\\n  “We choose a future where no child lives in poverty. Where we all can afford health care. Where no one is above the law,” she says. “We believe in the promise of America and we are ready to fight for it. Because when we fight, we win. So join us.\"\\n  The ad ends with Beyonce’s lyrics, “I\\'ma keep running cause a winner don’t quit on themselves.”\\n  Beyoncé gave Harris rare permission to incorporate \"Freedom\" into her campaign materials days after she entered the presidential race. Harris has repeatedly played it as a walk-in song on the campaign trail, including at the Democratic National Convention.\\n  Additionally, Beyoncé reportedly shut down Donald Trump’s attempted usage of \"Freedom\" after Steven Cheung, a spokesperson for the former president, shared a video on his own X account of Trump walking off a plane on Aug. 20 set to the track.\\xa0\\n  Rolling Stone reported on Aug. 21 that the Trump campaign did not have permission to use the song and that the singer threatened to send the Republican presidential nominee\\'s campaign a cease-and-desist.\\n  Beyoncé has voiced her support for the Democratic Party on various occasions, including in 2013, when she sang the national anthem at Obama\\'s inauguration. In 2020, she also previously posted a social media clip encouraging voters to support Joe Biden.\\n',\n",
              " 'The memorial service was held at the Cathedral of St. Matthew the Apostle on Oct. 16 Jim Lo Scalzo/EPA/Bloomberg via Getty  The Kennedy family said goodbye to a beloved matriarch.\\n  On Oct. 16, a memorial was held for Ethel Kennedy, at the Cathedral of St. Matthew the Apostle in Washington, D.C. The heartwarming service was attended by family, friends and political figures alike: Several of her children, including Robert F. Kennedy Jr., were present and so were grandchildren and great-grandchildren. Other notable attendees such as President Joe Biden — who delivered the eulogy — Barack Obama, Bill Clinton and Martin Luther King III also paid their respects.\\n  Ethel died on Oct. 10 \"from complications related to a stroke,\" according to a statement from her daughter, Kerry, that was posted on X.\\n  \"She was a devout Catholic and a daily communicant, and we are comforted in knowing she is reunited with the love of her life, our father, Robert F. Kennedy; her children David and Michael; her daughter-in-law Mary; her grandchildren Maeve and Saoirse; and her great-grandchildren Gideon and Josie,\" the statement read. \"Please keep our mother in your hearts and prayers.\"\\n  See all the moving photos from Ethel Kennedy\\'s memorial, below.\\n MANDEL NGAN/AFP via Getty  Kennedy family and friends surround Ethel\\'s casket as it is ushered into the cathedral.\\n Jim Lo Scalzo/EPA/Bloomberg via Getty  Former President Barack Obama is pictured giving Rory Kennedy — the youngest daughter of Ethel and Bobby — a warm embrace during the memorial service, as former President Bill Clinton looked on and President Joe Biden stands beside them.\\n Jim Lo Scalzo/EPA/Bloomberg via Getty  Obama and Clinton sat with President Biden during the ceremony.\\n Chip Somodevilla/Getty  Robert F. Kennedy Jr. arrived with wife Cheryl Hines by his side.\\n Jim Lo Scalzo/EPA/Bloomberg via Getty  Obama also took to the podium and shared some of his fondest memories of Mrs. Kennedy.\\n MANDEL NGAN/AFP via Getty  Former President Bill Clinton paid his respects to the late activist, calling her \"the cat\\'s meow.\"\\n MANDEL NGAN/AFP via Getty  Sting honors Ethel Kennedy with a surprise performance.\\n Jim Lo Scalzo/EPA/Bloomberg via Getty  The trio greet Martin Luther King III, son of MLK Jr., as he heads to his seat at the Cathedral of St. Matthew the Apostle.\\n MANDEL NGAN/AFP via Getty  Martin Luther King III heads to his seat ahead of the service. King, 66, spoke about the tragedies that his family and the Kennedys each faced in 1968.\\n MANDEL NGAN/AFP via Getty\\xa0  Kerry Kennedy, the seventh child of RFK and Ethel Kennedy, also shared some of her fondest memories of her mother. Kerry is now the president of RFK Human Rights, a nonprofit that Ethel founded in her late husband\\'s name.\\n MANDEL NGAN/AFP via Getty\\xa0  Former Massachusetts Rep. Joe Kennedy III, one of Ethel\\'s grandsons, takes the podium to speak about his beloved grandma.\\n MANDEL NGAN/AFP via Getty  Max Kennedy, Ethel and RFK\\'s ninth child, did a reading at the service to honor his mother.\\n MANDEL NGAN/AFP via Getty  Stevie Wonder shared some memories he had with Ethel Kennedy as he performed at the memorial.\\n MANDEL NGAN/AFP via Getty  Rory Kennedy, Ethel and Robert F. Kennedy\\'s last born, also spoke fondly of her late mother, saying, \"Mummy was all I had, but she was more than I could have ever hoped for.\" Rory was born after her father\\'s assassination.\\n MANDEL NGAN/AFP via Getty\\xa0  Kenny Chesney sang \"You Are My Sunshine\" at the beginning of the service, performing in honor of the late matriarch whom he said \"felt like sunshine.\"\\n']"
            ]
          },
          "metadata": {},
          "execution_count": 149
        }
      ]
    },
    {
      "cell_type": "code",
      "execution_count": null,
      "metadata": {
        "cellView": "form",
        "id": "Rypb1tJBdZvt"
      },
      "outputs": [],
      "source": [
        "# @title [Potenitally discontinuted] Ver 2: People Article Link Scraper\n",
        "#with user-agent\n",
        "#try if the other one breaks\n",
        "'''\n",
        "#Mozilla/5.0 (compatible; Googlebot/2.1; +http://www.google.com/bot.html)\n",
        "#reference: https://www.stanventures.com/blog/googlebot-user-agent-string/\n",
        "#Mozilla/5.0 AppleWebKit/537.36 (KHTML, like Gecko; compatible; Googlebot/2.1; +http://www.google.com/bot.html) Chrome/W.X.Y.Z Safari/537.36\n",
        "headers = {\"user-agent\": \"Mozilla/5.0 (compatible; Googlebot/2.1; +http://www.google.com/bot.html)\"}\n",
        "#Mozilla/5.0 AppleWebKit/537.36 (KHTML, like Gecko; compatible; Googlebot/2.1; +http://www.google.com/bot.html) Chrome/W.X.Y.Z Safari/537.36\n",
        "#Mozilla/5.0 (Windows NT 10.0; Win64; x64) AppleWebKit/537.36 (KHTML, like Gecko) Chrome/113.0.0.0 Safari/537.36 Edg/113.0.1774.35\n",
        "page = requests.get('https://people.com/politics/',headers=headers)\n",
        "soup = BeautifulSoup(page.text, 'html.parser')\n",
        "# print(soup)\n",
        "allLinks = []\n",
        "link = \"https://people.com/politics/\"\n",
        "for link in soup.find_all('a'):\n",
        "    allLinks.append(link.get('href'))\n",
        "allLinks = filter(None, allLinks)\n",
        "#identifier for political articles seems to be a 7 digit # that starts w 87 at the end of the link\n",
        "#check to confirm, at least i got astrology out of there\n",
        "linkEnds = [i for i in allLinks if (len(i) > 8 and i[-7] == '8' and i[-6] == '7')]\n",
        "# result = ['https://people.com' + i for i in linkEnds]\n",
        "People_links = set(linkEnds)\n",
        "People_links = list(People_links)\n",
        "'''"
      ]
    },
    {
      "cell_type": "code",
      "execution_count": null,
      "metadata": {
        "id": "a34NKIqqyV_Y"
      },
      "outputs": [],
      "source": [
        "#Daily Mail Article Link Scraper\n",
        "#use this one\n",
        "page = requests.get('https://www.dailymail.co.uk/news/us-politics/index.html')\n",
        "soup = BeautifulSoup(page.text, 'html.parser')\n",
        "allLinks = []\n",
        "link = \"https://www.dailymail.co.uk/news/us-politics/index.html\"\n",
        "for link in soup.find_all('a'):\n",
        "    allLinks.append(link.get('href'))\n",
        "allLinks = filter(None, allLinks)\n",
        "linkEnds = [i for i in allLinks if i.startswith('/news/article')]\n",
        "result = ['https://www.dailymail.co.uk/' + i for i in linkEnds]\n",
        "DailyMail_links = set(result)\n",
        "DailyMail_links = list(DailyMail_links)"
      ]
    },
    {
      "cell_type": "code",
      "source": [
        "len(DailyMail_links)"
      ],
      "metadata": {
        "colab": {
          "base_uri": "https://localhost:8080/"
        },
        "id": "C1ZShtKHBY66",
        "outputId": "9cc7da33-bc0a-44e1-8976-caf465549e33"
      },
      "execution_count": null,
      "outputs": [
        {
          "output_type": "execute_result",
          "data": {
            "text/plain": [
              "379"
            ]
          },
          "metadata": {},
          "execution_count": 93
        }
      ]
    },
    {
      "cell_type": "code",
      "source": [
        "#Daily Mail\n",
        "#41 seconds for scraping text from 50 articles, should i pull random ones ?\n",
        "#7*41 = 257/60 = 4.3 mins lord"
      ],
      "metadata": {
        "id": "7eQum4zIDcc7"
      },
      "execution_count": null,
      "outputs": []
    },
    {
      "cell_type": "code",
      "source": [
        "#Daily Mail Article Text Scraper\n",
        "\n",
        "# import random\n",
        "# DailyMail_links_short = random.sample(DailyMail_links, 5)\n",
        "# DailyMail_links = DailyMail_links_short\n",
        "\n",
        "artTxt = []\n",
        "for art in DailyMail_links:\n",
        "  article_text = scrape_article_text(art)\n",
        "  artTxt.append(article_text)\n",
        "DailyMail_artTxt = artTxt\n",
        "\n",
        "#combined headers + pubdate:\n",
        "pubds = []\n",
        "headers = []\n",
        "for h in DailyMail_links:\n",
        "  hp = requests.get(h)\n",
        "  souph = BeautifulSoup(hp.text, 'html.parser')\n",
        "  span = souph.find_all('h1')\n",
        "  header= str(span)\n",
        "  i = header.find(\">\")\n",
        "  j = header.find(\"</h1>\")\n",
        "  x = header[i+1:j]\n",
        "  y = x.split('\\n', 1)[0]\n",
        "  headers.append(y)\n",
        "  span = souph.find_all('time')\n",
        "  pubd = str(span)\n",
        "  i = pubd.find(\"> \")\n",
        "  j = pubd.find(\"</time>\")\n",
        "  # if i == -1:\n",
        "  #   i = pubd.find(\"Updated\")\n",
        "  x = pubd[i+1:j].lstrip()\n",
        "  y = x.split('\\n', 1)[0]\n",
        "  pubds.append(y)\n",
        "DailyMail_pubds = pubds\n",
        "DailyMail_headers = headers"
      ],
      "metadata": {
        "id": "bSLhh5JeBVU8"
      },
      "execution_count": null,
      "outputs": []
    },
    {
      "cell_type": "code",
      "execution_count": null,
      "metadata": {
        "cellView": "form",
        "colab": {
          "base_uri": "https://localhost:8080/",
          "height": 71
        },
        "collapsed": true,
        "id": "gEdpv5VjhTyi",
        "outputId": "317d20f4-85c1-4005-9583-6cad661d3d94"
      },
      "outputs": [
        {
          "data": {
            "application/vnd.google.colaboratory.intrinsic+json": {
              "type": "string"
            },
            "text/plain": [
              "'url = \\'https://www.dailymail.co.uk/ushome/index.rss\\'\\nhtml_page = requests.get(url)\\nsoup = BeautifulSoup(html_page.text, \"lxml\")\\nlinks = []\\nfor item in soup.find_all(\"item\"):\\n  link= str(item)\\n  i = link.find(\"<link/>\")\\n  j = link.find(\"<guid\")\\n  x = link[i+7:j]\\n  y = x.split(\\'\\n\\', 1)[0]\\n  links.append(y)\\ndm_links = links\\nlist(set(DailyMail_links).intersection(dm_links))\\n'"
            ]
          },
          "execution_count": 19,
          "metadata": {},
          "output_type": "execute_result"
        }
      ],
      "source": [
        "# @title [Potenitally discontinuted] Daily Mail RSS Article Link Scraper - articles not as relevant\n",
        "#don't use this one\n",
        "'''\n",
        "url = 'https://www.dailymail.co.uk/ushome/index.rss'\n",
        "html_page = requests.get(url)\n",
        "soup = BeautifulSoup(html_page.text, \"lxml\")\n",
        "links = []\n",
        "for item in soup.find_all(\"item\"):\n",
        "  link= str(item)\n",
        "  i = link.find(\"<link/>\")\n",
        "  j = link.find(\"<guid\")\n",
        "  x = link[i+7:j]\n",
        "  y = x.split('\\n', 1)[0]\n",
        "  links.append(y)\n",
        "dm_links = links\n",
        "list(set(DailyMail_links).intersection(dm_links))\n",
        "'''"
      ]
    },
    {
      "cell_type": "code",
      "execution_count": null,
      "metadata": {
        "collapsed": true,
        "id": "q5aaCRR07LF0"
      },
      "outputs": [],
      "source": [
        "#Newsweek Article Link Scraper\n",
        "headers = {\"user-agent\": \"Mozilla/5.0\"}\n",
        "#Mozilla/5.0 (Windows NT 10.0; Win64; x64) AppleWebKit/537.36 (KHTML, like Gecko) Chrome/113.0.0.0 Safari/537.36 Edg/113.0.1774.35\n",
        "page = requests.get('https://www.newsweek.com/politics',headers=headers)\n",
        "soup = BeautifulSoup(page.text, 'html.parser')\n",
        "allLinks = []\n",
        "link = \"https://www.newsweek.com/politics\"\n",
        "for link in soup.find_all('a'):\n",
        "    allLinks.append(link.get('href'))\n",
        "allLinks = filter(None, allLinks)\n",
        "linkEnds = [i for i in allLinks if (len(i) > 8 and i[-7] == '1')]\n",
        "# linkEnds = [i for i in allLinks]\n",
        "result = ['https://www.newsweek.com' + i for i in linkEnds]\n",
        "Newsweek_links = set(result)\n",
        "Newsweek_links = list(Newsweek_links)\n",
        "\n",
        "# initial error\n",
        "# print(soup.find_all('body'))\n",
        "# [<body>\n",
        "# <center><h1>403 Forbidden</h1></center>\n",
        "# </body>]\n",
        "\n",
        "# reference: https://stackoverflow.com/questions/40255128/how-to-parse-the-website-using-beautifulsoup\n",
        "# reference: https://www.useragentlist.net/"
      ]
    },
    {
      "cell_type": "code",
      "source": [
        "#Newsweek Article Text Scraper\n",
        "ua = {\"user-agent\": \"Mozilla/5.0\"}\n",
        "links = Newsweek_links\n",
        "artTxt = []\n",
        "for art in links:\n",
        "  article_text = scrape_article_text_useragent(art,ua)\n",
        "  artTxt.append(article_text)\n",
        "Newsweek_artTxt = artTxt\n",
        "\n",
        "#combined headers + pubdate:\n",
        "pubds = []\n",
        "headers = []\n",
        "for h in links:\n",
        "  hp = requests.get(h,headers = ua)\n",
        "  souph = BeautifulSoup(hp.text, 'html.parser')\n",
        "  span = souph.find_all('h1')\n",
        "  header= str(span)\n",
        "  i = header.find(\">\")\n",
        "  j = header.find(\"</h1>\")\n",
        "  x = header[i+1:j]\n",
        "  y = x.split('\\n', 1)[0]\n",
        "  headers.append(y)\n",
        "  span = souph.find_all('time')\n",
        "  pubd = str(span)\n",
        "  i = pubd.find(\"Published\")\n",
        "  j = pubd.find(\"</time>\")\n",
        "  if i == -1:\n",
        "    i = pubd.find(\"Updated\")\n",
        "  x = pubd[i+13:j].lstrip()\n",
        "  y = x.split('\\n', 1)[0]\n",
        "  pubds.append(y)\n",
        "Newsweek_pubds = pubds\n",
        "Newsweek_headers = headers"
      ],
      "metadata": {
        "id": "dKmIhwVFKF46"
      },
      "execution_count": null,
      "outputs": []
    },
    {
      "cell_type": "code",
      "execution_count": null,
      "metadata": {
        "collapsed": true,
        "id": "eAjDWt0X0Vvm"
      },
      "outputs": [],
      "source": [
        "#NBC News Article Link Scraper\n",
        "url = 'https://feeds.nbcnews.com/nbcnews/public/politics'\n",
        "html_page = requests.get(url)\n",
        "soup = BeautifulSoup(html_page.text, \"lxml\")\n",
        "links = []\n",
        "for item in soup.find_all(\"item\"):\n",
        "  link = str(item)\n",
        "  i = link.find(\"<guid>\")\n",
        "  j = link.find(\"</guid\")\n",
        "  x = link[i+6:j]\n",
        "  y = x.split('\\n', 1)[0]\n",
        "  if y[0:4] == 'http':\n",
        "    links.append(y)\n",
        "# probably unnecessary, try adding in if it breaks\n",
        "links = [x for x in links if x != \"https://www.nbcnews.com/\"]\n",
        "# if \"https://www.nbcnews.com/\"  in links:\n",
        "#   links.remove(\"https://www.nbcnews.com/\")\n",
        "NBCNews_links = links\n",
        "\n",
        "artTxt = []\n",
        "for y in NBCNews_links:\n",
        "  article_text = scrape_article_text(y)\n",
        "  artTxt.append(article_text)\n",
        "NBCNews_artTxt = artTxt\n",
        "\n",
        "#NBC Article Header Scraper\n",
        "headers = []\n",
        "pubds = []\n",
        "for item in soup.find_all(\"item\"):\n",
        "  header= str(item)\n",
        "  i = header.find(\"<title>\")\n",
        "  j = header.find(\"</title>\")\n",
        "  x = header[i+7:j]\n",
        "  y = x.split('\\n', 1)[0]\n",
        "  headers.append(y)\n",
        "  pubd= str(item)\n",
        "  i = pubd.find(\"<pubdate>\")\n",
        "  j = pubd.find(\"</pubdate>\")\n",
        "  x = pubd[i+9:j]\n",
        "  y = x.split('\\n', 1)[0]\n",
        "  pubds.append(y)\n",
        "NBCNews_headers = headers\n",
        "NBCNews_pubds = pubds"
      ]
    },
    {
      "cell_type": "code",
      "execution_count": null,
      "metadata": {
        "id": "sqqTbfcM6dJd"
      },
      "outputs": [],
      "source": [
        "#Forbes Article Link Scraper\n",
        "page = requests.get('https://www.forbes.com/topics/politics/')\n",
        "soup = BeautifulSoup(page.text, 'html.parser')\n",
        "allLinks = []\n",
        "link = \"https://www.forbes.com/topics/politics/\"\n",
        "for link in soup.find_all('a'):\n",
        "    allLinks.append(link.get('href'))\n",
        "allLinks = filter(None, allLinks)\n",
        "#all articles contain date (e.g. /2024/09/18)\n",
        "relevantLinks = [i for i in allLinks if '/2' in i]\n",
        "Forbes_links = set(relevantLinks)\n",
        "Forbes_links = list(Forbes_links)"
      ]
    },
    {
      "cell_type": "code",
      "source": [
        "# @title forbes [not completed: pubdate]\n",
        "#Forbes Article Text Scraper\n",
        "artTxt = []\n",
        "for art in Forbes_links:\n",
        "  article_text = scrape_article_text(art)\n",
        "  artTxt.append(article_text)\n",
        "Forbes_artTxt = artTxt\n",
        "\n",
        "#combined headers + pubdate:\n",
        "pubds = []\n",
        "headers = []\n",
        "times = []\n",
        "for h in Forbes_links:\n",
        "  hp = requests.get(h)\n",
        "  souph = BeautifulSoup(hp.text, 'html.parser')\n",
        "  span = souph.find_all('h1')\n",
        "  header= str(span)\n",
        "  i = header.find(\">\")\n",
        "  j = header.find(\"</h1>\")\n",
        "  x = header[i+1:j]\n",
        "  y = x.split('\\n', 1)[0]\n",
        "  headers.append(y)\n",
        "  span = souph.find_all('div')\n",
        "  pubd = str(span)\n",
        "  i = pubd.find(\"<time>\")\n",
        "  j = pubd.find(\"</time>\")\n",
        "  # if i == -1:\n",
        "  #   span = souph.find_all('div', class_ = \"top-stories__date\")\n",
        "  #   pubd = str(span)\n",
        "  #   i = pubd.find(\"<time>\")\n",
        "  #   j = pubd.find(\"</time>\")\n",
        "  x = pubd[i:j]\n",
        "  y = x.split('\\n', 1)[0]\n",
        "\n",
        "  span = souph.find_all('span', class_ = 'time')\n",
        "  pubd = str(span)\n",
        "  k = pubd.find(\"<time>\")\n",
        "  l = pubd.find(\"</time>\")\n",
        "  z = pubd[k:l]\n",
        "  t = z.split('\\n', 1)[0]\n",
        "  times.append(t)\n",
        "\n",
        "  pubds.append(y)\n",
        "\n",
        "# if len(times) == len(pubds):\n",
        "#   Forbes_pubds = [pubds[i] + times[i] for i in range(len(times))]\n",
        "#   Forbes_pubds = [i.replace(\"time>\", \"\").replace(\"<\", \"\") for i in Forbes_pubds]\n",
        "Forbes_headers = headers"
      ],
      "metadata": {
        "id": "p7pDo1udyVnF"
      },
      "execution_count": null,
      "outputs": []
    },
    {
      "cell_type": "code",
      "source": [
        "Forbes_links"
      ],
      "metadata": {
        "colab": {
          "base_uri": "https://localhost:8080/"
        },
        "id": "pPm-CHL1_Xrt",
        "outputId": "efdbd6c2-293a-45e4-ae30-4b30931abb3e"
      },
      "execution_count": null,
      "outputs": [
        {
          "output_type": "execute_result",
          "data": {
            "text/plain": [
              "['http://www.forbes.com/sites/corinnepost/2024/10/27/what-the-us-elections-mean-for-women-business-leaders/',\n",
              " 'http://www.forbes.com/sites/mollybohannon/2024/10/27/melania-trump-makes-rare-campaign-appearance-at-trumps-madison-square-garden-rally/',\n",
              " 'http://www.forbes.com/sites/ianpalmer/2024/10/27/fracking-in-pennsylvania-the-truth-behind-the-politics/',\n",
              " 'http://www.forbes.com/sites/walterpavlo/2024/10/27/steve-bannon-to-be-released-from-prison-this-week-right-on-time/',\n",
              " 'http://www.forbes.com/sites/maryroeloffs/2024/10/27/harris-and-trumps-biggest-celebrity-endorsements-bad-bunny-shows-support-for-harris/',\n",
              " 'http://www.forbes.com/sites/saradorn/2024/10/27/trump-vs-harris-2024-polls-trump-up-in-3-new-surveys-harris-leads-in-2-others/',\n",
              " 'http://www.forbes.com/sites/mollybohannon/2024/10/27/trump-rally-speaker-calls-puerto-rico-floating-island-of-garbage-campaign-says-joke-doesnt-reflect-trumps-views/',\n",
              " 'http://www.forbes.com/sites/marshallshepherd/2024/10/27/a-look-at-the-us-election-from-a-weather-perspective/',\n",
              " 'http://www.forbes.com/sites/monicahunter-hart/2024/10/27/the-kushners-real-estate-empire-is-now-worth-more-than-trumps/',\n",
              " 'http://www.forbes.com/sites/stuartanderson/2024/10/27/what-elon-musk-working-illegally-says-about-the-immigration-system/']"
            ]
          },
          "metadata": {},
          "execution_count": 134
        }
      ]
    },
    {
      "cell_type": "code",
      "source": [
        "Forbes_pubds"
      ],
      "metadata": {
        "id": "nJxUFaJu7huq",
        "outputId": "98f8b9cf-79e8-49ac-8cbd-df97f1fdcf65",
        "colab": {
          "base_uri": "https://localhost:8080/"
        }
      },
      "execution_count": null,
      "outputs": [
        {
          "output_type": "execute_result",
          "data": {
            "text/plain": [
              "['time>Oct 22, 2024,<time>06:30am EDT',\n",
              " 'time>Oct 27, 2024,<time>07:18pm EDT',\n",
              " 'time>Oct 26, 2024,<time>06:30am EDT',\n",
              " 'time>Oct 25, 2024,<time>06:00am EDT',\n",
              " 'time>Oct 27, 2024,<time>07:18pm EDT',\n",
              " 'time>Oct 27, 2024,<time>10:00am EDT',\n",
              " 'time>Oct 27, 2024,<time>09:00pm EDT',\n",
              " '[<div id=\"__next\"><script>',\n",
              " 'time>Oct 27, 2024,<time>06:30am EDT',\n",
              " '[<div id=\"__next\"><script>']"
            ]
          },
          "metadata": {},
          "execution_count": 140
        }
      ]
    },
    {
      "cell_type": "code",
      "source": [
        "# len(Forbes_artTxt)\n",
        "Forbes_pubds\n",
        "# len(Forbes_links)"
      ],
      "metadata": {
        "colab": {
          "base_uri": "https://localhost:8080/"
        },
        "id": "DIlKqfxcyxeh",
        "outputId": "e118fb6e-e9e8-4319-9ad7-2af2a424a90a",
        "collapsed": true
      },
      "execution_count": null,
      "outputs": [
        {
          "output_type": "execute_result",
          "data": {
            "text/plain": [
              "['time>Oct 22, 2024,<time>06:30am EDT',\n",
              " 'time>Oct 27, 2024,<time>07:18pm EDT',\n",
              " 'time>Oct 26, 2024,<time>06:30am EDT',\n",
              " 'time>Oct 25, 2024,<time>06:00am EDT',\n",
              " 'time>Oct 27, 2024,<time>07:18pm EDT',\n",
              " 'time>Oct 27, 2024,<time>10:00am EDT',\n",
              " 'time>Oct 27, 2024,<time>09:00pm EDT',\n",
              " '[<div id=\"__next\"><script>',\n",
              " 'time>Oct 27, 2024,<time>06:30am EDT',\n",
              " '[<div id=\"__next\"><script>']"
            ]
          },
          "metadata": {},
          "execution_count": 128
        }
      ]
    },
    {
      "cell_type": "code",
      "execution_count": null,
      "metadata": {
        "id": "h-PrNyR79Kao"
      },
      "outputs": [],
      "source": [
        "#AP News Article Link Scraper\n",
        "page = requests.get('https://apnews.com/politics')\n",
        "soup = BeautifulSoup(page.text, 'html.parser')\n",
        "allLinks = []\n",
        "link = \"https://apnews.com/politics\"\n",
        "for link in soup.find_all('a'):\n",
        "    allLinks.append(link.get('href'))\n",
        "allLinks = filter(None, allLinks)\n",
        "relevantLinks = [i for i in allLinks if '/article' in i]\n",
        "APNews_links = set(relevantLinks)\n",
        "APNews_links = list(APNews_links)"
      ]
    },
    {
      "cell_type": "code",
      "source": [
        "# @title APNews [not completed: pubdate]\n",
        "\n",
        "#AP News Article Text Scraper\n",
        "# artTxt = []\n",
        "# for art in APNews_links:\n",
        "#   article_text = scrape_article_text(art)\n",
        "#   artTxt.append(article_text)\n",
        "# APNews_artTxt = artTxt\n",
        "\n",
        "#combined headers + pubdate:\n",
        "pubds = []\n",
        "headers = []\n",
        "for h in APNews_links:\n",
        "  hp = requests.get(h)\n",
        "  souph = BeautifulSoup(hp.text, 'html.parser')\n",
        "  span = souph.find_all('h1')\n",
        "  header= str(span)\n",
        "  i = header.find(\">\")\n",
        "  j = header.find(\"</h1>\")\n",
        "  x = header[i+1:j]\n",
        "  y = x.split('\\n', 1)[0]\n",
        "  headers.append(y)\n",
        "  span = souph.find_all('div', class_ = \"page-datemodified\")\n",
        "  pubd = str(span)\n",
        "  i = pubd.find(\"Updated\")\n",
        "  j = pubd.find(\"<\")\n",
        "  # if i == -1:\n",
        "  #   i = pubd.find(\"Updated\")\n",
        "  x = pubd[i:j].lstrip()\n",
        "  y = x.split('\\n', 1)[0]\n",
        "  pubds.append(y)\n",
        "APNews_pubds = pubds\n",
        "APNews_headers = headers"
      ],
      "metadata": {
        "id": "BFeEtV17BmTN"
      },
      "execution_count": null,
      "outputs": []
    },
    {
      "cell_type": "code",
      "source": [
        "APNews_pubds"
      ],
      "metadata": {
        "colab": {
          "base_uri": "https://localhost:8080/"
        },
        "collapsed": true,
        "id": "nFkuZmUGCnEy",
        "outputId": "1ba3508f-5ace-4de3-e073-7ab7d795141c"
      },
      "execution_count": null,
      "outputs": [
        {
          "output_type": "execute_result",
          "data": {
            "text/plain": [
              "['',\n",
              " '',\n",
              " '',\n",
              " '',\n",
              " '',\n",
              " '',\n",
              " '',\n",
              " '',\n",
              " '',\n",
              " '',\n",
              " '',\n",
              " '',\n",
              " '',\n",
              " '',\n",
              " '',\n",
              " '',\n",
              " '',\n",
              " '',\n",
              " '',\n",
              " '',\n",
              " '',\n",
              " '',\n",
              " '',\n",
              " '',\n",
              " '',\n",
              " '',\n",
              " '',\n",
              " '',\n",
              " '',\n",
              " '',\n",
              " '',\n",
              " '',\n",
              " '',\n",
              " '',\n",
              " '',\n",
              " '',\n",
              " '',\n",
              " '',\n",
              " '',\n",
              " '',\n",
              " '',\n",
              " '',\n",
              " '',\n",
              " '',\n",
              " '',\n",
              " '',\n",
              " '',\n",
              " '',\n",
              " '',\n",
              " '',\n",
              " '',\n",
              " '',\n",
              " '',\n",
              " '',\n",
              " '',\n",
              " '',\n",
              " '',\n",
              " '',\n",
              " '',\n",
              " '',\n",
              " '',\n",
              " '',\n",
              " '',\n",
              " '',\n",
              " '',\n",
              " '',\n",
              " '',\n",
              " '',\n",
              " '',\n",
              " '',\n",
              " '',\n",
              " '',\n",
              " '',\n",
              " '',\n",
              " '',\n",
              " '',\n",
              " '',\n",
              " '',\n",
              " '',\n",
              " '',\n",
              " '',\n",
              " '',\n",
              " '',\n",
              " '',\n",
              " '',\n",
              " '',\n",
              " '',\n",
              " '',\n",
              " '',\n",
              " '',\n",
              " '',\n",
              " '',\n",
              " '',\n",
              " '',\n",
              " '',\n",
              " '',\n",
              " '',\n",
              " '',\n",
              " '',\n",
              " '',\n",
              " '',\n",
              " '',\n",
              " '',\n",
              " '',\n",
              " '',\n",
              " '',\n",
              " '',\n",
              " '',\n",
              " '']"
            ]
          },
          "metadata": {},
          "execution_count": 165
        }
      ]
    },
    {
      "cell_type": "code",
      "execution_count": null,
      "metadata": {
        "id": "toTEFXAk_VlT",
        "cellView": "form"
      },
      "outputs": [],
      "source": [
        "# @title BBC [not completed: pubdate -> seems to be in \"days ago\" rather than numeric date, check for real date\"]\n",
        "\n",
        "#BBC Article Link Scraper\n",
        "#via U.S. Politics page\n",
        "page = requests.get('https://www.bbc.com/news/topics/cwnpxwzd269t')\n",
        "soup = BeautifulSoup(page.text, 'html.parser')\n",
        "allLinks = []\n",
        "link = \"https://www.bbc.com/news/topics/cwnpxwzd269t\"\n",
        "for link in soup.find_all('a'):\n",
        "    allLinks.append(link.get('href'))\n",
        "allLinks = filter(None, allLinks)\n",
        "linkEnds = [i for i in allLinks if '/article' in i]\n",
        "result = ['https://www.bbc.com' + i for i in linkEnds]\n",
        "BBC_links = set(result)\n",
        "BBC_links = list(BBC_links)"
      ]
    },
    {
      "cell_type": "code",
      "source": [
        "#BBC Article Text Scraper\n",
        "artTxt = []\n",
        "for art in BBC_links:\n",
        "  article_text = scrape_article_text(art)\n",
        "  artTxt.append(article_text)\n",
        "BBC_artTxt = artTxt\n",
        "\n",
        "#combined headers + pubdate:\n",
        "pubds = []\n",
        "headers = []\n",
        "for h in BBC_links:\n",
        "  hp = requests.get(h)\n",
        "  souph = BeautifulSoup(hp.text, 'html.parser')\n",
        "  span = souph.find_all('h1')\n",
        "  header= str(span)\n",
        "  i = header.find(\">\")\n",
        "  j = header.find(\"<!\")\n",
        "  x = header[i+1:j]\n",
        "  y = x.split('\\n', 1)[0]\n",
        "  headers.append(y)\n",
        "  span = souph.find_all('div')\n",
        "  pubd = str(span)\n",
        "  i = pubd.find(\"<time\")\n",
        "  j = pubd.find(\"</time>\")\n",
        "  # if i == -1:\n",
        "  #   i = pubd.find(\"Updated\")\n",
        "  x = pubd[i+10:j].lstrip()\n",
        "  y = x.split('\\n', 1)[0]\n",
        "  pubds.append(y)\n",
        "BBC_pubds = pubds\n",
        "BBC_headers = headers"
      ],
      "metadata": {
        "id": "DdxghjjzFNhU"
      },
      "execution_count": null,
      "outputs": []
    },
    {
      "cell_type": "code",
      "execution_count": 3,
      "metadata": {
        "colab": {
          "base_uri": "https://localhost:8080/"
        },
        "id": "rpyYilP8BCus",
        "outputId": "edafc7fd-df7e-4696-c5b4-57873aa896b0"
      },
      "outputs": [
        {
          "output_type": "execute_result",
          "data": {
            "text/plain": [
              "['https://www.washingtonpost.com//politics/2024/10/30/mike-johnson-trump-aca-obamacare/?itid=mr_politics_5',\n",
              " 'https://www.washingtonpost.com//elections/interactive/2024/presidential-polling-averages/?itid=mr_politics_1',\n",
              " 'https://www.washingtonpost.com//politics/2024/10/30/democracy-trump-pennsylvania-voter-fraud/?itid=mr_politics_4',\n",
              " 'https://www.washingtonpost.com/politics/2024/10/30/nicky-jam-reggaeton-singer-pulls-endorsement-trump-after-puerto-rico-insult/',\n",
              " 'https://www.washingtonpost.com/elections/2024/10/30/trump-harris-election-live-updates/',\n",
              " 'https://www.washingtonpost.com/politics/2024/10/30/kamala-harris-biden-garbage-comment/',\n",
              " 'https://www.washingtonpost.com/discussions/2021/01/01/rss-terms-service/',\n",
              " 'https://www.washingtonpost.com/politics/2024/10/28/can-independent-dan-osborn-win-nebraska-would-it-matter/',\n",
              " 'https://www.washingtonpost.com/politics/2024/10/30/harris-trump-ellipse-speeches/',\n",
              " 'https://www.washingtonpost.com/national-security/2024/10/30/us-weapons-israel-gaza-civilian-deaths/',\n",
              " 'https://www.washingtonpost.com/politics/2024/10/30/democracy-trump-pennsylvania-voter-fraud/',\n",
              " 'https://www.washingtonpost.com/information/2020/11/20/terms-sale-print-products/',\n",
              " 'https://www.washingtonpost.com/politics/2024/10/30/kamala-harris-joe-biden-garbage/',\n",
              " 'https://www.washingtonpost.com/politics/2024/10/30/they-tried-prove-trumps-fraud-claims-they-failed-got-trouble/',\n",
              " 'https://www.washingtonpost.com/politics/2024/10/30/trump-statues-law-protest/',\n",
              " 'https://www.washingtonpost.com/politics/2024/10/30/virginia-noncitizen-voter-purge-supreme-court/',\n",
              " 'https://www.washingtonpost.com/politics/2024/10/30/arnold-schwarzenegger-harris-vote-california/',\n",
              " 'https://www.washingtonpost.com/information/2022/06/17/terms-sale-digital-products/',\n",
              " 'https://www.washingtonpost.com/elections/interactive/2024/presidential-polling-averages/',\n",
              " 'https://www.washingtonpost.com/politics/2024/10/30/vast-majority-early-voters-were-probably-going-vote-anyway/',\n",
              " 'https://www.washingtonpost.com/discussions/2021/05/13/vulnerability-disclosure-policy/',\n",
              " 'https://www.washingtonpost.com/politics/2024/10/28/republicans-say-puerto-rico-island-garbage-quip-doesnt-reflect-them-it-does/',\n",
              " 'https://www.washingtonpost.com/politics/2024/10/12/republicans-for-kamala-harris-2024-election/',\n",
              " 'https://www.washingtonpost.com/politics/2024/10/30/2024-election-is-defined-by-thin-slices-not-deep-fakes/',\n",
              " 'https://www.washingtonpost.com/world/2024/10/30/us-election-astronauts-vote-space/',\n",
              " 'https://www.washingtonpost.com/information/2022/01/01/ad-choices/',\n",
              " 'https://www.washingtonpost.com/politics/2024/10/21/elon-musk-petition-1-million-giveaway-election-law/',\n",
              " 'https://www.washingtonpost.com/politics/2024/10/30/nebraska-athletes-election-abortion-ad/',\n",
              " 'https://www.washingtonpost.com/elections/2024/10/24/early-voting-turnout/',\n",
              " 'https://www.washingtonpost.com//politics/2024/10/30/biden-garbage-comment-trump-supporters/?itid=mr_politics_3',\n",
              " 'https://www.washingtonpost.com/politics/2024/10/30/biden-garbage-comment-trump-supporters/',\n",
              " 'https://www.washingtonpost.com//politics/2024/10/30/kamala-harris-joe-biden-garbage/?itid=mr_politics_2',\n",
              " 'https://www.washingtonpost.com/discussions/2021/11/23/discussion-submission-guidelines/']"
            ]
          },
          "metadata": {},
          "execution_count": 3
        }
      ],
      "source": [
        "#Washington Post Article Link Scraper - in progress\n",
        "headers = {'User-Agent':'Mozilla/5.0 (Macintosh; Intel Mac OS X 10_11_2) AppleWebKit/601.3.9 (KHTML, like Gecko) Version/9.0.2 Safari/601.3.9'}\n",
        "#headers = {\"user-agent\": \"Mozilla/5.0 (compatible; Googlebot/2.1; +http://www.google.com/bot.html)\"}\n",
        "#headers = {\"user-agent\": \"Mozilla/5.0 (compatible; Googlebot/2.1; +http://www.google.com/bot.html)\"}\n",
        "#User-Agent\":'Mozilla/5.0 (Windows NT 6.3; WOW64) AppleWebKit/537.36 (KHTML, like Gecko) Chrome/59.0.3071.115 Safari/537.36\n",
        "#Mozilla/5.0 (Windows NT 10.0; Win64; x64) AppleWebKit/537.36 (KHTML, like Gecko) Chrome/113.0.0.0 Safari/537.36 Edg/113.0.1774.35\n",
        "\n",
        "page = requests.get('https://www.washingtonpost.com/politics/',headers=headers)\n",
        "# print(BS(page.content, 'lxml'))\n",
        "soup = BeautifulSoup(page.text, 'html.parser')\n",
        "# print(soup)\n",
        "\n",
        "allLinks = []\n",
        "link = \"https://www.washingtonpost.com/politics/\"\n",
        "for link in soup.find_all('a'):\n",
        "    allLinks.append(link.get('href'))\n",
        "allLinks = filter(None, allLinks)\n",
        "linkEnds = [i for i in allLinks if \"/politics/\" and \"/2\" in i]\n",
        "links = [i if i.startswith(\"https\") else \"https://www.washingtonpost.com/\" + i for i in linkEnds]\n",
        "\n",
        "WP_links = set(links)\n",
        "WP_links = list(WP_links)\n",
        "WP_links\n",
        "\n",
        "#RSS: https://feeds.washingtonpost.com/rss/rss_the-fix?itid=lk_inline_manual_5"
      ]
    },
    {
      "cell_type": "code",
      "source": [
        "# @title WP [not completed: pubds]\n",
        "\n",
        "#WP Article Text Scraper\n",
        "ua = {'User-Agent':'Mozilla/5.0 (Macintosh; Intel Mac OS X 10_11_2) AppleWebKit/601.3.9 (KHTML, like Gecko) Version/9.0.2 Safari/601.3.9'}\n",
        "artTxt = []\n",
        "for art in WP_links:\n",
        "  article_text = scrape_article_text_useragent(art,ua)\n",
        "  artTxt.append(article_text)\n",
        "WP_artTxt = artTxt\n",
        "\n",
        "#combined headers + pubdate:\n",
        "pubds = []\n",
        "headers = []\n",
        "months = [\"January\", \"February\", \"March\", \"April\", \"May\", \"June\", \"July\", \"August\", \"September\", \"October\", \"November\", \"December\"]\n",
        "\n",
        "for h in WP_links:\n",
        "  hp = requests.get(h,headers = ua)\n",
        "  souph = BeautifulSoup(hp.text, 'html.parser')\n",
        "  span = souph.find_all('head')\n",
        "  header= str(span)\n",
        "  i = header.find(\"<title>\")\n",
        "  j = header.find(\"</title>\")\n",
        "  x = header[i:j]\n",
        "  y = x.split('\\n', 1)[0].lstrip(\"<title>\")\n",
        "  headers.append(y)\n",
        "  span = souph.find_all(\"div\")\n",
        "  pubd = str(span)\n",
        "  # print(span)\n",
        "  for m in months:\n",
        "    if m in pubd:\n",
        "      i = pubd.find(m)\n",
        "  j = pubd.find(\"</time>\")\n",
        "  if i == -1:\n",
        "    i = pubd.find(\"Updated\")\n",
        "  x = pubd[i:j].lstrip()\n",
        "  y = x.split('\\n', 1)[0]\n",
        "  sep = '</span>'\n",
        "  dateOnly = y.split(sep, 1)[0]\n",
        "  pubds.append(dateOnly)\n",
        "\n",
        "WP_pubds = pubds\n",
        "# WP_headers = headers"
      ],
      "metadata": {
        "collapsed": true,
        "id": "4win1t_UMiw7"
      },
      "execution_count": 79,
      "outputs": []
    },
    {
      "cell_type": "code",
      "source": [
        "WP_pubds"
      ],
      "metadata": {
        "colab": {
          "base_uri": "https://localhost:8080/"
        },
        "collapsed": true,
        "id": "x_55xItDf5pL",
        "outputId": "6e55c007-6c41-4a0c-c01a-b8853bc46e29"
      },
      "execution_count": 77,
      "outputs": [
        {
          "output_type": "execute_result",
          "data": {
            "text/plain": [
              "['October 30, 2024 at 5:00 a.m. EDT',\n",
              " 'October 30, 2024',\n",
              " 'October 30, 2024 at 5:21 p.m. EDT',\n",
              " 'October 30, 2024 at 3:44 p.m. EDT',\n",
              " 'October 30, 2024 at 10:18 p.m. EDT',\n",
              " 'October 30, 2024 at 6:26 p.m. EDT',\n",
              " 'January 1, 2021 at 11:14 a.m. EST',\n",
              " 'October 28, 2024 at 7:16 p.m. EDT',\n",
              " 'October 30, 2024 at 10:43 a.m. EDT',\n",
              " 'October 30, 2024 at 4:30 p.m. EDT',\n",
              " 'October 30, 2024 at 5:21 p.m. EDT',\n",
              " 'November 20, 2020 at 11:09 a.m. EST',\n",
              " 'October 30, 2024 at 6:14 p.m. EDT',\n",
              " 'October 30, 2024 at 5:22 p.m. EDT',\n",
              " 'October 30, 2024 at 2:01 p.m. EDT',\n",
              " 'October 30, 2024 at 6:03 p.m. EDT',\n",
              " 'October 30, 2024 at 12:41 p.m. EDT',\n",
              " 'September 11, 2024 at 4:23 p.m. EDT',\n",
              " 'October 30, 2024',\n",
              " 'October 30, 2024 at 2:41 p.m. EDT',\n",
              " 'May 13, 2021 at 4:51 p.m. EDT',\n",
              " 'October 28, 2024 at 1:18 p.m. EDT',\n",
              " '',\n",
              " 'October 30, 2024 at 12:33 p.m. EDT',\n",
              " 'October 30, 2024 at 3:34 p.m. EDT',\n",
              " '',\n",
              " 'October 21, 2024 at 2:58 p.m. EDT',\n",
              " '',\n",
              " 'October 30, 2024 at 7:42 p.m. EDT',\n",
              " 'October 30, 2024 at 12:04 p.m. EDT',\n",
              " 'October 30, 2024 at 12:04 p.m. EDT',\n",
              " 'October 30, 2024 at 6:14 p.m. EDT',\n",
              " 'November 23, 2021 at 12:00 p.m. EST']"
            ]
          },
          "metadata": {},
          "execution_count": 77
        }
      ]
    },
    {
      "cell_type": "code",
      "source": [
        "len(WP_artTxt)"
      ],
      "metadata": {
        "colab": {
          "base_uri": "https://localhost:8080/"
        },
        "id": "2prByEQIM5Ki",
        "outputId": "2f866395-1e38-476e-a283-04897a13ec9c"
      },
      "execution_count": 8,
      "outputs": [
        {
          "output_type": "execute_result",
          "data": {
            "text/plain": [
              "33"
            ]
          },
          "metadata": {},
          "execution_count": 8
        }
      ]
    },
    {
      "cell_type": "code",
      "execution_count": 80,
      "metadata": {
        "colab": {
          "base_uri": "https://localhost:8080/"
        },
        "collapsed": true,
        "id": "qPRHMXMHS-_i",
        "outputId": "32aee613-5922-4e45-dc6a-4c7c108df819"
      },
      "outputs": [
        {
          "output_type": "stream",
          "name": "stderr",
          "text": [
            "<ipython-input-80-bec0c30b8cb0>:4: XMLParsedAsHTMLWarning: It looks like you're parsing an XML document using an HTML parser. If this really is an HTML document (maybe it's XHTML?), you can ignore or filter this warning. If it's XML, you should know that using an XML parser will be more reliable. To parse this document as XML, make sure you have the lxml package installed, and pass the keyword argument `features=\"xml\"` into the BeautifulSoup constructor.\n",
            "  soup = BeautifulSoup(html_page.text, \"lxml\")\n"
          ]
        }
      ],
      "source": [
        "#CNBC Article Link Scraper\n",
        "url = 'https://search.cnbc.com/rs/search/combinedcms/view.xml?partnerId=wrss01&id=10000113'\n",
        "html_page = requests.get(url)\n",
        "soup = BeautifulSoup(html_page.text, \"lxml\")\n",
        "links = []\n",
        "for item in soup.find_all(\"item\"):\n",
        "  link= str(item)\n",
        "  i = link.find(\"<link/>\")\n",
        "  j = link.find(\"<guid\")\n",
        "  x = link[i+7:j]\n",
        "  #removes white space at end of links\n",
        "  y = x.split('\\n', 1)[0].strip()\n",
        "  links.append(y)\n",
        "CNBC_links = links"
      ]
    },
    {
      "cell_type": "code",
      "source": [
        "# @title CNBC [not completed: artTxt]\n",
        "url = 'https://search.cnbc.com/rs/search/combinedcms/view.xml?partnerId=wrss01&id=10000113'\n",
        "# ua = {'User-Agent':'Mozilla/5.0 (Macintosh; Intel Mac OS X 10_11_2) AppleWebKit/601.3.9 (KHTML, like Gecko) Version/9.0.2 Safari/601.3.9'}\n",
        "\n",
        "html_page = requests.get(url)\n",
        "soup = BeautifulSoup(html_page.text, \"lxml\")\n",
        "links = []\n",
        "artTxt = []\n",
        "\n",
        "for item in soup.find_all(\"item\"):\n",
        "  link = str(item)\n",
        "  i = link.find(\"<link/>\")\n",
        "  j = link.find(\"<guid\")\n",
        "  x = link[i+7:j]\n",
        "  y = x.split('\\n', 1)[0]\n",
        "  links.append(y)\n",
        "  article_text = scrape_article_text(y)\n",
        "  artTxt.append(article_text)\n",
        "CNBC_artTxt = artTxt\n",
        "\n",
        "# CNBC Header Scraper\n",
        "headers = []\n",
        "for item in soup.find_all(\"item\"):\n",
        "  header= str(item)\n",
        "  i = header.find(\"<title>\")\n",
        "  j = header.find(\"</title>\")\n",
        "  x = header[i+7:j]\n",
        "  y = x.split('\\n', 1)[0]\n",
        "  headers.append(y)\n",
        "CNBC_headers = headers\n",
        "\n",
        "#CNBC PubDate Scraper\n",
        "pubds = []\n",
        "for item in soup.find_all(\"item\"):\n",
        "  pubd= str(item)\n",
        "  i = pubd.find(\"<pubdate>\")\n",
        "  j = pubd.find(\"</pubdate>\")\n",
        "  x = pubd[i+9:j]\n",
        "  y = x.split('\\n', 1)[0]\n",
        "  pubds.append(y)\n",
        "CNBC_pubds = pubds"
      ],
      "metadata": {
        "colab": {
          "base_uri": "https://localhost:8080/"
        },
        "id": "Q1Y-xZkhhi7v",
        "outputId": "3a20f2ee-f242-4bf1-f779-f0aafc1d63ed"
      },
      "execution_count": 89,
      "outputs": [
        {
          "output_type": "stream",
          "name": "stderr",
          "text": [
            "<ipython-input-89-d1e2e90a91b0>:5: XMLParsedAsHTMLWarning: It looks like you're parsing an XML document using an HTML parser. If this really is an HTML document (maybe it's XHTML?), you can ignore or filter this warning. If it's XML, you should know that using an XML parser will be more reliable. To parse this document as XML, make sure you have the lxml package installed, and pass the keyword argument `features=\"xml\"` into the BeautifulSoup constructor.\n",
            "  soup = BeautifulSoup(html_page.text, \"lxml\")\n"
          ]
        }
      ]
    },
    {
      "cell_type": "code",
      "source": [
        "CNBC_artTxt"
      ],
      "metadata": {
        "colab": {
          "base_uri": "https://localhost:8080/"
        },
        "collapsed": true,
        "id": "q6QVHvU0h-YP",
        "outputId": "fc0c09e2-18fa-4b51-8e95-808507ee9a97"
      },
      "execution_count": 90,
      "outputs": [
        {
          "output_type": "execute_result",
          "data": {
            "text/plain": [
              "['Error: Unable to fetch the webpage.',\n",
              " 'Error: Unable to fetch the webpage.',\n",
              " 'Error: Unable to fetch the webpage.',\n",
              " 'Error: Unable to fetch the webpage.',\n",
              " 'Error: Unable to fetch the webpage.',\n",
              " 'Error: Unable to fetch the webpage.',\n",
              " 'Error: Unable to fetch the webpage.',\n",
              " 'Error: Unable to fetch the webpage.',\n",
              " 'Error: Unable to fetch the webpage.',\n",
              " 'Error: Unable to fetch the webpage.',\n",
              " 'Error: Unable to fetch the webpage.',\n",
              " 'Error: Unable to fetch the webpage.',\n",
              " 'Error: Unable to fetch the webpage.',\n",
              " 'Error: Unable to fetch the webpage.',\n",
              " 'Error: Unable to fetch the webpage.',\n",
              " 'Error: Unable to fetch the webpage.',\n",
              " 'Error: Unable to fetch the webpage.',\n",
              " 'Error: Unable to fetch the webpage.',\n",
              " 'Error: Unable to fetch the webpage.',\n",
              " 'Error: Unable to fetch the webpage.',\n",
              " 'Error: Unable to fetch the webpage.',\n",
              " 'Error: Unable to fetch the webpage.',\n",
              " 'Error: Unable to fetch the webpage.',\n",
              " 'Error: Unable to fetch the webpage.',\n",
              " 'Error: Unable to fetch the webpage.',\n",
              " 'Error: Unable to fetch the webpage.',\n",
              " 'Error: Unable to fetch the webpage.',\n",
              " 'Error: Unable to fetch the webpage.',\n",
              " 'Error: Unable to fetch the webpage.',\n",
              " 'Error: Unable to fetch the webpage.']"
            ]
          },
          "metadata": {},
          "execution_count": 90
        }
      ]
    },
    {
      "cell_type": "code",
      "execution_count": 91,
      "metadata": {
        "colab": {
          "base_uri": "https://localhost:8080/"
        },
        "collapsed": true,
        "id": "eTUXOMlXXMlU",
        "outputId": "a7e14ecf-64e2-4850-cadf-8f7701358ece"
      },
      "outputs": [
        {
          "output_type": "stream",
          "name": "stderr",
          "text": [
            "<ipython-input-91-36164bfd68a9>:4: XMLParsedAsHTMLWarning: It looks like you're parsing an XML document using an HTML parser. If this really is an HTML document (maybe it's XHTML?), you can ignore or filter this warning. If it's XML, you should know that using an XML parser will be more reliable. To parse this document as XML, make sure you have the lxml package installed, and pass the keyword argument `features=\"xml\"` into the BeautifulSoup constructor.\n",
            "  soup = BeautifulSoup(html_page.text, \"lxml\")\n"
          ]
        },
        {
          "output_type": "execute_result",
          "data": {
            "text/plain": [
              "['https://www.cbsnews.com/news/bidens-response-to-garbage-joke-about-puerto-rico/',\n",
              " 'https://www.cbsnews.com/news/elon-musk-philadelphia-hearing-larry-krasner/',\n",
              " 'https://www.cbsnews.com/news/harris-responds-biden-garbage-comment/',\n",
              " 'https://www.cbsnews.com/news/nicky-jam-trump-endorsement-puerto-rico-madison-square-garden/',\n",
              " 'https://www.cbsnews.com/news/north-korean-troops-russian-uniforms-moving-towards-ukraine/',\n",
              " 'https://www.cbsnews.com/news/trump-rally-puerto-rico-garbage-comment-congress-races/',\n",
              " 'https://www.cbsnews.com/news/american-airstrikes-kill-up-to-35-isis-operatives-us-military-says/',\n",
              " 'https://www.cbsnews.com/news/trump-noncitizen-voter-fraud-fact-check/',\n",
              " 'https://www.cbsnews.com/news/republican-candidate-larry-savage-charged-stealing-ballots/',\n",
              " 'https://www.cbsnews.com/news/supreme-court-virginia-voter-rolls/',\n",
              " 'https://www.cbsnews.com/news/early-voting-2024-election-55-million-30-10-2024/',\n",
              " 'https://www.cbsnews.com/news/ballot-drop-boxes-misinformation-threats-fires/',\n",
              " 'https://www.cbsnews.com/news/bucks-county-ballots-mail-lawsuit-pennsylvania-election/',\n",
              " 'https://www.cbsnews.com/news/tim-walz-unity-kamala-harris-speech-ellipse/',\n",
              " 'https://www.cbsnews.com/news/trump-harris-health-care-2024/',\n",
              " 'https://www.cbsnews.com/news/presidential-election-harris-trump-inflation-could-decide-outcome/',\n",
              " 'https://www.cbsnews.com/news/man-sentenced-to-prison-threats-against-fulton-county-da-fani-willis/',\n",
              " 'https://www.cbsnews.com/news/election-ballots-printing-facility-arizona-security-measures/']"
            ]
          },
          "metadata": {},
          "execution_count": 91
        }
      ],
      "source": [
        "#CBS News Article Link Scraper\n",
        "url = 'https://www.cbsnews.com/latest/rss/politics'\n",
        "html_page = requests.get(url)\n",
        "soup = BeautifulSoup(html_page.text, \"lxml\")\n",
        "links = []\n",
        "for item in soup.find_all(\"item\"):\n",
        "  link= str(item)\n",
        "  i = link.find(\"<link/>\")\n",
        "  j = link.find(\"<guid\")\n",
        "  x = link[i+7:j]\n",
        "  y = x.split('\\n', 1)[0]\n",
        "  if \"/news/\" in y:\n",
        "    links.append(y)\n",
        "CBS_links = links\n",
        "CBS_links"
      ]
    },
    {
      "cell_type": "code",
      "source": [
        "url = 'https://www.cbsnews.com/latest/rss/politics'\n",
        "# ua = {'User-Agent':'Mozilla/5.0 (Macintosh; Intel Mac OS X 10_11_2) AppleWebKit/601.3.9 (KHTML, like Gecko) Version/9.0.2 Safari/601.3.9'}\n",
        "\n",
        "html_page = requests.get(url)\n",
        "soup = BeautifulSoup(html_page.text, \"lxml\")\n",
        "links = []\n",
        "artTxt = []\n",
        "\n",
        "for item in soup.find_all(\"item\"):\n",
        "  link = str(item)\n",
        "  i = link.find(\"<link/>\")\n",
        "  j = link.find(\"<guid\")\n",
        "  x = link[i+7:j]\n",
        "  y = x.split('\\n', 1)[0]\n",
        "  links.append(y)\n",
        "  article_text = scrape_article_text(y)\n",
        "  artTxt.append(article_text)\n",
        "CBS_artTxt = artTxt\n",
        "\n",
        "# CNBC Header Scraper\n",
        "headers = []\n",
        "for item in soup.find_all(\"item\"):\n",
        "  header= str(item)\n",
        "  i = header.find(\"<title>\")\n",
        "  j = header.find(\"</title>\")\n",
        "  x = header[i+7:j]\n",
        "  y = x.split('\\n', 1)[0]\n",
        "  headers.append(y)\n",
        "CBS_headers = headers\n",
        "\n",
        "#CNBC PubDate Scraper\n",
        "pubds = []\n",
        "for item in soup.find_all(\"item\"):\n",
        "  pubd= str(item)\n",
        "  i = pubd.find(\"<pubdate>\")\n",
        "  j = pubd.find(\"</pubdate>\")\n",
        "  x = pubd[i+9:j]\n",
        "  y = x.split('\\n', 1)[0]\n",
        "  pubds.append(y)\n",
        "CBS_pubds = pubds"
      ],
      "metadata": {
        "colab": {
          "base_uri": "https://localhost:8080/"
        },
        "id": "mo0D2Frii5vl",
        "outputId": "aee8b3b0-46f5-4003-bdba-6fcf3a3ad544"
      },
      "execution_count": 92,
      "outputs": [
        {
          "output_type": "stream",
          "name": "stderr",
          "text": [
            "<ipython-input-92-33b2d7c3f9d7>:5: XMLParsedAsHTMLWarning: It looks like you're parsing an XML document using an HTML parser. If this really is an HTML document (maybe it's XHTML?), you can ignore or filter this warning. If it's XML, you should know that using an XML parser will be more reliable. To parse this document as XML, make sure you have the lxml package installed, and pass the keyword argument `features=\"xml\"` into the BeautifulSoup constructor.\n",
            "  soup = BeautifulSoup(html_page.text, \"lxml\")\n"
          ]
        }
      ]
    },
    {
      "cell_type": "code",
      "execution_count": null,
      "metadata": {
        "cellView": "form",
        "collapsed": true,
        "id": "JMUnOcm5YLG9"
      },
      "outputs": [],
      "source": [
        "# @title [Potenitally discontinuted] ABC News Article Link Scraper - in progress\n",
        "\n",
        "# headers = {\"user-agent\": \"Mozilla/5.0\"}\n",
        "#Mozilla/5.0 (Windows NT 10.0; Win64; x64) AppleWebKit/537.36 (KHTML, like Gecko) Chrome/113.0.0.0 Safari/537.36 Edg/113.0.1774.35\n",
        "html_page = requests.get('https://abcnews.go.com/abcnews/politicsheadlines')\n",
        "#lxml-xml needed so it can parse the CDATA (where the links are) ? jk\n",
        "soup = BeautifulSoup(html_page.text, \"lxml\")\n",
        "links = []\n",
        "for item in soup.find_all(\"item\"):\n",
        "  link= str(item)\n",
        "  i = link.find(\"CDATA\")\n",
        "  j = link.find(\"<guid\")\n",
        "  x = link[i+7:j]\n",
        "  y = x.split('\\n', 1)[0]\n",
        "  links.append(y)\n",
        "\n",
        "ABC_links = links\n",
        "ABC_links"
      ]
    },
    {
      "cell_type": "code",
      "execution_count": 96,
      "metadata": {
        "id": "m6cjGTFNYeZe"
      },
      "outputs": [],
      "source": [
        "#ABC Article Link Scraper html\n",
        "page = requests.get('https://abcnews.go.com/Politics')\n",
        "soup = BeautifulSoup(page.text, 'html.parser')\n",
        "allLinks = []\n",
        "link = \"https://abcnews.go.com/Politics\"\n",
        "for link in soup.find_all('a'):\n",
        "    allLinks.append(link.get('href'))\n",
        "allLinks = filter(None, allLinks)\n",
        "links = [i for i in allLinks if \"/Politics/\" in i and \"/video/\" not in i]\n",
        "ABC_links = set(links)\n",
        "ABC_links = list(ABC_links)"
      ]
    },
    {
      "cell_type": "code",
      "source": [
        "ABC_links"
      ],
      "metadata": {
        "colab": {
          "base_uri": "https://localhost:8080/"
        },
        "collapsed": true,
        "id": "G3g3WoCHkUAI",
        "outputId": "3d10c8ac-f032-4b06-ee73-5fc16780351e"
      },
      "execution_count": 100,
      "outputs": [
        {
          "output_type": "execute_result",
          "data": {
            "text/plain": [
              "['https://abcnews.go.com/Politics/slavery-involuntary-servitude-ballot-states/story?id=115270058',\n",
              " 'https://abcnews.go.com/Politics/white-house-clean-bidens-garbage-comment-trump-seizes/story?id=115315459',\n",
              " 'https://abcnews.go.com/Politics/trump-campaign-distances-house-speakers-plan-massive-reform/story?id=115313086',\n",
              " 'https://abcnews.go.com/Politics/week-election-day-harris-trump-campaigns-meet-transition/story?id=115284077',\n",
              " 'https://abcnews.go.com/Politics/rfk-jr-trump-promised-control-public-health-agencies/story?id=115303649',\n",
              " 'https://abcnews.go.com/Politics/harris-deliver-closing-argument-remarks-dcs-ellipse/story?id=115222481',\n",
              " 'https://abcnews.go.com/Politics/mail-voting-millions-voters-opt-paper-ballots/story?id=115271747',\n",
              " 'https://abcnews.go.com/Politics/latino-political-strategist-responds-puerto-rico-jokes-trump/story?id=115215759',\n",
              " 'https://abcnews.go.com/Politics/harris-trump-capable-interfering-election-results/story?id=115323208',\n",
              " 'https://abcnews.go.com/Politics/tight-house-race-overwhelms-reliably-blue-new-york/story?id=115236689',\n",
              " 'https://abcnews.go.com/Politics/trump-hold-rally-pennsylvania-city-latino-majority-population/story?id=115273609',\n",
              " 'https://abcnews.go.com/Politics/us-struggles-answers-horrifying-israeli-strike-northern-gaza/story?id=115311850',\n",
              " 'https://abcnews.go.com/Politics/expert-previews-potential-election-day-mirages-votes-counted/story?id=115308312',\n",
              " 'https://abcnews.go.com/Politics/harris-distances-bidens-garbage-comment-strongly-disagree-criticizing/story?id=115313099',\n",
              " 'https://abcnews.go.com/Politics/race-center-ny-suburbs-showcasing-candidates-moderate/story?id=115224285',\n",
              " 'https://abcnews.go.com/Politics/fact-check-trump-allies-push-allegations-cheating-misconduct/story?id=115286762']"
            ]
          },
          "metadata": {},
          "execution_count": 100
        }
      ]
    },
    {
      "cell_type": "code",
      "source": [
        "# @title ABC [not completed: headers,pubds]\n",
        "\n",
        "page = requests.get('https://abcnews.go.com/Politics')\n",
        "soup = BeautifulSoup(page.text, 'html.parser')\n",
        "\n",
        "#CNN Article Text Scraper\n",
        "# artTxt = []\n",
        "# for art in ABC_links:\n",
        "#   article_text = scrape_article_text(art)\n",
        "#   artTxt.append(article_text)\n",
        "# ABC_artTxt = artTxt\n",
        "\n",
        "#combined headers + pubdate:\n",
        "pubds = []\n",
        "headers = []\n",
        "for h in ABC_links:\n",
        "  hp = requests.get(h)\n",
        "  souph = BeautifulSoup(hp.text, 'html.parser')\n",
        "  span = souph.find_all('div')\n",
        "  header= str(span)\n",
        "  i = header.find(\"xAPpq JQYD ZdbeE  jTKbV zIIsP xpuOU pCRh\")\n",
        "  print(i)\n",
        "  #uhh\n",
        "  j = header.find(\"</div>\")\n",
        "  x = header[i+8:j]\n",
        "  y = x.split('\\n', 1)[0]\n",
        "  headers.append(y)\n",
        "  span = souph.find_all('div')\n",
        "  pubd = str(span)\n",
        "  i = pubd.find(\"Published\")\n",
        "  j = pubd.find(\">]\")\n",
        "  if i == -1:\n",
        "    i = pubd.find(\"Updated\")\n",
        "  x = pubd[i+10:j].lstrip()\n",
        "  y = x.split('\\n', 1)[0]\n",
        "  pubds.append(y)\n",
        "ABC_pubds = pubds\n",
        "ABC_headers = headers"
      ],
      "metadata": {
        "colab": {
          "base_uri": "https://localhost:8080/"
        },
        "collapsed": true,
        "id": "Yt96Z6E8jwP5",
        "outputId": "b08b1dce-b2fb-4d2e-9460-5d540939d59a"
      },
      "execution_count": 105,
      "outputs": [
        {
          "output_type": "stream",
          "name": "stdout",
          "text": [
            "-1\n",
            "-1\n",
            "-1\n",
            "-1\n",
            "-1\n",
            "-1\n",
            "-1\n",
            "-1\n",
            "-1\n",
            "-1\n",
            "-1\n",
            "-1\n",
            "-1\n",
            "-1\n",
            "-1\n",
            "-1\n"
          ]
        }
      ]
    },
    {
      "cell_type": "code",
      "execution_count": null,
      "metadata": {
        "colab": {
          "base_uri": "https://localhost:8080/"
        },
        "collapsed": true,
        "id": "XoAiwRTm8Rk0",
        "outputId": "26e711e9-1099-4404-ee29-055d7e015c4a"
      },
      "outputs": [
        {
          "output_type": "stream",
          "name": "stdout",
          "text": [
            "Error: Unable to fetch the webpage.\n"
          ]
        }
      ],
      "source": [
        "#Extract article text from links for all news sources\n",
        "#Use this to text article link efficacy?\n",
        "\n",
        "#CNBC_links includes ad text in the beginning(?)\n",
        "url = NYT_links[0]\n",
        "article_text = scrape_article_text(url)\n",
        "print(article_text)"
      ]
    },
    {
      "cell_type": "code",
      "execution_count": null,
      "metadata": {
        "colab": {
          "base_uri": "https://localhost:8080/"
        },
        "collapsed": true,
        "id": "XIlX8JRwtPjs",
        "outputId": "d2498f3f-b054-4f7a-a92d-261b78f1c0e0"
      },
      "outputs": [
        {
          "name": "stdout",
          "output_type": "stream",
          "text": [
            "While New York is seen as a solid blue state, the Republican party still enjoys widespread support in its rural and suburban areas, and this year the gap between the GOP and the Democrat Party could be narrowing. In the 2024 presidential election, Donald Trump has the potential to gain the largest share of the vote in the Empire State than any other Republican candidate since 1988, some polls have suggested. Trump's very unlikely to win the state and get its 28 electoral votes, but a good performance in the Democratic stronghold gives Republicans a new message to bring to voters and enthusiasm about Trump could help the GOP in down ballot races. Before his rally on Long Island Wednesday night, Trump told supporters in a Manhattan bar that he was going to \"win New York!\" – a message he repeated to the crowd later on. \"When I told some people in Washington that I'm going up to New York, we're doing a campaign speech, they said, 'What do you mean New York? You can't ever ... Republicans can't win New York,\" Trump said at the Nassau Coliseum. \"I said, 'I can win New York,'\" he continued. \"We can win New York. We're going to win New York ... Your love for your state will come roaring back.\" In two polls that pit Trump against Vice President Kamala Harris, Trump's support ranges from 41.7 percent to 42 percent. That puts Trump in a position to possibly break his own record in New York and get more support than any Republican since 1988. Siena College's latest survey of New York voters, released on Thursday, showed Harris leading Trump 55 percent to 42 percent. Trump's support in the Empire State appeared to be holding steady from August, according to Siena College's polling. New York voters said they trust the vice president more on abortion, democracy and the economy, while the key issue of immigration essentially tied the pair – Harris on 48 percent and Trump on 47 percent. \"New York remains solidly 'blue' but perhaps not as deep blue as it has been in the last several presidential cycles,\" Siena College pollster Steven Greenberg said in a press release. Greenberg said that in the six presidential elections this century, Democrats have carried New York by at least 18 points, but Harris currently only leads by 13. \"Despite the Democratic convention, the debate and numerous other events during the six weeks between Siena College polls, there has been little movement in the horse race or in either candidate's favorability rating,\" Greenberg added. An earlier poll in August, by ActiVote, showed a greater lead for Harris, who was ahead by 16.6%. Trump was beating Harris among rural New York voters, with 52% supporting him. \"Independents moved further in Trump's direction, supporting him over Harris 58-34%, up from 47-40% last month,\" Greenberg explained. If polling holds true in the election, it would put Trump at more of an advantage than he enjoyed in the previous two elections, but the Queens native still would not have enough support to win the state on November 5. Four years ago, Trump lost to President Joe Biden with 37.7 percent of the vote compared to 60.9 percent. It was a very similar picture against former Secretary of State Hilary Clinton in 2016. In 1988, former President George H.W. Bush received 47.52 percent of the state's vote, narrowly losing it to Michael Dukakis' 51.62 percent. No Republican has been able to match Bush's support in New York since. In the next two elections, former President Bill Clinton had a 15 and then an almost 30-point lead over his GOP rivals. Former President George W. Bush lost New York by similar margins, as did former Senators John McCain and Mitt Romney.  Republicans winning New York would upend the Electoral College for Democrats, but the likelihood of that happening is very slim. However, Trump doesn't need to win the state to help his party. Targeting New York could still be beneficial for the GOP when it comes to House races, especially in areas like Long Island where support for the party is greater than within New York City. Polling from 538 showed Representative Anthony D'Esposito's Democratic rival Laura Gillen leading him by three points in August (50-47%), but earlier numbers showed him ahead by five (48-42%). \"While New York perhaps is not a battleground state, Long Island is a battleground island,\" D'Esposito told Politico. \"It does benefit him, because as president, he's going to need a majority in the House, and those seats that we're defending on Long Island and around New York are key to that majority.\" Newsweek is committed to journalism that's factual and fair. Hold us accountable and submit your rating of this article on the meter.  Newsweek is committed to journalism that's factual and fair. Hold us accountable and submit your rating of this article on the meter.  Dan Gooding is a Newsweek reporter based in New York City. His focus is reporting on immigration and border security. He has covered immigration issues extensively, including the root causes of migration to the U.S., its impact on border communities and responses around the country. Dan joined Newsweek in 2024 from The Independent and previously worked at The Messenger, Business Insider and in U.K. local radio. He is a graduate of De Montfort University in Leicester, UK. You can get in touch with Dan by emailing d.gooding@newsweek.com. You can find him on X @DanGooding. Languages: English. Dan Gooding is a Newsweek reporter based in New York City. His focus is reporting on immigration and border security.                                    ...\n",
            "Read more\n",
            " Newsletters in your inbox See all Company Editions: Contact Terms of Use © 2024 NEWSWEEK DIGITAL LLC\n"
          ]
        }
      ],
      "source": [
        "#Extract article text from links for news sources requiring user agent\n",
        "url = Newsweek_links[0]\n",
        "headers = {\"user-agent\": \"Mozilla/5.0\"}\n",
        "#Mozilla/5.0 (Windows NT 10.0; Win64; x64) AppleWebKit/537.36 (KHTML, like Gecko) Chrome/113.0.0.0 Safari/537.36 Edg/113.0.1774.35\n",
        "article_text = scrape_article_text_useragent(url, headers)\n",
        "print(article_text)"
      ]
    },
    {
      "cell_type": "code",
      "execution_count": null,
      "metadata": {
        "id": "sX7n4GKSzh5Q"
      },
      "outputs": [],
      "source": [
        "#List of RSS feeds\n",
        "\n",
        "#Fox News: Politics\n",
        "foxPolRSS = f\"https://moxie.foxnews.com/google-publisher/politics.xml\"\n",
        "#CNN News: Politics\n",
        "CNNPolRSS = f\"http://rss.cnn.com/rss/cnn_allpolitics.rss\"\n",
        "#NYT News: Politics\n",
        "NYTPolRSS = f\"https://rss.nytimes.com/services/xml/rss/nyt/Politics.xml\"\n",
        "#https://github.com/susannapaoli/web-scraper-nyt\n",
        "#NY Post: Politics\n",
        "NYPostPolRSS = f\"https://nypost.com/politics/feed/\"\n",
        "#Daily Mail: U.S.\n",
        "DailyMailUSRSS = f\"https://www.dailymail.co.uk/ushome/index.rss\"\n",
        "#NBC News: Politics\n",
        "NBCPolRSS = f\"https://feeds.nbcnews.com/nbcnews/public/politics\"\n",
        "#CNBC: Politics\n",
        "CNBCPolRSS = f\"https://search.cnbc.com/rs/search/combinedcms/view.xml?partnerId=wrss01&id=10000113\"\n",
        "#CBS News: Politics\n",
        "CBSPolRSS = f\"https://www.cbsnews.com/latest/rss/politics\"\n",
        "#ABC News: Politics\n",
        "ABCPolRSS = f\"https://abcnews.go.com/abcnews/politicsheadlines\""
      ]
    },
    {
      "cell_type": "code",
      "execution_count": null,
      "metadata": {
        "cellView": "form",
        "colab": {
          "base_uri": "https://localhost:8080/"
        },
        "id": "6-9ObRECI1s3",
        "outputId": "73da7875-7cb8-49e8-8d1b-141bdab26b23"
      },
      "outputs": [
        {
          "name": "stdout",
          "output_type": "stream",
          "text": [
            "[{'generated_text': 'left'}]\n",
            "[{'generated_text': 'uncertain'}]\n",
            "[{'generated_text': 'center'}]\n",
            "[{'generated_text': 'center'}]\n",
            "[{'generated_text': 'center'}]\n",
            "[{'generated_text': 'center'}]\n"
          ]
        }
      ],
      "source": [
        "# @title [likly discontinuted]\n",
        "\n",
        "\n",
        "# Following URL is the URL of the LLM being utilized from HuggingFace\n",
        "API_URL = \"https://api-inference.huggingface.co/models/google/flan-t5-xxl\"\n",
        "headers = {\"Authorization\": f\"Bearer {api_token_hug}\"}\n",
        "\n",
        "# Instructions sent to the LLM in front of article text\n",
        "system_input = \"Analyze the text content and assign a label from {left, right, center, uncertain}. In this context, “left” indicates a left-leaning article, “right” signifies a right-leaning article, “center” implies no obvious political leaning, and “uncertain” denotes that the political orientation could not be determined. Please provide your analysis and output a new single line containing only the assigned label.\"\n",
        "\n",
        "#reduce by 10% until it fits query\n",
        "reduction_fraction = 0.10\n",
        "\n",
        "\n",
        "\n",
        "result = reduce_and_query(article_text, system_input, reduction_fraction, headers)\n",
        "print(result)\n",
        "\n",
        "second_article = \"https://www.cnn.com/2024/03/19/politics/texas-immigration-law-blocked-appeals/index.html\"\n",
        "second_result = reduce_and_query(second_article, system_input, reduction_fraction, headers)\n",
        "print(second_result)\n",
        "\n",
        "third_article = \"https://www.cnn.com/videos/world/2024/03/20/israel-gaza-west-bank-settler-movement-clarissa-ward-pkg-intl-ldn-vpx.cnn\"\n",
        "third_result = reduce_and_query(third_article, system_input, reduction_fraction, headers)\n",
        "print(third_result)\n",
        "\n",
        "fourth_article = \"https://www.cnn.com/2024/03/19/politics/trump-bond-deadline-panic/index.html\"\n",
        "fourth_result = reduce_and_query(fourth_article, system_input, reduction_fraction, headers)\n",
        "print(fourth_result)\n",
        "\n",
        "fifth_article = \"https://www.foxnews.com/live-news/joe-biden-gop-impeachment-inquiry-hearing-hunter-biden-business-dealings\"\n",
        "fifth_result = reduce_and_query(fifth_article, system_input, reduction_fraction, headers)\n",
        "print(fifth_result)\n",
        "\n",
        "sixth_article = \"https://www.msnbc.com/deadline-white-house/deadline-legal-blog/trump-supreme-court-immunity-appeal-delay-rcna144155\"\n",
        "sixth_result = reduce_and_query(sixth_article, system_input, reduction_fraction, headers)\n",
        "print(sixth_result)\n",
        "\n",
        "seventh_article = \"https://www.msnbc.com/rachel-maddow-show/maddowblog/biden-white-house-reason-celebrate-falling-crime-rates-rcna144215\"\n",
        "seventh_result = reduce_and_query(seventh_article, system_input, reduction_fraction, headers)"
      ]
    }
  ],
  "metadata": {
    "colab": {
      "provenance": [],
      "include_colab_link": true
    },
    "kernelspec": {
      "display_name": "Python 3",
      "name": "python3"
    },
    "language_info": {
      "name": "python"
    }
  },
  "nbformat": 4,
  "nbformat_minor": 0
}
{
  "cells": [
    {
      "cell_type": "markdown",
      "metadata": {
        "id": "view-in-github",
        "colab_type": "text"
      },
      "source": [
        "<a href=\"https://colab.research.google.com/github/ExCaLBBR/ExCaLBBR_Projects/blob/main/PartisanBiasDetection/NewsRSS_Scraper.ipynb\" target=\"_parent\"><img src=\"https://colab.research.google.com/assets/colab-badge.svg\" alt=\"Open In Colab\"/></a>"
      ]
    },
    {
      "cell_type": "code",
      "execution_count": 1,
      "metadata": {
        "id": "jzf4wY-T8Frl",
        "cellView": "form"
      },
      "outputs": [],
      "source": [
        "#@title Install Dependancies\n",
        "!pip install requests beautifulsoup4 --quiet\n",
        "\n",
        "#Import libraries\n",
        "import requests\n",
        "from bs4 import BeautifulSoup\n",
        "import time"
      ]
    },
    {
      "cell_type": "code",
      "execution_count": 2,
      "metadata": {
        "id": "-1vSCujtWffV"
      },
      "outputs": [],
      "source": [
        "# @title Define Utility Functions\n",
        "\n",
        "#Article Scraper\n",
        "def scrape_article_text(url):\n",
        "    # Send a GET request to the URL\n",
        "    response = requests.get(url)\n",
        "    # Check if the request was successful\n",
        "    if response.status_code == 200:\n",
        "        # Parse the HTML content\n",
        "        soup = BeautifulSoup(response.text, 'html.parser')\n",
        "        # Find elements containing text - this part may need customization\n",
        "        # For example, assuming article text is within <p> tags\n",
        "        article_text = ' '.join(p.get_text() for p in soup.find_all('p'))\n",
        "        return article_text\n",
        "    else:\n",
        "        return \"Error: Unable to fetch the webpage.\"\n",
        "\n",
        "#Article Scraper with User Agent\n",
        "def scrape_article_text_useragent(url,ua):\n",
        "    # Send a GET request to the URL\n",
        "    response = requests.get(url, headers=ua)\n",
        "    # Check if the request was successful\n",
        "    if response.status_code == 200:\n",
        "        # Parse the HTML content\n",
        "        soup = BeautifulSoup(response.text, 'html.parser')\n",
        "        # Find elements containing text - this part may need customization\n",
        "        # For example, assuming article text is within <p> tags\n",
        "        article_text = ' '.join(p.get_text() for p in soup.find_all('p'))\n",
        "        return article_text\n",
        "    else:\n",
        "        return \"Error: Unable to fetch the webpage.\"\n",
        "\n",
        "#Query for LLM\n",
        "def query(payload, headers):\n",
        "    response = requests.post(API_URL, headers=headers, json=payload)\n",
        "    if response.status_code == 200:\n",
        "        return response.json()  # Expecting this to always be a list for simplicity\n",
        "    else:\n",
        "        return [{\"error\": response.text}]\n",
        "\n",
        "#Political Bias Classification using LLM\n",
        "def reduce_and_query(initial_text, llm_instructions, reduction_fraction, headers):\n",
        "    text = initial_text\n",
        "    while True:\n",
        "        payload = {\"inputs\": llm_instructions + text}\n",
        "        response = query(payload, headers)\n",
        "        # Since we expect a list, check the first item for an 'error' key\n",
        "        if \"error\" in response[0]:\n",
        "            error_message = response[0][\"error\"]\n",
        "            if \"token\" in error_message.lower():\n",
        "                # Reduce the text by the specified fraction if it's a token limit error\n",
        "                new_length = int(len(text) * (1 - reduction_fraction))\n",
        "                text = text[:new_length]\n",
        "            else:\n",
        "                # Return the error message directly if it's a different kind of error\n",
        "                return error_message\n",
        "        else:\n",
        "            # If there's no 'error' key, assume the response is successful\n",
        "            return response"
      ]
    },
    {
      "cell_type": "code",
      "execution_count": null,
      "metadata": {
        "id": "U36vKED56Kll"
      },
      "outputs": [],
      "source": [
        "# @title CNN [completed: links, articleTxt, headers, and pubdate]\n",
        "# CNN Article Link Scraper\n",
        "page = requests.get('https://www.cnn.com/politics')\n",
        "soup = BeautifulSoup(page.text, 'html.parser')\n",
        "\n",
        "links = []\n",
        "for l in soup.find_all('a'):\n",
        "    links.append(l.get('href'))\n",
        "links = filter(None, links)\n",
        "linkEnds = [i for i in links if i.startswith('/2') and \"/video/\" not in i]\n",
        "result = ['https://www.cnn.com' + i for i in linkEnds]\n",
        "links = set(result)\n",
        "links = list(links)\n",
        "\n",
        "#CNN Article Text Scraper\n",
        "artTxt = []\n",
        "for art in links:\n",
        "  article_text = scrape_article_text(art)\n",
        "  artTxt.append(article_text)\n",
        "CNN_artTxt = artTxt\n",
        "\n",
        "#combined headers + pubdate:\n",
        "pubds = []\n",
        "headers = []\n",
        "for h in links:\n",
        "  hp = requests.get(h)\n",
        "  souph = BeautifulSoup(hp.text, 'html.parser')\n",
        "  span = souph.find_all('h1')\n",
        "  header= str(span)\n",
        "  i = header.find(\">\")\n",
        "  j = header.find(\"</h1>\")\n",
        "  x = header[i+8:j]\n",
        "  y = x.split('\\n', 1)[0]\n",
        "  headers.append(y)\n",
        "  span = souph.find_all('div', class_='timestamp vossi-timestamp')\n",
        "  pubd = str(span)\n",
        "  i = pubd.find(\"Published\")\n",
        "  j = pubd.find(\">]\")\n",
        "  if i == -1:\n",
        "    i = pubd.find(\"Updated\")\n",
        "  x = pubd[i+10:j].lstrip()\n",
        "  y = x.split('\\n', 1)[0]\n",
        "  pubds.append(y)\n",
        "CNN_pubds = pubds\n",
        "CNN_headers = headers\n",
        "\n",
        "# #CNN Article Header Scraper\n",
        "# headers = []\n",
        "# for h in links:\n",
        "#   hp = requests.get(h)\n",
        "#   souph = BeautifulSoup(hp.text, 'html.parser')\n",
        "#   span = souph.find_all('h1')\n",
        "#   header= str(span)\n",
        "#   i = header.find(\">\")\n",
        "#   j = header.find(\"</h1>\")\n",
        "#   x = header[i+8:j]\n",
        "#   y = x.split('\\n', 1)[0]\n",
        "#   headers.append(y)\n",
        "# CNN_headers = headers\n",
        "\n",
        "# #CNN News Article PubDate Scraper\n",
        "# pubds = []\n",
        "# for h in links:\n",
        "#   hp = requests.get(h)\n",
        "#   souph = BeautifulSoup(hp.text, 'html.parser')\n",
        "#   span = souph.find_all('div', class_='timestamp vossi-timestamp')\n",
        "#   pubd = str(span)\n",
        "#   i = pubd.find(\"Published\")\n",
        "#   j = pubd.find(\">]\")\n",
        "#   if i == -1:\n",
        "#     i = pubd.find(\"Updated\")\n",
        "#   x = pubd[i+10:j].lstrip()\n",
        "#   y = x.split('\\n', 1)[0]\n",
        "#   pubds.append(y)\n",
        "# CNN_pubdate = pubds"
      ]
    },
    {
      "cell_type": "code",
      "execution_count": null,
      "metadata": {
        "colab": {
          "base_uri": "https://localhost:8080/"
        },
        "collapsed": true,
        "id": "5mml0I9kwLNy",
        "outputId": "d203a8e0-479f-4925-fce5-8df8723635a0"
      },
      "outputs": [
        {
          "output_type": "stream",
          "name": "stderr",
          "text": [
            "<ipython-input-118-1a2f6ef9f2db>:5: XMLParsedAsHTMLWarning: It looks like you're parsing an XML document using an HTML parser. If this really is an HTML document (maybe it's XHTML?), you can ignore or filter this warning. If it's XML, you should know that using an XML parser will be more reliable. To parse this document as XML, make sure you have the lxml package installed, and pass the keyword argument `features=\"xml\"` into the BeautifulSoup constructor.\n",
            "  soup = BeautifulSoup(html_page.text, \"lxml\")\n"
          ]
        }
      ],
      "source": [
        "# @title Fox News [completed: links, articleTxt, headers, and pubdate]\n",
        "#Fox News Article Text Link Scraper\n",
        "url = 'https://moxie.foxnews.com/google-publisher/politics.xml'\n",
        "html_page = requests.get(url)\n",
        "soup = BeautifulSoup(html_page.text, \"lxml\")\n",
        "links = []\n",
        "artTxt = []\n",
        "for item in soup.find_all(\"item\"):\n",
        "  link= str(item)\n",
        "  i = link.find(\"<link/>\")\n",
        "  j = link.find(\"<guid\")\n",
        "  x = link[i+7:j]\n",
        "  y = x.split('\\n', 1)[0]\n",
        "  links.append(y)\n",
        "  article_text = scrape_article_text(y)\n",
        "  artTxt.append(article_text)\n",
        "FoxNews_artTxt = artTxt\n",
        "\n",
        "#Fox News Article Header Scraper\n",
        "headers = []\n",
        "for item in soup.find_all(\"item\"):\n",
        "  header= str(item)\n",
        "  i = header.find(\"<title>\")\n",
        "  j = header.find(\"</title>\")\n",
        "  x = header[i+7:j]\n",
        "  y = x.split('\\n', 1)[0]\n",
        "  headers.append(y)\n",
        "FoxNews_headers = headers\n",
        "\n",
        "#Fox News Article PubDate Scraper\n",
        "pubds = []\n",
        "for item in soup.find_all(\"item\"):\n",
        "  pubd= str(item)\n",
        "  i = pubd.find(\"<pubdate>\")\n",
        "  j = pubd.find(\"</pubdate>\")\n",
        "  x = pubd[i+9:j]\n",
        "  y = x.split('\\n', 1)[0]\n",
        "  pubds.append(y)\n",
        "FoxNews_pubdate = pubds"
      ]
    },
    {
      "cell_type": "code",
      "execution_count": 3,
      "metadata": {
        "colab": {
          "base_uri": "https://localhost:8080/"
        },
        "collapsed": true,
        "id": "Dcsv7hwKb0wV",
        "outputId": "f9981ef8-62fd-4dbe-ecfa-f6ae1c285859"
      },
      "outputs": [
        {
          "output_type": "stream",
          "name": "stderr",
          "text": [
            "<ipython-input-3-d5bd07c2d47a>:4: XMLParsedAsHTMLWarning: It looks like you're parsing an XML document using an HTML parser. If this really is an HTML document (maybe it's XHTML?), you can ignore or filter this warning. If it's XML, you should know that using an XML parser will be more reliable. To parse this document as XML, make sure you have the lxml package installed, and pass the keyword argument `features=\"xml\"` into the BeautifulSoup constructor.\n",
            "  soup = BeautifulSoup(html_page.text, \"lxml\")\n"
          ]
        }
      ],
      "source": [
        "#NYT Article Link Scraper\n",
        "url = 'https://rss.nytimes.com/services/xml/rss/nyt/Politics.xml'\n",
        "html_page = requests.get(url)\n",
        "soup = BeautifulSoup(html_page.text, \"lxml\")\n",
        "links = []\n",
        "for item in soup.find_all(\"item\"):\n",
        "  link= str(item)\n",
        "  i = link.find(\"<link/>\")\n",
        "  j = link.find(\"<guid\")\n",
        "  x = link[i+7:j]\n",
        "  y = x.split('\\n', 1)[0]\n",
        "  links.append(y)\n",
        "NYT_links = links"
      ]
    },
    {
      "cell_type": "code",
      "source": [
        "NYT_links"
      ],
      "metadata": {
        "colab": {
          "base_uri": "https://localhost:8080/"
        },
        "id": "gkHTnIzznB7l",
        "outputId": "25364a45-c446-4c13-eaca-1c16c91949bc"
      },
      "execution_count": 8,
      "outputs": [
        {
          "output_type": "execute_result",
          "data": {
            "text/plain": [
              "['https://www.nytimes.com/2024/10/21/us/politics/biden-harris-birth-control-rules.html',\n",
              " 'https://www.nytimes.com/2024/10/21/us/politics/trump-harris-undecided-voters.html',\n",
              " 'https://www.nytimes.com/2024/10/20/us/politics/trump-scandals.html',\n",
              " 'https://www.nytimes.com/2024/10/20/us/politics/jill-stein-harris-trump.html',\n",
              " 'https://www.nytimes.com/2024/10/21/upshot/trump-harris-polls-election.html',\n",
              " 'https://www.nytimes.com/2024/10/21/us/politics/secret-service-trump-butler-house-report.html',\n",
              " 'https://www.nytimes.com/2024/10/21/us/politics/supreme-court-public-corruption.html',\n",
              " 'https://www.nytimes.com/2024/10/21/health/abortion-pill-mifepristone-lawsuit.html',\n",
              " 'https://www.nytimes.com/video/us/politics/100000009762791/where-harris-and-trump-stand-on-abortion.html',\n",
              " 'https://www.nytimes.com/2024/10/21/books/review/economics-business-books.html',\n",
              " 'https://www.nytimes.com/2024/10/21/us/politics/9-11-defendants-trial.html',\n",
              " 'https://www.nytimes.com/2024/10/21/business/media/trump-media-broadcast-licenses.html',\n",
              " 'https://www.nytimes.com/2024/10/20/style/donald-trump-mcdonalds.html',\n",
              " 'https://www.nytimes.com/2024/10/20/us/politics/trump-arnold-palmer-kamala-harris.html',\n",
              " 'https://www.nytimes.com/2024/10/20/us/politics/trump-mcdonalds-fries.html',\n",
              " 'https://www.nytimes.com/2024/10/20/us/politics/nebraska-walz-tony-vargas.html',\n",
              " 'https://www.nytimes.com/2024/10/20/us/politics/elon-musk-million-dollar-petition.html',\n",
              " 'https://www.nytimes.com/2024/10/20/us/politics/trump-fox-news-jan-6-haitians.html',\n",
              " 'https://www.nytimes.com/2024/10/20/us/politics/kamala-harris-mcdonalds-work-trump.html',\n",
              " 'https://www.nytimes.com/2024/10/20/us/politics/trump-meandering-remarks.html',\n",
              " 'https://www.nytimes.com/2024/10/20/us/politics/harris-howard-hbcus.html']"
            ]
          },
          "metadata": {},
          "execution_count": 8
        }
      ]
    },
    {
      "cell_type": "code",
      "source": [
        "# @title NYT [not completed: articleTxt]\n",
        "#completed: links, headers, pubdate\n",
        "#NYT Article Text Link Scraper\n",
        "url = 'https://rss.nytimes.com/services/xml/rss/nyt/Politics.xml'\n",
        "html_page = requests.get(NYT_links[0])\n",
        "soup = BeautifulSoup(html_page.text, \"html.parser\")\n",
        "print(soup)\n",
        "links = []\n",
        "artTxt = []\n",
        "for item in soup.find_all(\"item\"):\n",
        "  link= str(item)\n",
        "  i = link.find(\"<link/>\")\n",
        "  j = link.find(\"<guid\")\n",
        "  x = link[i+7:j]\n",
        "  y = x.split('\\n', 1)[0]\n",
        "  links.append(y)\n",
        "  article_text = scrape_article_text(y)\n",
        "  artTxt.append(article_text)\n",
        "NYT_artTxt = artTxt\n",
        "\n",
        "#NYT Article Header Scraper\n",
        "headers = []\n",
        "for item in soup.find_all(\"item\"):\n",
        "  header= str(item)\n",
        "  i = header.find(\"<title>\")\n",
        "  j = header.find(\"</title>\")\n",
        "  x = header[i+7:j]\n",
        "  y = x.split('\\n', 1)[0]\n",
        "  headers.append(y)\n",
        "NYT_headers = headers\n",
        "\n",
        "#NYT Article PubDate Scraper\n",
        "pubds = []\n",
        "for item in soup.find_all(\"item\"):\n",
        "  pubd= str(item)\n",
        "  i = pubd.find(\"<pubdate>\")\n",
        "  j = pubd.find(\"</pubdate>\")\n",
        "  x = pubd[i+9:j]\n",
        "  y = x.split('\\n', 1)[0]\n",
        "  pubds.append(y)\n",
        "NYT_pubds = pubds"
      ],
      "metadata": {
        "colab": {
          "base_uri": "https://localhost:8080/"
        },
        "id": "TxWBuqeugljj",
        "outputId": "a620141e-af8c-4c65-dd80-ea344d15bca0"
      },
      "execution_count": 13,
      "outputs": [
        {
          "output_type": "stream",
          "name": "stdout",
          "text": [
            "<html><head><title>nytimes.com</title><style>#cmsg{animation: A 1.5s;}@keyframes A{0%{opacity:0;}99%{opacity:0;}100%{opacity:1;}}</style></head><body style=\"margin:0\"><p id=\"cmsg\">Please enable JS and disable any ad blocker</p><script data-cfasync=\"false\">var dd={'rt':'c','cid':'AHrlqAAAAAMAMoSxbSIbc8cAImo5kg==','hsh':'499AE34129FA4E4FABC31582C3075D','t':'bv','s':17439,'e':'4045dbb42d70ac0c4371124f8504f1ecd4a1504c229f49ffe1b1045285dc4229','host':'geo.captcha-delivery.com','cookie':'cXxe92Ptu_AqNGRGxu2uvOsM_NCyV4XzMRBFniltyBrPmsa7OkPTil2778dwwZt2aPFKzgfs3yCo8YAV_dXsDsImugfwSiISQZVdgXTqD2gJUQ8PlM1Bc1oDzekki8rn'}</script><script data-cfasync=\"false\" src=\"https://ct.captcha-delivery.com/c.js\"></script></body></html>\n"
          ]
        }
      ]
    },
    {
      "cell_type": "code",
      "source": [
        "NYT_artTxt\n",
        "#'Error: Unable to fetch the webpage.'\n",
        "# paywall or maybe not being on campus is the issue"
      ],
      "metadata": {
        "colab": {
          "base_uri": "https://localhost:8080/"
        },
        "collapsed": true,
        "id": "wl5Bi_d1g7Dq",
        "outputId": "e63ab9fc-ef4a-4960-9edf-b11c11d1b609"
      },
      "execution_count": 10,
      "outputs": [
        {
          "output_type": "execute_result",
          "data": {
            "text/plain": [
              "[]"
            ]
          },
          "metadata": {},
          "execution_count": 10
        }
      ]
    },
    {
      "cell_type": "code",
      "execution_count": null,
      "metadata": {
        "id": "_MdFJZGfhJdQ"
      },
      "outputs": [],
      "source": [
        "# @title USA Today [completed: links, articleTxt, headers, pubdate]\n",
        "# issue: published and updated dates included\n",
        "# being on campus may un-break it though?\n",
        "\n",
        "#USA Today Article Link Scraper\n",
        "page = requests.get('https://www.usatoday.com/news/politics/')\n",
        "soup = BeautifulSoup(page.text, 'html.parser')\n",
        "allLinks = []\n",
        "link = \"https://www.usatoday.com/news/politics/\"\n",
        "for link in soup.find_all('a'):\n",
        "    allLinks.append(link.get('href'))\n",
        "allLinks = filter(None, allLinks)\n",
        "'''\n",
        "   /politics removes livestream & corrections & world politics\n",
        "   also removes other articles e.g. /investigation (ryan routh article)\n",
        "'''\n",
        "linkEnds = [i for i in allLinks if i.startswith('/story/news/politics')]\n",
        "result = ['https://www.usatoday.com' + i for i in linkEnds]\n",
        "USAToday_links = set(result)\n",
        "USAToday_links = list(USAToday_links)\n",
        "\n",
        "#USA Today Article Text Scraper\n",
        "artTxt = []\n",
        "for art in USAToday_links:\n",
        "  article_text = scrape_article_text(art)\n",
        "  artTxt.append(article_text)\n",
        "USAToday_artTxt = artTxt\n",
        "\n",
        "#combined headers + pubdate:\n",
        "pubds = []\n",
        "headers = []\n",
        "for h in USAToday_links:\n",
        "  hp = requests.get(h)\n",
        "  souph = BeautifulSoup(hp.text, 'html.parser')\n",
        "  span = souph.find_all('h1')\n",
        "  header= str(span)\n",
        "  i = header.find(\">\")\n",
        "  j = header.find(\"</h1>\")\n",
        "  x = header[i+1:j]\n",
        "  y = x.split('\\n', 1)[0]\n",
        "  headers.append(y)\n",
        "  span = souph.find_all('div', class_='gnt_ar_dt')\n",
        "  pubd = str(span)\n",
        "  i = pubd.find(\"Published\")\n",
        "  j = pubd.find(\"class\")\n",
        "  if i == -1:\n",
        "    i = pubd.find(\"Updated\")\n",
        "  x = pubd[i:j].rstrip()\n",
        "  y = x.split('\\n', 1)[0]\n",
        "  pubds.append(y)\n",
        "USAToday_pubds = pubds\n",
        "USAToday_headers = headers"
      ]
    },
    {
      "cell_type": "code",
      "source": [
        "USAToday_pubds"
      ],
      "metadata": {
        "colab": {
          "base_uri": "https://localhost:8080/"
        },
        "collapsed": true,
        "id": "jYl4e0j4sC6_",
        "outputId": "f75ed5da-0dff-47b2-a767-1df7dbc98e99"
      },
      "execution_count": null,
      "outputs": [
        {
          "output_type": "execute_result",
          "data": {
            "text/plain": [
              "['Published: 2:45 p.m. ET Oct. 18, 2024 Updated: 5:12 p.m. ET Oct. 18, 2024\"',\n",
              " 'Published: 5:14 a.m. ET Oct. 20, 2024 Updated: 3:59 p.m. ET Oct. 20, 2024\"',\n",
              " 'Published: 2:08 p.m. ET Oct. 20, 2024 Updated: 2:08 p.m. ET Oct. 20, 2024\"',\n",
              " 'Published: 5:02 a.m. ET Oct. 20, 2024 Updated: 9:03 a.m. ET Oct. 20, 2024\"',\n",
              " 'Published: 8:50 p.m. ET Oct. 20, 2024 Updated: 8:56 p.m. ET Oct. 20, 2024\"',\n",
              " 'Published: 12:16 p.m. ET Oct. 18, 2024 Updated: 12:17 p.m. ET Oct. 18, 2024\"',\n",
              " 'Published: 12:11 p.m. ET Oct. 18, 2024 Updated: 12:11 p.m. ET Oct. 18, 2024\"',\n",
              " 'Published: 9:01 p.m. ET Oct. 19, 2024 Updated: 10:43 p.m. ET Oct. 19, 2024\"',\n",
              " 'Published: 11:08 p.m. ET Oct. 19, 2024 Updated: 2:19 p.m. ET Oct. 20, 2024\"',\n",
              " 'Published: 5:06 a.m. ET Oct. 19, 2024 Updated: 6:37 a.m. ET Oct. 19, 2024\"',\n",
              " 'Published 12:12 p.m. ET Oct. 18, 2024\"',\n",
              " 'Published: 9:19 a.m. ET Oct. 20, 2024 Updated: 11:32 a.m. ET Oct. 20, 2024\"',\n",
              " 'Published: 3:11 p.m. ET Oct. 20, 2024 Updated: 7:59 p.m. ET Oct. 20, 2024\"',\n",
              " 'Published: 5:02 a.m. ET Oct. 19, 2024 Updated: 5:02 a.m. ET Oct. 19, 2024\"',\n",
              " 'Updated: 4:46 p.m. ET Oct. 20, 2024\"',\n",
              " 'Published: 12:54 p.m. ET Oct. 20, 2024 Updated: 1:01 p.m. ET Oct. 20, 2024\"',\n",
              " 'Published: 6:23 p.m. ET Oct. 18, 2024 Updated: 6:23 p.m. ET Oct. 18, 2024\"',\n",
              " 'Published: 8:22 a.m. ET Oct. 19, 2024 Updated: 8:22 a.m. ET Oct. 19, 2024\"',\n",
              " 'Published: 9:26 p.m. ET Oct. 18, 2024 Updated: 10:02 a.m. ET Oct. 19, 2024\"',\n",
              " 'Published: 10:47 p.m. ET Oct. 19, 2024 Updated: 8:56 a.m. ET Oct. 20, 2024\"',\n",
              " 'Published: 5:00 a.m. ET Oct. 20, 2024 Updated: 7:10 p.m. ET Oct. 20, 2024\"',\n",
              " 'Published: 9:02 a.m. ET Oct. 19, 2024 Updated: 9:02 a.m. ET Oct. 19, 2024\"',\n",
              " 'Published 12:43 p.m. ET Oct. 19, 2024\"']"
            ]
          },
          "metadata": {},
          "execution_count": 10
        }
      ]
    },
    {
      "cell_type": "code",
      "execution_count": null,
      "metadata": {
        "colab": {
          "base_uri": "https://localhost:8080/"
        },
        "collapsed": true,
        "id": "US_4hPNLmlqe",
        "outputId": "53b0f365-365a-4fb7-d1b8-0de194ea5c7d"
      },
      "outputs": [
        {
          "output_type": "stream",
          "name": "stderr",
          "text": [
            "<ipython-input-156-4f9876e9c3ac>:6: XMLParsedAsHTMLWarning: It looks like you're parsing an XML document using an HTML parser. If this really is an HTML document (maybe it's XHTML?), you can ignore or filter this warning. If it's XML, you should know that using an XML parser will be more reliable. To parse this document as XML, make sure you have the lxml package installed, and pass the keyword argument `features=\"xml\"` into the BeautifulSoup constructor.\n",
            "  soup = BeautifulSoup(html_page.text, \"lxml\")\n"
          ]
        }
      ],
      "source": [
        "#NY Post Article Link Scraper\n",
        "#check lxml thing later\n",
        "headers = {\"user-agent\": \"Mozilla/5.0\"}\n",
        "url = 'https://nypost.com/politics/feed/'\n",
        "html_page = requests.get(url, headers=headers)\n",
        "soup = BeautifulSoup(html_page.text, \"lxml\")\n",
        "links = []\n",
        "for item in soup.find_all(\"item\"):\n",
        "  link = str(item)\n",
        "  i = link.find(\"<link/>\")\n",
        "  j = link.find(\"<guid\")\n",
        "  x = link[i+7:j]\n",
        "  y = x.split('\\n', 1)[0]\n",
        "  #remove videos\n",
        "  if not (y.startswith('https://nypost.com/video')):\n",
        "    links.append(y)\n",
        "NYPost_links = links"
      ]
    },
    {
      "cell_type": "code",
      "source": [
        "# @title NYPost [completed: links, articleTxt, headers, and pubdate]\n",
        "#NYPost Article Text Scraper\n",
        "url = 'https://nypost.com/politics/feed/'\n",
        "headers = {\"user-agent\": \"Mozilla/5.0\"}\n",
        "html_page = requests.get(url,headers=headers)\n",
        "soup = BeautifulSoup(html_page.text, \"lxml\")\n",
        "links = []\n",
        "artTxt = []\n",
        "for item in soup.find_all(\"item\"):\n",
        "  link= str(item)\n",
        "  i = link.find(\"<link/>\")\n",
        "  j = link.find(\"<guid\")\n",
        "  x = link[i+7:j]\n",
        "  y = x.split('\\n', 1)[0]\n",
        "  links.append(y)\n",
        "  article_text = scrape_article_text_useragent(y,headers)\n",
        "  artTxt.append(article_text)\n",
        "NYPost_artTxt = artTxt\n",
        "\n",
        "#NYPost Article Header Scraper\n",
        "headers = []\n",
        "for item in soup.find_all(\"item\"):\n",
        "  header= str(item)\n",
        "  i = header.find(\"<title>\")\n",
        "  j = header.find(\"</title>\")\n",
        "  x = header[i+7:j]\n",
        "  y = x.split('\\n', 1)[0]\n",
        "  headers.append(y)\n",
        "NYPost_headers = headers\n",
        "\n",
        "#NYPost Article PubDate Scraper\n",
        "pubds = []\n",
        "for item in soup.find_all(\"item\"):\n",
        "  pubd = str(item)\n",
        "  i = pubd.find(\"<pubdate>\")\n",
        "  j = pubd.find(\"</pubdate>\")\n",
        "  x = pubd[i+9:j]\n",
        "  y = x.split('\\n', 1)[0]\n",
        "  pubds.append(y)\n",
        "NYPost_pubds = pubds"
      ],
      "metadata": {
        "colab": {
          "base_uri": "https://localhost:8080/"
        },
        "id": "LAhonLbblKVC",
        "outputId": "aaf754f1-3934-467b-bdc6-ee7323e2cf43"
      },
      "execution_count": null,
      "outputs": [
        {
          "output_type": "stream",
          "name": "stderr",
          "text": [
            "<ipython-input-37-e828cb051f93>:6: XMLParsedAsHTMLWarning: It looks like you're parsing an XML document using an HTML parser. If this really is an HTML document (maybe it's XHTML?), you can ignore or filter this warning. If it's XML, you should know that using an XML parser will be more reliable. To parse this document as XML, make sure you have the lxml package installed, and pass the keyword argument `features=\"xml\"` into the BeautifulSoup constructor.\n",
            "  soup = BeautifulSoup(html_page.text, \"lxml\")\n"
          ]
        }
      ]
    },
    {
      "cell_type": "code",
      "execution_count": null,
      "metadata": {
        "collapsed": true,
        "id": "_zLYbXfDsF-3"
      },
      "outputs": [],
      "source": [
        "#People Article Link Scraper\n",
        "#without user-agent\n",
        "page = requests.get('https://people.com/politics/')\n",
        "soup = BeautifulSoup(page.text, 'html.parser')\n",
        "\n",
        "allLinks = []\n",
        "link = \"https://people.com/politics/\"\n",
        "for link in soup.find_all('a'):\n",
        "    allLinks.append(link.get('href'))\n",
        "allLinks = filter(None, allLinks)\n",
        "#identifier for political articles seems to be a 7 digit # that starts w 87 at the end of the link\n",
        "#check to confirm, at least i got astrology out of there\n",
        "linkEnds = [i for i in allLinks if (len(i) > 8 and i[-7] == '8' and i[-6] == '7')]\n",
        "# result = ['https://people.com' + i for i in linkEnds]\n",
        "People_links = set(linkEnds)\n",
        "People_links = list(People_links)"
      ]
    },
    {
      "cell_type": "code",
      "source": [
        "People_links"
      ],
      "metadata": {
        "colab": {
          "base_uri": "https://localhost:8080/"
        },
        "id": "B2mu_78xev3N",
        "outputId": "1176d250-f7dd-4c13-be3c-ed872022c71c"
      },
      "execution_count": null,
      "outputs": [
        {
          "output_type": "execute_result",
          "data": {
            "text/plain": [
              "['https://people.com/elon-musk-giving-away-1-million-to-trump-supporters-every-day-until-election-day-8731176',\n",
              " 'https://people.com/elections-2024-races-to-watch-8702372',\n",
              " 'https://people.com/kamala-harris-doctor-says-her-health-is-excellent-summary-trump-campaign-responds-8727597',\n",
              " 'https://people.com/tiffany-trump-pregnant-first-baby-8726569',\n",
              " 'https://people.com/ethel-kennedy-memorial-service-8729001',\n",
              " 'https://people.com/donald-trump-suggests-military-to-stop-radical-left-8728401',\n",
              " 'https://people.com/lilly-ledbetter-equal-pay-pioneer-dies-at-86-8727855',\n",
              " 'https://people.com/harrison-butker-says-how-beautiful-it-is-for-women-to-step-aside-and-prioritize-their-family-8727543',\n",
              " 'https://people.com/donald-trump-insists-men-found-arnold-palmers-genitalia-unbelievable-8731151',\n",
              " 'https://people.com/donald-trump-calls-kamala-harris-an-expletive-vice-president-at-rally-8731119',\n",
              " 'https://people.com/rfk-jr-wanted-to-possess-and-impregnate-journalist-olivia-nuzzi-her-ex-alleges-in-court-filing-8728707',\n",
              " 'https://people.com/when-jimmy-carter-absentee-vote-will-be-counted-8729995',\n",
              " 'https://people.com/jimmy-carter-fulfills-wish-votes-kamala-harris-8729118',\n",
              " 'https://people.com/donald-trump-threatens-to-deny-california-federal-disaster-aid-as-president-8727916',\n",
              " 'https://people.com/kamala-harris-jokes-at-hecklers-at-rally-you-meant-to-go-to-the-smaller-one-8730192',\n",
              " 'https://people.com/doug-emhoff-shares-emotional-moment-hammering-mezuzah-vp-residence-exclusive-8727257',\n",
              " 'https://people.com/donald-trump-calls-kamala-harris-the-r-word-at-dinner-with-billionaire-donors-report-8727651',\n",
              " 'https://people.com/dave-bautista-attacks-donald-trump-masculinity-not-tough-whiny-8729921',\n",
              " 'https://people.com/donald-trump-disses-detroit-campaign-speech-8727128',\n",
              " 'https://people.com/betty-cartledge-81-year-old-first-time-voter-8730028',\n",
              " 'https://people.com/ethel-kennedy-96-hospitalized-after-stroke-grandson-reveals-8725345',\n",
              " 'https://people.com/judge-orders-desantis-administration-stop-threatening-tv-stations-airing-abortion-ads-8730417',\n",
              " 'https://people.com/nelson-rockefeller-former-aide-megan-marshack-addresses-him-in-her-obit-8731048',\n",
              " 'https://people.com/kerry-washington-says-kamala-harris-great-nieces-helped-nerves-dnc-exclusive-8727840',\n",
              " 'https://people.com/secret-service-agents-train-tyler-perry-white-house-8728262',\n",
              " 'https://people.com/rufus-wainwright-mortified-his-version-of-hallelujah-played-at-trump-rally-8728716',\n",
              " 'https://people.com/whoopi-goldberg-slams-trump-after-he-calls-her-comedy-dirty-8726460',\n",
              " 'https://people.com/jeff-carter-parkinsons-diagnosis-family-caregiving-advocacy-exclusive-8724522',\n",
              " 'https://people.com/mark-ruffalo-joined-navajo-nation-walk-to-the-polls-exclusive-8726536',\n",
              " 'https://people.com/ethel-kennedy-memorial-photos-loved-ones-special-guests-8729097',\n",
              " 'https://people.com/donald-trump-compared-hitler-vowing-invoke-alien-enemies-act-8727625',\n",
              " 'https://people.com/rfk-jr-cheryl-hines-arrive-ethel-kennedy-memorial-service-8728924',\n",
              " 'https://people.com/kamala-harris-skywriting-banners-battleground-nfl-games-exclusive-8725949',\n",
              " 'https://people.com/rfk-jr-cheryl-hines-pda-al-smith-dinner-8730583',\n",
              " 'https://people.com/ethel-kennedy-spicy-valentines-clinton-obama-biden-pelosi-8729729',\n",
              " 'https://people.com/donald-trump-calls-female-senator-fantastically-attractive-to-crowd-full-of-women-8729484',\n",
              " 'https://people.com/bill-clinton-confused-for-joe-biden-by-mcdonalds-employee-video-8727973',\n",
              " 'https://people.com/donald-trump-slammed-for-declaring-himself-the-father-of-ivf-8729378',\n",
              " 'https://people.com/donald-trump-third-assassination-attempt-coachella-valley-rally-prevented-sheriff-says-8727695',\n",
              " 'https://people.com/jenna-bush-hager-says-her-husband-used-to-love-to-go-ghost-hunting-at-the-white-house-8725651',\n",
              " 'https://people.com/melania-donald-trump-reactions-grabbing-kitty-joke-al-smith-dinner-8730406',\n",
              " 'https://people.com/donald-trump-town-hall-plays-music-39-minutes-8728085',\n",
              " 'https://people.com/ethel-kennedy-owned-16-irish-setters-named-rusty-8726941',\n",
              " 'https://people.com/taylor-swift-wrote-love-song-about-ethel-bobby-kennedy-8726336',\n",
              " 'https://people.com/all-about-robert-f-kennedy-ethel-kennedy-relationship-8726346',\n",
              " 'https://people.com/kamala-harris-calls-out-fox-news-trimmed-clip-trump-8729804',\n",
              " 'https://people.com/cheryl-hines-reacts-to-husband-rfk-jrs-tribute-to-late-ethel-kennedy-8727526',\n",
              " 'https://people.com/kennedy-family-dogs-over-the-years-photos-8727241',\n",
              " 'https://people.com/rfk-jr-speaks-out-following-mother-ethel-kennedys-death-8726461',\n",
              " 'https://people.com/ethel-kennedy-life-in-photos-8726610']"
            ]
          },
          "metadata": {},
          "execution_count": 52
        }
      ]
    },
    {
      "cell_type": "code",
      "source": [
        "# @title people [not completed: headers, pubdate]\n",
        "\n",
        "#People Article Text Scraper\n",
        "artTxt = []\n",
        "for art in People_links:\n",
        "  article_text = scrape_article_text(art)\n",
        "  artTxt.append(article_text)\n",
        "People_artTxt = artTxt\n",
        "\n",
        "#combined headers + pubdate:\n",
        "pubds = []\n",
        "headers = []\n",
        "for h in links:\n",
        "  hp = requests.get(h)\n",
        "  souph = BeautifulSoup(hp.text, 'html.parser')\n",
        "  span = souph.find_all('head', class_=\"loc head\")\n",
        "  header= str(span)\n",
        "  print(header)\n",
        "  i = header.find(\"<title>\")\n",
        "  j = header.find(\"<\\title\")\n",
        "  x = header[i+7:j]\n",
        "  y = x.split('\\n', 1)[0]\n",
        "  headers.append(y)\n",
        "  span = souph.find_all('div', class_='mntl-attribution__item-date')\n",
        "  pubd = str(span)\n",
        "  i = pubd.find(\"Published on\")\n",
        "  j = pubd.find(\"</div>\")\n",
        "  if i == -1:\n",
        "    i = pubd.find(\"Updated on\")\n",
        "  x = pubd[i+14:j].lstrip()\n",
        "  y = x.split('\\n', 1)[0]\n",
        "  pubds.append(y)\n",
        "People_pubds = pubds\n",
        "People_headers = headers"
      ],
      "metadata": {
        "colab": {
          "base_uri": "https://localhost:8080/"
        },
        "collapsed": true,
        "id": "-4SEzVLidVgj",
        "outputId": "ae8e976b-6a51-4a64-a4ec-f2c5ba898fad"
      },
      "execution_count": null,
      "outputs": [
        {
          "output_type": "stream",
          "name": "stdout",
          "text": [
            "[]\n",
            "[]\n",
            "[]\n",
            "[]\n",
            "[]\n",
            "[]\n",
            "[]\n",
            "[]\n",
            "[]\n",
            "[]\n",
            "[]\n",
            "[]\n",
            "[]\n",
            "[]\n",
            "[]\n",
            "[]\n",
            "[]\n",
            "[]\n",
            "[]\n",
            "[]\n"
          ]
        }
      ]
    },
    {
      "cell_type": "code",
      "source": [
        "People_artTxt"
      ],
      "metadata": {
        "colab": {
          "base_uri": "https://localhost:8080/"
        },
        "id": "Qj4tRAoUePii",
        "outputId": "8cf6e66d-72e0-4cb0-d46f-eff81b3713a8"
      },
      "execution_count": null,
      "outputs": [
        {
          "output_type": "execute_result",
          "data": {
            "text/plain": [
              "['“You know, it seems like a good use of money basically,” Musk said at an America PAC event JIM WATSON/AFP via Getty  Elon Musk is giving away money to Donald Trump supporters every day until Election Day on Nov. 5.\\n  Musk, 53, announced the daily giveaway on Saturday, Oct. 19, at an America PAC event in Harrisburg, Penn., where he explained he plans to randomly award $1 million every day to a swing state supporter of the Republican presidential candidate.\\n  “I have a surprise for you,\" Musk told the crowd before bringing out a giant check. \"We are going to be awarding $1 million to people who have signed the petition — every day, from now until the election.”\\n  During the event, the Tesla CEO handed attendee John Dreher a check for $1 million. Musk called the stunt \"kind of fun,\" adding that \"it seems like a good use of money basically.\"\\n Michael Swensen/Getty  To qualify, registered voters must sign a petition for Musk\\'s \"pro-Trump political action committee,\" as per CNBC. People wishing to sign the petition on the America PAC website \"must be registered voters of Arizona, Georgia, Michigan, Nevada, North Carolina, Pennsylvania, or Wisconsin.\"\\n  On Sunday, Oct. 20, the SpaceX founder handed another $1 million giant check out to Kristine Fishell during a town hall at Pittsburgh.\\n  According to Reuters, Musk has donated $75 million to America PAC in support of Trump, 78.\\n  Musk has also been active in encouraging Pennsylvanian residents to register to vote, speaking at events throughout the state. “How Pennsylvania goes I think is how the election goes,” Musk said, per CNBC.\\n  Musk\\'s giveaway might violate federal election laws that state that someone who “pays or offers to pay or accepts payment either for registration to vote or for voting shall be fined not more than $10,000 or imprisoned not more than five years, or both.”\\n Anna Moneymaker/Getty  Never miss a story — sign up for PEOPLE\\'s free daily newsletter to stay up-to-date on the best of what PEOPLE has to offer\\u200b\\u200b, from celebrity news to compelling human interest stories.\\xa0\\n  Josh Shapiro, the governor of Pennsylvania, also weighed in on Musk\\'s proposed giveaway. \"I think it’s something that law enforcement should take a look at,\" Shapiro said during an appearance on NBC\\'s Meet the Press on Oct. 20.\\n  \"I’m not the attorney general anymore of Pennsylvania, I’m the governor, but it does raise serious questions,\" Shapiro added.\\n  The X (formerly known as Twitter) owner hadn\\'t been a Trump supporter in the past. In July 2022, he had said that Trump would be too old to run for president. \"Trump would be 82 at end of term, which is too old to be chief executive of anything,\"\\xa0he posted on X.\\n  However, in July, he said he was all in on Trump following the assassination attempt at a rally in Butler, Penn. \"I fully endorse President Trump and hope for his rapid recovery,\" the CEO said at the time.\\n',\n",
              " 'Countless battleground races will capture attention this November, but a few remain toss-ups in the truest sense Kyler Alvord is a news editor at PEOPLE, leading the brand\\'s political coverage. He joined the publication on the crime beat.  During a presidential election year, down-ballot races are easily overlooked as all eyes turn toward the Electoral College. But a president can\\'t legislate without a like-minded Congress, and the Supreme Court\\'s recent push toward states\\' rights has made gubernatorial and local races more important than ever.\\n  Heading into the election, the United States Congress is narrowly divided. Democrats currently control the Senate 51-49, and Republicans control the House of Representatives 220-212, with a few seats vacant.\\n  Republicans have a likely path to winning the Senate majority in November, and Democrats are on strong footing to retake control of the House, but neither side has room for error in an election cycle where razor-thin voting margins will determine Washington\\'s priorities for years to come.\\n  Countless battleground races are in play this November — from the Senate to the House to statehouses around the country — but a few remain toss-ups in the truest sense. Here are the most competitive 2024 election races to watch, regularly updated with the latest polling averages from poll tracker FiveThirtyEight.\\n Michael Brochstein/SOPA Images/Shutterstock; Alex Edelman/Getty  Latest polling: Scott up 4.6 points\\n  Florida Sen. Rick Scott has received some warning signs in his bid for reelection as some polling shows Democratic challenger Debbie Mucarsel-Powell within striking distance of his seat.\\n  Scott, 71, is not only vying for a second term in the Senate, but has expressed a desire to replace Mitch McConnell as the Republican Senate leader in the 119th Congress. Though he\\'s still a front-runner in his reelection race, former Florida Rep. Mucarsel-Powell, 53, has slimmed his polling lead nearly in half since June.\\n  Scott previously served eight years as the Florida governor and has a strong lead on his opponent in terms of experience, but with a lengthy track record comes political baggage. Mucarsel-Powell\\'s younger, fresher campaign has stayed competitive in a state that voted solidly Republican in the last two presidential elections.\\n MANDEL NGAN/AFP via Getty; Eva Marie Uzcategui/Bloomberg via Getty  Latest polling: Slotkin up 3.8 points\\n  Longtime Democratic Sen. Debbie Stabenow, 74, decided not to seek reelection in Michigan in 2024, giving Republicans an opportunity to pick up a critical swing state seat.\\n  Democrats quickly lined up Michigan Rep. Elissa Slotkin — who has proved an invaluable asset to her party by winning three congressional toss-up elections — to run in Stabenow\\'s place, hoping that she can continue her streak. Slotkin, 48, faces former Michigan Rep. Mike Rogers, a 61-year-old Republican who retired from the House in 2015.\\n  Slotkin is a former CIA analyst who worked with George W. Bush\\'s National Security Council and was tapped to oversee international security as an assistant defense secretary in the Obama administration. Rogers is an Army veteran and former FBI agent who spent 14 years in Congress before taking a decade-long hiatus from politics.\\n Kevin Dietsch/Getty; Eva Marie Uzcategui/Bloomberg via Getty  Latest polling: Sheehy up 5.4 points\\n  Control of the Senate could come down to the firmly Republican state of Montana, where moderate Democrat Jon Tester has defied the odds since 2006, securing three consecutive terms in Congress\\' upper chamber. Now Tester, 68, is considered the most vulnerable Senate incumbent running for reelection in 2024. Though the farmer and former music teacher has enjoyed high approval ratings for most of his tenure, today\\'s hyper-partisanship puts him in a trickier spot with conservative voters.\\n  The Democratic incumbent faces a challenge from Republican Tim Sheehy, a former Navy SEAL from Minnesota who relocated to Montana in 2014 to start an aerial firefighting company. Sheehy, who will be 37 years old on Election Day, quickly eliminated Tester\\'s onetime advantage, and is seen as the favorite to win by some pollsters.\\n Bill Clark/CQ-Roll Call, Inc via Getty; Nikos Frazier/Omaha World-Herald via AP  Latest polling: Fischer up 0.6 points\\n  An unexpected Republican Senate seat has become the most vulnerable in the nation, according to recent polls. GOP Sen. Deb Fischer is running for a third term in Nebraska\\'s general Senate election in November (there\\'s a separate special election involving the other seat, where Republicans are handily ahead), and she has a formidable challenger in political newcomer Dan Osborn, an independent who says he\\'s always been registered as nonpartisan.\\n  In an unusual move, Osborn has vowed not to caucus with either party if elected, meaning he would form his own independent caucus and disrupt the typical two-party split between Democrats and Republicans. The other independents in Senate, like Bernie Sanders, caucus with Democrats and are therefore counted as Democrats in the overall tally.\\n  Osborn, 49, is a Navy veteran and former union president, and his lack of party affiliation has seemingly resonated with voters who are disappointed in Fischer\\'s leadership. The Nebraska Democratic Party opted not to run their own candidate this year in order to boost Osborn\\'s chances, though the independent candidate declined their endorsement.\\n  Fischer, 73, suffered low approval ratings heading into her reelection year. She is the ranking member on the Senate Rules Committee and previously served in the Nebraska Legislature.\\n Tom Williams/CQ-Roll Call, Inc via Getty; Eva Marie Uzcategui/Bloomberg via Getty\\xa0  Latest polling: Brown up 2.3 points\\n  Democratic Ohio Sen. Sherrod Brown, 71, may be looking at the toughest reelection battle of his three-term Senate career, seeking victory in a state that has turned comfortably Republican since his last campaign. Trump won Ohio by 8 points in 2020, and freshman Ohio Sen. J.D. Vance defeated his Democratic opponent by 6 points in the 2022 midterms.\\n  Brown is the only Democrat who still holds a partisan, statewide office in Ohio. He faces a challenge from Republican car dealership owner Bernie Moreno, 57, who began to embrace far-right views in the lead-up to his campaign. Moreno has the backing of Trump and the rest of the MAGA machine, and has gained ground in one of multiple races that Democrats need to win in order to retain control of Senate.\\n Noam Galai/Getty; Sharon Steinmann/Houston Chronicle via Getty\\xa0  Latest polling: Cruz up 4.0 points\\n  Texas Democrats have long talked about turning the state blue, and while Republicans still have the advantage in the 2024 elections, statewide polling suggests that a couple of upsets are certainly possible. Notably, Texas Sen. Ted Cruz — who placed second behind Trump in the 2016 GOP presidential primaries — faces a serious challenge from Democratic Rep. Colin Allred.\\n  Allred, 41, was a professional football player for the Tennessee Titans who turned to a career in civil rights law and politics. He defeated a Republican incumbent in his 2018 congressional race and is now eyeing Cruz\\'s seat in the Senate.\\n  Cruz, 53, joined the Senate in 2013 and is seeking a third term. The staunchly conservative lawmaker has a history of making enemies on both sides of the aisle, and has been both an opponent of reproductive rights and same-sex marriage, lauding the overturning of Roe v. Wade and suggesting that Obergefell v. Hodges — which legalized gay marriage nationwide — should similarly be overturned. In the 2024 Senate race, he has stayed quieter on his abortion views.\\n \\xa0Chip Somodevilla/Getty; Bill Clark/CQ-Roll Call, Inc via Getty  Latest polling: Baldwin up 4.2 points\\n  Wisconsin\\'s Democratic Sen. Tammy Baldwin is seeking a third term in the U.S. Senate this election cycle. Baldwin, 62, became the first openly lesbian woman elected to Congress when she joined the House of Representatives in 1999, and made history again as the first openly LGBTQ+ senator when she assumed her latest role in 2013. She is a member of the Congressional Progressive Caucus, and has a background in law and local politics. During the 2020 presidential election, she was rumored to be on Joe Biden\\'s initial running mate shortlist.\\n  Baldwin faces 60-year-old Republican Eric Hovde in the 2024 election, a businessman who previously sought his party\\'s Senate nomination in 2012. Though Hovde and his family have deep roots in Wisconsin, the candidate has faced criticism on the campaign trail for owning a $7 million mansion in Southern California and failing to vote in 17 of the last 30 elections in Wisconsin (when he voted in 2023, his absentee ballot was delivered to the California home). Still, in a state that\\'s politically divided, his solidly conservative values and endorsement from Trump have put him within arm\\'s reach of unseating the incumbent Democrat.\\n Bing Guan for The Washington Post via Getty; Christina House / Los Angeles Times via Getty  Latest polling: Toss-up\\n  Rep. Michelle Steel, 69, joined the list of vulnerable California Republicans in September when election forecasters shifted her House race from \"lean Republican\" to \"toss up\" territory. Steel, who was first elected to Congress in 2020, represents a flip-flopping district that voted for Biden four years ago but also supported Republican state candidates in the 2022 midterms.\\n  Democratic opponent Derek Tran has gained momentum in California\\'s 45th Congressional District, outraising Steel\\'s campaign in the second fundraising quarter. Highlighting his experience as a trial lawyer and Army veteran, Tran is running on a platform largely in line with his party.\\n  Throughout the race, identity-based attacks have flung between candidates. Tran, the son of Vietnam refugees, has been accused of exaggerating about his Vietnamese fluency to resonate with voters in Little Saigon; Steel, who is from South Korea, was accused by her opponent of coming to the United States \"for economic gain.\"\\n AP Photo/Paul Sancya; Tom Williams/CQ Roll Call via AP  Latest polling: Barrett ahead\\n  Democrat Curtis Hertel Jr. and Republican Tom Barrett — two former colleagues in the Michigan state Senate — are vying for the same House seat in Michigan\\'s 7th Congressional District this year, as incumbent Democratic Rep. Elissa Slotkin seeks higher office.\\n  MI-07 is one of the most purple districts in the nation. In 2022, Barrett\\'s well-funded attempt at defeating Slotkin failed; with a new Democrat in the race this time around, he hopes to have more success. Unlike last time around, Barrett is running with Trump\\'s endorsement.\\n  Barrett, 43, is an ex-Army helicopter pilot who worked as an analyst for the Michigan Department of Treasury. Hertel, 46, comes from a well-known family in Michigan politics and has held multiple elected positions. Hertel hopes to thwart his opponent\\'s momentum in the race by spotlighting his bridge-building record in comparison to Barrett\\'s hyper-partisan approach to politics.\\n Noam Galai/Getty; Daniel Boczarski/Getty  Latest polling: Toss-up\\n  Republican Rep. Mike Lawler unseated a longtime Democratic congressman in a 2022 upset, contributing to his party\\'s narrow takeover of the House after the midterms. In his first reelection battle, though, Lawler\\'s ability to retain the seat appears uncertain — his biggest asset is that he has a relatively bipartisan voting record that could appeal to a divided constituency.\\n  Lawler, 38, finds himself in a close race against former Democratic Rep. Mondaire Jones, 37, a progressive who was ousted in a different district in 2022 after just one term in Congress. While New York\\'s 17th Congressional District has a slight liberal tilt on the Cook Partisan Voting Index, Jones doesn\\'t seem to have an automatic advantage; the little polling available hints at another nail-biter on Nov. 5.\\n Bill Clark/CQ-Roll Call, Inc via Getty; The New York State Senate  Latest polling: Mannion ahead\\n  Partisan control of the House may very well come down to New York, where another swing district has a Republican incumbent fighting for his political life. In New York\\'s 22nd Congressional District, which contains Syracuse and part of the Finger Lakes, 57-year-old Rep. Brandon Williams finds himself in an uphill battle to defend his seat. He was elected to the House by only 1.5% in 2022, and the state\\'s recently redrawn congressional map doesn\\'t help his chances.\\n  Williams\\' Democratic opponent this year, New York state Sen. John Mannion, has had a strong showing in local polls. Syracuse University political science professor Grant Reeher previously explained to Spectrum News 1 that Mannion, 56, is more visible in the community than Williams, which exposes a weak spot for the incumbent. But Reeher also cautioned that Williams has already exceeded expectations on Election Day once before and shouldn\\'t be underestimated.\\n Bill Clark/CQ-Roll Call, Inc via Getty; AP Photo/Carolyn Kaster  Latest polling: N/A\\n  Northeastern Pennsylvania\\'s 8th Congressional District is the most Republican-leaning district in the nation that is represented by a member of the Congressional Progressive Caucus. Democratic Rep. Matt Cartwright, 63, was first elected to the House in 2012, and his incumbent advantage has seemingly helped him hold the seat thus far in an increasingly conservative district that voted for Trump in 2020.\\n  In his bid for a seventh term, Cartwright faces a challenge from Republican businessman Rob Bresnahan, 34, who runs the electrical contracting company that his grandfather founded. Local infrastructure has become a key issue in the race, with Cartwright having campaigned from day one on a specific goal to revive the rail system in the area.\\n Bill Clark/CQ-Roll Call, Inc via Getty; Nathan Howard/Getty  Latest polling: Toss-up\\n  Two years after Democrat Marie Gluesenkamp Perez flipped a House seat blue in a district that voted for Trump in 2020, she\\'ll rematch with the same man she defeated before — far-right Army veteran Joe Kent.\\n  Kent, 44, rode Trump\\'s endorsement to Election Day in 2022, ousting the incumbent congresswoman at the time in the Republican primaries. Though he was popular enough to win his party\\'s nomination, his promotion of conspiracy theories and association with far-right extremists made him less appealing to a general election audience, allowing Gluesenkamp Perez to slide in with an upset victory.\\n  This time around, Gluesenkamp Perez has a bipartisan record to run on. The 36-year-old former auto repair shop owner is a Blue Dog Democrat who has broken from her party on several occasions in Congress and proven that neither party owns her vote. Still, after winning in 2022 by less than 1%, she can\\'t assume that reelection is guaranteed.\\n Mark Wilson/Getty, Margie Cullen / USA TODAY NETWORK  Latest polling: Ayotte slightly ahead\\n  Two lifelong New Hampshirites are fighting for the governor\\'s seat after a drawn-out primary season concluded in September in the race to replace outgoing Republican Gov. Chris Sununu. New Hampshire is unique in that its congressional delegation is entirely blue, but its state-level government is entirely red.\\n  GOP nominee Kelly Ayotte, 56, has experience as a former U.S. senator and New Hampshire attorney general, which gives her a head start in a state that\\'s known to look beyond party lines. Ayotte is facing former Manchester Mayor Joyce Craig, 57, who only narrowly secured the Democratic nomination after a bitter primary battle that divided the liberal base.\\n  In the Senate, Ayotte had a moderately conservative record, aligning with Republicans on most issues — including pushing to pass a national abortion ban — while taking left-of-center stances on some issues, like LGBTQ+ rights. Now that governors have a strong influence on issues like reproductive rights post-Roe v. Wade, Craig will aim to keep Ayotte\\'s more staunchly conservative positions at the front of voters\\' minds as they head to the ballot box.\\n',\n",
              " 'Trump has shared little health information during his years in public office, despite spreading rumors about his opponents\\' health during all three of his presidential campaigns SAUL LOEB / AFP via Getty; Grant Baldwin/Getty  Kamala Harris’ doctor deemed her overall health “excellent” as her campaign aims to provide contrast to the limited medical information Donald Trump has shared throughout the years.\\n  On Saturday, Oct. 12, the White House published a medical report penned by the vice president’s physician, Dr. Joshua Simmons.\\xa0\\n  In the two-page letter — which covers her entire medical history as well as specific figures from her most recent physical exam in April 2024 — Simmons stated that Harris, 59, “possesses the physical and mental resiliency required to successfully execute the duties of the Presidency.”\\n  The vice president “maintains a healthy, active lifestyle, despite her busy schedule,” Simmons wrote. She also eats a healthy diet, does not use tobacco products and drinks alcohol “only occasionally and in moderation,” he stated.\\n  “In summary, Vice President Harris remains in excellent health,” he concluded the report. “She possesses the physical and mental resiliency required to successfully execute the duties of the Presidency, to include those as Chief Executive, Head of State and Commander in Chief.”\\n Daniel Steinle/Bloomberg via Getty  By publishing the comprehensive report, the Democratic presidential candidate’s campaign hopes to spark conversation about the physical health of former president Trump and his ability to serve as president, a Harris campaign aide anonymously said.\\n  The 78-year-old candidate — who, if elected to serve a second term, would leave office as the oldest president in U.S. history — has shared only limited information about his health throughout the years, and despite telling reporters that he would release more medical information during the 2024 campaign, his campaign has ignored their follow-ups.\\n  Trump’s campaign was swift in their response to this pressure, publishing a statement shortly after the White House shared Harris’ health summary.\\n  \"President Trump has voluntarily released updates from his personal physician, as well as detailed reports from Dr. Ronny Jackson who treated him after the first assassination attempt. All have concluded he is in perfect and excellent health to be Commander in Chief,” said Trump Campaign Communications Director Steven Cheung.\\n  Cheung also claimed that the former president “has maintained an extremely busy and active campaign schedule unlike any other in political history, whereas Kamala Harris has been unable to keep up with the demands of campaigning and reveals on a daily basis she is wholly unqualified to be President of the United States.”\\n  “Her schedule is much lighter because, it is said, she does not have the stamina of President Trump. Polls are reflective of this,” the communications director claimed.\\n  Harris has maintained an aggressive campaign schedule since joining the race. Trump, meanwhile, has attacked the \"stamina\" and mental fitness of every opponent he\\'s faced since running for president in 2016.\\n Sarah Rice/Bloomberg via Getty  Alongside the statement, Trump’s campaign also linked to the letters published by his former White House physician, Dr. Ronny Jackson, after the politician’s ear was grazed by a bullet in a July 13 assassination attempt, as well as a doctor’s note he shared on Joe Biden’s 81st birthday last year.\\n  The letter, dated Nov. 20, 2023, and penned by physician Bruce Aronwald, states that as of September 2023, the former president’s health is “excellent.”\\n  In Harris’ new health report, Simmons stated that the presidential candidate has a history of seasonal allergies and urticaria, or hives, but has been able to improve her symptoms “dramatically” through allergen immunotherapy.\\n  The physician also stated that Harris wears contact lenses for mild nearsightedness and disclosed her family history including maternal colon cancer. Her mother, Shyamala, died of colon cancer in 2009.\\n  Never miss a story — sign up for PEOPLE\\'s free daily newsletter to stay up-to-date on the best of what PEOPLE has to offer, from juicy celebrity news to compelling human interest stories.\\n',\n",
              " 'The former president announced that his youngest daughter is having a baby during a campaign event in Detroit on Thursday, Oct. 10  Donald Trump announced that his youngest daughter is pregnant with her first baby.\\n  The former president, 78, shared that his 30-year-old daughter, Tiffany, whom he shares with ex-wife Marla Maples, is expecting a child with husband Michael Boulos, 27, announcing the news at the Detroit Economic Club.\\n  While delivering remarks at the event, Donald recognized several people in the audience, including his daughter\\'s father-in-law, Dr. Massad Boulos.\\n  \"He happens to be the father of Tiffany\\'s husband, Michael, who\\'s a very exceptional young guy,\" the former president said. \"And she\\'s an exceptional young woman. And she\\'s going to have a baby. So that\\'s nice.\"\\n  Tiffany has not yet spoken publicly about her pregnancy, but a spokesperson for the former first daughter confirmed the news to PEOPLE.\\n  Tiffany and Boulos, who is the son of a wealthy Lebanese family with businesses in Nigeria, got married in November 2022 in Palm Beach, Fla., at the family\\'s Mar-a-Lago Club.\\n  The couple began dating in 2018 after meeting at\\xa0Lindsay Lohan\\'s club in Mykonos, Greece. They then got engaged in January 2021, at the end of her father\\'s term as president — and in the wake of the\\xa0U.S. Capitol riots\\xa0— sharing the news on social media the day before the former president left office.\\n  According to a source, Boulos proposed in the White House Rose Garden with a $1.2 million diamond ring.\\n JIM WATSON/AFP via Getty  \"It has been an honor to celebrate many milestones, historic occasions and create memories with my family here at the White House, none more special than my engagement to my amazing fiancé Michael! Feeling blessed and excited for the next chapter!\" Tiffany\\xa0wrote on Instagram as she announced the news, adding a photo of her and Boulos smiling together on the White House grounds.\\n  Throughout Trump\\'s term in office, Tiffany was largely out of the public eye and often went months without seeing or speaking to her father.\\n  \"They always had a strained relationship her whole life, and it got exacerbated by the presidency,\" a source close to Tiffany\\xa0told PEOPLE in 2018.\\n Astrid Stawiarz/Getty  Never miss a story — sign up for PEOPLE\\'s free daily newsletter to stay up-to-date on the best of what PEOPLE has to offer\\u200b\\u200b, from celebrity news to compelling human interest stories.\\n  Tiffany spent her childhood in Calabasas, Calif., with her mother. Maples told PEOPLE in 2016, \"That was my choice,\\xa0raising her outside of the spotlight.\"\\n  As a source close to the Trump family previously said, \"Tiffany didn\\'t get to be as intimately involved with the family dynamic as Ivanka, Eric and Donnie Jr. She doesn\\'t really talk about her dad a lot. She\\'s always been somewhat independent of the whole family.\"\\n',\n",
              " 'The mother of 11 and founder of RFK Human Rights died at age 96 on Oct. 10 Kyler Alvord is a news editor at PEOPLE, leading the brand\\'s political coverage. He joined the publication on the crime beat. Jim Lo Scalzo/EPA/Bloomberg via Getty  Ethel Kennedy is being remembered by those who loved her most.\\xa0\\n  Ethel, the widow of late Sen. Robert F. Kennedy, died at age 96 on Oct. 10 from complications related to a stroke. After her husband’s assassination in 1968, she dedicated herself to raising their 11 children and devoted her life to public service and human rights.\\n  “Along with a lifetime’s work in social justice and human rights, our mother leaves behind nine children, 34 grandchildren and 24 great-great-grandchildren, along with numerous nieces and nephews, all of whom love her dearly,” the family statement said in announcing her death.\\n David L. Ryan/The Boston Globe via Getty  To honor her life and legacy, powerful friends and numerous Kennedy family members attended “A Celebration of Life for Mrs. Robert F. Kennedy” at the Cathedral of St. Matthew the Apostle in Washington D.C. on Wednesday, Oct. 16. A private funeral was held for the matriarch two days earlier.\\n  The service was closed to the public but available to livestream.\\n MANDEL NGAN/AFP via Getty  Among the many distinguished guests at Ethel\\'s celebration of life were three United States presidents: Joe Biden, Barack Obama and Bill Clinton.\\n  \"Her life was marked by more tragedy and heartbreak than most of us could bear,\" Obama said during his eulogy. \"And she would have been forgiven, I think, if at any point she had stepped away from public life or allowed bitterness to fester after all she and her family had been through. But that\\'s not what Ethel did because that\\'s not who she was.\"\\n  Obama called Ethel \"a big dose in a small package,\" contrasting her \"spitfire\" personality to RFK\\'s more \"shy and serious\" demeanor.\\n  \"I thought your mother was the cat\\'s meow. She would flirt with me in the most innocent ways,\" Clinton playfully told Ethel\\'s children. \"She was an amazing fireball of continuous energy. It was wonderful to be around her.\"\\n  Biden, whose eulogy closed out the service, said that Ethel was there for him at the very start of his career, when his wife and daughter were killed in a car accident after he had just been elected to the Senate.\\n  \"Along with Teddy [Kennedy], she got me through a time I didn\\'t want to stick around. I wanted no part of being in the Congress or the Senate, I mean it,\" Biden said, reflecting on the difficulty he faced in launching his political career in a time of grief. \"But Teddy and Ethel wanted to hear none of it. You know the fact is, like she did for the country, Ethel helped my family find a way forward with principle and purpose.\"\\n  And throughout his time in public service, Biden said, she always remained a friend.\\n  \"There was nothing, from my perspective — and I suspect most of you — that she couldn\\'t do,\" he said. \"Nothing.\"\\n Jim Lo Scalzo/EPA/Bloomberg via Getty  Other political power players appeared at the service as well, like California Gov. Gavin Newsom, former Secretary of State John Kerry and former House Speaker Nancy Pelosi, the latter of whom called Ethel a \"national treasure\" on stage.\\n  Martin Luther King III, son of MLK Jr., spoke about his family\\'s ties to the Kennedys.\\n  \"I remember when Mrs. Kennedy came to our home with Sen. Kennedy in 1968 after my father was assassinated. That was the first time I remember meeting Mrs. Kennedy,\" King, 66, said. \"And just two months later, my mom went to the Kennedy home to express her condolences after the assassination of Sen. Robert Kennedy.\"\\n  He continued: \"Like millions of Americans I was deeply moved and profoundly impressed by the remarkable courage and dignity Mrs. Kennedy displayed in the days after her beloved husband Sen. Robert F. Kennedy was assassinated.\"\\n MANDEL NGAN/AFP via Getty  Singers Kenny Chesney, Sting and Stevie Wonder were among the musical talent invited to perform, and in a memorable moment from the service, Ethel\\'s many grandchildren piled onto the stage and took turns offering up prayers in honor of their grandmother.\\n  Never miss a story — sign up for PEOPLE\\'s free daily newsletter to stay up-to-date on the best of what PEOPLE has to offer.\\n  A handful of Ethel\\'s children — who called her \"Mummy\" — also played prominent roles in the service, including Kathleen, Kerry, Max and Rory.\\n  \"Mummy was all I had, but she was more than I could have ever hoped for,\" said Rory, who was born after RFK\\'s assassination. \"She was my staunchest advocate.\"\\n  \"We have been lucky, Mummy, because we have lived so long with you, who had been in love all of those years with Daddy,\" Kathleen, the oldest daughter of Ethel and Bobby, said. \"We expect you will have heaven much better decorated before the holidays, and we’re comforted that you will always find a place for us at that table.\"\\n',\n",
              " 'In a Fox News interview, Trump said that \"lunatic\" Democrats like Adam Schiff, who led his first impeachment trial, are \"tough to handle\" enemies that pose bigger national threats than Russia and China Spencer Platt/Getty  Former President Donald Trump recently made a suggestion that the military could be used to shut down “radical left lunatics.”\\n  During an interview on Fox News’ Sunday Morning Futures on Sunday, Oct. 13, Trump was asked about President Joe Biden’s previous comment that he fears there could be chaos from MAGA supporters on Election Day.\\n  The former president reacted by saying he does not think his supporters — who stormed the Capitol on Jan. 6, 2021, to prevent Biden\\'s election victory from being certified in Congress — will ignite chaos, saying the real election threat is \"the enemy from within.\"\\n  “I think the bigger problem are the people from within. We have some very bad people. We have some sick people, radical left lunatics,” he continued. “And I think it should be very easily handled by, if necessary, by National Guard or, if really necessary, by the military, because they can’t let that happen.”\\n Bill Pugliano/Getty  Though the context of Trump\\'s initial remark implied that he was talking about policing militant people stirring up trouble on Election Day, the former president dug a deeper hole for himself by also telling Fox News that Democrats like California Rep. Adam Schiff — who led the prosecution in Trump\\'s first impeachment trial — are part of the \"enemy from within.\"\\n  \"The thing that’s tougher to handle are these lunatics that we have inside, like Adam Schiff,\" he said later in the interview. He then called those people \"more dangerous than China, Russia and all these countries.\"\\n  Following the comment about policing liberals with the National Guard or military, Vice President Kamala Harris\\' presidential campaign responded, stating that Trump’s remarks should \"alarm every American who cares about their freedom and security.\"\\n  In a statement shared with The Hill, Harris’ senior campaign adviser and senior spokesperson Ian Sams said, \"Donald Trump is suggesting that his fellow Americans are worse ‘enemies’ than foreign adversaries, and he is saying he would use the military against them.\"\\n  Sams continued by calling attention to Trump\\'s previous claim that he would briefly be a \"dictator\" if he took office in January 2025.\\n  \"Taken with his vow to be a dictator on ‘day one,’ calls for the ‘termination’ of the Constitution, and plans to surround himself with sycophants who will give him unchecked, unprecedented power if he returns to office, this should alarm every American who cares about their freedom and security,\" Sams added. \"What Donald Trump is promising is dangerous, and returning him to office is simply a risk Americans cannot afford.\"\\n Steven Ferdman/GC Images  Trump\\'s new remark about the \"radical left\" comes after a series of aggressive statements about how he will handle his adversaries if elected president.\\n  When Fox News\\' Laura Ingraham recently asked him to confirm that he wouldn\\'t weaponize the justice system against his political enemies, he said that \"a lot of people\" want him to do just that.\\n  Never miss a story — sign up for PEOPLE\\'s free daily newsletter to stay up-to-date on the best of what PEOPLE has to offer, from celebrity news to compelling human interest stories.\\n  After Trump baselessly accused Biden and Harris of playing politics with hurricane relief efforts, two former White House officials alleged that it was Trump who wielded disaster aid as a political tool during his presidency, refusing to provide California with federal relief for a 2018 wildfire until they showed him that the affected area was Republican-leaning.\\n  Trump seemingly vowed to do it again while speaking to California voters on the campaign trail in October, threatening that he would refuse to give the heavily Democratic state \"fire money\" down the road if the governor doesn\\'t meet his demands.\\n  The idea of using the military to police liberals hits at a similar theme found in Project 2025, a far-right playbook for Trump\\'s presidency that was drafted by his allies, about refocusing federal agents.\\n  The Project 2025 mandate suggests that the FBI should be overhauled to increase federal law enforcement presence in select areas of the U.S. where the administration believes its laws aren\\'t being enforced strictly enough.\\n  It also advises that a potential Trump administration should sue local government officials who don\\'t prosecute crimes to the administration\\'s liking.\\n',\n",
              " '\"Michelle and I are grateful for her advocacy and her friendship,\" former President Barack Obama said in a statement about Ledbetter\\'s death Mark Wilson/Getty  Lilly Ledbetter, a pioneer in the fight for gender pay equity, died on Saturday, Oct. 12. She was 86.\\xa0\\n  “Lilly Ledbetter passed away peacefully last night at the age of 86,” her family said in a statement issued to CNN and AL.com, which was the first to report the news, on Sunday.\\n  They noted to both outlets that Lebetter died of respiratory failure. “She was surrounded by her family and loved ones. Our mother lived an extraordinary life. We truly appreciate your respect for our privacy during this time of grief. \"\\n  Ledbetter worked at Goodyear Tire & Rubber for 19 years when she discovered that she was being paid thousands of dollars less each month than her male counterparts doing the same job.\\xa0\\n  In 1999, Lilly Ledbetter sued Goodyear for gender discrimination, initially winning her case in federal court and being awarded $3.8 million in back pay and damages in 2003. However, the decision was later overturned when Goodyear appealed.\\n  The case reached the Supreme Court in 2007, where the justices ruled 5-4 that Ledbetter should have filed her lawsuit within 180 days of her first unequal pay compared to her peers. Since she missed this deadline, the court determined she had no grounds to proceed with her suit.\\n  Never miss a story — sign up for PEOPLE\\'s free daily newsletter to stay up-to-date on the best of what PEOPLE has to offer\\u200b\\u200b, from celebrity news to compelling human interest stories.\\xa0\\n  Despite her loss, Ledbetter became a strong advocate for gender equity, and her activism led to the first bill signed into law by former President Barack Obama after he took office. The Lilly Ledbetter Fair Pay Restoration Act made it easier for workers to sue after discovering potential pay discrimination.\\xa0\\n  “That was the most awesome emotion I think that I have ever had,” Ledbetter told CNN in 2018. “I’ll put it behind having a son and a daughter.”\\n  On Sunday, Obama, 63, took to social media to share Ledbetter’s impact on the world. “Lilly Ledbetter never set out to be a trailblazer or a household name. She just wanted to be paid the same as a man for her hard work. But this grandmother from Alabama kept on fighting,” the former president wrote on X (formerly Twitter).\\n  He added, “Lilly did what so many Americans before her have done: setting her sights high for herself and even higher for her children and grandchildren. Michelle [Obama] and I are grateful for her advocacy and her friendship, and we send our love and prayers to her family and everyone who is continuing the fight that she began.”\\n',\n",
              " '\"There\\'s nothing shameful if you are a woman and you want to spend time with your family and raise your children,\" Butker said in a new interview Robin Alam/ISI Photos/Getty  Harrison Butker is getting candid about the reaction to his previous controversial comments\\xa0on women in the workforce.\\n  On Thursday, Oct. 10, the Kansas City Chiefs kicker, 29, spoke with Fox News after announcing his endorsement of Josh Hawley (R) in his senator re-election bid. During the discussion with host Laura Ingraham, Butker addressed the reaction to his May commencement speech — in which he talked about “diabolical lies told to women” about working rather than becoming homemakers.\\n  “I’m definitely saddened [some people] took it in a poor manner,” Butker, who appeared in the interview alongside Hawley, told Ingraham. “I was talking to a specific crowd that I think was able to understand what I was trying to say.”\\n  \"But I was trying to speak life for so many women that have dedicated their life to being the homemaker, being the one that raises the children,” he explained. “And it\\'s a beautiful role, but it\\'s not a role that should be diminished.”\\n Cooper Neill/Getty  The NFL player went on to say that it “maybe” was “countercultural to speak those values,” but noted that it was something he watched his mother, Elizabeth Butker, who is an accomplished physicist, and wife Isabelle Butker do at home.\\xa0\\n  \"There\\'s nothing shameful if you are a woman and you want to spend time with your family and raise your children, so it\\'s not putting down anyone who maybe wants to go get a great education and have a career,” he said.\\xa0\\n  “But it\\'s more talking about how beautiful it is for women to maybe just step aside and prioritize their family and spend time with their children and raise their family. And that\\'s what I was just trying to speak love about,\" he added.\\n  Never miss a story — sign up for\\xa0PEOPLE\\'s free daily newsletter\\xa0to stay up-to-date on the best of what PEOPLE has to offer, from celebrity news to compelling human interest stories.\\n  The Kansas City Chiefs kicker previously made headlines following his May 11 commencement address at Benedictine College, in which he offered his opinions on subjects including vitro fertilization (IVF), abortion and surrogacy, and said that Pride Month represented \"deadly sins.\"\\n  Harrison also addressed female students directly and spoke about his wife\\'s decision to become a homemaker rather than work.\\n  \"For the ladies present today,\\xa0congratulations on an amazing accomplishment,\" he said at the time. \"I want to speak directly to you briefly because I think it is you, the women, who have had the most diabolical lies told to you.\"\\n  \"Some of you may go on to lead successful careers in the world, but I would venture to guess that the majority of you are most excited about your marriage and the children you will bring into this world,” Butker continued.\\n Jamie Squire/Getty  “I can tell you that my beautiful wife Isabelle would be the first to say that her life truly started when she began living her vocation as a wife and as a mother,” he added.\\n  The comments sparked backlash, including from several stars such as\\xa0Katy Perry,\\xa0Flavor Flav,\\xa0Maria Shriver, the latter of whom wrote\\xa0on X\\xa0at the time, “As a woman who has leaned into my vocation of living a meaningful life inside and outside the home to not only raise good humans but also raise up our country in various ways, I think it’s demeaning to women to imply that their choices outside of wife and motherhood pale in comparison to that of a homemaker.\"\\n  “It took a revolution to get women the right to vote, to get women birth control pills, to get women to be able to put their names on a checking account, to get them maternity leave, to get them anything close to pay equity, to get elected to office, to get them where they are today!,” Shriver added.\\n',\n",
              " 'Trump made his remarks during an Oct. 19 speech that an advisor teased as one that would preview his closing arguments against Kamala Harris Getty(2)  Donald Trump opened his latest rally in Pennsylvania by paying tribute to Arnold Palmer for several minutes — before sharing an anecdote about the late golf legend\\'s anatomy.\\n  While campaigning at the Arnold Palmer Regional Airport on Friday, Oct. 19, the 78-year-old former U.S. president called Palmer \"one of the greatest golfers in the world\" before he launched into 12 minutes of talk about the athlete, including an eventual aside in which he appeared to allude to Palmer\\'s genitalia.\\n  \"But Arnold Palmer was all man. And I say that with all due respect to women, and I love women,\" Trump said during the appearance, just weeks before\\xa0Election Day. \"But this guy, this is a guy [who] was all man. This man was strong, and I refuse to say it, but when he took showers with the other pros, they came out of there, they said, \\'Oh my God. That\\'s unbelievable.\\' \"\\n  After laughing to himself, Trump told his crowd that he \"had to say it.\"\\n  \"We have women that are highly sophisticated here, but they used to look at Arnold as a man,\" he said. \"But he was really something special. Arnold was something special.\"\\n Win McNamee/Getty  Earlier in the speech, Trump said that Palmer knew how to \"electrify\" a crowd and imagined what it would be like to have him present at the rally over the weekend. Palmer died in 2016 at age 87.\\n  \"If I had him here right now with me, this crowd would be going absolutely crazy,\" Trump said. \"They\\'d say \\'Trump, get off the stage, we want Arnold Palmer to speak.\\' He would electrify a crowd, and he would go for shots that nobody else would do. And they were risky as hell, sometimes it wouldn\\'t work out, but usually it did with him.\"\\n  Speaking with the Associated Press on Sunday, Palmer\\'s daughter, Peg Palmer Wears, said she wasn\\'t upset by Trump\\'s remarks, but called them “a poor choice of approaches\" to honoring the late golfer\\'s memory.\\n  She added that Trump and Palmer shared “an interest in golf and a love of golf\" and that her father \"believed in the Republican Party.\"\\n  “There’s nothing much to say. I’m not really upset,” the 68-year-old said. “I think it was a poor choice of approaches to remembering my father, but what are you going to do?”\\n  “A day doesn’t go by that I don’t think about what my father would say about something or what’s happening,” she continued. “We didn’t always agree on things, but he was a quintessential American who believed fervently in this country, even when he questioned its direction.”\\n  Never miss a story — sign up for PEOPLE\\'s free daily newsletter to stay up-to-date on the best of what PEOPLE has to offer\\u200b\\u200b, from celebrity news to compelling human interest stories.\\xa0\\n Elijah Nouvelage/getty  Speaking with The Sporting News in 2018, as reported by The Daily Beast, the athlete\\'s daughter once told the outlet that Palmer once \"made a sound of disgust\" when he saw Trump on television once.\\n  \"Trump was talking. And my dad made a sound of disgust — like ‘uck’ or ‘ugg’ — like he couldn’t believe the arrogance and crudeness of this man who was the nominee of the political party that he believed in,\" she said of her father, who was previously friendly with Dwight D. Eisenhower. \"Then he said, ‘He’s not as smart as we thought he was,’ and walked out of the room. What would my dad think of Donald Trump today? I think he’d cringe.”\\n  Palmer\\'s daughter added at the time that her dad would join Trump for charity fundraisers and events at his golf courses, and that he had \"no patience for people who demean other people in public.\"\\n  Trump\\'s latest campaign event — during which he also referred to\\xa0Kamala Harris\\xa0as a \"s--- vice president\"\\xa0— was teased as one that would preview his closing arguments against Harris and “start to get into that framing,\" according to senior adviser Jason Miller, per the AP.\\n  Both Harris and Trump are continuing on their respective campaign trails ahead of Election Day on Nov. 5.\\n',\n",
              " '\"So you have to tell Kamala Harris that you’ve had enough,\" Trump told his crowd at a Pennsylvania rally on Oct. 19 Scott Olson/Getty; Alex Wong/Getty  Donald Trump\\xa0referred to Kamala Harris\\xa0as a \"s--- vice president\" during his latest rally in Pennsylvania.\\n  While speaking at Latrobe\\'s Arnold Palmer Regional Airport on Saturday, Oct. 19, the former commander-in-chief and current Republican presidential candidate, 78, used the expletive when referring to Harris, as he continues to ramp up personal attacks just weeks before Election Day.\\n  The comment came after Trump mentioned Senator Bernie Sanders, as he claimed that Harris was \"further left\" than him. \"And then, so you have to tell Kamala Harris that you’ve had enough, that you just can’t take it anymore,\" he said, encouraging his crowd in footage shared by multiple outlets.\\n  \"We can’t stand you. You’re a s--- vice president.\"\\n Win McNamee/Getty  Trump\\'s audience also had the opportunity to use the word \"s---\" in reference to the Biden-Harris administration at another point during his remarks, per the New York Times. “Such a horrible four years,” he said. \"We had a horrible — think of the — everything they touch turns to —” he said, to which many members of the crowd reportedly yelled \"s---.\"\\n  Previously, Trump called Harris a \"horrible person,\" \"not a smart person\" and a \"liar\" during a campaign event in Scranton, Pa., earlier this month, as reported by NBC News at the time. His latest Harris attack comes nearly three weeks after he also reportedly used the R-word to describe the Democratic nominee during a dinner with billionaire donors.\\n  Per the NYT, the politician hosted a gathering at his Trump Tower penthouse on Sunday, Sept. 29, and used the term while also airing grievances about the 2024 presidential race and lashing out about donors not appreciating him. A representative for Trump did not immediately respond to PEOPLE\\'s request for comment at the time.\\n CRAIG LASSIG/AFP via Getty\\xa0  Speaking with PEOPLE last month, the former president\\'s nephew Fred C. Trump III\\xa0said that he believes Trump \"doesn\\'t care who gets hurt in the wake of what he\\'s trying to get accomplished, which is to benefit himself.\"\\n  Fred, who endorsed Harris for president, added that he believed Joe Biden\\'s departure from the race caught the Trump campaign \"flat-footed\" and that his uncle was \"going to go nuts\" on people as things progressed. \"It\\'s going to get nasty,\" he said. \"The race is going to come up in a big ugly way. [Donald] demeans people on a regular basis. ... Everybody\\'s a loser. Everybody is stupider than him. You\\'ve seen it already.\"\\n  Never miss a story — sign up for PEOPLE\\'s free daily newsletter to stay up-to-date on the best of what PEOPLE has to offer\\u200b\\u200b, from celebrity news to compelling human interest stories.\\xa0\\n  Campaign rallies were a topic of discussion during Harris and Trump\\'s sole presidential debate\\xa0on Tuesday, Sept. 10. At the time, Harris described the former president\\'s rallies as a \"really interesting thing to watch.\"\\n  \"You will see during the course of his rallies he talks about fictional characters like Hannibal Lecter,\" she said. \"He will talk about windmills cause cancer. And what you will also notice is that people start leaving his rallies early out of exhaustion and boredom.\"\\n  Trump responded, claiming that voters had \"no reason to go\" to Harris\\' campaign events.\\n  Election day is approaching on Nov. 5 as Trump and Harris continue on their respective campaign trails. Some Americans have already filled out their 2024 absentee ballots, including former president Jimmy Carter, who \"absolutely\" voted for Harris, per his family.\\n',\n",
              " 'Nuzzi is reportedly accusing her former fiancé Ryan Lizza of leaking her alleged \"personal relationship\" with RFK Jr., and claims Lizza attempted to blackmail her to reconcile Dimitrios Kambouris/Getty; Randy Shropshire/Getty; Michael M. Santiago/Getty\\xa0  Olivia Nuzzi\\'s former fiancé Ryan Lizza is making more claims about her alleged year-long \"personal relationship\" with Robert F. Kennedy Jr.\\n  Last month, reports surfaced that Nuzzi, a 31-year-old New York magazine reporter, and the former presidential candidate, 70, had been in a relationship after she interviewed him for a profile last November. Nuzzi later claimed that Lizza harassed and blackmailed her before allegedly leaking her and Kennedy\\'s alleged relationship in an attempt, she claims, to get her back.\\n  In new court documents filed this week and obtained by CNN, The Daily Beast\\xa0and Wall Street Journal, Lizza denied the allegations and recalled finding out that Nuzzi \"had been cheating on me with a married man for almost a year.\"\\n  Kennedy has been married to Curb Your Enthusiasm actress Cheryl Hines since 2014.\\n  Lizza reportedly alleged in his filing in Washington, DC’s Superior Court that after he discovered Nuzzi and Kennedy\\'s alleged relationship, Nuzzi claimed Kennedy wanted to \"control,\" \"possess\" and \"impregnate\" her.\\n Alexander Tamargo/Getty Images for Vox Media)  Lizza, the Chief Washington Correspondent\\xa0for Politico, claimed that Nuzzi described the relationship as \"toxic,\" \"unhealthy,\" “stupid,” psychotic,” “crazy,” and “indefensible,\" acknowledging the “huge power disparity” between her and Kennedy, per CNN.\\n  Lizza reportedly further claimed that Nuzzi showed \"catastrophically reckless behavior\" as Kennedy allegedly manipulated her throughout their relationship.\\n  Lizza reportedly alleged in his filing that although he reassured Nuzzi he could \"help her get away from the disturbing relationship with her paramour,\" he \"seriously doubted that it was possible for us to have a future together,\" despite Nuzzi\\'s attempts and pleas to reconcile.\\n  “Ms. Nuzzi resisted any effort to formally end our relationship and she repeatedly asked me for more time to consider our future,\" Lizza alleged in his filing. \"This remained her position up until the last time we had any discussion about it, on September 15th.\"\\n  Never miss a story — sign up for PEOPLE\\'s free daily newsletter to stay up-to-date on the best of what PEOPLE has to offer\\u200b\\u200b, from celebrity news to compelling human interest stories.\\xa0\\n John Nacion/Getty  Lizza reiterated that he never harassed Nuzzi nor threatened to expose her and Kennedy\\'s relationship to get her back. “Everything I know about her affair comes directly from Ms. Nuzzi herself,\" he reportedly stated in court docs.\\n  He also reportedly denied the \"defamatory lies\" that he hacked into Nuzzi\\'s devices, and \\xa0“threatened physical violence”\\xa0against her. Instead, he said he urged her to pay back the advance they received from a book deal claiming this to be \"the second presidential cycle in a row where Ms. Nuzzi\\'s personal indiscretions have sabotaged our book project,” per CNN. He claims in his filing that Nuzzi also allegedly had an affair in 2020 that thwarted their book deal.\\n  The PEOPLE Puzzler crossword is here! How quickly can you solve it? Play now!\\n  A representative for Kennedy also said, per WSJ, that Lizza\\'s account of his relationship with Nuzzi \\xa0“is not true.”\\xa0The rep also previously denied the reports of a relationship and said, “Mr. Kennedy only met Olivia Nuzzi once in his life for an interview she requested, which yielded a hit piece.”\\n  A spokesperson for Kennedy told PEOPLE, \"The accusations about Robert Kennedy are categorically\\xa0false and he will not participate\\xa0in reporting on triple\\xa0hearsay allegations made in a dispute between other people.\"\\n  In his filing, Lizza denied leaking Kennedy and Nuzzi\\'s alleged relationship.\\n Paul Morigi/Getty Images; Michael M. Santiago/Getty Images  \"I was also not the source for the reporter who first broke the news of Ms. Nuzzi\\'s affair,” Lizza reportedly stated in the filing, referencing Status:\\xa0New York\\xa0Magazine reporter Oliver Darcy who broke the story on Nuzzi and Kennedy\\'s alleged affair. “Ms. Nuzzi knows this because the reporter told her this.”\\n  “Her allegation of [me] trying to blackmail her back into our relationship is a disgraceful lie contradicted by the most basic facts,” he reportedly continued. “Ms Nuzzi\\'s own recklessness is solely responsible for the public ridicule, humiliation and professional damage she says she has suffered.”\\n  A court hearing between Lizza and Nuzzi is scheduled for this time next month, CNN reports. Both Lizza and Nuzzi have been placed on leave from their jobs.\\n',\n",
              " 'The former president filled out his 2024 absentee ballot in support of Kamala Harris. It was placed in a dropbox at the Sumter County Courthouse in Georgia on Oct. 16 Scott Cunningham/Getty; SAUL LOEB/AFP via Getty\\xa0  Jimmy Carter\\'s absentee ballot was dropped off at a county courthouse near his Georgia hometown this week, which means his vote is on its way to getting locked in.\\n  As his son Chip\\xa0and grandson Jason confirmed to\\xa0The Atlanta Journal-Constitution, the 39th U.S. president filled out his ballot for Democratic presidential nominee\\xa0Kamala Harris on Wednesday, Oct. 16, before it was placed by Chip\\'s wife, Becky, in a dropbox at the Sumter County Courthouse.\\n  And while Jimmy, 100, fulfilled his self-proclaimed wish of living long enough to vote for Harris, there\\'s one more step before the vote is secured.\\n  In Georgia, when an absentee voter returns their ballot, their vote is locked in as soon as it is processed by election officials. Processing involves verifying voters\\' identities by cross-checking signatures and ensuring that they are eligible to vote.\\n  After an absentee voter\\'s authenticity has been confirmed, their ballot is removed from the outer envelope and set aside to be counted on Election Day.\\n  \"Once a ballot is removed from the envelope there is no way to trace a ballot back to an individual voter,\" Robert Sinners, a spokesperson for the Georgia Secretary of State\\'s Office, previously explained to PEOPLE.\\n  That\\'s the moment it becomes a done deal.\\n Eddie Mullholland-WPA Pool/Getty  After confirming that Jimmy\\'s ballot had been sent in, Chip told the Journal-Constitution, “It was a good morning for him and good for us that he got it done.”\\n  Chip also reaffirmed that his father \"absolutely\" voted for Harris, 59, saying, \"He’s never voted for a Republican in his life.\"\\n  Never miss a story — sign up for PEOPLE\\'s free daily newsletter to stay up-to-date on the best of what PEOPLE has to offer\\u200b\\u200b, from celebrity news to compelling human interest stories.\\n  Georgia is a key swing state in the 2024 presidential election, carrying 16 electoral votes. State polling shows Harris in a tight race with former President\\xa0Donald Trump, who narrowly lost there in 2020.\\n  Ahead of Jimmy\\'s 100th birthday on Oct. 1, his grandson Jason, 49, told the\\xa0Atlanta Journal-Constitution that the former president was \"only trying to make it to vote for Kamala Harris.\"\\n  Jimmy, who served in the White House from 1977 to 1981, is the longest-living U.S. president and has been in hospice care since February 2023. His wife,\\xa0Rosalynn, died in\\xa0November 2023\\xa0after she was diagnosed with dementia.\\n  Jason spoke at the Democratic National Convention\\xa0in August about why he and Jimmy were supporting Harris, whom he said \"carries my grandfather’s legacy.\"\\n  \"She knows what is right, and she fights for it,\" he said. \"She understands that leadership is about service, not about selfishness. That you can show strength and demonstrate decency. And that you can get a whole lot more done with a smile than with a scowl.\"\\n',\n",
              " 'The 39th U.S. president, who turned 100 on Oct. 1, filled out a ballot which was placed in a dropbox at the Sumter County Courthouse in Georgia ALEX BRANDON/POOL/AFP via Getty; Hannah Beier/Bloomberg via Getty  Jimmy Carter voiced one remaining wish as he neared 20 months in hospice care, and he just fulfilled it.\\n  The former president, who turned 100 on Oct. 1, previously revealed to family that he had one last goal before he dies: \"I’m only trying to make it to vote for Kamala Harris,\" Jimmy said, according to grandson Jason Carter.\\n  On Wednesday, Oct. 16, his wish came true. The longest-living U.S. president filled out a ballot for Harris, 59, which was placed in a dropbox at the Sumter County Courthouse near his hometown of Plains, Ga., Jason and Chip Carter confirmed to The Atlanta Journal-Constitution.\\n  “I think he feels good,” Chip, 74, said about his dad — who has been in hospice care since February 2023 — filling out the ballot. “It was a good morning for him and good for us that he got it done.”\\n  The absentee ballot was dropped off by Chip\\'s wife, Becky, on her father-in-law’s behalf.\\n  When asked if his father voted for Harris, Chip responded “absolutely,” saying, “He’s never voted for a Republican in his life.”\\n David Paul Morris/getty  At the Democratic National Convention in August, Jason, 49, explained why he and his grandfather were throwing their support behind Harris.\\n  \"Kamala Harris carries my grandfather’s legacy,\" he said on stage. \"She knows what is right, and she fights for it. She understands that leadership is about service, not about selfishness. That you can show strength and demonstrate decency. And that you can get a whole lot more done with a smile than with a scowl.\"\\n  While Jason\\'s grandfather just voted in what the family acknowledges could be his final election, his son Henry — who just turned 18 — looks forward to participating in his first.\\n  \"I am excited about this year’s election because it will be my first time able to vote,\" Henry told PEOPLE on Tuesday, Sept 17. \"And that means a lot.\"\\n  Georgia is a key swing state in the 2024 presidential election, carrying 16 electoral votes. Polling shows Harris in a tight race with former President Donald Trump, with no clear front-runner in the state.\\n',\n",
              " 'The former president falsely accused President Joe Biden of directing federal disaster funds to migrants rather than those in need during Hurricane Helene AP Photo/Alex Brandon  Donald Trump is threatening to withhold fire-fighting aid from California.\\n  The former president, 78, addressed rally-goers in Coachella, Calif., on Saturday, Oct. 12, stating that if elected, he would deny federal disaster aid to the state unless Governor Gavin Newsom complies with his demands.\\n  “We’re going to take care of our farmers, we’re going to take care of your water situation and we’ll force it down his throat and we’ll say, ‘Gavin if you don’t do it we’re not giving you any of that fire money that we send you all the time for all the forest fires that you have’,” Trump declared at the rally, according to The Independent and clips of the event posted on social media.\\n  He added, “It’s not hard to do.”\\n  This remark follows Trump’s recent false claim that President Joe Biden directed federal disaster funds to migrants rather than to North Carolina and Georgia during Hurricane Helene.\\n  “It’s profound and it is the height of irresponsibility, and frankly callousness,” Vice President Kamala Harris said on The View earlier this month when asked about Trump’s claims regarding Biden, 81.\\xa0\\n  “Lives are literally at stake right now,\" Harris, 59, continued. \"I fear that he really lacks empathy on a very basic level, to care about the suffering of other people and then to understand the role of a leader is not to beat people down — it’s to lift people up, especially in a time of crisis.”\\n SAUL LOEB / AFP via Getty; Grant Baldwin/Getty  Trump’s comments have faced increased backlash following bombshell claims from former officials in his White House staff, who said that during his time in office, Trump sought to withhold federal disaster aid from states that did not lean Republican.\\n  Speaking to Politico’s E&E News, Mark Harvey, a senior director on Trump\\'s National Security Council staff, and Olivia Troye, the former homeland security adviser to Mike Pence, alleged that there are at least three occasions where Trump played politics and deliberately delayed disaster relief as president.\\n  In one example — during the devastating California wildfires in 2018 — Harvey alleged that Trump initially refused to approve disaster aid because California is a Democratic state, only changing his mind after staff pointed out that Orange County, where the fire was spreading, largely supported him. “We looked up how many votes he received in those impacted areas to show him these are people who voted for you,” Harvey claimed, which was corroborated by Troye.\\n Mario Tama/Getty  Troye warned that if Trump wins the 2024 presidential election, he will likely continue to view disaster relief through a political lens. \"It’s not going to be about that American voter out there who isn’t even really paying attention to politics, and their house is gone, and the president of the United States is judging them for how they voted, and they didn’t even vote,” Troye said.\\n  Harvey added, \"There’s no empathy for the survivors. It is all about getting your photo-op, right? Disaster theater to make him look good.\"\\n',\n",
              " '\"Oh, you guys are at the wrong rally,\" Harris teased after being heckled at her Wisconsin campaign stop on Thursday CRAIG LASSIG/AFP via Getty\\xa0  Kamala Harris knows how to keep the show going.\\n  The Democratic presidential nominee was discussed her stance on abortion and the overturning of Roe v. Wade at a campaign rally in La Crosse, Wis., on Thursday, Oct. 17, when hecklers began to interrupt her.\\n  \"We will move forward because ours is a fight for the\\xa0future, and it is a fight for freedom — for freedom. Like the fundamental freedom of a woman to make decisions about her own\\xa0body and not have her government tell her what to do,\" she said as attendees, whistled, and cheered loudly.\\n Andy Manis/Getty  \"And again, we’re not going to be gaslighted on this. We remember Donald Trump hand-selected three members of the United States Supreme Court with the intention that they would undo the protections of Roe v. Wade, and they did as he intended,\" continued Harris, before some crowd members shouted out, \"That\\'s a lie.\"\\n  As the audience turn toward the direction of the hecklers, Harris paused and said, \"Oh, you guys are at the wrong rally,\" before cracking a smile.\\n  As the crowd cheered and Harris laughed, she added, \"No, I think you meant to go to the smaller one down the street.\" Watch the clip below:\\n  Campaign rallies were previously a topic of discussion during Harris\\' and Trump\\'s sole presidential debate on Tuesday, Sept. 10.\\n  \"I\\'m going to invite you to attend one of Donald Trump\\'s rallies because it\\'s a really interesting thing to watch. You will see during the course of his rallies he talks about fictional characters like Hannibal Lecter. He will talk about windmills cause cancer. And what you will also notice is that people start leaving his rallies early out of exhaustion and boredom,\" the vice president said.\\n  Trump responded to Harris and shared his own opinion about his rallies.\\n Andy Manis/Getty  \"She said people start leaving. People don\\'t go to her rallies. There\\'s no reason to go. And the people that do go, she\\'s busing them in and paying them to be there,\" he said without evidence.\\n  Never miss a story — sign up for\\xa0PEOPLE\\'s free daily newsletter\\xa0to stay up-to-date on the best of what PEOPLE has to offer\\u200b\\u200b, from celebrity news to compelling human interest stories.\\n  \"And then showing them in a different light. So, she can\\'t talk about that,\" the former president continued. \"People don\\'t leave my rallies. We have the biggest rallies, the most incredible rallies in the history of politics.\"\\n',\n",
              " 'In a first look at Emhoff\\'s upcoming interview on \\'Uncomfortable Conversations with Emmanuel Acho,\\' the second gentleman talks about the last time he cried Kyler Alvord is a news editor at PEOPLE, leading the brand\\'s political coverage. He joined the publication on the crime beat.  Second gentleman Doug Emhoff says the last time he cried was when he watched his father, Michael Emhoff, tear up during a private family moment.\\n  In an upcoming interview on Uncomfortable Conversations with Emmanuel Acho, which will be released in full on Monday, Oct. 14, Emhoff is asked by host Acho about a recent time when he got emotional.\\n  The second gentleman, who made history in 2021 as the first Jewish spouse of any president or vice president, shares that he most recently cried as he hung a mezuzah on the front door of Number One Observatory Circle — the official vice president\\'s residence. He said it was a particularly special moment because his father, \"a man of few words,\" grew teary-eyed first.\\n  \"We wanted to have a mezuzah which is, you know, a very traditional Jewish item which has a little Torah portion inside. You put it on your door post, and we wanted to have one at the residence,\" Emhoff explains in an exclusive first look, shown above. \"Kamala wanted to make sure we did that, and we wanted to find the right mezuzah, so we actually found one from Atlanta that had been at a Temple that Martin Luther King had actually preached at. So, it had kind of a civil rights and Jewish for the two of us… \\'This is the one. Let’s put that out on the front door.\\' \"\\n  Emhoff says in the clip that he invited his parents, Michael and Barbara, and his children, Cole and Ella, to be there as he hammered the mezuzah into the door. During the occasion, he noticed his father tear up.\\n  \"My father is a man of few words and doesn’t exactly show his emotion all the time,\" Emhoff explains. \"To see him get teary, watching his son, me, hammer the Mezuzah into his daughter-in-law, who happens to be the vice president of the United States, our home... It was intense.\"\\n  In the interview, Acho asks Emhoff what about the moment resonated so deeply with his father.\\n  \"I just think he’s a Jew in his mid-80s — he’s born in 1937. His family came from Europe in 1900, half of which died in the Holocaust,\" Emhoff explains. \"So, to see the journey of a Jewish kid — himself — and being the father of this Jewish kid, who is now the second gentleman hammering a mezuzah into the vice president’s residence, I mean, that’s the American dream.\"\\n AP Photo/Susan Walsh  In a Politico profile in 2022, Emhoff spoke about his historic role as second gentleman, and how he\\'s infused his Jewish identity into the position.\\n  \"I went in anticipating: \\'Who is going to care that I\\'m Jewish?\\' \" he told the outlet at the time. \"I didn\\'t expect to feel the way I felt about being in this role.\"\\n John Lamparski/Getty  His faith ended up becoming a big part of his platform. He has led the Biden-Harris administration\\'s mission to combat antisemitism and has brought Hanukkah and Passover celebrations to the White House and VP residence.\\n  Never miss a story — sign up for PEOPLE\\'s free daily newsletter to stay up-to-date on the best of what PEOPLE has to offer.\\n  \"When you see a bunch of kids cheering for someone they see in this position who is Jewish,\" he said in the 2022 interview, \"I was reflecting, 40 something years ago, if I was in this assembly and you told me there was going to be a Jew married to the vice president, I would have said, \\'There\\'s no way. There is just no way.\\' \"\\n',\n",
              " 'The former president reportedly lashed out about donors not appreciating him at the dinner, according to \\'The New York Times\\' Steven Hirsch-Pool/Getty; David Paul Morris/Bloomberg via Getty  Donald Trump reportedly called Kamala Harris the R-word during a dinner with billionaire donors, according to The New York Times.\\n  Trump, 78, reportedly used the term re------ while hosting a gathering that took place at his Trump Tower penthouse on Sunday, Sept. 29, the outlet said.\\n  Airing grievances about the 2024 presidential race, the Times reported that Trump lashed out about donors not appreciating him.\\n  Former Secretary of Education Betsy DeVos, hedge fund manager Paul Singer and investment banker Warren Stevens were present at the dinner party, according to the outlet.\\n  A representative for Trump did not immediately respond to PEOPLE\\'s request for comment.\\n Win McNamee/Getty\\xa0  Trump\\'s reported use of the r-word comes less than a month before Election Day, when he will go up against Harris, 59, on the presidential ballot.\\n  The former president\\'s recent stops on the campaign trail included a visit to Detroit, where he called the midwestern city a \"mess.\"\\xa0\\n  \"We\\'re a developing nation, too. Just take a look at Detroit,\" he said during a speech for the Detroit Economic Club on Oct. 10.\\n  Days before, Trump told a News Nation reporter that should he be elected president, he would \"remove\" Haitian immigrants from Springfield.\\n  \"It has nothing to do with Haiti or anything else. You have to remove the people, and you have to bring them back to their own country,” Trump said at the time.\\n  Meanwhile, Harris appeared on 60 Minutes on Oct. 7 to speak with Bill Whitaker about the economy, immigration and her time in Washington, D.C., among other topics.\\n  Never miss a story — sign up for PEOPLE\\'s free daily newsletter to stay up-to-date on the best of what PEOPLE has to offer\\u200b\\u200b, from celebrity news to compelling human interest stories.\\xa0\\n  According to CNN, on Sunday, Oct. 13, both candidates will be making stops in battleground states.\\n  Harris will campaign in Greenville, N.C. following a visit in Raleigh the day before. Trump, meanwhile, will be hosting a rally in Prescott Valley, Ariz.\\n Win McNamee/Getty\\xa0  The New York Times\\' polling statistics show that Harris is leading the national average at 49% to Trump\\'s 47% as of Oct. 13.\\n',\n",
              " '\"What\\'s wrong, tough guy? Did someone grab you by the p----?\" Bautista sarcastically addressed Trump in a scathing video on \\'Jimmy Kimmel Live!\\' John Nacion/Getty; Steven Hirsch-Pool/Getty\\xa0  Dave Bautista is ripping into Donald Trump\\'s masculinity.\\n  The actor and retired wrestler sent out a video message to men everywhere that aired on Jimmy Kimmel Live! Wednesday, Oct. 16, urging them to consider how \"tough\" the former president really is ahead of his attempt at a second term this November.\\n  \"Fellas, we gotta talk. A lot of men seem to think that Donald Trump is some kinda tough guy. He\\'s not,\" began Bautista, 55, in the 2-minute clip, speaking from inside a gym as he participated in a variety of strength and weight-lifting exercises.\\n  The Guardians of the Galaxy star went on to say Trump, 78, \"wears more makeup than Dolly Parton\" and added, \"He whines like a baby. The guy is afraid of birds.\"\\n  Added the actor, \"Donald Trump had his daddy pay a doctor to say his little feet hurt so he could dodge the draft. Look at that gut. It\\'s like a garbage bag full of buttermilk.\" Plus, Trump is \"barely strong enough to hold an umbrella,\" he said alongside a clip of the Trump in a rainstorm. \"He\\'s got jugs. Big ones. Like Dolly Parton.\"\\n  Never miss a story — sign up for\\xa0PEOPLE\\'s free daily newsletter\\xa0to stay up-to-date on the best of what PEOPLE has to offer\\u200b\\u200b, from celebrity news to compelling human-interest stories.\\n  \"This November, let\\'s stop kidding ourselves,\" Bautista continued. \"Donald Trump is afraid — of rain, of dogs, of windmills, of Meryl f---ing Streep and being laughed at. Mostly, he\\'s terrified that real, red-blooded American men will find out that he\\'s a weak, tubby toddler.\"\\n  Concluded the actor, referencing one of the former president\\'s controversial quotes, \"What\\'s wrong, tough guy? Did someone grab you by the p----? Whiny little bitch.\"\\n  PEOPLE is out to a representative for Trump for comment.\\n  The PEOPLE Puzzler crossword is here! How quickly can you solve it? Play now!\\n  Bautista has been outspoken about his support for social-justice reform and his criticism of Trump over the years.\\n  \"This election is too important to just sit by and not vote — you gotta get out. You gotta vote,\" he said in a Sept. 29 video that chronicled his early-voting experience in Tampa, Florida.\\n  \"Made my freedom heard,\" Bautista wrote in the caption of his post. \"Voting early took me 20 mins — no excuses. Freedom isn’t something we just talk about; it’s something we act on.\"\\n  \"Do your part, get out there, and vote. Your voice matters, and this election’s too important to sit out.\\xa0#VoteEarly\\xa0#YourVoiceMatters\\xa0#LoveAmericaAgain,\" he concluded.\\n',\n",
              " '\"Detroit just hosted the largest NFL Draft in history, the Tigers are back in the playoffs, the Lions are headed to the Super Bowl, crime is down and our population is growing,\" Mayor Mike Duggan responded, calling Trump’s memory \"fuzzy\" Charlotte Phillipp is a Weekend Writer-Reporter at PEOPLE. She has been working at PEOPLE since 2024, and was previously an entertainment reporter at The Messenger. Bill Pugliano/Getty  Donald Trump drew criticism for his most recent visit to Detroit after he compared the Midwestern city to a \"developing nation\" during a speech.\\n  During a campaign speech before the Detroit Economic Club on Thursday, Oct 10, the former president claimed that China had \"abused\" its status as a \"developing nation\" — and added that \"We\\'re a developing nation, too. Just take a look at Detroit.\"\\n  Trump called the city a \"developing area…hell of a lot more than most places in China,\" and elsewhere in the speech, he warned that the \"whole country will end up being like Detroit\" if Vice President Kamala Harris wins the election, adding that being like Detroit would mean \"you\\'re going to have a mess on your hands.\"\\n  \"The whole country will be like — you want to know the truth? It’ll be like Detroit. Our whole country will end up being like Detroit if she’s your president,\" he told the crowd. He then claimed that Harris \"destroyed\" San Francisco.\\n  \"We\\'re not going to let her do that to this country. We\\'re not gonna let it happen,\" he added.\\n Sarah Rice/Bloomberg via Getty  The former president\\'s remarks quickly drew criticism from both Detroit and Michigan elected officials. Detroit Mayor Mike Duggan responded in an X post later on Thursday, writing that \"Detroit just hosted the largest NFL Draft in history, the Tigers are back in the playoffs, the Lions are headed to the Super Bowl, crime is down and our population is growing.\"\\n  \"And we did it all without Trump\\'s help,\" Duggan added.\\n  In a video posted to\\xa0Instagram, Duggan continued to speak out against Trump\\'s remarks, and quipped that his \"memory is a little fuzzy.\"\\n  \"Since Donald Trump left office, the unemployment rate in Detroit is way down, the homicide rate is way down, and our population is growing for the first time since the 1950s,\" Duggan said in the clip. \"In fact, the best thing that happened to Detroit was when Donald Trump left office and Joe Biden and Kamala Harris came in and gave us real partners.\"\\n Aaron J. Thornton/Getty\\xa0  Michigan Gov. Gretchen Whitmer also chimed in after Trump\\'s attacks on the city, writing in an X post that Trump would \"never understand\" Detroit.\\n  \"Detroit is the epitome of \\'grit,\\' defined by winners willing to get their hands dirty to build up their city and create their communities — something Donald Trump could never understand,\" she wrote. \"So keep Detroit out of your mouth. And you better believe Detroiters won’t forget this in November.\"\\n  Never miss a story — sign up for PEOPLE\\'s free daily newsletter to stay up-to-date on the best of what PEOPLE has to offer\\u200b\\u200b, from celebrity news to compelling human interest stories.\\n  Back in June, Trump received similar backlash after he called Milwaukee \"horrible\" because of its crime rate. Trump’s campaign\\xa0added at the time that the reports on his comments about the largest city in Wisconsin were a \"total lie,\" according to a press release.\\n  \"President Trump was explicitly referring to the problems in Milwaukee, specifically violent crime and voter fraud,\" they wrote.\\n  Milwaukee Mayor Cavalier Johnson later responded to his remarks, per the\\xa0Milwaukee Journal Sentinel, saying, \"Donald Trump was talking about things that he thinks are horrible. All of us lived through his presidency. So, right back at you, buddy.\"\\n  He continued: \"Donald Trump once again is wrong about something. That shouldn\\'t be new news, especially for somebody who has a proven track record of lying about a number of things.\"\\n  Michigan and Wisconsin, home to two of the cities that Trump criticized on the campaign trail, are two of the critical swing states in the 2024 presidential election. Polling shows Trump within striking distance of Harris, raising the stakes for both parties as they work to earn every vote.\\n',\n",
              " '\"I was so young and everything when we got married, I never really thought about it,\" said Betty Cartledge, a first-time voter in the greater Atlanta area Kyler Alvord is a news editor at PEOPLE, leading the brand\\'s political coverage. He joined the publication on the crime beat. WSB-TV  For decades, Betty Cartledge didn\\'t put much thought into the fact that she had never participated in an election. But this year, on the eve of her 82nd birthday, something changed.\\n  One day after early voting began in Georgia, local television station Channel 2 Action News caught Cartledge on her way into a Newton County polling location in the greater Atlanta area.\\n  \"I’m going to vote for the first time in my life,\" the Covington resident told the outlet on Wednesday, Oct. 16, noting that she was casting her inaugural ballot four days before turning 82 years old.\\n  Cartledge, who was accompanied by her niece, explained that she had never tried voting sooner because her longtime husband discouraged it.\\n  \"I was so young and everything when we got married, I never really thought about it,\" she said. \"And then I got old and I thought that it wouldn’t count to vote.\"\\n  After her husband died last year, Georgia\\'s pivotal role in the 2024 election became a national conversation. When early voting rolled around, she decided it was time to make her voice heard.\\n Slaven Vlasic/Getty; Adam Glanzman/Bloomberg/Getty  Cartledge didn\\'t share who she voted for, but she did debrief the experience to Channel 2 as she returned to her car afterward.\\n  “It was neat, it was good,\" Cartledge said. \"If I’m here, I’ll be back again.\"\\n  Never miss a story — sign up for PEOPLE\\'s free daily newsletter to stay up-to-date on the best of what PEOPLE has to offer.\\n  As the eighth most populous state in the nation, Georgia has a strong say in picking U.S. presidents.\\n  Vice President Kamala Harris and former President Donald Trump have put considerable focus on winning over Georgia voters in order to earn their 16 Electoral College votes, and polling does not currently point to a clear front-runner.\\n',\n",
              " '\\'She is comfortable, she is getting the best care possible, and she is surrounded by family,\\' Joe Kennedy III said in a statement on Oct. 8  Ethel Kennedy is recovering after having a stroke, her grandson Joe Kennedy III shared on Tuesday, Oct. 8.\\xa0\\n  The widow of late Sen.\\xa0Robert F. Kennedy, 96, “suffered” the health scare on Thursday morning in her sleep, Joe said in a statement on X (formerly Twitter).\\n  \"She was brought to an area hospital, where she is now receiving treatment,\" Joe continued. \"She is comfortable, she is getting the best care possible, and she is surrounded by family.\"\\n  \"She is, as you may know, a strong woman who has led a remarkably fulfilling life. We are here looking after her.\"\\n  Never miss a story — sign up for PEOPLE\\'s free daily newsletter to stay up-to-date on the best of what PEOPLE has to offer\\u200b\\u200b, from celebrity news to compelling human interest stories.\\xa0\\n  He asked supporters to \"keep her in your thoughts and prayers\" and respect their family\\'s privacy.\\n  Joe shared that Ethel\\'s stroke followed an enjoyable summer from spending time with her children, grandchildren, and great-grandchildren to having lunch and dinners with family and visiting the pier.\\n  \"It has been a gift to all of us and to her as well,\" wrote Joe.\\n  In April, Ethel was surrounded by loved ones as she celebrated her 96th birthday.\\n  In photos Joe shared on X, Ethel smiled and posed with her son Robert F. Kennedy Jr.\\xa0and his wife\\xa0Cheryl Hines.\\n  \"Happy 96th to the World’s most amazing Gramma!! 🎂,\" Joe wrote alongside the special moment.\\n  Ethel was also celebrated by her daughter Kerry Kennedy, who marked the occasion with a\\xa0video montage on X\\xa0with a little help from\\xa0Taylor Swift\\'s 2012 song \"Starlight,.\"\\n  \"Today is my mom\\'s 96th birthday!\" Kerry wrote. \"To celebrate her, please listen to this great song that @taylorswift13 wrote about my parents!\"\\n  Ethel and Robert F. Kennedy married in 1950 and shared\\xa011 children, including Robert Jr. and Kerry. He was\\xa0assassinated\\xa0in 1968, during his run for the Democratic presidential nomination. At the time, Ethel was pregnant with their daughter Rory.\\n',\n",
              " 'A federal judge declared that the Florida Department of Health has been \"trampling\" on free speech in its attempts to get pro-choice ads off the air, writing, \"It\\'s the First Amendment, stupid\" Scott Olson/Getty  On Thursday, Oct. 17, a federal judge ordered the Florida Department of Health to stop threatening local television stations for airing abortion rights commercials.\\n  The ruling comes after Florida Gov. Ron DeSantis\\' administration aimed to intimidate TV stations across the state by saying they would prosecute those that continued to run political ads supporting a pro-choice amendment on the Florida ballot this year.\\n  Chief U.S. District Judge Mark Walker of the Northern District of Florida chastised the DeSantis administration for infringing on free speech in his ruling, saying, \"To keep it simple for the State of Florida: it’s the First Amendment, stupid.\"\\n  “Whether it’s a woman’s right to choose, or the right to talk about it,” Walker wrote, “the First Amendment prohibits the State of Florida from trampling on [the pro-choice advocates\\'] free speech.”\\n  On Election Day, Floridians will vote on Amendment 4, a ballot measure that aims to repeal the state\\'s restrictive six-week abortion ban and guarantee the right to an abortion until fetal viability.\\n  A group in favor of the amendment, Floridians Protecting Freedom, began running a television ad as part of their \"Yes on 4\" campaign. The ad, titled “Caroline,” features a woman discussing the abortion she received during her second pregnancy.\\n  \"The doctors knew that if I did not end my pregnancy, I would lose my baby, I would lose my life, and my daughter would lose her mom,\" she says in the 30-second spot. \"Florida has now banned abortions, even in cases like mine.\"\\n  After the ad aired, dozens of local TV stations received cease-and-desist orders from the state’s health department saying they could invoke a \"sanitary nuisance\" law — often reserved for mitigating disease risks from things like faulty septic tanks and improperly disposed waste — which would allow them to initiate criminal proceedings.\\n  The cease-and-desist letters called the ads \"false\" and claimed they \"would likely have a detrimental effect on the lives and health of pregnant women in Florida.\" According to Walker’s ruling, at least one station stopped airing the ad as a result.\\n  In response to the cease-and-desist letters, Floridians Protecting Freedoms sued Florida Surgeon General Joseph Ladapo and the health department\\'s top attorney John Wilson, the latter of whom has since resigned.\\n  In the lawsuit, Floridians Protecting Freedoms claimed the threats were \"unconstitutional coercion and viewpoint discrimination.\" The judge sided with the advocacy group, instituting an injunction against the state’s attempt to halt the ad until Oct. 29.\\n  \"This critical initial victory is a triumph for every Floridian who believes in democracy and the sanctity of the First Amendment,\" said Lauren Brenzel, campaign director for Floridians Protecting Freedoms, in a statement. \"The court has affirmed what we’ve known all along: The government cannot silence the truth about Florida’s extreme abortion ban.\"\\n  Never miss a story — sign up for\\xa0PEOPLE\\'s free daily newsletter\\xa0to stay up-to-date on the best of what PEOPLE has to offer\\u200b\\u200b, from celebrity news to compelling human interest stories.\\n  Desantis’ deputy press secretary Julia Friedland, meanwhile, criticized the ruling as “another order that excites the press.”\\xa0\\n  \"The ads are unequivocally false and put the lives and health of pregnant women at risk,\" Friedland claimed. \"Florida’s heartbeat protection law always protects the life of a mother and includes exceptions for victims of rape, incest, and human trafficking.\"\\n  Florida is one of nine states with abortion amendments on the ballot this November. For the measure to pass, it needs to receive at least 60% support.\\n',\n",
              " \"Former political aide and journalist Megan Marshack died at the age of 70 due to liver and kidney failure on Oct. 2, 2024 Getty;AP  Nelson Rockefeller’s former aide Megan Marshack didn't shy away from her connection to the former vice president in her self-written obituary.\\n  The journalist died at age 70 due to liver and kidney failure on Oct. 2, 2024. In her obituary, Marshack noted her connection to Rockefeller —\\xa0with whom she was rumored to have been romantically involved — after staying mum on him for a majority of her life.\\n  In fact, she named Rockefeller in the opening line, writing that she was “associated around the world” with his death. She then detailed her work with him, noting that she was his “assistant press secretary” in 1976, which was his “last year in public office.”\\n  She went on to discuss her achievements as Rockefeller's “deputy press secretary” after he returned to his “private life in New York,” which included “working as the director of his art collection” and assisting “in projects involving international ventures.”\\n  While she never outright discussed her relationship with Rockefeller, Marshack seemingly addressed the rumors of their romance at the conclusion of her obituary, with a lyric from the 1975 musical A Chorus Line.\\n  “Kiss today goodbye, the sweetness and the sorrow” she wrote. “A Chorus Line,” “Wish me luck, the same to you… (But I) won’t forget, can’t regret what I did for love.”\\n  Speculation about a romantic relationship between Marshack and Rockefeller first sparked after she began working for the politician. Her friends previously shared how she came to work for Rockefeller in an interview with AP Radio, saying that she landed an interview following her graduation from California State University, Northridge.\\xa0\\n  Never miss a story — sign up for\\xa0PEOPLE's free daily newsletter\\xa0to stay up-to-date on the best of what PEOPLE has to offer, from juicy celebrity news to compelling human interest stories.\\n  “She heard that he liked Oreo cookies and she came prepared [to the interview] with some — individually wrapped,” a former colleague recalled to the outlet, adding that the Oreos paid remarkable dividends.\\xa0\\n  “One day she was on the schedule for an interview, and shortly after that she came to work,” a former member of Rockefeller's staff added. “Then one time, at the end of a big office party, Megan put her arm around [Rockefeller], and we all just stood there stunned.”\\n  “After the ’76 election just a handful of people were offered jobs with him in New York,” her colleague continued. “No one was surprised when Megan was one of them.”\\n  In her obituary, Marshack wrote that, following Rockefeller’s “fatal heart attack” in 1979, she returned to journalism, working for CBS News and a newspaper in Placerville, Calif., where she met her husband, Edmond Jacoby Jr. They eventually wed in 2003, and were married until his death last year.\\xa0\\n  Marshack is survived by her younger brother, Jon Marshack, and his husband, The Rev. Rik Rasmussen.\\n\",\n",
              " '\"Those girls, they were great because they wanted to practice a hundred times,\" the \\'Scandal\\' actress tells PEOPLE of being joined onstage by Amara and Leela Al Drago/Getty; David Paul Morris/Getty  Kamala Harris\\' great-nieces helped calm Kerry Washington\\'s nerves as they made a joint appearance at the Democratic National Convention in Chicago in August.\\n  While speaking exclusively to PEOPLE at the 7th Annual Black Love Summit in Los Angeles on Saturday, Oct. 12, Washington, 47, recalled taking the stage with Harris’ great-nieces, Amara, 8, and Leela, 6, who helped explain how to pronounce their aunt\\'s name.\\xa0\\n  The girls — who regularly dress like their aunt — are the daughters of Meena Harris (who is Kamala\\'s niece) and her husband, Nikolas Ajagu.\\n  Washington — who hosted the evening\\'s events in the lead-up to Harris, 59, accepting the Democratic Party\\'s nomination for president on Aug. 22 — said of the special moment, \"They\\'re so sweet. Those girls, they were great because they wanted to practice a hundred times. So backstage up until the moment we walked out, we were rehearsing again and again and again.\"\\xa0\\n Saul Loeb/Getty  \"I thought they were wonderful. I thought they were wonderful and I think in many ways helped me to not be nervous,\" the Scandal actress continued, adding, \"I was so focused on being present for them that I didn\\'t have time to think about that insanely big crowd.\"\\n  During the DNC, Washington said, “It’s come to my attention that there are some folks who struggle, or pretend to struggle, with the proper pronunciation of our future president’s name.”\\n  Never miss a story — sign up for\\xa0PEOPLE\\'s free daily newsletter\\xa0to stay up-to-date on the best of what PEOPLE has to offer\\u200b\\u200b, from celebrity news to compelling human interest stories.\\n  The Little Fires Everywhere star added, “So hear me out: Confusion is understandable. Disrespect is not,”\\n  Insisting she would “help everyone get it right,” Washington then said, “Here to help me are some very special guests,” as the two young girls — who introduced themselves as Amara and “her little sister” Leela — joined her on the stage at Chicago\\'s United Artists Convention Center.\\n Kevin Dietsch/Getty  Amara said the best way to say the first part of Harris\\' name was to say “comma, like a comma in a sentence,” as Leela explained how the second half was said like \"luh,\" comparing it to singing a song.\\n  “Put it together and it\\'s one, two, three...” Washington said while kneeling to be the same height as the sisters.\\xa0The girls and Washington then shouted in unison, “Kamala!” before getting the audience involved; each side shouting half of the name.\\n  After multiple “Comma-Luh” chants around the room, Washington then added, “For president!”\\n',\n",
              " 'Journalist Eric Lipton claimed that the Secret Service has become an \"afterthought\" in the Department of Homeland Security\\'s budget, making it hard to \"equip and train\" new hires NICHOLAS KAMM/AFP via Getty  Despite what many may assume, there are a handful Secret Service agents who have never set foot inside the White House — and some have been trained on its layout by visiting a White House replica at filmmaker Tyler Perry\\'s studios.\\n  While discussing the Secret Service\\'s recent challenges on a recent episode of The Daily podcast, New York Times investigative reporter Eric Lipton spoke about the myriad problems plaguing the federal law enforcement agency, including their resources and training capabilities.\\n  “Homeland Security is a giant agency … and the Secret Service became sort of an afterthought and as a result, it was unable to effectively compete for the money that it needed to equip and train its new hires,” Lipton said.\\n  Elaborating on the issues, Lipton stated that the current training facilities are in dire need of upgrades and should “simply be demolished.”\\n  “Perhaps the biggest area that it’s impacted is Secret Service training. The training facility that they have in suburban Maryland, outside of Washington, is in pretty bad shape,” he said.\\n  “And when it comes to how to defend and protect the White House, they don’t even have a mock White House that they can train around. Even though they’ve been talking about building one for over a decade,” Lipton continued.\\n John Nacion/Variety via Getty\\xa0  Lipton then revealed how filmmaker Tyler Perry came into play, courtesy of the mock White House he had built at his Atlanta movie studios.\\n  Based on direct information he received from the Homeland Security secretary, Lipton claimed that “some of the uniformed officers have never been inside the White House.”\\n  “The Secret Service is so short of proper training facilities that they actually sent, on several occasions, their personnel down to the Atlanta area to train at a mock White House that Tyler Perry, the Hollywood producer, had built as a stage in Georgia. It’s hard to believe, but that’s what the Secret Service has been left with as its options for training its people,” Lipton said.\\n REBECCA DROKE/AFP via Getty\\xa0  Anthony Guglielmi, a spokesperson for the Secret Service, offered PEOPLE more context on how Perry became involved with agents\\' training.\\n  \"Following a series of security issues at the White House in 2014, an independent protective mission panel recommended that the U.S. Secret Service construct a replica White House to facilitate scenario-based training under real-world conditions,\" he said, noting that the Secret Service can\\'t often conduct training at the actual White House because it\\'s used as a secure office, museum and residence.\\n  He continued: \"In 2023, former Director Kimberly Cheatle collaborated with Mr. Tyler Perry and his staff to study the White House replica used for filming in Atlanta. We also conducted a scenario-based training exercise at that facility to assess how a similar model could be utilized in Maryland for training future special agents, officers and partner agencies from D.C., Maryland and Virginia who would respond to a potential emergency or critical incident.\"\\n  Never miss a story — sign up for PEOPLE\\'s free daily newsletter to stay up-to-date on the best of what PEOPLE has to offer.\\n  Guglielmi said that in the past year, the Secret Service has worked with Congress and the DHS to make progress on planning the construction of an eventual White House Defense Training Facility.\\n  \"We are grateful for Congress’ initial investments, which were crucial in getting this important project off the ground,\" he said.\\n',\n",
              " '\"And needless to say: I am all in for Kamala!\" the musician added Chip Somodevilla/Getty; Axelle/Bauer-Griffin/Film  Rufus Wainwright is not OK with his song \"Hallelujah\" being played at a Donald Trump rally.\\xa0\\n  In a statement shared to social media on Tuesday, Oct. 15, the Canadian-American singer and songwriter, 51, denounced the Republican presidential nominee\\'s use of his song and expressed his support for Kamala Harris.\\n  “Last night (October 14), at a Donald Trump town hall in Oaks, Pennsylvania, that NPR characterized as going ‘from a Q-and-A session to a bizarre musical event in which Trump stood in front of his audience for an extended period while songs played on the sound system,’ numerous songs were played,” Wainwright wrote.\\n  \"The song \\'Hallelujah\\' by Leonard Cohen has become an anthem dedicated to peace, love and acceptance of the truth. I\\'ve been supremely honored over the years to be connected with this ode to tolerance,” his tweet continued, referring to his cover of Cohen\\'s 1984 song.\\xa0\\n  “Witnessing Trump and his supporters commune with this music last night was the height of blasphemy. Of course, I in no way condone this and was mortified, but the good in me hopes that perhaps in inhabiting and really listening to the lyrics of Cohen\\'s masterpiece, Donald Trump just might experience a hint of remorse over what he\\'s caused. I\\'m not holding my breath.\"\\n  Wainwright added that the Trump campaign has been issued a cease and desist letter on behalf of the publishing company for Leonard Cohen’s estate.\\n Spencer Platt/Getty  “And needless to say: I am all in for Kamala!” the composer added, throwing his support behind the Democratic nominee.\\xa0\\n  As Wainwright pointed out, Trump made headlines for what many deemed “bizarre” behavior at his Oaks, Pa., town hall event.\\n  While onstage, the former president was seen in videos shared on social media swaying to music for more than 30 minutes without speaking during his rally, as well as once again discussing fictional serial killer Hannibal Lecter from Silence of the Lambs.\\n  However, his eyebrow-raising behavior didn’t end there.\\xa0\\n  Trump also urged his supporters to vote on Jan. 5, despite Election Day being Nov. 5.\\n Steven Hirsch-Pool/Getty; David Paul Morris/Bloomberg via Getty  The incident comes just days after Harris’ doctors gave the vice president, 59, an “excellent” bill of health.\\xa0\\n  Never miss a story — sign up for PEOPLE\\'s free daily newsletter to stay up-to-date on the best of what PEOPLE has to offer\\u200b\\u200b, from celebrity news to compelling human interest stories.\\n  In her medical report, published by the White House and written by her physician, Dr. Joshua Simmons, the doctor stated that Harris “possesses the physical and mental resiliency required to successfully execute the duties of the Presidency.”\\n  On Monday, Oct. 14, Harris addressed Trump’s Oaks, Pa. rally.\\n  “Hope he\\'s OK,” she tweeted, along with a video clip of him appearing “lost, confused, and frozen” onstage.\\n',\n",
              " 'The EGOT winner and her co-host Sunny Hostin had choice words for the former president on Thursday\\'s episode of \\'The View\\'  Dave Quinn is a Senior Editor for PEOPLE. He has been working at the brand since 2016, and is the author of the No. 1 New York Times best-selling book, Not All Diamonds and Rosé: The Inside Story of the Real Housewives from the People Who Lived It.  ABC; Emily Elconin/Getty  Former President Donald Trump had a lot to say about The View at two of his Pennsylvania rallies on Wednesday, Oct. 9, and to no surprise, the co-hosts of the ABC daytime series didn\\'t bite their tongues when responding.\\n  Whoopi Goldberg and Sunny Hostin both opened the live Thursday, Oct. 10, episode of The View by slamming the Republican presidential candidate in scathing back-to-back critiques. As the moderator of the production, Goldberg went first, introducing two clips from Trump rallies in Scranton and Reading, Pa., to contextualize what was to come.\\n  Both scenes showed Trump discussing The View\\'s Oct. 8 sit-down with his Democratic opponent, Vice President Kamala Harris. But rather than challenging the points Harris made on the show, Trump brought his attacks to the show\\'s panel of personalities, calling them \"really dumb people.\"\\n  Speaking about Goldberg specifically, Trump recalled making a cameo in her 1996 film, Eddie, alleging that she told him afterwards, \"\\'Oh, you’re so great. If you ever ran for president, you’d win.\\' \"\\n  \"Politics can do strange things to demented people,\" Trump said.\\n  He then went on to claim that he hired Goldberg to work for him before as a comedian, but was turned off by her act. \"I’m not particularly shy about what I hear. [But] her mouth was so foul,\" Trump said. \"She was so filthy, dirty. Disgusting. Half the place left. I said I’d never hire her again!\"\\n  Goldberg, for her part, didn\\'t debate using blue language. \"As it turns out, I was filthy. I was filthy, and stand on that fact,\" she said. \"I have always been filthy. And you knew that when you hired me [to be] a headline[r], babe, at your casino — which I might have continued to play had you not run it into the ground!\"\\n  \"You know how dirty I wasn’t? I never grabbed anybody by their genitalia,\" Goldberg continued, referencing the lewd comments Trump was caught on tape saying in unaired audio from a 2005 interview with Access Hollywood that surfaced during the 2016 election. \"Many people use the F-bomb. He\\'s used the F-bomb... But there\\'s a difference between people who assault other people and people who say words that you don\\'t want little kids saying in the middle of church.\"\\n  Never miss a story — sign up for PEOPLE\\'s free daily newsletter to stay up-to-date on the best of what PEOPLE has to offer\\u200b\\u200b, from celebrity news to compelling human interest stories.\\n  Though she admitted to having profanity in her sets, Goldberg did push back on Trump\\'s claim that he would never hire her again.\\n  \"How dumb are you? You hired me four times,\" Goldberg said, insisting doubters check with her agents at William Morris to fact check her. \"You hired me four times! And you didn’t know what you were getting? How dumb are you?\"\\n ABC  \"Dumb\" is a word that Trump also used to describe Hostin, after she asked Harris if she would have done anything different has she been president the past three years.\\n  \"The other one asking the question is dumber than Kamala,\" Trump said. \"She’s a dummy. I watched her over the years, that is one dumb woman.\"\\n  Teed up by Goldberg on Thursday\\'s episode of The View, Hostin launched into her own teardown of the former president, with nods to his numerous legal troubles over the years including allegations of sexual assault lobbied his way and the 34 felony counts of falsifying business records Trump was found guilty of back in May. (He\\'s maintained his innocence in all cases.)\\n  \"Donald Trump, I want to thank you for personally telling so many lies and committing so many alleged crimes and providing us with material on a daily basis,\" said Hostin, a former federal prosecutor. \"You help us do our jobs and I’m so appreciative. Because of people like you, a former prosecutor and legal expert can become a fixture on a show like this and again, I’m so grateful.\"\\n CHARLY TRIBALLEAU/AFP via Getty  \"I admit I may not have spent as much time in a courtroom as you have,\" the lawyer continued. \"I was also recognized with a special achievement award by the Department of Justice. You remember the Department of Justice, right? It’s the agency that’s been pursuing you for decades. And like Madame VP Kamala Harris, I’ve had a history of prosecuting sex offenders, so thank you for keeping people like us in business.\"\\n  Hostin finished her speech with an invitation for Trump to appear on The View — one he has repeatedly turned down.\\n  \"As for dumb questions, you’re always welcome to come here and answer some, if sitting so close to a prosecutor won’t make you feverous,\" Hostin said of Trump, who did call into the show when he was running for president in 2016. \"I’ll even give you a View mug, not to be confused though with a mugshot, because that’s your area.\"\\n ABC  After their comments, Goldberg and Hostin\\'s co-hosts Joy Behar, Sara Haines and Alyssa Farah Griffin all offered comments of support.\\n  Farah Griffin, who worked in Trump\\'s administration as the press secretary for Vice President Mike Pence and special assistant to Trump from October 2017 to September 2019, offered insight into Trump\\'s psyche based on her first-hand perspective.\\n  \"He’s always been triggered by women when they call him out,\" she claimed. \"It’s why he has such a challenge with women in this election and why I think they’re going to be such a deciding factor when he loses. And there’s a reason why his campaign doesn’t want him to keep doing these rallies. They hurt him because the more people hear the crazy, the meanness, the name calling, they’re just over it.\"\\n  Trump doesn\\'t appear to show any signs of stopping his rallies, with upcoming ones scheduled in Colorado, Nevada, Arizona and Georgia. Only 26 days remain until Election Day.\\n  The View airs weekdays at 11 a.m. ET on ABC.\\n',\n",
              " '\"He\\'s living by himself, he\\'s able to take care of himself, he\\'s independent,\" Jeff\\'s son, Josh, tells PEOPLE as he raises awareness about the importance of supporting family caregivers Kyler Alvord is a news editor at PEOPLE, leading the brand\\'s political coverage. He joined the publication on the crime beat.  Jeff Carter, the youngest of Jimmy and Rosalynn Carter\\'s three sons, has been quietly navigating life with Parkinson\\'s disease.\\n  Jeff, 72, has known about his diagnosis for some time, his son Josh tells PEOPLE, but has refrained from making public statements.\\n  \"We know that [Parkinson\\'s] is a one-way street,\" Josh, 40, says. \"My dad is currently living by himself, he\\'s able to take care of himself, he\\'s independent, but he built his house knowing that one day he\\'s going to need more help.\"\\n  Jeff moved into a new home nearly a decade ago, and made sure it was wheelchair-accessible in case he ever needed to use one. It\\'s the kind of foresight that comes with being part of a family that has decades of experience with caregiving.\\n  \"We\\'re going into this with eyes wide open knowing that we\\'re going to have more and more responsibilities going on, and it\\'s just got to be a part of life,\" Josh says.\\n Bettmann/Getty  Jeff — whose wife, Annette Davis Carter, died in 2021 — has ample experience acting as a caregiver for loved ones, as have many people in the Carter family.\\n  His mother-in-law, Dorothy Davis, previously battled severe memory loss after a stroke, leading the whole family to step in as caregivers. His grandson, Jonathan — Josh\\'s youngest son — was diagnosed with a rare and chronic intestinal disorder as an infant that put financial and emotional strain on the family. And when Jeff\\'s parents, Jimmy and Rosalynn, entered hospice care in 2023, he and his siblings agreed that a loved one would stay with the former first couple at all times.\\n Melissa Montgomery  Josh revealed his father\\'s diagnosis during a panel discussion with PEOPLE editor-in-chief Wendy Naugle at the United Nations\\' International Day of Older Persons celebration on Monday, Oct. 7, saying that though Jeff has continued showing support for Jimmy more than a year and a half into the former president\\'s hospice care, he has been limited in his ability to visit due to his own medical planning.\\n Alex Brandon - Pool/Getty  Josh sat down with PEOPLE for a one-on-one conversation moments after the event, where he offered more context on his father\\'s experience.\\n  \"He\\'s not very open about it because he doesn\\'t want to be the face of anything,\" Josh says. \"It\\'s just, Parkinson\\'s sucks. It\\'s a hard disease. It\\'s a hard diagnosis.\"\\n R. Diamond/WireImage  Jeff has been able to manage his symptoms with deep brain stimulation therapy, which required getting two battery-powered electrodes surgically implanted in specific areas of his brain that manage movement. The electrodes come with a remote control.\\n  \"He can literally control his brain with his iPhone, which is wild,\" Josh explains. \"Without his therapy, he\\'s basically not able to do anything. And then when he turns his therapy back on with his phone, then he can stand up, he can walk around, he can hold a drink without spilling it, he can eat, he can communicate. It\\'s a night and day shift.\"\\n  The technology has allowed Jeff to have more \"high quality\" time with family. \"He\\'s able to play with my kids, he\\'s able to play with his other grandkids,\" Josh says. \"So, it\\'s really fortunate to be in this wave of technology.\"\\n  Jeff had three sons with Annette — Josh, Jeremy and James — and he now has four grandchildren. His middle son, Jeremy, died suddenly in 2015 at the age of 28.\\n Josh Carter  Josh, now a spokesperson for the Rosalynn Carter Institute for Caregivers, has spoken openly about his family\\'s health challenges and the toll that can come with taking care of a loved one. He is carrying on the legacy of his late grandmother, Rosalynn, who dedicated a large portion of her career advocating for family caregivers to have more support.\\n  After Josh\\'s youngest son was diagnosed with very early onset inflammatory bowel disease — a potentially fatal condition that is now under control — he and his wife, Sarah, founded The VEO-IBD Foundation, \"the first and only organization dedicated to parents and caregivers of children that have this disease.\"\\n  At Monday\\'s U.N. event, a new documentary clip about Josh\\'s caregiving experience premiered, where he shares more about his journey. The video is part of a months-long national awareness campaign by Washington, D.C.-based public broadcasting station WETA, and was produced in partnership with Bradley Cooper\\'s Lea Pictures production company and Ark Media.\\n',\n",
              " '\"It\\'s a commemoration of the long struggle, the resilience, and resistance, and beauty of this culture,\" Ruffalo tells PEOPLE  Kyler Alvord is a news editor at PEOPLE, leading the brand\\'s political coverage. He joined the publication on the crime beat. Larry Price  Mark Ruffalo is encouraging Native American communities make their voices heard in the polls, one step at a time.\\n  The 56-year-old actor traveled to the Navajo Nation on Saturday, Oct. 12, to participate in Walk to the Polls, a civic campaign to boost voter turnout among young Indigenous people in the 2024 presidential election.\\n  Partnering with Protect the Sacred, Ruffalo and members of the Diné (Navajo) community walked three miles to a ballot drop box, where residents casted their votes early while honoring 100 years of Native American citizenship and commemorating the Navajo Long Walk, the Diné\\'s Trail of Tears in the 1860s.\\n  Allie Redhorse Young, Diné activist and founder of the youth engagement initiative Protect the Sacred, says that the goal of the walk was to encourage \"record voter turnout\" among young Native American people.\\n  \"This is a way to draw attention to all of the barriers [to voting], one of them being the long distances we have to travel — 45 minutes to an hour\\'s drive — to register to vote, and also to cast the ballot. It\\'s 2024, and we haven\\'t found solutions for this,\" Young explains. \"It\\'s a way to reclaim our power and rebuild our power.\"\\n Larry Price  Ruffalo is not Native American but has gotten involved with various tribes through his years of environmental activism, explaining that \"we were all sort of fighting for the same thing, which was Mother Earth.\"\\n  He tells PEOPLE that change happens when people exercise their voices, citing how the U.S. government has made some progress with Indigenous representation since the last election.\\n  \"We\\'re hopefully about to have our first Native female governor. We have Deb Haaland in the Department of the Interior, actually having a Native American speak for their own people in a cabinet of the presidency,\" he says. \"That comes from voting.\"\\n  With Walk to the Polls — part of the larger civic engagement campaign Ride to the Polls — Ruffalo says, \"The message [to young Indigenous people] has been, ‘Hey, this system has really treated you badly and it\\'s completely understandable, your distrust for it, but the fact of the matter is the bad guys want you to not vote. This system hasn\\'t been fair to you, but it\\'s also the promise of America and using our vote is how we actually capture power and how we get a seat at the table.\\' \"\\n Larry Price  During the 2020 presidential election season, the Diné were grappling with the severe impact of COVID-19, which led Ruffalo to partner with Young on spreading accurate information about the virus\\'s danger. “They were suffering much more than anyone else in the country with the most deaths and they had the least effective and well-funded healthcare system,” Ruffalo explains.\\n  Four years later, just two days before Indigenous Peoples Day, Young and Ruffalo joined forces again for Walk to the Polls to shed light on election challenges and put an empowering spin on how Native American youth can fight back.\\n  “I think it\\'s a story about the wrong, disenfranchised, really invisible community that is making a statement that we\\'re still here,” Young tells PEOPLE.\\n  She adds, “We are asking the world and specifically this country to acknowledge our existence and our contributions to this country and to American democracy. There are over 570-plus recognized tribes in the country, and a lot of people don\\'t know that. So do your research. This is about solidarity and these movements require all of us to show up for each other.”\\n Larry Price  Ruffalo, who was also joined on the Walk to the Polls by actor Wilmer Valderrama and Native American actress Cara Jade Myers, expressed his happiness in celebrating a community that holds deep significance for him.\\n  \"We\\'re celebrating the work that we’ve done. It\\'s a commemoration of the long struggle, the resilience, and resistance, and beauty of this culture and value of this culture in the United States,\" the actor says.\\n  He adds, \"It\\'s for this too, but also just for connecting to a culture that means a great deal to me and I\\'ve gotten so much from, and learned so much from, and have developed as a human being because of.\"\\n  Learn more about Protect the Sacred\\'s mission to empower future generations of Native American leaders and protect Indigenous sovereignty at IWillHarness.com.\\n',\n",
              " 'The memorial service was held at the Cathedral of St. Matthew the Apostle on Oct. 16 Jim Lo Scalzo/EPA/Bloomberg via Getty  The Kennedy family said goodbye to a beloved matriarch.\\n  On Oct. 16, a memorial was held for Ethel Kennedy, at the Cathedral of St. Matthew the Apostle in Washington, D.C. The heartwarming service was attended by family, friends and political figures alike: Several of her children, including Robert F. Kennedy Jr., were present and so were grandchildren and great-grandchildren. Other notable attendees such as President Joe Biden — who delivered the eulogy — Barack Obama, Bill Clinton and Martin Luther King III also paid their respects.\\n  Ethel died on Oct. 10 \"from complications related to a stroke,\" according to a statement from her daughter, Kerry, that was posted on X.\\n  \"She was a devout Catholic and a daily communicant, and we are comforted in knowing she is reunited with the love of her life, our father, Robert F. Kennedy; her children David and Michael; her daughter-in-law Mary; her grandchildren Maeve and Saoirse; and her great-grandchildren Gideon and Josie,\" the statement read. \"Please keep our mother in your hearts and prayers.\"\\n  See all the moving photos from Ethel Kennedy\\'s memorial, below.\\n MANDEL NGAN/AFP via Getty  Kennedy family and friends surround Ethel\\'s casket as it is ushered into the cathedral.\\n Jim Lo Scalzo/EPA/Bloomberg via Getty  Former President Barack Obama is pictured giving Rory Kennedy — the youngest daughter of Ethel and Bobby — a warm embrace during the memorial service, as former President Bill Clinton looked on and President Joe Biden stands beside them.\\n Jim Lo Scalzo/EPA/Bloomberg via Getty  Obama and Clinton sat with President Biden during the ceremony.\\n Chip Somodevilla/Getty  Robert F. Kennedy Jr. arrived with wife Cheryl Hines by his side.\\n Jim Lo Scalzo/EPA/Bloomberg via Getty  Obama also took to the podium and shared some of his fondest memories of Mrs. Kennedy.\\n MANDEL NGAN/AFP via Getty  Former President Bill Clinton paid his respects to the late activist, calling her \"the cat\\'s meow.\"\\n MANDEL NGAN/AFP via Getty  Sting honors Ethel Kennedy with a surprise performance.\\n Jim Lo Scalzo/EPA/Bloomberg via Getty  The trio greet Martin Luther King III, son of MLK Jr., as he heads to his seat at the Cathedral of St. Matthew the Apostle.\\n MANDEL NGAN/AFP via Getty  Martin Luther King III heads to his seat ahead of the service. King, 66, spoke about the tragedies that his family and the Kennedys each faced in 1968.\\n MANDEL NGAN/AFP via Getty\\xa0  Kerry Kennedy, the seventh child of RFK and Ethel Kennedy, also shared some of her fondest memories of her mother. Kerry is now the president of RFK Human Rights, a nonprofit that Ethel founded in her late husband\\'s name.\\n MANDEL NGAN/AFP via Getty\\xa0  Former Massachusetts Rep. Joe Kennedy III, one of Ethel\\'s grandsons, takes the podium to speak about his beloved grandma.\\n MANDEL NGAN/AFP via Getty  Max Kennedy, Ethel and RFK\\'s ninth child, did a reading at the service to honor his mother.\\n MANDEL NGAN/AFP via Getty  Stevie Wonder shared some memories he had with Ethel Kennedy as he performed at the memorial.\\n MANDEL NGAN/AFP via Getty  Rory Kennedy, Ethel and Robert F. Kennedy\\'s last born, also spoke fondly of her late mother, saying, \"Mummy was all I had, but she was more than I could have ever hoped for.\" Rory was born after her father\\'s assassination.\\n MANDEL NGAN/AFP via Getty\\xa0  Kenny Chesney sang \"You Are My Sunshine\" at the beginning of the service, performing in honor of the late matriarch whom he said \"felt like sunshine.\"\\n',\n",
              " 'The Alien Enemies Act of 1798, which gives the president power to detain or deport foreign \"enemies,\" could be broadly applied to target any non-citizens that Trump declares a threat Kyler Alvord is a news editor at PEOPLE, leading the brand\\'s political coverage. He joined the publication on the crime beat. ALLISON DINNER/EPA-EFE/Shutterstock\\xa0  Donald Trump is vowing to invoke a 226-year-old law to justify mass detainments and deportations in the United States, saying that Election Day will be known as \"Liberation Day\" if he is handed the keys to the White House.\\n  The Alien Enemies Act of 1798 is a widely condemned immigration law that gives the president sweeping powers to bypass equal protection and due process while targeting foreign citizens. When it has been invoked, it has led to human rights crises that history looks down upon — but the law has not formally been repealed by Congress.\\n  In a recent social media post after speaking in Aurora, Colo., about immigrants, Trump wrote, \"We are now known, all throughout the world, as OCCUPIED AMERICA...But to everyone here in Colorado and all across our nation, I make you this vow: November 5th, 2024 will be LIBERATION DAY in America.\"\\n  Referencing a few prominent instances where American people were killed by non-citizens, Trump said he \"will put these vicious and bloodthirsty criminals in jail or kick them the hell OUT OF OUR COUNTRY.\"\\n  Without naming any target in particular, the former president continued by saying, \"To expedite removals of this savage gang, I will invoke the Alien Enemies Act of 1798 to target and dismantle ever migrant criminal network operating on American Soil.\"\\n  He then vaguely accused his 2024 election opponent, Vice President Kamala Harris, of inflicting \"violence and terror,\" falsely trying to paint her as the one responsible for U.S. border policy and a years-long rise in illegal border crossings.\\n  In recent months, aggressive executive action from President Joe Biden — which was taken after Trump urged Republicans to tank Congress\\' bipartisan border bill in February — has triggered a record decline in migrant encounters at the southern border, reaching lower levels than when Trump left office and sitting at roughly 41% of what it was at the peak of Trump\\'s presidency.\\n  The Alien Enemies Act of 1798 is best remembered as the law that allowed President Franklin D. Roosevelt to place Japanese, Italian and German immigrants into internment camps during World War II, whether or not they were affiliated with military actions from their countries of origin.\\n  \"The Alien Enemies Act and complementing authorities have allowed presidents to target people on the basis of their identity, not their conduct or the threat they pose to national security,\" writes Katherine Yon Ebright, a national security expert for the nonpartisan Brennan Center for Justice.\\n  \"In 1988, when Congress apologized and provided reparations for Japanese internment, it acknowledged that the policy was rooted in \\'racial prejudice\\' and \\'wartime hysteria,\\' not valid security concerns,\" she continues in her recent article, which centers around the dangers of the overly broad 18th-century law. \"Congress would later describe Italian internment as a \\'fundamental injustice,\\' and the Department of Justice would recognize that German noncitizens had been targeted \\'based on their ancestry.\\' \"\\n  Though the Alien Enemies Act is intended to be used only in wartime, and apply only when official governments have threatened military action, Trump could conceivably weaponize the law to apply to people hailing from any country he deems to be \"invading\" the U.S. — which is how he has described several nations whose residents have sought refuge in the States.\\n  People familiar with his team\\'s policy deliberations previously told Rolling Stone that he has already come up with a \"very convoluted and crazy\" theory for how he can abuse the law to justify mass deportations, even if the U.S. is not at war with a foreign government.\\n Whenever there is a declared war between the United States and any foreign nation or government, or any invasion or predatory incursion is perpetrated, attempted, or threatened against the territory of the United States by any foreign nation or government, and the President makes public proclamation of the event, all natives, citizens, denizens, or subjects of the hostile nation or government, being of the age of fourteen years and upward ... shall be liable to be apprehended, restrained, secured, and removed as alien enemies  Trump has long been known for spouting anti-immigration rhetoric, but his recent threats of mass deportations — and his increasingly inflammatory tone as Election Day nears — have sparked concern about the safety of immigrants and people of color who are perceived to be in the country illegally.\\n  At the Aurora campaign rally on Oct. 11, local journalist Kyle Clark reported that, while discussing migrant crime, Trump said, \"We have to live with these animals. But we won’t live with them for long.\" Immediately after, a supporter in the crowd shouted, \"Kill them!\"\\n  Also at the event, Trump immigration adviser Stephen Miller — a white nationalist whose organization America First Legal was initially listed on the advisory board of Project 2025 — said that under Trump, the United States would return to being a country of \"only Americans.\" (The United States is, of course, a nation largely composed of immigrants and their descendants.)\\n Hannah Beier/Bloomberg via Getty\\xa0  Trump\\'s most recent comments about illegal immigration dominated the political conversation over the weekend, with many critics expressing concern that he is being open about his plans to stretch the law.\\n  \"It\\'s time for everybody to realize he is dead serious. He\\'s full of rage, deeply unstable, and surrounded this time only by creepy, even angrier and unstable sycophants,\" Connecticut Sen. Chris Murphy wrote on X. \"This won\\'t be America any longer if he wins.\"\\n  A barrage of posts have also popped up on social media platforms comparing Trump to Nazi dictator Adolf Hitler, who gained a cult following when he entered politics that allowed him to seize control of Germany and carry out the Holocaust.\\n  \"think we\\'re genuinely on the edge of electing hitler here and people are complaining about not being pandered too [sic] enough,\" wrote one user in an X post that had 22,000 likes on Sunday morning, seemingly referring to how some progressives have criticized Harris\\' candidacy over slight policy disagreements.\\n  Trump\\'s own running mate, Ohio Sen. J.D. Vance, referred to Trump as \"America\\'s Hitler\" before he ran for office and sought Trump\\'s endorsement.\\n  Retired Army Gen. Mark A. Milley — who served as chairman of the Joint Chiefs of Staff under Trump — told journalist Bob Woodward for his upcoming book, War, that he used to warn colleagues how the former Apprentice host is \"a walking, talking advertisement of what he’s going to try to do,\" according to The Washington Post.\\n  The outlet, which saw an advanced copy of Woodward\\'s book, reports that Milley called Trump a \"fascist to the core\" and \"the most dangerous person to this country.\"\\n',\n",
              " 'Despite ongoing controversy surrounding RFK Jr.\\'s alleged relationship with a younger journalist, he and his wife came together on Oct. 16 to honor the late Kennedy matriarch Chip Somodevilla/Getty  Cheryl Hines is showing up for her husband, Robert F. Kennedy Jr., at a difficult time despite rumors that he engaged in a \"personal relationship\" with a political journalist.\\xa0\\n  Hines, 59, was seen holding hands with Kennedy, 70, as they arrived at his mother Ethel\\'s memorial service on Wednesday, Oct. 16, following her recent death at age 96.\\n  The celebration of life, held at the Cathedral of St. Matthew the Apostle in Washington, D.C., drew many notable attendees, including Presidents Joe Biden, Bill Clinton and Barack Obama; former House Speaker Nancy Pelosi; Martin Luther King III; and singers Kenny Chesney, Sting and Stevie Wonder. RFK Jr. was not listed as a speaker on the program.\\n  In September, Kennedy\\'s relationship to Hines took the spotlight when a sexting scandal unfolded allegedly involving the former presidential candidate and political reporter Olivia Nuzzi.\\n Paul Morigi/Getty Images; Michael M. Santiago/Getty Images  Weeks after the controversy arose, a source close to Hines told PEOPLE that the Curb Your Enthusiasm actress “has been talking about filing for divorce, but he\\'s begging her not to file.” Another source added that the pair “barely spoke” in the two weeks following the news.\\xa0\\n  Despite the earlier split rumors, Hines is seemingly supporting Kennedy, whom she has been married to since 2014.\\n  After the death of his mother, Kennedy took to Instagram with a lengthy and heartfelt tribute, writing, \"She deeded to each of her 11 children her love of good stories, her athleticism, her competitive spirit, and the deep curiosity about the world, and the intense interest in people of all backgrounds, which caused her to pepper everyone she met — from cab drivers to presidents — with a relentless cascade of questions about their lives.”\\n  He added at the end, \"I credit her for all my virtues. I’m grateful for her generosity in overlooking my faults.”\\n  Hines wrote in the comment section, “This is beautiful. Your mother was very proud of you. 🤍.”\\n  Since posting the tribute to his mother, new details about Kennedy\\'s alleged relationship with the 31-year-old journalist have emerged in a court dispute between Nuzzi and her ex-fiancé, Ryan Lizza.\\n  In the court filings, Lizza reportedly claimed that after he learned about Nuzzi and Kennedy\\'s alleged fling, she asserted that Kennedy wanted to \"control,\" \"possess,\" and \"impregnate\" her.\\n Dimitrios Kambouris/Getty; Randy Shropshire/Getty; Michael M. Santiago/Getty\\xa0  Lizza, 50, the chief Washington correspondent for Politico, also stated that Nuzzi described the relationship as \"toxic,\" \"unhealthy,\" \"stupid,\" \"psychotic,\" \"crazy,\" and \"indefensible,\" acknowledging the \"huge power disparity\" between her and Kennedy, according to CNN.\\n  A spokesperson for Kennedy told PEOPLE, \"The accusations about Robert Kennedy are categorically false and he will not participate in reporting on triple hearsay allegations made in a dispute between other people.\"\\n',\n",
              " \"The Democratic National Committee is unveiling four sky-high messages above NFL stadiums across the country on Sunday, Oct. 13 Win McNamee/Getty\\xa0  The Democratic National Committee is taking its pro-Kamala Harris message to the skies above NFL stadiums.\\n  On Sunday, Oct. 13, the DNC will unveil its first ad campaign during NFL games pegged to the presidential election. At the Raiders-Steelers game in Las Vegas, fans will see skywriting over the stadium. In Green Bay, Charlotte and Philadelphia, planes will fly banners over the crowds with messages.\\n  “It’s NFL Sunday and fans across the battlegrounds are ready to sack Donald Trump’s Project 2025 playbook once and for all,” DNC deputy communications director Abhi Rahman says in a statement shared with PEOPLE.\\n  The skywriting in Las Vegas — which is targeted toward both Nevadan Raiders fans and Pennsylvanian Steelers fans — will feature the message “Vote Kamala.”\\n  The plane banners in Green Bay and Charlotte will read “Sack Trump’s Project 2025! Vote Kamala!” The Green Bay Packers are facing off against the Arizona Cardinals on Sunday, and the Carolina Panthers are facing off with the Atlanta Falcons, meaning all four of those teams represent critical swing states as well.\\n  In Philadelphia, where the Eagles will be facing off with Ohio's Cleveland Browns, the banner is slightly more targeted: “Go Birds! Sack Project 2025! Vote Kamala!”\\n  Rahman says that through the sky-high messages, the DNC is aiming to meet “voters where they are.”\\n  “Trump’s Project 2025 agenda is a dangerous plan to give him unprecedented power over our daily lives, to ban abortion nationwide, allow the government to monitor pregnancies, and give tax giveaways to his billionaire friends,” the statement reads. “That’s why the DNC is meeting voters where they are, with innovative skywriting and plane banners that have a simple message: the most important contest is still to come in November, and America is ready to sack Trump’s Project 2025 agenda, win the game, and cast their vote for Kamala Harris.”\\n  Never miss a story — sign up for PEOPLE's free daily newsletter to stay up-to-date on the best of what PEOPLE has to offer\\u200b\\u200b, from celebrity news to compelling human interest stories.\\n  Sunday marks 23 days until the Nov. 5 election, and the DNC is putting emphasis into the critical swing states that could decide the next president, which include Arizona, Georgia, Pennsylvania, Nevada, North Carolina and Wisconsin.\\n  The New York Times' recent polling averages show Harris and Trump within a point of one another in each state. With such narrow margins, experts have been wary of declaring a front-runner in the presidential race.\\n\",\n",
              " 'The couple, who were seen publicly embracing and sharing a kiss on Oct. 17, have been under scrutiny following allegations that Kennedy and a political reporter got personal during his presidential campaign GWR/STAR MAX/IPx  Cheryl Hines and Robert F. Kennedy Jr. cozied up in front of cameras this week, as allegations fly about how Kennedy allegedly developed a \"personal relationship\" with a political journalist.\\n  The pair, who married in 2014, were seen embracing, laughing and sharing a kiss at the Alfred E. Smith Memorial Foundation Dinner on Thursday. In a video posted to X, Hines, 59, was seen stroking her husband’s face with her finger.\\n  Other attendees included former President Donald Trump and former first lady Melania Trump, former New York City Mayor Michael Bloomberg and current N.Y.C. Mayor Eric Adams, who was indicted on federal criminal charges in September.\\n  Just under a month ago, Kennedy, 70, and Hines\\' relationship was spotlighted when allegations emerged that the former presidential candidate and New York magazine reporter Olivia Nuzzi had grown close during the campaign and exchanged lewd texts.\\n  The magazine published a statement about Nuzzi, 31, being put on leave on Sept. 19, noting that she \"acknowledged\" that she \"engaged in a personal relationship with a former subject relevant to the 2024 campaign while she was reporting on the campaign.\"\\n  Weeks after the controversy surfaced, a source close to Hines told PEOPLE that she and Kennedy \"barely spoke\" in the two weeks after the news broke. Another source claimed in early October that the Curb Your Enthusiasm actress \"has been talking about filing for divorce, but he\\'s begging her not to file.\"\\n Chip Somodevilla/Getty  Recently the couple have displayed a united front in public appearances.\\n  Two days after the death of Kennedy\\'s mother, Ethel, on Oct. 10, Kennedy and Hines were seen holding hands around the Kennedy family\\'s compound in Hyannis Port.\\n  Hines also commented on Kennedy\\'s social media tribute to his mother, writing, \"This is beautiful. Your mother was very proud of you. 🤍.\"\\n  Never miss a story — sign up for PEOPLE\\'s free daily newsletter to stay up-to-date on the best of what PEOPLE has to offer.\\n  At Ethel\\'s memorial service in Washington, D.C., on Oct. 16 — which was attended by Presidents Bill Clinton, Barack Obama and Joe Biden — the couple arrived together hand in hand, with Hines appearing to support her husband.\\n',\n",
              " 'The late Kennedy matriarch was known for sending humorous, handmade Valentine\\'s Day cards to hundreds of major political figures each year, including Joe Biden, Barack Obama and Bill Clinton Charlotte Phillipp is a Weekend Writer-Reporter at PEOPLE. She has been working at PEOPLE since 2024, and was previously an entertainment reporter at The Messenger. Patrick McMullan/Patrick McMullan via Getty\\xa0  Ethel Kennedy\\'s daughter Kerry Kennedy is showing off some of her late mother\\'s best homemade valentines, which were mentioned multiple times at Ethel\\'s memorial service this week.\\n  On Wednesday, Oct. 16, Kerry shared images to social media of some of the cards that her mother, the widow of late Sen.\\xa0Robert F. Kennedy, sent out to her politician friends for Valentine\\'s Day over the years.\\n  In her post on X (formerly Twitter), Kerry wrote that some of her \"Mummy’s favorite Valentine’s cards\" included ones she sent to President Joe Biden, former Presidents Barack Obama and Bill Clinton, and former House Speaker\\xa0Nancy Pelosi.\\n Kevin Mazur/Getty  In one card, Ethel wrote to Biden, \"I\\'m not Biden my time waiting for you, Valentine,\" alongside a photo of the pair together and a handwritten note that read: \"\\'Cuz he\\'s no ordinary Joe. XO Bearhugs, Ethel.\"\\n  While delivering the final eulogy for Ethel at her memorial on Wednesday, Biden brought up that valentine as a cherished possession of his.\\n  \"I don’t know how many of you got that damn valentine, but I tell you what, it meant a lot to me,\" he said. \"I’ve received a lot of honors in my life, but that might be the best one I’ve ever received.\"\\n  Another card that Ethel sent to Obama joked: \"I thought they said Merman,\" alongside a photo of the duo together taken as he awarded her with the Presidential\\xa0Medal\\xa0of Freedom.\\n Alex Wong/Getty\\xa0  Ethel\\'s card to Clinton featured a photoshopped image of herself and the former president playing the saxophone together, and was captioned: \"One day we\\'ll make music, \\'cuz you know how I feel; But right now, Valentine — This guy blows my mind with his sax appeal.\"\\n  Another card, seemingly sent to Pelosi, featured a photoshopped picture of Ethel tearing open an envelope full of hearts with the text: \"Roses are red, Violets are blue. I\\'ll tear up all the others, Valentine, so I\\'ll just have you.\"\\n  \"Heartwarming to hear that\\xa0@POTUS, President\\xa0@BarackObama, President\\xa0@BillClinton, and\\xa0@SpeakerPelosi\\xa0loved them as much as we did! ❤️\" Kerry, 65, captioned the post, referencing their nods to the valentines at the memorial service.\\n Jim Lo Scalzo/EPA/Bloomberg via Getty  Many of Ethel\\'s friends and family attended “A Celebration of Life for Mrs. Robert F. Kennedy” at the Cathedral of St. Matthew the Apostle in Washington D.C., on Oct. 16.\\n  The human rights activist and mother of 11 died at the age of 96 on Oct. 10.\\n  Never miss a story — sign up for PEOPLE\\'s free daily newsletter to stay up-to-date on the best of what PEOPLE has to offer.\\n  Obama, Clinton, Biden and Pelosi all played a role in the memorial program, as did Martin Luther King III, Kenny Chesney, Stevie Wonder, Sting and several of Ethel\\'s children and grandchildren.\\n',\n",
              " \"The former president commented on Alabama Sen. Katie Britt's age and physical appearance while recalling a conversation they had about IVF Elijah Nouvelage/getty  Donald Trump raised eyebrows while speaking to an all-women audience on Tuesday, Oct. 15, when he commented on a female politician's age and physical appearance.\\n  The remark was made at a Fox News town hall in Cumming, Ga., in reference to Alabama Sen. Katie Britt.\\n  “I got a call from Katie Britt, a young, just a fantastically attractive person from Alabama, she’s a senator,” Trump, 78, said at the event before recalling a conversation he and Britt had about in vitro fertilization.\\n  “She called me up like, emergency, emergency, because an Alabama judge had ruled that the IVF clinics were illegal and they have to be closed down.”\\n Anna Moneymaker/Getty  After the town hall with Fox News host Harris Faulkner aired on Wednesday, Oct. 16, some called Trump out for “sexist” remarks, questioning why it mattered that he viewed Britt, 42, as “fantastically attractive” in relation to the issue at hand.\\n  Continuing his speech, Trump also shared that Britt had helped him to better understand IVF and why it's so important to so many families.\\n  “I said, ‘Explain IVF very quickly.’ And within about two minutes, I understood it. I said, ‘No, no. We’re totally in favor of IVF,’ ” he said of his phone conversation with the senator on Tuesday, per New York magazine.\\n AP Photo/Alex Brandon  Tuesday’s town hall is also where Trump faced backlash for declaring himself the “father of IVF.”\\n  “Donald Trump called himself ‘the father of IVF.’ What is he talking about?” Vice President Kamala Harris tweeted afterward. “His abortion bans have already jeopardized access to it in states across the country — and his own platform could end IVF altogether.”\\xa0\\n  IVF “is the most effective type of fertility treatment that involves the handling of eggs or embryos and sperm,” per the Mayo Clinic.\\n  Women’s fertility treatments, including abortions, have been jeopardized since the Supreme Court’s 2022 decision to overturn Roe v. Wade.\\n  On Wednesday, Harris, 59, further called Trump out by telling reporters “one in three women in America lives in a Trump abortion ban state,” per CBS News.\\n  Never miss a story — sign up for PEOPLE's free daily newsletter to stay up-to-date on the best of what PEOPLE has to offer\\u200b\\u200b, from celebrity news to compelling human interest stories.\\n  Trump also made headlines for his Pennsylvania town hall event on Oct. 14, after he cut off questions early and instead swayed on stage for 39 minutes while music played. Prior to queueing the playlist, he incorrectly asked his supporters to get out and vote on Jan. 5.\\n\",\n",
              " '“Bill? Oh my God. Hi Bill!,\" the employee said excitedly after realizing her mistake  An employee was in for quite a surprise when a president dropped by a McDonald’s in Georgia over the weekend — but he wasn\\'t the exactly the man she thought he was.\\n  While stumping for Vice President Kamala Harris on Sunday, Oct. 13, former President Bill Clinton stopped by the fast food chain and came face-to-face with a shocked employee.\\xa0\\n  “You Joe? Mr. Joe,\" the employee asked Clinton, 78, who was sporting a jacket with “USA” fastened on the back. It only took the employee a few seconds to realize it was not President Joe Biden, but rather the 42nd U.S. president.\\xa0\\n  Correcting her mistake the employee said, “Bill? Oh my God. Hi Bill!\" She then ran around the counter to give the former president a big hug. Keeping their arms around each other, the woman asked a fellow employee to take a photo and said, “This is Bill, y’all.”\\n  Angel Ureña, Deputy Chief of Staff for Clinton, recorded the wholesome encounter and shared it on X (formerly Twitter). “The boss was stumping for @KamalaHarris in Georgia and had to stop by the old stomping grounds, @McDonalds,” he captioned the clip.\\n  This is not the first time Clinton, who was notorious for his visits to McDonald\\'s, has expressed his love for the fast food chain.\\n  Most recently, while speaking on behalf of Harris, 59, at the Democratic National Convention in August, Clinton highlighted the vice president\\'s first job as a fast food worker. “I’ll be so happy when she enters the White House as president because she will break my record as the president who spent the most time at McDonald’s,” he joked.\\n CHARLY TRIBALLEAU/AFP via Getty\\xa0  On Sunday, Clinton also spoke to congregants at Mount Zion Baptist Church in Albany, Ga, in support of Harris. \"This whole election and the future of the country is turning out to be what people who were sort of on the fence about voting are going to do in the next three and a half weeks,\" Clinton said.\\n  He added, \"It’s the craziest thing I’ve ever seen.\"\\n  Following Sunday\\'s events, it was announced by the Harris campaign that Clinton is set to headline a bus tour through eastern North Carolina during the remainder of this week.\\n',\n",
              " '“Let’s not be distracted by his choice of words. The reality is actually very harmful to women and families in America,\" responded Vice President Kamala Harris Bill Pugliano/Getty  Donald Trump declared himself the “father of IVF” during a Fox News town hall in Cumming, Ga., on Tuesday, Oct. 15.\\n  The former president, 78, told The Faulkner Focus host Harris Faulkner that\\xa0he wanted \"to talk about IVF\" during the town hall. “We really are the party for IVF,” Trump said, per CNN. “We want fertilization, and it’s all the way, and the Democrats tried to attack us on it, and we’re out there on IVF, even more than them. So, we’re totally in favor.”\\n  During the same town hall, Trump said that he previously asked Alabama Sen. Katie Britt to \"explain IVF very quickly,\" which allowed him to understand that he was in favor of the practice.\\n  Trump’s comments follow the jeopardization of fertility treatment after the Supreme Court’s 2022 decision to overturn Roe v. Wade. (In vitro fertilization “is the most effective type of fertility treatment that involves the handling of eggs or embryos and sperm,” per the Mayo Clinic.)\\n Spencer Platt/Getty  IVF has become a prominent issue in the 2024 presidential race, triggered by the Alabama Supreme Court’s February 2024 ruling that frozen embryos will now legally be considered children.\\n  Since then, in both June and September, congressional Republicans voted to block bills that would protect the legality of IVF and insurance coverage for the fertility treatment, the latter of which Trump has stated he would support, per the New York Times.\\n Michael M. Santiago/Getty  “Donald Trump called himself ‘the father of IVF.’ What is he talking about?” Vice President Kamala Harris reacted in a Tuesday X post (formerly known as Twitter). “His abortion bans have already jeopardized access to it in states across the country — and his own platform could end IVF altogether.”\\n  After her initial reaction, Harris, 59, told reporters on Wednesday, Oct. 16, that Trump’s statement was “quite bizarre,” per CBS News. “What a man is taking responsibility for the fact that one in three women in America lives in a Trump abortion ban state,” she said.\\n  “What he should take responsibility for is that couples who are praying, hoping and working toward growing a family have been so disappointed and harmed by the fact that IVF treatments have now been put at risk.”\\n  “Let’s not be distracted by his choice of words,” she said, adding, “The reality is actually very harmful to women and families in America.”\\n SAUL LOEB/AFP via Getty\\xa0  Never miss a story — sign up for PEOPLE\\'s free daily newsletter to stay up-to-date on the best of what PEOPLE has to offer\\u200b\\u200b, from celebrity news to compelling human interest stories.\\xa0\\n  One reporter followed up by asking the vice president if Trump should be administered a cognitive test.\\xa0\\n  “I’m going to say what I’ve said publicly and what I’ve said many times based on my observations, Donald Trump is increasingly unstable, and as has been said by people who have worked closely with him even when he was president,\" she said. \"He’s unfit to be president of the United States.”\\n',\n",
              " '“I truly do believe we prevented another assassination attempt,” Riverside County Sheriff Chad Bianco said on Oct. 13 AP Photo/Alex Brandon  A man with a loaded weapon was arrested on Saturday, Oct. 12, outside of Donald Trump\\'s rally in California’s Coachella Valley, with officials believing they thwarted another assassination attempt on him.\\n  During a press conference on Sunday, Oct. 13, Riverside County Sheriff Chad Bianco addressed the incident in Coachella, telling reporters, “I truly do believe we prevented another assassination attempt.”\\n  According to a police report from the Riverside County Sheriff\\'s Office obtained by PEOPLE, 49-year-old Las Vegas resident Vem Miller was contacted after his black SUV was found by deputies onsite at a checkpoint at the intersection of Avenue 52 and Celebration Drive.\\xa0\\n  As he entered the outside perimeter of the rally, Miller had credentials that indicated he belonged at the rally with a VIP pass and claimed to be a member of the press. However, \"irregularities\" popped up as he made his way into the inside perimeter.\\n Mario Tama/Getty  Miller was\\xa0\"found to be illegally in possession of a shotgun, a loaded handgun, and a high-capacity magazine.\" Multiple passports and multiple IDs with different names were also found in his vehicle, which was \"in disarray,\" Bianco detailed. Additionally, his vehicle was unregistered.\\n  Miller was taken into custody without incident and was booked at the John J. Benoit Detention Center\\xa0in Indio for possession of a loaded firearm and possession of a high-capacity magazine.\\n  Never miss a story — sign up for PEOPLE\\'s free daily newsletter to stay up-to-date on the best of what PEOPLE has to offer\\u200b\\u200b, from celebrity news to compelling human interest stories.\\xa0\\n  The sheriff\\'s office noted that the incident \"did not impact the safety of former President Trump or attendees of the event\" and the incident occurred an hour before the rally was set to begin.\\n  The U.S. Attorney\\'s Office, U.S. Secret Service and FBI issued a joint statement on Sunday stating \"the incident did not impact protective operations and former President Trump was not in any danger.\"\\n  The statement added, \"While no federal arrest has been made at this time, the investigation is ongoing.\"\\n  Miller was released on $5,000 bail and will make an appearance in court at a future date. \"We are actively engaged in working with Secret Service and FBI to ensure this person is followed up on and all the information they can gather,\" Bianco said.\\n  While addressing reporters on whether Miller was part of a far-right organization, Bianco noted, \"There is absolutely no way that any of us are going to truly know what was in [Miller\\'s] head.”\\n Wally Skalij/Los Angeles Times via Getty\\xa0  This is the third incident during the 2024 election in which weapons had been found near Trump. In July during a rally in Butler, Pa., when Trump was mid-speech, gunshots rang out and he was rushed offstage.\\n  One bystander, firefighter Corey Comperatore, was killed and two others were injured. The shooter, who was identified as Thomas Matthew Crooks, was killed. The FBI called the incident an assassination attempt. Trump was injured by a bullet grazing his ear.\\n  In September, multiple gunshots were fired near the Trump National Golf Club in West Palm Beach while Trump was playing golf. At the time, the FBI said they were investigating the incident as another assassination attempt.\\n',\n",
              " 'The daughter of former President George W. Bush said one of Henry Hager\\'s \"favorite things\" to do at 1600 Pennsylvania Ave. was \"call ghosts\" Jamie McCarthy/Getty  Even the White House can get a little spooky, according to Jenna Bush Hager.\\n  The daughter of former President George W. Bush says her husband, Henry Hager, used to go “ghost-hunting” when they would spend time at the historic home.\\n  “You know what one of Henry Hager’s favorite things to do in the White House was? He would go ‘call ghost,’ “ Bush Hager, 42, said on Today with Hoda & Jenna on Wednesday, Oct. 9.\\n  She continued, “He would go up to this room where my mom’s best friend had this experience, and he would take friends after a couple of cocktails and they would call ghosts to come in and join them.”\\n  While the mother of three told co-host Hoda Kotb that she didn’t recall ever joining in on the fun, she has a theory about the ghosts’ preferences.\\n  “They didn’t like what we were serving,” she joked.\\n  Never miss a story — sign up for PEOPLE\\'s free daily newsletter to stay up-to-date on the best of what PEOPLE has to offer\\u200b\\u200b, from celebrity news to compelling human interest stories.\\xa0\\n  The origin of Bush Hager’s ghost story came about after the hosts heard a noise in the background while they were on air.\\n  After the Read with Jenna book club founder wondered what the sound was, she shared that she thought Studio 1A might be compromised.\\n  “It feels like this place is haunted and I just need to speak up because I’ve had some encounters with ghosts and I’m a little scared,” she said.\\n  The longtime friends’ exchange ended with Kotb, 60, calling Bush Hager “kooky.”\\n  “I’m sorry that I can’t help it but when I feel a little frightened, I have to tell you.” Bush Hager said.\\n',\n",
              " 'During a rare joint appearance at the Al Smith Dinner in New York City on Thursday, Oct. 17, the former first couple was confronted with one particularly awkward moment Charlotte Phillipp is a Weekend Writer-Reporter at PEOPLE. She has been working at PEOPLE since 2024, and was previously an entertainment reporter at The Messenger. Anthony Behar/AP  Donald Trump\\xa0and his wife, Melania Trump, had very different reactions to a joke about the former president\\'s infamous Hollywood Access tape.\\n  During the high-profile Al Smith Dinner — an election year tradition in New York City to raise money for Catholic charities and roast political candidates — comedian and dinner host Jim Gaffigan began cracking jokes about Donald, 78, as the former president and Melania, 54, sat just feet away.\\n  Gaffigan jokingly compared Donald\\'s recent false claims about Haitian immigrants eating pets in Ohio to his lewd comments in a 2005 recording that surfaced during the 2016 presidential race, according to Newsweek.\\n  \"During the first and only debate, President Trump talked about migrants taking cats and eating them,\" Gaffigan said. \"You know, if you\\'re keeping track at home, this is the second time grabbing a kitty has been part of a campaign issue.\"\\n Michael M. Santiago/Getty  According to Newsweek, Donald was smiling through the joke, while Melania remained \"stone-faced.\" Some audience members laughed and groaned, while others stayed silent.\\n  Mary Callahan Erdoes, vice chair of the Alfred E. Smith Memorial Foundation board, was then heard telling Gaffigan, \"We talked about leaving that out.\"\\n  Gaffigan responded to her affirmatively, saying, \"I was gonna leave that out.\"\\n Michael M. Santiago/Getty  In the 2005 tape that Gaffigan referenced, Donald was heard on a hot microphone speaking with Access Hollywood\\'s Billy Bush about groping and trying to have sex with women.\\n  At one point, the real estate mogul notoriously said, \"You know I\\'m automatically attracted to beautiful... I just start kissing them. It\\'s like a magnet. Just kiss. I don\\'t even wait. And when you\\'re a star they let you do it. You can do anything.\"\\n  \"Grab them by the p---y,\" Donald continued. \"You can do anything.\"\\n  Additionally, during the recent presidential debate against Vice President\\xa0Kamala Harris\\xa0in September, Donald brought up the far-right conspiracy theory regarding Haitian migrants “eating pets,\" which received mass criticism ahead of the debate.\\n  \"In Springfield, [Ohio,] they\\'re eating the dogs, the people that came in. They\\'re eating the cats. They\\'re eating the pets of the people who live there, and this is what\\'s happening in our country,” Donald falsely claimed of Haitian people who have moved there.\\n  Moderator David Muir interjected at the time to note that the city manager of Springfield has publicly stated \"there have been no credible reports of specific claims of pets being harmed, injured or abused by individuals within the immigrant community.\"\\n GIORGIO VIERA/AFP via Getty  This isn\\'t the first time Melania has had a less-than-enthusiastic reaction to buzz about Donald\\'s sex-related scandals. A source previously told PEOPLE in March 2023 that the former model was completely uninterested in talking about the alleged hush money payment Donald made to adult film star\\xa0Stormy Daniels\\xa0in 2016.\\n  Daniels previously alleged that her rumored extramarital affair\\xa0with Donald took place less than four months after Melania gave birth to the couple\\'s son,\\xa0Barron, in 2006.\\n  Never miss a story — sign up for PEOPLE\\'s free daily newsletter to stay up-to-date on the best of what PEOPLE has to offer\\u200b\\u200b, from celebrity news to compelling human interest stories.\\n  According to the source, Melania has been \"leading her own life, and still feels happy being at Mar-a-Lago, surrounded by people who love her and who never talk about reality, or bad things about her husband.\"\\n  \"She remains angry and doesn\\'t want to hear [the alleged hush money payment] mentioned,\" the source added. \"She is aware of who her husband is and keeps her life upbeat with her own family and a few close friends.\"\\n  The source also noted at the time that Melania has been upset by the Daniels accusations since at least 2018, when the\\xa0Wall Street Journal\\xa0reported that\\xa0Donald had arranged a $130,000 payment\\xa0to the ex-porn star a month before the 2016 election so she\\'d keep quiet about their alleged affair.\\n',\n",
              " 'After struggling to answer a couple of questions about the economy and then getting thrown off further by fainting audience members, Trump veered from politics altogether during a critical swing state event \\xa0Spencer Platt/Getty; JIM WATSON/AFP via Getty  Donald Trump hosted an impromptu musical event on Monday, Oct. 14, when a gaffe-filled town hall ended with 39 minutes of quiet swaying to his favorite songs.\\n  At an Oaks, Pa., town hall that was intended to focus on policy, Trump\\'s behavior became troubling as the evening progressed.\\n  Trump, 78, struggled to answer the few questions he was asked during the Monday night event and at one point asked the crowd, “Who the hell wants to hear questions, right?” before switching gears to play music for attendees rather than discuss politics.\\n  His behavior came hot off the heels of several days of confusing and aggressive statements on the campaign trail, which raised concerns about his mental acuity.\\n JIM WATSON/AFP via Getty  Videos shared on social media showed the bizarre evening unfolding. At one point, Trump mentioned Hannibal Lecter, the fictitious serial killer and cannibal from Silence of the Lambs.\\n  At another moment, he told people to vote on Jan. 5. Election Day is Nov. 5.\\n  Roughly 30 minutes into the Q&A session, Trump gave a rambling response when asked about how he will help small businesses, talking about how his friends enjoy cooking on gas stoves and saying that hydrogen cars disfigure people.\\n  Two people suffered medical emergencies during the Q&A segment of the event, which led to confusion about how to proceed with the scheduled programming. While the crowd waited on the first person to get medical attention, Trump asked for \"Ave Maria\" to play.\\n  \"While we’re waiting. So we had a beautiful evening. And I don’t know if they could get this song up quickly, but if they could work really quickly backstage while we’re waiting. \\'Ave Maria,\\' \" he requested, according to The Washington Post.\\n  When a second medical emergency happened, he asked the crowd, \"Would anybody else like to faint? Please raise your hand. Let\\'s do it now,\" before requesting \"Ave Maria\" again.\\n  \"Those two people who went down are patriots. We love them. And because of them, we ended up with some great music, right?\" Trump said after \"Ave Maria\" played the second time, the Post reports. \"So play ‘YMCA!’ Go ahead. Let’s go nice and loud!\"\\n  When it appeared that the Q&A would not get back on track, the moderator — South Dakota Gov. Kristi Noem — asked Trump if they should end his town hall with the walk-off song he wanted or try to take more questions from the audience.\\n  Trump opted for music. \"So Justin, how about a couple really beauties and we’ll sit down and relax,\" he told one of his aides.\\n JIM WATSON/AFP via Getty  The spontaneous musical interlude lasted 39 minutes, as Trump alternated between standing still and swaying onstage while songs such as \"Nothing Compares 2 U\" by Sinéad O\\'Connor, \"The YMCA\" by The Village People and \"Hallelujah\" by Rufus Wainwright were played.\\n  Many crowd members left the venue prematurely, according to social media videos, and at least one attendee standing on stage behind him was spotted looking at his phone.\\n  Never miss a story — sign up for PEOPLE\\'s free daily newsletter to stay up-to-date on the best of what PEOPLE has to offer\\u200b\\u200b, from celebrity news to compelling human interest stories.\\xa0Following the event, Trump\\'s spokesperson Steven Cheung boasted about the evening on X (formerly Twitter). \"Total lovefest at the PA townhall! Everyone was so excited they were fainting so\\xa0@realDonaldTrump\\xa0turned to music,\" he wrote.\\n  \"Nobody wanted to leave and wanted to hear more songs from the famous DJT Spotify playlist!\"\\n  Meanwhile, Vice President Kamala Harris reposted her campaign\\'s summary of the evening with the simple line: \"Hope he\\'s okay.\"\\n Spencer Platt/Getty  Days before the town hall, Harris, 59, sought to call attention to questions about Trump\\'s cognitive ability and overall health when she released a health summary from her physician, which showed no major concerns. Her doctor wrote in the report that she \"possesses the physical and mental resiliency required to successfully execute the duties of the Presidency.\"\\n  Trump, meanwhile, has repeatedly promised to share his health report but declines to do so when reporters follow up.\\n',\n",
              " 'Robert F. Kennedy Jr. said his mother Ethel, who died from stroke complications on Oct. 10, was comforted to know she may be reunited with her many dogs in the afterlife  In Robert F. Kennedy Jr.\\'s heartfelt tribute to his mother, Ethel Kennedy, who died on Oct. 10 at the age of 96, he revealed that she had many dogs with the same name.\\n  In an X post, Bobby Jr., 70, mentioned Ethel\\'s beloved dogs when naming family members she would be reunited with in the afterlife.\\n  \"She wrung joy from every moment, but for 56 years she has spoken with yearning of the day she would reunite with her beloved husband [Robert F. Kennedy],\" the independent politician wrote. \"She is with him now, with my brothers David and Michael, with her parents, her six siblings, all of whom predeceased her, and her \\'adopted\\' Kennedy siblings Jack, Kick, Joe, Teddy, Eunice, Jean, Rosemary, and Patricia.\"\\n  Bobby Jr. added: \"She was never more enthusiastic about the afterlife than when she considered that she would also be reunited with her many dogs, including 16 Irish setters — all conveniently named \\'Rusty.\\' \"\\n Ron Galella/Ron Galella Collection via Getty\\xa0  Irish setters were the American Kennel Club\\'s 76th most popular dog breed in 2023. They are active and outgoing dogs, which seemed to match Ethel\\'s temperament. \"Even as she declined in recent months, she never lost her sense of fun, her humor, her spark, her spunk, and her joie de vivre,\" Bobby Jr. mentioned in his tribute.\\n  Irish setters are \"famously good family dogs,\" which was appropriate for the massive Kennedy family. Ethel and RFK had 11 children, 34 grandchildren and 24 great-grandchildren.\\n  The Irish dog breed also aligned with the family\\'s history. Ethel\\'s mother, Ann Brannack, was Irish — and so was the Kennedy family she married into.\\n  At Hickory Hill, Bobby and Ethel\\'s former home in Virginia, dogs were among the many animals to roam the property.\\n  \"There were lots of kids,\" Ethel\\'s daughter Kathleen Kennedy Townshend said, according to PBS. \"There were plenty of horses, many dogs, chickens, geese, goats. It was a menagerie... my brother Bobby [Jr.] collected reptiles. And actually the turtle was in the laundry room. The sea lion was in the swimming pool.\"\\n CSU Archives/Everett Collection  The Rusty pups aren\\'t the only Irish setters who have made cameos in the political world. Former presidents Richard Nixon and Harry Truman, along with former Republican presidential nominee Mitt Romney, all had Irish setters.\\n  Among the abundance of dogs Ethel had throughout her lifetime, she did stray from the name Rusty at times. Bobby told The New York Post in 2020 about one of her dogs with an unexpected name.\\n  “My mom loves Che Guevara. Her dog is named Che.\"\\n',\n",
              " 'The pop star explained in 2012 that she was inspired to write a song after seeing a vintage photo of Ethel and Bobby dancing Kyler Alvord is a news editor at PEOPLE, leading the brand\\'s political coverage. He joined the publication on the crime beat. Dimitrios Kambouris/Getty; Getty  Taylor Swift once wrote a song inspired by the love story between Robert F. Kennedy and his wife, Ethel Kennedy.\\n  Ethel (née Skakel), who died from stroke complications on Oct. 10 at the age of 96, played an important role in the Kennedy dynasty. She was the matriarch of Bobby\\'s branch of the family, raising several of his children, and she dedicated her career to carrying on her husband\\'s human rights activism after he was assassinated.\\n  Swift has been known to reference historical figures in her music, and her 2012 love song \"Starlight\" was written with Ethel and Bobby in mind.\\n  The pop star explained how she ended up writing a song about the Kennedys in a\\xa02012 interview with\\xa0The Wall Street Journal, saying, \"I get a lot of style inspiration from the 1960s, so I\\'ll go and look at black and white pictures, and look at [photos from the] \\'50s and \\'60s, and I came across this picture of these two kids dancing at a dance.\"\\n  \"It immediately made me think of like how much fun they must have had that night. It was back in the late \\'40s,\" continued Swift, who was dating Ethel\\'s grandson\\xa0Conor Kennedy\\xa0at the time. \"I ended up reading underneath that it was Ethel Kennedy and\\xa0Robert F. Kennedy. ... So I just kind of wrote that song from that place, not really knowing how they met or anything like that.\"\\n Getty  In the song, Swift tells the story of teenagers meeting, falling in love and dancing the night away like they were \"made of starlight.\"\\n  The song is written from Ethel\\'s perspective, directly referencing RFK in a line that says, \"I met Bobby on the boardwalk, summer of \\'45 / Picked me up, late one night at the window / We were seventeen and crazy, running wild, wild.\"\\n  Swift\\'s imagination colored in the details of their love story — the couple actually met in the winter of 1945, when Ethel was 17 and Bobby was 20 — but it tells a similar enough tale.\\n  During the bridge of the song, Swift foreshadowed how Ethel and Bobby\\'s relationship panned out, singing, \"Ooh, ooh, he\\'s talking crazy / Ooh, ooh, dancing with me / Ooh, ooh, we could get married / Have ten kids and teach \\'em how to dream.\"\\n  In real life, the couple did get married in 1950 and\\xa0had 11 children, creating the largest branch of the\\xa0Kennedy family tree.\\n  Many of their kids learned to dream big, as evidenced by their own political careers and advocacy efforts. Their oldest, Kathleen Kennedy, served as Maryland\\'s lieutenant governor; their son Robert F. Kennedy Jr., ran for president in 2024; and their daughter Kerry Kennedy serves as president of RFK Human Rights, a nonprofit that Ethel founded in Bobby\\'s name.\\n  Swift told\\xa0WSJ\\xa0that before \"Starlight\" was publicly released, Ethel\\'s youngest daughter,\\xa0Rory Kennedy, came to one of her shows. \"I told [Rory] about the song,\" Swift recalled, \"and she was like, \\'You have to meet my mom. She would love to meet you.\\' \"\\n Getty  Ethel\\'s married life was cut short when RFK was assassinated in 1968 while running for president. She never remarried, and previously told PEOPLE that she relied heavily on her faith to get through the pain.\\n  \"I didn\\'t think how I would survive,\" she said. \"I knew it would happen but I didn\\'t know how.\"\\n  Bobby\\'s death was not the first, or last, tragedy she would face. Ethel\\'s parents — George and Ann Skakel — died in a 1955 plane crash, and her brother-in-law John F. Kennedy was assassinated in 1963.\\n  She outlived two of her own children. Her son\\xa0David Kennedy\\xa0died of a drug overdose in 1984 in Palm Beach, Fla. Her son\\xa0Michael Kennedy\\xa0died in 1997, when he skied into a tree while playing touch football in Aspen, Colo.\\n  Never miss a story — sign up for PEOPLE\\'s free daily newsletter to stay up-to-date on the best of what PEOPLE has to offer.\\n  She lost her beloved nephew\\xa0John F. Kennedy Jr.\\xa0in a 1999 plane crash, which also killed his wife,\\xa0Carolyn Bessette, and her sister, Lauren. Her daughter-in-law,\\xa0Mary Richardson Kennedy\\xa0(then the wife of RFK Jr.) killed herself by hanging on May 16, 2012.\\n  On Aug. 1, 2019, she lost her granddaughter\\xa0Saoirse Kennedy\\xa0due to an accidental drug overdose. And in the spring of 2020, her granddaughter\\xa0Maeve Kennedy Townsend McKean\\xa0and great-grandson\\xa0Gideon McKean\\xa0were found dead after they went missing while canoeing days earlier.\\n  Ethel\\'s children shared a statement on Oct. 10, revealing that their family matriarch had died days after she suffered a stroke.\\n  \"Along with a lifetime\\'s work in social justice and human rights, our mother leaves behind nine children, 34 grandchildren, and 24 great-grandchildren, along with numerous nieces and nephews, all of whom love her dearly,\" the statement read.\\n  It continued: \"She was a devout Catholic and daily communicant, and we are comforted in knowing that she is reunited with the love of her life, our father, Robert F. Kennedy; her children David and Michael; her daughter-in-law Mary; her grandchildren Maeve and Saoirse; and her great-grandchildren Gideon and Josie.\"\\n',\n",
              " 'Robert F. Kennedy and Ethel Kennedy got married in 1950 and welcomed 11 children together Bettmann/Getty Images  Robert F. Kennedy and Ethel Kennedy spent their 18 years of marriage fighting for human rights and raising 11 children together.\\n  The former U.S. attorney general was assassinated in 1968, leaving Ethel a widow, pregnant with their 11th child, Rory. Ethel went on to uphold the Kennedy family legacy and endured great personal tragedy, including the deaths of multiple members of her family.\\n  The human rights activist died on Oct. 10, 2024, at 96 years old from complications related to a stroke, her daughter, Kerry, confirmed in a statement on X (formerly Twitter).\\n  Ethel and Robert first met in 1945 while they were in college, though the politician first dated her sister, Patricia Skakel, for two years before they began going out. By 1950, the couple were married.\\n  \"We both wanted a lot of children, but there wasn\\'t a huge discussion about it,\" Ethel told PEOPLE in 2012. \"It wasn\\'t a big deal. We were both from big families.\"\\n  From how they met to the 11 children they welcomed together, here\\'s everything to know about Ethel and Robert F. Kennedy\\'s relationship.\\n Bettmann/Getty Images  Ethel was just 17 years old when she met her future husband, the brother of her roommate at Manhattanville College in 1945. In a 2012 interview with PEOPLE, the Kennedy matriarch shared that she knew she\\'d marry Robert \"as soon as [I] met him\" on a ski trip in Quebec.\\n  \"No maybe about it,\" she said.\\n  However, she had to bide her time as the future senator dated her sister, Patricia, for two years. After their breakup, Ethel and Robert began dating and were soon engaged.\\n Bettmann/Getty Images  Ethel and Robert got engaged in early 1950 and got married on June 17, 1950, at St. Mary Roman Catholic Church in Greenwich, Conn. At the reception, all the bridesmaids were thrown into a pool and the Boston Globe lauded the ceremony as the \"prettiest of the year.\"\\n  The young couple honeymooned in Hawaii and soon settled in Virginia, where Robert was set to attend the University of Virginia School of Law.\\n  By 1956, the couple and their young family moved into Hickory Hill, their iconic 13-bedroom home in McLean, Va.\\n Jonathan Leibson/Getty Images/C Flanigan/FilmMagic  In 2012, pop star Taylor Swift was dating Ethel\\'s grandson, Conor Kennedy, and shared in an interview with the Wall Street Journal that her song \"Starlight\" was inspired by Ethel and Robert\\'s love story.\\n  In the song, which is written from Ethel\\'s perspective, Swift sings, \"I met Bobby on the boardwalk, summer of \\'45 / Picked me up, late one night at the window / We were seventeen and crazy, running wild, wild.\"\\n  In the bridge of the song, she continues, \"Ooh, ooh, he\\'s talking crazy / Ooh, ooh, dancing with me / Ooh, ooh, we could get married / Have ten kids and teach \\'em how to dream,\" referencing the 11 kids the couple ultimately shared.\\n  The inspiration for the song came from a photo Swift saw of the two dancing.\\n  \"It immediately made me think of like how much fun they must have had that night. It was back in the late \\'40s,\" she said. \"I ended up reading underneath that it was Ethel Kennedy and\\xa0Robert F. Kennedy ... So I just kind of wrote that song from that place, not really knowing how they met or anything like that.\"\\n Cindy Ord/FilmMagic/Getty Images  The Kennedys\\' first child, Kathleen, was born on July 4, 1951, and they went on to welcome 10 more children after her: Joseph, Robert Jr., David, Courtney, Michael, Kerry, Christopher, Max, Douglas and Rory.\\n  Ethel was pregnant with Rory when Robert was assassinated, giving birth to their youngest child six months after his death. Some of the couple\\'s children went on to follow in their father\\'s footsteps with careers in politics, most notably Robert Jr., who dropped out of the 2024 presidential election in August 2024. Kathleen was Maryland\\'s lieutenant governor, while Joseph served in Congress.\\n  In her 96 years, Ethel suffered a number of personal tragedies, including the deaths of David and Michael. Following his father\\'s death, David struggled with drug addiction, ultimately dying of an overdose in 1984 when he was 28 years old. Michael died 15 years later in a skiing accident in Aspen, Colo., at 39 years old.\\n  When asked how she got through the pain, Ethel told PEOPLE in 2012, \"I pretty well lived in the moment. And I was blessed with faith.\"\\n Bettmann/Getty Images  Ethel was deeply immersed in both her brother-in-law John F. Kennedy\\'s and husband Robert\\'s political careers. Ethel joined John on his campaign trail as he ran for president in 1960 and was by Robert\\'s side during his rise from attorney general to senator and, ultimately, presidential hopeful.\\n  In February 1962, Ethel joined her husband on a worldwide trip with stops in Japan, Hong Kong and Italy so that people across the globe could meet what she described as normal Americans.\\n  “People have a distinct liking for Americans,” she told the Washington Post in 1962. “It is good for Americans to travel and get our viewpoint across.”\\n  Robert was killed by Sirhan Sirhan on June 5, 1968, just after midnight in his room at the Ambassador Hotel in Los Angeles after winning the California primary in the presidential election.\\n  Ethel was present that night and was by his side as he died in a hospital an hour later. She told PEOPLE in 2012 that it was her ardent Catholic faith that helped her keep going in the wake of the tragedy.\\n  \"I\\'d wake up in the morning and think he was happy in heaven and he had Jack — and they were together as they had been together on earth,\" she said. \"I didn\\'t think how I would survive. I knew it would happen but I didn\\'t know how.\"\\n  Though she\\'d been spotted in the years since with various men, Ethel vowed to never remarry or have another serious relationship out of respect to Robert\\'s memory.\\n  “How could I possibly do that with Bobby looking down from heaven?” she told PEOPLE in 1991. “That would be adultery.”\\n Stephen Lovekin/Getty Images  To uphold his legacy, Ethel started the Robert F. Kennedy Center for\\xa0Justice\\xa0and Human Rights (now called\\xa0Robert F. Kennedy Human Rights), which awards honorable work by journalists and human rights activists.\\n  For the five decades after her husband\\'s death, Ethel remained active in social issues that were important to her and her husband such as the rights of migrant workers and care for the environment.\\n  Now, her daughter Kerry runs the foundation, but up until her death, Ethel was passionate about carrying on Robert\\'s legacy and raising their 11 children.\\n  \"She\\'s committed to carry out the ideals that inspired my father to taking care of the family and to creating a warm and loving place,\" Kathleen told the Washington Post in 1981.\\n',\n",
              " 'The vice president pushed back during a sit-down interview with Fox News\\' Bret Baier when he showed her a trimmed soundbite of Donald Trump speaking that downplayed his attacks against Democrats Fox News/YouTube  Kamala Harris called out a Fox News interviewer on the air after the network played a misleading clip of Donald Trump to try and prove a point.\\n  During a sit-down interview with Bret Baier on Wednesday, Oct. 16, the Fox News host attempted to corner Harris by asking her if she believes that Trump\\'s supporters are \"stupid.\"\\n  \"Oh, God, I would never say that about the American people,\" Harris, 59, responded. \"And in fact, if you listen to Donald Trump, if you watch any of his rallies, he\\'s the one who tends to demean and belittle and diminish the American people. He\\'s the one who talks about an \\'enemy within\\' ... talking about the American people. Suggesting he would turn the American military on the American people.\"\\n  Harris was referencing Trump\\'s recent string of comments where he has described \"radical left lunatics\" — using California Rep. Adam Schiff as an example — as the United States\\' \"enemy from within,\" at one point offering up an idea that the military could be used to wrangle the left.\\n  Baier, 54, told Harris that Trump had already cleared the air about his troubling comments, then played a clip for Harris of how the former president explained them on The Faulkner Focus.\\n  \"They were saying I was threatening, I\\'m not threatening anybody,\" Trump, 78, said in the clip that Harris was shown. He then claimed that he has been the victim of \"weaponization of government.\"\\n  What the clip left out is that seconds before Trump told Harris Faulkner that he wasn\\'t threatening anybody, he had doubled down on his rhetoric against the \"enemy from within,\" saying that a \"strong president\" is needed to \"handle\" anti-MAGA Democrats, whom he described as \"sick\" and \"evil.\"\\n  After the trimmed clip of Trump\\'s comments played, Harris told Baier, \"With all due respect, that clip was not what he has been saying about the \\'enemy within,\\' that he has repeated, when he\\'s speaking about the American people.\"\\n  \"That’s not what you just showed in all fairness and respect to you,\" the vice president added.\\n  \"I\\'m telling you that was the question we asked him,\" Baier responded before Harris insisted, \"No, no, that\\'s not what you showed.\"\\n  Harris continued her point, saying, \"Here’s the bottom line: he has repeated it many times, and you I both know that, and you and I both know that he’s talked about turning the American military on the American people.\"\\n  \"He has talked about locking people up because they disagree with him. This is a democracy, and in a democracy, the president of the United States in the United States of America should be willing to be able to handle criticism without saying he\\'d lock people up who do it,\" she said.\\n Spencer Platt/Getty  Trump first made headlines for his \"enemy from within\" comments when he was asked about concerns from President\\xa0Joe Biden that MAGA supporters may become unruly on Election Day during an appearance on Fox News’\\xa0Sunday Morning Futures\\xa0on Sunday, Oct. 13.\\n  The former president reacted by saying he does not think his supporters — who\\xa0stormed the Capitol on Jan. 6, 2021, to prevent Biden\\'s election victory from being certified in Congress — will ignite chaos, claiming that the real threat to November\\'s election is \"the enemy from within.\"\\n  “I think the bigger problem are the people from within. We have some very bad people. We have some sick people, radical left lunatics,” Trump continued. “And I think it should be very easily handled by, if necessary, by National Guard or, if really necessary, by the military, because they can’t let that happen.”\\n  Never miss a story — sign up for\\xa0PEOPLE\\'s free daily newsletter\\xa0to stay up-to-date on the best of what PEOPLE has to offer, from juicy celebrity news to compelling human interest stories.\\n  Harris\\' senior campaign adviser Ian Sams said that Trump’s remarks should \"alarm every American who cares about their freedom and security,\" in a statement issued to The Hill after the former president\\'s comments.\\n  Sams added. \"What Donald Trump is promising is dangerous, and returning him to office is simply a risk Americans cannot afford.\"\\n Win McNamee/Getty  Harris\\' interview with Baier on Oct. 16 comes as the Trump campaign has accused his opponent of playing it safe with her media appearances.\\n  Aiming to dispel false rumors from MAGA supporters that the former prosecutor cannot speak without a teleprompter and colludes with media outlets to get questions in advance, Harris has adopted a more aggressive media schedule in recent weeks.\\n  The Harris campaign\\'s goal with the Fox News sit-down was to demonstrate that the vice president is willing to get in the hot seat on a conservative network and defend her campaign. Trump, meanwhile, has turned down debate invitations and interviews with left-leaning journalists in recent weeks, and canceled an upcoming interview with CNBC after previously agreeing to participate.\\n',\n",
              " 'Hines also described Kennedy\\'s Oct. 10 tribute to his mother, who died at age 96 the same day, as \"beautiful\" in a comment on his post  Michael Buckner/Variety via Getty; Robert F. Kennedy Ripple Of Hope Award Gala/Getty  Cheryl Hines is supporting Robert F. Kennedy Jr. following the death of his mother Ethel Kennedy.\\n  In the wake of Kennedy\\'s alleged \"personal relationship\" with journalist Olivia Nuzzi, Hines, 59, praised her husband, 70, for the “beautiful” tribute he posted to his late mother Ethel on Instagram, following her death at age 96 on Thursday, Oct. 10.\\xa0\\n  In his tribute, Kennedy posted a poignant black-and-white photo of his mother. as he wrote in his caption, \"My mom, Ethel Skakel Kennedy, passed peacefully into Heaven this morning.”\\n  Continuing the lengthy and heartfelt tribute, Kennedy described his late mother as a \"role model\" for her children and grandchildren, who was “blessed” with a “rich and eventful life.” He added that “she never lost her sense of fun, her humor, her spark, her spunk, and her joie de vivre,” despite her decline in recent months.\\xa0\\n  Hines wrote in the comment section, “This is beautiful. Your mother was very proud of you. 🤍.”\\n Kevin Mazur/Getty  Elsewhere in his tribute, Kennedy shared of his mother’s parenting, \"My mother invented tough love, and she could be hard on her children when we didn’t live up to her expectations. But she was also intensely loyal, and we always knew that she would stand fiercely behind us when we came under attack by others.\"\\n  Kennedy also said his mother had \"a perpetual attitude of gratitude that fueled her taste for adventure” and a \"sunny optimism” brought his father “back to life” following the assassination of his brother, President John F. Kennedy in 1963, as well as\\xa0their children after the assassination of her husband, U.S. senator\\xa0Robert F. Kennedy,\\xa0in 1968.\\xa0\\n  \"I credit her for all my virtues. I’m grateful for her generosity in overlooking my faults,\" he concluded.\\n  Hines\\' warm response to her husband\\'s tribute to her mother-in-law comes after she and Kennedy were recently spotted together for the first time since his alleged \"personal relationship\" with Nuzzi. The husband and wife were photographed in Malibu, Calif., on Oct. 5, per images published by\\xa0Page Six.\\n Cheryl Hines/Instagram  On Sept. 19, New York\\xa0magazine revealed in a\\xa0statement that its Washington correspondent Nuzzi, 31, had been put on leave after she “acknowledged to the magazine’s editors” that she “engaged in a personal relationship with a former subject relevant to the 2024 campaign.” CNN later alleged it to have been Kennedy.\\n  Nuzzi later said in a statement to PEOPLE that “the nature of some communication” between herself and “a former reporting subject turned personal,” though she added that she “did not directly report on the subject nor use them as a source” at the time.\\xa0\\n  \"The relationship was never physical but should have been disclosed to prevent the appearance of a conflict,” Nuzzi also said, adding. “I deeply regret not doing so immediately and apologize to those I’ve disappointed, especially my colleagues at\\xa0New York.\"\\n  Meanwhile, a source close to Hines told PEOPLE on Oct. 7 that Kennedy is “begging” for Hines not to file for divorce in the wake of the alleged \"personal relationship.\"\\n  “She\\'s been very angry about it. She has a great support team to vent to though,” the source said, adding that the ordeal has been “embarrassing” for her.\\xa0\\n Axelle/Bauer-Griffin/FilmMagic  “Everyone\\'s on her side, of course,” the insider added. “She\\'s been talking about filing for divorce, but he\\'s begging her not to file. But how many times can you forgive a partner that\\'s dishonest and goes behind your back? It\\'s just ridiculous behavior from a grown, married man.\"\\n  Never miss a story — sign up for\\xa0PEOPLE\\'s free daily newsletter\\xa0to stay up-to-date on the best of what PEOPLE has to offer\\u200b\\u200b, from celebrity news to compelling human interest stories.\\xa0\\n  A representative for Hines had no comment at the time, while one for Kennedy did not immediately respond to PEOPLE\\'s request for comment.\\n',\n",
              " 'The Kennedy clan is clearly a family of dog lovers, check out some of the members of the political family with their dogs Bettmann/Getty  The Kennedy clan is a family of dog lovers.\\n  In a tribute to his beloved mother Ethel Kennedy who died on Oct. 10, Robert F. Kennedy Jr. revealed that she owned a lot of dogs in her lifetime — 16 of which were all Irish setters named Rusty.\\n  Ethel was hardly the only family member who had an affection for canines, however. In fact, her brother-in-law, John F. Kennedy and wife Jackie Kennedy as well as several other family members often kept close to their four-legged pals — taking them on campaign trails, including them in family portraits, etc.\\n  Below, check out these 11 photos of members of the Kennedy family with their beloved dogs throughout the years.\\n CORBIS/Corbis via Getty  The love for puppies spans generations. Joseph and Rose Kennedy posed with their eight kids and a four-legged pal while at their family home in Hyannis Port, Massachusetts.\\n Bettmann/Getty  Sometime in the early \\'60s, President John F. Kennedy and wife Jackie Kennedy got their daughter Caroline a Welsh terrier named Charlie. Above, young Caroline is pictured trying to wrangle the pup after it got loose.\\n Bettmann/Getty  Charlie was clearly a runner. President Kennedy chases after his daughter\\'s little pup in this classic shot from 1963.\\n Bettmann/Getty  Skittish as he may have been, Charlie managed to stay put for this snap with John F. Kennedy Jr., taken on the White House grounds.\\n Ron Galella/Ron Galella Collection via Getty  The fact that Ethel Kennedy owned 16 Irish setters is a mere indicator of how deep her love for canines ran. Above, two of her sons — Max and David — are pictured hanging out with their family dog, Blarney who\\'s of a different breed.\\n Santi Visalli Inc./Getty  A young John F. Kennedy Jr. takes a walk with his nanny and four-legged friend, Shannon, who was a spaniel circa 1970.\\n Bettmann/Getty  Senator Robert F. Kennedy was pictured giving his sweet spaniel Freckles a drink of water as the two were on the 1968 campaign trail.\\n Harry Hamburg/NY Daily News Archive via Getty  Massachusetts senator Ted Kennedy stands in front of the U.S. Capitol with his Portuguese water dog, aptly named Splash.\\n Adrian Edwards/GC Images  Later in life, Caroline Kennedy adopted another dog named Chester.\\n Jack Schlossberg Instagram\\xa0  Caroline\\'s son Jack Schlossberg immediately took to the dog, affectionately calling him his \"little puppy brother.\" Jack was also the one who named the sweet boy, telling PEOPLE the dog \"looks exactly like [former president] Chester A. Arthur.”\\n Evan Agostini/Liaison  In 1995, John F. Kennedy purchased a Canaan dog named Friday. Above, the attorney and his wife Carolyn were seen walking the black and white pup while in New York in 1997. JFK also had a German shepherd in the \\'90s.\\n',\n",
              " '\"For 56 years she has spoken with yearning of the day she would reunite with her beloved husband,\" this politician wrote on X (formerly Twitter) of the Kennedy matriarch, who died on Oct. 10 at age 96 Charlotte Phillipp is a Weekend Writer-Reporter at PEOPLE. She has been working at PEOPLE since 2024, and was previously an entertainment reporter at The Messenger. Stephen Lovekin/Getty\\xa0  Robert F. Kennedy Jr. is speaking out for the first time since his mother Ethel Kennedy\\'s death at age 96 on Thursday.\\n  Sharing a post on X (formerly Twitter) on Thursday, Oct. 10, Kennedy wrote at length of his mother\\'s many qualities and strengths, how she was a \"role model\" for her children and credited her for all his \"virtues.\"\\n  \"My mom, Ethel Skakel Kennedy, passed peacefully into Heaven this morning,\" he began his tribute.\\n  \"She was 96. She died in Boston surrounded by many of her nine surviving children and her friends. God gave her 34 grandchildren, 24 great-grandchildren, and the energy to give them all the attention they required. He blessed her with a rich and eventful life.\"\\n  Kennedy described how despite his mother\\'s decline in recent months, \"she never lost her sense of fun, her humor, her spark, her spunk, and her joie de vivre.\"\\n  Touchingly, he went on to share that while she \"wrung joy from every moment,\" his mother had spent the years since her husband, U.S. senator Robert F. Kennedy, was assassinated in 1968, \"yearning\" for when they would reunite.\\n  \"For 56 years she has spoken with yearning of the day she would reunite with her beloved husband. She is with him now, with my brothers David and Michael, with her parents, her six siblings, all of whom predeceased her, and her “adopted” Kennedy siblings Jack, Kick, Joe, Teddy, Eunice, Jean, Rosemary, and Patricia,\" he wrote.\\n  He described the late Kennedy matriarch as \"a collection of irreconcilable convictions,\" noting her perspective on the Catholic Church and U.S. presidents as examples.\\n  God, Kennedy said in his post, had endowed his mother with \"a perpetual attitude of gratitude that fueled her taste for adventure and an irrepressible buoyancy in a life beset by a continuous parade of heartbreaking tragedies,\" citing how her \"sunny optimism eventually brought my shattered father back to life following the assassination of his brother,\" President John F. Kennedy in 1963 and similarly, \"helped her children to thrive after her husband’s assassination five years later.\"\\n  He went on to detail her \"moral and physical fearlessness,\" as her \"most defining qualities,\" including how his mother was a \"peerless equestrian\" and noting that \"critics named her among the best female amateur tennis players, and she was a competitive diver.\"\\n  \"But she did every sport well — from football to skiing, waterskiing and kayaking,\" he added.\\n  Kennedy wrote that Ethel\\'s \"disciplined stoicism and her deep faith in God,\" had assisted her during \"ten years of pregnancy\" as well as \"the murders of her husband and Uncle Jack, and the early deaths of two of her children,\" referring to David Anthony Kennedy\\xa0who died in 1984 from an overdose at age 25, and Michael LeMoyne Kennedy\\xa0who died in 1997 in a skiing accident.\\n  \"Various air crashes killed both of her parents, her brother, her sister-in-law, and her nephew John [F. Kennedy Jr.]. She never enjoyed flying, but her worry never stopped her from boarding a plane. While giving short shrift to her own monumental suffering, she always showed intense compassion for others,\" he continued.\\n Marion Curtis/Starpix/Shutterstock  Describing Ethel\\'s approach to parenting, he wrote, \"My mother invented tough love, and she could be hard on her children when we didn’t live up to her expectations. But she was also intensely loyal, and we always knew that she would stand fiercely behind us when we came under attack by others.\"\\n  Kennedy described his mother as himself and his siblings\\', \"role model for self-discipline, for resilience, and for self-confidence.\"\\n  \"She deeded to each of her 11 children her love of good stories, her athleticism, her competitive spirit, and the deep curiosity about the world, and the intense interest in people of all backgrounds, which caused her to pepper everyone she met — from cab drivers to presidents — with a relentless cascade of questions about their lives. She also gave us all her love of language and for good storytelling,\" he continued.\\n  Kennedy ended his tribute to his mother with a touching moment of appreciation for what she had given him, and how she had parented him.\\n  \"I credit her for all my virtues. I’m grateful for her generosity in overlooking my faults,\" he concluded the post.\\n Stephen Lovekin/Getty  Kennedy\\'s sister Kerry first announced that their mother and the widow of\\xa0Robert F. Kennedy\\xa0had died in a statement shared to social media on Oct. 10. Ethel died \"from complications related to\\xa0a stroke suffered last week,\" Kerry confirmed in the statement, posted on X.\\n  \"Along with a lifetime\\'s work in social justice and human rights, our mother leaves behind nine children, 34 grandchildren, and 24 great-grandchildren, along with numerous nieces and nephews, all of whom love her dearly,\" Kerry wrote.\\n  \"She was a devout Catholic and a daily communicant, and we are comforted in knowing she is reunited with the love of her life, our father, Robert F. Kennedy; her children David and Michael; her daughter-in-law Mary; her grandchildren Maeve and Saoirse; and her great-grandchildren Gideon and Josie,\" the statement continued. \"Please keep our mother in your hearts and prayers.\"\\n  Ethel was the mother to 11 children, only two of whom she outlived. She survived\\xa0many other tragedies\\xa0in her 96 years, including the assassination of her husband in 1968, just five years after his older brother,\\xa0John F. Kennedy\\'s\\xa0assassination.\\n  RFK Jr. has previously been candid about his complicated relationship with his mother, writing in his 2018 book\\xa0American Values: Lessons I Learned From My Family, that Ethel often \"divided the world into friend and foe. Generally she judged the latter by harsher standards, and yet she sometimes discarded time-honored friendships for minor infractions. I faulted her for being mercurial and arbitrary.\"\\n  \"From my angle, her love didn’t always feel unconditional,\" Kennedy wrote of his mother. “Her approach was what today people would call \\'tough love,\\' for which I proved a tough audience. Her exceptional qualities were mainly invisible to me as a child.\"\\n  Kennedy revealed that he had struggled with drug addiction as a teenager, and wrote that he and his mother grew closer once he got sober as an adult in the \\'80s.\\n  As he wrote, he eventually discovered that much of her toughness was in response to the many losses she had endured. \"Everyone takes their licks,\" she once told him. \"We feel like we ought to be able to write our own scripts to our lives, and sometimes we feel disappointed in God when life rewrites the plot. The key is acceptance and gratitude. We need to practice wanting what we\\'ve got, not what we wish we had.\"\\n Bettmann/Getty Images  Ethel was born on April 11, 1928, the sixth of George and Ann Skakel\\'s seven children. Her father made a fortune as the founder of Great Lakes Carbon Corporation and their family grew up wealthy in Greenwich, Conn.\\n  She met Robert \"Bobby\" Kennedy, the brother of her Manhattanville College roommate, Jean Kennedy, in 1945, and the two married in 1950.\\n  Never miss a story — sign up for PEOPLE\\'s free daily newsletter to stay up-to-date on the best of what PEOPLE has to offer\\u200b\\u200b, from celebrity news to compelling human interest stories.\\xa0\\n  It was her faith that allowed her to keep going after the many deaths in her family, she previously told PEOPLE in a 2012 interview. \"I\\'d wake up in the morning and think he was happy in heaven and he had Jack — and they were together as they had been together on earth.\"\\n  \"I didn\\'t think how I would survive,\" she said. \"I knew it would happen but I didn\\'t know how.\"\\n',\n",
              " 'The widow of Robert F. Kennedy died from stroke complications on Oct. 10, 2024, at age 96 Hulton Archive/Getty Images  Ethel Kennedy, a matriarch in the United States\\' most prominent political family, has died at age 96.\\n  On Oct. 10, 2024, the widow of former Sen. Robert F. Kennedy died from complications related to a stroke she had the week prior, according to a statement from her daughter Kerry posted on X.\\n  \"She was a devout Catholic and a daily communicant, and we are comforted in knowing she is reunited with the love of her life, our father, Robert F. Kennedy; her children David and Michael; her daughter-in-law Mary; her grandchildren Maeve and Saoirse; and her great-grandchildren Gideon and Josie,\" the statement reads. \"Please keep our mother in your hearts and prayers.\"\\n  After her husband was assassinated in June 1968, Ethel founded the Robert F. Kennedy Center for Justice and Human Rights and devoted the rest of her life to public service. In 2014, then-President Barack Obama awarded her the Presidential Medal of Freedom.\\n  See photos from the human rights advocate\\'s well-lived life as the nation mourns her death.\\n AP Photo/Matty Zimmerman  Ethel Skakel was born in Chicago on April 11, 1928, to coal magnate George Skakel and his former secretary Ann Brannack. She was the sixth child of seven, with three sisters and three brothers. In 1955, George and Ann died when their private plane crashed in Oklahoma.\\n  She attended Manhattanville College of the Sacred Heart in New York City, where she met and eventually became roommates with Jean Kennedy.\\n Getty  Ethel was introduced to Jean\\'s brother, Robert F. Kennedy, on a ski trip in Québec, Canada. After Robert\\'s relationship with Ethel\\'s older sister Patricia ended, the couple began dating.\\n  They became engaged in February 1950 and wed four months later, on June 17, 1950.\\n Bettman  Together, RFK and Ethel had 11 children: Kathleen, Joseph, Robert Jr., David, Courtney, Michael, Kerry, Christopher, Maxwell, Douglas and Rory.\\n  She tragically outlived two of her sons, David and Michael, after their deaths in 1984 and 1997, respectively. David died of an overdose in his Palm Beach hotel room, while Michael died in a skiing accident in Aspen, Colorado.\\n Getty  RFK, then the senator of New York, announced that he would seek the Democratic Party nomination for the 1968 presidential election. Ethel stood by her husband\\'s campaign and supported him in his bid for the presidency.\\n  \"Kennedy\\'s wife, always his most fervent believer, was the most consistent advocate of a race for the White House, \"\\xa0RFK biographer Evan Thomas wrote\\xa0in Robert Kennedy: His Life.\\n Bettmann/Getty  On June 6, 1968, RFK was fatally wounded by gunshots fired by Sirhan Sirhan at the Ambassador Hotel in Los Angeles. Sirhan assassinated the presidential candidate after he addressed his campaign supporters following a victory in the California Democratic primary.\\n  Ethel, who witnessed the murder and was pregnant with Rory at the time, mourned the loss of her husband at his funeral on June 8. She then established the Robert F. Kennedy Center for Justice and Human Rights — now known as Robert F. Kennedy Human Rights — to advocate for social justice domestically and internationally.\\n  The widow also vowed never to remarry after her husband\\'s assassination.\\n  “How could I possibly do that with Bobby looking down from heaven?” she told PEOPLE in 1991. “That would be adultery.”\\n HBO  In 2012, a documentary directed by Ethel\\'s youngest daughter Rory — titled Ethel — premiered at the Sundance Film Festival. The film included interviews with the Kennedys, Ethel\\'s recollections of her family and home videos and pictures to provide an insider look into the political dynasty from Ethel\\'s perspective.\\n Alex Wong/Getty  In 2014, then-President Barack Obama awarded Ethel with the Presidential Medal of Freedom, the highest civilian honor in the U.S., for a lifetime of contributions to social justice, human rights, environmental protection, and poverty reduction.\\n Joe Kennedy/X  Ethel and the sprawling Kennedy family reunited to celebrate the matriarch\\'s 96th birthday. Her grandson Joseph Kennedy III posted rare photos of Ethel from the festivities, writing on X: \"Happy 96th to the World’s most amazing Gramma!! 🎂.”\\n David L. Ryan/The Boston Globe via Getty  On Oct. 10, 2024, Ethel’s daughter Kerry announced on X that her mother had died from complications from a stroke that she suffered in the previous week.\\xa0\\n  “Along with a lifetime’s work in social justice, our mother leaves behind nine children, 34 grandchildren, and 24 great-grandchildren, along with numerous nieces and nephews, all of whom love her dearly,” read the statement.\\n']"
            ]
          },
          "metadata": {},
          "execution_count": 85
        }
      ]
    },
    {
      "cell_type": "code",
      "execution_count": null,
      "metadata": {
        "cellView": "form",
        "id": "Rypb1tJBdZvt"
      },
      "outputs": [],
      "source": [
        "# @title [Potenitally discontinuted] Ver 2: People Article Link Scraper\n",
        "#with user-agent\n",
        "#try if the other one breaks\n",
        "'''\n",
        "#Mozilla/5.0 (compatible; Googlebot/2.1; +http://www.google.com/bot.html)\n",
        "#reference: https://www.stanventures.com/blog/googlebot-user-agent-string/\n",
        "#Mozilla/5.0 AppleWebKit/537.36 (KHTML, like Gecko; compatible; Googlebot/2.1; +http://www.google.com/bot.html) Chrome/W.X.Y.Z Safari/537.36\n",
        "headers = {\"user-agent\": \"Mozilla/5.0 (compatible; Googlebot/2.1; +http://www.google.com/bot.html)\"}\n",
        "#Mozilla/5.0 AppleWebKit/537.36 (KHTML, like Gecko; compatible; Googlebot/2.1; +http://www.google.com/bot.html) Chrome/W.X.Y.Z Safari/537.36\n",
        "#Mozilla/5.0 (Windows NT 10.0; Win64; x64) AppleWebKit/537.36 (KHTML, like Gecko) Chrome/113.0.0.0 Safari/537.36 Edg/113.0.1774.35\n",
        "page = requests.get('https://people.com/politics/',headers=headers)\n",
        "soup = BeautifulSoup(page.text, 'html.parser')\n",
        "# print(soup)\n",
        "allLinks = []\n",
        "link = \"https://people.com/politics/\"\n",
        "for link in soup.find_all('a'):\n",
        "    allLinks.append(link.get('href'))\n",
        "allLinks = filter(None, allLinks)\n",
        "#identifier for political articles seems to be a 7 digit # that starts w 87 at the end of the link\n",
        "#check to confirm, at least i got astrology out of there\n",
        "linkEnds = [i for i in allLinks if (len(i) > 8 and i[-7] == '8' and i[-6] == '7')]\n",
        "# result = ['https://people.com' + i for i in linkEnds]\n",
        "People_links = set(linkEnds)\n",
        "People_links = list(People_links)\n",
        "'''"
      ]
    },
    {
      "cell_type": "code",
      "execution_count": null,
      "metadata": {
        "id": "a34NKIqqyV_Y"
      },
      "outputs": [],
      "source": [
        "#Daily Mail Article Link Scraper\n",
        "#use this one\n",
        "page = requests.get('https://www.dailymail.co.uk/news/us-politics/index.html')\n",
        "soup = BeautifulSoup(page.text, 'html.parser')\n",
        "allLinks = []\n",
        "link = \"https://www.dailymail.co.uk/news/us-politics/index.html\"\n",
        "for link in soup.find_all('a'):\n",
        "    allLinks.append(link.get('href'))\n",
        "allLinks = filter(None, allLinks)\n",
        "linkEnds = [i for i in allLinks if i.startswith('/news/article')]\n",
        "result = ['https://www.dailymail.co.uk/' + i for i in linkEnds]\n",
        "DailyMail_links = set(result)\n",
        "DailyMail_links = list(DailyMail_links)"
      ]
    },
    {
      "cell_type": "code",
      "execution_count": null,
      "metadata": {
        "cellView": "form",
        "colab": {
          "base_uri": "https://localhost:8080/",
          "height": 71
        },
        "collapsed": true,
        "id": "gEdpv5VjhTyi",
        "outputId": "317d20f4-85c1-4005-9583-6cad661d3d94"
      },
      "outputs": [
        {
          "data": {
            "application/vnd.google.colaboratory.intrinsic+json": {
              "type": "string"
            },
            "text/plain": [
              "'url = \\'https://www.dailymail.co.uk/ushome/index.rss\\'\\nhtml_page = requests.get(url)\\nsoup = BeautifulSoup(html_page.text, \"lxml\")\\nlinks = []\\nfor item in soup.find_all(\"item\"):\\n  link= str(item)\\n  i = link.find(\"<link/>\")\\n  j = link.find(\"<guid\")\\n  x = link[i+7:j]\\n  y = x.split(\\'\\n\\', 1)[0]\\n  links.append(y)\\ndm_links = links\\nlist(set(DailyMail_links).intersection(dm_links))\\n'"
            ]
          },
          "execution_count": 19,
          "metadata": {},
          "output_type": "execute_result"
        }
      ],
      "source": [
        "# @title [Potenitally discontinuted] Daily Mail RSS Article Link Scraper - articles not as relevant\n",
        "#don't use this one\n",
        "'''\n",
        "url = 'https://www.dailymail.co.uk/ushome/index.rss'\n",
        "html_page = requests.get(url)\n",
        "soup = BeautifulSoup(html_page.text, \"lxml\")\n",
        "links = []\n",
        "for item in soup.find_all(\"item\"):\n",
        "  link= str(item)\n",
        "  i = link.find(\"<link/>\")\n",
        "  j = link.find(\"<guid\")\n",
        "  x = link[i+7:j]\n",
        "  y = x.split('\\n', 1)[0]\n",
        "  links.append(y)\n",
        "dm_links = links\n",
        "list(set(DailyMail_links).intersection(dm_links))\n",
        "'''"
      ]
    },
    {
      "cell_type": "code",
      "execution_count": null,
      "metadata": {
        "collapsed": true,
        "id": "q5aaCRR07LF0"
      },
      "outputs": [],
      "source": [
        "#Newsweek Article Link Scraper\n",
        "headers = {\"user-agent\": \"Mozilla/5.0\"}\n",
        "#Mozilla/5.0 (Windows NT 10.0; Win64; x64) AppleWebKit/537.36 (KHTML, like Gecko) Chrome/113.0.0.0 Safari/537.36 Edg/113.0.1774.35\n",
        "page = requests.get('https://www.newsweek.com/politics',headers=headers)\n",
        "soup = BeautifulSoup(page.text, 'html.parser')\n",
        "allLinks = []\n",
        "link = \"https://www.newsweek.com/politics\"\n",
        "for link in soup.find_all('a'):\n",
        "    allLinks.append(link.get('href'))\n",
        "allLinks = filter(None, allLinks)\n",
        "linkEnds = [i for i in allLinks if (len(i) > 8 and i[-7] == '1')]\n",
        "# linkEnds = [i for i in allLinks]\n",
        "result = ['https://www.newsweek.com' + i for i in linkEnds]\n",
        "Newsweek_links = set(result)\n",
        "Newsweek_links = list(Newsweek_links)\n",
        "\n",
        "# initial error\n",
        "# print(soup.find_all('body'))\n",
        "# [<body>\n",
        "# <center><h1>403 Forbidden</h1></center>\n",
        "# </body>]\n",
        "\n",
        "# reference: https://stackoverflow.com/questions/40255128/how-to-parse-the-website-using-beautifulsoup\n",
        "# reference: https://www.useragentlist.net/"
      ]
    },
    {
      "cell_type": "code",
      "execution_count": null,
      "metadata": {
        "collapsed": true,
        "id": "eAjDWt0X0Vvm"
      },
      "outputs": [],
      "source": [
        "#NBC News Article Link Scraper\n",
        "url = 'https://feeds.nbcnews.com/nbcnews/public/politics'\n",
        "html_page = requests.get(url)\n",
        "soup = BeautifulSoup(html_page.text, \"lxml\")\n",
        "links = []\n",
        "for item in soup.find_all(\"item\"):\n",
        "  link = str(item)\n",
        "  i = link.find(\"<guid>\")\n",
        "  j = link.find(\"</guid\")\n",
        "  x = link[i+6:j]\n",
        "  y = x.split('\\n', 1)[0]\n",
        "  if y[0:4] == 'http':\n",
        "    links.append(y)\n",
        "# probably unnecessary, try adding in if it breaks\n",
        "# if \"https://www.nbcnews.com/\"  in links:\n",
        "#   links.remove(\"https://www.nbcnews.com/\")\n",
        "NBCNews_links = links"
      ]
    },
    {
      "cell_type": "code",
      "execution_count": null,
      "metadata": {
        "id": "sqqTbfcM6dJd"
      },
      "outputs": [],
      "source": [
        "#Forbes Article Link Scraper\n",
        "page = requests.get('https://www.forbes.com/topics/politics/')\n",
        "soup = BeautifulSoup(page.text, 'html.parser')\n",
        "allLinks = []\n",
        "link = \"https://www.forbes.com/topics/politics/\"\n",
        "for link in soup.find_all('a'):\n",
        "    allLinks.append(link.get('href'))\n",
        "allLinks = filter(None, allLinks)\n",
        "#all articles contain date (e.g. /2024/09/18)\n",
        "relevantLinks = [i for i in allLinks if '/2' in i]\n",
        "Forbes_links = set(relevantLinks)\n",
        "Forbes_links = list(Forbes_links)"
      ]
    },
    {
      "cell_type": "code",
      "execution_count": null,
      "metadata": {
        "id": "h-PrNyR79Kao"
      },
      "outputs": [],
      "source": [
        "#AP News Article Link Scraper\n",
        "page = requests.get('https://apnews.com/politics')\n",
        "soup = BeautifulSoup(page.text, 'html.parser')\n",
        "allLinks = []\n",
        "link = \"https://apnews.com/politics\"\n",
        "for link in soup.find_all('a'):\n",
        "    allLinks.append(link.get('href'))\n",
        "allLinks = filter(None, allLinks)\n",
        "relevantLinks = [i for i in allLinks if '/article' in i]\n",
        "APNews_links = set(relevantLinks)\n",
        "APNews_links = list(APNews_links)"
      ]
    },
    {
      "cell_type": "code",
      "execution_count": null,
      "metadata": {
        "id": "toTEFXAk_VlT"
      },
      "outputs": [],
      "source": [
        "#BBC Article Link Scraper\n",
        "#via U.S. Politics page\n",
        "page = requests.get('https://www.bbc.com/news/topics/cwnpxwzd269t')\n",
        "soup = BeautifulSoup(page.text, 'html.parser')\n",
        "allLinks = []\n",
        "link = \"https://www.bbc.com/news/topics/cwnpxwzd269t\"\n",
        "for link in soup.find_all('a'):\n",
        "    allLinks.append(link.get('href'))\n",
        "allLinks = filter(None, allLinks)\n",
        "linkEnds = [i for i in allLinks if '/article' in i]\n",
        "result = ['https://www.bbc.com' + i for i in linkEnds]\n",
        "BBC_links = set(result)\n",
        "BBC_links = list(BBC_links)"
      ]
    },
    {
      "cell_type": "code",
      "execution_count": null,
      "metadata": {
        "colab": {
          "base_uri": "https://localhost:8080/"
        },
        "collapsed": true,
        "id": "rpyYilP8BCus",
        "outputId": "9d3f5010-6a0e-4386-ef72-abcc45aa7e21"
      },
      "outputs": [
        {
          "data": {
            "text/plain": [
              "['https://www.washingtonpost.com/elections/interactive/2024/vice-presidential-debate-voter-poll/',\n",
              " 'https://www.washingtonpost.com//politics/2024/10/03/no-amount-evidence-will-convince-republicans-trumps-2020-guilt/?itid=mr_politics_2',\n",
              " 'https://www.washingtonpost.com//politics/2024/10/03/who-does-trump-plan-deport-who-trump-wants-deport/?itid=mr_politics_4',\n",
              " 'https://www.washingtonpost.com/politics/2024/10/02/biden-harris-hurricane-helene/',\n",
              " 'https://www.washingtonpost.com/politics/2024/10/03/who-does-trump-plan-deport-who-trump-wants-deport/',\n",
              " 'https://www.washingtonpost.com/politics/2024/10/03/presidential-polls-polling-average-washington-post/',\n",
              " 'https://www.washingtonpost.com/politics/2024/10/03/tina-peters-colorado-elections-prison/',\n",
              " 'https://www.washingtonpost.com/politics/2024/10/03/no-amount-evidence-will-convince-republicans-trumps-2020-guilt/',\n",
              " 'https://www.washingtonpost.com/politics/2024/10/03/harris-liz-cheney-wisconsin-campaign-ripon-republican/',\n",
              " 'https://www.washingtonpost.com/elections/2024/10/03/2024-election-campaign-updates-harris-trump/',\n",
              " 'https://www.washingtonpost.com/politics/2024/10/02/trumps-continued-callousness-toward-injured-soldiers/',\n",
              " 'https://www.washingtonpost.com//politics/2024/10/03/tina-peters-colorado-elections-prison/?itid=mr_politics_5',\n",
              " 'https://www.washingtonpost.com/politics/2024/10/03/trumps-outrageously-false-claim-13000-migrant-murderers-loose/',\n",
              " 'https://www.washingtonpost.com/politics/2024/10/03/democrats-try-find-political-salvation-southwest/',\n",
              " 'https://www.washingtonpost.com/politics/2024/10/02/biden-israel-iran-conflict-mideast/',\n",
              " 'https://www.washingtonpost.com/elections/2024/10/02/election-2024-vp-debate-harris-trump-vance-walz/',\n",
              " 'https://www.washingtonpost.com/politics/2024/10/01/trump-maga-misinformation/',\n",
              " 'https://www.washingtonpost.com/politics/2024/10/02/debate-false-claims-immigrants-housing-crime/',\n",
              " 'https://www.washingtonpost.com/politics/2024/10/03/jim-jordan-republican-leadership-johnson/',\n",
              " 'https://www.washingtonpost.com/politics/2024/09/30/union-members-could-be-big-trump-he-keeps-complicating-that/',\n",
              " 'https://www.washingtonpost.com/politics/2024/10/02/vance-probably-won-debate-walz-might-have-gained-more/',\n",
              " 'https://www.washingtonpost.com/politics/2024/10/02/jack-smith-trump-2020-election-filing-takeaways/',\n",
              " 'https://www.washingtonpost.com/politics/2024/10/01/how-voters-view-vance-walz-detail/',\n",
              " 'https://www.washingtonpost.com/politics/2024/10/02/trump-his-allies-are-not-planning-concede-another-electoral-loss/',\n",
              " 'https://www.washingtonpost.com/elections/interactive/2024/presidential-polling-averages/',\n",
              " 'https://www.washingtonpost.com//politics/2024/10/02/jack-smith-trump-2020-election-filing-takeaways/?itid=mr_politics_1',\n",
              " 'https://www.washingtonpost.com/politics/2024/10/03/election-republicans-abortion-vance/',\n",
              " 'https://www.washingtonpost.com//elections/interactive/2024/presidential-polling-averages/?itid=mr_politics_3']"
            ]
          },
          "execution_count": 29,
          "metadata": {},
          "output_type": "execute_result"
        }
      ],
      "source": [
        "#Washington Post Article Link Scraper - in progress\n",
        "headers = {'User-Agent':'Mozilla/5.0 (Macintosh; Intel Mac OS X 10_11_2) AppleWebKit/601.3.9 (KHTML, like Gecko) Version/9.0.2 Safari/601.3.9'}\n",
        "#headers = {\"user-agent\": \"Mozilla/5.0 (compatible; Googlebot/2.1; +http://www.google.com/bot.html)\"}\n",
        "#headers = {\"user-agent\": \"Mozilla/5.0 (compatible; Googlebot/2.1; +http://www.google.com/bot.html)\"}\n",
        "#User-Agent\":'Mozilla/5.0 (Windows NT 6.3; WOW64) AppleWebKit/537.36 (KHTML, like Gecko) Chrome/59.0.3071.115 Safari/537.36\n",
        "#Mozilla/5.0 (Windows NT 10.0; Win64; x64) AppleWebKit/537.36 (KHTML, like Gecko) Chrome/113.0.0.0 Safari/537.36 Edg/113.0.1774.35\n",
        "\n",
        "page = requests.get('https://www.washingtonpost.com/politics/',headers=headers)\n",
        "# print(BS(page.content, 'lxml'))\n",
        "soup = BeautifulSoup(page.text, 'html.parser')\n",
        "# print(soup)\n",
        "\n",
        "allLinks = []\n",
        "link = \"https://www.washingtonpost.com/politics/\"\n",
        "for link in soup.find_all('a'):\n",
        "    allLinks.append(link.get('href'))\n",
        "allLinks = filter(None, allLinks)\n",
        "linkEnds = [i for i in allLinks if \"/politics/\" and \"/2\" in i]\n",
        "links = [i if i.startswith(\"https\") else \"https://www.washingtonpost.com/\" + i for i in linkEnds]\n",
        "\n",
        "WP_links = set(links)\n",
        "WP_links = list(WP_links)\n",
        "WP_links\n",
        "\n",
        "#RSS: https://feeds.washingtonpost.com/rss/rss_the-fix?itid=lk_inline_manual_5"
      ]
    },
    {
      "cell_type": "code",
      "execution_count": null,
      "metadata": {
        "colab": {
          "base_uri": "https://localhost:8080/"
        },
        "collapsed": true,
        "id": "qPRHMXMHS-_i",
        "outputId": "5c28c09f-9b7d-4460-df0e-abd1f45b3914"
      },
      "outputs": [
        {
          "name": "stderr",
          "output_type": "stream",
          "text": [
            "<ipython-input-30-bec0c30b8cb0>:4: XMLParsedAsHTMLWarning: It looks like you're parsing an XML document using an HTML parser. If this really is an HTML document (maybe it's XHTML?), you can ignore or filter this warning. If it's XML, you should know that using an XML parser will be more reliable. To parse this document as XML, make sure you have the lxml package installed, and pass the keyword argument `features=\"xml\"` into the BeautifulSoup constructor.\n",
            "  soup = BeautifulSoup(html_page.text, \"lxml\")\n"
          ]
        }
      ],
      "source": [
        "#CNBC Article Link Scraper\n",
        "url = 'https://search.cnbc.com/rs/search/combinedcms/view.xml?partnerId=wrss01&id=10000113'\n",
        "html_page = requests.get(url)\n",
        "soup = BeautifulSoup(html_page.text, \"lxml\")\n",
        "links = []\n",
        "for item in soup.find_all(\"item\"):\n",
        "  link= str(item)\n",
        "  i = link.find(\"<link/>\")\n",
        "  j = link.find(\"<guid\")\n",
        "  x = link[i+7:j]\n",
        "  #removes white space at end of links\n",
        "  y = x.split('\\n', 1)[0].strip()\n",
        "  links.append(y)\n",
        "CNBC_links = links"
      ]
    },
    {
      "cell_type": "code",
      "execution_count": null,
      "metadata": {
        "colab": {
          "base_uri": "https://localhost:8080/"
        },
        "collapsed": true,
        "id": "eTUXOMlXXMlU",
        "outputId": "11b6222c-0dd9-4eef-c9e3-478b0bcd6c3a"
      },
      "outputs": [
        {
          "name": "stderr",
          "output_type": "stream",
          "text": [
            "<ipython-input-32-36164bfd68a9>:4: XMLParsedAsHTMLWarning: It looks like you're parsing an XML document using an HTML parser. If this really is an HTML document (maybe it's XHTML?), you can ignore or filter this warning. If it's XML, you should know that using an XML parser will be more reliable. To parse this document as XML, make sure you have the lxml package installed, and pass the keyword argument `features=\"xml\"` into the BeautifulSoup constructor.\n",
            "  soup = BeautifulSoup(html_page.text, \"lxml\")\n"
          ]
        },
        {
          "data": {
            "text/plain": [
              "['https://www.cbsnews.com/news/former-mesa-county-clerk-tina-peters-sentenced-colorado-election-interference-case/',\n",
              " 'https://www.cbsnews.com/news/supreme-court-new-term-cases-to-watch/',\n",
              " 'https://www.cbsnews.com/news/kamala-harris-campaign-liz-cheney-wisconsin-republicans/',\n",
              " 'https://www.cbsnews.com/news/venezuelans-legal-status-chnv-program/',\n",
              " 'https://www.cbsnews.com/news/vp-debate-ratings-2024/',\n",
              " 'https://www.cbsnews.com/news/us-microsoft-russia-domains-seized/',\n",
              " 'https://www.cbsnews.com/news/biden-florida-georgia-hurricane-helene-damage/',\n",
              " 'https://www.cbsnews.com/news/melania-trump-abortion-rights-memoir/',\n",
              " 'https://www.cbsnews.com/news/new-york-jets-woody-johnson-ambassador-ethics/',\n",
              " 'https://www.cbsnews.com/news/tim-walz-gus-witnessed-st-paul-community-center-shooting/',\n",
              " 'https://www.cbsnews.com/news/vp-debate-replay-2024/',\n",
              " 'https://www.cbsnews.com/news/oct-7-hamas-attack-one-year-mark-u-s-intelligence-warning-violent-extremism/',\n",
              " 'https://www.cbsnews.com/news/tim-walz-says-dates-wrong-admits-he-didnt-travel-to-china-until-august-1989/',\n",
              " 'https://www.cbsnews.com/news/vp-candidates-word-used-most-often-debate-trump-housing-border-vance-walz/',\n",
              " 'https://www.cbsnews.com/news/kamala-harris-fracking-ban/',\n",
              " 'https://www.cbsnews.com/news/trump-2020-election-filing-special-counsel-jack-smith/',\n",
              " 'https://www.cbsnews.com/news/biden-hurricane-helene-north-carolina-south-carolina/',\n",
              " 'https://www.cbsnews.com/news/full-vp-debate-transcript-walz-vance-2024/',\n",
              " 'https://www.cbsnews.com/news/cbs-news-vp-debate-poll-2024/',\n",
              " 'https://www.cbsnews.com/news/donald-trump-says-he-would-veto-federal-abortion-ban/',\n",
              " 'https://www.cbsnews.com/news/jd-vance-closing-statement-vp-debate-2024/',\n",
              " 'https://www.cbsnews.com/news/tim-walz-2024-vp-debate-closing-statement/',\n",
              " 'https://www.cbsnews.com/news/fact-check-vp-debate-2024/',\n",
              " 'https://www.cbsnews.com/news/election-deniers-fueling-push-to-hand-count-ballots-georgia-gillespie-county-texas-2024-election/']"
            ]
          },
          "execution_count": 32,
          "metadata": {},
          "output_type": "execute_result"
        }
      ],
      "source": [
        "#CBS News Article Link Scraper\n",
        "url = 'https://www.cbsnews.com/latest/rss/politics'\n",
        "html_page = requests.get(url)\n",
        "soup = BeautifulSoup(html_page.text, \"lxml\")\n",
        "links = []\n",
        "for item in soup.find_all(\"item\"):\n",
        "  link= str(item)\n",
        "  i = link.find(\"<link/>\")\n",
        "  j = link.find(\"<guid\")\n",
        "  x = link[i+7:j]\n",
        "  y = x.split('\\n', 1)[0]\n",
        "  if \"/news/\" in y:\n",
        "    links.append(y)\n",
        "CBS_links = links\n",
        "CBS_links"
      ]
    },
    {
      "cell_type": "code",
      "execution_count": null,
      "metadata": {
        "cellView": "form",
        "collapsed": true,
        "id": "JMUnOcm5YLG9"
      },
      "outputs": [],
      "source": [
        "# @title [Potenitally discontinuted] ABC News Article Link Scraper - in progress\n",
        "\n",
        "# headers = {\"user-agent\": \"Mozilla/5.0\"}\n",
        "#Mozilla/5.0 (Windows NT 10.0; Win64; x64) AppleWebKit/537.36 (KHTML, like Gecko) Chrome/113.0.0.0 Safari/537.36 Edg/113.0.1774.35\n",
        "html_page = requests.get('https://abcnews.go.com/abcnews/politicsheadlines')\n",
        "#lxml-xml needed so it can parse the CDATA (where the links are) ? jk\n",
        "soup = BeautifulSoup(html_page.text, \"lxml\")\n",
        "links = []\n",
        "for item in soup.find_all(\"item\"):\n",
        "  link= str(item)\n",
        "  i = link.find(\"CDATA\")\n",
        "  j = link.find(\"<guid\")\n",
        "  x = link[i+7:j]\n",
        "  y = x.split('\\n', 1)[0]\n",
        "  links.append(y)\n",
        "\n",
        "ABC_links = links\n",
        "ABC_links"
      ]
    },
    {
      "cell_type": "code",
      "execution_count": null,
      "metadata": {
        "id": "m6cjGTFNYeZe"
      },
      "outputs": [],
      "source": [
        "#ABC Article Link Scraper html\n",
        "page = requests.get('https://abcnews.go.com/Politics')\n",
        "soup = BeautifulSoup(page.text, 'html.parser')\n",
        "allLinks = []\n",
        "link = \"https://abcnews.go.com/Politics\"\n",
        "for link in soup.find_all('a'):\n",
        "    allLinks.append(link.get('href'))\n",
        "allLinks = filter(None, allLinks)\n",
        "links = [i for i in allLinks if \"/Politics/\" in i and \"/video/\" not in i]\n",
        "ABC_links = set(links)\n",
        "ABC_links = list(ABC_links)"
      ]
    },
    {
      "cell_type": "code",
      "execution_count": null,
      "metadata": {
        "colab": {
          "base_uri": "https://localhost:8080/"
        },
        "collapsed": true,
        "id": "XoAiwRTm8Rk0",
        "outputId": "26e711e9-1099-4404-ee29-055d7e015c4a"
      },
      "outputs": [
        {
          "output_type": "stream",
          "name": "stdout",
          "text": [
            "Error: Unable to fetch the webpage.\n"
          ]
        }
      ],
      "source": [
        "#Extract article text from links for all news sources\n",
        "#Use this to text article link efficacy?\n",
        "\n",
        "#CNBC_links includes ad text in the beginning(?)\n",
        "url = NYT_links[0]\n",
        "article_text = scrape_article_text(url)\n",
        "print(article_text)"
      ]
    },
    {
      "cell_type": "code",
      "execution_count": null,
      "metadata": {
        "colab": {
          "base_uri": "https://localhost:8080/"
        },
        "collapsed": true,
        "id": "XIlX8JRwtPjs",
        "outputId": "d2498f3f-b054-4f7a-a92d-261b78f1c0e0"
      },
      "outputs": [
        {
          "name": "stdout",
          "output_type": "stream",
          "text": [
            "While New York is seen as a solid blue state, the Republican party still enjoys widespread support in its rural and suburban areas, and this year the gap between the GOP and the Democrat Party could be narrowing. In the 2024 presidential election, Donald Trump has the potential to gain the largest share of the vote in the Empire State than any other Republican candidate since 1988, some polls have suggested. Trump's very unlikely to win the state and get its 28 electoral votes, but a good performance in the Democratic stronghold gives Republicans a new message to bring to voters and enthusiasm about Trump could help the GOP in down ballot races. Before his rally on Long Island Wednesday night, Trump told supporters in a Manhattan bar that he was going to \"win New York!\" – a message he repeated to the crowd later on. \"When I told some people in Washington that I'm going up to New York, we're doing a campaign speech, they said, 'What do you mean New York? You can't ever ... Republicans can't win New York,\" Trump said at the Nassau Coliseum. \"I said, 'I can win New York,'\" he continued. \"We can win New York. We're going to win New York ... Your love for your state will come roaring back.\" In two polls that pit Trump against Vice President Kamala Harris, Trump's support ranges from 41.7 percent to 42 percent. That puts Trump in a position to possibly break his own record in New York and get more support than any Republican since 1988. Siena College's latest survey of New York voters, released on Thursday, showed Harris leading Trump 55 percent to 42 percent. Trump's support in the Empire State appeared to be holding steady from August, according to Siena College's polling. New York voters said they trust the vice president more on abortion, democracy and the economy, while the key issue of immigration essentially tied the pair – Harris on 48 percent and Trump on 47 percent. \"New York remains solidly 'blue' but perhaps not as deep blue as it has been in the last several presidential cycles,\" Siena College pollster Steven Greenberg said in a press release. Greenberg said that in the six presidential elections this century, Democrats have carried New York by at least 18 points, but Harris currently only leads by 13. \"Despite the Democratic convention, the debate and numerous other events during the six weeks between Siena College polls, there has been little movement in the horse race or in either candidate's favorability rating,\" Greenberg added. An earlier poll in August, by ActiVote, showed a greater lead for Harris, who was ahead by 16.6%. Trump was beating Harris among rural New York voters, with 52% supporting him. \"Independents moved further in Trump's direction, supporting him over Harris 58-34%, up from 47-40% last month,\" Greenberg explained. If polling holds true in the election, it would put Trump at more of an advantage than he enjoyed in the previous two elections, but the Queens native still would not have enough support to win the state on November 5. Four years ago, Trump lost to President Joe Biden with 37.7 percent of the vote compared to 60.9 percent. It was a very similar picture against former Secretary of State Hilary Clinton in 2016. In 1988, former President George H.W. Bush received 47.52 percent of the state's vote, narrowly losing it to Michael Dukakis' 51.62 percent. No Republican has been able to match Bush's support in New York since. In the next two elections, former President Bill Clinton had a 15 and then an almost 30-point lead over his GOP rivals. Former President George W. Bush lost New York by similar margins, as did former Senators John McCain and Mitt Romney.  Republicans winning New York would upend the Electoral College for Democrats, but the likelihood of that happening is very slim. However, Trump doesn't need to win the state to help his party. Targeting New York could still be beneficial for the GOP when it comes to House races, especially in areas like Long Island where support for the party is greater than within New York City. Polling from 538 showed Representative Anthony D'Esposito's Democratic rival Laura Gillen leading him by three points in August (50-47%), but earlier numbers showed him ahead by five (48-42%). \"While New York perhaps is not a battleground state, Long Island is a battleground island,\" D'Esposito told Politico. \"It does benefit him, because as president, he's going to need a majority in the House, and those seats that we're defending on Long Island and around New York are key to that majority.\" Newsweek is committed to journalism that's factual and fair. Hold us accountable and submit your rating of this article on the meter.  Newsweek is committed to journalism that's factual and fair. Hold us accountable and submit your rating of this article on the meter.  Dan Gooding is a Newsweek reporter based in New York City. His focus is reporting on immigration and border security. He has covered immigration issues extensively, including the root causes of migration to the U.S., its impact on border communities and responses around the country. Dan joined Newsweek in 2024 from The Independent and previously worked at The Messenger, Business Insider and in U.K. local radio. He is a graduate of De Montfort University in Leicester, UK. You can get in touch with Dan by emailing d.gooding@newsweek.com. You can find him on X @DanGooding. Languages: English. Dan Gooding is a Newsweek reporter based in New York City. His focus is reporting on immigration and border security.                                    ...\n",
            "Read more\n",
            " Newsletters in your inbox See all Company Editions: Contact Terms of Use © 2024 NEWSWEEK DIGITAL LLC\n"
          ]
        }
      ],
      "source": [
        "#Extract article text from links for news sources requiring user agent\n",
        "url = Newsweek_links[0]\n",
        "headers = {\"user-agent\": \"Mozilla/5.0\"}\n",
        "#Mozilla/5.0 (Windows NT 10.0; Win64; x64) AppleWebKit/537.36 (KHTML, like Gecko) Chrome/113.0.0.0 Safari/537.36 Edg/113.0.1774.35\n",
        "article_text = scrape_article_text_useragent(url, headers)\n",
        "print(article_text)"
      ]
    },
    {
      "cell_type": "code",
      "execution_count": null,
      "metadata": {
        "id": "sX7n4GKSzh5Q"
      },
      "outputs": [],
      "source": [
        "#List of RSS feeds\n",
        "\n",
        "#Fox News: Politics\n",
        "foxPolRSS = f\"https://moxie.foxnews.com/google-publisher/politics.xml\"\n",
        "#CNN News: Politics\n",
        "CNNPolRSS = f\"http://rss.cnn.com/rss/cnn_allpolitics.rss\"\n",
        "#NYT News: Politics\n",
        "NYTPolRSS = f\"https://rss.nytimes.com/services/xml/rss/nyt/Politics.xml\"\n",
        "#https://github.com/susannapaoli/web-scraper-nyt\n",
        "#NY Post: Politics\n",
        "NYPostPolRSS = f\"https://nypost.com/politics/feed/\"\n",
        "#Daily Mail: U.S.\n",
        "DailyMailUSRSS = f\"https://www.dailymail.co.uk/ushome/index.rss\"\n",
        "#NBC News: Politics\n",
        "NBCPolRSS = f\"https://feeds.nbcnews.com/nbcnews/public/politics\"\n",
        "#CNBC: Politics\n",
        "CNBCPolRSS = f\"https://search.cnbc.com/rs/search/combinedcms/view.xml?partnerId=wrss01&id=10000113\"\n",
        "#CBS News: Politics\n",
        "CBSPolRSS = f\"https://www.cbsnews.com/latest/rss/politics\"\n",
        "#ABC News: Politics\n",
        "ABCPolRSS = f\"https://abcnews.go.com/abcnews/politicsheadlines\""
      ]
    },
    {
      "cell_type": "code",
      "execution_count": null,
      "metadata": {
        "cellView": "form",
        "colab": {
          "base_uri": "https://localhost:8080/"
        },
        "id": "6-9ObRECI1s3",
        "outputId": "73da7875-7cb8-49e8-8d1b-141bdab26b23"
      },
      "outputs": [
        {
          "name": "stdout",
          "output_type": "stream",
          "text": [
            "[{'generated_text': 'left'}]\n",
            "[{'generated_text': 'uncertain'}]\n",
            "[{'generated_text': 'center'}]\n",
            "[{'generated_text': 'center'}]\n",
            "[{'generated_text': 'center'}]\n",
            "[{'generated_text': 'center'}]\n"
          ]
        }
      ],
      "source": [
        "# @title [likly discontinuted]\n",
        "\n",
        "\n",
        "# Following URL is the URL of the LLM being utilized from HuggingFace\n",
        "API_URL = \"https://api-inference.huggingface.co/models/google/flan-t5-xxl\"\n",
        "headers = {\"Authorization\": f\"Bearer {api_token_hug}\"}\n",
        "\n",
        "# Instructions sent to the LLM in front of article text\n",
        "system_input = \"Analyze the text content and assign a label from {left, right, center, uncertain}. In this context, “left” indicates a left-leaning article, “right” signifies a right-leaning article, “center” implies no obvious political leaning, and “uncertain” denotes that the political orientation could not be determined. Please provide your analysis and output a new single line containing only the assigned label.\"\n",
        "\n",
        "#reduce by 10% until it fits query\n",
        "reduction_fraction = 0.10\n",
        "\n",
        "\n",
        "\n",
        "result = reduce_and_query(article_text, system_input, reduction_fraction, headers)\n",
        "print(result)\n",
        "\n",
        "second_article = \"https://www.cnn.com/2024/03/19/politics/texas-immigration-law-blocked-appeals/index.html\"\n",
        "second_result = reduce_and_query(second_article, system_input, reduction_fraction, headers)\n",
        "print(second_result)\n",
        "\n",
        "third_article = \"https://www.cnn.com/videos/world/2024/03/20/israel-gaza-west-bank-settler-movement-clarissa-ward-pkg-intl-ldn-vpx.cnn\"\n",
        "third_result = reduce_and_query(third_article, system_input, reduction_fraction, headers)\n",
        "print(third_result)\n",
        "\n",
        "fourth_article = \"https://www.cnn.com/2024/03/19/politics/trump-bond-deadline-panic/index.html\"\n",
        "fourth_result = reduce_and_query(fourth_article, system_input, reduction_fraction, headers)\n",
        "print(fourth_result)\n",
        "\n",
        "fifth_article = \"https://www.foxnews.com/live-news/joe-biden-gop-impeachment-inquiry-hearing-hunter-biden-business-dealings\"\n",
        "fifth_result = reduce_and_query(fifth_article, system_input, reduction_fraction, headers)\n",
        "print(fifth_result)\n",
        "\n",
        "sixth_article = \"https://www.msnbc.com/deadline-white-house/deadline-legal-blog/trump-supreme-court-immunity-appeal-delay-rcna144155\"\n",
        "sixth_result = reduce_and_query(sixth_article, system_input, reduction_fraction, headers)\n",
        "print(sixth_result)\n",
        "\n",
        "seventh_article = \"https://www.msnbc.com/rachel-maddow-show/maddowblog/biden-white-house-reason-celebrate-falling-crime-rates-rcna144215\"\n",
        "seventh_result = reduce_and_query(seventh_article, system_input, reduction_fraction, headers)"
      ]
    }
  ],
  "metadata": {
    "colab": {
      "provenance": [],
      "include_colab_link": true
    },
    "kernelspec": {
      "display_name": "Python 3",
      "name": "python3"
    },
    "language_info": {
      "name": "python"
    }
  },
  "nbformat": 4,
  "nbformat_minor": 0
}
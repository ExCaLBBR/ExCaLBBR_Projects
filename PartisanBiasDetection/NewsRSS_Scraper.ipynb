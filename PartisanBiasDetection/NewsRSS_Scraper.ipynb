{
  "nbformat": 4,
  "nbformat_minor": 0,
  "metadata": {
    "colab": {
      "provenance": [],
      "include_colab_link": true
    },
    "kernelspec": {
      "name": "python3",
      "display_name": "Python 3"
    },
    "language_info": {
      "name": "python"
    }
  },
  "cells": [
    {
      "cell_type": "markdown",
      "metadata": {
        "id": "view-in-github",
        "colab_type": "text"
      },
      "source": [
        "<a href=\"https://colab.research.google.com/github/ExCaLBBR/ExCaLBBR_Projects/blob/main/PartisanBiasDetection/NewsRSS_Scraper.ipynb\" target=\"_parent\"><img src=\"https://colab.research.google.com/assets/colab-badge.svg\" alt=\"Open In Colab\"/></a>"
      ]
    },
    {
      "cell_type": "code",
      "execution_count": 1,
      "metadata": {
        "id": "jzf4wY-T8Frl",
        "cellView": "form"
      },
      "outputs": [],
      "source": [
        "#@title Install Dependancies\n",
        "!pip install requests beautifulsoup4 --quiet\n",
        "\n",
        "#Import libraries\n",
        "import requests\n",
        "from bs4 import BeautifulSoup\n",
        "import time"
      ]
    },
    {
      "cell_type": "code",
      "source": [
        "# @title Define Utility Functions\n",
        "\n",
        "#Article Scrapper\n",
        "def scrape_article_text(url):\n",
        "    # Send a GET request to the URL\n",
        "    response = requests.get(url)\n",
        "    # Check if the request was successful\n",
        "    if response.status_code == 200:\n",
        "        # Parse the HTML content\n",
        "        soup = BeautifulSoup(response.text, 'html.parser')\n",
        "        # Find elements containing text - this part may need customization\n",
        "        # For example, assuming article text is within <p> tags\n",
        "        article_text = ' '.join(p.get_text() for p in soup.find_all('p'))\n",
        "        return article_text\n",
        "    else:\n",
        "        return \"Error: Unable to fetch the webpage.\"\n",
        "\n",
        "#Query for LLM\n",
        "def query(payload, headers):\n",
        "    response = requests.post(API_URL, headers=headers, json=payload)\n",
        "    if response.status_code == 200:\n",
        "        return response.json()  # Expecting this to always be a list for simplicity\n",
        "    else:\n",
        "        return [{\"error\": response.text}]\n",
        "\n",
        "#Political Bias Classification using LLM\n",
        "def reduce_and_query(initial_text, llm_instructions, reduction_fraction, headers):\n",
        "    text = initial_text\n",
        "    while True:\n",
        "        payload = {\"inputs\": llm_instructions + text}\n",
        "        response = query(payload, headers)\n",
        "        # Since we expect a list, check the first item for an 'error' key\n",
        "        if \"error\" in response[0]:\n",
        "            error_message = response[0][\"error\"]\n",
        "            if \"token\" in error_message.lower():\n",
        "                # Reduce the text by the specified fraction if it's a token limit error\n",
        "                new_length = int(len(text) * (1 - reduction_fraction))\n",
        "                text = text[:new_length]\n",
        "            else:\n",
        "                # Return the error message directly if it's a different kind of error\n",
        "                return error_message\n",
        "        else:\n",
        "            # If there's no 'error' key, assume the response is successful\n",
        "            return response"
      ],
      "metadata": {
        "id": "-1vSCujtWffV",
        "cellView": "form"
      },
      "execution_count": 2,
      "outputs": []
    },
    {
      "cell_type": "code",
      "source": [
        "# CNN Article Link Scraper\n",
        "page = requests.get('https://www.cnn.com/politics')\n",
        "soup = BeautifulSoup(page.text, 'html.parser')\n",
        "allLinks = []\n",
        "link = \"https://www.cnn.com/politics\"\n",
        "for link in soup.find_all('a'):\n",
        "    allLinks.append(link.get('href'))\n",
        "allLinks = filter(None, allLinks)\n",
        "linkEnds = [i for i in allLinks if i.startswith('/2')]\n",
        "result = ['https://www.cnn.com' + i for i in linkEnds]\n",
        "CNN_links = set(result)\n",
        "CNN_links = list(CNN_links)"
      ],
      "metadata": {
        "id": "U36vKED56Kll"
      },
      "execution_count": 3,
      "outputs": []
    },
    {
      "cell_type": "code",
      "source": [
        "#Fox News Article Text Link Scraper\n",
        "url = 'https://moxie.foxnews.com/google-publisher/politics.xml'\n",
        "html_page = requests.get(url)\n",
        "soup = BeautifulSoup(html_page.text, \"lxml\")\n",
        "links = []\n",
        "for item in soup.find_all(\"item\"):\n",
        "  link= str(item)\n",
        "  i = link.find(\"<link/>\")\n",
        "  j = link.find(\"<guid\")\n",
        "  x = link[i+7:j]\n",
        "  y = x.split('\\n', 1)[0]\n",
        "  links.append(y)\n",
        "FoxNews_links = links\n",
        "\n",
        "#Fox News Article Header Scraper\n",
        "headers = []\n",
        "for item in soup.find_all(\"item\"):\n",
        "  header= str(item)\n",
        "  i = header.find(\"<title>\")\n",
        "  j = header.find(\"</title>\")\n",
        "  x = header[i+7:j]\n",
        "  y = x.split('\\n', 1)[0]\n",
        "  headers.append(y)\n",
        "FoxNews_headers = headers\n",
        "\n",
        "#Fox News Article PubDate Scraper\n",
        "pubds = []\n",
        "for item in soup.find_all(\"item\"):\n",
        "  pubd= str(item)\n",
        "  i = pubd.find(\"<pubdate>\")\n",
        "  j = pubd.find(\"</pubdate>\")\n",
        "  x = pubd[i+9:j-6]\n",
        "  y = x.split('\\n', 1)[0]\n",
        "  pubds.append(y)\n",
        "FoxNews_pubdate = pubds"
      ],
      "metadata": {
        "id": "5mml0I9kwLNy",
        "outputId": "66f86e53-d12b-4e16-88a0-1c7de2cd017f",
        "colab": {
          "base_uri": "https://localhost:8080/"
        },
        "collapsed": true
      },
      "execution_count": 26,
      "outputs": [
        {
          "output_type": "stream",
          "name": "stderr",
          "text": [
            "<ipython-input-26-a7cfedd0e256>:4: XMLParsedAsHTMLWarning: It looks like you're parsing an XML document using an HTML parser. If this really is an HTML document (maybe it's XHTML?), you can ignore or filter this warning. If it's XML, you should know that using an XML parser will be more reliable. To parse this document as XML, make sure you have the lxml package installed, and pass the keyword argument `features=\"xml\"` into the BeautifulSoup constructor.\n",
            "  soup = BeautifulSoup(html_page.text, \"lxml\")\n"
          ]
        }
      ]
    },
    {
      "cell_type": "code",
      "source": [
        "#NYT Article Link Scraper\n",
        "url = 'https://rss.nytimes.com/services/xml/rss/nyt/Politics.xml'\n",
        "html_page = requests.get(url)\n",
        "soup = BeautifulSoup(html_page.text, \"lxml\")\n",
        "links = []\n",
        "for item in soup.find_all(\"item\"):\n",
        "  link= str(item)\n",
        "  i = link.find(\"<link/>\")\n",
        "  j = link.find(\"<guid\")\n",
        "  x = link[i+7:j]\n",
        "  y = x.split('\\n', 1)[0]\n",
        "  links.append(y)\n",
        "NYT_links = links"
      ],
      "metadata": {
        "id": "Dcsv7hwKb0wV",
        "outputId": "ebaa5b65-8465-4339-c450-32252acc48c7",
        "colab": {
          "base_uri": "https://localhost:8080/"
        }
      },
      "execution_count": null,
      "outputs": [
        {
          "output_type": "stream",
          "name": "stderr",
          "text": [
            "<ipython-input-63-d5bd07c2d47a>:4: XMLParsedAsHTMLWarning: It looks like you're parsing an XML document using an HTML parser. If this really is an HTML document (maybe it's XHTML?), you can ignore or filter this warning. If it's XML, you should know that using an XML parser will be more reliable. To parse this document as XML, make sure you have the lxml package installed, and pass the keyword argument `features=\"xml\"` into the BeautifulSoup constructor.\n",
            "  soup = BeautifulSoup(html_page.text, \"lxml\")\n"
          ]
        }
      ]
    },
    {
      "cell_type": "code",
      "source": [
        "#Extract article text from links for all news sources\n",
        "#Use this to text article link efficacy?\n",
        "\n",
        "url = CNN_links[0]\n",
        "article_text = scrape_article_text(url)\n",
        "print(article_text)"
      ],
      "metadata": {
        "id": "XoAiwRTm8Rk0",
        "outputId": "597449a2-f844-456e-eb0e-2eac873d0451",
        "colab": {
          "base_uri": "https://localhost:8080/"
        }
      },
      "execution_count": 5,
      "outputs": [
        {
          "output_type": "stream",
          "name": "stdout",
          "text": [
            "Follow: \n",
            "            Kamala Harris baited Donald Trump for nearly all of the 1 hour and 45 minutes of their first and potentially only debate on Tuesday night – and Trump took every bit of it.\n",
            "     \n",
            "            The vice president had prepared extensively for their debate, and peppered nearly every answer with a comment designed to enrage the former president. She told Trump that world leaders were laughing at him, and military leaders called him a “disgrace.” She called Trump “weak” and “wrong.” She said Trump was fired by 81 million voters – the number that voted for President Joe Biden in 2020.\n",
            "     \n",
            "            “Clearly, he’s having a very difficult time processing that,” she said.\n",
            "     \n",
            "Related article\n",
            "27 lines to explain the Trump-Harris presidential debate\n",
            " \n",
            "            Trump was often out of control. He loudly and repeatedly insisted that a whole host of falsehoods were true. The former president repeated lies about widespread fraud in the 2020 election. He parroted a conspiracy theory about immigrants eating pets, and lied about Democrats supporting abortions after babies are born – which is murder, and illegal everywhere.\n",
            "     \n",
            "            He painted a dire picture of the United States, reminiscent of the “American carnage” he’d warned of when he was inaugurated in 2017.\n",
            "     \n",
            "            “We have a nation that is dying,” Trump said Tuesday night.\n",
            "     \n",
            "            As the debate ended, Harris got another boost: Musician and pop culture icon Taylor Swift posted on Instagram that she was backing the Democratic ticket. She signed her post “Taylor Swift, Childless Cat Lady” — a reference to controversial comments by Trump’s running mate, Ohio Sen. JD Vance, that have alienated many women.\n",
            "     \n",
            "            Here are some quick takeaways from the first portion of the debate:\n",
            "     \n",
            "            Harris came onstage with a clear plan: Throw Trump off his game.\n",
            "     \n",
            "            It was, by any measure, a dramatic success. When the vice president mentioned Trump’s criminal conviction and outstanding legal issues, he bit. When she called him out for sinking a bipartisan immigration bill, he bit harder. And when Harris suggested Trump’s rallies were boring, he nearly choked on the bait.\n",
            "     \n",
            "            Rather than engage on the issues raised by the moderators, including a few that Trump considers some of his political strengths, the former president went on at length about the entertainment value of his rallies, claims the Biden administration was legally targeting him and, in a long, bizarre spell, insisted – against all available evidence, that migrants were eating Americans’ pets.\n",
            "     \n",
            "            “They’re eating the dogs, the people that came in, they’re eating the cats, they’re eating the pets of the people that live there,” Trump said, after Harris criticized him for tanking the immigration bill.\n",
            "     \n",
            "            Harris looked on as though she was puzzled, but rarely returned to the claims, apparently content to allow Trump go off.\n",
            "     \n",
            "            Trump seemed especially aggrieved by the vice president’s aside about his campaign events. Even after Muir sought to redirect the debate to immigration – again, one of Trump’s preferred topics – the former president refused to let it go.\n",
            "     \n",
            "            “First, let me respond as to the rallies,” Trump said, mocking Harris’ crowds before returning to his own. “People don’t leave my rallies, we have the biggest rallies, the most incredible rallies in the history of politics.”\n",
            "     \n",
            "            The first hour of the debate then ended much like it began – with Trump off on a long, narrowcast tangent about the 2020 election, which he claimed, falsely once again, was stolen from him.\n",
            "     \n",
            "            Despite signals from even his running mate, Trump did not refrain from repeating the conspiracy theory du jour during the debate.\n",
            "     \n",
            "            The former president brought up the unfounded conspiracy theory that migrants from Haiti living in Springfield, Ohio, are eating people’s cats and dogs.\n",
            "     \n",
            "            He said at one point “in Springfield, they’re eating the dogs. They’re eating the cats. They’re eating the pets of people who live there.”\n",
            "     \n",
            "            When ABC News moderator David Muir pointed out that city officials denied any evidence that migrants in Springfield were actually eating pets, Trump doubled down, saying “the people on television” were saying it. When pressed, Trump just said, “We’ll find out.”\n",
            "     \n",
            "            When the debate moved to crime, Trump claimed that crime was up in the United States contrary to the rest of the world. There too Muir pointed out that, according to FBI data, crime had actually declined in the past few years.\n",
            "     \n",
            "            Trump, again, deferred to a different conspiracy theory that the FBI is deeply corrupt and issuing “defrauding statements.” He argued “it was a fraud.”\n",
            "     \n",
            "            Later in the debate, Trump argued that US elections are “a mess” and claimed that Democrats are trying to get undocumented immigrants to vote in elections.\n",
            "     \n",
            "            Few moments highlighted the difference between Biden’s June debate performance and Harris’ on Tuesday as much as the abortion debate.\n",
            "     \n",
            "            The vice president, who has long been one the administration’s strongest surrogates on reproductive rights, was able to respond to the former president’s defense of his abortion policy in a way Biden was not.\n",
            "     \n",
            "            The former president, who appointed three of the Supreme Court judges who overturned federal abortion protections, has sought to moderate his stance on the issue by criticizing six-week abortion bans and reiterating his support for exceptions for rape, incest and the life of the mother. But he has also defended the overturning of Roe v. Wade.\n",
            "     \n",
            "            “Now it’s not tied up in the federal government,” Trump said. “I did a great service in doing it. It took courage to do it.”\n",
            "     \n",
            "            Trump repeated several of the arguments he made about abortion during his June debate with Biden. He argued that “everyone” wanted the issue returned to the states, despite widespread resistance from Democrats and some independents. He argued inaccurately that a former governor of Virginia said that babies should be executed – a reference to comments former Democratic Gov. Ralph Northam, a doctor, made about care for births after nonviable pregnancies.\n",
            "     \n",
            "            And Trump repeated the false claim that some states allow abortions to be performed after a baby has been born, which drew a fact check from ABC News’ Linsey Davis.\n",
            "     \n",
            "            “There is no state in this country where it is legal to kill a baby after it’s born,” Davis said.\n",
            "     \n",
            "            Harris responded by highlighting cases where women have been unable to get abortions after being victims of rape or struggled to get miscarriage care.\n",
            "     \n",
            "            “You want to talk about this is what people wanted?” Harris said. “Pregnant women who want to carry a pregnancy to term, suffering from a miscarriage, being denied care in an emergency room because the health care providers are afraid they might go to jail, and she’s bleeding out in a car in the parking lot – she didn’t want that.”\n",
            "     \n",
            "            Seeking to introduce herself to voters, Harris set the tone early, drawing contrast with Trump by framing herself as an advocate for middle-class Americans – and framing her opponent as self-absorbed.\n",
            "     \n",
            "            “Donald Trump has no plan for you,” Harris said in response to a question on the economy, looking into the camera in a direct appeal to voters.\n",
            "     \n",
            "            Leaning into her personal biography as she cast herself as a “middle class kid,” Harris outlined an economic vision including tax cuts for families and tax deductions for small businesses, while Trump, she said, will “do what he has done before, which is to provide a tax cut for billionaires and big corporations.”\n",
            "     \n",
            "            Trump, Harris continued, “actually has no plan for you, because he is more interested in defending himself than he is in looking out for you.”\n",
            "     \n",
            "            Her campaign has argued in its ads and talking points that Trump is a candidate looking out for himself, and Harris took that message to the debate stage Tuesday.\n",
            "     \n",
            "            “I will tell you, the one thing you will not hear him talk about is you. And I’ll tell you: I believe you deserve a president who actually puts you first,” she said.\n",
            "     \n",
            "            When Harris and Trump walked onto stage in Philadelphia, it was the first time they’d met in person. Trump, after all, skipped Biden’s inauguration.\n",
            "     \n",
            "            Harris set the tone by walking across the six feet separating her podium from Trump’s and reaching out for a handshake. She introduced herself and said, “Let’s have a good debate.”\n",
            "     \n",
            "            “Nice to see you,” Trump responded.\n",
            "     \n",
            "            It was the first handshake in a presidential debate since Trump and Hillary Clinton squared off in 2016. Trump famously loomed uncomfortably close to Clinton during their town hall-style debate.\n",
            "     \n",
            "            Trump generally looked forward as Harris spoke, while the vice president communicated through facial expressions. She laughed at some Trump comments, smirked at others, shook her head at some and at times appeared bemused.\n",
            "     \n",
            "            When Trump repeated a debunked myth about Haitian immigrants eating pets in Springfield, Ohio, Harris laughed mockingly while shrugging and pointing at Trump.\n",
            "     \n",
            "            When Trump was asked about his comment last month falsely claiming Harris only recently started to identify as Black, the former president defended his remarks as something he’d read somewhere.\n",
            "     \n",
            "            “I couldn’t care less,” Trump said. “Whatever she wants to be is OK with me.”\n",
            "     \n",
            "            In the weeks since those comments, the vice president has avoided engaging in that personal attack beyond calling it the “same old tired playbook.”\n",
            "     \n",
            "            At the Philadelphia event, however, Harris responded to Trump’s attacks on her identity a meaningful way. But instead of defending her indisputable racial identity, the vice president laid out the former president’s history of past racial discrimination and racist behavior.\n",
            "     \n",
            "            That history includes investigations of housing discrimination, calling for the death penalty for the Central Park Five – young teenagers of color falsely accused and convicted of raping and assaulting a woman in the New York park – and fueling the false birther allegation that former President Barack Obama was not born in the United states.\n",
            "     \n",
            "            “And I think the American people want better than that. Want better than this,” Harris said. “We see in each other a friend. We see in each other a neighbor. We don’t want a leader who is constantly trying to have Americans point their fingers at each other.”\n",
            "     \n",
            "            Trump pushed back, arguing that others, such as former New York Mayor Michael Bloomberg, also supported the case against the Central Park Five. He called the Biden-Harris administration divisive and argued that the vice president’s examples were outdated.\n",
            "     \n",
            "            “This is a person that has to stretch back years – 40, 50 years ago – because there’s nothing now,” he said.\n",
            "     \n",
            "            If anyone on stage Tuesday has a clear, point-by-point plan for ending the wars in Gaza and Ukraine, they did not share it with the viewers at home.\n",
            "     \n",
            "            Asked how she would secure peace in Gaza, Harris first recalled the horrors of Hamas’ October 7, 2023, attacks inside Israel. She offered some mild criticism of Israel’s response, an ongoing bombardment that’s killed tens of thousands of Palestinians, before pivoting to her support for a two-state solution, Israel’s right to defend itself and a commitment to rebuilding Gaza.\n",
            "     \n",
            "            “We need a ceasefire deal and we need the hostages out,” Harris declared. Biden and others recently conceded such an agreement is a long way off.\n",
            "     \n",
            "            Trump offered even fewer details.\n",
            "     \n",
            "            “She hates Israel,” he said of Harris, adding that she also hates “Arabs.”\n",
            "     \n",
            "            Trump has occasionally sought to inflame anger among Arab Americans over Biden’s handling of the conflict. But on Tuesday he quickly abandoned the tactic, instead chiding Harris for slighting Israeli Prime Minister Benjamin Netanyahu during a recent visit to Capitol Hill – she did, in fact, meet with him; she did not attend his speech to Congress – and declaring again that none of it “would have never happened” if he were still in the White House.\n",
            "     \n",
            "            Ditto for the Russian war in Ukraine, per the former president, who – after stopping to note that he “know(s) Putin very well – said “Russia would have never ever … have gone into Ukraine” on his watch.\n",
            "     \n",
            "            “I’ll get it done before even becoming president,” Trump added, claiming his election would reset the geopolitical state of play and, almost by definition, herald a deal.\n",
            "     \n",
            "            Harris, for her part, used the Russia-Ukraine talk to attack Trump over his well-documented fondness for international strongmen and despots.\n",
            "     \n",
            "            “It is well-known that these dictators and autocrats are rooting for you to be president again,” Harris said, “because it is so clear they can manipulate you with flatter and favors.”\n",
            "     \n",
            "            Trump fought back there, recalling his push to get NATO member nations to pay more into the alliance and slamming Harris for Biden’s refusal to do the same, before saying the vice president “does not have the courage to ask.”\n",
            "     \n",
            "            Harris replied that she believed Trump might, in fact, put a quick end to the war – by capitulating to Putin. And in so doing, she added, endangering Poland on Ukraine’s western border.  (Pennsylvania has a large Polish-American population, Harris noted.)\n",
            "     \n",
            "            Trump repeatedly brought up the administration’s handling of the US’ withdrawal from Afghanistan, arguing it showed weakness in the White House and that Biden did not fire enough people in response to it. Harris said she agreed with Biden’s decision to pull US troops out of Afghanistan in 2021, asserting that Trump “negotiated one of the weakest deals you can imagine” on the matter during his time as president.\n",
            "     \n",
            "            Trump – having been accused repeatedly of going starry-eyed for strongmen – quoted the one running Hungary, Prime Minister Viktor Orban.\n",
            "     \n",
            "            “Orban said it, he said, ‘The most respected, most feared person is Donald Trump. We had no problems when Trump was president,’” Trump said.\n",
            "     \n",
            "This story has been updated with additional reporting.\n",
            " © 2024 Cable News Network. A Warner Bros. Discovery Company. All Rights Reserved.  CNN Sans ™ & © 2016 Cable News Network.\n"
          ]
        }
      ]
    },
    {
      "cell_type": "code",
      "source": [
        "#List of RSS feeds\n",
        "\n",
        "#Fox News: Politics\n",
        "foxPolRSS = f\"https://moxie.foxnews.com/google-publisher/politics.xml\"\n",
        "#CNN News: Politics\n",
        "CNNPolRSS = f\"http://rss.cnn.com/rss/cnn_allpolitics.rss\"\n",
        "#NYT News: Politics\n",
        "NYTPolRSS = f\"https://rss.nytimes.com/services/xml/rss/nyt/Politics.xml\"\n",
        "#https://github.com/susannapaoli/web-scraper-nyt"
      ],
      "metadata": {
        "id": "sX7n4GKSzh5Q"
      },
      "execution_count": null,
      "outputs": []
    },
    {
      "cell_type": "code",
      "source": [
        "api_token_hug =\n",
        "\n",
        "\n",
        "# Following URL is the URL of the LLM being utilized from HuggingFace\n",
        "API_URL = \"https://api-inference.huggingface.co/models/google/flan-t5-xxl\"\n",
        "headers = {\"Authorization\": f\"Bearer {api_token_hug}\"}\n",
        "\n",
        "# Instructions sent to the LLM in front of article text\n",
        "system_input = \"Analyze the text content and assign a label from {left, right, center, uncertain}. In this context, “left” indicates a left-leaning article, “right” signifies a right-leaning article, “center” implies no obvious political leaning, and “uncertain” denotes that the political orientation could not be determined. Please provide your analysis and output a new single line containing only the assigned label.\"\n",
        "\n",
        "#reduce by 10% until it fits query\n",
        "reduction_fraction = 0.10\n",
        "\n",
        "\n",
        "\n",
        "result = reduce_and_query(article_text, system_input, reduction_fraction, headers)\n",
        "print(result)\n",
        "\n",
        "second_article = \"https://www.cnn.com/2024/03/19/politics/texas-immigration-law-blocked-appeals/index.html\"\n",
        "second_result = reduce_and_query(second_article, system_input, reduction_fraction, headers)\n",
        "print(second_result)\n",
        "\n",
        "third_article = \"https://www.cnn.com/videos/world/2024/03/20/israel-gaza-west-bank-settler-movement-clarissa-ward-pkg-intl-ldn-vpx.cnn\"\n",
        "third_result = reduce_and_query(third_article, system_input, reduction_fraction, headers)\n",
        "print(third_result)\n",
        "\n",
        "fourth_article = \"https://www.cnn.com/2024/03/19/politics/trump-bond-deadline-panic/index.html\"\n",
        "fourth_result = reduce_and_query(fourth_article, system_input, reduction_fraction, headers)\n",
        "print(fourth_result)\n",
        "\n",
        "fifth_article = \"https://www.foxnews.com/live-news/joe-biden-gop-impeachment-inquiry-hearing-hunter-biden-business-dealings\"\n",
        "fifth_result = reduce_and_query(fifth_article, system_input, reduction_fraction, headers)\n",
        "print(fifth_result)\n",
        "\n",
        "sixth_article = \"https://www.msnbc.com/deadline-white-house/deadline-legal-blog/trump-supreme-court-immunity-appeal-delay-rcna144155\"\n",
        "sixth_result = reduce_and_query(sixth_article, system_input, reduction_fraction, headers)\n",
        "print(sixth_result)\n",
        "\n",
        "seventh_article = \"https://www.msnbc.com/rachel-maddow-show/maddowblog/biden-white-house-reason-celebrate-falling-crime-rates-rcna144215\"\n",
        "seventh_result = reduce_and_query(seventh_article, system_input, reduction_fraction, headers)"
      ],
      "metadata": {
        "colab": {
          "base_uri": "https://localhost:8080/"
        },
        "id": "6-9ObRECI1s3",
        "outputId": "73da7875-7cb8-49e8-8d1b-141bdab26b23"
      },
      "execution_count": null,
      "outputs": [
        {
          "output_type": "stream",
          "name": "stdout",
          "text": [
            "[{'generated_text': 'left'}]\n",
            "[{'generated_text': 'uncertain'}]\n",
            "[{'generated_text': 'center'}]\n",
            "[{'generated_text': 'center'}]\n",
            "[{'generated_text': 'center'}]\n",
            "[{'generated_text': 'center'}]\n"
          ]
        }
      ]
    }
  ]
}
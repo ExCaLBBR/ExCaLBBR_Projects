{
  "nbformat": 4,
  "nbformat_minor": 0,
  "metadata": {
    "colab": {
      "provenance": [],
      "include_colab_link": true
    },
    "kernelspec": {
      "name": "python3",
      "display_name": "Python 3"
    },
    "language_info": {
      "name": "python"
    }
  },
  "cells": [
    {
      "cell_type": "markdown",
      "metadata": {
        "id": "view-in-github",
        "colab_type": "text"
      },
      "source": [
        "<a href=\"https://colab.research.google.com/github/ExCaLBBR/ExCaLBBR_Projects/blob/main/PartisanBiasDetection/NewsRSS_Scraper.ipynb\" target=\"_parent\"><img src=\"https://colab.research.google.com/assets/colab-badge.svg\" alt=\"Open In Colab\"/></a>"
      ]
    },
    {
      "cell_type": "code",
      "execution_count": 1,
      "metadata": {
        "id": "jzf4wY-T8Frl",
        "cellView": "form"
      },
      "outputs": [],
      "source": [
        "#@title Install Dependancies\n",
        "!pip install requests beautifulsoup4 --quiet\n",
        "\n",
        "#Import libraries\n",
        "import requests\n",
        "from bs4 import BeautifulSoup\n",
        "import time"
      ]
    },
    {
      "cell_type": "code",
      "source": [
        "# @title Define Utility Functions\n",
        "\n",
        "#Article Scrapper\n",
        "def scrape_article_text(url):\n",
        "    # Send a GET request to the URL\n",
        "    response = requests.get(url)\n",
        "    # Check if the request was successful\n",
        "    if response.status_code == 200:\n",
        "        # Parse the HTML content\n",
        "        soup = BeautifulSoup(response.text, 'html.parser')\n",
        "        # Find elements containing text - this part may need customization\n",
        "        # For example, assuming article text is within <p> tags\n",
        "        article_text = ' '.join(p.get_text() for p in soup.find_all('p'))\n",
        "        return article_text\n",
        "    else:\n",
        "        return \"Error: Unable to fetch the webpage.\"\n",
        "\n",
        "#Query for LLM\n",
        "def query(payload, headers):\n",
        "    response = requests.post(API_URL, headers=headers, json=payload)\n",
        "    if response.status_code == 200:\n",
        "        return response.json()  # Expecting this to always be a list for simplicity\n",
        "    else:\n",
        "        return [{\"error\": response.text}]\n",
        "\n",
        "#Political Bias Classification using LLM\n",
        "def reduce_and_query(initial_text, llm_instructions, reduction_fraction, headers):\n",
        "    text = initial_text\n",
        "    while True:\n",
        "        payload = {\"inputs\": llm_instructions + text}\n",
        "        response = query(payload, headers)\n",
        "        # Since we expect a list, check the first item for an 'error' key\n",
        "        if \"error\" in response[0]:\n",
        "            error_message = response[0][\"error\"]\n",
        "            if \"token\" in error_message.lower():\n",
        "                # Reduce the text by the specified fraction if it's a token limit error\n",
        "                new_length = int(len(text) * (1 - reduction_fraction))\n",
        "                text = text[:new_length]\n",
        "            else:\n",
        "                # Return the error message directly if it's a different kind of error\n",
        "                return error_message\n",
        "        else:\n",
        "            # If there's no 'error' key, assume the response is successful\n",
        "            return response"
      ],
      "metadata": {
        "id": "-1vSCujtWffV",
        "cellView": "form"
      },
      "execution_count": 2,
      "outputs": []
    },
    {
      "cell_type": "code",
      "source": [
        "# CNN Article Link Scraper\n",
        "page = requests.get('https://www.cnn.com/politics')\n",
        "soup = BeautifulSoup(page.text, 'html.parser')\n",
        "allLinks = []\n",
        "link = \"https://www.cnn.com/politics\"\n",
        "for link in soup.find_all('a'):\n",
        "    allLinks.append(link.get('href'))\n",
        "allLinks = filter(None, allLinks)\n",
        "linkEnds = [i for i in allLinks if i.startswith('/2')]\n",
        "result = ['https://www.cnn.com' + i for i in linkEnds]\n",
        "CNN_links = set(result)\n",
        "CNN_links = list(CNN_links)"
      ],
      "metadata": {
        "id": "U36vKED56Kll"
      },
      "execution_count": 21,
      "outputs": []
    },
    {
      "cell_type": "code",
      "source": [
        "#Fox News Article Link Scraper\n",
        "url = 'https://moxie.foxnews.com/google-publisher/politics.xml'\n",
        "html_page = requests.get(url)\n",
        "soup = BeautifulSoup(html_page.text, \"lxml\")\n",
        "links = []\n",
        "for item in soup.find_all(\"item\"):\n",
        "  link= str(item)\n",
        "  i = link.find(\"<link/>\")\n",
        "  j = link.find(\"<guid\")\n",
        "  x = link[i+7:j]\n",
        "  y = x.split('\\n', 1)[0]\n",
        "  links.append(y)\n",
        "FoxNews_links = links"
      ],
      "metadata": {
        "id": "5mml0I9kwLNy",
        "outputId": "3bd66728-7a9d-49d6-b75b-07f3241924a6",
        "colab": {
          "base_uri": "https://localhost:8080/"
        }
      },
      "execution_count": 45,
      "outputs": [
        {
          "output_type": "stream",
          "name": "stderr",
          "text": [
            "<ipython-input-45-5785ac706a5f>:4: XMLParsedAsHTMLWarning: It looks like you're parsing an XML document using an HTML parser. If this really is an HTML document (maybe it's XHTML?), you can ignore or filter this warning. If it's XML, you should know that using an XML parser will be more reliable. To parse this document as XML, make sure you have the lxml package installed, and pass the keyword argument `features=\"xml\"` into the BeautifulSoup constructor.\n",
            "  soup = BeautifulSoup(html_page.text, \"lxml\")\n"
          ]
        }
      ]
    },
    {
      "cell_type": "code",
      "source": [
        "#NYT Article Link Scraper\n",
        "url = 'https://rss.nytimes.com/services/xml/rss/nyt/Politics.xml'\n",
        "html_page = requests.get(url)\n",
        "soup = BeautifulSoup(html_page.text, \"lxml\")\n",
        "links = []\n",
        "for item in soup.find_all(\"item\"):\n",
        "  link= str(item)\n",
        "  i = link.find(\"<link/>\")\n",
        "  j = link.find(\"<guid\")\n",
        "  x = link[i+7:j]\n",
        "  y = x.split('\\n', 1)[0]\n",
        "  links.append(y)\n",
        "NYT_links = links"
      ],
      "metadata": {
        "id": "Dcsv7hwKb0wV",
        "outputId": "ebaa5b65-8465-4339-c450-32252acc48c7",
        "colab": {
          "base_uri": "https://localhost:8080/"
        }
      },
      "execution_count": 63,
      "outputs": [
        {
          "output_type": "stream",
          "name": "stderr",
          "text": [
            "<ipython-input-63-d5bd07c2d47a>:4: XMLParsedAsHTMLWarning: It looks like you're parsing an XML document using an HTML parser. If this really is an HTML document (maybe it's XHTML?), you can ignore or filter this warning. If it's XML, you should know that using an XML parser will be more reliable. To parse this document as XML, make sure you have the lxml package installed, and pass the keyword argument `features=\"xml\"` into the BeautifulSoup constructor.\n",
            "  soup = BeautifulSoup(html_page.text, \"lxml\")\n"
          ]
        }
      ]
    },
    {
      "cell_type": "code",
      "source": [
        "#Extract article text from links for all news sources\n",
        "#Use this to text article link efficacy?\n",
        "\n",
        "url = NYT_links[0]\n",
        "article_text = scrape_article_text(url)\n",
        "print(article_text)"
      ],
      "metadata": {
        "id": "XoAiwRTm8Rk0",
        "outputId": "7ec7c4a8-098b-4025-8f42-0d40a96b7963",
        "colab": {
          "base_uri": "https://localhost:8080/"
        }
      },
      "execution_count": 67,
      "outputs": [
        {
          "output_type": "stream",
          "name": "stdout",
          "text": [
            " Advertisement By Karen Yourish and  Lazaro Gamio  In an unprecedented moment in modern American history, the 2024 Republican and Democratic presidential candidates will face off in their first debate after just seven weeks of campaigning against each other. The New York Times analyzed what the two candidates have said about each other on social media from July 21, when President Biden dropped out of the race and Vice President Kamala Harris became the frontrunner to replace him as the Democratic nominee, through Sept. 6. (For the most part, their statements on social media mirror their public comments at rallies and other events.) While both candidates attack each other, The Times found that former president Donald Trump targets Ms. Harris much more frequently, an average of more than three times per day, and his posts (on Truth Social) almost always include a personal smear. Ms. Harris’s posts about Mr. Trump (on X) tend not to go for the jugular. A handful of times, she has drawn attention to his history of legal trouble, saying, for example, that she knows “Donald Trump’s type” because she “took on predators, fraudsters and cheaters” as a prosecutor. She has also described him in the following ways: ‘an unserious man’ ‘unable to comprehend anything other than service to himself’ By contrast, Mr. Trump’s attacks on Ms. Harris resemble the name-calling insults of a sexist schoolyard bully. He frequently drops personal slights into political attacks, but he has also attacked Ms. Harris numerous times in personal terms without making any particular reference to her policies or political record. Some of these posts have touched instead on her racial identity or included generic insults referencing her authenticity or capability. Here is how he has described her: ‘HORRIBLE INCOMPETENT BORDER CZAR’ ‘“Dumb as a Rock” Kamala Harris’ ‘totally failed and insignificant Vice President’ ‘Lyin’ Kamala Harris’ ‘Lyin’ Kamala’ ‘Lyin’ Kamala Harris’ ‘most unpopular Vice President in history’ ‘Lyin’ Kamala Harris’ ‘Lyin’ Kamala Harris’ ‘Lyin’ Kamala Harris’ ‘Lyin’ Kamala Harris’ ‘LYIN’ KAMALA HARRIS’ ‘GREAT EMBARRASSMENT TO AMERICA’ ‘Lyin’ Kamala Harris’ ‘RADICAL LEFT MARXIST, AND WORSE!’ ‘Lyin’ Kamala Harris’ ‘ORIGINAL Marxist District Attorney’ ‘Crazy Kamala Harris’ ‘CRAZY KAMALA HARRIS’ ‘Crazy Kamala’ ‘CRAZY KAMALA HARRIS’ ‘CRAZY KAMALA HARRIS’ ‘Crazy Kamala Harris’ ‘WORST Vice President in American history’ ‘Crazy Kamala’ ‘Crazy Kamala Harris’ ‘Wack Job’ ‘Crazy Kamala’ ‘Crazy Kamala Harris’ ‘Crazy Kamala’ ‘Crazy Kamala Harris’ ‘Crazy Kamala’ ‘Crazy Kamala Harris’ ‘Crazy Kamala’ ‘Crazy Kamala Harris’ ‘Crazy Kamala Harris’ ‘Crazy Kamala’ ‘Stone cold phony’ ‘Crazy Kamala Harris’ ‘Crazy Kamala’ ‘Crazy Kamala Harris’ ‘Crazy Kamala Harris’ ‘Crazy Kamala Harris’ ‘LOW I.Q. INDIVIDUAL’ ‘can’t put two sentences together’ ‘Low IQ’ ‘Worst Vice President in History’ ‘doesn’t have the mental capacity to do a REAL Debate’ ‘really DUMB’ ‘extremely Low IQ’ ‘unable to put two sentences together’ ‘unable to speak properly without a Teleprompter’ ‘Crazy Kamala’ ‘Crazy Kamala Harris’ ‘Crazy Kamala’ ‘Crazy Kamala Harris’ ‘incompetent Vice President’ ‘Crazy Kamala’ ‘Radical Left Lunatic’ ‘VERY STUPID’ ‘INCOMPETENT’ ‘Kamabla is the WORST V.P.’ ‘Crazy Kamabla is, indeed, CRAZY’ ‘Crazy Kamabla’ ‘CRAZY KAMABLA HARRIS’ ‘Crazy Kamabla’ ‘Crazy Kamabla’ ‘Crazy Kamabla’ ‘Incompetent’ ‘WORST BORDER CZAR IN HISTORY’ ‘WORSE than Biden’ ‘Crazy Kamala Harris’ ‘low-IQ’ ‘grossly incompetent’ ‘Weak’ ‘Failed’ ‘DOESN’T HAVE A CLUE’ ‘has no ideas’ ‘has no imagination’ ‘Comrade Harris’ ‘FAKE’ ‘fraud’ ‘Comrade Kamala’ ‘Comrade Kamala Harris’ ‘Communist’ ‘LIAR’ ‘Comrade Kamala Harris’ ‘Crooked Radical Left Politician’ ‘STONE COLD LOSER’ ‘Comrade Kamala Harris’ ‘Radical Left Marxist’ ‘Comrade Kamala Harris’ ‘Comrade Kamala Harris’ ‘Comrade Kamala Harris’ ‘Worst Vice President in the History of the United States’ ‘Comrade Kamala’ ‘Comrade Kamala Harris’ ‘Comrade Kamala Harris’ ‘Comrade Kamala Harris’ ‘Comrade Kamala Harris’ ‘Radical Left Marxist’ ‘Comrade Kamala Harris’ ‘Worst Vice President (and Border “Czar”) in the History of the United States’ ‘Comrade Kamala Harris’ ‘COMRADE KAMALA’ ‘Comrade Kamala Harris’ ‘Comrade Kamala Harris’ ‘Comrade Harris’ ‘Worst Vice President’ ‘Weakest Presidential Candidate’ ‘Comrade Kamala’ ‘Radical Left Marxist’ ‘Marxist Candidate’ ‘Comrade Kamala Harris’ ‘Radical Left, No Fracking Marxist’ ‘Comrade Kamala Harris’ ‘Comrade Kamala Harris’ ‘Comrade Kamala’ ‘Comrade Kamala Harris’ ‘Comrade Kamala Harris’ ‘Comrade Kamala’ ‘Comrade Kamala’ ‘Comrade Kamala’ ‘Comrade Kamala Harris’ ‘FAKE’ ‘Comrade Kamala Harris’ ‘Comrade Kamala Harris’ ‘totally inept’ ‘Comrade Kamala Harris’ ‘totally inept’ ‘COMRADE KAMALA HARRIS’ ‘Comrade Kamala Harris’ ‘Comrade Comrade Kamala Harris’ ‘fraud’ ‘Election WEAPONIZING MARXIST’ ‘Comrade Kamala Harris’ ‘COMRADE KAMALA’ ‘Comrade Kamala Harris’ ‘lies about everything’ ‘Lightweight V.P. Kamala Harris’ ‘Comrade Kamala Harris’ ‘weak’ ‘ineffective’ ‘Comrade Kamala Harris’ ‘Comrade Kamala Harris’ ‘Comrade Kamala Harris’ ‘Comrade Kamala’ ‘Comrade Kamala Harris’ ‘Comrade Kamala Harris’ ‘Comrade Kamala Harris’ ‘Communist’ ‘COMRADE KAMALA HARRIS’ ‘Crazy Kamala’ ‘Comrade Harris’ ‘Comrade Kamala Harris’ ‘Comrade Kamala Harris’ ‘Comrade Kamala Harris’ ‘Comrade Kamala Harris’ Mr. Trump told rallygoers in North Carolina last month that he’d had trouble coming up with a “name” for Ms. Harris, but that he was settling on “comrade.” “I think that’s the most accurate name,” he said. While both candidates also criticize each other on policy matters, Mr. Trump nearly always sprinkles in a personal jab (or two or three) about Ms. Harris. Attacks With a personal element Without a personal element Mr. Trump’s posts about Ms. Harris frequently include spelling mistakes, falsehoods and his distinctive style of grammar and capitalization. He spent a few days in August frequently calling Ms. Harris “Kamabla,” though he has since abandoned that moniker. Ms. Harris’s posts are more typical of a traditional politician. In making immigration a central theme of his campaign, Mr. Trump repeatedly and falsely calls Ms. Harris the Biden administration’s “border czar.” Ms. Harris notes that Mr. Trump pressured Republicans to oppose a bipartisan immigration deal. Lyin’ Kamala Harris, the Biden appointed “Border Czar” who never visited the Border, and whose incompetence gave us the WORST and MOST DANGEROUS Border anywhere in the World, has absolutely terrible pole numbers against a fine and brilliant young man named DONALD J. TRUMP! Donald Trump tanked the toughest bipartisan border security bill in decades because he thought it would help him win an election. Ms. Harris ties Mr. Trump to Project 2025, a set of conservative policy proposals that Mr. Trump has recently tried to distance himself from. Mr. Trump (falsely) claims Ms. Harris is a “communist” who will “destroy America.” We’re not ready for a Marxist President, and Lyin’ Kamala Harris is a RADICAL LEFT MARXIST, AND WORSE! Project 2025 is the blueprint for Trump to make himself the most powerful president ever. We can’t let him win. The vice president regularly reminds voters that Mr. Trump appointed the Supreme Court justices who voted to overturn Roe v. Wade. Mr. Trump rarely mentions reproductive rights. Donald Trump made his position clear when he hand-picked three Supreme Court justices to overturn Roe—which has decimated reproductive freedom and jeopardized IVF access for American women. I have never wavered on this, so believe me when I say: I will always protect reproductive freedom. Ms. Harris accuses Mr. Trump of only caring about wealthy Americans. The former president blames Ms. Harris for inflation. Of course there is a massive market downturn. Kamala is even worse than Crooked Joe. Markets will NEVER accept the Radical Left Lunatic that DESTROYED San Francisco and California, as a whole. Next move, THE GREAT DEPRESSION OF 2024! You can’t play games with MARKETS. KAMALA CRASH!!! Donald Trump fights for billionaires and large corporations. I will fight to give money back to working and middle-class Americans. Note: Data was collected through 4 p.m., Eastern time, on Sept. 6. The Times analyzed posts presented in the candidates’ own words on X (for Ms. Harris) and Truth Social (for Mr. Trump). Posts by the candidates’ campaigns and on other social media networks were not included. Retweets were not included except in the case of self-retweets. Tiff Fehr contributed reporting. Advertisement\n"
          ]
        }
      ]
    },
    {
      "cell_type": "code",
      "source": [
        "#List of RSS feeds\n",
        "\n",
        "#Fox News: Politics\n",
        "foxPolRSS = f\"https://moxie.foxnews.com/google-publisher/politics.xml\"\n",
        "#CNN News: Politics\n",
        "CNNPolRSS = f\"http://rss.cnn.com/rss/cnn_allpolitics.rss\"\n",
        "#NYT News: Politics\n",
        "NYTPolRSS = f\"https://rss.nytimes.com/services/xml/rss/nyt/Politics.xml\"\n",
        "#https://github.com/susannapaoli/web-scraper-nyt"
      ],
      "metadata": {
        "id": "sX7n4GKSzh5Q"
      },
      "execution_count": null,
      "outputs": []
    },
    {
      "cell_type": "code",
      "source": [
        "api_token_hug =\n",
        "\n",
        "\n",
        "# Following URL is the URL of the LLM being utilized from HuggingFace\n",
        "API_URL = \"https://api-inference.huggingface.co/models/google/flan-t5-xxl\"\n",
        "headers = {\"Authorization\": f\"Bearer {api_token_hug}\"}\n",
        "\n",
        "# Instructions sent to the LLM in front of article text\n",
        "system_input = \"Analyze the text content and assign a label from {left, right, center, uncertain}. In this context, “left” indicates a left-leaning article, “right” signifies a right-leaning article, “center” implies no obvious political leaning, and “uncertain” denotes that the political orientation could not be determined. Please provide your analysis and output a new single line containing only the assigned label.\"\n",
        "\n",
        "#reduce by 10% until it fits query\n",
        "reduction_fraction = 0.10\n",
        "\n",
        "\n",
        "\n",
        "result = reduce_and_query(article_text, system_input, reduction_fraction, headers)\n",
        "print(result)\n",
        "\n",
        "second_article = \"https://www.cnn.com/2024/03/19/politics/texas-immigration-law-blocked-appeals/index.html\"\n",
        "second_result = reduce_and_query(second_article, system_input, reduction_fraction, headers)\n",
        "print(second_result)\n",
        "\n",
        "third_article = \"https://www.cnn.com/videos/world/2024/03/20/israel-gaza-west-bank-settler-movement-clarissa-ward-pkg-intl-ldn-vpx.cnn\"\n",
        "third_result = reduce_and_query(third_article, system_input, reduction_fraction, headers)\n",
        "print(third_result)\n",
        "\n",
        "fourth_article = \"https://www.cnn.com/2024/03/19/politics/trump-bond-deadline-panic/index.html\"\n",
        "fourth_result = reduce_and_query(fourth_article, system_input, reduction_fraction, headers)\n",
        "print(fourth_result)\n",
        "\n",
        "fifth_article = \"https://www.foxnews.com/live-news/joe-biden-gop-impeachment-inquiry-hearing-hunter-biden-business-dealings\"\n",
        "fifth_result = reduce_and_query(fifth_article, system_input, reduction_fraction, headers)\n",
        "print(fifth_result)\n",
        "\n",
        "sixth_article = \"https://www.msnbc.com/deadline-white-house/deadline-legal-blog/trump-supreme-court-immunity-appeal-delay-rcna144155\"\n",
        "sixth_result = reduce_and_query(sixth_article, system_input, reduction_fraction, headers)\n",
        "print(sixth_result)\n",
        "\n",
        "seventh_article = \"https://www.msnbc.com/rachel-maddow-show/maddowblog/biden-white-house-reason-celebrate-falling-crime-rates-rcna144215\"\n",
        "seventh_result = reduce_and_query(seventh_article, system_input, reduction_fraction, headers)"
      ],
      "metadata": {
        "colab": {
          "base_uri": "https://localhost:8080/"
        },
        "id": "6-9ObRECI1s3",
        "outputId": "73da7875-7cb8-49e8-8d1b-141bdab26b23"
      },
      "execution_count": null,
      "outputs": [
        {
          "output_type": "stream",
          "name": "stdout",
          "text": [
            "[{'generated_text': 'left'}]\n",
            "[{'generated_text': 'uncertain'}]\n",
            "[{'generated_text': 'center'}]\n",
            "[{'generated_text': 'center'}]\n",
            "[{'generated_text': 'center'}]\n",
            "[{'generated_text': 'center'}]\n"
          ]
        }
      ]
    }
  ]
}
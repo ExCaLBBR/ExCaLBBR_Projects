{
  "nbformat": 4,
  "nbformat_minor": 0,
  "metadata": {
    "colab": {
      "provenance": [],
      "include_colab_link": true
    },
    "kernelspec": {
      "name": "python3",
      "display_name": "Python 3"
    },
    "language_info": {
      "name": "python"
    }
  },
  "cells": [
    {
      "cell_type": "markdown",
      "metadata": {
        "id": "view-in-github",
        "colab_type": "text"
      },
      "source": [
        "<a href=\"https://colab.research.google.com/github/ExCaLBBR/ExCaLBBR_Projects/blob/main/PartisanBiasDetection/NewsRSS_Scraper.ipynb\" target=\"_parent\"><img src=\"https://colab.research.google.com/assets/colab-badge.svg\" alt=\"Open In Colab\"/></a>"
      ]
    },
    {
      "cell_type": "code",
      "execution_count": 2,
      "metadata": {
        "id": "jzf4wY-T8Frl"
      },
      "outputs": [],
      "source": [
        "#@title Install Dependancies\n",
        "!pip install requests beautifulsoup4 --quiet\n",
        "\n",
        "#Import libraries\n",
        "import requests\n",
        "from bs4 import BeautifulSoup\n",
        "import time"
      ]
    },
    {
      "cell_type": "code",
      "source": [
        "# @title Define Utility Functions\n",
        "\n",
        "#Article Scrapper\n",
        "def scrape_article_text(url):\n",
        "    # Send a GET request to the URL\n",
        "    response = requests.get(url)\n",
        "    # Check if the request was successful\n",
        "    if response.status_code == 200:\n",
        "        # Parse the HTML content\n",
        "        soup = BeautifulSoup(response.text, 'html.parser')\n",
        "        # Find elements containing text - this part may need customization\n",
        "        # For example, assuming article text is within <p> tags\n",
        "        article_text = ' '.join(p.get_text() for p in soup.find_all('p'))\n",
        "        return article_text\n",
        "    else:\n",
        "        return \"Error: Unable to fetch the webpage.\"\n",
        "\n",
        "#Query for LLM\n",
        "def query(payload, headers):\n",
        "    response = requests.post(API_URL, headers=headers, json=payload)\n",
        "    if response.status_code == 200:\n",
        "        return response.json()  # Expecting this to always be a list for simplicity\n",
        "    else:\n",
        "        return [{\"error\": response.text}]\n",
        "\n",
        "#Political Bias Classification using LLM\n",
        "def reduce_and_query(initial_text, llm_instructions, reduction_fraction, headers):\n",
        "    text = initial_text\n",
        "    while True:\n",
        "        payload = {\"inputs\": llm_instructions + text}\n",
        "        response = query(payload, headers)\n",
        "        # Since we expect a list, check the first item for an 'error' key\n",
        "        if \"error\" in response[0]:\n",
        "            error_message = response[0][\"error\"]\n",
        "            if \"token\" in error_message.lower():\n",
        "                # Reduce the text by the specified fraction if it's a token limit error\n",
        "                new_length = int(len(text) * (1 - reduction_fraction))\n",
        "                text = text[:new_length]\n",
        "            else:\n",
        "                # Return the error message directly if it's a different kind of error\n",
        "                return error_message\n",
        "        else:\n",
        "            # If there's no 'error' key, assume the response is successful\n",
        "            return response"
      ],
      "metadata": {
        "id": "-1vSCujtWffV"
      },
      "execution_count": 3,
      "outputs": []
    },
    {
      "cell_type": "code",
      "source": [
        "#List of RSS feeds\n",
        "\n",
        "#Fox News: Politics\n",
        "foxPolRSS = f\"https://moxie.foxnews.com/google-publisher/politics.xml\"\n",
        "#CNN News: Politics\n",
        "CNNPolRSS = f\"http://rss.cnn.com/rss/cnn_allpolitics.rss\""
      ],
      "metadata": {
        "id": "sX7n4GKSzh5Q"
      },
      "execution_count": 46,
      "outputs": []
    },
    {
      "cell_type": "code",
      "source": [
        "url = foxPolRSS\n",
        "html_page = requests.get(url)\n",
        "soup = BeautifulSoup(html_page.text, \"lxml\")\n",
        "links = []\n",
        "for item in soup.find_all(\"item\"):\n",
        "  link= str(item)\n",
        "  i = link.find(\"<link/>\")\n",
        "  j = link.find(\"<guid\")\n",
        "  x = link[i+7:j]\n",
        "  y = x.split('\\n', 1)[0]\n",
        "  links.append(y)\n",
        "  print( link[i+7:j] )"
      ],
      "metadata": {
        "id": "5mml0I9kwLNy",
        "outputId": "c4d7fef5-5ab4-4c41-d15b-53af7a77d100",
        "colab": {
          "base_uri": "https://localhost:8080/"
        }
      },
      "execution_count": 55,
      "outputs": [
        {
          "output_type": "stream",
          "name": "stdout",
          "text": [
            "https://www.foxnews.com/politics/trump-classified-documents-judge-rules-motion-dismiss-case\n",
            "                        \n",
            "https://www.foxnews.com/politics/mike-lee-praises-trump-resisting-clinton-lawfare-warns-biden-slippery-slope\n",
            "                        \n",
            "https://www.foxnews.com/politics/trump-rallygoers-reveal-who-want-vice-president\n",
            "                        \n",
            "https://www.foxnews.com/politics/unaccompanied-minors-represent-themselves-federal-court-migrant-cases-surge\n",
            "                        \n",
            "https://www.foxnews.com/politics/dems-set-bring-up-next-reproductive-messaging-bill-ahead-2024-elections\n",
            "                        \n",
            "https://www.foxnews.com/politics/aoc-slammed-claim-false-accusations-antisemitism-wielded-against-people-color\n",
            "                        \n",
            "https://www.foxnews.com/politics/rep-mike-collins-staffer-robbed-gunpoint-dc-blames-pro-criminal-policies\n",
            "                        \n",
            "https://www.foxnews.com/politics/sen-john-fetterman-wife-gisele-involved-car-crash-maryland-sunday-morning\n",
            "                        \n",
            "https://www.foxnews.com/politics/un-halts-food-distribution-us-built-gaza-pier-due-safety-concerns\n",
            "                        \n",
            "https://www.foxnews.com/politics/georgia-republican-convicted-jan-6-riot-walks-out-house-primary-debate-ex-trump-admin-official\n",
            "                        \n",
            "https://www.foxnews.com/politics/senate-dem-doubles-down-old-alito-complaint-scotus-nears-trump-immunity-ruling\n",
            "                        \n",
            "https://www.foxnews.com/politics/former-trump-official-crucial-battleground-senate-race-major-endorsement-snub\n",
            "                        \n",
            "https://www.foxnews.com/politics/house-republicans-eviscerate-far-left-dems-skipping-netanyahu-speech\n",
            "                        \n",
            "https://www.foxnews.com/politics/trumps-california-swing-pays-off-republican-presidential-candidate-taps-blue-states-political-atm\n",
            "                        \n",
            "https://www.foxnews.com/politics/california-agrees-repay-feds-52m-improperly-claimed-immigrant-medicaid-disbursements\n",
            "                        \n",
            "https://www.foxnews.com/politics/1m-illegal-immigrants-could-given-amnesty-biden-faces-pressure-from-left-wing\n",
            "                        \n",
            "https://www.foxnews.com/politics/biden-admin-pushes-re-open-calif-immigrant-detention-center-amid-lingering-covid-era-freeze\n",
            "                        \n",
            "https://www.foxnews.com/politics/jurors-might-believe-hunter-biden-guilty-vote-acquit-him-anyway\n",
            "                        \n",
            "https://www.foxnews.com/politics/biden-admin-weighs-going-israel-negotiate-release-us-hostages-directly-hamas-report\n",
            "                        \n",
            "https://www.foxnews.com/politics/dei-pride-month-gender-ideology-house-gop-conservative-wins-ndaa\n",
            "                        \n",
            "https://www.foxnews.com/politics/trump-endorsement-battleground-state-another-victory-senate-republican-campaign-chair\n",
            "                        \n",
            "https://www.foxnews.com/politics/hunter-biden-not-testify-criminal-gun-trial\n",
            "                        \n",
            "https://www.foxnews.com/politics/youngkin-calls-out-pentagons-plan-gift-china-millions-rooftop-solar-panels\n",
            "                        \n",
            "https://www.foxnews.com/politics/hurricane-season-bears-down-bipartisan-lawmakers-push-detach-fema-from-partisan-dhs\n",
            "                        \n",
            "https://www.foxnews.com/politics/trump-participate-virtual-pre-sentencing-interview-probation-officers\n",
            "                        \n"
          ]
        },
        {
          "output_type": "stream",
          "name": "stderr",
          "text": [
            "<ipython-input-55-0713cfbf74f7>:3: XMLParsedAsHTMLWarning: It looks like you're parsing an XML document using an HTML parser. If this really is an HTML document (maybe it's XHTML?), you can ignore or filter this warning. If it's XML, you should know that using an XML parser will be more reliable. To parse this document as XML, make sure you have the lxml package installed, and pass the keyword argument `features=\"xml\"` into the BeautifulSoup constructor.\n",
            "  soup = BeautifulSoup(html_page.text, \"lxml\")\n"
          ]
        }
      ]
    },
    {
      "cell_type": "code",
      "source": [
        "#Test case\n",
        "# Change URL to get article text\n",
        "url = y\n",
        "article_text = scrape_article_text(url)\n",
        "print(article_text)"
      ],
      "metadata": {
        "id": "XoAiwRTm8Rk0",
        "outputId": "8a3121be-d54a-4d00-8f0d-e4be9466342e",
        "colab": {
          "base_uri": "https://localhost:8080/"
        }
      },
      "execution_count": 38,
      "outputs": [
        {
          "output_type": "stream",
          "name": "stdout",
          "text": [
            "\n",
            "      This material may not be published, broadcast, rewritten,\n",
            "      or redistributed. ©2024 FOX News Network, LLC. All rights reserved.\n",
            "      Quotes displayed in real-time or delayed by at least 15 minutes. Market data provided by\n",
            "      Factset. Powered and implemented by\n",
            "      FactSet Digital Solutions.\n",
            "      Legal Statement. Mutual Fund and ETF data provided by\n",
            "      Refinitiv Lipper.\n",
            "     Former President Trump joins ‘Hannity’ and discusses the raid on his Mar-a-Lago residence and his views on Attorney General Merrick Garland.  Former President Trump is set to take part in a virtual interview with New York probation officers Monday, before his sentencing hearing next month, the Trump campaign has confirmed. The former president and presumptive Republican presidential nominee was found guilty on all 34 counts of falsifying business records in the first degree last week. The six-week-long trial stemmed from charges brought by Manhattan District Attorney Alvin Bragg.  Trump is expected to be interviewed via video conference.  A pre-sentencing probation interview is often conducted to prepare a report for the judge to learn more about the defendant, and possibly help to determine the proper punishment for the crime.  TRUMP SAYS GUILTY VERDICT IS A 'SCAR' ON NEW YORK JUSTICE SYSTEM, VOWS TO 'KEEP FIGHTING' Former President Trump, flanked by attorneys Todd Blanche and Emil Bove, arrives for his criminal trial at the Manhattan Criminal Court in New York on May 29, 2024. (Jabin Botsford/Pool via Reuters) Trump’s sentencing date is set for July 11 — just four days before the Republican National Convention in Milwaukee, where he is expected to be formally nominated as the 2024 Republican presidential nominee.  \"President Trump has established a commanding polling lead in the battleground and Crooked Joe Biden is on the ropes. His Democrat party allies know it, so they continue to ramp up their ongoing Witch-Hunts, further abusing and misusing the power of their offices to interfere in the presidential election,\" Trump campaign communications director Steven Cheung told Fox News Digital. \"President Trump and his legal team are already taking necessary steps to challenge and defeat the lawless Manhattan DA case. The American People will not fall for the Biden-directed Hoaxes and will hold Crooked Joe and his comrades to account this fall.\" Trump is continuing to request Judge Juan Merchan terminate the gag order restricting him from speaking about witnesses and the case now that the trial has concluded, citing the 2024 election and the first debate against President Biden later this month, as well as his First Amendment rights and the rights of his supporters.  TRUMP GUILTY ON ALL COUNTS IN NEW YORK CRIMINAL TRIAL Merchan imposed a gag order on Trump before the trial began, barring Trump from making or directing others to make public statements about witnesses with regard to their potential participation or about counsel in the case — other than Bragg — or about court staff, DA staff or family members of staff. Trump's team repeatedly appealed the order and have been denied.  Former President Trump appears in Manhattan Criminal Court, May 30, 2024, in New York. (AP Photo/Seth Wenig, Pool) Trump was fined $10,000 for violating the gag order during the trial. Merchan also threatened Trump with jail time for further alleged violations. \"The last thing I want to consider is jail,\" Merchan said. \"You are [the] former president and possibly the next president.\"  CLICK HERE TO GET THE FOX NEWS APP \"The magnitude of that decision is not lost on me,\" Merchan said during the trial. \"Your continued willful violation of the court’s order … constitutes a direct attack … and will not be allowed to continue.… It is not allowed to continue.\"  The Associated Press contributed to this report.  Brooke Singman is a political correspondent and reporter for Fox News Digital, Fox News Channel and FOX Business. Get the latest updates from the 2024 campaign trail, exclusive interviews and more Fox News politics content. Subscribed You've successfully subscribed to this newsletter! \n",
            "        This material may not be published, broadcast, rewritten, or redistributed. ©2024 FOX News Network, LLC. All rights reserved. Quotes displayed in real-time or delayed by at least 15 minutes. Market data provided by\n",
            "        Factset. Powered and implemented by\n",
            "        FactSet Digital Solutions.\n",
            "        Legal Statement. Mutual Fund and ETF data provided by\n",
            "        Refinitiv Lipper.\n",
            "      \n"
          ]
        }
      ]
    },
    {
      "cell_type": "code",
      "source": [
        "api_token_hug =\n",
        "\n",
        "\n",
        "# Following URL is the URL of the LLM being utilized from HuggingFace\n",
        "API_URL = \"https://api-inference.huggingface.co/models/google/flan-t5-xxl\"\n",
        "headers = {\"Authorization\": f\"Bearer {api_token_hug}\"}\n",
        "\n",
        "# Instructions sent to the LLM in front of article text\n",
        "system_input = \"Analyze the text content and assign a label from {left, right, center, uncertain}. In this context, “left” indicates a left-leaning article, “right” signifies a right-leaning article, “center” implies no obvious political leaning, and “uncertain” denotes that the political orientation could not be determined. Please provide your analysis and output a new single line containing only the assigned label.\"\n",
        "\n",
        "#reduce by 10% until it fits query\n",
        "reduction_fraction = 0.10\n",
        "\n",
        "\n",
        "\n",
        "result = reduce_and_query(article_text, system_input, reduction_fraction, headers)\n",
        "print(result)\n",
        "\n",
        "second_article = \"https://www.cnn.com/2024/03/19/politics/texas-immigration-law-blocked-appeals/index.html\"\n",
        "second_result = reduce_and_query(second_article, system_input, reduction_fraction, headers)\n",
        "print(second_result)\n",
        "\n",
        "third_article = \"https://www.cnn.com/videos/world/2024/03/20/israel-gaza-west-bank-settler-movement-clarissa-ward-pkg-intl-ldn-vpx.cnn\"\n",
        "third_result = reduce_and_query(third_article, system_input, reduction_fraction, headers)\n",
        "print(third_result)\n",
        "\n",
        "fourth_article = \"https://www.cnn.com/2024/03/19/politics/trump-bond-deadline-panic/index.html\"\n",
        "fourth_result = reduce_and_query(fourth_article, system_input, reduction_fraction, headers)\n",
        "print(fourth_result)\n",
        "\n",
        "fifth_article = \"https://www.foxnews.com/live-news/joe-biden-gop-impeachment-inquiry-hearing-hunter-biden-business-dealings\"\n",
        "fifth_result = reduce_and_query(fifth_article, system_input, reduction_fraction, headers)\n",
        "print(fifth_result)\n",
        "\n",
        "sixth_article = \"https://www.msnbc.com/deadline-white-house/deadline-legal-blog/trump-supreme-court-immunity-appeal-delay-rcna144155\"\n",
        "sixth_result = reduce_and_query(sixth_article, system_input, reduction_fraction, headers)\n",
        "print(sixth_result)\n",
        "\n",
        "seventh_article = \"https://www.msnbc.com/rachel-maddow-show/maddowblog/biden-white-house-reason-celebrate-falling-crime-rates-rcna144215\"\n",
        "seventh_result = reduce_and_query(seventh_article, system_input, reduction_fraction, headers)"
      ],
      "metadata": {
        "colab": {
          "base_uri": "https://localhost:8080/"
        },
        "id": "6-9ObRECI1s3",
        "outputId": "73da7875-7cb8-49e8-8d1b-141bdab26b23"
      },
      "execution_count": 39,
      "outputs": [
        {
          "output_type": "stream",
          "name": "stdout",
          "text": [
            "[{'generated_text': 'left'}]\n",
            "[{'generated_text': 'uncertain'}]\n",
            "[{'generated_text': 'center'}]\n",
            "[{'generated_text': 'center'}]\n",
            "[{'generated_text': 'center'}]\n",
            "[{'generated_text': 'center'}]\n"
          ]
        }
      ]
    }
  ]
}
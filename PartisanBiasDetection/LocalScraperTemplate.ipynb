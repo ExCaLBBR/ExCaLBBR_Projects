{
  "nbformat": 4,
  "nbformat_minor": 0,
  "metadata": {
    "colab": {
      "provenance": [],
      "include_colab_link": true
    },
    "kernelspec": {
      "name": "python3",
      "display_name": "Python 3"
    },
    "language_info": {
      "name": "python"
    }
  },
  "cells": [
    {
      "cell_type": "markdown",
      "metadata": {
        "id": "view-in-github",
        "colab_type": "text"
      },
      "source": [
        "<a href=\"https://colab.research.google.com/github/ExCaLBBR/ExCaLBBR_Projects/blob/main/PartisanBiasDetection/LocalScraperTemplate.ipynb\" target=\"_parent\"><img src=\"https://colab.research.google.com/assets/colab-badge.svg\" alt=\"Open In Colab\"/></a>"
      ]
    },
    {
      "cell_type": "code",
      "execution_count": null,
      "metadata": {
        "id": "jzf4wY-T8Frl"
      },
      "outputs": [],
      "source": [
        "#@title Install Dependancies\n",
        "!pip install requests beautifulsoup4 --quiet\n",
        "\n",
        "#Import libraries\n",
        "import requests\n",
        "from bs4 import BeautifulSoup\n",
        "import time"
      ]
    },
    {
      "cell_type": "code",
      "source": [
        "# @title Define Utility Functions\n",
        "\n",
        "#Article Scrapper\n",
        "def scrape_article_text(url):\n",
        "    # Send a GET request to the URL\n",
        "    response = requests.get(url)\n",
        "    # Check if the request was successful\n",
        "    if response.status_code == 200:\n",
        "        # Parse the HTML content\n",
        "        soup = BeautifulSoup(response.text, 'html.parser')\n",
        "        # Find elements containing text - this part may need customization\n",
        "        # For example, assuming article text is within <p> tags\n",
        "        article_text = ' '.join(p.get_text() for p in soup.find_all('p'))\n",
        "        return article_text\n",
        "    else:\n",
        "        return \"Error: Unable to fetch the webpage.\"\n",
        "\n",
        "#Query for LLM\n",
        "def query(payload, headers):\n",
        "    response = requests.post(API_URL, headers=headers, json=payload)\n",
        "    if response.status_code == 200:\n",
        "        return response.json()  # Expecting this to always be a list for simplicity\n",
        "    else:\n",
        "        return [{\"error\": response.text}]\n",
        "\n",
        "#Political Bias Classification using LLM\n",
        "def reduce_and_query(initial_text, llm_instructions, reduction_fraction, headers):\n",
        "    text = initial_text\n",
        "    while True:\n",
        "        payload = {\"inputs\": llm_instructions + text}\n",
        "        response = query(payload, headers)\n",
        "        # Since we expect a list, check the first item for an 'error' key\n",
        "        if \"error\" in response[0]:\n",
        "            error_message = response[0][\"error\"]\n",
        "            if \"token\" in error_message.lower():\n",
        "                # Reduce the text by the specified fraction if it's a token limit error\n",
        "                new_length = int(len(text) * (1 - reduction_fraction))\n",
        "                text = text[:new_length]\n",
        "            else:\n",
        "                # Return the error message directly if it's a different kind of error\n",
        "                return error_message\n",
        "        else:\n",
        "            # If there's no 'error' key, assume the response is successful\n",
        "            return response"
      ],
      "metadata": {
        "id": "-1vSCujtWffV"
      },
      "execution_count": null,
      "outputs": []
    },
    {
      "cell_type": "code",
      "source": [
        "# CNN Article Link Scraper\n",
        "page = requests.get('https://www.cnn.com/politics')\n",
        "soup = BeautifulSoup(page.text, 'html.parser')\n",
        "allLinks = []\n",
        "link = \"https://www.cnn.com/politics\"\n",
        "for link in soup.find_all('a'):\n",
        "    allLinks.append(link.get('href'))\n",
        "allLinks = filter(None, allLinks)\n",
        "linkEnds = [i for i in allLinks if i.startswith('/2')]\n",
        "result = ['https://www.cnn.com' + i for i in linkEnds]\n",
        "CNN_links = set(result)\n",
        "CNN_links = list(CNN_links)"
      ],
      "metadata": {
        "id": "U36vKED56Kll"
      },
      "execution_count": null,
      "outputs": []
    },
    {
      "cell_type": "code",
      "source": [
        "#Fox News Article Text Link Scraper\n",
        "url = 'https://moxie.foxnews.com/google-publisher/politics.xml'\n",
        "html_page = requests.get(url)\n",
        "soup = BeautifulSoup(html_page.text, \"lxml\")\n",
        "links = []\n",
        "for item in soup.find_all(\"item\"):\n",
        "  link= str(item)\n",
        "  i = link.find(\"<link/>\")\n",
        "  j = link.find(\"<guid\")\n",
        "  x = link[i+7:j]\n",
        "  y = x.split('\\n', 1)[0]\n",
        "  links.append(y)\n",
        "FoxNews_links = links\n",
        "\n",
        "#Fox News Article Header Scraper\n",
        "headers = []\n",
        "for item in soup.find_all(\"item\"):\n",
        "  header= str(item)\n",
        "  i = header.find(\"<title>\")\n",
        "  j = header.find(\"</title>\")\n",
        "  x = header[i+7:j]\n",
        "  y = x.split('\\n', 1)[0]\n",
        "  headers.append(y)\n",
        "FoxNews_headers = headers\n",
        "\n",
        "#Fox News Article PubDate Scraper\n",
        "pubds = []\n",
        "for item in soup.find_all(\"item\"):\n",
        "  pubd= str(item)\n",
        "  i = pubd.find(\"<pubdate>\")\n",
        "  j = pubd.find(\"</pubdate>\")\n",
        "  x = pubd[i+9:j]\n",
        "  y = x.split('\\n', 1)[0]\n",
        "  pubds.append(y)\n",
        "FoxNews_pubdate = pubds"
      ],
      "metadata": {
        "id": "5mml0I9kwLNy",
        "outputId": "4ce79007-024c-42f0-cde5-e96303a13a7f",
        "colab": {
          "base_uri": "https://localhost:8080/"
        },
        "collapsed": true
      },
      "execution_count": null,
      "outputs": [
        {
          "output_type": "stream",
          "name": "stderr",
          "text": [
            "<ipython-input-25-1c78da776872>:4: XMLParsedAsHTMLWarning: It looks like you're parsing an XML document using an HTML parser. If this really is an HTML document (maybe it's XHTML?), you can ignore or filter this warning. If it's XML, you should know that using an XML parser will be more reliable. To parse this document as XML, make sure you have the lxml package installed, and pass the keyword argument `features=\"xml\"` into the BeautifulSoup constructor.\n",
            "  soup = BeautifulSoup(html_page.text, \"lxml\")\n"
          ]
        }
      ]
    },
    {
      "cell_type": "code",
      "source": [
        "#NYT Article Link Scraper\n",
        "url = 'https://rss.nytimes.com/services/xml/rss/nyt/Politics.xml'\n",
        "html_page = requests.get(url)\n",
        "soup = BeautifulSoup(html_page.text, \"lxml\")\n",
        "links = []\n",
        "for item in soup.find_all(\"item\"):\n",
        "  link= str(item)\n",
        "  i = link.find(\"<link/>\")\n",
        "  j = link.find(\"<guid\")\n",
        "  x = link[i+7:j]\n",
        "  y = x.split('\\n', 1)[0]\n",
        "  links.append(y)\n",
        "NYT_links = links"
      ],
      "metadata": {
        "id": "Dcsv7hwKb0wV",
        "outputId": "115a85a7-1f1d-4fb1-e3db-24d942299cb7",
        "colab": {
          "base_uri": "https://localhost:8080/"
        }
      },
      "execution_count": null,
      "outputs": [
        {
          "output_type": "stream",
          "name": "stderr",
          "text": [
            "<ipython-input-4-d5bd07c2d47a>:4: XMLParsedAsHTMLWarning: It looks like you're parsing an XML document using an HTML parser. If this really is an HTML document (maybe it's XHTML?), you can ignore or filter this warning. If it's XML, you should know that using an XML parser will be more reliable. To parse this document as XML, make sure you have the lxml package installed, and pass the keyword argument `features=\"xml\"` into the BeautifulSoup constructor.\n",
            "  soup = BeautifulSoup(html_page.text, \"lxml\")\n"
          ]
        }
      ]
    },
    {
      "cell_type": "code",
      "source": [
        "NYT_links"
      ],
      "metadata": {
        "colab": {
          "base_uri": "https://localhost:8080/"
        },
        "id": "nx1fPjupJNHj",
        "outputId": "d22958b8-2b85-434c-93e2-e608835d4843",
        "collapsed": true
      },
      "execution_count": null,
      "outputs": [
        {
          "output_type": "execute_result",
          "data": {
            "text/plain": [
              "['https://www.nytimes.com/2024/09/16/us/politics/senate-democrats-black-women.html',\n",
              " 'https://www.nytimes.com/2024/09/11/us/politics/undecided-voters-react-debate.html',\n",
              " 'https://www.nytimes.com/2024/09/11/us/politics/trump-debate-emotions.html',\n",
              " 'https://www.nytimes.com/2024/09/11/us/politics/trump-russia-ukraine-war.html',\n",
              " 'https://www.nytimes.com/2024/09/16/us/politics/musk-deleted-tweet-biden-kamala.html',\n",
              " 'https://www.nytimes.com/2024/09/16/business/energy-environment/pennsylvania-fracking-natural-gas-trump-harris.html',\n",
              " 'https://www.nytimes.com/2024/09/15/us/politics/trump-routh-ukraine-interview.html',\n",
              " 'https://www.nytimes.com/2024/09/15/us/politics/trump-shooting-suspect-routh.html',\n",
              " 'https://www.nytimes.com/2024/09/15/us/politics/trump-reaction-golf-shooting.html',\n",
              " 'https://www.nytimes.com/2024/09/15/us/politics/secret-service-trump-shooting.html',\n",
              " 'https://www.nytimes.com/2024/09/15/us/politics/trump-shooting-golf-course.html',\n",
              " 'https://www.nytimes.com/2024/09/15/us/politics/robert-f-kennedy-jr-trump-whale-carcass.html',\n",
              " 'https://www.nytimes.com/2024/09/15/us/politics/jd-vance-springfield-pets.html',\n",
              " 'https://www.nytimes.com/2024/09/15/upshot/election-young-women-liberal.html',\n",
              " 'https://www.nytimes.com/2024/09/15/us/politics/trump-aurora-colorado-immigration.html',\n",
              " 'https://www.nytimes.com/2024/09/15/us/politics/georgia-voting-2024-election.html',\n",
              " 'https://www.nytimes.com/2024/09/15/us/politics/new-mexico-election-abortion-border.html',\n",
              " 'https://www.nytimes.com/2024/09/14/us/politics/latino-voters-america-ferrera.html',\n",
              " 'https://www.nytimes.com/2024/09/14/us/politics/trump-tax-overtime-pay-cost.html',\n",
              " 'https://www.nytimes.com/2024/09/14/us/politics/don-jr-trump-haitian-migrants.html',\n",
              " 'https://www.nytimes.com/2024/09/14/us/politics/kamala-harris-pennsylvania-voters-economy.html',\n",
              " 'https://www.nytimes.com/2024/09/14/business/economy/tariffs-amazon-walmart-china-shein.html',\n",
              " 'https://www.nytimes.com/2024/09/14/us/politics/trump-jan-6-capitol-attack.html']"
            ]
          },
          "metadata": {},
          "execution_count": 5
        }
      ]
    },
    {
      "cell_type": "code",
      "source": [
        "#USA Today Article Link Scraper\n",
        "page = requests.get('https://www.usatoday.com/news/politics/')\n",
        "soup = BeautifulSoup(page.text, 'html.parser')\n",
        "allLinks = []\n",
        "link = \"https://www.usatoday.com/news/politics/\"\n",
        "for link in soup.find_all('a'):\n",
        "    allLinks.append(link.get('href'))\n",
        "allLinks = filter(None, allLinks)\n",
        "'''\n",
        "   /politics removes livestream & corrections & world politics\n",
        "   also removes other articles e.g. /investigation (ryan routh article)\n",
        "'''\n",
        "linkEnds = [i for i in allLinks if i.startswith('/story/news/politics')]\n",
        "result = ['https://www.usatoday.com' + i for i in linkEnds]\n",
        "USAToday_links = set(result)\n",
        "USAToday_links = list(USAToday_links)"
      ],
      "metadata": {
        "id": "_MdFJZGfhJdQ"
      },
      "execution_count": null,
      "outputs": []
    },
    {
      "cell_type": "code",
      "source": [
        "USAToday_links"
      ],
      "metadata": {
        "colab": {
          "base_uri": "https://localhost:8080/"
        },
        "id": "yRra-_aUJRDW",
        "outputId": "ef343ae6-6548-46ab-c08f-019cfb457a4d",
        "collapsed": true
      },
      "execution_count": null,
      "outputs": [
        {
          "output_type": "execute_result",
          "data": {
            "text/plain": [
              "['https://www.usatoday.com/story/news/politics/elections/2024/09/19/donald-trump-crypto-burgers-video/75293759007/',\n",
              " 'https://www.usatoday.com/story/news/politics/elections/2024/09/19/trump-melania-memoir/75290013007/',\n",
              " 'https://www.usatoday.com/story/news/politics/2024/09/18/donald-trumps-latest-campaign-focus-two-assassination-attempts/75268821007/',\n",
              " 'https://www.usatoday.com/story/news/politics/elections/2024/09/18/teamsters-not-endorse-harris-trump-2024-election/75279971007/',\n",
              " 'https://www.usatoday.com/story/news/politics/elections/2024/09/19/how-springfield-pet-eating-claim-reached-trump-debate/75289774007/',\n",
              " 'https://www.usatoday.com/story/news/politics/2024/09/19/threats-supreme-court-justices-alaska-kill/75291365007/',\n",
              " 'https://www.usatoday.com/story/news/politics/elections/2024/09/18/russian-election-interference-microsoft-report/75277862007/',\n",
              " 'https://www.usatoday.com/story/news/politics/elections/2024/09/18/joe-rogan-podcast-kamala-trump/75276328007/',\n",
              " 'https://www.usatoday.com/story/news/politics/2024/09/18/stopgap-funding-bill-fails-government-shutdown-deadline/75277688007/',\n",
              " 'https://www.usatoday.com/story/news/politics/elections/2024/09/18/trump-new-york-rally-gop-house-control/75274079007/',\n",
              " 'https://www.usatoday.com/story/news/politics/elections/2024/09/19/minnesota-and-virginia-kick-of-early-in-person-voting-this-september/75289053007/',\n",
              " 'https://www.usatoday.com/story/news/politics/elections/2024/09/19/tucker-carlson-kamala-harris-zyn-campaign-donations/75277836007/',\n",
              " 'https://www.usatoday.com/story/news/politics/elections/2024/09/19/melania-trump-defends-nude-modeling-work/75289304007/',\n",
              " 'https://www.usatoday.com/story/news/politics/elections/2024/09/18/kamala-harris-college-educational-history/75280590007/',\n",
              " 'https://www.usatoday.com/story/news/politics/elections/2024/09/19/trump-weaponize-harris-racial-identity-politics/75196397007/',\n",
              " 'https://www.usatoday.com/story/news/politics/elections/2024/09/18/marjorie-taylor-greene-mike-johnson-government-shutdown-resolution/75279094007/',\n",
              " 'https://www.usatoday.com/story/news/politics/elections/2024/09/18/fbi-iran-biden-trump-campaign/75284124007/',\n",
              " 'https://www.usatoday.com/story/news/politics/elections/2024/09/18/sarah-huckabee-sanders-biological-kids-insult/75277711007/']"
            ]
          },
          "metadata": {},
          "execution_count": 4
        }
      ]
    },
    {
      "cell_type": "code",
      "source": [
        "#NY Post Article Link Scraper\n",
        "#check lxml thing later\n",
        "url = 'https://nypost.com/politics/feed/'\n",
        "html_page = requests.get(url)\n",
        "soup = BeautifulSoup(html_page.text, \"lxml\")\n",
        "links = []\n",
        "for item in soup.find_all(\"item\"):\n",
        "  link= str(item)\n",
        "  i = link.find(\"<link/>\")\n",
        "  j = link.find(\"<guid\")\n",
        "  x = link[i+7:j]\n",
        "  y = x.split('\\n', 1)[0]\n",
        "  #remove videos\n",
        "  if not (y.startswith('https://nypost.com/video')):\n",
        "    links.append(y)\n",
        "NYPost_links = links"
      ],
      "metadata": {
        "id": "US_4hPNLmlqe"
      },
      "execution_count": null,
      "outputs": []
    },
    {
      "cell_type": "code",
      "source": [
        "NYPost_links"
      ],
      "metadata": {
        "colab": {
          "base_uri": "https://localhost:8080/"
        },
        "id": "pb66fnD_rU-V",
        "outputId": "40eb3db1-0e0b-4e7d-e11a-26ca45c4530a",
        "collapsed": true
      },
      "execution_count": null,
      "outputs": [
        {
          "output_type": "execute_result",
          "data": {
            "text/plain": [
              "[]"
            ]
          },
          "metadata": {},
          "execution_count": 15
        }
      ]
    },
    {
      "cell_type": "code",
      "source": [
        "#People Article Link Scraper\n",
        "page = requests.get('https://people.com/politics/')\n",
        "soup = BeautifulSoup(page.text, 'html.parser')\n",
        "allLinks = []\n",
        "link = \"https://people.com/politics/\"\n",
        "for link in soup.find_all('a'):\n",
        "    allLinks.append(link.get('href'))\n",
        "allLinks = filter(None, allLinks)\n",
        "#identifier for political articles seems to be a 7 digit # that starts w 87 at the end of the link\n",
        "#check to confirm, at least i got astrology out of there\n",
        "linkEnds = [i for i in allLinks if (len(i) > 8 and i[-7] == '8' and i[-6] == '7')]\n",
        "# result = ['https://people.com' + i for i in linkEnds]\n",
        "People_links = set(linkEnds)\n",
        "People_links = list(People_links)"
      ],
      "metadata": {
        "id": "_zLYbXfDsF-3"
      },
      "execution_count": null,
      "outputs": []
    },
    {
      "cell_type": "code",
      "source": [
        "People_links"
      ],
      "metadata": {
        "id": "eHlvVdhSxd5D",
        "colab": {
          "base_uri": "https://localhost:8080/"
        },
        "collapsed": true,
        "outputId": "8872ccfb-7317-4184-b13e-9149ef85f7d4"
      },
      "execution_count": null,
      "outputs": [
        {
          "output_type": "execute_result",
          "data": {
            "text/plain": [
              "['https://people.com/harris-walz-campaign-selling-20-dollar-friendship-bracelets-nod-taylor-swift-8710089',\n",
              " 'https://people.com/tim-walz-grateful-for-taylor-swift-endorsement-in-2024-election-as-fellow-cat-owner-8710072',\n",
              " 'https://people.com/springfield-ohio-schools-buildings-evacuated-over-bomb-threats-8712392',\n",
              " 'https://people.com/kamala-harris-exits-debate-watch-party-taylor-swift-song-the-man-8710086',\n",
              " 'https://people.com/caitlin-clark-kylie-kelce-like-taylor-swift-kamala-harris-endorsement-8710307',\n",
              " 'https://people.com/presidential-debate-full-recap-kamala-harris-donald-trump-8709955',\n",
              " 'https://people.com/taylor-swift-inspired-billboards-for-kamala-harris-appear-in-times-square-and-las-vegas-ready-for-it-8711886',\n",
              " 'https://people.com/fred-trump-iii-says-donald-trump-campaigning-will-get-nasty-exclusive-interview-8709522',\n",
              " 'https://people.com/tim-walz-family-tree-8706831',\n",
              " 'https://people.com/kamala-harris-donald-trump-handshake-presidential-debate-viral-moment-8710071',\n",
              " 'https://people.com/queen-elizabeth-didnt-like-donald-trump-new-documentary-claims-8706160',\n",
              " 'https://people.com/donald-trump-turns-down-second-debate-kamala-harris-8710373',\n",
              " 'https://people.com/caite-upton-miss-south-carolina-teen-usa-jd-vance-mock-viral-8706290',\n",
              " 'https://people.com/gayle-king-sent-dave-muir-linsey-davis-note-after-debate-exclusive-8712395',\n",
              " 'https://people.com/nasa-stranded-astronauts-voting-from-space-2024-election-8714110',\n",
              " 'https://people.com/barack-obama-is-charli-xcx-fan-365-brat-summer-8707709',\n",
              " 'https://people.com/bernice-king-talks-jimmy-carter-modern-day-politics-exclusive-interview-8714714',\n",
              " 'https://people.com/jimmy-carter-great-grandson-henry-vote-first-election-8714607',\n",
              " 'https://people.com/fred-trump-iii-interview-son-william-disability-advocacy-8706139',\n",
              " 'https://people.com/pharrell-williams-says-he-gets-annoyed-by-politics-8713972',\n",
              " 'https://people.com/donald-trump-niece-addresses-400-million-allowance-claim-8710162',\n",
              " 'https://people.com/donald-trump-releases-knockoff-eras-tour-campaign-shirts-8712522',\n",
              " 'https://people.com/donald-trump-says-taylor-swift-will-pay-price-for-harris-endorsement-8710309',\n",
              " 'https://people.com/caitlin-clark-explains-liking-taylor-swift-post-endorsing-kamala-harris-8711436',\n",
              " 'https://people.com/meghan-markle-and-prince-harry-speak-out-ahead-of-us-presidential-election-every-voice-matters-8714463',\n",
              " 'https://people.com/malia-obama-rare-red-carpet-appearance-deauville-american-film-festival-france-8708198',\n",
              " 'https://people.com/donald-trump-golf-partner-describes-moment-secret-service-stopped-assassination-attempt-8713982',\n",
              " 'https://people.com/rupert-murdoch-succession-battle-children-family-trust-8714031',\n",
              " 'https://people.com/aly-and-aj-2022-sacramento-shooting-new-song-sirens-exclusive-8712585',\n",
              " 'https://people.com/haitian-immigration-lawyer-says-ohio-clients-panicked-eating-pets-conspiracy-8711986',\n",
              " 'https://people.com/hunter-biden-plea-tax-trial-8706980',\n",
              " 'https://people.com/tim-walz-sister-doesnt-recognize-people-in-viral-nebraska-walz-for-trump-photo-we-dont-know-them-8706820',\n",
              " 'https://people.com/jimmy-carter-still-emotionally-engaged-ahead-of-100th-birthday-exclusive-interview-8714570',\n",
              " 'https://people.com/trump-biden-harris-rare-joint-appearance-9-11-memorial-8710114',\n",
              " 'https://people.com/jd-vance-baseless-claims-haitian-immigrants-are-eating-pets-refuted-by-ohio-officials-8709322',\n",
              " 'https://people.com/georgia-mom-dies-denied-life-saving-abortion-amber-nicole-thurman-8713947',\n",
              " 'https://people.com/laura-loomer-denies-donald-trump-affair-rumor-8714527',\n",
              " 'https://people.com/trump-attempted-assassination-suspect-allegedly-hid-twelve-hours-8713526',\n",
              " 'https://people.com/patrick-mahomes-doesnt-want-endorse-candidate-8710578',\n",
              " 'https://people.com/new-hampshire-governor-chris-sununu-saves-choking-contestant-lobster-roll-eating-competition-8709206',\n",
              " 'https://people.com/donald-trump-haitian-immigrant-pets-conspiracy-melissa-chataigne-interview-8710899',\n",
              " 'https://people.com/south-park-wont-return-until-2025-skipping-election-season-on-purpose-8707088',\n",
              " 'https://people.com/fbi-is-investigating-trump-golf-course-gunshots-as-attempted-assassination-of-donald-trump-8712848',\n",
              " 'https://people.com/candice-bergen-takes-dig-at-jd-vance-at-2024-emmys-8712977',\n",
              " 'https://people.com/donald-trump-safe-after-multiple-gunshots-fired-near-his-golf-course-florida-8712826',\n",
              " 'https://people.com/trump-rallygoers-mysterious-eye-injuries-after-tucson-event-8715196',\n",
              " 'https://people.com/ohio-women-spread-rumor-haitians-eating-cat-no-proof-8713260',\n",
              " 'https://people.com/dad-of-son-killed-haitian-immigrant-blasts-donald-trump-jd-vance-8710528',\n",
              " 'https://people.com/how-to-watch-presidential-debate-abc-news-8708386',\n",
              " 'https://people.com/melania-trump-spreads-assassination-attempt-conspiracy-theory-new-book-promo-8709560',\n",
              " 'https://people.com/biden-says-secret-service-needs-help-after-trump-assassination-attempt-8713285',\n",
              " 'https://people.com/donald-trump-says-he-hates-taylor-swift-after-singer-endorses-kamala-harris-8712806',\n",
              " 'https://people.com/hillbilly-elegy-director-ron-howard-says-he-is-very-surprised-disappointed-by-jd-vance-political-rhetoric-8709299',\n",
              " 'https://people.com/steve-kornacki-pays-tribute-mother-anne-dies-8715119',\n",
              " 'https://people.com/john-legend-praises-new-haitian-population-in-hometown-of-springfield-ohio-love-one-another-8712543',\n",
              " 'https://people.com/ben-and-jerrys-founders-reveal-kamala-harris-ice-cream-inspired-by-viral-coconut-meme-8710943',\n",
              " 'https://people.com/walkie-talkies-pagers-explode-lebanon-attacks-8714847',\n",
              " 'https://people.com/connie-britton-loves-tim-walz-wife-gwen-friday-night-lights-comparisons-eric-tami-taylor-exclusive-8712018',\n",
              " 'https://people.com/anthony-scaramucci-supports-kamala-harris-presidential-debate-8709706']"
            ]
          },
          "metadata": {},
          "execution_count": 11
        }
      ]
    },
    {
      "cell_type": "code",
      "source": [
        "#Daily Mail Article Link Scraper\n",
        "#this one\n",
        "page = requests.get('https://www.dailymail.co.uk/news/us-politics/index.html')\n",
        "soup = BeautifulSoup(page.text, 'html.parser')\n",
        "allLinks = []\n",
        "link = \"https://www.dailymail.co.uk/news/us-politics/index.html\"\n",
        "for link in soup.find_all('a'):\n",
        "    allLinks.append(link.get('href'))\n",
        "allLinks = filter(None, allLinks)\n",
        "linkEnds = [i for i in allLinks if i.startswith('/news/article')]\n",
        "result = ['https://www.dailymail.co.uk/' + i for i in linkEnds]\n",
        "DailyMail_links = set(result)\n",
        "DailyMail_links = list(DailyMail_links)"
      ],
      "metadata": {
        "id": "a34NKIqqyV_Y"
      },
      "execution_count": null,
      "outputs": []
    },
    {
      "cell_type": "code",
      "source": [
        "#Daily Mail RSS Article Link Scraper - articles not as relevant\n",
        "'''url = 'https://www.dailymail.co.uk/ushome/index.rss'\n",
        "html_page = requests.get(url)\n",
        "soup = BeautifulSoup(html_page.text, \"lxml\")\n",
        "links = []\n",
        "for item in soup.find_all(\"item\"):\n",
        "  link= str(item)\n",
        "  i = link.find(\"<link/>\")\n",
        "  j = link.find(\"<guid\")\n",
        "  x = link[i+7:j]\n",
        "  y = x.split('\\n', 1)[0]\n",
        "  links.append(y)\n",
        "dm_links = links\n",
        "list(set(DailyMail_links).intersection(dm_links))\n",
        "'''"
      ],
      "metadata": {
        "colab": {
          "base_uri": "https://localhost:8080/"
        },
        "id": "gEdpv5VjhTyi",
        "outputId": "497ec17c-ad77-4839-b181-136aebed4079"
      },
      "execution_count": null,
      "outputs": [
        {
          "output_type": "stream",
          "name": "stderr",
          "text": [
            "<ipython-input-43-a7f171d89de8>:4: XMLParsedAsHTMLWarning: It looks like you're parsing an XML document using an HTML parser. If this really is an HTML document (maybe it's XHTML?), you can ignore or filter this warning. If it's XML, you should know that using an XML parser will be more reliable. To parse this document as XML, make sure you have the lxml package installed, and pass the keyword argument `features=\"xml\"` into the BeautifulSoup constructor.\n",
            "  soup = BeautifulSoup(html_page.text, \"lxml\")\n"
          ]
        }
      ]
    },
    {
      "cell_type": "code",
      "source": [
        "DailyMail_links"
      ],
      "metadata": {
        "colab": {
          "base_uri": "https://localhost:8080/"
        },
        "collapsed": true,
        "id": "AjrYIcfsiNKy",
        "outputId": "478fe009-8dd7-4dad-8f2b-2cc22855f731"
      },
      "execution_count": null,
      "outputs": [
        {
          "output_type": "execute_result",
          "data": {
            "text/plain": [
              "['https://www.dailymail.co.uk//news/article-13758613/donald-trump-fitness-age-biden.html',\n",
              " 'https://www.dailymail.co.uk//news/article-13814919/Donald-Trump-Tim-Walz-family-endorsement.html',\n",
              " 'https://www.dailymail.co.uk//news/article-13848321/pope-francis-attack-donald-trump-kamala-harris-voters-election.html',\n",
              " 'https://www.dailymail.co.uk//news/article-13769887/donald-trump-afghanistan-national-security-policy.html',\n",
              " 'https://www.dailymail.co.uk//news/article-13812383/trump-border-policy-surge-voter-support-2024-election.html',\n",
              " 'https://www.dailymail.co.uk//news/article-13794527/Donald-Trump-responds-Arlington-Cemetery.html',\n",
              " 'https://www.dailymail.co.uk//news/article-13864615/george-clooney-offer-donald-trump-political-feud.html',\n",
              " 'https://www.dailymail.co.uk//news/article-13720397/Tim-Walz-military-service-Kyle-Miller-mother-Minnesota-Kamala-Harris-pick.html',\n",
              " 'https://www.dailymail.co.uk//news/article-13781693/polls-campaign-donald-trump-kamala-harris-presidential-election.html',\n",
              " 'https://www.dailymail.co.uk//news/article-13785689/Kamala-Harris-Marxist-father-Donald-travesty.html',\n",
              " 'https://www.dailymail.co.uk//news/article-13739835/kamala-harris-donald-trump-poll-wisconsin.html',\n",
              " 'https://www.dailymail.co.uk//news/article-13759257/Ron-Johnson-main-challenge-Donald-Trump-2024-election.html',\n",
              " 'https://www.dailymail.co.uk//news/article-13750591/kamala-harris-job-campaign-pronouns.html',\n",
              " 'https://www.dailymail.co.uk//news/article-13802015/Trump-Kamala-post-DNC-poll.html',\n",
              " 'https://www.dailymail.co.uk//news/article-13808353/trump-harris-campaign-final-weeks-2024-election.html',\n",
              " 'https://www.dailymail.co.uk//news/article-13766739/donald-trump-interview-intelligence-briefings.html',\n",
              " 'https://www.dailymail.co.uk//news/article-13781981/Trump-Space-Force-National-Guard.html',\n",
              " 'https://www.dailymail.co.uk//news/article-13724993/donald-trump-kamala-harris-debates-three.html',\n",
              " 'https://www.dailymail.co.uk//news/article-13767381/Bill-Clinton-Joe-Biden-dropping-Kamala-Harris.html',\n",
              " 'https://www.dailymail.co.uk//news/article-13836637/kamala-harris-taunt-trump-crowd-size-presidential-debate.html',\n",
              " 'https://www.dailymail.co.uk//news/article-13804895/Joe-Biden-Netanyahu-Hamas-hostage-vacation.html',\n",
              " 'https://www.dailymail.co.uk//news/article-13785263/JD-vance-Kamala-Harris-campaign-policy-trump.html',\n",
              " 'https://www.dailymail.co.uk//news/article-13805715/Kamala-harris-campaign-speech-teachers-union.html',\n",
              " 'https://www.dailymail.co.uk//news/article-13735487/doug-emhoff-kamala-harris-world-leaders-olympics.html',\n",
              " 'https://www.dailymail.co.uk//news/article-13793041/trump-aide-max-miller-divorce-emily-moreno-ohio-newborn-daughter.html',\n",
              " 'https://www.dailymail.co.uk//news/article-13868189/Diddy-bad-Epstein-says-cop-raided-disgraced-hip-hop-moguls-Miami-mansion-police-sex-rooms-used-host-freak-offs.html',\n",
              " 'https://www.dailymail.co.uk//news/article-13826725/nikki-haley-standby-donald-trump-election.html',\n",
              " 'https://www.dailymail.co.uk//news/article-13724391/minnesota-squad-ilhan-omar-ousted-congress.html',\n",
              " 'https://www.dailymail.co.uk//news/article-13781639/Biden-Kamala-Harris-accused-playing-border-stats-create-illusion-crossings-dropping-ground-zero-swing-state.html',\n",
              " 'https://www.dailymail.co.uk//news/article-13739189/donald-trump-kamala-harris-poll.html',\n",
              " 'https://www.dailymail.co.uk//news/article-13861739/republicans-donald-trump-assassination-attempt-security.html',\n",
              " 'https://www.dailymail.co.uk//news/article-13836457/kamla-harris-debate-handshake-donald-trump.html',\n",
              " 'https://www.dailymail.co.uk//news/article-13740547/tim-walz-praised-muslim-cleric-praised-hitler.html',\n",
              " 'https://www.dailymail.co.uk//news/article-13830255/donald-trump-election-model-kamala-harris.html',\n",
              " 'https://www.dailymail.co.uk//news/article-13657655/frank-biden-shocking-statement-joe.html',\n",
              " 'https://www.dailymail.co.uk//news/article-13817145/trump-government-audit-elon-musk-plans-2024-election.html',\n",
              " 'https://www.dailymail.co.uk//news/article-13848045/swing-state-voters-dogs-cats-ohio-donald-trump.html',\n",
              " 'https://www.dailymail.co.uk//news/article-13781657/Afghanistan-Gold-Star-father-tears-Kamala-Harris-bearing-responsibility-sons-death-three-years-13-troops-killed.html',\n",
              " 'https://www.dailymail.co.uk//news/article-13767563/The-Obama-Wes-Moore-sparks-frenzy-Democrats-2028-White-House-run-convention-speech-military-record-dig-Trump.html',\n",
              " 'https://www.dailymail.co.uk//news/article-13739243/trump-assassination-democrat-richie-torres-stripping-secret-service-powers.html',\n",
              " 'https://www.dailymail.co.uk//news/article-13781947/special-counsel-jack-smith-documents-donald-trump.html',\n",
              " 'https://www.dailymail.co.uk//news/article-13723407/JD-Vance-plane-donald-trump-weight-book.html',\n",
              " 'https://www.dailymail.co.uk//news/article-13778023/jd-vance-abortion-national-ban.html',\n",
              " 'https://www.dailymail.co.uk//news/article-13830031/republicans-revolt-speaker-mike-johnson-congress.html',\n",
              " 'https://www.dailymail.co.uk//news/article-13773063/RFK-Jr-Donald-Trump-voters-kamala-harris-poll.html',\n",
              " 'https://www.dailymail.co.uk//news/article-13759323/Jill-Biden-says-Joe-reached-deep-soul-deciding-not-run-braves-convention-speech-insiders-revealed-felt-betrayed-Democrats.html',\n",
              " 'https://www.dailymail.co.uk//news/article-13836911/jd-vance-explains-trump-claims-migrants-eating-cats-dogs.html',\n",
              " 'https://www.dailymail.co.uk//news/article-13821261/donald-trump-tower-court.html',\n",
              " 'https://www.dailymail.co.uk//news/article-13747811/anna-paulina-luna-odd-jobs-congress.html',\n",
              " 'https://www.dailymail.co.uk//news/article-13847885/Donald-Trump-Laura-Loomer-campaign.html',\n",
              " 'https://www.dailymail.co.uk//news/article-13767237/Rep-Mike-Waltz-says-isnt-convinced-Donald-Trump-shooter-Thomas-Crooks-acted-assassination-attempt.html',\n",
              " 'https://www.dailymail.co.uk//news/article-13856603/donald-trump-blames-kamala-harris-joe-biden-rhetoric-assassination-attempt.html',\n",
              " 'https://www.dailymail.co.uk//news/article-13750987/north-carolina-democratic-presidential-race.html',\n",
              " 'https://www.dailymail.co.uk//news/article-13737293/Trump-Musk-LIVE-X-interview-shaky-start-audio-stream-fails-load.html',\n",
              " 'https://www.dailymail.co.uk//news/article-13789463/supreme-court-deny-biden-studen-loan.html',\n",
              " 'https://www.dailymail.co.uk//news/article-13836561/Kamala-Harris-January-6-Civil-War-9-11.html',\n",
              " 'https://www.dailymail.co.uk//news/article-13736785/kamala-harris-donald-trump-gen-z-tiktok-2024-election.html',\n",
              " 'https://www.dailymail.co.uk//news/article-13853475/FBI-pictures-rifle-backpack-GoPro-Donald-Trump-assassin.html',\n",
              " 'https://www.dailymail.co.uk//news/article-13845817/donald-trump-laura-looner-maga-women-former-president.html',\n",
              " 'https://www.dailymail.co.uk//news/article-13865367/Donald-Trump-Ukrainian-President-Zelensky.html',\n",
              " 'https://www.dailymail.co.uk//news/article-13656865/Inside-White-House-cover-Biden-dropped-Joe-inner-circles-calculated-plot-hide-decline-backfired.html',\n",
              " 'https://www.dailymail.co.uk//news/article-13736869/trump-official-resigned-betsy-devos-return-white-house-win.html',\n",
              " 'https://www.dailymail.co.uk//news/article-13773083/kamala-harris-interview-commit-press-conference-fox-news-peter-doocy-dnc-democratic-candidate-vice-president-laugh.html',\n",
              " 'https://www.dailymail.co.uk//news/article-13763517/Tony-Evers-stumbles-Kamala-Harris-nomination-DNC.html',\n",
              " 'https://www.dailymail.co.uk//news/article-13758929/John-Fetterman-pennsylvania-comunications-director-israel.html',\n",
              " 'https://www.dailymail.co.uk//news/article-13813155/election-model-trump-kamala-2024-poll.html',\n",
              " 'https://www.dailymail.co.uk//news/article-13771115/Kamala-harris-dnc-nomination-president.html',\n",
              " 'https://www.dailymail.co.uk//news/article-13770399/kamala-harris-convention-speech-campaign-vibes.html',\n",
              " 'https://www.dailymail.co.uk//news/article-13780927/donald-trump-afghanistan-withdrawal-arlington-national-cemetery.html',\n",
              " 'https://www.dailymail.co.uk//news/article-13784447/doug-emhoff-jesse-watters-kamala-harris.html',\n",
              " 'https://www.dailymail.co.uk//news/article-13826619/trump-lead-poll-kamala-harris-honeymoon-election.html',\n",
              " 'https://www.dailymail.co.uk//news/article-13769367/chicago-delia-ramirez-warns-kamala-harris-donald-trump-voter-quirk.html',\n",
              " 'https://www.dailymail.co.uk//news/article-13797997/miss-teen-usa-star-jd-vance-embarrassing-video.html',\n",
              " 'https://www.dailymail.co.uk//news/article-13793709/Donald-Trump-Fidel-Castro-Justin-TrudeauRolling-Stones.html',\n",
              " 'https://www.dailymail.co.uk//news/article-13766469/rkf-jr-future-2024-presidential-election-candidate-endorse.html',\n",
              " 'https://www.dailymail.co.uk//news/article-13805595/democrats-senate-victory-state-election.html',\n",
              " 'https://www.dailymail.co.uk//news/article-13804899/kamala-harris-campaign-democrats-michigan.html',\n",
              " 'https://www.dailymail.co.uk//news/article-13766491/Maggots-Democrats-convention-FBI-hotel.html',\n",
              " 'https://www.dailymail.co.uk//news/article-13802425/trump-kamala-harris-presidential-debate-tulsi-gabbard-warning.html',\n",
              " 'https://www.dailymail.co.uk//news/article-13766741/tim-walz-vice-presidential-nomination-dnc-chicago.html',\n",
              " 'https://www.dailymail.co.uk//news/article-13758653/Trump-warns-Kamala-Harris-unleash-regulatory-jihad-energy-reveals-hell-use-nuclear-reactors-start-swing-state-tour.html',\n",
              " 'https://www.dailymail.co.uk//news/article-13868245/Harry-Meghan-help-Sussexes-decision-speak-election-bid-harvest-votes-Kamala-Harris-impress-woke-Hollywood-elite-UK-Republicans-say.html',\n",
              " 'https://www.dailymail.co.uk//news/article-13769355/poll-leading-congressional-district-nebraska-kamala-harris-donald-trump.html',\n",
              " 'https://www.dailymail.co.uk//news/article-13836785/Kamala-harris-donald-trump-winner-Debate-snap-poll.html',\n",
              " 'https://www.dailymail.co.uk//news/article-13805963/Tim-Walz-Megyn-Kelly-military-record-National-Guard-veterans.html',\n",
              " 'https://www.dailymail.co.uk//news/article-13735529/kamala-harris-tax-tips-donald-trump.html',\n",
              " 'https://www.dailymail.co.uk//news/article-13864887/jane-fonda-kamala-harris-michigan-fury-vietnam-veterans-1972-hanoi-jane.html',\n",
              " 'https://www.dailymail.co.uk//news/article-13657805/Trump-claims-Biden-never-COVID-ultimatum-Kamala-Harris-polling.html',\n",
              " 'https://www.dailymail.co.uk//news/article-13751541/tim-walz-china-republicans-scrutinize-trips-communist.html',\n",
              " 'https://www.dailymail.co.uk//news/article-13780951/arizona-cattle-rancher-border-cartels-migrants.html',\n",
              " 'https://www.dailymail.co.uk//news/article-13852533/Donald-Trump-Postal-Service-presidential-election-2024.html',\n",
              " 'https://www.dailymail.co.uk//news/article-13862401/Sarah-Huckabee-Sanders-kamala-harris-childless-cat-ladies-taylor-swift.html',\n",
              " 'https://www.dailymail.co.uk//news/article-13827235/joe-biden-afghanistan-withdrawal-taliban.html',\n",
              " 'https://www.dailymail.co.uk//news/article-13862109/jd-vance-kamala-harris-disgraceful-donald-trump-springfield-ohio-bomb-threats.html',\n",
              " 'https://www.dailymail.co.uk//news/article-13657081/Biden-decision-exit-race-staff-white-house-campaign.html',\n",
              " 'https://www.dailymail.co.uk//news/article-13735761/las-vegas-police-radio-calls-biden-covid.html',\n",
              " 'https://www.dailymail.co.uk//news/article-13843543/Marjorie-Taylor-Greene-MAGA-Laura-Loomer-Kamala-Harris-White-House.html',\n",
              " 'https://www.dailymail.co.uk//news/article-13865663/Diddy-kissing-mom-lips-arrest.html',\n",
              " 'https://www.dailymail.co.uk//news/article-13757117/President-Biden-committed-impeachable-offenses-relating-son-Hunters-foreign-business-deals-according-GOP-led-committee-report.html',\n",
              " 'https://www.dailymail.co.uk//news/article-13781717/Joe-biden-vacation-whos-running-country.html',\n",
              " 'https://www.dailymail.co.uk//news/article-13792439/Donald-Trump-Kamala-Harris-swing-states-battleground-polls-vote.html',\n",
              " 'https://www.dailymail.co.uk//news/article-13860703/haitian-immigrants-Springfield-Ohio-Trump-poll-eating-pets-cats-dogs-vance.html',\n",
              " 'https://www.dailymail.co.uk//news/article-13771357/trump-georgia-brian-kemp.html',\n",
              " 'https://www.dailymail.co.uk//news/article-13773619/robert-f-kennedy-trump-endorsement-drop-presidential-race.html',\n",
              " 'https://www.dailymail.co.uk//news/article-13831209/taylor-swift-hometown-2024-election-pennsylvania.html',\n",
              " 'https://www.dailymail.co.uk//news/article-13830607/chinese-spies-planted-americas-companies.html',\n",
              " 'https://www.dailymail.co.uk//news/article-13736523/illegal-immigrants-voting-government-shutdown.html',\n",
              " 'https://www.dailymail.co.uk//news/article-13784745/two-districts-2024-election-race-Trump-Harris.html',\n",
              " 'https://www.dailymail.co.uk//news/article-13838347/Trump-Kamala-meet-debate.html',\n",
              " 'https://www.dailymail.co.uk//news/article-13861165/Almost-half-Americans-shutting-government-stop-noncitizens-voting-poll-reveals.html',\n",
              " 'https://www.dailymail.co.uk//news/article-13793705/Donald-Trump-says-resume-federal-executions-president-cop-killers-child-rapists.html',\n",
              " 'https://www.dailymail.co.uk//news/article-13743349/tim-walz-dui-arrest-2024-election.html',\n",
              " 'https://www.dailymail.co.uk//news/article-13744445/Trump-Kamala-Harris-economy-copy-Tic-Tacs-inflation.html',\n",
              " 'https://www.dailymail.co.uk//news/article-13815041/Donald-Trump-debate-Kamala-Harris-ABC.html',\n",
              " 'https://www.dailymail.co.uk//news/article-13739409/donald-trump-elon-musk-republican-strategists-2024-election.html',\n",
              " 'https://www.dailymail.co.uk//news/article-13767503/oprah-winfrey-dnc-kamala-harris-childless-cat-lady-jd-vance.html',\n",
              " 'https://www.dailymail.co.uk//news/article-13721443/kamala-harris-tim-walz-gaza-protesters-detroit.html',\n",
              " 'https://www.dailymail.co.uk//news/article-13865019/MAGA-fans-reveal-really-infuriates-Trump-assassination-attempts-stop-going-rallies.html',\n",
              " 'https://www.dailymail.co.uk//news/article-13774101/secret-service-chief-timothy-burke-administrative-duties-trump-assassination-attempt.html',\n",
              " 'https://www.dailymail.co.uk//news/article-13839339/kamala-harris-debate-policy-fracking-border-guns.html',\n",
              " 'https://www.dailymail.co.uk//news/article-13744097/taliban-parade-Afghanistan-bagram-weapons.html',\n",
              " 'https://www.dailymail.co.uk//news/article-13865317/diddy-makes-bizarre-promise-begs-judge-let-jail.html',\n",
              " 'https://www.dailymail.co.uk//news/article-13763551/pro-hamas-mob-riot-police-burn-american-flag.html',\n",
              " 'https://www.dailymail.co.uk//news/article-13773447/Secret-Service-agents-Donald-Trump-shooting-Thomas-Matthew-Crooks.html',\n",
              " 'https://www.dailymail.co.uk//news/article-13836285/Donald-Trump-kamala-harris-presidential-debate.html',\n",
              " 'https://www.dailymail.co.uk//news/article-13853143/Shots-Trump-National-Golf-Club-Mar-Lago.html',\n",
              " 'https://www.dailymail.co.uk//news/article-13719935/tim-walz-tampon-tim-feminine-products-boys-bathrooms-school.html',\n",
              " 'https://www.dailymail.co.uk//news/article-13773421/aoc-reveals-democrat-driving-trump-jd-vance-nuts.html',\n",
              " 'https://www.dailymail.co.uk//news/article-13829679/watch-presidential-debate-Donald-Trump-Kamala-Harris.html',\n",
              " 'https://www.dailymail.co.uk//news/article-13781827/Trump-assassination-attempt-task-force-questions-Butler-rally-site.html',\n",
              " 'https://www.dailymail.co.uk//news/article-13805327/Venezuela-president-Nicolas-Maduro-jet-Dominican-Republic.html',\n",
              " 'https://www.dailymail.co.uk//news/article-13869459/diddy-baby-oil-freak-offs-die-jail-legal-peril.html',\n",
              " 'https://www.dailymail.co.uk//news/article-13829839/Donald-Trump-legalize-marijuana-Ron-DeSantis.html',\n",
              " 'https://www.dailymail.co.uk//news/article-13763401/kamala-harris-rally-trolls-trump-rnc-venue-milwaukee.html',\n",
              " 'https://www.dailymail.co.uk//news/article-13769519/Harris-star-turn-Democratic-convention.html',\n",
              " 'https://www.dailymail.co.uk//news/article-13785465/The-real-reason-Prince-Harry-golden-ticket-diplomatic-visa-U-S-getting-green-card-financial-dagger-heart-Royal-Family.html',\n",
              " 'https://www.dailymail.co.uk//news/article-13762825/chicago-business-furious-democrats-nightmare-national-convention.html',\n",
              " 'https://www.dailymail.co.uk//news/article-13839157/Joe-Biden-911-FDNY-chief-widow.html',\n",
              " 'https://www.dailymail.co.uk//news/article-13865923/Union-1-3-MILLION-members-makes-shocking-2024-election-announcement-despite-data-showing-rank-file-backing-Trump.html',\n",
              " 'https://www.dailymail.co.uk//news/article-13802161/ex-trump-official-kamala-harris-debate-warning.html',\n",
              " 'https://www.dailymail.co.uk//news/article-13763669/Michelle-Obama-delivers-series-blistering-insults-Trump-gives-brutal-one-liner-black-jobs-speech-roaring-Democratic-convention.html',\n",
              " 'https://www.dailymail.co.uk//news/article-13857469/trump-suspect-ryan-wesley-routh-known-fbi-history.html',\n",
              " 'https://www.dailymail.co.uk//news/article-13761677/JD-Vance-rips-disgusting-Democrat-rape.html',\n",
              " 'https://www.dailymail.co.uk//news/article-13759713/dnc-protestors-americans-abandon-kamala-harris.html',\n",
              " 'https://www.dailymail.co.uk//news/article-13864849/Cops-explosives-car-near-Trump-rally-Long-Island-second-assassination-attempt.html',\n",
              " 'https://www.dailymail.co.uk//news/article-13750565/republican-rich-hudson-warning-election.html',\n",
              " 'https://www.dailymail.co.uk//news/article-13865391/MAGA-Anna-Paulina-Luna-office-shooting-threat.html',\n",
              " 'https://www.dailymail.co.uk//news/article-13751577/JD-Vance-plane-Trump-force-emergency-landing.html',\n",
              " 'https://www.dailymail.co.uk//news/article-13836533/donald-trump-kamala-harris-late-term-abortions-kill-baby.html',\n",
              " 'https://www.dailymail.co.uk//news/article-13818701/Kamala-Harris-presidential-debate-Donald-Trump-ABC.html',\n",
              " 'https://www.dailymail.co.uk//news/article-13664787/Biden-deathly-Air-Force-One-covid-isolation-secret-rush.html',\n",
              " 'https://www.dailymail.co.uk//news/article-13838929/Donald-Trump-ABC-News-license-debate-fact-checks.html',\n",
              " 'https://www.dailymail.co.uk//news/article-13763483/Tim-Walz-Gwen-Walz-Kamala-Harris-grammar-bus.html',\n",
              " 'https://www.dailymail.co.uk//news/article-13759927/Ron-Johnson-FBI-botched-investigation-Donald-Trump-assassination-attempt.html',\n",
              " 'https://www.dailymail.co.uk//news/article-13804721/Trump-Kamala-Harris-debate-nasty-Pence.html',\n",
              " 'https://www.dailymail.co.uk//news/article-13823101/afghan-special-tyrant-joe-Biden-withdrawal.html',\n",
              " 'https://www.dailymail.co.uk//news/article-13857445/ronald-reagan-kamala-harris-donald-trump.html',\n",
              " 'https://www.dailymail.co.uk//news/article-13788009/Election-forecaster-shifts-2024-prediction-North-Carolina-race-Donald-Trump-Kamala-Harris.html',\n",
              " 'https://www.dailymail.co.uk//news/article-13830885/donald-trump-kamala-harris-voters-poll.html',\n",
              " 'https://www.dailymail.co.uk//news/article-13747541/Top-Minnesota-lawmaker-dishes-Gov-Tim-Walz-leading-state-economic-disaster.html',\n",
              " 'https://www.dailymail.co.uk//news/article-13836367/kamala-harris-donald-trump-debate-takeaways.html',\n",
              " 'https://www.dailymail.co.uk//news/article-13814501/Liz-Cheney-voting-Kamala-Harris-Donald-Trump.html',\n",
              " 'https://www.dailymail.co.uk//news/article-13759029/2024-democratic-party-platform-revealed-joe-biden-second-term.html',\n",
              " 'https://www.dailymail.co.uk//news/article-13771481/Donald-Trump-takedown-Kamala-Harris-convention-speech.html',\n",
              " 'https://www.dailymail.co.uk//news/article-13763733/Barack-Obama-obsession-crowd-size-Kamala-Harris.html',\n",
              " 'https://www.dailymail.co.uk//news/article-13743591/Barron-Trumps-influencer-best-friend-reveals-advice-Gen-Z-voters-thinking-voting-Kamala-Harris-Donald.html',\n",
              " 'https://www.dailymail.co.uk//news/article-13788383/Kamala-Harris-Tim-Walz-interview-CNN.html',\n",
              " 'https://www.dailymail.co.uk//news/article-13813775/americans-want-ban-china-land-purchase-america.html',\n",
              " 'https://www.dailymail.co.uk//news/article-13732843/poll-economy-Donald-Trump-Kamala-Harris-election.html',\n",
              " 'https://www.dailymail.co.uk//news/article-13765925/bill-pascrell-democrat-congress-new-jersey-death.html',\n",
              " 'https://www.dailymail.co.uk//news/article-13763317/jimmy-carter-grandson-jason-vote-kamala-harris.html',\n",
              " 'https://www.dailymail.co.uk//news/article-13861847/barron-trump-don-jr-cryptocurrency.html',\n",
              " 'https://www.dailymail.co.uk//news/article-13856309/trump-assassination-attempt-ryan-wesley-routh-florida-court.html',\n",
              " 'https://www.dailymail.co.uk//news/article-13791063/Swing-state-poll-shows-presidential-candidate-closing-gap-four-crucial-battlegrounds-RFK-Jr-dropped-out.html',\n",
              " 'https://www.dailymail.co.uk//news/article-13759649/pelosi-anita-dunn-biden.html',\n",
              " 'https://www.dailymail.co.uk//news/article-13848635/kamala-harris-trump-country-pennsylvania-heckler-war-criminal.html',\n",
              " 'https://www.dailymail.co.uk//news/article-13866745/Harry-Meghan-publicly-neutral-presidential-election-Joe-Biden-Trump.html',\n",
              " 'https://www.dailymail.co.uk//news/article-13780647/Lawmakers-head-Butler-Pennsylvania-gather-firsthand-facts-Trump-shooting-ground-zero-Secret-Service-slow-walks-information.html',\n",
              " 'https://www.dailymail.co.uk//news/article-13860599/politics-newsletter-2024-presidential-election-daily-mail.html',\n",
              " 'https://www.dailymail.co.uk//news/article-13778655/barron-trump-college-nyu-stern-business-donald-son.html',\n",
              " 'https://www.dailymail.co.uk//news/article-13738331/donald-trump-elon-musk-venezuela-flee-election-migrants.html',\n",
              " 'https://www.dailymail.co.uk//news/article-13755989/jill-biden-joe-kamala-harris-convention-speech.html',\n",
              " 'https://www.dailymail.co.uk//news/article-13832057/kamala-harris-donald-trump-obama-ad-crowd-size.html',\n",
              " 'https://www.dailymail.co.uk//news/article-13766485/Trump-bulletproof-glass-hug-woman-crowd-DNC.html',\n",
              " 'https://www.dailymail.co.uk//news/article-13733019/Sami-Sadat-Afghanistan-general-withdrawal-Taliban-Biden.html',\n",
              " 'https://www.dailymail.co.uk//news/article-13808273/biden-secret-service-trump-assassination.html',\n",
              " 'https://www.dailymail.co.uk//news/article-13793837/kamala-harris-record-prosecutor-california.html',\n",
              " 'https://www.dailymail.co.uk//news/article-13758917/dnc-abortions-mobile-clinic-outrage.html',\n",
              " 'https://www.dailymail.co.uk//news/article-13838945/mike-johnson-spending-bill-scrapped-republican-chaos.html',\n",
              " 'https://www.dailymail.co.uk//news/article-13812137/trump-assassination-attempt-secret-service-whistleblower-security-training-details.html',\n",
              " 'https://www.dailymail.co.uk//news/article-13830741/Nancy-Pelosi-Joe-Biden-view.html',\n",
              " 'https://www.dailymail.co.uk//news/article-13865655/miss-sassy-truth-jd-vance-haiti-migrants.html',\n",
              " 'https://www.dailymail.co.uk//news/article-13818285/Trump-unveils-plans-U-S-sovereign-wealth-fund-like-Saudi-Arabia-reveals-pay-it.html',\n",
              " 'https://www.dailymail.co.uk//news/article-13836791/Trump-rips-Kamala-interrupting-presidential-debate.html',\n",
              " 'https://www.dailymail.co.uk//news/article-13806021/kamala-harris-joe-biden-pittsburgh-campaign.html',\n",
              " 'https://www.dailymail.co.uk//news/article-13823393/biden-administration-jen-psaki-afghanistan.html',\n",
              " 'https://www.dailymail.co.uk//news/article-13781129/mormons-trump-critical-state-win-presidential-election.html',\n",
              " 'https://www.dailymail.co.uk//news/article-13852543/JD-Vance-Donald-Trump-abortion-2024.html',\n",
              " 'https://www.dailymail.co.uk//news/article-13865861/abc-communications-kamala-harris-campaign-reject-whistleblower.html',\n",
              " 'https://www.dailymail.co.uk//news/article-13836677/taylor-swift-endorsed-kamala-harris-presidential-debate-2024.html',\n",
              " 'https://www.dailymail.co.uk//news/article-13784147/melania-trump-book-memoir-best-seller.html',\n",
              " 'https://www.dailymail.co.uk//news/article-13767445/nancy-pelosi-thank-joe-biden-convention-speech.html',\n",
              " 'https://www.dailymail.co.uk//news/article-13744233/CNN-anchor-asks-kamala-harris-aide-no-press-conferences.html',\n",
              " 'https://www.dailymail.co.uk//news/article-13809549/kamala-harris-new-tax-deduction-small-businesses.html',\n",
              " 'https://www.dailymail.co.uk//news/article-13857521/white-house-response-elon-musk-assassination-joe-biden-kamala-harris.html',\n",
              " 'https://www.dailymail.co.uk//news/article-13767257/From-window-Walz-mastermind-Lil-Jons-surprise-entrance-Democratic-National-Convention-reveals-pulled-off.html',\n",
              " 'https://www.dailymail.co.uk//news/article-13804861/biden-harris-officials-business-experience.html',\n",
              " 'https://www.dailymail.co.uk//news/article-13725389/Donald-Trump-doubles-claims-Kamala-Harris-recently-decided-black-insists-disrespectful.html',\n",
              " 'https://www.dailymail.co.uk//news/article-13585511/Joe-Biden-drops-2024-presidential-race-debate-disaster.html',\n",
              " 'https://www.dailymail.co.uk//news/article-13816839/melania-trump-memoir-tease-bestseller-list-release-date.html',\n",
              " 'https://www.dailymail.co.uk//news/article-13821481/kamala-harris-plastic-straws-ban-fox-news.html',\n",
              " 'https://www.dailymail.co.uk//news/article-13735447/Kamala-Harris-Dana-Walden-Trump-debate-ABC.html',\n",
              " 'https://www.dailymail.co.uk//news/article-13816965/Hunter-Biden-arrives-tax-evasion-trial-begins-LA-wife-melissa-cohen.html',\n",
              " 'https://www.dailymail.co.uk//news/article-13725047/Trump-not-worried-Kamala-crowd-sizes-attracts-MLK-audience.html',\n",
              " 'https://www.dailymail.co.uk//news/article-13755147/donald-trump-steal-limelight-kamala-harris-dnc-2024.html',\n",
              " 'https://www.dailymail.co.uk//news/article-13781351/kamala-harris-afghanistan-joe-biden-laughs.html',\n",
              " 'https://www.dailymail.co.uk//news/article-13809373/donald-trump-interview-mar-lago.html',\n",
              " 'https://www.dailymail.co.uk//news/article-13817103/Donald-Trumps-January-6-Mike-Pence-Tanya-Chutkan.html',\n",
              " 'https://www.dailymail.co.uk//news/article-13664813/kamala-harris-trump-election-polling-momentum-shift-race.html',\n",
              " 'https://www.dailymail.co.uk//news/article-13762979/matt-gaetz-wins-primary-florida-mccarthy.html',\n",
              " 'https://www.dailymail.co.uk//news/article-13760907/kamala-harris-message-joe-Biden-emotional-DNC-speech.html',\n",
              " 'https://www.dailymail.co.uk//news/article-13857515/Trump-suspect-Ryan-Routh-stalked-golf-course.html',\n",
              " 'https://www.dailymail.co.uk//news/article-13669929/joe-biden-speech-president-address-nation.html',\n",
              " 'https://www.dailymail.co.uk//news/article-13864623/Diddy-empire-threat-arres-sex-trafficking-claims.html',\n",
              " 'https://www.dailymail.co.uk//news/article-13790179/donald-trump-cnn-questions-kamala-harris-interview-democratic-candidate-election.html',\n",
              " 'https://www.dailymail.co.uk//news/article-13781431/migrants-arizona-cities-cartels-robbed-gunpoint.html',\n",
              " 'https://www.dailymail.co.uk//news/article-13811063/Democrats-believe-Kamala-Harris-boost-win-South-donald-trump.html',\n",
              " 'https://www.dailymail.co.uk//news/article-13778133/jd-vance-apology-childless-cat-lady.html',\n",
              " 'https://www.dailymail.co.uk//news/article-13763275/stephanie-grisham-democratic-national-convention-donald-trump.html',\n",
              " 'https://www.dailymail.co.uk//news/article-13865247/sean-diddy-combs-central-park-frisbee-arrest.html',\n",
              " 'https://www.dailymail.co.uk//news/article-13757915/george-santos-pleads-guilty-campaign-fraud-charges.html',\n",
              " 'https://www.dailymail.co.uk//news/article-13748441/Nancy-Pelosi-forced-Biden-quit-brutal-phone-call-ultimatum.html',\n",
              " 'https://www.dailymail.co.uk//news/article-13766873/Donald-Trump-rejects-totally-false-claims-rude-Queen-Elizabeth-favorite-president.html',\n",
              " 'https://www.dailymail.co.uk//news/article-13728703/kamala-harris-metoo-sexual-harrassment.html',\n",
              " 'https://www.dailymail.co.uk//news/article-13857991/Trump-reveals-assassination-attempts-mean.html',\n",
              " 'https://www.dailymail.co.uk//news/article-13825833/Trump-donors-skullduggery-25th-amendment.html',\n",
              " 'https://www.dailymail.co.uk//news/article-13827593/Kamala-Harris-president-swing-state-governor.html',\n",
              " 'https://www.dailymail.co.uk//news/article-13838575/Kamala-Harris-Donald-Trump-debate-vibes-poll.html',\n",
              " 'https://www.dailymail.co.uk//news/article-13749353/Thomas-Crooks-Trump-assassination-body.html',\n",
              " 'https://www.dailymail.co.uk//news/article-13775141/Trump-warning-police-association-president-Arizona-rally.html',\n",
              " 'https://www.dailymail.co.uk//news/article-13792467/donald-trump-abortion-florida-ban.html',\n",
              " 'https://www.dailymail.co.uk//news/article-13736435/White-House-says-braced-Iranian-strikes-Israel-DAYS-carrier-strike-group-missile-sub-race-region.html',\n",
              " 'https://www.dailymail.co.uk//news/article-13853239/kamala-harris-new-accent-black-caucus-dinner.html',\n",
              " 'https://www.dailymail.co.uk//news/article-13771479/dnc-beyonce-no-kamala-harris.html',\n",
              " 'https://www.dailymail.co.uk//news/article-13795011/Kamala-harris-cnn-interview-joe-biden-donald-trump-tim-walz.html',\n",
              " 'https://www.dailymail.co.uk//news/article-13860815/kamala-harris-donald-trump-taylors-swift-nicky-jam.html',\n",
              " 'https://www.dailymail.co.uk//news/article-13797037/kamala-harris-cnn-interview-tim-walz.html',\n",
              " 'https://www.dailymail.co.uk//news/article-13771199/ella-emhoff-kamala-harris-dnc.html',\n",
              " 'https://www.dailymail.co.uk//news/article-13826051/George-W-Bush-final-decision-presidential-race.html',\n",
              " 'https://www.dailymail.co.uk//news/article-13785617/special-counsel-new-indictment-donald-trump-january-6-election-interference.html',\n",
              " 'https://www.dailymail.co.uk//news/article-13847493/abc-denies-debate-collusion-kamala-harris-donald-trump.html',\n",
              " 'https://www.dailymail.co.uk//news/article-13739373/ilhan-omar-minnesota-primary-polls.html',\n",
              " 'https://www.dailymail.co.uk//news/article-13848827/biden-scolds-reporter-british-prime-minister.html',\n",
              " 'https://www.dailymail.co.uk//news/article-13812421/kamala-harris-donald-trump-new-hampshire-battleground.html',\n",
              " 'https://www.dailymail.co.uk//news/article-13766827/donald-trump-barack-michelle-obama-kamala-Harris.html',\n",
              " 'https://www.dailymail.co.uk//news/article-13720699/maryland-larry-hogan-tim-walz-VP-kamala-harris-unexpected-quirk.html',\n",
              " 'https://www.dailymail.co.uk//news/article-13743501/joe-biden-president-white-house-poll-age.html',\n",
              " 'https://www.dailymail.co.uk//news/article-13861441/senate-ivf-treatment-legislation-election-2024.html',\n",
              " 'https://www.dailymail.co.uk//news/article-13795107/tim-walz-questions-military-service-weapons-ivf.html',\n",
              " 'https://www.dailymail.co.uk//news/article-13744129/J-D-Vance-press-Kamala-Harris-2024-election.html',\n",
              " 'https://www.dailymail.co.uk//news/article-13767601/tim-walz-gus-hope-gwen-tears-dnc.html',\n",
              " 'https://www.dailymail.co.uk//news/article-13822911/Dick-Cheney-Donald-Trump-Kamala-Harris-presidential-election-vote.html',\n",
              " 'https://www.dailymail.co.uk//news/article-13868151/The-major-differences-Royal-Scandal-Netflixs-Scoop-new-Prince-Andrew-drama-released-Amazon-Prime.html',\n",
              " 'https://www.dailymail.co.uk//news/article-13792805/Trump-Kamala-Harris-presidential-debate.html',\n",
              " 'https://www.dailymail.co.uk//news/article-13794039/army-trump-arlington-national-cemetery-worker-pushed.html',\n",
              " 'https://www.dailymail.co.uk//news/article-13867345/Donald-Trump-Kamala-Harris-key-swing-state-poll.html',\n",
              " 'https://www.dailymail.co.uk//news/article-13808799/anti-trump-ads-swing-states-presidential-election.html',\n",
              " 'https://www.dailymail.co.uk//news/article-13793273/donald-trump-melania-barron-mar-lago-influencer-campaign.html',\n",
              " 'https://www.dailymail.co.uk//news/article-13785223/kamala-harris-oakland-berkley-san-francisco-california.html',\n",
              " 'https://www.dailymail.co.uk//news/article-13838403/Donald-Trump-debate-Fox-News.html',\n",
              " 'https://www.dailymail.co.uk//news/article-13809453/Donald-Trump-Joe-Rogan-podcast-2024.html',\n",
              " 'https://www.dailymail.co.uk//news/article-13809479/republicans-kamala-harris-iran-phil-gordon-hamas-hostages.html',\n",
              " 'https://www.dailymail.co.uk//news/article-13750717/chicago-democratic-national-committee-thousands-illegal-migrants-bus.html',\n",
              " 'https://www.dailymail.co.uk//news/article-13781545/Former-Democrat-Tulsi-Gabbard-announces-joining-Donald-Trumps-campaign-one-main-reason.html',\n",
              " 'https://www.dailymail.co.uk//news/article-13793267/ABC-News-DENIES-Kamala-Harris-hot-mic-Donald-Trump.html',\n",
              " 'https://www.dailymail.co.uk//news/article-13839867/Trump-Harris-debate-ratings.html',\n",
              " 'https://www.dailymail.co.uk//news/article-13720583/White-House-Squad-attack-Cori-Bush-meltdown.html',\n",
              " 'https://www.dailymail.co.uk//news/article-13770911/donald-trump-migrant-death-penalty-policy-cochise-county-arizona.html',\n",
              " 'https://www.dailymail.co.uk//news/article-13766091/hotties-harris-dnc-party-plan-b-gumball-machine.html',\n",
              " 'https://www.dailymail.co.uk//news/article-13839825/paralyzed-stuntman-jonathan-goodwin-simon-cowell-americas-got-talent-accident.html',\n",
              " 'https://www.dailymail.co.uk//news/article-13751013/kamala-harris-bail-fund-attack-lines.html',\n",
              " 'https://www.dailymail.co.uk//news/article-13659831/secret-service-director-kimberly-cheatle-congress-grilled-trump-shooting.html',\n",
              " 'https://www.dailymail.co.uk//news/article-13794027/College-athlete-Lily-Meskers-Montana-Democrat-Jon-Tester.html',\n",
              " 'https://www.dailymail.co.uk//news/article-13862649/Donald-Trump-secret-service-golf.html',\n",
              " 'https://www.dailymail.co.uk//news/article-13853357/donald-trump-response-shooting.html',\n",
              " 'https://www.dailymail.co.uk//news/article-13831005/jd-vance-migrants-eating-pets-ohio-trump-ai-say-ducks-kittens.html',\n",
              " 'https://www.dailymail.co.uk//news/article-13772997/RFK-Jr-withdraw-Arizona-Donald-Trump-2024-presidential-race-support-drop-Nicole-Shanahan.html',\n",
              " 'https://www.dailymail.co.uk//news/article-13785763/kamala-harris-tim-walz-interview-cnn.html',\n",
              " 'https://www.dailymail.co.uk//news/article-13861655/kamala-harris-bomb-threats-springfield-ohio-donald-trump.html',\n",
              " 'https://www.dailymail.co.uk//news/article-13794989/donald-trump-abortion-florida-referendum.html',\n",
              " 'https://www.dailymail.co.uk//news/article-13836751/kamala-harris-debate-donald-trump-muted-microphones.html',\n",
              " 'https://www.dailymail.co.uk//news/article-13805087/RFK-Jr-swing-state-presidential-election-2024.html',\n",
              " 'https://www.dailymail.co.uk//news/article-13766673/josh-hawley-unaccompanied-migrants-lost.html',\n",
              " 'https://www.dailymail.co.uk//news/article-13720585/kamala-harris-tim-walz-trump-wisconsin.html',\n",
              " 'https://www.dailymail.co.uk//news/article-13869971/ella-emhoff-doug-emhoff-kamala-harris-sarah-sanders.html',\n",
              " 'https://www.dailymail.co.uk//news/article-13865343/kamala-harris-ad-kentucky-woman-election-2024.html',\n",
              " 'https://www.dailymail.co.uk//news/article-13780685/kamala-harris-campaign-donald-trump-debate.html',\n",
              " 'https://www.dailymail.co.uk//news/article-13818001/kamala-harris-debate-donald-trump.html',\n",
              " 'https://www.dailymail.co.uk//news/article-13762539/jared-moskowitz-comer-impeachment-report.html',\n",
              " 'https://www.dailymail.co.uk//news/article-13769873/Arizona-shoot-trump-ronald-lee-syrvud.html',\n",
              " 'https://www.dailymail.co.uk//news/article-13866999/donald-trump-best-debate-greg-gutfeld.html',\n",
              " 'https://www.dailymail.co.uk//news/article-13789623/Furious-Nancy-Pelosi-Donald-Trump-January-6-video.html',\n",
              " 'https://www.dailymail.co.uk//news/article-13797467/donald-trump-counseling-shooting-interview.html',\n",
              " 'https://www.dailymail.co.uk//news/article-13797767/tim-walz-gwen-jd-vance-ivf.html',\n",
              " 'https://www.dailymail.co.uk//news/article-13856273/kamala-harris-donald-trump-poll-alaska.html',\n",
              " 'https://www.dailymail.co.uk//news/article-13789831/jd-vance-kamala-harris-donald-trump-hell-cnn.html',\n",
              " 'https://www.dailymail.co.uk//news/article-13663027/polls-Biden-dropped-reveals-race-Kamala-Trump.html',\n",
              " 'https://www.dailymail.co.uk//news/article-13830857/donald-trump-kamala-harris-presidential-debate-bingo.html',\n",
              " 'https://www.dailymail.co.uk//news/article-13808569/James-Carville-Kamala-Harris-Donald-Trump-Bill-Clinton.html',\n",
              " 'https://www.dailymail.co.uk//news/article-13856719/Donald-Trump-Kamala-Harris-poll-2024-presidential-election.html',\n",
              " 'https://www.dailymail.co.uk//news/article-13848007/kamala-harris-gender-bias-vice-president-intelligence.html',\n",
              " 'https://www.dailymail.co.uk//news/article-13829983/Kamala-Harris-donald-trump-debate-tactic.html',\n",
              " 'https://www.dailymail.co.uk//news/article-13830733/generals-kamala-harris-afghanistan-biden.html',\n",
              " 'https://www.dailymail.co.uk//news/article-13821817/Judge-Juan-Merchan-Donald-Trump-Stormy-Daniels.html',\n",
              " 'https://www.dailymail.co.uk//news/article-13747871/donald-trump-press-conference-kamala-bedminster.html',\n",
              " 'https://www.dailymail.co.uk//news/article-13769559/democrats-play-republican-voters-anit-trump-dnc.html',\n",
              " 'https://www.dailymail.co.uk//news/article-13847405/British-pm-starmer-harris-trump.html',\n",
              " 'https://www.dailymail.co.uk//news/article-13759747/aoc-bartender-DNC-chicago.html',\n",
              " 'https://www.dailymail.co.uk//news/article-13785471/tim-walz-kamala-harris-election-tiktok.html',\n",
              " 'https://www.dailymail.co.uk//news/article-13801987/mark-cuban-election-poll-trump-kamala-harris-role-model.html',\n",
              " 'https://www.dailymail.co.uk//news/article-13759879/biden-swansong-dnc-speech-delayed-kamala-harris-hunter.html',\n",
              " 'https://www.dailymail.co.uk//news/article-13751313/Kamala-Harris-rolls-economic-plan-1-7-TRILLION-handouts-bungles-revealing-ban-grocery-store-price-gouging.html',\n",
              " 'https://www.dailymail.co.uk//news/article-13831821/poll-reveals-kamala-harris-leading-north-carolina.html',\n",
              " 'https://www.dailymail.co.uk//news/article-13778321/Michelle-Obama-feud-Biden-Kamala-Harris-DNC.html',\n",
              " 'https://www.dailymail.co.uk//news/article-13785363/Trump-agreement-ABC-debate-Kamala-Harris.html',\n",
              " 'https://www.dailymail.co.uk//news/article-13848501/kamala-harris-joe-biden-foreign-policy-white-house.html',\n",
              " 'https://www.dailymail.co.uk//news/article-13735723/2024-presidential-election-voting-trump-harris.html',\n",
              " 'https://www.dailymail.co.uk//news/article-13735627/Trump-DOJ-Mar-Lago-classified-documents.html',\n",
              " 'https://www.dailymail.co.uk//news/article-13805357/Donald-Trump-2024-presidential-election.html',\n",
              " 'https://www.dailymail.co.uk//news/article-13788361/trump-arlington-cemetery-clash-photographer-staff.html',\n",
              " 'https://www.dailymail.co.uk//news/article-13831171/kamala-harris-debate-moments-president.html',\n",
              " 'https://www.dailymail.co.uk//news/article-13847223/biden-british-prime-minister-starmer-ukraine-putin.html',\n",
              " 'https://www.dailymail.co.uk//news/article-13739673/donald-trump-kamala-harris-florida-poll-2024-election.html',\n",
              " 'https://www.dailymail.co.uk//news/article-13839745/joe-biden-donald-trump-hat-911.html',\n",
              " 'https://www.dailymail.co.uk//news/article-13744975/GOP-polling-guru-Frank-Luntz-explains-plot-twist-presidential-campaign-Trump-Harris.html',\n",
              " 'https://www.dailymail.co.uk//news/article-13865359/donald-trump-debate-poll-kamala-harris.html',\n",
              " 'https://www.dailymail.co.uk//news/article-13774869/robert-kennedy-joins-donald-trump-arizona-rally.html',\n",
              " 'https://www.dailymail.co.uk//news/article-13670087/biden-oval-office-family-cry-speech.html',\n",
              " 'https://www.dailymail.co.uk//news/article-13760109/Tears-democratic-convention-biden-trump-Kamala-Harris.html',\n",
              " 'https://www.dailymail.co.uk//news/article-13739915/fbi-donald-trump-assassination.html',\n",
              " 'https://www.dailymail.co.uk//news/article-13784475/RFK-Jr-reveals-Donald-Trump-release-JKF-assassination-files.html',\n",
              " 'https://www.dailymail.co.uk//news/article-13793583/JD-Vance-firefighter-haters-boo-Donald-Trump.html',\n",
              " 'https://www.dailymail.co.uk//news/article-13771599/Kamala-Harris-speech-transcript-Democratic-National-Convention.html',\n",
              " 'https://www.dailymail.co.uk//news/article-13789365/Trump-Thomas-Matthew-Crooks-assassination-attempt-rally-FBI-update.html',\n",
              " 'https://www.dailymail.co.uk//news/article-13766937/Wes-Moore-DNC-governor-Maryland-Obama.html',\n",
              " 'https://www.dailymail.co.uk//news/article-13835623/who-won-presidential-debate-donald-trump-kamala-harris.html',\n",
              " 'https://www.dailymail.co.uk//news/article-13858231/Eric-Trump-blasts-Secret-Service-donald.html',\n",
              " 'https://www.dailymail.co.uk//news/article-13750651/trump-civilian-honor-better-military-recipients-bullets-dead.html',\n",
              " 'https://www.dailymail.co.uk//news/article-13843137/gender-identity-schools-parents-teachers-sue-districts-adf.html',\n",
              " 'https://www.dailymail.co.uk//news/article-13794149/kamala-harris-interview-candidate-cnn.html',\n",
              " 'https://www.dailymail.co.uk//news/article-13847539/donald-trump-laura-loomer.html',\n",
              " 'https://www.dailymail.co.uk//news/article-13789721/joe-jill-biden-beach-rehoboth-vacation.html',\n",
              " 'https://www.dailymail.co.uk//news/article-13853291/Kamala-Harris-speaks-gunman-shot-Trump-golf-course-former-president-played.html',\n",
              " 'https://www.dailymail.co.uk//news/article-13831465/kamala-harris-taxpayer-funding-ice-transgender-migrants.html',\n",
              " 'https://www.dailymail.co.uk//news/article-13829965/kamala-harris-policy-page-campaign-website-details.html',\n",
              " 'https://www.dailymail.co.uk//news/article-13751295/bernie-sanders-kamala-harris-socialist-promises.html',\n",
              " 'https://www.dailymail.co.uk//news/article-13758541/joe-biden-jet-california-vacation-dnc-speech.html']"
            ]
          },
          "metadata": {},
          "execution_count": 17
        }
      ]
    },
    {
      "cell_type": "code",
      "source": [
        "#Newsweek Article Link Scraper\n",
        "headers = {\"user-agent\": \"Mozilla/5.0\"}\n",
        "#Mozilla/5.0 (Windows NT 10.0; Win64; x64) AppleWebKit/537.36 (KHTML, like Gecko) Chrome/113.0.0.0 Safari/537.36 Edg/113.0.1774.35\n",
        "page = requests.get('https://www.newsweek.com/politics',headers=headers)\n",
        "soup = BeautifulSoup(page.text, 'html.parser')\n",
        "allLinks = []\n",
        "link = \"https://www.newsweek.com/politics\"\n",
        "for link in soup.find_all('a'):\n",
        "    allLinks.append(link.get('href'))\n",
        "allLinks = filter(None, allLinks)\n",
        "linkEnds = [i for i in allLinks if (len(i) > 8 and i[-7] == '1')]\n",
        "# linkEnds = [i for i in allLinks]\n",
        "result = ['https://www.newsweek.com' + i for i in linkEnds]\n",
        "Newsweek_links = set(result)\n",
        "Newsweek_links = list(Newsweek_links)\n",
        "\n",
        "# initial error\n",
        "# print(soup.find_all('body'))\n",
        "# [<body>\n",
        "# <center><h1>403 Forbidden</h1></center>\n",
        "# </body>]\n",
        "\n",
        "# reference: https://stackoverflow.com/questions/40255128/how-to-parse-the-website-using-beautifulsoup\n",
        "# reference: https://www.useragentlist.net/"
      ],
      "metadata": {
        "id": "q5aaCRR07LF0",
        "collapsed": true
      },
      "execution_count": null,
      "outputs": []
    },
    {
      "cell_type": "code",
      "source": [
        "Newsweek_links"
      ],
      "metadata": {
        "colab": {
          "base_uri": "https://localhost:8080/"
        },
        "id": "DfyY9zZ776wq",
        "outputId": "cff637ae-926a-404f-c500-2fb970aa6990",
        "collapsed": true
      },
      "execution_count": null,
      "outputs": [
        {
          "output_type": "execute_result",
          "data": {
            "text/plain": [
              "['https://www.newsweek.com/donald-trump-new-york-voters-polling-republican-gains-1956321',\n",
              " 'https://www.newsweek.com/donald-trump-bitcoin-cryptocurrency-price-increase-1956371',\n",
              " 'https://www.newsweek.com/jd-vance-haitian-immigrants-stories-keep-getting-shot-down-1956452',\n",
              " 'https://www.newsweek.com/republican-group-launches-taylor-swift-themed-ad-attacking-donald-trump-1956382',\n",
              " 'https://www.newsweek.com/georgia-election-integrity-coalition-emails-donald-trump-1956151',\n",
              " 'https://www.newsweek.com/pennsylvania-polling-independnet-voters-kamala-harris-1956190',\n",
              " 'https://www.newsweek.com/trump-harris-unions-teamsters-endorsement-1956277',\n",
              " 'https://www.newsweek.com/what-does-project-2025-mean-lgbtq-people-1956315',\n",
              " 'https://www.newsweek.com/robert-kennedy-jr-investigated-collecting-dead-whale-1956501',\n",
              " 'https://www.newsweek.com/teamsters-union-endorsement-kamala-harris-joe-biden-pension-1956536',\n",
              " 'https://www.newsweek.com/supreme-court-assassination-threat-alaska-man-panos-anastasiou-arrested-1956493',\n",
              " 'https://www.newsweek.com/lauren-boebert-compares-mike-johnsons-failed-bill-diddy-freak-off-1956395',\n",
              " 'https://www.newsweek.com/california-city-norwalk-defies-gavin-newsroom-homeless-shelter-ban-1956244',\n",
              " 'https://www.newsweek.com/full-list158-dems-voted-against-sex-crime-ban-immigrants-1956261',\n",
              " 'https://www.newsweek.com/russia-three-minute-missile-warning-france-1956453',\n",
              " 'https://www.newsweek.com/california-governor-gavin-newsom-ai-deepfake-election-advertisements-1956209',\n",
              " 'https://www.newsweek.com/trump-harris-neck-neck-swing-states-trump-edging-wisconsin-1956366',\n",
              " 'https://www.newsweek.com/trump-question-most-asked-reveal-1956234',\n",
              " 'https://www.newsweek.com/fact-check-trump-says-dogs-left-behind-afghanistan-us-military-1955887',\n",
              " 'https://www.newsweek.com/trump-praises-nonexistent-debate-crowd-they-went-crazy-1956251',\n",
              " 'https://www.newsweek.com/democrat-mayors-challenger-gains-cost-living-plagues-california-1956435',\n",
              " 'https://www.newsweek.com/south-carolina-freddie-owens-1997-murder-case-death-peanlty-1956560']"
            ]
          },
          "metadata": {},
          "execution_count": 19
        }
      ]
    },
    {
      "cell_type": "code",
      "source": [
        "#NBC News Article Link Scraper\n",
        "url = 'https://feeds.nbcnews.com/nbcnews/public/politics'\n",
        "html_page = requests.get(url)\n",
        "soup = BeautifulSoup(html_page.text, \"lxml\")\n",
        "links = []\n",
        "for item in soup.find_all(\"item\"):\n",
        "  link = str(item)\n",
        "  i = link.find(\"<guid>\")\n",
        "  j = link.find(\"</guid\")\n",
        "  x = link[i+6:j]\n",
        "  y = x.split('\\n', 1)[0]\n",
        "  if y[0:4] == 'http':\n",
        "    links.append(y)\n",
        "if \"https://www.nbcnews.com/\"  in links:\n",
        "  links.remove(\"https://www.nbcnews.com/\")\n",
        "NBCNews_links = links"
      ],
      "metadata": {
        "collapsed": true,
        "id": "eAjDWt0X0Vvm"
      },
      "execution_count": null,
      "outputs": []
    },
    {
      "cell_type": "code",
      "source": [
        "NBCNews_links"
      ],
      "metadata": {
        "colab": {
          "base_uri": "https://localhost:8080/"
        },
        "collapsed": true,
        "id": "XFPNpRZu0v0r",
        "outputId": "b10b0e17-ca6b-4a2f-8be2-2b94c3a94636"
      },
      "execution_count": null,
      "outputs": [
        {
          "output_type": "execute_result",
          "data": {
            "text/plain": [
              "['https://www.nbcnews.com/politics/2024-election/pro-palestinian-uncommitted-movement-refuses-endorse-harris-rcna171756',\n",
              " 'https://www.nbcnews.com/news/us-news/judge-extends-temporary-restraining-order-bidens-student-debt-forgiven-rcna171805',\n",
              " 'https://www.nbcnews.com/nbc-out/out-politics-and-policy/biden-makes-history-12th-senate-confirmed-lgbtq-judge-rcna171868',\n",
              " 'https://www.nbcnews.com/politics/supreme-court/alaska-man-charged-making-death-threats-supreme-court-justices-rcna171836',\n",
              " 'https://www.nbcnews.com/politics/white-house/biden-host-quad-leaders-home-delaware-rcna171458',\n",
              " 'https://www.nbcnews.com/politics/2024-election/pennsylvania-ballots-look-different-voter-errors-rcna171441',\n",
              " 'https://www.nbcnews.com/news/us-news/baseless-rumors-haitian-immigrants-threaten-unravel-springfield-ohio-rcna170513',\n",
              " 'https://www.nbcnews.com/news/us-news/first-graders-survived-sandy-hook-will-vote-first-presidential-electio-rcna170471',\n",
              " 'https://www.nbcnews.com/politics/2024-election/far-right-activist-laura-loomer-access-trump-crisis-campaign-rcna170915',\n",
              " 'https://www.nbcnews.com/politics/2024-election/naacp-20-million-mobilizing-black-voters-rcna171821',\n",
              " 'https://www.nbcnews.com/news/us-news/surveillance-video-trump-golf-course-seized-apparent-assassination-att-rcna171815',\n",
              " 'https://www.nbcnews.com/politics/justice-department/trump-supporter-bear-spray-police-jan-6-biden-ad-plea-guilty-rcna171804',\n",
              " 'https://www.nbcnews.com/politics/elections/howard-poll-black-swing-state-voters-overwhelmingly-back-harris-rcna171467',\n",
              " 'https://www.nbcnews.com/politics/donald-trump/trump-degrading-language-immigrants-rcna171120',\n",
              " 'https://www.nbcnews.com/news/us-news/lawmakers-demand-end-sham-transaction-fees-are-adding-cost-school-lunc-rcna171647',\n",
              " 'https://www.nbcnews.com/politics/politics-news/fbi-says-iranian-hackers-sent-stolen-trump-campaign-info-biden-campaig-rcna171759',\n",
              " 'https://www.nbcnews.com/politics/2024-election/lindsey-graham-visits-nebraska-push-electoral-vote-change-rcna171760',\n",
              " 'https://www.nbcnews.com/politics/2024-election/trump-says-will-visit-springfield-ohio-two-weeks-rcna171758',\n",
              " 'https://www.nbcnews.com/politics/congress/house-republicans-vote-funding-bill-shutdown-trump-save-act-rcna171635',\n",
              " 'https://www.nbcnews.com/politics/donald-trump/trumps-inconsistent-messaging-clashes-rncs-attempted-embrace-early-vot-rcna165972']"
            ]
          },
          "metadata": {},
          "execution_count": 21
        }
      ]
    },
    {
      "cell_type": "code",
      "source": [
        "#Forbes Article Link Scraper\n",
        "page = requests.get('https://www.forbes.com/topics/politics/')\n",
        "soup = BeautifulSoup(page.text, 'html.parser')\n",
        "allLinks = []\n",
        "link = \"https://www.forbes.com/topics/politics/\"\n",
        "for link in soup.find_all('a'):\n",
        "    allLinks.append(link.get('href'))\n",
        "allLinks = filter(None, allLinks)\n",
        "#all articles contain date (e.g. /2024/09/18)\n",
        "relevantLinks = [i for i in allLinks if '/2' in i]\n",
        "Forbes_links = set(relevantLinks)\n",
        "Forbes_links = list(Forbes_links)"
      ],
      "metadata": {
        "id": "sqqTbfcM6dJd"
      },
      "execution_count": null,
      "outputs": []
    },
    {
      "cell_type": "code",
      "source": [
        "Forbes_links"
      ],
      "metadata": {
        "colab": {
          "base_uri": "https://localhost:8080/"
        },
        "id": "AwKXE8Gl7GP0",
        "outputId": "3bcba068-efdd-4bb4-b6ae-733bca42bdf6",
        "collapsed": true
      },
      "execution_count": null,
      "outputs": [
        {
          "output_type": "execute_result",
          "data": {
            "text/plain": [
              "['http://www.forbes.com/sites/saradorn/2024/09/19/trump-vs-harris-2024-polls-harris-leads-by-2-points-in-latest-survey/',\n",
              " 'http://www.forbes.com/sites/saradorn/2024/09/19/election-2024-swing-state-polls-pennsylvanias-a-dead-heat-as-harris-leads-michigan-trump-takes-arizona/',\n",
              " 'http://www.forbes.com/sites/johngoodman/2024/09/19/should-the-government-guarantee-everyone-a-minimum-income/',\n",
              " 'http://www.forbes.com/sites/howardgleckman/2024/09/19/exempting-tips-from-federal-income-tax-would-benefit-very-few-workers/',\n",
              " 'http://www.forbes.com/sites/saradorn/2024/09/19/government-shutdown-looming-next-month-heres-what-that-means/',\n",
              " 'http://www.forbes.com/sites/johannacostigan/2024/09/19/china-week-tar-chinese-firms-fails-to-boost-americas/',\n",
              " 'http://www.forbes.com/sites/tylerroush/2024/09/19/secret-service-investigating-elon-musks-x-post-about-assassination-threats-against-biden-and-harris-report-says/',\n",
              " 'http://www.forbes.com/sites/joshuastein/2024/09/19/some-suggestions-to-solve-the-housing-crisis/',\n",
              " 'http://www.forbes.com/sites/simonmoore/2024/09/19/government-shutdown-risk-looms-as-election-nears/',\n",
              " 'http://www.forbes.com/sites/adamminsky/2024/09/19/student-loan-forgiveness-court-order-is-wreaking-havoc-across-repayment-system/']"
            ]
          },
          "metadata": {},
          "execution_count": 23
        }
      ]
    },
    {
      "cell_type": "code",
      "source": [
        "#AP News Article Link Scraper\n",
        "page = requests.get('https://apnews.com/politics')\n",
        "soup = BeautifulSoup(page.text, 'html.parser')\n",
        "allLinks = []\n",
        "link = \"https://apnews.com/politics\"\n",
        "for link in soup.find_all('a'):\n",
        "    allLinks.append(link.get('href'))\n",
        "allLinks = filter(None, allLinks)\n",
        "relevantLinks = [i for i in allLinks if '/article' in i]\n",
        "APNews_links = set(relevantLinks)\n",
        "APNews_links = list(APNews_links)"
      ],
      "metadata": {
        "id": "h-PrNyR79Kao"
      },
      "execution_count": null,
      "outputs": []
    },
    {
      "cell_type": "code",
      "source": [
        "APNews_links"
      ],
      "metadata": {
        "colab": {
          "base_uri": "https://localhost:8080/"
        },
        "collapsed": true,
        "id": "ffYWwN9Zyjdg",
        "outputId": "2d67d583-1916-4171-8c91-532c0138e347"
      },
      "execution_count": null,
      "outputs": [
        {
          "output_type": "execute_result",
          "data": {
            "text/plain": [
              "['https://apnews.com/article/iran-fbi-hacking-trump-election-interference-2020-3631e1832a8edb549d53126585503f32',\n",
              " 'https://apnews.com/article/biden-electric-vehicles-tax-credits-charging-stations-76606327bb1317cf819c5257336b3eb9',\n",
              " 'https://apnews.com/article/evangelicals-harris-trump-christians-vote-e1f1c5a0806cf3d88e95ff4bdc1fc4db',\n",
              " 'https://apnews.com/article/jimmy-carter-dayton-peace-prize-holbrooke-e4d9bd1d81d1ecdac9b5ea20eec59e33',\n",
              " 'https://apnews.com/article/ai-safety-summit-san-francisco-biden-raimondo-d52c31fb1e37508a1d2e78b5cfa5a8e0',\n",
              " 'https://apnews.com/article/oregon-semiconductor-industry-governor-land-89181a47be64e084c86d6d106229f373',\n",
              " 'https://apnews.com/article/evangelicals-harris-trump-christians-vote-9d5cb379dc3c2fdb3f4954c556a29ec5',\n",
              " 'https://apnews.com/article/south-dakota-attorney-general-crash-c70eda77d3e41aae0c6608f5c5b28264',\n",
              " 'https://apnews.com/article/homelessness-vermont-motels-31da28d4e53a4157005056894a34c07d',\n",
              " 'https://apnews.com/article/election-2024-haitian-immigrants-springfield-ohio-7e8b09654c0dd90d72c884dbb798c71b',\n",
              " 'https://apnews.com/article/garland-supreme-court-justices-threats-charges-kavanaugh-thomas-a4919daae078c7709a56e35e633526d8',\n",
              " 'https://apnews.com/article/north-dakota-abortion-863e8a1e97a8cb2c4f830cc954335dd7',\n",
              " 'https://apnews.com/article/china-congress-biotechnology-health-innovation-national-security-c85f71290a3cd26644a0cf88c5aa3a55',\n",
              " 'https://apnews.com/article/government-shutdown-funding-speaker-johnson-9421630c6eea06147e1187ac8f34a7df',\n",
              " 'https://apnews.com/article/ap-norc-poll-trump-harris-favorability-rating-3f0a52c889027df9b46f2d9407190217',\n",
              " 'https://apnews.com/article/government-shutdown-funding-speaker-johnson-b77fc73b1474cbee5213219358985f71',\n",
              " 'https://apnews.com/article/abortion-reproductive-rights-harris-trump-congress-bf0da946328ab06f122a99d696c04774',\n",
              " 'https://apnews.com/article/elon-musk-x-election-voting-trump-misinformation-3479f2348f6ec47ce641ddf20fd6ce4e',\n",
              " 'https://apnews.com/article/joe-biden-economics-fed-harris-federal-reserve-29c3216e0b7f86f351adae8e0aef646a',\n",
              " 'https://apnews.com/article/elon-musk-x-assassination-trump-kamala-harris-833251707414010790a50ab24a242dc3',\n",
              " 'https://apnews.com/article/harris-trump-election-2024-winfrey-ddf2b13fb112693f4b35d14aee22baf5',\n",
              " 'https://apnews.com/article/kamala-harris-uncommitted-trump-arab-american-gaza-israel-hamas-democrat-michigan-ad5adb06499a4378a7a05c28f4aeffba',\n",
              " 'https://apnews.com/article/fairfax-deputy-jail-trafficking-drugs-sex-28c8478f3001c9b7e65c006e7e69e985',\n",
              " 'https://apnews.com/article/ukraine-zelenskyy-biden-harris-missiles-1bcabcb9a8c4e0c569d6c56651e96e9d',\n",
              " 'https://apnews.com/article/louis-dejoy-postmaster-postal-mail-jon-ossoff-73284ac15539bdb9923a6280b38ffb0a',\n",
              " 'https://apnews.com/article/supreme-court-oklahoma-family-planning-title-x-3df24e69294f513e68634e6d6a146cf1',\n",
              " 'https://apnews.com/article/kentucky-lawmaker-lawn-mower-accident-283938abfaeeb85c63d92afdac0776c6',\n",
              " 'https://apnews.com/article/supreme-court-gorsuch-regulations-ethics-term-limits-3369051d70ec67942d72b5f2afd078d8',\n",
              " 'https://apnews.com/article/pennsylvania-senator-sgt-york-lawsuit-8686607f9d4920c5f995bbe8255c2f02',\n",
              " 'https://apnews.com/article/iran-fbi-election-interference-dni-ae96f57f438772dac08e076be7aa4904',\n",
              " 'https://apnews.com/article/ukraine-russia-war-long-range-missiles-6bd6af3d74ebbf6225330e476173575f',\n",
              " 'https://apnews.com/article/hidden-figures-katherine-johnson-nasa-space-race-90f3633df4f19995776120dc1c22a249',\n",
              " 'https://apnews.com/article/rfk-jr-kennedy-whale-investigation-09c494d8164c6f9bde9ece39637ea4d3',\n",
              " 'https://apnews.com/article/kamala-harris-polish-american-voters-trump-4a0bb4126ab2ded70cf78bb76501d7d9',\n",
              " 'https://apnews.com/article/teamsters-endorse-presidential-election-2d29668ace1ce239b7b6b209409bb6f5',\n",
              " 'https://apnews.com/article/hunter-biden-gun-case-sentencing-delaware-firearm-election-joe-biden-son-17c845eb36751c8a96a19c36b1081566',\n",
              " 'https://apnews.com/article/redistricting-ohio-ballot-language-ruling-85775a22c904e29f4973a6fb32e3e567',\n",
              " 'https://apnews.com/article/election-2024-milwaukee-voting-misinformation-6266eb6f58dc4e1e189ad415070074eb',\n",
              " 'https://apnews.com/article/trump-harris-campaign-election-2024-new-york-367611170a28f470afc537dcefe158ce',\n",
              " 'https://apnews.com/article/presidential-threats-trump-republicans-democrats-bb2effdec58f3405e0782e182377365c',\n",
              " 'https://apnews.com/article/trump-new-york-rally-false-bomb-threat-e3f8c44132602c97bb7c4acce2ec63b9',\n",
              " 'https://apnews.com/article/trump-harris-political-divisions-assassination-attempt-476dbd9915ec3cf94e1f0602e510578e',\n",
              " 'https://apnews.com/article/mormons-trump-harris-arizona-outreach-fcfc9c2a7438b8e8af16f9422e376b96',\n",
              " 'https://apnews.com/article/apple-ios-european-union-digital-rules-eb524269a4caf6f51484be64253f1f5e',\n",
              " 'https://apnews.com/article/supreme-court-history-term-limits-3cdbace02b9517b0269ca5cb51687c6a',\n",
              " 'https://apnews.com/article/steward-health-care-ceo-4370d7fb16f81e75ce3b182d6ff88cd9',\n",
              " 'https://apnews.com/article/harris-trump-oprah-winfrey-miriam-adelson-f9384395f54a0d071ab52bca80d3659e',\n",
              " 'https://apnews.com/article/osprey-deadly-crash-air-force-deploy-fd209c5c74e3761122e201eb6164fccc',\n",
              " 'https://apnews.com/article/ian-cramer-kevin-cramer-north-dakota-6b1748da30fce2240ee2b60eac4a29fc',\n",
              " 'https://apnews.com/article/georgia-state-election-board-trump-certification-results-e57ac093c90acfff26fea04db91d04df',\n",
              " 'https://apnews.com/article/poland-trump-us-election-duda-pennsylvania-doylestown-b1592468aea1d229c2c4ea3b901b7de3',\n",
              " 'https://apnews.com/article/ketanji-jackson-supreme-court-memoir-2dd0fb43e7bd6929e97817e05847ca5a',\n",
              " 'https://apnews.com/article/california-artificial-intelligence-deepfakes-election-3cf47301380b01ab35925a1c0a78171f',\n",
              " 'https://apnews.com/article/inauguration-trump-harris-violence-january-6-stage-79acfb7bfc9a2edcac5b388623c793a4']"
            ]
          },
          "metadata": {},
          "execution_count": 25
        }
      ]
    },
    {
      "cell_type": "code",
      "source": [
        "#BBC Article Link Scraper\n",
        "#via U.S. Politics page\n",
        "page = requests.get('https://www.bbc.com/news/topics/cwnpxwzd269t')\n",
        "soup = BeautifulSoup(page.text, 'html.parser')\n",
        "allLinks = []\n",
        "link = \"https://www.bbc.com/news/topics/cwnpxwzd269t\"\n",
        "for link in soup.find_all('a'):\n",
        "    allLinks.append(link.get('href'))\n",
        "allLinks = filter(None, allLinks)\n",
        "linkEnds = [i for i in allLinks if '/article' in i]\n",
        "result = ['https://www.bbc.com' + i for i in linkEnds]\n",
        "BBC_links = set(result)\n",
        "BBC_links = list(BBC_links)"
      ],
      "metadata": {
        "id": "toTEFXAk_VlT"
      },
      "execution_count": null,
      "outputs": []
    },
    {
      "cell_type": "code",
      "source": [
        "BBC_links"
      ],
      "metadata": {
        "colab": {
          "base_uri": "https://localhost:8080/"
        },
        "collapsed": true,
        "id": "b-qqUFCFA8Tl",
        "outputId": "ddb7308b-83f4-4f33-e5ea-1d65a6e86717"
      },
      "execution_count": null,
      "outputs": [
        {
          "output_type": "execute_result",
          "data": {
            "text/plain": [
              "['https://www.bbc.com/news/articles/c77l28myezko',\n",
              " 'https://www.bbc.com/news/articles/cj4x71znwxdo',\n",
              " 'https://www.bbc.com/news/articles/cm2yyr7283vo',\n",
              " 'https://www.bbc.com/news/articles/cd6qvg78z8no',\n",
              " 'https://www.bbc.com/news/articles/c4gqgg4zdzlo',\n",
              " 'https://www.bbc.com/news/articles/c62r2zzgz4jo',\n",
              " 'https://www.bbc.com/news/articles/cn8yyy0r7epo',\n",
              " 'https://www.bbc.com/news/articles/c05j5ezy6nro']"
            ]
          },
          "metadata": {},
          "execution_count": 27
        }
      ]
    },
    {
      "cell_type": "code",
      "source": [
        "#Washington Post Article Link Scraper - in progress\n",
        "headers = {\"user-agent\": \"Mozilla/5.0 (Windows NT 10.0; Win64; x64) AppleWebKit/537.36 (KHTML, like Gecko) Chrome/113.0.0.0 Safari/537.36 Edg/113.0.1774.35\"}\n",
        "#Mozilla/5.0 (Windows NT 10.0; Win64; x64) AppleWebKit/537.36 (KHTML, like Gecko) Chrome/113.0.0.0 Safari/537.36 Edg/113.0.1774.35\n",
        "page = requests.get('https://www.washingtonpost.com/politics/',headers=headers)\n",
        "# soup = BeautifulSoup(page.text, 'html.parser')\n",
        "\n",
        "\n",
        "# allLinks = []\n",
        "# link = \"https://www.washingtonpost.com/politics/\"\n",
        "# for link in soup.find_all('a'):\n",
        "#     allLinks.append(link.get('href'))\n",
        "# allLinks = filter(None, allLinks)\n",
        "# linkEnds = [i for i in allLinks]\n",
        "# print(linkEnds)\n",
        "\n",
        "# linkEnds = [i for i in allLinks if i.startswith('/2')]\n",
        "# result = ['https://www.cnn.com' + i for i in linkEnds]\n",
        "# WP_links = set(result)\n",
        "# CNN_links = list(CNN_links)\n",
        "\n",
        "#RSS: https://feeds.washingtonpost.com/rss/rss_the-fix?itid=lk_inline_manual_5"
      ],
      "metadata": {
        "colab": {
          "base_uri": "https://localhost:8080/",
          "height": 382
        },
        "collapsed": true,
        "id": "rpyYilP8BCus",
        "outputId": "ccee6931-b564-4324-e080-3f33e8dc4a23"
      },
      "execution_count": null,
      "outputs": [
        {
          "output_type": "error",
          "ename": "KeyboardInterrupt",
          "evalue": "",
          "traceback": [
            "\u001b[0;31m---------------------------------------------------------------------------\u001b[0m",
            "\u001b[0;31mKeyboardInterrupt\u001b[0m                         Traceback (most recent call last)",
            "\u001b[0;32m<ipython-input-28-b77afe34626a>\u001b[0m in \u001b[0;36m<cell line: 4>\u001b[0;34m()\u001b[0m\n\u001b[1;32m      2\u001b[0m \u001b[0mheaders\u001b[0m \u001b[0;34m=\u001b[0m \u001b[0;34m{\u001b[0m\u001b[0;34m\"user-agent\"\u001b[0m\u001b[0;34m:\u001b[0m \u001b[0;34m\"Mozilla/5.0 (Windows NT 10.0; Win64; x64) AppleWebKit/537.36 (KHTML, like Gecko) Chrome/113.0.0.0 Safari/537.36 Edg/113.0.1774.35\"\u001b[0m\u001b[0;34m}\u001b[0m\u001b[0;34m\u001b[0m\u001b[0;34m\u001b[0m\u001b[0m\n\u001b[1;32m      3\u001b[0m \u001b[0;31m#Mozilla/5.0 (Windows NT 10.0; Win64; x64) AppleWebKit/537.36 (KHTML, like Gecko) Chrome/113.0.0.0 Safari/537.36 Edg/113.0.1774.35\u001b[0m\u001b[0;34m\u001b[0m\u001b[0;34m\u001b[0m\u001b[0m\n\u001b[0;32m----> 4\u001b[0;31m \u001b[0mpage\u001b[0m \u001b[0;34m=\u001b[0m \u001b[0mrequests\u001b[0m\u001b[0;34m.\u001b[0m\u001b[0mget\u001b[0m\u001b[0;34m(\u001b[0m\u001b[0;34m'https://www.washingtonpost.com/politics/'\u001b[0m\u001b[0;34m,\u001b[0m\u001b[0mheaders\u001b[0m\u001b[0;34m=\u001b[0m\u001b[0mheaders\u001b[0m\u001b[0;34m)\u001b[0m\u001b[0;34m\u001b[0m\u001b[0;34m\u001b[0m\u001b[0m\n\u001b[0m\u001b[1;32m      5\u001b[0m \u001b[0;31m# soup = BeautifulSoup(page.text, 'html.parser')\u001b[0m\u001b[0;34m\u001b[0m\u001b[0;34m\u001b[0m\u001b[0m\n\u001b[1;32m      6\u001b[0m \u001b[0;34m\u001b[0m\u001b[0m\n",
            "\u001b[0;32m/usr/local/lib/python3.10/dist-packages/requests/api.py\u001b[0m in \u001b[0;36mget\u001b[0;34m(url, params, **kwargs)\u001b[0m\n\u001b[1;32m     71\u001b[0m     \"\"\"\n\u001b[1;32m     72\u001b[0m \u001b[0;34m\u001b[0m\u001b[0m\n\u001b[0;32m---> 73\u001b[0;31m     \u001b[0;32mreturn\u001b[0m \u001b[0mrequest\u001b[0m\u001b[0;34m(\u001b[0m\u001b[0;34m\"get\"\u001b[0m\u001b[0;34m,\u001b[0m \u001b[0murl\u001b[0m\u001b[0;34m,\u001b[0m \u001b[0mparams\u001b[0m\u001b[0;34m=\u001b[0m\u001b[0mparams\u001b[0m\u001b[0;34m,\u001b[0m \u001b[0;34m**\u001b[0m\u001b[0mkwargs\u001b[0m\u001b[0;34m)\u001b[0m\u001b[0;34m\u001b[0m\u001b[0;34m\u001b[0m\u001b[0m\n\u001b[0m\u001b[1;32m     74\u001b[0m \u001b[0;34m\u001b[0m\u001b[0m\n\u001b[1;32m     75\u001b[0m \u001b[0;34m\u001b[0m\u001b[0m\n",
            "\u001b[0;32m/usr/local/lib/python3.10/dist-packages/requests/api.py\u001b[0m in \u001b[0;36mrequest\u001b[0;34m(method, url, **kwargs)\u001b[0m\n\u001b[1;32m     57\u001b[0m     \u001b[0;31m# cases, and look like a memory leak in others.\u001b[0m\u001b[0;34m\u001b[0m\u001b[0;34m\u001b[0m\u001b[0m\n\u001b[1;32m     58\u001b[0m     \u001b[0;32mwith\u001b[0m \u001b[0msessions\u001b[0m\u001b[0;34m.\u001b[0m\u001b[0mSession\u001b[0m\u001b[0;34m(\u001b[0m\u001b[0;34m)\u001b[0m \u001b[0;32mas\u001b[0m \u001b[0msession\u001b[0m\u001b[0;34m:\u001b[0m\u001b[0;34m\u001b[0m\u001b[0;34m\u001b[0m\u001b[0m\n\u001b[0;32m---> 59\u001b[0;31m         \u001b[0;32mreturn\u001b[0m \u001b[0msession\u001b[0m\u001b[0;34m.\u001b[0m\u001b[0mrequest\u001b[0m\u001b[0;34m(\u001b[0m\u001b[0mmethod\u001b[0m\u001b[0;34m=\u001b[0m\u001b[0mmethod\u001b[0m\u001b[0;34m,\u001b[0m \u001b[0murl\u001b[0m\u001b[0;34m=\u001b[0m\u001b[0murl\u001b[0m\u001b[0;34m,\u001b[0m \u001b[0;34m**\u001b[0m\u001b[0mkwargs\u001b[0m\u001b[0;34m)\u001b[0m\u001b[0;34m\u001b[0m\u001b[0;34m\u001b[0m\u001b[0m\n\u001b[0m\u001b[1;32m     60\u001b[0m \u001b[0;34m\u001b[0m\u001b[0m\n\u001b[1;32m     61\u001b[0m \u001b[0;34m\u001b[0m\u001b[0m\n",
            "\u001b[0;32m/usr/local/lib/python3.10/dist-packages/requests/sessions.py\u001b[0m in \u001b[0;36mrequest\u001b[0;34m(self, method, url, params, data, headers, cookies, files, auth, timeout, allow_redirects, proxies, hooks, stream, verify, cert, json)\u001b[0m\n\u001b[1;32m    587\u001b[0m         }\n\u001b[1;32m    588\u001b[0m         \u001b[0msend_kwargs\u001b[0m\u001b[0;34m.\u001b[0m\u001b[0mupdate\u001b[0m\u001b[0;34m(\u001b[0m\u001b[0msettings\u001b[0m\u001b[0;34m)\u001b[0m\u001b[0;34m\u001b[0m\u001b[0;34m\u001b[0m\u001b[0m\n\u001b[0;32m--> 589\u001b[0;31m         \u001b[0mresp\u001b[0m \u001b[0;34m=\u001b[0m \u001b[0mself\u001b[0m\u001b[0;34m.\u001b[0m\u001b[0msend\u001b[0m\u001b[0;34m(\u001b[0m\u001b[0mprep\u001b[0m\u001b[0;34m,\u001b[0m \u001b[0;34m**\u001b[0m\u001b[0msend_kwargs\u001b[0m\u001b[0;34m)\u001b[0m\u001b[0;34m\u001b[0m\u001b[0;34m\u001b[0m\u001b[0m\n\u001b[0m\u001b[1;32m    590\u001b[0m \u001b[0;34m\u001b[0m\u001b[0m\n\u001b[1;32m    591\u001b[0m         \u001b[0;32mreturn\u001b[0m \u001b[0mresp\u001b[0m\u001b[0;34m\u001b[0m\u001b[0;34m\u001b[0m\u001b[0m\n",
            "\u001b[0;32m/usr/local/lib/python3.10/dist-packages/requests/sessions.py\u001b[0m in \u001b[0;36msend\u001b[0;34m(self, request, **kwargs)\u001b[0m\n\u001b[1;32m    701\u001b[0m \u001b[0;34m\u001b[0m\u001b[0m\n\u001b[1;32m    702\u001b[0m         \u001b[0;31m# Send the request\u001b[0m\u001b[0;34m\u001b[0m\u001b[0;34m\u001b[0m\u001b[0m\n\u001b[0;32m--> 703\u001b[0;31m         \u001b[0mr\u001b[0m \u001b[0;34m=\u001b[0m \u001b[0madapter\u001b[0m\u001b[0;34m.\u001b[0m\u001b[0msend\u001b[0m\u001b[0;34m(\u001b[0m\u001b[0mrequest\u001b[0m\u001b[0;34m,\u001b[0m \u001b[0;34m**\u001b[0m\u001b[0mkwargs\u001b[0m\u001b[0;34m)\u001b[0m\u001b[0;34m\u001b[0m\u001b[0;34m\u001b[0m\u001b[0m\n\u001b[0m\u001b[1;32m    704\u001b[0m \u001b[0;34m\u001b[0m\u001b[0m\n\u001b[1;32m    705\u001b[0m         \u001b[0;31m# Total elapsed time of the request (approximately)\u001b[0m\u001b[0;34m\u001b[0m\u001b[0;34m\u001b[0m\u001b[0m\n",
            "\u001b[0;32m/usr/local/lib/python3.10/dist-packages/requests/adapters.py\u001b[0m in \u001b[0;36msend\u001b[0;34m(self, request, stream, timeout, verify, cert, proxies)\u001b[0m\n\u001b[1;32m    665\u001b[0m \u001b[0;34m\u001b[0m\u001b[0m\n\u001b[1;32m    666\u001b[0m         \u001b[0;32mtry\u001b[0m\u001b[0;34m:\u001b[0m\u001b[0;34m\u001b[0m\u001b[0;34m\u001b[0m\u001b[0m\n\u001b[0;32m--> 667\u001b[0;31m             resp = conn.urlopen(\n\u001b[0m\u001b[1;32m    668\u001b[0m                 \u001b[0mmethod\u001b[0m\u001b[0;34m=\u001b[0m\u001b[0mrequest\u001b[0m\u001b[0;34m.\u001b[0m\u001b[0mmethod\u001b[0m\u001b[0;34m,\u001b[0m\u001b[0;34m\u001b[0m\u001b[0;34m\u001b[0m\u001b[0m\n\u001b[1;32m    669\u001b[0m                 \u001b[0murl\u001b[0m\u001b[0;34m=\u001b[0m\u001b[0murl\u001b[0m\u001b[0;34m,\u001b[0m\u001b[0;34m\u001b[0m\u001b[0;34m\u001b[0m\u001b[0m\n",
            "\u001b[0;32m/usr/local/lib/python3.10/dist-packages/urllib3/connectionpool.py\u001b[0m in \u001b[0;36murlopen\u001b[0;34m(self, method, url, body, headers, retries, redirect, assert_same_host, timeout, pool_timeout, release_conn, chunked, body_pos, preload_content, decode_content, **response_kw)\u001b[0m\n\u001b[1;32m    789\u001b[0m \u001b[0;34m\u001b[0m\u001b[0m\n\u001b[1;32m    790\u001b[0m             \u001b[0;31m# Make the request on the HTTPConnection object\u001b[0m\u001b[0;34m\u001b[0m\u001b[0;34m\u001b[0m\u001b[0m\n\u001b[0;32m--> 791\u001b[0;31m             response = self._make_request(\n\u001b[0m\u001b[1;32m    792\u001b[0m                 \u001b[0mconn\u001b[0m\u001b[0;34m,\u001b[0m\u001b[0;34m\u001b[0m\u001b[0;34m\u001b[0m\u001b[0m\n\u001b[1;32m    793\u001b[0m                 \u001b[0mmethod\u001b[0m\u001b[0;34m,\u001b[0m\u001b[0;34m\u001b[0m\u001b[0;34m\u001b[0m\u001b[0m\n",
            "\u001b[0;32m/usr/local/lib/python3.10/dist-packages/urllib3/connectionpool.py\u001b[0m in \u001b[0;36m_make_request\u001b[0;34m(self, conn, method, url, body, headers, retries, timeout, chunked, response_conn, preload_content, decode_content, enforce_content_length)\u001b[0m\n\u001b[1;32m    535\u001b[0m         \u001b[0;31m# Receive the response from the server\u001b[0m\u001b[0;34m\u001b[0m\u001b[0;34m\u001b[0m\u001b[0m\n\u001b[1;32m    536\u001b[0m         \u001b[0;32mtry\u001b[0m\u001b[0;34m:\u001b[0m\u001b[0;34m\u001b[0m\u001b[0;34m\u001b[0m\u001b[0m\n\u001b[0;32m--> 537\u001b[0;31m             \u001b[0mresponse\u001b[0m \u001b[0;34m=\u001b[0m \u001b[0mconn\u001b[0m\u001b[0;34m.\u001b[0m\u001b[0mgetresponse\u001b[0m\u001b[0;34m(\u001b[0m\u001b[0;34m)\u001b[0m\u001b[0;34m\u001b[0m\u001b[0;34m\u001b[0m\u001b[0m\n\u001b[0m\u001b[1;32m    538\u001b[0m         \u001b[0;32mexcept\u001b[0m \u001b[0;34m(\u001b[0m\u001b[0mBaseSSLError\u001b[0m\u001b[0;34m,\u001b[0m \u001b[0mOSError\u001b[0m\u001b[0;34m)\u001b[0m \u001b[0;32mas\u001b[0m \u001b[0me\u001b[0m\u001b[0;34m:\u001b[0m\u001b[0;34m\u001b[0m\u001b[0;34m\u001b[0m\u001b[0m\n\u001b[1;32m    539\u001b[0m             \u001b[0mself\u001b[0m\u001b[0;34m.\u001b[0m\u001b[0m_raise_timeout\u001b[0m\u001b[0;34m(\u001b[0m\u001b[0merr\u001b[0m\u001b[0;34m=\u001b[0m\u001b[0me\u001b[0m\u001b[0;34m,\u001b[0m \u001b[0murl\u001b[0m\u001b[0;34m=\u001b[0m\u001b[0murl\u001b[0m\u001b[0;34m,\u001b[0m \u001b[0mtimeout_value\u001b[0m\u001b[0;34m=\u001b[0m\u001b[0mread_timeout\u001b[0m\u001b[0;34m)\u001b[0m\u001b[0;34m\u001b[0m\u001b[0;34m\u001b[0m\u001b[0m\n",
            "\u001b[0;32m/usr/local/lib/python3.10/dist-packages/urllib3/connection.py\u001b[0m in \u001b[0;36mgetresponse\u001b[0;34m(self)\u001b[0m\n\u001b[1;32m    459\u001b[0m \u001b[0;34m\u001b[0m\u001b[0m\n\u001b[1;32m    460\u001b[0m         \u001b[0;31m# Get the response from http.client.HTTPConnection\u001b[0m\u001b[0;34m\u001b[0m\u001b[0;34m\u001b[0m\u001b[0m\n\u001b[0;32m--> 461\u001b[0;31m         \u001b[0mhttplib_response\u001b[0m \u001b[0;34m=\u001b[0m \u001b[0msuper\u001b[0m\u001b[0;34m(\u001b[0m\u001b[0;34m)\u001b[0m\u001b[0;34m.\u001b[0m\u001b[0mgetresponse\u001b[0m\u001b[0;34m(\u001b[0m\u001b[0;34m)\u001b[0m\u001b[0;34m\u001b[0m\u001b[0;34m\u001b[0m\u001b[0m\n\u001b[0m\u001b[1;32m    462\u001b[0m \u001b[0;34m\u001b[0m\u001b[0m\n\u001b[1;32m    463\u001b[0m         \u001b[0;32mtry\u001b[0m\u001b[0;34m:\u001b[0m\u001b[0;34m\u001b[0m\u001b[0;34m\u001b[0m\u001b[0m\n",
            "\u001b[0;32m/usr/lib/python3.10/http/client.py\u001b[0m in \u001b[0;36mgetresponse\u001b[0;34m(self)\u001b[0m\n\u001b[1;32m   1373\u001b[0m         \u001b[0;32mtry\u001b[0m\u001b[0;34m:\u001b[0m\u001b[0;34m\u001b[0m\u001b[0;34m\u001b[0m\u001b[0m\n\u001b[1;32m   1374\u001b[0m             \u001b[0;32mtry\u001b[0m\u001b[0;34m:\u001b[0m\u001b[0;34m\u001b[0m\u001b[0;34m\u001b[0m\u001b[0m\n\u001b[0;32m-> 1375\u001b[0;31m                 \u001b[0mresponse\u001b[0m\u001b[0;34m.\u001b[0m\u001b[0mbegin\u001b[0m\u001b[0;34m(\u001b[0m\u001b[0;34m)\u001b[0m\u001b[0;34m\u001b[0m\u001b[0;34m\u001b[0m\u001b[0m\n\u001b[0m\u001b[1;32m   1376\u001b[0m             \u001b[0;32mexcept\u001b[0m \u001b[0mConnectionError\u001b[0m\u001b[0;34m:\u001b[0m\u001b[0;34m\u001b[0m\u001b[0;34m\u001b[0m\u001b[0m\n\u001b[1;32m   1377\u001b[0m                 \u001b[0mself\u001b[0m\u001b[0;34m.\u001b[0m\u001b[0mclose\u001b[0m\u001b[0;34m(\u001b[0m\u001b[0;34m)\u001b[0m\u001b[0;34m\u001b[0m\u001b[0;34m\u001b[0m\u001b[0m\n",
            "\u001b[0;32m/usr/lib/python3.10/http/client.py\u001b[0m in \u001b[0;36mbegin\u001b[0;34m(self)\u001b[0m\n\u001b[1;32m    316\u001b[0m         \u001b[0;31m# read until we get a non-100 response\u001b[0m\u001b[0;34m\u001b[0m\u001b[0;34m\u001b[0m\u001b[0m\n\u001b[1;32m    317\u001b[0m         \u001b[0;32mwhile\u001b[0m \u001b[0;32mTrue\u001b[0m\u001b[0;34m:\u001b[0m\u001b[0;34m\u001b[0m\u001b[0;34m\u001b[0m\u001b[0m\n\u001b[0;32m--> 318\u001b[0;31m             \u001b[0mversion\u001b[0m\u001b[0;34m,\u001b[0m \u001b[0mstatus\u001b[0m\u001b[0;34m,\u001b[0m \u001b[0mreason\u001b[0m \u001b[0;34m=\u001b[0m \u001b[0mself\u001b[0m\u001b[0;34m.\u001b[0m\u001b[0m_read_status\u001b[0m\u001b[0;34m(\u001b[0m\u001b[0;34m)\u001b[0m\u001b[0;34m\u001b[0m\u001b[0;34m\u001b[0m\u001b[0m\n\u001b[0m\u001b[1;32m    319\u001b[0m             \u001b[0;32mif\u001b[0m \u001b[0mstatus\u001b[0m \u001b[0;34m!=\u001b[0m \u001b[0mCONTINUE\u001b[0m\u001b[0;34m:\u001b[0m\u001b[0;34m\u001b[0m\u001b[0;34m\u001b[0m\u001b[0m\n\u001b[1;32m    320\u001b[0m                 \u001b[0;32mbreak\u001b[0m\u001b[0;34m\u001b[0m\u001b[0;34m\u001b[0m\u001b[0m\n",
            "\u001b[0;32m/usr/lib/python3.10/http/client.py\u001b[0m in \u001b[0;36m_read_status\u001b[0;34m(self)\u001b[0m\n\u001b[1;32m    277\u001b[0m \u001b[0;34m\u001b[0m\u001b[0m\n\u001b[1;32m    278\u001b[0m     \u001b[0;32mdef\u001b[0m \u001b[0m_read_status\u001b[0m\u001b[0;34m(\u001b[0m\u001b[0mself\u001b[0m\u001b[0;34m)\u001b[0m\u001b[0;34m:\u001b[0m\u001b[0;34m\u001b[0m\u001b[0;34m\u001b[0m\u001b[0m\n\u001b[0;32m--> 279\u001b[0;31m         \u001b[0mline\u001b[0m \u001b[0;34m=\u001b[0m \u001b[0mstr\u001b[0m\u001b[0;34m(\u001b[0m\u001b[0mself\u001b[0m\u001b[0;34m.\u001b[0m\u001b[0mfp\u001b[0m\u001b[0;34m.\u001b[0m\u001b[0mreadline\u001b[0m\u001b[0;34m(\u001b[0m\u001b[0m_MAXLINE\u001b[0m \u001b[0;34m+\u001b[0m \u001b[0;36m1\u001b[0m\u001b[0;34m)\u001b[0m\u001b[0;34m,\u001b[0m \u001b[0;34m\"iso-8859-1\"\u001b[0m\u001b[0;34m)\u001b[0m\u001b[0;34m\u001b[0m\u001b[0;34m\u001b[0m\u001b[0m\n\u001b[0m\u001b[1;32m    280\u001b[0m         \u001b[0;32mif\u001b[0m \u001b[0mlen\u001b[0m\u001b[0;34m(\u001b[0m\u001b[0mline\u001b[0m\u001b[0;34m)\u001b[0m \u001b[0;34m>\u001b[0m \u001b[0m_MAXLINE\u001b[0m\u001b[0;34m:\u001b[0m\u001b[0;34m\u001b[0m\u001b[0;34m\u001b[0m\u001b[0m\n\u001b[1;32m    281\u001b[0m             \u001b[0;32mraise\u001b[0m \u001b[0mLineTooLong\u001b[0m\u001b[0;34m(\u001b[0m\u001b[0;34m\"status line\"\u001b[0m\u001b[0;34m)\u001b[0m\u001b[0;34m\u001b[0m\u001b[0;34m\u001b[0m\u001b[0m\n",
            "\u001b[0;32m/usr/lib/python3.10/socket.py\u001b[0m in \u001b[0;36mreadinto\u001b[0;34m(self, b)\u001b[0m\n\u001b[1;32m    703\u001b[0m         \u001b[0;32mwhile\u001b[0m \u001b[0;32mTrue\u001b[0m\u001b[0;34m:\u001b[0m\u001b[0;34m\u001b[0m\u001b[0;34m\u001b[0m\u001b[0m\n\u001b[1;32m    704\u001b[0m             \u001b[0;32mtry\u001b[0m\u001b[0;34m:\u001b[0m\u001b[0;34m\u001b[0m\u001b[0;34m\u001b[0m\u001b[0m\n\u001b[0;32m--> 705\u001b[0;31m                 \u001b[0;32mreturn\u001b[0m \u001b[0mself\u001b[0m\u001b[0;34m.\u001b[0m\u001b[0m_sock\u001b[0m\u001b[0;34m.\u001b[0m\u001b[0mrecv_into\u001b[0m\u001b[0;34m(\u001b[0m\u001b[0mb\u001b[0m\u001b[0;34m)\u001b[0m\u001b[0;34m\u001b[0m\u001b[0;34m\u001b[0m\u001b[0m\n\u001b[0m\u001b[1;32m    706\u001b[0m             \u001b[0;32mexcept\u001b[0m \u001b[0mtimeout\u001b[0m\u001b[0;34m:\u001b[0m\u001b[0;34m\u001b[0m\u001b[0;34m\u001b[0m\u001b[0m\n\u001b[1;32m    707\u001b[0m                 \u001b[0mself\u001b[0m\u001b[0;34m.\u001b[0m\u001b[0m_timeout_occurred\u001b[0m \u001b[0;34m=\u001b[0m \u001b[0;32mTrue\u001b[0m\u001b[0;34m\u001b[0m\u001b[0;34m\u001b[0m\u001b[0m\n",
            "\u001b[0;32m/usr/lib/python3.10/ssl.py\u001b[0m in \u001b[0;36mrecv_into\u001b[0;34m(self, buffer, nbytes, flags)\u001b[0m\n\u001b[1;32m   1301\u001b[0m                   \u001b[0;34m\"non-zero flags not allowed in calls to recv_into() on %s\"\u001b[0m \u001b[0;34m%\u001b[0m\u001b[0;34m\u001b[0m\u001b[0;34m\u001b[0m\u001b[0m\n\u001b[1;32m   1302\u001b[0m                   self.__class__)\n\u001b[0;32m-> 1303\u001b[0;31m             \u001b[0;32mreturn\u001b[0m \u001b[0mself\u001b[0m\u001b[0;34m.\u001b[0m\u001b[0mread\u001b[0m\u001b[0;34m(\u001b[0m\u001b[0mnbytes\u001b[0m\u001b[0;34m,\u001b[0m \u001b[0mbuffer\u001b[0m\u001b[0;34m)\u001b[0m\u001b[0;34m\u001b[0m\u001b[0;34m\u001b[0m\u001b[0m\n\u001b[0m\u001b[1;32m   1304\u001b[0m         \u001b[0;32melse\u001b[0m\u001b[0;34m:\u001b[0m\u001b[0;34m\u001b[0m\u001b[0;34m\u001b[0m\u001b[0m\n\u001b[1;32m   1305\u001b[0m             \u001b[0;32mreturn\u001b[0m \u001b[0msuper\u001b[0m\u001b[0;34m(\u001b[0m\u001b[0;34m)\u001b[0m\u001b[0;34m.\u001b[0m\u001b[0mrecv_into\u001b[0m\u001b[0;34m(\u001b[0m\u001b[0mbuffer\u001b[0m\u001b[0;34m,\u001b[0m \u001b[0mnbytes\u001b[0m\u001b[0;34m,\u001b[0m \u001b[0mflags\u001b[0m\u001b[0;34m)\u001b[0m\u001b[0;34m\u001b[0m\u001b[0;34m\u001b[0m\u001b[0m\n",
            "\u001b[0;32m/usr/lib/python3.10/ssl.py\u001b[0m in \u001b[0;36mread\u001b[0;34m(self, len, buffer)\u001b[0m\n\u001b[1;32m   1157\u001b[0m         \u001b[0;32mtry\u001b[0m\u001b[0;34m:\u001b[0m\u001b[0;34m\u001b[0m\u001b[0;34m\u001b[0m\u001b[0m\n\u001b[1;32m   1158\u001b[0m             \u001b[0;32mif\u001b[0m \u001b[0mbuffer\u001b[0m \u001b[0;32mis\u001b[0m \u001b[0;32mnot\u001b[0m \u001b[0;32mNone\u001b[0m\u001b[0;34m:\u001b[0m\u001b[0;34m\u001b[0m\u001b[0;34m\u001b[0m\u001b[0m\n\u001b[0;32m-> 1159\u001b[0;31m                 \u001b[0;32mreturn\u001b[0m \u001b[0mself\u001b[0m\u001b[0;34m.\u001b[0m\u001b[0m_sslobj\u001b[0m\u001b[0;34m.\u001b[0m\u001b[0mread\u001b[0m\u001b[0;34m(\u001b[0m\u001b[0mlen\u001b[0m\u001b[0;34m,\u001b[0m \u001b[0mbuffer\u001b[0m\u001b[0;34m)\u001b[0m\u001b[0;34m\u001b[0m\u001b[0;34m\u001b[0m\u001b[0m\n\u001b[0m\u001b[1;32m   1160\u001b[0m             \u001b[0;32melse\u001b[0m\u001b[0;34m:\u001b[0m\u001b[0;34m\u001b[0m\u001b[0;34m\u001b[0m\u001b[0m\n\u001b[1;32m   1161\u001b[0m                 \u001b[0;32mreturn\u001b[0m \u001b[0mself\u001b[0m\u001b[0;34m.\u001b[0m\u001b[0m_sslobj\u001b[0m\u001b[0;34m.\u001b[0m\u001b[0mread\u001b[0m\u001b[0;34m(\u001b[0m\u001b[0mlen\u001b[0m\u001b[0;34m)\u001b[0m\u001b[0;34m\u001b[0m\u001b[0;34m\u001b[0m\u001b[0m\n",
            "\u001b[0;31mKeyboardInterrupt\u001b[0m: "
          ]
        }
      ]
    },
    {
      "cell_type": "code",
      "source": [
        "#CNBC Article Link Scraper\n",
        "url = 'https://search.cnbc.com/rs/search/combinedcms/view.xml?partnerId=wrss01&id=10000113'\n",
        "html_page = requests.get(url)\n",
        "soup = BeautifulSoup(html_page.text, \"lxml\")\n",
        "links = []\n",
        "for item in soup.find_all(\"item\"):\n",
        "  link= str(item)\n",
        "  i = link.find(\"<link/>\")\n",
        "  j = link.find(\"<guid\")\n",
        "  x = link[i+7:j]\n",
        "  #removes white space at end of links\n",
        "  y = x.split('\\n', 1)[0].strip()\n",
        "  links.append(y)\n",
        "CNBC_links = links\n",
        "CNBC_links"
      ],
      "metadata": {
        "colab": {
          "base_uri": "https://localhost:8080/"
        },
        "id": "qPRHMXMHS-_i",
        "outputId": "8ba61665-87d4-434d-9405-a84cdcf2fd9e",
        "collapsed": true
      },
      "execution_count": null,
      "outputs": [
        {
          "output_type": "stream",
          "name": "stderr",
          "text": [
            "<ipython-input-29-45db278800c3>:4: XMLParsedAsHTMLWarning: It looks like you're parsing an XML document using an HTML parser. If this really is an HTML document (maybe it's XHTML?), you can ignore or filter this warning. If it's XML, you should know that using an XML parser will be more reliable. To parse this document as XML, make sure you have the lxml package installed, and pass the keyword argument `features=\"xml\"` into the BeautifulSoup constructor.\n",
            "  soup = BeautifulSoup(html_page.text, \"lxml\")\n"
          ]
        },
        {
          "output_type": "execute_result",
          "data": {
            "text/plain": [
              "['https://www.cnbc.com/2024/09/19/watch-biden-speaks-at-the-economic-club-of-washington-dc.html',\n",
              " 'https://www.cnbc.com/2024/09/19/lebanese-ministers-warn-of-a-dangerous-next-48-hours-after-pager-attacks.html',\n",
              " 'https://www.cnbc.com/2024/09/19/biden-student-debt-forgiveness-ruling.html',\n",
              " 'https://www.cnbc.com/2024/09/19/djt-trump-media-stock-lockup.html',\n",
              " 'https://www.cnbc.com/2024/09/19/5-things-to-know-before-the-stock-market-opens-thursday-september-19.html',\n",
              " 'https://www.cnbc.com/2024/09/19/ray-dalio-calls-upcoming-us-election-the-most-consequential-of-his-lifetime.html',\n",
              " 'https://www.cnbc.com/2024/09/18/djt-trump-media-slips-merger-lockup.html',\n",
              " 'https://www.cnbc.com/2024/09/18/harvey-weinstein-hit-with-new-sex-crime-charge-in-new-york.html',\n",
              " 'https://www.cnbc.com/2024/09/18/fed-chair-powell-downplays-rate-cut-trump-harris-election-impact.html',\n",
              " 'https://www.cnbc.com/2024/09/18/teamsters-no-endorsement-harris-trump-presidential-election.html',\n",
              " 'https://www.cnbc.com/2024/09/18/speaker-mike-johnson-trump-corporate-deregulation-harris-election.html',\n",
              " 'https://www.cnbc.com/2024/09/18/taiwan-manufacturer-rejects-links-to-lebanons-exploding-pager-attacks-names-hungarian-firm.html',\n",
              " 'https://www.cnbc.com/2024/09/18/doj-sues-over-baltimore-bridge-collapse-seeks-cleanup-costs.html',\n",
              " 'https://www.cnbc.com/2024/09/18/republicans-endorse-harris-over-trump.html',\n",
              " 'https://www.cnbc.com/2024/09/17/harris-black-men-trump-vote-election-nabj.html',\n",
              " 'https://www.cnbc.com/2024/09/17/harris-trump-election-cnbc-fed-survey-economists.html',\n",
              " 'https://www.cnbc.com/2024/09/18/trump-says-he-will-meet-with-indian-prime-minister-narendra-modi-next-week.html',\n",
              " 'https://www.cnbc.com/2024/09/17/microsoft-report-details-russia-disinformation-campaign-against-harris.html',\n",
              " 'https://www.cnbc.com/2024/09/17/djt-trump-media-shares-sink-6percent-days-before-lockup-restrictions-lift.html',\n",
              " 'https://www.cnbc.com/2024/09/17/trump-salt-tax-law.html',\n",
              " 'https://www.cnbc.com/2024/09/17/gop-house-speaker-biden-clean-energy-tax-credits.html',\n",
              " 'https://www.cnbc.com/2024/09/17/djt-trump-media-stock-lawsuit-lockup.html',\n",
              " 'https://www.cnbc.com/2024/09/16/trump-crypto-world-liberty-financial.html',\n",
              " 'https://www.cnbc.com/2024/09/16/springfield-bomb-threats-ohio-republican.html',\n",
              " 'https://www.cnbc.com/2024/09/16/harris-teamsters-meeting-trump-election-labor-vote.html',\n",
              " 'https://www.cnbc.com/2024/09/16/elon-musk-biden-harris-assassination-threats-.html',\n",
              " 'https://www.cnbc.com/2024/09/16/djt-shares-slip-after-second-trump-assassination-attempt.html',\n",
              " 'https://www.cnbc.com/2024/09/16/trump-assassination-attempt-routh.html',\n",
              " 'https://www.cnbc.com/2024/09/16/5-things-to-know-before-the-stock-market-opens-monday.html',\n",
              " 'https://www.cnbc.com/2024/09/15/trump-gunshots-campaign-golf-course.html']"
            ]
          },
          "metadata": {},
          "execution_count": 29
        }
      ]
    },
    {
      "cell_type": "code",
      "source": [
        "#CBS News Article Link Scraper\n",
        "url = 'https://www.cbsnews.com/latest/rss/politics'\n",
        "html_page = requests.get(url)\n",
        "soup = BeautifulSoup(html_page.text, \"lxml\")\n",
        "links = []\n",
        "for item in soup.find_all(\"item\"):\n",
        "  link= str(item)\n",
        "  i = link.find(\"<link/>\")\n",
        "  j = link.find(\"<guid\")\n",
        "  x = link[i+7:j]\n",
        "  y = x.split('\\n', 1)[0]\n",
        "  links.append(y)\n",
        "CBS_links = links\n",
        "CBS_links"
      ],
      "metadata": {
        "colab": {
          "base_uri": "https://localhost:8080/"
        },
        "collapsed": true,
        "id": "eTUXOMlXXMlU",
        "outputId": "1942426c-2eb3-4ee8-d0d7-e4df1c8ff1da"
      },
      "execution_count": null,
      "outputs": [
        {
          "output_type": "stream",
          "name": "stderr",
          "text": [
            "<ipython-input-30-01c37e2be95d>:4: XMLParsedAsHTMLWarning: It looks like you're parsing an XML document using an HTML parser. If this really is an HTML document (maybe it's XHTML?), you can ignore or filter this warning. If it's XML, you should know that using an XML parser will be more reliable. To parse this document as XML, make sure you have the lxml package installed, and pass the keyword argument `features=\"xml\"` into the BeautifulSoup constructor.\n",
            "  soup = BeautifulSoup(html_page.text, \"lxml\")\n"
          ]
        },
        {
          "output_type": "execute_result",
          "data": {
            "text/plain": [
              "['https://www.cbsnews.com/news/lindsey-graham-nebraska-electoral-college-vote-kamala-harris/',\n",
              " 'https://www.cbsnews.com/news/amazon-facebook-youtube-federal-trade-commission-privacy-children/',\n",
              " 'https://www.cbsnews.com/news/zelenskyy-white-house-meeting-biden-harris/',\n",
              " 'https://www.cbsnews.com/news/uncommitted-movement-pro-palestinian-kamala-harris/',\n",
              " 'https://www.cbsnews.com/news/supreme-court-threats-panos-anastasiou-alaska/',\n",
              " 'https://www.cbsnews.com/news/teamsters-2024-no-endorsement/',\n",
              " 'https://www.cbsnews.com/news/lamonica-mciver-wins-new-jersey-house-election/',\n",
              " 'https://www.cbsnews.com/sanfrancisco/news/newly-naturalized-latina-us-citizen-ready-vote-november-election/',\n",
              " 'https://www.cbsnews.com/news/nasas-hidden-figures-congressional-gold-medal-ceremony/',\n",
              " 'https://www.cbsnews.com/news/iran-hackers-stolen-trump-campaign-info-biden-campaign-fbi-2024-election/',\n",
              " 'https://www.cbsnews.com/video/trump-security-bolstered-following-apparent-assassination-attempt/',\n",
              " 'https://www.cbsnews.com/news/trump-inflation-cost-households-28000-biden-harris-fact-check/',\n",
              " 'https://www.cbsnews.com/news/trump-salt-deduction-cap-10000-tax-cuts-jobs-act-reversal/',\n",
              " 'https://www.cbsnews.com/news/trump-harris-inflation-2024/',\n",
              " 'https://www.cbsnews.com/news/donald-trump-rally-nassau-coliseum-uniondale-long-island/',\n",
              " 'https://www.cbsnews.com/news/bogus-story-kamala-harris-paralyzed-teen-russia-disinformation-microsoft/',\n",
              " 'https://www.cbsnews.com/news/passport-renewal-online-state-department/',\n",
              " 'https://www.cbsnews.com/news/government-shutdown-house-vote-continuing-resolution-save-act/',\n",
              " 'https://www.cbsnews.com/news/jimmy-carter-100-concert-100th-birthday/',\n",
              " 'https://www.cbsnews.com/news/dockworkers-strike-threat-key-us-ports-consumers/',\n",
              " 'https://www.cbsnews.com/news/paul-whelan-russia-prisoner-swap-us-capitol-message/',\n",
              " 'https://www.cbsnews.com/news/harris-trump-haitian-migrants/',\n",
              " 'https://www.cbsnews.com/video/trump-harris-hit-campaign-trails-after-alleged-assassination-attempt/',\n",
              " 'https://www.cbsnews.com/news/trump-campaigns-flint-michigan-first-appearance-since-apparent-assassination-attempt/',\n",
              " 'https://www.cbsnews.com/news/fbi-suspicious-letters-unknown-substance-election-officials/',\n",
              " 'https://www.cbsnews.com/video/new-details-emerge-about-alleged-attempted-trump-assassination-suspect/',\n",
              " 'https://www.cbsnews.com/news/republican-allies-jill-stein-green-party-democrats-ballots-battleground-states/',\n",
              " 'https://www.cbsnews.com/news/venezuela-4th-american-arrested-nicolas-maduro-alleged-plot/',\n",
              " 'https://www.cbsnews.com/news/trump-crypto-exchange-world-liberty-financial/',\n",
              " 'https://www.cbsnews.com/news/government-shutdown-continuing-resolution-save-act/']"
            ]
          },
          "metadata": {},
          "execution_count": 30
        }
      ]
    },
    {
      "cell_type": "code",
      "source": [
        "#ABC News Article Link Scraper - in progress\n",
        "\n",
        "headers = {\"user-agent\": \"Mozilla/5.0\"}\n",
        "#Mozilla/5.0 (Windows NT 10.0; Win64; x64) AppleWebKit/537.36 (KHTML, like Gecko) Chrome/113.0.0.0 Safari/537.36 Edg/113.0.1774.35\n",
        "html_page = requests.get('https://abcnews.go.com/abcnews/politicsheadlines',headers=headers)\n",
        "#lxml-xml needed so it can parse the CDATA (where the links are) ? jk\n",
        "soup = BeautifulSoup(html_page.text, \"xml\")\n",
        "links = []\n",
        "for item in soup.find_all(\"item\"):\n",
        "  link= str(item)\n",
        "  i = link.find(\"CDATA\")\n",
        "  j = link.find(\"<guid\")\n",
        "  x = link[i+7:j]\n",
        "  y = x.split('\\n', 1)[0]\n",
        "  links.append(y)\n",
        "\n",
        "ABC_links = links\n",
        "ABC_links"
      ],
      "metadata": {
        "colab": {
          "base_uri": "https://localhost:8080/"
        },
        "collapsed": true,
        "id": "JMUnOcm5YLG9",
        "outputId": "1784aac1-d8ab-4b7b-ca20-e91b93c2278d"
      },
      "execution_count": null,
      "outputs": [
        {
          "output_type": "execute_result",
          "data": {
            "text/plain": [
              "['<media:thumbnail height=\"288\" url=\"https://s.abcnews.com/images/Politics/wirestory_2d29668ace1ce239b7b6b209409bb6f5_4x3_384.jpg\" width=\"384\"/><media:thumbnail height=\"108\" url=\"https://s.abcnews.com/images/Politics/wirestory_2d29668ace1ce239b7b6b209409bb6f5_4x3_144.jpg\" width=\"144\"/><media:thumbnail height=\"288\" url=\"https://s.abcnews.com/images/Politics/wirestory_2d29668ace1ce239b7b6b209409bb6f5_4x3_384.jpg\" width=\"384\"/><media:thumbnail height=\"135\" url=\"https://s.abcnews.com/images/Politics/wirestory_2d29668ace1ce239b7b6b209409bb6f5_16x9_240.jpg\" width=\"240\"/><media:thumbnail height=\"456\" url=\"https://s.abcnews.com/images/Politics/wirestory_2d29668ace1ce239b7b6b209409bb6f5_4x3_608.jpg\" width=\"608\"/><media:thumbnail height=\"558\" url=\"https://s.abcnews.com/images/Politics/wirestory_2d29668ace1ce239b7b6b209409bb6f5_16x9_992.jpg\" width=\"992\"/><media:thumbnail height=\"900\" url=\"https://s.abcnews.com/images/Politics/wirestory_2d29668ace1ce239b7b6b209409bb6f5_16x9_1600.jpg\" width=\"1600\"/>',\n",
              " '<media:thumbnail height=\"288\" url=\"https://s.abcnews.com/images/US/wirestory_8686607f9d4920c5f995bbe8255c2f02_4x3_384.jpg\" width=\"384\"/><media:thumbnail height=\"108\" url=\"https://s.abcnews.com/images/US/wirestory_8686607f9d4920c5f995bbe8255c2f02_4x3_144.jpg\" width=\"144\"/><media:thumbnail height=\"288\" url=\"https://s.abcnews.com/images/US/wirestory_8686607f9d4920c5f995bbe8255c2f02_4x3_384.jpg\" width=\"384\"/><media:thumbnail height=\"135\" url=\"https://s.abcnews.com/images/US/wirestory_8686607f9d4920c5f995bbe8255c2f02_16x9_240.jpg\" width=\"240\"/><media:thumbnail height=\"456\" url=\"https://s.abcnews.com/images/US/wirestory_8686607f9d4920c5f995bbe8255c2f02_4x3_608.jpg\" width=\"608\"/><media:thumbnail height=\"558\" url=\"https://s.abcnews.com/images/US/wirestory_8686607f9d4920c5f995bbe8255c2f02_16x9_992.jpg\" width=\"992\"/><media:thumbnail height=\"900\" url=\"https://s.abcnews.com/images/US/wirestory_8686607f9d4920c5f995bbe8255c2f02_16x9_1600.jpg\" width=\"1600\"/>',\n",
              " '<media:thumbnail height=\"288\" url=\"https://s.abcnews.com/images/US/wirestory_4a0bb4126ab2ded70cf78bb76501d7d9_4x3_384.jpg\" width=\"384\"/><media:thumbnail height=\"108\" url=\"https://s.abcnews.com/images/US/wirestory_4a0bb4126ab2ded70cf78bb76501d7d9_4x3_144.jpg\" width=\"144\"/><media:thumbnail height=\"288\" url=\"https://s.abcnews.com/images/US/wirestory_4a0bb4126ab2ded70cf78bb76501d7d9_4x3_384.jpg\" width=\"384\"/><media:thumbnail height=\"135\" url=\"https://s.abcnews.com/images/US/wirestory_4a0bb4126ab2ded70cf78bb76501d7d9_16x9_240.jpg\" width=\"240\"/><media:thumbnail height=\"456\" url=\"https://s.abcnews.com/images/US/wirestory_4a0bb4126ab2ded70cf78bb76501d7d9_4x3_608.jpg\" width=\"608\"/><media:thumbnail height=\"558\" url=\"https://s.abcnews.com/images/US/wirestory_4a0bb4126ab2ded70cf78bb76501d7d9_16x9_992.jpg\" width=\"992\"/><media:thumbnail height=\"900\" url=\"https://s.abcnews.com/images/US/wirestory_4a0bb4126ab2ded70cf78bb76501d7d9_16x9_1600.jpg\" width=\"1600\"/>',\n",
              " '<media:thumbnail height=\"288\" url=\"https://s.abcnews.com/images/Sports/wirestory_bb0a645733fff50b71b07443a17cc6bd_4x3_384.jpg\" width=\"384\"/><media:thumbnail height=\"108\" url=\"https://s.abcnews.com/images/Sports/wirestory_bb0a645733fff50b71b07443a17cc6bd_4x3_144.jpg\" width=\"144\"/><media:thumbnail height=\"288\" url=\"https://s.abcnews.com/images/Sports/wirestory_bb0a645733fff50b71b07443a17cc6bd_4x3_384.jpg\" width=\"384\"/><media:thumbnail height=\"135\" url=\"https://s.abcnews.com/images/Sports/wirestory_bb0a645733fff50b71b07443a17cc6bd_16x9_240.jpg\" width=\"240\"/><media:thumbnail height=\"456\" url=\"https://s.abcnews.com/images/Sports/wirestory_bb0a645733fff50b71b07443a17cc6bd_4x3_608.jpg\" width=\"608\"/><media:thumbnail height=\"558\" url=\"https://s.abcnews.com/images/Sports/wirestory_bb0a645733fff50b71b07443a17cc6bd_16x9_992.jpg\" width=\"992\"/><media:thumbnail height=\"900\" url=\"https://s.abcnews.com/images/Sports/wirestory_bb0a645733fff50b71b07443a17cc6bd_16x9_1600.jpg\" width=\"1600\"/>',\n",
              " '<media:thumbnail height=\"288\" url=\"https://s.abcnews.com/images/US/wirestory_b930783c02ba5f4fc6be3c3bfd38cc2e_4x3_384.jpg\" width=\"384\"/><media:thumbnail height=\"108\" url=\"https://s.abcnews.com/images/US/wirestory_b930783c02ba5f4fc6be3c3bfd38cc2e_4x3_144.jpg\" width=\"144\"/><media:thumbnail height=\"288\" url=\"https://s.abcnews.com/images/US/wirestory_b930783c02ba5f4fc6be3c3bfd38cc2e_4x3_384.jpg\" width=\"384\"/><media:thumbnail height=\"135\" url=\"https://s.abcnews.com/images/US/wirestory_b930783c02ba5f4fc6be3c3bfd38cc2e_16x9_240.jpg\" width=\"240\"/><media:thumbnail height=\"456\" url=\"https://s.abcnews.com/images/US/wirestory_b930783c02ba5f4fc6be3c3bfd38cc2e_4x3_608.jpg\" width=\"608\"/><media:thumbnail height=\"558\" url=\"https://s.abcnews.com/images/US/wirestory_b930783c02ba5f4fc6be3c3bfd38cc2e_16x9_992.jpg\" width=\"992\"/><media:thumbnail height=\"900\" url=\"https://s.abcnews.com/images/US/wirestory_b930783c02ba5f4fc6be3c3bfd38cc2e_16x9_1600.jpg\" width=\"1600\"/>',\n",
              " '<media:thumbnail height=\"288\" url=\"https://s.abcnews.com/images/US/wirestory_863e8a1e97a8cb2c4f830cc954335dd7_4x3_384.jpg\" width=\"384\"/><media:thumbnail height=\"108\" url=\"https://s.abcnews.com/images/US/wirestory_863e8a1e97a8cb2c4f830cc954335dd7_4x3_144.jpg\" width=\"144\"/><media:thumbnail height=\"288\" url=\"https://s.abcnews.com/images/US/wirestory_863e8a1e97a8cb2c4f830cc954335dd7_4x3_384.jpg\" width=\"384\"/><media:thumbnail height=\"135\" url=\"https://s.abcnews.com/images/US/wirestory_863e8a1e97a8cb2c4f830cc954335dd7_16x9_240.jpg\" width=\"240\"/><media:thumbnail height=\"456\" url=\"https://s.abcnews.com/images/US/wirestory_863e8a1e97a8cb2c4f830cc954335dd7_4x3_608.jpg\" width=\"608\"/><media:thumbnail height=\"558\" url=\"https://s.abcnews.com/images/US/wirestory_863e8a1e97a8cb2c4f830cc954335dd7_16x9_992.jpg\" width=\"992\"/><media:thumbnail height=\"900\" url=\"https://s.abcnews.com/images/US/wirestory_863e8a1e97a8cb2c4f830cc954335dd7_16x9_1600.jpg\" width=\"1600\"/>',\n",
              " '<media:thumbnail height=\"288\" url=\"https://s.abcnews.com/images/US/wirestory_79acfb7bfc9a2edcac5b388623c793a4_4x3_384.jpg\" width=\"384\"/><media:thumbnail height=\"108\" url=\"https://s.abcnews.com/images/US/wirestory_79acfb7bfc9a2edcac5b388623c793a4_4x3_144.jpg\" width=\"144\"/><media:thumbnail height=\"288\" url=\"https://s.abcnews.com/images/US/wirestory_79acfb7bfc9a2edcac5b388623c793a4_4x3_384.jpg\" width=\"384\"/><media:thumbnail height=\"135\" url=\"https://s.abcnews.com/images/US/wirestory_79acfb7bfc9a2edcac5b388623c793a4_16x9_240.jpg\" width=\"240\"/><media:thumbnail height=\"456\" url=\"https://s.abcnews.com/images/US/wirestory_79acfb7bfc9a2edcac5b388623c793a4_4x3_608.jpg\" width=\"608\"/><media:thumbnail height=\"558\" url=\"https://s.abcnews.com/images/US/wirestory_79acfb7bfc9a2edcac5b388623c793a4_16x9_992.jpg\" width=\"992\"/><media:thumbnail height=\"900\" url=\"https://s.abcnews.com/images/US/wirestory_79acfb7bfc9a2edcac5b388623c793a4_16x9_1600.jpg\" width=\"1600\"/>',\n",
              " '<media:thumbnail height=\"288\" url=\"https://s.abcnews.com/images/Politics/wirestory_90f3633df4f19995776120dc1c22a249_4x3_384.jpg\" width=\"384\"/><media:thumbnail height=\"108\" url=\"https://s.abcnews.com/images/Politics/wirestory_90f3633df4f19995776120dc1c22a249_4x3_144.jpg\" width=\"144\"/><media:thumbnail height=\"288\" url=\"https://s.abcnews.com/images/Politics/wirestory_90f3633df4f19995776120dc1c22a249_4x3_384.jpg\" width=\"384\"/><media:thumbnail height=\"135\" url=\"https://s.abcnews.com/images/Politics/wirestory_90f3633df4f19995776120dc1c22a249_16x9_240.jpg\" width=\"240\"/><media:thumbnail height=\"456\" url=\"https://s.abcnews.com/images/Politics/wirestory_90f3633df4f19995776120dc1c22a249_4x3_608.jpg\" width=\"608\"/><media:thumbnail height=\"558\" url=\"https://s.abcnews.com/images/Politics/wirestory_90f3633df4f19995776120dc1c22a249_16x9_992.jpg\" width=\"992\"/><media:thumbnail height=\"900\" url=\"https://s.abcnews.com/images/Politics/wirestory_90f3633df4f19995776120dc1c22a249_16x9_1600.jpg\" width=\"1600\"/>',\n",
              " '<media:thumbnail height=\"288\" url=\"https://s.abcnews.com/images/US/abc_news_default_2000x2000_update_4x3t_384.jpg\" width=\"384\"/><media:thumbnail height=\"108\" url=\"https://s.abcnews.com/images/US/abc_news_default_2000x2000_update_4x3t_144.jpg\" width=\"144\"/><media:thumbnail height=\"288\" url=\"https://s.abcnews.com/images/US/abc_news_default_2000x2000_update_4x3t_384.jpg\" width=\"384\"/><media:thumbnail height=\"135\" url=\"https://s.abcnews.com/images/US/abc_news_default_2000x2000_update_16x9t_240.jpg\" width=\"240\"/><media:thumbnail height=\"456\" url=\"https://s.abcnews.com/images/US/abc_news_default_2000x2000_update_4x3_608.jpg\" width=\"608\"/><media:thumbnail height=\"558\" url=\"https://s.abcnews.com/images/US/abc_news_default_2000x2000_update_16x9_992.jpg\" width=\"992\"/><media:thumbnail height=\"900\" url=\"https://s.abcnews.com/images/US/abc_news_default_2000x2000_update_16x9_1600.jpg\" width=\"1600\"/>',\n",
              " '<media:thumbnail height=\"288\" url=\"https://s.abcnews.com/images/US/wirestory_ad5adb06499a4378a7a05c28f4aeffba_4x3_384.jpg\" width=\"384\"/><media:thumbnail height=\"108\" url=\"https://s.abcnews.com/images/US/wirestory_ad5adb06499a4378a7a05c28f4aeffba_4x3_144.jpg\" width=\"144\"/><media:thumbnail height=\"288\" url=\"https://s.abcnews.com/images/US/wirestory_ad5adb06499a4378a7a05c28f4aeffba_4x3_384.jpg\" width=\"384\"/><media:thumbnail height=\"135\" url=\"https://s.abcnews.com/images/US/wirestory_ad5adb06499a4378a7a05c28f4aeffba_16x9_240.jpg\" width=\"240\"/><media:thumbnail height=\"456\" url=\"https://s.abcnews.com/images/US/wirestory_ad5adb06499a4378a7a05c28f4aeffba_4x3_608.jpg\" width=\"608\"/><media:thumbnail height=\"558\" url=\"https://s.abcnews.com/images/US/wirestory_ad5adb06499a4378a7a05c28f4aeffba_16x9_992.jpg\" width=\"992\"/><media:thumbnail height=\"900\" url=\"https://s.abcnews.com/images/US/wirestory_ad5adb06499a4378a7a05c28f4aeffba_16x9_1600.jpg\" width=\"1600\"/>',\n",
              " '<media:thumbnail height=\"288\" url=\"https://s.abcnews.com/images/US/wirestory_4370d7fb16f81e75ce3b182d6ff88cd9_4x3_384.jpg\" width=\"384\"/><media:thumbnail height=\"108\" url=\"https://s.abcnews.com/images/US/wirestory_4370d7fb16f81e75ce3b182d6ff88cd9_4x3_144.jpg\" width=\"144\"/><media:thumbnail height=\"288\" url=\"https://s.abcnews.com/images/US/wirestory_4370d7fb16f81e75ce3b182d6ff88cd9_4x3_384.jpg\" width=\"384\"/><media:thumbnail height=\"135\" url=\"https://s.abcnews.com/images/US/wirestory_4370d7fb16f81e75ce3b182d6ff88cd9_16x9_240.jpg\" width=\"240\"/><media:thumbnail height=\"456\" url=\"https://s.abcnews.com/images/US/wirestory_4370d7fb16f81e75ce3b182d6ff88cd9_4x3_608.jpg\" width=\"608\"/><media:thumbnail height=\"558\" url=\"https://s.abcnews.com/images/US/wirestory_4370d7fb16f81e75ce3b182d6ff88cd9_16x9_992.jpg\" width=\"992\"/><media:thumbnail height=\"900\" url=\"https://s.abcnews.com/images/US/wirestory_4370d7fb16f81e75ce3b182d6ff88cd9_16x9_1600.jpg\" width=\"1600\"/>',\n",
              " '<media:thumbnail height=\"288\" url=\"https://s.abcnews.com/images/US/wirestory_3631e1832a8edb549d53126585503f32_4x3_384.jpg\" width=\"384\"/><media:thumbnail height=\"108\" url=\"https://s.abcnews.com/images/US/wirestory_3631e1832a8edb549d53126585503f32_4x3_144.jpg\" width=\"144\"/><media:thumbnail height=\"288\" url=\"https://s.abcnews.com/images/US/wirestory_3631e1832a8edb549d53126585503f32_4x3_384.jpg\" width=\"384\"/><media:thumbnail height=\"135\" url=\"https://s.abcnews.com/images/US/wirestory_3631e1832a8edb549d53126585503f32_16x9_240.jpg\" width=\"240\"/><media:thumbnail height=\"456\" url=\"https://s.abcnews.com/images/US/wirestory_3631e1832a8edb549d53126585503f32_4x3_608.jpg\" width=\"608\"/><media:thumbnail height=\"558\" url=\"https://s.abcnews.com/images/US/wirestory_3631e1832a8edb549d53126585503f32_16x9_992.jpg\" width=\"992\"/><media:thumbnail height=\"900\" url=\"https://s.abcnews.com/images/US/wirestory_3631e1832a8edb549d53126585503f32_16x9_1600.jpg\" width=\"1600\"/>',\n",
              " '<media:thumbnail height=\"288\" url=\"https://s.abcnews.com/images/Politics/wirestory_0f024d98e25a361db35761b2fb740e3b_4x3_384.jpg\" width=\"384\"/><media:thumbnail height=\"108\" url=\"https://s.abcnews.com/images/Politics/wirestory_0f024d98e25a361db35761b2fb740e3b_4x3_144.jpg\" width=\"144\"/><media:thumbnail height=\"288\" url=\"https://s.abcnews.com/images/Politics/wirestory_0f024d98e25a361db35761b2fb740e3b_4x3_384.jpg\" width=\"384\"/><media:thumbnail height=\"135\" url=\"https://s.abcnews.com/images/Politics/wirestory_0f024d98e25a361db35761b2fb740e3b_16x9_240.jpg\" width=\"240\"/><media:thumbnail height=\"456\" url=\"https://s.abcnews.com/images/Politics/wirestory_0f024d98e25a361db35761b2fb740e3b_4x3_608.jpg\" width=\"608\"/><media:thumbnail height=\"558\" url=\"https://s.abcnews.com/images/Politics/wirestory_0f024d98e25a361db35761b2fb740e3b_16x9_992.jpg\" width=\"992\"/><media:thumbnail height=\"900\" url=\"https://s.abcnews.com/images/Politics/wirestory_0f024d98e25a361db35761b2fb740e3b_16x9_1600.jpg\" width=\"1600\"/>',\n",
              " '<media:thumbnail height=\"288\" url=\"https://s.abcnews.com/images/US/wirestory_17c845eb36751c8a96a19c36b1081566_4x3_384.jpg\" width=\"384\"/><media:thumbnail height=\"108\" url=\"https://s.abcnews.com/images/US/wirestory_17c845eb36751c8a96a19c36b1081566_4x3_144.jpg\" width=\"144\"/><media:thumbnail height=\"288\" url=\"https://s.abcnews.com/images/US/wirestory_17c845eb36751c8a96a19c36b1081566_4x3_384.jpg\" width=\"384\"/><media:thumbnail height=\"135\" url=\"https://s.abcnews.com/images/US/wirestory_17c845eb36751c8a96a19c36b1081566_16x9_240.jpg\" width=\"240\"/><media:thumbnail height=\"456\" url=\"https://s.abcnews.com/images/US/wirestory_17c845eb36751c8a96a19c36b1081566_4x3_608.jpg\" width=\"608\"/><media:thumbnail height=\"558\" url=\"https://s.abcnews.com/images/US/wirestory_17c845eb36751c8a96a19c36b1081566_16x9_992.jpg\" width=\"992\"/><media:thumbnail height=\"900\" url=\"https://s.abcnews.com/images/US/wirestory_17c845eb36751c8a96a19c36b1081566_16x9_1600.jpg\" width=\"1600\"/>',\n",
              " '<media:thumbnail height=\"288\" url=\"https://s.abcnews.com/images/US/wirestory_0e70cb32b06d9187eaef5bdacaba6d77_4x3_384.jpg\" width=\"384\"/><media:thumbnail height=\"108\" url=\"https://s.abcnews.com/images/US/wirestory_0e70cb32b06d9187eaef5bdacaba6d77_4x3_144.jpg\" width=\"144\"/><media:thumbnail height=\"288\" url=\"https://s.abcnews.com/images/US/wirestory_0e70cb32b06d9187eaef5bdacaba6d77_4x3_384.jpg\" width=\"384\"/><media:thumbnail height=\"135\" url=\"https://s.abcnews.com/images/US/wirestory_0e70cb32b06d9187eaef5bdacaba6d77_16x9_240.jpg\" width=\"240\"/><media:thumbnail height=\"456\" url=\"https://s.abcnews.com/images/US/wirestory_0e70cb32b06d9187eaef5bdacaba6d77_4x3_608.jpg\" width=\"608\"/><media:thumbnail height=\"558\" url=\"https://s.abcnews.com/images/US/wirestory_0e70cb32b06d9187eaef5bdacaba6d77_16x9_992.jpg\" width=\"992\"/><media:thumbnail height=\"900\" url=\"https://s.abcnews.com/images/US/wirestory_0e70cb32b06d9187eaef5bdacaba6d77_16x9_1600.jpg\" width=\"1600\"/>',\n",
              " '<media:thumbnail height=\"288\" url=\"https://s.abcnews.com/images/US/wirestory_0283bc6f92e9f9920094b78d821df227_4x3_384.jpg\" width=\"384\"/><media:thumbnail height=\"108\" url=\"https://s.abcnews.com/images/US/wirestory_0283bc6f92e9f9920094b78d821df227_4x3_144.jpg\" width=\"144\"/><media:thumbnail height=\"288\" url=\"https://s.abcnews.com/images/US/wirestory_0283bc6f92e9f9920094b78d821df227_4x3_384.jpg\" width=\"384\"/><media:thumbnail height=\"135\" url=\"https://s.abcnews.com/images/US/wirestory_0283bc6f92e9f9920094b78d821df227_16x9_240.jpg\" width=\"240\"/><media:thumbnail height=\"456\" url=\"https://s.abcnews.com/images/US/wirestory_0283bc6f92e9f9920094b78d821df227_4x3_608.jpg\" width=\"608\"/><media:thumbnail height=\"558\" url=\"https://s.abcnews.com/images/US/wirestory_0283bc6f92e9f9920094b78d821df227_16x9_992.jpg\" width=\"992\"/><media:thumbnail height=\"900\" url=\"https://s.abcnews.com/images/US/wirestory_0283bc6f92e9f9920094b78d821df227_16x9_1600.jpg\" width=\"1600\"/>',\n",
              " '<media:thumbnail height=\"288\" url=\"https://s.abcnews.com/images/US/wirestory_367611170a28f470afc537dcefe158ce_4x3_384.jpg\" width=\"384\"/><media:thumbnail height=\"108\" url=\"https://s.abcnews.com/images/US/wirestory_367611170a28f470afc537dcefe158ce_4x3_144.jpg\" width=\"144\"/><media:thumbnail height=\"288\" url=\"https://s.abcnews.com/images/US/wirestory_367611170a28f470afc537dcefe158ce_4x3_384.jpg\" width=\"384\"/><media:thumbnail height=\"135\" url=\"https://s.abcnews.com/images/US/wirestory_367611170a28f470afc537dcefe158ce_16x9_240.jpg\" width=\"240\"/><media:thumbnail height=\"456\" url=\"https://s.abcnews.com/images/US/wirestory_367611170a28f470afc537dcefe158ce_4x3_608.jpg\" width=\"608\"/><media:thumbnail height=\"558\" url=\"https://s.abcnews.com/images/US/wirestory_367611170a28f470afc537dcefe158ce_16x9_992.jpg\" width=\"992\"/><media:thumbnail height=\"900\" url=\"https://s.abcnews.com/images/US/wirestory_367611170a28f470afc537dcefe158ce_16x9_1600.jpg\" width=\"1600\"/>',\n",
              " '<media:thumbnail height=\"288\" url=\"https://s.abcnews.com/images/US/wirestory_659e68134702130b7e0653fc0d8ec279_4x3_384.jpg\" width=\"384\"/><media:thumbnail height=\"108\" url=\"https://s.abcnews.com/images/US/wirestory_659e68134702130b7e0653fc0d8ec279_4x3_144.jpg\" width=\"144\"/><media:thumbnail height=\"288\" url=\"https://s.abcnews.com/images/US/wirestory_659e68134702130b7e0653fc0d8ec279_4x3_384.jpg\" width=\"384\"/><media:thumbnail height=\"135\" url=\"https://s.abcnews.com/images/US/wirestory_659e68134702130b7e0653fc0d8ec279_16x9_240.jpg\" width=\"240\"/><media:thumbnail height=\"456\" url=\"https://s.abcnews.com/images/US/wirestory_659e68134702130b7e0653fc0d8ec279_4x3_608.jpg\" width=\"608\"/><media:thumbnail height=\"558\" url=\"https://s.abcnews.com/images/US/wirestory_659e68134702130b7e0653fc0d8ec279_16x9_992.jpg\" width=\"992\"/><media:thumbnail height=\"900\" url=\"https://s.abcnews.com/images/US/wirestory_659e68134702130b7e0653fc0d8ec279_16x9_1600.jpg\" width=\"1600\"/>',\n",
              " '<media:thumbnail height=\"288\" url=\"https://s.abcnews.com/images/US/wirestory_73284ac15539bdb9923a6280b38ffb0a_4x3_384.jpg\" width=\"384\"/><media:thumbnail height=\"108\" url=\"https://s.abcnews.com/images/US/wirestory_73284ac15539bdb9923a6280b38ffb0a_4x3_144.jpg\" width=\"144\"/><media:thumbnail height=\"288\" url=\"https://s.abcnews.com/images/US/wirestory_73284ac15539bdb9923a6280b38ffb0a_4x3_384.jpg\" width=\"384\"/><media:thumbnail height=\"135\" url=\"https://s.abcnews.com/images/US/wirestory_73284ac15539bdb9923a6280b38ffb0a_16x9_240.jpg\" width=\"240\"/><media:thumbnail height=\"456\" url=\"https://s.abcnews.com/images/US/wirestory_73284ac15539bdb9923a6280b38ffb0a_4x3_608.jpg\" width=\"608\"/><media:thumbnail height=\"558\" url=\"https://s.abcnews.com/images/US/wirestory_73284ac15539bdb9923a6280b38ffb0a_16x9_992.jpg\" width=\"992\"/><media:thumbnail height=\"900\" url=\"https://s.abcnews.com/images/US/wirestory_73284ac15539bdb9923a6280b38ffb0a_16x9_1600.jpg\" width=\"1600\"/>',\n",
              " '<media:thumbnail height=\"288\" url=\"https://s.abcnews.com/images/Politics/wirestory_e4d9bd1d81d1ecdac9b5ea20eec59e33_4x3_384.jpg\" width=\"384\"/><media:thumbnail height=\"108\" url=\"https://s.abcnews.com/images/Politics/wirestory_e4d9bd1d81d1ecdac9b5ea20eec59e33_4x3_144.jpg\" width=\"144\"/><media:thumbnail height=\"288\" url=\"https://s.abcnews.com/images/Politics/wirestory_e4d9bd1d81d1ecdac9b5ea20eec59e33_4x3_384.jpg\" width=\"384\"/><media:thumbnail height=\"135\" url=\"https://s.abcnews.com/images/Politics/wirestory_e4d9bd1d81d1ecdac9b5ea20eec59e33_16x9_240.jpg\" width=\"240\"/><media:thumbnail height=\"456\" url=\"https://s.abcnews.com/images/Politics/wirestory_e4d9bd1d81d1ecdac9b5ea20eec59e33_4x3_608.jpg\" width=\"608\"/><media:thumbnail height=\"558\" url=\"https://s.abcnews.com/images/Politics/wirestory_e4d9bd1d81d1ecdac9b5ea20eec59e33_16x9_992.jpg\" width=\"992\"/><media:thumbnail height=\"900\" url=\"https://s.abcnews.com/images/Politics/wirestory_e4d9bd1d81d1ecdac9b5ea20eec59e33_16x9_1600.jpg\" width=\"1600\"/>',\n",
              " '<media:thumbnail height=\"288\" url=\"https://s.abcnews.com/images/US/wirestory_93a07354cd0ed2e7fc09c15f204f75c0_4x3_384.jpg\" width=\"384\"/><media:thumbnail height=\"108\" url=\"https://s.abcnews.com/images/US/wirestory_93a07354cd0ed2e7fc09c15f204f75c0_4x3_144.jpg\" width=\"144\"/><media:thumbnail height=\"288\" url=\"https://s.abcnews.com/images/US/wirestory_93a07354cd0ed2e7fc09c15f204f75c0_4x3_384.jpg\" width=\"384\"/><media:thumbnail height=\"135\" url=\"https://s.abcnews.com/images/US/wirestory_93a07354cd0ed2e7fc09c15f204f75c0_16x9_240.jpg\" width=\"240\"/><media:thumbnail height=\"456\" url=\"https://s.abcnews.com/images/US/wirestory_93a07354cd0ed2e7fc09c15f204f75c0_4x3_608.jpg\" width=\"608\"/><media:thumbnail height=\"558\" url=\"https://s.abcnews.com/images/US/wirestory_93a07354cd0ed2e7fc09c15f204f75c0_16x9_992.jpg\" width=\"992\"/><media:thumbnail height=\"900\" url=\"https://s.abcnews.com/images/US/wirestory_93a07354cd0ed2e7fc09c15f204f75c0_16x9_1600.jpg\" width=\"1600\"/>',\n",
              " '<media:thumbnail height=\"288\" url=\"https://s.abcnews.com/images/US/wirestory_283938abfaeeb85c63d92afdac0776c6_4x3_384.jpg\" width=\"384\"/><media:thumbnail height=\"108\" url=\"https://s.abcnews.com/images/US/wirestory_283938abfaeeb85c63d92afdac0776c6_4x3_144.jpg\" width=\"144\"/><media:thumbnail height=\"288\" url=\"https://s.abcnews.com/images/US/wirestory_283938abfaeeb85c63d92afdac0776c6_4x3_384.jpg\" width=\"384\"/><media:thumbnail height=\"135\" url=\"https://s.abcnews.com/images/US/wirestory_283938abfaeeb85c63d92afdac0776c6_16x9_240.jpg\" width=\"240\"/><media:thumbnail height=\"456\" url=\"https://s.abcnews.com/images/US/wirestory_283938abfaeeb85c63d92afdac0776c6_4x3_608.jpg\" width=\"608\"/><media:thumbnail height=\"558\" url=\"https://s.abcnews.com/images/US/wirestory_283938abfaeeb85c63d92afdac0776c6_16x9_992.jpg\" width=\"992\"/><media:thumbnail height=\"900\" url=\"https://s.abcnews.com/images/US/wirestory_283938abfaeeb85c63d92afdac0776c6_16x9_1600.jpg\" width=\"1600\"/>',\n",
              " '<media:thumbnail height=\"288\" url=\"https://s.abcnews.com/images/US/wirestory_b77fc73b1474cbee5213219358985f71_4x3_384.jpg\" width=\"384\"/><media:thumbnail height=\"108\" url=\"https://s.abcnews.com/images/US/wirestory_b77fc73b1474cbee5213219358985f71_4x3_144.jpg\" width=\"144\"/><media:thumbnail height=\"288\" url=\"https://s.abcnews.com/images/US/wirestory_b77fc73b1474cbee5213219358985f71_4x3_384.jpg\" width=\"384\"/><media:thumbnail height=\"135\" url=\"https://s.abcnews.com/images/US/wirestory_b77fc73b1474cbee5213219358985f71_16x9_240.jpg\" width=\"240\"/><media:thumbnail height=\"456\" url=\"https://s.abcnews.com/images/US/wirestory_b77fc73b1474cbee5213219358985f71_4x3_608.jpg\" width=\"608\"/><media:thumbnail height=\"558\" url=\"https://s.abcnews.com/images/US/wirestory_b77fc73b1474cbee5213219358985f71_16x9_992.jpg\" width=\"992\"/><media:thumbnail height=\"900\" url=\"https://s.abcnews.com/images/US/wirestory_b77fc73b1474cbee5213219358985f71_16x9_1600.jpg\" width=\"1600\"/>',\n",
              " '<media:thumbnail height=\"288\" url=\"https://s.abcnews.com/images/US/abc_news_default_2000x2000_update_4x3t_384.jpg\" width=\"384\"/><media:thumbnail height=\"108\" url=\"https://s.abcnews.com/images/US/abc_news_default_2000x2000_update_4x3t_144.jpg\" width=\"144\"/><media:thumbnail height=\"288\" url=\"https://s.abcnews.com/images/US/abc_news_default_2000x2000_update_4x3t_384.jpg\" width=\"384\"/><media:thumbnail height=\"135\" url=\"https://s.abcnews.com/images/US/abc_news_default_2000x2000_update_16x9t_240.jpg\" width=\"240\"/><media:thumbnail height=\"456\" url=\"https://s.abcnews.com/images/US/abc_news_default_2000x2000_update_4x3_608.jpg\" width=\"608\"/><media:thumbnail height=\"558\" url=\"https://s.abcnews.com/images/US/abc_news_default_2000x2000_update_16x9_992.jpg\" width=\"992\"/><media:thumbnail height=\"900\" url=\"https://s.abcnews.com/images/US/abc_news_default_2000x2000_update_16x9_1600.jpg\" width=\"1600\"/>',\n",
              " '<media:thumbnail height=\"288\" url=\"https://s.abcnews.com/images/US/wirestory_3cf47301380b01ab35925a1c0a78171f_4x3_384.jpg\" width=\"384\"/><media:thumbnail height=\"108\" url=\"https://s.abcnews.com/images/US/wirestory_3cf47301380b01ab35925a1c0a78171f_4x3_144.jpg\" width=\"144\"/><media:thumbnail height=\"288\" url=\"https://s.abcnews.com/images/US/wirestory_3cf47301380b01ab35925a1c0a78171f_4x3_384.jpg\" width=\"384\"/><media:thumbnail height=\"135\" url=\"https://s.abcnews.com/images/US/wirestory_3cf47301380b01ab35925a1c0a78171f_16x9_240.jpg\" width=\"240\"/><media:thumbnail height=\"456\" url=\"https://s.abcnews.com/images/US/wirestory_3cf47301380b01ab35925a1c0a78171f_4x3_608.jpg\" width=\"608\"/><media:thumbnail height=\"558\" url=\"https://s.abcnews.com/images/US/wirestory_3cf47301380b01ab35925a1c0a78171f_16x9_992.jpg\" width=\"992\"/><media:thumbnail height=\"900\" url=\"https://s.abcnews.com/images/US/wirestory_3cf47301380b01ab35925a1c0a78171f_16x9_1600.jpg\" width=\"1600\"/>']"
            ]
          },
          "metadata": {},
          "execution_count": 31
        }
      ]
    },
    {
      "cell_type": "code",
      "source": [
        "#Extract article text from links for all news sources\n",
        "#Use this to text article link efficacy?\n",
        "\n",
        "#CNBC_links includes ad text in the beginning(?)\n",
        "url = CBS_links[0]\n",
        "article_text = scrape_article_text(url)\n",
        "print(article_text)"
      ],
      "metadata": {
        "id": "XoAiwRTm8Rk0",
        "outputId": "febc6b6c-00fe-4628-a87f-228fdc61928b",
        "colab": {
          "base_uri": "https://localhost:8080/"
        },
        "collapsed": true
      },
      "execution_count": null,
      "outputs": [
        {
          "output_type": "stream",
          "name": "stdout",
          "text": [
            "Watch CBS News \n",
            "Updated on:  September 18, 2024 / 10:18 PM EDT\n",
            "          / CBS/AP\n",
            "         Iranian hackers sought to interest President Biden's campaign in information stolen from the rival campaign of former President Donald Trump, sending unsolicited emails to people connected to the Democratic president in an effort to interfere in the 2024 election, the FBI and other federal agencies said Wednesday. There's no evidence that any of the recipients responded, officials said, preventing the hacked information from surfacing in the final months of the closely contested election. The hackers sent emails in late June and early July to people who were associated with Mr. Biden's campaign before he dropped out. The emails \"contained an excerpt taken from stolen, non-public material from former President Trump's campaign as text in the emails,\" according to a U.S. government statement. In late July, officials with the FBI, the Office of the Director of National Intelligence and the Department of Homeland Security said that Tehran had started a campaign that was working to weaken Trump's candidacy, while Russia was attempting to do the opposite.  Last month, sources told CBS News that the FBI was investigating whether Iranian hackers had targeted people associated with both the Trump and Biden-Harris campaigns.  In response to the revelation, Harris campaign spokesperson Morgan Finkelstein told CBS News in a statement Wednesday evening that \"we're not aware of any material being sent directly to the campaign,\" adding that \"a few individuals were targeted on their personal emails with what looked like a spam or phishing attempt.\" Finkelstein said the campaign has \"cooperated with the appropriate law enforcement authorities since we were made aware that individuals associated with the then-Biden campaign were among the intended victims of this foreign influence operation.\" Trump campaign spokesperson Karoline Leavitt told CBS News in a statement that \"this is further proof the Iranians are actively interfering in the election to help Kamala Harris and Joe Biden because they know President Trump will restore his tough sanctions and stand against their reign of terror.\" A Microsoft threat intelligence report last month provided examples about the actions of Iranian groups seeking to influence the 2024 election.   \"Not surprisingly, the latest revelations confirm that Iran's efforts are multi-pronged and intended to damage the Trump campaign,\" Chris Krebs, former Cybersecurity and Infrastructure Security Agency director, told CBS News Wednesday. \"This comes on the same day as a Senate Intelligence Committee hearing on foreign threats to elections. In that hearing Microsoft President Brad Smith characterized the state of foreign interference as Russia vs Harris and Iran vs Trump.\"   The Trump campaign disclosed on Aug. 10 that it had been hacked and said Iranian actors had stolen and distributed sensitive internal documents. At least three news outlets — Politico, The New York Times and The Washington Post — were leaked confidential material from inside the Trump campaign. So far, each has refused to reveal any details about what it received. Politico reported that it began receiving emails on July 22 from an anonymous account. The source —an AOL email account identified only as \"Robert\"— passed along what appeared to be a research dossier that the campaign had apparently done on the Republican vice presidential nominee, Ohio Sen. JD Vance. The document was dated Feb. 23, almost five months before Trump selected Vance as his running mate. A spokesperson for Iran's permanent mission to the U.N. told CBS News in a statement Wednesday that the FBI's \"allegations\" were \"fundamentally unfounded, and wholly inadmissible.\" \"Having already unequivocally and repeatedly announced, Iran neither has any motive nor intent to interfere in the U.S. election; and, it therefore categorically repudiates such accusations,\" the statement read. \"Should the U.S. government genuinely seek the truth, it is incumbent upon them to formally and transparently provide their substantiated evidence, so as to receive a corresponding and precise response.\" \n",
            "© 2024 CBS Interactive Inc. All Rights Reserved. This material may not be published, broadcast, rewritten, or redistributed. The Associated Press contributed to this report.\n",
            " Copyright ©2024 CBS Interactive Inc. All rights reserved.\n"
          ]
        }
      ]
    },
    {
      "cell_type": "code",
      "source": [
        "#Article Scraper with User Agent - add to utility functions\n",
        "def scrape_article_text_useragent(url,ua):\n",
        "    # Send a GET request to the URL\n",
        "    response = requests.get(url, headers=ua)\n",
        "    # Check if the request was successful\n",
        "    if response.status_code == 200:\n",
        "        # Parse the HTML content\n",
        "        soup = BeautifulSoup(response.text, 'html.parser')\n",
        "        # Find elements containing text - this part may need customization\n",
        "        # For example, assuming article text is within <p> tags\n",
        "        article_text = ' '.join(p.get_text() for p in soup.find_all('p'))\n",
        "        return article_text\n",
        "    else:\n",
        "        return \"Error: Unable to fetch the webpage.\""
      ],
      "metadata": {
        "id": "kdEQJfnPRDn_"
      },
      "execution_count": null,
      "outputs": []
    },
    {
      "cell_type": "code",
      "source": [
        "#Extract article text from links for news sources requiring user agent\n",
        "url = Newsweek_links[0]\n",
        "headers = {\"user-agent\": \"Mozilla/5.0\"}\n",
        "#Mozilla/5.0 (Windows NT 10.0; Win64; x64) AppleWebKit/537.36 (KHTML, like Gecko) Chrome/113.0.0.0 Safari/537.36 Edg/113.0.1774.35\n",
        "article_text = scrape_article_text_useragent(url, headers)\n",
        "print(article_text)"
      ],
      "metadata": {
        "colab": {
          "base_uri": "https://localhost:8080/"
        },
        "id": "XIlX8JRwtPjs",
        "outputId": "d2498f3f-b054-4f7a-a92d-261b78f1c0e0",
        "collapsed": true
      },
      "execution_count": null,
      "outputs": [
        {
          "output_type": "stream",
          "name": "stdout",
          "text": [
            "While New York is seen as a solid blue state, the Republican party still enjoys widespread support in its rural and suburban areas, and this year the gap between the GOP and the Democrat Party could be narrowing. In the 2024 presidential election, Donald Trump has the potential to gain the largest share of the vote in the Empire State than any other Republican candidate since 1988, some polls have suggested. Trump's very unlikely to win the state and get its 28 electoral votes, but a good performance in the Democratic stronghold gives Republicans a new message to bring to voters and enthusiasm about Trump could help the GOP in down ballot races. Before his rally on Long Island Wednesday night, Trump told supporters in a Manhattan bar that he was going to \"win New York!\" – a message he repeated to the crowd later on. \"When I told some people in Washington that I'm going up to New York, we're doing a campaign speech, they said, 'What do you mean New York? You can't ever ... Republicans can't win New York,\" Trump said at the Nassau Coliseum. \"I said, 'I can win New York,'\" he continued. \"We can win New York. We're going to win New York ... Your love for your state will come roaring back.\" In two polls that pit Trump against Vice President Kamala Harris, Trump's support ranges from 41.7 percent to 42 percent. That puts Trump in a position to possibly break his own record in New York and get more support than any Republican since 1988. Siena College's latest survey of New York voters, released on Thursday, showed Harris leading Trump 55 percent to 42 percent. Trump's support in the Empire State appeared to be holding steady from August, according to Siena College's polling. New York voters said they trust the vice president more on abortion, democracy and the economy, while the key issue of immigration essentially tied the pair – Harris on 48 percent and Trump on 47 percent. \"New York remains solidly 'blue' but perhaps not as deep blue as it has been in the last several presidential cycles,\" Siena College pollster Steven Greenberg said in a press release. Greenberg said that in the six presidential elections this century, Democrats have carried New York by at least 18 points, but Harris currently only leads by 13. \"Despite the Democratic convention, the debate and numerous other events during the six weeks between Siena College polls, there has been little movement in the horse race or in either candidate's favorability rating,\" Greenberg added. An earlier poll in August, by ActiVote, showed a greater lead for Harris, who was ahead by 16.6%. Trump was beating Harris among rural New York voters, with 52% supporting him. \"Independents moved further in Trump's direction, supporting him over Harris 58-34%, up from 47-40% last month,\" Greenberg explained. If polling holds true in the election, it would put Trump at more of an advantage than he enjoyed in the previous two elections, but the Queens native still would not have enough support to win the state on November 5. Four years ago, Trump lost to President Joe Biden with 37.7 percent of the vote compared to 60.9 percent. It was a very similar picture against former Secretary of State Hilary Clinton in 2016. In 1988, former President George H.W. Bush received 47.52 percent of the state's vote, narrowly losing it to Michael Dukakis' 51.62 percent. No Republican has been able to match Bush's support in New York since. In the next two elections, former President Bill Clinton had a 15 and then an almost 30-point lead over his GOP rivals. Former President George W. Bush lost New York by similar margins, as did former Senators John McCain and Mitt Romney.  Republicans winning New York would upend the Electoral College for Democrats, but the likelihood of that happening is very slim. However, Trump doesn't need to win the state to help his party. Targeting New York could still be beneficial for the GOP when it comes to House races, especially in areas like Long Island where support for the party is greater than within New York City. Polling from 538 showed Representative Anthony D'Esposito's Democratic rival Laura Gillen leading him by three points in August (50-47%), but earlier numbers showed him ahead by five (48-42%). \"While New York perhaps is not a battleground state, Long Island is a battleground island,\" D'Esposito told Politico. \"It does benefit him, because as president, he's going to need a majority in the House, and those seats that we're defending on Long Island and around New York are key to that majority.\" Newsweek is committed to journalism that's factual and fair. Hold us accountable and submit your rating of this article on the meter.  Newsweek is committed to journalism that's factual and fair. Hold us accountable and submit your rating of this article on the meter.  Dan Gooding is a Newsweek reporter based in New York City. His focus is reporting on immigration and border security. He has covered immigration issues extensively, including the root causes of migration to the U.S., its impact on border communities and responses around the country. Dan joined Newsweek in 2024 from The Independent and previously worked at The Messenger, Business Insider and in U.K. local radio. He is a graduate of De Montfort University in Leicester, UK. You can get in touch with Dan by emailing d.gooding@newsweek.com. You can find him on X @DanGooding. Languages: English. Dan Gooding is a Newsweek reporter based in New York City. His focus is reporting on immigration and border security.                                    ...\n",
            "Read more\n",
            " Newsletters in your inbox See all Company Editions: Contact Terms of Use © 2024 NEWSWEEK DIGITAL LLC\n"
          ]
        }
      ]
    },
    {
      "cell_type": "code",
      "source": [
        "#List of RSS feeds\n",
        "\n",
        "#Fox News: Politics\n",
        "foxPolRSS = f\"https://moxie.foxnews.com/google-publisher/politics.xml\"\n",
        "#CNN News: Politics\n",
        "CNNPolRSS = f\"http://rss.cnn.com/rss/cnn_allpolitics.rss\"\n",
        "#NYT News: Politics\n",
        "NYTPolRSS = f\"https://rss.nytimes.com/services/xml/rss/nyt/Politics.xml\"\n",
        "#https://github.com/susannapaoli/web-scraper-nyt\n",
        "#NY Post: Politics\n",
        "NYPostPolRSS = f\"https://nypost.com/politics/feed/\"\n",
        "#Daily Mail: U.S.\n",
        "DailyMailUSRSS = f\"https://www.dailymail.co.uk/ushome/index.rss\"\n",
        "#NBC News: Politics\n",
        "NBCPolRSS = f\"https://feeds.nbcnews.com/nbcnews/public/politics\"\n",
        "#CNBC: Politics\n",
        "CNBCPolRSS = f\"https://search.cnbc.com/rs/search/combinedcms/view.xml?partnerId=wrss01&id=10000113\"\n",
        "#CBS News: Politics\n",
        "CBSPolRSS = f\"https://www.cbsnews.com/latest/rss/politics\"\n",
        "#ABC News: Politics\n",
        "ABCPolRSS = f\"https://abcnews.go.com/abcnews/politicsheadlines\""
      ],
      "metadata": {
        "id": "sX7n4GKSzh5Q"
      },
      "execution_count": null,
      "outputs": []
    },
    {
      "cell_type": "code",
      "source": [
        "api_token_hug =\n",
        "\n",
        "\n",
        "# Following URL is the URL of the LLM being utilized from HuggingFace\n",
        "API_URL = \"https://api-inference.huggingface.co/models/google/flan-t5-xxl\"\n",
        "headers = {\"Authorization\": f\"Bearer {api_token_hug}\"}\n",
        "\n",
        "# Instructions sent to the LLM in front of article text\n",
        "system_input = \"Analyze the text content and assign a label from {left, right, center, uncertain}. In this context, “left” indicates a left-leaning article, “right” signifies a right-leaning article, “center” implies no obvious political leaning, and “uncertain” denotes that the political orientation could not be determined. Please provide your analysis and output a new single line containing only the assigned label.\"\n",
        "\n",
        "#reduce by 10% until it fits query\n",
        "reduction_fraction = 0.10\n",
        "\n",
        "\n",
        "\n",
        "result = reduce_and_query(article_text, system_input, reduction_fraction, headers)\n",
        "print(result)\n",
        "\n",
        "second_article = \"https://www.cnn.com/2024/03/19/politics/texas-immigration-law-blocked-appeals/index.html\"\n",
        "second_result = reduce_and_query(second_article, system_input, reduction_fraction, headers)\n",
        "print(second_result)\n",
        "\n",
        "third_article = \"https://www.cnn.com/videos/world/2024/03/20/israel-gaza-west-bank-settler-movement-clarissa-ward-pkg-intl-ldn-vpx.cnn\"\n",
        "third_result = reduce_and_query(third_article, system_input, reduction_fraction, headers)\n",
        "print(third_result)\n",
        "\n",
        "fourth_article = \"https://www.cnn.com/2024/03/19/politics/trump-bond-deadline-panic/index.html\"\n",
        "fourth_result = reduce_and_query(fourth_article, system_input, reduction_fraction, headers)\n",
        "print(fourth_result)\n",
        "\n",
        "fifth_article = \"https://www.foxnews.com/live-news/joe-biden-gop-impeachment-inquiry-hearing-hunter-biden-business-dealings\"\n",
        "fifth_result = reduce_and_query(fifth_article, system_input, reduction_fraction, headers)\n",
        "print(fifth_result)\n",
        "\n",
        "sixth_article = \"https://www.msnbc.com/deadline-white-house/deadline-legal-blog/trump-supreme-court-immunity-appeal-delay-rcna144155\"\n",
        "sixth_result = reduce_and_query(sixth_article, system_input, reduction_fraction, headers)\n",
        "print(sixth_result)\n",
        "\n",
        "seventh_article = \"https://www.msnbc.com/rachel-maddow-show/maddowblog/biden-white-house-reason-celebrate-falling-crime-rates-rcna144215\"\n",
        "seventh_result = reduce_and_query(seventh_article, system_input, reduction_fraction, headers)"
      ],
      "metadata": {
        "colab": {
          "base_uri": "https://localhost:8080/"
        },
        "id": "6-9ObRECI1s3",
        "outputId": "73da7875-7cb8-49e8-8d1b-141bdab26b23"
      },
      "execution_count": null,
      "outputs": [
        {
          "output_type": "stream",
          "name": "stdout",
          "text": [
            "[{'generated_text': 'left'}]\n",
            "[{'generated_text': 'uncertain'}]\n",
            "[{'generated_text': 'center'}]\n",
            "[{'generated_text': 'center'}]\n",
            "[{'generated_text': 'center'}]\n",
            "[{'generated_text': 'center'}]\n"
          ]
        }
      ]
    }
  ]
}
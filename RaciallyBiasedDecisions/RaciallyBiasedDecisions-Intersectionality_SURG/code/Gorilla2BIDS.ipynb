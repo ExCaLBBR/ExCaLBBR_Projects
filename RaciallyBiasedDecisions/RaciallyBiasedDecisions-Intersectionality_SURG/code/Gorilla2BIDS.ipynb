{
  "nbformat": 4,
  "nbformat_minor": 0,
  "metadata": {
    "colab": {
      "provenance": [],
      "include_colab_link": true
    },
    "kernelspec": {
      "name": "python3",
      "display_name": "Python 3"
    },
    "language_info": {
      "name": "python"
    }
  },
  "cells": [
    {
      "cell_type": "markdown",
      "metadata": {
        "id": "view-in-github",
        "colab_type": "text"
      },
      "source": [
        "<a href=\"https://colab.research.google.com/github/ExCaLBBR/ExCaLBBR_Projects/blob/main/RaciallyBiasedDecisions/RaciallyBiasedDecisions-Intersectionality_SURG/code/Gorilla2BIDS.ipynb\" target=\"_parent\"><img src=\"https://colab.research.google.com/assets/colab-badge.svg\" alt=\"Open In Colab\"/></a>"
      ]
    },
    {
      "cell_type": "markdown",
      "source": [
        "Gorilla Info: <br>\n",
        "Project: RaciallyBiasedDecisions-Intersectionality_SURG <br>\n",
        "Account: Roberto Vargas (robertov@andrew.cmu.edu) "
      ],
      "metadata": {
        "id": "C9mud3ByqVgH"
      }
    },
    {
      "cell_type": "code",
      "source": [
        "#Load relevant libraries and install dependencies\n",
        "import pandas as pd\n",
        "import numpy as np\n",
        "import re"
      ],
      "metadata": {
        "id": "08gBma2_ivoE"
      },
      "execution_count": 1,
      "outputs": []
    },
    {
      "cell_type": "code",
      "source": [
        "# function to convert values in the pivot values from list to float\n",
        "def convert_to_float(x):\n",
        "    if isinstance(x, list):\n",
        "        return float(x[0]) # assuming there is only one value in the list\n",
        "    else:\n",
        "        return x"
      ],
      "metadata": {
        "id": "3dArzVdYA-mz"
      },
      "execution_count": 2,
      "outputs": []
    },
    {
      "cell_type": "code",
      "source": [
        "#@title Load Data:\n",
        "#QUESTIONAIRRES:\n",
        "#Demographics\n",
        "url = 'https://raw.githubusercontent.com/ExCaLBBR/ExCaLBBR_Projects/main/RaciallyBiasedDecisions/RaciallyBiasedDecisions-Intersectionality_SURG/data/raw/raw_demographic_BM.csv'\n",
        "df_demographic_BM = pd.read_csv(url)\n",
        "url = 'https://raw.githubusercontent.com/ExCaLBBR/ExCaLBBR_Projects/main/RaciallyBiasedDecisions/RaciallyBiasedDecisions-Intersectionality_SURG/data/raw/raw_demographic_WM.csv'\n",
        "df_demographic_WM = pd.read_csv(url)\n",
        "\n",
        "#Ethnic Identity\n",
        "url ='https://raw.githubusercontent.com/ExCaLBBR/ExCaLBBR_Projects/main/RaciallyBiasedDecisions/RaciallyBiasedDecisions-Intersectionality_SURG/data/raw/raw_questionnaire_EthnicIdentity_BM.csv'\n",
        "df_EthId_BM = pd.read_csv(url)\n",
        "url ='https://raw.githubusercontent.com/ExCaLBBR/ExCaLBBR_Projects/main/RaciallyBiasedDecisions/RaciallyBiasedDecisions-Intersectionality_SURG/data/raw/raw_questionnaire_EthnicIdentity_WM.csv'\n",
        "df_EthId_WM = pd.read_csv(url)\n",
        "\n",
        "#Multidimensional Inventory of Black Identity\n",
        "url = 'https://raw.githubusercontent.com/ExCaLBBR/ExCaLBBR_Projects/main/RaciallyBiasedDecisions/RaciallyBiasedDecisions-Intersectionality_SURG/data/raw/raw_questionnaire_MiBi_BM.csv'\n",
        "df_MIBI_BM = pd.read_csv(url)\n",
        "\n",
        "#News Consumption\n",
        "url = 'https://raw.githubusercontent.com/ExCaLBBR/ExCaLBBR_Projects/main/RaciallyBiasedDecisions/RaciallyBiasedDecisions-Intersectionality_SURG/data/raw/raw_questionnaire_NewsConsumption_BM.csv'\n",
        "df_News_BM = pd.read_csv(url)\n",
        "url = 'https://raw.githubusercontent.com/ExCaLBBR/ExCaLBBR_Projects/main/RaciallyBiasedDecisions/RaciallyBiasedDecisions-Intersectionality_SURG/data/raw/raw_questionnaire_NewsConsumption_WM.csv'\n",
        "df_News_WM = pd.read_csv(url)\n",
        "\n",
        "#Gender/Racial Discrimination\n",
        "url = 'https://raw.githubusercontent.com/ExCaLBBR/ExCaLBBR_Projects/main/RaciallyBiasedDecisions/RaciallyBiasedDecisions-Intersectionality_SURG/data/raw/raw_questionnaire_GR-Discrim_BM.csv'\n",
        "df_GRDiscrim_BM = pd.read_csv(url)\n",
        "url = 'https://raw.githubusercontent.com/ExCaLBBR/ExCaLBBR_Projects/main/RaciallyBiasedDecisions/RaciallyBiasedDecisions-Intersectionality_SURG/data/raw/raw_questionnaire_GR-Discrim_WM.csv'\n",
        "df_GRDiscrim_WM = pd.read_csv(url)\n",
        "\n",
        "#Exit Questionnaire\n",
        "url = 'https://raw.githubusercontent.com/ExCaLBBR/ExCaLBBR_Projects/main/RaciallyBiasedDecisions/RaciallyBiasedDecisions-Intersectionality_SURG/data/raw/raw_questionnaire_ExitQ_BM.csv'\n",
        "df_ExitQ_BM = pd.read_csv(url)\n",
        "url = 'https://raw.githubusercontent.com/ExCaLBBR/ExCaLBBR_Projects/main/RaciallyBiasedDecisions/RaciallyBiasedDecisions-Intersectionality_SURG/data/raw/raw_questionnaire_ExitQ_WM.csv'\n",
        "df_ExitQ_WM = pd.read_csv(url)\n",
        "\n",
        "#Social Dominance Orientation\n",
        "url = 'https://raw.githubusercontent.com/ExCaLBBR/ExCaLBBR_Projects/main/RaciallyBiasedDecisions/RaciallyBiasedDecisions-Intersectionality_SURG/data/raw/raw_questionnaire_SDO_BM.csv'\n",
        "df_SDO_BM = pd.read_csv(url)\n",
        "url = 'https://raw.githubusercontent.com/ExCaLBBR/ExCaLBBR_Projects/main/RaciallyBiasedDecisions/RaciallyBiasedDecisions-Intersectionality_SURG/data/raw/raw_questionnaire_SDO_WM.csv'\n",
        "df_SDO_WM = pd.read_csv(url)\n",
        "\n",
        "\n",
        "#TASKS:\n",
        "#Adventure Tasks\n",
        "url = 'https://raw.githubusercontent.com/ExCaLBBR/ExCaLBBR_Projects/main/RaciallyBiasedDecisions/RaciallyBiasedDecisions-Intersectionality_SURG/data/raw/raw_task_Adv_InIn_BM.csv'\n",
        "df_Adv_InIn_BM = pd.read_csv(url)\n",
        "url = 'https://raw.githubusercontent.com/ExCaLBBR/ExCaLBBR_Projects/main/RaciallyBiasedDecisions/RaciallyBiasedDecisions-Intersectionality_SURG/data/raw/raw_task_Adv_InOutRace_BM.csv'\n",
        "df_Adv_InOutRace_BM = pd.read_csv(url)\n",
        "url = 'https://raw.githubusercontent.com/ExCaLBBR/ExCaLBBR_Projects/main/RaciallyBiasedDecisions/RaciallyBiasedDecisions-Intersectionality_SURG/data/raw/raw_task_Adv_InOutGender_BM.csv'\n",
        "df_Adv_InOutGender_BM = pd.read_csv(url)\n",
        "url = 'https://raw.githubusercontent.com/ExCaLBBR/ExCaLBBR_Projects/main/RaciallyBiasedDecisions/RaciallyBiasedDecisions-Intersectionality_SURG/data/raw/raw_task_Adv_InOutBoth_BM.csv'\n",
        "df_Adv_InOutBoth_BM = pd.read_csv(url)\n",
        "\n",
        "url = 'https://raw.githubusercontent.com/ExCaLBBR/ExCaLBBR_Projects/main/RaciallyBiasedDecisions/RaciallyBiasedDecisions-Intersectionality_SURG/data/raw/raw_task_Adv_InIn_WM.csv'\n",
        "df_Adv_InIn_WM = pd.read_csv(url)\n",
        "url = 'https://raw.githubusercontent.com/ExCaLBBR/ExCaLBBR_Projects/main/RaciallyBiasedDecisions/RaciallyBiasedDecisions-Intersectionality_SURG/data/raw/raw_task_Adv_InOutRace_WM.csv'\n",
        "df_Adv_InOutRace_WM = pd.read_csv(url)\n",
        "url = 'https://raw.githubusercontent.com/ExCaLBBR/ExCaLBBR_Projects/main/RaciallyBiasedDecisions/RaciallyBiasedDecisions-Intersectionality_SURG/data/raw/raw_task_Adv_InOutGender_WM.csv'\n",
        "df_Adv_InOutGender_WM = pd.read_csv(url)\n",
        "url = 'https://raw.githubusercontent.com/ExCaLBBR/ExCaLBBR_Projects/main/RaciallyBiasedDecisions/RaciallyBiasedDecisions-Intersectionality_SURG/data/raw/raw_task_Adv_InOutBoth_WM.csv'\n",
        "df_Adv_InOutBoth_WM = pd.read_csv(url)\n",
        "\n",
        "\n",
        "#Implicit Association Test (IAT)\n",
        "url = 'https://github.com/ExCaLBBR/ExCaLBBR_Projects/raw/main/RaciallyBiasedDecisions/RaciallyBiasedDecisions-Intersectionality_SURG/data/raw/raw_task_IAT_BM.csv.gz'\n",
        "df_IAT_BM = pd.read_csv(url, compression='gzip')\n",
        "url = 'https://github.com/ExCaLBBR/ExCaLBBR_Projects/raw/main/RaciallyBiasedDecisions/RaciallyBiasedDecisions-Intersectionality_SURG/data/raw/raw_task_IAT_BM.csv.gz'\n",
        "df_IAT_WM = pd.read_csv(url, compression='gzip')"
      ],
      "metadata": {
        "id": "NA7mXjvZZldd",
        "cellView": "form",
        "colab": {
          "base_uri": "https://localhost:8080/"
        },
        "outputId": "b9c7cf9c-a92e-486b-8cdd-52e6eb71a8c9"
      },
      "execution_count": 55,
      "outputs": [
        {
          "output_type": "stream",
          "name": "stderr",
          "text": [
            "<ipython-input-55-3976bd613fa0>:67: DtypeWarning: Columns (0) have mixed types. Specify dtype option on import or set low_memory=False.\n",
            "  df_IAT_BM = pd.read_csv(url, compression='gzip')\n",
            "<ipython-input-55-3976bd613fa0>:69: DtypeWarning: Columns (0) have mixed types. Specify dtype option on import or set low_memory=False.\n",
            "  df_IAT_WM = pd.read_csv(url, compression='gzip')\n"
          ]
        }
      ]
    },
    {
      "cell_type": "code",
      "source": [
        "#@title Isolate relevant columns\n",
        "#Isolate relevant columns: Demographics\n",
        "include = ['Participant Private ID', 'Question Key', 'Response']\n",
        "df_demographic_BM.drop(columns=df_demographic_BM.columns.difference(include), inplace=True)\n",
        "mask = df_demographic_BM['Question Key'].str.contains('BEGIN QUESTIONNAIRE', na=True) | df_demographic_BM['Question Key'].str.contains('END QUESTIONNAIRE', na=True) | df_demographic_BM['Question Key'].str.contains('quantised', na=True)\n",
        "df_demographic_BM = df_demographic_BM[~mask]\n",
        "\n",
        "include = ['Participant Private ID', 'Question Key', 'Response']\n",
        "df_demographic_WM.drop(columns=df_demographic_WM.columns.difference(include), inplace=True)\n",
        "mask = df_demographic_WM['Question Key'].str.contains('BEGIN QUESTIONNAIRE', na=True) | df_demographic_WM['Question Key'].str.contains('END QUESTIONNAIRE', na=True) | df_demographic_WM['Question Key'].str.contains('quantised', na=True)\n",
        "df_demographic_WM = df_demographic_WM[~mask]\n",
        "\n",
        "#Isolate relevant columns: Ethnic Identity\n",
        "include = ['Participant Private ID', 'Question Key', 'Response']\n",
        "df_EthId_BM.drop(columns=df_EthId_BM.columns.difference(include), inplace=True)\n",
        "mask = df_EthId_BM['Question Key'].str.contains('BEGIN QUESTIONNAIRE', na=True) | df_EthId_BM['Question Key'].str.contains('END QUESTIONNAIRE', na=True)\n",
        "df_EthId_BM = df_EthId_BM[~mask]\n",
        "\n",
        "include = ['Participant Private ID', 'Question Key', 'Response']\n",
        "df_EthId_WM.drop(columns=df_EthId_WM.columns.difference(include), inplace=True)\n",
        "mask = df_EthId_WM['Question Key'].str.contains('BEGIN QUESTIONNAIRE', na=True) | df_EthId_WM['Question Key'].str.contains('END QUESTIONNAIRE', na=True)\n",
        "df_EthId_WM = df_EthId_WM[~mask]\n",
        "\n",
        "#Isolate relevant columns: Multidimensional Inventory of Black Identity\n",
        "include = ['Participant Private ID', 'Question Key', 'Response']\n",
        "df_MIBI_BM.drop(columns=df_MIBI_BM.columns.difference(include), inplace=True)\n",
        "mask = df_MIBI_BM['Question Key'].str.contains('BEGIN QUESTIONNAIRE', na=True) | df_MIBI_BM['Question Key'].str.contains('END QUESTIONNAIRE', na=True)\n",
        "df_MIBI_BM = df_MIBI_BM[~mask]\n",
        "\n",
        "#Isolate relevant columns: News Consumption\n",
        "include = ['Participant Private ID', 'Question Key', 'Response']\n",
        "df_News_BM.drop(columns=df_News_BM.columns.difference(include), inplace=True)\n",
        "mask = df_News_BM['Question Key'].str.contains('BEGIN QUESTIONNAIRE', na=True) | df_News_BM['Question Key'].str.contains('END QUESTIONNAIRE', na=True)\n",
        "df_News_BM = df_News_BM[~mask]\n",
        "\n",
        "include = ['Participant Private ID', 'Question Key', 'Response']\n",
        "df_News_WM.drop(columns=df_News_WM.columns.difference(include), inplace=True)\n",
        "mask = df_News_WM['Question Key'].str.contains('BEGIN QUESTIONNAIRE', na=True) | df_News_WM['Question Key'].str.contains('END QUESTIONNAIRE', na=True)\n",
        "df_News_WM = df_News_WM[~mask]\n",
        "\n",
        "#Isolate relevant columns: Gender/Racial Discrimination\n",
        "include = ['Participant Private ID', 'Question Key', 'Response']\n",
        "df_GRDiscrim_BM.drop(columns=df_GRDiscrim_BM.columns.difference(include), inplace=True)\n",
        "mask = df_GRDiscrim_BM['Question Key'].str.contains('BEGIN QUESTIONNAIRE', na=True) | df_GRDiscrim_BM['Question Key'].str.contains('END QUESTIONNAIRE', na=True)\n",
        "df_GRDiscrim_BM = df_GRDiscrim_BM[~mask]\n",
        "\n",
        "include = ['Participant Private ID', 'Question Key', 'Response']\n",
        "df_GRDiscrim_WM.drop(columns=df_GRDiscrim_WM.columns.difference(include), inplace=True)\n",
        "mask = df_GRDiscrim_WM['Question Key'].str.contains('BEGIN QUESTIONNAIRE', na=True) | df_GRDiscrim_WM['Question Key'].str.contains('END QUESTIONNAIRE', na=True)\n",
        "df_GRDiscrim_WM = df_GRDiscrim_WM[~mask]\n",
        "\n",
        "#Isolate relevant columns: Exit Questionairre\n",
        "include = ['Participant Private ID', 'Question Key', 'Response']\n",
        "df_ExitQ_BM.drop(columns=df_ExitQ_BM.columns.difference(include), inplace=True)\n",
        "mask = df_ExitQ_BM['Question Key'].str.contains('BEGIN QUESTIONNAIRE', na=True) | df_ExitQ_BM['Question Key'].str.contains('END QUESTIONNAIRE', na=True) | df_ExitQ_BM['Question Key'].str.contains('quantised', na=True)\n",
        "df_ExitQ_BM = df_ExitQ_BM[~mask]\n",
        "\n",
        "include = ['Participant Private ID', 'Question Key', 'Response']\n",
        "df_ExitQ_WM.drop(columns=df_ExitQ_WM.columns.difference(include), inplace=True)\n",
        "mask = df_ExitQ_WM['Question Key'].str.contains('BEGIN QUESTIONNAIRE', na=True) | df_ExitQ_WM['Question Key'].str.contains('END QUESTIONNAIRE', na=True) | df_ExitQ_WM['Question Key'].str.contains('quantised', na=True)\n",
        "df_ExitQ_WM = df_ExitQ_WM[~mask]\n",
        "\n",
        "#Isolate relevant columns: Social Dominance Orientation\n",
        "include = ['Participant Private ID', 'Question Key', 'Response']\n",
        "df_SDO_BM.drop(columns=df_SDO_BM.columns.difference(include), inplace=True)\n",
        "mask = df_SDO_BM['Question Key'].str.contains('BEGIN QUESTIONNAIRE', na=True) | df_SDO_BM['Question Key'].str.contains('END QUESTIONNAIRE', na=True)\n",
        "df_SDO_BM = df_SDO_BM[~mask]\n",
        "\n",
        "include = ['Participant Private ID', 'Question Key', 'Response']\n",
        "df_SDO_WM.drop(columns=df_SDO_WM.columns.difference(include), inplace=True)\n",
        "mask = df_SDO_WM['Question Key'].str.contains('BEGIN QUESTIONNAIRE', na=True) | df_SDO_WM['Question Key'].str.contains('END QUESTIONNAIRE', na=True)\n",
        "df_SDO_WM = df_SDO_WM[~mask]\n",
        "\n",
        "#TASKS:\n",
        "#Isolate relevant columns: Adventure Tasks InIn\n",
        "include = ['Participant Private ID', 'Store: participant', 'Store: outcome', 'Spreadsheet: PlayerAction', 'Component Name', 'allocator-k3xu', 'Response']\n",
        "df_Adv_InIn_BM.drop(columns=df_Adv_InIn_BM.columns.difference(include), inplace=True)\n",
        "mask = df_Adv_InIn_BM['Component Name'].str.contains('Click Response', na=True)\n",
        "df_Adv_InIn_BM = df_Adv_InIn_BM[mask]\n",
        "mask = df_Adv_InIn_BM['Response'].str.contains('BEGIN', na=True) | df_Adv_InIn_BM['Response'].str.contains('END', na=True) | df_Adv_InIn_BM['Response'].str.contains('Next', na=True)\n",
        "df_Adv_InIn_BM = df_Adv_InIn_BM[~mask]\n",
        "df_Adv_InIn_BM.drop(columns=['Component Name'], inplace=True)\n",
        "\n",
        "include = ['Participant Private ID', 'Store: participant', 'Store: outcome', 'Spreadsheet: PlayerAction', 'Component Name', 'allocator-k3xu', 'Response']\n",
        "df_Adv_InIn_WM.drop(columns=df_Adv_InIn_WM.columns.difference(include), inplace=True)\n",
        "mask = df_Adv_InIn_WM['Component Name'].str.contains('Click Response', na=True)\n",
        "df_Adv_InIn_WM = df_Adv_InIn_WM[mask]\n",
        "mask = df_Adv_InIn_WM['Response'].str.contains('BEGIN', na=True) | df_Adv_InIn_WM['Response'].str.contains('END', na=True) | df_Adv_InIn_WM['Response'].str.contains('Next', na=True)\n",
        "df_Adv_InIn_WM = df_Adv_InIn_WM[~mask]\n",
        "df_Adv_InIn_WM.drop(columns=['Component Name'], inplace=True)\n",
        "\n",
        "#Isolate relevant columns: Adventure Tasks InOutRace\n",
        "include = ['Participant Private ID', 'Store: participant', 'Store: outcome', 'Spreadsheet: PlayerAction', 'Component Name', 'allocator-k3xu', 'Response']\n",
        "df_Adv_InOutRace_BM.drop(columns=df_Adv_InOutRace_BM.columns.difference(include), inplace=True)\n",
        "mask = df_Adv_InOutRace_BM['Component Name'].str.contains('Click Response', na=True)\n",
        "df_Adv_InOutRace_BM = df_Adv_InOutRace_BM[mask]\n",
        "mask = df_Adv_InOutRace_BM['Response'].str.contains('BEGIN', na=True) | df_Adv_InOutRace_BM['Response'].str.contains('END', na=True) | df_Adv_InOutRace_BM['Response'].str.contains('Next', na=True)\n",
        "df_Adv_InOutRace_BM = df_Adv_InOutRace_BM[~mask]\n",
        "df_Adv_InOutRace_BM.drop(columns=['Component Name'], inplace=True)\n",
        "\n",
        "include = ['Participant Private ID', 'Store: participant', 'Store: outcome', 'Spreadsheet: PlayerAction', 'Component Name', 'allocator-k3xu', 'Response']\n",
        "df_Adv_InOutRace_WM.drop(columns=df_Adv_InOutRace_WM.columns.difference(include), inplace=True)\n",
        "mask = df_Adv_InOutRace_WM['Component Name'].str.contains('Click Response', na=True)\n",
        "df_Adv_InOutRace_WM = df_Adv_InOutRace_WM[mask]\n",
        "mask = df_Adv_InOutRace_WM['Response'].str.contains('BEGIN', na=True) | df_Adv_InOutRace_WM['Response'].str.contains('END', na=True) | df_Adv_InOutRace_WM['Response'].str.contains('Next', na=True)\n",
        "df_Adv_InOutRace_WM = df_Adv_InOutRace_WM[~mask]\n",
        "df_Adv_InOutRace_WM.drop(columns=['Component Name'], inplace=True)\n",
        "\n",
        "#Isolate relevant columns: Adventure Tasks InOutGender\n",
        "include = ['Participant Private ID', 'Store: participant', 'Store: outcome', 'Spreadsheet: PlayerAction', 'Component Name', 'allocator-k3xu', 'Response']\n",
        "df_Adv_InOutGender_BM.drop(columns=df_Adv_InOutGender_BM.columns.difference(include), inplace=True)\n",
        "mask = df_Adv_InOutGender_BM['Component Name'].str.contains('Click Response', na=True)\n",
        "df_Adv_InOutGender_BM = df_Adv_InOutGender_BM[mask]\n",
        "mask = df_Adv_InOutGender_BM['Response'].str.contains('BEGIN', na=True) | df_Adv_InOutGender_BM['Response'].str.contains('END', na=True) | df_Adv_InOutGender_BM['Response'].str.contains('Next', na=True)\n",
        "df_Adv_InOutGender_BM = df_Adv_InOutGender_BM[~mask]\n",
        "df_Adv_InOutGender_BM.drop(columns=['Component Name'], inplace=True)\n",
        "\n",
        "include = ['Participant Private ID', 'Store: participant', 'Store: outcome', 'Spreadsheet: PlayerAction', 'Component Name', 'allocator-k3xu', 'Response']\n",
        "df_Adv_InOutGender_WM.drop(columns=df_Adv_InOutGender_WM.columns.difference(include), inplace=True)\n",
        "mask = df_Adv_InOutGender_WM['Component Name'].str.contains('Click Response', na=True)\n",
        "df_Adv_InOutGender_WM = df_Adv_InOutGender_WM[mask]\n",
        "mask = df_Adv_InOutGender_WM['Response'].str.contains('BEGIN', na=True) | df_Adv_InOutGender_WM['Response'].str.contains('END', na=True) | df_Adv_InOutGender_WM['Response'].str.contains('Next', na=True)\n",
        "df_Adv_InOutGender_WM = df_Adv_InOutGender_WM[~mask]\n",
        "df_Adv_InOutGender_WM.drop(columns=['Component Name'], inplace=True)\n",
        "\n",
        "#Isolate relevant columns: Adventure Tasks InOutBoth\n",
        "include = ['Participant Private ID', 'Store: participant', 'Store: outcome', 'Spreadsheet: PlayerAction', 'Component Name', 'allocator-k3xu', 'Response']\n",
        "df_Adv_InOutBoth_BM.drop(columns=df_Adv_InOutBoth_BM.columns.difference(include), inplace=True)\n",
        "mask = df_Adv_InOutBoth_BM['Component Name'].str.contains('Click Response', na=True)\n",
        "df_Adv_InOutBoth_BM = df_Adv_InOutBoth_BM[mask]\n",
        "mask = df_Adv_InOutBoth_BM['Response'].str.contains('BEGIN', na=True) | df_Adv_InOutBoth_BM['Response'].str.contains('END', na=True) | df_Adv_InOutBoth_BM['Response'].str.contains('Next', na=True)\n",
        "df_Adv_InOutBoth_BM = df_Adv_InOutBoth_BM[~mask]\n",
        "df_Adv_InOutBoth_BM.drop(columns=['Component Name'], inplace=True)\n",
        "\n",
        "include = ['Participant Private ID', 'Store: participant', 'Store: outcome', 'Spreadsheet: PlayerAction', 'Component Name', 'allocator-k3xu', 'Response']\n",
        "df_Adv_InOutBoth_WM.drop(columns=df_Adv_InOutBoth_WM.columns.difference(include), inplace=True)\n",
        "mask = df_Adv_InOutBoth_WM['Component Name'].str.contains('Click Response', na=True)\n",
        "df_Adv_InOutBoth_WM = df_Adv_InOutBoth_WM[mask]\n",
        "mask = df_Adv_InOutBoth_WM['Response'].str.contains('BEGIN', na=True) | df_Adv_InOutBoth_WM['Response'].str.contains('END', na=True) | df_Adv_InOutBoth_WM['Response'].str.contains('Next', na=True)\n",
        "df_Adv_InOutBoth_WM = df_Adv_InOutBoth_WM[~mask]\n",
        "df_Adv_InOutBoth_WM.drop(columns=['Component Name'], inplace=True)\n",
        "\n",
        "#Implicit Association Test (IAT)\n",
        "include = ['Participant Private ID', 'Absolute Reaction Time', 'Correct', 'Component Name', 'allocator-k3xu', 'Spreadsheet: ImageLeft', 'Spreadsheet: ImageRight', 'Spreadsheet: TextLeft', 'Spreadsheet: TextRight', 'Spreadsheet: metadata', 'Response']\n",
        "df_IAT_BM.drop(columns=df_IAT_BM.columns.difference(include), inplace=True)\n",
        "mask = df_IAT_BM['Component Name'].str.contains('Keyboard Response', na=True)\n",
        "df_IAT_BM = df_IAT_BM[mask]\n",
        "mask = df_IAT_BM['Response'].str.contains('BEGIN', na=True) | df_IAT_BM['Response'].str.contains('END', na=True)\n",
        "df_IAT_BM = df_IAT_BM[~mask]\n",
        "df_IAT_BM.drop(columns=['Component Name', 'Response'], inplace=True)\n",
        "\n",
        "include = ['Participant Private ID', 'Absolute Reaction Time', 'Correct', 'Component Name', 'allocator-k3xu', 'Spreadsheet: ImageLeft', 'Spreadsheet: ImageRight', 'Spreadsheet: TextLeft', 'Spreadsheet: TextRight', 'Spreadsheet: metadata', 'Response']\n",
        "df_IAT_WM.drop(columns=df_IAT_WM.columns.difference(include), inplace=True)\n",
        "mask = df_IAT_WM['Component Name'].str.contains('Keyboard Response', na=True)\n",
        "df_IAT_WM = df_IAT_WM[mask]\n",
        "mask = df_IAT_WM['Response'].str.contains('BEGIN', na=True) | df_IAT_WM['Response'].str.contains('END', na=True)\n",
        "df_IAT_WM = df_IAT_WM[~mask]\n",
        "df_IAT_WM.drop(columns=['Component Name', 'Response'], inplace=True)"
      ],
      "metadata": {
        "id": "daEQfOWgSmqY"
      },
      "execution_count": null,
      "outputs": []
    },
    {
      "cell_type": "code",
      "source": [
        "#Isolate relevant columns: Default values\n",
        "include = ['Zone Name', 'Zone Type', 'Response']\n",
        "df_default_values = df_default_values[:-1]\n",
        "df_default_values.drop(columns=df_default_values.columns.difference(include), inplace=True)\n",
        "mask = df_default_values['Zone Type'].str.contains('drag_and_drop_main', na=True) | df_default_values['Zone Name'].str.contains('Zone10', na=True) \n",
        "df_default_values = df_default_values[mask]\n",
        "df_default_values.drop(columns=['Zone Type'], inplace=True)\n",
        "df_default_values['Zone Name'] = df_default_values['Zone Name'].replace(['conceptA', 'conceptB', 'conceptC', 'conceptD', 'conceptE', 'conceptF', 'conceptG'], ['Police', 'Firefighter', 'Neighbors', 'Conservatives', 'Liberals', 'Healthcare', 'Voting'])\n",
        "df_default_values = df_default_values.dropna()\n",
        "\n",
        "# List to separate the zone name and coordinates\n",
        "zone_name = df_default_values['Zone Name'].to_list()\n",
        "coordinates = df_default_values['Response'].to_list()"
      ],
      "metadata": {
        "id": "6LwvqmKec1MJ"
      },
      "execution_count": null,
      "outputs": []
    },
    {
      "cell_type": "code",
      "source": [
        "#Isolate Pivot dataframes\n",
        "df_demographic = df_demographic.pivot(index = 'Participant Private ID', columns = ['Question Key'], values = ['Response']) #Demographics\n",
        "#display(df_demographic)\n",
        "\n",
        "df_EthId = df_EthId.pivot(index = 'Participant Private ID', columns = ['Question Key'], values = ['Response']) #Ethnic Identity\n",
        "#display(df_EthId)\n",
        "\n",
        "df_MIBI = df_MIBI.pivot(index = 'Participant Private ID', columns = ['Question Key'], values = ['Response']) #Multidimensional Inventory of Black Identity\n",
        "#display(df_MIBI)\n",
        "\n",
        "df_News = df_News.pivot(index = 'Participant Private ID', columns = ['Question Key'], values = ['Response']) #News Consumption\n",
        "#display(df_News)\n",
        "\n",
        "df_GRDiscrim = df_GRDiscrim.pivot(index = 'Participant Private ID', columns = ['Question Key'], values = ['Response']) #Gender/Racial Discrimination\n",
        "#display(df_GRDiscrim)\n",
        "\n",
        "df_ConExposure = df_ConExposure.pivot(index = 'Participant Private ID', columns = ['Question Key'], values = ['Response']) #Concept Exposure\n",
        "#display(df_ConExposure)\n",
        "\n",
        "df_ConFeeling = df_ConFeeling.pivot(index = 'Participant Private ID', columns = ['Question Key'], values = ['Response']) #Concept Feeling\n",
        "#display(df_ConFeeling)\n",
        "\n",
        "df_ConInteraction = df_ConInteraction.pivot(index = 'Participant Private ID', columns = ['Question Key'], values = ['Response']) #Concept Interaction\n",
        "#display(df_ConInteraction)\n",
        "\n",
        "df_SDO = df_SDO.pivot(index = 'Participant Private ID', columns = ['Question Key'], values = ['Response']) #Social Dominance Orientation\n",
        "#display(df_SDO)\n",
        "\n",
        "#TASKS:\n",
        "#TODO: Take last mask out last instance of each concepts. If no isntance is present then use default coordinate. Flag participants that did not move at least half of the concepts (i.e., there are no entries)\n",
        "df_taskSpAM = df_taskSpAM.groupby(['Participant Private ID', 'Zone Name'])['Response'].agg(' '.join).reset_index()\n",
        "df_taskSpAM = df_taskSpAM.pivot(index='Participant Private ID', columns=['Zone Name'], values='Response')\n",
        "\n",
        "for i in range(df_taskSpAM.shape[0]):\n",
        "  for j in range(df_taskSpAM.shape[1]):\n",
        "    if pd.isna(df_taskSpAM.iloc[i,j]):\n",
        "      index = zone_name.index(df_taskSpAM.columns[j])\n",
        "      df_taskSpAM.iloc[i,j] = coordinates[index]\n",
        "\n",
        "# Select the last coordinate input\n",
        "df_taskSpAM = df_taskSpAM.apply(lambda x: x.str.split(' ').str[-4:])\n",
        "df_taskSpAM = df_taskSpAM.applymap(lambda x: [x[0], x[2]] if isinstance(x, list) else x)\n",
        "df_taskSpAM = df_taskSpAM.applymap(lambda x: [int(''.join(filter(str.isdigit, i))) for i in x])\n",
        "#display(df_taskSpAM)\n",
        "\n",
        "#Solution\n",
        "# group values by index column and aggregating the Response values as list. \n",
        "df_taskPRaM = df_taskPRaM.groupby(['Participant Private ID', 'Pair'])['Response'].agg(list).reset_index()\n",
        "df_taskPRaM = df_taskPRaM.pivot(index='Participant Private ID', columns='Pair', values='Response')\n",
        "\n",
        "# Run the following function to convert Response values from list to float.\n",
        "df_taskPRaM = df_taskPRaM.applymap(convert_to_float)\n",
        "#display(df_taskPRaM)"
      ],
      "metadata": {
        "id": "8dzVwNOoDY5V"
      },
      "execution_count": null,
      "outputs": []
    },
    {
      "cell_type": "code",
      "source": [
        "#Push to Lab GitHub !!!\n",
        "#NOTE: These credentials should be configured to user's lab GitHub\n",
        "#If user is part of ExCaLBBR Lab then ask Roberto for access\n",
        "!git config --global user.name \"\" #\"YOUR CREDIENTIALS HERE\" \n",
        "!git config --global user.email \"\" #\"YOUR CREDIENTIALS HERE\"\n",
        "!git config --global user.password \"\" #\"YOUR CREDIENTIALS HERE\"\n",
        "\n",
        "token = ''\n",
        "username_organization = ''\n",
        "repo = ''\n",
        "outputDir = ''"
      ],
      "metadata": {
        "id": "P1hSBfkRJkYa"
      },
      "execution_count": null,
      "outputs": []
    },
    {
      "cell_type": "code",
      "source": [
        "#Clone repository and move created files into output directory\n",
        "!git clone https://{token}@github.com/{username_organization}/{repo}"
      ],
      "metadata": {
        "id": "RToVhxKCJntE",
        "outputId": "57ea81fb-22e2-4c8b-fb40-35892d1085ec",
        "colab": {
          "base_uri": "https://localhost:8080/"
        }
      },
      "execution_count": null,
      "outputs": [
        {
          "output_type": "stream",
          "name": "stdout",
          "text": [
            "Cloning into 'ExCaLBBR_Projects'...\n",
            "remote: Enumerating objects: 723, done.\u001b[K\n",
            "remote: Counting objects: 100% (118/118), done.\u001b[K\n",
            "remote: Compressing objects: 100% (107/107), done.\u001b[K\n",
            "remote: Total 723 (delta 41), reused 38 (delta 11), pack-reused 605\u001b[K\n",
            "Receiving objects: 100% (723/723), 18.11 MiB | 17.51 MiB/s, done.\n",
            "Resolving deltas: 100% (257/257), done.\n"
          ]
        }
      ]
    },
    {
      "cell_type": "code",
      "source": [
        "#Convert all files to csv\n",
        "df_demographic.to_csv('demographic.csv')\n",
        "df_EthId.to_csv('df_EthId.csv')\n",
        "df_MIBI.to_csv('df_MIBI.csv')\n",
        "df_News.to_csv('df_News.csv')\n",
        "df_GRDiscrim.to_csv('df_GRDiscrim.csv')\n",
        "df_ConExposure.to_csv('df_ConExposure.csv')\n",
        "df_ConFeeling.to_csv('df_ConFeeling.csv')\n",
        "df_ConInteraction.to_csv('df_ConInteraction.csv')\n",
        "df_SDO.to_csv('df_SDO.csv')\n",
        "df_taskSpAM.to_csv('df_taskSpAM.csv')\n",
        "df_taskPRaM.to_csv('df_taskPRaM.csv')"
      ],
      "metadata": {
        "id": "GHGoq3mGSf5Q"
      },
      "execution_count": null,
      "outputs": []
    },
    {
      "cell_type": "code",
      "source": [
        "#Move files to Clone repository\n",
        "!mv demographic.csv {repo}/{outputDir}\n",
        "!mv df_EthId.csv {repo}/{outputDir}\n",
        "!mv df_MIBI.csv {repo}/{outputDir}\n",
        "!mv df_News.csv {repo}/{outputDir}\n",
        "!mv df_GRDiscrim.csv {repo}/{outputDir}\n",
        "!mv df_ConExposure.csv {repo}/{outputDir}\n",
        "!mv df_ConFeeling.csv {repo}/{outputDir}\n",
        "!mv df_ConInteraction.csv {repo}/{outputDir}\n",
        "!mv df_SDO.csv {repo}/{outputDir}\n",
        "!mv df_taskSpAM.csv {repo}/{outputDir}\n",
        "!mv df_taskPRaM.csv {repo}/{outputDir}"
      ],
      "metadata": {
        "id": "8QzFtkfER0-3"
      },
      "execution_count": null,
      "outputs": []
    },
    {
      "cell_type": "code",
      "source": [
        "#Move to principle dir, commit, and push changes\n",
        "%cd {repo}\n",
        "!git add --all\n",
        "!git commit -a -m \"Fixed issues with Isolate relevant columns: PRaM and SPaM\"\n",
        "!git push origin"
      ],
      "metadata": {
        "id": "GhSx52_aMfPs",
        "colab": {
          "base_uri": "https://localhost:8080/"
        },
        "outputId": "0fb07bb5-60fe-48ba-8bf6-7f8f914dde0e"
      },
      "execution_count": null,
      "outputs": [
        {
          "output_type": "stream",
          "name": "stdout",
          "text": [
            "/content/ExCaLBBR_Projects/ExCaLBBR_Projects\n",
            "[main 8e6e102] Fixed issues with Isolate relevant columns: PRaM and SPaM\n",
            " 11 files changed, 6056 insertions(+), 5598 deletions(-)\n",
            " rewrite SocioenvironmentalGeometry/data/demographic.csv (98%)\n",
            " rewrite SocioenvironmentalGeometry/data/df_ConExposure.csv (98%)\n",
            " rewrite SocioenvironmentalGeometry/data/df_ConFeeling.csv (98%)\n",
            " rewrite SocioenvironmentalGeometry/data/df_ConInteraction.csv (99%)\n",
            " rewrite SocioenvironmentalGeometry/data/df_EthId.csv (99%)\n",
            " rewrite SocioenvironmentalGeometry/data/df_GRDiscrim.csv (98%)\n",
            " rewrite SocioenvironmentalGeometry/data/df_MIBI.csv (98%)\n",
            " rewrite SocioenvironmentalGeometry/data/df_News.csv (99%)\n",
            " rewrite SocioenvironmentalGeometry/data/df_SDO.csv (98%)\n",
            " rewrite SocioenvironmentalGeometry/data/df_taskPRaM.csv (95%)\n",
            " rewrite SocioenvironmentalGeometry/data/df_taskSpAM.csv (98%)\n",
            "Enumerating objects: 29, done.\n",
            "Counting objects: 100% (29/29), done.\n",
            "Delta compression using up to 2 threads\n",
            "Compressing objects: 100% (15/15), done.\n",
            "Writing objects: 100% (15/15), 66.05 KiB | 3.00 MiB/s, done.\n",
            "Total 15 (delta 7), reused 0 (delta 0)\n",
            "remote: Resolving deltas: 100% (7/7), completed with 7 local objects.\u001b[K\n",
            "To https://github.com/ExCaLBBR/ExCaLBBR_Projects\n",
            "   a8e6f80..8e6e102  main -> main\n"
          ]
        }
      ]
    }
  ]
}
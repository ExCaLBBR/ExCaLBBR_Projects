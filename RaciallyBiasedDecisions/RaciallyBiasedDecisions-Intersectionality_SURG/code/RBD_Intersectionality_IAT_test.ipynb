{
  "nbformat": 4,
  "nbformat_minor": 0,
  "metadata": {
    "colab": {
      "provenance": [],
      "include_colab_link": true
    },
    "kernelspec": {
      "name": "python3",
      "display_name": "Python 3"
    },
    "language_info": {
      "name": "python"
    }
  },
  "cells": [
    {
      "cell_type": "markdown",
      "metadata": {
        "id": "view-in-github",
        "colab_type": "text"
      },
      "source": [
        "<a href=\"https://colab.research.google.com/github/ExCaLBBR/ExCaLBBR_Projects/blob/main/RaciallyBiasedDecisions/RaciallyBiasedDecisions-Intersectionality_SURG/code/RBD_Intersectionality_IAT_test.ipynb\" target=\"_parent\"><img src=\"https://colab.research.google.com/assets/colab-badge.svg\" alt=\"Open In Colab\"/></a>"
      ]
    },
    {
      "cell_type": "markdown",
      "source": [
        "## Import libraries"
      ],
      "metadata": {
        "id": "fup1prUQYL3Q"
      }
    },
    {
      "cell_type": "code",
      "execution_count": 128,
      "metadata": {
        "id": "bfrwIu2GvzIP"
      },
      "outputs": [],
      "source": [
        "import pandas as pd #for dealing with csv import\n",
        "import os # for joining paths and filenames sensibly\n",
        "import numpy as np #for the population std\n",
        "import glob # for finding csv data files\n",
        "import platform # paths use different dividers on linux vs windows, so we need to test for this\n",
        "import string"
      ]
    },
    {
      "cell_type": "markdown",
      "source": [
        "## Define Utility functions"
      ],
      "metadata": {
        "id": "cyYclnFiRioA"
      }
    },
    {
      "cell_type": "code",
      "source": [
        "#Define Utility functions\n",
        "def adjustedmean(RTs,corrs,penalty):\n",
        "    n=len(corrs) #trials\n",
        "    n_errors=int(n-sum(corrs)) #errors\n",
        "    print(\"Number of correctness: \", int(sum(corrs)))\n",
        "    print(\"Number of errors: \", n_errors)\n",
        "    cor_RTs=np.array(corrs)*RTs #sum of correct RTs\n",
        "    cor_mean=sum(cor_RTs)/sum(corrs)\n",
        "    \n",
        "    #mean with errors replaced with penalty value\n",
        "    return cor_mean+(n_errors*penalty)/n\n",
        "\n",
        "\n",
        "\n",
        "def exclude_slows(RTs,corrs,slowRT_limit):\n",
        "    new_rt=[] #holding variables\n",
        "    new_cr=[]\n",
        "    for i in range(len(RTs)): #iterate over every item\n",
        "        if RTs[i] < slowRT_limit: #if it isn't too fast, include RT and corr values\n",
        "            new_rt.append(RTs[i])\n",
        "            new_cr.append(corrs[i])\n",
        "    \n",
        "    return (new_rt, new_cr)"
      ],
      "metadata": {
        "id": "E0gHEfHpv8s8"
      },
      "execution_count": 129,
      "outputs": []
    },
    {
      "cell_type": "markdown",
      "source": [
        "## Load data"
      ],
      "metadata": {
        "id": "YjuE7xo1YRKi"
      }
    },
    {
      "cell_type": "code",
      "source": [
        "df_IAT_BM = pd.read_csv ('https://github.com/ExCaLBBR/ExCaLBBR_Projects/raw/main/RaciallyBiasedDecisions/RaciallyBiasedDecisions-Intersectionality_SURG/data/IAT_BM.csv', header=0)\n",
        "df_IAT_WM = pd.read_csv ('https://github.com/ExCaLBBR/ExCaLBBR_Projects/raw/main/RaciallyBiasedDecisions/RaciallyBiasedDecisions-Intersectionality_SURG/data/IAT_WM.csv', header=0)"
      ],
      "metadata": {
        "id": "uoFax7EbwSX0"
      },
      "execution_count": 130,
      "outputs": []
    },
    {
      "cell_type": "markdown",
      "source": [
        "##Specify thresholds"
      ],
      "metadata": {
        "id": "_-wfVEHpYXkd"
      }
    },
    {
      "cell_type": "code",
      "source": [
        "penalty=0.600 #penalty - in seconds - for incorrect responses\n",
        "slowRT_limit=1200 #threshold at which slow RTs are discarded\n",
        "fastRT_limit=300 #threshold which defines responses which are \"too fast\"\n",
        "fast_prop_limit=0.1 # threshold proportion of \"too fast\" responses which defines exclusion of ppt\n"
      ],
      "metadata": {
        "id": "0IFRSKkDwaj7"
      },
      "execution_count": 131,
      "outputs": []
    },
    {
      "cell_type": "markdown",
      "source": [
        "## Data extraction"
      ],
      "metadata": {
        "id": "grjekSbXRqkB"
      }
    },
    {
      "cell_type": "code",
      "source": [
        "df_IAT_BM.rename(columns={\"Spreadsheet: metadata\": \"Congruence\", \"allocator-k3xu\": \"Group Type\"}, inplace = True)\n",
        "df_IAT_BM_2 = df_IAT_BM.drop([\"Spreadsheet: ImageLeft\", \"Spreadsheet: ImageRight\"], axis = 1)\n",
        "df_IAT_WM.rename(columns={\"Spreadsheet: metadata\": \"Congruence\", \"allocator-k3xu\": \"Group Type\"}, inplace = True)\n",
        "df_IAT_WM_2 = df_IAT_WM.drop([\"Spreadsheet: ImageLeft\", \"Spreadsheet: ImageRight\"], axis = 1)\n",
        "# df_IAT_BM_2\n",
        "# df_IAT_WM_2\n",
        "\n",
        "df_IAT_BM_STR = df_IAT_BM_2[((df_IAT_BM_2[\"Spreadsheet: TextLeft\"] == \"Strong\") | (df_IAT_BM_2[\"Spreadsheet: TextRight\"] == \"Strong\")) & (~df_IAT_BM_2[\"Congruence\"].str.startswith(\"practice\"))]\n",
        "# print(df_IAT_BM_STR.shape)\n",
        "df_IAT_BM_INT = df_IAT_BM_2[((df_IAT_BM_2[\"Spreadsheet: TextLeft\"] == \"Intelligence\") | (df_IAT_BM_2[\"Spreadsheet: TextRight\"] == \"Intelligence\")) & (~df_IAT_BM_2[\"Congruence\"].str.startswith(\"practice\"))]\n",
        "# print(df_IAT_BM_INT.shape)\n",
        "df_IAT_WM_STR = df_IAT_WM_2[((df_IAT_WM_2[\"Spreadsheet: TextLeft\"] == \"Strong\") | (df_IAT_WM_2[\"Spreadsheet: TextRight\"] == \"Strong\")) & (~df_IAT_WM_2[\"Congruence\"].str.startswith(\"practice\"))]\n",
        "# print(df_IAT_WM_STR.shape)\n",
        "df_IAT_WM_INT = df_IAT_WM_2[((df_IAT_BM_2[\"Spreadsheet: TextLeft\"] == \"Intelligence\") | (df_IAT_WM_2[\"Spreadsheet: TextRight\"] == \"Intelligence\")) & (~df_IAT_WM_2[\"Congruence\"].str.startswith(\"practice\"))]\n",
        "# print(df_IAT_WM_INT.shape)\n",
        "congr_corr_BM_STR = df_IAT_BM_STR[df_IAT_BM_STR[\"Congruence\"] == \"congruent\"][\"Correct\"].dropna().tolist()\n",
        "congr_rts_BM_STR = df_IAT_BM_STR[df_IAT_BM_STR[\"Congruence\"] == \"congruent\"][\"Absolute Reaction Time\"].dropna().tolist()\n",
        "incon_corr_BM_STR = df_IAT_BM_STR[df_IAT_BM_STR[\"Congruence\"] == \"incongruent\"][\"Correct\"].dropna().tolist()\n",
        "incon_rts_BM_STR = df_IAT_BM_STR[df_IAT_BM_STR[\"Congruence\"] == \"incongruent\"][\"Absolute Reaction Time\"].dropna().tolist()\n",
        "# check correctness list has the same length as the rt list \n",
        "print(len(congr_corr_BM_STR))\n",
        "print(len(congr_rts_BM_STR))\n",
        "\n"
      ],
      "metadata": {
        "id": "HLJdf6IoSQcT",
        "colab": {
          "base_uri": "https://localhost:8080/"
        },
        "outputId": "e8c95a25-50fc-4fce-c020-dd6067651e80"
      },
      "execution_count": 132,
      "outputs": [
        {
          "output_type": "stream",
          "name": "stdout",
          "text": [
            "2772\n",
            "2772\n"
          ]
        }
      ]
    },
    {
      "cell_type": "markdown",
      "source": [
        "## Analysis and calculation"
      ],
      "metadata": {
        "id": "i5kWZjb1iN_P"
      }
    },
    {
      "cell_type": "code",
      "source": [
        "# -----------ANALYSE / CALCULATE\n",
        "        \n",
        "#1 discard subject if too many fast responses\n",
        "if sum(np.array(congr_rts_BM_STR + incon_rts_BM_STR)<fastRT_limit)>len(congr_rts_BM_STR + incon_rts_BM_STR)*fast_prop_limit:\n",
        "    print (\"excluding subject for BM STR because too many fast responses\")\n",
        "else:\n",
        "    #2 Eliminate scores over 10,000 ms\n",
        "            \n",
        "    congr_rts,congr_corr=exclude_slows(congr_rts_BM_STR,congr_corr_BM_STR,slowRT_limit)              \n",
        "    incon_rts,incon_corr=exclude_slows(incon_rts_BM_STR,incon_corr_BM_STR,slowRT_limit)\n",
        "    \n",
        "    #3 Calculate pooled std\n",
        "    #pooled_std=pooled.std(0) #n-1 std sample std\n",
        "    #(Use N not N-1 because this is the whole sample). \n",
        "    #numpy.std is population std\n",
        "    pooled=congr_rts + incon_rts #all RTs from both blocks, correct and incorrect\n",
        "    pooled_std=np.std(pooled)\n",
        "    \n",
        "    #4 Calculated adjusted means, including the penalty\n",
        "    congr_adjmean=adjustedmean(congr_rts,congr_corr,penalty)\n",
        "    incon_adjmean=adjustedmean(incon_rts,incon_corr,penalty)\n",
        "    \n",
        "    #5 Calculate the IAT, so that pro-stereotype RTs are a -ve score\n",
        "    IAT=(congr_adjmean-incon_adjmean)/pooled_std\n",
        "    \n",
        "    simpleIAT=sum(congr_rts)/len(congr_rts)-sum(incon_rts)/len(incon_rts)        \n",
        "    \n",
        "    print(\"IAT for BM_STR\" + \" is : {:+.3f}\".format(IAT))\n",
        "    print(\"Mean difference (uncorrected) is {:+.3f}\".format(simpleIAT)+\" seconds\")"
      ],
      "metadata": {
        "id": "iAxbLnaciRlv",
        "colab": {
          "base_uri": "https://localhost:8080/"
        },
        "outputId": "b257db32-b67f-4d82-ae97-cdbfa2cde428"
      },
      "execution_count": 133,
      "outputs": [
        {
          "output_type": "stream",
          "name": "stdout",
          "text": [
            "Number of correctness:  2189\n",
            "Number of errors:  234\n",
            "Number of correctness:  2275\n",
            "Number of errors:  179\n",
            "IAT for BM_STR is : +0.119\n",
            "Mean difference (uncorrected) is +21.111 seconds\n"
          ]
        }
      ]
    },
    {
      "cell_type": "markdown",
      "source": [
        "## Deprecated functions and declarations"
      ],
      "metadata": {
        "id": "iHtFpagJCfjg"
      }
    },
    {
      "cell_type": "code",
      "source": [
        "# #extract the stuff we're interested in (n.b i am indexing using the column names defined in the csv)\n",
        "#     #dropna() drops nans\n",
        "#     #tolist() converts from series to list\n",
        "#     corrs=df['key_resp_9.corr'].dropna().tolist()\n",
        "#     rts=df['key_resp_9.rt'].dropna().tolist()\n",
        "#     block_length=int(len(corrs)/2)\n",
        "#     #find order \n",
        "#     order=df['order'].tolist()[0]\n",
        "#     #1 congr then incong\n",
        "#     #2 incongr then congr    \n",
        "#     if order==1:\n",
        "#         congr_corr=corrs[0:block_length]\n",
        "#         congr_rts=rts[0:block_length]\n",
        "#         incon_corr=corrs[block_length:]\n",
        "#         incon_rts=rts[block_length:]\n",
        "#     else:\n",
        "#         congr_corr=corrs[block_length:]\n",
        "#         congr_rts=rts[block_length:]\n",
        "#         incon_corr=corrs[0:block_length]\n",
        "#         incon_rts=rts[0:block_length]\n",
        "#     #1 discard subject if too many fast responses\n",
        "#     if sum(np.array(congr_rts + incon_rts)<fastRT_limit)>len(congr_rts + incon_rts)*fast_prop_limit:\n",
        "#         print \"excluding subject for \" + os.path.basename(filename) + \" because too many fast responses\"\n",
        "#     else:\n",
        "#         #2 Eliminate scores over 10,000 ms\n",
        "             \n",
        "#         congr_rts,congr_corr=exclude_slows(congr_rts,congr_corr,slowRT_limit)              \n",
        "#         incon_rts,incon_corr=exclude_slows(incon_rts,incon_corr,slowRT_limit)\n",
        "        \n",
        "#         #3 Calculate pooled std\n",
        "#         #pooled_std=pooled.std(0) #n-1 std sample std\n",
        "#         #(Use N not N-1 because this is the whole sample). \n",
        "#         #numpy.std is population std\n",
        "#         pooled=congr_rts + incon_rts #all RTs from both blocks, correct and incorrect\n",
        "#         pooled_std=np.std(pooled)\n",
        "        \n",
        "#         #4 Calculated adjusted means, including the penalty\n",
        "#         congr_adjmean=adjustedmean(congr_rts,congr_corr,penalty)\n",
        "#         incon_adjmean=adjustedmean(incon_rts,incon_corr,penalty)\n",
        "        \n",
        "#         #5 Calculate the IAT, so that pro-stereotype RTs are a -ve score\n",
        "#         IAT=(congr_adjmean-incon_adjmean)/pooled_std\n",
        "        \n",
        "#         simpleIAT=mean(congr_rts)-mean(incon_rts)        \n",
        "        \n",
        "#         print \"IAT for \" + os.path.basename(filename) + \" is : {:+.3f}\".format(IAT)\n",
        "#         print \"Mean difference (uncorrected) is {:+.3f}\".format(simpleIAT)+\" seconds\"\n",
        "# df_IAT_BM_INT_inin = df_IAT_BM_INT[df_IAT_BM_INT[\"Group Type\"] == \"Condition_InIn\"]\n",
        "# df_IAT_BM_INT_inoutGender = df_IAT_BM_INT[df_IAT_BM_INT[\"Group Type\"] == \"Condition_InOut-gender\"]\n",
        "# df_IAT_BM_INT_inoutRace = df_IAT_BM_INT[df_IAT_BM_INT[\"Group Type\"] == \"Condition_InOut-race\"]\n",
        "# df_IAT_BM_INT_inoutBoth = df_IAT_BM_INT[df_IAT_BM_INT[\"Group Type\"] == \"Condition_InOut-both\"]\n",
        "# df_IAT_WM_INT_inin = df_IAT_WM_INT[df_IAT_WM_INT[\"Group Type\"] == \"Condition_InIn\"]\n",
        "# df_IAT_WM_INT_inoutGender = df_IAT_WM_INT[df_IAT_WM_INT[\"Group Type\"] == \"Condition_InOut-gender\"]\n",
        "# df_IAT_WM_INT_inoutRace = df_IAT_WM_INT[df_IAT_WM_INT[\"Group Type\"] == \"Condition_InOut-race\"]\n",
        "# df_IAT_WM_INT_inoutBoth = df_IAT_WM_INT[df_IAT_WM_INT[\"Group Type\"] == \"Condition_InOut-both\"]"
      ],
      "metadata": {
        "id": "BInUNoXhCjbL"
      },
      "execution_count": 134,
      "outputs": []
    },
    {
      "cell_type": "markdown",
      "source": [
        "## Reference: \n",
        "IAT data analysis script adapted from https://github.com/tomstafford/IAT\n",
        "\n",
        "Calculate IAT score from data generated by Robin's PsychoPy script [TQS Feb 2014]\n",
        "\n",
        "*Greenwald, A. G., Nosek, B. A., & Banaji, M. R. (2003). Understanding and using the implicit association test: I. An improved scoring algorithm. Journal of personality and social psychology, 85(2), 1972-216.*"
      ],
      "metadata": {
        "id": "pE-DC6j9wKGk"
      }
    }
  ]
}
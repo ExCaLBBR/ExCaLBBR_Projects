{
  "nbformat": 4,
  "nbformat_minor": 0,
  "metadata": {
    "colab": {
      "provenance": [],
      "include_colab_link": true
    },
    "kernelspec": {
      "name": "python3",
      "display_name": "Python 3"
    },
    "language_info": {
      "name": "python"
    }
  },
  "cells": [
    {
      "cell_type": "markdown",
      "metadata": {
        "id": "view-in-github",
        "colab_type": "text"
      },
      "source": [
        "<a href=\"https://colab.research.google.com/github/ExCaLBBR/ExCaLBBR_Projects/blob/main/RaciallyBiasedDecisions/RaciallyBiasedDecisions-Intersectionality_SURG/code/RBD_Intersectionality_IAT_test.ipynb\" target=\"_parent\"><img src=\"https://colab.research.google.com/assets/colab-badge.svg\" alt=\"Open In Colab\"/></a>"
      ]
    },
    {
      "cell_type": "markdown",
      "source": [
        "## Import libraries"
      ],
      "metadata": {
        "id": "fup1prUQYL3Q"
      }
    },
    {
      "cell_type": "code",
      "execution_count": 55,
      "metadata": {
        "id": "bfrwIu2GvzIP"
      },
      "outputs": [],
      "source": [
        "import pandas as pd #for dealing with csv import\n",
        "import os # for joining paths and filenames sensibly\n",
        "import numpy as np #for the population std\n",
        "import glob # for finding csv data files\n",
        "import platform # paths use different dividers on linux vs windows, so we need to test for this\n",
        "import string"
      ]
    },
    {
      "cell_type": "markdown",
      "source": [
        "## Define Utility functions"
      ],
      "metadata": {
        "id": "cyYclnFiRioA"
      }
    },
    {
      "cell_type": "code",
      "source": [
        "#Define Utility functions\n",
        "def adjustedmean(RTs,corrs,penalty):\n",
        "    n=len(corrs) #trials\n",
        "    n_errors=n-sum(corrs) #errors\n",
        "    cor_RTs=np.array(corrs)*RTs #sum of correct RTs\n",
        "    cor_mean=sum(cor_RTs)/sum(corrs)\n",
        "    \n",
        "    #mean with errors replaced with penalty value\n",
        "    return cor_mean+(n_errors*penalty)/n\n",
        "\n",
        "\n",
        "\n",
        "def exclude_slows(RTs,corrs,slowRT_limit):\n",
        "    new_rt=[] #holding variables\n",
        "    new_cr=[]\n",
        "    for i in range(len(RTs)): #iterate over every item\n",
        "        if RTs[i] < slowRT_limit: #if it isn't too fast, include RT and corr values\n",
        "            new_rt.append(RTs[i])\n",
        "            new_cr.append(corrs[i])\n",
        "    \n",
        "    return (new_rt, new_cr)"
      ],
      "metadata": {
        "id": "E0gHEfHpv8s8"
      },
      "execution_count": 56,
      "outputs": []
    },
    {
      "cell_type": "markdown",
      "source": [
        "## Load data"
      ],
      "metadata": {
        "id": "YjuE7xo1YRKi"
      }
    },
    {
      "cell_type": "code",
      "source": [
        "df_IAT_BM = pd.read_csv ('https://github.com/ExCaLBBR/ExCaLBBR_Projects/raw/main/RaciallyBiasedDecisions/RaciallyBiasedDecisions-Intersectionality_SURG/data/IAT_BM.csv', header=0)\n",
        "df_IAT_WM = pd.read_csv ('https://github.com/ExCaLBBR/ExCaLBBR_Projects/raw/main/RaciallyBiasedDecisions/RaciallyBiasedDecisions-Intersectionality_SURG/data/IAT_WM.csv', header=0)"
      ],
      "metadata": {
        "id": "uoFax7EbwSX0"
      },
      "execution_count": 57,
      "outputs": []
    },
    {
      "cell_type": "markdown",
      "source": [
        "##Specify thresholds"
      ],
      "metadata": {
        "id": "_-wfVEHpYXkd"
      }
    },
    {
      "cell_type": "code",
      "source": [
        "penalty=0.600 #penalty - in seconds - for incorrect responses\n",
        "slowRT_limit=10 #threshold at which slow RTs are discarded\n",
        "fastRT_limit=0.300 #threshold which defines responses which are \"too fast\"\n",
        "fast_prop_limit=0.1 # threshold proportion of \"too fast\" responses which defines exclusion of ppt\n"
      ],
      "metadata": {
        "id": "0IFRSKkDwaj7"
      },
      "execution_count": 58,
      "outputs": []
    },
    {
      "cell_type": "markdown",
      "source": [
        "## Data extraction"
      ],
      "metadata": {
        "id": "grjekSbXRqkB"
      }
    },
    {
      "cell_type": "code",
      "source": [
        "df_IAT_BM.rename(columns={\"Spreadsheet: metadata\": \"Congruence\", \"allocator-k3xu\": \"Group Type\"}, inplace = True)\n",
        "df_IAT_BM_2 = df_IAT_BM.drop([\"Spreadsheet: ImageLeft\", \"Spreadsheet: ImageRight\"], axis = 1)\n",
        "df_IAT_WM.rename(columns={\"Spreadsheet: metadata\": \"Congruence\", \"allocator-k3xu\": \"Group Type\"}, inplace = True)\n",
        "df_IAT_WM_2 = df_IAT_WM.drop([\"Spreadsheet: ImageLeft\", \"Spreadsheet: ImageRight\"], axis = 1)\n",
        "# df_IAT_BM_2\n",
        "# df_IAT_WM_2\n",
        "\n",
        "df_IAT_BM_STR = df_IAT_BM_2[((df_IAT_BM_2[\"Spreadsheet: TextLeft\"] == \"Strong\") | (df_IAT_BM_2[\"Spreadsheet: TextRight\"] == \"Strong\")) & (~df_IAT_BM_2[\"Congruence\"].str.startswith(\"practice\"))]\n",
        "# df_IAT_BM_STR = df_IAT_BM_STR[df_IAT_BM_STR[\"Congruence\"]]\n",
        "print(df_IAT_BM_STR.shape)\n",
        "df_IAT_BM_INT = df_IAT_BM_2[((df_IAT_BM_2[\"Spreadsheet: TextLeft\"] == \"Intelligence\") | (df_IAT_BM_2[\"Spreadsheet: TextRight\"] == \"Intelligence\")) & (~df_IAT_BM_2[\"Congruence\"].str.startswith(\"practice\"))]\n",
        "print(df_IAT_BM_INT.shape)\n",
        "# df_IAT_WM\n",
        "# #extract the stuff we're interested in (n.b i am indexing using the column names defined in the csv)\n",
        "#     #dropna() drops nans\n",
        "#     #tolist() converts from series to list\n",
        "#     corrs=df_IAT_BM['key_resp_9.corr'].dropna().tolist()\n",
        "#     rts=df['key_resp_9.rt'].dropna().tolist()\n",
        "#     block_length=int(len(corrs)/2)\n",
        "#     #find order \n",
        "#     order=df['order'].tolist()[0]\n",
        "#     #1 congr then incong\n",
        "#     #2 incongr then congr\n",
        "    \n",
        "#     if order==1:\n",
        "#         congr_corr=corrs[0:block_length]\n",
        "#         congr_rts=rts[0:block_length]\n",
        "#         incon_corr=corrs[block_length:]\n",
        "#         incon_rts=rts[block_length:]\n",
        "#     else:\n",
        "#         congr_corr=corrs[block_length:]\n",
        "#         congr_rts=rts[block_length:]\n",
        "#         incon_corr=corrs[0:block_length]\n",
        "#         incon_rts=rts[0:block_length]\n"
      ],
      "metadata": {
        "colab": {
          "base_uri": "https://localhost:8080/"
        },
        "id": "HLJdf6IoSQcT",
        "outputId": "ddf2ba7e-7951-40bf-8116-1ffbb06e0f74"
      },
      "execution_count": 71,
      "outputs": [
        {
          "output_type": "stream",
          "name": "stdout",
          "text": [
            "(5543, 8)\n",
            "(5529, 8)\n"
          ]
        }
      ]
    },
    {
      "cell_type": "markdown",
      "source": [
        "## Reference: \n",
        "IAT data analysis script adapted from https://github.com/tomstafford/IAT\n",
        "\n",
        "Calculate IAT score from data generated by Robin's PsychoPy script [TQS Feb 2014]\n",
        "\n",
        "*Greenwald, A. G., Nosek, B. A., & Banaji, M. R. (2003). Understanding and using the implicit association test: I. An improved scoring algorithm. Journal of personality and social psychology, 85(2), 1972-216.*"
      ],
      "metadata": {
        "id": "pE-DC6j9wKGk"
      }
    }
  ]
}
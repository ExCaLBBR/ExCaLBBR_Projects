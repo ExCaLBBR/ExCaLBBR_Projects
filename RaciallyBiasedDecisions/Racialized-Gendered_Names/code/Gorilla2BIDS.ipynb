{
  "nbformat": 4,
  "nbformat_minor": 0,
  "metadata": {
    "colab": {
      "provenance": [],
      "include_colab_link": true
    },
    "kernelspec": {
      "name": "python3",
      "display_name": "Python 3"
    },
    "language_info": {
      "name": "python"
    }
  },
  "cells": [
    {
      "cell_type": "markdown",
      "metadata": {
        "id": "view-in-github",
        "colab_type": "text"
      },
      "source": [
        "<a href=\"https://colab.research.google.com/github/ExCaLBBR/ExCaLBBR_Projects/blob/main/RaciallyBiasedDecisions/Racialized-Gendered_Names/code/Gorilla2BIDS.ipynb\" target=\"_parent\"><img src=\"https://colab.research.google.com/assets/colab-badge.svg\" alt=\"Open In Colab\"/></a>"
      ]
    },
    {
      "cell_type": "code",
      "source": [
        "#Todo\n",
        "#Save files to github"
      ],
      "metadata": {
        "id": "q4BWdW1LsnHI"
      },
      "execution_count": null,
      "outputs": []
    },
    {
      "cell_type": "markdown",
      "source": [
        "Gorilla Info: <br>\n",
        "Project: RacializedGenderedName_SessionFlow <br>\n",
        "Version: 5 <br>\n",
        "Account: Roberto Vargas (robertov@andrew.cmu.edu) "
      ],
      "metadata": {
        "id": "C9mud3ByqVgH"
      }
    },
    {
      "cell_type": "code",
      "source": [
        "#Load relevant libraries\n",
        "import pandas as pd\n"
      ],
      "metadata": {
        "id": "08gBma2_ivoE"
      },
      "execution_count": 1,
      "outputs": []
    },
    {
      "cell_type": "code",
      "execution_count": 2,
      "metadata": {
        "id": "olj3KF08iCYB"
      },
      "outputs": [],
      "source": [
        "# Store in a Pandas Dataframe\n",
        "\n",
        "#Define paths to session files\n",
        "url_check = 'https://raw.githubusercontent.com/ExCaLBBR/ExCaLBBR_Projects/main/RaciallyBiasedDecisions/Racialized-Gendered_Names/data/data_checkQ.csv'\n",
        "df_check = pd.read_csv(url_check)\n",
        "\n",
        "#Define paths to session files\n",
        "url_demographic = 'https://raw.githubusercontent.com/ExCaLBBR/ExCaLBBR_Projects/main/RaciallyBiasedDecisions/Racialized-Gendered_Names/data/data_demographic.csv'\n",
        "df_demographic = pd.read_csv(url_demographic)\n",
        "\n",
        "#Define paths to session files\n",
        "url_taskRGN = 'https://raw.githubusercontent.com/ExCaLBBR/ExCaLBBR_Projects/main/RaciallyBiasedDecisions/Racialized-Gendered_Names/data/data_task_RGN.csv'\n",
        "df_taskRGN = pd.read_csv(url_taskRGN)"
      ]
    },
    {
      "cell_type": "code",
      "source": [
        "#Isolate relevant columns: Check\n",
        "include = ['Participant Completion Code', 'Question Key', 'Screen Name', 'Response']\n",
        "df_check = df_check[~df_check['Event Index'].str.contains('END OF FILE', na=True)]\n",
        "df_check.drop(columns=df_check.columns.difference(include), inplace=True)\n",
        "mask = df_check['Question Key'].str.contains('BEGIN QUESTIONNAIRE', na=True) | df_check['Question Key'].str.contains('END QUESTIONNAIRE', na=True)\n",
        "df_check = df_check[~mask]\n",
        "#display(df_check)\n",
        "\n",
        "#Isolate relevant columns: Demographics\n",
        "include = ['Participant Completion Code', 'Question Key', 'Response']\n",
        "df_demographic = df_demographic[~df_demographic['Event Index'].str.contains('END OF FILE', na=True)]\n",
        "df_demographic.drop(columns=df_demographic.columns.difference(include), inplace=True)\n",
        "mask = df_demographic['Question Key'].str.contains('BEGIN QUESTIONNAIRE', na=True) | df_demographic['Question Key'].str.contains('END QUESTIONNAIRE', na=True) | df_demographic['Question Key'].str.contains('quantised', na=True) | df_demographic['Question Key'].str.contains('response-2', na=True)\n",
        "df_demographic = df_demographic[~mask]\n",
        "#display(df_demographic)\n",
        "\n",
        "#Isolate relevant columns: Task_RGN\n",
        "include = ['Participant Completion Code', 'Reaction Time', 'Screen Name', 'Response', '# name', 'Trial Number']\n",
        "df_taskRGN = df_taskRGN[~df_taskRGN['Event Index'].str.contains('END OF FILE', na=True)]\n",
        "df_taskRGN.drop(columns=df_taskRGN.columns.difference(include), inplace=True)\n",
        "mask = df_taskRGN['Trial Number'].str.contains('BEGIN TASK', na=True) | df_taskRGN['Trial Number'].str.contains('END TASK', na=True) | df_taskRGN['Screen Name'].str.contains('Start', na=True)\n",
        "df_taskRGN = df_taskRGN[~mask]\n",
        "#display(df_taskRGN)"
      ],
      "metadata": {
        "id": "kLaAn9rGCyxh",
        "colab": {
          "base_uri": "https://localhost:8080/"
        },
        "outputId": "ed1fbeb4-a2c4-42be-a953-c50f0f77d880"
      },
      "execution_count": 3,
      "outputs": [
        {
          "output_type": "stream",
          "name": "stderr",
          "text": [
            "/usr/local/lib/python3.8/dist-packages/pandas/core/frame.py:4906: SettingWithCopyWarning: \n",
            "A value is trying to be set on a copy of a slice from a DataFrame\n",
            "\n",
            "See the caveats in the documentation: https://pandas.pydata.org/pandas-docs/stable/user_guide/indexing.html#returning-a-view-versus-a-copy\n",
            "  return super().drop(\n"
          ]
        }
      ]
    },
    {
      "cell_type": "code",
      "source": [
        "#Isolate Pivot dataframes: Check\n",
        "df_check = df_check.pivot(index = 'Participant Completion Code', columns = ['Question Key'], values = ['Response'])\n",
        "check.csv\n",
        "#display(df_check)\n",
        "\n",
        "#Isolate Pivot dataframes: Demographics\n",
        "df_demographic = df_demographic.pivot(index = 'Participant Completion Code', columns = ['Question Key'], values = ['Response'])\n",
        "demographic.csv\n",
        "#display(df_demographic)\n",
        "\n",
        "#Isolate Pivot dataframes: Task_RGN\n",
        "df_taskRGN = df_taskRGN.pivot(index = '# name', columns = ['Screen Name', 'Participant Completion Code'], values = ['Response', 'Reaction Time'])\n",
        "taskRGN.csv\n",
        "#display(df_taskRGN)\n"
      ],
      "metadata": {
        "id": "8dzVwNOoDY5V"
      },
      "execution_count": 4,
      "outputs": []
    },
    {
      "cell_type": "code",
      "source": [
        "#Push to Lab GitHub\n",
        "#NOTE: These credentials should be configured to user's lab GitHub\n",
        "#If user is part of ExCaLBBR Lab then ask Roberto for access\n",
        "!git config --global user.name \"YOUR CREDIENTIALS HERE\"\n",
        "!git config --global user.email \"YOUR CREDIENTIALS HERE\"\n",
        "!git config --global user.password \"YOUR CREDIENTIALS HERE\"\n",
        "\n",
        "token = ''\n",
        "username = ''\n",
        "repo = ''\n",
        "\n",
        "!git clone https://{token}@github.com/{username}/{repo}\n",
        "\n",
        "'ExCaLBBR/ExCaLBBR_Projects/RaciallyBiasedDecisions/Racialized-Gendered_Names/code/Gorilla2BIDS.ipynb''"
      ],
      "metadata": {
        "id": "P1hSBfkRJkYa"
      },
      "execution_count": null,
      "outputs": []
    },
    {
      "cell_type": "code",
      "source": [
        "# Reference code\n",
        "\n",
        "# for (index, row) in df1.iterrows():\n",
        "#     if type(row['# name']) != str:\n",
        "#         dropRows.append(index)\n",
        "# df1.drop(labels = dropRows, axis = 0, inplace = True)\n",
        "\n",
        "# appended_data.to_excel('appended.xlsx')"
      ],
      "metadata": {
        "id": "p-PAKFmDP-AR"
      },
      "execution_count": null,
      "outputs": []
    }
  ]
}
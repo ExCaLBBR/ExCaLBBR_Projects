{
  "nbformat": 4,
  "nbformat_minor": 0,
  "metadata": {
    "colab": {
      "provenance": [],
      "include_colab_link": true
    },
    "kernelspec": {
      "name": "python3",
      "display_name": "Python 3"
    },
    "language_info": {
      "name": "python"
    }
  },
  "cells": [
    {
      "cell_type": "markdown",
      "metadata": {
        "id": "view-in-github",
        "colab_type": "text"
      },
      "source": [
        "<a href=\"https://colab.research.google.com/github/ExCaLBBR/ExCaLBBR_Projects/blob/main/RaciallyBiasedDecisions/Racialized-Gendered_Names/code/Gorilla2BIDS.ipynb\" target=\"_parent\"><img src=\"https://colab.research.google.com/assets/colab-badge.svg\" alt=\"Open In Colab\"/></a>"
      ]
    },
    {
      "cell_type": "code",
      "source": [
        "#Todo\n",
        "#Save files to github"
      ],
      "metadata": {
        "id": "q4BWdW1LsnHI"
      },
      "execution_count": null,
      "outputs": []
    },
    {
      "cell_type": "markdown",
      "source": [
        "Gorilla Info: <br>\n",
        "Project: RacializedGenderedName_SessionFlow <br>\n",
        "Version: 5 <br>\n",
        "Account: Roberto Vargas (robertov@andrew.cmu.edu) "
      ],
      "metadata": {
        "id": "C9mud3ByqVgH"
      }
    },
    {
      "cell_type": "code",
      "source": [
        "#Load relevant libraries\n",
        "import pandas as pd\n"
      ],
      "metadata": {
        "id": "08gBma2_ivoE"
      },
      "execution_count": 1,
      "outputs": []
    },
    {
      "cell_type": "code",
      "execution_count": 7,
      "metadata": {
        "id": "olj3KF08iCYB"
      },
      "outputs": [],
      "source": [
        "# Store in a Pandas Dataframe\n",
        "\n",
        "#Define paths to session files\n",
        "url_check = 'https://raw.githubusercontent.com/ExCaLBBR/ExCaLBBR_Projects/main/RaciallyBiasedDecisions/Racialized-Gendered_Names/data/raw/data_checkQ.csv'\n",
        "df_check = pd.read_csv(url_check)\n",
        "\n",
        "#Define paths to session files\n",
        "url_demographic = 'https://raw.githubusercontent.com/ExCaLBBR/ExCaLBBR_Projects/main/RaciallyBiasedDecisions/Racialized-Gendered_Names/data/raw/data_demographic.csv'\n",
        "df_demographic = pd.read_csv(url_demographic)\n",
        "\n",
        "#Define paths to session files\n",
        "url_taskRGN = 'https://raw.githubusercontent.com/ExCaLBBR/ExCaLBBR_Projects/main/RaciallyBiasedDecisions/Racialized-Gendered_Names/data/data_task_RGN.csv'\n",
        "df_taskRGN = pd.read_csv(url_taskRGN)"
      ]
    },
    {
      "cell_type": "code",
      "source": [
        "#Isolate relevant columns: Check\n",
        "include = ['Participant Completion Code', 'Question Key', 'Screen Name', 'Response']\n",
        "df_check = df_check[~df_check['Event Index'].str.contains('END OF FILE', na=True)]\n",
        "df_check.drop(columns=df_check.columns.difference(include), inplace=True)\n",
        "mask = df_check['Question Key'].str.contains('BEGIN QUESTIONNAIRE', na=True) | df_check['Question Key'].str.contains('END QUESTIONNAIRE', na=True)\n",
        "df_check = df_check[~mask]\n",
        "#display(df_check)\n",
        "\n",
        "#Isolate relevant columns: Demographics\n",
        "include = ['Participant Completion Code', 'Question Key', 'Response']\n",
        "df_demographic = df_demographic[~df_demographic['Event Index'].str.contains('END OF FILE', na=True)]\n",
        "df_demographic.drop(columns=df_demographic.columns.difference(include), inplace=True)\n",
        "mask = df_demographic['Question Key'].str.contains('BEGIN QUESTIONNAIRE', na=True) | df_demographic['Question Key'].str.contains('END QUESTIONNAIRE', na=True) | df_demographic['Question Key'].str.contains('quantised', na=True) | df_demographic['Question Key'].str.contains('response-2', na=True)\n",
        "df_demographic = df_demographic[~mask]\n",
        "#display(df_demographic)\n",
        "\n",
        "#Isolate relevant columns: Task_RGN\n",
        "include = ['Participant Completion Code', 'Reaction Time', 'Screen Name', 'Response', '# name', 'Trial Number']\n",
        "df_taskRGN = df_taskRGN[~df_taskRGN['Event Index'].str.contains('END OF FILE', na=True)]\n",
        "df_taskRGN.drop(columns=df_taskRGN.columns.difference(include), inplace=True)\n",
        "mask = df_taskRGN['Trial Number'].str.contains('BEGIN TASK', na=True) | df_taskRGN['Trial Number'].str.contains('END TASK', na=True) | df_taskRGN['Screen Name'].str.contains('Start', na=True)\n",
        "df_taskRGN = df_taskRGN[~mask]\n",
        "#display(df_taskRGN)"
      ],
      "metadata": {
        "id": "kLaAn9rGCyxh",
        "colab": {
          "base_uri": "https://localhost:8080/"
        },
        "outputId": "bceed42d-66b9-4656-9427-7e123924f7c7"
      },
      "execution_count": 8,
      "outputs": [
        {
          "output_type": "stream",
          "name": "stderr",
          "text": [
            "/usr/local/lib/python3.8/dist-packages/pandas/core/frame.py:4906: SettingWithCopyWarning: \n",
            "A value is trying to be set on a copy of a slice from a DataFrame\n",
            "\n",
            "See the caveats in the documentation: https://pandas.pydata.org/pandas-docs/stable/user_guide/indexing.html#returning-a-view-versus-a-copy\n",
            "  return super().drop(\n"
          ]
        }
      ]
    },
    {
      "cell_type": "code",
      "source": [
        "#Isolate Pivot dataframes: Check\n",
        "df_check = df_check.pivot(index = 'Participant Completion Code', columns = ['Question Key'], values = ['Response'])\n",
        "#display(df_check)\n",
        "\n",
        "#Isolate Pivot dataframes: Demographics\n",
        "df_demographic = df_demographic.pivot(index = 'Participant Completion Code', columns = ['Question Key'], values = ['Response'])\n",
        "#display(df_demographic)\n",
        "\n",
        "#Isolate Pivot dataframes: Task_RGN\n",
        "df_taskRGN = df_taskRGN.pivot(index = '# name', columns = ['Screen Name', 'Participant Completion Code'], values = ['Response', 'Reaction Time'])\n",
        "#display(df_taskRGN)\n"
      ],
      "metadata": {
        "id": "8dzVwNOoDY5V"
      },
      "execution_count": 9,
      "outputs": []
    },
    {
      "cell_type": "code",
      "source": [
        "#Convert all files to csv\n",
        "df_check.to_csv('check.csv')\n",
        "df_demographic.to_csv('demographic.csv')\n",
        "df_taskRGN.to_csv('taskRGN.csv')"
      ],
      "metadata": {
        "id": "nBIofN_vJVQk"
      },
      "execution_count": 10,
      "outputs": []
    },
    {
      "cell_type": "code",
      "source": [
        "#Push to Lab GitHub !!!\n",
        "#NOTE: These credentials should be configured to user's lab GitHub\n",
        "#If user is part of ExCaLBBR Lab then ask Roberto for access\n",
        "!git config --global user.name \"\" #\"YOUR CREDIENTIALS HERE\" \n",
        "!git config --global user.email \"\" #\"YOUR CREDIENTIALS HERE\"\n",
        "!git config --global user.password \"\" #\"YOUR CREDIENTIALS HERE\"\n",
        "\n",
        "token = ''\n",
        "username_organization = ''\n",
        "repo = ''\n",
        "outputDir = ''\n"
      ],
      "metadata": {
        "id": "P1hSBfkRJkYa"
      },
      "execution_count": 11,
      "outputs": []
    },
    {
      "cell_type": "code",
      "source": [
        "#Clone repository and move created files into output directory\n",
        "!git clone https://{token}@github.com/{username_organization}/{repo}\n",
        "!mv check.csv {repo}/{outputDir}\n",
        "!mv demographic.csv {repo}/{outputDir}\n",
        "!mv taskRGN.csv {repo}/{outputDir}"
      ],
      "metadata": {
        "id": "RToVhxKCJntE",
        "outputId": "8af87d0c-4350-460e-dfd1-a88abedd7479",
        "colab": {
          "base_uri": "https://localhost:8080/"
        }
      },
      "execution_count": 17,
      "outputs": [
        {
          "output_type": "stream",
          "name": "stdout",
          "text": [
            "Cloning into 'ExCaLBBR_Projects'...\n",
            "remote: Enumerating objects: 231, done.\u001b[K\n",
            "remote: Counting objects: 100% (12/12), done.\u001b[K\n",
            "remote: Compressing objects: 100% (12/12), done.\u001b[K\n",
            "remote: Total 231 (delta 2), reused 0 (delta 0), pack-reused 219\u001b[K\n",
            "Receiving objects: 100% (231/231), 605.16 KiB | 7.56 MiB/s, done.\n",
            "Resolving deltas: 100% (68/68), done.\n",
            "mv: cannot stat 'check.csv': No such file or directory\n",
            "mv: cannot stat 'demographic.csv': No such file or directory\n",
            "mv: cannot stat 'taskRGN.csv': No such file or directory\n"
          ]
        }
      ]
    },
    {
      "cell_type": "code",
      "source": [
        "%ls"
      ],
      "metadata": {
        "id": "GhSx52_aMfPs",
        "outputId": "1e7f7627-c9be-4cb7-c9c6-dfce0bc55e49",
        "colab": {
          "base_uri": "https://localhost:8080/"
        }
      },
      "execution_count": 18,
      "outputs": [
        {
          "output_type": "stream",
          "name": "stdout",
          "text": [
            "\u001b[0m\u001b[01;34mExCaLBBR_Projects\u001b[0m/        README.md\n",
            "\u001b[01;34mRaciallyBiasedDecisions\u001b[0m/  \u001b[01;34mSocioenvironmentalGeometry\u001b[0m/\n"
          ]
        }
      ]
    },
    {
      "cell_type": "code",
      "source": [
        "!git status"
      ],
      "metadata": {
        "id": "Mv8QKV8jL0UV"
      },
      "execution_count": null,
      "outputs": []
    },
    {
      "cell_type": "code",
      "source": [
        "!git add --all"
      ],
      "metadata": {
        "id": "QooGHnOdL8Hc"
      },
      "execution_count": null,
      "outputs": []
    },
    {
      "cell_type": "code",
      "source": [
        "!git commit -a -m \"Added restructured output for RGN task to your GitHub repository\""
      ],
      "metadata": {
        "id": "-WgZOrOlMDZd"
      },
      "execution_count": null,
      "outputs": []
    },
    {
      "cell_type": "code",
      "source": [
        "!git remote -v"
      ],
      "metadata": {
        "id": "-Js1Hc9pMFbl"
      },
      "execution_count": null,
      "outputs": []
    },
    {
      "cell_type": "code",
      "source": [
        "!git push origin master"
      ],
      "metadata": {
        "id": "AXk8C73QM47l"
      },
      "execution_count": null,
      "outputs": []
    },
    {
      "cell_type": "code",
      "source": [
        "%ls"
      ],
      "metadata": {
        "id": "p-PAKFmDP-AR",
        "outputId": "3b87ae6e-7bc4-459e-e2c1-14e5a5338cd9",
        "colab": {
          "base_uri": "https://localhost:8080/"
        }
      },
      "execution_count": 16,
      "outputs": [
        {
          "output_type": "stream",
          "name": "stdout",
          "text": [
            "\u001b[0m\u001b[01;34mRaciallyBiasedDecisions\u001b[0m/  README.md  \u001b[01;34mSocioenvironmentalGeometry\u001b[0m/\n"
          ]
        }
      ]
    }
  ]
}
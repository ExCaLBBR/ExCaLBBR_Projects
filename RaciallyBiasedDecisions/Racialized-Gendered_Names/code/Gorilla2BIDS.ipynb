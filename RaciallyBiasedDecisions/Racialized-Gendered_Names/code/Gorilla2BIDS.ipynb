# This notebook converts a raw Gorilla output .csv file to a data from individual participants

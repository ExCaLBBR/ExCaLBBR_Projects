{
  "nbformat": 4,
  "nbformat_minor": 0,
  "metadata": {
    "colab": {
      "provenance": [],
      "include_colab_link": true
    },
    "kernelspec": {
      "name": "python3",
      "display_name": "Python 3"
    },
    "language_info": {
      "name": "python"
    }
  },
  "cells": [
    {
      "cell_type": "markdown",
      "metadata": {
        "id": "view-in-github",
        "colab_type": "text"
      },
      "source": [
        "<a href=\"https://colab.research.google.com/github/ExCaLBBR/ExCaLBBR_Projects/blob/main/RaciallyBiasedDecisions/Racialized-Gendered_Names/analysis/RGN_proportions.ipynb\" target=\"_parent\"><img src=\"https://colab.research.google.com/assets/colab-badge.svg\" alt=\"Open In Colab\"/></a>"
      ]
    },
    {
      "cell_type": "markdown",
      "source": [
        "Load relevant libraries"
      ],
      "metadata": {
        "id": "8LiaDvNZthOk"
      }
    },
    {
      "cell_type": "code",
      "execution_count": 1,
      "metadata": {
        "id": "95QzXGrxgWHH"
      },
      "outputs": [],
      "source": [
        "import pandas as pd"
      ]
    },
    {
      "cell_type": "markdown",
      "source": [
        "Data url dir"
      ],
      "metadata": {
        "id": "Havwb3Gftf6V"
      }
    },
    {
      "cell_type": "code",
      "source": [
        "# RGN data\n",
        "fil = 'https://raw.githubusercontent.com/ExCaLBBR/ExCaLBBR_Projects/main/RaciallyBiasedDecisions/Racialized-Gendered_Names/data/taskRGN.csv'\n",
        "\n",
        "#SpecRemove specific participants\n",
        "  #Current condition: fixed responded & incorrect response to check\n",
        "rem = ['dwgxuk', 'tdqdqk', 'ppluks']"
      ],
      "metadata": {
        "id": "4NYeqkAekOj9"
      },
      "execution_count": 2,
      "outputs": []
    },
    {
      "cell_type": "markdown",
      "source": [
        "Load RGN data"
      ],
      "metadata": {
        "id": "hCjdykPIs0td"
      }
    },
    {
      "cell_type": "code",
      "source": [
        "\n",
        "df_task = pd.read_csv(fil, index_col = 0, header = [0,1,2])\n",
        "#display(df_task)"
      ],
      "metadata": {
        "id": "TKxxXhrUhDnd"
      },
      "execution_count": 3,
      "outputs": []
    },
    {
      "cell_type": "markdown",
      "source": [
        "Parse relevant substructures"
      ],
      "metadata": {
        "id": "LnMBm2VJs_pv"
      }
    },
    {
      "cell_type": "code",
      "source": [
        "df_RaceLabels = df_task['Response']['Race']\n",
        "df_GenderLabels = df_task['Response']['Gender']\n",
        "df_RaceRT = df_task['Reaction Time']['Gender']\n",
        "df_GenderRT = df_task['Reaction Time']['Gender']"
      ],
      "metadata": {
        "id": "Lq5ZydpYtESu"
      },
      "execution_count": 4,
      "outputs": []
    },
    {
      "cell_type": "markdown",
      "source": [
        "Remove specified participants"
      ],
      "metadata": {
        "id": "pmHDe45JtIs2"
      }
    },
    {
      "cell_type": "code",
      "source": [
        "remIdxRL = [df_RaceLabels.columns.get_loc(r) for r in rem if r in df_RaceLabels]\n",
        "remIdxGL = [df_GenderLabels.columns.get_loc(r) for r in rem if r in df_GenderLabels]\n",
        "remIdxRT = [df_RaceRT.columns.get_loc(r) for r in rem if r in df_RaceRT]\n",
        "remIdxGT = [df_GenderRT.columns.get_loc(r) for r in rem if r in df_GenderRT]"
      ],
      "metadata": {
        "id": "VzMxizaGtLOk"
      },
      "execution_count": 5,
      "outputs": []
    },
    {
      "cell_type": "markdown",
      "source": [
        "Obtain sub-dataframes corresponding to relevant features"
      ],
      "metadata": {
        "id": "63RVx_4QtQ2x"
      }
    },
    {
      "cell_type": "code",
      "source": [
        "df_RaceLabels = df_RaceLabels.drop(df_RaceLabels.columns[remIdxRL],axis = 1)\n",
        "df_GenderLabels  = df_GenderLabels.drop(df_GenderLabels.columns[remIdxGL],axis = 1)\n",
        "df_RaceRT  = df_RaceRT.drop(df_RaceRT.columns[remIdxRT],axis = 1)\n",
        "df_GenderRT  = df_GenderRT.drop(df_GenderRT.columns[remIdxGT],axis = 1)"
      ],
      "metadata": {
        "id": "4L76T2CutbJH"
      },
      "execution_count": 6,
      "outputs": []
    },
    {
      "cell_type": "markdown",
      "source": [
        "Obtain proportions for Race Labels"
      ],
      "metadata": {
        "id": "MMd-rtSdssLR"
      }
    },
    {
      "cell_type": "code",
      "source": [
        "# df_RaceLabels"
      ],
      "metadata": {
        "id": "yDyrPV2EqG0_"
      },
      "execution_count": 18,
      "outputs": []
    },
    {
      "cell_type": "code",
      "source": [
        " \n",
        "names_race = df_RaceLabels.index.values\n",
        "\n",
        "hispanicLatinoCount, blackAmericanCount, whiteAmericanCount, chineseAmericanCount = 0, 0, 0, 0\n",
        "name_race_dict = dict()\n",
        "participantCount = df_RaceLabels.shape[1]\n",
        "for (index, row) in df_RaceLabels.iterrows():\n",
        "    race_label_dict = dict()\n",
        "    for entry in row.values:\n",
        "      if entry not in race_label_dict:\n",
        "        race_label_dict[entry] = 1\n",
        "      else:\n",
        "        race_label_dict[entry] += 1\n",
        "    for raceLabelKey in race_label_dict:\n",
        "        raceLabelCount = race_label_dict[raceLabelKey]\n",
        "        race_label_dict[raceLabelKey] = raceLabelCount / participantCount\n",
        "    if index not in name_race_dict:\n",
        "        name_race_dict[index] = race_label_dict\n",
        "print(name_race_dict)\n",
        "\n",
        "# totalAnswerCount = len(names_race) * participantCount\n",
        "# hispanicLatinoPerc = hispanicLatinoCount / totalAnswerCount\n",
        "# blackAmericanPerc = blackAmericanCount / totalAnswerCount\n",
        "# whiteAmericanPerc = whiteAmericanCount / totalAnswerCount\n",
        "# chineseAmericanPerc = chineseAmericanCount / totalAnswerCount"
      ],
      "metadata": {
        "id": "lgcnuMFFhFmU",
        "outputId": "5aafd12d-3106-4ec3-d3e3-9a045baca6fb",
        "colab": {
          "base_uri": "https://localhost:8080/"
        }
      },
      "execution_count": 26,
      "outputs": [
        {
          "output_type": "stream",
          "name": "stdout",
          "text": [
            "{'# Aaliyiah': {'Hispanic or Latino': 0.044585987261146494, 'White American': 0.05732484076433121, 'Black American': 0.8662420382165605, 'Chinese American': 0.03184713375796178}, '# Aisha': {'Black American': 0.7898089171974523, 'White American': 0.050955414012738856, 'Chinese American': 0.08917197452229299, 'Hispanic or Latino': 0.07006369426751592}, '# Alex': {'White American': 0.8726114649681529, 'Hispanic or Latino': 0.08280254777070063, 'Black American': 0.025477707006369428, 'Chinese American': 0.01910828025477707}, '# Becky': {'White American': 0.89171974522293, 'Black American': 0.044585987261146494, 'Chinese American': 0.03184713375796178, 'Hispanic or Latino': 0.03184713375796178}, '# Brody': {'White American': 0.821656050955414, 'Black American': 0.1337579617834395, 'Hispanic or Latino': 0.01910828025477707, 'Chinese American': 0.025477707006369428}, '# Casey': {'White American': 0.910828025477707, 'Chinese American': 0.03184713375796178, 'Black American': 0.044585987261146494, 'Hispanic or Latino': 0.012738853503184714}, '# Charlotte': {'White American': 0.8789808917197452, 'Black American': 0.10191082802547771, 'Chinese American': 0.01910828025477707}, '# Deshawn': {'Black American': 0.9171974522292994, 'White American': 0.01910828025477707, 'Chinese American': 0.03184713375796178, 'Hispanic or Latino': 0.03184713375796178}, '# Emma': {'White American': 0.8535031847133758, 'Chinese American': 0.044585987261146494, 'Hispanic or Latino': 0.025477707006369428, 'Black American': 0.07643312101910828}, '# Enrique': {'Black American': 0.07006369426751592, 'Hispanic or Latino': 0.8789808917197452, 'White American': 0.044585987261146494, 'Chinese American': 0.006369426751592357}, '# Gabriella': {'White American': 0.2802547770700637, 'Hispanic or Latino': 0.6242038216560509, 'Chinese American': 0.025477707006369428, 'Black American': 0.07006369426751592}, '# Garrett': {'White American': 0.8535031847133758, 'Chinese American': 0.025477707006369428, 'Black American': 0.08917197452229299, 'Hispanic or Latino': 0.03184713375796178}, '# Haoran': {'Chinese American': 0.7515923566878981, 'Hispanic or Latino': 0.17834394904458598, 'Black American': 0.05732484076433121, 'White American': 0.012738853503184714}, '# Haoyu': {'Chinese American': 0.9363057324840764, 'Black American': 0.025477707006369428, 'Hispanic or Latino': 0.03184713375796178, 'White American': 0.006369426751592357}, '# Ian': {'White American': 0.8471337579617835, 'Chinese American': 0.050955414012738856, 'Black American': 0.05732484076433121, 'Hispanic or Latino': 0.044585987261146494}, '# Jack': {'White American': 0.9617834394904459, 'Black American': 0.01910828025477707, 'Chinese American': 0.012738853503184714, 'Hispanic or Latino': 0.006369426751592357}, '# Jamal': {'Black American': 0.9044585987261147, 'Chinese American': 0.006369426751592357, 'White American': 0.01910828025477707, 'Hispanic or Latino': 0.07006369426751592}, '# Jamie': {'White American': 0.7898089171974523, 'Black American': 0.1337579617834395, 'Chinese American': 0.025477707006369428, 'Hispanic or Latino': 0.050955414012738856}, '# Jasmine': {'Black American': 0.5031847133757962, 'White American': 0.28662420382165604, 'Hispanic or Latino': 0.1464968152866242, 'Chinese American': 0.06369426751592357}, '# Jerome': {'Black American': 0.8789808917197452, 'White American': 0.10828025477707007, 'Chinese American': 0.012738853503184714}, '# Jose': {'Hispanic or Latino': 0.8726114649681529, 'Chinese American': 0.03184713375796178, 'White American': 0.07006369426751592, 'Black American': 0.025477707006369428}, '# Juan': {'Hispanic or Latino': 0.89171974522293, 'Black American': 0.03184713375796178, 'Chinese American': 0.05732484076433121, 'White American': 0.01910828025477707}, '# Kiana': {'White American': 0.10191082802547771, 'Black American': 0.7006369426751592, 'Chinese American': 0.14012738853503184, 'Hispanic or Latino': 0.05732484076433121}, '# Liyah': {'Black American': 0.4840764331210191, 'White American': 0.09554140127388536, 'Chinese American': 0.29936305732484075, 'Hispanic or Latino': 0.12101910828025478}, '# Lucia': {'Hispanic or Latino': 0.6751592356687898, 'White American': 0.19745222929936307, 'Black American': 0.09554140127388536, 'Chinese American': 0.03184713375796178}, '# Magda': {'Hispanic or Latino': 0.5477707006369427, 'Black American': 0.12101910828025478, 'White American': 0.1464968152866242, 'Chinese American': 0.18471337579617833}, '# Mariella': {'White American': 0.12738853503184713, 'Hispanic or Latino': 0.8089171974522293, 'Black American': 0.044585987261146494, 'Chinese American': 0.01910828025477707}, '# Marisol': {'Black American': 0.07006369426751592, 'Hispanic or Latino': 0.8407643312101911, 'Chinese American': 0.050955414012738856, 'White American': 0.03821656050955414}, '# Mckensie': {'White American': 0.8789808917197452, 'Chinese American': 0.03184713375796178, 'Black American': 0.06369426751592357, 'Hispanic or Latino': 0.025477707006369428}, '# Mingze': {'Chinese American': 0.9554140127388535, 'Black American': 0.025477707006369428, 'Hispanic or Latino': 0.01910828025477707}, '# Muyang': {'Chinese American': 0.9554140127388535, 'White American': 0.006369426751592357, 'Black American': 0.025477707006369428, 'Hispanic or Latino': 0.012738853503184714}, '# Olivia': {'White American': 0.7006369426751592, 'Black American': 0.07006369426751592, 'Hispanic or Latino': 0.20382165605095542, 'Chinese American': 0.025477707006369428}, '# Pablo': {'Hispanic or Latino': 0.8980891719745223, 'Black American': 0.03821656050955414, 'Chinese American': 0.03821656050955414, 'White American': 0.025477707006369428}, '# Ricardo': {'Hispanic or Latino': 0.8789808917197452, 'Black American': 0.05732484076433121, 'Chinese American': 0.012738853503184714, 'White American': 0.050955414012738856}, '# Riley': {'White American': 0.8853503184713376, 'Black American': 0.07006369426751592, 'Chinese American': 0.012738853503184714, 'Hispanic or Latino': 0.03184713375796178}, '# Sam': {'Hispanic or Latino': 0.012738853503184714, 'White American': 0.9426751592356688, 'Black American': 0.03821656050955414, 'Chinese American': 0.006369426751592357}, '# Spencer': {'White American': 0.8980891719745223, 'Chinese American': 0.03821656050955414, 'Black American': 0.050955414012738856, 'Hispanic or Latino': 0.012738853503184714}, '# Ting': {'Chinese American': 0.9554140127388535, 'Black American': 0.01910828025477707, 'White American': 0.012738853503184714, 'Hispanic or Latino': 0.012738853503184714}, '# Treyvone': {'Black American': 0.8853503184713376, 'Hispanic or Latino': 0.07006369426751592, 'Chinese American': 0.01910828025477707, 'White American': 0.025477707006369428}, '# Tyrone': {'Black American': 0.89171974522293, 'White American': 0.050955414012738856, 'Hispanic or Latino': 0.012738853503184714, 'Chinese American': 0.044585987261146494}, '# Xinyi': {'Chinese American': 0.9617834394904459, 'Black American': 0.025477707006369428, 'Hispanic or Latino': 0.012738853503184714}, '# Yihan': {'Chinese American': 0.9490445859872612, 'White American': 0.006369426751592357, 'Hispanic or Latino': 0.03184713375796178, 'Black American': 0.012738853503184714}, '# Yinuo': {'Chinese American': 0.9490445859872612, 'Black American': 0.01910828025477707, 'Hispanic or Latino': 0.03184713375796178}, '# Yize': {'Chinese American': 0.9171974522292994, 'Hispanic or Latino': 0.044585987261146494, 'White American': 0.006369426751592357, 'Black American': 0.03184713375796178}, '# Yuxi': {'Chinese American': 0.9299363057324841, 'Black American': 0.01910828025477707, 'Hispanic or Latino': 0.044585987261146494, 'White American': 0.006369426751592357}}\n"
          ]
        }
      ]
    },
    {
      "cell_type": "markdown",
      "source": [
        "Display race labels percentage"
      ],
      "metadata": {
        "id": "xGq0q3w-pK0j"
      }
    },
    {
      "cell_type": "code",
      "source": [
        "raceLabelPercentage = {\n",
        "    \"Black American\": [f\"{blackAmericanPerc*100}%\"], \n",
        "    \"Chinese American\": [f\"{chineseAmericanPerc*100}%\"],\n",
        "    \"Hispanic or Latino\": [f\"{hispanicLatinoPerc*100}%\"], \n",
        "    \"White American\": [f\"{whiteAmericanPerc*100}%\"], \n",
        "}\n",
        "df_RaceLabelProportion = pd.DataFrame(data = raceLabelPercentage, index = [\"Percentage\"])\n",
        "df_RaceLabelProportion"
      ],
      "metadata": {
        "id": "kjt9X2MapJ-l",
        "outputId": "201edca4-bf85-41dc-b2c9-ab196569b77e",
        "colab": {
          "base_uri": "https://localhost:8080/",
          "height": 80
        }
      },
      "execution_count": 9,
      "outputs": [
        {
          "output_type": "execute_result",
          "data": {
            "text/plain": [
              "               Black American    Chinese American   Hispanic or Latino  \\\n",
              "Percentage  21.6135881104034%  24.13305024769993%  21.231422505307858%   \n",
              "\n",
              "                White American  \n",
              "Percentage  33.02193913658882%  "
            ],
            "text/html": [
              "\n",
              "  <div id=\"df-f2470175-a5b7-488a-8086-b2400d841e97\">\n",
              "    <div class=\"colab-df-container\">\n",
              "      <div>\n",
              "<style scoped>\n",
              "    .dataframe tbody tr th:only-of-type {\n",
              "        vertical-align: middle;\n",
              "    }\n",
              "\n",
              "    .dataframe tbody tr th {\n",
              "        vertical-align: top;\n",
              "    }\n",
              "\n",
              "    .dataframe thead th {\n",
              "        text-align: right;\n",
              "    }\n",
              "</style>\n",
              "<table border=\"1\" class=\"dataframe\">\n",
              "  <thead>\n",
              "    <tr style=\"text-align: right;\">\n",
              "      <th></th>\n",
              "      <th>Black American</th>\n",
              "      <th>Chinese American</th>\n",
              "      <th>Hispanic or Latino</th>\n",
              "      <th>White American</th>\n",
              "    </tr>\n",
              "  </thead>\n",
              "  <tbody>\n",
              "    <tr>\n",
              "      <th>Percentage</th>\n",
              "      <td>21.6135881104034%</td>\n",
              "      <td>24.13305024769993%</td>\n",
              "      <td>21.231422505307858%</td>\n",
              "      <td>33.02193913658882%</td>\n",
              "    </tr>\n",
              "  </tbody>\n",
              "</table>\n",
              "</div>\n",
              "      <button class=\"colab-df-convert\" onclick=\"convertToInteractive('df-f2470175-a5b7-488a-8086-b2400d841e97')\"\n",
              "              title=\"Convert this dataframe to an interactive table.\"\n",
              "              style=\"display:none;\">\n",
              "        \n",
              "  <svg xmlns=\"http://www.w3.org/2000/svg\" height=\"24px\"viewBox=\"0 0 24 24\"\n",
              "       width=\"24px\">\n",
              "    <path d=\"M0 0h24v24H0V0z\" fill=\"none\"/>\n",
              "    <path d=\"M18.56 5.44l.94 2.06.94-2.06 2.06-.94-2.06-.94-.94-2.06-.94 2.06-2.06.94zm-11 1L8.5 8.5l.94-2.06 2.06-.94-2.06-.94L8.5 2.5l-.94 2.06-2.06.94zm10 10l.94 2.06.94-2.06 2.06-.94-2.06-.94-.94-2.06-.94 2.06-2.06.94z\"/><path d=\"M17.41 7.96l-1.37-1.37c-.4-.4-.92-.59-1.43-.59-.52 0-1.04.2-1.43.59L10.3 9.45l-7.72 7.72c-.78.78-.78 2.05 0 2.83L4 21.41c.39.39.9.59 1.41.59.51 0 1.02-.2 1.41-.59l7.78-7.78 2.81-2.81c.8-.78.8-2.07 0-2.86zM5.41 20L4 18.59l7.72-7.72 1.47 1.35L5.41 20z\"/>\n",
              "  </svg>\n",
              "      </button>\n",
              "      \n",
              "  <style>\n",
              "    .colab-df-container {\n",
              "      display:flex;\n",
              "      flex-wrap:wrap;\n",
              "      gap: 12px;\n",
              "    }\n",
              "\n",
              "    .colab-df-convert {\n",
              "      background-color: #E8F0FE;\n",
              "      border: none;\n",
              "      border-radius: 50%;\n",
              "      cursor: pointer;\n",
              "      display: none;\n",
              "      fill: #1967D2;\n",
              "      height: 32px;\n",
              "      padding: 0 0 0 0;\n",
              "      width: 32px;\n",
              "    }\n",
              "\n",
              "    .colab-df-convert:hover {\n",
              "      background-color: #E2EBFA;\n",
              "      box-shadow: 0px 1px 2px rgba(60, 64, 67, 0.3), 0px 1px 3px 1px rgba(60, 64, 67, 0.15);\n",
              "      fill: #174EA6;\n",
              "    }\n",
              "\n",
              "    [theme=dark] .colab-df-convert {\n",
              "      background-color: #3B4455;\n",
              "      fill: #D2E3FC;\n",
              "    }\n",
              "\n",
              "    [theme=dark] .colab-df-convert:hover {\n",
              "      background-color: #434B5C;\n",
              "      box-shadow: 0px 1px 3px 1px rgba(0, 0, 0, 0.15);\n",
              "      filter: drop-shadow(0px 1px 2px rgba(0, 0, 0, 0.3));\n",
              "      fill: #FFFFFF;\n",
              "    }\n",
              "  </style>\n",
              "\n",
              "      <script>\n",
              "        const buttonEl =\n",
              "          document.querySelector('#df-f2470175-a5b7-488a-8086-b2400d841e97 button.colab-df-convert');\n",
              "        buttonEl.style.display =\n",
              "          google.colab.kernel.accessAllowed ? 'block' : 'none';\n",
              "\n",
              "        async function convertToInteractive(key) {\n",
              "          const element = document.querySelector('#df-f2470175-a5b7-488a-8086-b2400d841e97');\n",
              "          const dataTable =\n",
              "            await google.colab.kernel.invokeFunction('convertToInteractive',\n",
              "                                                     [key], {});\n",
              "          if (!dataTable) return;\n",
              "\n",
              "          const docLinkHtml = 'Like what you see? Visit the ' +\n",
              "            '<a target=\"_blank\" href=https://colab.research.google.com/notebooks/data_table.ipynb>data table notebook</a>'\n",
              "            + ' to learn more about interactive tables.';\n",
              "          element.innerHTML = '';\n",
              "          dataTable['output_type'] = 'display_data';\n",
              "          await google.colab.output.renderOutput(dataTable, element);\n",
              "          const docLink = document.createElement('div');\n",
              "          docLink.innerHTML = docLinkHtml;\n",
              "          element.appendChild(docLink);\n",
              "        }\n",
              "      </script>\n",
              "    </div>\n",
              "  </div>\n",
              "  "
            ]
          },
          "metadata": {},
          "execution_count": 9
        }
      ]
    },
    {
      "cell_type": "markdown",
      "source": [
        "Verify the four proportions add up to 1"
      ],
      "metadata": {
        "id": "ZLORHbu9p-d1"
      }
    },
    {
      "cell_type": "code",
      "source": [
        "hispanicLatinoPerc + blackAmericanPerc + whiteAmericanPerc + chineseAmericanPerc"
      ],
      "metadata": {
        "id": "QzhsQTONpzmg",
        "outputId": "ce84862e-24d3-4d14-d0b5-0430d67f6cfd",
        "colab": {
          "base_uri": "https://localhost:8080/"
        }
      },
      "execution_count": 10,
      "outputs": [
        {
          "output_type": "execute_result",
          "data": {
            "text/plain": [
              "1.0"
            ]
          },
          "metadata": {},
          "execution_count": 10
        }
      ]
    },
    {
      "cell_type": "markdown",
      "source": [
        "Obtain proportions for Gender Labels"
      ],
      "metadata": {
        "id": "prvQnv2Z1aZv"
      }
    },
    {
      "cell_type": "code",
      "source": [
        "# df_GenderLabels"
      ],
      "metadata": {
        "id": "D87LzYrC1dVM"
      },
      "execution_count": 11,
      "outputs": []
    },
    {
      "cell_type": "code",
      "source": [
        "names_gender = df_GenderLabels.index.values\n",
        "# names_gender\n",
        "\n",
        "maleCount, femaleCount = 0, 0\n",
        "for (index, row) in df_GenderLabels.iterrows():\n",
        "  for key in row.values:\n",
        "    if key == \"Male\":\n",
        "      maleCount += 1\n",
        "    elif key == \"Female\":\n",
        "      femaleCount += 1\n",
        "participantCount = df_GenderLabels.shape[1]\n",
        "totalAnswerCount = len(names_gender) * participantCount\n",
        "malePerc = maleCount / totalAnswerCount\n",
        "femalePerc = femaleCount / totalAnswerCount"
      ],
      "metadata": {
        "id": "3jEHg7qZ1jhb"
      },
      "execution_count": 12,
      "outputs": []
    },
    {
      "cell_type": "markdown",
      "source": [
        "Display gender labels percentage"
      ],
      "metadata": {
        "id": "UAqBfC9B2ajY"
      }
    },
    {
      "cell_type": "code",
      "source": [
        "genderLabelPercentage = {\n",
        "    \"Female\": [f\"{femalePerc*100}%\"], \n",
        "    \"Male\": [f\"{malePerc*100}%\"],\n",
        "}\n",
        "df_GenderLabelProportion = pd.DataFrame(data = genderLabelPercentage, index = [\"Percentage\"])\n",
        "df_GenderLabelProportion"
      ],
      "metadata": {
        "id": "OMKzqJ_W2daj",
        "outputId": "75eccf17-c4ef-4c1b-a9c2-69336af1461e",
        "colab": {
          "base_uri": "https://localhost:8080/",
          "height": 80
        }
      },
      "execution_count": 13,
      "outputs": [
        {
          "output_type": "execute_result",
          "data": {
            "text/plain": [
              "                        Female                 Male\n",
              "Percentage  47.78485491861288%  52.215145081387114%"
            ],
            "text/html": [
              "\n",
              "  <div id=\"df-671c2ae4-f62a-40a8-8aa6-ebbe8dae5d86\">\n",
              "    <div class=\"colab-df-container\">\n",
              "      <div>\n",
              "<style scoped>\n",
              "    .dataframe tbody tr th:only-of-type {\n",
              "        vertical-align: middle;\n",
              "    }\n",
              "\n",
              "    .dataframe tbody tr th {\n",
              "        vertical-align: top;\n",
              "    }\n",
              "\n",
              "    .dataframe thead th {\n",
              "        text-align: right;\n",
              "    }\n",
              "</style>\n",
              "<table border=\"1\" class=\"dataframe\">\n",
              "  <thead>\n",
              "    <tr style=\"text-align: right;\">\n",
              "      <th></th>\n",
              "      <th>Female</th>\n",
              "      <th>Male</th>\n",
              "    </tr>\n",
              "  </thead>\n",
              "  <tbody>\n",
              "    <tr>\n",
              "      <th>Percentage</th>\n",
              "      <td>47.78485491861288%</td>\n",
              "      <td>52.215145081387114%</td>\n",
              "    </tr>\n",
              "  </tbody>\n",
              "</table>\n",
              "</div>\n",
              "      <button class=\"colab-df-convert\" onclick=\"convertToInteractive('df-671c2ae4-f62a-40a8-8aa6-ebbe8dae5d86')\"\n",
              "              title=\"Convert this dataframe to an interactive table.\"\n",
              "              style=\"display:none;\">\n",
              "        \n",
              "  <svg xmlns=\"http://www.w3.org/2000/svg\" height=\"24px\"viewBox=\"0 0 24 24\"\n",
              "       width=\"24px\">\n",
              "    <path d=\"M0 0h24v24H0V0z\" fill=\"none\"/>\n",
              "    <path d=\"M18.56 5.44l.94 2.06.94-2.06 2.06-.94-2.06-.94-.94-2.06-.94 2.06-2.06.94zm-11 1L8.5 8.5l.94-2.06 2.06-.94-2.06-.94L8.5 2.5l-.94 2.06-2.06.94zm10 10l.94 2.06.94-2.06 2.06-.94-2.06-.94-.94-2.06-.94 2.06-2.06.94z\"/><path d=\"M17.41 7.96l-1.37-1.37c-.4-.4-.92-.59-1.43-.59-.52 0-1.04.2-1.43.59L10.3 9.45l-7.72 7.72c-.78.78-.78 2.05 0 2.83L4 21.41c.39.39.9.59 1.41.59.51 0 1.02-.2 1.41-.59l7.78-7.78 2.81-2.81c.8-.78.8-2.07 0-2.86zM5.41 20L4 18.59l7.72-7.72 1.47 1.35L5.41 20z\"/>\n",
              "  </svg>\n",
              "      </button>\n",
              "      \n",
              "  <style>\n",
              "    .colab-df-container {\n",
              "      display:flex;\n",
              "      flex-wrap:wrap;\n",
              "      gap: 12px;\n",
              "    }\n",
              "\n",
              "    .colab-df-convert {\n",
              "      background-color: #E8F0FE;\n",
              "      border: none;\n",
              "      border-radius: 50%;\n",
              "      cursor: pointer;\n",
              "      display: none;\n",
              "      fill: #1967D2;\n",
              "      height: 32px;\n",
              "      padding: 0 0 0 0;\n",
              "      width: 32px;\n",
              "    }\n",
              "\n",
              "    .colab-df-convert:hover {\n",
              "      background-color: #E2EBFA;\n",
              "      box-shadow: 0px 1px 2px rgba(60, 64, 67, 0.3), 0px 1px 3px 1px rgba(60, 64, 67, 0.15);\n",
              "      fill: #174EA6;\n",
              "    }\n",
              "\n",
              "    [theme=dark] .colab-df-convert {\n",
              "      background-color: #3B4455;\n",
              "      fill: #D2E3FC;\n",
              "    }\n",
              "\n",
              "    [theme=dark] .colab-df-convert:hover {\n",
              "      background-color: #434B5C;\n",
              "      box-shadow: 0px 1px 3px 1px rgba(0, 0, 0, 0.15);\n",
              "      filter: drop-shadow(0px 1px 2px rgba(0, 0, 0, 0.3));\n",
              "      fill: #FFFFFF;\n",
              "    }\n",
              "  </style>\n",
              "\n",
              "      <script>\n",
              "        const buttonEl =\n",
              "          document.querySelector('#df-671c2ae4-f62a-40a8-8aa6-ebbe8dae5d86 button.colab-df-convert');\n",
              "        buttonEl.style.display =\n",
              "          google.colab.kernel.accessAllowed ? 'block' : 'none';\n",
              "\n",
              "        async function convertToInteractive(key) {\n",
              "          const element = document.querySelector('#df-671c2ae4-f62a-40a8-8aa6-ebbe8dae5d86');\n",
              "          const dataTable =\n",
              "            await google.colab.kernel.invokeFunction('convertToInteractive',\n",
              "                                                     [key], {});\n",
              "          if (!dataTable) return;\n",
              "\n",
              "          const docLinkHtml = 'Like what you see? Visit the ' +\n",
              "            '<a target=\"_blank\" href=https://colab.research.google.com/notebooks/data_table.ipynb>data table notebook</a>'\n",
              "            + ' to learn more about interactive tables.';\n",
              "          element.innerHTML = '';\n",
              "          dataTable['output_type'] = 'display_data';\n",
              "          await google.colab.output.renderOutput(dataTable, element);\n",
              "          const docLink = document.createElement('div');\n",
              "          docLink.innerHTML = docLinkHtml;\n",
              "          element.appendChild(docLink);\n",
              "        }\n",
              "      </script>\n",
              "    </div>\n",
              "  </div>\n",
              "  "
            ]
          },
          "metadata": {},
          "execution_count": 13
        }
      ]
    },
    {
      "cell_type": "markdown",
      "source": [
        "Verify the two gender proportions add up to 1"
      ],
      "metadata": {
        "id": "Vuu-E-ew2wm7"
      }
    },
    {
      "cell_type": "code",
      "source": [
        "femalePerc + malePerc"
      ],
      "metadata": {
        "id": "GZEslNn62v9C",
        "outputId": "93af2c6f-cc74-431f-f4c5-311340372160",
        "colab": {
          "base_uri": "https://localhost:8080/"
        }
      },
      "execution_count": 14,
      "outputs": [
        {
          "output_type": "execute_result",
          "data": {
            "text/plain": [
              "1.0"
            ]
          },
          "metadata": {},
          "execution_count": 14
        }
      ]
    },
    {
      "cell_type": "markdown",
      "source": [
        "Loading demographic data and processing"
      ],
      "metadata": {
        "id": "mRtawf8jpU3l"
      }
    },
    {
      "cell_type": "code",
      "source": [
        "demographic_url = 'https://raw.githubusercontent.com/ExCaLBBR/ExCaLBBR_Projects/main/RaciallyBiasedDecisions/Racialized-Gendered_Names/data/raw/data_demographic.csv'\n",
        "df_demographic = pd.read_csv(demographic_url)\n",
        "include = [\"Participant Completion Code\", \"Question Key\", \"Response\"]\n",
        "df_demographic.drop(columns=df_demographic.columns.difference(include), inplace=True)\n",
        "remIdxCode = []\n",
        "for (index, row) in df_demographic.iterrows():\n",
        "  if row[\"Participant Completion Code\"] in rem:\n",
        "    remIdxCode.append(index)\n",
        "df_demographic.drop(remIdxCode, inplace = True)\n",
        "remIdxRG = []\n",
        "for (index, row) in df_demographic.iterrows():\n",
        "  if row[\"Question Key\"] not in [\"raceEth_v2\", \"gender\"]:\n",
        "    remIdxRG.append(index)\n",
        "df_demographic.drop(remIdxRG, inplace = True)\n",
        "df_demographic"
      ],
      "metadata": {
        "id": "fzqXFv8J-lqq",
        "outputId": "4e958c87-c914-48e5-e7a2-e3d44353cedc",
        "colab": {
          "base_uri": "https://localhost:8080/",
          "height": 423
        }
      },
      "execution_count": 15,
      "outputs": [
        {
          "output_type": "execute_result",
          "data": {
            "text/plain": [
              "     Participant Completion Code Question Key                   Response\n",
              "2                         vcdueq       gender                     female\n",
              "3                         vcdueq   raceEth_v2                      White\n",
              "12                        dhyrks       gender                     female\n",
              "13                        dhyrks   raceEth_v2                      White\n",
              "22                        lpuvnk       gender                     Female\n",
              "...                          ...          ...                        ...\n",
              "1573                      xesqkj   raceEth_v2                      Asian\n",
              "1582                      ltahas       gender                       Male\n",
              "1583                      ltahas   raceEth_v2                      White\n",
              "1592                      vhpxit       gender                     female\n",
              "1593                      vhpxit   raceEth_v2  Black or African American\n",
              "\n",
              "[314 rows x 3 columns]"
            ],
            "text/html": [
              "\n",
              "  <div id=\"df-32fb0267-d7c7-4466-8554-4fec0d9862c7\">\n",
              "    <div class=\"colab-df-container\">\n",
              "      <div>\n",
              "<style scoped>\n",
              "    .dataframe tbody tr th:only-of-type {\n",
              "        vertical-align: middle;\n",
              "    }\n",
              "\n",
              "    .dataframe tbody tr th {\n",
              "        vertical-align: top;\n",
              "    }\n",
              "\n",
              "    .dataframe thead th {\n",
              "        text-align: right;\n",
              "    }\n",
              "</style>\n",
              "<table border=\"1\" class=\"dataframe\">\n",
              "  <thead>\n",
              "    <tr style=\"text-align: right;\">\n",
              "      <th></th>\n",
              "      <th>Participant Completion Code</th>\n",
              "      <th>Question Key</th>\n",
              "      <th>Response</th>\n",
              "    </tr>\n",
              "  </thead>\n",
              "  <tbody>\n",
              "    <tr>\n",
              "      <th>2</th>\n",
              "      <td>vcdueq</td>\n",
              "      <td>gender</td>\n",
              "      <td>female</td>\n",
              "    </tr>\n",
              "    <tr>\n",
              "      <th>3</th>\n",
              "      <td>vcdueq</td>\n",
              "      <td>raceEth_v2</td>\n",
              "      <td>White</td>\n",
              "    </tr>\n",
              "    <tr>\n",
              "      <th>12</th>\n",
              "      <td>dhyrks</td>\n",
              "      <td>gender</td>\n",
              "      <td>female</td>\n",
              "    </tr>\n",
              "    <tr>\n",
              "      <th>13</th>\n",
              "      <td>dhyrks</td>\n",
              "      <td>raceEth_v2</td>\n",
              "      <td>White</td>\n",
              "    </tr>\n",
              "    <tr>\n",
              "      <th>22</th>\n",
              "      <td>lpuvnk</td>\n",
              "      <td>gender</td>\n",
              "      <td>Female</td>\n",
              "    </tr>\n",
              "    <tr>\n",
              "      <th>...</th>\n",
              "      <td>...</td>\n",
              "      <td>...</td>\n",
              "      <td>...</td>\n",
              "    </tr>\n",
              "    <tr>\n",
              "      <th>1573</th>\n",
              "      <td>xesqkj</td>\n",
              "      <td>raceEth_v2</td>\n",
              "      <td>Asian</td>\n",
              "    </tr>\n",
              "    <tr>\n",
              "      <th>1582</th>\n",
              "      <td>ltahas</td>\n",
              "      <td>gender</td>\n",
              "      <td>Male</td>\n",
              "    </tr>\n",
              "    <tr>\n",
              "      <th>1583</th>\n",
              "      <td>ltahas</td>\n",
              "      <td>raceEth_v2</td>\n",
              "      <td>White</td>\n",
              "    </tr>\n",
              "    <tr>\n",
              "      <th>1592</th>\n",
              "      <td>vhpxit</td>\n",
              "      <td>gender</td>\n",
              "      <td>female</td>\n",
              "    </tr>\n",
              "    <tr>\n",
              "      <th>1593</th>\n",
              "      <td>vhpxit</td>\n",
              "      <td>raceEth_v2</td>\n",
              "      <td>Black or African American</td>\n",
              "    </tr>\n",
              "  </tbody>\n",
              "</table>\n",
              "<p>314 rows × 3 columns</p>\n",
              "</div>\n",
              "      <button class=\"colab-df-convert\" onclick=\"convertToInteractive('df-32fb0267-d7c7-4466-8554-4fec0d9862c7')\"\n",
              "              title=\"Convert this dataframe to an interactive table.\"\n",
              "              style=\"display:none;\">\n",
              "        \n",
              "  <svg xmlns=\"http://www.w3.org/2000/svg\" height=\"24px\"viewBox=\"0 0 24 24\"\n",
              "       width=\"24px\">\n",
              "    <path d=\"M0 0h24v24H0V0z\" fill=\"none\"/>\n",
              "    <path d=\"M18.56 5.44l.94 2.06.94-2.06 2.06-.94-2.06-.94-.94-2.06-.94 2.06-2.06.94zm-11 1L8.5 8.5l.94-2.06 2.06-.94-2.06-.94L8.5 2.5l-.94 2.06-2.06.94zm10 10l.94 2.06.94-2.06 2.06-.94-2.06-.94-.94-2.06-.94 2.06-2.06.94z\"/><path d=\"M17.41 7.96l-1.37-1.37c-.4-.4-.92-.59-1.43-.59-.52 0-1.04.2-1.43.59L10.3 9.45l-7.72 7.72c-.78.78-.78 2.05 0 2.83L4 21.41c.39.39.9.59 1.41.59.51 0 1.02-.2 1.41-.59l7.78-7.78 2.81-2.81c.8-.78.8-2.07 0-2.86zM5.41 20L4 18.59l7.72-7.72 1.47 1.35L5.41 20z\"/>\n",
              "  </svg>\n",
              "      </button>\n",
              "      \n",
              "  <style>\n",
              "    .colab-df-container {\n",
              "      display:flex;\n",
              "      flex-wrap:wrap;\n",
              "      gap: 12px;\n",
              "    }\n",
              "\n",
              "    .colab-df-convert {\n",
              "      background-color: #E8F0FE;\n",
              "      border: none;\n",
              "      border-radius: 50%;\n",
              "      cursor: pointer;\n",
              "      display: none;\n",
              "      fill: #1967D2;\n",
              "      height: 32px;\n",
              "      padding: 0 0 0 0;\n",
              "      width: 32px;\n",
              "    }\n",
              "\n",
              "    .colab-df-convert:hover {\n",
              "      background-color: #E2EBFA;\n",
              "      box-shadow: 0px 1px 2px rgba(60, 64, 67, 0.3), 0px 1px 3px 1px rgba(60, 64, 67, 0.15);\n",
              "      fill: #174EA6;\n",
              "    }\n",
              "\n",
              "    [theme=dark] .colab-df-convert {\n",
              "      background-color: #3B4455;\n",
              "      fill: #D2E3FC;\n",
              "    }\n",
              "\n",
              "    [theme=dark] .colab-df-convert:hover {\n",
              "      background-color: #434B5C;\n",
              "      box-shadow: 0px 1px 3px 1px rgba(0, 0, 0, 0.15);\n",
              "      filter: drop-shadow(0px 1px 2px rgba(0, 0, 0, 0.3));\n",
              "      fill: #FFFFFF;\n",
              "    }\n",
              "  </style>\n",
              "\n",
              "      <script>\n",
              "        const buttonEl =\n",
              "          document.querySelector('#df-32fb0267-d7c7-4466-8554-4fec0d9862c7 button.colab-df-convert');\n",
              "        buttonEl.style.display =\n",
              "          google.colab.kernel.accessAllowed ? 'block' : 'none';\n",
              "\n",
              "        async function convertToInteractive(key) {\n",
              "          const element = document.querySelector('#df-32fb0267-d7c7-4466-8554-4fec0d9862c7');\n",
              "          const dataTable =\n",
              "            await google.colab.kernel.invokeFunction('convertToInteractive',\n",
              "                                                     [key], {});\n",
              "          if (!dataTable) return;\n",
              "\n",
              "          const docLinkHtml = 'Like what you see? Visit the ' +\n",
              "            '<a target=\"_blank\" href=https://colab.research.google.com/notebooks/data_table.ipynb>data table notebook</a>'\n",
              "            + ' to learn more about interactive tables.';\n",
              "          element.innerHTML = '';\n",
              "          dataTable['output_type'] = 'display_data';\n",
              "          await google.colab.output.renderOutput(dataTable, element);\n",
              "          const docLink = document.createElement('div');\n",
              "          docLink.innerHTML = docLinkHtml;\n",
              "          element.appendChild(docLink);\n",
              "        }\n",
              "      </script>\n",
              "    </div>\n",
              "  </div>\n",
              "  "
            ]
          },
          "metadata": {},
          "execution_count": 15
        }
      ]
    },
    {
      "cell_type": "code",
      "source": [
        "\n",
        "# Pair demographic with RGN: Compute proportions for Race Labels and Gender Labels by each of 4 groups\n",
        "  #This will require loading the demographic csv file\n",
        "#Compute Reaction time for each # name across identity groups"
      ],
      "metadata": {
        "id": "iOUHGykLLWfj"
      },
      "execution_count": 16,
      "outputs": []
    },
    {
      "cell_type": "code",
      "source": [
        "%pwd"
      ],
      "metadata": {
        "id": "9zQLYB8z6Z7F",
        "outputId": "64b0aa6e-544d-49ef-e2ef-1e4c89bcced1",
        "colab": {
          "base_uri": "https://localhost:8080/",
          "height": 35
        }
      },
      "execution_count": 17,
      "outputs": [
        {
          "output_type": "execute_result",
          "data": {
            "text/plain": [
              "'/content'"
            ],
            "application/vnd.google.colaboratory.intrinsic+json": {
              "type": "string"
            }
          },
          "metadata": {},
          "execution_count": 17
        }
      ]
    }
  ]
}
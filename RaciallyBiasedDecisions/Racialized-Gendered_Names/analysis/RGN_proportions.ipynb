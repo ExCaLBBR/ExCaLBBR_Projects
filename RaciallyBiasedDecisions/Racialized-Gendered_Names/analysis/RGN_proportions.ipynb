{
  "nbformat": 4,
  "nbformat_minor": 0,
  "metadata": {
    "colab": {
      "provenance": [],
      "authorship_tag": "ABX9TyN6cAMN4DeiyCLYJmmd55jD",
      "include_colab_link": true
    },
    "kernelspec": {
      "name": "python3",
      "display_name": "Python 3"
    },
    "language_info": {
      "name": "python"
    }
  },
  "cells": [
    {
      "cell_type": "markdown",
      "metadata": {
        "id": "view-in-github",
        "colab_type": "text"
      },
      "source": [
        "<a href=\"https://colab.research.google.com/github/ExCaLBBR/ExCaLBBR_Projects/blob/main/RaciallyBiasedDecisions/Racialized-Gendered_Names/analysis/RGN_proportions.ipynb\" target=\"_parent\"><img src=\"https://colab.research.google.com/assets/colab-badge.svg\" alt=\"Open In Colab\"/></a>"
      ]
    },
    {
      "cell_type": "code",
      "execution_count": 1,
      "metadata": {
        "id": "95QzXGrxgWHH"
      },
      "outputs": [],
      "source": [
        "#Load relevant libraries\n",
        "import pandas as pd"
      ]
    },
    {
      "cell_type": "code",
      "source": [
        "#User specification here\n",
        "  #Data dir\n",
        "fil = 'https://raw.githubusercontent.com/ExCaLBBR/ExCaLBBR_Projects/main/RaciallyBiasedDecisions/Racialized-Gendered_Names/data/taskRGN.csv'\n",
        "\n",
        "  #SpecRemove specific participants\n",
        "   #Current condition: fixed responded & incorrect response to check\n",
        "rem = ['dwgxuk', 'tdqdqk', 'ppluks']"
      ],
      "metadata": {
        "id": "4NYeqkAekOj9"
      },
      "execution_count": 27,
      "outputs": []
    },
    {
      "cell_type": "code",
      "source": [
        "#Load data\n",
        "df_task = pd.read_csv(fil, index_col = 0, header = [0,1,2])\n",
        "#display(df_task)\n",
        "\n",
        "#Parse relevant substructures\n",
        "df_RaceLabels = df_task['Response']['Race']\n",
        "df_GenderLabels = df_task['Response']['Gender']\n",
        "df_RaceRT = df_task['Reaction Time']['Gender']\n",
        "df_GenderRT = df_task['Reaction Time']['Gender']\n",
        "\n",
        "#Remove specified participants\n",
        "remIdxRL = [df_RaceLabels.columns.get_loc(r) for r in rem if r in df_RaceLabels]\n",
        "remIdxGL = [df_GenderLabels.columns.get_loc(r) for r in rem if r in df_GenderLabels]\n",
        "remIdxRT = [df_RaceRT.columns.get_loc(r) for r in rem if r in df_RaceRT]\n",
        "remIdxGT = [df_GenderRT.columns.get_loc(r) for r in rem if r in df_GenderRT]\n",
        "\n",
        "df_RaceLabels = df_RaceLabels.drop(df_RaceLabels.columns[remIdxRL],axis = 1)\n",
        "df_GenderLabels  = df_GenderLabels.drop(df_GenderLabels.columns[remIdxGL],axis = 1)\n",
        "df_RaceRT  = df_RaceRT.drop(df_RaceRT.columns[remIdxRT],axis = 1)\n",
        "df_GenderRT  = df_GenderRT.drop(df_GenderRT.columns[remIdxGT],axis = 1)"
      ],
      "metadata": {
        "id": "TKxxXhrUhDnd"
      },
      "execution_count": 70,
      "outputs": []
    },
    {
      "cell_type": "code",
      "source": [
        "#Obtain proportions of labels \n",
        "names = df_RaceLabels.index.values\n",
        "\n",
        "#for n in names:\n",
        "#  df_RaceLabels.get_loc(\"Hispanic or Latino\")\n"
      ],
      "metadata": {
        "colab": {
          "base_uri": "https://localhost:8080/",
          "height": 35
        },
        "id": "lgcnuMFFhFmU",
        "outputId": "107867db-cf16-4420-a1fb-f8e883f3e28d"
      },
      "execution_count": 84,
      "outputs": [
        {
          "output_type": "execute_result",
          "data": {
            "text/plain": [
              "'# Aisha'"
            ],
            "application/vnd.google.colaboratory.intrinsic+json": {
              "type": "string"
            }
          },
          "metadata": {},
          "execution_count": 84
        }
      ]
    },
    {
      "cell_type": "code",
      "source": [
        "%ls"
      ],
      "metadata": {
        "id": "BOlKvIe2hGTE"
      },
      "execution_count": 4,
      "outputs": []
    }
  ]
}
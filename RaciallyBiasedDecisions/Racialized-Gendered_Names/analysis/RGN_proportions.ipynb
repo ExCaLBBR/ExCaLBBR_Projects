{
  "nbformat": 4,
  "nbformat_minor": 0,
  "metadata": {
    "colab": {
      "provenance": [],
      "include_colab_link": true
    },
    "kernelspec": {
      "name": "python3",
      "display_name": "Python 3"
    },
    "language_info": {
      "name": "python"
    }
  },
  "cells": [
    {
      "cell_type": "markdown",
      "metadata": {
        "id": "view-in-github",
        "colab_type": "text"
      },
      "source": [
        "<a href=\"https://colab.research.google.com/github/ExCaLBBR/ExCaLBBR_Projects/blob/main/RaciallyBiasedDecisions/Racialized-Gendered_Names/analysis/RGN_proportions.ipynb\" target=\"_parent\"><img src=\"https://colab.research.google.com/assets/colab-badge.svg\" alt=\"Open In Colab\"/></a>"
      ]
    },
    {
      "cell_type": "markdown",
      "source": [
        "Load relevant libraries"
      ],
      "metadata": {
        "id": "8LiaDvNZthOk"
      }
    },
    {
      "cell_type": "code",
      "execution_count": 82,
      "metadata": {
        "id": "95QzXGrxgWHH"
      },
      "outputs": [],
      "source": [
        "import pandas as pd"
      ]
    },
    {
      "cell_type": "markdown",
      "source": [
        "# Race and gender label analysis"
      ],
      "metadata": {
        "id": "8hnlvy4smzda"
      }
    },
    {
      "cell_type": "markdown",
      "source": [
        "Data url dir"
      ],
      "metadata": {
        "id": "Havwb3Gftf6V"
      }
    },
    {
      "cell_type": "code",
      "source": [
        "# RGN data\n",
        "fil = 'https://raw.githubusercontent.com/ExCaLBBR/ExCaLBBR_Projects/main/RaciallyBiasedDecisions/Racialized-Gendered_Names/data/taskRGN.csv'\n",
        "\n",
        "#SpecRemove specific participants\n",
        "  #Current condition: fixed responded & incorrect response to check\n",
        "rem = ['dwgxuk', 'tdqdqk', 'ppluks']"
      ],
      "metadata": {
        "id": "4NYeqkAekOj9"
      },
      "execution_count": 83,
      "outputs": []
    },
    {
      "cell_type": "markdown",
      "source": [
        "Load RGN data"
      ],
      "metadata": {
        "id": "hCjdykPIs0td"
      }
    },
    {
      "cell_type": "code",
      "source": [
        "\n",
        "df_task = pd.read_csv(fil, index_col = 0, header = [0,1,2])\n",
        "#display(df_task)"
      ],
      "metadata": {
        "id": "TKxxXhrUhDnd"
      },
      "execution_count": 84,
      "outputs": []
    },
    {
      "cell_type": "markdown",
      "source": [
        "Parse relevant substructures"
      ],
      "metadata": {
        "id": "LnMBm2VJs_pv"
      }
    },
    {
      "cell_type": "code",
      "source": [
        "df_RaceLabels = df_task['Response']['Race']\n",
        "df_GenderLabels = df_task['Response']['Gender']\n",
        "df_RaceRT = df_task['Reaction Time']['Gender']\n",
        "df_GenderRT = df_task['Reaction Time']['Gender']"
      ],
      "metadata": {
        "id": "Lq5ZydpYtESu"
      },
      "execution_count": 85,
      "outputs": []
    },
    {
      "cell_type": "markdown",
      "source": [
        "Remove specified participants"
      ],
      "metadata": {
        "id": "pmHDe45JtIs2"
      }
    },
    {
      "cell_type": "code",
      "source": [
        "remIdxRL = [df_RaceLabels.columns.get_loc(r) for r in rem if r in df_RaceLabels]\n",
        "remIdxGL = [df_GenderLabels.columns.get_loc(r) for r in rem if r in df_GenderLabels]\n",
        "remIdxRT = [df_RaceRT.columns.get_loc(r) for r in rem if r in df_RaceRT]\n",
        "remIdxGT = [df_GenderRT.columns.get_loc(r) for r in rem if r in df_GenderRT]"
      ],
      "metadata": {
        "id": "VzMxizaGtLOk"
      },
      "execution_count": 86,
      "outputs": []
    },
    {
      "cell_type": "markdown",
      "source": [
        "Obtain sub-dataframes corresponding to relevant features"
      ],
      "metadata": {
        "id": "63RVx_4QtQ2x"
      }
    },
    {
      "cell_type": "code",
      "source": [
        "df_RaceLabels = df_RaceLabels.drop(df_RaceLabels.columns[remIdxRL],axis = 1)\n",
        "df_GenderLabels  = df_GenderLabels.drop(df_GenderLabels.columns[remIdxGL],axis = 1)\n",
        "df_RaceRT  = df_RaceRT.drop(df_RaceRT.columns[remIdxRT],axis = 1)\n",
        "df_GenderRT  = df_GenderRT.drop(df_GenderRT.columns[remIdxGT],axis = 1)"
      ],
      "metadata": {
        "id": "4L76T2CutbJH"
      },
      "execution_count": 87,
      "outputs": []
    },
    {
      "cell_type": "markdown",
      "source": [
        "Obtain proportions for Race Labels"
      ],
      "metadata": {
        "id": "MMd-rtSdssLR"
      }
    },
    {
      "cell_type": "code",
      "source": [
        "# df_RaceLabels"
      ],
      "metadata": {
        "id": "yDyrPV2EqG0_"
      },
      "execution_count": 88,
      "outputs": []
    },
    {
      "cell_type": "code",
      "source": [
        " \n",
        "names_race = df_RaceLabels.index.values\n",
        "\n",
        "name_race_dict = dict()\n",
        "participantCount = df_RaceLabels.shape[1]\n",
        "for (index, row) in df_RaceLabels.iterrows():\n",
        "    race_label_dict = dict()\n",
        "    for entry in row.values:\n",
        "      if entry not in race_label_dict:\n",
        "        race_label_dict[entry] = 1\n",
        "      else:\n",
        "        race_label_dict[entry] += 1\n",
        "    for raceLabelKey in race_label_dict:\n",
        "        raceLabelCount = race_label_dict[raceLabelKey]\n",
        "        race_label_dict[raceLabelKey] = raceLabelCount / participantCount\n",
        "    if index not in name_race_dict:\n",
        "        name_race_dict[index] = race_label_dict\n",
        "df_RaceLabelProportion = pd.DataFrame.from_dict(name_race_dict, orient = \"index\")"
      ],
      "metadata": {
        "id": "lgcnuMFFhFmU"
      },
      "execution_count": 89,
      "outputs": []
    },
    {
      "cell_type": "markdown",
      "source": [
        "Display race labels proportion"
      ],
      "metadata": {
        "id": "xGq0q3w-pK0j"
      }
    },
    {
      "cell_type": "code",
      "source": [
        "# df_RaceLabelProportion"
      ],
      "metadata": {
        "id": "TenN1gYLcf-l"
      },
      "execution_count": 90,
      "outputs": []
    },
    {
      "cell_type": "markdown",
      "source": [
        "Obtain proportions for Gender Labels"
      ],
      "metadata": {
        "id": "prvQnv2Z1aZv"
      }
    },
    {
      "cell_type": "code",
      "source": [
        "# df_GenderLabels"
      ],
      "metadata": {
        "id": "D87LzYrC1dVM"
      },
      "execution_count": 91,
      "outputs": []
    },
    {
      "cell_type": "code",
      "source": [
        "names_gender = df_GenderLabels.index.values\n",
        "# names_gender\n",
        "\n",
        "participantCount = df_GenderLabels.shape[1]\n",
        "name_gender_dict = dict()\n",
        "for (index, row) in df_GenderLabels.iterrows():\n",
        "    gender_label_dict = dict()\n",
        "    for entry in row.values:\n",
        "      if entry not in gender_label_dict:\n",
        "        gender_label_dict[entry] = 1\n",
        "      else:\n",
        "        gender_label_dict[entry] += 1\n",
        "    for genderLabelKey in gender_label_dict:\n",
        "        genderLabelCount = gender_label_dict[genderLabelKey]\n",
        "        gender_label_dict[genderLabelKey] = genderLabelCount / participantCount\n",
        "    if index not in name_gender_dict:\n",
        "        name_gender_dict[index] = gender_label_dict\n",
        "df_GenderLabelProportion = pd.DataFrame.from_dict(name_gender_dict, orient = \"index\")"
      ],
      "metadata": {
        "id": "3jEHg7qZ1jhb"
      },
      "execution_count": 92,
      "outputs": []
    },
    {
      "cell_type": "markdown",
      "source": [
        "Display gender labels percentage"
      ],
      "metadata": {
        "id": "UAqBfC9B2ajY"
      }
    },
    {
      "cell_type": "code",
      "source": [
        "# df_GenderLabelProportion"
      ],
      "metadata": {
        "id": "OMKzqJ_W2daj"
      },
      "execution_count": 93,
      "outputs": []
    },
    {
      "cell_type": "markdown",
      "source": [
        "# Consensus Analysis"
      ],
      "metadata": {
        "id": "mRtawf8jpU3l"
      }
    },
    {
      "cell_type": "markdown",
      "source": [
        "Loading demographic data and processing"
      ],
      "metadata": {
        "id": "06mwbxB5mtso"
      }
    },
    {
      "cell_type": "code",
      "source": [
        "demographic_url = 'https://raw.githubusercontent.com/ExCaLBBR/ExCaLBBR_Projects/main/RaciallyBiasedDecisions/Racialized-Gendered_Names/data/raw/data_demographic.csv'\n",
        "df_demographic = pd.read_csv(demographic_url)\n",
        "include = [\"Participant Completion Code\", \"Question Key\", \"Response\"]\n",
        "df_demographic.drop(columns=df_demographic.columns.difference(include), inplace=True)\n",
        "remIdxCode = []\n",
        "for (index, row) in df_demographic.iterrows():\n",
        "  if row[\"Participant Completion Code\"] in rem:\n",
        "    remIdxCode.append(index)\n",
        "df_demographic.drop(remIdxCode, inplace = True)\n",
        "remIdxRG = []\n",
        "for (index, row) in df_demographic.iterrows():\n",
        "  if row[\"Question Key\"] not in [\"raceEth_v2\", \"gender\"]:\n",
        "    remIdxRG.append(index)\n",
        "df_demographic.drop(remIdxRG, inplace = True)\n",
        "# df_demographic"
      ],
      "metadata": {
        "id": "fzqXFv8J-lqq"
      },
      "execution_count": 94,
      "outputs": []
    },
    {
      "cell_type": "markdown",
      "source": [
        "Group participants by race and get participant completion codes of each group"
      ],
      "metadata": {
        "id": "H1QF7Rla1hWI"
      }
    },
    {
      "cell_type": "code",
      "source": [
        "df_AsianParticipants = df_demographic[df_demographic.Response == \"Asian\"]\n",
        "df_BlackAmericanParticipants = df_demographic[df_demographic.Response == \"Black or African American\"]\n",
        "df_LatinoParticipants = df_demographic[df_demographic.Response == \"Hispanic or Latino\"]\n",
        "df_WhiteParticipants = df_demographic[df_demographic.Response == \"White\"]\n",
        "asian_pcc = df_AsianParticipants[\"Participant Completion Code\"].values\n",
        "black_american_pcc = df_BlackAmericanParticipants[\"Participant Completion Code\"].values\n",
        "latino_pcc = df_LatinoParticipants[\"Participant Completion Code\"].values\n",
        "white_pcc = df_WhiteParticipants[\"Participant Completion Code\"].values"
      ],
      "metadata": {
        "id": "O7qlLQB31giU"
      },
      "execution_count": 95,
      "outputs": []
    },
    {
      "cell_type": "markdown",
      "source": [
        "Create dataframe for consensus among Asian Participants"
      ],
      "metadata": {
        "id": "aGY6dcudtNAq"
      }
    },
    {
      "cell_type": "code",
      "source": [
        "asian_RaceLabelResponse = df_RaceLabels[asian_pcc]\n",
        "asian_name_race_dict = dict()\n",
        "for (index, row) in asian_RaceLabelResponse.iterrows():\n",
        "    raceResponseCnt = row.value_counts()\n",
        "    for raceLabel in [\"Black American\", \"Chinese American\", \"Hispanic or Latino\", \"White American\"]:\n",
        "        if raceLabel not in raceResponseCnt:\n",
        "            raceResponseCnt[raceLabel] = 0\n",
        "    if index not in asian_name_race_dict:\n",
        "        asian_name_race_dict[index] = raceResponseCnt.to_dict()\n",
        "df_AsianRLR = pd.DataFrame.from_dict(asian_name_race_dict, orient = \"index\")"
      ],
      "metadata": {
        "id": "JujfNld9dETw"
      },
      "execution_count": 96,
      "outputs": []
    },
    {
      "cell_type": "markdown",
      "source": [
        "Created dataframe for race responses count of each name among Asian participants\n"
      ],
      "metadata": {
        "id": "ouf72OoXtaac"
      }
    },
    {
      "cell_type": "code",
      "source": [
        "# df_AsianRLR"
      ],
      "metadata": {
        "id": "cLZVKI44tsAW"
      },
      "execution_count": 97,
      "outputs": []
    },
    {
      "cell_type": "markdown",
      "source": [
        "Sort by response mode"
      ],
      "metadata": {
        "id": "C9ibNtoet9f5"
      }
    },
    {
      "cell_type": "code",
      "source": [
        "df_AsianRLR[\"Response Mode\"] = df_AsianRLR.max(axis = 1)\n",
        "df_AsianConsensus = df_AsianRLR.sort_values(by=\"Response Mode\", ascending = False)\n",
        "# df_AsianConsensus"
      ],
      "metadata": {
        "id": "EiPTs9K9tqSC"
      },
      "execution_count": 98,
      "outputs": []
    },
    {
      "cell_type": "markdown",
      "source": [
        "Follow the similar procedures to get consensus dataframe of Black American, Latino or Hispanic, and White participants."
      ],
      "metadata": {
        "id": "7Cn4r568u0I6"
      }
    },
    {
      "cell_type": "markdown",
      "source": [
        "Black American consensus:"
      ],
      "metadata": {
        "id": "k760tq4evGT5"
      }
    },
    {
      "cell_type": "code",
      "source": [
        "black_american_RaceLabelResponse = df_RaceLabels[black_american_pcc]\n",
        "black_american_name_race_dict = dict()\n",
        "for (index, row) in black_american_RaceLabelResponse.iterrows():\n",
        "    raceResponseCnt = row.value_counts()\n",
        "    for raceLabel in [\"Black American\", \"Chinese American\", \"Hispanic or Latino\", \"White American\"]:\n",
        "        if raceLabel not in raceResponseCnt:\n",
        "            raceResponseCnt[raceLabel] = 0\n",
        "    if index not in black_american_name_race_dict:\n",
        "        black_american_name_race_dict[index] = raceResponseCnt.to_dict()\n",
        "df_BlackAmericanRLR = pd.DataFrame.from_dict(black_american_name_race_dict, orient = \"index\")\n",
        "df_BlackAmericanRLR[\"Response Mode\"] = df_BlackAmericanRLR.max(axis = 1)\n",
        "df_BlackAmericanConsensus = df_BlackAmericanRLR.sort_values(by=\"Response Mode\", ascending = False)\n",
        "# df_BlackAmericanConsensus"
      ],
      "metadata": {
        "id": "6QoAavN0vQaO"
      },
      "execution_count": 99,
      "outputs": []
    },
    {
      "cell_type": "markdown",
      "source": [
        "Latino or Hispanic consensus:"
      ],
      "metadata": {
        "id": "qMiTzWi2v80P"
      }
    },
    {
      "cell_type": "code",
      "source": [
        "latino_RaceLabelResponse = df_RaceLabels[latino_pcc]\n",
        "latino_name_race_dict = dict()\n",
        "for (index, row) in latino_RaceLabelResponse.iterrows():\n",
        "    raceResponseCnt = row.value_counts()\n",
        "    for raceLabel in [\"Black American\", \"Chinese American\", \"Hispanic or Latino\", \"White American\"]:\n",
        "        if raceLabel not in raceResponseCnt:\n",
        "            raceResponseCnt[raceLabel] = 0\n",
        "    if index not in latino_name_race_dict:\n",
        "        latino_name_race_dict[index] = raceResponseCnt.to_dict()\n",
        "df_LatinoRLR = pd.DataFrame.from_dict(latino_name_race_dict, orient = \"index\")\n",
        "df_LatinoRLR[\"Response Mode\"] = df_LatinoRLR.max(axis = 1)\n",
        "df_LatinoConsensus = df_LatinoRLR.sort_values(by=\"Response Mode\", ascending = False)\n",
        "# df_LatinoConsensus"
      ],
      "metadata": {
        "id": "vtSQOWx-uYng"
      },
      "execution_count": 100,
      "outputs": []
    },
    {
      "cell_type": "markdown",
      "source": [
        "White American consensus:"
      ],
      "metadata": {
        "id": "BPVBgVJDwFrd"
      }
    },
    {
      "cell_type": "code",
      "source": [
        "white_RaceLabelResponse = df_RaceLabels[white_pcc]\n",
        "white_name_race_dict = dict()\n",
        "for (index, row) in white_RaceLabelResponse.iterrows():\n",
        "    raceResponseCnt = row.value_counts()\n",
        "    for raceLabel in [\"Black American\", \"Chinese American\", \"Hispanic or Latino\", \"White American\"]:\n",
        "        if raceLabel not in raceResponseCnt:\n",
        "            raceResponseCnt[raceLabel] = 0\n",
        "    if index not in white_name_race_dict:\n",
        "        white_name_race_dict[index] = raceResponseCnt.to_dict()\n",
        "df_WhiteRLR = pd.DataFrame.from_dict(white_name_race_dict, orient = \"index\")\n",
        "df_WhiteRLR[\"Response Mode\"] = df_WhiteRLR.max(axis = 1)\n",
        "df_WhiteConsensus = df_WhiteRLR.sort_values(by=\"Response Mode\", ascending = False)\n",
        "# df_WhiteConsensus"
      ],
      "metadata": {
        "id": "14HM8uDqwIS3"
      },
      "execution_count": 101,
      "outputs": []
    },
    {
      "cell_type": "markdown",
      "source": [
        "Export consensus data"
      ],
      "metadata": {
        "id": "jA4OeiWWIfG8"
      }
    },
    {
      "cell_type": "code",
      "source": [
        "with pd.ExcelWriter(\"RGN_participant_consensus.xlsx\") as writer:\n",
        "    # use to_excel function and specify the sheet_name and index\n",
        "    # to store the dataframe in specified sheet\n",
        "    df_AsianConsensus.to_excel(writer, sheet_name=\"Asian Participants\", index = True)\n",
        "    df_BlackAmericanConsensus.to_excel(writer, sheet_name=\"Black American Participants\", index = True)\n",
        "    df_LatinoConsensus.to_excel(writer, sheet_name=\"Latino Participants\", index = True)\n",
        "    df_WhiteConsensus.to_excel(writer, sheet_name=\"White Participants\", index = True)"
      ],
      "metadata": {
        "id": "edHgV1kTIhAZ"
      },
      "execution_count": 102,
      "outputs": []
    },
    {
      "cell_type": "code",
      "source": [
        "\n",
        "# Pair demographic with RGN: Compute proportions for Race Labels and Gender Labels by each of 4 groups\n",
        "  #This will require loading the demographic csv file\n",
        "#Compute Reaction time for each # name across identity groups"
      ],
      "metadata": {
        "id": "iOUHGykLLWfj"
      },
      "execution_count": 103,
      "outputs": []
    },
    {
      "cell_type": "markdown",
      "source": [
        "# Accuracy Analysis"
      ],
      "metadata": {
        "id": "y3ioFA13l1Dq"
      }
    },
    {
      "cell_type": "markdown",
      "source": [
        "load stimuli (correct answer data)"
      ],
      "metadata": {
        "id": "c--CjNyNmhHT"
      }
    },
    {
      "cell_type": "code",
      "source": [
        "stimuli_url = \"https://raw.githubusercontent.com/ExCaLBBR/ExCaLBBR_Projects/main/RaciallyBiasedDecisions/Racialized-Gendered_Names/stimuli.csv\"\n",
        "df_stimuli = pd.read_csv(stimuli_url)\n",
        "df_stimuli[\"Name\"] = df_stimuli[\"Name\"].map(\"# {}\".format)\n",
        "# df_stimuli"
      ],
      "metadata": {
        "id": "v5fBwTg9l3jd"
      },
      "execution_count": 104,
      "outputs": []
    },
    {
      "cell_type": "markdown",
      "source": [
        "Join stimuli race label column on the consensus to show comparison"
      ],
      "metadata": {
        "id": "SR15V9HLo46C"
      }
    },
    {
      "cell_type": "code",
      "source": [
        "# df_AsianConsensus\n",
        "df_AsianAccuracy = df_AsianConsensus.join(df_stimuli.set_index(\"Name\"))\n",
        "df_AsianAccuracy.drop(columns=[\"Gender\"], inplace=True)\n",
        "accuracy = []\n",
        "for (index, row) in df_AsianAccuracy.iterrows():\n",
        "    stimuli = row[\"Race\"]\n",
        "    accuracy.append(row[stimuli]/40)\n",
        "df_AsianAccuracy[\"Accuracy\"] = accuracy\n",
        "# df_AsianAccuracy"
      ],
      "metadata": {
        "id": "Z9_BRSBfpA0_"
      },
      "execution_count": 105,
      "outputs": []
    },
    {
      "cell_type": "code",
      "source": [
        "df_BlackAmericanAccuracy = df_BlackAmericanConsensus.join(df_stimuli.set_index(\"Name\"))\n",
        "df_BlackAmericanAccuracy.drop(columns=[\"Gender\"], inplace=True)\n",
        "accuracy = []\n",
        "for (index, row) in df_BlackAmericanAccuracy.iterrows():\n",
        "    stimuli = row[\"Race\"]\n",
        "    accuracy.append(row[stimuli]/40)\n",
        "df_BlackAmericanAccuracy[\"Accuracy\"] = accuracy\n",
        "# df_BlackAmericanAccuracy"
      ],
      "metadata": {
        "id": "1YFzZsY9Gkxv"
      },
      "execution_count": 106,
      "outputs": []
    },
    {
      "cell_type": "code",
      "source": [
        "df_LatinoAccuracy = df_LatinoConsensus.join(df_stimuli.set_index(\"Name\"))\n",
        "df_LatinoAccuracy.drop(columns=[\"Gender\"], inplace=True)\n",
        "accuracy = []\n",
        "for (index, row) in df_LatinoAccuracy.iterrows():\n",
        "    stimuli = row[\"Race\"]\n",
        "    accuracy.append(row[stimuli]/40)\n",
        "df_LatinoAccuracy[\"Accuracy\"] = accuracy\n",
        "# df_LatinoAccuracy"
      ],
      "metadata": {
        "id": "Pmsf8bumHH8i"
      },
      "execution_count": 107,
      "outputs": []
    },
    {
      "cell_type": "code",
      "source": [
        "df_WhiteAccuracy = df_WhiteConsensus.join(df_stimuli.set_index(\"Name\"))\n",
        "df_WhiteAccuracy.drop(columns=[\"Gender\"], inplace=True)\n",
        "accuracy = []\n",
        "for (index, row) in df_WhiteAccuracy.iterrows():\n",
        "    stimuli = row[\"Race\"]\n",
        "    accuracy.append(row[stimuli]/40)\n",
        "df_WhiteAccuracy[\"Accuracy\"] = accuracy\n",
        "# df_WhiteAccuracy"
      ],
      "metadata": {
        "id": "rnuIZz_4HVJw"
      },
      "execution_count": 108,
      "outputs": []
    },
    {
      "cell_type": "code",
      "source": [
        "%pwd"
      ],
      "metadata": {
        "id": "9zQLYB8z6Z7F",
        "outputId": "3a9e1ea3-d972-4fc3-d4e6-97940e20e9fd",
        "colab": {
          "base_uri": "https://localhost:8080/",
          "height": 35
        }
      },
      "execution_count": 109,
      "outputs": [
        {
          "output_type": "execute_result",
          "data": {
            "text/plain": [
              "'/content'"
            ],
            "application/vnd.google.colaboratory.intrinsic+json": {
              "type": "string"
            }
          },
          "metadata": {},
          "execution_count": 109
        }
      ]
    }
  ]
}
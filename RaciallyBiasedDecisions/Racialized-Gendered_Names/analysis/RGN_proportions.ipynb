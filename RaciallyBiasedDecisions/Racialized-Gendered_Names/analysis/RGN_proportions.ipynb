{
  "nbformat": 4,
  "nbformat_minor": 0,
  "metadata": {
    "colab": {
      "provenance": [],
      "include_colab_link": true
    },
    "kernelspec": {
      "name": "python3",
      "display_name": "Python 3"
    },
    "language_info": {
      "name": "python"
    }
  },
  "cells": [
    {
      "cell_type": "markdown",
      "metadata": {
        "id": "view-in-github",
        "colab_type": "text"
      },
      "source": [
        "<a href=\"https://colab.research.google.com/github/ExCaLBBR/ExCaLBBR_Projects/blob/main/RaciallyBiasedDecisions/Racialized-Gendered_Names/analysis/RGN_proportions.ipynb\" target=\"_parent\"><img src=\"https://colab.research.google.com/assets/colab-badge.svg\" alt=\"Open In Colab\"/></a>"
      ]
    },
    {
      "cell_type": "markdown",
      "source": [
        "Load relevant libraries"
      ],
      "metadata": {
        "id": "8LiaDvNZthOk"
      }
    },
    {
      "cell_type": "code",
      "execution_count": 50,
      "metadata": {
        "id": "95QzXGrxgWHH"
      },
      "outputs": [],
      "source": [
        "import pandas as pd"
      ]
    },
    {
      "cell_type": "markdown",
      "source": [
        "Data url dir"
      ],
      "metadata": {
        "id": "Havwb3Gftf6V"
      }
    },
    {
      "cell_type": "code",
      "source": [
        "# RGN data\n",
        "fil = 'https://raw.githubusercontent.com/ExCaLBBR/ExCaLBBR_Projects/main/RaciallyBiasedDecisions/Racialized-Gendered_Names/data/taskRGN.csv'\n",
        "\n",
        "#SpecRemove specific participants\n",
        "  #Current condition: fixed responded & incorrect response to check\n",
        "rem = ['dwgxuk', 'tdqdqk', 'ppluks']"
      ],
      "metadata": {
        "id": "4NYeqkAekOj9"
      },
      "execution_count": 51,
      "outputs": []
    },
    {
      "cell_type": "markdown",
      "source": [
        "Load RGN data"
      ],
      "metadata": {
        "id": "hCjdykPIs0td"
      }
    },
    {
      "cell_type": "code",
      "source": [
        "\n",
        "df_task = pd.read_csv(fil, index_col = 0, header = [0,1,2])\n",
        "#display(df_task)"
      ],
      "metadata": {
        "id": "TKxxXhrUhDnd"
      },
      "execution_count": 52,
      "outputs": []
    },
    {
      "cell_type": "markdown",
      "source": [
        "Parse relevant substructures"
      ],
      "metadata": {
        "id": "LnMBm2VJs_pv"
      }
    },
    {
      "cell_type": "code",
      "source": [
        "df_RaceLabels = df_task['Response']['Race']\n",
        "df_GenderLabels = df_task['Response']['Gender']\n",
        "df_RaceRT = df_task['Reaction Time']['Gender']\n",
        "df_GenderRT = df_task['Reaction Time']['Gender']"
      ],
      "metadata": {
        "id": "Lq5ZydpYtESu"
      },
      "execution_count": 53,
      "outputs": []
    },
    {
      "cell_type": "markdown",
      "source": [
        "Remove specified participants"
      ],
      "metadata": {
        "id": "pmHDe45JtIs2"
      }
    },
    {
      "cell_type": "code",
      "source": [
        "remIdxRL = [df_RaceLabels.columns.get_loc(r) for r in rem if r in df_RaceLabels]\n",
        "remIdxGL = [df_GenderLabels.columns.get_loc(r) for r in rem if r in df_GenderLabels]\n",
        "remIdxRT = [df_RaceRT.columns.get_loc(r) for r in rem if r in df_RaceRT]\n",
        "remIdxGT = [df_GenderRT.columns.get_loc(r) for r in rem if r in df_GenderRT]"
      ],
      "metadata": {
        "id": "VzMxizaGtLOk"
      },
      "execution_count": 54,
      "outputs": []
    },
    {
      "cell_type": "markdown",
      "source": [
        "Obtain sub-dataframes corresponding to relevant features"
      ],
      "metadata": {
        "id": "63RVx_4QtQ2x"
      }
    },
    {
      "cell_type": "code",
      "source": [
        "df_RaceLabels = df_RaceLabels.drop(df_RaceLabels.columns[remIdxRL],axis = 1)\n",
        "df_GenderLabels  = df_GenderLabels.drop(df_GenderLabels.columns[remIdxGL],axis = 1)\n",
        "df_RaceRT  = df_RaceRT.drop(df_RaceRT.columns[remIdxRT],axis = 1)\n",
        "df_GenderRT  = df_GenderRT.drop(df_GenderRT.columns[remIdxGT],axis = 1)"
      ],
      "metadata": {
        "id": "4L76T2CutbJH"
      },
      "execution_count": 55,
      "outputs": []
    },
    {
      "cell_type": "markdown",
      "source": [
        "Obtain proportions for Race Labels"
      ],
      "metadata": {
        "id": "MMd-rtSdssLR"
      }
    },
    {
      "cell_type": "code",
      "source": [
        "# df_RaceLabels"
      ],
      "metadata": {
        "id": "yDyrPV2EqG0_"
      },
      "execution_count": 56,
      "outputs": []
    },
    {
      "cell_type": "code",
      "source": [
        " \n",
        "names_race = df_RaceLabels.index.values\n",
        "\n",
        "name_race_dict = dict()\n",
        "participantCount = df_RaceLabels.shape[1]\n",
        "for (index, row) in df_RaceLabels.iterrows():\n",
        "    race_label_dict = dict()\n",
        "    for entry in row.values:\n",
        "      if entry not in race_label_dict:\n",
        "        race_label_dict[entry] = 1\n",
        "      else:\n",
        "        race_label_dict[entry] += 1\n",
        "    for raceLabelKey in race_label_dict:\n",
        "        raceLabelCount = race_label_dict[raceLabelKey]\n",
        "        race_label_dict[raceLabelKey] = raceLabelCount / participantCount\n",
        "    if index not in name_race_dict:\n",
        "        name_race_dict[index] = race_label_dict\n",
        "df_RaceLabelProportion = pd.DataFrame.from_dict(name_race_dict, orient = \"index\")"
      ],
      "metadata": {
        "id": "lgcnuMFFhFmU"
      },
      "execution_count": 57,
      "outputs": []
    },
    {
      "cell_type": "markdown",
      "source": [
        "Display race labels proportion"
      ],
      "metadata": {
        "id": "xGq0q3w-pK0j"
      }
    },
    {
      "cell_type": "code",
      "source": [
        "# df_RaceLabelProportion"
      ],
      "metadata": {
        "id": "TenN1gYLcf-l"
      },
      "execution_count": 58,
      "outputs": []
    },
    {
      "cell_type": "markdown",
      "source": [
        "Obtain proportions for Gender Labels"
      ],
      "metadata": {
        "id": "prvQnv2Z1aZv"
      }
    },
    {
      "cell_type": "code",
      "source": [
        "# df_GenderLabels"
      ],
      "metadata": {
        "id": "D87LzYrC1dVM"
      },
      "execution_count": 59,
      "outputs": []
    },
    {
      "cell_type": "code",
      "source": [
        "names_gender = df_GenderLabels.index.values\n",
        "# names_gender\n",
        "\n",
        "participantCount = df_GenderLabels.shape[1]\n",
        "name_gender_dict = dict()\n",
        "for (index, row) in df_GenderLabels.iterrows():\n",
        "    gender_label_dict = dict()\n",
        "    for entry in row.values:\n",
        "      if entry not in gender_label_dict:\n",
        "        gender_label_dict[entry] = 1\n",
        "      else:\n",
        "        gender_label_dict[entry] += 1\n",
        "    for genderLabelKey in gender_label_dict:\n",
        "        genderLabelCount = gender_label_dict[genderLabelKey]\n",
        "        gender_label_dict[genderLabelKey] = genderLabelCount / participantCount\n",
        "    if index not in name_gender_dict:\n",
        "        name_gender_dict[index] = gender_label_dict\n",
        "df_GenderLabelProportion = pd.DataFrame.from_dict(name_gender_dict, orient = \"index\")"
      ],
      "metadata": {
        "id": "3jEHg7qZ1jhb"
      },
      "execution_count": 60,
      "outputs": []
    },
    {
      "cell_type": "markdown",
      "source": [
        "Display gender labels percentage"
      ],
      "metadata": {
        "id": "UAqBfC9B2ajY"
      }
    },
    {
      "cell_type": "code",
      "source": [
        "# df_GenderLabelProportion"
      ],
      "metadata": {
        "id": "OMKzqJ_W2daj"
      },
      "execution_count": 61,
      "outputs": []
    },
    {
      "cell_type": "markdown",
      "source": [
        "Loading demographic data and processing"
      ],
      "metadata": {
        "id": "mRtawf8jpU3l"
      }
    },
    {
      "cell_type": "code",
      "source": [
        "demographic_url = 'https://raw.githubusercontent.com/ExCaLBBR/ExCaLBBR_Projects/main/RaciallyBiasedDecisions/Racialized-Gendered_Names/data/raw/data_demographic.csv'\n",
        "df_demographic = pd.read_csv(demographic_url)\n",
        "include = [\"Participant Completion Code\", \"Question Key\", \"Response\"]\n",
        "df_demographic.drop(columns=df_demographic.columns.difference(include), inplace=True)\n",
        "remIdxCode = []\n",
        "for (index, row) in df_demographic.iterrows():\n",
        "  if row[\"Participant Completion Code\"] in rem:\n",
        "    remIdxCode.append(index)\n",
        "df_demographic.drop(remIdxCode, inplace = True)\n",
        "remIdxRG = []\n",
        "for (index, row) in df_demographic.iterrows():\n",
        "  if row[\"Question Key\"] not in [\"raceEth_v2\", \"gender\"]:\n",
        "    remIdxRG.append(index)\n",
        "df_demographic.drop(remIdxRG, inplace = True)\n",
        "df_demographic"
      ],
      "metadata": {
        "id": "fzqXFv8J-lqq",
        "outputId": "ca3d8ecf-bb96-468e-fa42-f923eca708eb",
        "colab": {
          "base_uri": "https://localhost:8080/",
          "height": 423
        }
      },
      "execution_count": 62,
      "outputs": [
        {
          "output_type": "execute_result",
          "data": {
            "text/plain": [
              "     Participant Completion Code Question Key                   Response\n",
              "2                         vcdueq       gender                     female\n",
              "3                         vcdueq   raceEth_v2                      White\n",
              "12                        dhyrks       gender                     female\n",
              "13                        dhyrks   raceEth_v2                      White\n",
              "22                        lpuvnk       gender                     Female\n",
              "...                          ...          ...                        ...\n",
              "1573                      xesqkj   raceEth_v2                      Asian\n",
              "1582                      ltahas       gender                       Male\n",
              "1583                      ltahas   raceEth_v2                      White\n",
              "1592                      vhpxit       gender                     female\n",
              "1593                      vhpxit   raceEth_v2  Black or African American\n",
              "\n",
              "[314 rows x 3 columns]"
            ],
            "text/html": [
              "\n",
              "  <div id=\"df-3152601d-e381-4042-960b-f94a35257ed4\">\n",
              "    <div class=\"colab-df-container\">\n",
              "      <div>\n",
              "<style scoped>\n",
              "    .dataframe tbody tr th:only-of-type {\n",
              "        vertical-align: middle;\n",
              "    }\n",
              "\n",
              "    .dataframe tbody tr th {\n",
              "        vertical-align: top;\n",
              "    }\n",
              "\n",
              "    .dataframe thead th {\n",
              "        text-align: right;\n",
              "    }\n",
              "</style>\n",
              "<table border=\"1\" class=\"dataframe\">\n",
              "  <thead>\n",
              "    <tr style=\"text-align: right;\">\n",
              "      <th></th>\n",
              "      <th>Participant Completion Code</th>\n",
              "      <th>Question Key</th>\n",
              "      <th>Response</th>\n",
              "    </tr>\n",
              "  </thead>\n",
              "  <tbody>\n",
              "    <tr>\n",
              "      <th>2</th>\n",
              "      <td>vcdueq</td>\n",
              "      <td>gender</td>\n",
              "      <td>female</td>\n",
              "    </tr>\n",
              "    <tr>\n",
              "      <th>3</th>\n",
              "      <td>vcdueq</td>\n",
              "      <td>raceEth_v2</td>\n",
              "      <td>White</td>\n",
              "    </tr>\n",
              "    <tr>\n",
              "      <th>12</th>\n",
              "      <td>dhyrks</td>\n",
              "      <td>gender</td>\n",
              "      <td>female</td>\n",
              "    </tr>\n",
              "    <tr>\n",
              "      <th>13</th>\n",
              "      <td>dhyrks</td>\n",
              "      <td>raceEth_v2</td>\n",
              "      <td>White</td>\n",
              "    </tr>\n",
              "    <tr>\n",
              "      <th>22</th>\n",
              "      <td>lpuvnk</td>\n",
              "      <td>gender</td>\n",
              "      <td>Female</td>\n",
              "    </tr>\n",
              "    <tr>\n",
              "      <th>...</th>\n",
              "      <td>...</td>\n",
              "      <td>...</td>\n",
              "      <td>...</td>\n",
              "    </tr>\n",
              "    <tr>\n",
              "      <th>1573</th>\n",
              "      <td>xesqkj</td>\n",
              "      <td>raceEth_v2</td>\n",
              "      <td>Asian</td>\n",
              "    </tr>\n",
              "    <tr>\n",
              "      <th>1582</th>\n",
              "      <td>ltahas</td>\n",
              "      <td>gender</td>\n",
              "      <td>Male</td>\n",
              "    </tr>\n",
              "    <tr>\n",
              "      <th>1583</th>\n",
              "      <td>ltahas</td>\n",
              "      <td>raceEth_v2</td>\n",
              "      <td>White</td>\n",
              "    </tr>\n",
              "    <tr>\n",
              "      <th>1592</th>\n",
              "      <td>vhpxit</td>\n",
              "      <td>gender</td>\n",
              "      <td>female</td>\n",
              "    </tr>\n",
              "    <tr>\n",
              "      <th>1593</th>\n",
              "      <td>vhpxit</td>\n",
              "      <td>raceEth_v2</td>\n",
              "      <td>Black or African American</td>\n",
              "    </tr>\n",
              "  </tbody>\n",
              "</table>\n",
              "<p>314 rows × 3 columns</p>\n",
              "</div>\n",
              "      <button class=\"colab-df-convert\" onclick=\"convertToInteractive('df-3152601d-e381-4042-960b-f94a35257ed4')\"\n",
              "              title=\"Convert this dataframe to an interactive table.\"\n",
              "              style=\"display:none;\">\n",
              "        \n",
              "  <svg xmlns=\"http://www.w3.org/2000/svg\" height=\"24px\"viewBox=\"0 0 24 24\"\n",
              "       width=\"24px\">\n",
              "    <path d=\"M0 0h24v24H0V0z\" fill=\"none\"/>\n",
              "    <path d=\"M18.56 5.44l.94 2.06.94-2.06 2.06-.94-2.06-.94-.94-2.06-.94 2.06-2.06.94zm-11 1L8.5 8.5l.94-2.06 2.06-.94-2.06-.94L8.5 2.5l-.94 2.06-2.06.94zm10 10l.94 2.06.94-2.06 2.06-.94-2.06-.94-.94-2.06-.94 2.06-2.06.94z\"/><path d=\"M17.41 7.96l-1.37-1.37c-.4-.4-.92-.59-1.43-.59-.52 0-1.04.2-1.43.59L10.3 9.45l-7.72 7.72c-.78.78-.78 2.05 0 2.83L4 21.41c.39.39.9.59 1.41.59.51 0 1.02-.2 1.41-.59l7.78-7.78 2.81-2.81c.8-.78.8-2.07 0-2.86zM5.41 20L4 18.59l7.72-7.72 1.47 1.35L5.41 20z\"/>\n",
              "  </svg>\n",
              "      </button>\n",
              "      \n",
              "  <style>\n",
              "    .colab-df-container {\n",
              "      display:flex;\n",
              "      flex-wrap:wrap;\n",
              "      gap: 12px;\n",
              "    }\n",
              "\n",
              "    .colab-df-convert {\n",
              "      background-color: #E8F0FE;\n",
              "      border: none;\n",
              "      border-radius: 50%;\n",
              "      cursor: pointer;\n",
              "      display: none;\n",
              "      fill: #1967D2;\n",
              "      height: 32px;\n",
              "      padding: 0 0 0 0;\n",
              "      width: 32px;\n",
              "    }\n",
              "\n",
              "    .colab-df-convert:hover {\n",
              "      background-color: #E2EBFA;\n",
              "      box-shadow: 0px 1px 2px rgba(60, 64, 67, 0.3), 0px 1px 3px 1px rgba(60, 64, 67, 0.15);\n",
              "      fill: #174EA6;\n",
              "    }\n",
              "\n",
              "    [theme=dark] .colab-df-convert {\n",
              "      background-color: #3B4455;\n",
              "      fill: #D2E3FC;\n",
              "    }\n",
              "\n",
              "    [theme=dark] .colab-df-convert:hover {\n",
              "      background-color: #434B5C;\n",
              "      box-shadow: 0px 1px 3px 1px rgba(0, 0, 0, 0.15);\n",
              "      filter: drop-shadow(0px 1px 2px rgba(0, 0, 0, 0.3));\n",
              "      fill: #FFFFFF;\n",
              "    }\n",
              "  </style>\n",
              "\n",
              "      <script>\n",
              "        const buttonEl =\n",
              "          document.querySelector('#df-3152601d-e381-4042-960b-f94a35257ed4 button.colab-df-convert');\n",
              "        buttonEl.style.display =\n",
              "          google.colab.kernel.accessAllowed ? 'block' : 'none';\n",
              "\n",
              "        async function convertToInteractive(key) {\n",
              "          const element = document.querySelector('#df-3152601d-e381-4042-960b-f94a35257ed4');\n",
              "          const dataTable =\n",
              "            await google.colab.kernel.invokeFunction('convertToInteractive',\n",
              "                                                     [key], {});\n",
              "          if (!dataTable) return;\n",
              "\n",
              "          const docLinkHtml = 'Like what you see? Visit the ' +\n",
              "            '<a target=\"_blank\" href=https://colab.research.google.com/notebooks/data_table.ipynb>data table notebook</a>'\n",
              "            + ' to learn more about interactive tables.';\n",
              "          element.innerHTML = '';\n",
              "          dataTable['output_type'] = 'display_data';\n",
              "          await google.colab.output.renderOutput(dataTable, element);\n",
              "          const docLink = document.createElement('div');\n",
              "          docLink.innerHTML = docLinkHtml;\n",
              "          element.appendChild(docLink);\n",
              "        }\n",
              "      </script>\n",
              "    </div>\n",
              "  </div>\n",
              "  "
            ]
          },
          "metadata": {},
          "execution_count": 62
        }
      ]
    },
    {
      "cell_type": "code",
      "source": [
        "\n",
        "# Pair demographic with RGN: Compute proportions for Race Labels and Gender Labels by each of 4 groups\n",
        "  #This will require loading the demographic csv file\n",
        "#Compute Reaction time for each # name across identity groups"
      ],
      "metadata": {
        "id": "iOUHGykLLWfj"
      },
      "execution_count": 63,
      "outputs": []
    },
    {
      "cell_type": "code",
      "source": [
        "%pwd"
      ],
      "metadata": {
        "id": "9zQLYB8z6Z7F",
        "outputId": "29c90d05-00e1-460b-fbff-f69a1f83a263",
        "colab": {
          "base_uri": "https://localhost:8080/",
          "height": 35
        }
      },
      "execution_count": 64,
      "outputs": [
        {
          "output_type": "execute_result",
          "data": {
            "text/plain": [
              "'/content'"
            ],
            "application/vnd.google.colaboratory.intrinsic+json": {
              "type": "string"
            }
          },
          "metadata": {},
          "execution_count": 64
        }
      ]
    }
  ]
}
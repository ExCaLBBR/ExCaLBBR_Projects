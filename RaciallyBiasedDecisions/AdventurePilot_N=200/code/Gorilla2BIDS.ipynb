{
  "nbformat": 4,
  "nbformat_minor": 0,
  "metadata": {
    "colab": {
      "provenance": [],
      "include_colab_link": true
    },
    "kernelspec": {
      "name": "python3",
      "display_name": "Python 3"
    },
    "language_info": {
      "name": "python"
    }
  },
  "cells": [
    {
      "cell_type": "markdown",
      "metadata": {
        "id": "view-in-github",
        "colab_type": "text"
      },
      "source": [
        "<a href=\"https://colab.research.google.com/github/ExCaLBBR/ExCaLBBR_Projects/blob/main/RaciallyBiasedDecisions/AdventurePilot_N%3D200/code/Gorilla2BIDS.ipynb\" target=\"_parent\"><img src=\"https://colab.research.google.com/assets/colab-badge.svg\" alt=\"Open In Colab\"/></a>"
      ]
    },
    {
      "cell_type": "markdown",
      "source": [
        "Gorilla Info: <br>\n",
        "Project: RaciallyBiasedDecisions_APF_Pilot_n-200 <br>\n",
        "Version: 8studies (versions vary) <br>\n",
        "Account: Roberto Vargas (robertov@andrew.cmu.edu) "
      ],
      "metadata": {
        "id": "C9mud3ByqVgH"
      }
    },
    {
      "cell_type": "code",
      "source": [
        "#Load relevant libraries and install dependencies\n",
        "import pandas as pd\n",
        "import numpy as np\n",
        "import re"
      ],
      "metadata": {
        "id": "08gBma2_ivoE"
      },
      "execution_count": 1,
      "outputs": []
    },
    {
      "cell_type": "code",
      "source": [
        "# function to convert values in the pivot values from list to float for PRaM and SPaM\n",
        "def convert_to_float(x):\n",
        "    if isinstance(x, list):\n",
        "        return float(x[0]) # assuming there is only one value in the list\n",
        "    else:\n",
        "        return x"
      ],
      "metadata": {
        "id": "3dArzVdYA-mz"
      },
      "execution_count": 2,
      "outputs": []
    },
    {
      "cell_type": "code",
      "source": [
        "#@title Load Data\n",
        "#Load Data:\n",
        "\n",
        "#QUESTIONAIRRES:\n",
        "#Demographics\n",
        "url = 'https://raw.githubusercontent.com/ExCaLBBR/ExCaLBBR_Projects/main/RaciallyBiasedDecisions/AdventurePilot_N%3D200/data/raw/WF_2opt_AxGrp_demo.csv'\n",
        "df_WF_2opt_AxGrp_demo = pd.read_csv(url)\n",
        "url = 'https://raw.githubusercontent.com/ExCaLBBR/ExCaLBBR_Projects/main/RaciallyBiasedDecisions/AdventurePilot_N%3D200/data/raw/WF_2opt_InGrp_demo.csv'\n",
        "df_WF_2opt_InGrp_demo = pd.read_csv(url)\n",
        "url = 'https://raw.githubusercontent.com/ExCaLBBR/ExCaLBBR_Projects/main/RaciallyBiasedDecisions/AdventurePilot_N%3D200/data/raw/WF_3opt_AxGrp_demo.csv'\n",
        "df_WF_3opt_AxGrp_demo = pd.read_csv(url)\n",
        "url = 'https://raw.githubusercontent.com/ExCaLBBR/ExCaLBBR_Projects/main/RaciallyBiasedDecisions/AdventurePilot_N%3D200/data/raw/WF_3opt_InGrp_demo.csv'\n",
        "df_WF_3opt_InGrp_demo = pd.read_csv(url)\n",
        "url = 'https://raw.githubusercontent.com/ExCaLBBR/ExCaLBBR_Projects/main/RaciallyBiasedDecisions/AdventurePilot_N%3D200/data/raw/WM_2opt_AxGrp_demo.csv'\n",
        "df_WM_2opt_AxGrp_demo = pd.read_csv(url)\n",
        "url = 'https://raw.githubusercontent.com/ExCaLBBR/ExCaLBBR_Projects/main/RaciallyBiasedDecisions/AdventurePilot_N%3D200/data/raw/WM_2opt_InGrp_demo.csv'\n",
        "df_WM_2opt_InGrp_demo = pd.read_csv(url)\n",
        "url = 'https://raw.githubusercontent.com/ExCaLBBR/ExCaLBBR_Projects/main/RaciallyBiasedDecisions/AdventurePilot_N%3D200/data/raw/WM_3opt_AxGrp_demo.csv'\n",
        "df_WM_3opt_AxGrp_demo = pd.read_csv(url)\n",
        "url = 'https://raw.githubusercontent.com/ExCaLBBR/ExCaLBBR_Projects/main/RaciallyBiasedDecisions/AdventurePilot_N%3D200/data/raw/WM_3opt_InGrp_demo.csv'\n",
        "df_WM_3opt_InGrp_demo = pd.read_csv(url)\n",
        "\n",
        "#Exit Questionairre\n",
        "url = 'https://raw.githubusercontent.com/ExCaLBBR/ExCaLBBR_Projects/main/RaciallyBiasedDecisions/AdventurePilot_N%3D200/data/raw/WF_2opt_AxGrp_ExitQ.csv'\n",
        "df_WF_2opt_AxGrp_ExitQ = pd.read_csv(url)\n",
        "url = 'https://raw.githubusercontent.com/ExCaLBBR/ExCaLBBR_Projects/main/RaciallyBiasedDecisions/AdventurePilot_N%3D200/data/raw/WF_2opt_InGrp_ExitQ.csv'\n",
        "df_WF_2opt_InGrp_ExitQ = pd.read_csv(url)\n",
        "url = 'https://raw.githubusercontent.com/ExCaLBBR/ExCaLBBR_Projects/main/RaciallyBiasedDecisions/AdventurePilot_N%3D200/data/raw/WF_3opt_AxGrp_ExitQ.csv'\n",
        "df_WF_3opt_AxGrp_ExitQ = pd.read_csv(url)\n",
        "url = 'https://raw.githubusercontent.com/ExCaLBBR/ExCaLBBR_Projects/main/RaciallyBiasedDecisions/AdventurePilot_N%3D200/data/raw/WF_3opt_InGrp_ExitQ.csv'\n",
        "df_WF_3opt_InGrp_ExitQ = pd.read_csv(url)\n",
        "url = 'https://raw.githubusercontent.com/ExCaLBBR/ExCaLBBR_Projects/main/RaciallyBiasedDecisions/AdventurePilot_N%3D200/data/raw/WM_2opt_AxGrp_ExitQ.csv'\n",
        "df_WM_2opt_AxGrp_ExitQ = pd.read_csv(url)\n",
        "url = 'https://raw.githubusercontent.com/ExCaLBBR/ExCaLBBR_Projects/main/RaciallyBiasedDecisions/AdventurePilot_N%3D200/data/raw/WM_2opt_InGrp_ExitQ.csv'\n",
        "df_WM_2opt_InGrp_ExitQ = pd.read_csv(url)\n",
        "url = 'https://raw.githubusercontent.com/ExCaLBBR/ExCaLBBR_Projects/main/RaciallyBiasedDecisions/AdventurePilot_N%3D200/data/raw/WM_3opt_AxGrp_ExitQ.csv'\n",
        "df_WM_3opt_AxGrp_ExitQ = pd.read_csv(url)\n",
        "url = 'https://raw.githubusercontent.com/ExCaLBBR/ExCaLBBR_Projects/main/RaciallyBiasedDecisions/AdventurePilot_N%3D200/data/raw/WM_3opt_InGrp_ExitQ.csv'\n",
        "df_WM_3opt_InGrp_ExitQ = pd.read_csv(url)\n",
        "\n",
        "#TASKS:\n",
        "#Adventure Tasks\n",
        "url = 'https://raw.githubusercontent.com/ExCaLBBR/ExCaLBBR_Projects/main/RaciallyBiasedDecisions/AdventurePilot_N%3D200/data/raw/WF_2opt_AxGrp_Adv.csv'\n",
        "df_WF_2opt_AxGrp_Adv = pd.read_csv(url)\n",
        "url = 'https://raw.githubusercontent.com/ExCaLBBR/ExCaLBBR_Projects/main/RaciallyBiasedDecisions/AdventurePilot_N%3D200/data/raw/WF_2opt_InGrp_Adv.csv'\n",
        "df_WF_2opt_InGrp_Adv = pd.read_csv(url)\n",
        "url = 'https://raw.githubusercontent.com/ExCaLBBR/ExCaLBBR_Projects/main/RaciallyBiasedDecisions/AdventurePilot_N%3D200/data/raw/WF_3opt_AxGrp_Adv.csv'\n",
        "df_WF_3opt_AxGrp_Adv = pd.read_csv(url)\n",
        "url = 'https://raw.githubusercontent.com/ExCaLBBR/ExCaLBBR_Projects/main/RaciallyBiasedDecisions/AdventurePilot_N%3D200/data/raw/WF_3opt_InGrp_Adv.csv'\n",
        "df_WF_3opt_InGrp_Adv = pd.read_csv(url)\n",
        "url = 'https://raw.githubusercontent.com/ExCaLBBR/ExCaLBBR_Projects/main/RaciallyBiasedDecisions/AdventurePilot_N%3D200/data/raw/WM_2opt_AxGrp_Adv.csv'\n",
        "df_WM_2opt_AxGrp_Adv = pd.read_csv(url)\n",
        "url = 'https://raw.githubusercontent.com/ExCaLBBR/ExCaLBBR_Projects/main/RaciallyBiasedDecisions/AdventurePilot_N%3D200/data/raw/WM_2opt_InGrp_Adv.csv'\n",
        "df_WM_2opt_InGrp_Adv = pd.read_csv(url)\n",
        "url = 'https://raw.githubusercontent.com/ExCaLBBR/ExCaLBBR_Projects/main/RaciallyBiasedDecisions/AdventurePilot_N%3D200/data/raw/WM_3opt_AxGrp_Adv.csv'\n",
        "df_WM_3opt_AxGrp_Adv = pd.read_csv(url)\n",
        "url = 'https://raw.githubusercontent.com/ExCaLBBR/ExCaLBBR_Projects/main/RaciallyBiasedDecisions/AdventurePilot_N%3D200/data/raw/WM_3opt_InGrp_Adv.csv'\n",
        "df_WM_3opt_InGrp_Adv = pd.read_csv(url)\n"
      ],
      "metadata": {
        "id": "NA7mXjvZZldd",
        "cellView": "form"
      },
      "execution_count": 3,
      "outputs": []
    },
    {
      "cell_type": "code",
      "source": [
        "#@title Isolate relevant columns: Demographics\n",
        "#Isolate relevant columns: Demographics\n",
        "include = ['Participant Private ID', 'Question Key', 'Response']\n",
        "df_WF_2opt_AxGrp_demo.drop(columns=df_WF_2opt_AxGrp_demo.columns.difference(include), inplace=True)\n",
        "mask = df_WF_2opt_AxGrp_demo['Question Key'].str.contains('BEGIN QUESTIONNAIRE', na=True) | df_WF_2opt_AxGrp_demo['Question Key'].str.contains('END QUESTIONNAIRE', na=True) | df_WF_2opt_AxGrp_demo['Question Key'].str.contains('quantised', na=True)\n",
        "df_WF_2opt_AxGrp_demo = df_WF_2opt_AxGrp_demo[~mask]\n",
        "df_WF_2opt_AxGrp_demo = df_WF_2opt_AxGrp_demo.dropna()\n",
        "\n",
        "include = ['Participant Private ID', 'Question Key', 'Response']\n",
        "df_WF_2opt_InGrp_demo.drop(columns=df_WF_2opt_InGrp_demo.columns.difference(include), inplace=True)\n",
        "mask = df_WF_2opt_InGrp_demo['Question Key'].str.contains('BEGIN QUESTIONNAIRE', na=True) | df_WF_2opt_InGrp_demo['Question Key'].str.contains('END QUESTIONNAIRE', na=True) | df_WF_2opt_InGrp_demo['Question Key'].str.contains('quantised', na=True)\n",
        "df_WF_2opt_InGrp_demo = df_WF_2opt_InGrp_demo[~mask]\n",
        "df_WF_2opt_InGrp_demo = df_WF_2opt_InGrp_demo.dropna()\n",
        "\n",
        "include = ['Participant Private ID', 'Question Key', 'Response']\n",
        "df_WF_3opt_AxGrp_demo.drop(columns=df_WF_3opt_AxGrp_demo.columns.difference(include), inplace=True)\n",
        "mask = df_WF_3opt_AxGrp_demo['Question Key'].str.contains('BEGIN QUESTIONNAIRE', na=True) | df_WF_3opt_AxGrp_demo['Question Key'].str.contains('END QUESTIONNAIRE', na=True) | df_WF_3opt_AxGrp_demo['Question Key'].str.contains('quantised', na=True)\n",
        "df_WF_3opt_AxGrp_demo = df_WF_3opt_AxGrp_demo[~mask]\n",
        "df_WF_3opt_AxGrp_demo = df_WF_3opt_AxGrp_demo.dropna()\n",
        "\n",
        "include = ['Participant Private ID', 'Question Key', 'Response']\n",
        "df_WF_3opt_InGrp_demo.drop(columns=df_WF_3opt_InGrp_demo.columns.difference(include), inplace=True)\n",
        "mask = df_WF_3opt_InGrp_demo['Question Key'].str.contains('BEGIN QUESTIONNAIRE', na=True) | df_WF_3opt_InGrp_demo['Question Key'].str.contains('END QUESTIONNAIRE', na=True) | df_WF_3opt_InGrp_demo['Question Key'].str.contains('quantised', na=True)\n",
        "df_WF_3opt_InGrp_demo = df_WF_3opt_InGrp_demo[~mask]\n",
        "df_WF_3opt_InGrp_demo = df_WF_3opt_InGrp_demo.dropna()\n",
        "\n",
        "include = ['Participant Private ID', 'Question Key', 'Response']\n",
        "df_WM_2opt_AxGrp_demo.drop(columns=df_WM_2opt_AxGrp_demo.columns.difference(include), inplace=True)\n",
        "mask = df_WM_2opt_AxGrp_demo['Question Key'].str.contains('BEGIN QUESTIONNAIRE', na=True) | df_WM_2opt_AxGrp_demo['Question Key'].str.contains('END QUESTIONNAIRE', na=True) | df_WM_2opt_AxGrp_demo['Question Key'].str.contains('quantised', na=True)\n",
        "df_WM_2opt_AxGrp_demo = df_WM_2opt_AxGrp_demo[~mask]\n",
        "df_WM_2opt_AxGrp_demo = df_WM_2opt_AxGrp_demo.dropna()\n",
        "\n",
        "include = ['Participant Private ID', 'Question Key', 'Response']\n",
        "df_WM_2opt_InGrp_demo.drop(columns=df_WM_2opt_InGrp_demo.columns.difference(include), inplace=True)\n",
        "mask = df_WM_2opt_InGrp_demo['Question Key'].str.contains('BEGIN QUESTIONNAIRE', na=True) | df_WM_2opt_InGrp_demo['Question Key'].str.contains('END QUESTIONNAIRE', na=True) | df_WM_2opt_InGrp_demo['Question Key'].str.contains('quantised', na=True)\n",
        "df_WM_2opt_InGrp_demo = df_WM_2opt_InGrp_demo[~mask]\n",
        "df_WM_2opt_InGrp_demo = df_WM_2opt_InGrp_demo.dropna()\n",
        "\n",
        "include = ['Participant Private ID', 'Question Key', 'Response']\n",
        "df_WM_3opt_AxGrp_demo.drop(columns=df_WM_3opt_AxGrp_demo.columns.difference(include), inplace=True)\n",
        "mask = df_WM_3opt_AxGrp_demo['Question Key'].str.contains('BEGIN QUESTIONNAIRE', na=True) | df_WM_3opt_AxGrp_demo['Question Key'].str.contains('END QUESTIONNAIRE', na=True) | df_WM_3opt_AxGrp_demo['Question Key'].str.contains('quantised', na=True)\n",
        "df_WM_3opt_AxGrp_demo = df_WM_3opt_AxGrp_demo[~mask]\n",
        "df_WM_3opt_AxGrp_demo = df_WM_3opt_AxGrp_demo.dropna()\n",
        "\n",
        "include = ['Participant Private ID', 'Question Key', 'Response']\n",
        "df_WM_3opt_InGrp_demo.drop(columns=df_WM_3opt_InGrp_demo.columns.difference(include), inplace=True)\n",
        "mask = df_WM_3opt_InGrp_demo['Question Key'].str.contains('BEGIN QUESTIONNAIRE', na=True) | df_WM_3opt_InGrp_demo['Question Key'].str.contains('END QUESTIONNAIRE', na=True) | df_WM_3opt_InGrp_demo['Question Key'].str.contains('quantised', na=True)\n",
        "df_WM_3opt_InGrp_demo = df_WM_3opt_InGrp_demo[~mask]\n",
        "df_WM_3opt_InGrp_demo = df_WM_3opt_InGrp_demo.dropna()\n",
        "\n"
      ],
      "metadata": {
        "cellView": "form",
        "id": "VrdIop1qj8Kl"
      },
      "execution_count": 4,
      "outputs": []
    },
    {
      "cell_type": "code",
      "source": [
        "#@title Isolate relevant columns: Exit Questionairre\n",
        "#Isolate relevant columns: Exit Questionairre\n",
        "include = ['Participant Private ID', 'Question Key', 'Response']\n",
        "df_WF_2opt_AxGrp_ExitQ.drop(columns=df_WF_2opt_AxGrp_ExitQ.columns.difference(include), inplace=True)\n",
        "mask = df_WF_2opt_AxGrp_ExitQ['Question Key'].str.contains('BEGIN QUESTIONNAIRE', na=True) | df_WF_2opt_AxGrp_ExitQ['Question Key'].str.contains('END QUESTIONNAIRE', na=True) | df_WF_2opt_AxGrp_ExitQ['Question Key'].str.contains('quantised', na=True)\n",
        "df_WF_2opt_AxGrp_ExitQ = df_WF_2opt_AxGrp_ExitQ[~mask]\n",
        "df_WF_2opt_AxGrp_ExitQ = df_WF_2opt_AxGrp_ExitQ.dropna()\n",
        "\n",
        "include = ['Participant Private ID', 'Question Key', 'Response']\n",
        "df_WF_2opt_InGrp_ExitQ.drop(columns=df_WF_2opt_InGrp_ExitQ.columns.difference(include), inplace=True)\n",
        "mask = df_WF_2opt_InGrp_ExitQ['Question Key'].str.contains('BEGIN QUESTIONNAIRE', na=True) | df_WF_2opt_InGrp_ExitQ['Question Key'].str.contains('END QUESTIONNAIRE', na=True) | df_WF_2opt_InGrp_ExitQ['Question Key'].str.contains('quantised', na=True)\n",
        "df_WF_2opt_InGrp_ExitQ = df_WF_2opt_InGrp_ExitQ[~mask]\n",
        "df_WF_2opt_InGrp_ExitQ = df_WF_2opt_InGrp_ExitQ.dropna()\n",
        "\n",
        "include = ['Participant Private ID', 'Question Key', 'Response']\n",
        "df_WF_3opt_AxGrp_ExitQ.drop(columns=df_WF_3opt_AxGrp_ExitQ.columns.difference(include), inplace=True)\n",
        "mask = df_WF_3opt_AxGrp_ExitQ['Question Key'].str.contains('BEGIN QUESTIONNAIRE', na=True) | df_WF_3opt_AxGrp_ExitQ['Question Key'].str.contains('END QUESTIONNAIRE', na=True) | df_WF_3opt_AxGrp_ExitQ['Question Key'].str.contains('quantised', na=True)\n",
        "df_WF_3opt_AxGrp_ExitQ = df_WF_3opt_AxGrp_ExitQ[~mask]\n",
        "df_WF_3opt_AxGrp_ExitQ = df_WF_3opt_AxGrp_ExitQ.dropna()\n",
        "\n",
        "include = ['Participant Private ID', 'Question Key', 'Response']\n",
        "df_WF_3opt_InGrp_ExitQ.drop(columns=df_WF_3opt_InGrp_ExitQ.columns.difference(include), inplace=True)\n",
        "mask = df_WF_3opt_InGrp_ExitQ['Question Key'].str.contains('BEGIN QUESTIONNAIRE', na=True) | df_WF_3opt_InGrp_ExitQ['Question Key'].str.contains('END QUESTIONNAIRE', na=True) | df_WF_3opt_InGrp_ExitQ['Question Key'].str.contains('quantised', na=True)\n",
        "df_WF_3opt_InGrp_ExitQ = df_WF_3opt_InGrp_ExitQ[~mask]\n",
        "df_WF_3opt_InGrp_ExitQ = df_WF_3opt_InGrp_ExitQ.dropna()\n",
        "\n",
        "include = ['Participant Private ID', 'Question Key', 'Response']\n",
        "df_WM_2opt_AxGrp_ExitQ.drop(columns=df_WM_2opt_AxGrp_ExitQ.columns.difference(include), inplace=True)\n",
        "mask = df_WM_2opt_AxGrp_ExitQ['Question Key'].str.contains('BEGIN QUESTIONNAIRE', na=True) | df_WM_2opt_AxGrp_ExitQ['Question Key'].str.contains('END QUESTIONNAIRE', na=True) | df_WM_2opt_AxGrp_ExitQ['Question Key'].str.contains('quantised', na=True)\n",
        "df_WM_2opt_AxGrp_ExitQ = df_WM_2opt_AxGrp_ExitQ[~mask]\n",
        "df_WM_2opt_AxGrp_ExitQ = df_WM_2opt_AxGrp_ExitQ.dropna()\n",
        "\n",
        "include = ['Participant Private ID', 'Question Key', 'Response']\n",
        "df_WM_2opt_InGrp_ExitQ.drop(columns=df_WM_2opt_InGrp_ExitQ.columns.difference(include), inplace=True)\n",
        "mask = df_WM_2opt_InGrp_ExitQ['Question Key'].str.contains('BEGIN QUESTIONNAIRE', na=True) | df_WM_2opt_InGrp_ExitQ['Question Key'].str.contains('END QUESTIONNAIRE', na=True) | df_WM_2opt_InGrp_ExitQ['Question Key'].str.contains('quantised', na=True)\n",
        "df_WM_2opt_InGrp_ExitQ = df_WM_2opt_InGrp_ExitQ[~mask]\n",
        "df_WM_2opt_InGrp_ExitQ = df_WM_2opt_InGrp_ExitQ.dropna()\n",
        "\n",
        "include = ['Participant Private ID', 'Question Key', 'Response']\n",
        "df_WM_3opt_AxGrp_ExitQ.drop(columns=df_WM_3opt_AxGrp_ExitQ.columns.difference(include), inplace=True)\n",
        "mask = df_WM_3opt_AxGrp_ExitQ['Question Key'].str.contains('BEGIN QUESTIONNAIRE', na=True) | df_WM_3opt_AxGrp_ExitQ['Question Key'].str.contains('END QUESTIONNAIRE', na=True) | df_WM_3opt_AxGrp_ExitQ['Question Key'].str.contains('quantised', na=True)\n",
        "df_WM_3opt_AxGrp_ExitQ = df_WM_3opt_AxGrp_ExitQ[~mask]\n",
        "df_WM_3opt_AxGrp_ExitQ = df_WM_3opt_AxGrp_ExitQ.dropna()\n",
        "\n",
        "include = ['Participant Private ID', 'Question Key', 'Response']\n",
        "df_WM_3opt_InGrp_ExitQ.drop(columns=df_WM_3opt_InGrp_ExitQ.columns.difference(include), inplace=True)\n",
        "mask = df_WM_3opt_InGrp_ExitQ['Question Key'].str.contains('BEGIN QUESTIONNAIRE', na=True) | df_WM_3opt_InGrp_ExitQ['Question Key'].str.contains('END QUESTIONNAIRE', na=True) | df_WM_3opt_InGrp_ExitQ['Question Key'].str.contains('quantised', na=True)\n",
        "df_WM_3opt_InGrp_ExitQ = df_WM_3opt_InGrp_ExitQ[~mask]\n",
        "df_WM_3opt_InGrp_ExitQ = df_WM_3opt_InGrp_ExitQ.dropna()"
      ],
      "metadata": {
        "id": "v9K6UFk1m9eU",
        "cellView": "form"
      },
      "execution_count": 5,
      "outputs": []
    },
    {
      "cell_type": "code",
      "source": [
        "#@title Isolate relevant columns: Adventure Tasks\n",
        "#Isolate relevant columns: Adventure Tasks\n",
        "include = ['Participant Private ID', 'Store: participant', 'Store: outcome', 'Spreadsheet: PlayerAction', 'Tag']\n",
        "df_WF_2opt_AxGrp_Adv.drop(columns=df_WF_2opt_AxGrp_Adv.columns.difference(include), inplace=True)\n",
        "mask = df_WF_2opt_AxGrp_Adv['Tag'].str.contains('decision', na=True)\n",
        "df_WF_2opt_AxGrp_Adv = df_WF_2opt_AxGrp_Adv[mask]\n",
        "df_WF_2opt_AxGrp_Adv = df_WF_2opt_AxGrp_Adv.dropna()\n",
        "df_WF_2opt_AxGrp_Adv.drop(columns=['Tag'], inplace=True)\n",
        "\n",
        "include = ['Participant Private ID', 'Store: participant', 'Store: outcome', 'Spreadsheet: PlayerAction', 'Tag']\n",
        "df_WF_2opt_InGrp_Adv.drop(columns=df_WF_2opt_InGrp_Adv.columns.difference(include), inplace=True)\n",
        "mask = df_WF_2opt_InGrp_Adv['Tag'].str.contains('decision', na=True)\n",
        "df_WF_2opt_InGrp_Adv = df_WF_2opt_InGrp_Adv[mask]\n",
        "df_WF_2opt_InGrp_Adv = df_WF_2opt_InGrp_Adv.dropna()\n",
        "df_WF_2opt_InGrp_Adv.drop(columns=['Tag'], inplace=True)\n",
        "\n",
        "include = ['Participant Private ID', 'Store: participant', 'Store: outcome', 'Spreadsheet: PlayerAction', 'Tag']\n",
        "df_WF_3opt_AxGrp_Adv.drop(columns=df_WF_3opt_AxGrp_Adv.columns.difference(include), inplace=True)\n",
        "mask = df_WF_3opt_AxGrp_Adv['Tag'].str.contains('decision', na=True)\n",
        "df_WF_3opt_AxGrp_Adv = df_WF_3opt_AxGrp_Adv[mask]\n",
        "df_WF_3opt_AxGrp_Adv = df_WF_3opt_AxGrp_Adv.dropna()\n",
        "df_WF_3opt_AxGrp_Adv.drop(columns=['Tag'], inplace=True)\n",
        "\n",
        "include = ['Participant Private ID', 'Store: participant', 'Store: outcome', 'Spreadsheet: PlayerAction', 'Tag']\n",
        "df_WF_3opt_InGrp_Adv.drop(columns=df_WF_3opt_InGrp_Adv.columns.difference(include), inplace=True)\n",
        "mask = df_WF_3opt_InGrp_Adv['Tag'].str.contains('decision', na=True)\n",
        "df_WF_3opt_InGrp_Adv = df_WF_3opt_InGrp_Adv[mask]\n",
        "df_WF_3opt_InGrp_Adv = df_WF_3opt_InGrp_Adv.dropna()\n",
        "df_WF_3opt_InGrp_Adv.drop(columns=['Tag'], inplace=True)\n",
        "\n",
        "include = ['Participant Private ID', 'Store: participant', 'Store: outcome', 'Spreadsheet: PlayerAction', 'Tag']\n",
        "df_WM_2opt_AxGrp_Adv.drop(columns=df_WM_2opt_AxGrp_Adv.columns.difference(include), inplace=True)\n",
        "mask = df_WM_2opt_AxGrp_Adv['Tag'].str.contains('decision', na=True)\n",
        "df_WM_2opt_AxGrp_Adv = df_WM_2opt_AxGrp_Adv[mask]\n",
        "df_WM_2opt_AxGrp_Adv = df_WM_2opt_AxGrp_Adv.dropna()\n",
        "df_WM_2opt_AxGrp_Adv.drop(columns=['Tag'], inplace=True)\n",
        "\n",
        "include = ['Participant Private ID', 'Store: participant', 'Store: outcome', 'Spreadsheet: PlayerAction', 'Tag']\n",
        "df_WM_2opt_InGrp_Adv.drop(columns=df_WM_2opt_InGrp_Adv.columns.difference(include), inplace=True)\n",
        "mask = df_WM_2opt_InGrp_Adv['Tag'].str.contains('decision', na=True)\n",
        "df_WM_2opt_InGrp_Adv = df_WM_2opt_InGrp_Adv[mask]\n",
        "df_WM_2opt_InGrp_Adv = df_WM_2opt_InGrp_Adv.dropna()\n",
        "df_WM_2opt_InGrp_Adv.drop(columns=['Tag'], inplace=True)\n",
        "\n",
        "include = ['Participant Private ID', 'Store: participant', 'Store: outcome', 'Spreadsheet: PlayerAction', 'Tag']\n",
        "df_WM_3opt_AxGrp_Adv.drop(columns=df_WM_3opt_AxGrp_Adv.columns.difference(include), inplace=True)\n",
        "mask = df_WM_3opt_AxGrp_Adv['Tag'].str.contains('decision', na=True)\n",
        "df_WM_3opt_AxGrp_Adv = df_WM_3opt_AxGrp_Adv[mask]\n",
        "df_WM_3opt_AxGrp_Adv = df_WM_3opt_AxGrp_Adv.dropna()\n",
        "df_WM_3opt_AxGrp_Adv.drop(columns=['Tag'], inplace=True)\n",
        "\n",
        "include = ['Participant Private ID', 'Store: participant', 'Store: outcome', 'Spreadsheet: PlayerAction', 'Tag']\n",
        "df_WM_3opt_InGrp_Adv.drop(columns=df_WM_3opt_InGrp_Adv.columns.difference(include), inplace=True)\n",
        "mask = df_WM_3opt_InGrp_Adv['Tag'].str.contains('decision', na=True)\n",
        "df_WM_3opt_InGrp_Adv = df_WM_3opt_InGrp_Adv[mask]\n",
        "df_WM_3opt_InGrp_Adv = df_WM_3opt_InGrp_Adv.dropna()\n",
        "df_WM_3opt_InGrp_Adv.drop(columns=['Tag'], inplace=True)"
      ],
      "metadata": {
        "id": "vEWqSsb5qNTR",
        "cellView": "form"
      },
      "execution_count": 6,
      "outputs": []
    },
    {
      "cell_type": "code",
      "source": [
        "#@title\n",
        "#Isolate relevant columns: Default values\n",
        "#include = ['Zone Name', 'Zone Type', 'Response']\n",
        "#df_default_values = df_default_values[:-1]\n",
        "#df_default_values.drop(columns=df_default_values.columns.difference(include), inplace=True)\n",
        "#mask = df_default_values['Zone Type'].str.contains('drag_and_drop_main', na=True) | df_default_values['Zone Name'].str.contains('Zone10', na=True) \n",
        "#df_default_values = df_default_values[mask]\n",
        "#df_default_values.drop(columns=['Zone Type'], inplace=True)\n",
        "#df_default_values['Zone Name'] = df_default_values['Zone Name'].replace(['conceptA', 'conceptB', 'conceptC', 'conceptD', 'conceptE', 'conceptF', 'conceptG'], ['Police', 'Firefighter', 'Neighbors', 'Conservatives', 'Liberals', 'Healthcare', 'Voting'])\n",
        "#df_default_values = df_default_values.dropna()\n",
        "\n",
        "# List to separate the zone name and coordinates\n",
        "#zone_name = df_default_values['Zone Name'].to_list()\n",
        "#coordinates = df_default_values['Response'].to_list()"
      ],
      "metadata": {
        "id": "6LwvqmKec1MJ",
        "cellView": "form"
      },
      "execution_count": null,
      "outputs": []
    },
    {
      "cell_type": "code",
      "source": [
        "#@title Convert to Pivot dataframes\n",
        "#Demographic\n",
        "df_WF_2opt_AxGrp_demo = df_WF_2opt_AxGrp_demo.pivot(index = 'Participant Private ID', columns = ['Question Key'], values = ['Response']) \n",
        "df_WF_2opt_InGrp_demo = df_WF_2opt_InGrp_demo.pivot(index = 'Participant Private ID', columns = ['Question Key'], values = ['Response']) \n",
        "df_WF_3opt_AxGrp_demo = df_WF_3opt_AxGrp_demo.pivot(index = 'Participant Private ID', columns = ['Question Key'], values = ['Response']) \n",
        "df_WF_3opt_InGrp_demo = df_WF_3opt_InGrp_demo.pivot(index = 'Participant Private ID', columns = ['Question Key'], values = ['Response']) \n",
        "df_WM_2opt_AxGrp_demo = df_WM_2opt_AxGrp_demo.pivot(index = 'Participant Private ID', columns = ['Question Key'], values = ['Response'])\n",
        "df_WM_2opt_InGrp_demo = df_WM_2opt_InGrp_demo.pivot(index = 'Participant Private ID', columns = ['Question Key'], values = ['Response'])\n",
        "df_WM_3opt_AxGrp_demo = df_WM_3opt_AxGrp_demo.pivot(index = 'Participant Private ID', columns = ['Question Key'], values = ['Response'])\n",
        "df_WM_3opt_InGrp_demo = df_WM_3opt_InGrp_demo.pivot(index = 'Participant Private ID', columns = ['Question Key'], values = ['Response'])\n",
        "\n",
        "#Exit Questionnaire\n",
        "df_WF_2opt_AxGrp_ExitQ = df_WF_2opt_AxGrp_ExitQ.pivot(index = 'Participant Private ID', columns = ['Question Key'], values = ['Response']) \n",
        "df_WF_2opt_InGrp_ExitQ = df_WF_2opt_InGrp_ExitQ.pivot(index = 'Participant Private ID', columns = ['Question Key'], values = ['Response']) \n",
        "df_WF_3opt_AxGrp_ExitQ = df_WF_3opt_AxGrp_ExitQ.pivot(index = 'Participant Private ID', columns = ['Question Key'], values = ['Response']) \n",
        "df_WF_3opt_InGrp_ExitQ = df_WF_3opt_InGrp_ExitQ.pivot(index = 'Participant Private ID', columns = ['Question Key'], values = ['Response']) \n",
        "df_WM_2opt_AxGrp_ExitQ = df_WM_2opt_AxGrp_ExitQ.pivot(index = 'Participant Private ID', columns = ['Question Key'], values = ['Response']) \n",
        "df_WM_2opt_InGrp_ExitQ = df_WM_2opt_InGrp_ExitQ.pivot(index = 'Participant Private ID', columns = ['Question Key'], values = ['Response']) \n",
        "df_WM_3opt_AxGrp_ExitQ = df_WM_3opt_AxGrp_ExitQ.pivot(index = 'Participant Private ID', columns = ['Question Key'], values = ['Response']) \n",
        "df_WM_3opt_InGrp_ExitQ = df_WM_3opt_InGrp_ExitQ.pivot(index = 'Participant Private ID', columns = ['Question Key'], values = ['Response']) \n",
        "\n",
        "#Adventure Tasks\n",
        "df_WF_2opt_AxGrp_Adv = df_WF_2opt_AxGrp_Adv.pivot(index = 'Participant Private ID', columns = ['Spreadsheet: PlayerAction'], values = ['Store: outcome']) \n",
        "df_WF_2opt_InGrp_Adv = df_WF_2opt_InGrp_Adv.pivot(index = 'Participant Private ID', columns = ['Spreadsheet: PlayerAction'], values = ['Store: outcome']) \n",
        "#df_WF_3opt_AxGrp_Adv = df_WF_3opt_AxGrp_Adv.pivot(index = 'Participant Private ID', columns = ['Spreadsheet: PlayerAction'], values = ['Store: outcome']) \n",
        "df_WF_3opt_InGrp_Adv = df_WF_3opt_InGrp_Adv.pivot(index = 'Participant Private ID', columns = ['Spreadsheet: PlayerAction'], values = ['Store: outcome']) \n",
        "df_WM_2opt_AxGrp_Adv = df_WM_2opt_AxGrp_Adv.pivot(index = 'Participant Private ID', columns = ['Spreadsheet: PlayerAction'], values = ['Store: outcome']) \n",
        "df_WM_2opt_InGrp_Adv = df_WM_2opt_InGrp_Adv.pivot(index = 'Participant Private ID', columns = ['Spreadsheet: PlayerAction'], values = ['Store: outcome']) \n",
        "df_WM_3opt_AxGrp_Adv = df_WM_3opt_AxGrp_Adv.pivot(index = 'Participant Private ID', columns = ['Spreadsheet: PlayerAction'], values = ['Store: outcome']) \n",
        "df_WM_3opt_InGrp_Adv = df_WM_3opt_InGrp_Adv.pivot(index = 'Participant Private ID', columns = ['Spreadsheet: PlayerAction'], values = ['Store: outcome']) \n"
      ],
      "metadata": {
        "id": "8dzVwNOoDY5V"
      },
      "execution_count": 7,
      "outputs": []
    },
    {
      "cell_type": "code",
      "source": [
        "#THIS NEEDS DEBUGGING\n",
        "#df_WF_3opt_AxGrp_Adv = df_WF_3opt_AxGrp_Adv.pivot(index = 'Store: participant', columns = ['Spreadsheet: PlayerAction'], values = ['Store: outcome']) "
      ],
      "metadata": {
        "id": "Mo9hpImrV9af"
      },
      "execution_count": null,
      "outputs": []
    },
    {
      "cell_type": "code",
      "source": [
        "#@title\n",
        "#TASKS:\n",
        "#TODO: Take last mask out last instance of each concepts. If no isntance is present then use default coordinate. Flag participants that did not move at least half of the concepts (i.e., there are no entries)\n",
        "#df_taskSpAM = df_taskSpAM.groupby(['Participant Completion Code', 'Zone Name'])['Response'].agg(' '.join).reset_index()\n",
        "#df_taskSpAM = df_taskSpAM.pivot(index='Participant Completion Code', columns=['Zone Name'], values='Response')\n",
        "\n",
        "#for i in range(df_taskSpAM.shape[0]):\n",
        "#  for j in range(df_taskSpAM.shape[1]):\n",
        "#    if pd.isna(df_taskSpAM.iloc[i,j]):\n",
        "#      index = zone_name.index(df_taskSpAM.columns[j])\n",
        "#      df_taskSpAM.iloc[i,j] = coordinates[index]\n",
        "\n",
        "# Select the last coordinate input\n",
        "#df_taskSpAM = df_taskSpAM.apply(lambda x: x.str.split(' ').str[-4:])\n",
        "#df_taskSpAM = df_taskSpAM.applymap(lambda x: [x[0], x[2]] if isinstance(x, list) else x)\n",
        "#df_taskSpAM = df_taskSpAM.applymap(lambda x: [int(''.join(filter(str.isdigit, i))) for i in x])\n",
        "#display(df_taskSpAM)\n",
        "\n",
        "#Solution\n",
        "# group values by index column and aggregating the Response values as list. \n",
        "#df_taskPRaM = df_taskPRaM.groupby(['Participant Completion Code', 'Pair'])['Response'].agg(list).reset_index()\n",
        "#df_taskPRaM = df_taskPRaM.pivot(index='Participant Completion Code', columns='Pair', values='Response')\n",
        "\n",
        "# Run the following function to convert Response values from list to float.\n",
        "#df_taskPRaM = df_taskPRaM.applymap(convert_to_float)\n",
        "#display(df_taskPRaM)"
      ],
      "metadata": {
        "cellView": "form",
        "id": "2iQzWwb1PxuQ"
      },
      "execution_count": null,
      "outputs": []
    },
    {
      "cell_type": "code",
      "source": [
        "#Push to Lab GitHub !!!\n",
        "#NOTE: These credentials should be configured to user's lab GitHub\n",
        "#If user is part of ExCaLBBR Lab then ask Roberto for access\n",
        "!git config --global user.name \"\" #\"YOUR CREDIENTIALS HERE\" \n",
        "!git config --global user.email \"\" #\"YOUR CREDIENTIALS HERE\"\n",
        "!git config --global user.password \"\" #\"YOUR CREDIENTIALS HERE\"\n",
        "\n",
        "token = ''\n",
        "username_organization = ''\n",
        "repo = ''\n",
        "outputDir = ''"
      ],
      "metadata": {
        "id": "P1hSBfkRJkYa"
      },
      "execution_count": null,
      "outputs": []
    },
    {
      "cell_type": "code",
      "source": [
        "#Clone repository and move created files into output directory\n",
        "!git clone https://{token}@github.com/{username_organization}/{repo}"
      ],
      "metadata": {
        "id": "RToVhxKCJntE",
        "outputId": "bc28fd19-bc68-4924-b409-f0acab8aaebf",
        "colab": {
          "base_uri": "https://localhost:8080/"
        }
      },
      "execution_count": null,
      "outputs": [
        {
          "output_type": "stream",
          "name": "stdout",
          "text": [
            "Cloning into 'ExCaLBBR_Projects'...\n",
            "remote: Enumerating objects: 543, done.\u001b[K\n",
            "remote: Counting objects: 100% (324/324), done.\u001b[K\n",
            "remote: Compressing objects: 100% (241/241), done.\u001b[K\n",
            "remote: Total 543 (delta 115), reused 217 (delta 78), pack-reused 219\u001b[K\n",
            "Receiving objects: 100% (543/543), 13.25 MiB | 25.51 MiB/s, done.\n",
            "Resolving deltas: 100% (181/181), done.\n"
          ]
        }
      ]
    },
    {
      "cell_type": "code",
      "source": [
        "#Convert all files to csv\n",
        "#Demographic\n",
        "df_WF_2opt_AxGrp_demo.to_csv('df_WF_2opt_AxGrp_demo.csv')\n",
        "df_WF_2opt_InGrp_demo.to_csv('df_WF_2opt_InGrp_demo.csv')\n",
        "df_WF_3opt_AxGrp_demo.to_csv('df_WF_3opt_AxGrp_demo.csv')\n",
        "df_WF_3opt_InGrp_demo.to_csv('df_WF_3opt_InGrp_demo.csv')\n",
        "df_WM_2opt_AxGrp_demo.to_csv('df_WM_2opt_AxGrp_demo.csv')\n",
        "df_WM_2opt_InGrp_demo.to_csv('df_WM_2opt_InGrp_demo.csv')\n",
        "df_WM_3opt_AxGrp_demo.to_csv('df_WM_3opt_AxGrp_demo.csv')\n",
        "df_WM_3opt_InGrp_demo.to_csv('df_WM_3opt_InGrp_demo.csv')\n",
        "\n",
        "#Exit Questionnaire\n",
        "df_WF_2opt_AxGrp_ExitQ.to_csv('df_WF_2opt_AxGrp_ExitQ.csv')\n",
        "df_WF_2opt_InGrp_ExitQ.to_csv('df_WF_2opt_InGrp_ExitQ.csv')\n",
        "df_WF_3opt_AxGrp_ExitQ.to_csv('df_WF_3opt_AxGrp_ExitQ.csv')\n",
        "df_WF_3opt_InGrp_ExitQ.to_csv('df_WF_3opt_InGrp_ExitQ.csv')\n",
        "df_WM_2opt_AxGrp_ExitQ.to_csv('df_WM_2opt_AxGrp_ExitQ.csv')\n",
        "df_WM_2opt_InGrp_ExitQ.to_csv('df_WM_2opt_InGrp_ExitQ.csv')\n",
        "df_WM_3opt_AxGrp_ExitQ.to_csv('df_WM_3opt_AxGrp_ExitQ.csv')\n",
        "df_WM_3opt_InGrp_ExitQ.to_csv('df_WM_3opt_InGrp_ExitQ.csv')\n",
        "\n",
        "#Adventure Task\n",
        "df_WF_2opt_AxGrp_Adv.to_csv('df_WF_2opt_AxGrp_Adv.csv')\n",
        "df_WF_2opt_InGrp_Adv.to_csv('df_WF_2opt_InGrp_Adv.csv')\n",
        "df_WF_3opt_AxGrp_Adv.to_csv('df_WF_3opt_AxGrp_Adv.csv')\n",
        "df_WF_3opt_InGrp_Adv.to_csv('df_WF_3opt_InGrp_Adv.csv')\n",
        "df_WM_2opt_AxGrp_Adv.to_csv('df_WM_2opt_AxGrp_Adv.csv')\n",
        "df_WM_2opt_InGrp_Adv.to_csv('df_WM_2opt_InGrp_Adv.csv')\n",
        "df_WM_3opt_AxGrp_Adv.to_csv('df_WM_3opt_AxGrp_Adv.csv')\n",
        "df_WM_3opt_InGrp_Adv.to_csv('df_WM_3opt_InGrp_Adv.csv')"
      ],
      "metadata": {
        "id": "GHGoq3mGSf5Q"
      },
      "execution_count": null,
      "outputs": []
    },
    {
      "cell_type": "code",
      "source": [
        "#Move files to Clone repository\n",
        "!mv df_WF_2opt_AxGrp_demo.csv {repo}/{outputDir}\n",
        "!mv df_WF_2opt_InGrp_demo.csv {repo}/{outputDir}\n",
        "!mv df_WF_3opt_AxGrp_demo.csv {repo}/{outputDir}\n",
        "!mv df_WF_3opt_InGrp_demo.csv {repo}/{outputDir}\n",
        "!mv df_WM_2opt_AxGrp_demo.csv {repo}/{outputDir}\n",
        "!mv df_WM_2opt_InGrp_demo.csv {repo}/{outputDir}\n",
        "!mv df_WM_3opt_AxGrp_demo.csv {repo}/{outputDir}\n",
        "!mv df_WM_3opt_InGrp_demo.csv {repo}/{outputDir}\n",
        "\n",
        "!mv df_WF_2opt_AxGrp_ExitQ.csv {repo}/{outputDir}\n",
        "!mv df_WF_2opt_InGrp_ExitQ.csv {repo}/{outputDir}\n",
        "!mv df_WF_3opt_AxGrp_ExitQ.csv {repo}/{outputDir}\n",
        "!mv df_WF_3opt_InGrp_ExitQ.csv {repo}/{outputDir}\n",
        "!mv df_WM_2opt_AxGrp_ExitQ.csv {repo}/{outputDir}\n",
        "!mv df_WM_2opt_InGrp_ExitQ.csv {repo}/{outputDir}\n",
        "!mv df_WM_3opt_AxGrp_ExitQ.csv {repo}/{outputDir}\n",
        "!mv df_WM_3opt_InGrp_ExitQ.csv {repo}/{outputDir}\n",
        "\n",
        "!mv df_WF_2opt_AxGrp_Adv.csv {repo}/{outputDir}\n",
        "!mv df_WF_2opt_InGrp_Adv.csv {repo}/{outputDir}\n",
        "!mv df_WF_3opt_AxGrp_Adv.csv {repo}/{outputDir}\n",
        "!mv df_WF_3opt_InGrp_Adv.csv {repo}/{outputDir}\n",
        "!mv df_WM_2opt_AxGrp_Adv.csv {repo}/{outputDir}\n",
        "!mv df_WM_2opt_InGrp_Adv.csv {repo}/{outputDir}\n",
        "!mv df_WM_3opt_AxGrp_Adv.csv {repo}/{outputDir}\n",
        "!mv df_WM_3opt_InGrp_Adv.csv {repo}/{outputDir}"
      ],
      "metadata": {
        "id": "8QzFtkfER0-3"
      },
      "execution_count": null,
      "outputs": []
    },
    {
      "cell_type": "code",
      "source": [
        "#Move to principle dir, commit, and push changes\n",
        "%cd {repo}\n",
        "!git add --all\n",
        "!git commit -a -m \"created base files\"\n",
        "!git push origin"
      ],
      "metadata": {
        "id": "GhSx52_aMfPs"
      },
      "execution_count": null,
      "outputs": []
    }
  ]
}
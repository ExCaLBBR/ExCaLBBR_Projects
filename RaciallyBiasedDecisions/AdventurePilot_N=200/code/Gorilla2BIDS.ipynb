{
  "nbformat": 4,
  "nbformat_minor": 0,
  "metadata": {
    "colab": {
      "provenance": [],
      "include_colab_link": true
    },
    "kernelspec": {
      "name": "python3",
      "display_name": "Python 3"
    },
    "language_info": {
      "name": "python"
    }
  },
  "cells": [
    {
      "cell_type": "markdown",
      "metadata": {
        "id": "view-in-github",
        "colab_type": "text"
      },
      "source": [
        "<a href=\"https://colab.research.google.com/github/ExCaLBBR/ExCaLBBR_Projects/blob/main/RaciallyBiasedDecisions/AdventurePilot_N%3D200/code/Gorilla2BIDS.ipynb\" target=\"_parent\"><img src=\"https://colab.research.google.com/assets/colab-badge.svg\" alt=\"Open In Colab\"/></a>"
      ]
    },
    {
      "cell_type": "markdown",
      "source": [
        "Gorilla Info: <br>\n",
        "Project: RaciallyBiasedDecisions_APF_Pilot_n-200 <br>\n",
        "Version: 8studies (versions vary) <br>\n",
        "Account: Roberto Vargas (robertov@andrew.cmu.edu) "
      ],
      "metadata": {
        "id": "C9mud3ByqVgH"
      }
    },
    {
      "cell_type": "code",
      "source": [
        "#Load relevant libraries and install dependencies\n",
        "import pandas as pd\n",
        "import numpy as np\n",
        "import re"
      ],
      "metadata": {
        "id": "08gBma2_ivoE"
      },
      "execution_count": 1,
      "outputs": []
    },
    {
      "cell_type": "code",
      "source": [
        "# function to convert values in the pivot values from list to float for PRaM and SPaM\n",
        "def convert_to_float(x):\n",
        "    if isinstance(x, list):\n",
        "        return float(x[0]) # assuming there is only one value in the list\n",
        "    else:\n",
        "        return x"
      ],
      "metadata": {
        "id": "3dArzVdYA-mz"
      },
      "execution_count": 2,
      "outputs": []
    },
    {
      "cell_type": "code",
      "source": [
        "#@title Load Data\n",
        "#Load Data:\n",
        "\n",
        "#QUESTIONAIRRES:\n",
        "#Demographics\n",
        "url = 'https://raw.githubusercontent.com/ExCaLBBR/ExCaLBBR_Projects/main/RaciallyBiasedDecisions/AdventurePilot_N%3D200/data/raw/WF_2opt_AxGrp_demo.csv'\n",
        "df_WF_2opt_AxGrp_demo = pd.read_csv(url)\n",
        "url = 'https://raw.githubusercontent.com/ExCaLBBR/ExCaLBBR_Projects/main/RaciallyBiasedDecisions/AdventurePilot_N%3D200/data/raw/WF_2opt_InGrp_demo.csv'\n",
        "df_WF_2opt_InGrp_demo = pd.read_csv(url)\n",
        "url = 'https://raw.githubusercontent.com/ExCaLBBR/ExCaLBBR_Projects/main/RaciallyBiasedDecisions/AdventurePilot_N%3D200/data/raw/WF_3opt_AxGrp_demo.csv'\n",
        "df_WF_3opt_AxGrp_demo = pd.read_csv(url)\n",
        "url = 'https://raw.githubusercontent.com/ExCaLBBR/ExCaLBBR_Projects/main/RaciallyBiasedDecisions/AdventurePilot_N%3D200/data/raw/WF_3opt_InGrp_demo.csv'\n",
        "df_WF_3opt_InGrp_demo = pd.read_csv(url)\n",
        "url = 'https://raw.githubusercontent.com/ExCaLBBR/ExCaLBBR_Projects/main/RaciallyBiasedDecisions/AdventurePilot_N%3D200/data/raw/WM_2opt_AxGrp_demo.csv'\n",
        "df_WM_2opt_AxGrp_demo = pd.read_csv(url)\n",
        "url = 'https://raw.githubusercontent.com/ExCaLBBR/ExCaLBBR_Projects/main/RaciallyBiasedDecisions/AdventurePilot_N%3D200/data/raw/WM_2opt_InGrp_demo.csv'\n",
        "df_WM_2opt_InGrp_demo = pd.read_csv(url)\n",
        "url = 'https://raw.githubusercontent.com/ExCaLBBR/ExCaLBBR_Projects/main/RaciallyBiasedDecisions/AdventurePilot_N%3D200/data/raw/WM_3opt_AxGrp_demo.csv'\n",
        "df_WM_3opt_AxGrp_demo = pd.read_csv(url)\n",
        "url = 'https://raw.githubusercontent.com/ExCaLBBR/ExCaLBBR_Projects/main/RaciallyBiasedDecisions/AdventurePilot_N%3D200/data/raw/WM_3opt_InGrp_demo.csv'\n",
        "df_WM_3opt_InGrp_demo = pd.read_csv(url)\n",
        "\n",
        "#Exit Questionairre\n",
        "url = 'https://raw.githubusercontent.com/ExCaLBBR/ExCaLBBR_Projects/main/RaciallyBiasedDecisions/AdventurePilot_N%3D200/data/raw/WF_2opt_AxGrp_ExitQ.csv'\n",
        "df_WF_2opt_AxGrp_ExitQ = pd.read_csv(url)\n",
        "url = 'https://raw.githubusercontent.com/ExCaLBBR/ExCaLBBR_Projects/main/RaciallyBiasedDecisions/AdventurePilot_N%3D200/data/raw/WF_2opt_InGrp_ExitQ.csv'\n",
        "df_WF_2opt_InGrp_ExitQ = pd.read_csv(url)\n",
        "url = 'https://raw.githubusercontent.com/ExCaLBBR/ExCaLBBR_Projects/main/RaciallyBiasedDecisions/AdventurePilot_N%3D200/data/raw/WF_3opt_AxGrp_ExitQ.csv'\n",
        "df_WF_3opt_AxGrp_ExitQ = pd.read_csv(url)\n",
        "url = 'https://raw.githubusercontent.com/ExCaLBBR/ExCaLBBR_Projects/main/RaciallyBiasedDecisions/AdventurePilot_N%3D200/data/raw/WF_3opt_InGrp_ExitQ.csv'\n",
        "df_WF_3opt_InGrp_ExitQ = pd.read_csv(url)\n",
        "url = 'https://raw.githubusercontent.com/ExCaLBBR/ExCaLBBR_Projects/main/RaciallyBiasedDecisions/AdventurePilot_N%3D200/data/raw/WM_2opt_AxGrp_ExitQ.csv'\n",
        "df_WM_2opt_AxGrp_ExitQ = pd.read_csv(url)\n",
        "url = 'https://raw.githubusercontent.com/ExCaLBBR/ExCaLBBR_Projects/main/RaciallyBiasedDecisions/AdventurePilot_N%3D200/data/raw/WM_2opt_InGrp_ExitQ.csv'\n",
        "df_WM_2opt_InGrp_ExitQ = pd.read_csv(url)\n",
        "url = 'https://raw.githubusercontent.com/ExCaLBBR/ExCaLBBR_Projects/main/RaciallyBiasedDecisions/AdventurePilot_N%3D200/data/raw/WM_3opt_AxGrp_ExitQ.csv'\n",
        "df_WM_3opt_AxGrp_ExitQ = pd.read_csv(url)\n",
        "url = 'https://raw.githubusercontent.com/ExCaLBBR/ExCaLBBR_Projects/main/RaciallyBiasedDecisions/AdventurePilot_N%3D200/data/raw/WM_3opt_InGrp_ExitQ.csv'\n",
        "df_WM_3opt_InGrp_ExitQ = pd.read_csv(url)\n",
        "\n",
        "#TASKS:\n",
        "#Adventure Tasks\n",
        "url = 'https://raw.githubusercontent.com/ExCaLBBR/ExCaLBBR_Projects/main/RaciallyBiasedDecisions/AdventurePilot_N%3D200/data/raw/WF_2opt_AxGrp_Adv.csv'\n",
        "df_WF_2opt_AxGrp_Adv = pd.read_csv(url)\n",
        "url = 'https://raw.githubusercontent.com/ExCaLBBR/ExCaLBBR_Projects/main/RaciallyBiasedDecisions/AdventurePilot_N%3D200/data/raw/WF_2opt_InGrp_Adv.csv'\n",
        "df_WF_2opt_InGrp_Adv = pd.read_csv(url)\n",
        "url = 'https://raw.githubusercontent.com/ExCaLBBR/ExCaLBBR_Projects/main/RaciallyBiasedDecisions/AdventurePilot_N%3D200/data/raw/WF_3opt_AxGrp_Adv.csv'\n",
        "df_WF_3opt_AxGrp_Adv = pd.read_csv(url)\n",
        "url = 'https://raw.githubusercontent.com/ExCaLBBR/ExCaLBBR_Projects/main/RaciallyBiasedDecisions/AdventurePilot_N%3D200/data/raw/WF_3opt_InGrp_Adv.csv'\n",
        "df_WF_3opt_InGrp_Adv = pd.read_csv(url)\n",
        "url = 'https://raw.githubusercontent.com/ExCaLBBR/ExCaLBBR_Projects/main/RaciallyBiasedDecisions/AdventurePilot_N%3D200/data/raw/WM_2opt_AxGrp_Adv.csv'\n",
        "df_WM_2opt_AxGrp_Adv = pd.read_csv(url)\n",
        "url = 'https://raw.githubusercontent.com/ExCaLBBR/ExCaLBBR_Projects/main/RaciallyBiasedDecisions/AdventurePilot_N%3D200/data/raw/WM_2opt_InGrp_Adv.csv'\n",
        "df_WM_2opt_InGrp_Adv = pd.read_csv(url)\n",
        "url = 'https://raw.githubusercontent.com/ExCaLBBR/ExCaLBBR_Projects/main/RaciallyBiasedDecisions/AdventurePilot_N%3D200/data/raw/WM_3opt_AxGrp_Adv.csv'\n",
        "df_WM_3opt_AxGrp_Adv = pd.read_csv(url)\n",
        "url = 'https://raw.githubusercontent.com/ExCaLBBR/ExCaLBBR_Projects/main/RaciallyBiasedDecisions/AdventurePilot_N%3D200/data/raw/WM_3opt_InGrp_Adv.csv'\n",
        "df_WM_3opt_InGrp_Adv = pd.read_csv(url)\n"
      ],
      "metadata": {
        "id": "NA7mXjvZZldd",
        "cellView": "form"
      },
      "execution_count": 3,
      "outputs": []
    },
    {
      "cell_type": "code",
      "source": [
        "#@title Isolate relevant columns: Demographics\n",
        "#Isolate relevant columns: Demographics\n",
        "include = ['Participant Private ID', 'Question Key', 'Response']\n",
        "df_WF_2opt_AxGrp_demo.drop(columns=df_WF_2opt_AxGrp_demo.columns.difference(include), inplace=True)\n",
        "mask = df_WF_2opt_AxGrp_demo['Question Key'].str.contains('BEGIN QUESTIONNAIRE', na=True) | df_WF_2opt_AxGrp_demo['Question Key'].str.contains('END QUESTIONNAIRE', na=True) | df_WF_2opt_AxGrp_demo['Question Key'].str.contains('quantised', na=True)\n",
        "df_WF_2opt_AxGrp_demo = df_WF_2opt_AxGrp_demo[~mask]\n",
        "df_WF_2opt_AxGrp_demo = df_WF_2opt_AxGrp_demo.dropna()\n",
        "\n",
        "include = ['Participant Private ID', 'Question Key', 'Response']\n",
        "df_WF_2opt_InGrp_demo.drop(columns=df_WF_2opt_InGrp_demo.columns.difference(include), inplace=True)\n",
        "mask = df_WF_2opt_InGrp_demo['Question Key'].str.contains('BEGIN QUESTIONNAIRE', na=True) | df_WF_2opt_InGrp_demo['Question Key'].str.contains('END QUESTIONNAIRE', na=True) | df_WF_2opt_InGrp_demo['Question Key'].str.contains('quantised', na=True)\n",
        "df_WF_2opt_InGrp_demo = df_WF_2opt_InGrp_demo[~mask]\n",
        "df_WF_2opt_InGrp_demo = df_WF_2opt_InGrp_demo.dropna()\n",
        "\n",
        "include = ['Participant Private ID', 'Question Key', 'Response']\n",
        "df_WF_3opt_AxGrp_demo.drop(columns=df_WF_3opt_AxGrp_demo.columns.difference(include), inplace=True)\n",
        "mask = df_WF_3opt_AxGrp_demo['Question Key'].str.contains('BEGIN QUESTIONNAIRE', na=True) | df_WF_3opt_AxGrp_demo['Question Key'].str.contains('END QUESTIONNAIRE', na=True) | df_WF_3opt_AxGrp_demo['Question Key'].str.contains('quantised', na=True)\n",
        "df_WF_3opt_AxGrp_demo = df_WF_3opt_AxGrp_demo[~mask]\n",
        "df_WF_3opt_AxGrp_demo = df_WF_3opt_AxGrp_demo.dropna()\n",
        "\n",
        "include = ['Participant Private ID', 'Question Key', 'Response']\n",
        "df_WF_3opt_InGrp_demo.drop(columns=df_WF_3opt_InGrp_demo.columns.difference(include), inplace=True)\n",
        "mask = df_WF_3opt_InGrp_demo['Question Key'].str.contains('BEGIN QUESTIONNAIRE', na=True) | df_WF_3opt_InGrp_demo['Question Key'].str.contains('END QUESTIONNAIRE', na=True) | df_WF_3opt_InGrp_demo['Question Key'].str.contains('quantised', na=True)\n",
        "df_WF_3opt_InGrp_demo = df_WF_3opt_InGrp_demo[~mask]\n",
        "df_WF_3opt_InGrp_demo = df_WF_3opt_InGrp_demo.dropna()\n",
        "\n",
        "include = ['Participant Private ID', 'Question Key', 'Response']\n",
        "df_WM_2opt_AxGrp_demo.drop(columns=df_WM_2opt_AxGrp_demo.columns.difference(include), inplace=True)\n",
        "mask = df_WM_2opt_AxGrp_demo['Question Key'].str.contains('BEGIN QUESTIONNAIRE', na=True) | df_WM_2opt_AxGrp_demo['Question Key'].str.contains('END QUESTIONNAIRE', na=True) | df_WM_2opt_AxGrp_demo['Question Key'].str.contains('quantised', na=True)\n",
        "df_WM_2opt_AxGrp_demo = df_WM_2opt_AxGrp_demo[~mask]\n",
        "df_WM_2opt_AxGrp_demo = df_WM_2opt_AxGrp_demo.dropna()\n",
        "\n",
        "include = ['Participant Private ID', 'Question Key', 'Response']\n",
        "df_WM_2opt_InGrp_demo.drop(columns=df_WM_2opt_InGrp_demo.columns.difference(include), inplace=True)\n",
        "mask = df_WM_2opt_InGrp_demo['Question Key'].str.contains('BEGIN QUESTIONNAIRE', na=True) | df_WM_2opt_InGrp_demo['Question Key'].str.contains('END QUESTIONNAIRE', na=True) | df_WM_2opt_InGrp_demo['Question Key'].str.contains('quantised', na=True)\n",
        "df_WM_2opt_InGrp_demo = df_WM_2opt_InGrp_demo[~mask]\n",
        "df_WM_2opt_InGrp_demo = df_WM_2opt_InGrp_demo.dropna()\n",
        "\n",
        "include = ['Participant Private ID', 'Question Key', 'Response']\n",
        "df_WM_3opt_AxGrp_demo.drop(columns=df_WM_3opt_AxGrp_demo.columns.difference(include), inplace=True)\n",
        "mask = df_WM_3opt_AxGrp_demo['Question Key'].str.contains('BEGIN QUESTIONNAIRE', na=True) | df_WM_3opt_AxGrp_demo['Question Key'].str.contains('END QUESTIONNAIRE', na=True) | df_WM_3opt_AxGrp_demo['Question Key'].str.contains('quantised', na=True)\n",
        "df_WM_3opt_AxGrp_demo = df_WM_3opt_AxGrp_demo[~mask]\n",
        "df_WM_3opt_AxGrp_demo = df_WM_3opt_AxGrp_demo.dropna()\n",
        "\n",
        "include = ['Participant Private ID', 'Question Key', 'Response']\n",
        "df_WM_3opt_InGrp_demo.drop(columns=df_WM_3opt_InGrp_demo.columns.difference(include), inplace=True)\n",
        "mask = df_WM_3opt_InGrp_demo['Question Key'].str.contains('BEGIN QUESTIONNAIRE', na=True) | df_WM_3opt_InGrp_demo['Question Key'].str.contains('END QUESTIONNAIRE', na=True) | df_WM_3opt_InGrp_demo['Question Key'].str.contains('quantised', na=True)\n",
        "df_WM_3opt_InGrp_demo = df_WM_3opt_InGrp_demo[~mask]\n",
        "df_WM_3opt_InGrp_demo = df_WM_3opt_InGrp_demo.dropna()\n",
        "\n"
      ],
      "metadata": {
        "cellView": "form",
        "id": "VrdIop1qj8Kl"
      },
      "execution_count": 7,
      "outputs": []
    },
    {
      "cell_type": "code",
      "source": [
        "#@title Isolate relevant columns: Exit Questionairre\n",
        "#Isolate relevant columns: Exit Questionairre\n",
        "include = ['Participant Private ID', 'Question Key', 'Response']\n",
        "df_WF_2opt_AxGrp_ExitQ.drop(columns=df_WF_2opt_AxGrp_ExitQ.columns.difference(include), inplace=True)\n",
        "mask = df_WF_2opt_AxGrp_ExitQ['Question Key'].str.contains('BEGIN QUESTIONNAIRE', na=True) | df_WF_2opt_AxGrp_ExitQ['Question Key'].str.contains('END QUESTIONNAIRE', na=True) | df_WF_2opt_AxGrp_ExitQ['Question Key'].str.contains('quantised', na=True)\n",
        "df_WF_2opt_AxGrp_ExitQ = df_WF_2opt_AxGrp_ExitQ[~mask]\n",
        "df_WF_2opt_AxGrp_ExitQ = df_WF_2opt_AxGrp_ExitQ.dropna()\n",
        "\n",
        "include = ['Participant Private ID', 'Question Key', 'Response']\n",
        "df_WF_2opt_InGrp_ExitQ.drop(columns=df_WF_2opt_InGrp_ExitQ.columns.difference(include), inplace=True)\n",
        "mask = df_WF_2opt_InGrp_ExitQ['Question Key'].str.contains('BEGIN QUESTIONNAIRE', na=True) | df_WF_2opt_InGrp_ExitQ['Question Key'].str.contains('END QUESTIONNAIRE', na=True) | df_WF_2opt_InGrp_ExitQ['Question Key'].str.contains('quantised', na=True)\n",
        "df_WF_2opt_InGrp_ExitQ = df_WF_2opt_InGrp_ExitQ[~mask]\n",
        "df_WF_2opt_InGrp_ExitQ = df_WF_2opt_InGrp_ExitQ.dropna()\n",
        "\n",
        "include = ['Participant Private ID', 'Question Key', 'Response']\n",
        "df_WF_3opt_AxGrp_ExitQ.drop(columns=df_WF_3opt_AxGrp_ExitQ.columns.difference(include), inplace=True)\n",
        "mask = df_WF_3opt_AxGrp_ExitQ['Question Key'].str.contains('BEGIN QUESTIONNAIRE', na=True) | df_WF_3opt_AxGrp_ExitQ['Question Key'].str.contains('END QUESTIONNAIRE', na=True) | df_WF_3opt_AxGrp_ExitQ['Question Key'].str.contains('quantised', na=True)\n",
        "df_WF_3opt_AxGrp_ExitQ = df_WF_3opt_AxGrp_ExitQ[~mask]\n",
        "df_WF_3opt_AxGrp_ExitQ = df_WF_3opt_AxGrp_ExitQ.dropna()\n",
        "\n",
        "include = ['Participant Private ID', 'Question Key', 'Response']\n",
        "df_WF_3opt_InGrp_ExitQ.drop(columns=df_WF_3opt_InGrp_ExitQ.columns.difference(include), inplace=True)\n",
        "mask = df_WF_3opt_InGrp_ExitQ['Question Key'].str.contains('BEGIN QUESTIONNAIRE', na=True) | df_WF_3opt_InGrp_ExitQ['Question Key'].str.contains('END QUESTIONNAIRE', na=True) | df_WF_3opt_InGrp_ExitQ['Question Key'].str.contains('quantised', na=True)\n",
        "df_WF_3opt_InGrp_ExitQ = df_WF_3opt_InGrp_ExitQ[~mask]\n",
        "df_WF_3opt_InGrp_ExitQ = df_WF_3opt_InGrp_ExitQ.dropna()\n",
        "\n",
        "include = ['Participant Private ID', 'Question Key', 'Response']\n",
        "df_WM_2opt_AxGrp_ExitQ.drop(columns=df_WM_2opt_AxGrp_ExitQ.columns.difference(include), inplace=True)\n",
        "mask = df_WM_2opt_AxGrp_ExitQ['Question Key'].str.contains('BEGIN QUESTIONNAIRE', na=True) | df_WM_2opt_AxGrp_ExitQ['Question Key'].str.contains('END QUESTIONNAIRE', na=True) | df_WM_2opt_AxGrp_ExitQ['Question Key'].str.contains('quantised', na=True)\n",
        "df_WM_2opt_AxGrp_ExitQ = df_WM_2opt_AxGrp_ExitQ[~mask]\n",
        "df_WM_2opt_AxGrp_ExitQ = df_WM_2opt_AxGrp_ExitQ.dropna()\n",
        "\n",
        "include = ['Participant Private ID', 'Question Key', 'Response']\n",
        "df_WM_2opt_InGrp_ExitQ.drop(columns=df_WM_2opt_InGrp_ExitQ.columns.difference(include), inplace=True)\n",
        "mask = df_WM_2opt_InGrp_ExitQ['Question Key'].str.contains('BEGIN QUESTIONNAIRE', na=True) | df_WM_2opt_InGrp_ExitQ['Question Key'].str.contains('END QUESTIONNAIRE', na=True) | df_WM_2opt_InGrp_ExitQ['Question Key'].str.contains('quantised', na=True)\n",
        "df_WM_2opt_InGrp_ExitQ = df_WM_2opt_InGrp_ExitQ[~mask]\n",
        "df_WM_2opt_InGrp_ExitQ = df_WM_2opt_InGrp_ExitQ.dropna()\n",
        "\n",
        "include = ['Participant Private ID', 'Question Key', 'Response']\n",
        "df_WM_3opt_AxGrp_ExitQ.drop(columns=df_WM_3opt_AxGrp_ExitQ.columns.difference(include), inplace=True)\n",
        "mask = df_WM_3opt_AxGrp_ExitQ['Question Key'].str.contains('BEGIN QUESTIONNAIRE', na=True) | df_WM_3opt_AxGrp_ExitQ['Question Key'].str.contains('END QUESTIONNAIRE', na=True) | df_WM_3opt_AxGrp_ExitQ['Question Key'].str.contains('quantised', na=True)\n",
        "df_WM_3opt_AxGrp_ExitQ = df_WM_3opt_AxGrp_ExitQ[~mask]\n",
        "df_WM_3opt_AxGrp_ExitQ = df_WM_3opt_AxGrp_ExitQ.dropna()\n",
        "\n",
        "include = ['Participant Private ID', 'Question Key', 'Response']\n",
        "df_WM_3opt_InGrp_ExitQ.drop(columns=df_WM_3opt_InGrp_ExitQ.columns.difference(include), inplace=True)\n",
        "mask = df_WM_3opt_InGrp_ExitQ['Question Key'].str.contains('BEGIN QUESTIONNAIRE', na=True) | df_WM_3opt_InGrp_ExitQ['Question Key'].str.contains('END QUESTIONNAIRE', na=True) | df_WM_3opt_InGrp_ExitQ['Question Key'].str.contains('quantised', na=True)\n",
        "df_WM_3opt_InGrp_ExitQ = df_WM_3opt_InGrp_ExitQ[~mask]\n",
        "df_WM_3opt_InGrp_ExitQ = df_WM_3opt_InGrp_ExitQ.dropna()"
      ],
      "metadata": {
        "id": "v9K6UFk1m9eU"
      },
      "execution_count": 10,
      "outputs": []
    },
    {
      "cell_type": "code",
      "source": [
        "#Isolate relevant columns: Adventure Tasks\n",
        "include = ['Participant Private ID', 'Store: participant', 'Store: outcome', 'Spreadsheet: PlayerAction', 'Tag']\n",
        "df_WF_2opt_AxGrp_Adv.drop(columns=df_WF_2opt_AxGrp_Adv.columns.difference(include), inplace=True)\n",
        "mask = df_WF_2opt_AxGrp_Adv['Tag'].str.contains('decision', na=True)\n",
        "df_WM_3opt_InGrp_ExitQ = df_WM_3opt_InGrp_ExitQ[~mask]\n",
        "df_WM_3opt_InGrp_ExitQ = df_WM_3opt_InGrp_ExitQ.dropna()\n",
        "\n",
        "\n",
        "\n",
        "#mask = df_WF_2opt_AxGrp_Adv['Zone Name'].str.contains('Likert', na=True)\n",
        "#df_WF_2opt_AxGrp_Adv = df_WF_2opt_AxGrp_Adv[mask]\n",
        "#df_WF_2opt_AxGrp_Adv = df_WF_2opt_AxGrp_Adv.dropna()\n",
        "#df_WF_2opt_AxGrp_Adv.drop(columns=['Zone Name'], inplace=True)\n",
        "#df_WF_2opt_AxGrp_Adv['Pair'] = df_WF_2opt_AxGrp_Adv['conceptA'] + '-' + df_WF_2opt_AxGrp_Adv['conceptB']\n",
        "#df_WF_2opt_AxGrp_Adv.drop(columns=['conceptA', 'conceptB'], inplace=True)\n",
        "# display(df_WF_2opt_AxGrp_Adv)"
      ],
      "metadata": {
        "id": "vEWqSsb5qNTR"
      },
      "execution_count": null,
      "outputs": []
    },
    {
      "cell_type": "code",
      "source": [
        "#Isolate relevant columns: PRaM\n",
        "include = ['Participant Completion Code', 'Zone Name', 'conceptA', 'conceptB', 'Response']\n",
        "df_taskPRaM.drop(columns=df_taskPRaM.columns.difference(include), inplace=True)\n",
        "mask = df_taskPRaM['Zone Name'].str.contains('Likert', na=True)\n",
        "df_taskPRaM = df_taskPRaM[mask]\n",
        "df_taskPRaM = df_taskPRaM.dropna()\n",
        "df_taskPRaM.drop(columns=['Zone Name'], inplace=True)\n",
        "df_taskPRaM['Pair'] = df_taskPRaM['conceptA'] + '-' + df_taskPRaM['conceptB']\n",
        "df_taskPRaM.drop(columns=['conceptA', 'conceptB'], inplace=True)\n",
        "# display(df_taskPRaM)\n",
        "\n",
        "# #Isolate relevant columns: SpAM\n",
        "#Isolate relevant columns: SpAM\n",
        "include = ['Participant Completion Code', 'Zone Name', 'Zone Type', 'Response']\n",
        "df_taskSpAM = df_taskSpAM[:-1]\n",
        "mask = df_taskSpAM['Trial Number'].str.contains('BEGIN TASK', na=True) | df_taskSpAM['Trial Number'].str.contains('END TASK', na=True)\n",
        "df_taskSpAM = df_taskSpAM[~mask]\n",
        "df_taskSpAM.drop(columns=df_taskSpAM.columns.difference(include), inplace=True)\n",
        "mask = df_taskSpAM['Zone Type'].str.contains('drag_and_drop_main', na=True) | df_taskSpAM['Zone Name'].str.contains('Zone10', na=True) \n",
        "df_taskSpAM = df_taskSpAM[mask]\n",
        "df_taskSpAM.drop(columns=['Zone Type'], inplace=True)\n",
        "df_taskSpAM['Zone Name'] = df_taskSpAM['Zone Name'].replace(['conceptA', 'conceptB', 'conceptC', 'conceptD', 'conceptE', 'conceptF', 'conceptG'], ['Police', 'Firefighter', 'Neighbors', 'Conservatives', 'Liberals', 'Healthcare', 'Voting'])\n",
        "df_taskSpAM = df_taskSpAM.dropna()\n",
        "#display(df_taskSpAM)\n",
        "\n",
        "#Isolate relevant columns: Default values\n",
        "include = ['Zone Name', 'Zone Type', 'Response']\n",
        "df_default_values = df_default_values[:-1]\n",
        "df_default_values.drop(columns=df_default_values.columns.difference(include), inplace=True)\n",
        "mask = df_default_values['Zone Type'].str.contains('drag_and_drop_main', na=True) | df_default_values['Zone Name'].str.contains('Zone10', na=True) \n",
        "df_default_values = df_default_values[mask]\n",
        "df_default_values.drop(columns=['Zone Type'], inplace=True)\n",
        "df_default_values['Zone Name'] = df_default_values['Zone Name'].replace(['conceptA', 'conceptB', 'conceptC', 'conceptD', 'conceptE', 'conceptF', 'conceptG'], ['Police', 'Firefighter', 'Neighbors', 'Conservatives', 'Liberals', 'Healthcare', 'Voting'])\n",
        "df_default_values = df_default_values.dropna()\n",
        "\n",
        "# List to separate the zone name and coordinates\n",
        "zone_name = df_default_values['Zone Name'].to_list()\n",
        "coordinates = df_default_values['Response'].to_list()"
      ],
      "metadata": {
        "colab": {
          "base_uri": "https://localhost:8080/"
        },
        "id": "6LwvqmKec1MJ",
        "outputId": "de85692a-dd48-42ab-a869-09883e1e396e"
      },
      "execution_count": null,
      "outputs": [
        {
          "output_type": "stream",
          "name": "stderr",
          "text": [
            "<ipython-input-4-60de4479e3ff>:88: SettingWithCopyWarning: \n",
            "A value is trying to be set on a copy of a slice from a DataFrame\n",
            "\n",
            "See the caveats in the documentation: https://pandas.pydata.org/pandas-docs/stable/user_guide/indexing.html#returning-a-view-versus-a-copy\n",
            "  df_taskPRaM.drop(columns=['Zone Name'], inplace=True)\n",
            "<ipython-input-4-60de4479e3ff>:89: SettingWithCopyWarning: \n",
            "A value is trying to be set on a copy of a slice from a DataFrame.\n",
            "Try using .loc[row_indexer,col_indexer] = value instead\n",
            "\n",
            "See the caveats in the documentation: https://pandas.pydata.org/pandas-docs/stable/user_guide/indexing.html#returning-a-view-versus-a-copy\n",
            "  df_taskPRaM['Pair'] = df_taskPRaM['conceptA'] + '-' + df_taskPRaM['conceptB']\n",
            "<ipython-input-4-60de4479e3ff>:90: SettingWithCopyWarning: \n",
            "A value is trying to be set on a copy of a slice from a DataFrame\n",
            "\n",
            "See the caveats in the documentation: https://pandas.pydata.org/pandas-docs/stable/user_guide/indexing.html#returning-a-view-versus-a-copy\n",
            "  df_taskPRaM.drop(columns=['conceptA', 'conceptB'], inplace=True)\n",
            "<ipython-input-4-60de4479e3ff>:110: SettingWithCopyWarning: \n",
            "A value is trying to be set on a copy of a slice from a DataFrame\n",
            "\n",
            "See the caveats in the documentation: https://pandas.pydata.org/pandas-docs/stable/user_guide/indexing.html#returning-a-view-versus-a-copy\n",
            "  df_default_values.drop(columns=df_default_values.columns.difference(include), inplace=True)\n"
          ]
        }
      ]
    },
    {
      "cell_type": "code",
      "source": [
        "#Isolate Pivot dataframes\n",
        "df_demographic = df_demographic.pivot(index = 'Participant Completion Code', columns = ['Question Key'], values = ['Response']) #Demographics\n",
        "#display(df_demographic)\n",
        "\n",
        "df_EthId = df_EthId.pivot(index = 'Participant Completion Code', columns = ['Question Key'], values = ['Response']) #Ethnic Identity\n",
        "#display(df_EthId)\n",
        "\n",
        "df_MIBI = df_MIBI.pivot(index = 'Participant Completion Code', columns = ['Question Key'], values = ['Response']) #Multidimensional Inventory of Black Identity\n",
        "#display(df_MIBI)\n",
        "\n",
        "df_News = df_News.pivot(index = 'Participant Completion Code', columns = ['Question Key'], values = ['Response']) #News Consumption\n",
        "#display(df_News)\n",
        "\n",
        "df_GRDiscrim = df_GRDiscrim.pivot(index = 'Participant Completion Code', columns = ['Question Key'], values = ['Response']) #Gender/Racial Discrimination\n",
        "#display(df_GRDiscrim)\n",
        "\n",
        "df_ConExposure = df_ConExposure.pivot(index = 'Participant Completion Code', columns = ['Question Key'], values = ['Response']) #Concept Exposure\n",
        "#display(df_ConExposure)\n",
        "\n",
        "df_ConFeeling = df_ConFeeling.pivot(index = 'Participant Completion Code', columns = ['Question Key'], values = ['Response']) #Concept Feeling\n",
        "#display(df_ConFeeling)\n",
        "\n",
        "df_ConInteraction = df_ConInteraction.pivot(index = 'Participant Completion Code', columns = ['Question Key'], values = ['Response']) #Concept Interaction\n",
        "#display(df_ConInteraction)\n",
        "\n",
        "df_SDO = df_SDO.pivot(index = 'Participant Completion Code', columns = ['Question Key'], values = ['Response']) #Social Dominance Orientation\n",
        "#display(df_SDO)\n",
        "\n",
        "#TASKS:\n",
        "#TODO: Take last mask out last instance of each concepts. If no isntance is present then use default coordinate. Flag participants that did not move at least half of the concepts (i.e., there are no entries)\n",
        "df_taskSpAM = df_taskSpAM.groupby(['Participant Completion Code', 'Zone Name'])['Response'].agg(' '.join).reset_index()\n",
        "df_taskSpAM = df_taskSpAM.pivot(index='Participant Completion Code', columns=['Zone Name'], values='Response')\n",
        "\n",
        "for i in range(df_taskSpAM.shape[0]):\n",
        "  for j in range(df_taskSpAM.shape[1]):\n",
        "    if pd.isna(df_taskSpAM.iloc[i,j]):\n",
        "      index = zone_name.index(df_taskSpAM.columns[j])\n",
        "      df_taskSpAM.iloc[i,j] = coordinates[index]\n",
        "\n",
        "# Select the last coordinate input\n",
        "df_taskSpAM = df_taskSpAM.apply(lambda x: x.str.split(' ').str[-4:])\n",
        "df_taskSpAM = df_taskSpAM.applymap(lambda x: [x[0], x[2]] if isinstance(x, list) else x)\n",
        "df_taskSpAM = df_taskSpAM.applymap(lambda x: [int(''.join(filter(str.isdigit, i))) for i in x])\n",
        "#display(df_taskSpAM)\n",
        "\n",
        "#Solution\n",
        "# group values by index column and aggregating the Response values as list. \n",
        "df_taskPRaM = df_taskPRaM.groupby(['Participant Completion Code', 'Pair'])['Response'].agg(list).reset_index()\n",
        "df_taskPRaM = df_taskPRaM.pivot(index='Participant Completion Code', columns='Pair', values='Response')\n",
        "\n",
        "# Run the following function to convert Response values from list to float.\n",
        "df_taskPRaM = df_taskPRaM.applymap(convert_to_float)\n",
        "#display(df_taskPRaM)"
      ],
      "metadata": {
        "id": "8dzVwNOoDY5V"
      },
      "execution_count": null,
      "outputs": []
    },
    {
      "cell_type": "code",
      "source": [
        "#Push to Lab GitHub !!!\n",
        "#NOTE: These credentials should be configured to user's lab GitHub\n",
        "#If user is part of ExCaLBBR Lab then ask Roberto for access\n",
        "!git config --global user.name \"\" #\"YOUR CREDIENTIALS HERE\" \n",
        "!git config --global user.email \"\" #\"YOUR CREDIENTIALS HERE\"\n",
        "!git config --global user.password \"\" #\"YOUR CREDIENTIALS HERE\"\n",
        "\n",
        "token = ''\n",
        "username_organization = ''\n",
        "repo = ''\n",
        "outputDir = ''"
      ],
      "metadata": {
        "id": "P1hSBfkRJkYa"
      },
      "execution_count": null,
      "outputs": []
    },
    {
      "cell_type": "code",
      "source": [
        "#Clone repository and move created files into output directory\n",
        "!git clone https://{token}@github.com/{username_organization}/{repo}"
      ],
      "metadata": {
        "id": "RToVhxKCJntE",
        "outputId": "bc28fd19-bc68-4924-b409-f0acab8aaebf",
        "colab": {
          "base_uri": "https://localhost:8080/"
        }
      },
      "execution_count": null,
      "outputs": [
        {
          "output_type": "stream",
          "name": "stdout",
          "text": [
            "Cloning into 'ExCaLBBR_Projects'...\n",
            "remote: Enumerating objects: 543, done.\u001b[K\n",
            "remote: Counting objects: 100% (324/324), done.\u001b[K\n",
            "remote: Compressing objects: 100% (241/241), done.\u001b[K\n",
            "remote: Total 543 (delta 115), reused 217 (delta 78), pack-reused 219\u001b[K\n",
            "Receiving objects: 100% (543/543), 13.25 MiB | 25.51 MiB/s, done.\n",
            "Resolving deltas: 100% (181/181), done.\n"
          ]
        }
      ]
    },
    {
      "cell_type": "code",
      "source": [
        "#Convert all files to csv\n",
        "df_demographic.to_csv('demographic.csv')\n",
        "df_EthId.to_csv('df_EthId.csv')\n",
        "df_MIBI.to_csv('df_MIBI.csv')\n",
        "df_News.to_csv('df_News.csv')\n",
        "df_GRDiscrim.to_csv('df_GRDiscrim.csv')\n",
        "df_ConExposure.to_csv('df_ConExposure.csv')\n",
        "df_ConFeeling.to_csv('df_ConFeeling.csv')\n",
        "df_ConInteraction.to_csv('df_ConInteraction.csv')\n",
        "df_SDO.to_csv('df_SDO.csv')\n",
        "df_taskSpAM.to_csv('df_taskSpAM.csv')\n",
        "df_taskPRaM.to_csv('df_taskPRaM.csv')"
      ],
      "metadata": {
        "id": "GHGoq3mGSf5Q"
      },
      "execution_count": null,
      "outputs": []
    },
    {
      "cell_type": "code",
      "source": [
        "#Move files to Clone repository\n",
        "!mv demographic.csv {repo}/{outputDir}\n",
        "!mv df_EthId.csv {repo}/{outputDir}\n",
        "!mv df_MIBI.csv {repo}/{outputDir}\n",
        "!mv df_News.csv {repo}/{outputDir}\n",
        "!mv df_GRDiscrim.csv {repo}/{outputDir}\n",
        "!mv df_ConExposure.csv {repo}/{outputDir}\n",
        "!mv df_ConFeeling.csv {repo}/{outputDir}\n",
        "!mv df_ConInteraction.csv {repo}/{outputDir}\n",
        "!mv df_SDO.csv {repo}/{outputDir}\n",
        "!mv df_taskSpAM.csv {repo}/{outputDir}\n",
        "!mv df_taskPRaM.csv {repo}/{outputDir}"
      ],
      "metadata": {
        "id": "8QzFtkfER0-3"
      },
      "execution_count": null,
      "outputs": []
    },
    {
      "cell_type": "code",
      "source": [
        "#Move to principle dir, commit, and push changes\n",
        "%cd {repo}\n",
        "!git add --all\n",
        "!git commit -a -m \"Fixed issues with Isolate relevant columns: PRaM and SPaM\"\n",
        "!git push origin"
      ],
      "metadata": {
        "id": "GhSx52_aMfPs",
        "colab": {
          "base_uri": "https://localhost:8080/"
        },
        "outputId": "056e4d2e-ab1d-4932-f422-289648c169c1"
      },
      "execution_count": null,
      "outputs": [
        {
          "output_type": "stream",
          "name": "stdout",
          "text": [
            "/content/ExCaLBBR_Projects\n",
            "[main 0c81957] Fixed issues with Isolate relevant columns: PRaM and SPaM\n",
            " 11 files changed, 5598 insertions(+)\n",
            " create mode 100644 SocioenvironmentalGeometry/data/demographic.csv\n",
            " create mode 100644 SocioenvironmentalGeometry/data/df_ConExposure.csv\n",
            " create mode 100644 SocioenvironmentalGeometry/data/df_ConFeeling.csv\n",
            " create mode 100644 SocioenvironmentalGeometry/data/df_ConInteraction.csv\n",
            " create mode 100644 SocioenvironmentalGeometry/data/df_EthId.csv\n",
            " create mode 100644 SocioenvironmentalGeometry/data/df_GRDiscrim.csv\n",
            " create mode 100644 SocioenvironmentalGeometry/data/df_MIBI.csv\n",
            " create mode 100644 SocioenvironmentalGeometry/data/df_News.csv\n",
            " create mode 100644 SocioenvironmentalGeometry/data/df_SDO.csv\n",
            " create mode 100644 SocioenvironmentalGeometry/data/df_taskPRaM.csv\n",
            " create mode 100644 SocioenvironmentalGeometry/data/df_taskSpAM.csv\n",
            "Enumerating objects: 18, done.\n",
            "Counting objects: 100% (18/18), done.\n",
            "Delta compression using up to 2 threads\n",
            "Compressing objects: 100% (15/15), done.\n",
            "Writing objects: 100% (15/15), 137.84 KiB | 3.06 MiB/s, done.\n",
            "Total 15 (delta 2), reused 0 (delta 0)\n",
            "remote: Resolving deltas: 100% (2/2), completed with 2 local objects.\u001b[K\n",
            "To https://github.com/ExCaLBBR/ExCaLBBR_Projects\n",
            "   3bd9be8..0c81957  main -> main\n"
          ]
        }
      ]
    }
  ]
}
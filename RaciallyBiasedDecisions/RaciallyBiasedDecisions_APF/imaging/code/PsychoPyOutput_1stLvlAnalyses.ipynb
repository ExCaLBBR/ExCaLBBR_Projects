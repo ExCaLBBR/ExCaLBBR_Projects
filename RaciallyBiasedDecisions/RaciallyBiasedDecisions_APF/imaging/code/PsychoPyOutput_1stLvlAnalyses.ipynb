{
  "nbformat": 4,
  "nbformat_minor": 0,
  "metadata": {
    "colab": {
      "provenance": [],
      "include_colab_link": true
    },
    "kernelspec": {
      "name": "python3",
      "display_name": "Python 3"
    },
    "language_info": {
      "name": "python"
    }
  },
  "cells": [
    {
      "cell_type": "markdown",
      "metadata": {
        "id": "view-in-github",
        "colab_type": "text"
      },
      "source": [
        "<a href=\"https://colab.research.google.com/github/ExCaLBBR/ExCaLBBR_Projects/blob/main/RaciallyBiasedDecisions/RaciallyBiasedDecisions_APF/imaging/code/PsychoPyOutput_1stLvlAnalyses.ipynb\" target=\"_parent\"><img src=\"https://colab.research.google.com/assets/colab-badge.svg\" alt=\"Open In Colab\"/></a>"
      ]
    },
    {
      "cell_type": "markdown",
      "source": [
        "Gorilla Info: <br>\n",
        "Project: RaciallyBiasedDecisions_APF <br>\n",
        "Account: Roberto Vargas (robertov@andrew.cmu.edu)"
      ],
      "metadata": {
        "id": "C9mud3ByqVgH"
      }
    },
    {
      "cell_type": "code",
      "source": [
        "## @title Install dependancies\n",
        "#Load relevant libraries and install dependencies\n",
        "import pandas as pd\n",
        "import numpy as np\n",
        "import random\n",
        "from pickle import TRUE"
      ],
      "metadata": {
        "id": "08gBma2_ivoE"
      },
      "execution_count": 1,
      "outputs": []
    },
    {
      "cell_type": "code",
      "source": [
        "#@title Parameter Specification\n",
        "FullList = {'RBDCW001', 'RBDCW002', 'RBDCW003', 'RBDCW004', 'RBDCW005', 'RBDCW006','RBDCW007', 'RBDCW008', 'RBDCW009', 'RBDCW010', 'RBDCW011'}"
      ],
      "metadata": {
        "id": "4V1f5TP_DGCT",
        "cellView": "form"
      },
      "execution_count": 2,
      "outputs": []
    },
    {
      "cell_type": "code",
      "source": [
        "#@title Load data for all participants\n",
        "\n",
        "iat_data = {}\n",
        "# Loop through the list of participants\n",
        "for Participant in FullList:\n",
        "    iat_data[Participant] = {}  # Initialize a nested dictionary for each participant\n",
        "    try:# Run1 data\n",
        "        url_run1 = f'https://raw.githubusercontent.com/ExCaLBBR/ExCaLBBR_Projects/main/RaciallyBiasedDecisions/RaciallyBiasedDecisions_APF/imaging/psychoPy/behOutput/raw/{Participant}_Run1_IAT_fMRI.csv'\n",
        "        df_run1 = pd.read_csv(url_run1)\n",
        "        iat_data[Participant]['Run1'] = df_run1\n",
        "    except Exception:\n",
        "        iat_data[Participant]['Run1'] = []\n",
        "        print(f\"IATRun1 does not exist for participant: {Participant}\")\n",
        "\n",
        "\n",
        "    try:# Run2 data\n",
        "        url_run2 = f'https://raw.githubusercontent.com/ExCaLBBR/ExCaLBBR_Projects/main/RaciallyBiasedDecisions/RaciallyBiasedDecisions_APF/imaging/psychoPy/behOutput/raw/{Participant}_Run2_IAT_fMRI.csv'\n",
        "        df_run2 = pd.read_csv(url_run2)\n",
        "        iat_data[Participant]['Run2'] = df_run2\n",
        "    except Exception:\n",
        "        iat_data[Participant]['Run2'] = []\n",
        "        print(f\"IATRun3 does not exist for participant: {Participant}\")\n",
        "\n",
        "\n",
        "    try:# Run3 data\n",
        "        url_run3 = f'https://raw.githubusercontent.com/ExCaLBBR/ExCaLBBR_Projects/main/RaciallyBiasedDecisions/RaciallyBiasedDecisions_APF/imaging/psychoPy/behOutput/raw/{Participant}_Run3_IAT_fMRI.csv'\n",
        "        df_run3 = pd.read_csv(url_run3)\n",
        "        iat_data[Participant]['Run3'] = df_run3\n",
        "\n",
        "    except Exception:\n",
        "        iat_data[Participant]['Run3'] = []\n",
        "        print(f\"IATRun3 does not exist for participant: {Participant}\")\n",
        "\n",
        "\n",
        "# Loop through the adventure\n",
        "adventure_data = {}\n",
        "for Participant in FullList:\n",
        "    try:\n",
        "        adventure_data[Participant] = {}\n",
        "\n",
        "        # Load Run1 adventure task data\n",
        "        url_advrun1 = f'https://raw.githubusercontent.com/ExCaLBBR/ExCaLBBR_Projects/main/RaciallyBiasedDecisions/RaciallyBiasedDecisions_APF/imaging/psychoPy/behOutput/raw/{Participant}_Run1_AdvTask.csv'\n",
        "        df_advrun1 = pd.read_csv(url_advrun1)\n",
        "        adventure_data[Participant]['AdvRun1'] = df_advrun1\n",
        "\n",
        "        # Print confirmation message\n",
        "        #print(f\"Successfully loaded and saved Run1 adventure data for participant {Participant}\")\n",
        "\n",
        "    except Exception as e:\n",
        "        # Print error message if data loading fails\n",
        "        print(f\"Error processing adventure data1 for participant {Participant}: {e}\")\n",
        "\n",
        "    try:\n",
        "        # Load Run2 adventure task data\n",
        "        url_advrun2 = f'https://raw.githubusercontent.com/ExCaLBBR/ExCaLBBR_Projects/main/RaciallyBiasedDecisions/RaciallyBiasedDecisions_APF/imaging/psychoPy/behOutput/raw/{Participant}_Run2_AdvTask.csv'\n",
        "        df_advrun2 = pd.read_csv(url_advrun2)\n",
        "        adventure_data[Participant]['AdvRun2'] = df_advrun2\n",
        "\n",
        "        # Print confirmation message\n",
        "        #print(f\"Successfully loaded and saved Run2 adventure data for participant {Participant}\")\n",
        "\n",
        "    except Exception as e:\n",
        "        # Print error message if data loading fails\n",
        "        print(f\"Error processing adventure data2 for participant {Participant}: {e}\")"
      ],
      "metadata": {
        "id": "FGRpu2-_iaCF",
        "outputId": "2ce9cbd5-6409-4b73-9224-b6a2f762a39e",
        "colab": {
          "base_uri": "https://localhost:8080/"
        },
        "collapsed": true
      },
      "execution_count": 3,
      "outputs": [
        {
          "output_type": "stream",
          "name": "stdout",
          "text": [
            "IATRun3 does not exist for participant: RBDCW009\n",
            "IATRun3 does not exist for participant: RBDCW001\n"
          ]
        }
      ]
    },
    {
      "cell_type": "code",
      "source": [
        "#@title Generate Contrast event_file for IAT\n",
        "for p in iat_data:\n",
        "    try:  # Run 1 processing\n",
        "        IATRun1 = iat_data[p]['Run1']\n",
        "        discIndx = IATRun1['SyncPulse_Discard.started'].dropna().index\n",
        "        discSync = IATRun1['SyncPulse_Discard.started'][discIndx] + IATRun1['SyncPulse_Discard.rt'][discIndx]\n",
        "        scannerOffset = discSync.iloc[0]  # Account for difference between PsychPy starting and 1st sync pulse being received\n",
        "\n",
        "        # WordsImages_SW volumes\n",
        "        wordsImageSWIndx = IATRun1['ImageCentre_wisw'].dropna().index\n",
        "        wordsImageSWSync = np.round(IATRun1['SyncPulse_Trial.started'][wordsImageSWIndx] + IATRun1['SyncPulse_Trial.rt'][wordsImageSWIndx] - scannerOffset, 0)\n",
        "        respRT_imgOffsetSW = np.round(IATRun1['key_resp_wisw.rt'][wordsImageSWIndx], 0)\n",
        "        wordsImageSW_LRkeyImg = wordsImageSWSync + respRT_imgOffsetSW  # used in final event file\n",
        "        wordsImageKeyLabelSW = IATRun1['key_resp_wisw.keys'].replace({2: \"Left\", 1: \"Right\"})  # renamed the left and right\n",
        "        wordsImageKeyLabelSW = [x for x in wordsImageKeyLabelSW if str(x) != 'nan']  # used in final event file\n",
        "        wordImagesSW_ITI = np.round(IATRun1['ITI'][wordsImageSWIndx], 0)  # used in final event file\n",
        "\n",
        "        # WordsImages_WS volumes\n",
        "        wordsImageWSIndx = IATRun1['ImageCentre_wiws'].dropna().index\n",
        "        wordsImageWSSync = np.round(IATRun1['SyncPulse_Trial.started'][wordsImageWSIndx] + IATRun1['SyncPulse_Trial.rt'][wordsImageWSIndx] - scannerOffset, 0)\n",
        "        respRT_imgOffsetWS = np.round(IATRun1['key_resp_wiws.rt'][wordsImageWSIndx], 0)\n",
        "        wordsImageWS_LRkeyImg = wordsImageWSSync + respRT_imgOffsetWS  # used in final event file\n",
        "        wordsImageKeyLabelWS = IATRun1['key_resp_wiws.keys'].replace({2: \"Left\", 1: \"Right\"})  # renamed the left and right\n",
        "        wordsImageKeyLabelWS = [x for x in wordsImageKeyLabelWS if str(x) != 'nan']  # used in final event file\n",
        "        wordImagesWS_ITI = np.round(IATRun1['ITI'][wordsImageWSIndx], 0)  # used in final event file\n",
        "\n",
        "        # Concatenation here\n",
        "        label1 = wordsImageKeyLabelSW + wordsImageKeyLabelWS\n",
        "        onset1 = pd.concat([wordsImageSW_LRkeyImg, wordsImageWS_LRkeyImg])\n",
        "        onset1 = onset1.reset_index(drop=True)\n",
        "        duration1 = pd.concat([wordImagesSW_ITI, wordImagesWS_ITI])\n",
        "        duration1 = duration1.reset_index(drop=True)\n",
        "        events = pd.DataFrame({'trial_type': label1, 'onset': onset1, 'duration': duration1})\n",
        "        events.to_csv(p+'_eventsIATRun1.csv', sep=\"\\t\", index=False)\n",
        "    except Exception as e:\n",
        "        print(f\"IATRun1 does not exist for participant: {p} with error {e}\")\n",
        "\n",
        "    try:  # Run 2 processing\n",
        "        IATRun2 = iat_data[p]['Run2']\n",
        "        discIndx2 = IATRun2['SyncPulse_Discard.started'].dropna().index\n",
        "        discSync2 = IATRun2['SyncPulse_Discard.started'][discIndx2] + IATRun2['SyncPulse_Discard.rt'][discIndx2]\n",
        "        scannerOffset2 = discSync2.iloc[0]\n",
        "\n",
        "        # WordsImages_SI volumes\n",
        "        wordsImageSIIndx = IATRun2['ImageCentre_wisi'].dropna().index\n",
        "        wordsImageSISync = np.round(IATRun2['SyncPulse_Trial.started'][wordsImageSIIndx] + IATRun2['SyncPulse_Trial.rt'][wordsImageSIIndx] - scannerOffset2, 0)\n",
        "        respRT_imgOffsetSI = np.round(IATRun2['key_resp_wisi.rt'][wordsImageSIIndx], 0)\n",
        "        wordsImageSI_LRkeyImg = wordsImageSISync + respRT_imgOffsetSI  # used in final event file\n",
        "        wordsImageKeyLabelSI = IATRun2['key_resp_wisi.keys'].replace({2: \"Left\", 1: \"Right\"})  # renamed the left and right\n",
        "        wordsImageKeyLabelSI = [x for x in wordsImageKeyLabelSI if str(x) != 'nan']  # used in final event file\n",
        "        wordImagesSI_ITI = np.round(IATRun2['ITI'][wordsImageSIIndx], 0)  # used in final event file\n",
        "\n",
        "        # WordsImages_IS volumes\n",
        "        wordsImageISIndx = IATRun2['ImageCentre_wiis'].dropna().index\n",
        "        wordsImageISSync = np.round(IATRun2['SyncPulse_Trial.started'][wordsImageISIndx] + IATRun2['SyncPulse_Trial.rt'][wordsImageISIndx] - scannerOffset2, 0)\n",
        "        respRT_imgOffsetIS = np.round(IATRun2['key_resp_wiis.rt'][wordsImageISIndx], 0)\n",
        "        wordsImageIS_LRkeyImg = wordsImageISSync + respRT_imgOffsetIS  # used in final event file\n",
        "        wordsImageKeyLabelIS = IATRun2['key_resp_wiis.keys'].replace({2: \"Left\", 1: \"Right\"})  # renamed the left and right\n",
        "        wordsImageKeyLabelIS = [x for x in wordsImageKeyLabelIS if str(x) != 'nan']  # used in final event file\n",
        "        wordImagesIS_ITI = np.round(IATRun2['ITI'][wordsImageISIndx], 0)  # used in final event file\n",
        "\n",
        "        # Concatenation here\n",
        "        label2 = wordsImageKeyLabelSI + wordsImageKeyLabelIS\n",
        "        onset2 = pd.concat([wordsImageSI_LRkeyImg, wordsImageIS_LRkeyImg])\n",
        "        onset2 = onset2.reset_index(drop=True)\n",
        "        duration2 = pd.concat([wordImagesSI_ITI, wordImagesIS_ITI])\n",
        "        duration2 = duration2.reset_index(drop=True)\n",
        "        events = pd.DataFrame({'trial_type': label2, 'onset': onset2, 'duration': duration2})\n",
        "        events.to_csv(p+'_eventsIATRun2.csv', sep=\"\\t\", index=False)\n",
        "    except Exception as e:\n",
        "        print(f\"IATRun2 does not exist for participant: {p} with error {e}\")\n",
        "\n",
        "    try:  # Run 3 processing\n",
        "        IATRun3 = iat_data[p]['Run3']\n",
        "        discIndx3 = IATRun3['SyncPulse_Discard.started'].dropna().index\n",
        "        discSync3 = IATRun3['SyncPulse_Discard.started'][discIndx3] + IATRun3['SyncPulse_Discard.rt'][discIndx3]\n",
        "        scannerOffset3 = discSync3.iloc[0]\n",
        "\n",
        "        # WordsImages_BG volumes\n",
        "        wordsImageBGIndx = IATRun3['ImageCentre_wibg'].dropna().index\n",
        "        wordsImageBGSync = np.round(IATRun3['SyncPulse_Trial.started'][wordsImageBGIndx] + IATRun3['SyncPulse_Trial.rt'][wordsImageBGIndx] - scannerOffset3, 0)\n",
        "        respRT_imgOffsetBG = np.round(IATRun3['key_resp_wibg.rt'][wordsImageBGIndx], 0)\n",
        "        wordsImageBG_LRkeyImg = wordsImageBGSync + respRT_imgOffsetBG  # used in final event file\n",
        "        wordsImageKeyLabelBG = IATRun3['key_resp_wibg.keys'].replace({2: \"Left\", 1: \"Right\"})  # renamed the left and right\n",
        "        wordsImageKeyLabelBG = [x for x in wordsImageKeyLabelBG if str(x) != 'nan']  # used in final event file\n",
        "        wordImagesBG_ITI = np.round(IATRun3['ITI'][wordsImageBGIndx], 0)  # used in final event file\n",
        "\n",
        "        # WordsImages_GB volumes\n",
        "        wordsImageGBIndx = IATRun3['ImageCentre_wigb'].dropna().index\n",
        "        wordsImageGBSync = np.round(IATRun3['SyncPulse_Trial.started'][wordsImageGBIndx] + IATRun3['SyncPulse_Trial.rt'][wordsImageGBIndx] - scannerOffset3, 0)\n",
        "        respRT_imgOffsetGB = np.round(IATRun3['key_resp_wigb.rt'][wordsImageGBIndx], 0)\n",
        "        wordsImageGB_LRkeyImg = wordsImageGBSync + respRT_imgOffsetGB  # used in final event file\n",
        "        wordsImageKeyLabelGB = IATRun3['key_resp_wigb.keys'].replace({2: \"Left\", 1: \"Right\"})  # renamed the left and right\n",
        "        wordsImageKeyLabelGB = [x for x in wordsImageKeyLabelGB if str(x) != 'nan']  # used in final event file\n",
        "        wordImagesGB_ITI = np.round(IATRun3['ITI'][wordsImageGBIndx], 0)  # used in final event file\n",
        "\n",
        "        # Concatenation here\n",
        "        label3 = wordsImageKeyLabelBG + wordsImageKeyLabelGB\n",
        "        onset3 = pd.concat([wordsImageBG_LRkeyImg, wordsImageGB_LRkeyImg])\n",
        "        onset3 = onset3.reset_index(drop=True)\n",
        "        duration3 = pd.concat([wordImagesBG_ITI, wordImagesGB_ITI])\n",
        "        duration3 = duration3.reset_index(drop=True)\n",
        "        events = pd.DataFrame({'trial_type': label3, 'onset': onset3, 'duration': duration3})\n",
        "        events.to_csv(p+'_eventsIATRun3.csv', sep=\"\\t\", index=False)\n",
        "    except Exception as e:\n",
        "        print(f\"IATRun3 does not exist for participant: {p} with error {e}\")\n",
        "\n"
      ],
      "metadata": {
        "colab": {
          "base_uri": "https://localhost:8080/"
        },
        "id": "mRh9rlcysDV7",
        "outputId": "30b1ad81-8ff1-4818-e0bf-42fd5a019916",
        "collapsed": true
      },
      "execution_count": 5,
      "outputs": [
        {
          "output_type": "stream",
          "name": "stdout",
          "text": [
            "IATRun3 does not exist for participant: RBDCW009 with error list indices must be integers or slices, not str\n",
            "IATRun3 does not exist for participant: RBDCW001 with error list indices must be integers or slices, not str\n"
          ]
        }
      ]
    },
    {
      "cell_type": "code",
      "source": [
        "#@title Generate Contrast event_file for Adventure Task\n",
        "for p in adventure_data:\n",
        "    # try:  # Run 1 processing\n",
        "    #     ADVRun1 = adventure_data[p]['AdvRun1']\n",
        "    #     discIndx = ADVRun1['SyncPulse_discard.started'].dropna().index\n",
        "    #     discSync = ADVRun1['SyncPulse_discard.started'][discIndx] + ADVRun1['SyncPulse_discard.rt'][discIndx]\n",
        "    #     scannerOffset_adv1 = discSync.iloc[0]  # Account for difference between PsychPy starting and 1st sync pulse being received\n",
        "\n",
        "    #     # Encounter trial volumes\n",
        "    #     EncIndx = ADVRun1['TrialNum'].dropna().index\n",
        "    #     EncSync = np.round(ADVRun1['SyncPulse_Action.started'][EncIndx] + ADVRun1['SyncPulse_Action.rt'][EncIndx] - scannerOffset_adv1, 0)\n",
        "\n",
        "    #     #Extract RTs\n",
        "    #     rtPun = ADVRun1['player_action_keys_punish.rt'][EncIndx].dropna()\n",
        "    #     rtRew = ADVRun1['player_action_keys_reward.rt'][EncIndx].dropna()\n",
        "    #     rtAction = pd.concat([rtPun,rtRew], names='ActionRT')\n",
        "    #     rtAction = rtAction.sort_index(ascending=True)\n",
        "    #     rtAction = rtAction.rename('rtAction')\n",
        "    #     rtAction = rtAction.reset_index()\n",
        "\n",
        "    #     #Extract LR key presses\n",
        "    #     punIndx = ADVRun1['player_action_keys_punish.keys'][EncIndx].dropna().index\n",
        "    #     ADVRun1.loc[punIndx,'player_action_keys_punish.keys'] = 'Punish'\n",
        "    #     rewIndx = ADVRun1['player_action_keys_reward.keys'][EncIndx].dropna().index\n",
        "    #     ADVRun1.loc[rewIndx,'player_action_keys_reward.keys'] = 'Reward'\n",
        "    #     rewPunAction = pd.concat([ADVRun1['player_action_keys_punish.keys'][punIndx],ADVRun1['player_action_keys_reward.keys'][rewIndx]])\n",
        "    #     rewPunAction = rewPunAction.sort_index(ascending=True)\n",
        "    #     rewPunAction = rewPunAction.rename('labAction')\n",
        "    #     rewPunAction = rewPunAction.reset_index()\n",
        "\n",
        "    #     #Check for changes in responses\n",
        "    #     idx = pd.Index(rtAction['index'])\n",
        "    #     dupidx = idx.duplicated(keep = False)\n",
        "    #     dupCases = rtAction[dupidx] #Refer to 0 dataframe\n",
        "\n",
        "    #  if not dupCases.empty:\n",
        "    #    lengths = []\n",
        "    #    for ix in dupCases['rtAction']:\n",
        "    #        lengths.append(len(ix)) #\n",
        "    #    dupCases.insert(2, \"Len\", lengths, True)\n",
        "    #    dropIdx = dupCases[['Len']].idxmin()\n",
        "\n",
        "    #    # Drop duplicates\n",
        "    #    rewPunAction = rewPunAction2drop(dropIdx) # used in final event file label\n",
        "    #    rtAction = rtAction.drop(dropIdx2)\n",
        "\n",
        "    #     #Convert rt strings to numbers\n",
        "    #     respRT_imgOffset = [float(x[1:16]) for x in rtAction['rtAction']]\n",
        "    #     respRT_imgOffset = np.round(respRT_imgOffset,0)\n",
        "    #     EncAction_LRkeyImg = EncSync + respRT_imgOffset  # used in final event file imgage number\n",
        "\n",
        "    #     #Extract ITI\n",
        "    #     trialITI = ADVRun1['scenDelay'][EncIndx]  # used in final event file ITI\n",
        "    #     trialITI = trialITI.reset_index(drop=True)\n",
        "\n",
        "    #     #Concatenation here\n",
        "    #     label1 =rewPunAction\n",
        "    #     label1 = label1.reset_index(drop=True)\n",
        "    #     onset1 = EncAction_LRkeyImg\n",
        "    #     onset1 = onset1.reset_index(drop=True)\n",
        "    #     duration1 = trialITI\n",
        "    #     events = pd.DataFrame({'trial_type': label1['labAction'], 'onset': onset1, 'duration': duration1})\n",
        "    #     events.to_csv(p+'_eventsIATRun3.csv', sep=\"\\t\", index=False)\n",
        "    # except Exception as e:\n",
        "    #     print(f\"ADVRun1 does not exist for participant: {p} with error {e}\")\n",
        "\n",
        "    try:  # Run 2 processing\n",
        "    # Adventure Task 2\n",
        "        ADVRun2 = adventure_data[p]['AdvRun2']\n",
        "        discIndx2 = ADVRun2['SyncPulse_discard.started'].dropna().index\n",
        "        discSync2 = ADVRun2['SyncPulse_discard.started'][discIndx2] + ADVRun2['SyncPulse_discard.rt'][discIndx2]\n",
        "        scannerOffset_adv2 = discSync2.iloc[0]  # Account for difference between PsychPy starting and 1st sync pulse being received\n",
        "\n",
        "         # Encounter trial volumes\n",
        "        EncIndx2 = ADVRun2['TrialNum'].dropna().index\n",
        "        EncSync2 = np.round(ADVRun2['SyncPulse_Action.started'][EncIndx2] + ADVRun2['SyncPulse_Action.rt'][EncIndx2] - scannerOffset_adv2, 0)\n",
        "\n",
        "        # Extract RTs\n",
        "        rtPun2 = ADVRun2['player_action_keys_punish.rt'][EncIndx2].dropna()\n",
        "        rtRew2 = ADVRun2['player_action_keys_reward.rt'][EncIndx2].dropna()\n",
        "        rtAction2 = pd.concat([rtPun2,rtRew2], names='ActionRT')\n",
        "        rtAction2 = rtAction2.sort_index(ascending=True)\n",
        "        rtAction2 = rtAction2.rename('rtAction')\n",
        "        rtAction2 = rtAction2.reset_index()\n",
        "\n",
        "        # Extract LR key presses\n",
        "        punIndx2 = ADVRun2['player_action_keys_punish.keys'][EncIndx2].dropna().index\n",
        "        ADVRun2.loc[punIndx2,'player_action_keys_punish.keys'] = 'Punish'\n",
        "        rewIndx2 = ADVRun2['player_action_keys_reward.keys'][EncIndx2].dropna().index\n",
        "        ADVRun2.loc[rewIndx2,'player_action_keys_reward.keys'] = 'Reward'\n",
        "        rewPunAction2 = pd.concat([ADVRun2['player_action_keys_punish.keys'][punIndx2],ADVRun2['player_action_keys_reward.keys'][rewIndx2]])\n",
        "        rewPunAction2 = rewPunAction2.sort_index(ascending=True)\n",
        "        rewPunAction2 = rewPunAction2.rename('labAction')\n",
        "        rewPunAction2 = rewPunAction2.reset_index()\n",
        "\n",
        "        # Check for changes in responses\n",
        "        idx2 = pd.Index(rtAction2['index'])\n",
        "        dupidx2 = idx2.duplicated(keep = False)\n",
        "        dupCases2 = rtAction2[dupidx2] #Refer to 0 dataframe\n",
        "\n",
        "        if not dupCases2.empty:\n",
        "          lengths2 = []\n",
        "          for ix in dupCases2['rtAction']:\n",
        "              lengths2.append(len(ix)) #\n",
        "          dupCases2.insert(2, \"Len\", lengths2, True)\n",
        "          dropIdx2 = dupCases2[['Len']].idxmin()\n",
        "\n",
        "          # Drop duplicates\n",
        "          rewPunAction2 = rewPunAction2.drop(dropIdx2) # used in final event file label\n",
        "          rtAction2 = rtAction2.drop(dropIdx2)\n",
        "\n",
        "        # Convert rt strings to numbers\n",
        "        respRT_imgOffset2 = [float(x[1:16]) for x in rtAction2['rtAction']]\n",
        "        respRT_imgOffset2 = np.round(respRT_imgOffset2,0)\n",
        "        EncAction_LRkeyImg2 = EncSync2 + respRT_imgOffset2  # used in final event file imgage number\n",
        "\n",
        "        # Extract ITI\n",
        "        trialITI2 = ADVRun2['scenDelay'][EncIndx2]  # used in final event file ITI\n",
        "        trialITI2 = trialITI2.reset_index(drop=True)\n",
        "\n",
        "        # Concatenation here\n",
        "        label2 =rewPunAction2\n",
        "        label2 = label2.reset_index(drop=True)\n",
        "        onset2 = EncAction_LRkeyImg2\n",
        "        onset2 = onset2.reset_index(drop=True)\n",
        "        duration2 = trialITI2\n",
        "        events2 = pd.DataFrame({'trial_type': label2['labAction'], 'onset': onset2, 'duration': duration2})\n",
        "        events2.to_csv(p+'_eventsAdvRun2.csv', sep=\"\\t\", index=False)\n",
        "\n",
        "    except Exception as e:\n",
        "        print(f\"ADVRun2 does not exist for participant: {p} with error {e}\")\n",
        "\n"
      ],
      "metadata": {
        "id": "qILcwXBi2_l5",
        "outputId": "f3b38f26-1aea-471f-b7bd-310025dff7da",
        "colab": {
          "base_uri": "https://localhost:8080/"
        },
        "collapsed": true
      },
      "execution_count": 128,
      "outputs": [
        {
          "output_type": "stream",
          "name": "stdout",
          "text": [
            "ADVRun2 does not exist for participant: RBDCW011 with error operands could not be broadcast together with shapes (18,) (19,) \n",
            "ADVRun2 does not exist for participant: RBDCW007 with error operands could not be broadcast together with shapes (16,) (13,) \n"
          ]
        }
      ]
    },
    {
      "cell_type": "code",
      "source": [
        "################HANDLE CASES WHERE THE PARTICIPANT DIDNT RESPOND"
      ],
      "metadata": {
        "id": "OlfSPKsQadNg",
        "outputId": "7e9c73fc-1541-40ec-98bd-438c98f78a9e",
        "colab": {
          "base_uri": "https://localhost:8080/"
        }
      },
      "execution_count": 31,
      "outputs": [
        {
          "output_type": "execute_result",
          "data": {
            "text/plain": [
              "True"
            ]
          },
          "metadata": {},
          "execution_count": 31
        }
      ]
    },
    {
      "cell_type": "code",
      "source": [
        "p = 'RBDCW007'\n",
        "ADVRun2 = adventure_data[p]['AdvRun2']\n",
        "discIndx2 = ADVRun2['SyncPulse_discard.started'].dropna().index\n",
        "discSync2 = ADVRun2['SyncPulse_discard.started'][discIndx2] + ADVRun2['SyncPulse_discard.rt'][discIndx2]\n",
        "scannerOffset_adv2 = discSync2.iloc[0]  # Account for difference between PsychPy starting and 1st sync pulse being received\n",
        "\n",
        "EncIndx2 = ADVRun2['TrialNum'].dropna().index\n",
        "EncSync2 = np.round(ADVRun2['SyncPulse_Action.started'][EncIndx2] + ADVRun2['SyncPulse_Action.rt'][EncIndx2] - scannerOffset_adv2, 0)\n",
        "\n",
        "rtPun2 = ADVRun2['player_action_keys_punish.rt'][EncIndx2].dropna()\n",
        "rtRew2 = ADVRun2['player_action_keys_reward.rt'][EncIndx2].dropna()\n",
        "rtAction2 = pd.concat([rtPun2,rtRew2], names='ActionRT')\n",
        "rtAction2 = rtAction2.sort_index(ascending=True)\n",
        "rtAction2 = rtAction2.rename('rtAction')\n",
        "rtAction2 = rtAction2.reset_index()\n",
        "\n",
        "idx2 = pd.Index(rtAction2['index'])\n",
        "dupidx2 = idx2.duplicated(keep = False)\n",
        "dupCases2 = rtAction2[dupidx2] #Refer to 0 dataframe\n",
        "\n",
        "\n",
        "if not dupCases2.empty:\n",
        "  lengths2 = []\n",
        "  for ix in dupCases2['rtAction']:\n",
        "      lengths2.append(len(ix)) #\n",
        "  dupCases2.insert(2, \"Len\", lengths2, True)\n",
        "  dropIdx2 = dupCases2[['Len']].idxmin()\n",
        "\n",
        "  # Drop duplicates\n",
        "  rewPunAction2 = rewPunAction2.drop(dropIdx2) # used in final event file label\n",
        "  rtAction2 = rtAction2.drop(dropIdx2)\n",
        "\n",
        "# Convert rt strings to numbers\n",
        "respRT_imgOffset2 = [float(x[1:16]) for x in rtAction2['rtAction']]\n",
        "respRT_imgOffset2 = np.round(respRT_imgOffset2,0)\n",
        "EncAction_LRkeyImg2 = EncSync2 + respRT_imgOffset2  # used in final event file imgage number\n",
        "\n",
        "# Extract ITI\n",
        "trialITI2 = ADVRun2['scenDelay'][EncIndx2]  # used in final event file ITI\n",
        "trialITI2 = trialITI2.reset_index(drop=True)\n",
        "\n",
        "# Concatenation here\n",
        "label2 =rewPunAction2\n",
        "label2 = label2.reset_index(drop=True)\n",
        "onset2 = EncAction_LRkeyImg2\n",
        "onset2 = onset2.reset_index(drop=True)\n",
        "duration2 = trialITI2"
      ],
      "metadata": {
        "id": "ccMG8a-Ec9rT",
        "outputId": "6885b569-4b80-41a4-9129-08eae3791b22",
        "colab": {
          "base_uri": "https://localhost:8080/",
          "height": 356
        }
      },
      "execution_count": 129,
      "outputs": [
        {
          "output_type": "error",
          "ename": "ValueError",
          "evalue": "operands could not be broadcast together with shapes (16,) (13,) ",
          "traceback": [
            "\u001b[0;31m---------------------------------------------------------------------------\u001b[0m",
            "\u001b[0;31mValueError\u001b[0m                                Traceback (most recent call last)",
            "\u001b[0;32m<ipython-input-129-455680c3e6a2>\u001b[0m in \u001b[0;36m<cell line: 36>\u001b[0;34m()\u001b[0m\n\u001b[1;32m     34\u001b[0m \u001b[0mrespRT_imgOffset2\u001b[0m \u001b[0;34m=\u001b[0m \u001b[0;34m[\u001b[0m\u001b[0mfloat\u001b[0m\u001b[0;34m(\u001b[0m\u001b[0mx\u001b[0m\u001b[0;34m[\u001b[0m\u001b[0;36m1\u001b[0m\u001b[0;34m:\u001b[0m\u001b[0;36m16\u001b[0m\u001b[0;34m]\u001b[0m\u001b[0;34m)\u001b[0m \u001b[0;32mfor\u001b[0m \u001b[0mx\u001b[0m \u001b[0;32min\u001b[0m \u001b[0mrtAction2\u001b[0m\u001b[0;34m[\u001b[0m\u001b[0;34m'rtAction'\u001b[0m\u001b[0;34m]\u001b[0m\u001b[0;34m]\u001b[0m\u001b[0;34m\u001b[0m\u001b[0;34m\u001b[0m\u001b[0m\n\u001b[1;32m     35\u001b[0m \u001b[0mrespRT_imgOffset2\u001b[0m \u001b[0;34m=\u001b[0m \u001b[0mnp\u001b[0m\u001b[0;34m.\u001b[0m\u001b[0mround\u001b[0m\u001b[0;34m(\u001b[0m\u001b[0mrespRT_imgOffset2\u001b[0m\u001b[0;34m,\u001b[0m\u001b[0;36m0\u001b[0m\u001b[0;34m)\u001b[0m\u001b[0;34m\u001b[0m\u001b[0;34m\u001b[0m\u001b[0m\n\u001b[0;32m---> 36\u001b[0;31m \u001b[0mEncAction_LRkeyImg2\u001b[0m \u001b[0;34m=\u001b[0m \u001b[0mEncSync2\u001b[0m \u001b[0;34m+\u001b[0m \u001b[0mrespRT_imgOffset2\u001b[0m  \u001b[0;31m# used in final event file imgage number\u001b[0m\u001b[0;34m\u001b[0m\u001b[0;34m\u001b[0m\u001b[0m\n\u001b[0m\u001b[1;32m     37\u001b[0m \u001b[0;34m\u001b[0m\u001b[0m\n\u001b[1;32m     38\u001b[0m \u001b[0;31m# Extract ITI\u001b[0m\u001b[0;34m\u001b[0m\u001b[0;34m\u001b[0m\u001b[0m\n",
            "\u001b[0;32m/usr/local/lib/python3.10/dist-packages/pandas/core/ops/common.py\u001b[0m in \u001b[0;36mnew_method\u001b[0;34m(self, other)\u001b[0m\n\u001b[1;32m     74\u001b[0m         \u001b[0mother\u001b[0m \u001b[0;34m=\u001b[0m \u001b[0mitem_from_zerodim\u001b[0m\u001b[0;34m(\u001b[0m\u001b[0mother\u001b[0m\u001b[0;34m)\u001b[0m\u001b[0;34m\u001b[0m\u001b[0;34m\u001b[0m\u001b[0m\n\u001b[1;32m     75\u001b[0m \u001b[0;34m\u001b[0m\u001b[0m\n\u001b[0;32m---> 76\u001b[0;31m         \u001b[0;32mreturn\u001b[0m \u001b[0mmethod\u001b[0m\u001b[0;34m(\u001b[0m\u001b[0mself\u001b[0m\u001b[0;34m,\u001b[0m \u001b[0mother\u001b[0m\u001b[0;34m)\u001b[0m\u001b[0;34m\u001b[0m\u001b[0;34m\u001b[0m\u001b[0m\n\u001b[0m\u001b[1;32m     77\u001b[0m \u001b[0;34m\u001b[0m\u001b[0m\n\u001b[1;32m     78\u001b[0m     \u001b[0;32mreturn\u001b[0m \u001b[0mnew_method\u001b[0m\u001b[0;34m\u001b[0m\u001b[0;34m\u001b[0m\u001b[0m\n",
            "\u001b[0;32m/usr/local/lib/python3.10/dist-packages/pandas/core/arraylike.py\u001b[0m in \u001b[0;36m__add__\u001b[0;34m(self, other)\u001b[0m\n\u001b[1;32m    184\u001b[0m         \u001b[0mmoose\u001b[0m     \u001b[0;36m3.0\u001b[0m     \u001b[0mNaN\u001b[0m\u001b[0;34m\u001b[0m\u001b[0;34m\u001b[0m\u001b[0m\n\u001b[1;32m    185\u001b[0m         \"\"\"\n\u001b[0;32m--> 186\u001b[0;31m         \u001b[0;32mreturn\u001b[0m \u001b[0mself\u001b[0m\u001b[0;34m.\u001b[0m\u001b[0m_arith_method\u001b[0m\u001b[0;34m(\u001b[0m\u001b[0mother\u001b[0m\u001b[0;34m,\u001b[0m \u001b[0moperator\u001b[0m\u001b[0;34m.\u001b[0m\u001b[0madd\u001b[0m\u001b[0;34m)\u001b[0m\u001b[0;34m\u001b[0m\u001b[0;34m\u001b[0m\u001b[0m\n\u001b[0m\u001b[1;32m    187\u001b[0m \u001b[0;34m\u001b[0m\u001b[0m\n\u001b[1;32m    188\u001b[0m     \u001b[0;34m@\u001b[0m\u001b[0munpack_zerodim_and_defer\u001b[0m\u001b[0;34m(\u001b[0m\u001b[0;34m\"__radd__\"\u001b[0m\u001b[0;34m)\u001b[0m\u001b[0;34m\u001b[0m\u001b[0;34m\u001b[0m\u001b[0m\n",
            "\u001b[0;32m/usr/local/lib/python3.10/dist-packages/pandas/core/series.py\u001b[0m in \u001b[0;36m_arith_method\u001b[0;34m(self, other, op)\u001b[0m\n\u001b[1;32m   5817\u001b[0m     \u001b[0;32mdef\u001b[0m \u001b[0m_arith_method\u001b[0m\u001b[0;34m(\u001b[0m\u001b[0mself\u001b[0m\u001b[0;34m,\u001b[0m \u001b[0mother\u001b[0m\u001b[0;34m,\u001b[0m \u001b[0mop\u001b[0m\u001b[0;34m)\u001b[0m\u001b[0;34m:\u001b[0m\u001b[0;34m\u001b[0m\u001b[0;34m\u001b[0m\u001b[0m\n\u001b[1;32m   5818\u001b[0m         \u001b[0mself\u001b[0m\u001b[0;34m,\u001b[0m \u001b[0mother\u001b[0m \u001b[0;34m=\u001b[0m \u001b[0mself\u001b[0m\u001b[0;34m.\u001b[0m\u001b[0m_align_for_op\u001b[0m\u001b[0;34m(\u001b[0m\u001b[0mother\u001b[0m\u001b[0;34m)\u001b[0m\u001b[0;34m\u001b[0m\u001b[0;34m\u001b[0m\u001b[0m\n\u001b[0;32m-> 5819\u001b[0;31m         \u001b[0;32mreturn\u001b[0m \u001b[0mbase\u001b[0m\u001b[0;34m.\u001b[0m\u001b[0mIndexOpsMixin\u001b[0m\u001b[0;34m.\u001b[0m\u001b[0m_arith_method\u001b[0m\u001b[0;34m(\u001b[0m\u001b[0mself\u001b[0m\u001b[0;34m,\u001b[0m \u001b[0mother\u001b[0m\u001b[0;34m,\u001b[0m \u001b[0mop\u001b[0m\u001b[0;34m)\u001b[0m\u001b[0;34m\u001b[0m\u001b[0;34m\u001b[0m\u001b[0m\n\u001b[0m\u001b[1;32m   5820\u001b[0m \u001b[0;34m\u001b[0m\u001b[0m\n\u001b[1;32m   5821\u001b[0m     \u001b[0;32mdef\u001b[0m \u001b[0m_align_for_op\u001b[0m\u001b[0;34m(\u001b[0m\u001b[0mself\u001b[0m\u001b[0;34m,\u001b[0m \u001b[0mright\u001b[0m\u001b[0;34m,\u001b[0m \u001b[0malign_asobject\u001b[0m\u001b[0;34m:\u001b[0m \u001b[0mbool\u001b[0m \u001b[0;34m=\u001b[0m \u001b[0;32mFalse\u001b[0m\u001b[0;34m)\u001b[0m\u001b[0;34m:\u001b[0m\u001b[0;34m\u001b[0m\u001b[0;34m\u001b[0m\u001b[0m\n",
            "\u001b[0;32m/usr/local/lib/python3.10/dist-packages/pandas/core/base.py\u001b[0m in \u001b[0;36m_arith_method\u001b[0;34m(self, other, op)\u001b[0m\n\u001b[1;32m   1379\u001b[0m \u001b[0;34m\u001b[0m\u001b[0m\n\u001b[1;32m   1380\u001b[0m         \u001b[0;32mwith\u001b[0m \u001b[0mnp\u001b[0m\u001b[0;34m.\u001b[0m\u001b[0merrstate\u001b[0m\u001b[0;34m(\u001b[0m\u001b[0mall\u001b[0m\u001b[0;34m=\u001b[0m\u001b[0;34m\"ignore\"\u001b[0m\u001b[0;34m)\u001b[0m\u001b[0;34m:\u001b[0m\u001b[0;34m\u001b[0m\u001b[0;34m\u001b[0m\u001b[0m\n\u001b[0;32m-> 1381\u001b[0;31m             \u001b[0mresult\u001b[0m \u001b[0;34m=\u001b[0m \u001b[0mops\u001b[0m\u001b[0;34m.\u001b[0m\u001b[0marithmetic_op\u001b[0m\u001b[0;34m(\u001b[0m\u001b[0mlvalues\u001b[0m\u001b[0;34m,\u001b[0m \u001b[0mrvalues\u001b[0m\u001b[0;34m,\u001b[0m \u001b[0mop\u001b[0m\u001b[0;34m)\u001b[0m\u001b[0;34m\u001b[0m\u001b[0;34m\u001b[0m\u001b[0m\n\u001b[0m\u001b[1;32m   1382\u001b[0m \u001b[0;34m\u001b[0m\u001b[0m\n\u001b[1;32m   1383\u001b[0m         \u001b[0;32mreturn\u001b[0m \u001b[0mself\u001b[0m\u001b[0;34m.\u001b[0m\u001b[0m_construct_result\u001b[0m\u001b[0;34m(\u001b[0m\u001b[0mresult\u001b[0m\u001b[0;34m,\u001b[0m \u001b[0mname\u001b[0m\u001b[0;34m=\u001b[0m\u001b[0mres_name\u001b[0m\u001b[0;34m)\u001b[0m\u001b[0;34m\u001b[0m\u001b[0;34m\u001b[0m\u001b[0m\n",
            "\u001b[0;32m/usr/local/lib/python3.10/dist-packages/pandas/core/ops/array_ops.py\u001b[0m in \u001b[0;36marithmetic_op\u001b[0;34m(left, right, op)\u001b[0m\n\u001b[1;32m    283\u001b[0m         \u001b[0;31m# error: Argument 1 to \"_na_arithmetic_op\" has incompatible type\u001b[0m\u001b[0;34m\u001b[0m\u001b[0;34m\u001b[0m\u001b[0m\n\u001b[1;32m    284\u001b[0m         \u001b[0;31m# \"Union[ExtensionArray, ndarray[Any, Any]]\"; expected \"ndarray[Any, Any]\"\u001b[0m\u001b[0;34m\u001b[0m\u001b[0;34m\u001b[0m\u001b[0m\n\u001b[0;32m--> 285\u001b[0;31m         \u001b[0mres_values\u001b[0m \u001b[0;34m=\u001b[0m \u001b[0m_na_arithmetic_op\u001b[0m\u001b[0;34m(\u001b[0m\u001b[0mleft\u001b[0m\u001b[0;34m,\u001b[0m \u001b[0mright\u001b[0m\u001b[0;34m,\u001b[0m \u001b[0mop\u001b[0m\u001b[0;34m)\u001b[0m  \u001b[0;31m# type: ignore[arg-type]\u001b[0m\u001b[0;34m\u001b[0m\u001b[0;34m\u001b[0m\u001b[0m\n\u001b[0m\u001b[1;32m    286\u001b[0m \u001b[0;34m\u001b[0m\u001b[0m\n\u001b[1;32m    287\u001b[0m     \u001b[0;32mreturn\u001b[0m \u001b[0mres_values\u001b[0m\u001b[0;34m\u001b[0m\u001b[0;34m\u001b[0m\u001b[0m\n",
            "\u001b[0;32m/usr/local/lib/python3.10/dist-packages/pandas/core/ops/array_ops.py\u001b[0m in \u001b[0;36m_na_arithmetic_op\u001b[0;34m(left, right, op, is_cmp)\u001b[0m\n\u001b[1;32m    218\u001b[0m \u001b[0;34m\u001b[0m\u001b[0m\n\u001b[1;32m    219\u001b[0m     \u001b[0;32mtry\u001b[0m\u001b[0;34m:\u001b[0m\u001b[0;34m\u001b[0m\u001b[0;34m\u001b[0m\u001b[0m\n\u001b[0;32m--> 220\u001b[0;31m         \u001b[0mresult\u001b[0m \u001b[0;34m=\u001b[0m \u001b[0mfunc\u001b[0m\u001b[0;34m(\u001b[0m\u001b[0mleft\u001b[0m\u001b[0;34m,\u001b[0m \u001b[0mright\u001b[0m\u001b[0;34m)\u001b[0m\u001b[0;34m\u001b[0m\u001b[0;34m\u001b[0m\u001b[0m\n\u001b[0m\u001b[1;32m    221\u001b[0m     \u001b[0;32mexcept\u001b[0m \u001b[0mTypeError\u001b[0m\u001b[0;34m:\u001b[0m\u001b[0;34m\u001b[0m\u001b[0;34m\u001b[0m\u001b[0m\n\u001b[1;32m    222\u001b[0m         if not is_cmp and (\n",
            "\u001b[0;32m/usr/local/lib/python3.10/dist-packages/pandas/core/computation/expressions.py\u001b[0m in \u001b[0;36mevaluate\u001b[0;34m(op, a, b, use_numexpr)\u001b[0m\n\u001b[1;32m    240\u001b[0m         \u001b[0;32mif\u001b[0m \u001b[0muse_numexpr\u001b[0m\u001b[0;34m:\u001b[0m\u001b[0;34m\u001b[0m\u001b[0;34m\u001b[0m\u001b[0m\n\u001b[1;32m    241\u001b[0m             \u001b[0;31m# error: \"None\" not callable\u001b[0m\u001b[0;34m\u001b[0m\u001b[0;34m\u001b[0m\u001b[0m\n\u001b[0;32m--> 242\u001b[0;31m             \u001b[0;32mreturn\u001b[0m \u001b[0m_evaluate\u001b[0m\u001b[0;34m(\u001b[0m\u001b[0mop\u001b[0m\u001b[0;34m,\u001b[0m \u001b[0mop_str\u001b[0m\u001b[0;34m,\u001b[0m \u001b[0ma\u001b[0m\u001b[0;34m,\u001b[0m \u001b[0mb\u001b[0m\u001b[0;34m)\u001b[0m  \u001b[0;31m# type: ignore[misc]\u001b[0m\u001b[0;34m\u001b[0m\u001b[0;34m\u001b[0m\u001b[0m\n\u001b[0m\u001b[1;32m    243\u001b[0m     \u001b[0;32mreturn\u001b[0m \u001b[0m_evaluate_standard\u001b[0m\u001b[0;34m(\u001b[0m\u001b[0mop\u001b[0m\u001b[0;34m,\u001b[0m \u001b[0mop_str\u001b[0m\u001b[0;34m,\u001b[0m \u001b[0ma\u001b[0m\u001b[0;34m,\u001b[0m \u001b[0mb\u001b[0m\u001b[0;34m)\u001b[0m\u001b[0;34m\u001b[0m\u001b[0;34m\u001b[0m\u001b[0m\n\u001b[1;32m    244\u001b[0m \u001b[0;34m\u001b[0m\u001b[0m\n",
            "\u001b[0;32m/usr/local/lib/python3.10/dist-packages/pandas/core/computation/expressions.py\u001b[0m in \u001b[0;36m_evaluate_numexpr\u001b[0;34m(op, op_str, a, b)\u001b[0m\n\u001b[1;32m    129\u001b[0m \u001b[0;34m\u001b[0m\u001b[0m\n\u001b[1;32m    130\u001b[0m     \u001b[0;32mif\u001b[0m \u001b[0mresult\u001b[0m \u001b[0;32mis\u001b[0m \u001b[0;32mNone\u001b[0m\u001b[0;34m:\u001b[0m\u001b[0;34m\u001b[0m\u001b[0;34m\u001b[0m\u001b[0m\n\u001b[0;32m--> 131\u001b[0;31m         \u001b[0mresult\u001b[0m \u001b[0;34m=\u001b[0m \u001b[0m_evaluate_standard\u001b[0m\u001b[0;34m(\u001b[0m\u001b[0mop\u001b[0m\u001b[0;34m,\u001b[0m \u001b[0mop_str\u001b[0m\u001b[0;34m,\u001b[0m \u001b[0ma\u001b[0m\u001b[0;34m,\u001b[0m \u001b[0mb\u001b[0m\u001b[0;34m)\u001b[0m\u001b[0;34m\u001b[0m\u001b[0;34m\u001b[0m\u001b[0m\n\u001b[0m\u001b[1;32m    132\u001b[0m \u001b[0;34m\u001b[0m\u001b[0m\n\u001b[1;32m    133\u001b[0m     \u001b[0;32mreturn\u001b[0m \u001b[0mresult\u001b[0m\u001b[0;34m\u001b[0m\u001b[0;34m\u001b[0m\u001b[0m\n",
            "\u001b[0;32m/usr/local/lib/python3.10/dist-packages/pandas/core/computation/expressions.py\u001b[0m in \u001b[0;36m_evaluate_standard\u001b[0;34m(op, op_str, a, b)\u001b[0m\n\u001b[1;32m     71\u001b[0m     \u001b[0;32mif\u001b[0m \u001b[0m_TEST_MODE\u001b[0m\u001b[0;34m:\u001b[0m\u001b[0;34m\u001b[0m\u001b[0;34m\u001b[0m\u001b[0m\n\u001b[1;32m     72\u001b[0m         \u001b[0m_store_test_result\u001b[0m\u001b[0;34m(\u001b[0m\u001b[0;32mFalse\u001b[0m\u001b[0;34m)\u001b[0m\u001b[0;34m\u001b[0m\u001b[0;34m\u001b[0m\u001b[0m\n\u001b[0;32m---> 73\u001b[0;31m     \u001b[0;32mreturn\u001b[0m \u001b[0mop\u001b[0m\u001b[0;34m(\u001b[0m\u001b[0ma\u001b[0m\u001b[0;34m,\u001b[0m \u001b[0mb\u001b[0m\u001b[0;34m)\u001b[0m\u001b[0;34m\u001b[0m\u001b[0;34m\u001b[0m\u001b[0m\n\u001b[0m\u001b[1;32m     74\u001b[0m \u001b[0;34m\u001b[0m\u001b[0m\n\u001b[1;32m     75\u001b[0m \u001b[0;34m\u001b[0m\u001b[0m\n",
            "\u001b[0;31mValueError\u001b[0m: operands could not be broadcast together with shapes (16,) (13,) "
          ]
        }
      ]
    },
    {
      "cell_type": "code",
      "source": [
        "rtAction2"
      ],
      "metadata": {
        "id": "3-rZQQuYg-3v"
      },
      "execution_count": null,
      "outputs": []
    },
    {
      "cell_type": "code",
      "source": [
        "len(ix)"
      ],
      "metadata": {
        "id": "UpXCM8d-dsH3",
        "outputId": "459a2491-6c95-4d78-a280-d29e89eba8ce",
        "colab": {
          "base_uri": "https://localhost:8080/"
        }
      },
      "execution_count": 91,
      "outputs": [
        {
          "output_type": "execute_result",
          "data": {
            "text/plain": [
              "56"
            ]
          },
          "metadata": {},
          "execution_count": 91
        }
      ]
    },
    {
      "cell_type": "code",
      "source": [
        "lengths2 = []\n",
        "lengths2"
      ],
      "metadata": {
        "id": "vKcjzuU8drcf",
        "outputId": "43c3d36b-c209-4901-febd-7319ee8951d5",
        "colab": {
          "base_uri": "https://localhost:8080/"
        }
      },
      "execution_count": 79,
      "outputs": [
        {
          "output_type": "execute_result",
          "data": {
            "text/plain": [
              "[]"
            ]
          },
          "metadata": {},
          "execution_count": 79
        }
      ]
    },
    {
      "cell_type": "code",
      "source": [
        "dupCases2['rtAction'][13]"
      ],
      "metadata": {
        "id": "Jr1tsqH0br7Z",
        "outputId": "cc695966-d699-4cdb-ef8f-cd93d50c49d1",
        "colab": {
          "base_uri": "https://localhost:8080/",
          "height": 35
        }
      },
      "execution_count": 53,
      "outputs": [
        {
          "output_type": "execute_result",
          "data": {
            "text/plain": [
              "'[4.799916200000098]'"
            ],
            "application/vnd.google.colaboratory.intrinsic+json": {
              "type": "string"
            }
          },
          "metadata": {},
          "execution_count": 53
        }
      ]
    },
    {
      "cell_type": "code",
      "source": [
        "lengths2 = []\n",
        "lengths2.append(len(dupCases2['rtAction'][13]))\n",
        "lengths2.append(len(dupCases2['rtAction'][14]))"
      ],
      "metadata": {
        "id": "gR0rZ3R9Wzwi"
      },
      "execution_count": 101,
      "outputs": []
    },
    {
      "cell_type": "code",
      "source": [
        "lengths2"
      ],
      "metadata": {
        "id": "cvrpMbfWcV_4",
        "outputId": "dcb37888-b5eb-4137-d742-703e1549cedd",
        "colab": {
          "base_uri": "https://localhost:8080/"
        }
      },
      "execution_count": 67,
      "outputs": [
        {
          "output_type": "execute_result",
          "data": {
            "text/plain": [
              "[19, 56]"
            ]
          },
          "metadata": {},
          "execution_count": 67
        }
      ]
    },
    {
      "cell_type": "code",
      "source": [
        "#This is a scratch cell for testing a single iteration of the loop for the adv task\n",
        "p = 'RBDCW001'\n",
        "ADVRun1 = adventure_data[p]['AdvRun1']\n",
        "discIndx = ADVRun1['SyncPulse_discard.started'].dropna().index\n",
        "discSync = ADVRun1['SyncPulse_discard.started'][discIndx] + ADVRun1['SyncPulse_discard.rt'][discIndx]\n",
        "scannerOffset_adv1 = discSync.iloc[0]  # Account for difference between PsychPy starting and 1st sync pulse being received\n",
        "\n",
        "# Encounter trial volumes\n",
        "EncIndx = ADVRun1['TrialNum'].dropna().index\n",
        "EncSync = np.round(ADVRun1['SyncPulse_Action.started'][EncIndx] + ADVRun1['SyncPulse_Action.rt'][EncIndx] - scannerOffset_adv1, 0)\n",
        "\n",
        "#Extract RTs\n",
        "rtPun = ADVRun1['player_action_keys_punish.rt'][EncIndx].dropna()\n",
        "rtRew = ADVRun1['player_action_keys_reward.rt'][EncIndx].dropna()\n",
        "rtAction = pd.concat([rtPun,rtRew], names='ActionRT')\n",
        "rtAction = rtAction.sort_index(ascending=True)\n",
        "rtAction = rtAction.rename('rtAction')\n",
        "rtAction = rtAction.reset_index()\n",
        "\n",
        "#Extract LR key presses\n",
        "punIndx = ADVRun1['player_action_keys_punish.keys'][EncIndx].dropna().index\n",
        "ADVRun1.loc[punIndx,'player_action_keys_punish.keys'] = 'Punish'\n",
        "rewIndx = ADVRun1['player_action_keys_reward.keys'][EncIndx].dropna().index\n",
        "ADVRun1.loc[rewIndx,'player_action_keys_reward.keys'] = 'Reward'\n",
        "rewPunAction = pd.concat([ADVRun1['player_action_keys_punish.keys'][punIndx],ADVRun1['player_action_keys_reward.keys'][rewIndx]])\n",
        "rewPunAction = rewPunAction.sort_index(ascending=True)\n",
        "rewPunAction = rewPunAction.rename('labAction')\n",
        "rewPunAction = rewPunAction.reset_index()\n",
        "\n",
        "#Check for changes in responses\n",
        "idx = pd.Index(rtAction['index'])\n",
        "dupidx = idx.duplicated(keep = False)\n",
        "dupCases = rtAction[dupidx] #Refer to 0 dataframe\n",
        "\n",
        "lengths = []\n",
        "for ix in dupCases['rtAction']:\n",
        "    length = lengths.append(len(ix))\n",
        "dupCases.insert(2, \"Len\", lengths, True)\n",
        "dropIdx = dupCases[['Len']].idxmin()\n",
        "\n",
        "#Drop duplicates\n",
        "rewPunAction = rewPunAction.drop(dropIdx)\n",
        "rtAction = rtAction.drop(dropIdx)\n",
        "\n",
        "#Convert rt strings to numbers\n",
        "respRT_imgOffset = [float(x[1:16]) for x in rtAction['rtAction']]\n",
        "respRT_imgOffset = np.round(respRT_imgOffset,0)\n",
        "EncAction_LRkeyImg = EncSync + respRT_imgOffset  # used in final event file imgage number\n",
        "\n",
        "#Extract ITI\n",
        "trialITI = ADVRun1['scenDelay'][EncIndx]  # used in final event file ITI\n",
        "trialITI = trialITI.reset_index(drop=True)\n",
        "\n",
        "#Concatenation here\n",
        "label1 =rewPunAction\n",
        "label1 = label1.reset_index(drop=True)\n",
        "onset1 = EncAction_LRkeyImg\n",
        "onset1 = onset1.reset_index(drop=True)\n",
        "duration1 = trialITI\n",
        "events = pd.DataFrame({'trial_type': label1['labAction'], 'onset': onset1, 'duration': duration1})"
      ],
      "metadata": {
        "id": "-Q1cFTY3qNUW"
      },
      "execution_count": null,
      "outputs": []
    },
    {
      "cell_type": "code",
      "source": [
        "#@title Define desired contrast information: [Left/Right button responses]\n",
        "#Desired context: Left-Right\n",
        "#ToDo: Get all instances of left and right button presses and respective image stamps\n",
        "# IATRun1['key_resp_wisw.keys'][wordsImageSWIndx]\n",
        "# IATRun1['key_resp_wisw.rt'][wordsImageSWIndx] # the key reaction time\n",
        "\n",
        "#IAT Run 1\n",
        "#WordsImages_SW volumes\n",
        "wordsImageSWIndx = IATRun1['ImageCentre_wisw'].dropna().index\n",
        "wordsImageSWSync = np.round(IATRun1['SyncPulse_Trial.started'][wordsImageSWIndx]  + IATRun1['SyncPulse_Trial.rt'][wordsImageSWIndx] - scannerOffset,0)\n",
        "respRT_imgOffsetSW = np.round(IATRun1['key_resp_wisw.rt'][wordsImageSWIndx],0)\n",
        "wordsImageSW_LRkeyImg = wordsImageSWSync + respRT_imgOffsetSW #used in final event file\n",
        "wordsImageKeyLabelSW = IATRun1['key_resp_wisw.keys'].replace({2: \"Left\", 1: \"Right\"}) # renamed the left and right\n",
        "wordsImageKeyLabelSW = [x for x in wordsImageKeyLabelSW if str(x) != 'nan'] #used in final event file\n",
        "wordImagesSW_ITI = np.round(IATRun1['ITI'][wordsImageSWIndx],0) #used in final event file\n",
        "\n",
        "#WordsImages_WS volumes\n",
        "wordsImageWSIndx = IATRun1['ImageCentre_wiws'].dropna().index\n",
        "wordsImageWSSync = np.round(IATRun1['SyncPulse_Trial.started'][wordsImageWSIndx]  + IATRun1['SyncPulse_Trial.rt'][wordsImageWSIndx] - scannerOffset,0)\n",
        "respRT_imgOffsetWS = np.round(IATRun1['key_resp_wiws.rt'][wordsImageWSIndx],0)\n",
        "wordsImageWS_LRkeyImg = wordsImageWSSync + respRT_imgOffsetWS #used in final event file\n",
        "wordsImageKeyLabelWS = IATRun1['key_resp_wiws.keys'].replace({2: \"Left\", 1: \"Right\"}) # renamed the left and right\n",
        "wordsImageKeyLabelWS = [x for x in wordsImageKeyLabelWS if str(x) != 'nan'] #used in final event file\n",
        "wordImagesWS_ITI = np.round(IATRun1['ITI'][wordsImageWSIndx],0) #used in final event file\n",
        "\n",
        "#IAT Run 2\n",
        "#WordsImages_SI volumes\n",
        "wordsImageSIIndx = IATRun2['ImageCentre_wisi'].dropna().index\n",
        "wordsImageSISync = np.round(IATRun2['SyncPulse_Trial.started'][wordsImageSIIndx]  + IATRun2['SyncPulse_Trial.rt'][wordsImageSIIndx] - scannerOffset2,0)\n",
        "respRT_imgOffsetSI = np.round(IATRun2['key_resp_wisi.rt'][wordsImageSIIndx],0)\n",
        "wordsImageSI_LRkeyImg = wordsImageSISync + respRT_imgOffsetSI #used in final event file\n",
        "wordsImageKeyLabelSI = IATRun2['key_resp_wisi.keys'].replace({2: \"Left\", 1: \"Right\"}) # renamed the left and right\n",
        "wordsImageKeyLabelSI = [x for x in wordsImageKeyLabelSI if str(x) != 'nan'] #used in final event file\n",
        "wordImagesSI_ITI = np.round(IATRun2['ITI'][wordsImageSIIndx],0) #used in final event file\n",
        "\n",
        "#WordsImages_IS volumes\n",
        "wordsImageISIndx = IATRun2['ImageCentre_wiis'].dropna().index\n",
        "wordsImageISSync = np.round(IATRun2['SyncPulse_Trial.started'][wordsImageISIndx]  + IATRun2['SyncPulse_Trial.rt'][wordsImageISIndx] - scannerOffset2,0)\n",
        "respRT_imgOffsetIS = np.round(IATRun2['key_resp_wiis.rt'][wordsImageISIndx],0)\n",
        "wordsImageIS_LRkeyImg = wordsImageISSync + respRT_imgOffsetIS #used in final event file\n",
        "wordsImageKeyLabelIS = IATRun2['key_resp_wiis.keys'].replace({2: \"Left\", 1: \"Right\"}) # renamed the left and right\n",
        "wordsImageKeyLabelIS = [x for x in wordsImageKeyLabelIS if str(x) != 'nan'] #used in final event file\n",
        "wordImagesIS_ITI = np.round(IATRun2['ITI'][wordsImageISIndx],0) #used in final event file\n",
        "\n",
        "#IAT Run 3\n",
        "#WordsImages_BG volumes\n",
        "wordsImageBGIndx = IATRun3['ImageCentre_wibg'].dropna().index\n",
        "wordsImageBGSync = np.round(IATRun3['SyncPulse_Trial.started'][wordsImageBGIndx]  + IATRun3['SyncPulse_Trial.rt'][wordsImageBGIndx] - scannerOffset3,0)\n",
        "respRT_imgOffsetBG = np.round(IATRun3['key_resp_wibg.rt'][wordsImageBGIndx],0)\n",
        "wordsImageBG_LRkeyImg = wordsImageBGSync + respRT_imgOffsetBG #used in final event file\n",
        "wordsImageKeyLabelBG = IATRun3['key_resp_wibg.keys'].replace({2: \"Left\", 1: \"Right\"}) # renamed the left and right\n",
        "wordsImageKeyLabelBG = [x for x in wordsImageKeyLabelBG if str(x) != 'nan'] #used in final event file\n",
        "wordImagesBG_ITI = np.round(IATRun3['ITI'][wordsImageBGIndx],0) #used in final event file\n",
        "\n",
        "#WordsImages_GB volumes\n",
        "wordsImageGBIndx = IATRun3['ImageCentre_wigb'].dropna().index\n",
        "wordsImageGBSync = np.round(IATRun3['SyncPulse_Trial.started'][wordsImageGBIndx]  + IATRun3['SyncPulse_Trial.rt'][wordsImageGBIndx] - scannerOffset3,0)\n",
        "respRT_imgOffsetGB = np.round(IATRun3['key_resp_wigb.rt'][wordsImageGBIndx],0)\n",
        "wordsImageGB_LRkeyImg = wordsImageGBSync + respRT_imgOffsetGB #used in final event file\n",
        "wordsImageKeyLabelGB = IATRun3['key_resp_wigb.keys'].replace({2: \"Left\", 1: \"Right\"}) # renamed the left and right\n",
        "wordsImageKeyLabelGB = [x for x in wordsImageKeyLabelGB if str(x) != 'nan'] #used in final event file\n",
        "wordImagesGB_ITI = np.round(IATRun3['ITI'][wordsImageGBIndx],0) #used in final event file\n",
        "\n",
        "#Add concatonation here:\n",
        "#IAT Run 1\n",
        "label1 = wordsImageKeyLabelSW + wordsImageKeyLabelWS\n",
        "onset1 = pd.concat([wordsImageSW_LRkeyImg, wordsImageWS_LRkeyImg])\n",
        "onset1 = onset1.reset_index(drop = TRUE)\n",
        "duration1 = pd.concat([wordImagesSW_ITI, wordImagesWS_ITI])\n",
        "duration1 = duration1.reset_index(drop = TRUE)\n",
        "events = pd.DataFrame({'trial_type':label1, 'onset':onset1, 'duration':duration1})\n",
        "events.to_csv('eventsIATRun1.csv', sep = \"\\t\")\n",
        "\n",
        "#IAT Run 2\n",
        "label2 = wordsImageKeyLabelSI + wordsImageKeyLabelIS\n",
        "onset2 = pd.concat([wordsImageSI_LRkeyImg, wordsImageIS_LRkeyImg])\n",
        "onset2 = onset2.reset_index(drop = TRUE)\n",
        "duration2 = pd.concat([wordImagesSI_ITI, wordImagesIS_ITI])\n",
        "duration2 = duration2.reset_index(drop = TRUE)\n",
        "events = pd.DataFrame({'trial_type':label2, 'onset':onset2, 'duration':duration2})\n",
        "events.to_csv('eventsIATRun2.csv', sep = \"\\t\")\n",
        "\n",
        "#IAT Run 3\n",
        "label3 = wordsImageKeyLabelBG + wordsImageKeyLabelGB\n",
        "onset3 = pd.concat([wordsImageBG_LRkeyImg, wordsImageGB_LRkeyImg])\n",
        "onset3 = onset3.reset_index(drop = TRUE)\n",
        "duration3 = pd.concat([wordImagesBG_ITI, wordImagesGB_ITI])\n",
        "duration3 = duration3.reset_index(drop = TRUE)\n",
        "events = pd.DataFrame({'trial_type':label3, 'onset':onset3, 'duration':duration3})\n",
        "events.to_csv('eventsIATRun3.csv', sep = \"\\t\")"
      ],
      "metadata": {
        "id": "A6CvcDZInYKs",
        "cellView": "form"
      },
      "execution_count": null,
      "outputs": []
    },
    {
      "cell_type": "code",
      "source": [
        "conditions\n",
        "onsets = [list(events[events.trial_type == cond].onset) for cond in conditions]\n",
        "durations = [list(events[events.trial_type == cond].duration) for cond in conditions]"
      ],
      "metadata": {
        "id": "hoAp9rRMYxx1"
      },
      "execution_count": null,
      "outputs": []
    },
    {
      "cell_type": "code",
      "source": [
        "#@title Concatonating SyncPulse Labels and corresponding image assignments\n",
        "imgTiming = pd.DataFrame({'SyncPulseID':[], 'ImgNumber':[]})\n",
        "\n",
        "imgTiming['ImgNumber'] = pd.concat([pd.DataFrame(discSync), pd.DataFrame(baselineSync), pd.DataFrame(justImgSync), pd.DataFrame(justWordSWSync),\n",
        "                                    pd.DataFrame(wordsImageSWSync), pd.DataFrame(justWordWSSync), pd.DataFrame(wordsImageWSSync)], ignore_index=True)\n",
        "imgTiming['ImgNumber'] = imgTiming['ImgNumber'].round(0)\n",
        "\n",
        "imgTiming['SyncPulseID'] = pd.concat([pd.DataFrame(['Discard']*len(discSync)), pd.DataFrame(['Baseline']*len(baselineSync)),\n",
        "                                      pd.DataFrame(['Just Image']*len(justImgSync)), pd.DataFrame(['Just Word SW']*len(justWordSWSync)), pd.DataFrame(['Word Image SW']*len(wordsImageSWSync)),\n",
        "                                      pd.DataFrame(['Just Word WS']*len(justWordWSSync)), pd.DataFrame(['Word Image WS']*len(wordsImageWSSync))], ignore_index = True)\n",
        "\n",
        "\n"
      ],
      "metadata": {
        "id": "56m_fhFOwlPs"
      },
      "execution_count": null,
      "outputs": []
    },
    {
      "cell_type": "code",
      "source": [
        "#@title junk attempts\n",
        "#@title Define Contrast Analyses\n",
        "\n",
        "#Loop through each participants and each run within participants\n",
        "#for p in participant_data:\n",
        "#  try: #Run 1 processing\n",
        "#    IATRun1 = participant_data[p]['Run1']  # Initialize a nested dictionary for each participant\n",
        "#    discIndx = IATRun1['SyncPulse_Discard.started'].dropna().index\n",
        "#    discSync = IATRun1['SyncPulse_Discard.started'][discIndx]  + IATRun1['SyncPulse_Discard.rt'][discIndx]\n",
        "#    scannerOffset = discSync[0] #Account for difference between PsychPy starting and 1st sync pulse being recieved\n",
        "\n",
        "    #WordsImages_SW volumes\n",
        "#    wordsImageSWIndx = IATRun1['ImageCentre_wisw'].dropna().index\n",
        "#    wordsImageSWSync = np.round(IATRun1['SyncPulse_Trial.started'][wordsImageSWIndx]  + IATRun1['SyncPulse_Trial.rt'][wordsImageSWIndx] - scannerOffset,0)\n",
        "#    respRT_imgOffsetSW = np.round(IATRun1['key_resp_wisw.rt'][wordsImageSWIndx],0)\n",
        "#    wordsImageSW_LRkeyImg = wordsImageSWSync + respRT_imgOffsetSW #used in final event file\n",
        "#    wordsImageKeyLabelSW = IATRun1['key_resp_wisw.keys'].replace({2: \"Left\", 1: \"Right\"}) # renamed the left and right\n",
        "#    wordsImageKeyLabelSW = [x for x in wordsImageKeyLabelSW if str(x) != 'nan'] #used in final event file\n",
        "#    wordImagesSW_ITI = np.round(IATRun1['ITI'][wordsImageSWIndx],0) #used in final event file\n",
        "\n",
        "    #WordsImages_WS volumes\n",
        "#    wordsImageWSIndx = IATRun1['ImageCentre_wiws'].dropna().index\n",
        "#    wordsImageWSSync = np.round(IATRun1['SyncPulse_Trial.started'][wordsImageWSIndx]  + IATRun1['SyncPulse_Trial.rt'][wordsImageWSIndx] - scannerOffset,0)\n",
        "#    respRT_imgOffsetWS = np.round(IATRun1['key_resp_wiws.rt'][wordsImageWSIndx],0)\n",
        "#    wordsImageWS_LRkeyImg = wordsImageWSSync + respRT_imgOffsetWS #used in final event file\n",
        "#    wordsImageKeyLabelWS = IATRun1['key_resp_wiws.keys'].replace({2: \"Left\", 1: \"Right\"}) # renamed the left and right\n",
        "#    wordsImageKeyLabelWS = [x for x in wordsImageKeyLabelWS if str(x) != 'nan'] #used in final event file\n",
        "#    wordImagesWS_ITI = np.round(IATRun1['ITI'][wordsImageWSIndx],0) #used in final event file\n",
        "\n",
        "    #Add concatonation here:\n",
        "#    label1 = wordsImageKeyLabelSW + wordsImageKeyLabelWS\n",
        "#    onset1 = pd.concat([wordsImageSW_LRkeyImg, wordsImageWS_LRkeyImg])\n",
        "#    onset1 = onset1.reset_index(drop = TRUE)\n",
        "#    duration1 = pd.concat([wordImagesSW_ITI, wordImagesWS_ITI])\n",
        "#    duration1 = duration1.reset_index(drop = TRUE)\n",
        "#    events = pd.DataFrame({'trial_type':label1, 'onset':onset1, 'duration':duration1})\n",
        "#    events.to_csv('eventsIATRun1.csv', sep = \"\\t\")\n",
        "#  except Exception:\n",
        "#    print(f\"IATRun1 does not exist for participant: {p}\")\n",
        "\n",
        "#  try: #Run 2 processing\n",
        "#    IATRun2 = participant_data[p]['Run2']  # Initialize a nested dictionary for each participant\n",
        "#    discIndx2 = IATRun2['SyncPulse_Discard.started'].dropna().index\n",
        "#    discSync2 = IATRun2['SyncPulse_Discard.started'][discIndx2]  + IATRun2['SyncPulse_Discard.rt'][discIndx2]\n",
        "\n",
        "    #WordsImages_SI volumes\n",
        "#    wordsImageSIIndx = IATRun2['ImageCentre_wisi'].dropna().index\n",
        "#    wordsImageSISync = np.round(IATRun2['SyncPulse_Trial.started'][wordsImageSIIndx]  + IATRun2['SyncPulse_Trial.rt'][wordsImageSIIndx] - scannerOffset2,0)\n",
        "#    respRT_imgOffsetSI = np.round(IATRun2['key_resp_wisi.rt'][wordsImageSIIndx],0)\n",
        "#    wordsImageSI_LRkeyImg = wordsImageSISync + respRT_imgOffsetSI #used in final event file\n",
        "#    wordsImageKeyLabelSI = IATRun2['key_resp_wisi.keys'].replace({2: \"Left\", 1: \"Right\"}) # renamed the left and right\n",
        "#    wordsImageKeyLabelSI = [x for x in wordsImageKeyLabelSI if str(x) != 'nan'] #used in final event file\n",
        "#    wordImagesSI_ITI = np.round(IATRun2['ITI'][wordsImageSIIndx],0) #used in final event file\n",
        "\n",
        "    #WordsImages_IS volumes\n",
        "#    wordsImageISIndx = IATRun2['ImageCentre_wiis'].dropna().index\n",
        "#    wordsImageISSync = np.round(IATRun2['SyncPulse_Trial.started'][wordsImageISIndx]  + IATRun2['SyncPulse_Trial.rt'][wordsImageISIndx] - scannerOffset2,0)\n",
        "#    respRT_imgOffsetIS = np.round(IATRun2['key_resp_wiis.rt'][wordsImageISIndx],0)\n",
        "#    wordsImageIS_LRkeyImg = wordsImageISSync + respRT_imgOffsetIS #used in final event file\n",
        "#    wordsImageKeyLabelIS = IATRun2['key_resp_wiis.keys'].replace({2: \"Left\", 1: \"Right\"}) # renamed the left and right\n",
        "#    wordsImageKeyLabelIS = [x for x in wordsImageKeyLabelIS if str(x) != 'nan'] #used in final event file\n",
        "#    wordImagesIS_ITI = np.round(IATRun2['ITI'][wordsImageISIndx],0) #used in final event file\n",
        "\n",
        "    #IAT Run 2\n",
        "#    label2 = wordsImageKeyLabelSI + wordsImageKeyLabelIS\n",
        "#    onset2 = pd.concat([wordsImageSI_LRkeyImg, wordsImageIS_LRkeyImg])\n",
        "#   onset2 = onset2.reset_index(drop = TRUE)\n",
        "#    duration2 = pd.concat([wordImagesSI_ITI, wordImagesIS_ITI])\n",
        "#    duration2 = duration2.reset_index(drop = TRUE)\n",
        "#    events = pd.DataFrame({'trial_type':label2, 'onset':onset2, 'duration':duration2})\n",
        "#    events.to_csv('eventsIATRun2.csv', sep = \"\\t\")\n",
        "#  except Exception:\n",
        "#    print(f\"IATRun1 does not exist for participant: {p}\")\n",
        "\n",
        "    #IAT Run 3\n",
        "    #Discarded volumes\n",
        "#    IATRun3 = participant_data[p]['Run3']  # Initialize a nested dictionary for each participant\n",
        "#    discIndx3 = IATRun3['SyncPulse_Discard.started'].dropna().index\n",
        "#    discSync3 = IATRun3['SyncPulse_Discard.started'][discIndx3]  + IATRun3['SyncPulse_Discard.rt'][discIndx3]\n",
        "#    scannerOffset3 = discSync3[0] #Account for difference between PsychPy starting and 1st sync pulse being recieved\n",
        "\n",
        "    #WordsImages_BG volumes\n",
        " #   wordsImageBGIndx = IATRun3['ImageCentre_wibg'].dropna().index\n",
        " #   wordsImageBGSync = np.round(IATRun3['SyncPulse_Trial.started'][wordsImageBGIndx]  + IATRun3['SyncPulse_Trial.rt'][wordsImageBGIndx] - scannerOffset3,0)\n",
        " #   respRT_imgOffsetBG = np.round(IATRun3['key_resp_wibg.rt'][wordsImageBGIndx],0)\n",
        " #   wordsImageBG_LRkeyImg = wordsImageBGSync + respRT_imgOffsetBG #used in final event file\n",
        " #   wordsImageKeyLabelBG = IATRun3['key_resp_wibg.keys'].replace({2: \"Left\", 1: \"Right\"}) # renamed the left and right\n",
        " #   wordsImageKeyLabelBG = [x for x in wordsImageKeyLabelBG if str(x) != 'nan'] #used in final event file\n",
        " #   wordImagesBG_ITI = np.round(IATRun3['ITI'][wordsImageBGIndx],0) #used in final event file\n",
        "\n",
        "    #WordsImages_GB volumes\n",
        " #   wordsImageGBIndx = IATRun3['ImageCentre_wigb'].dropna().index\n",
        " #   wordsImageGBSync = np.round(IATRun3['SyncPulse_Trial.started'][wordsImageGBIndx]  + IATRun3['SyncPulse_Trial.rt'][wordsImageGBIndx] - scannerOffset3,0)\n",
        " #   respRT_imgOffsetGB = np.round(IATRun3['key_resp_wigb.rt'][wordsImageGBIndx],0)\n",
        " #   wordsImageGB_LRkeyImg = wordsImageGBSync + respRT_imgOffsetGB #used in final event file\n",
        " #   wordsImageKeyLabelGB = IATRun3['key_resp_wigb.keys'].replace({2: \"Left\", 1: \"Right\"}) # renamed the left and right\n",
        "#  wordsImageKeyLabelGB = [x for x in wordsImageKeyLabelGB if str(x) != 'nan'] #used in final event file\n",
        "#    wordImagesGB_ITI = np.round(IATRun3['ITI'][wordsImageGBIndx],0) #used in final event file\n",
        "\n",
        "#    label3 = wordsImageKeyLabelBG + wordsImageKeyLabelGB\n",
        "#    onset3 = pd.concat([wordsImageBG_LRkeyImg, wordsImageGB_LRkeyImg])\n",
        "#    onset3 = onset3.reset_index(drop = TRUE)\n",
        "#    duration3 = pd.concat([wordImagesBG_ITI, wordImagesGB_ITI])\n",
        "#    duration3 = duration3.reset_index(drop = TRUE)\n",
        "#    events = pd.DataFrame({'trial_type':label3, 'onset':onset3, 'duration':duration3})\n",
        "#    events.to_csv('eventsIATRun3.csv', sep = \"\\t\")\n",
        "#  except Exception:\n",
        "#    print(f\"IATRun1 does not exist for participant: {p}\")\n",
        "\n",
        "#reload = pd.read_csv('testevents.csv', sep=\"\\t\")\n"
      ],
      "metadata": {
        "id": "YcQAPIFe1dj9",
        "cellView": "form"
      },
      "execution_count": null,
      "outputs": []
    }
  ]
}
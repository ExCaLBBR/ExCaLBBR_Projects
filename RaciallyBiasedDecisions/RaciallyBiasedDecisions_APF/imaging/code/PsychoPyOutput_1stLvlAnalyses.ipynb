{
  "nbformat": 4,
  "nbformat_minor": 0,
  "metadata": {
    "colab": {
      "provenance": [],
      "include_colab_link": true
    },
    "kernelspec": {
      "name": "python3",
      "display_name": "Python 3"
    },
    "language_info": {
      "name": "python"
    }
  },
  "cells": [
    {
      "cell_type": "markdown",
      "metadata": {
        "id": "view-in-github",
        "colab_type": "text"
      },
      "source": [
        "<a href=\"https://colab.research.google.com/github/ExCaLBBR/ExCaLBBR_Projects/blob/main/RaciallyBiasedDecisions/RaciallyBiasedDecisions_APF/imaging/code/PsychoPyOutput_1stLvlAnalyses.ipynb\" target=\"_parent\"><img src=\"https://colab.research.google.com/assets/colab-badge.svg\" alt=\"Open In Colab\"/></a>"
      ]
    },
    {
      "cell_type": "markdown",
      "source": [
        "Gorilla Info: <br>\n",
        "Project: RaciallyBiasedDecisions_APF <br>\n",
        "Account: Roberto Vargas (robertov@andrew.cmu.edu)"
      ],
      "metadata": {
        "id": "C9mud3ByqVgH"
      }
    },
    {
      "cell_type": "code",
      "source": [
        "# @title Install dependancies\n",
        "#Load relevant libraries and install dependencies\n",
        "import pandas as pd\n",
        "import numpy as np\n",
        "import random"
      ],
      "metadata": {
        "id": "08gBma2_ivoE"
      },
      "execution_count": 1,
      "outputs": []
    },
    {
      "cell_type": "code",
      "source": [
        "# @title Define Utility Functions\n",
        "# random number\n",
        "def getNum(v) :\n",
        "\n",
        "    # Size of the vector\n",
        "    n = len(v)\n",
        "\n",
        "    # Generate a random number within\n",
        "    # the index range\n",
        "    index = random.randint(0, n - 1)\n",
        "\n",
        "    # Get random number from the vector\n",
        "    num = v[index]\n",
        "\n",
        "    # Remove the number from the vector\n",
        "    v[index], v[n - 1] = v[n - 1], v[index]\n",
        "    v.pop()\n",
        "\n",
        "    # Return the removed number\n",
        "    return num\n",
        "\n",
        "# Function to generate n non-repeating\n",
        "# random numbers\n",
        "def generateRandom(n) :\n",
        "\n",
        "    v = [0] * n\n",
        "\n",
        "    # Fill the vector with the values\n",
        "    # 1, 2, 3, ..., n\n",
        "    for i in range(n) :\n",
        "        v[i] = i + 1\n",
        "\n",
        "    # While vector has elements get a\n",
        "    # random number from the vector\n",
        "    # and print it\n",
        "    while (len(v)) :\n",
        "        print(getNum(v), end = \" \")"
      ],
      "metadata": {
        "cellView": "form",
        "id": "4V1f5TP_DGCT"
      },
      "execution_count": null,
      "outputs": []
    },
    {
      "cell_type": "code",
      "source": [
        "#@title Load data\n",
        "\n",
        "#Load IAT data\n",
        "url = 'https://raw.githubusercontent.com/ExCaLBBR/ExCaLBBR_Projects/main/RaciallyBiasedDecisions/RaciallyBiasedDecisions_APF/imaging/psychoPy/behOutput/raw/Plt002_Run1_IAT_fMRI.csv'\n",
        "IATRun1 = pd.read_csv(url)\n",
        "url = 'https://raw.githubusercontent.com/ExCaLBBR/ExCaLBBR_Projects/main/RaciallyBiasedDecisions/RaciallyBiasedDecisions_APF/imaging/psychoPy/behOutput/raw/Plt002_Run2_IAT_fMRI.csv'\n",
        "IATRun2 = pd.read_csv(url)\n",
        "# url = 'https://raw.githubusercontent.com/ExCaLBBR/ExCaLBBR_Projects/main/RaciallyBiasedDecisions/RaciallyBiasedDecisions_APF/imaging/psychoPy/behOutput/raw/Plt002_Run3_IAT_fMRI.csv'\n",
        "# IATRun3 = pd.read_csv(url)\n",
        "#df_demographic_C = pd.concat([a,b], ignore_index=True, sort=False)\n",
        "\n",
        "#Load Adv data\n",
        "url = 'https://raw.githubusercontent.com/ExCaLBBR/ExCaLBBR_Projects/main/RaciallyBiasedDecisions/RaciallyBiasedDecisions_APF/imaging/psychoPy/behOutput/raw/Plt002_Run1_AdvTask_fMRI.csv'\n",
        "AdvRun1 = pd.read_csv(url)\n",
        "url = 'https://raw.githubusercontent.com/ExCaLBBR/ExCaLBBR_Projects/main/RaciallyBiasedDecisions/RaciallyBiasedDecisions_APF/imaging/psychoPy/behOutput/raw/Plt002_Run2_AdvTask_fMRI.csv'\n",
        "AdvRun2 = pd.read_csv(url)\n",
        "#df_demographic_W = pd.concat([a,b], ignore_index=True, sort=False)"
      ],
      "metadata": {
        "id": "owPPCT0MoPkD"
      },
      "execution_count": 3,
      "outputs": []
    },
    {
      "cell_type": "code",
      "source": [
        "#@title IAT Run 1\n",
        "\n",
        "#Discarded volumes\n",
        "IATRun1['SyncPulse_Discard.started'].dropna()\n",
        "\n",
        "#Baseline volumes\n",
        "\n",
        "#JustImages volumes\n",
        "\n",
        "#JustWords_SW volumes\n",
        "\n",
        "#WordsImages_SW volumes\n",
        "\n",
        "#JustWords_WS volumes\n",
        "\n",
        "#WordsImages_WS volumes\n",
        "\n",
        "\n",
        "#General loop [psuedo]\n"
      ],
      "metadata": {
        "id": "_97rCRYEOQSp",
        "outputId": "f8e1ac44-eafa-4740-a069-4e617848853f",
        "colab": {
          "base_uri": "https://localhost:8080/"
        }
      },
      "execution_count": 8,
      "outputs": [
        {
          "output_type": "execute_result",
          "data": {
            "text/plain": [
              "0     0.005495\n",
              "1    12.039991\n",
              "2    13.021643\n",
              "3    14.022073\n",
              "Name: SyncPulse_Discard.started, dtype: float64"
            ]
          },
          "metadata": {},
          "execution_count": 8
        }
      ]
    }
  ]
}
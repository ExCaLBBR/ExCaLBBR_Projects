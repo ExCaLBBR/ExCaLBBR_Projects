{
  "nbformat": 4,
  "nbformat_minor": 0,
  "metadata": {
    "colab": {
      "provenance": [],
      "authorship_tag": "ABX9TyN3ltgruztEHJaXH+1GLQLN",
      "include_colab_link": true
    },
    "kernelspec": {
      "name": "python3",
      "display_name": "Python 3"
    },
    "language_info": {
      "name": "python"
    }
  },
  "cells": [
    {
      "cell_type": "markdown",
      "metadata": {
        "id": "view-in-github",
        "colab_type": "text"
      },
      "source": [
        "<a href=\"https://colab.research.google.com/github/ExCaLBBR/ExCaLBBR_Projects/blob/main/RaciallyBiasedDecisions/RaciallyBiasedDecisions_APF/imaging/code/AdvTask_PsychoPy_Gen.ipynb\" target=\"_parent\"><img src=\"https://colab.research.google.com/assets/colab-badge.svg\" alt=\"Open In Colab\"/></a>"
      ]
    },
    {
      "cell_type": "code",
      "execution_count": null,
      "metadata": {
        "id": "f-Q5Nzen_qyi"
      },
      "outputs": [],
      "source": [
        "# @title Install dependancies\n",
        "#Load relevant libraries and install dependencies\n",
        "import pandas as pd\n",
        "import numpy as np\n",
        "#import re"
      ]
    },
    {
      "cell_type": "code",
      "source": [
        "#@title Load Files:\n",
        "#Load Conditions\n",
        "url = 'https://raw.githubusercontent.com/ExCaLBBR/ExCaLBBR_Projects/main/RaciallyBiasedDecisions/RaciallyBiasedDecisions_APF/imaging/psychoPy/advConditions.csv'\n",
        "conditions = pd.read_csv(url,dtype=str)\n",
        "\n",
        "#Load Trials\n",
        "url = 'https://raw.githubusercontent.com/ExCaLBBR/ExCaLBBR_Projects/main/RaciallyBiasedDecisions/RaciallyBiasedDecisions_APF/imaging/psychoPy/expandedScenarios.csv'\n",
        "trials = pd.read_csv(url)"
      ],
      "metadata": {
        "id": "js1sLHr3_0rm"
      },
      "execution_count": null,
      "outputs": []
    },
    {
      "cell_type": "code",
      "source": [
        "#@title Generate Delays for ITI\n",
        "trialn = 18\n",
        "Scen1_ITIdelays = (np.around(np.random.default_rng().exponential(scale=1, size=trialn),decimals=0))+6\n",
        "Scen1_ITIdelays = [x-2 if x > 9 else x for x in Scen1_ITIdelays]\n",
        "Scen2_ITIdelays = (np.around(np.random.default_rng().exponential(scale=1, size=trialn),decimals=0))+6\n",
        "Scen2_ITIdelays = [x-2 if x > 9 else x for x in Scen2_ITIdelays]"
      ],
      "metadata": {
        "id": "iscL8fuw_3Ru"
      },
      "execution_count": null,
      "outputs": []
    },
    {
      "cell_type": "code",
      "source": [
        "#@title Create PsychoPy Input for first scenario\n",
        "\n",
        "trialsScen1 = trials.loc[trials['Scenario'] == 1]\n",
        "\n",
        "Scenario1 = pd.DataFrame({'ConditionCode':[],'Condition':[], 'Trial#':[], 'TrialType':[], 'PlayerA':[], 'PlayerB':[], 'EncounterIntro':[], 'PlayerAction':[], 'RewardFeedback':[], 'PunishFeedback':[], 'EncounterPlayer':[], 'scenDelay':[]})\n",
        "\n",
        "for p in range(len(conditions['ConditionCode'])):\n",
        "  trialInfo = pd.DataFrame({'ConditionCode':[],'Condition':[], 'Trial#':[], 'TrialType':[], 'PlayerA':[], 'PlayerB':[], 'EncounterIntro':[], 'PlayerAction':[], 'RewardFeedback':[], 'PunishFeedback':[], 'EncounterPlayer':[], 'scenDelay':[]})\n",
        "  for t in range(len(trialsScen1['EncNumber'])):\n",
        "    trialInfo.at[t,'ConditionCode'] = conditions['ConditionCode'][p]\n",
        "    trialInfo.at[t, 'Condition'] = conditions['Condition'][p]\n",
        "    trialInfo.at[t, 'Trial#'] = trialsScen1['EncNumber'][t]\n",
        "    trialInfo.at[t, 'TrialType'] = trialsScen1['Type'][t]\n",
        "    trialInfo.at[t, 'PlayerA'] = conditions['PlayerA'][p]\n",
        "    trialInfo.at[t, 'PlayerB'] = conditions['PlayerB'][p]\n",
        "    trialInfo.at[t, 'EncounterIntro'] = trialsScen1['EncounterText'][t]\n",
        "\n",
        "    #Define PlayerAction\n",
        "    if trialsScen1['AdvNumber'][t] == 1: trialInfo.at[t,'PlayerAction'] = trialsScen1['ActionText'][t].replace('xADV1x', conditions['PlayerA'][p])\n",
        "    elif trialsScen1['AdvNumber'][t] == 2: trialInfo.at[t,'PlayerAction'] = trialsScen1['ActionText'][t].replace('xADV2x', conditions['PlayerB'][p])\n",
        "    if trialInfo.at[t,'ConditionCode'].startswith('1'): trialInfo.at[t,'PlayerAction'] = trialInfo.at[t,'PlayerAction'].replace('xpro1x', 'her')\n",
        "    if trialInfo.at[t,'ConditionCode'].startswith('1'): trialInfo.at[t,'PlayerAction'] = trialInfo.at[t,'PlayerAction'].replace('xpro2x', 'She')\n",
        "    if trialInfo.at[t,'ConditionCode'].startswith('0'): trialInfo.at[t,'PlayerAction'] = trialInfo.at[t,'PlayerAction'].replace('xpro1x', 'his')\n",
        "    if trialInfo.at[t,'ConditionCode'].startswith('0'): trialInfo.at[t,'PlayerAction'] = trialInfo.at[t,'PlayerAction'].replace('xpro2x', 'He')\n",
        "\n",
        "    #Define RewardFeedback\n",
        "    if trialsScen1['AdvNumber'][t] == 1: trialInfo.at[t,'RewardFeedback'] = trialsScen1['RewardText'][t].replace('xADV1x', conditions['PlayerA'][p])\n",
        "    elif trialsScen1['AdvNumber'][t] == 2: trialInfo.at[t,'RewardFeedback'] = trialsScen1['RewardText'][t].replace('xADV2x', conditions['PlayerB'][p])\n",
        "    if trialInfo.at[t,'ConditionCode'].startswith('1'): trialInfo.at[t,'RewardFeedback'] = trialInfo.at[t,'RewardFeedback'].replace('xpro1x', 'her')\n",
        "    if trialInfo.at[t,'ConditionCode'].startswith('1'): trialInfo.at[t,'RewardFeedback'] = trialInfo.at[t,'RewardFeedback'].replace('xpro2x', 'She')\n",
        "    if trialInfo.at[t,'ConditionCode'].startswith('0'): trialInfo.at[t,'RewardFeedback'] = trialInfo.at[t,'RewardFeedback'].replace('xpro1x', 'his')\n",
        "    if trialInfo.at[t,'ConditionCode'].startswith('0'): trialInfo.at[t,'RewardFeedback'] = trialInfo.at[t,'RewardFeedback'].replace('xpro2x', 'He')\n",
        "\n",
        "    #Define PunishFeedback\n",
        "    if trialsScen1['AdvNumber'][t] == 1: trialInfo.at[t,'PunishFeedback'] = trialsScen1['PunishText'][t].replace('xADV1x', conditions['PlayerA'][p])\n",
        "    elif trialsScen1['AdvNumber'][t] == 2: trialInfo.at[t,'PunishFeedback'] = trialsScen1['PunishText'][t].replace('xADV2x', conditions['PlayerB'][p])\n",
        "    if trialInfo.at[t,'ConditionCode'].startswith('1'): trialInfo.at[t,'PunishFeedback'] = trialInfo.at[t,'PunishFeedback'].replace('xpro1x', 'her')\n",
        "    if trialInfo.at[t,'ConditionCode'].startswith('1'): trialInfo.at[t,'PunishFeedback'] = trialInfo.at[t,'PunishFeedback'].replace('xpro2x', 'She')\n",
        "    if trialInfo.at[t,'ConditionCode'].startswith('0'): trialInfo.at[t,'PunishFeedback'] = trialInfo.at[t,'PunishFeedback'].replace('xpro1x', 'his')\n",
        "    if trialInfo.at[t,'ConditionCode'].startswith('0'): trialInfo.at[t,'PunishFeedback'] = trialInfo.at[t,'PunishFeedback'].replace('xpro2x', 'He')\n",
        "\n",
        "    #Define Encounter Player\n",
        "    if trialsScen1['AdvNumber'][t] == 1: trialInfo.at[t,'EncounterPlayer'] = conditions['PlayerA'][p]\n",
        "    elif trialsScen1['AdvNumber'][t] == 2: trialInfo.at[t,'EncounterPlayer'] = conditions['PlayerB'][p]\n",
        "\n",
        "    trialInfo.at[t,'scenDelay'] = Scen1_ITIdelays[t]\n",
        "\n",
        "  Scenario1 = pd.concat([Scenario1,trialInfo],ignore_index=True) #append blank data frame\n"
      ],
      "metadata": {
        "id": "MUEeAebh_5gO"
      },
      "execution_count": null,
      "outputs": []
    },
    {
      "cell_type": "code",
      "source": [
        "#@title Create PsychoPy Input for second scenario\n",
        "\n",
        "trialsScen2 = trials.loc[trials['Scenario'] == 2]\n",
        "trialsScen2 = trialsScen2.reset_index(drop=True)\n",
        "Scenario2 = pd.DataFrame({'ConditionCode':[],'Condition':[], 'Trial#':[], 'TrialType':[], 'PlayerA':[], 'PlayerB':[], 'EncounterIntro':[], 'PlayerAction':[], 'RewardFeedback':[], 'PunishFeedback':[], 'EncounterPlayer':[], 'scenDelay':[]})\n",
        "\n",
        "for p in range(len(conditions['ConditionCode'])):\n",
        "  trialInfo = pd.DataFrame({'ConditionCode':[],'Condition':[], 'Trial#':[], 'TrialType':[], 'PlayerA':[], 'PlayerB':[], 'EncounterIntro':[], 'PlayerAction':[], 'RewardFeedback':[], 'PunishFeedback':[], 'EncounterPlayer':[], 'scenDelay':[]})\n",
        "  for t in range(len(trialsScen2['EncNumber'])):\n",
        "    trialInfo.at[t,'ConditionCode'] = conditions['ConditionCode'][p]\n",
        "    trialInfo.at[t, 'Condition'] = conditions['Condition'][p]\n",
        "    trialInfo.at[t, 'Trial#'] = trialsScen2['EncNumber'][t]\n",
        "    trialInfo.at[t, 'TrialType'] = trialsScen2['Type'][t]\n",
        "    trialInfo.at[t, 'PlayerA'] = conditions['PlayerA'][p]\n",
        "    trialInfo.at[t, 'PlayerB'] = conditions['PlayerB'][p]\n",
        "    trialInfo.at[t, 'EncounterIntro'] = trialsScen2['EncounterText'][t]\n",
        "\n",
        "    #Define PlayerAction\n",
        "    if trialsScen2['AdvNumber'][t] == 1: trialInfo.at[t,'PlayerAction'] = trialsScen2['ActionText'][t].replace('xADV1x', conditions['PlayerA'][p])\n",
        "    elif trialsScen2['AdvNumber'][t] == 2: trialInfo.at[t,'PlayerAction'] = trialsScen2['ActionText'][t].replace('xADV2x', conditions['PlayerB'][p])\n",
        "    if trialInfo.at[t,'ConditionCode'].startswith('1'): trialInfo.at[t,'PlayerAction'] = trialInfo.at[t,'PlayerAction'].replace('xpro1x', 'her')\n",
        "    if trialInfo.at[t,'ConditionCode'].startswith('1'): trialInfo.at[t,'PlayerAction'] = trialInfo.at[t,'PlayerAction'].replace('xpro2x', 'She')\n",
        "    if trialInfo.at[t,'ConditionCode'].startswith('0'): trialInfo.at[t,'PlayerAction'] = trialInfo.at[t,'PlayerAction'].replace('xpro1x', 'his')\n",
        "    if trialInfo.at[t,'ConditionCode'].startswith('0'): trialInfo.at[t,'PlayerAction'] = trialInfo.at[t,'PlayerAction'].replace('xpro2x', 'He')\n",
        "\n",
        "    #Define RewardFeedback\n",
        "    if trialsScen2['AdvNumber'][t] == 1: trialInfo.at[t,'RewardFeedback'] = trialsScen2['RewardText'][t].replace('xADV1x', conditions['PlayerA'][p])\n",
        "    elif trialsScen2['AdvNumber'][t] == 2: trialInfo.at[t,'RewardFeedback'] = trialsScen2['RewardText'][t].replace('xADV2x', conditions['PlayerB'][p])\n",
        "    if trialInfo.at[t,'ConditionCode'].startswith('1'): trialInfo.at[t,'RewardFeedback'] = trialInfo.at[t,'RewardFeedback'].replace('xpro1x', 'her')\n",
        "    if trialInfo.at[t,'ConditionCode'].startswith('1'): trialInfo.at[t,'RewardFeedback'] = trialInfo.at[t,'RewardFeedback'].replace('xpro2x', 'She')\n",
        "    if trialInfo.at[t,'ConditionCode'].startswith('0'): trialInfo.at[t,'RewardFeedback'] = trialInfo.at[t,'RewardFeedback'].replace('xpro1x', 'his')\n",
        "    if trialInfo.at[t,'ConditionCode'].startswith('0'): trialInfo.at[t,'RewardFeedback'] = trialInfo.at[t,'RewardFeedback'].replace('xpro2x', 'He')\n",
        "\n",
        "    #Define PunishFeedback\n",
        "    if trialsScen2['AdvNumber'][t] == 1: trialInfo.at[t,'PunishFeedback'] = trialsScen2['PunishText'][t].replace('xADV1x', conditions['PlayerA'][p])\n",
        "    elif trialsScen2['AdvNumber'][t] == 2: trialInfo.at[t,'PunishFeedback'] = trialsScen2['PunishText'][t].replace('xADV2x', conditions['PlayerB'][p])\n",
        "    if trialInfo.at[t,'ConditionCode'].startswith('1'): trialInfo.at[t,'PunishFeedback'] = trialInfo.at[t,'PunishFeedback'].replace('xpro1x', 'her')\n",
        "    if trialInfo.at[t,'ConditionCode'].startswith('1'): trialInfo.at[t,'PunishFeedback'] = trialInfo.at[t,'PunishFeedback'].replace('xpro2x', 'She')\n",
        "    if trialInfo.at[t,'ConditionCode'].startswith('0'): trialInfo.at[t,'PunishFeedback'] = trialInfo.at[t,'PunishFeedback'].replace('xpro1x', 'his')\n",
        "    if trialInfo.at[t,'ConditionCode'].startswith('0'): trialInfo.at[t,'PunishFeedback'] = trialInfo.at[t,'PunishFeedback'].replace('xpro2x', 'He')\n",
        "\n",
        "    #Define Encounter Player\n",
        "    if trialsScen2['AdvNumber'][t] == 1: trialInfo.at[t,'EncounterPlayer'] = conditions['PlayerA'][p]\n",
        "    elif trialsScen2['AdvNumber'][t] == 2: trialInfo.at[t,'EncounterPlayer'] = conditions['PlayerB'][p]\n",
        "\n",
        "    trialInfo.at[t,'scenDelay'] = Scen2_ITIdelays[t]\n",
        "\n",
        "  Scenario2 = pd.concat([Scenario2,trialInfo],ignore_index=True) #append blank data frame"
      ],
      "metadata": {
        "id": "U9hvvFZs_75W"
      },
      "execution_count": null,
      "outputs": []
    },
    {
      "cell_type": "code",
      "source": [
        "#Convert dataframes to cvs files\n",
        "\n",
        "Scenario1.to_csv('AdvTask_Scenario1.csv')\n",
        "Scenario2.to_csv('AdvTask_Scenario2.csv')\n",
        "#download files and export"
      ],
      "metadata": {
        "id": "aeUQSj0j__ge"
      },
      "execution_count": null,
      "outputs": []
    }
  ]
}
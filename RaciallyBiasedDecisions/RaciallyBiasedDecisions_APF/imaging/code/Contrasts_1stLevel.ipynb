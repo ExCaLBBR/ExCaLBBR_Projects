{
 "cells": [
  {
   "cell_type": "code",
   "execution_count": 13,
   "metadata": {},
   "outputs": [],
   "source": [
    "#Install Dependancies\n",
    "#%pip install tqdm\n",
    "import os\n",
    "import shutil\n",
    "import tempfile\n",
    "from tqdm import tqdm\n",
    "\n",
    "#Clone and Install Javi's nipype library\n",
    "# !git clone https://github.com/jrasero/my-nipype-pipelines.git\n",
    "# !cd my-nipype-pipelines\n",
    "# %pip install -U .\n",
    "\n",
    "from my_nipype_pipelines.first_level import create_first_level_spm_wf\n",
    "from nipype.interfaces.matlab import MatlabCommand"
   ]
  },
  {
   "cell_type": "code",
   "execution_count": 8,
   "metadata": {},
   "outputs": [],
   "source": [
    "# Add spm12 to matlab path\n",
    "MatlabCommand.set_default_paths(['C:/Users/robert/Documents/MATLAB/spm12', \n",
    "                                 'C:/Users/robert/Documents/MATLAB/spm12/toolbox'])\n",
    "\n",
    "MatlabCommand.set_default_matlab_cmd(\"matlab -nodesktop -nosplash\")"
   ]
  },
  {
   "cell_type": "code",
   "execution_count": 9,
   "metadata": {},
   "outputs": [],
   "source": [
    "#Define Contrast parameters\n",
    "repetition_time = 0.75\n",
    "high_pass = 128.\n",
    "fwhm =  6.0\n",
    "contrasts = [[\"Left vs Right\", \"T\", [\"Left\", \"Right\"], [1,-1]]]"
   ]
  },
  {
   "cell_type": "code",
   "execution_count": null,
   "metadata": {},
   "outputs": [],
   "source": [
    "for run_id in tqdm.tqdm([1,2,3]):\n",
    "    # here the paths to your bold images, confounders files and event files\n",
    "    bold_img = os.path.abspath(f\"../BOLD_T1w/sub-811_ses-02_task-lokicat_run-0{run_id}_space-T1w_desc-preproc_bold.nii.gz\")\n",
    "    conf_file = os.path.abspath(f\"../confounds/sub-811_ses-02_task-lokicat_run-0{run_id}_desc-confounds_regressors.tsv\")\n",
    "    events_file = os.path.abspath(f\"../LR_events/sub-0811_ses02_task-lokicat_run0{run_id}_motor_events.tsv\")\n",
    "    \n",
    "    # Output directory per run\n",
    "    output_dir = os.path.abspath(f\"../maps/sub_811_ses_02_run_0{run_id}\")\n",
    "    if os.path.exists(output_dir) is False:\n",
    "            os.mkdir(output_dir)\n",
    "            \n",
    "    # Create working directory, where intermediate files from nipype are generated\n",
    "    working_dir = tempfile.mkdtemp()\n",
    "    wf = create_first_level_spm_wf(bold_img=bold_img, \n",
    "                                   confounders_file=conf_file, \n",
    "                                   events_file=events_file,\n",
    "                                   output_dir=output_dir,\n",
    "                                   repetition_time=repetition_time, \n",
    "                                   high_pass=high_pass, \n",
    "                                   fwhm=fwhm, \n",
    "                                   contrasts=contrasts)\n",
    "    wf.base_dir = working_dir\n",
    "    wf.run()\n",
    "    \n",
    "    # remove working directory\n",
    "    shutil.rmtree(working_dir)\n"
   ]
  }
 ],
 "metadata": {
  "kernelspec": {
   "display_name": "Python 3",
   "language": "python",
   "name": "python3"
  },
  "language_info": {
   "codemirror_mode": {
    "name": "ipython",
    "version": 3
   },
   "file_extension": ".py",
   "mimetype": "text/x-python",
   "name": "python",
   "nbconvert_exporter": "python",
   "pygments_lexer": "ipython3",
   "version": "3.10.12"
  }
 },
 "nbformat": 4,
 "nbformat_minor": 2
}

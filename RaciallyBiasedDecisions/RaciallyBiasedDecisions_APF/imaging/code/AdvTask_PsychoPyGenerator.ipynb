{
  "nbformat": 4,
  "nbformat_minor": 0,
  "metadata": {
    "colab": {
      "provenance": [],
      "include_colab_link": true
    },
    "kernelspec": {
      "name": "python3",
      "display_name": "Python 3"
    },
    "language_info": {
      "name": "python"
    }
  },
  "cells": [
    {
      "cell_type": "markdown",
      "metadata": {
        "id": "view-in-github",
        "colab_type": "text"
      },
      "source": [
        "<a href=\"https://colab.research.google.com/github/ExCaLBBR/ExCaLBBR_Projects/blob/main/RaciallyBiasedDecisions/RaciallyBiasedDecisions_APF/imaging/code/AdvTask_PsychoPyGenerator.ipynb\" target=\"_parent\"><img src=\"https://colab.research.google.com/assets/colab-badge.svg\" alt=\"Open In Colab\"/></a>"
      ]
    },
    {
      "cell_type": "markdown",
      "source": [
        "Gorilla Info: <br>\n",
        "Project: RaciallyBiasedDecisions_APF <br>\n",
        "Account: Roberto Vargas (robertov@andrew.cmu.edu)"
      ],
      "metadata": {
        "id": "C9mud3ByqVgH"
      }
    },
    {
      "cell_type": "code",
      "source": [
        "# @title Install dependancies\n",
        "#Load relevant libraries and install dependencies\n",
        "import pandas as pd\n",
        "import numpy as np\n",
        "import random"
      ],
      "metadata": {
        "id": "08gBma2_ivoE",
        "cellView": "form"
      },
      "execution_count": 6,
      "outputs": []
    },
    {
      "cell_type": "code",
      "source": [
        "# @title Define Utility Functions\n",
        "# random number\n",
        "def getNum(v) :\n",
        "\n",
        "    # Size of the vector\n",
        "    n = len(v)\n",
        "\n",
        "    # Generate a random number within\n",
        "    # the index range\n",
        "    index = random.randint(0, n - 1)\n",
        "\n",
        "    # Get random number from the vector\n",
        "    num = v[index]\n",
        "\n",
        "    # Remove the number from the vector\n",
        "    v[index], v[n - 1] = v[n - 1], v[index]\n",
        "    v.pop()\n",
        "\n",
        "    # Return the removed number\n",
        "    return num\n",
        "\n",
        "# Function to generate n non-repeating\n",
        "# random numbers\n",
        "def generateRandom(n) :\n",
        "\n",
        "    v = [0] * n\n",
        "\n",
        "    # Fill the vector with the values\n",
        "    # 1, 2, 3, ..., n\n",
        "    for i in range(n) :\n",
        "        v[i] = i + 1\n",
        "\n",
        "    # While vector has elements get a\n",
        "    # random number from the vector\n",
        "    # and print it\n",
        "    while (len(v)) :\n",
        "        print(getNum(v), end = \" \")"
      ],
      "metadata": {
        "cellView": "form",
        "id": "4V1f5TP_DGCT"
      },
      "execution_count": 7,
      "outputs": []
    },
    {
      "cell_type": "code",
      "source": [
        "#@title Generate Delays for ITI\n",
        "trialn = 28\n",
        "ITI_set = (np.around(np.random.default_rng().exponential(scale=1, size=trialn),decimals=0))+6\n",
        "ITI_set = [x-2 if x > 9 else x for x in ITI_set]\n",
        "\n",
        "adjustment = 0.3\n",
        "ITI_set = [x-0.3 for x in ITI_set]\n",
        "ITI_set"
      ],
      "metadata": {
        "id": "owPPCT0MoPkD"
      },
      "execution_count": null,
      "outputs": []
    },
    {
      "cell_type": "code",
      "source": [
        "generateRandom(trialn)"
      ],
      "metadata": {
        "id": "N_F_4jeFDAsM",
        "outputId": "3212e424-4ae1-4d3f-d1ae-3f261a006b13",
        "colab": {
          "base_uri": "https://localhost:8080/"
        }
      },
      "execution_count": 12,
      "outputs": [
        {
          "output_type": "stream",
          "name": "stdout",
          "text": [
            "15 14 20 3 10 13 9 23 17 12 11 5 24 25 8 19 1 27 18 6 4 21 26 2 22 7 28 16 "
          ]
        }
      ]
    }
  ]
}
{
  "nbformat": 4,
  "nbformat_minor": 0,
  "metadata": {
    "colab": {
      "provenance": [],
      "include_colab_link": true
    },
    "kernelspec": {
      "name": "python3",
      "display_name": "Python 3"
    },
    "language_info": {
      "name": "python"
    }
  },
  "cells": [
    {
      "cell_type": "markdown",
      "metadata": {
        "id": "view-in-github",
        "colab_type": "text"
      },
      "source": [
        "<a href=\"https://colab.research.google.com/github/ExCaLBBR/ExCaLBBR_Projects/blob/main/RaciallyBiasedDecisions/RaciallyBiasedDecisions_APF/imaging/code/AdvTask_PsychoPyGenerator.ipynb\" target=\"_parent\"><img src=\"https://colab.research.google.com/assets/colab-badge.svg\" alt=\"Open In Colab\"/></a>"
      ]
    },
    {
      "cell_type": "markdown",
      "source": [
        "Gorilla Info: <br>\n",
        "Project: RaciallyBiasedDecisions_APF <br>\n",
        "Account: Roberto Vargas (robertov@andrew.cmu.edu)"
      ],
      "metadata": {
        "id": "C9mud3ByqVgH"
      }
    },
    {
      "cell_type": "code",
      "source": [
        "# @title Install dependancies\n",
        "#Load relevant libraries and install dependencies\n",
        "import pandas as pd\n",
        "import numpy as np\n",
        "#import re"
      ],
      "metadata": {
        "id": "08gBma2_ivoE",
        "cellView": "form"
      },
      "execution_count": 1,
      "outputs": []
    },
    {
      "cell_type": "code",
      "source": [
        "#@title Load Files:\n",
        "#Load Conditions\n",
        "url = 'https://raw.githubusercontent.com/ExCaLBBR/ExCaLBBR_Projects/main/RaciallyBiasedDecisions/RaciallyBiasedDecisions_APF/imaging/psychoPy/advConditions.csv'\n",
        "conditions = pd.read_csv(url,dtype=str)\n",
        "\n",
        "#Load Trials\n",
        "url = 'https://raw.githubusercontent.com/ExCaLBBR/ExCaLBBR_Projects/main/RaciallyBiasedDecisions/RaciallyBiasedDecisions_APF/imaging/psychoPy/expandedScenarios.csv'\n",
        "trials = pd.read_csv(url)\n"
      ],
      "metadata": {
        "id": "NA7mXjvZZldd",
        "cellView": "form"
      },
      "execution_count": 16,
      "outputs": []
    },
    {
      "cell_type": "code",
      "source": [
        "#@title Generate Delays for ITI\n",
        "\n"
      ],
      "metadata": {
        "id": "owPPCT0MoPkD"
      },
      "execution_count": null,
      "outputs": []
    },
    {
      "cell_type": "code",
      "source": [
        "#@title Create PsychoPy Input for first scenario\n",
        "\n",
        "trialsScen1 = trials.loc[trials['Scenario'] == 1]\n",
        "\n",
        "Scenario1 = pd.DataFrame({'ConditionCode':[],'Condition':[], 'Trial#':[], 'TrialType':[], 'PlayerA':[], 'PlayerB':[], 'EncounterIntro':[], 'PlayerAction':[], 'RewardFeedback':[], 'PunishFeedback':[], 'EncounterPlayer':[], 'scenDelay':[]})\n",
        "\n",
        "for p in range(len(conditions['ConditionCode'])):\n",
        "  for t in range(len(trialsScen1['EncNumber'])):\n",
        "    trialInfo = pd.DataFrame({'ConditionCode':[],'Condition':[], 'Trial#':[], 'TrialType':[], 'PlayerA':[], 'PlayerB':[], 'EncounterIntro':[], 'PlayerAction':[], 'RewardFeedback':[], 'PunishFeedback':[], 'EncounterPlayer':[], 'scenDelay':[]}, index=[0])\n",
        "    trialInfo['ConditionCode'] = conditions['ConditionCode'][p]\n",
        "    trialInfo['Condition'] = conditions['Condition'][p]\n",
        "    trialInfo['Trial#'] = trialsScen1['EncNumber'][t]\n",
        "    trialInfo['TrialType'] = trialsScen1['Type'][t]\n",
        "    trialInfo['PlayerA'] = conditions['PlayerA'][p]\n",
        "    trialInfo['PlayerB'] = conditions['PlayerB'][p]\n",
        "    trialInfo['EncounterIntro'] = trialsScen1['EncounterText'][t]\n",
        "\n",
        "    #Define PlayerAction\n",
        "    if trialsScen1['AdvNumber'][t] == 1: trialInfo['PlayerAction'] = trialsScen1['ActionText'][t].replace('xADV1x', conditions['PlayerA'][p])\n",
        "    elif trialsScen1['AdvNumber'][t] == 2: trialInfo['PlayerAction'] = trialsScen1['ActionText'][t].replace('xADV2x', conditions['PlayerB'][p])\n",
        "    if trialInfo['ConditionCode'].startswith('1'): trialInfo['PlayerAction'] = trialInfo['PlayerAction'].replace('xpro1x', 'her')\n",
        "    if trialInfo['ConditionCode'].startswith('1'): trialInfo['PlayerAction'] = trialInfo['PlayerAction'].replace('xpro2x', 'She')\n",
        "    if trialInfo['ConditionCode'].startswith('0'): trialInfo['PlayerAction'] = trialInfo['PlayerAction'].replace('xpro1x', 'his')\n",
        "    if trialInfo['ConditionCode'].startswith('0'): trialInfo['PlayerAction'] = trialInfo['PlayerAction'].replace('xpro2x', 'He')\n",
        "\n",
        "    #Define RewardFeedback\n",
        "    if trialsScen1['AdvNumber'][t] == 1: trialInfo['RewardFeedback'] = trialsScen1['RewardText'][t].replace('xADV1x', conditions['PlayerA'][p])\n",
        "    elif trialsScen1['AdvNumber'][t] == 2: trialInfo['RewardFeedback'] = trialsScen1['RewardText'][t].replace('xADV2x', conditions['PlayerB'][p])\n",
        "    if trialInfo['ConditionCode'].startswith('1'): trialInfo['RewardFeedback'] = trialInfo['RewardFeedback'].replace('xpro1x', 'her')\n",
        "    if trialInfo['ConditionCode'].startswith('1'): trialInfo['RewardFeedback'] = trialInfo['RewardFeedback'].replace('xpro2x', 'She')\n",
        "    if trialInfo['ConditionCode'].startswith('0'): trialInfo['RewardFeedback'] = trialInfo['RewardFeedback'].replace('xpro1x', 'his')\n",
        "    if trialInfo['ConditionCode'].startswith('0'): trialInfo['RewardFeedback'] = trialInfo['RewardFeedback'].replace('xpro2x', 'He')\n",
        "\n",
        "    #Define PunishFeedback\n",
        "    if trialsScen1['AdvNumber'][t] == 1: trialInfo['PunishFeedback'] = trialsScen1['PunishText'][t].replace('xADV1x', conditions['PlayerA'][p])\n",
        "    elif trialsScen1['AdvNumber'][t] == 2: trialInfo['PunishFeedback'] = trialsScen1['PunishText'][t].replace('xADV2x', conditions['PlayerB'][p])\n",
        "    if trialInfo['ConditionCode'].startswith('1'): trialInfo['PunishFeedback'] = trialInfo['PunishFeedback'].replace('xpro1x', 'her')\n",
        "    if trialInfo['ConditionCode'].startswith('1'): trialInfo['PunishFeedback'] = trialInfo['PunishFeedback'].replace('xpro2x', 'She')\n",
        "    if trialInfo['ConditionCode'].startswith('0'): trialInfo['PunishFeedback'] = trialInfo['PunishFeedback'].replace('xpro1x', 'his')\n",
        "    if trialInfo['ConditionCode'].startswith('0'): trialInfo['PunishFeedback'] = trialInfo['PunishFeedback'].replace('xpro2x', 'He')\n",
        "\n",
        "    #Define Encounter Player\n",
        "    if trialsScen1['AdvNumber'][t] == 1: trialInfo['EncounterPlayer'] = conditions['PlayerA'][p]\n",
        "    elif trialsScen1['AdvNumber'][t] == 2: trialInfo['EncounterPlayer'] = conditions['PlayerB'][p]\n",
        "\n",
        "\n",
        "    Scenario1 = pd.concat([Scenario1,trialInfo],ignore_index=True) #append blank data frame"
      ],
      "metadata": {
        "id": "Al1_KmaZjMH6"
      },
      "execution_count": null,
      "outputs": []
    }
  ]
}
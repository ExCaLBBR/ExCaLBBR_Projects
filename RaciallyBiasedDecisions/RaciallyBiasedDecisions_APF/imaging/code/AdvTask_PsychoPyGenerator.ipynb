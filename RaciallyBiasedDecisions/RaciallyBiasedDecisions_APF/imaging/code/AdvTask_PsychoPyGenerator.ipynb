{
  "nbformat": 4,
  "nbformat_minor": 0,
  "metadata": {
    "colab": {
      "provenance": [],
      "include_colab_link": true
    },
    "kernelspec": {
      "name": "python3",
      "display_name": "Python 3"
    },
    "language_info": {
      "name": "python"
    }
  },
  "cells": [
    {
      "cell_type": "markdown",
      "metadata": {
        "id": "view-in-github",
        "colab_type": "text"
      },
      "source": [
        "<a href=\"https://colab.research.google.com/github/ExCaLBBR/ExCaLBBR_Projects/blob/main/RaciallyBiasedDecisions/RaciallyBiasedDecisions_APF/imaging/code/AdvTask_PsychoPyGenerator.ipynb\" target=\"_parent\"><img src=\"https://colab.research.google.com/assets/colab-badge.svg\" alt=\"Open In Colab\"/></a>"
      ]
    },
    {
      "cell_type": "markdown",
      "source": [
        "Gorilla Info: <br>\n",
        "Project: RaciallyBiasedDecisions_APF <br>\n",
        "Account: Roberto Vargas (robertov@andrew.cmu.edu)"
      ],
      "metadata": {
        "id": "C9mud3ByqVgH"
      }
    },
    {
      "cell_type": "code",
      "source": [
        "# @title Install dependancies\n",
        "#Load relevant libraries and install dependencies\n",
        "import pandas as pd\n",
        "import numpy as np\n",
        "#import re"
      ],
      "metadata": {
        "id": "08gBma2_ivoE",
        "cellView": "form"
      },
      "execution_count": 1,
      "outputs": []
    },
    {
      "cell_type": "code",
      "source": [
        "#@title Load Files:\n",
        "#Load Conditions\n",
        "url = 'https://raw.githubusercontent.com/ExCaLBBR/ExCaLBBR_Projects/main/RaciallyBiasedDecisions/RaciallyBiasedDecisions_APF/imaging/psychoPy/advConditions.csv'\n",
        "conditions = pd.read_csv(url,dtype=str)\n",
        "\n",
        "#Load Trials\n",
        "url = 'https://raw.githubusercontent.com/ExCaLBBR/ExCaLBBR_Projects/main/RaciallyBiasedDecisions/RaciallyBiasedDecisions_APF/imaging/psychoPy/expandedScenarios.csv'\n",
        "trials = pd.read_csv(url)\n"
      ],
      "metadata": {
        "id": "NA7mXjvZZldd",
        "cellView": "form"
      },
      "execution_count": 16,
      "outputs": []
    },
    {
      "cell_type": "code",
      "source": [
        "#@title Generate Delays for ITI\n",
        "trialn = 18\n",
        "Scen1_ITIdelays = (np.around(np.random.default_rng().exponential(scale=1, size=trialn),decimals=0))+6\n",
        "Scen2_ITIdelays = (np.around(np.random.default_rng().exponential(scale=1, size=trialn),decimals=0))+6"
      ],
      "metadata": {
        "id": "owPPCT0MoPkD"
      },
      "execution_count": 56,
      "outputs": []
    },
    {
      "cell_type": "code",
      "source": [
        "#@title Create PsychoPy Input for first scenario\n",
        "\n",
        "trialsScen1 = trials.loc[trials['Scenario'] == 1]\n",
        "\n",
        "Scenario1 = pd.DataFrame({'ConditionCode':[],'Condition':[], 'Trial#':[], 'TrialType':[], 'PlayerA':[], 'PlayerB':[], 'EncounterIntro':[], 'PlayerAction':[], 'RewardFeedback':[], 'PunishFeedback':[], 'EncounterPlayer':[], 'scenDelay':[]})\n",
        "\n",
        "for p in range(len(conditions['ConditionCode'])):\n",
        "  for t in range(len(trialsScen1['EncNumber'])):\n",
        "    trialInfo = pd.DataFrame({'ConditionCode':[],'Condition':[], 'Trial#':[], 'TrialType':[], 'PlayerA':[], 'PlayerB':[], 'EncounterIntro':[], 'PlayerAction':[], 'RewardFeedback':[], 'PunishFeedback':[], 'EncounterPlayer':[], 'scenDelay':[]})\n",
        "    trialInfo['ConditionCode'] = conditions['ConditionCode'][p]\n",
        "    trialInfo['Condition'] = conditions['Condition'][p]\n",
        "    trialInfo['Trial#'] = trialsScen1['EncNumber'][t]\n",
        "    trialInfo['TrialType'] = trialsScen1['Type'][t]\n",
        "    trialInfo['PlayerA'] = conditions['PlayerA'][p]\n",
        "    trialInfo['PlayerB'] = conditions['PlayerB'][p]\n",
        "    trialInfo['EncounterIntro'] = trialsScen1['EncounterText'][t]\n",
        "\n",
        "    #Define PlayerAction\n",
        "    if trialsScen1['AdvNumber'][t] == 1: trialInfo['PlayerAction'] = trialsScen1['ActionText'][t].replace('xADV1x', conditions['PlayerA'][p])\n",
        "    elif trialsScen1['AdvNumber'][t] == 2: trialInfo['PlayerAction'] = trialsScen1['ActionText'][t].replace('xADV2x', conditions['PlayerB'][p])\n",
        "    if trialInfo['ConditionCode'].startswith('1'): trialInfo['PlayerAction'] = trialInfo['PlayerAction'].replace('xpro1x', 'her')\n",
        "    if trialInfo['ConditionCode'].startswith('1'): trialInfo['PlayerAction'] = trialInfo['PlayerAction'].replace('xpro2x', 'She')\n",
        "    if trialInfo['ConditionCode'].startswith('0'): trialInfo['PlayerAction'] = trialInfo['PlayerAction'].replace('xpro1x', 'his')\n",
        "    if trialInfo['ConditionCode'].startswith('0'): trialInfo['PlayerAction'] = trialInfo['PlayerAction'].replace('xpro2x', 'He')\n",
        "\n",
        "    #Define RewardFeedback\n",
        "    if trialsScen1['AdvNumber'][t] == 1: trialInfo['RewardFeedback'] = trialsScen1['RewardText'][t].replace('xADV1x', conditions['PlayerA'][p])\n",
        "    elif trialsScen1['AdvNumber'][t] == 2: trialInfo['RewardFeedback'] = trialsScen1['RewardText'][t].replace('xADV2x', conditions['PlayerB'][p])\n",
        "    if trialInfo['ConditionCode'].startswith('1'): trialInfo['RewardFeedback'] = trialInfo['RewardFeedback'].replace('xpro1x', 'her')\n",
        "    if trialInfo['ConditionCode'].startswith('1'): trialInfo['RewardFeedback'] = trialInfo['RewardFeedback'].replace('xpro2x', 'She')\n",
        "    if trialInfo['ConditionCode'].startswith('0'): trialInfo['RewardFeedback'] = trialInfo['RewardFeedback'].replace('xpro1x', 'his')\n",
        "    if trialInfo['ConditionCode'].startswith('0'): trialInfo['RewardFeedback'] = trialInfo['RewardFeedback'].replace('xpro2x', 'He')\n",
        "\n",
        "    #Define PunishFeedback\n",
        "    if trialsScen1['AdvNumber'][t] == 1: trialInfo['PunishFeedback'] = trialsScen1['PunishText'][t].replace('xADV1x', conditions['PlayerA'][p])\n",
        "    elif trialsScen1['AdvNumber'][t] == 2: trialInfo['PunishFeedback'] = trialsScen1['PunishText'][t].replace('xADV2x', conditions['PlayerB'][p])\n",
        "    if trialInfo['ConditionCode'].startswith('1'): trialInfo['PunishFeedback'] = trialInfo['PunishFeedback'].replace('xpro1x', 'her')\n",
        "    if trialInfo['ConditionCode'].startswith('1'): trialInfo['PunishFeedback'] = trialInfo['PunishFeedback'].replace('xpro2x', 'She')\n",
        "    if trialInfo['ConditionCode'].startswith('0'): trialInfo['PunishFeedback'] = trialInfo['PunishFeedback'].replace('xpro1x', 'his')\n",
        "    if trialInfo['ConditionCode'].startswith('0'): trialInfo['PunishFeedback'] = trialInfo['PunishFeedback'].replace('xpro2x', 'He')\n",
        "\n",
        "    #Define Encounter Player\n",
        "    if trialsScen1['AdvNumber'][t] == 1: trialInfo['EncounterPlayer'] = conditions['PlayerA'][p]\n",
        "    elif trialsScen1['AdvNumber'][t] == 2: trialInfo['EncounterPlayer'] = conditions['PlayerB'][p]\n",
        "\n",
        "    trialInfo['scenDelay'] = Scen1_ITIdelays[t]\n",
        "\n",
        "    Scenario1 = pd.concat([Scenario1,trialInfo],ignore_index=True) #append blank data frame"
      ],
      "metadata": {
        "id": "Al1_KmaZjMH6",
        "colab": {
          "base_uri": "https://localhost:8080/",
          "height": 366
        },
        "outputId": "6036845c-567e-46ad-982c-d63336601c8c"
      },
      "execution_count": 60,
      "outputs": [
        {
          "output_type": "error",
          "ename": "AttributeError",
          "evalue": "'Series' object has no attribute 'startswith'",
          "traceback": [
            "\u001b[0;31m---------------------------------------------------------------------------\u001b[0m",
            "\u001b[0;31mAttributeError\u001b[0m                            Traceback (most recent call last)",
            "\u001b[0;32m<ipython-input-60-e28a0c44dffd>\u001b[0m in \u001b[0;36m<cell line: 7>\u001b[0;34m()\u001b[0m\n\u001b[1;32m     19\u001b[0m     \u001b[0;32mif\u001b[0m \u001b[0mtrialsScen1\u001b[0m\u001b[0;34m[\u001b[0m\u001b[0;34m'AdvNumber'\u001b[0m\u001b[0;34m]\u001b[0m\u001b[0;34m[\u001b[0m\u001b[0mt\u001b[0m\u001b[0;34m]\u001b[0m \u001b[0;34m==\u001b[0m \u001b[0;36m1\u001b[0m\u001b[0;34m:\u001b[0m \u001b[0mtrialInfo\u001b[0m\u001b[0;34m[\u001b[0m\u001b[0;34m'PlayerAction'\u001b[0m\u001b[0;34m]\u001b[0m \u001b[0;34m=\u001b[0m \u001b[0mtrialsScen1\u001b[0m\u001b[0;34m[\u001b[0m\u001b[0;34m'ActionText'\u001b[0m\u001b[0;34m]\u001b[0m\u001b[0;34m[\u001b[0m\u001b[0mt\u001b[0m\u001b[0;34m]\u001b[0m\u001b[0;34m.\u001b[0m\u001b[0mreplace\u001b[0m\u001b[0;34m(\u001b[0m\u001b[0;34m'xADV1x'\u001b[0m\u001b[0;34m,\u001b[0m \u001b[0mconditions\u001b[0m\u001b[0;34m[\u001b[0m\u001b[0;34m'PlayerA'\u001b[0m\u001b[0;34m]\u001b[0m\u001b[0;34m[\u001b[0m\u001b[0mp\u001b[0m\u001b[0;34m]\u001b[0m\u001b[0;34m)\u001b[0m\u001b[0;34m\u001b[0m\u001b[0;34m\u001b[0m\u001b[0m\n\u001b[1;32m     20\u001b[0m     \u001b[0;32melif\u001b[0m \u001b[0mtrialsScen1\u001b[0m\u001b[0;34m[\u001b[0m\u001b[0;34m'AdvNumber'\u001b[0m\u001b[0;34m]\u001b[0m\u001b[0;34m[\u001b[0m\u001b[0mt\u001b[0m\u001b[0;34m]\u001b[0m \u001b[0;34m==\u001b[0m \u001b[0;36m2\u001b[0m\u001b[0;34m:\u001b[0m \u001b[0mtrialInfo\u001b[0m\u001b[0;34m[\u001b[0m\u001b[0;34m'PlayerAction'\u001b[0m\u001b[0;34m]\u001b[0m \u001b[0;34m=\u001b[0m \u001b[0mtrialsScen1\u001b[0m\u001b[0;34m[\u001b[0m\u001b[0;34m'ActionText'\u001b[0m\u001b[0;34m]\u001b[0m\u001b[0;34m[\u001b[0m\u001b[0mt\u001b[0m\u001b[0;34m]\u001b[0m\u001b[0;34m.\u001b[0m\u001b[0mreplace\u001b[0m\u001b[0;34m(\u001b[0m\u001b[0;34m'xADV2x'\u001b[0m\u001b[0;34m,\u001b[0m \u001b[0mconditions\u001b[0m\u001b[0;34m[\u001b[0m\u001b[0;34m'PlayerB'\u001b[0m\u001b[0;34m]\u001b[0m\u001b[0;34m[\u001b[0m\u001b[0mp\u001b[0m\u001b[0;34m]\u001b[0m\u001b[0;34m)\u001b[0m\u001b[0;34m\u001b[0m\u001b[0;34m\u001b[0m\u001b[0m\n\u001b[0;32m---> 21\u001b[0;31m     \u001b[0;32mif\u001b[0m \u001b[0mtrialInfo\u001b[0m\u001b[0;34m[\u001b[0m\u001b[0;34m'ConditionCode'\u001b[0m\u001b[0;34m]\u001b[0m\u001b[0;34m.\u001b[0m\u001b[0mstartswith\u001b[0m\u001b[0;34m(\u001b[0m\u001b[0;34m'1'\u001b[0m\u001b[0;34m)\u001b[0m\u001b[0;34m:\u001b[0m \u001b[0mtrialInfo\u001b[0m\u001b[0;34m[\u001b[0m\u001b[0;34m'PlayerAction'\u001b[0m\u001b[0;34m]\u001b[0m \u001b[0;34m=\u001b[0m \u001b[0mtrialInfo\u001b[0m\u001b[0;34m[\u001b[0m\u001b[0;34m'PlayerAction'\u001b[0m\u001b[0;34m]\u001b[0m\u001b[0;34m.\u001b[0m\u001b[0mreplace\u001b[0m\u001b[0;34m(\u001b[0m\u001b[0;34m'xpro1x'\u001b[0m\u001b[0;34m,\u001b[0m \u001b[0;34m'her'\u001b[0m\u001b[0;34m)\u001b[0m\u001b[0;34m\u001b[0m\u001b[0;34m\u001b[0m\u001b[0m\n\u001b[0m\u001b[1;32m     22\u001b[0m     \u001b[0;32mif\u001b[0m \u001b[0mtrialInfo\u001b[0m\u001b[0;34m[\u001b[0m\u001b[0;34m'ConditionCode'\u001b[0m\u001b[0;34m]\u001b[0m\u001b[0;34m.\u001b[0m\u001b[0mstartswith\u001b[0m\u001b[0;34m(\u001b[0m\u001b[0;34m'1'\u001b[0m\u001b[0;34m)\u001b[0m\u001b[0;34m:\u001b[0m \u001b[0mtrialInfo\u001b[0m\u001b[0;34m[\u001b[0m\u001b[0;34m'PlayerAction'\u001b[0m\u001b[0;34m]\u001b[0m \u001b[0;34m=\u001b[0m \u001b[0mtrialInfo\u001b[0m\u001b[0;34m[\u001b[0m\u001b[0;34m'PlayerAction'\u001b[0m\u001b[0;34m]\u001b[0m\u001b[0;34m.\u001b[0m\u001b[0mreplace\u001b[0m\u001b[0;34m(\u001b[0m\u001b[0;34m'xpro2x'\u001b[0m\u001b[0;34m,\u001b[0m \u001b[0;34m'She'\u001b[0m\u001b[0;34m)\u001b[0m\u001b[0;34m\u001b[0m\u001b[0;34m\u001b[0m\u001b[0m\n\u001b[1;32m     23\u001b[0m     \u001b[0;32mif\u001b[0m \u001b[0mtrialInfo\u001b[0m\u001b[0;34m[\u001b[0m\u001b[0;34m'ConditionCode'\u001b[0m\u001b[0;34m]\u001b[0m\u001b[0;34m.\u001b[0m\u001b[0mstartswith\u001b[0m\u001b[0;34m(\u001b[0m\u001b[0;34m'0'\u001b[0m\u001b[0;34m)\u001b[0m\u001b[0;34m:\u001b[0m \u001b[0mtrialInfo\u001b[0m\u001b[0;34m[\u001b[0m\u001b[0;34m'PlayerAction'\u001b[0m\u001b[0;34m]\u001b[0m \u001b[0;34m=\u001b[0m \u001b[0mtrialInfo\u001b[0m\u001b[0;34m[\u001b[0m\u001b[0;34m'PlayerAction'\u001b[0m\u001b[0;34m]\u001b[0m\u001b[0;34m.\u001b[0m\u001b[0mreplace\u001b[0m\u001b[0;34m(\u001b[0m\u001b[0;34m'xpro1x'\u001b[0m\u001b[0;34m,\u001b[0m \u001b[0;34m'his'\u001b[0m\u001b[0;34m)\u001b[0m\u001b[0;34m\u001b[0m\u001b[0;34m\u001b[0m\u001b[0m\n",
            "\u001b[0;32m/usr/local/lib/python3.10/dist-packages/pandas/core/generic.py\u001b[0m in \u001b[0;36m__getattr__\u001b[0;34m(self, name)\u001b[0m\n\u001b[1;32m   5900\u001b[0m         ):\n\u001b[1;32m   5901\u001b[0m             \u001b[0;32mreturn\u001b[0m \u001b[0mself\u001b[0m\u001b[0;34m[\u001b[0m\u001b[0mname\u001b[0m\u001b[0;34m]\u001b[0m\u001b[0;34m\u001b[0m\u001b[0;34m\u001b[0m\u001b[0m\n\u001b[0;32m-> 5902\u001b[0;31m         \u001b[0;32mreturn\u001b[0m \u001b[0mobject\u001b[0m\u001b[0;34m.\u001b[0m\u001b[0m__getattribute__\u001b[0m\u001b[0;34m(\u001b[0m\u001b[0mself\u001b[0m\u001b[0;34m,\u001b[0m \u001b[0mname\u001b[0m\u001b[0;34m)\u001b[0m\u001b[0;34m\u001b[0m\u001b[0;34m\u001b[0m\u001b[0m\n\u001b[0m\u001b[1;32m   5903\u001b[0m \u001b[0;34m\u001b[0m\u001b[0m\n\u001b[1;32m   5904\u001b[0m     \u001b[0;32mdef\u001b[0m \u001b[0m__setattr__\u001b[0m\u001b[0;34m(\u001b[0m\u001b[0mself\u001b[0m\u001b[0;34m,\u001b[0m \u001b[0mname\u001b[0m\u001b[0;34m:\u001b[0m \u001b[0mstr\u001b[0m\u001b[0;34m,\u001b[0m \u001b[0mvalue\u001b[0m\u001b[0;34m)\u001b[0m \u001b[0;34m->\u001b[0m \u001b[0;32mNone\u001b[0m\u001b[0;34m:\u001b[0m\u001b[0;34m\u001b[0m\u001b[0;34m\u001b[0m\u001b[0m\n",
            "\u001b[0;31mAttributeError\u001b[0m: 'Series' object has no attribute 'startswith'"
          ]
        }
      ]
    }
  ]
}
{
  "nbformat": 4,
  "nbformat_minor": 0,
  "metadata": {
    "colab": {
      "provenance": [],
      "include_colab_link": true
    },
    "kernelspec": {
      "name": "python3",
      "display_name": "Python 3"
    },
    "language_info": {
      "name": "python"
    }
  },
  "cells": [
    {
      "cell_type": "markdown",
      "metadata": {
        "id": "view-in-github",
        "colab_type": "text"
      },
      "source": [
        "<a href=\"https://colab.research.google.com/github/ExCaLBBR/ExCaLBBR_Projects/blob/main/RaciallyBiasedDecisions/RaciallyBiasedDecisions_APF/imaging/code/AdvTask_PsychoPyGenerator.ipynb\" target=\"_parent\"><img src=\"https://colab.research.google.com/assets/colab-badge.svg\" alt=\"Open In Colab\"/></a>"
      ]
    },
    {
      "cell_type": "markdown",
      "source": [
        "Gorilla Info: <br>\n",
        "Project: RaciallyBiasedDecisions_APF <br>\n",
        "Account: Roberto Vargas (robertov@andrew.cmu.edu)"
      ],
      "metadata": {
        "id": "C9mud3ByqVgH"
      }
    },
    {
      "cell_type": "code",
      "source": [
        "# @title Install dependancies\n",
        "#Load relevant libraries and install dependencies\n",
        "import pandas as pd\n",
        "import numpy as np\n",
        "#import re"
      ],
      "metadata": {
        "id": "08gBma2_ivoE"
      },
      "execution_count": null,
      "outputs": []
    },
    {
      "cell_type": "code",
      "source": [
        "# @title Define Utility Functions\n",
        "# function to convert values in the pivot values from list to float\n",
        "def convert_to_float(x):\n",
        "    if isinstance(x, list):\n",
        "        return float(x[0]) # assuming there is only one value in the list\n",
        "    else:\n",
        "        return x\n",
        "\n"
      ],
      "metadata": {
        "id": "3dArzVdYA-mz"
      },
      "execution_count": null,
      "outputs": []
    },
    {
      "cell_type": "code",
      "source": [
        "#@title Load Files:\n",
        "#Load Conditions\n",
        "url = 'https://raw.githubusercontent.com/ExCaLBBR/ExCaLBBR_Projects/main/RaciallyBiasedDecisions/RaciallyBiasedDecisions_APF/behavioral/data/raw/RBD_Demographic_Chinese.csv'\n",
        "a = pd.read_csv(url)\n",
        "\n",
        "#Load Trials\n",
        "url = 'https://raw.githubusercontent.com/ExCaLBBR/ExCaLBBR_Projects/main/RaciallyBiasedDecisions/RaciallyBiasedDecisions_APF/behavioral/data/raw/w2/RBD_Demographic_Chinese.csv'\n",
        "b = pd.read_csv(url)\n"
      ],
      "metadata": {
        "id": "NA7mXjvZZldd"
      },
      "execution_count": null,
      "outputs": []
    },
    {
      "cell_type": "code",
      "source": [
        "#@title Isolate relevant columns\n",
        "#Isolate relevant columns: Demographics\n",
        "include = ['Participant Private ID', 'Question Key', 'Response']\n",
        "df_demographic_C.drop(columns=df_demographic_C.columns.difference(include), inplace=True)\n",
        "mask = df_demographic_C['Question Key'].str.contains('BEGIN QUESTIONNAIRE', na=True) | df_demographic_C['Question Key'].str.contains('END QUESTIONNAIRE', na=True) | df_demographic_C['Question Key'].str.contains('quantised', na=True) | df_demographic_C['Question Key'].str.contains('text', na=True)\n",
        "df_demographic_C = df_demographic_C[~mask]\n",
        "\n",
        "include = ['Participant Private ID', 'Question Key', 'Response']\n",
        "df_demographic_W.drop(columns=df_demographic_W.columns.difference(include), inplace=True)\n",
        "mask = df_demographic_W['Question Key'].str.contains('BEGIN QUESTIONNAIRE', na=True) | df_demographic_W['Question Key'].str.contains('END QUESTIONNAIRE', na=True) | df_demographic_W['Question Key'].str.contains('quantised', na=True) | df_demographic_W['Question Key'].str.contains('text', na=True)\n",
        "df_demographic_W = df_demographic_W[~mask]\n",
        "\n",
        "#Isolate relevant columns: Gender/Racial Discrimination\n",
        "include = ['Participant Private ID', 'Question Key', 'Response']\n",
        "df_GRDiscrim_C.drop(columns=df_GRDiscrim_C.columns.difference(include), inplace=True)\n",
        "mask = df_GRDiscrim_C['Question Key'].str.contains('BEGIN QUESTIONNAIRE', na=True) | df_GRDiscrim_C['Question Key'].str.contains('END QUESTIONNAIRE', na=True)\n",
        "df_GRDiscrim_C = df_GRDiscrim_C[~mask]\n",
        "\n",
        "include = ['Participant Private ID', 'Question Key', 'Response']\n",
        "df_GRDiscrim_W.drop(columns=df_GRDiscrim_W.columns.difference(include), inplace=True)\n",
        "mask = df_GRDiscrim_W['Question Key'].str.contains('BEGIN QUESTIONNAIRE', na=True) | df_GRDiscrim_W['Question Key'].str.contains('END QUESTIONNAIRE', na=True)\n",
        "df_GRDiscrim_W = df_GRDiscrim_W[~mask]\n"
      ],
      "metadata": {
        "id": "Al1_KmaZjMH6"
      },
      "execution_count": null,
      "outputs": []
    }
  ]
}
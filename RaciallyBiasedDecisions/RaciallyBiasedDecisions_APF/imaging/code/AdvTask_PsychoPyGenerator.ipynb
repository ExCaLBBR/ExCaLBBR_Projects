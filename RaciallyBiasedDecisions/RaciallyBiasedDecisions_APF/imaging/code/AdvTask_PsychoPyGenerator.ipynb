{
  "nbformat": 4,
  "nbformat_minor": 0,
  "metadata": {
    "colab": {
      "provenance": [],
      "include_colab_link": true
    },
    "kernelspec": {
      "name": "python3",
      "display_name": "Python 3"
    },
    "language_info": {
      "name": "python"
    }
  },
  "cells": [
    {
      "cell_type": "markdown",
      "metadata": {
        "id": "view-in-github",
        "colab_type": "text"
      },
      "source": [
        "<a href=\"https://colab.research.google.com/github/ExCaLBBR/ExCaLBBR_Projects/blob/main/RaciallyBiasedDecisions/RaciallyBiasedDecisions_APF/imaging/code/AdvTask_PsychoPyGenerator.ipynb\" target=\"_parent\"><img src=\"https://colab.research.google.com/assets/colab-badge.svg\" alt=\"Open In Colab\"/></a>"
      ]
    },
    {
      "cell_type": "markdown",
      "source": [
        "Gorilla Info: <br>\n",
        "Project: RaciallyBiasedDecisions_APF <br>\n",
        "Account: Roberto Vargas (robertov@andrew.cmu.edu)"
      ],
      "metadata": {
        "id": "C9mud3ByqVgH"
      }
    },
    {
      "cell_type": "code",
      "source": [
        "# @title Install dependancies\n",
        "#Load relevant libraries and install dependencies\n",
        "import pandas as pd\n",
        "import numpy as np\n",
        "#import re"
      ],
      "metadata": {
        "id": "08gBma2_ivoE"
      },
      "execution_count": 1,
      "outputs": []
    },
    {
      "cell_type": "code",
      "source": [
        "# @title Define Utility Functions\n",
        "# function to convert values in the pivot values from list to float\n",
        "# def convert_to_float(x):\n",
        "#     if isinstance(x, list):\n",
        "#         return float(x[0]) # assuming there is only one value in the list\n",
        "#     else:\n",
        "#         return x\n",
        "\n"
      ],
      "metadata": {
        "id": "3dArzVdYA-mz",
        "cellView": "form"
      },
      "execution_count": null,
      "outputs": []
    },
    {
      "cell_type": "code",
      "source": [
        "#@title Load Files:\n",
        "#Load Conditions\n",
        "url = 'https://raw.githubusercontent.com/ExCaLBBR/ExCaLBBR_Projects/main/RaciallyBiasedDecisions/RaciallyBiasedDecisions_APF/imaging/psychoPy/advConditions.csv'\n",
        "conditions = pd.read_csv(url,dtype=str)\n",
        "\n",
        "#Load Trials\n",
        "url = 'https://raw.githubusercontent.com/ExCaLBBR/ExCaLBBR_Projects/main/RaciallyBiasedDecisions/RaciallyBiasedDecisions_APF/imaging/psychoPy/expandedScenarios.csv'\n",
        "trials = pd.read_csv(url)\n"
      ],
      "metadata": {
        "id": "NA7mXjvZZldd"
      },
      "execution_count": 16,
      "outputs": []
    },
    {
      "cell_type": "code",
      "source": [
        "conditions['ConditionCode']"
      ],
      "metadata": {
        "id": "skotKyf4Z6ic",
        "outputId": "37708f6c-946d-4d64-f8d4-a2bfcea18949",
        "colab": {
          "base_uri": "https://localhost:8080/"
        }
      },
      "execution_count": 17,
      "outputs": [
        {
          "output_type": "execute_result",
          "data": {
            "text/plain": [
              "0     1000\n",
              "1     1001\n",
              "2     1010\n",
              "3     1011\n",
              "4     1100\n",
              "5     1101\n",
              "6     1110\n",
              "7     1111\n",
              "8     0000\n",
              "9     0001\n",
              "10    0010\n",
              "11    0011\n",
              "12    0100\n",
              "13    0101\n",
              "14    0110\n",
              "15    0111\n",
              "Name: ConditionCode, dtype: object"
            ]
          },
          "metadata": {},
          "execution_count": 17
        }
      ]
    },
    {
      "cell_type": "code",
      "source": [
        "#@title Create PsychoPy Input for first scenario\n",
        "\n",
        "trialsScen1 = trials.loc[trials['Scenario'] == 1]\n",
        "\n",
        "for p in range(len(conditions['ConditionCode'])):\n",
        "\n",
        "  for t in range(len(trialsScen1['EncNumber'])):\n"
      ],
      "metadata": {
        "id": "Al1_KmaZjMH6"
      },
      "execution_count": null,
      "outputs": []
    }
  ]
}
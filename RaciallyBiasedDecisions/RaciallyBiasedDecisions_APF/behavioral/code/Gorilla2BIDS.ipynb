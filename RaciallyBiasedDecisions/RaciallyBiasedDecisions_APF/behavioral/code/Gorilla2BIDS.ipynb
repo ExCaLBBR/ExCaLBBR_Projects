{
  "nbformat": 4,
  "nbformat_minor": 0,
  "metadata": {
    "colab": {
      "provenance": [],
      "include_colab_link": true
    },
    "kernelspec": {
      "name": "python3",
      "display_name": "Python 3"
    },
    "language_info": {
      "name": "python"
    }
  },
  "cells": [
    {
      "cell_type": "markdown",
      "metadata": {
        "id": "view-in-github",
        "colab_type": "text"
      },
      "source": [
        "<a href=\"https://colab.research.google.com/github/ExCaLBBR/ExCaLBBR_Projects/blob/main/RaciallyBiasedDecisions/RaciallyBiasedDecisions_APF/behavioral/code/Gorilla2BIDS.ipynb\" target=\"_parent\"><img src=\"https://colab.research.google.com/assets/colab-badge.svg\" alt=\"Open In Colab\"/></a>"
      ]
    },
    {
      "cell_type": "markdown",
      "source": [
        "Gorilla Info: <br>\n",
        "Project: RaciallyBiasedDecisions_APF <br>\n",
        "Account: Roberto Vargas (robertov@andrew.cmu.edu) "
      ],
      "metadata": {
        "id": "C9mud3ByqVgH"
      }
    },
    {
      "cell_type": "code",
      "source": [
        "#Load relevant libraries and install dependencies\n",
        "import pandas as pd\n",
        "import numpy as np\n",
        "import re"
      ],
      "metadata": {
        "id": "08gBma2_ivoE"
      },
      "execution_count": null,
      "outputs": []
    },
    {
      "cell_type": "code",
      "source": [
        "# function to convert values in the pivot values from list to float\n",
        "def convert_to_float(x):\n",
        "    if isinstance(x, list):\n",
        "        return float(x[0]) # assuming there is only one value in the list\n",
        "    else:\n",
        "        return x"
      ],
      "metadata": {
        "id": "3dArzVdYA-mz"
      },
      "execution_count": null,
      "outputs": []
    },
    {
      "cell_type": "code",
      "source": [
        "#@title Load Data:\n",
        "#QUESTIONAIRRES:\n",
        "#Demographics\n",
        "url = 'https://raw.githubusercontent.com/ExCaLBBR/ExCaLBBR_Projects/main/RaciallyBiasedDecisions/RaciallyBiasedDecisions_APF/behavioral/data/raw/raw_demographic_BM.csv'\n",
        "df_demographic_BM = pd.read_csv(url)\n",
        "url = 'https://raw.githubusercontent.com/ExCaLBBR/ExCaLBBR_Projects/main/RaciallyBiasedDecisions/RaciallyBiasedDecisions-Intersectionality_SURG/data/raw/raw_demographic_WM.csv'\n",
        "df_demographic_WM = pd.read_csv(url)\n",
        "\n",
        "#Ethnic Identity\n",
        "url ='https://raw.githubusercontent.com/ExCaLBBR/ExCaLBBR_Projects/main/RaciallyBiasedDecisions/RaciallyBiasedDecisions-Intersectionality_SURG/data/raw/raw_questionnaire_EthnicIdentity_BM.csv'\n",
        "df_EthId_BM = pd.read_csv(url)\n",
        "url ='https://raw.githubusercontent.com/ExCaLBBR/ExCaLBBR_Projects/main/RaciallyBiasedDecisions/RaciallyBiasedDecisions-Intersectionality_SURG/data/raw/raw_questionnaire_EthnicIdentity_WM.csv'\n",
        "df_EthId_WM = pd.read_csv(url)\n",
        "\n",
        "#Multidimensional Inventory of Black Identity\n",
        "url = 'https://raw.githubusercontent.com/ExCaLBBR/ExCaLBBR_Projects/main/RaciallyBiasedDecisions/RaciallyBiasedDecisions-Intersectionality_SURG/data/raw/raw_questionnaire_MiBi_BM.csv'\n",
        "df_MIBI_BM = pd.read_csv(url)\n",
        "\n",
        "#News Consumption\n",
        "url = 'https://raw.githubusercontent.com/ExCaLBBR/ExCaLBBR_Projects/main/RaciallyBiasedDecisions/RaciallyBiasedDecisions-Intersectionality_SURG/data/raw/raw_questionnaire_NewsConsumption_BM.csv'\n",
        "df_News_BM = pd.read_csv(url)\n",
        "url = 'https://raw.githubusercontent.com/ExCaLBBR/ExCaLBBR_Projects/main/RaciallyBiasedDecisions/RaciallyBiasedDecisions-Intersectionality_SURG/data/raw/raw_questionnaire_NewsConsumption_WM.csv'\n",
        "df_News_WM = pd.read_csv(url)\n",
        "\n",
        "#Gender/Racial Discrimination\n",
        "url = 'https://raw.githubusercontent.com/ExCaLBBR/ExCaLBBR_Projects/main/RaciallyBiasedDecisions/RaciallyBiasedDecisions-Intersectionality_SURG/data/raw/raw_questionnaire_GR-Discrim_BM.csv'\n",
        "df_GRDiscrim_BM = pd.read_csv(url)\n",
        "url = 'https://raw.githubusercontent.com/ExCaLBBR/ExCaLBBR_Projects/main/RaciallyBiasedDecisions/RaciallyBiasedDecisions-Intersectionality_SURG/data/raw/raw_questionnaire_GR-Discrim_WM.csv'\n",
        "df_GRDiscrim_WM = pd.read_csv(url)\n",
        "\n",
        "#Exit Questionnaire\n",
        "url = 'https://raw.githubusercontent.com/ExCaLBBR/ExCaLBBR_Projects/main/RaciallyBiasedDecisions/RaciallyBiasedDecisions-Intersectionality_SURG/data/raw/raw_questionnaire_ExitQ_BM.csv'\n",
        "df_ExitQ_BM = pd.read_csv(url)\n",
        "url = 'https://raw.githubusercontent.com/ExCaLBBR/ExCaLBBR_Projects/main/RaciallyBiasedDecisions/RaciallyBiasedDecisions-Intersectionality_SURG/data/raw/raw_questionnaire_ExitQ_WM.csv'\n",
        "df_ExitQ_WM = pd.read_csv(url)\n",
        "\n",
        "#Social Dominance Orientation\n",
        "url = 'https://raw.githubusercontent.com/ExCaLBBR/ExCaLBBR_Projects/main/RaciallyBiasedDecisions/RaciallyBiasedDecisions-Intersectionality_SURG/data/raw/raw_questionnaire_SDO_BM.csv'\n",
        "df_SDO_BM = pd.read_csv(url)\n",
        "url = 'https://raw.githubusercontent.com/ExCaLBBR/ExCaLBBR_Projects/main/RaciallyBiasedDecisions/RaciallyBiasedDecisions-Intersectionality_SURG/data/raw/raw_questionnaire_SDO_WM.csv'\n",
        "df_SDO_WM = pd.read_csv(url)\n",
        "\n",
        "\n",
        "#TASKS:\n",
        "#Adventure Tasks\n",
        "url = 'https://raw.githubusercontent.com/ExCaLBBR/ExCaLBBR_Projects/main/RaciallyBiasedDecisions/RaciallyBiasedDecisions-Intersectionality_SURG/data/raw/raw_task_Adv_InIn_BM.csv'\n",
        "df_Adv_InIn_BM = pd.read_csv(url)\n",
        "url = 'https://raw.githubusercontent.com/ExCaLBBR/ExCaLBBR_Projects/main/RaciallyBiasedDecisions/RaciallyBiasedDecisions-Intersectionality_SURG/data/raw/raw_task_Adv_InOutRace_BM.csv'\n",
        "df_Adv_InOutRace_BM = pd.read_csv(url)\n",
        "url = 'https://raw.githubusercontent.com/ExCaLBBR/ExCaLBBR_Projects/main/RaciallyBiasedDecisions/RaciallyBiasedDecisions-Intersectionality_SURG/data/raw/raw_task_Adv_InOutGender_BM.csv'\n",
        "df_Adv_InOutGender_BM = pd.read_csv(url)\n",
        "url = 'https://raw.githubusercontent.com/ExCaLBBR/ExCaLBBR_Projects/main/RaciallyBiasedDecisions/RaciallyBiasedDecisions-Intersectionality_SURG/data/raw/raw_task_Adv_InOutBoth_BM.csv'\n",
        "df_Adv_InOutBoth_BM = pd.read_csv(url)\n",
        "\n",
        "url = 'https://raw.githubusercontent.com/ExCaLBBR/ExCaLBBR_Projects/main/RaciallyBiasedDecisions/RaciallyBiasedDecisions-Intersectionality_SURG/data/raw/raw_task_Adv_InIn_WM.csv'\n",
        "df_Adv_InIn_WM = pd.read_csv(url)\n",
        "url = 'https://raw.githubusercontent.com/ExCaLBBR/ExCaLBBR_Projects/main/RaciallyBiasedDecisions/RaciallyBiasedDecisions-Intersectionality_SURG/data/raw/raw_task_Adv_InOutRace_WM.csv'\n",
        "df_Adv_InOutRace_WM = pd.read_csv(url)\n",
        "url = 'https://raw.githubusercontent.com/ExCaLBBR/ExCaLBBR_Projects/main/RaciallyBiasedDecisions/RaciallyBiasedDecisions-Intersectionality_SURG/data/raw/raw_task_Adv_InOutGender_WM.csv'\n",
        "df_Adv_InOutGender_WM = pd.read_csv(url)\n",
        "url = 'https://raw.githubusercontent.com/ExCaLBBR/ExCaLBBR_Projects/main/RaciallyBiasedDecisions/RaciallyBiasedDecisions-Intersectionality_SURG/data/raw/raw_task_Adv_InOutBoth_WM.csv'\n",
        "df_Adv_InOutBoth_WM = pd.read_csv(url)\n",
        "\n",
        "\n",
        "#Implicit Association Test (IAT)\n",
        "url = 'https://github.com/ExCaLBBR/ExCaLBBR_Projects/raw/main/RaciallyBiasedDecisions/RaciallyBiasedDecisions-Intersectionality_SURG/data/raw/raw_task_IAT_BM.csv.gz'\n",
        "df_IAT_BM = pd.read_csv(url, compression='gzip')\n",
        "url = 'https://github.com/ExCaLBBR/ExCaLBBR_Projects/raw/main/RaciallyBiasedDecisions/RaciallyBiasedDecisions-Intersectionality_SURG/data/raw/raw_task_IAT_WM.csv.gz'\n",
        "df_IAT_WM = pd.read_csv(url, compression='gzip')"
      ],
      "metadata": {
        "id": "NA7mXjvZZldd",
        "colab": {
          "base_uri": "https://localhost:8080/"
        },
        "outputId": "6d85abd7-1592-4821-c285-aa485f01b51f"
      },
      "execution_count": null,
      "outputs": [
        {
          "output_type": "stream",
          "name": "stderr",
          "text": [
            "<ipython-input-17-3976bd613fa0>:67: DtypeWarning: Columns (0) have mixed types. Specify dtype option on import or set low_memory=False.\n",
            "  df_IAT_BM = pd.read_csv(url, compression='gzip')\n",
            "<ipython-input-17-3976bd613fa0>:69: DtypeWarning: Columns (0) have mixed types. Specify dtype option on import or set low_memory=False.\n",
            "  df_IAT_WM = pd.read_csv(url, compression='gzip')\n"
          ]
        }
      ]
    },
    {
      "cell_type": "code",
      "source": [
        "#@title Isolate relevant columns\n",
        "#Isolate relevant columns: Demographics\n",
        "include = ['Participant Private ID', 'Question Key', 'Response']\n",
        "df_demographic_BM.drop(columns=df_demographic_BM.columns.difference(include), inplace=True)\n",
        "mask = df_demographic_BM['Question Key'].str.contains('BEGIN QUESTIONNAIRE', na=True) | df_demographic_BM['Question Key'].str.contains('END QUESTIONNAIRE', na=True) | df_demographic_BM['Question Key'].str.contains('quantised', na=True)\n",
        "df_demographic_BM = df_demographic_BM[~mask]\n",
        "\n",
        "include = ['Participant Private ID', 'Question Key', 'Response']\n",
        "df_demographic_WM.drop(columns=df_demographic_WM.columns.difference(include), inplace=True)\n",
        "mask = df_demographic_WM['Question Key'].str.contains('BEGIN QUESTIONNAIRE', na=True) | df_demographic_WM['Question Key'].str.contains('END QUESTIONNAIRE', na=True) | df_demographic_WM['Question Key'].str.contains('quantised', na=True)\n",
        "df_demographic_WM = df_demographic_WM[~mask]\n",
        "\n",
        "#Isolate relevant columns: Ethnic Identity\n",
        "include = ['Participant Private ID', 'Question Key', 'Response']\n",
        "df_EthId_BM.drop(columns=df_EthId_BM.columns.difference(include), inplace=True)\n",
        "mask = df_EthId_BM['Question Key'].str.contains('BEGIN QUESTIONNAIRE', na=True) | df_EthId_BM['Question Key'].str.contains('END QUESTIONNAIRE', na=True)\n",
        "df_EthId_BM = df_EthId_BM[~mask]\n",
        "\n",
        "include = ['Participant Private ID', 'Question Key', 'Response']\n",
        "df_EthId_WM.drop(columns=df_EthId_WM.columns.difference(include), inplace=True)\n",
        "mask = df_EthId_WM['Question Key'].str.contains('BEGIN QUESTIONNAIRE', na=True) | df_EthId_WM['Question Key'].str.contains('END QUESTIONNAIRE', na=True)\n",
        "df_EthId_WM = df_EthId_WM[~mask]\n",
        "\n",
        "#Isolate relevant columns: Multidimensional Inventory of Black Identity\n",
        "include = ['Participant Private ID', 'Question Key', 'Response']\n",
        "df_MIBI_BM.drop(columns=df_MIBI_BM.columns.difference(include), inplace=True)\n",
        "mask = df_MIBI_BM['Question Key'].str.contains('BEGIN QUESTIONNAIRE', na=True) | df_MIBI_BM['Question Key'].str.contains('END QUESTIONNAIRE', na=True)\n",
        "df_MIBI_BM = df_MIBI_BM[~mask]\n",
        "\n",
        "#Isolate relevant columns: News Consumption\n",
        "include = ['Participant Private ID', 'Question Key', 'Response']\n",
        "df_News_BM.drop(columns=df_News_BM.columns.difference(include), inplace=True)\n",
        "mask = df_News_BM['Question Key'].str.contains('BEGIN QUESTIONNAIRE', na=True) | df_News_BM['Question Key'].str.contains('END QUESTIONNAIRE', na=True)\n",
        "df_News_BM = df_News_BM[~mask]\n",
        "\n",
        "include = ['Participant Private ID', 'Question Key', 'Response']\n",
        "df_News_WM.drop(columns=df_News_WM.columns.difference(include), inplace=True)\n",
        "mask = df_News_WM['Question Key'].str.contains('BEGIN QUESTIONNAIRE', na=True) | df_News_WM['Question Key'].str.contains('END QUESTIONNAIRE', na=True)\n",
        "df_News_WM = df_News_WM[~mask]\n",
        "\n",
        "#Isolate relevant columns: Gender/Racial Discrimination\n",
        "include = ['Participant Private ID', 'Question Key', 'Response']\n",
        "df_GRDiscrim_BM.drop(columns=df_GRDiscrim_BM.columns.difference(include), inplace=True)\n",
        "mask = df_GRDiscrim_BM['Question Key'].str.contains('BEGIN QUESTIONNAIRE', na=True) | df_GRDiscrim_BM['Question Key'].str.contains('END QUESTIONNAIRE', na=True)\n",
        "df_GRDiscrim_BM = df_GRDiscrim_BM[~mask]\n",
        "\n",
        "include = ['Participant Private ID', 'Question Key', 'Response']\n",
        "df_GRDiscrim_WM.drop(columns=df_GRDiscrim_WM.columns.difference(include), inplace=True)\n",
        "mask = df_GRDiscrim_WM['Question Key'].str.contains('BEGIN QUESTIONNAIRE', na=True) | df_GRDiscrim_WM['Question Key'].str.contains('END QUESTIONNAIRE', na=True)\n",
        "df_GRDiscrim_WM = df_GRDiscrim_WM[~mask]\n",
        "\n",
        "#Isolate relevant columns: Exit Questionairre\n",
        "include = ['Participant Private ID', 'Question Key', 'Response']\n",
        "df_ExitQ_BM.drop(columns=df_ExitQ_BM.columns.difference(include), inplace=True)\n",
        "mask = df_ExitQ_BM['Question Key'].str.contains('BEGIN QUESTIONNAIRE', na=True) | df_ExitQ_BM['Question Key'].str.contains('END QUESTIONNAIRE', na=True) | df_ExitQ_BM['Question Key'].str.contains('quantised', na=True)\n",
        "df_ExitQ_BM = df_ExitQ_BM[~mask]\n",
        "\n",
        "include = ['Participant Private ID', 'Question Key', 'Response']\n",
        "df_ExitQ_WM.drop(columns=df_ExitQ_WM.columns.difference(include), inplace=True)\n",
        "mask = df_ExitQ_WM['Question Key'].str.contains('BEGIN QUESTIONNAIRE', na=True) | df_ExitQ_WM['Question Key'].str.contains('END QUESTIONNAIRE', na=True) | df_ExitQ_WM['Question Key'].str.contains('quantised', na=True)\n",
        "df_ExitQ_WM = df_ExitQ_WM[~mask]\n",
        "\n",
        "#Isolate relevant columns: Social Dominance Orientation\n",
        "include = ['Participant Private ID', 'Question Key', 'Response']\n",
        "df_SDO_BM.drop(columns=df_SDO_BM.columns.difference(include), inplace=True)\n",
        "mask = df_SDO_BM['Question Key'].str.contains('BEGIN QUESTIONNAIRE', na=True) | df_SDO_BM['Question Key'].str.contains('END QUESTIONNAIRE', na=True)\n",
        "df_SDO_BM = df_SDO_BM[~mask]\n",
        "\n",
        "include = ['Participant Private ID', 'Question Key', 'Response']\n",
        "df_SDO_WM.drop(columns=df_SDO_WM.columns.difference(include), inplace=True)\n",
        "mask = df_SDO_WM['Question Key'].str.contains('BEGIN QUESTIONNAIRE', na=True) | df_SDO_WM['Question Key'].str.contains('END QUESTIONNAIRE', na=True)\n",
        "df_SDO_WM = df_SDO_WM[~mask]\n",
        "\n",
        "#TASKS:\n",
        "#Isolate relevant columns: Adventure Tasks InIn\n",
        "include = ['Participant Private ID', 'Store: participant', 'Store: outcome', 'Spreadsheet: PlayerAction', 'Component Name', 'allocator-k3xu', 'Response']\n",
        "df_Adv_InIn_BM.drop(columns=df_Adv_InIn_BM.columns.difference(include), inplace=True)\n",
        "mask = df_Adv_InIn_BM['Component Name'].str.contains('Click Response', na=True)\n",
        "df_Adv_InIn_BM = df_Adv_InIn_BM[mask]\n",
        "mask = df_Adv_InIn_BM['Response'].str.contains('BEGIN', na=True) | df_Adv_InIn_BM['Response'].str.contains('END', na=True) | df_Adv_InIn_BM['Response'].str.contains('Next', na=True)\n",
        "df_Adv_InIn_BM = df_Adv_InIn_BM[~mask]\n",
        "df_Adv_InIn_BM.drop(columns=['Component Name'], inplace=True)\n",
        "\n",
        "include = ['Participant Private ID', 'Store: participant', 'Store: outcome', 'Spreadsheet: PlayerAction', 'Component Name', 'allocator-k3xu', 'Response']\n",
        "df_Adv_InIn_WM.drop(columns=df_Adv_InIn_WM.columns.difference(include), inplace=True)\n",
        "mask = df_Adv_InIn_WM['Component Name'].str.contains('Click Response', na=True)\n",
        "df_Adv_InIn_WM = df_Adv_InIn_WM[mask]\n",
        "mask = df_Adv_InIn_WM['Response'].str.contains('BEGIN', na=True) | df_Adv_InIn_WM['Response'].str.contains('END', na=True) | df_Adv_InIn_WM['Response'].str.contains('Next', na=True)\n",
        "df_Adv_InIn_WM = df_Adv_InIn_WM[~mask]\n",
        "df_Adv_InIn_WM.drop(columns=['Component Name'], inplace=True)\n",
        "\n",
        "#Isolate relevant columns: Adventure Tasks InOutRace\n",
        "include = ['Participant Private ID', 'Store: participant', 'Store: outcome', 'Spreadsheet: PlayerAction', 'Component Name', 'allocator-k3xu', 'Response']\n",
        "df_Adv_InOutRace_BM.drop(columns=df_Adv_InOutRace_BM.columns.difference(include), inplace=True)\n",
        "mask = df_Adv_InOutRace_BM['Component Name'].str.contains('Click Response', na=True)\n",
        "df_Adv_InOutRace_BM = df_Adv_InOutRace_BM[mask]\n",
        "mask = df_Adv_InOutRace_BM['Response'].str.contains('BEGIN', na=True) | df_Adv_InOutRace_BM['Response'].str.contains('END', na=True) | df_Adv_InOutRace_BM['Response'].str.contains('Next', na=True)\n",
        "df_Adv_InOutRace_BM = df_Adv_InOutRace_BM[~mask]\n",
        "df_Adv_InOutRace_BM.drop(columns=['Component Name'], inplace=True)\n",
        "\n",
        "include = ['Participant Private ID', 'Store: participant', 'Store: outcome', 'Spreadsheet: PlayerAction', 'Component Name', 'allocator-k3xu', 'Response']\n",
        "df_Adv_InOutRace_WM.drop(columns=df_Adv_InOutRace_WM.columns.difference(include), inplace=True)\n",
        "mask = df_Adv_InOutRace_WM['Component Name'].str.contains('Click Response', na=True)\n",
        "df_Adv_InOutRace_WM = df_Adv_InOutRace_WM[mask]\n",
        "mask = df_Adv_InOutRace_WM['Response'].str.contains('BEGIN', na=True) | df_Adv_InOutRace_WM['Response'].str.contains('END', na=True) | df_Adv_InOutRace_WM['Response'].str.contains('Next', na=True)\n",
        "df_Adv_InOutRace_WM = df_Adv_InOutRace_WM[~mask]\n",
        "df_Adv_InOutRace_WM.drop(columns=['Component Name'], inplace=True)\n",
        "\n",
        "#Isolate relevant columns: Adventure Tasks InOutGender\n",
        "include = ['Participant Private ID', 'Store: participant', 'Store: outcome', 'Spreadsheet: PlayerAction', 'Component Name', 'allocator-k3xu', 'Response']\n",
        "df_Adv_InOutGender_BM.drop(columns=df_Adv_InOutGender_BM.columns.difference(include), inplace=True)\n",
        "mask = df_Adv_InOutGender_BM['Component Name'].str.contains('Click Response', na=True)\n",
        "df_Adv_InOutGender_BM = df_Adv_InOutGender_BM[mask]\n",
        "mask = df_Adv_InOutGender_BM['Response'].str.contains('BEGIN', na=True) | df_Adv_InOutGender_BM['Response'].str.contains('END', na=True) | df_Adv_InOutGender_BM['Response'].str.contains('Next', na=True)\n",
        "df_Adv_InOutGender_BM = df_Adv_InOutGender_BM[~mask]\n",
        "df_Adv_InOutGender_BM.drop(columns=['Component Name'], inplace=True)\n",
        "\n",
        "include = ['Participant Private ID', 'Store: participant', 'Store: outcome', 'Spreadsheet: PlayerAction', 'Component Name', 'allocator-k3xu', 'Response']\n",
        "df_Adv_InOutGender_WM.drop(columns=df_Adv_InOutGender_WM.columns.difference(include), inplace=True)\n",
        "mask = df_Adv_InOutGender_WM['Component Name'].str.contains('Click Response', na=True)\n",
        "df_Adv_InOutGender_WM = df_Adv_InOutGender_WM[mask]\n",
        "mask = df_Adv_InOutGender_WM['Response'].str.contains('BEGIN', na=True) | df_Adv_InOutGender_WM['Response'].str.contains('END', na=True) | df_Adv_InOutGender_WM['Response'].str.contains('Next', na=True)\n",
        "df_Adv_InOutGender_WM = df_Adv_InOutGender_WM[~mask]\n",
        "df_Adv_InOutGender_WM.drop(columns=['Component Name'], inplace=True)\n",
        "\n",
        "#Isolate relevant columns: Adventure Tasks InOutBoth\n",
        "include = ['Participant Private ID', 'Store: participant', 'Store: outcome', 'Spreadsheet: PlayerAction', 'Component Name', 'allocator-k3xu', 'Response']\n",
        "df_Adv_InOutBoth_BM.drop(columns=df_Adv_InOutBoth_BM.columns.difference(include), inplace=True)\n",
        "mask = df_Adv_InOutBoth_BM['Component Name'].str.contains('Click Response', na=True)\n",
        "df_Adv_InOutBoth_BM = df_Adv_InOutBoth_BM[mask]\n",
        "mask = df_Adv_InOutBoth_BM['Response'].str.contains('BEGIN', na=True) | df_Adv_InOutBoth_BM['Response'].str.contains('END', na=True) | df_Adv_InOutBoth_BM['Response'].str.contains('Next', na=True)\n",
        "df_Adv_InOutBoth_BM = df_Adv_InOutBoth_BM[~mask]\n",
        "df_Adv_InOutBoth_BM.drop(columns=['Component Name'], inplace=True)\n",
        "\n",
        "include = ['Participant Private ID', 'Store: participant', 'Store: outcome', 'Spreadsheet: PlayerAction', 'Component Name', 'allocator-k3xu', 'Response']\n",
        "df_Adv_InOutBoth_WM.drop(columns=df_Adv_InOutBoth_WM.columns.difference(include), inplace=True)\n",
        "mask = df_Adv_InOutBoth_WM['Component Name'].str.contains('Click Response', na=True)\n",
        "df_Adv_InOutBoth_WM = df_Adv_InOutBoth_WM[mask]\n",
        "mask = df_Adv_InOutBoth_WM['Response'].str.contains('BEGIN', na=True) | df_Adv_InOutBoth_WM['Response'].str.contains('END', na=True) | df_Adv_InOutBoth_WM['Response'].str.contains('Next', na=True)\n",
        "df_Adv_InOutBoth_WM = df_Adv_InOutBoth_WM[~mask]\n",
        "df_Adv_InOutBoth_WM.drop(columns=['Component Name'], inplace=True)\n",
        "\n",
        "#Implicit Association Test (IAT)\n",
        "include = ['Participant Private ID', 'Absolute Reaction Time', 'Correct', 'Component Name', 'allocator-k3xu', 'Spreadsheet: ImageLeft', 'Spreadsheet: ImageRight', 'Spreadsheet: TextLeft', 'Spreadsheet: TextRight', 'Spreadsheet: metadata', 'Response']\n",
        "df_IAT_BM.drop(columns=df_IAT_BM.columns.difference(include), inplace=True)\n",
        "mask = df_IAT_BM['Component Name'].str.contains('Keyboard Response', na=True)\n",
        "df_IAT_BM = df_IAT_BM[mask]\n",
        "mask = df_IAT_BM['Response'].str.contains('BEGIN', na=True) | df_IAT_BM['Response'].str.contains('END', na=True)\n",
        "df_IAT_BM = df_IAT_BM[~mask]\n",
        "df_IAT_BM.drop(columns=['Component Name', 'Response'], inplace=True)\n",
        "df_IAT_BM = df_IAT_BM.reset_index(drop=True)\n",
        "\n",
        "include = ['Participant Private ID', 'Absolute Reaction Time', 'Correct', 'Component Name', 'allocator-k3xu', 'Spreadsheet: ImageLeft', 'Spreadsheet: ImageRight', 'Spreadsheet: TextLeft', 'Spreadsheet: TextRight', 'Spreadsheet: metadata', 'Response']\n",
        "df_IAT_WM.drop(columns=df_IAT_WM.columns.difference(include), inplace=True)\n",
        "mask = df_IAT_WM['Component Name'].str.contains('Keyboard Response', na=True)\n",
        "df_IAT_WM = df_IAT_WM[mask]\n",
        "mask = df_IAT_WM['Response'].str.contains('BEGIN', na=True) | df_IAT_WM['Response'].str.contains('END', na=True)\n",
        "df_IAT_WM = df_IAT_WM[~mask]\n",
        "df_IAT_WM.drop(columns=['Component Name', 'Response'], inplace=True)\n",
        "df_IAT_WM = df_IAT_WM.reset_index(drop=True)"
      ],
      "metadata": {
        "id": "daEQfOWgSmqY",
        "colab": {
          "base_uri": "https://localhost:8080/"
        },
        "cellView": "form",
        "outputId": "4ff94aae-2730-4cb5-a6e7-d2973c991435"
      },
      "execution_count": null,
      "outputs": [
        {
          "output_type": "stream",
          "name": "stderr",
          "text": [
            "<ipython-input-18-7af0593e4b9b>:133: SettingWithCopyWarning: \n",
            "A value is trying to be set on a copy of a slice from a DataFrame\n",
            "\n",
            "See the caveats in the documentation: https://pandas.pydata.org/pandas-docs/stable/user_guide/indexing.html#returning-a-view-versus-a-copy\n",
            "  df_Adv_InOutBoth_BM.drop(columns=['Component Name'], inplace=True)\n"
          ]
        }
      ]
    },
    {
      "cell_type": "code",
      "source": [
        "#@title Covert to Pivot dataframes\n",
        "#Demographics\n",
        "df_demographic_BM = df_demographic_BM.pivot(index = 'Participant Private ID', columns = ['Question Key'], values = ['Response']) #Demographics\n",
        "df_demographic_WM = df_demographic_WM.pivot(index = 'Participant Private ID', columns = ['Question Key'], values = ['Response']) #Demographics\n",
        "\n",
        "#Ethnic Identity\n",
        "df_EthId_BM = df_EthId_BM.pivot(index = 'Participant Private ID', columns = ['Question Key'], values = ['Response']) \n",
        "df_EthId_WM = df_EthId_WM.pivot(index = 'Participant Private ID', columns = ['Question Key'], values = ['Response']) \n",
        "\n",
        "#Multidimensional Inventory of Black Identity\n",
        "df_MIBI_BM = df_MIBI_BM.pivot(index = 'Participant Private ID', columns = ['Question Key'], values = ['Response']) \n",
        "\n",
        "#News Consumption\n",
        "df_News_BM = df_News_BM.pivot(index = 'Participant Private ID', columns = ['Question Key'], values = ['Response']) \n",
        "df_News_WM = df_News_WM.pivot(index = 'Participant Private ID', columns = ['Question Key'], values = ['Response']) \n",
        "\n",
        "#Gender/Racial Discrimination\n",
        "df_GRDiscrim_BM = df_GRDiscrim_BM.pivot(index = 'Participant Private ID', columns = ['Question Key'], values = ['Response']) \n",
        "df_GRDiscrim_WM = df_GRDiscrim_WM.pivot(index = 'Participant Private ID', columns = ['Question Key'], values = ['Response']) \n",
        "\n",
        "#Exit Questionairre\n",
        "df_ExitQ_BM = df_ExitQ_BM.pivot(index = 'Participant Private ID', columns = ['Question Key'], values = ['Response']) \n",
        "df_ExitQ_WM = df_ExitQ_WM.pivot(index = 'Participant Private ID', columns = ['Question Key'], values = ['Response'])\n",
        "\n",
        "#Social Dominance Orientation\n",
        "df_SDO_BM = df_SDO_BM.pivot(index = 'Participant Private ID', columns = ['Question Key'], values = ['Response']) \n",
        "df_SDO_WM = df_SDO_WM.pivot(index = 'Participant Private ID', columns = ['Question Key'], values = ['Response']) \n",
        "\n",
        "\n",
        "#TASKS:\n",
        "#Adventure Task\n",
        "df_Adv_InIn_BM = df_Adv_InIn_BM.pivot(index = 'Participant Private ID', columns = ['allocator-k3xu', 'Spreadsheet: PlayerAction'], values = ['Response']) \n",
        "df_Adv_InIn_WM = df_Adv_InIn_WM.pivot(index = 'Participant Private ID', columns = ['allocator-k3xu', 'Spreadsheet: PlayerAction'], values = ['Response'])\n",
        "\n",
        "df_Adv_InOutRace_BM = df_Adv_InOutRace_BM.pivot(index = 'Participant Private ID', columns = ['allocator-k3xu', 'Spreadsheet: PlayerAction'], values = ['Response']) \n",
        "df_Adv_InOutRace_WM = df_Adv_InOutRace_WM.pivot(index = 'Participant Private ID', columns = ['allocator-k3xu', 'Spreadsheet: PlayerAction'], values = ['Response'])\n",
        "\n",
        "df_Adv_InOutGender_BM = df_Adv_InOutGender_BM.pivot(index = 'Participant Private ID', columns = ['allocator-k3xu', 'Spreadsheet: PlayerAction'], values = ['Response']) \n",
        "df_Adv_InOutGender_WM = df_Adv_InOutGender_WM.pivot(index = 'Participant Private ID', columns = ['allocator-k3xu', 'Spreadsheet: PlayerAction'], values = ['Response'])\n",
        "\n",
        "df_Adv_InOutBoth_BM = df_Adv_InOutBoth_BM.pivot(index = 'Participant Private ID', columns = ['allocator-k3xu', 'Spreadsheet: PlayerAction'], values = ['Response']) \n",
        "df_Adv_InOutBoth_WM = df_Adv_InOutBoth_WM.pivot(index = 'Participant Private ID', columns = ['allocator-k3xu', 'Spreadsheet: PlayerAction'], values = ['Response'])\n",
        "\n",
        "#Implicit Association Test (IAT)\n",
        "print('The IAT will structure will be retained')\n",
        "#df_IAT_BM\n",
        "#df_IAT_WM"
      ],
      "metadata": {
        "id": "8dzVwNOoDY5V",
        "colab": {
          "base_uri": "https://localhost:8080/"
        },
        "cellView": "form",
        "outputId": "5cb6547a-3abf-4940-d3c3-220657c86797"
      },
      "execution_count": null,
      "outputs": [
        {
          "output_type": "stream",
          "name": "stdout",
          "text": [
            "The IAT will structure will be retained\n"
          ]
        }
      ]
    },
    {
      "cell_type": "code",
      "source": [
        "#Push to Lab GitHub !!!\n",
        "#NOTE: These credentials should be configured to user's lab GitHub\n",
        "#If user is part of ExCaLBBR Lab then ask Roberto for access\n",
        "!git config --global user.name \"\" #\"YOUR CREDIENTIALS HERE\" \n",
        "!git config --global user.email \"\" #\"YOUR CREDIENTIALS HERE\"\n",
        "!git config --global user.password \"\" #\"YOUR CREDIENTIALS HERE\"\n",
        "\n",
        "token = ''\n",
        "username_organization = ''\n",
        "repo = ''\n",
        "outputDir = ''"
      ],
      "metadata": {
        "id": "P1hSBfkRJkYa"
      },
      "execution_count": null,
      "outputs": []
    },
    {
      "cell_type": "code",
      "source": [
        "#Clone repository and move created files into output directory\n",
        "!git clone https://{token}@github.com/{username_organization}/{repo}"
      ],
      "metadata": {
        "id": "RToVhxKCJntE",
        "outputId": "7c239b88-00fd-4c04-b9fa-d3b1e6684594",
        "colab": {
          "base_uri": "https://localhost:8080/"
        }
      },
      "execution_count": null,
      "outputs": [
        {
          "output_type": "stream",
          "name": "stdout",
          "text": [
            "Cloning into 'ExCaLBBR_Projects'...\n",
            "remote: Enumerating objects: 1046, done.\u001b[K\n",
            "remote: Counting objects: 100% (441/441), done.\u001b[K\n",
            "remote: Compressing objects: 100% (283/283), done.\u001b[K\n",
            "remote: Total 1046 (delta 196), reused 363 (delta 158), pack-reused 605\u001b[K\n",
            "Receiving objects: 100% (1046/1046), 27.60 MiB | 12.80 MiB/s, done.\n",
            "Resolving deltas: 100% (412/412), done.\n"
          ]
        }
      ]
    },
    {
      "cell_type": "code",
      "source": [
        "#Convert all files to csv\n",
        "df_demographic_BM.to_csv('demographic_BM.csv')\n",
        "df_demographic_WM.to_csv('demographic_WM.csv')\n",
        "df_EthId_BM.to_csv('EthId_BM.csv')\n",
        "df_EthId_WM.to_csv('EthId_WM.csv')\n",
        "df_MIBI_BM.to_csv('MIBI_BM.csv')\n",
        "df_News_BM.to_csv('News_BM.csv')\n",
        "df_News_WM.to_csv('News_WM.csv')\n",
        "df_GRDiscrim_BM.to_csv('GRDiscrim_BM.csv')\n",
        "df_GRDiscrim_WM.to_csv('GRDiscrim_WM.csv')\n",
        "df_ExitQ_BM.to_csv('ExitQ_BM.csv')\n",
        "df_ExitQ_WM.to_csv('ExitQ_WM.csv')\n",
        "df_SDO_BM.to_csv('SDO_BM.csv')\n",
        "df_SDO_WM.to_csv('SDO_WM.csv')\n",
        "df_Adv_InIn_BM.to_csv('Adv_InIn_BM.csv')\n",
        "df_Adv_InIn_WM.to_csv('Adv_InIn_WM.csv')\n",
        "df_Adv_InOutRace_BM.to_csv('Adv_InOutRace_BM.csv')\n",
        "df_Adv_InOutRace_WM.to_csv('Adv_InOutRace_WM.csv')\n",
        "df_Adv_InOutGender_BM.to_csv('Adv_InOutGender_BM.csv')\n",
        "df_Adv_InOutGender_WM.to_csv('Adv_InOutGender_WM.csv')\n",
        "df_Adv_InOutBoth_BM.to_csv('Adv_InOutBoth_BM.csv')\n",
        "df_Adv_InOutBoth_WM.to_csv('Adv_InOutBoth_WM.csv')\n",
        "df_IAT_BM.to_csv('IAT_BM.csv')\n",
        "df_IAT_WM.to_csv('IAT_WM.csv')"
      ],
      "metadata": {
        "id": "GHGoq3mGSf5Q"
      },
      "execution_count": null,
      "outputs": []
    },
    {
      "cell_type": "code",
      "source": [
        "#Move files to Clone repository\n",
        "!mv demographic_BM.csv {repo}/{outputDir}\n",
        "!mv demographic_WM.csv {repo}/{outputDir}\n",
        "!mv EthId_BM.csv {repo}/{outputDir}\n",
        "!mv EthId_WM.csv {repo}/{outputDir}\n",
        "!mv MIBI_BM.csv {repo}/{outputDir}\n",
        "!mv News_BM.csv {repo}/{outputDir}\n",
        "!mv News_WM.csv {repo}/{outputDir}\n",
        "!mv GRDiscrim_BM.csv {repo}/{outputDir}\n",
        "!mv GRDiscrim_WM.csv {repo}/{outputDir}\n",
        "!mv ExitQ_BM.csv {repo}/{outputDir}\n",
        "!mv ExitQ_WM.csv {repo}/{outputDir}\n",
        "!mv SDO_BM.csv {repo}/{outputDir}\n",
        "!mv SDO_WM.csv {repo}/{outputDir}\n",
        "!mv Adv_InIn_BM.csv {repo}/{outputDir}\n",
        "!mv Adv_InIn_WM.csv {repo}/{outputDir}\n",
        "!mv Adv_InOutRace_BM.csv {repo}/{outputDir}\n",
        "!mv Adv_InOutRace_WM.csv {repo}/{outputDir}\n",
        "!mv Adv_InOutGender_BM.csv {repo}/{outputDir}\n",
        "!mv Adv_InOutGender_WM.csv {repo}/{outputDir}\n",
        "!mv Adv_InOutBoth_BM.csv {repo}/{outputDir}\n",
        "!mv Adv_InOutBoth_WM.csv {repo}/{outputDir}\n",
        "!mv IAT_BM.csv {repo}/{outputDir}\n",
        "!mv IAT_WM.csv {repo}/{outputDir}"
      ],
      "metadata": {
        "id": "8QzFtkfER0-3"
      },
      "execution_count": null,
      "outputs": []
    },
    {
      "cell_type": "code",
      "source": [
        "#Move to principle dir, commit, and push changes\n",
        "%cd {repo}\n",
        "!git add --all\n",
        "!git commit -a -m \"Create formatted Data\"\n",
        "!git push origin"
      ],
      "metadata": {
        "id": "GhSx52_aMfPs",
        "colab": {
          "base_uri": "https://localhost:8080/"
        },
        "outputId": "ebcb0d0d-01d5-46d8-a13b-0f50f4f84a18"
      },
      "execution_count": null,
      "outputs": [
        {
          "output_type": "stream",
          "name": "stdout",
          "text": [
            "/content/ExCaLBBR_Projects/ExCaLBBR_Projects\n",
            "[main a809555] Fixed issues with Isolate relevant columns: PRaM and SPaM\n",
            " 2 files changed, 37157 insertions(+), 37157 deletions(-)\n",
            "Enumerating objects: 11, done.\n",
            "Counting objects: 100% (11/11), done.\n",
            "Delta compression using up to 2 threads\n",
            "Compressing objects: 100% (6/6), done.\n",
            "Writing objects: 100% (6/6), 152.15 KiB | 1.98 MiB/s, done.\n",
            "Total 6 (delta 4), reused 0 (delta 0)\n",
            "remote: Resolving deltas: 100% (4/4), completed with 4 local objects.\u001b[K\n",
            "To https://github.com/ExCaLBBR/ExCaLBBR_Projects\n",
            "   4bdab73..a809555  main -> main\n"
          ]
        }
      ]
    }
  ]
}
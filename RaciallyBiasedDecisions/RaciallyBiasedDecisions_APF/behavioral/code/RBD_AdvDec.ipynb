{
  "nbformat": 4,
  "nbformat_minor": 0,
  "metadata": {
    "colab": {
      "provenance": [],
      "include_colab_link": true
    },
    "kernelspec": {
      "name": "python3",
      "display_name": "Python 3"
    },
    "language_info": {
      "name": "python"
    }
  },
  "cells": [
    {
      "cell_type": "markdown",
      "metadata": {
        "id": "view-in-github",
        "colab_type": "text"
      },
      "source": [
        "<a href=\"https://colab.research.google.com/github/ExCaLBBR/ExCaLBBR_Projects/blob/main/RaciallyBiasedDecisions/RaciallyBiasedDecisions_APF/behavioral/code/RBD_AdvDec.ipynb\" target=\"_parent\"><img src=\"https://colab.research.google.com/assets/colab-badge.svg\" alt=\"Open In Colab\"/></a>"
      ]
    },
    {
      "cell_type": "code",
      "execution_count": 61,
      "metadata": {
        "id": "AI0WsjFG6yP-",
        "cellView": "form"
      },
      "outputs": [],
      "source": [
        "# @title Install dependancies\n",
        "import pandas as pd #for dealing with csv import\n",
        "import os # for joining paths and filenames sensibly\n",
        "import numpy as np #for the population std\n",
        "import glob # for finding csv data files\n",
        "import platform # paths use different dividers on linux vs windows, so we need to test for this\n",
        "import string\n",
        "from scipy.stats import sem\n",
        "import matplotlib.pyplot as plt"
      ]
    },
    {
      "cell_type": "code",
      "source": [
        "#@title Load Data:\n",
        "Adv_C_In = pd.read_csv(\"https://raw.githubusercontent.com/ExCaLBBR/ExCaLBBR_Projects/main/RaciallyBiasedDecisions/RaciallyBiasedDecisions_APF/behavioral/data/Adv_C_In.csv\", header=0)\n",
        "Adv_W_In = pd.read_csv(\"https://raw.githubusercontent.com/ExCaLBBR/ExCaLBBR_Projects/main/RaciallyBiasedDecisions/RaciallyBiasedDecisions_APF/behavioral/data/Adv_W_In.csv\", header=0)\n",
        "Adv_C_Out = pd.read_csv(\"https://raw.githubusercontent.com/ExCaLBBR/ExCaLBBR_Projects/main/RaciallyBiasedDecisions/RaciallyBiasedDecisions_APF/behavioral/data/Adv_C_Out.csv\", header=0)\n",
        "Adv_W_Out = pd.read_csv(\"https://raw.githubusercontent.com/ExCaLBBR/ExCaLBBR_Projects/main/RaciallyBiasedDecisions/RaciallyBiasedDecisions_APF/behavioral/data/Adv_W_Out.csv\", header=0)\n"
      ],
      "metadata": {
        "id": "jUA56Qs6Jia4",
        "cellView": "form"
      },
      "execution_count": 53,
      "outputs": []
    },
    {
      "cell_type": "code",
      "source": [
        "#@title Data subsetting and recoding\n",
        "\n",
        "#Correct ID formatting\n",
        "Adv_C_In['Participant Private ID'] = [int(sub) for sub in Adv_C_In['Participant Private ID']]\n",
        "Adv_C_In['Participant Private ID'] = Adv_C_In['Participant Private ID'].astype(str)\n",
        "Adv_W_In['Participant Private ID'] = [int(sub) for sub in Adv_W_In['Participant Private ID']]\n",
        "Adv_W_In['Participant Private ID'] = Adv_W_In['Participant Private ID'].astype(str)\n",
        "Adv_C_Out['Participant Private ID'] = [int(sub) for sub in Adv_C_Out['Participant Private ID']]\n",
        "Adv_C_Out['Participant Private ID'] = Adv_C_Out['Participant Private ID'].astype(str)\n",
        "Adv_W_Out['Participant Private ID'] = [int(sub) for sub in Adv_W_Out['Participant Private ID']]\n",
        "Adv_W_Out['Participant Private ID'] = Adv_W_Out['Participant Private ID'].astype(str)\n",
        "\n",
        "#Specify Parameters\n",
        "totRew = 10\n",
        "totPun = 8\n",
        "totDec = totRew + totPun\n",
        "\n",
        "# Recode Rewards as 1 and Punish as 0\n",
        "Adv_C_In = Adv_C_In.replace('Reward', 1); Adv_C_In = Adv_C_In.replace('Punish', 0)\n",
        "Adv_W_In = Adv_W_In.replace('Reward', 1); Adv_W_In = Adv_W_In.replace('Punish', 0)\n",
        "Adv_C_Out = Adv_C_Out.replace('Reward', 1); Adv_C_Out = Adv_C_Out.replace('Punish', 0)\n",
        "Adv_W_Out = Adv_W_Out.replace('Reward', 1); Adv_W_Out = Adv_W_Out.replace('Punish', 0)"
      ],
      "metadata": {
        "cellView": "form",
        "id": "jV03oyegDAZC"
      },
      "execution_count": 54,
      "outputs": []
    },
    {
      "cell_type": "code",
      "source": [
        "#@title Compute Reward Bias by Conditions\n",
        "\n",
        "#Compute Bias for Chinese Participants\n",
        "RewBias_C_In = []\n",
        "for p in Adv_C_In['Participant Private ID'].unique():\n",
        "  datpi = Adv_C_In.loc[Adv_C_In['Participant Private ID'] == p] #get index for all trials with participant p\n",
        "  datpi_P1 = datpi.loc[datpi['Spreadsheet: Adv'] == 2]\n",
        "  RewBias = sum(datpi_P1['Response'])/totRew\n",
        "  RewBias_C_In.append(RewBias)\n",
        "\n",
        "RewBias_C_Out = []\n",
        "for p in Adv_C_Out['Participant Private ID'].unique():\n",
        "  datpi = Adv_C_Out.loc[Adv_C_Out['Participant Private ID'] == p] #get index for all trials with participant p\n",
        "  datpi_P1 = datpi.loc[datpi['Spreadsheet: Adv'] == 2]\n",
        "  RewBias = sum(datpi_P1['Response'])/totRew\n",
        "  RewBias_C_Out.append(RewBias)\n",
        "\n",
        "RewBias_W_In = []\n",
        "for p in Adv_W_In['Participant Private ID'].unique():\n",
        "  datpi = Adv_W_In.loc[Adv_W_In['Participant Private ID'] == p] #get index for all trials with participant p\n",
        "  datpi_P1 = datpi.loc[datpi['Spreadsheet: Adv'] == 2]\n",
        "  RewBias = sum(datpi_P1['Response'])/totRew\n",
        "  RewBias_W_In.append(RewBias)\n",
        "\n",
        "RewBias_W_Out = []\n",
        "for p in Adv_W_Out['Participant Private ID'].unique():\n",
        "  datpi = Adv_W_Out.loc[Adv_W_Out['Participant Private ID'] == p] #get index for all trials with participant p\n",
        "  datpi_P1 = datpi.loc[datpi['Spreadsheet: Adv'] == 2]\n",
        "  RewBias = sum(datpi_P1['Response'])/totRew\n",
        "  RewBias_W_Out.append(RewBias)"
      ],
      "metadata": {
        "id": "l54V1AdWDp4h"
      },
      "execution_count": 55,
      "outputs": []
    },
    {
      "cell_type": "code",
      "source": [
        "#@title Compute Reward Bias means and SEM\n",
        "RewBias_C_In_mean = np.mean(RewBias_C_In)\n",
        "RewBias_C_In_SEM = sem(RewBias_C_In)\n",
        "\n",
        "RewBias_C_Out_mean = np.mean(RewBias_C_Out)\n",
        "RewBias_C_Out_SEM = sem(RewBias_C_Out)\n",
        "\n",
        "RewBias_W_In_mean = np.mean(RewBias_W_In)\n",
        "RewBias_W_In_SEM = sem(RewBias_W_In)\n",
        "\n",
        "RewBias_W_Out_mean = np.mean(RewBias_W_Out)\n",
        "RewBias_W_Out_SEM = sem(RewBias_W_Out)"
      ],
      "metadata": {
        "id": "oa2UCMjkNgIv"
      },
      "execution_count": 58,
      "outputs": []
    },
    {
      "cell_type": "code",
      "source": [
        "#@title Vizualization: Bar Plot of means and SEM\n",
        "\n",
        "data = {'InPlayer':RewBias_C_In_mean, 'OutPlayer':RewBias_C_Out_mean}\n",
        "groups = list(data.keys())\n",
        "meanBias = list(data.values())\n",
        "SEM = [RewBias_C_In_SEM, RewBias_C_Out_SEM]\n",
        "\n",
        "fig = plt.figure(figsize = (4, 4))\n",
        "\n",
        "# creating the bar plot\n",
        "plt.bar(groups, meanBias, color ='maroon',\n",
        "        width = 0.4)\n",
        "\n",
        "plt.errorbar(groups, meanBias, yerr=SEM, color='black')\n",
        "plt.ylim(0,1)\n",
        "plt.xlabel(\"PlayerAffiliation\")\n",
        "plt.ylabel(\"Mean Reward Bias\")\n",
        "plt.title(\"RewardBias for Chinese Participants\")\n",
        "plt.show()"
      ],
      "metadata": {
        "colab": {
          "base_uri": "https://localhost:8080/",
          "height": 410
        },
        "id": "Go7tgjZjIVWp",
        "outputId": "5102e2b6-862d-4df0-e6e9-4c975c692763"
      },
      "execution_count": 77,
      "outputs": [
        {
          "output_type": "display_data",
          "data": {
            "text/plain": [
              "<Figure size 400x400 with 1 Axes>"
            ],
            "image/png": "[encoded data removed]"
          },
          "metadata": {}
        }
      ]
    }
  ]
}
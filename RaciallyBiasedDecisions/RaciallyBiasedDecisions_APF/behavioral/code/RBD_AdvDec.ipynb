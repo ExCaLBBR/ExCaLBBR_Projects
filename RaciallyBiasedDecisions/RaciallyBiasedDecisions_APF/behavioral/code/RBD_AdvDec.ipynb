{
  "nbformat": 4,
  "nbformat_minor": 0,
  "metadata": {
    "colab": {
      "provenance": [],
      "include_colab_link": true
    },
    "kernelspec": {
      "name": "python3",
      "display_name": "Python 3"
    },
    "language_info": {
      "name": "python"
    }
  },
  "cells": [
    {
      "cell_type": "markdown",
      "metadata": {
        "id": "view-in-github",
        "colab_type": "text"
      },
      "source": [
        "<a href=\"https://colab.research.google.com/github/ExCaLBBR/ExCaLBBR_Projects/blob/main/RaciallyBiasedDecisions/RaciallyBiasedDecisions_APF/behavioral/code/RBD_AdvDec.ipynb\" target=\"_parent\"><img src=\"https://colab.research.google.com/assets/colab-badge.svg\" alt=\"Open In Colab\"/></a>"
      ]
    },
    {
      "cell_type": "code",
      "execution_count": 1,
      "metadata": {
        "id": "AI0WsjFG6yP-"
      },
      "outputs": [],
      "source": [
        "# Importing Libraries\n",
        "import pandas as pd #for dealing with csv import\n",
        "import os # for joining paths and filenames sensibly\n",
        "import numpy as np #for the population std\n",
        "import glob # for finding csv data files\n",
        "import platform # paths use different dividers on linux vs windows, so we need to test for this\n",
        "import string"
      ]
    },
    {
      "cell_type": "code",
      "source": [
        "#Importing Adventure Task Data Frames\n",
        "df_InIn_BM_og = pd.read_csv(\"https://raw.githubusercontent.com/ExCaLBBR/ExCaLBBR_Projects/main/RaciallyBiasedDecisions/RaciallyBiasedDecisions-Intersectionality_SURG/data/Adv_InIn_BM.csv\", header=0)\n",
        "df_InIn_WM_og = pd.read_csv(\"https://raw.githubusercontent.com/ExCaLBBR/ExCaLBBR_Projects/main/RaciallyBiasedDecisions/RaciallyBiasedDecisions-Intersectionality_SURG/data/Adv_InIn_WM.csv\", header=0)\n",
        "df_InOutBoth_BM_og = pd.read_csv(\"https://raw.githubusercontent.com/ExCaLBBR/ExCaLBBR_Projects/main/RaciallyBiasedDecisions/RaciallyBiasedDecisions-Intersectionality_SURG/data/Adv_InOutBoth_BM.csv\", header=0)\n",
        "df_InOutBoth_WM_og = pd.read_csv(\"https://raw.githubusercontent.com/ExCaLBBR/ExCaLBBR_Projects/main/RaciallyBiasedDecisions/RaciallyBiasedDecisions-Intersectionality_SURG/data/Adv_InOutBoth_WM.csv\", header=0)\n",
        "df_InOutGender_BM_og = pd.read_csv(\"https://raw.githubusercontent.com/ExCaLBBR/ExCaLBBR_Projects/main/RaciallyBiasedDecisions/RaciallyBiasedDecisions-Intersectionality_SURG/data/Adv_InOutGender_BM.csv\", header=0)\n",
        "df_InOutGender_WM_og = pd.read_csv(\"https://raw.githubusercontent.com/ExCaLBBR/ExCaLBBR_Projects/main/RaciallyBiasedDecisions/RaciallyBiasedDecisions-Intersectionality_SURG/data/Adv_InOutGender_WM.csv\", header=0)\n",
        "df_InOutRace_BM_og = pd.read_csv(\"https://raw.githubusercontent.com/ExCaLBBR/ExCaLBBR_Projects/main/RaciallyBiasedDecisions/RaciallyBiasedDecisions-Intersectionality_SURG/data/Adv_InOutRace_BM.csv\", header=0)\n",
        "df_InOutRace_WM_og = pd.read_csv(\"https://raw.githubusercontent.com/ExCaLBBR/ExCaLBBR_Projects/main/RaciallyBiasedDecisions/RaciallyBiasedDecisions-Intersectionality_SURG/data/Adv_InOutRace_WM.csv\",header=0)"
      ],
      "metadata": {
        "id": "jUA56Qs6Jia4"
      },
      "execution_count": 2,
      "outputs": []
    },
    {
      "cell_type": "code",
      "source": [
        "# Renaming the columns by name and category\n",
        "df_InIn_BM = df_InIn_BM_og.rename(columns={\"Unnamed:0\" : \"Participant ID\", \"Response\" : \"Deshawn_STR_1\", \"Response.1\": \"Jamal_STR_1\", \"Response.2\": \"Jamal_INT_1\", \"Response.3\": \"Deshawn_STR_2\", \"Response.4\": \"Deshawn_INT_1\", \"Response.5\":\"Jamal_STR_2\", \"Response.6\": \"Deshawn_INT_2\", \"Response.7\": \"Jamal_STR_3\", \"Response.8\":\"Jamal_INT_2\", \"Response.9\":\"Deshawn_INT_3\", \"Response.10\":\"Deshawn_STR_3\", \"Response.11\":\"Jamal_INT_3\"})\n",
        "df_InIn_WM= df_InIn_WM_og.rename(columns={\"Unnamed:0\" : \"Participant ID\", \"Response\" : \"Jack_STR_1\", \"Response.1\": \"Spencer_STR_1\", \"Response.2\": \"Spencer_INT_1\", \"Response.3\": \"Jack_STR_2\", \"Response.4\": \"Jack_INT_1\", \"Response.5\":\"Spencer_STR_2\", \"Response.6\": \"Jack_INT_2\", \"Response.7\": \"Spencer_STR_3\", \"Response.8\":\"Spencer_INT_2\", \"Response.9\":\"Jack_INT_3\", \"Response.10\":\"Jack_STR_3\", \"Response.11\":\"Spencer_INT_3\"})\n",
        "df_InOutBoth_BM =df_InOutBoth_BM_og.rename(columns={\"Unnamed:0\" : \"Participant ID\", \"Response\" : \"Deshawn_STR_1\", \"Response.1\": \"Becky_STR_1\", \"Response.2\": \"Becky_INT_1\", \"Response.3\": \"Deshawn_STR_2\", \"Response.4\": \"Deshawn_INT_1\", \"Response.5\":\"Becky_STR_2\", \"Response.6\": \"Deshawn_INT_2\", \"Response.7\": \"Becky_STR_3\", \"Response.8\":\"Becky_INT_2\", \"Response.9\":\"Deshawn_INT_3\", \"Response.10\":\"Deshawn_STR_3\", \"Response.11\":\"Becky_INT_3\"})\n",
        "df_InOutBoth_WM = df_InOutBoth_WM_og.rename(columns={\"Unnamed:0\" : \"Participant ID\", \"Response\" : \"Jack_STR_1\", \"Response.1\": \"Aisha_STR_1\", \"Response.2\": \"Aisha_INT_1\", \"Response.3\": \"Jack_STR_2\", \"Response.4\": \"Jack_INT_1\", \"Response.5\":\"Aisha_STR_2\", \"Response.6\": \"Jack_INT_2\", \"Response.7\": \"Aisha_STR_3\", \"Response.8\":\"Aisha_INT_2\", \"Response.9\":\"Jack_INT_3\", \"Response.10\":\"Jack_STR_3\", \"Response.11\":\"Aishav_INT_3\"})\n",
        "df_InOutGender_BM= df_InOutGender_BM_og.rename(columns={\"Unnamed:0\" : \"Participant ID\", \"Response\" : \"Deshawn_STR_1\", \"Response.1\": \"Aisha_STR_1\", \"Response.2\": \"Aisha_INT_1\", \"Response.3\": \"Deshawn_STR_2\", \"Response.4\": \"Deshawn_INT_1\", \"Response.5\":\"Aisha_STR_2\", \"Response.6\": \"Deshawn_INT_2\", \"Response.7\": \"Aisha_STR_3\", \"Response.8\":\"Aisha_INT_2\", \"Response.9\":\"Deshawn_INT_3\", \"Response.10\":\"Deshawn_STR_3\", \"Response.11\":\"Aishav_INT_3\"})\n",
        "df_InOutGender_WM= df_InOutGender_WM_og.rename(columns={\"Unnamed:0\" : \"Participant ID\", \"Response\" : \"Jack_STR_1\", \"Response.1\": \"Becky_STR_1\", \"Response.2\": \"Becky_INT_1\", \"Response.3\": \"Jack_STR_2\", \"Response.4\": \"Jack_INT_1\", \"Response.5\":\"Becky_STR_2\", \"Response.6\": \"Jack_INT_2\", \"Response.7\": \"Becky_STR_3\", \"Response.8\":\"Becky_INT_2\", \"Response.9\":\"Jack_INT_3\", \"Response.10\":\"Jack_STR_3\", \"Response.11\":\"Becky_INT_3\"})\n",
        "df_InOutRace_BM= df_InOutRace_BM_og .rename(columns={\"Unnamed:0\" : \"Participant ID\", \"Response\" : \"Deshawn_STR_1\", \"Response.1\": \"Spencer_STR_1\", \"Response.2\": \"Spencer_INT_1\", \"Response.3\": \"Deshawn_STR_2\", \"Response.4\": \"Deshawn_INT_1\", \"Response.5\":\"Spencer_STR_2\", \"Response.6\": \"Deshawn_INT_2\", \"Response.7\": \"Spencer_STR_3\", \"Response.8\":\"Spencer_INT_2\", \"Response.9\":\"Deshawn_INT_3\", \"Response.10\":\"Deshawn_STR_3\", \"Response.11\":\"Spencer_INT_3\"})\n",
        "df_InOutRace_WM = df_InOutRace_WM_og.rename(columns={\"Unnamed:0\" : \"Participant ID\", \"Response\" : \"Jack_STR_1\", \"Response.1\": \"Jamal_STR_1\", \"Response.2\": \"Jamal_INT_1\", \"Response.3\": \"Jack_STR_2\", \"Response.4\": \"Jack_INT_1\", \"Response.5\":\"Jamal_STR_2\", \"Response.6\": \"Jack_INT_2\", \"Response.7\": \"Jamal_STR_3\", \"Response.8\":\"Jamal_INT_2\", \"Response.9\":\"Jack_INT_3\", \"Response.10\":\"Jack_STR_3\", \"Response.11\":\"Jamal_INT_3\"})\n",
        "\n",
        "df_InIn_BM = df_InIn_BM.drop(labels = [0,1,2], axis = 0)\n",
        "df_InIn_WM = df_InIn_WM.drop(labels = [0,1,2], axis = 0)\n",
        "df_InOutBoth_BM = df_InOutBoth_BM.drop(labels = [0,1,2], axis = 0)\n",
        "df_InOutBoth_WM = df_InOutBoth_WM.drop(labels = [0,1,2], axis = 0)\n",
        "df_InOutGender_BM = df_InOutGender_BM.drop(labels = [0,1,2], axis = 0)\n",
        "df_InOutGender_WM = df_InOutGender_WM.drop(labels = [0,1,2], axis = 0)\n",
        "df_InOutRace_BM = df_InOutRace_BM.drop(labels = [0,1,2], axis = 0)\n",
        "df_InOutRace_WM = df_InOutRace_WM.drop(labels = [0,1,2], axis = 0)"
      ],
      "metadata": {
        "id": "t3J_iLWOFzNx"
      },
      "execution_count": 3,
      "outputs": []
    },
    {
      "cell_type": "code",
      "source": [
        "#Specify Parameters\n",
        "totRew = 7\n",
        "totPun = 5\n",
        "totDec = totRew + totPun"
      ],
      "metadata": {
        "id": "aCs20qgj1fSG"
      },
      "execution_count": 28,
      "outputs": []
    },
    {
      "cell_type": "code",
      "source": [
        "# Recode Rewards as 1 and Punish as 0\n",
        "df_InIn_BM = df_InIn_BM.replace('Reward', 1); df_InIn_BM = df_InIn_BM.replace('Punish', 0)\n"
      ],
      "metadata": {
        "id": "Gbz9DINaysUy"
      },
      "execution_count": 12,
      "outputs": []
    },
    {
      "cell_type": "code",
      "source": [
        "#Filter relevant columns\n",
        "df_InIn_BM_P1 = df_InIn_BM.filter(regex='Deshawn')\n",
        "df_InIn_BM_P2 = df_InIn_BM.filter(regex='Jamal')"
      ],
      "metadata": {
        "id": "zh8TsfMRzT5c"
      },
      "execution_count": 29,
      "outputs": []
    },
    {
      "cell_type": "code",
      "source": [
        "#Compute Reward/Punish proportions\n",
        "InIn_BM_P1_RewRat = df_InIn_BM_P1.sum(axis=1)/totDec\n",
        "InIn_BM_P2_RewRat = df_InIn_BM_P2.sum(axis=1)/totDec\n",
        "\n",
        "#Compute mean\n",
        "InIn_BM_P1_AvgRewRat = np.mean(InIn_BM_P1_RewRat)\n",
        "InIn_BM_P2_AvgRewRat = np.mean(InIn_BM_P2_RewRat)"
      ],
      "metadata": {
        "id": "1Wt7VU7k1Myb"
      },
      "execution_count": 40,
      "outputs": []
    },
    {
      "cell_type": "code",
      "source": [
        "print(InIn_BM_P1_AvgRewRat)\n",
        "print(InIn_BM_P2_AvgRewRat)"
      ],
      "metadata": {
        "id": "Yv_UVFl83egM",
        "outputId": "1e1f2ff6-ebce-4a89-ac6d-11405e47760f",
        "colab": {
          "base_uri": "https://localhost:8080/"
        }
      },
      "execution_count": 41,
      "outputs": [
        {
          "output_type": "stream",
          "name": "stdout",
          "text": [
            "0.29\n",
            "0.29333333333333333\n"
          ]
        }
      ]
    }
  ]
}
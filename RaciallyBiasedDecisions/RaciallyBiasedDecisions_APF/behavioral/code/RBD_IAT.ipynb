{
  "nbformat": 4,
  "nbformat_minor": 0,
  "metadata": {
    "colab": {
      "provenance": [],
      "include_colab_link": true
    },
    "kernelspec": {
      "name": "python3",
      "display_name": "Python 3"
    },
    "language_info": {
      "name": "python"
    }
  },
  "cells": [
    {
      "cell_type": "markdown",
      "metadata": {
        "id": "view-in-github",
        "colab_type": "text"
      },
      "source": [
        "<a href=\"https://colab.research.google.com/github/ExCaLBBR/ExCaLBBR_Projects/blob/main/RaciallyBiasedDecisions/RaciallyBiasedDecisions_APF/behavioral/code/RBD_IAT.ipynb\" target=\"_parent\"><img src=\"https://colab.research.google.com/assets/colab-badge.svg\" alt=\"Open In Colab\"/></a>"
      ]
    },
    {
      "cell_type": "code",
      "execution_count": 260,
      "metadata": {
        "id": "bfrwIu2GvzIP",
        "cellView": "form"
      },
      "outputs": [],
      "source": [
        "#@title Import libraries\n",
        "import pandas as pd #for dealing with csv import\n",
        "import os # for joining paths and filenames sensibly\n",
        "import numpy as np #for the population std\n",
        "import glob # for finding csv data files\n",
        "import platform # paths use different dividers on linux vs windows, so we need to test for this\n",
        "import string\n",
        "from scipy.stats import sem\n",
        "import matplotlib.pyplot as plt"
      ]
    },
    {
      "cell_type": "code",
      "source": [
        "#@title Define Utility functions\n",
        "#Compute adjusted mean\n",
        "def adjustedmean(RTs,corrs,penalty):\n",
        "    n=len(corrs) #trials\n",
        "    n_errors=int(n-sum(corrs)) #errors\n",
        "    # print(\"Number of correctness: \", int(sum(corrs)))\n",
        "    # print(\"Number of errors: \", n_errors)\n",
        "    cor_RTs=np.array(corrs)*RTs #sum of correct RTs\n",
        "    cor_mean=sum(cor_RTs)/sum(corrs)\n",
        "\n",
        "    #mean with errors replaced with penalty value\n",
        "    return cor_mean+(n_errors*penalty)/n\n",
        "\n",
        "\n",
        "#Remove timed out trials\n",
        "def exclude_slows(RTs,corrs,slowRT_limit):\n",
        "    new_rt=[] #holding variables\n",
        "    new_cr=[]\n",
        "    for i in range(len(RTs)): #iterate over every item\n",
        "        if RTs[i] < slowRT_limit: #if it isn't too fast, include RT and corr values\n",
        "            new_rt.append(RTs[i])\n",
        "            new_cr.append(corrs[i])\n",
        "\n",
        "    return (new_rt, new_cr)\n",
        "\n",
        "#Compute IAT bias rating\n",
        "def iat_analyze(congr_rts_raw, congr_corr_raw, incon_rts_raw, incon_corr_raw, df_name):\n",
        "    #1 discard subject if too many fast responses\n",
        "    if sum(np.array(np.concatenate((np.array(congr_rts_raw), np.array(incon_rts_raw))))<fastRT_limit)>len(np.concatenate((np.array(congr_rts_raw), np.array(incon_rts_raw))))*fast_prop_limit:\n",
        "        print (\"excluding subject because too many fast responses\")\n",
        "    else:\n",
        "        #2 Eliminate scores over 10,000 ms\n",
        "\n",
        "        congr_rts,congr_corr=exclude_slows(congr_rts_raw,congr_corr_raw,slowRT_limit)\n",
        "        incon_rts,incon_corr=exclude_slows(incon_rts_raw,incon_corr_raw,slowRT_limit)\n",
        "\n",
        "        #3 Calculate pooled std\n",
        "        #pooled_std=pooled.std(0) #n-1 std sample std\n",
        "        #(Use N not N-1 because this is the whole sample).\n",
        "        #numpy.std is population std\n",
        "        pooled=pd.concat([congr_rts_raw,incon_rts_raw]) #all RTs from both blocks, correct and incorrect\n",
        "        pooled_std=np.std(pooled)\n",
        "\n",
        "        #4 Calculated adjusted means, including the penalty\n",
        "        congr_adjmean=adjustedmean(congr_rts,congr_corr,penalty)\n",
        "        incon_adjmean=adjustedmean(incon_rts,incon_corr,penalty)\n",
        "\n",
        "        #5 Calculate the IAT, so that pro-stereotype RTs are a -ve score\n",
        "        IAT=(congr_adjmean-incon_adjmean)/pooled_std\n",
        "\n",
        "        simpleIAT=sum(congr_rts)/len(congr_rts)-sum(incon_rts)/len(incon_rts)\n",
        "\n",
        "        return(IAT)\n",
        "        print(\"IAT for \" + df_name + \" is : {:+.3f}\".format(IAT))\n",
        "        print(\"Mean difference (uncorrected) \" + df_name + \" is {:+.3f}\".format(simpleIAT)+\" seconds\")"
      ],
      "metadata": {
        "id": "E0gHEfHpv8s8",
        "cellView": "form"
      },
      "execution_count": 261,
      "outputs": []
    },
    {
      "cell_type": "code",
      "source": [
        "#@title Load data\n",
        "IAT_C= pd.read_csv ('https://raw.githubusercontent.com/ExCaLBBR/ExCaLBBR_Projects/main/RaciallyBiasedDecisions/RaciallyBiasedDecisions_APF/behavioral/data/IAT_C.csv', header=0)\n",
        "IAT_W = pd.read_csv ('https://raw.githubusercontent.com/ExCaLBBR/ExCaLBBR_Projects/main/RaciallyBiasedDecisions/RaciallyBiasedDecisions_APF/behavioral/data/IAT_W.csv', header=0)"
      ],
      "metadata": {
        "id": "uoFax7EbwSX0",
        "cellView": "form"
      },
      "execution_count": 262,
      "outputs": []
    },
    {
      "cell_type": "code",
      "source": [
        "#@title Specify thresholds\n",
        "penalty=0.600 #penalty - in seconds - for incorrect responses\n",
        "slowRT_limit=10000 #threshold at which slow RTs are discarded\n",
        "fastRT_limit=300 #threshold which defines responses which are \"too fast\" degault = 300\n",
        "fast_prop_limit=0.1 # threshold proportion of \"too fast\" responses which defines exclusion of ppt\n"
      ],
      "metadata": {
        "id": "0IFRSKkDwaj7"
      },
      "execution_count": 263,
      "outputs": []
    },
    {
      "cell_type": "code",
      "source": [
        "#@title Data subsetting and recoding\n",
        "\n",
        "#Correct ID formatting\n",
        "IAT_C['Participant Private ID'] = [int(sub) for sub in IAT_C['Participant Private ID']]\n",
        "IAT_C['Participant Private ID'] = IAT_C['Participant Private ID'].astype(str)\n",
        "IAT_W['Participant Private ID'] = [int(sub) for sub in IAT_W['Participant Private ID']]\n",
        "IAT_W['Participant Private ID'] = IAT_W['Participant Private ID'].astype(str)\n"
      ],
      "metadata": {
        "id": "K6qDDwxJSwOL",
        "cellView": "form"
      },
      "execution_count": 264,
      "outputs": []
    },
    {
      "cell_type": "code",
      "source": [
        "#@title Filter participants who are too fast\n",
        "#Find and remove participants who are too fast\n",
        "\n",
        "# C Int/Str/Dis\n",
        "C_ID = np.unique(IAT_C['Participant Private ID'])\n",
        "remIndx = []\n",
        "for p in C_ID:\n",
        "  datpi = IAT_C.loc[IAT_C['Participant Private ID'] == p] #get index for all trials with participant p\n",
        "  datpi_congInt_rt = datpi['Absolute Reaction Time'].loc[datpi['Spreadsheet: metadata2']== 'cong_Int']\n",
        "  datpi_incongInt_rt = datpi['Absolute Reaction Time'].loc[datpi['Spreadsheet: metadata2']== 'incon_Int']\n",
        "  if sum(np.array(np.concatenate((np.array(datpi_congInt_rt), np.array(datpi_incongInt_rt))))<fastRT_limit)>len(np.concatenate((np.array(datpi_congInt_rt), np.array(datpi_incongInt_rt))))*fast_prop_limit:\n",
        "    print (\"Excluding subject\", p, \"for C Int because too many fast responses\")\n",
        "    remIndx.append(p)\n",
        "\n",
        "for p in C_ID:\n",
        "  datpi = IAT_C.loc[IAT_C['Participant Private ID'] == p] #get index for all trials with participant p\n",
        "  datpi_congStr_rt = datpi['Absolute Reaction Time'].loc[datpi['Spreadsheet: metadata2']== 'cong_Str']\n",
        "  datpi_incongStr_rt = datpi['Absolute Reaction Time'].loc[datpi['Spreadsheet: metadata2']== 'incon_Str']\n",
        "  if sum(np.array(np.concatenate((np.array(datpi_congStr_rt), np.array(datpi_incongStr_rt))))<fastRT_limit)>len(np.concatenate((np.array(datpi_congStr_rt), np.array(datpi_incongStr_rt))))*fast_prop_limit:\n",
        "    print (\"Excluding subject\", p, \"for C STR because too many fast responses\")\n",
        "    remIndx.append(p)\n",
        "\n",
        "for p in C_ID:\n",
        "  datpi = IAT_C.loc[IAT_C['Participant Private ID'] == p] #get index for all trials with participant p\n",
        "  datpi_congDis_rt = datpi['Absolute Reaction Time'].loc[datpi['Spreadsheet: metadata2']== 'cong_Dir']\n",
        "  datpi_incongDis_rt = datpi['Absolute Reaction Time'].loc[datpi['Spreadsheet: metadata2']== 'incon_Dir']\n",
        "  if sum(np.array(np.concatenate((np.array(datpi_congDis_rt), np.array(datpi_incongDis_rt))))<fastRT_limit)>len(np.concatenate((np.array(datpi_congDis_rt), np.array(datpi_incongDis_rt))))*fast_prop_limit:\n",
        "    print (\"Excluding subject\", p, \"for C Dir because too many fast responses\")\n",
        "    remIndx.append(p)\n",
        "\n",
        "for p in np.unique(remIndx):\n",
        "  IAT_C = IAT_C[IAT_C['Participant Private ID'] != p]\n",
        "\n",
        "# W Int/Str/Dis\n",
        "W_ID = np.unique(IAT_W['Participant Private ID'])\n",
        "remIndx = []\n",
        "for p in W_ID:\n",
        "  datpi = IAT_W.loc[IAT_W['Participant Private ID'] == p] #get index for all trials with participant p\n",
        "  datpi_congInt_rt = datpi['Absolute Reaction Time'].loc[datpi['Spreadsheet: metadata2']== 'cong_Int']\n",
        "  datpi_incongInt_rt = datpi['Absolute Reaction Time'].loc[datpi['Spreadsheet: metadata2']== 'incon_Int']\n",
        "  if sum(np.array(np.concatenate((np.array(datpi_congInt_rt), np.array(datpi_incongInt_rt))))<fastRT_limit)>len(np.concatenate((np.array(datpi_congInt_rt), np.array(datpi_incongInt_rt))))*fast_prop_limit:\n",
        "    print (\"Excluding subject\", p, \"for W Int because too many fast responses\")\n",
        "    remIndx.append(p)\n",
        "\n",
        "for p in W_ID:\n",
        "  datpi = IAT_W.loc[IAT_W['Participant Private ID'] == p] #get index for all trials with participant p\n",
        "  datpi_congStr_rt = datpi['Absolute Reaction Time'].loc[datpi['Spreadsheet: metadata2']== 'cong_Str']\n",
        "  datpi_incongStr_rt = datpi['Absolute Reaction Time'].loc[datpi['Spreadsheet: metadata2']== 'incon_Str']\n",
        "  if sum(np.array(np.concatenate((np.array(datpi_congStr_rt), np.array(datpi_incongStr_rt))))<fastRT_limit)>len(np.concatenate((np.array(datpi_congStr_rt), np.array(datpi_incongStr_rt))))*fast_prop_limit:\n",
        "    print (\"Excluding subject\", p, \"for W STR because too many fast responses\")\n",
        "    remIndx.append(p)\n",
        "\n",
        "for p in W_ID:\n",
        "  datpi = IAT_W.loc[IAT_W['Participant Private ID'] == p] #get index for all trials with participant p\n",
        "  datpi_congDis_rt = datpi['Absolute Reaction Time'].loc[datpi['Spreadsheet: metadata2']== 'cong_Dir']\n",
        "  datpi_incongDis_rt = datpi['Absolute Reaction Time'].loc[datpi['Spreadsheet: metadata2']== 'incon_Dir']\n",
        "  if sum(np.array(np.concatenate((np.array(datpi_congDis_rt), np.array(datpi_incongDis_rt))))<fastRT_limit)>len(np.concatenate((np.array(datpi_congDis_rt), np.array(datpi_incongDis_rt))))*fast_prop_limit:\n",
        "    print (\"Excluding subject\", p, \"for W Dir because too many fast responses\")\n",
        "    remIndx.append(p)\n",
        "\n",
        "for p in np.unique(remIndx):\n",
        "  IAT_W = IAT_W[IAT_W['Participant Private ID'] != p]"
      ],
      "metadata": {
        "id": "E1c0ZiTO0joj",
        "outputId": "63ffe75e-cee5-4d39-e446-00b2d06f6267",
        "colab": {
          "base_uri": "https://localhost:8080/"
        },
        "cellView": "form"
      },
      "execution_count": 265,
      "outputs": [
        {
          "output_type": "stream",
          "name": "stdout",
          "text": [
            "Excluding subject 9394769 for C Int because too many fast responses\n",
            "Excluding subject 9853067 for C Int because too many fast responses\n",
            "Excluding subject 9394769 for C Dir because too many fast responses\n",
            "Excluding subject 9362255 for W Int because too many fast responses\n",
            "Excluding subject 9362325 for W Int because too many fast responses\n",
            "Excluding subject 9362330 for W Int because too many fast responses\n",
            "Excluding subject 9362347 for W Int because too many fast responses\n",
            "Excluding subject 9362360 for W Int because too many fast responses\n",
            "Excluding subject 9852775 for W Int because too many fast responses\n",
            "Excluding subject 9852778 for W Int because too many fast responses\n",
            "Excluding subject 9852779 for W Int because too many fast responses\n",
            "Excluding subject 9852832 for W Int because too many fast responses\n",
            "Excluding subject 9852840 for W Int because too many fast responses\n",
            "Excluding subject 9852845 for W Int because too many fast responses\n",
            "Excluding subject 9362255 for W STR because too many fast responses\n",
            "Excluding subject 9362325 for W STR because too many fast responses\n",
            "Excluding subject 9362330 for W STR because too many fast responses\n",
            "Excluding subject 9362347 for W STR because too many fast responses\n",
            "Excluding subject 9362354 for W STR because too many fast responses\n",
            "Excluding subject 9362360 for W STR because too many fast responses\n",
            "Excluding subject 9852775 for W STR because too many fast responses\n",
            "Excluding subject 9852778 for W STR because too many fast responses\n",
            "Excluding subject 9852779 for W STR because too many fast responses\n",
            "Excluding subject 9852788 for W STR because too many fast responses\n",
            "Excluding subject 9852832 for W STR because too many fast responses\n",
            "Excluding subject 9852840 for W STR because too many fast responses\n",
            "Excluding subject 9852845 for W STR because too many fast responses\n",
            "Excluding subject 9362255 for W Dir because too many fast responses\n",
            "Excluding subject 9362325 for W Dir because too many fast responses\n",
            "Excluding subject 9362330 for W Dir because too many fast responses\n",
            "Excluding subject 9362347 for W Dir because too many fast responses\n",
            "Excluding subject 9362354 for W Dir because too many fast responses\n",
            "Excluding subject 9362360 for W Dir because too many fast responses\n",
            "Excluding subject 9852778 for W Dir because too many fast responses\n",
            "Excluding subject 9852779 for W Dir because too many fast responses\n",
            "Excluding subject 9852788 for W Dir because too many fast responses\n",
            "Excluding subject 9852832 for W Dir because too many fast responses\n",
            "Excluding subject 9852840 for W Dir because too many fast responses\n",
            "Excluding subject 9852845 for W Dir because too many fast responses\n"
          ]
        }
      ]
    },
    {
      "cell_type": "code",
      "source": [
        "#@title Compute participant-wise IAT bias\n",
        "\n",
        "# Chinese Participant Intel\n",
        "C_ID = np.unique(IAT_C['Participant Private ID'])\n",
        "C_IAT_INT = []\n",
        "C_IAT_INT_simple = []\n",
        "C_IAT_INT_acc = []\n",
        "for p in C_ID:\n",
        "  datpi = IAT_C.loc[IAT_C['Participant Private ID'] == p] #get index for all trials with participant p\n",
        "  datpi_congInt_rt = datpi['Absolute Reaction Time'].loc[datpi['Spreadsheet: metadata2']== 'cong_Int']\n",
        "  datpi_incongInt_rt = datpi['Absolute Reaction Time'].loc[datpi['Spreadsheet: metadata2']== 'incon_Int']\n",
        "  datpi_congInt_acc = datpi['Correct'].loc[datpi['Spreadsheet: metadata2']== 'cong_Int']\n",
        "  datpi_incongInt_acc = datpi['Correct'].loc[datpi['Spreadsheet: metadata2']== 'incon_Int']\n",
        "\n",
        "  #reset indeces for function\n",
        "  datpi_congInt_rt = datpi_congInt_rt.reset_index(drop=True); datpi_incongInt_rt = datpi_incongInt_rt.reset_index(drop=True); datpi_congInt_acc = datpi_congInt_acc.reset_index(drop=True); datpi_incongInt_acc = datpi_incongInt_acc.reset_index(drop=True)\n",
        "  iatSimple = np.mean(datpi_congInt_rt) - np.mean(datpi_incongInt_rt)\n",
        "  iatBias = iat_analyze(datpi_congInt_rt, datpi_congInt_acc, datpi_incongInt_rt, datpi_incongInt_acc, \"C Int\")\n",
        "\n",
        "  acc=(np.sum(pd.concat([datpi_congInt_acc,datpi_incongInt_acc]))/len(pd.concat([datpi_congInt_acc ,datpi_incongInt_acc])))\n",
        "  C_IAT_INT_acc.append(acc)\n",
        "  C_IAT_INT.append(iatBias)\n",
        "  C_IAT_INT_simple.append(iatSimple)\n",
        "  del datpi, datpi_congInt_rt, datpi_incongInt_rt, datpi_congInt_acc, datpi_incongInt_acc, iatSimple, iatBias, acc\n",
        "\n",
        "# Chinese Participant Strength\n",
        "C_IAT_STR = []\n",
        "C_IAT_STR_simple = []\n",
        "C_IAT_STR_acc = []\n",
        "for p in C_ID:\n",
        "  datpi = IAT_C.loc[IAT_C['Participant Private ID'] == p] #get index for all trials with participant p\n",
        "  datpi_congStr_rt = datpi['Absolute Reaction Time'].loc[datpi['Spreadsheet: metadata2']== 'cong_Str']\n",
        "  datpi_incongStr_rt = datpi['Absolute Reaction Time'].loc[datpi['Spreadsheet: metadata2']== 'incon_Str']\n",
        "  datpi_congStr_acc = datpi['Correct'].loc[datpi['Spreadsheet: metadata2']== 'cong_Str']\n",
        "  datpi_incongStr_acc = datpi['Correct'].loc[datpi['Spreadsheet: metadata2']== 'incon_Str']\n",
        "\n",
        "  #reset indeces for function\n",
        "  datpi_congStr_rt = datpi_congStr_rt.reset_index(drop=True); datpi_incongStr_rt = datpi_incongStr_rt.reset_index(drop=True); datpi_congStr_acc = datpi_congStr_acc.reset_index(drop=True); datpi_incongStr_acc = datpi_incongStr_acc.reset_index(drop=True)\n",
        "\n",
        "  iatSimple = np.mean(datpi_congStr_rt) - np.mean(datpi_incongStr_rt)\n",
        "  iatBias = iat_analyze(datpi_congStr_rt, datpi_congStr_acc, datpi_incongStr_rt, datpi_incongStr_acc, \"C Str\")\n",
        "\n",
        "  acc=(np.sum(pd.concat([datpi_congStr_acc,datpi_incongStr_acc]))/len(pd.concat([datpi_congStr_acc ,datpi_incongStr_acc])))\n",
        "  C_IAT_STR_acc.append(acc)\n",
        "  C_IAT_STR.append(iatBias)\n",
        "  C_IAT_STR_simple.append(iatSimple)\n",
        "\n",
        "# Chinese Participant Disgust\n",
        "C_IAT_Disgust = []\n",
        "C_IAT_Disgust_simple = []\n",
        "for p in C_ID:\n",
        "  datpi = IAT_C.loc[IAT_C['Participant Private ID'] == p] #get index for all trials with participant p\n",
        "  datpi_congDis_rt = datpi['Absolute Reaction Time'].loc[datpi['Spreadsheet: metadata2']== 'cong_Dir']\n",
        "  datpi_incongDis_rt = datpi['Absolute Reaction Time'].loc[datpi['Spreadsheet: metadata2']== 'incon_Dir']\n",
        "  datpi_congDis_acc = datpi['Correct'].loc[datpi['Spreadsheet: metadata2']== 'cong_Dir']\n",
        "  datpi_incongDis_acc = datpi['Correct'].loc[datpi['Spreadsheet: metadata2']== 'incon_Dir']\n",
        "\n",
        "  #reset indeces for function\n",
        "  datpi_congDis_rt = datpi_congDis_rt.reset_index(drop=True); datpi_incongDis_rt = datpi_incongDis_rt.reset_index(drop=True); datpi_congDis_acc = datpi_congDis_acc.reset_index(drop=True); datpi_incongDis_acc = datpi_incongDis_acc.reset_index(drop=True)\n",
        "\n",
        "  iatSimple = np.mean(datpi_congDis_rt) - np.mean(datpi_incongDis_rt)\n",
        "  iatBias = iat_analyze(datpi_congDis_rt, datpi_congDis_acc, datpi_incongDis_rt, datpi_incongDis_acc, \"C Disgust\")\n",
        "  C_IAT_Disgust.append(iatBias)\n",
        "  C_IAT_Disgust_simple.append(iatSimple)\n",
        "\n",
        "\n",
        "\n",
        "# White Participant Intel\n",
        "W_ID = np.unique(IAT_W['Participant Private ID'])\n",
        "W_IAT_INT = []\n",
        "W_IAT_INT_simple = []\n",
        "for p in W_ID:\n",
        "  datpi = IAT_W.loc[IAT_W['Participant Private ID'] == p] #get index for all trials with participant p\n",
        "  datpi_congInt_rt = datpi['Absolute Reaction Time'].loc[datpi['Spreadsheet: metadata2']== 'cong_Int']\n",
        "  datpi_incongInt_rt = datpi['Absolute Reaction Time'].loc[datpi['Spreadsheet: metadata2']== 'incon_Int']\n",
        "  datpi_congInt_acc = datpi['Correct'].loc[datpi['Spreadsheet: metadata2']== 'cong_Int']\n",
        "  datpi_incongInt_acc = datpi['Correct'].loc[datpi['Spreadsheet: metadata2']== 'incon_Int']\n",
        "\n",
        "  #reset indeces for function\n",
        "  datpi_congInt_rt = datpi_congInt_rt.reset_index(drop=True); datpi_incongInt_rt = datpi_incongInt_rt.reset_index(drop=True); datpi_congInt_acc = datpi_congInt_acc.reset_index(drop=True); datpi_incongInt_acc = datpi_incongInt_acc.reset_index(drop=True)\n",
        "\n",
        "  iatSimple = np.mean(datpi_congInt_rt) - np.mean(datpi_incongInt_rt)\n",
        "  iatBias = iat_analyze(datpi_congInt_rt, datpi_congInt_acc, datpi_incongInt_rt, datpi_incongInt_acc, \"C Int\")\n",
        "  W_IAT_INT.append(iatBias)\n",
        "  W_IAT_INT_simple.append(iatSimple)\n",
        "\n",
        "# White Participant Strength\n",
        "W_IAT_STR = []\n",
        "W_IAT_STR_simple = []\n",
        "for p in W_ID:\n",
        "  datpi = IAT_W.loc[IAT_W['Participant Private ID'] == p] #get index for all trials with participant p\n",
        "  datpi_congStr_rt = datpi['Absolute Reaction Time'].loc[datpi['Spreadsheet: metadata2']== 'cong_Str']\n",
        "  datpi_incongStr_rt = datpi['Absolute Reaction Time'].loc[datpi['Spreadsheet: metadata2']== 'incon_Str']\n",
        "  datpi_congStr_acc = datpi['Correct'].loc[datpi['Spreadsheet: metadata2']== 'cong_Str']\n",
        "  datpi_incongStr_acc = datpi['Correct'].loc[datpi['Spreadsheet: metadata2']== 'incon_Str']\n",
        "\n",
        "  #reset indeces for function\n",
        "  datpi_congStr_rt = datpi_congStr_rt.reset_index(drop=True); datpi_incongStr_rt = datpi_incongStr_rt.reset_index(drop=True); datpi_congStr_acc = datpi_congStr_acc.reset_index(drop=True); datpi_incongStr_acc = datpi_incongStr_acc.reset_index(drop=True)\n",
        "\n",
        "  iatSimple = np.mean(datpi_congStr_rt) - np.mean(datpi_incongStr_rt)\n",
        "  iatBias = iat_analyze(datpi_congStr_rt, datpi_congStr_acc, datpi_incongStr_rt, datpi_incongStr_acc, \"C Str\")\n",
        "  W_IAT_STR.append(iatBias)\n",
        "  W_IAT_STR_simple.append(iatSimple)\n",
        "\n",
        "# White Participant Disgust\n",
        "W_IAT_Disgust = []\n",
        "W_IAT_Disgust_simple = []\n",
        "for p in W_ID:\n",
        "  datpi = IAT_W.loc[IAT_W['Participant Private ID'] == p] #get index for all trials with participant p\n",
        "  datpi_congDis_rt = datpi['Absolute Reaction Time'].loc[datpi['Spreadsheet: metadata2']== 'cong_Dir']\n",
        "  datpi_incongDis_rt = datpi['Absolute Reaction Time'].loc[datpi['Spreadsheet: metadata2']== 'incon_Dir']\n",
        "  datpi_congDis_acc = datpi['Correct'].loc[datpi['Spreadsheet: metadata2']== 'cong_Dir']\n",
        "  datpi_incongDis_acc = datpi['Correct'].loc[datpi['Spreadsheet: metadata2']== 'incon_Dir']\n",
        "\n",
        "  #reset indeces for function\n",
        "  datpi_congDis_rt = datpi_congDis_rt.reset_index(drop=True); datpi_incongDis_rt = datpi_incongDis_rt.reset_index(drop=True); datpi_congDis_acc = datpi_congDis_acc.reset_index(drop=True); datpi_incongDis_acc = datpi_incongDis_acc.reset_index(drop=True)\n",
        "\n",
        "  iatSimple = np.mean(datpi_congDis_rt) - np.mean(datpi_incongDis_rt)\n",
        "  iatBias = iat_analyze(datpi_congDis_rt, datpi_congDis_acc, datpi_incongDis_rt, datpi_incongDis_acc, \"C Disgust\")\n",
        "  W_IAT_Disgust.append(iatBias)\n",
        "  W_IAT_Disgust_simple.append(iatSimple)"
      ],
      "metadata": {
        "id": "cf_OQd7CUtm9",
        "cellView": "form"
      },
      "execution_count": 266,
      "outputs": []
    },
    {
      "cell_type": "code",
      "source": [
        "#@title Participant-wise analysis of IAT bias by Stereotype category\n",
        "\n",
        "#Chinese participant Stereotype endorsement\n",
        "C_IAT_INT_Avg = np.mean(C_IAT_INT)\n",
        "C_IAT_STR_Avg = np.mean(C_IAT_STR)\n",
        "C_IAT_DIS_Avg = np.mean(C_IAT_Disgust)\n",
        "\n",
        "C_IAT_INT_sd = np.std(C_IAT_INT)\n",
        "C_IAT_STR_sd = np.std(C_IAT_STR)\n",
        "C_IAT_DIS_sd = np.std(C_IAT_Disgust)\n",
        "\n",
        "\n",
        "#White participant Stereotype endorsement\n",
        "W_IAT_INT_Avg = np.mean(W_IAT_INT)\n",
        "W_IAT_STR_Avg = np.mean(W_IAT_STR)\n",
        "W_IAT_DIS_Avg = np.mean(W_IAT_Disgust)\n",
        "\n",
        "W_IAT_INT_sd = np.std(W_IAT_INT)\n",
        "W_IAT_STR_sd = np.std(W_IAT_STR)\n",
        "W_IAT_DIS_sd = np.std(W_IAT_Disgust)\n",
        "\n",
        "#Print output\n",
        "print(\"Chinese Participant Intelligence Stereotype IAT bias =\", round(C_IAT_INT_Avg,2), \"(SD = \", round(C_IAT_INT_sd,2), \")\")\n",
        "print(\"Chinese Participant Strength Stereotype IAT bias =\", round(C_IAT_STR_Avg,2), \"(SD = \", round(C_IAT_STR_sd,2), \")\")\n",
        "print(\"Chinese Participant Disgust Stereotype IAT bias =\", round(C_IAT_DIS_Avg,2), \"(SD = \", round(C_IAT_DIS_sd,2), \")\")\n",
        "\n",
        "print(\"White Participant Intelligence Stereotype IAT bias =\", round(W_IAT_INT_Avg,2), \"(SD = \", round(W_IAT_INT_sd,2), \")\")\n",
        "print(\"White Participant Strength Stereotype IAT bias =\", round(W_IAT_STR_Avg,2), \"(SD = \", round(W_IAT_STR_sd,2), \")\")\n",
        "print(\"White Participant Disgust Stereotype IAT bias =\", round(W_IAT_DIS_Avg,2), \"(SD = \", round(W_IAT_DIS_sd,2), \")\")\n",
        "\n",
        "print('For Intelligence: positive values mean the group thinks White is more dumb; negative is the opposite')\n",
        "print('For Strength: positive values mean the group thinks White is stronger; negative is the opposite')\n",
        "print('For Disgust: positive values mean the group thinks White is more dirty; negative is the opposite')"
      ],
      "metadata": {
        "id": "arL82KzF0I8M",
        "outputId": "c6445d35-7eb0-49cd-daeb-b90721984166",
        "colab": {
          "base_uri": "https://localhost:8080/"
        },
        "cellView": "form"
      },
      "execution_count": 268,
      "outputs": [
        {
          "output_type": "stream",
          "name": "stdout",
          "text": [
            "Chinese Participant Intelligence Stereotype IAT bias = 0.07 (SD =  0.41 )\n",
            "Chinese Participant Strength Stereotype IAT bias = 0.05 (SD =  0.39 )\n",
            "Chinese Participant Disgust Stereotype IAT bias = 0.02 (SD =  0.44 )\n",
            "White Participant Intelligence Stereotype IAT bias = -0.04 (SD =  0.47 )\n",
            "White Participant Strength Stereotype IAT bias = 0.1 (SD =  0.33 )\n",
            "White Participant Disgust Stereotype IAT bias = -0.02 (SD =  0.39 )\n",
            "For Intelligence: positive values mean the group thinks White is less intelligent; negative is the opposite\n",
            "For Strength: positive values mean the group thinks White is stronger; negative is the opposite\n",
            "For Disgust: positive values mean the group thinks White is more dirty; negative is the opposite\n"
          ]
        }
      ]
    },
    {
      "cell_type": "code",
      "source": [
        "# @title IAT Histograms\n",
        "fig, axs = plt.subplots(1, 3, sharey=True, tight_layout=True)\n",
        "\n",
        "axs[0].hist(C_IAT_INT)\n",
        "axs[0].set_xlim(left=-1.3, right=1.3)\n",
        "axs[0].set_xlabel('Intelligence IAT bias')\n",
        "axs[1].hist(C_IAT_STR)\n",
        "axs[1].set_xlim(left=-1.3, right=1.3)\n",
        "axs[1].set_xlabel('Strength IAT bias')\n",
        "axs[2].hist(C_IAT_Disgust)\n",
        "axs[2].set_xlim(left=-1.3, right=1.3)\n",
        "axs[2].set_xlabel('Disgust IAT bias')\n",
        "axs[0].set_ylabel('Chinese sample histogram')\n",
        "\n",
        "fig, axs = plt.subplots(1, 3, sharey=True, tight_layout=True)\n",
        "axs[0].hist(W_IAT_INT)\n",
        "axs[0].set_xlim(left=-1.3, right=1.3)\n",
        "axs[0].set_xlabel('Intelligence IAT bias')\n",
        "axs[1].hist(W_IAT_STR)\n",
        "axs[1].set_xlim(left=-1.3, right=1.3)\n",
        "axs[1].set_xlabel('Strength IAT bias')\n",
        "axs[2].hist(W_IAT_Disgust)\n",
        "axs[2].set_xlim(left=-1.3, right=1.3)\n",
        "axs[2].set_xlabel('Disgust IAT bias')\n",
        "axs[0].set_ylabel('White sample histogram')"
      ],
      "metadata": {
        "colab": {
          "base_uri": "https://localhost:8080/",
          "height": 974
        },
        "cellView": "form",
        "id": "otynJ5Lxf3em",
        "outputId": "5f082a15-a067-4d5a-e611-9568c992021b"
      },
      "execution_count": 115,
      "outputs": [
        {
          "output_type": "execute_result",
          "data": {
            "text/plain": [
              "Text(0, 0.5, 'White sample histogram')"
            ]
          },
          "metadata": {},
          "execution_count": 115
        },
        {
          "output_type": "display_data",
          "data": {
            "text/plain": [
              "<Figure size 640x480 with 3 Axes>"
            ],
            "image/png": "[encoded data removed]"
          },
          "metadata": {}
        },
        {
          "output_type": "display_data",
          "data": {
            "text/plain": [
              "<Figure size 640x480 with 3 Axes>"
            ],
            "image/png": "[encoded data removed]"
          },
          "metadata": {}
        }
      ]
    },
    {
      "cell_type": "code",
      "source": [
        "\n",
        "from scipy import stats\n",
        "print('Intelligence T-test results:',stats.ttest_ind(C_IAT_INT,W_IAT_INT, permutations=10000, equal_var=False))\n",
        "print('Strength T-test results:',stats.ttest_ind(C_IAT_STR,W_IAT_STR, permutations=10000, equal_var=False))\n",
        "print('Disgust T-test results:',stats.ttest_ind(C_IAT_Disgust,W_IAT_Disgust, permutations=10000, equal_var=False))"
      ],
      "metadata": {
        "id": "vrOnvNS8meyX",
        "outputId": "a316722f-2f5d-4437-b458-81d0fa2871e0",
        "colab": {
          "base_uri": "https://localhost:8080/"
        }
      },
      "execution_count": 116,
      "outputs": [
        {
          "output_type": "stream",
          "name": "stdout",
          "text": [
            "Intelligence T-test results: TtestResult(statistic=1.3723569839397702, pvalue=0.17848215178482152, df=nan)\n",
            "Strength T-test results: TtestResult(statistic=-0.6728296807889553, pvalue=0.5018498150184981, df=nan)\n",
            "Disgust T-test results: TtestResult(statistic=0.6260454123771461, pvalue=0.5387461253874612, df=nan)\n"
          ]
        }
      ]
    },
    {
      "cell_type": "code",
      "source": [
        "#@title Participant-wise analysis of simple IAT bias by Stereotype category\n",
        "\n",
        "#Chinese participant Stereotype endorsement\n",
        "C_IAT_INT_Avg = np.mean(C_IAT_INT_simple)\n",
        "C_IAT_STR_Avg = np.mean(C_IAT_STR_simple)\n",
        "C_IAT_DIS_Avg = np.mean(C_IAT_Disgust_simple)\n",
        "\n",
        "C_IAT_INT_sd = np.std(C_IAT_INT_simple)\n",
        "C_IAT_STR_sd = np.std(C_IAT_STR_simple)\n",
        "C_IAT_DIS_sd = np.std(C_IAT_Disgust_simple)\n",
        "\n",
        "\n",
        "#White participant Stereotype endorsement\n",
        "W_IAT_INT_Avg = np.mean(W_IAT_INT_simple)\n",
        "W_IAT_STR_Avg = np.mean(W_IAT_STR_simple)\n",
        "W_IAT_DIS_Avg = np.mean(W_IAT_Disgust_simple)\n",
        "\n",
        "W_IAT_INT_sd = np.std(W_IAT_INT_simple)\n",
        "W_IAT_STR_sd = np.std(W_IAT_STR_simple)\n",
        "W_IAT_DIS_sd = np.std(W_IAT_Disgust_simple)\n",
        "\n",
        "#Print output\n",
        "print(\"Chinese Participant Intelligence Stereotype simple IAT bias =\", round(C_IAT_INT_Avg,2), \"(SD = \", round(C_IAT_INT_sd,2), \")\")\n",
        "print(\"Chinese Participant Strength Stereotype simple IAT bias =\", round(C_IAT_STR_Avg,2), \"(SD = \", round(C_IAT_STR_sd,2), \")\")\n",
        "print(\"Chinese Participant Disgust Stereotype simple IAT bias =\", round(C_IAT_DIS_Avg,2), \"(SD = \", round(C_IAT_DIS_sd,2), \")\")\n",
        "\n",
        "print(\"White Participant Intelligence Stereotype simple IAT bias =\", round(W_IAT_INT_Avg,2), \"(SD = \", round(W_IAT_INT_sd,2), \")\")\n",
        "print(\"White Participant Strength Stereotype simple IAT bias =\", round(W_IAT_STR_Avg,2), \"(SD = \", round(W_IAT_STR_sd,2), \")\")\n",
        "print(\"White Participant Disgust Stereotype simple IAT bias =\", round(W_IAT_DIS_Avg,2), \"(SD = \", round(W_IAT_DIS_sd,2), \")\")\n",
        "\n",
        "print('For Intelligence: positive values mean the group thinks White is more intelligent; negative is the opposite')\n",
        "print('For Strength: positive values mean the group thinks White is weaker; negative is the opposite')\n",
        "print('For Disgust: positive values mean the group thinks White is more clean; negative is the opposite')"
      ],
      "metadata": {
        "cellView": "form",
        "id": "Fs3jU0b6J4OZ",
        "outputId": "37293611-42fc-4558-fce1-e8dab78a8269",
        "colab": {
          "base_uri": "https://localhost:8080/"
        }
      },
      "execution_count": 117,
      "outputs": [
        {
          "output_type": "stream",
          "name": "stdout",
          "text": [
            "Chinese Participant Intelligence Stereotype simple IAT bias = 55.97 (SD =  259.71 )\n",
            "Chinese Participant Strength Stereotype simple IAT bias = -77.95 (SD =  1007.44 )\n",
            "Chinese Participant Disgust Stereotype simple IAT bias = 35.74 (SD =  293.88 )\n",
            "White Participant Intelligence Stereotype simple IAT bias = -28.51 (SD =  305.08 )\n",
            "White Participant Strength Stereotype simple IAT bias = 12.45 (SD =  176.15 )\n",
            "White Participant Disgust Stereotype simple IAT bias = -22.38 (SD =  224.57 )\n",
            "For Intelligence: positive values mean the group thinks White is more intelligent; negative is the opposite\n",
            "For Strength: positive values mean the group thinks White is weaker; negative is the opposite\n",
            "For Disgust: positive values mean the group thinks White is more clean; negative is the opposite\n"
          ]
        }
      ]
    },
    {
      "cell_type": "code",
      "source": [
        "#Format dataframe for saving\n",
        "C_ID = np.unique(IAT_C['Participant Private ID'])\n",
        "C_IAT_df = pd.DataFrame({'Participant Private ID':C_ID,'C_IAT_INT(pos=Wint)':C_IAT_INT, 'C_IAT_STR(pos=Wweak)':C_IAT_STR, 'C_IAT_Disgust(pos=Wclean)':C_IAT_Disgust})\n",
        "\n",
        "W_ID = np.unique(IAT_W['Participant Private ID'])\n",
        "W_IAT_df = pd.DataFrame({'Participant Private ID':W_ID,'W_IAT_INT(pos=Wint)':W_IAT_INT, 'W_IAT_STR(pos=Wweak)':W_IAT_STR, 'W_IAT_Disgust(pos=Wclean)':W_IAT_Disgust})\n"
      ],
      "metadata": {
        "id": "aqduQLKiTslC"
      },
      "execution_count": 269,
      "outputs": []
    },
    {
      "cell_type": "code",
      "source": [
        "#Convert all files to csv\n",
        "C_IAT_df.to_csv('C_IAT_df.csv')\n",
        "W_IAT_df.to_csv('W_IAT_df.csv')"
      ],
      "metadata": {
        "id": "Q7KrtqttYxmW"
      },
      "execution_count": 270,
      "outputs": []
    },
    {
      "cell_type": "markdown",
      "source": [
        "## Reference:\n",
        "IAT data analysis script adapted from https://github.com/tomstafford/IAT\n",
        "\n",
        "Calculate IAT score from data generated by Robin's PsychoPy script [TQS Feb 2014]\n",
        "\n",
        "*Greenwald, A. G., Nosek, B. A., & Banaji, M. R. (2003). Understanding and using the implicit association test: I. An improved scoring algorithm. Journal of personality and social psychology, 85(2), 1972-216.*"
      ],
      "metadata": {
        "id": "pE-DC6j9wKGk"
      }
    }
  ]
}
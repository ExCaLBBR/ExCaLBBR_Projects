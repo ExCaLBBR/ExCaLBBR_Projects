{
  "nbformat": 4,
  "nbformat_minor": 0,
  "metadata": {
    "colab": {
      "provenance": [],
      "include_colab_link": true
    },
    "kernelspec": {
      "name": "python3",
      "display_name": "Python 3"
    },
    "language_info": {
      "name": "python"
    }
  },
  "cells": [
    {
      "cell_type": "markdown",
      "metadata": {
        "id": "view-in-github",
        "colab_type": "text"
      },
      "source": [
        "<a href=\"https://colab.research.google.com/github/ExCaLBBR/ExCaLBBR_Projects/blob/main/RaciallyBiasedDecisions/RaciallyBiasedDecisions_APF/behavioral/code/RBD_diagnosticAnalyses.ipynb\" target=\"_parent\"><img src=\"https://colab.research.google.com/assets/colab-badge.svg\" alt=\"Open In Colab\"/></a>"
      ]
    },
    {
      "cell_type": "code",
      "execution_count": 69,
      "metadata": {
        "id": "AI0WsjFG6yP-",
        "cellView": "form"
      },
      "outputs": [],
      "source": [
        "# @title Install dependancies\n",
        "import pandas as pd #for dealing with csv import\n",
        "import numpy as np #for the population std\n",
        "from scipy.stats import sem\n",
        "import matplotlib.pyplot as plt\n",
        "import warnings"
      ]
    },
    {
      "cell_type": "code",
      "source": [
        "#@title Define utility functions\n",
        "def weightedHeatmap(PairData, words, PlotHM, Title):\n",
        "\n",
        "    '''\n",
        "    Restructure RT into matrix data structure\n",
        "\n",
        "    '''\n",
        "\n",
        "    Wmat = np.zeros((len(words),len(words)))\n",
        "    t = 0\n",
        "    z = 0\n",
        "\n",
        "    for i in range(len(words)):\n",
        "        for j in range(len(words)):\n",
        "\n",
        "            if i == j:\n",
        "                Wmat[i,j] = np.NaN\n",
        "\n",
        "            elif j > i:\n",
        "                Wmat[i,j] = PairData[t]\n",
        "                Wmat[j,i] = PairData[t]\n",
        "                t += 1\n",
        "\n",
        "\n",
        "    if PlotHM == 1:\n",
        "        plt.title(Title)\n",
        "        plt.imshow(Wmat,  cmap='RdBu', vmin=-7, vmax=7)\n",
        "        plt.colorbar()\n",
        "        plt.xticks(range(len(words)), words, rotation='vertical')\n",
        "        plt.yticks(range(len(words)), words)\n",
        "        plt.show()\n",
        "\n",
        "    return Wmat\n",
        "\n",
        "def item_randperm(ntimes, nperm):\n",
        "\n",
        "    '''\n",
        "      p = item_randperm(nitems,nperm)\n",
        "      Parameters: number of items, number of random permutations\n",
        "      Output: a matrix with nperm rows;\n",
        "      Each row is an index of permuted item positions.\n",
        "\n",
        "      returns a matrix (n,nitems)\n",
        "      each row is a random permutation of nitems (labelled 1:nitems)\n",
        "      produces n such permutations\n",
        "      the random seed is changed at every call\n",
        "\n",
        "    '''\n",
        "\n",
        "    p = np.zeros((nperm, ntimes))\n",
        "    for i in range(nperm):\n",
        "        p[i,:] = np.random.permutation(ntimes)\n",
        "\n",
        "    return p\n"
      ],
      "metadata": {
        "cellView": "form",
        "id": "HXYLNmAxrDly"
      },
      "execution_count": 70,
      "outputs": []
    },
    {
      "cell_type": "code",
      "source": [
        "#@title Load Data:\n",
        "\n",
        "#Load IAT and BiasDecision (BD) data\n",
        "C_IAT = pd.read_csv(\"https://github.com/ExCaLBBR/ExCaLBBR_Projects/raw/main/RaciallyBiasedDecisions/RaciallyBiasedDecisions_APF/behavioral/analysis/C_IAT_df.csv\", header=0)\n",
        "W_IAT = pd.read_csv(\"https://github.com/ExCaLBBR/ExCaLBBR_Projects/raw/main/RaciallyBiasedDecisions/RaciallyBiasedDecisions_APF/behavioral/analysis/W_IAT_df.csv\", header=0)\n",
        "\n",
        "C_AdvIn = pd.read_csv(\"https://github.com/ExCaLBBR/ExCaLBBR_Projects/raw/main/RaciallyBiasedDecisions/RaciallyBiasedDecisions_APF/behavioral/analysis/C_AdvIn_df.csv\", header=0)\n",
        "C_AdvOut = pd.read_csv(\"https://github.com/ExCaLBBR/ExCaLBBR_Projects/raw/main/RaciallyBiasedDecisions/RaciallyBiasedDecisions_APF/behavioral/analysis/C_AdvOut_df.csv\", header=0)\n",
        "W_AdvIn = pd.read_csv(\"https://github.com/ExCaLBBR/ExCaLBBR_Projects/raw/main/RaciallyBiasedDecisions/RaciallyBiasedDecisions_APF/behavioral/analysis/W_AdvIn_df.csv\", header=0)\n",
        "W_AdvOut = pd.read_csv(\"https://github.com/ExCaLBBR/ExCaLBBR_Projects/raw/main/RaciallyBiasedDecisions/RaciallyBiasedDecisions_APF/behavioral/analysis/W_AdvOut_df.csv\", header=0)\n",
        "\n",
        "#Replace with relevant demographic and questionnaire data\n",
        "demographic_C = pd.read_csv(\"https://github.com/ExCaLBBR/ExCaLBBR_Projects/raw/main/RaciallyBiasedDecisions/RaciallyBiasedDecisions_APF/behavioral/data/demographic_C.csv\", header=1)\n",
        "demographic_W = pd.read_csv(\"https://github.com/ExCaLBBR/ExCaLBBR_Projects/raw/main/RaciallyBiasedDecisions/RaciallyBiasedDecisions_APF/behavioral/data/demographic_W.csv\", header=1)\n",
        "\n",
        "ZeroSum_C = pd.read_csv(\"https://github.com/ExCaLBBR/ExCaLBBR_Projects/raw/main/RaciallyBiasedDecisions/RaciallyBiasedDecisions_APF/behavioral/data/ZeroSum_C.csv\", header=1)\n",
        "ZeroSum_W = pd.read_csv(\"https://github.com/ExCaLBBR/ExCaLBBR_Projects/raw/main/RaciallyBiasedDecisions/RaciallyBiasedDecisions_APF/behavioral/data/ZeroSum_W.csv\", header=1)\n",
        "\n",
        "SDO_C = pd.read_csv(\"https://github.com/ExCaLBBR/ExCaLBBR_Projects/raw/main/RaciallyBiasedDecisions/RaciallyBiasedDecisions_APF/behavioral/data/SDO_C.csv\", header=1)\n",
        "SDO_W = pd.read_csv(\"https://github.com/ExCaLBBR/ExCaLBBR_Projects/raw/main/RaciallyBiasedDecisions/RaciallyBiasedDecisions_APF/behavioral/data/SDO_W.csv\", header=1)\n",
        "\n",
        "RWAS_C = pd.read_csv(\"https://github.com/ExCaLBBR/ExCaLBBR_Projects/raw/main/RaciallyBiasedDecisions/RaciallyBiasedDecisions_APF/behavioral/data/RWAS_C.csv\", header=1)\n",
        "RWAS_W = pd.read_csv(\"https://github.com/ExCaLBBR/ExCaLBBR_Projects/raw/main/RaciallyBiasedDecisions/RaciallyBiasedDecisions_APF/behavioral/data/RWAS_W.csv\", header=1)\n",
        "\n",
        "News_C = pd.read_csv(\"https://github.com/ExCaLBBR/ExCaLBBR_Projects/raw/main/RaciallyBiasedDecisions/RaciallyBiasedDecisions_APF/behavioral/data/News_C.csv\", header=1)\n",
        "News_W = pd.read_csv(\"https://github.com/ExCaLBBR/ExCaLBBR_Projects/raw/main/RaciallyBiasedDecisions/RaciallyBiasedDecisions_APF/behavioral/data/News_W.csv\", header=1)\n",
        "\n",
        "JustWorld_C = pd.read_csv(\"https://github.com/ExCaLBBR/ExCaLBBR_Projects/raw/main/RaciallyBiasedDecisions/RaciallyBiasedDecisions_APF/behavioral/data/JustWorld_C.csv\", header=1)\n",
        "JustWorld_W = pd.read_csv(\"https://github.com/ExCaLBBR/ExCaLBBR_Projects/raw/main/RaciallyBiasedDecisions/RaciallyBiasedDecisions_APF/behavioral/data/JustWorld_W.csv\", header=1)\n",
        "\n",
        "CRDiscrim_C = pd.read_csv(\"https://github.com/ExCaLBBR/ExCaLBBR_Projects/raw/main/RaciallyBiasedDecisions/RaciallyBiasedDecisions_APF/behavioral/data/GRDiscrim_C.csv\", header=1)\n",
        "CRDiscrim_W = pd.read_csv(\"https://github.com/ExCaLBBR/ExCaLBBR_Projects/raw/main/RaciallyBiasedDecisions/RaciallyBiasedDecisions_APF/behavioral/data/GRDiscrim_w.csv\", header=1)\n",
        "\n",
        "EthID_C = pd.read_csv(\"https://github.com/ExCaLBBR/ExCaLBBR_Projects/raw/main/RaciallyBiasedDecisions/RaciallyBiasedDecisions_APF/behavioral/data/EthId_C.csv\", header=1)\n",
        "EthID_W = pd.read_csv(\"https://github.com/ExCaLBBR/ExCaLBBR_Projects/raw/main/RaciallyBiasedDecisions/RaciallyBiasedDecisions_APF/behavioral/data/EthId_W.csv\", header=1)"
      ],
      "metadata": {
        "id": "jUA56Qs6Jia4",
        "cellView": "form"
      },
      "execution_count": 104,
      "outputs": []
    },
    {
      "cell_type": "code",
      "source": [
        "#@title Data Format Correction\n",
        "#Fix Dataframe headers\n",
        "ZeroSum_C = ZeroSum_C.drop(labels=0, axis=0)\n",
        "ZeroSum_W = ZeroSum_W.drop(labels=0, axis=0)\n",
        "SDO_C = SDO_C.drop(labels=0, axis=0)\n",
        "SDO_W = SDO_W.drop(labels=0, axis=0)\n",
        "RWAS_C = RWAS_C.drop(labels=0, axis=0)\n",
        "RWAS_W = RWAS_W.drop(labels=0, axis=0)\n",
        "News_C = News_C.drop(labels=0, axis=0)\n",
        "News_W = News_W.drop(labels=0, axis=0)\n",
        "JustWorld_C = JustWorld_C.drop(labels=0, axis=0)\n",
        "JustWorld_W = JustWorld_W.drop(labels=0, axis=0)\n",
        "CRDiscrim_C = CRDiscrim_C.drop(labels=0, axis=0)\n",
        "CRDiscrim_W = CRDiscrim_W.drop(labels=0, axis=0)\n",
        "EthID_C = EthID_C.drop(labels=0, axis=0)\n",
        "EthID_W = EthID_W.drop(labels=0, axis=0)\n",
        "\n",
        "#Fix ID formatting\n",
        "ZeroSum_C['Question Key'] = [sub[: -2] for sub in ZeroSum_C['Question Key']]\n",
        "ZeroSum_W['Question Key'] = [sub[: -2] for sub in ZeroSum_W['Question Key']]\n",
        "SDO_C['Question Key'] = [sub[: -2] for sub in SDO_C['Question Key']]\n",
        "SDO_W['Question Key'] = [sub[: -2] for sub in SDO_W['Question Key']]\n",
        "RWAS_C['Question Key'] = [sub[: -2] for sub in RWAS_C['Question Key']]\n",
        "RWAS_W['Question Key'] = [sub[: -2] for sub in RWAS_W['Question Key']]\n",
        "News_C['Question Key'] = [sub[: -2] for sub in News_C['Question Key']]\n",
        "News_W['Question Key'] = [sub[: -2] for sub in News_W['Question Key']]\n",
        "JustWorld_C['Question Key'] = [sub[: -2] for sub in JustWorld_C['Question Key']]\n",
        "JustWorld_W['Question Key'] = [sub[: -2] for sub in JustWorld_W['Question Key']]\n",
        "CRDiscrim_C['Question Key'] = [sub[: -2] for sub in CRDiscrim_C['Question Key']]\n",
        "CRDiscrim_W['Question Key'] = [sub[: -2] for sub in CRDiscrim_W['Question Key']]\n",
        "EthID_C['Question Key'] = [sub[: -2] for sub in EthID_C['Question Key']]\n",
        "EthID_W['Question Key'] = [sub[: -2] for sub in EthID_W['Question Key']]"
      ],
      "metadata": {
        "id": "2CaULpMaH1L-"
      },
      "execution_count": 105,
      "outputs": []
    },
    {
      "cell_type": "code",
      "source": [
        "#@title Data Scoring\n",
        "\n",
        "warnings.filterwarnings(\"ignore\")\n",
        "\n",
        "#Zerosum\n",
        "ZeroSum_C['ZSum9'] = 8-ZeroSum_C['ZSum9']\n",
        "ZeroSum_C['ZSum10'] = 8-ZeroSum_C['ZSum10']\n",
        "ZeroSum_C['ZSum11'] = 8-ZeroSum_C['ZSum11']\n",
        "ZeroSum_C['ZSum12'] = 8-ZeroSum_C['ZSum12']\n",
        "ZeroSum_W['ZSum9'] = 8-ZeroSum_W['ZSum9']\n",
        "ZeroSum_W['ZSum10'] = 8-ZeroSum_W['ZSum10']\n",
        "ZeroSum_W['ZSum11'] = 8-ZeroSum_W['ZSum11']\n",
        "ZeroSum_W['ZSum12'] = 8-ZeroSum_W['ZSum12']\n",
        "ZeroSum_C = pd.DataFrame({'Participant Private ID':ZeroSum_C['Question Key'],'ZSumAvg':ZeroSum_C[ZeroSum_C!='Question Key'].mean(axis=1)})\n",
        "ZeroSum_W = pd.DataFrame({'Participant Private ID':ZeroSum_W['Question Key'],'ZSumAvg':ZeroSum_W[ZeroSum_W!='Question Key'].mean(axis=1)})\n",
        "\n",
        "#SDO\n",
        "SDO_C['SDO3_NK'] = 8-SDO_C['SDO3_NK']\n",
        "SDO_C['SDO4_NK'] = 8-SDO_C['SDO4_NK']\n",
        "SDO_C['SDO7_NK'] = 8-SDO_C['SDO7_NK']\n",
        "SDO_C['SDO8_NK'] = 8-SDO_C['SDO8_NK']\n",
        "SDO_W['SDO3_NK'] = 8-SDO_W['SDO3_NK']\n",
        "SDO_W['SDO4_NK'] = 8-SDO_W['SDO4_NK']\n",
        "SDO_W['SDO7_NK'] = 8-SDO_W['SDO7_NK']\n",
        "SDO_W['SDO8_NK'] = 8-SDO_W['SDO8_NK']\n",
        "SDO_C = pd.DataFrame({'Participant Private ID':SDO_C['Question Key'],'SDOAvg':SDO_C[SDO_C!='Question Key'].mean(axis=1)})\n",
        "SDO_W = pd.DataFrame({'Participant Private ID':SDO_W['Question Key'],'SDOAvg':SDO_W[SDO_W!='Question Key'].mean(axis=1)})\n",
        "\n",
        "#RWAS [Need to score the full questionnaire; use Pol Aff as a proxy]\n",
        "PolAff_C = pd.DataFrame({'Participant Private ID':RWAS_C['Question Key'],'PolAff':RWAS_C['Political_Affiliation']})\n",
        "PolAff_W = pd.DataFrame({'Participant Private ID':RWAS_W['Question Key'],'PolAff':RWAS_W['Political_Affiliation']})\n",
        "\n",
        "#News bias [This need to cross-compared against AllSides media and scored]\n",
        "\n",
        "#Just world\n",
        "JustWorld_C = pd.DataFrame({'Participant Private ID':JustWorld_C['Question Key'],'JustWorld':JustWorld_C[JustWorld_C!='Question Key'].mean(axis=1)})\n",
        "JustWorld_W = pd.DataFrame({'Participant Private ID':JustWorld_W['Question Key'],'JustWorld':JustWorld_W[JustWorld_W!='Question Key'].mean(axis=1)})\n",
        "\n",
        "#Percieved Racial Ethnic and Gender Discrimination\n",
        "CRDiscrim_C = pd.DataFrame({'Participant Private ID':CRDiscrim_C['Question Key'],'PerceivedRaceDiscrim':CRDiscrim_C[['PGRD1','PGRD3','PGRD5']].mean(axis=1),'PerceivedGenderDiscrim':CRDiscrim_C[['PGRD2','PGRD4','PGRD6']].mean(axis=1)})\n",
        "CRDiscrim_W = pd.DataFrame({'Participant Private ID':CRDiscrim_W['Question Key'],'PerceivedRaceDiscrim':CRDiscrim_W[['PGRD1','PGRD3','PGRD5']].mean(axis=1),'PerceivedGenderDiscrim':CRDiscrim_W[['PGRD2','PGRD4','PGRD6']].mean(axis=1)})\n",
        "\n",
        "EthID_C= pd.DataFrame({'Participant Private ID':EthID_C['Question Key'],'EthID':EthID_C[EthID_C!='Question Key'].mean(axis=1)})\n",
        "EthID_W= pd.DataFrame({'Participant Private ID':EthID_W['Question Key'],'EthID':EthID_W[EthID_W!='Question Key'].mean(axis=1)})"
      ],
      "metadata": {
        "id": "N1gTMioUJln-"
      },
      "execution_count": 106,
      "outputs": []
    },
    {
      "cell_type": "code",
      "source": [
        "#@title Data subsetting\n",
        "\n",
        "#Create a list of participants who completed all tasks and questionsairres\n",
        "##NOTE: Recommended implementation"
      ],
      "metadata": {
        "id": "jV03oyegDAZC"
      },
      "execution_count": null,
      "outputs": []
    },
    {
      "cell_type": "code",
      "source": [
        "#@title Compute cross-correlation between IAT subcategories, BiasedDecisions, and questionnaires\n"
      ],
      "metadata": {
        "id": "l54V1AdWDp4h"
      },
      "execution_count": null,
      "outputs": []
    },
    {
      "cell_type": "code",
      "source": [
        "#@title Vizualization: Create a cross correlation\n",
        "\n",
        "#Create a weighted heatmap of the cross correlations between the task and the questionnaires"
      ],
      "metadata": {
        "id": "Go7tgjZjIVWp"
      },
      "execution_count": null,
      "outputs": []
    }
  ]
}
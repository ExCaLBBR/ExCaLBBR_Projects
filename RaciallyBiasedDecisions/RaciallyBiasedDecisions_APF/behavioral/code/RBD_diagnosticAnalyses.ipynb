{
  "nbformat": 4,
  "nbformat_minor": 0,
  "metadata": {
    "colab": {
      "provenance": [],
      "include_colab_link": true
    },
    "kernelspec": {
      "name": "python3",
      "display_name": "Python 3"
    },
    "language_info": {
      "name": "python"
    }
  },
  "cells": [
    {
      "cell_type": "markdown",
      "metadata": {
        "id": "view-in-github",
        "colab_type": "text"
      },
      "source": [
        "<a href=\"https://colab.research.google.com/github/ExCaLBBR/ExCaLBBR_Projects/blob/main/RaciallyBiasedDecisions/RaciallyBiasedDecisions_APF/behavioral/code/RBD_diagnosticAnalyses.ipynb\" target=\"_parent\"><img src=\"https://colab.research.google.com/assets/colab-badge.svg\" alt=\"Open In Colab\"/></a>"
      ]
    },
    {
      "cell_type": "code",
      "execution_count": null,
      "metadata": {
        "id": "AI0WsjFG6yP-"
      },
      "outputs": [],
      "source": [
        "# @title Install dependancies\n",
        "import pandas as pd #for dealing with csv import\n",
        "import numpy as np #for the population std\n",
        "from scipy.stats import sem\n",
        "import matplotlib.pyplot as plt"
      ]
    },
    {
      "cell_type": "code",
      "source": [
        "#@title Define utility functions\n",
        "def weightedHeatmap(PairData, words, PlotHM, Title):\n",
        "\n",
        "    '''\n",
        "    Restructure RT into matrix data structure\n",
        "\n",
        "    '''\n",
        "\n",
        "    Wmat = np.zeros((len(words),len(words)))\n",
        "    t = 0\n",
        "    z = 0\n",
        "\n",
        "    for i in range(len(words)):\n",
        "        for j in range(len(words)):\n",
        "\n",
        "            if i == j:\n",
        "                Wmat[i,j] = np.NaN\n",
        "\n",
        "            elif j > i:\n",
        "                Wmat[i,j] = PairData[t]\n",
        "                Wmat[j,i] = PairData[t]\n",
        "                t += 1\n",
        "\n",
        "\n",
        "    if PlotHM == 1:\n",
        "        plt.title(Title)\n",
        "        plt.imshow(Wmat,  cmap='RdBu', vmin=-7, vmax=7)\n",
        "        plt.colorbar()\n",
        "        plt.xticks(range(len(words)), words, rotation='vertical')\n",
        "        plt.yticks(range(len(words)), words)\n",
        "        plt.show()\n",
        "\n",
        "    return Wmat\n",
        "\n",
        "def ccbi_randperm(ntimes, nperm):\n",
        "\n",
        "    '''\n",
        "      p = ccbi_randperm(nitems,nperm)\n",
        "      Parameters: number of items, number of random permutations\n",
        "      Output: a matrix with nperm rows;\n",
        "      Each row is an index of permuted item positions.\n",
        "\n",
        "      returns a matrix (n,nitems)\n",
        "      each row is a random permutation of nitems (labelled 1:nitems)\n",
        "      produces n such permutations\n",
        "      the random seed is changed at every call\n",
        "\n",
        "    '''\n",
        "\n",
        "    p = np.zeros((nperm, ntimes))\n",
        "    for i in range(nperm):\n",
        "        p[i,:] = np.random.permutation(ntimes)\n",
        "\n",
        "    return p\n",
        "\n"
      ],
      "metadata": {
        "cellView": "form",
        "id": "HXYLNmAxrDly"
      },
      "execution_count": null,
      "outputs": []
    },
    {
      "cell_type": "code",
      "source": [
        "#@title Load Data:\n",
        "\n",
        "#Load IAT and BiasDecision (BD) data\n",
        "\n",
        "#Replace with relevant demographic and questionnaire data\n",
        "demographic_C = pd.read_csv(\"https://github.com/ExCaLBBR/ExCaLBBR_Projects/raw/main/RaciallyBiasedDecisions/RaciallyBiasedDecisions_APF/behavioral/data/demographic_C.csv\", header=1)\n",
        "RWAS_C = pd.read_csv(\"https://github.com/ExCaLBBR/ExCaLBBR_Projects/raw/main/RaciallyBiasedDecisions/RaciallyBiasedDecisions_APF/behavioral/data/RWAS_C.csv\", header=1)"
      ],
      "metadata": {
        "id": "jUA56Qs6Jia4"
      },
      "execution_count": null,
      "outputs": []
    },
    {
      "cell_type": "code",
      "source": [
        "#@title Data subsetting\n",
        "\n",
        "#Create a list of participants who completed all tasks and questionsairres\n",
        "##NOTE: Recommended implementation"
      ],
      "metadata": {
        "id": "jV03oyegDAZC"
      },
      "execution_count": null,
      "outputs": []
    },
    {
      "cell_type": "code",
      "source": [
        "#@title Compute cross-correlation between IAT subcategories, BiasedDecisions, and questionnaires\n"
      ],
      "metadata": {
        "id": "l54V1AdWDp4h"
      },
      "execution_count": null,
      "outputs": []
    },
    {
      "cell_type": "code",
      "source": [
        "#@title Vizualization: Create a cross correlation\n",
        "\n",
        "#Create a weighted heatmap of the cross correlations between the task and the questionnaires"
      ],
      "metadata": {
        "id": "Go7tgjZjIVWp"
      },
      "execution_count": null,
      "outputs": []
    },
    {
      "cell_type": "code",
      "source": [
        "#For possible future useeeeeee!!!!!\n",
        "\n",
        "\n",
        "# Plot Income histograms\n",
        "# customSort = {'Less than $12500':0, '$12501-$22500':1, '$22501-$42500':2, '$42501-$80000':3 ,'More than $80000':4}\n",
        "# IncPlot = Income_nGnANB.sort_values(key=lambda x: x.map(customSort))\n",
        "# plt.hist(IncPlot,\n",
        "#          alpha=0.75,\n",
        "#          color='k')\n",
        "# plt.title('Income')\n",
        "# plt.xticks(rotation = 45)\n",
        "# plt.show()"
      ],
      "metadata": {
        "id": "b1FgfTkQJj2s"
      },
      "execution_count": null,
      "outputs": []
    }
  ]
}
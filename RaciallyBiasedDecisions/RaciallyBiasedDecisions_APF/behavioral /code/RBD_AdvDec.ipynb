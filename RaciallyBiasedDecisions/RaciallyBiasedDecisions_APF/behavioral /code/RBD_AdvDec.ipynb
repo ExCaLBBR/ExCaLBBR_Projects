{
  "nbformat": 4,
  "nbformat_minor": 0,
  "metadata": {
    "colab": {
      "provenance": [],
      "include_colab_link": true
    },
    "kernelspec": {
      "name": "python3",
      "display_name": "Python 3"
    },
    "language_info": {
      "name": "python"
    }
  },
  "cells": [
    {
      "cell_type": "markdown",
      "metadata": {
        "id": "view-in-github",
        "colab_type": "text"
      },
      "source": [
        "<a href=\"https://colab.research.google.com/github/ExCaLBBR/ExCaLBBR_Projects/blob/main/RaciallyBiasedDecisions/RaciallyBiasedDecisions_APF/behavioral%20/code/RBD_AdvDec.ipynb\" target=\"_parent\"><img src=\"https://colab.research.google.com/assets/colab-badge.svg\" alt=\"Open In Colab\"/></a>"
      ]
    },
    {
      "cell_type": "code",
      "execution_count": 1,
      "metadata": {
        "id": "AI0WsjFG6yP-"
      },
      "outputs": [],
      "source": [
        "# Importing Libraries\n",
        "import pandas as pd #for dealing with csv import\n",
        "import os # for joining paths and filenames sensibly\n",
        "import numpy as np #for the population std\n",
        "import glob # for finding csv data files\n",
        "import platform # paths use different dividers on linux vs windows, so we need to test for this\n",
        "import string"
      ]
    },
    {
      "cell_type": "code",
      "source": [
        "#Importing Adventure Task Data Frames\n",
        "df_InIn_BM = pd.read_csv(\"https://raw.githubusercontent.com/ExCaLBBR/ExCaLBBR_Projects/main/RaciallyBiasedDecisions/RaciallyBiasedDecisions-Intersectionality_SURG/data/Adv_InIn_BM.csv\", header=0)\n",
        "df_InIn_WM = pd.read_csv(\"https://raw.githubusercontent.com/ExCaLBBR/ExCaLBBR_Projects/main/RaciallyBiasedDecisions/RaciallyBiasedDecisions-Intersectionality_SURG/data/Adv_InIn_WM.csv\", header=0)\n",
        "df_InOutBoth_BM = pd.read_csv(\"https://raw.githubusercontent.com/ExCaLBBR/ExCaLBBR_Projects/main/RaciallyBiasedDecisions/RaciallyBiasedDecisions-Intersectionality_SURG/data/Adv_InOutBoth_BM.csv\", header=0)\n",
        "df_InOutBoth_WM = pd.read_csv(\"https://raw.githubusercontent.com/ExCaLBBR/ExCaLBBR_Projects/main/RaciallyBiasedDecisions/RaciallyBiasedDecisions-Intersectionality_SURG/data/Adv_InOutBoth_WM.csv\", header=0)\n",
        "df_InOutGender_BM = pd.read_csv(\"https://raw.githubusercontent.com/ExCaLBBR/ExCaLBBR_Projects/main/RaciallyBiasedDecisions/RaciallyBiasedDecisions-Intersectionality_SURG/data/Adv_InOutGender_BM.csv\", header=0)\n",
        "df_InOutGender_WM = pd.read_csv(\"https://raw.githubusercontent.com/ExCaLBBR/ExCaLBBR_Projects/main/RaciallyBiasedDecisions/RaciallyBiasedDecisions-Intersectionality_SURG/data/Adv_InOutGender_WM.csv\", header=0)\n",
        "df_InOutRace_BM = pd.read_csv(\"https://raw.githubusercontent.com/ExCaLBBR/ExCaLBBR_Projects/main/RaciallyBiasedDecisions/RaciallyBiasedDecisions-Intersectionality_SURG/data/Adv_InOutRace_BM.csv\", header=0)\n",
        "df_InOutRace_WM = pd.read_csv(\"https://raw.githubusercontent.com/ExCaLBBR/ExCaLBBR_Projects/main/RaciallyBiasedDecisions/RaciallyBiasedDecisions-Intersectionality_SURG/data/Adv_InOutRace_WM.csv\",header=0)"
      ],
      "metadata": {
        "id": "jUA56Qs6Jia4"
      },
      "execution_count": 19,
      "outputs": []
    },
    {
      "cell_type": "code",
      "source": [],
      "metadata": {
        "id": "wzyojFLwT8eE"
      },
      "execution_count": null,
      "outputs": []
    }
  ]
}
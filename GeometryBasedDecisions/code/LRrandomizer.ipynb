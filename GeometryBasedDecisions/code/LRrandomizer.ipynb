{
  "nbformat": 4,
  "nbformat_minor": 0,
  "metadata": {
    "colab": {
      "provenance": [],
      "machine_shape": "hm",
      "gpuType": "V100",
      "include_colab_link": true
    },
    "kernelspec": {
      "name": "python3",
      "display_name": "Python 3"
    },
    "language_info": {
      "name": "python"
    }
  },
  "cells": [
    {
      "cell_type": "markdown",
      "metadata": {
        "id": "view-in-github",
        "colab_type": "text"
      },
      "source": [
        "<a href=\"https://colab.research.google.com/github/ExCaLBBR/ExCaLBBR_Projects/blob/main/GeometryBasedDecisions/code/LRrandomizer.ipynb\" target=\"_parent\"><img src=\"https://colab.research.google.com/assets/colab-badge.svg\" alt=\"Open In Colab\"/></a>"
      ]
    },
    {
      "cell_type": "markdown",
      "source": [
        "#Find Left-Right randomization for PRaM stimuli presentation"
      ],
      "metadata": {
        "id": "O4Gme4COyVnz"
      }
    },
    {
      "cell_type": "code",
      "source": [
        "#@title Install dependancies\n",
        "import numpy as np\n",
        "import pandas as pd\n",
        "from matplotlib import pyplot as plt\n",
        "from itertools import combinations\n",
        "import csv"
      ],
      "metadata": {
        "id": "SEWVqBcKx9KO",
        "collapsed": true
      },
      "execution_count": null,
      "outputs": []
    },
    {
      "cell_type": "code",
      "source": [
        "def item_randperm(ntimes, nperm):\n",
        "    '''\n",
        "      p = item_randperm(nitems,nperm)\n",
        "      Parameters: number of items, number of random permutations\n",
        "      Output: a matrix with nperm rows;\n",
        "      Each row is an index of permuted item positions.\n",
        "\n",
        "      returns a matrix (n,nitems)\n",
        "      each row is a random permutation of nitems (labelled 1:nitems)\n",
        "      produces n such permutations\n",
        "      the random seed is changed at every call\n",
        "    '''\n",
        "\n",
        "    p = np.zeros((nperm, ntimes))\n",
        "    for i in range(nperm):\n",
        "        p[i,:] = np.random.permutation(ntimes)\n",
        "\n",
        "    return p"
      ],
      "metadata": {
        "id": "hlRGP67on-WW"
      },
      "execution_count": null,
      "outputs": []
    },
    {
      "cell_type": "code",
      "source": [
        "#@title Load data, Clean dataframes, and mask out participants who didn't complete all parts of the study session\n",
        "#Data path\n",
        "path = 'https://github.com/ExCaLBBR/ExCaLBBR_Projects/raw/main/SocioenvironmentalGeometry/'\n",
        "\n",
        "# Load Demographic PRaM data\n",
        "datDemo = pd.read_csv (path + 'data/demographic.csv', header=1)\n",
        "datPRaM = pd.read_csv (path + 'data/df_taskPRaM.csv', header=0)\n",
        "pairLab = pd.read_csv (path + 'data/PRaM_pairLabels.csv', header=None)\n",
        "news = pd.read_csv (path + 'data/df_News_coded.csv', header=1)\n",
        "\n",
        "#remove misc row and incomplete sessions\n",
        "datDemo = datDemo.drop(labels=0, axis=0)\n",
        "datDemo = datDemo.reset_index(drop=True)\n",
        "datDemo['Question Key'] = [sub[: -2] for sub in datDemo['Question Key']]\n",
        "datPRaM = datPRaM.drop(['Participant Private ID'], axis=1)\n",
        "datPRaM = datPRaM.reset_index(drop=True)\n",
        "news = news.drop(labels=0, axis=0)\n",
        "news = news.reset_index(drop=True)\n",
        "\n",
        "#Identify participants who did not complete all measures\n",
        "lst1 = datDemo['Question Key']\n",
        "lst2 = news['Question Key']\n",
        "exPart = list(set(lst1) - set(lst2))\n",
        "mask = datDemo['Question Key'].str.contains(exPart[0], na=True) #If the number of participants to exclude exceeds 1 you will need a for loop\n",
        "datDemo = datDemo[~mask]\n",
        "datPRaM = datPRaM[~mask]\n",
        "\n",
        "#reset index just in case\n",
        "datDemo = datDemo.reset_index(drop=True)\n",
        "datPRaM = datPRaM.reset_index(drop=True)\n",
        "news = news.reset_index(drop=True)\n",
        "\n",
        "#Sort pairs accoring to prefered combination\n",
        "words = ['police', 'firefighter', 'neighbors(yours)', 'conservatives(political)', 'liberals(political)', 'healthcare', 'voting', 'immigration', 'religion', 'science', 'anger', 'fear', 'joy', 'love', 'sadness', 'trust']\n",
        "combinations_list = [list(c) for c in combinations(words, 2)]\n",
        "\n",
        "# re-organize the dataframe according to the word combination\n",
        "PairLabel = []\n",
        "x = []                  #index orders are saved as list\n",
        "for i in range(len(combinations_list)):\n",
        "\n",
        "    # Extract pair rating\n",
        "    idx0 = pairLab[pairLab.iloc[:,1].str.contains(combinations_list[i][0].replace('(', r'\\(').replace(')', r'\\)'))].index\n",
        "    idx1 = pairLab[pairLab.iloc[:,2].str.contains(combinations_list[i][1].replace('(', r'\\(').replace(')', r'\\)'))].index\n",
        "    pIndx = idx0.intersection(idx1)\n",
        "\n",
        "    # Extract pair label\n",
        "    PairLabeli = combinations_list[i][0] + '-' + combinations_list[i][1]\n",
        "    PairLabel.append(PairLabeli)\n",
        "    x.append(pIndx[0])\n",
        "\n",
        "# Pair label rating\n",
        "datPRaM_conSort = datPRaM.iloc[:,x]\n",
        "datPRaM_conSort = datPRaM_conSort.rename(columns=dict(zip(datPRaM_conSort.columns, PairLabel)))\n",
        "PairLabel = pd.DataFrame(PairLabel)"
      ],
      "metadata": {
        "id": "Y3gJYjXFp7Nu",
        "cellView": "form"
      },
      "execution_count": null,
      "outputs": []
    },
    {
      "cell_type": "code",
      "source": [
        "#@title Compute left/right simulus presentation statistics\n",
        "fullLeftList = [c for (c,z) in combinations_list]\n",
        "\n",
        "wLeftPerc = []\n",
        "for w in words:\n",
        "  leftTally = [t for t in fullLeftList if t == w]\n",
        "  wLeftPerc.append((len(leftTally)/(len(words)-1))*100)\n",
        "print('mean probability of left position = ', np.mean(wLeftPerc))\n",
        "print('The probabilities range from', min(wLeftPerc), 'to', max(wLeftPerc))"
      ],
      "metadata": {
        "cellView": "form",
        "id": "xu_WE1SedLXQ",
        "outputId": "6b8a2a8b-2117-4e4b-d9e3-bb6c42efe6eb",
        "colab": {
          "base_uri": "https://localhost:8080/"
        }
      },
      "execution_count": null,
      "outputs": [
        {
          "output_type": "stream",
          "name": "stdout",
          "text": [
            "mean probability of left position =  50.0\n",
            "The probabilities range from 0.0 to 100.0\n"
          ]
        }
      ]
    },
    {
      "cell_type": "code",
      "source": [
        "diffMax = 100\n",
        "while diffMax > 20:\n",
        "  LRrandomizer = item_randperm(2, 120)\n",
        "  reRandomizedList = [[combinations_list[i][0],combinations_list[i][1]] if value[0]==0 else [combinations_list[i][1],combinations_list[i][0]] for i,value in enumerate(LRrandomizer)]\n",
        "\n",
        "  fullLeftList = [c for (c,z) in reRandomizedList]\n",
        "\n",
        "  wLeftPerc = []\n",
        "  for w in words:\n",
        "    leftTally = [t for t in fullLeftList if t == w]\n",
        "    wLeftPerc.append((len(leftTally)/(len(words)-1))*100)\n",
        "  diffMax = max(wLeftPerc)-min(wLeftPerc)\n",
        "  print('mean probability of left position = ', np.mean(wLeftPerc))\n",
        "  print('The probabilities range from', min(wLeftPerc), 'to', max(wLeftPerc))\n",
        "  print('The range value is:', diffMax)"
      ],
      "metadata": {
        "colab": {
          "base_uri": "https://localhost:8080/"
        },
        "id": "yB_GXwdNkuOd",
        "outputId": "87447471-4714-47ad-92b1-c4411363653f"
      },
      "execution_count": null,
      "outputs": [
        {
          "output_type": "stream",
          "name": "stdout",
          "text": [
            "mean probability of left position =  50.0\n",
            "The probabilities range from 26.666666666666668 to 80.0\n",
            "The range value is: 53.33333333333333\n",
            "mean probability of left position =  50.0\n",
            "The probabilities range from 20.0 to 66.66666666666666\n",
            "The range value is: 46.66666666666666\n",
            "mean probability of left position =  50.0\n",
            "The probabilities range from 33.33333333333333 to 73.33333333333333\n",
            "The range value is: 40.0\n",
            "mean probability of left position =  49.99999999999999\n",
            "The probabilities range from 33.33333333333333 to 73.33333333333333\n",
            "The range value is: 40.0\n",
            "mean probability of left position =  50.0\n",
            "The probabilities range from 33.33333333333333 to 80.0\n",
            "The range value is: 46.66666666666667\n",
            "mean probability of left position =  50.0\n",
            "The probabilities range from 33.33333333333333 to 73.33333333333333\n",
            "The range value is: 40.0\n",
            "mean probability of left position =  50.0\n",
            "The probabilities range from 33.33333333333333 to 80.0\n",
            "The range value is: 46.66666666666667\n",
            "mean probability of left position =  50.0\n",
            "The probabilities range from 26.666666666666668 to 80.0\n",
            "The range value is: 53.33333333333333\n",
            "mean probability of left position =  50.0\n",
            "The probabilities range from 33.33333333333333 to 66.66666666666666\n",
            "The range value is: 33.33333333333333\n",
            "mean probability of left position =  50.0\n",
            "The probabilities range from 26.666666666666668 to 60.0\n",
            "The range value is: 33.33333333333333\n",
            "mean probability of left position =  50.0\n",
            "The probabilities range from 13.333333333333334 to 66.66666666666666\n",
            "The range value is: 53.33333333333332\n",
            "mean probability of left position =  50.0\n",
            "The probabilities range from 26.666666666666668 to 66.66666666666666\n",
            "The range value is: 39.999999999999986\n",
            "mean probability of left position =  49.99999999999999\n",
            "The probabilities range from 26.666666666666668 to 73.33333333333333\n",
            "The range value is: 46.66666666666666\n",
            "mean probability of left position =  50.0\n",
            "The probabilities range from 26.666666666666668 to 80.0\n",
            "The range value is: 53.33333333333333\n",
            "mean probability of left position =  50.0\n",
            "The probabilities range from 20.0 to 73.33333333333333\n",
            "The range value is: 53.33333333333333\n",
            "mean probability of left position =  50.0\n",
            "The probabilities range from 26.666666666666668 to 73.33333333333333\n",
            "The range value is: 46.66666666666666\n",
            "mean probability of left position =  50.0\n",
            "The probabilities range from 26.666666666666668 to 66.66666666666666\n",
            "The range value is: 39.999999999999986\n",
            "mean probability of left position =  50.0\n",
            "The probabilities range from 20.0 to 80.0\n",
            "The range value is: 60.0\n",
            "mean probability of left position =  50.0\n",
            "The probabilities range from 26.666666666666668 to 73.33333333333333\n",
            "The range value is: 46.66666666666666\n",
            "mean probability of left position =  50.0\n",
            "The probabilities range from 20.0 to 73.33333333333333\n",
            "The range value is: 53.33333333333333\n",
            "mean probability of left position =  50.0\n",
            "The probabilities range from 13.333333333333334 to 73.33333333333333\n",
            "The range value is: 59.99999999999999\n",
            "mean probability of left position =  50.0\n",
            "The probabilities range from 26.666666666666668 to 66.66666666666666\n",
            "The range value is: 39.999999999999986\n",
            "mean probability of left position =  50.0\n",
            "The probabilities range from 26.666666666666668 to 66.66666666666666\n",
            "The range value is: 39.999999999999986\n",
            "mean probability of left position =  49.99999999999999\n",
            "The probabilities range from 33.33333333333333 to 73.33333333333333\n",
            "The range value is: 40.0\n",
            "mean probability of left position =  50.0\n",
            "The probabilities range from 26.666666666666668 to 73.33333333333333\n",
            "The range value is: 46.66666666666666\n",
            "mean probability of left position =  49.99999999999999\n",
            "The probabilities range from 33.33333333333333 to 66.66666666666666\n",
            "The range value is: 33.33333333333333\n",
            "mean probability of left position =  50.0\n",
            "The probabilities range from 26.666666666666668 to 73.33333333333333\n",
            "The range value is: 46.66666666666666\n",
            "mean probability of left position =  50.0\n",
            "The probabilities range from 40.0 to 60.0\n",
            "The range value is: 20.0\n"
          ]
        }
      ]
    }
  ]
}
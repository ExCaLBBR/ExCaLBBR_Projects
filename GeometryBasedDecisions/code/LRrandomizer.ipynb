{
  "nbformat": 4,
  "nbformat_minor": 0,
  "metadata": {
    "colab": {
      "provenance": [],
      "machine_shape": "hm",
      "gpuType": "V100",
      "include_colab_link": true
    },
    "kernelspec": {
      "name": "python3",
      "display_name": "Python 3"
    },
    "language_info": {
      "name": "python"
    }
  },
  "cells": [
    {
      "cell_type": "markdown",
      "metadata": {
        "id": "view-in-github",
        "colab_type": "text"
      },
      "source": [
        "<a href=\"https://colab.research.google.com/github/ExCaLBBR/ExCaLBBR_Projects/blob/main/GeometryBasedDecisions/code/LRrandomizer.ipynb\" target=\"_parent\"><img src=\"https://colab.research.google.com/assets/colab-badge.svg\" alt=\"Open In Colab\"/></a>"
      ]
    },
    {
      "cell_type": "markdown",
      "source": [
        "#Find Left-Right randomization for PRaM stimuli presentation"
      ],
      "metadata": {
        "id": "O4Gme4COyVnz"
      }
    },
    {
      "cell_type": "code",
      "source": [
        "#@title Install dependancies\n",
        "import numpy as np\n",
        "import pandas as pd\n",
        "from matplotlib import pyplot as plt\n",
        "from itertools import combinations\n",
        "import csv"
      ],
      "metadata": {
        "id": "SEWVqBcKx9KO",
        "collapsed": true,
        "cellView": "form"
      },
      "execution_count": 35,
      "outputs": []
    },
    {
      "cell_type": "code",
      "source": [
        "#@title Define Utility Functions\n",
        "def item_randperm(ntimes, nperm):\n",
        "    '''\n",
        "      p = item_randperm(nitems,nperm)\n",
        "      Parameters: number of items, number of random permutations\n",
        "      Output: a matrix with nperm rows;\n",
        "      Each row is an index of permuted item positions.\n",
        "\n",
        "      returns a matrix (n,nitems)\n",
        "      each row is a random permutation of nitems (labelled 1:nitems)\n",
        "      produces n such permutations\n",
        "      the random seed is changed at every call\n",
        "    '''\n",
        "\n",
        "    p = np.zeros((nperm, ntimes))\n",
        "    for i in range(nperm):\n",
        "        p[i,:] = np.random.permutation(ntimes)\n",
        "\n",
        "    return p"
      ],
      "metadata": {
        "id": "hlRGP67on-WW",
        "cellView": "form"
      },
      "execution_count": 36,
      "outputs": []
    },
    {
      "cell_type": "code",
      "source": [
        "#@title Define arbitrary word list\n",
        "\n",
        "#Sort pairs accoring to prefered combination\n",
        "words = ['police', 'firefighter', 'neighbors(yours)', 'conservatives(political)', 'liberals(political)', 'healthcare', 'voting', 'immigration', 'religion', 'science', 'anger', 'fear', 'joy', 'love', 'sadness', 'trust']\n",
        "combinations_list = [list(c) for c in combinations(words, 2)]"
      ],
      "metadata": {
        "id": "Y3gJYjXFp7Nu",
        "cellView": "form"
      },
      "execution_count": 37,
      "outputs": []
    },
    {
      "cell_type": "code",
      "source": [
        "#@title Compute worst case left/right simulus presentation statistics\n",
        "fullLeftList = [c for (c,z) in combinations_list]\n",
        "\n",
        "wLeftPerc = []\n",
        "for w in words:\n",
        "  leftTally = [t for t in fullLeftList if t == w]\n",
        "  wLeftPerc.append((len(leftTally)/(len(words)-1))*100)\n",
        "print('mean probability of left position = ', np.mean(wLeftPerc))\n",
        "print('The probabilities range from', min(wLeftPerc), 'to', max(wLeftPerc))"
      ],
      "metadata": {
        "cellView": "form",
        "id": "xu_WE1SedLXQ",
        "outputId": "f6ae8790-0b44-4e5d-c23d-be27fe18486c",
        "colab": {
          "base_uri": "https://localhost:8080/"
        }
      },
      "execution_count": 39,
      "outputs": [
        {
          "output_type": "stream",
          "name": "stdout",
          "text": [
            "mean probability of left position =  50.0\n",
            "The probabilities range from 0.0 to 100.0\n"
          ]
        }
      ]
    },
    {
      "cell_type": "code",
      "source": [
        "#@title Find gold standard randomization\n",
        "perm = 10000\n",
        "e = 0\n",
        "\n",
        "rangeDist = []\n",
        "\n",
        "while e != perm:\n",
        "  LRrandomizer = item_randperm(2, 120)\n",
        "  reRandomizedList = [[combinations_list[i][0],combinations_list[i][1]] if value[0]==0 else [combinations_list[i][1],combinations_list[i][0]] for i,value in enumerate(LRrandomizer)]\n",
        "\n",
        "  fullLeftList = [c for (c,z) in reRandomizedList]\n",
        "\n",
        "  wLeftPerc = []\n",
        "  for w in words:\n",
        "    leftTally = [t for t in fullLeftList if t == w]\n",
        "    wLeftPerc.append((len(leftTally)/(len(words)-1))*100)\n",
        "  diffMax = max(wLeftPerc)-min(wLeftPerc)\n",
        "  # print('mean probability of left position = ', np.mean(wLeftPerc))\n",
        "  # print('The probabilities range from', min(wLeftPerc), 'to', max(wLeftPerc))\n",
        "  # print('The range value is:', diffMax)\n",
        "  rangeDist.append(diffMax)\n",
        "  e = e+1\n",
        "plt.hist(rangeDist)\n",
        "print('The minimum difference is: ' + str(min(rangeDist)))"
      ],
      "metadata": {
        "colab": {
          "base_uri": "https://localhost:8080/",
          "height": 447
        },
        "id": "yB_GXwdNkuOd",
        "outputId": "fb7b4385-b2fb-42d9-b830-e65153f6045f",
        "cellView": "form"
      },
      "execution_count": 46,
      "outputs": [
        {
          "output_type": "stream",
          "name": "stdout",
          "text": [
            "The minimum difference is: 13.333333333333336\n"
          ]
        },
        {
          "output_type": "display_data",
          "data": {
            "text/plain": [
              "<Figure size 640x480 with 1 Axes>"
            ],
            "image/png": "[encoded data removed]"
          },
          "metadata": {}
        }
      ]
    },
    {
      "cell_type": "code",
      "source": [
        "#@title Find final perm and save output\n",
        "while diffMax > min(rangeDist):\n",
        "  LRrandomizer = item_randperm(2, 120)\n",
        "  reRandomizedList = [[combinations_list[i][0],combinations_list[i][1]] if value[0]==0 else [combinations_list[i][1],combinations_list[i][0]] for i,value in enumerate(LRrandomizer)]\n",
        "\n",
        "  fullLeftList = [c for (c,z) in reRandomizedList]\n",
        "\n",
        "  wLeftPerc = []\n",
        "  for w in words:\n",
        "    leftTally = [t for t in fullLeftList if t == w]\n",
        "    wLeftPerc.append((len(leftTally)/(len(words)-1))*100)\n",
        "  diffMax = max(wLeftPerc)-min(wLeftPerc)\n",
        "  print('mean probability of left position = ', np.mean(wLeftPerc))\n",
        "  print('The probabilities range from', min(wLeftPerc), 'to', max(wLeftPerc))\n",
        "  print('The range value is:', diffMax)"
      ],
      "metadata": {
        "id": "zxtMI9MmFZqx"
      },
      "execution_count": null,
      "outputs": []
    }
  ]
}
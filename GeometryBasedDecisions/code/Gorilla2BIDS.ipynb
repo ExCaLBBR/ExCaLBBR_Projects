{
  "nbformat": 4,
  "nbformat_minor": 0,
  "metadata": {
    "colab": {
      "provenance": [],
      "include_colab_link": true
    },
    "kernelspec": {
      "name": "python3",
      "display_name": "Python 3"
    },
    "language_info": {
      "name": "python"
    }
  },
  "cells": [
    {
      "cell_type": "markdown",
      "metadata": {
        "id": "view-in-github",
        "colab_type": "text"
      },
      "source": [
        "<a href=\"https://colab.research.google.com/github/ExCaLBBR/ExCaLBBR_Projects/blob/main/GeometryBasedDecisions/code/Gorilla2BIDS.ipynb\" target=\"_parent\"><img src=\"https://colab.research.google.com/assets/colab-badge.svg\" alt=\"Open In Colab\"/></a>"
      ]
    },
    {
      "cell_type": "markdown",
      "source": [
        "Gorilla Info: <br>\n",
        "Project: GeometryBasedDecisions <br>\n",
        "Account: Roberto Vargas (robertov@andrew.cmu.edu)"
      ],
      "metadata": {
        "id": "C9mud3ByqVgH"
      }
    },
    {
      "cell_type": "code",
      "source": [
        "#@title Install Dependancies\n",
        "import pandas as pd\n",
        "import numpy as np\n",
        "import re"
      ],
      "metadata": {
        "id": "08gBma2_ivoE"
      },
      "execution_count": 12,
      "outputs": []
    },
    {
      "cell_type": "code",
      "source": [
        "#@title Utility Functions\n",
        "\n",
        "def convert_to_float(x):\n",
        "    if isinstance(x, list):\n",
        "        return float(x[0]) # assuming there is only one value in the list\n",
        "    else:\n",
        "        return x"
      ],
      "metadata": {
        "id": "3dArzVdYA-mz",
        "cellView": "form"
      },
      "execution_count": 13,
      "outputs": []
    },
    {
      "cell_type": "code",
      "source": [
        "#@title Load Data\n",
        "\n",
        "#QUESTIONAIRRES:\n",
        "#Demographics\n",
        "url = 'https://raw.githubusercontent.com/ExCaLBBR/ExCaLBBR_Projects/refs/heads/main/GeometryBasedDecisions/data/raw/raw_demographic.csv'\n",
        "df_demographic = pd.read_csv(url)\n",
        "\n",
        "#News Consumption\n",
        "url = 'https://raw.githubusercontent.com/ExCaLBBR/ExCaLBBR_Projects/refs/heads/main/GeometryBasedDecisions/data/raw/raw_questionnaire_NewsConsumption.csv'\n",
        "df_News = pd.read_csv(url)\n",
        "\n",
        "#Concept Engagement Pt1\n",
        "url = 'https://github.com/ExCaLBBR/ExCaLBBR_Projects/raw/refs/heads/main/GeometryBasedDecisions/data/raw/raw_task_SocConEngagePt1.csv'\n",
        "df_ConEngPt1 = pd.read_csv(url)\n",
        "\n",
        "#Concept Engagement Pt23\n",
        "url = 'https://github.com/ExCaLBBR/ExCaLBBR_Projects/raw/refs/heads/main/GeometryBasedDecisions/data/raw/raw_questionnaire_SocConEngagePt23.csv'\n",
        "df_ConEngPt23 = pd.read_csv(url)\n",
        "\n",
        "#PurposeQ\n",
        "url = 'https://raw.githubusercontent.com/ExCaLBBR/ExCaLBBR_Projects/refs/heads/main/GeometryBasedDecisions/data/raw/raw_questionnaire_PurposeQ.csv'\n",
        "df_PurposeQ = pd.read_csv(url)\n",
        "\n",
        "#TASKS:\n",
        "#PRaM\n",
        "url = 'https://github.com/ExCaLBBR/ExCaLBBR_Projects/raw/refs/heads/main/GeometryBasedDecisions/data/raw/raw_task_PRaM.csv.gz'\n",
        "df_taskPRaM = pd.read_csv(url, compression='gzip')\n"
      ],
      "metadata": {
        "colab": {
          "base_uri": "https://localhost:8080/"
        },
        "id": "NA7mXjvZZldd",
        "outputId": "a821864d-553e-4665-85e9-144ae7cb6c42"
      },
      "execution_count": 14,
      "outputs": [
        {
          "output_type": "stream",
          "name": "stderr",
          "text": [
            "<ipython-input-14-8429c8b7a8a7>:6: DtypeWarning: Columns (0) have mixed types. Specify dtype option on import or set low_memory=False.\n",
            "  df_demographic = pd.read_csv(url)\n",
            "<ipython-input-14-8429c8b7a8a7>:14: DtypeWarning: Columns (0) have mixed types. Specify dtype option on import or set low_memory=False.\n",
            "  df_ConEngPt1 = pd.read_csv(url)\n",
            "<ipython-input-14-8429c8b7a8a7>:27: DtypeWarning: Columns (0,36,39) have mixed types. Specify dtype option on import or set low_memory=False.\n",
            "  df_taskPRaM = pd.read_csv(url, compression='gzip')\n"
          ]
        }
      ]
    },
    {
      "cell_type": "code",
      "source": [
        "df_ConEngPt1"
      ],
      "metadata": {
        "id": "BCJd9Z0Z7FnD",
        "outputId": "7b973faa-2059-4472-f737-9a0050339ce1",
        "colab": {
          "base_uri": "https://localhost:8080/",
          "height": 89
        }
      },
      "execution_count": 22,
      "outputs": [
        {
          "output_type": "execute_result",
          "data": {
            "text/plain": [
              "Empty DataFrame\n",
              "Columns: [Participant Private ID, Response]\n",
              "Index: []"
            ],
            "text/html": [
              "\n",
              "  <div id=\"df-3dbb053c-55b4-4615-b655-961d0a3403d4\" class=\"colab-df-container\">\n",
              "    <div>\n",
              "<style scoped>\n",
              "    .dataframe tbody tr th:only-of-type {\n",
              "        vertical-align: middle;\n",
              "    }\n",
              "\n",
              "    .dataframe tbody tr th {\n",
              "        vertical-align: top;\n",
              "    }\n",
              "\n",
              "    .dataframe thead th {\n",
              "        text-align: right;\n",
              "    }\n",
              "</style>\n",
              "<table border=\"1\" class=\"dataframe\">\n",
              "  <thead>\n",
              "    <tr style=\"text-align: right;\">\n",
              "      <th></th>\n",
              "      <th>Participant Private ID</th>\n",
              "      <th>Response</th>\n",
              "    </tr>\n",
              "  </thead>\n",
              "  <tbody>\n",
              "  </tbody>\n",
              "</table>\n",
              "</div>\n",
              "    <div class=\"colab-df-buttons\">\n",
              "\n",
              "  <div class=\"colab-df-container\">\n",
              "    <button class=\"colab-df-convert\" onclick=\"convertToInteractive('df-3dbb053c-55b4-4615-b655-961d0a3403d4')\"\n",
              "            title=\"Convert this dataframe to an interactive table.\"\n",
              "            style=\"display:none;\">\n",
              "\n",
              "  <svg xmlns=\"http://www.w3.org/2000/svg\" height=\"24px\" viewBox=\"0 -960 960 960\">\n",
              "    <path d=\"M120-120v-720h720v720H120Zm60-500h600v-160H180v160Zm220 220h160v-160H400v160Zm0 220h160v-160H400v160ZM180-400h160v-160H180v160Zm440 0h160v-160H620v160ZM180-180h160v-160H180v160Zm440 0h160v-160H620v160Z\"/>\n",
              "  </svg>\n",
              "    </button>\n",
              "\n",
              "  <style>\n",
              "    .colab-df-container {\n",
              "      display:flex;\n",
              "      gap: 12px;\n",
              "    }\n",
              "\n",
              "    .colab-df-convert {\n",
              "      background-color: #E8F0FE;\n",
              "      border: none;\n",
              "      border-radius: 50%;\n",
              "      cursor: pointer;\n",
              "      display: none;\n",
              "      fill: #1967D2;\n",
              "      height: 32px;\n",
              "      padding: 0 0 0 0;\n",
              "      width: 32px;\n",
              "    }\n",
              "\n",
              "    .colab-df-convert:hover {\n",
              "      background-color: #E2EBFA;\n",
              "      box-shadow: 0px 1px 2px rgba(60, 64, 67, 0.3), 0px 1px 3px 1px rgba(60, 64, 67, 0.15);\n",
              "      fill: #174EA6;\n",
              "    }\n",
              "\n",
              "    .colab-df-buttons div {\n",
              "      margin-bottom: 4px;\n",
              "    }\n",
              "\n",
              "    [theme=dark] .colab-df-convert {\n",
              "      background-color: #3B4455;\n",
              "      fill: #D2E3FC;\n",
              "    }\n",
              "\n",
              "    [theme=dark] .colab-df-convert:hover {\n",
              "      background-color: #434B5C;\n",
              "      box-shadow: 0px 1px 3px 1px rgba(0, 0, 0, 0.15);\n",
              "      filter: drop-shadow(0px 1px 2px rgba(0, 0, 0, 0.3));\n",
              "      fill: #FFFFFF;\n",
              "    }\n",
              "  </style>\n",
              "\n",
              "    <script>\n",
              "      const buttonEl =\n",
              "        document.querySelector('#df-3dbb053c-55b4-4615-b655-961d0a3403d4 button.colab-df-convert');\n",
              "      buttonEl.style.display =\n",
              "        google.colab.kernel.accessAllowed ? 'block' : 'none';\n",
              "\n",
              "      async function convertToInteractive(key) {\n",
              "        const element = document.querySelector('#df-3dbb053c-55b4-4615-b655-961d0a3403d4');\n",
              "        const dataTable =\n",
              "          await google.colab.kernel.invokeFunction('convertToInteractive',\n",
              "                                                    [key], {});\n",
              "        if (!dataTable) return;\n",
              "\n",
              "        const docLinkHtml = 'Like what you see? Visit the ' +\n",
              "          '<a target=\"_blank\" href=https://colab.research.google.com/notebooks/data_table.ipynb>data table notebook</a>'\n",
              "          + ' to learn more about interactive tables.';\n",
              "        element.innerHTML = '';\n",
              "        dataTable['output_type'] = 'display_data';\n",
              "        await google.colab.output.renderOutput(dataTable, element);\n",
              "        const docLink = document.createElement('div');\n",
              "        docLink.innerHTML = docLinkHtml;\n",
              "        element.appendChild(docLink);\n",
              "      }\n",
              "    </script>\n",
              "  </div>\n",
              "\n",
              "\n",
              "  <div id=\"id_8123049c-3961-44aa-8dbd-69208aa129ac\">\n",
              "    <style>\n",
              "      .colab-df-generate {\n",
              "        background-color: #E8F0FE;\n",
              "        border: none;\n",
              "        border-radius: 50%;\n",
              "        cursor: pointer;\n",
              "        display: none;\n",
              "        fill: #1967D2;\n",
              "        height: 32px;\n",
              "        padding: 0 0 0 0;\n",
              "        width: 32px;\n",
              "      }\n",
              "\n",
              "      .colab-df-generate:hover {\n",
              "        background-color: #E2EBFA;\n",
              "        box-shadow: 0px 1px 2px rgba(60, 64, 67, 0.3), 0px 1px 3px 1px rgba(60, 64, 67, 0.15);\n",
              "        fill: #174EA6;\n",
              "      }\n",
              "\n",
              "      [theme=dark] .colab-df-generate {\n",
              "        background-color: #3B4455;\n",
              "        fill: #D2E3FC;\n",
              "      }\n",
              "\n",
              "      [theme=dark] .colab-df-generate:hover {\n",
              "        background-color: #434B5C;\n",
              "        box-shadow: 0px 1px 3px 1px rgba(0, 0, 0, 0.15);\n",
              "        filter: drop-shadow(0px 1px 2px rgba(0, 0, 0, 0.3));\n",
              "        fill: #FFFFFF;\n",
              "      }\n",
              "    </style>\n",
              "    <button class=\"colab-df-generate\" onclick=\"generateWithVariable('df_ConEngPt1')\"\n",
              "            title=\"Generate code using this dataframe.\"\n",
              "            style=\"display:none;\">\n",
              "\n",
              "  <svg xmlns=\"http://www.w3.org/2000/svg\" height=\"24px\"viewBox=\"0 0 24 24\"\n",
              "       width=\"24px\">\n",
              "    <path d=\"M7,19H8.4L18.45,9,17,7.55,7,17.6ZM5,21V16.75L18.45,3.32a2,2,0,0,1,2.83,0l1.4,1.43a1.91,1.91,0,0,1,.58,1.4,1.91,1.91,0,0,1-.58,1.4L9.25,21ZM18.45,9,17,7.55Zm-12,3A5.31,5.31,0,0,0,4.9,8.1,5.31,5.31,0,0,0,1,6.5,5.31,5.31,0,0,0,4.9,4.9,5.31,5.31,0,0,0,6.5,1,5.31,5.31,0,0,0,8.1,4.9,5.31,5.31,0,0,0,12,6.5,5.46,5.46,0,0,0,6.5,12Z\"/>\n",
              "  </svg>\n",
              "    </button>\n",
              "    <script>\n",
              "      (() => {\n",
              "      const buttonEl =\n",
              "        document.querySelector('#id_8123049c-3961-44aa-8dbd-69208aa129ac button.colab-df-generate');\n",
              "      buttonEl.style.display =\n",
              "        google.colab.kernel.accessAllowed ? 'block' : 'none';\n",
              "\n",
              "      buttonEl.onclick = () => {\n",
              "        google.colab.notebook.generateWithVariable('df_ConEngPt1');\n",
              "      }\n",
              "      })();\n",
              "    </script>\n",
              "  </div>\n",
              "\n",
              "    </div>\n",
              "  </div>\n"
            ],
            "application/vnd.google.colaboratory.intrinsic+json": {
              "type": "dataframe",
              "variable_name": "df_ConEngPt1",
              "repr_error": "Out of range float values are not JSON compliant: nan"
            }
          },
          "metadata": {},
          "execution_count": 22
        }
      ]
    },
    {
      "cell_type": "code",
      "source": [
        "#Isolate relevant columns: Demographics\n",
        "include = ['Participant Private ID', 'Question', 'Key', 'Response']\n",
        "df_demographic.drop(columns=df_demographic.columns.difference(include), inplace=True)\n",
        "mask = df_demographic['Response'].str.contains('BEGIN', na=True) | df_demographic['Response'].str.contains('END', na=True)\n",
        "df_demographic = df_demographic[~mask]\n",
        "\n",
        "#Isolate relevant columns: News Consumption\n",
        "include = ['Participant Private ID', 'Question', 'Key', 'Response']\n",
        "df_News.drop(columns=df_News.columns.difference(include), inplace=True)\n",
        "mask = df_News['Response'].str.contains('BEGIN', na=True) | df_News['Response'].str.contains('END', na=True)\n",
        "df_News = df_News[~mask]\n",
        "\n",
        "#Isolate relevant columns: Concept Engagement Pt1 [DEBUG RELEVANT COLUMNS]\n",
        "include = ['Participant Private ID', 'Question', 'Key', 'Response']\n",
        "df_ConEngPt1.drop(columns=df_ConEngPt1.columns.difference(include), inplace=True)\n",
        "mask = df_ConEngPt1['Response'].str.contains('BEGIN', na=True) | df_ConEngPt1['Response'].str.contains('END', na=True)\n",
        "df_ConEngPt1 = df_ConEngPt1[~mask]\n",
        "\n",
        "#Isolate relevant columns: Concept Engagement Pt23 [DEBUG RELEVANT COLUMNS]\n",
        "include = ['Participant Private ID', 'Question', 'Key', 'Response']\n",
        "df_ConEngPt23.drop(columns=df_ConEngPt23.columns.difference(include), inplace=True)\n",
        "mask = df_ConEngPt23['Response'].str.contains('BEGIN', na=True) | df_ConEngPt23['Response'].str.contains('END', na=True)\n",
        "df_ConEngPt23 = df_ConEngPt23[~mask]\n",
        "\n",
        "#Isolate relevant columns: PurposeQ [DEBUG RELEVANT COLUMNS]\n",
        "include = ['Participant Private ID', 'Question', 'Key', 'Response']\n",
        "df_PurposeQ.drop(columns=df_PurposeQ.columns.difference(include), inplace=True)\n",
        "mask = df_PurposeQ['Response'].str.contains('BEGIN', na=True) | df_PurposeQ['Response'].str.contains('END', na=True)\n",
        "df_PurposeQ = df_PurposeQ[~mask]\n",
        "\n",
        "#Isolate relevant columns: PRaM\n",
        "include = ['Participant Private ID', 'Zone Name', 'conceptA', 'conceptB', 'Response']\n",
        "df_taskPRaM.drop(columns=df_taskPRaM.columns.difference(include), inplace=True)\n",
        "mask = df_taskPRaM['Zone Name'].str.contains('Likert', na=True)\n",
        "df_taskPRaM = df_taskPRaM[mask]\n",
        "df_taskPRaM = df_taskPRaM.dropna()\n",
        "df_taskPRaM.drop(columns=['Zone Name'], inplace=True)\n",
        "df_taskPRaM['Pair'] = df_taskPRaM['conceptA'] + '-' + df_taskPRaM['conceptB']\n",
        "df_taskPRaM.drop(columns=['conceptA', 'conceptB'], inplace=True)\n"
      ],
      "metadata": {
        "id": "6LwvqmKec1MJ"
      },
      "execution_count": null,
      "outputs": []
    },
    {
      "cell_type": "code",
      "source": [
        "#Isolate Pivot dataframes\n",
        "df_demographic = df_demographic.pivot(index = 'Participant Private ID', columns = ['Question', 'Key'], values = ['Response']) #Demographics\n",
        "\n",
        "df_News = df_News.pivot(index = 'Participant Private ID', columns = ['Question', 'Key'], values = ['Response']) #News Consumption\n",
        "\n",
        "df_ConEngPt1 = df_ConEngPt1.pivot(index = 'Participant Private ID', columns = ['Question', 'Key'], values = ['Response']) #News Consumption\n",
        "\n",
        "df_ConEngPt23 = df_ConEngPt23.pivot(index = 'Participant Private ID', columns = ['Question', 'Key'], values = ['Response']) #News Consumption\n",
        "\n",
        "df_PurposeQ = df_PurposeQ.pivot(index = 'Participant Private ID', columns = ['Question', 'Key'], values = ['Response']) #News Consumption\n",
        "\n",
        "#TASKS:\n",
        "df_taskPRaM = df_taskPRaM.groupby(['Participant Private ID', 'Pair'])['Response'].agg(list).reset_index()\n",
        "df_taskPRaM = df_taskPRaM.pivot(index='Participant Private ID', columns='Pair', values='Response')\n",
        "df_taskPRaM = df_taskPRaM.applymap(convert_to_float)\n"
      ],
      "metadata": {
        "id": "8dzVwNOoDY5V",
        "colab": {
          "base_uri": "https://localhost:8080/"
        },
        "outputId": "13bc2180-04e8-4579-c8e1-80c5120d8008"
      },
      "execution_count": null,
      "outputs": [
        {
          "output_type": "stream",
          "name": "stderr",
          "text": [
            "<ipython-input-79-efd625e67af2>:15: FutureWarning: DataFrame.applymap has been deprecated. Use DataFrame.map instead.\n",
            "  df_taskPRaM = df_taskPRaM.applymap(convert_to_float)\n"
          ]
        }
      ]
    },
    {
      "cell_type": "code",
      "source": [
        "#Convert all files to csv\n",
        "df_demographic.to_csv('demographic.csv')\n",
        "df_News.to_csv('df_News.csv')\n",
        "df_ConEngPt1.to_csv('df_ConEngPt1.csv')\n",
        "df_ConEngPt23.to_csv('df_ConEngPt23.csv')\n",
        "df_PurposeQ.to_csv('df_PurposeQ.csv')\n",
        "df_taskPRaM.to_csv('df_taskPRaM.csv')"
      ],
      "metadata": {
        "id": "GHGoq3mGSf5Q"
      },
      "execution_count": null,
      "outputs": []
    },
    {
      "cell_type": "code",
      "source": [
        "#Offline Processing is as follows:\n",
        "\n",
        "#Remove nested columns\n",
        "#Rename column headers to be more intuitive\n",
        "#News: Added AllSides coding (10/23)"
      ],
      "metadata": {
        "id": "2aeCX-t44XIa"
      },
      "execution_count": null,
      "outputs": []
    }
  ]
}
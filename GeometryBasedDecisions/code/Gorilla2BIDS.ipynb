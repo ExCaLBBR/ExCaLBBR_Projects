{
  "nbformat": 4,
  "nbformat_minor": 0,
  "metadata": {
    "colab": {
      "provenance": [],
      "include_colab_link": true
    },
    "kernelspec": {
      "name": "python3",
      "display_name": "Python 3"
    },
    "language_info": {
      "name": "python"
    }
  },
  "cells": [
    {
      "cell_type": "markdown",
      "metadata": {
        "id": "view-in-github",
        "colab_type": "text"
      },
      "source": [
        "<a href=\"https://colab.research.google.com/github/ExCaLBBR/ExCaLBBR_Projects/blob/main/GeometryBasedDecisions/code/Gorilla2BIDS.ipynb\" target=\"_parent\"><img src=\"https://colab.research.google.com/assets/colab-badge.svg\" alt=\"Open In Colab\"/></a>"
      ]
    },
    {
      "cell_type": "markdown",
      "source": [
        "Gorilla Info: <br>\n",
        "Project: GeometryBasedDecisions <br>\n",
        "Account: Roberto Vargas (robertov@andrew.cmu.edu)"
      ],
      "metadata": {
        "id": "C9mud3ByqVgH"
      }
    },
    {
      "cell_type": "code",
      "source": [
        "#@title Install Dependancies\n",
        "import pandas as pd\n",
        "import numpy as np\n",
        "import re"
      ],
      "metadata": {
        "id": "08gBma2_ivoE"
      },
      "execution_count": 1,
      "outputs": []
    },
    {
      "cell_type": "code",
      "source": [
        "#@title Utility Functions\n",
        "\n",
        "def convert_to_float(x):\n",
        "    if isinstance(x, list):\n",
        "        return float(x[0]) # assuming there is only one value in the list\n",
        "    else:\n",
        "        return x"
      ],
      "metadata": {
        "id": "3dArzVdYA-mz",
        "cellView": "form"
      },
      "execution_count": 2,
      "outputs": []
    },
    {
      "cell_type": "code",
      "source": [
        "#@title Load Data\n",
        "\n",
        "#QUESTIONAIRRES:\n",
        "#Demographics\n",
        "url = 'https://raw.githubusercontent.com/ExCaLBBR/ExCaLBBR_Projects/refs/heads/main/GeometryBasedDecisions/data/raw/raw_demographic.csv'\n",
        "df_demographic = pd.read_csv(url)\n",
        "\n",
        "#News Consumption\n",
        "url = 'https://raw.githubusercontent.com/ExCaLBBR/ExCaLBBR_Projects/refs/heads/main/GeometryBasedDecisions/data/raw/raw_questionnaire_NewsConsumption.csv'\n",
        "df_News = pd.read_csv(url)\n",
        "\n",
        "#Concept Engagement Pt1\n",
        "url = 'https://github.com/ExCaLBBR/ExCaLBBR_Projects/raw/refs/heads/main/GeometryBasedDecisions/data/raw/raw_task_SocConEngagePt1.csv'\n",
        "df_ConEngPt1 = pd.read_csv(url)\n",
        "\n",
        "#Concept Engagement Pt23\n",
        "url = 'https://github.com/ExCaLBBR/ExCaLBBR_Projects/raw/refs/heads/main/GeometryBasedDecisions/data/raw/raw_questionnaire_SocConEngagePt23.csv'\n",
        "df_ConEngPt23 = pd.read_csv(url)\n",
        "\n",
        "#PurposeQ\n",
        "url = 'https://raw.githubusercontent.com/ExCaLBBR/ExCaLBBR_Projects/refs/heads/main/GeometryBasedDecisions/data/raw/raw_questionnaire_PurposeQ.csv'\n",
        "df_PurposeQ = pd.read_csv(url)\n",
        "\n",
        "#TASKS:\n",
        "#PRaM\n",
        "url = 'https://github.com/ExCaLBBR/ExCaLBBR_Projects/raw/refs/heads/main/GeometryBasedDecisions/data/raw/raw_task_PRaM.csv.gz'\n",
        "df_taskPRaM = pd.read_csv(url, compression='gzip')\n"
      ],
      "metadata": {
        "colab": {
          "base_uri": "https://localhost:8080/"
        },
        "id": "NA7mXjvZZldd",
        "outputId": "5c85c75e-aed6-429e-ef35-9a7d53db949c"
      },
      "execution_count": 8,
      "outputs": [
        {
          "output_type": "stream",
          "name": "stderr",
          "text": [
            "<ipython-input-8-8429c8b7a8a7>:6: DtypeWarning: Columns (0) have mixed types. Specify dtype option on import or set low_memory=False.\n",
            "  df_demographic = pd.read_csv(url)\n",
            "<ipython-input-8-8429c8b7a8a7>:14: DtypeWarning: Columns (0) have mixed types. Specify dtype option on import or set low_memory=False.\n",
            "  df_ConEngPt1 = pd.read_csv(url)\n",
            "<ipython-input-8-8429c8b7a8a7>:27: DtypeWarning: Columns (0,36,39) have mixed types. Specify dtype option on import or set low_memory=False.\n",
            "  df_taskPRaM = pd.read_csv(url, compression='gzip')\n"
          ]
        }
      ]
    },
    {
      "cell_type": "code",
      "source": [
        "df_ConEngPt23['Participant Private ID']"
      ],
      "metadata": {
        "id": "WKKpZdEf5euy",
        "outputId": "654f4891-bd82-4cdd-941a-7ea2ff491c16",
        "colab": {
          "base_uri": "https://localhost:8080/",
          "height": 458
        }
      },
      "execution_count": 11,
      "outputs": [
        {
          "output_type": "execute_result",
          "data": {
            "text/plain": [
              "0             NaN\n",
              "1      11889642.0\n",
              "2      11889648.0\n",
              "3      11889644.0\n",
              "4      11889649.0\n",
              "          ...    \n",
              "596    11892201.0\n",
              "597    11892162.0\n",
              "598    11892079.0\n",
              "599    11891981.0\n",
              "600           NaN\n",
              "Name: Participant Private ID, Length: 601, dtype: float64"
            ],
            "text/html": [
              "<div>\n",
              "<style scoped>\n",
              "    .dataframe tbody tr th:only-of-type {\n",
              "        vertical-align: middle;\n",
              "    }\n",
              "\n",
              "    .dataframe tbody tr th {\n",
              "        vertical-align: top;\n",
              "    }\n",
              "\n",
              "    .dataframe thead th {\n",
              "        text-align: right;\n",
              "    }\n",
              "</style>\n",
              "<table border=\"1\" class=\"dataframe\">\n",
              "  <thead>\n",
              "    <tr style=\"text-align: right;\">\n",
              "      <th></th>\n",
              "      <th>Participant Private ID</th>\n",
              "    </tr>\n",
              "  </thead>\n",
              "  <tbody>\n",
              "    <tr>\n",
              "      <th>0</th>\n",
              "      <td>NaN</td>\n",
              "    </tr>\n",
              "    <tr>\n",
              "      <th>1</th>\n",
              "      <td>11889642.0</td>\n",
              "    </tr>\n",
              "    <tr>\n",
              "      <th>2</th>\n",
              "      <td>11889648.0</td>\n",
              "    </tr>\n",
              "    <tr>\n",
              "      <th>3</th>\n",
              "      <td>11889644.0</td>\n",
              "    </tr>\n",
              "    <tr>\n",
              "      <th>4</th>\n",
              "      <td>11889649.0</td>\n",
              "    </tr>\n",
              "    <tr>\n",
              "      <th>...</th>\n",
              "      <td>...</td>\n",
              "    </tr>\n",
              "    <tr>\n",
              "      <th>596</th>\n",
              "      <td>11892201.0</td>\n",
              "    </tr>\n",
              "    <tr>\n",
              "      <th>597</th>\n",
              "      <td>11892162.0</td>\n",
              "    </tr>\n",
              "    <tr>\n",
              "      <th>598</th>\n",
              "      <td>11892079.0</td>\n",
              "    </tr>\n",
              "    <tr>\n",
              "      <th>599</th>\n",
              "      <td>11891981.0</td>\n",
              "    </tr>\n",
              "    <tr>\n",
              "      <th>600</th>\n",
              "      <td>NaN</td>\n",
              "    </tr>\n",
              "  </tbody>\n",
              "</table>\n",
              "<p>601 rows × 1 columns</p>\n",
              "</div><br><label><b>dtype:</b> float64</label>"
            ]
          },
          "metadata": {},
          "execution_count": 11
        }
      ]
    },
    {
      "cell_type": "code",
      "source": [
        "#Isolate relevant columns: Demographics\n",
        "include = ['Participant Private ID', 'Question', 'Key', 'Response']\n",
        "df_demographic.drop(columns=df_demographic.columns.difference(include), inplace=True)\n",
        "mask = df_demographic['Response'].str.contains('BEGIN', na=True) | df_demographic['Response'].str.contains('END', na=True)\n",
        "df_demographic = df_demographic[~mask]\n",
        "\n",
        "#Isolate relevant columns: News Consumption\n",
        "include = ['Participant Private ID', 'Question', 'Key', 'Response']\n",
        "df_News.drop(columns=df_News.columns.difference(include), inplace=True)\n",
        "mask = df_News['Response'].str.contains('BEGIN', na=True) | df_News['Response'].str.contains('END', na=True)\n",
        "df_News = df_News[~mask]\n",
        "\n",
        "#Isolate relevant columns: Concept Engagement Pt1\n",
        "include = ['Participant Private ID', 'Question', 'Key', 'Response']\n",
        "df_ConEngPt1.drop(columns=df_ConEngPt1.columns.difference(include), inplace=True)\n",
        "mask = df_ConEngPt1['Response'].str.contains('BEGIN', na=True) | df_ConEngPt1['Response'].str.contains('END', na=True)\n",
        "df_ConEngPt1 = df_ConEngPt1[~mask]\n",
        "\n",
        "#Isolate relevant columns: Concept Engagement Pt23 [NEEDS DEBUGGING]\n",
        "include = ['Participant Private ID', 'Question', 'Key', 'Response']\n",
        "df_ConEngPt23.drop(columns=df_ConEngPt23.columns.difference(include), inplace=True)\n",
        "mask = df_ConEngPt23['Response'].str.contains('BEGIN', na=True) | df_ConEngPt23['Response'].str.contains('END', na=True)\n",
        "df_ConEngPt23 = df_ConEngPt23[~mask]\n",
        "\n",
        "#Isolate relevant columns: PurposeQ\n",
        "include = ['Participant Private ID', 'Question', 'Key', 'Response']\n",
        "df_PurposeQ.drop(columns=df_PurposeQ.columns.difference(include), inplace=True)\n",
        "mask = df_PurposeQ['Response'].str.contains('BEGIN', na=True) | df_PurposeQ['Response'].str.contains('END', na=True)\n",
        "df_PurposeQ = df_PurposeQ[~mask]\n",
        "\n",
        "#Isolate relevant columns: PRaM\n",
        "include = ['Participant Private ID', 'Zone Name', 'conceptA', 'conceptB', 'Response']\n",
        "df_taskPRaM.drop(columns=df_taskPRaM.columns.difference(include), inplace=True)\n",
        "mask = df_taskPRaM['Zone Name'].str.contains('Likert', na=True)\n",
        "df_taskPRaM = df_taskPRaM[mask]\n",
        "df_taskPRaM = df_taskPRaM.dropna()\n",
        "df_taskPRaM.drop(columns=['Zone Name'], inplace=True)\n",
        "df_taskPRaM['Pair'] = df_taskPRaM['conceptA'] + '-' + df_taskPRaM['conceptB']\n",
        "df_taskPRaM.drop(columns=['conceptA', 'conceptB'], inplace=True)\n"
      ],
      "metadata": {
        "colab": {
          "base_uri": "https://localhost:8080/",
          "height": 589
        },
        "id": "6LwvqmKec1MJ",
        "outputId": "f07f74c2-2f53-4a24-8e83-de65eea23c1b"
      },
      "execution_count": 5,
      "outputs": [
        {
          "output_type": "error",
          "ename": "KeyError",
          "evalue": "'Response'",
          "traceback": [
            "\u001b[0;31m---------------------------------------------------------------------------\u001b[0m",
            "\u001b[0;31mKeyError\u001b[0m                                  Traceback (most recent call last)",
            "\u001b[0;32m/usr/local/lib/python3.10/dist-packages/pandas/core/indexes/base.py\u001b[0m in \u001b[0;36mget_loc\u001b[0;34m(self, key)\u001b[0m\n\u001b[1;32m   3804\u001b[0m         \u001b[0;32mtry\u001b[0m\u001b[0;34m:\u001b[0m\u001b[0;34m\u001b[0m\u001b[0;34m\u001b[0m\u001b[0m\n\u001b[0;32m-> 3805\u001b[0;31m             \u001b[0;32mreturn\u001b[0m \u001b[0mself\u001b[0m\u001b[0;34m.\u001b[0m\u001b[0m_engine\u001b[0m\u001b[0;34m.\u001b[0m\u001b[0mget_loc\u001b[0m\u001b[0;34m(\u001b[0m\u001b[0mcasted_key\u001b[0m\u001b[0;34m)\u001b[0m\u001b[0;34m\u001b[0m\u001b[0;34m\u001b[0m\u001b[0m\n\u001b[0m\u001b[1;32m   3806\u001b[0m         \u001b[0;32mexcept\u001b[0m \u001b[0mKeyError\u001b[0m \u001b[0;32mas\u001b[0m \u001b[0merr\u001b[0m\u001b[0;34m:\u001b[0m\u001b[0;34m\u001b[0m\u001b[0;34m\u001b[0m\u001b[0m\n",
            "\u001b[0;32mindex.pyx\u001b[0m in \u001b[0;36mpandas._libs.index.IndexEngine.get_loc\u001b[0;34m()\u001b[0m\n",
            "\u001b[0;32mindex.pyx\u001b[0m in \u001b[0;36mpandas._libs.index.IndexEngine.get_loc\u001b[0;34m()\u001b[0m\n",
            "\u001b[0;32mpandas/_libs/hashtable_class_helper.pxi\u001b[0m in \u001b[0;36mpandas._libs.hashtable.PyObjectHashTable.get_item\u001b[0;34m()\u001b[0m\n",
            "\u001b[0;32mpandas/_libs/hashtable_class_helper.pxi\u001b[0m in \u001b[0;36mpandas._libs.hashtable.PyObjectHashTable.get_item\u001b[0;34m()\u001b[0m\n",
            "\u001b[0;31mKeyError\u001b[0m: 'Response'",
            "\nThe above exception was the direct cause of the following exception:\n",
            "\u001b[0;31mKeyError\u001b[0m                                  Traceback (most recent call last)",
            "\u001b[0;32m<ipython-input-5-ebed74ab67a5>\u001b[0m in \u001b[0;36m<cell line: 22>\u001b[0;34m()\u001b[0m\n\u001b[1;32m     20\u001b[0m \u001b[0minclude\u001b[0m \u001b[0;34m=\u001b[0m \u001b[0;34m[\u001b[0m\u001b[0;34m'Participant Private ID'\u001b[0m\u001b[0;34m,\u001b[0m \u001b[0;34m'Question'\u001b[0m\u001b[0;34m,\u001b[0m \u001b[0;34m'Key'\u001b[0m\u001b[0;34m,\u001b[0m \u001b[0;34m'Response'\u001b[0m\u001b[0;34m]\u001b[0m\u001b[0;34m\u001b[0m\u001b[0;34m\u001b[0m\u001b[0m\n\u001b[1;32m     21\u001b[0m \u001b[0mdf_ConEngPt23\u001b[0m\u001b[0;34m.\u001b[0m\u001b[0mdrop\u001b[0m\u001b[0;34m(\u001b[0m\u001b[0mcolumns\u001b[0m\u001b[0;34m=\u001b[0m\u001b[0mdf_ConEngPt23\u001b[0m\u001b[0;34m.\u001b[0m\u001b[0mcolumns\u001b[0m\u001b[0;34m.\u001b[0m\u001b[0mdifference\u001b[0m\u001b[0;34m(\u001b[0m\u001b[0minclude\u001b[0m\u001b[0;34m)\u001b[0m\u001b[0;34m,\u001b[0m \u001b[0minplace\u001b[0m\u001b[0;34m=\u001b[0m\u001b[0;32mTrue\u001b[0m\u001b[0;34m)\u001b[0m\u001b[0;34m\u001b[0m\u001b[0;34m\u001b[0m\u001b[0m\n\u001b[0;32m---> 22\u001b[0;31m \u001b[0mmask\u001b[0m \u001b[0;34m=\u001b[0m \u001b[0mdf_ConEngPt23\u001b[0m\u001b[0;34m[\u001b[0m\u001b[0;34m'Response'\u001b[0m\u001b[0;34m]\u001b[0m\u001b[0;34m.\u001b[0m\u001b[0mstr\u001b[0m\u001b[0;34m.\u001b[0m\u001b[0mcontains\u001b[0m\u001b[0;34m(\u001b[0m\u001b[0;34m'BEGIN'\u001b[0m\u001b[0;34m,\u001b[0m \u001b[0mna\u001b[0m\u001b[0;34m=\u001b[0m\u001b[0;32mTrue\u001b[0m\u001b[0;34m)\u001b[0m \u001b[0;34m|\u001b[0m \u001b[0mdf_ConEngPt23\u001b[0m\u001b[0;34m[\u001b[0m\u001b[0;34m'Response'\u001b[0m\u001b[0;34m]\u001b[0m\u001b[0;34m.\u001b[0m\u001b[0mstr\u001b[0m\u001b[0;34m.\u001b[0m\u001b[0mcontains\u001b[0m\u001b[0;34m(\u001b[0m\u001b[0;34m'END'\u001b[0m\u001b[0;34m,\u001b[0m \u001b[0mna\u001b[0m\u001b[0;34m=\u001b[0m\u001b[0;32mTrue\u001b[0m\u001b[0;34m)\u001b[0m\u001b[0;34m\u001b[0m\u001b[0;34m\u001b[0m\u001b[0m\n\u001b[0m\u001b[1;32m     23\u001b[0m \u001b[0mdf_ConEngPt23\u001b[0m \u001b[0;34m=\u001b[0m \u001b[0mdf_ConEngPt23\u001b[0m\u001b[0;34m[\u001b[0m\u001b[0;34m~\u001b[0m\u001b[0mmask\u001b[0m\u001b[0;34m]\u001b[0m\u001b[0;34m\u001b[0m\u001b[0;34m\u001b[0m\u001b[0m\n\u001b[1;32m     24\u001b[0m \u001b[0;34m\u001b[0m\u001b[0m\n",
            "\u001b[0;32m/usr/local/lib/python3.10/dist-packages/pandas/core/frame.py\u001b[0m in \u001b[0;36m__getitem__\u001b[0;34m(self, key)\u001b[0m\n\u001b[1;32m   4100\u001b[0m             \u001b[0;32mif\u001b[0m \u001b[0mself\u001b[0m\u001b[0;34m.\u001b[0m\u001b[0mcolumns\u001b[0m\u001b[0;34m.\u001b[0m\u001b[0mnlevels\u001b[0m \u001b[0;34m>\u001b[0m \u001b[0;36m1\u001b[0m\u001b[0;34m:\u001b[0m\u001b[0;34m\u001b[0m\u001b[0;34m\u001b[0m\u001b[0m\n\u001b[1;32m   4101\u001b[0m                 \u001b[0;32mreturn\u001b[0m \u001b[0mself\u001b[0m\u001b[0;34m.\u001b[0m\u001b[0m_getitem_multilevel\u001b[0m\u001b[0;34m(\u001b[0m\u001b[0mkey\u001b[0m\u001b[0;34m)\u001b[0m\u001b[0;34m\u001b[0m\u001b[0;34m\u001b[0m\u001b[0m\n\u001b[0;32m-> 4102\u001b[0;31m             \u001b[0mindexer\u001b[0m \u001b[0;34m=\u001b[0m \u001b[0mself\u001b[0m\u001b[0;34m.\u001b[0m\u001b[0mcolumns\u001b[0m\u001b[0;34m.\u001b[0m\u001b[0mget_loc\u001b[0m\u001b[0;34m(\u001b[0m\u001b[0mkey\u001b[0m\u001b[0;34m)\u001b[0m\u001b[0;34m\u001b[0m\u001b[0;34m\u001b[0m\u001b[0m\n\u001b[0m\u001b[1;32m   4103\u001b[0m             \u001b[0;32mif\u001b[0m \u001b[0mis_integer\u001b[0m\u001b[0;34m(\u001b[0m\u001b[0mindexer\u001b[0m\u001b[0;34m)\u001b[0m\u001b[0;34m:\u001b[0m\u001b[0;34m\u001b[0m\u001b[0;34m\u001b[0m\u001b[0m\n\u001b[1;32m   4104\u001b[0m                 \u001b[0mindexer\u001b[0m \u001b[0;34m=\u001b[0m \u001b[0;34m[\u001b[0m\u001b[0mindexer\u001b[0m\u001b[0;34m]\u001b[0m\u001b[0;34m\u001b[0m\u001b[0;34m\u001b[0m\u001b[0m\n",
            "\u001b[0;32m/usr/local/lib/python3.10/dist-packages/pandas/core/indexes/base.py\u001b[0m in \u001b[0;36mget_loc\u001b[0;34m(self, key)\u001b[0m\n\u001b[1;32m   3810\u001b[0m             ):\n\u001b[1;32m   3811\u001b[0m                 \u001b[0;32mraise\u001b[0m \u001b[0mInvalidIndexError\u001b[0m\u001b[0;34m(\u001b[0m\u001b[0mkey\u001b[0m\u001b[0;34m)\u001b[0m\u001b[0;34m\u001b[0m\u001b[0;34m\u001b[0m\u001b[0m\n\u001b[0;32m-> 3812\u001b[0;31m             \u001b[0;32mraise\u001b[0m \u001b[0mKeyError\u001b[0m\u001b[0;34m(\u001b[0m\u001b[0mkey\u001b[0m\u001b[0;34m)\u001b[0m \u001b[0;32mfrom\u001b[0m \u001b[0merr\u001b[0m\u001b[0;34m\u001b[0m\u001b[0;34m\u001b[0m\u001b[0m\n\u001b[0m\u001b[1;32m   3813\u001b[0m         \u001b[0;32mexcept\u001b[0m \u001b[0mTypeError\u001b[0m\u001b[0;34m:\u001b[0m\u001b[0;34m\u001b[0m\u001b[0;34m\u001b[0m\u001b[0m\n\u001b[1;32m   3814\u001b[0m             \u001b[0;31m# If we have a listlike key, _check_indexing_error will raise\u001b[0m\u001b[0;34m\u001b[0m\u001b[0;34m\u001b[0m\u001b[0m\n",
            "\u001b[0;31mKeyError\u001b[0m: 'Response'"
          ]
        }
      ]
    },
    {
      "cell_type": "code",
      "source": [
        "#Isolate Pivot dataframes\n",
        "df_demographic = df_demographic.pivot(index = 'Participant Private ID', columns = ['Question', 'Key'], values = ['Response']) #Demographics\n",
        "\n",
        "df_News = df_News.pivot(index = 'Participant Private ID', columns = ['Question', 'Key'], values = ['Response']) #News Consumption\n",
        "\n",
        "df_ConEngPt1 = df_ConEngPt1.pivot(index = 'Participant Private ID', columns = ['Question', 'Key'], values = ['Response']) #News Consumption\n",
        "\n",
        "df_ConEngPt23 = df_ConEngPt23.pivot(index = 'Participant Private ID', columns = ['Question', 'Key'], values = ['Response']) #News Consumption\n",
        "\n",
        "df_PurposeQ = df_PurposeQ.pivot(index = 'Participant Private ID', columns = ['Question', 'Key'], values = ['Response']) #News Consumption\n",
        "\n",
        "#TASKS:\n",
        "df_taskPRaM = df_taskPRaM.groupby(['Participant Private ID', 'Pair'])['Response'].agg(list).reset_index()\n",
        "df_taskPRaM = df_taskPRaM.pivot(index='Participant Private ID', columns='Pair', values='Response')\n",
        "df_taskPRaM = df_taskPRaM.applymap(convert_to_float)\n"
      ],
      "metadata": {
        "id": "8dzVwNOoDY5V",
        "colab": {
          "base_uri": "https://localhost:8080/"
        },
        "outputId": "13bc2180-04e8-4579-c8e1-80c5120d8008"
      },
      "execution_count": null,
      "outputs": [
        {
          "output_type": "stream",
          "name": "stderr",
          "text": [
            "<ipython-input-79-efd625e67af2>:15: FutureWarning: DataFrame.applymap has been deprecated. Use DataFrame.map instead.\n",
            "  df_taskPRaM = df_taskPRaM.applymap(convert_to_float)\n"
          ]
        }
      ]
    },
    {
      "cell_type": "code",
      "source": [
        "#Convert all files to csv\n",
        "df_demographic.to_csv('demographic.csv')\n",
        "df_News.to_csv('df_News.csv')\n",
        "df_ConEngPt1.to_csv('df_ConEngPt1.csv')\n",
        "df_ConEngPt23.to_csv('df_ConEngPt23.csv')\n",
        "df_PurposeQ.to_csv('df_PurposeQ.csv')\n",
        "df_taskPRaM.to_csv('df_taskPRaM.csv')"
      ],
      "metadata": {
        "id": "GHGoq3mGSf5Q"
      },
      "execution_count": null,
      "outputs": []
    },
    {
      "cell_type": "code",
      "source": [
        "#Offline Processing is as follows:\n",
        "\n",
        "#Remove nested columns\n",
        "#Rename column headers to be more intuitive\n",
        "#News: Added AllSides coding (10/23)"
      ],
      "metadata": {
        "id": "2aeCX-t44XIa"
      },
      "execution_count": null,
      "outputs": []
    }
  ]
}
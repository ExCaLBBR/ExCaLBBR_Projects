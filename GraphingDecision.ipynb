{
  "nbformat": 4,
  "nbformat_minor": 0,
  "metadata": {
    "colab": {
      "provenance": [],
      "authorship_tag": "ABX9TyOnf8h296E8P9fIX0IuTiGd",
      "include_colab_link": true
    },
    "kernelspec": {
      "name": "ir",
      "display_name": "R"
    },
    "language_info": {
      "name": "R"
    }
  },
  "cells": [
    {
      "cell_type": "markdown",
      "metadata": {
        "id": "view-in-github",
        "colab_type": "text"
      },
      "source": [
        "<a href=\"https://colab.research.google.com/github/ExCaLBBR/ExCaLBBR_Projects/blob/main/GraphingDecision.ipynb\" target=\"_parent\"><img src=\"https://colab.research.google.com/assets/colab-badge.svg\" alt=\"Open In Colab\"/></a>"
      ]
    },
    {
      "cell_type": "code",
      "execution_count": 2,
      "metadata": {
        "id": "WXdzy__L3GPW"
      },
      "outputs": [],
      "source": [
        "## Download Library\n",
        "library(tidyverse)\n",
        "library(ggplot2)\n",
        "library(dplyr)"
      ]
    },
    {
      "cell_type": "code",
      "source": [
        "## Download CSV\n",
        "    News = read.csv(\"https://raw.githubusercontent.com/ExCaLBBR/ExCaLBBR_Projects/refs/heads/main/GeometryBasedDecisions/data/NewsHRes_n485analyzed.csv\")\n",
        "    Race = read.csv(\"https://raw.githubusercontent.com/ExCaLBBR/ExCaLBBR_Projects/refs/heads/main/GeometryBasedDecisions/data/blackCoded_n485analyzed.csv\")\n",
        "    Belief_Decision = read.csv(\"https://raw.githubusercontent.com/ExCaLBBR/ExCaLBBR_Projects/refs/heads/main/GeometryBasedDecisions/data/df_ConEngPt1.csv\")"
      ],
      "metadata": {
        "id": "Q_dsiZRp4KCC"
      },
      "execution_count": 13,
      "outputs": []
    },
    {
      "cell_type": "code",
      "source": [
        "## concat df\n",
        "combined_df <- bind_rows(Race, News, Belief_Decision, .id = \"Source\")\n",
        "colnames(combined_df)"
      ],
      "metadata": {
        "colab": {
          "base_uri": "https://localhost:8080/",
          "height": 69
        },
        "id": "ZNYWZG0rBNC3",
        "outputId": "aad617b9-f4b3-4db4-d9a0-43db86d9259a"
      },
      "execution_count": 48,
      "outputs": [
        {
          "output_type": "display_data",
          "data": {
            "text/html": [
              "<style>\n",
              ".list-inline {list-style: none; margin:0; padding: 0}\n",
              ".list-inline>li {display: inline-block}\n",
              ".list-inline>li:not(:last-child)::after {content: \"\\00b7\"; padding: 0 .5ex}\n",
              "</style>\n",
              "<ol class=list-inline><li>'Source'</li><li>'X'</li><li>'Black.or.African.American'</li><li>'Average'</li><li>'Concept'</li><li>'Science'</li><li>'Science.1'</li><li>'Science.2'</li><li>'Science.3'</li><li>'Science.4'</li><li>'News'</li><li>'News.1'</li><li>'Healthcare'</li><li>'Healthcare.1'</li><li>'Healthcare.2'</li><li>'Healthcare.3'</li><li>'Healthcare.4'</li><li>'Healthcare.5'</li><li>'Voting'</li><li>'Voting.1'</li><li>'Voting.2'</li><li>'Voting.3'</li><li>'Voting.4'</li><li>'Voting.5'</li><li>'Police'</li><li>'Police.1'</li><li>'Police.2'</li><li>'Police.3'</li><li>'Police.4'</li><li>'Immigration'</li><li>'Immigration.1'</li><li>'Immigration.2'</li><li>'Immigration.3'</li><li>'Immigration.4'</li><li>'Immigration.5'</li><li>'Firefighters'</li><li>'Firefighters.1'</li><li>'Firefighters.2'</li><li>'Firefighters.3'</li><li>'Firefighters.4'</li><li>'Religion'</li><li>'Religion.1'</li><li>'Religion.2'</li><li>'Religion.3'</li><li>'Religion.4'</li></ol>\n"
            ],
            "text/markdown": "1. 'Source'\n2. 'X'\n3. 'Black.or.African.American'\n4. 'Average'\n5. 'Concept'\n6. 'Science'\n7. 'Science.1'\n8. 'Science.2'\n9. 'Science.3'\n10. 'Science.4'\n11. 'News'\n12. 'News.1'\n13. 'Healthcare'\n14. 'Healthcare.1'\n15. 'Healthcare.2'\n16. 'Healthcare.3'\n17. 'Healthcare.4'\n18. 'Healthcare.5'\n19. 'Voting'\n20. 'Voting.1'\n21. 'Voting.2'\n22. 'Voting.3'\n23. 'Voting.4'\n24. 'Voting.5'\n25. 'Police'\n26. 'Police.1'\n27. 'Police.2'\n28. 'Police.3'\n29. 'Police.4'\n30. 'Immigration'\n31. 'Immigration.1'\n32. 'Immigration.2'\n33. 'Immigration.3'\n34. 'Immigration.4'\n35. 'Immigration.5'\n36. 'Firefighters'\n37. 'Firefighters.1'\n38. 'Firefighters.2'\n39. 'Firefighters.3'\n40. 'Firefighters.4'\n41. 'Religion'\n42. 'Religion.1'\n43. 'Religion.2'\n44. 'Religion.3'\n45. 'Religion.4'\n\n\n",
            "text/latex": "\\begin{enumerate*}\n\\item 'Source'\n\\item 'X'\n\\item 'Black.or.African.American'\n\\item 'Average'\n\\item 'Concept'\n\\item 'Science'\n\\item 'Science.1'\n\\item 'Science.2'\n\\item 'Science.3'\n\\item 'Science.4'\n\\item 'News'\n\\item 'News.1'\n\\item 'Healthcare'\n\\item 'Healthcare.1'\n\\item 'Healthcare.2'\n\\item 'Healthcare.3'\n\\item 'Healthcare.4'\n\\item 'Healthcare.5'\n\\item 'Voting'\n\\item 'Voting.1'\n\\item 'Voting.2'\n\\item 'Voting.3'\n\\item 'Voting.4'\n\\item 'Voting.5'\n\\item 'Police'\n\\item 'Police.1'\n\\item 'Police.2'\n\\item 'Police.3'\n\\item 'Police.4'\n\\item 'Immigration'\n\\item 'Immigration.1'\n\\item 'Immigration.2'\n\\item 'Immigration.3'\n\\item 'Immigration.4'\n\\item 'Immigration.5'\n\\item 'Firefighters'\n\\item 'Firefighters.1'\n\\item 'Firefighters.2'\n\\item 'Firefighters.3'\n\\item 'Firefighters.4'\n\\item 'Religion'\n\\item 'Religion.1'\n\\item 'Religion.2'\n\\item 'Religion.3'\n\\item 'Religion.4'\n\\end{enumerate*}\n",
            "text/plain": [
              " [1] \"Source\"                    \"X\"                        \n",
              " [3] \"Black.or.African.American\" \"Average\"                  \n",
              " [5] \"Concept\"                   \"Science\"                  \n",
              " [7] \"Science.1\"                 \"Science.2\"                \n",
              " [9] \"Science.3\"                 \"Science.4\"                \n",
              "[11] \"News\"                      \"News.1\"                   \n",
              "[13] \"Healthcare\"                \"Healthcare.1\"             \n",
              "[15] \"Healthcare.2\"              \"Healthcare.3\"             \n",
              "[17] \"Healthcare.4\"              \"Healthcare.5\"             \n",
              "[19] \"Voting\"                    \"Voting.1\"                 \n",
              "[21] \"Voting.2\"                  \"Voting.3\"                 \n",
              "[23] \"Voting.4\"                  \"Voting.5\"                 \n",
              "[25] \"Police\"                    \"Police.1\"                 \n",
              "[27] \"Police.2\"                  \"Police.3\"                 \n",
              "[29] \"Police.4\"                  \"Immigration\"              \n",
              "[31] \"Immigration.1\"             \"Immigration.2\"            \n",
              "[33] \"Immigration.3\"             \"Immigration.4\"            \n",
              "[35] \"Immigration.5\"             \"Firefighters\"             \n",
              "[37] \"Firefighters.1\"            \"Firefighters.2\"           \n",
              "[39] \"Firefighters.3\"            \"Firefighters.4\"           \n",
              "[41] \"Religion\"                  \"Religion.1\"               \n",
              "[43] \"Religion.2\"                \"Religion.3\"               \n",
              "[45] \"Religion.4\"               "
            ]
          },
          "metadata": {}
        }
      ]
    },
    {
      "cell_type": "code",
      "source": [
        "## Political Affiliation\n",
        "combined_df <- combined_df %>%\n",
        "  mutate(Poltical_Affl = case_when(\n",
        "    Average > 0 ~ \"Right\",\n",
        "    Average < 0 ~ \"Left\"\n",
        "  ))\n",
        "## Change Agree to Disagree\n",
        "combined_df <- combined_df %>%\n",
        "  mutate(across(where(is.character), ~ case_when(\n",
        "    . == \"Agree\" ~ 1,\n",
        "    . == \"Disagree\" ~ 0,\n",
        "    . %in% c(\"Neutral\", \"Unsure\") ~ NA_real_,  # Handles Neutral/Unsure as NA\n",
        "    TRUE ~ NA_real_  # Ensures any other value is treated as NA\n",
        "  )))"
      ],
      "metadata": {
        "id": "MC-P1NsoDtbp"
      },
      "execution_count": 49,
      "outputs": []
    },
    {
      "cell_type": "code",
      "source": [],
      "metadata": {
        "id": "7dAU9gg_Fw-I"
      },
      "execution_count": null,
      "outputs": []
    }
  ]
}
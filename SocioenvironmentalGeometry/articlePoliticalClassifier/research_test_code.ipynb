{
  "cells": [
    {
      "cell_type": "code",
      "execution_count": 9,
      "metadata": {
        "colab": {
          "base_uri": "https://localhost:8080/"
        },
        "id": "lQdkr9XHCEJ5",
        "outputId": "0e9257b7-eae6-46ef-860b-b3e1f1261682"
      },
      "outputs": [],
      "source": [
        "#@title Ensure Dependancies Installed\n",
        "#%pip install requests beautifulsoup4\n",
        "\n",
        "#Import libraries\n",
        "import requests\n",
        "from bs4 import BeautifulSoup\n",
        "import time\n"
      ]
    },
    {
      "cell_type": "code",
      "execution_count": 10,
      "metadata": {},
      "outputs": [],
      "source": [
        "#Define Utility Functions\n",
        "\n",
        "#Article Scrapper\n",
        "def scrape_article_text(url):\n",
        "    # Send a GET request to the URL\n",
        "    response = requests.get(url)\n",
        "    # Check if the request was successful\n",
        "    if response.status_code == 200:\n",
        "        # Parse the HTML content\n",
        "        soup = BeautifulSoup(response.text, 'html.parser')\n",
        "        # Find elements containing text - this part may need customization\n",
        "        # For example, assuming article text is within <p> tags\n",
        "        article_text = ' '.join(p.get_text() for p in soup.find_all('p'))\n",
        "        return article_text\n",
        "    else:\n",
        "        return \"Error: Unable to fetch the webpage.\"\n",
        "\n",
        "#Query for LLM\n",
        "def query(payload, headers):\n",
        "    response = requests.post(API_URL, headers=headers, json=payload)\n",
        "    if response.status_code == 200:\n",
        "        return response.json()  # Expecting this to always be a list for simplicity\n",
        "    else:\n",
        "        return [{\"error\": response.text}]\n",
        "\n",
        "#Political Bias Classification using LLM \n",
        "def reduce_and_query(initial_text, llm_instructions, reduction_fraction, headers):\n",
        "    text = initial_text\n",
        "    while True:\n",
        "        payload = {\"inputs\": llm_instructions + text}\n",
        "        response = query(payload, headers)\n",
        "        # Since we expect a list, check the first item for an 'error' key\n",
        "        if \"error\" in response[0]:\n",
        "            error_message = response[0][\"error\"]\n",
        "            if \"token\" in error_message.lower():\n",
        "                # Reduce the text by the specified fraction if it's a token limit error\n",
        "                new_length = int(len(text) * (1 - reduction_fraction))\n",
        "                text = text[:new_length]\n",
        "            else:\n",
        "                # Return the error message directly if it's a different kind of error\n",
        "                return error_message\n",
        "        else:\n",
        "            # If there's no 'error' key, assume the response is successful\n",
        "            return response"
      ]
    },
    {
      "cell_type": "code",
      "execution_count": 6,
      "metadata": {
        "colab": {
          "base_uri": "https://localhost:8080/"
        },
        "id": "ziOfGAdACGQR",
        "outputId": "750bf545-c2e7-4f1e-bdf7-210b7fe03690"
      },
      "outputs": [
        {
          "name": "stdout",
          "output_type": "stream",
          "text": [
            "\n",
            "      This material may not be published, broadcast, rewritten,\n",
            "      or redistributed. ©2024 FOX News Network, LLC. All rights reserved.\n",
            "      Quotes displayed in real-time or delayed by at least 15 minutes. Market data provided by\n",
            "      Factset. Powered and implemented by\n",
            "      FactSet Digital Solutions.\n",
            "      Legal Statement. Mutual Fund and ETF data provided by\n",
            "      Refinitiv Lipper.\n",
            "     President Biden mistakenly referred to his \"2020 agenda\" going into 2024 during an interview on Monday. President Biden is running out of time to fulfill his 2020 presidential campaign promise to abolish the death penalty, leaving an opening for his opposition to capitalize on the issue. During Biden’s 2020 campaign, he vowed to end the federal death penalty and, after taking office three years ago, his incoming administration considered several possible options to do so. However, none came to fruition, and there are about eight months until the November election. While Biden has yet to act on capital punishment, former President Trump has taken the issue on the campaign trail with him, vowing to extend the penalty to drug dealers. SOUTH CAROLINA SEEKS TO RESTART EXECUTIONS WITH ELECTRIC CHAIR, FIRING SQUAD; SAYS PAINLESS DEATH NOT REQUIRED President Biden is running out of time to fulfill his 2020 presidential campaign promise to abolish the federal death penalty. (Chip Somodevilla/Getty Images) In January 2021, Biden initially considered an executive order, people familiar with the matter told the Associated Press, but the White House did not issue one. It also did not push Congress for legislation barring it. Six months into the administration, Attorney General Merrick Garland announced a moratorium on federal capital punishment to study it further. The narrow action has meant there have been no federal executions under Biden, but it simply put the death penalty on a temporary hold. IDAHO'S MOVE TO RESURRECT FIRING SQUAD 'MAKES SENSE' AS 'QUICKEST, SUREST' DEATH PENALTY OPTION, EXPERT SAYS A White House spokesperson told Fox News Digital that Biden remains concerned about how federal executions are applied. \"The President has long talked about his concerns about how the death penalty is applied and whether it is consistent with the values fundamental to our sense of justice and fairness,\" said White House assistant press secretary Robyn Patterson. \"He supports the attorney general’s decision to issue a moratorium on federal executions while the Department of Justice conducts a comprehensive review of the practice.\" Former President Trump has consistently vowed in campaign speeches across the country to implement capital punishment against certain drug dealers. (Win McNamee/Getty Images) The hold has been apparently lifted as the Justice Department has pushed for the death penalty against the suspects charged in the Pittsburgh and Buffalo, New York, mass shootings — Payton Gendron, who killed 10 Black people at a Buffalo’s Tops supermarket in 2022, and Robert Bowers, who killed 11 congregants at Pittsburgh's Tree of Life synagogue in 2018. WASHINGTON GOVERNOR SIGNS BILL ELIMINATING DEATH PENALTY IN STATE Biden is the first president to openly oppose capital punishment, and his 2020 campaign website declared that he would \"work to pass legislation to eliminate the death penalty at the federal level, and incentivize states to follow the federal government’s example.\" Similar language does not appear on his website this year. President Biden is the first president to openly oppose capital punishment. (Leigh Vogel/Bloomberg via Getty Images) Whether Biden intends to act on the death penalty before November is not immediately clear, although such action is not usually pursued in an election year. Additionally, Biden does not discuss the death penalty much today. Some Biden supporters have been left frustrated as the president has been empty-handed on executions. Conversely, Trump has consistently vowed in campaign speeches across the country to implement capital punishment against those who sell or transport deadly fentanyl as part of his national crackdown on crime. \"It’s always been used as a political talking point. It has for centuries, and it probably always will be,\" said Robin Maher, executive director of the nonprofit Death Penalty Information Center. \"But I think the American public is seeing through that now and is really looking for more serious answers to these very serious problems in our communities.\" According to Gallup, support for the death penalty has continued to fall over the last 30 years. CLICK HERE TO GET THE FOX NEWS APP In 1994, 80% supported executions for convicted killers. This support has fallen to 53% last year. In November, Gallup found in a separate poll that a majority of Americans believe the death penalty is unfairly applied, 50% to 47%. In addition to the federal government, 21 states allow the death penalty. The Associated Press contributed to this report. Get the latest updates from the 2024 campaign trail, exclusive interviews and more Fox News politics content. Subscribed You've successfully subscribed to this newsletter! \n",
            "        This material may not be published, broadcast, rewritten, or redistributed. ©2024 FOX News Network, LLC. All rights reserved. Quotes displayed in real-time or delayed by at least 15 minutes. Market data provided by\n",
            "        Factset. Powered and implemented by\n",
            "        FactSet Digital Solutions.\n",
            "        Legal Statement. Mutual Fund and ETF data provided by\n",
            "        Refinitiv Lipper.\n",
            "      \n"
          ]
        }
      ],
      "source": [
        "#Test case\n",
        "# Change URL to get article text\n",
        "url = \"https://www.foxnews.com/politics/biden-running-time-fulfill-2020-campaign-pledge-abolish-federal-death-penalty\"\n",
        "article_text = scrape_article_text(url)\n",
        "print(article_text)\n"
      ]
    },
    {
      "cell_type": "code",
      "execution_count": 21,
      "metadata": {
        "colab": {
          "base_uri": "https://localhost:8080/"
        },
        "id": "DdfRhUnADlAO",
        "outputId": "cb23b1cc-00f3-4cd8-ccb2-e76405153cd4"
      },
      "outputs": [
        {
          "name": "stdout",
          "output_type": "stream",
          "text": [
            "[{'generated_text': '0'}]\n",
            "[{'generated_text': '0'}]\n",
            "[{'generated_text': '-1'}]\n",
            "[{'generated_text': '-1'}]\n",
            "[{'generated_text': '-1'}]\n",
            "[{'generated_text': '0'}]\n",
            "[{'generated_text': '1'}]\n"
          ]
        }
      ],
      "source": [
        "api_token_hug = \n",
        "\n",
        "\n",
        "# Following URL is the URL of the LLM being utilized from HuggingFace\n",
        "API_URL = \"https://api-inference.huggingface.co/models/google/flan-t5-xxl\"\n",
        "headers = {\"Authorization\": f\"Bearer {api_token_hug}\"}\n",
        "\n",
        "# Instructions sent to the LLM in front of article text\n",
        "system_input = \"Score the following article from -1 to 1 on its party stance where -1 is Republican messaging and 1 is Democratic messaging and 0 is neutral: \"\n",
        "\n",
        "#reduce by 10% until it fits query\n",
        "reduction_fraction = 0.10\n",
        "\n",
        "\n",
        "\n",
        "result = reduce_and_query(article_text, system_input, reduction_fraction, headers)\n",
        "print(result)\n",
        "\n",
        "second_article = \"https://www.cnn.com/2024/03/19/politics/texas-immigration-law-blocked-appeals/index.html\"\n",
        "second_result = reduce_and_query(second_article, system_input, reduction_fraction, headers)\n",
        "print(second_result)\n",
        "\n",
        "third_article = \"https://www.cnn.com/videos/world/2024/03/20/israel-gaza-west-bank-settler-movement-clarissa-ward-pkg-intl-ldn-vpx.cnn\"\n",
        "third_result = reduce_and_query(third_article, system_input, reduction_fraction, headers)\n",
        "print(third_result)\n",
        "\n",
        "fourth_article = \"https://www.cnn.com/2024/03/19/politics/trump-bond-deadline-panic/index.html\"\n",
        "fourth_result = reduce_and_query(fourth_article, system_input, reduction_fraction, headers)\n",
        "print(fourth_result)\n",
        "\n",
        "fifth_article = \"https://www.foxnews.com/live-news/joe-biden-gop-impeachment-inquiry-hearing-hunter-biden-business-dealings\"\n",
        "fifth_result = reduce_and_query(fifth_article, system_input, reduction_fraction, headers)\n",
        "print(fifth_result)\n",
        "\n",
        "sixth_article = \"https://www.msnbc.com/deadline-white-house/deadline-legal-blog/trump-supreme-court-immunity-appeal-delay-rcna144155\"\n",
        "sixth_result = reduce_and_query(sixth_article, system_input, reduction_fraction, headers)\n",
        "print(sixth_result)\n",
        "\n",
        "seventh_article = \"https://www.msnbc.com/rachel-maddow-show/maddowblog/biden-white-house-reason-celebrate-falling-crime-rates-rcna144215\"\n",
        "seventh_result = reduce_and_query(seventh_article, system_input, reduction_fraction, headers)\n",
        "print(seventh_result)\n",
        "\n"
      ]
    }
  ],
  "metadata": {
    "colab": {
      "provenance": []
    },
    "kernelspec": {
      "display_name": "Python 3",
      "name": "python3"
    },
    "language_info": {
      "codemirror_mode": {
        "name": "ipython",
        "version": 3
      },
      "file_extension": ".py",
      "mimetype": "text/x-python",
      "name": "python",
      "nbconvert_exporter": "python",
      "pygments_lexer": "ipython3",
      "version": "3.12.1"
    }
  },
  "nbformat": 4,
  "nbformat_minor": 0
}

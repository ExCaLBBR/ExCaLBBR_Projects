{
  "nbformat": 4,
  "nbformat_minor": 0,
  "metadata": {
    "colab": {
      "provenance": [],
      "include_colab_link": true
    },
    "kernelspec": {
      "name": "python3",
      "display_name": "Python 3"
    },
    "language_info": {
      "name": "python"
    }
  },
  "cells": [
    {
      "cell_type": "markdown",
      "metadata": {
        "id": "view-in-github",
        "colab_type": "text"
      },
      "source": [
        "<a href=\"https://colab.research.google.com/github/ExCaLBBR/Demos/blob/main/Measuring_Political_Bias.ipynb\" target=\"_parent\"><img src=\"https://colab.research.google.com/assets/colab-badge.svg\" alt=\"Open In Colab\"/></a>"
      ]
    },
    {
      "cell_type": "code",
      "execution_count": 46,
      "metadata": {
        "id": "jzf4wY-T8Frl",
        "colab": {
          "base_uri": "https://localhost:8080/"
        },
        "outputId": "9efb893d-6934-4bc5-a822-7f2de2540b83"
      },
      "outputs": [
        {
          "output_type": "stream",
          "name": "stdout",
          "text": [
            "Requirement already satisfied: beautifulsoup4 in /usr/local/lib/python3.10/dist-packages (4.11.2)\n",
            "Requirement already satisfied: soupsieve>1.2 in /usr/local/lib/python3.10/dist-packages (from beautifulsoup4) (2.5)\n"
          ]
        }
      ],
      "source": [
        "pip install beautifulsoup4"
      ]
    },
    {
      "cell_type": "code",
      "source": [
        "pip install requests"
      ],
      "metadata": {
        "id": "XoAiwRTm8Rk0",
        "outputId": "9eeca392-fc86-4930-dd23-c0d675b77bb6",
        "colab": {
          "base_uri": "https://localhost:8080/"
        }
      },
      "execution_count": 47,
      "outputs": [
        {
          "output_type": "stream",
          "name": "stdout",
          "text": [
            "Requirement already satisfied: requests in /usr/local/lib/python3.10/dist-packages (2.31.0)\n",
            "Requirement already satisfied: charset-normalizer<4,>=2 in /usr/local/lib/python3.10/dist-packages (from requests) (3.3.0)\n",
            "Requirement already satisfied: idna<4,>=2.5 in /usr/local/lib/python3.10/dist-packages (from requests) (3.4)\n",
            "Requirement already satisfied: urllib3<3,>=1.21.1 in /usr/local/lib/python3.10/dist-packages (from requests) (2.0.7)\n",
            "Requirement already satisfied: certifi>=2017.4.17 in /usr/local/lib/python3.10/dist-packages (from requests) (2023.7.22)\n"
          ]
        }
      ]
    },
    {
      "cell_type": "code",
      "source": [
        "pip install transformers"
      ],
      "metadata": {
        "id": "Zi4nfx9F8T48",
        "colab": {
          "base_uri": "https://localhost:8080/"
        },
        "outputId": "2de6c65e-064f-4d81-988f-f0c91ac413cc"
      },
      "execution_count": 48,
      "outputs": [
        {
          "output_type": "stream",
          "name": "stdout",
          "text": [
            "Requirement already satisfied: transformers in /usr/local/lib/python3.10/dist-packages (4.34.1)\n",
            "Requirement already satisfied: filelock in /usr/local/lib/python3.10/dist-packages (from transformers) (3.12.4)\n",
            "Requirement already satisfied: huggingface-hub<1.0,>=0.16.4 in /usr/local/lib/python3.10/dist-packages (from transformers) (0.17.3)\n",
            "Requirement already satisfied: numpy>=1.17 in /usr/local/lib/python3.10/dist-packages (from transformers) (1.23.5)\n",
            "Requirement already satisfied: packaging>=20.0 in /usr/local/lib/python3.10/dist-packages (from transformers) (23.2)\n",
            "Requirement already satisfied: pyyaml>=5.1 in /usr/local/lib/python3.10/dist-packages (from transformers) (6.0.1)\n",
            "Requirement already satisfied: regex!=2019.12.17 in /usr/local/lib/python3.10/dist-packages (from transformers) (2023.6.3)\n",
            "Requirement already satisfied: requests in /usr/local/lib/python3.10/dist-packages (from transformers) (2.31.0)\n",
            "Requirement already satisfied: tokenizers<0.15,>=0.14 in /usr/local/lib/python3.10/dist-packages (from transformers) (0.14.1)\n",
            "Requirement already satisfied: safetensors>=0.3.1 in /usr/local/lib/python3.10/dist-packages (from transformers) (0.4.0)\n",
            "Requirement already satisfied: tqdm>=4.27 in /usr/local/lib/python3.10/dist-packages (from transformers) (4.66.1)\n",
            "Requirement already satisfied: fsspec in /usr/local/lib/python3.10/dist-packages (from huggingface-hub<1.0,>=0.16.4->transformers) (2023.6.0)\n",
            "Requirement already satisfied: typing-extensions>=3.7.4.3 in /usr/local/lib/python3.10/dist-packages (from huggingface-hub<1.0,>=0.16.4->transformers) (4.5.0)\n",
            "Requirement already satisfied: charset-normalizer<4,>=2 in /usr/local/lib/python3.10/dist-packages (from requests->transformers) (3.3.0)\n",
            "Requirement already satisfied: idna<4,>=2.5 in /usr/local/lib/python3.10/dist-packages (from requests->transformers) (3.4)\n",
            "Requirement already satisfied: urllib3<3,>=1.21.1 in /usr/local/lib/python3.10/dist-packages (from requests->transformers) (2.0.7)\n",
            "Requirement already satisfied: certifi>=2017.4.17 in /usr/local/lib/python3.10/dist-packages (from requests->transformers) (2023.7.22)\n"
          ]
        }
      ]
    },
    {
      "cell_type": "code",
      "source": [
        "pip install --upgrade transformers"
      ],
      "metadata": {
        "id": "y17Sm7tCEUe4",
        "colab": {
          "base_uri": "https://localhost:8080/"
        },
        "outputId": "9a049396-585d-4808-d42f-79b76929c53c"
      },
      "execution_count": 49,
      "outputs": [
        {
          "output_type": "stream",
          "name": "stdout",
          "text": [
            "Requirement already satisfied: transformers in /usr/local/lib/python3.10/dist-packages (4.34.1)\n",
            "Requirement already satisfied: filelock in /usr/local/lib/python3.10/dist-packages (from transformers) (3.12.4)\n",
            "Requirement already satisfied: huggingface-hub<1.0,>=0.16.4 in /usr/local/lib/python3.10/dist-packages (from transformers) (0.17.3)\n",
            "Requirement already satisfied: numpy>=1.17 in /usr/local/lib/python3.10/dist-packages (from transformers) (1.23.5)\n",
            "Requirement already satisfied: packaging>=20.0 in /usr/local/lib/python3.10/dist-packages (from transformers) (23.2)\n",
            "Requirement already satisfied: pyyaml>=5.1 in /usr/local/lib/python3.10/dist-packages (from transformers) (6.0.1)\n",
            "Requirement already satisfied: regex!=2019.12.17 in /usr/local/lib/python3.10/dist-packages (from transformers) (2023.6.3)\n",
            "Requirement already satisfied: requests in /usr/local/lib/python3.10/dist-packages (from transformers) (2.31.0)\n",
            "Requirement already satisfied: tokenizers<0.15,>=0.14 in /usr/local/lib/python3.10/dist-packages (from transformers) (0.14.1)\n",
            "Requirement already satisfied: safetensors>=0.3.1 in /usr/local/lib/python3.10/dist-packages (from transformers) (0.4.0)\n",
            "Requirement already satisfied: tqdm>=4.27 in /usr/local/lib/python3.10/dist-packages (from transformers) (4.66.1)\n",
            "Requirement already satisfied: fsspec in /usr/local/lib/python3.10/dist-packages (from huggingface-hub<1.0,>=0.16.4->transformers) (2023.6.0)\n",
            "Requirement already satisfied: typing-extensions>=3.7.4.3 in /usr/local/lib/python3.10/dist-packages (from huggingface-hub<1.0,>=0.16.4->transformers) (4.5.0)\n",
            "Requirement already satisfied: charset-normalizer<4,>=2 in /usr/local/lib/python3.10/dist-packages (from requests->transformers) (3.3.0)\n",
            "Requirement already satisfied: idna<4,>=2.5 in /usr/local/lib/python3.10/dist-packages (from requests->transformers) (3.4)\n",
            "Requirement already satisfied: urllib3<3,>=1.21.1 in /usr/local/lib/python3.10/dist-packages (from requests->transformers) (2.0.7)\n",
            "Requirement already satisfied: certifi>=2017.4.17 in /usr/local/lib/python3.10/dist-packages (from requests->transformers) (2023.7.22)\n"
          ]
        }
      ]
    },
    {
      "cell_type": "code",
      "source": [
        "from bs4 import BeautifulSoup\n",
        "import requests\n",
        "\n",
        "from transformers import AutoTokenizer, AutoModelForSequenceClassification\n",
        "import torch"
      ],
      "metadata": {
        "id": "LmGcUgYy8Y9L"
      },
      "execution_count": 50,
      "outputs": []
    },
    {
      "cell_type": "code",
      "source": [
        "# getting text from an article\n",
        "def webscrapingText(url):\n",
        "  #request to get url\n",
        "  response = requests.get(url)\n",
        "  soup = BeautifulSoup(response.content, \"html.parser\")\n",
        "\n",
        "  #get text content of article\n",
        "  #empty string\n",
        "  article_text = \"\"\n",
        "\n",
        "  for paragraph in soup.find_all(\"p\"):\n",
        "    article_text += paragraph.get_text()\n",
        "\n",
        "  return article_text\n",
        "\n",
        "url = \"https://www.cnn.com/2023/09/27/politics/trump-skipping-debate-republicans-2024/index.html\"\n",
        "print(webscrapingText(url))\n"
      ],
      "metadata": {
        "colab": {
          "base_uri": "https://localhost:8080/"
        },
        "id": "hWLoOEw2CwYu",
        "outputId": "e1b0d8b0-e580-45f4-c467-e2c4b4ac5765"
      },
      "execution_count": 51,
      "outputs": [
        {
          "output_type": "stream",
          "name": "stdout",
          "text": [
            "\n",
            "Donald Trump will skip another Republican presidential debate on Wednesday night because no one will punish him for not being there. \n",
            "  \n",
            "      No other Republican front-runner could so contemptuously snub his party’s second on-stage forum and do his own thing – in this case, a speech about the autoworkers dispute in Detroit as he cranks up a general election campaign months before the first primary votes are cast. \n",
            "  \n",
            "      While getting away with it is the ex-president’s quintessential political skill, his talent for evading consequences is facing a grave challenge in another sphere – the courts. A New York judge on Tuesday underscored the growing threat to Trump from his mountain of legal challenges, ruling in a civil case that the ex-president and his adult sons were liable for fraud. The judgment, which poses a severe threat to the future of the Trump Organization, comes ahead of the ex-president’s four criminal trials in other matters. \n",
            "  \n",
            "      Trump cannot control his legal fate, but his political destiny is still within his hands. He’s shattered the rules of politics as he takes aim at a second White House term that would strain the constitutional system of government more than the first. Trump has repeatedly reinvented his Republican Party and the way it picks its presidents, as well as crushing norms of presidential conduct. He’s defused the political fallout from multiple prosecutions – arising from his assaults on democracy and other alleged transgressions – by portraying them as examples of a weaponized government and justice system. The power of his political persona has cowed GOP critics and created a cult of personality that makes him invulnerable to attacks from within the party. Years of pouring scorn on the credibility of US elections convinced millions of his supporters he’s a victim of voter fraud. \n",
            "  \n",
            "Will Trump's rivals repeat the mistakes of their first debate?\n",
            "\n",
            "      So there’s very little risk for Trump in boycotting the debate at the Ronald Reagan Presidential Library, which honors the former president whose specter loomed over his party for decades until Trump’s populist nationalism chased it away. Since the first GOP debate last month in Wisconsin, Florida Gov. Ron DeSantis’ campaign has faded further while former South Carolina Gov. Nikki Haley has picked up some buzz and a few percentage points. But there’s no sign that, with another precious month of campaigning gone, any candidate is emerging as a meaningful challenger to Trump and his massive lead in the primary polls. \n",
            "  \n",
            "      It would be a major surprise if one of his rivals used the debate, which is effectively a showdown for second place, to launch the kind of searing criticism of Trump that could puncture his standing among GOP voters. Only candidates who barely register in most polls – like former New Jersey Gov. Chris Christie or former Arkansas Gov. Asa Hutchinson, who didn’t meet the RNC’s criteria to participate in this debate – have vigorously hammered Trump. While candidates like DeSantis and Haley have hit Trump on issues like abortion or tepidly over his electability, they’ve not risked a direct attack on the ex-president’s growing extremism. Mike Pence, the former vice president whom Trump’s supporters wanted to hang on January 6, 2021, has become more scathing – and has been rewarded with a sagging campaign. \n",
            "  \n",
            "Cassidy Hutchinson – an aide to ex-White House chief of staff Mark Meadows who has shown more courage in exposing Trump’s malfeasance on January 6 than most of the rest of the GOP – marveled at his influence on his party in an interview with CNN’s Jake Tapper Tuesday timed to the release of her new book. She included Republicans who will be on the debate stage on Wednesday night in her criticism of those who will not forcibly condemn Trump’s actions. “Donald Trump has such a grip on these people, and sometimes, I can’t put my finger on why,” Hutchinson told Tapper. \n",
            "  \n",
            "      “Why is it so easy for these people to go along with this, why is it so easy for these people to say what he is doing is OK?” Hutchinson added: “In that moment they are conceding that they are OK with waging a war on our Constitution. That is not a Republican value, that is not an American value, (but) those are the types of candidates we are looking at in 2024, though.”\n",
            "  \n",
            "      Trump’s cloak of political impunity has been on display as he’s barged back to the center of the political stage in recent days.\n",
            "  \n",
            "      Yet the ex-president’s talent for avoiding the consequences of his actions is facing its greatest challenge. On Tuesday, for instance, a judge in New York found that Trump and his sons, Eric and Donald Jr., had provided false financial statements for roughly a decade. In Washington, DC, meanwhile, a federal judge is considering a request by special counsel Jack Smith to impose a partial gag order on the former president after the prosecutor accused him of trying to poison the jury pool and intimidate witnesses. \n",
            "  \n",
            "      These legal dramas are the precursor to the four trials that the ex-president, who denies all wrongdoing, is facing on a total of 91 criminal charges – in relation to his attempt to overthrow the 2020 election, his alleged mishandling of classified documents he hoarded at Mar-a-Lago, and over a hush money payment to an adult film actress before the 2016 election. The mere suggestion of criminal indictments has been enough to shove most politicians out of office (although Democratic Sen. Robert Menendez is fighting multiple calls for his resignation ahead of his first court appearance on bribery charges on Wednesday). \n",
            "  \n",
            "      And yet, even the possibility that the already twice-impeached Trump could be a convicted felon before the November 2024 election isn’t destroying his brand among Republican voters. If anything, the opposite is true. \n",
            "  \n",
            "      One reason why Trump is so untouchable is that the Republican Party almost never makes him pay a price for his conduct. Top officeholders are swayed by Trump’s massive support among his fabled base voters, and they often face a choice between condemning Trump or saving their careers. GOP leaders who refuse to appease him – like former Arizona Sen. Jeff Flake, former Wyoming Rep. Liz Cheney and now Utah Sen. Mitt Romney – are either driven out of Congress or decide running for public office is no longer worth it.  \n",
            "  \n",
            "      Trump’s cult of strongman leadership also attracts acolytes who humor and imitate him. Republican firebrands like Florida Rep. Matt Gaetz and Georgia Rep. Marjorie Taylor Greene are recent examples. The ex-president’s political might within the GOP base means its leaders are loath to cross him. House Speaker Kevin McCarthy, for instance, said in the aftermath of the January 6 attack on the Capitol by Trump’s mob that the ex-president bore responsibility for the riot. But days after his patron left the White House in disgrace, McCarthy flew to Florida to repair ties with Trump – who helped him win the speakership in January, but now is tormenting him by goading House extremists to shut down the government.\n",
            "  \n",
            "      Trump’s personal magnetism, meanwhile, has attracted scores of officials and political operatives to his orbit, even though the price for many in his inner circle has been indictment over his election meddling schemes and the ruination of their reputations. Former New York Mayor Rudolph Giuliani and Meadows come to mind. \n",
            "  \n",
            "      The ex-president has also successfully argued he is standing in the way of a conspiratorial government that would target his followers if he relented. “If they can do this to me, they can do this to YOU!” Trump wrote in a social media post on Tuesday condemning the judgment against him in the New York fraud case. This argument has been so effective that the ex-president’s polling and fundraising often appeared to spike after his various indictments.\n",
            "  \n",
            "      Most fundamentally, however, Trump has built an impregnable political foundation among voters who initially saw him as an avatar for their hatred of the political, financial, media and legal establishments that they felt ignored or disdained them. Trump shrewdly acted like an insurgent in his own administration, often tearing at those institutions his voters distrusted. The result was that his followers bought into every subsequent aberrant behavior, seeing him as a victim of institutionalized political persecution. \n",
            "  © 2023 Cable News Network. A Warner Bros. Discovery Company. All Rights Reserved.  CNN Sans ™ & © 2016 Cable News Network.\n"
          ]
        }
      ]
    },
    {
      "cell_type": "code",
      "source": [
        "#Bert model from https://huggingface.co/bucketresearch/politicalBiasBERT\n",
        "\n",
        "def bertModel(article_text):\n",
        "  text = article_text\n",
        "\n",
        "  tokenizer = AutoTokenizer.from_pretrained(\"bert-base-cased\")\n",
        "\n",
        "  model = AutoModelForSequenceClassification.from_pretrained(\"bucketresearch/politicalBiasBERT\")\n",
        "\n",
        "  # the max length that the model takes in is 512 characters, so it is only analyzing the first 512\n",
        "  #characters of the article\n",
        "  inputs = tokenizer(text, return_tensors=\"pt\", max_length=512, truncation=True)\n",
        "  labels = torch.tensor([0])\n",
        "  outputs = model(**inputs, labels=labels)\n",
        "  loss, logits = outputs[:2]\n",
        "\n",
        "  # [0] -> left\n",
        "  # [1] -> center\n",
        "  # [2] -> right\n",
        "\n",
        "  percentages = logits.softmax(dim=-1)[0].tolist()\n",
        "\n",
        "  return percentages\n",
        "\n",
        "print(bertModel(webscrapingText(url)))"
      ],
      "metadata": {
        "colab": {
          "base_uri": "https://localhost:8080/"
        },
        "id": "g2gIerHrEcX5",
        "outputId": "88d04d5b-f6cf-4b49-f4a4-28e3ff5b5587"
      },
      "execution_count": 52,
      "outputs": [
        {
          "output_type": "stream",
          "name": "stdout",
          "text": [
            "[0.9910492897033691, 0.005068385042250156, 0.0038823040667921305]\n"
          ]
        }
      ]
    },
    {
      "cell_type": "code",
      "source": [
        "# clean data into smaller percentages\n",
        "def roundPercentage(percentages):\n",
        "  for i in range(len(percentages)):\n",
        "    percentages[i] = round(percentages[i], 3)\n",
        "  return percentages\n",
        "\n",
        "print(roundPercentage(bertModel(webscrapingText(url))))"
      ],
      "metadata": {
        "colab": {
          "base_uri": "https://localhost:8080/"
        },
        "id": "6-9ObRECI1s3",
        "outputId": "1cb419c7-8dda-45ae-960b-14bf08a6bac2"
      },
      "execution_count": 53,
      "outputs": [
        {
          "output_type": "stream",
          "name": "stdout",
          "text": [
            "[0.991, 0.005, 0.004]\n"
          ]
        }
      ]
    },
    {
      "cell_type": "code",
      "source": [
        "def printResults(percentages):\n",
        "\n",
        "\n",
        "  left = percentages[0]\n",
        "  center = percentages[1]\n",
        "  right = percentages[2]\n",
        "\n",
        "  greatest = max(percentages)\n",
        "\n",
        "  if greatest == left:\n",
        "    bias = \"Left\"\n",
        "  elif greatest == center:\n",
        "    bias = \"Center\"\n",
        "  else:\n",
        "    bias = \"Right\"\n",
        "\n",
        "  results = f\"Left = {left}, Center = {center}, Right = {right}. \"\n",
        "\n",
        "  results += f\"This text is {bias}-leaning!\"\n",
        "\n",
        "  return results\n",
        "\n",
        "\n",
        "\n",
        "diffUrl = \"https://www.cnn.com/2023/10/24/politics/house-republicans-speaker-nominee/index.html\"\n",
        "foxnewsUrl = \"https://www.foxnews.com/politics/biden-busts-century-old-tradition-wont-place-name-new-hampshires-presidential-primary-ballot\"\n",
        "print(printResults(roundPercentage(bertModel(webscrapingText(url)))))\n",
        "print(printResults(roundPercentage(bertModel(webscrapingText(diffUrl)))))\n",
        "print(printResults(roundPercentage(bertModel(webscrapingText(foxnewsUrl)))))"
      ],
      "metadata": {
        "colab": {
          "base_uri": "https://localhost:8080/"
        },
        "id": "Zo7-G_FDGGLg",
        "outputId": "a9956265-58b5-4be2-c093-c134ca83a311"
      },
      "execution_count": 54,
      "outputs": [
        {
          "output_type": "stream",
          "name": "stdout",
          "text": [
            "Left = 0.991, Center = 0.005, Right = 0.004. This text is Left-leaning!\n",
            "Left = 0.988, Center = 0.006, Right = 0.006. This text is Left-leaning!\n",
            "Left = 0.421, Center = 0.052, Right = 0.527. This text is Right-leaning!\n"
          ]
        }
      ]
    }
  ]
}
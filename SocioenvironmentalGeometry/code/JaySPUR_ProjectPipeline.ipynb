{
  "nbformat": 4,
  "nbformat_minor": 0,
  "metadata": {
    "colab": {
      "provenance": [],
      "include_colab_link": true
    },
    "kernelspec": {
      "name": "python3",
      "display_name": "Python 3"
    },
    "language_info": {
      "name": "python"
    }
  },
  "cells": [
    {
      "cell_type": "markdown",
      "metadata": {
        "id": "view-in-github",
        "colab_type": "text"
      },
      "source": [
        "<a href=\"https://colab.research.google.com/github/ExCaLBBR/ExCaLBBR_Projects/blob/main/SocioenvironmentalGeometry/code/JaySPUR_ProjectPipeline.ipynb\" target=\"_parent\"><img src=\"https://colab.research.google.com/assets/colab-badge.svg\" alt=\"Open In Colab\"/></a>"
      ]
    },
    {
      "cell_type": "markdown",
      "source": [
        "#Concept Geometry analysis pipeline\n",
        "For Jay's SPUR project: <br>\n",
        "Authors: <b>Roberto Vargas; Jay Williamson </b><br>\n",
        "Codebook created by: <b>Roberto Vargas </b><br>\n",
        "<br>\n",
        "<b>Pipeline includes:</b><br>\n",
        "*   Data restructuring: Sorting accoring to word list\n",
        "*   Regression predicting MiBi using: <i>Race; RaceProportion of Zipcode (@ birth; 10yo; and now); Gender; Income; Age; NewsBias</i>\n",
        "\n",
        "<br>\n",
        "<br>"
      ],
      "metadata": {
        "id": "O4Gme4COyVnz"
      }
    },
    {
      "cell_type": "code",
      "source": [
        "#@title Install dependancies\n",
        "import numpy as np\n",
        "import pandas as pd\n",
        "from matplotlib import pyplot as plt\n",
        "from scipy import stats\n",
        "from itertools import combinations\n",
        "import math\n",
        "import statsmodels as sm\n",
        "import statsmodels.api as sm\n",
        "from sklearn.linear_model import LinearRegression\n",
        "import csv\n",
        "from tqdm import tqdm\n",
        "import networkx as nx\n",
        "from sklearn.decomposition import PCA\n",
        "from sklearn.preprocessing import OneHotEncoder, LabelEncoder\n",
        "from sklearn.linear_model import LogisticRegression\n",
        "from sklearn.model_selection import train_test_split\n",
        "from sklearn.metrics import accuracy_score, confusion_matrix\n",
        "from sklearn.feature_selection import SelectKBest, f_classif\n",
        "from scipy.stats import ttest_ind\n",
        "import requests\n",
        "import geopandas as gpd\n",
        "!pip install census\n",
        "!pip install us\n",
        "from census import Census\n",
        "from us import states\n",
        "import os\n"
      ],
      "metadata": {
        "id": "SEWVqBcKx9KO",
        "collapsed": true,
        "colab": {
          "base_uri": "https://localhost:8080/"
        },
        "outputId": "ac12e6f9-d8b6-4f81-91d1-0e4dee3475f7",
        "cellView": "form"
      },
      "execution_count": 1,
      "outputs": [
        {
          "output_type": "stream",
          "name": "stdout",
          "text": [
            "Collecting census\n",
            "  Downloading census-0.8.21-py3-none-any.whl (11 kB)\n",
            "Requirement already satisfied: requests>=1.1.0 in /usr/local/lib/python3.10/dist-packages (from census) (2.31.0)\n",
            "Requirement already satisfied: charset-normalizer<4,>=2 in /usr/local/lib/python3.10/dist-packages (from requests>=1.1.0->census) (3.3.2)\n",
            "Requirement already satisfied: idna<4,>=2.5 in /usr/local/lib/python3.10/dist-packages (from requests>=1.1.0->census) (3.6)\n",
            "Requirement already satisfied: urllib3<3,>=1.21.1 in /usr/local/lib/python3.10/dist-packages (from requests>=1.1.0->census) (2.0.7)\n",
            "Requirement already satisfied: certifi>=2017.4.17 in /usr/local/lib/python3.10/dist-packages (from requests>=1.1.0->census) (2024.2.2)\n",
            "Installing collected packages: census\n",
            "Successfully installed census-0.8.21\n",
            "Collecting us\n",
            "  Downloading us-3.1.1.tar.gz (14 kB)\n",
            "  Preparing metadata (setup.py) ... \u001b[?25l\u001b[?25hdone\n",
            "Collecting jellyfish==0.11.2 (from us)\n",
            "  Downloading jellyfish-0.11.2-cp310-cp310-manylinux_2_17_x86_64.manylinux2014_x86_64.whl (1.2 MB)\n",
            "\u001b[2K     \u001b[90m━━━━━━━━━━━━━━━━━━━━━━━━━━━━━━━━━━━━━━━━\u001b[0m \u001b[32m1.2/1.2 MB\u001b[0m \u001b[31m11.5 MB/s\u001b[0m eta \u001b[36m0:00:00\u001b[0m\n",
            "\u001b[?25hBuilding wheels for collected packages: us\n",
            "  Building wheel for us (setup.py) ... \u001b[?25l\u001b[?25hdone\n",
            "  Created wheel for us: filename=us-3.1.1-py3-none-any.whl size=12545 sha256=171cf22e76c8d0ba6a3bd438b53dba26a57d2fd8fcef6c7dced71cca556c19e9\n",
            "  Stored in directory: /root/.cache/pip/wheels/da/f9/64/9669135a7ce533faf78e3b32259c505f964f03b069be6844f8\n",
            "Successfully built us\n",
            "Installing collected packages: jellyfish, us\n",
            "Successfully installed jellyfish-0.11.2 us-3.1.1\n"
          ]
        }
      ]
    },
    {
      "cell_type": "code",
      "source": [
        "#@title Define utility functions\n",
        "def scoreMIBI(MIBIdat):\n",
        "  MIBIscored = []\n",
        "  for p in range(MIBIdat.shape[0]):\n",
        "    piMIBI = MIBIdat.loc[p]\n",
        "    piMIBI[0] = (7-piMIBI[0])+1\n",
        "    piMIBI[3] = (7-piMIBI[3])+1\n",
        "    piMIBI[7] = (7-piMIBI[7])+1\n",
        "    pMIBI = np.mean(piMIBI)\n",
        "\n",
        "    MIBIscored.append(pMIBI)\n",
        "\n",
        "  return MIBIscored\n",
        "\n",
        "def weightedHeatmap(PairData, words, PlotHM):\n",
        "\n",
        "    '''\n",
        "    Restructure RT into matrix data structure\n",
        "\n",
        "    '''\n",
        "\n",
        "    Wmat = np.zeros((len(words),len(words)))\n",
        "    t = 0\n",
        "    z = 0\n",
        "\n",
        "    for i in range(len(words)):\n",
        "        for j in range(len(words)):\n",
        "\n",
        "            if i == j:\n",
        "                Wmat[i,j] = np.NaN\n",
        "\n",
        "            elif j > i:\n",
        "                Wmat[i,j] = PairData[t]\n",
        "                Wmat[j,i] = PairData[t]\n",
        "                t += 1\n",
        "\n",
        "\n",
        "    if PlotHM == 1:\n",
        "        plt.imshow(Wmat,  cmap='RdBu', vmin=-7, vmax=7)\n",
        "        plt.colorbar()\n",
        "        plt.xticks(range(len(words)), words, rotation='vertical')\n",
        "        plt.yticks(range(len(words)), words)\n",
        "        plt.show()\n",
        "\n",
        "    return Wmat\n",
        "\n",
        "def ccbi_randperm(ntimes, nperm):\n",
        "\n",
        "    '''\n",
        "      p = ccbi_randperm(nitems,nperm)\n",
        "      Parameters: number of items, number of random permutations\n",
        "      Output: a matrix with nperm rows;\n",
        "      Each row is an index of permuted item positions.\n",
        "\n",
        "      returns a matrix (n,nitems)\n",
        "      each row is a random permutation of nitems (labelled 1:nitems)\n",
        "      produces n such permutations\n",
        "      the random seed is changed at every call\n",
        "\n",
        "    '''\n",
        "\n",
        "    p = np.zeros((nperm, ntimes))\n",
        "    for i in range(nperm):\n",
        "        p[i,:] = np.random.permutation(ntimes)\n",
        "\n",
        "    return p\n",
        "\n",
        "\n",
        "def splitHalf_Reliability(dat, perm):\n",
        "    \"\"\"\n",
        "    Compute the reliability within a measure\n",
        "    This analysis splits the data into 2 halfs and then averages the similarity structure\n",
        "    This analysis is repeated\n",
        "\n",
        "    \"\"\"\n",
        "    pSplit = ccbi_randperm(dat.shape[1], perm)\n",
        "\n",
        "    rho = []\n",
        "    for p in range(perm):\n",
        "        # Split data\n",
        "        if dat.shape[1] % 2 == 0:  # is even\n",
        "            frstHalf = dat.iloc[:, pSplit[p, :(pSplit.shape[1]//2)]]\n",
        "            scndHalf = dat.iloc[:, pSplit[p, (pSplit.shape[1]//2):]]\n",
        "\n",
        "        elif dat.shape[1] % 2 == 1:  # is odd\n",
        "            frstHalf = dat.iloc[:, pSplit[p, :int(np.floor(pSplit.shape[1]/2))]]\n",
        "            scndHalf = dat.iloc[:, pSplit[p, int(np.ceil(pSplit.shape[1]/2)):]]\n",
        "        # Avg dist of each half\n",
        "        avgFrstHalf = frstHalf.mean(axis=1)\n",
        "        avgScndHalf = scndHalf.mean(axis=1)\n",
        "\n",
        "        # Correlate halves\n",
        "        rhoI = np.corrcoef(avgFrstHalf, avgScndHalf)[0,1]\n",
        "\n",
        "        rho.append(rhoI)\n",
        "\n",
        "    rho = np.mean(rho)\n",
        "\n",
        "    return rho\n",
        "\n",
        "\n",
        "\n",
        "def regPairDiff(X, Y, perm):\n",
        "\n",
        "    '''\n",
        "\n",
        "    Predict pair differences among a X in Y\n",
        " \tX is vector or matrix of variables used to predict Y\n",
        " \tY is a continuous vector\n",
        " \tperm is the number of permutations used to compare against the observed beta\n",
        "  Dimensions of X and Y should all align\n",
        "\n",
        "    '''\n",
        "\n",
        "    # Generate the permutations\n",
        "    pComb = ccbi_randperm(X.shape[0],perm)\n",
        "\n",
        "    # Generate constant\n",
        "    con = np.ones(X.shape[0])\n",
        "    con = con.reshape(con.shape[0], 1)\n",
        "\n",
        "    # Estimate observed beta\n",
        "    xModel = np.concatenate((con, X), axis=1)\n",
        "    betaObs, _, _, _ = np.linalg.lstsq(xModel.astype('float'), Y, rcond=None)\n",
        "\n",
        "    betaPerm = []\n",
        "\n",
        "    for p in range(perm):\n",
        "        pCombi = pComb.astype(int)\n",
        "        yPerm = Y[pCombi[p,:]]\n",
        "        bPerm, _, _, _ = np.linalg.lstsq(xModel.astype('float'), yPerm, rcond=None)\n",
        "        betaPerm.append(bPerm)\n",
        "\n",
        "    betaPerm = pd.DataFrame(betaPerm)\n",
        "\n",
        "    pval =[]\n",
        "    for b in range(len(betaObs)):\n",
        "      if betaObs[b] > 0:\n",
        "        nBbeyond =  len(np.where(np.array(betaPerm[b]) > betaObs[b])[0])\n",
        "        pb = nBbeyond/perm\n",
        "        pval.append(pb)\n",
        "      elif betaObs[b] < 0:\n",
        "        nBbeyond = len([x for x in np.array(betaPerm[b]) if x < betaObs[b]])\n",
        "        pb = nBbeyond/perm\n",
        "        pval.append(pb)\n",
        "\n",
        "      else:\n",
        "        raise ValueError('observed beta is exactly equal to 0')\n",
        "\n",
        "    return betaObs, pval, betaPerm\n"
      ],
      "metadata": {
        "id": "hlRGP67on-WW",
        "cellView": "form"
      },
      "execution_count": 2,
      "outputs": []
    },
    {
      "cell_type": "code",
      "source": [
        "#@title Clean up Dataframes mask out participants who didn't complete all parts of session\n",
        "#Data path\n",
        "path = 'https://github.com/ExCaLBBR/ExCaLBBR_Projects/raw/main/SocioenvironmentalGeometry/data/'\n",
        "\n",
        "# Load Demographic PRaM data\n",
        "datDemo = pd.read_csv (path + 'demographic.csv', header=1)\n",
        "#datPRaM = pd.read_csv (path + 'df_taskPRaM.csv', header=0)\n",
        "pairLab = pd.read_csv (path + 'PRaM_pairLabels.csv', header=None)\n",
        "news = pd.read_csv (path + 'df_News_coded.csv', header=1)\n",
        "MIBI = pd.read_csv(path + 'df_MIBI.csv', header=1)\n",
        "\n",
        "#remove misc row and incomplete sessions\n",
        "datDemo = datDemo.drop(labels=0, axis=0)\n",
        "datDemo = datDemo.reset_index(drop=True)\n",
        "datDemo['Question Key'] = [sub[: -2] for sub in datDemo['Question Key']]\n",
        "#datPRaM = datPRaM.drop(['Participant Private ID'], axis=1)\n",
        "#datPRaM = datPRaM.reset_index(drop=True)\n",
        "news = news.drop(labels=0, axis=0)\n",
        "news = news.reset_index(drop=True)\n",
        "MIBI = MIBI.drop(labels=0, axis=0)\n",
        "MIBI['Question Key'] = [sub[: -2] for sub in MIBI['Question Key']]\n",
        "MIBI = MIBI.reset_index(drop=True)\n",
        "\n",
        "#Identify participants who did not complete all measures\n",
        "lst1 = datDemo['Question Key']\n",
        "lst2 = news['Question Key']\n",
        "exPart = list(set(lst1) - set(lst2))\n",
        "mask = datDemo['Question Key'].str.contains(exPart[0], na=True) #If the number of participants to exclude exceeds 1 you will need a for loop\n",
        "datDemo = datDemo[~mask]\n",
        "#datPRaM = datPRaM[~mask]\n",
        "\n",
        "#reset index just in case\n",
        "datDemo = datDemo.reset_index(drop=True)\n",
        "#datPRaM = datPRaM.reset_index(drop=True)\n",
        "news = news.reset_index(drop=True)\n",
        "\n",
        "#Sort pairs accoring to prefered combination\n",
        "words = ['police', 'firefighter', 'neighbors(yours)', 'conservatives(political)', 'liberals(political)', 'healthcare', 'voting', 'immigration', 'religion', 'science', 'anger', 'fear', 'joy', 'love', 'sadness', 'trust']\n",
        "combinations_list = [list(c) for c in combinations(words, 2)]\n"
      ],
      "metadata": {
        "id": "Y3gJYjXFp7Nu",
        "cellView": "form"
      },
      "execution_count": 41,
      "outputs": []
    },
    {
      "cell_type": "code",
      "source": [
        "#Mask out datDemo and news by participants who completed the MIBI\n",
        "lst1 = datDemo['Question Key']\n",
        "lst2 = news['Question Key']\n",
        "lstKey = MIBI['Question Key']\n",
        "\n",
        "exPart = list(set(lst1) - set(lstKey))\n",
        "mask = datDemo['Question Key'].str.contains(exPart[0], na=True) #If the number of participants to exclude exceeds 1 you will need a for loop\n",
        "datDemo = datDemo[~mask]\n",
        "\n",
        "exPart = list(set(lst2) - set(lstKey))\n",
        "mask = news['Question Key'].str.contains(exPart[0], na=True) #If the number of participants to exclude exceeds 1 you will need a for loop\n",
        "news = news[~mask]\n",
        "\n",
        "#reset index just in case\n",
        "datDemo = datDemo.reset_index(drop=True)\n",
        "news = news.reset_index(drop=True)"
      ],
      "metadata": {
        "id": "cDxN4bUOPt8f"
      },
      "execution_count": 42,
      "outputs": []
    },
    {
      "cell_type": "code",
      "source": [
        "#@title Subset participants by those who have complete data\n",
        "#Isolate Race variable\n",
        "raceCol = datDemo.columns.get_loc('raceEth_v2')\n",
        "bIndx =  datDemo[datDemo.iloc[:,raceCol].str.contains('Black or African American')].index\n",
        "wIndx =  datDemo[datDemo.iloc[:,raceCol].str.contains('White')].index\n",
        "IDCol = raceCol = datDemo.columns.get_loc('Question Key')\n",
        "bID = datDemo.iloc[bIndx,IDCol]\n",
        "wID = datDemo.iloc[wIndx,IDCol]\n",
        "ID = pd.concat([wID,bID])\n",
        "\n",
        "#Subset MIBI by bIndx\n",
        "lst1 = MIBI['Question Key']\n",
        "lst2 = bID\n",
        "exPart = list(set(lst1) - set(lst2))\n",
        "mask = MIBI['Question Key'].str.contains(exPart[0], na=True) #If the number of participants to exclude exceeds 1 you will need a for loop\n",
        "MIBI = MIBI[~mask]\n",
        "MIBI = MIBI.drop(labels='Question Key',axis=1)\n",
        "MIBI = MIBI.reset_index(drop=True)\n",
        "MIBI = scoreMIBI(MIBI)\n",
        "MIBI = pd.Series(MIBI)\n",
        "\n",
        "#Isolate Zip variable\n",
        "zipBornCol = datDemo.columns.get_loc('zipborn')\n",
        "bZipBorn = datDemo.iloc[bIndx,zipBornCol]\n",
        "\n",
        "zip10yCol = datDemo.columns.get_loc('response-3')\n",
        "bZip10y = datDemo.iloc[bIndx,zip10yCol]\n",
        "\n",
        "zipNowCol= datDemo.columns.get_loc('zipnow')\n",
        "bZipNow = datDemo.iloc[bIndx,zipNowCol]\n",
        "\n",
        "# Isolate Age variable and subset sample by race\n",
        "ageCol = datDemo.columns.get_loc('age')\n",
        "bAge = datDemo.iloc[bIndx,ageCol]\n",
        "Age = bAge.replace(1984, 38)\n",
        "\n",
        "# Isolate Income variable and subset sample by race\n",
        "incCol = datDemo.columns.get_loc('Income')\n",
        "bIncome = datDemo.iloc[bIndx,incCol]\n",
        "Income = pd.Series(bIncome)\n",
        "\n",
        "# Isolate Gender variable and create concatonated vector\n",
        "gendCol = datDemo.columns.get_loc('gender')\n",
        "bGender = datDemo.iloc[bIndx,gendCol]\n",
        "Gender = pd.Series(bGender)\n",
        "\n",
        "#Homogenize Gender responses to F and M and remove genders with insufficient representation\n",
        "remIndx = Gender.str.contains(pat = 'non', case=False) | Gender.str.contains(pat = 'Gen', case=False)\n",
        "Gender.loc[remIndx]= 'R'\n",
        "femIndx = Gender.str.contains(pat = 'f',case=False) | Gender.str.contains(pat = 'w',case=False)\n",
        "Gender.loc[femIndx]= 'F'\n",
        "maleIndx = Gender.str.contains(pat = 'an',case=False) | Gender.str.contains(pat = 'al',case=False)\n",
        "Gender.loc[maleIndx]= 'M'\n",
        "\n",
        "#Isolate News bias and subset sample by race\n",
        "newsbiasCol = news.columns.get_loc('avgBias')\n",
        "bNewsBias = news.iloc[bIndx,newsbiasCol]\n",
        "NewsBias = pd.Series(bNewsBias)\n",
        "\n",
        "#Remove underrepesented gender identities (i.e, non-bianary)\n",
        "Gender_nG = Gender[~remIndx]\n",
        "Income_nG = Income[~remIndx]\n",
        "Age_nG = Age[~remIndx]\n",
        "NewsBias_nG = NewsBias[~remIndx]\n",
        "bZipBorn = bZipBorn[~remIndx]\n",
        "bZip10y = bZip10y[~remIndx]\n",
        "bZipNow = bZipNow[~remIndx]\n",
        "bID = bID[~remIndx]\n",
        "remIndx = remIndx.reset_index(drop=True)\n",
        "MIBI = MIBI[~remIndx]\n",
        "\n",
        "#Remove participants who only consumed algorithmic news sources\n",
        "remIdxNBias= NewsBias.str.contains(pat = 'x', case=False)\n",
        "Gender = Gender_nG[~remIdxNBias]\n",
        "Income = Income_nG[~remIdxNBias]\n",
        "Age = Age_nG[~remIdxNBias]\n",
        "NewsBias = NewsBias_nG[~remIdxNBias]\n",
        "NewsBias = NewsBias.astype('float')\n",
        "bZipBorn = bZipBorn[~remIdxNBias]\n",
        "bZip10y = bZip10y[~remIdxNBias]\n",
        "bZipNow = bZipNow[~remIdxNBias]\n",
        "bID = bID[~remIdxNBias] #used to make sure participants align\n",
        "# remIdxNBias = remIdxNBias.reset_index(drop=True)\n",
        "# MIBI = MIBI[~remIdxNBias]\n"
      ],
      "metadata": {
        "id": "Grr5pQ5ct3wj",
        "cellView": "form"
      },
      "execution_count": 43,
      "outputs": []
    },
    {
      "cell_type": "code",
      "source": [
        "pIndx = np.concatenate([wIndx,bIndx])\n",
        "\n",
        "# Isolate Gender variable and create concatonated vector\n",
        "gendCol = datDemo.columns.get_loc('gender')\n",
        "pGender = datDemo.iloc[pIndx,gendCol]\n",
        "Gender = pd.Series(pGender)\n",
        "\n",
        "#Homogenize Gender responses to F and M and remove genders with insufficient representation\n",
        "remIndx = Gender.str.contains(pat = 'non', case=False) | Gender.str.contains(pat = 'Gen', case=False)\n",
        "\n",
        "#Isolate News bias and subset sample by race\n",
        "newsbiasCol = news.columns.get_loc('avgBias')\n",
        "pNewsBias = news.iloc[pIndx,newsbiasCol]\n",
        "NewsBias = pd.Series(pNewsBias)\n",
        "NewsBias_nG = NewsBias[~remIndx]\n",
        "\n",
        "remIdxNBias= NewsBias.str.contains(pat = 'x', case=False)\n",
        "\n",
        "zipNowCol= datDemo.columns.get_loc('zipnow')\n",
        "ZipNow = datDemo.iloc[pIndx,zipNowCol]\n",
        "\n",
        "ZipNow = ZipNow[~remIndx]\n",
        "ID = ID[~remIndx]\n",
        "\n",
        "ZipNow = ZipNow[~remIdxNBias]\n",
        "ID_ng = ID[~remIdxNBias]\n",
        "\n",
        "\n",
        "\n",
        "\n",
        "#Incorperate Census query code here\n",
        "# bZipNow\n",
        "ZipNow = ZipNow.reset_index(drop=True)\n",
        "ZipNow = [round(sub) for sub in ZipNow]\n",
        "# Set API key\n",
        "c = Census(\"3467d4b27d132a110e0b5e096a94d6486208098d\")\n",
        "PropNow = []\n",
        "for z in tqdm(range(len(bZipNow))):\n",
        "  zip= ZipNow[z] #'15217'\n",
        "  info = c.acs5.state_zipcode(('NAME', 'B02001_003E', 'B01003_001E'),states.WA.fips,zip,year=2021)\n",
        "  if len(info) == 0:\n",
        "    PropNow.append(-1)\n",
        "  else :\n",
        "    Propi = (info[0]['B02001_003E']/info[0]['B01003_001E'])*100\n",
        "    PropNow.append(Propi)\n",
        "\n",
        "#Find index of all participants with NA\n",
        "PropNow = pd.Series(PropNow)\n",
        "PropNow = PropNow.reset_index(drop=True)\n",
        "remIndxZip = PropNow[PropNow == -1].index"
      ],
      "metadata": {
        "id": "JxVx0l32nNPR",
        "outputId": "0aed2d73-5fb7-49bf-de8d-261884ecb870",
        "colab": {
          "base_uri": "https://localhost:8080/"
        }
      },
      "execution_count": 44,
      "outputs": [
        {
          "output_type": "stream",
          "name": "stderr",
          "text": [
            "100%|██████████| 213/213 [01:49<00:00,  1.95it/s]\n"
          ]
        }
      ]
    },
    {
      "cell_type": "code",
      "source": [
        "len(np.unique(ZipNow))"
      ],
      "metadata": {
        "id": "PiwqHdMj9ddY",
        "outputId": "19754d70-9c85-4243-fddf-51d6d9c89267",
        "colab": {
          "base_uri": "https://localhost:8080/"
        }
      },
      "execution_count": 48,
      "outputs": [
        {
          "output_type": "execute_result",
          "data": {
            "text/plain": [
              "421"
            ]
          },
          "metadata": {},
          "execution_count": 48
        }
      ]
    },
    {
      "cell_type": "code",
      "source": [
        "#Incorperate Census query code here\n",
        "# bZipNow\n",
        "bZipNow = bZipNow.reset_index(drop=True)\n",
        "bZipNow = [round(sub) for sub in bZipNow]\n",
        "# Set API key\n",
        "c = Census(\"3467d4b27d132a110e0b5e096a94d6486208098d\")\n",
        "bPropNow = []\n",
        "for z in tqdm(range(len(bZipNow))):\n",
        "  zip= bZipNow[z] #'15217'\n",
        "  info = c.acs5.state_zipcode(('NAME', 'B02001_003E', 'B01003_001E'),states.WA.fips,zip,year=2021)\n",
        "  if len(info) == 0:\n",
        "    bPropNow.append(-1)\n",
        "  else :\n",
        "    bPropi = (info[0]['B02001_003E']/info[0]['B01003_001E'])*100\n",
        "    bPropNow.append(bPropi)\n",
        "\n",
        "#Find index of all participants with NA\n",
        "bPropNow = pd.Series(bPropNow)\n",
        "bPropNow = bPropNow.reset_index(drop=True)\n",
        "remIndxZip = bPropNow[bPropNow == -1].index"
      ],
      "metadata": {
        "colab": {
          "base_uri": "https://localhost:8080/"
        },
        "id": "Xc3wdfir1Uuc",
        "outputId": "35be5b08-6d40-4268-ffec-0058b620a660"
      },
      "execution_count": null,
      "outputs": [
        {
          "output_type": "stream",
          "name": "stderr",
          "text": [
            "100%|██████████| 213/213 [01:56<00:00,  1.83it/s]\n"
          ]
        }
      ]
    },
    {
      "cell_type": "code",
      "source": [
        "#Subset all relevant variables by those who also have data for zipcodes\n",
        "#Reset indexes as necessary\n",
        "Age = Age.reset_index(drop=True)\n",
        "Income = Income.reset_index(drop=True)\n",
        "NewsBias = NewsBias.reset_index(drop=True)\n",
        "MIBI = MIBI.reset_index(drop=True)\n",
        "Gender = Gender.reset_index(drop=True)\n",
        "bPropNow = bPropNow.reset_index(drop=True)\n",
        "\n",
        "Age = Age.drop(remIndxZip)\n",
        "Income = Income.drop(remIndxZip)\n",
        "NewsBias = NewsBias.drop(remIndxZip)\n",
        "MIBI = MIBI.drop(remIndxZip)\n",
        "Gender = Gender.drop(remIndxZip)\n",
        "bPropNow = bPropNow.drop(remIndxZip)\n",
        "\n",
        "#Reset indexes as necessary\n",
        "Age = Age.reset_index(drop=True)\n",
        "Income = Income.reset_index(drop=True)\n",
        "NewsBias = NewsBias.reset_index(drop=True)\n",
        "MIBI = MIBI.reset_index(drop=True)\n",
        "Gender = Gender.reset_index(drop=True)\n",
        "bPropNow = bPropNow.reset_index(drop=True)\n",
        "\n",
        "print(f'Sample of participant completing session = ', len(datDemo['Question Key']))\n",
        "print(f'Of',len(datDemo['Question Key']), ',' ,(len(bIndx)+len(wIndx)), 'participants identified as non-Hispanic White(', len(wIndx),') or Black/AfricanAmerican(', len(bIndx),')')\n",
        "print(f'For the purposes of this study only the sample of', len(bIndx), 'Black/AfricanAmerican participants will be analyzed.')\n",
        "print(f'of', (len(bIndx)), ',', len(Gender_nG), 'participants identified as Female(', sum(femIndx==1), ') or Male(', sum(maleIndx==1),')')\n",
        "print(f'of the', len(Gender_nG), ',', len(remIndxZip), 'participants consumed a non-algorithmic news source with measurable political bias.')\n",
        "print(f'of the', len(remIndxZip), ',', len(bZipNow), 'participants census info could be queries from zipcodes.')\n",
        "print(f'The final analyzed sample contains', len(bPropNow), 'participants!')"
      ],
      "metadata": {
        "colab": {
          "base_uri": "https://localhost:8080/"
        },
        "id": "Roy1o7_5TYrg",
        "outputId": "9763af5a-7edd-4326-d63c-bff4a4d20c0e"
      },
      "execution_count": null,
      "outputs": [
        {
          "output_type": "stream",
          "name": "stdout",
          "text": [
            "Sample of participant completing session =  584\n",
            "Of 584 , 571 participants identified as non-Hispanic White( 293 ) or Black/AfricanAmerican( 278 )\n",
            "For the purposes of this study only the sample of 278 Black/AfricanAmerican participants will be analyzed.\n",
            "of 278 , 276 participants identified as Female( 140 ) or Male( 136 )\n",
            "of the 276 , 20 participants consumed a non-algorithmic news source with measurable political bias.\n",
            "of the 20 , 213 participants census info could be queries from zipcodes.\n",
            "The final analyzed sample contains 193 participants!\n"
          ]
        }
      ]
    },
    {
      "cell_type": "code",
      "source": [
        "#@title Plot descriptive statistics\n",
        "#Participant descriptive statistics\n",
        "# Plot age histograms\n",
        "Age_mean = np.mean(Age)\n",
        "Age_sd = np.std(Age)\n",
        "print(f'Mean age for sample:', round(Age_mean,2), '( SD =', round(Age_sd,2), ')')\n",
        "plt.hist(Age, alpha=0.75, color= 'k')\n",
        "plt.title('Age')\n",
        "plt.show()\n",
        "\n",
        "# Plot Income histograms\n",
        "customSort = {'Less than $12500':0, '$12501-$22500':1, '$22501-$42500':2, '$42501-$80000':3 ,'More than $80000':4}\n",
        "IncPlot = Income.sort_values(key=lambda x: x.map(customSort))\n",
        "plt.hist(IncPlot,\n",
        "         alpha=0.5,\n",
        "         color='k')\n",
        "plt.title('Income')\n",
        "plt.xticks(rotation = 45)\n",
        "plt.show()\n",
        "\n",
        "# Plot NewsBias histograms\n",
        "Newsbias_mean = np.mean(NewsBias)\n",
        "Newsbias_sd = np.std(NewsBias)\n",
        "\n",
        "print(f'Mean News consumption bias for sample:', round(Newsbias_mean,2), '( SD =', round(Newsbias_sd,2), ')')\n",
        "plt.hist(NewsBias.sort_values(axis=0),\n",
        "         alpha=0.5,\n",
        "         color='k')\n",
        "plt.title('NewsBias (1=Left; 5=Right)')\n",
        "plt.xticks(rotation = 45)\n",
        "plt.show()\n",
        "\n",
        "# Plot MIBI histograms\n",
        "MIBI_mean = np.mean(MIBI)\n",
        "MIBI_sd = np.std(MIBI)\n",
        "\n",
        "print(f'Mean MIBI for sample:', round(MIBI_mean,2), '( SD =', round(MIBI_sd,2), ')')\n",
        "plt.hist(MIBI.sort_values(axis=0),\n",
        "         alpha=0.5,\n",
        "         color='k')\n",
        "plt.title('MIBI (1=Low centrality; 7=High centrality)')\n",
        "plt.xticks(rotation = 45)\n",
        "plt.show()\n",
        "\n",
        "# Plot PropCommunity histograms\n",
        "bPropNow_mean = np.mean(bPropNow)\n",
        "bPropNow_sd = np.std(bPropNow)\n",
        "\n",
        "print(f'Mean Proportion Black in Zip for sample:', round(bPropNow_mean,2), '( SD =', round(bPropNow_sd,2), ')')\n",
        "plt.hist(bPropNow.sort_values(axis=0),\n",
        "         alpha=0.5,\n",
        "         color='k')\n",
        "plt.title('Proportion Black in Zip (percent)')\n",
        "plt.xticks(rotation = 45)\n",
        "plt.show()\n"
      ],
      "metadata": {
        "id": "_lANLpXUyvHN",
        "outputId": "96072577-eab1-42c3-d0d2-510f31242f9c",
        "colab": {
          "base_uri": "https://localhost:8080/",
          "height": 1000
        },
        "cellView": "form"
      },
      "execution_count": null,
      "outputs": [
        {
          "output_type": "stream",
          "name": "stdout",
          "text": [
            "Mean age for sample: 38.11 ( SD = 11.41 )\n"
          ]
        },
        {
          "output_type": "display_data",
          "data": {
            "text/plain": [
              "<Figure size 640x480 with 1 Axes>"
            ],
            "image/png": "[encoded data removed]"
          },
          "metadata": {}
        },
        {
          "output_type": "display_data",
          "data": {
            "text/plain": [
              "<Figure size 640x480 with 1 Axes>"
            ],
            "image/png": "[encoded data removed]"
          },
          "metadata": {}
        },
        {
          "output_type": "stream",
          "name": "stdout",
          "text": [
            "Mean News consumption bias for sample: 2.01 ( SD = 1.09 )\n"
          ]
        },
        {
          "output_type": "display_data",
          "data": {
            "text/plain": [
              "<Figure size 640x480 with 1 Axes>"
            ],
            "image/png": "[encoded data removed]"
          },
          "metadata": {}
        },
        {
          "output_type": "stream",
          "name": "stdout",
          "text": [
            "Mean MIBI for sample: 5.09 ( SD = 1.45 )\n"
          ]
        },
        {
          "output_type": "display_data",
          "data": {
            "text/plain": [
              "<Figure size 640x480 with 1 Axes>"
            ],
            "image/png": "[encoded data removed]"
          },
          "metadata": {}
        },
        {
          "output_type": "stream",
          "name": "stdout",
          "text": [
            "Mean Proportion Black in Zip for sample: 31.72 ( SD = 27.62 )\n"
          ]
        },
        {
          "output_type": "display_data",
          "data": {
            "text/plain": [
              "<Figure size 640x480 with 1 Axes>"
            ],
            "image/png": "[encoded data removed]"
          },
          "metadata": {}
        }
      ]
    },
    {
      "cell_type": "code",
      "source": [
        "#Format Gender and Income into something that can be used in the model\n",
        "#Gender [Female = 1; Male = 0]\n",
        "FInd = Gender.str.contains('F')\n",
        "MInd = Gender.str.contains('M')\n",
        "RInd = Gender.str.contains('R')\n",
        "Gender.loc[FInd] = 1\n",
        "Gender.loc[MInd] = 0\n",
        "femaleCode = Gender\n",
        "\n",
        "#SES [Higher value means higher income bracket]\n",
        "i0Ind = Income.str.contains(pat = 'Less than $12500', case=False, regex=False)\n",
        "i1Ind = Income.str.contains(pat = '$12501-$22500', case=False, regex=False)\n",
        "i2Ind = Income.str.contains(pat = '$22501-$42500', case=False, regex=False)\n",
        "i3Ind = Income.str.contains(pat = '$42501-$80000', case=False, regex=False)\n",
        "i4Ind = Income.str.contains(pat = 'More than $80000', case=False, regex=False)\n",
        "Income.loc[i0Ind] = 0\n",
        "Income.loc[i1Ind] = 1\n",
        "Income.loc[i2Ind] = 2\n",
        "Income.loc[i3Ind] = 3\n",
        "Income.loc[i4Ind] = 4\n",
        "\n",
        "#Reset index for series (just in case)\n",
        "Age = Age.to_numpy() #convert series to array\n",
        "Income = Income.to_numpy()  #convert series to array\n",
        "NewsBias = NewsBias.to_numpy()  #convert series to array\n",
        "femaleCode = femaleCode.to_numpy() #convert series to array\n",
        "bPropNow = bPropNow.to_numpy() #convert series to array\n",
        "#MIBI = MIBI.to_numpy() #convert series to array\n",
        "\n",
        "#Reshape for concatenation\n",
        "Age =  Age.reshape(Age.shape[0],1)\n",
        "Income =  Income.reshape(Income.shape[0],1)\n",
        "NewsBias = NewsBias.reshape(NewsBias.shape[0],1)\n",
        "femaleCode =  femaleCode.reshape(femaleCode.shape[0],1)\n",
        "bPropNow = bPropNow.reshape(bPropNow.shape[0],1)\n",
        "#MIBI =  MIBI.reshape(MIBI.shape[0],1)"
      ],
      "metadata": {
        "id": "3H_zQDCkbPdd"
      },
      "execution_count": null,
      "outputs": []
    },
    {
      "cell_type": "code",
      "source": [
        "#Execute model\n",
        "# X = Gender(femaleCode); Income; Age; NewsBias; bPropNow\n",
        "# Y = MIBI\n",
        "\n",
        "#Concatonate\n",
        "X = np.concatenate((femaleCode, Income, Age, NewsBias, bPropNow), axis=1)\n",
        "\n",
        "#Y: Pair data\n",
        "Y = MIBI\n",
        "\n",
        "bObsPairsPRaM = []\n",
        "pPairsPRaM = []\n",
        "perm = 1000\n",
        "\n",
        "betaObs, pval, betaPerm1 = regPairDiff(X, Y, perm)"
      ],
      "metadata": {
        "id": "np7zJvwX_9QP"
      },
      "execution_count": null,
      "outputs": []
    },
    {
      "cell_type": "code",
      "source": [
        "betaObs"
      ],
      "metadata": {
        "id": "BZZ4uokSnTDn",
        "outputId": "b42b38ff-7b8a-4ae1-c48b-ad68de045a97",
        "colab": {
          "base_uri": "https://localhost:8080/"
        }
      },
      "execution_count": null,
      "outputs": [
        {
          "output_type": "execute_result",
          "data": {
            "text/plain": [
              "array([ 4.70569877e+00,  5.15074187e-01,  1.69470632e-01,  1.12310013e-02,\n",
              "       -3.52933914e-01,  1.86102417e-03])"
            ]
          },
          "metadata": {},
          "execution_count": 13
        }
      ]
    },
    {
      "cell_type": "code",
      "source": [
        "pval"
      ],
      "metadata": {
        "id": "sLlCcgtAm75n",
        "outputId": "82a9e324-1672-46a4-e3f5-e65b8663fdfb",
        "colab": {
          "base_uri": "https://localhost:8080/"
        }
      },
      "execution_count": null,
      "outputs": [
        {
          "output_type": "execute_result",
          "data": {
            "text/plain": [
              "[0.815, 0.004, 0.038, 0.115, 0.0, 0.331]"
            ]
          },
          "metadata": {},
          "execution_count": 12
        }
      ]
    },
    {
      "cell_type": "code",
      "source": [
        "#Export data to CSV files\n",
        "# FDR_sig.to_csv('FDRsig.csv')\n",
        "# pPairsPRaM.to_csv('pValPairs.csv')\n",
        "# bObsPairsPRaM.to_csv('bObsPairsPRaM.csv')\n",
        "# PRaM_cat.to_csv('PRaM_finalModel.csv')"
      ],
      "metadata": {
        "id": "XHuS5VBif_Dh"
      },
      "execution_count": null,
      "outputs": []
    }
  ]
}
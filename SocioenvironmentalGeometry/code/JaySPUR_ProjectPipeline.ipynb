{
  "nbformat": 4,
  "nbformat_minor": 0,
  "metadata": {
    "colab": {
      "provenance": [],
      "include_colab_link": true
    },
    "kernelspec": {
      "name": "python3",
      "display_name": "Python 3"
    },
    "language_info": {
      "name": "python"
    }
  },
  "cells": [
    {
      "cell_type": "markdown",
      "metadata": {
        "id": "view-in-github",
        "colab_type": "text"
      },
      "source": [
        "<a href=\"https://colab.research.google.com/github/ExCaLBBR/ExCaLBBR_Projects/blob/main/SocioenvironmentalGeometry/code/JaySPUR_ProjectPipeline.ipynb\" target=\"_parent\"><img src=\"https://colab.research.google.com/assets/colab-badge.svg\" alt=\"Open In Colab\"/></a>"
      ]
    },
    {
      "cell_type": "markdown",
      "source": [
        "#Concept Geometry analysis pipeline\n",
        "For Jay's SPUR project: <br>\n",
        "Authors: <b>Roberto Vargas; Jay Williamson </b><br>\n",
        "Codebook created by: <b>Roberto Vargas </b><br>\n",
        "<br>\n",
        "<b>Pipeline includes:</b><br>\n",
        "*   Data restructuring: Sorting accoring to word list\n",
        "*   Regression predicting MiBi using: <i>Race; RaceProportion of Zipcode (@ birth; 10yo; and now); Gender; Income; Age; NewsBias</i>\n",
        "\n",
        "<br>\n",
        "<br>"
      ],
      "metadata": {
        "id": "O4Gme4COyVnz"
      }
    },
    {
      "cell_type": "code",
      "source": [
        "#@title Install dependancies\n",
        "import numpy as np\n",
        "import pandas as pd\n",
        "from matplotlib import pyplot as plt\n",
        "from scipy import stats\n",
        "from itertools import combinations\n",
        "import math\n",
        "import statsmodels as sm\n",
        "import statsmodels.api as sm\n",
        "from sklearn.linear_model import LinearRegression\n",
        "import csv\n",
        "from tqdm import tqdm\n",
        "import networkx as nx\n",
        "from sklearn.decomposition import PCA\n",
        "from sklearn.preprocessing import OneHotEncoder, LabelEncoder\n",
        "from sklearn.linear_model import LogisticRegression\n",
        "from sklearn.model_selection import train_test_split\n",
        "from sklearn.metrics import accuracy_score, confusion_matrix\n",
        "from sklearn.feature_selection import SelectKBest, f_classif\n",
        "from scipy.stats import ttest_ind\n",
        "import requests\n",
        "import geopandas as gpd\n",
        "!pip install census\n",
        "!pip install us\n",
        "from census import Census\n",
        "from us import states\n",
        "import os\n"
      ],
      "metadata": {
        "id": "SEWVqBcKx9KO",
        "collapsed": true,
        "colab": {
          "base_uri": "https://localhost:8080/"
        },
        "outputId": "607e0feb-db4d-498a-fce8-4d802d32445c"
      },
      "execution_count": 7,
      "outputs": [
        {
          "output_type": "stream",
          "name": "stdout",
          "text": [
            "Requirement already satisfied: census in /usr/local/lib/python3.10/dist-packages (0.8.20)\n",
            "Requirement already satisfied: requests>=1.1.0 in /usr/local/lib/python3.10/dist-packages (from census) (2.27.1)\n",
            "Requirement already satisfied: urllib3<1.27,>=1.21.1 in /usr/local/lib/python3.10/dist-packages (from requests>=1.1.0->census) (1.26.16)\n",
            "Requirement already satisfied: certifi>=2017.4.17 in /usr/local/lib/python3.10/dist-packages (from requests>=1.1.0->census) (2023.5.7)\n",
            "Requirement already satisfied: charset-normalizer~=2.0.0 in /usr/local/lib/python3.10/dist-packages (from requests>=1.1.0->census) (2.0.12)\n",
            "Requirement already satisfied: idna<4,>=2.5 in /usr/local/lib/python3.10/dist-packages (from requests>=1.1.0->census) (3.4)\n",
            "Requirement already satisfied: us in /usr/local/lib/python3.10/dist-packages (3.1.1)\n",
            "Requirement already satisfied: jellyfish==0.11.2 in /usr/local/lib/python3.10/dist-packages (from us) (0.11.2)\n"
          ]
        }
      ]
    },
    {
      "cell_type": "code",
      "source": [
        "#@title Define utility functions\n",
        "def scoreMIBI(MIBIdat):\n",
        "  MIBIscored = []\n",
        "  for p in range(MIBIdat.shape[0]):\n",
        "    piMIBI = MIBIdat.loc[p]\n",
        "    piMIBI[0] = (7-piMIBI[0])+1\n",
        "    piMIBI[3] = (7-piMIBI[3])+1\n",
        "    piMIBI[7] = (7-piMIBI[7])+1\n",
        "    pMIBI = np.mean(piMIBI)\n",
        "\n",
        "    MIBIscored.append(pMIBI)\n",
        "\n",
        "  return MIBIscored\n",
        "\n",
        "def weightedHeatmap(PairData, words, PlotHM):\n",
        "\n",
        "    '''\n",
        "    Restructure RT into matrix data structure\n",
        "\n",
        "    '''\n",
        "\n",
        "    Wmat = np.zeros((len(words),len(words)))\n",
        "    t = 0\n",
        "    z = 0\n",
        "\n",
        "    for i in range(len(words)):\n",
        "        for j in range(len(words)):\n",
        "\n",
        "            if i == j:\n",
        "                Wmat[i,j] = np.NaN\n",
        "\n",
        "            elif j > i:\n",
        "                Wmat[i,j] = PairData[t]\n",
        "                Wmat[j,i] = PairData[t]\n",
        "                t += 1\n",
        "\n",
        "\n",
        "    if PlotHM == 1:\n",
        "        plt.imshow(Wmat,  cmap='RdBu', vmin=-7, vmax=7)\n",
        "        plt.colorbar()\n",
        "        plt.xticks(range(len(words)), words, rotation='vertical')\n",
        "        plt.yticks(range(len(words)), words)\n",
        "        plt.show()\n",
        "\n",
        "    return Wmat\n",
        "\n",
        "def ccbi_randperm(ntimes, nperm):\n",
        "\n",
        "    '''\n",
        "      p = ccbi_randperm(nitems,nperm)\n",
        "      Parameters: number of items, number of random permutations\n",
        "      Output: a matrix with nperm rows;\n",
        "      Each row is an index of permuted item positions.\n",
        "\n",
        "      returns a matrix (n,nitems)\n",
        "      each row is a random permutation of nitems (labelled 1:nitems)\n",
        "      produces n such permutations\n",
        "      the random seed is changed at every call\n",
        "\n",
        "    '''\n",
        "\n",
        "    p = np.zeros((nperm, ntimes))\n",
        "    for i in range(nperm):\n",
        "        p[i,:] = np.random.permutation(ntimes)\n",
        "\n",
        "    return p\n",
        "\n",
        "\n",
        "def splitHalf_Reliability(dat, perm):\n",
        "    \"\"\"\n",
        "    Compute the reliability within a measure\n",
        "    This analysis splits the data into 2 halfs and then averages the similarity structure\n",
        "    This analysis is repeated\n",
        "\n",
        "    \"\"\"\n",
        "    pSplit = ccbi_randperm(dat.shape[1], perm)\n",
        "\n",
        "    rho = []\n",
        "    for p in range(perm):\n",
        "        # Split data\n",
        "        if dat.shape[1] % 2 == 0:  # is even\n",
        "            frstHalf = dat.iloc[:, pSplit[p, :(pSplit.shape[1]//2)]]\n",
        "            scndHalf = dat.iloc[:, pSplit[p, (pSplit.shape[1]//2):]]\n",
        "\n",
        "        elif dat.shape[1] % 2 == 1:  # is odd\n",
        "            frstHalf = dat.iloc[:, pSplit[p, :int(np.floor(pSplit.shape[1]/2))]]\n",
        "            scndHalf = dat.iloc[:, pSplit[p, int(np.ceil(pSplit.shape[1]/2)):]]\n",
        "        # Avg dist of each half\n",
        "        avgFrstHalf = frstHalf.mean(axis=1)\n",
        "        avgScndHalf = scndHalf.mean(axis=1)\n",
        "\n",
        "        # Correlate halves\n",
        "        rhoI = np.corrcoef(avgFrstHalf, avgScndHalf)[0,1]\n",
        "\n",
        "        rho.append(rhoI)\n",
        "\n",
        "    rho = np.mean(rho)\n",
        "\n",
        "    return rho\n",
        "\n",
        "\n",
        "\n",
        "def regPairDiff(X, Y, perm):\n",
        "\n",
        "    '''\n",
        "\n",
        "    Predict pair differences among a X in Y\n",
        " \tX is vector or matrix of variables used to predict Y\n",
        " \tY is a continuous vector\n",
        " \tperm is the number of permutations used to compare against the observed beta\n",
        "  Dimensions of X and Y should all align\n",
        "\n",
        "    '''\n",
        "\n",
        "    # Generate the permutations\n",
        "    pComb = ccbi_randperm(X.shape[0],perm)\n",
        "\n",
        "    # Generate constant\n",
        "    con = np.ones(X.shape[0])\n",
        "    con = con.reshape(con.shape[0], 1)\n",
        "\n",
        "    # Estimate observed beta\n",
        "    xModel = np.concatenate((con, X), axis=1)\n",
        "    betaObs, _, _, _ = np.linalg.lstsq(xModel.astype('float'), Y, rcond=None)\n",
        "\n",
        "    betaPerm = []\n",
        "\n",
        "    for p in range(perm):\n",
        "        pCombi = pComb.astype(int)\n",
        "        yPerm = Y[pCombi[p,:]]\n",
        "        bPerm, _, _, _ = np.linalg.lstsq(xModel.astype('float'), yPerm, rcond=None)\n",
        "        betaPerm.append(bPerm)\n",
        "\n",
        "    betaPerm = pd.DataFrame(betaPerm)\n",
        "\n",
        "    pval =[]\n",
        "    for b in range(len(betaObs)):\n",
        "      if betaObs[b] > 0:\n",
        "        nBbeyond =  len(np.where(np.array(betaPerm[b]) > betaObs[b])[0])\n",
        "        pb = nBbeyond/perm\n",
        "        pval.append(pb)\n",
        "      elif betaObs[b] < 0:\n",
        "        nBbeyond = len([x for x in np.array(betaPerm[b]) if x < betaObs[b]])\n",
        "        pb = nBbeyond/perm\n",
        "        pval.append(pb)\n",
        "\n",
        "      else:\n",
        "        raise ValueError('observed beta is exactly equal to 0')\n",
        "\n",
        "    return betaObs, pval, betaPerm\n"
      ],
      "metadata": {
        "id": "hlRGP67on-WW",
        "cellView": "form"
      },
      "execution_count": 2,
      "outputs": []
    },
    {
      "cell_type": "code",
      "source": [
        "#@title Clean up Dataframes mask out participants who didn't complete all parts of session\n",
        "#Data path\n",
        "path = 'https://github.com/ExCaLBBR/ExCaLBBR_Projects/raw/main/SocioenvironmentalGeometry/data/'\n",
        "\n",
        "# Load Demographic PRaM data\n",
        "datDemo = pd.read_csv (path + 'demographic.csv', header=1)\n",
        "#datPRaM = pd.read_csv (path + 'df_taskPRaM.csv', header=0)\n",
        "pairLab = pd.read_csv (path + 'PRaM_pairLabels.csv', header=None)\n",
        "news = pd.read_csv (path + 'df_News_coded.csv', header=1)\n",
        "MIBI = pd.read_csv(path + 'df_MIBI.csv', header=1)\n",
        "\n",
        "#remove misc row and incomplete sessions\n",
        "datDemo = datDemo.drop(labels=0, axis=0)\n",
        "datDemo = datDemo.reset_index(drop=True)\n",
        "datDemo['Question Key'] = [sub[: -2] for sub in datDemo['Question Key']]\n",
        "#datPRaM = datPRaM.drop(['Participant Private ID'], axis=1)\n",
        "#datPRaM = datPRaM.reset_index(drop=True)\n",
        "news = news.drop(labels=0, axis=0)\n",
        "news = news.reset_index(drop=True)\n",
        "MIBI = MIBI.drop(labels=0, axis=0)\n",
        "MIBI['Question Key'] = [sub[: -2] for sub in MIBI['Question Key']]\n",
        "MIBI = MIBI.reset_index(drop=True)\n",
        "\n",
        "#Identify participants who did not complete all measures\n",
        "lst1 = datDemo['Question Key']\n",
        "lst2 = news['Question Key']\n",
        "exPart = list(set(lst1) - set(lst2))\n",
        "mask = datDemo['Question Key'].str.contains(exPart[0], na=True) #If the number of participants to exclude exceeds 1 you will need a for loop\n",
        "datDemo = datDemo[~mask]\n",
        "#datPRaM = datPRaM[~mask]\n",
        "\n",
        "#reset index just in case\n",
        "datDemo = datDemo.reset_index(drop=True)\n",
        "#datPRaM = datPRaM.reset_index(drop=True)\n",
        "news = news.reset_index(drop=True)\n",
        "\n",
        "#Sort pairs accoring to prefered combination\n",
        "words = ['police', 'firefighter', 'neighbors(yours)', 'conservatives(political)', 'liberals(political)', 'healthcare', 'voting', 'immigration', 'religion', 'science', 'anger', 'fear', 'joy', 'love', 'sadness', 'trust']\n",
        "combinations_list = [list(c) for c in combinations(words, 2)]\n"
      ],
      "metadata": {
        "id": "Y3gJYjXFp7Nu"
      },
      "execution_count": 3,
      "outputs": []
    },
    {
      "cell_type": "code",
      "source": [
        "#Mask out datDemo and news by participants who completed the MIBI\n",
        "lst1 = datDemo['Question Key']\n",
        "lst2 = news['Question Key']\n",
        "lstKey = MIBI['Question Key']\n",
        "\n",
        "exPart = list(set(lst1) - set(lstKey))\n",
        "mask = datDemo['Question Key'].str.contains(exPart[0], na=True) #If the number of participants to exclude exceeds 1 you will need a for loop\n",
        "datDemo = datDemo[~mask]\n",
        "\n",
        "exPart = list(set(lst2) - set(lstKey))\n",
        "mask = news['Question Key'].str.contains(exPart[0], na=True) #If the number of participants to exclude exceeds 1 you will need a for loop\n",
        "news = news[~mask]\n",
        "\n",
        "#reset index just in case\n",
        "datDemo = datDemo.reset_index(drop=True)\n",
        "news = news.reset_index(drop=True)"
      ],
      "metadata": {
        "id": "cDxN4bUOPt8f"
      },
      "execution_count": 4,
      "outputs": []
    },
    {
      "cell_type": "code",
      "source": [
        "#Isolate Race variable\n",
        "raceCol = datDemo.columns.get_loc('raceEth_v2')\n",
        "bIndx =  datDemo[datDemo.iloc[:,raceCol].str.contains('Black or African American')].index\n",
        "wIndx =  datDemo[datDemo.iloc[:,raceCol].str.contains('White')].index\n",
        "IDCol = raceCol = datDemo.columns.get_loc('Question Key')\n",
        "bID = datDemo.iloc[bIndx,IDCol]\n",
        "\n",
        "#Subset MIBI by bIndx\n",
        "lst1 = MIBI['Question Key']\n",
        "lst2 = bID\n",
        "exPart = list(set(lst1) - set(lst2))\n",
        "mask = MIBI['Question Key'].str.contains(exPart[0], na=True) #If the number of participants to exclude exceeds 1 you will need a for loop\n",
        "MIBI = MIBI[~mask]\n",
        "MIBI = MIBI.drop(labels='Question Key',axis=1)\n",
        "MIBI = MIBI.reset_index(drop=True)\n",
        "MIBI = scoreMIBI(MIBI)\n",
        "MIBI = pd.Series(MIBI)\n",
        "\n",
        "#Isolate Zip variable\n",
        "zipBornCol = datDemo.columns.get_loc('zipborn')\n",
        "bZipBorn = datDemo.iloc[bIndx,zipBornCol]\n",
        "\n",
        "zip10yCol = datDemo.columns.get_loc('response-3')\n",
        "bZip10y = datDemo.iloc[bIndx,zip10yCol]\n",
        "\n",
        "zipNowCol= datDemo.columns.get_loc('zipnow')\n",
        "bZipNow = datDemo.iloc[bIndx,zipNowCol]\n",
        "\n",
        "# Isolate Age variable and subset sample by race\n",
        "ageCol = datDemo.columns.get_loc('age')\n",
        "bAge = datDemo.iloc[bIndx,ageCol]\n",
        "Age = bAge.replace(1984, 38)\n",
        "\n",
        "# Isolate Income variable and subset sample by race\n",
        "incCol = datDemo.columns.get_loc('Income')\n",
        "bIncome = datDemo.iloc[bIndx,incCol]\n",
        "Income = pd.Series(bIncome)\n",
        "\n",
        "# Isolate Gender variable and create concatonated vector\n",
        "gendCol = datDemo.columns.get_loc('gender')\n",
        "bGender = datDemo.iloc[bIndx,gendCol]\n",
        "Gender = pd.Series(bGender)\n",
        "\n",
        "#Homogenize Gender responses to F and M and remove genders with insufficient representation\n",
        "remIndx = Gender.str.contains(pat = 'non', case=False) | Gender.str.contains(pat = 'Gen', case=False)\n",
        "Gender.loc[remIndx]= 'R'\n",
        "femIndx = Gender.str.contains(pat = 'f',case=False) | Gender.str.contains(pat = 'w',case=False)\n",
        "Gender.loc[femIndx]= 'F'\n",
        "maleIndx = Gender.str.contains(pat = 'an',case=False) | Gender.str.contains(pat = 'al',case=False)\n",
        "Gender.loc[maleIndx]= 'M'\n",
        "\n",
        "#Isolate News bias and subset sample by race\n",
        "newsbiasCol = news.columns.get_loc('avgBias')\n",
        "bNewsBias = news.iloc[bIndx,newsbiasCol]\n",
        "NewsBias = pd.Series(bNewsBias)\n",
        "\n",
        "#Remove underrepesented gender identities (i.e, non-bianary)\n",
        "Gender_nG = Gender[~remIndx]\n",
        "Income_nG = Income[~remIndx]\n",
        "Age_nG = Age[~remIndx]\n",
        "NewsBias_nG = NewsBias[~remIndx]\n",
        "bZipBorn = bZipBorn[~remIndx]\n",
        "bZip10y = bZip10y[~remIndx]\n",
        "bZipNow = bZipNow[~remIndx]\n",
        "bID = bID[~remIndx]\n",
        "remIndx = remIndx.reset_index(drop=True)\n",
        "MIBI = MIBI[~remIndx]\n",
        "\n",
        "#Remove participants who only consumed algorithmic news sources\n",
        "remIdxNBias= NewsBias.str.contains(pat = 'x', case=False)\n",
        "Gender = Gender_nG[~remIdxNBias]\n",
        "Income = Income_nG[~remIdxNBias]\n",
        "Age = Age_nG[~remIdxNBias]\n",
        "NewsBias = NewsBias_nG[~remIdxNBias]\n",
        "NewsBias = NewsBias.astype('float')\n",
        "bZipBorn = bZipBorn[~remIdxNBias]\n",
        "bZip10y = bZip10y[~remIdxNBias]\n",
        "bZipNow = bZipNow[~remIdxNBias]\n",
        "bID = bID[~remIdxNBias] #used to make sure participants align\n",
        "remIdxNBias = remIdxNBias.reset_index(drop=True)\n",
        "MIBI = MIBI[~remIdxNBias]\n",
        "\n",
        "print(f'Sample of participant completing session = ', len(datDemo['Question Key']))\n",
        "print(f'Of',len(datDemo['Question Key']), ',' ,(len(bIndx)+len(wIndx)), 'participants identified as non-Hispanic White(', len(wIndx),') or Black/AfricanAmerican(', len(bIndx),')')\n",
        "print(f'For the purposes of this study only the sample of', len(bIndx), 'Black/AfricanAmerican participants will be analyzed.')\n",
        "print(f'of', (len(bIndx)), ',', len(Gender_nG), 'participants identified as Female(', sum(femIndx==1), ') or Male(', sum(maleIndx==1),')')\n",
        "print(f'of the', len(Gender_nG), ',', len(Gender), 'articipants consumed a non-algorithmic news source with measurable political bias.')\n",
        "print(f'The final analyzed sample contains', len(Gender), 'participants!')"
      ],
      "metadata": {
        "colab": {
          "base_uri": "https://localhost:8080/"
        },
        "id": "Grr5pQ5ct3wj",
        "outputId": "c3061884-4b47-4fb2-8e5c-ed3f1b454ec2"
      },
      "execution_count": 5,
      "outputs": [
        {
          "output_type": "stream",
          "name": "stdout",
          "text": [
            "Sample of participant completing session =  584\n",
            "Of 584 , 571 participants identified as non-Hispanic White( 293 ) or Black/AfricanAmerican( 278 )\n",
            "For the purposes of this study only the sample of 278 Black/AfricanAmerican participants will be analyzed.\n",
            "of 278 , 276 participants identified as Female( 140 ) or Male( 136 )\n",
            "of the 276 , 213 articipants consumed a non-algorithmic news source with measurable political bias.\n",
            "The final analyzed sample contains 213 participants!\n"
          ]
        }
      ]
    },
    {
      "cell_type": "code",
      "source": [
        "#Incorperate Census query code here\n",
        "# bZipNow\n",
        "bZipNow = bZipNow.reset_index(drop=True)\n",
        "bZipNow = [sub[: -2] for sub in bZipNow]\n",
        "# Set API key\n",
        "c = Census(\"3467d4b27d132a110e0b5e096a94d6486208098d\")\n",
        "bPropNow = []\n",
        "for z in range(len(bZipNow)):\n",
        "  zip= bZipNow[z] #'15217'\n",
        "  info = c.acs5.state_zipcode(('NAME', 'B02001_003E', 'B01003_001E'),states.WA.fips,zip,year=2021)\n",
        "  bPropi = (info[0]['B02001_003E']/info[0]['B01003_001E'])*100\n",
        "  bPropNow.append(bPropi)\n"
      ],
      "metadata": {
        "colab": {
          "base_uri": "https://localhost:8080/",
          "height": 380
        },
        "id": "Xc3wdfir1Uuc",
        "outputId": "30db4c53-ca42-476a-867d-4efe9ec09ddb"
      },
      "execution_count": 86,
      "outputs": [
        {
          "output_type": "error",
          "ename": "KeyError",
          "evalue": "ignored",
          "traceback": [
            "\u001b[0;31m---------------------------------------------------------------------------\u001b[0m",
            "\u001b[0;31mKeyError\u001b[0m                                  Traceback (most recent call last)",
            "\u001b[0;32m<ipython-input-86-6f52f159fb9d>\u001b[0m in \u001b[0;36m<cell line: 4>\u001b[0;34m()\u001b[0m\n\u001b[1;32m      2\u001b[0m \u001b[0;31m# bZipNow\u001b[0m\u001b[0;34m\u001b[0m\u001b[0;34m\u001b[0m\u001b[0m\n\u001b[1;32m      3\u001b[0m \u001b[0mbZipNow\u001b[0m \u001b[0;34m=\u001b[0m \u001b[0mbZipNow\u001b[0m\u001b[0;34m.\u001b[0m\u001b[0mreset_index\u001b[0m\u001b[0;34m(\u001b[0m\u001b[0mdrop\u001b[0m\u001b[0;34m=\u001b[0m\u001b[0;32mTrue\u001b[0m\u001b[0;34m)\u001b[0m\u001b[0;34m\u001b[0m\u001b[0;34m\u001b[0m\u001b[0m\n\u001b[0;32m----> 4\u001b[0;31m \u001b[0mbZipNow\u001b[0m \u001b[0;34m=\u001b[0m \u001b[0;34m[\u001b[0m\u001b[0msub\u001b[0m\u001b[0;34m[\u001b[0m\u001b[0;34m:\u001b[0m \u001b[0;34m-\u001b[0m\u001b[0;36m2\u001b[0m\u001b[0;34m]\u001b[0m \u001b[0;32mfor\u001b[0m \u001b[0msub\u001b[0m \u001b[0;32min\u001b[0m \u001b[0mbZipNow\u001b[0m\u001b[0;34m[\u001b[0m\u001b[0;34m'Question Key'\u001b[0m\u001b[0;34m]\u001b[0m\u001b[0;34m]\u001b[0m\u001b[0;34m\u001b[0m\u001b[0;34m\u001b[0m\u001b[0m\n\u001b[0m\u001b[1;32m      5\u001b[0m \u001b[0;31m# Set API key\u001b[0m\u001b[0;34m\u001b[0m\u001b[0;34m\u001b[0m\u001b[0m\n\u001b[1;32m      6\u001b[0m \u001b[0mc\u001b[0m \u001b[0;34m=\u001b[0m \u001b[0mCensus\u001b[0m\u001b[0;34m(\u001b[0m\u001b[0;34m\"3467d4b27d132a110e0b5e096a94d6486208098d\"\u001b[0m\u001b[0;34m)\u001b[0m\u001b[0;34m\u001b[0m\u001b[0;34m\u001b[0m\u001b[0m\n",
            "\u001b[0;32m/usr/local/lib/python3.10/dist-packages/pandas/core/series.py\u001b[0m in \u001b[0;36m__getitem__\u001b[0;34m(self, key)\u001b[0m\n\u001b[1;32m    979\u001b[0m \u001b[0;34m\u001b[0m\u001b[0m\n\u001b[1;32m    980\u001b[0m         \u001b[0;32melif\u001b[0m \u001b[0mkey_is_scalar\u001b[0m\u001b[0;34m:\u001b[0m\u001b[0;34m\u001b[0m\u001b[0;34m\u001b[0m\u001b[0m\n\u001b[0;32m--> 981\u001b[0;31m             \u001b[0;32mreturn\u001b[0m \u001b[0mself\u001b[0m\u001b[0;34m.\u001b[0m\u001b[0m_get_value\u001b[0m\u001b[0;34m(\u001b[0m\u001b[0mkey\u001b[0m\u001b[0;34m)\u001b[0m\u001b[0;34m\u001b[0m\u001b[0;34m\u001b[0m\u001b[0m\n\u001b[0m\u001b[1;32m    982\u001b[0m \u001b[0;34m\u001b[0m\u001b[0m\n\u001b[1;32m    983\u001b[0m         \u001b[0;32mif\u001b[0m \u001b[0mis_hashable\u001b[0m\u001b[0;34m(\u001b[0m\u001b[0mkey\u001b[0m\u001b[0;34m)\u001b[0m\u001b[0;34m:\u001b[0m\u001b[0;34m\u001b[0m\u001b[0;34m\u001b[0m\u001b[0m\n",
            "\u001b[0;32m/usr/local/lib/python3.10/dist-packages/pandas/core/series.py\u001b[0m in \u001b[0;36m_get_value\u001b[0;34m(self, label, takeable)\u001b[0m\n\u001b[1;32m   1087\u001b[0m \u001b[0;34m\u001b[0m\u001b[0m\n\u001b[1;32m   1088\u001b[0m         \u001b[0;31m# Similar to Index.get_value, but we do not fall back to positional\u001b[0m\u001b[0;34m\u001b[0m\u001b[0;34m\u001b[0m\u001b[0m\n\u001b[0;32m-> 1089\u001b[0;31m         \u001b[0mloc\u001b[0m \u001b[0;34m=\u001b[0m \u001b[0mself\u001b[0m\u001b[0;34m.\u001b[0m\u001b[0mindex\u001b[0m\u001b[0;34m.\u001b[0m\u001b[0mget_loc\u001b[0m\u001b[0;34m(\u001b[0m\u001b[0mlabel\u001b[0m\u001b[0;34m)\u001b[0m\u001b[0;34m\u001b[0m\u001b[0;34m\u001b[0m\u001b[0m\n\u001b[0m\u001b[1;32m   1090\u001b[0m         \u001b[0;32mreturn\u001b[0m \u001b[0mself\u001b[0m\u001b[0;34m.\u001b[0m\u001b[0mindex\u001b[0m\u001b[0;34m.\u001b[0m\u001b[0m_get_values_for_loc\u001b[0m\u001b[0;34m(\u001b[0m\u001b[0mself\u001b[0m\u001b[0;34m,\u001b[0m \u001b[0mloc\u001b[0m\u001b[0;34m,\u001b[0m \u001b[0mlabel\u001b[0m\u001b[0;34m)\u001b[0m\u001b[0;34m\u001b[0m\u001b[0;34m\u001b[0m\u001b[0m\n\u001b[1;32m   1091\u001b[0m \u001b[0;34m\u001b[0m\u001b[0m\n",
            "\u001b[0;32m/usr/local/lib/python3.10/dist-packages/pandas/core/indexes/range.py\u001b[0m in \u001b[0;36mget_loc\u001b[0;34m(self, key, method, tolerance)\u001b[0m\n\u001b[1;32m    393\u001b[0m                     \u001b[0;32mraise\u001b[0m \u001b[0mKeyError\u001b[0m\u001b[0;34m(\u001b[0m\u001b[0mkey\u001b[0m\u001b[0;34m)\u001b[0m \u001b[0;32mfrom\u001b[0m \u001b[0merr\u001b[0m\u001b[0;34m\u001b[0m\u001b[0;34m\u001b[0m\u001b[0m\n\u001b[1;32m    394\u001b[0m             \u001b[0mself\u001b[0m\u001b[0;34m.\u001b[0m\u001b[0m_check_indexing_error\u001b[0m\u001b[0;34m(\u001b[0m\u001b[0mkey\u001b[0m\u001b[0;34m)\u001b[0m\u001b[0;34m\u001b[0m\u001b[0;34m\u001b[0m\u001b[0m\n\u001b[0;32m--> 395\u001b[0;31m             \u001b[0;32mraise\u001b[0m \u001b[0mKeyError\u001b[0m\u001b[0;34m(\u001b[0m\u001b[0mkey\u001b[0m\u001b[0;34m)\u001b[0m\u001b[0;34m\u001b[0m\u001b[0;34m\u001b[0m\u001b[0m\n\u001b[0m\u001b[1;32m    396\u001b[0m         \u001b[0;32mreturn\u001b[0m \u001b[0msuper\u001b[0m\u001b[0;34m(\u001b[0m\u001b[0;34m)\u001b[0m\u001b[0;34m.\u001b[0m\u001b[0mget_loc\u001b[0m\u001b[0;34m(\u001b[0m\u001b[0mkey\u001b[0m\u001b[0;34m,\u001b[0m \u001b[0mmethod\u001b[0m\u001b[0;34m=\u001b[0m\u001b[0mmethod\u001b[0m\u001b[0;34m,\u001b[0m \u001b[0mtolerance\u001b[0m\u001b[0;34m=\u001b[0m\u001b[0mtolerance\u001b[0m\u001b[0;34m)\u001b[0m\u001b[0;34m\u001b[0m\u001b[0;34m\u001b[0m\u001b[0m\n\u001b[1;32m    397\u001b[0m \u001b[0;34m\u001b[0m\u001b[0m\n",
            "\u001b[0;31mKeyError\u001b[0m: 'Question Key'"
          ]
        }
      ]
    },
    {
      "cell_type": "code",
      "source": [
        "int(bZipNow)"
      ],
      "metadata": {
        "id": "SDb5pfYLaWSS",
        "outputId": "18d007bf-8443-4f54-e4d3-06d59f13ba4b",
        "colab": {
          "base_uri": "https://localhost:8080/",
          "height": 287
        }
      },
      "execution_count": 89,
      "outputs": [
        {
          "output_type": "error",
          "ename": "TypeError",
          "evalue": "ignored",
          "traceback": [
            "\u001b[0;31m---------------------------------------------------------------------------\u001b[0m",
            "\u001b[0;31mTypeError\u001b[0m                                 Traceback (most recent call last)",
            "\u001b[0;32m<ipython-input-89-6bbc0abafa01>\u001b[0m in \u001b[0;36m<cell line: 1>\u001b[0;34m()\u001b[0m\n\u001b[0;32m----> 1\u001b[0;31m \u001b[0mint\u001b[0m\u001b[0;34m(\u001b[0m\u001b[0mbZipNow\u001b[0m\u001b[0;34m)\u001b[0m\u001b[0;34m\u001b[0m\u001b[0;34m\u001b[0m\u001b[0m\n\u001b[0m",
            "\u001b[0;32m/usr/local/lib/python3.10/dist-packages/pandas/core/series.py\u001b[0m in \u001b[0;36mwrapper\u001b[0;34m(self)\u001b[0m\n\u001b[1;32m    204\u001b[0m         \u001b[0;32mif\u001b[0m \u001b[0mlen\u001b[0m\u001b[0;34m(\u001b[0m\u001b[0mself\u001b[0m\u001b[0;34m)\u001b[0m \u001b[0;34m==\u001b[0m \u001b[0;36m1\u001b[0m\u001b[0;34m:\u001b[0m\u001b[0;34m\u001b[0m\u001b[0;34m\u001b[0m\u001b[0m\n\u001b[1;32m    205\u001b[0m             \u001b[0;32mreturn\u001b[0m \u001b[0mconverter\u001b[0m\u001b[0;34m(\u001b[0m\u001b[0mself\u001b[0m\u001b[0;34m.\u001b[0m\u001b[0miloc\u001b[0m\u001b[0;34m[\u001b[0m\u001b[0;36m0\u001b[0m\u001b[0;34m]\u001b[0m\u001b[0;34m)\u001b[0m\u001b[0;34m\u001b[0m\u001b[0;34m\u001b[0m\u001b[0m\n\u001b[0;32m--> 206\u001b[0;31m         \u001b[0;32mraise\u001b[0m \u001b[0mTypeError\u001b[0m\u001b[0;34m(\u001b[0m\u001b[0;34mf\"cannot convert the series to {converter}\"\u001b[0m\u001b[0;34m)\u001b[0m\u001b[0;34m\u001b[0m\u001b[0;34m\u001b[0m\u001b[0m\n\u001b[0m\u001b[1;32m    207\u001b[0m \u001b[0;34m\u001b[0m\u001b[0m\n\u001b[1;32m    208\u001b[0m     \u001b[0mwrapper\u001b[0m\u001b[0;34m.\u001b[0m\u001b[0m__name__\u001b[0m \u001b[0;34m=\u001b[0m \u001b[0;34mf\"__{converter.__name__}__\"\u001b[0m\u001b[0;34m\u001b[0m\u001b[0;34m\u001b[0m\u001b[0m\n",
            "\u001b[0;31mTypeError\u001b[0m: cannot convert the series to <class 'int'>"
          ]
        }
      ]
    },
    {
      "cell_type": "code",
      "source": [
        "#Participant descriptive statistics\n",
        "# Plot age histograms\n",
        "Age_mean = np.mean(Age)\n",
        "Age_sd = np.std(Age)\n",
        "print(f'Mean age for sample:', round(Age_mean,2), '( SD =', round(Age_sd,2), ')')\n",
        "plt.hist(Age, alpha=0.75, color= 'k')\n",
        "plt.title('Age')\n",
        "plt.show()\n",
        "\n",
        "# Plot Income histograms\n",
        "customSort = {'Less than $12500':0, '$12501-$22500':1, '$22501-$42500':2, '$42501-$80000':3 ,'More than $80000':4}\n",
        "IncPlot = Income.sort_values(key=lambda x: x.map(customSort))\n",
        "plt.hist(IncPlot,\n",
        "         alpha=0.5,\n",
        "         color='k')\n",
        "plt.title('Income')\n",
        "plt.xticks(rotation = 45)\n",
        "plt.show()\n",
        "\n",
        "# Plot NewsBias histograms\n",
        "Newsbias_mean = np.mean(NewsBias)\n",
        "Newsbias_sd = np.std(NewsBias)\n",
        "\n",
        "print(f'Mean News consumption bias for sample:', round(Newsbias_mean,2), '( SD =', round(Newsbias_sd,2), ')')\n",
        "plt.hist(NewsBias.sort_values(axis=0),\n",
        "         alpha=0.5,\n",
        "         color='k')\n",
        "plt.title('NewsBias (1=Left; 5=Right)')\n",
        "plt.xticks(rotation = 45)\n",
        "plt.show()\n",
        "\n",
        "# Plot MIBI histograms\n",
        "MIBI_mean = np.mean(MIBI)\n",
        "MIBI_sd = np.std(MIBI)\n",
        "\n",
        "print(f'Mean MIBI for sample:', round(MIBI_mean,2), '( SD =', round(MIBI_sd,2), ')')\n",
        "plt.hist(MIBI.sort_values(axis=0),\n",
        "         alpha=0.5,\n",
        "         color='k')\n",
        "plt.title('MIBI (1=Low centrality; 7=High centrality)')\n",
        "plt.xticks(rotation = 45)\n",
        "plt.show()"
      ],
      "metadata": {
        "id": "_lANLpXUyvHN",
        "outputId": "206eba76-f1c1-40b2-9aea-24cc3a3f5fac",
        "colab": {
          "base_uri": "https://localhost:8080/",
          "height": 1000
        }
      },
      "execution_count": 65,
      "outputs": [
        {
          "output_type": "stream",
          "name": "stdout",
          "text": [
            "Mean age for sample: 37.99 ( SD = 11.47 )\n"
          ]
        },
        {
          "output_type": "display_data",
          "data": {
            "text/plain": [
              "<Figure size 640x480 with 1 Axes>"
            ],
            "image/png": "[encoded data removed]"
          },
          "metadata": {}
        },
        {
          "output_type": "display_data",
          "data": {
            "text/plain": [
              "<Figure size 640x480 with 1 Axes>"
            ],
            "image/png": "[encoded data removed]"
          },
          "metadata": {}
        },
        {
          "output_type": "stream",
          "name": "stdout",
          "text": [
            "Mean News consumption bias for sample: 2.04 ( SD = 1.12 )\n"
          ]
        },
        {
          "output_type": "display_data",
          "data": {
            "text/plain": [
              "<Figure size 640x480 with 1 Axes>"
            ],
            "image/png": "[encoded data removed]"
          },
          "metadata": {}
        },
        {
          "output_type": "stream",
          "name": "stdout",
          "text": [
            "Mean MIBI for sample: 5.08 ( SD = 1.44 )\n"
          ]
        },
        {
          "output_type": "display_data",
          "data": {
            "text/plain": [
              "<Figure size 640x480 with 1 Axes>"
            ],
            "image/png": "[encoded data removed]"
          },
          "metadata": {}
        }
      ]
    },
    {
      "cell_type": "code",
      "source": [
        "# re-organize the dataframe according to the word combination\n",
        "wPairLabel = []\n",
        "x = []                  #index orders are saved as list\n",
        "for i in range(len(combinations_list)):\n",
        "\n",
        "    # Extract pair rating\n",
        "    idx0 = pairLab[pairLab.iloc[:,1].str.contains(combinations_list[i][0].replace('(', r'\\(').replace(')', r'\\)'))].index\n",
        "    idx1 = pairLab[pairLab.iloc[:,2].str.contains(combinations_list[i][1].replace('(', r'\\(').replace(')', r'\\)'))].index\n",
        "    pIndx = idx0.intersection(idx1)\n",
        "\n",
        "    # Extract pair label\n",
        "    wPairLabeli = combinations_list[i][0] + '-' + combinations_list[i][1]\n",
        "    wPairLabel.append(wPairLabeli)\n",
        "    x.append(pIndx[0])\n",
        "\n",
        "# Pair label rating\n",
        "datPRaM_conSort = datPRaM.iloc[:,x]\n",
        "datPRaM_conSort = datPRaM_conSort.rename(columns=dict(zip(datPRaM_conSort.columns, wPairLabel)))\n",
        "wPairLabel = pd.DataFrame(wPairLabel)"
      ],
      "metadata": {
        "id": "dqy5yr8OvNlQ"
      },
      "execution_count": null,
      "outputs": []
    },
    {
      "cell_type": "code",
      "source": [
        "bPRaM = datPRaM_conSort.iloc[bIndx,:]\n",
        "wPRaM = datPRaM_conSort.iloc[wIndx,:]"
      ],
      "metadata": {
        "id": "5L-xKz4pvFwX"
      },
      "execution_count": null,
      "outputs": []
    },
    {
      "cell_type": "code",
      "source": [
        "#Measure Word-Pair differences across group VARIABLES\n",
        "#Regression model\n",
        "#Y is pair-distance\n",
        "#X contains all group breakdowns (dummy coded for discrete; sequentialized for ordinal variables)\n",
        "#Permutation-testing and FDR (scramble Y)\n",
        "\n",
        "#Group breakdown:\n",
        "#----------------------------\n",
        "#Race\n",
        "#Gender\n",
        "#SES\n",
        "#Age\n",
        "#[News consumption]=Political [CURRENTLY EXCLUDED]\n",
        "#[Location ideology (Live)] [CURRENTLY EXCLUDED]\n",
        "#----------------------------\n",
        "\n",
        "#X: Variable processing\n",
        "#Race [Black = 1; White = 0]\n",
        "blackCode = np.concatenate([np.ones(len(bIndx)), np.zeros(len(wIndx))])\n",
        "\n",
        "#Gender [Female = 1; Male = 0]\n",
        "FInd = Gender.str.contains('F')\n",
        "MInd = Gender.str.contains('M')\n",
        "RInd = Gender.str.contains('R')\n",
        "Gender.loc[FInd] = 1\n",
        "Gender.loc[MInd] = 0\n",
        "femaleCode = Gender\n",
        "\n",
        "#SES [Higher value means higher income bracket]\n",
        "i0Ind = Income.str.contains(pat = 'Less than $12500', case=False, regex=False)\n",
        "i1Ind = Income.str.contains(pat = '$12501-$22500', case=False, regex=False)\n",
        "i2Ind = Income.str.contains(pat = '$22501-$42500', case=False, regex=False)\n",
        "i3Ind = Income.str.contains(pat = '$42501-$80000', case=False, regex=False)\n",
        "i4Ind = Income.str.contains(pat = 'More than $80000', case=False, regex=False)\n",
        "Income.loc[i0Ind] = 0\n",
        "Income.loc[i1Ind] = 1\n",
        "Income.loc[i2Ind] = 2\n",
        "Income.loc[i3Ind] = 3\n",
        "Income.loc[i4Ind] = 4\n",
        "\n",
        "#Age\n",
        "Age = Age\n",
        "\n",
        "#Remove underrepesented gender identities (i.e, non-bianary)\n",
        "blackCode = blackCode[~RInd]\n",
        "femaleCode = femaleCode[~RInd]\n",
        "Income = Income[~RInd]\n",
        "Age = Age[~RInd]\n",
        "NewsBias = NewsBias[~RInd]\n",
        "\n",
        "#Remove participants who only consumed algorithmic news sources\n",
        "remIdxNBias= NewsBias.str.contains(pat = 'x', case=False)\n",
        "blackCode = blackCode[~remIdxNBias]\n",
        "femaleCode = femaleCode[~remIdxNBias]\n",
        "Income = Income[~remIdxNBias]\n",
        "Age = Age[~remIdxNBias]\n",
        "NewsBias = NewsBias[~remIdxNBias]\n"
      ],
      "metadata": {
        "id": "VPA0fNBnnr6a"
      },
      "execution_count": null,
      "outputs": []
    },
    {
      "cell_type": "code",
      "source": [
        "#Reset index for series (just in case)\n",
        "femaleCode = femaleCode.reset_index(drop=True)\n",
        "femaleCode = femaleCode.to_numpy() #convert series to array\n",
        "Income = Income.reset_index(drop=True)\n",
        "Income = Income.to_numpy()  #convert series to array\n",
        "NewsBias = NewsBias.reset_index(drop=True)\n",
        "NewsBias = NewsBias.to_numpy()  #convert series to array\n",
        "\n",
        "#Reshape for concatenation\n",
        "blackCode =  blackCode.reshape(blackCode.shape[0],1)\n",
        "femaleCode =  femaleCode.reshape(femaleCode.shape[0],1)\n",
        "Income =  Income.reshape(Income.shape[0],1)\n",
        "Age =  Age.reshape(Age.shape[0],1)\n",
        "NewsBias = NewsBias.reshape(NewsBias.shape[0],1)"
      ],
      "metadata": {
        "id": "cNS14q03B5MO"
      },
      "execution_count": null,
      "outputs": []
    },
    {
      "cell_type": "code",
      "source": [
        "#Execute model\n",
        "#Concatonate\n",
        "X = np.concatenate((blackCode, femaleCode, Income, Age, NewsBias), axis=1)\n",
        "\n",
        "#Y: Pair data\n",
        "PRaM_cat = np.concatenate([bPRaM, wPRaM])\n",
        "PRaM_cat = PRaM_cat[~RInd,:]\n",
        "PRaM_cat = PRaM_cat[~remIdxNBias,:]\n",
        "\n",
        "bObsPairsPRaM = []\n",
        "pPairsPRaM = []\n",
        "perm = 1000\n",
        "#Iterate through concept-pairs\n",
        "for i in tqdm(range(len(wPairLabel))):\n",
        "    # Isolate pair data\n",
        "    Y = PRaM_cat[:,i]\n",
        "\n",
        "    #Dummy coded linear regression\n",
        "    #Compared against permuted distribution\n",
        "    betaObs_PRaM, pval_PRaM, betaPerm1 = regPairDiff(X, Y, perm)\n",
        "\n",
        "    #Update output\n",
        "    bObsPairsPRaM.append(betaObs_PRaM)\n",
        "    pPairsPRaM.append(pval_PRaM)\n",
        "    #if i == 0:\n",
        "    #  plt.hist(betaPerm1)\n",
        "\n",
        "pPairsPRaM = pd.DataFrame(pPairsPRaM) #Convert to dataframe\n",
        "bObsPairsPRaM = pd.DataFrame(bObsPairsPRaM)#Convert to dataframe\n",
        "\n",
        "#Implement FDR correction\n",
        "FDR_sig = []\n",
        "import statsmodels as sm\n",
        "for g in range(X.shape[1]):\n",
        "  FDR = sm.stats.multitest.fdrcorrection(np.array(pPairsPRaM[g+1]), alpha=0.05, method='indep', is_sorted=False)#+1 is to account for constant in original model\n",
        "  FDR_sig.append(FDR[0])\n",
        "FDR_sig = pd.DataFrame(FDR_sig)"
      ],
      "metadata": {
        "id": "np7zJvwX_9QP",
        "colab": {
          "base_uri": "https://localhost:8080/"
        },
        "outputId": "d5fbb938-4e0c-4ee3-ab64-2434ca13e3c8"
      },
      "execution_count": null,
      "outputs": [
        {
          "output_type": "stream",
          "name": "stderr",
          "text": [
            "100%|██████████| 120/120 [01:13<00:00,  1.63it/s]\n"
          ]
        }
      ]
    },
    {
      "cell_type": "code",
      "source": [
        "np.mean(NewsBias.astype('float'))"
      ],
      "metadata": {
        "id": "7sabZBIfQagh",
        "outputId": "f777e028-f4a8-41fc-8cc0-b088c93b5a76",
        "colab": {
          "base_uri": "https://localhost:8080/"
        }
      },
      "execution_count": null,
      "outputs": [
        {
          "output_type": "execute_result",
          "data": {
            "text/plain": [
              "2.2922272047914793"
            ]
          },
          "metadata": {},
          "execution_count": 86
        }
      ]
    },
    {
      "cell_type": "code",
      "source": [
        "#Recompute descriptive statistics\n",
        "AvgAge = round(np.mean(Age),2)\n",
        "SDAge = round(np.std(Age),2)\n",
        "propFemale = (sum(femaleCode==1)/len(femaleCode))*100\n",
        "propFemale = round(propFemale[0],2)\n",
        "AvgNewsBias = round(np.mean(NewsBias.astype('float')),2)\n",
        "SDNewsBias = round(np.std(NewsBias.astype('float')),2)\n",
        "#Race\n",
        "#Income\n",
        "\n",
        "print('The Mean age of sample used in model is:', AvgAge, '(SD =', SDAge, ')')\n",
        "print('The sample is',propFemale, '% Female and', (100-propFemale),'% Male')\n",
        "print('The Mean NewsBias of sample used in model is:', AvgNewsBias, '(SD =', SDNewsBias, '; 1=Left & 3=Center & 5=Right)')"
      ],
      "metadata": {
        "id": "yuJa0mjNMd4G",
        "outputId": "d787b334-b0e8-4071-a6d7-857501de48d9",
        "colab": {
          "base_uri": "https://localhost:8080/"
        }
      },
      "execution_count": null,
      "outputs": [
        {
          "output_type": "stream",
          "name": "stdout",
          "text": [
            "The Mean age of sample used in model is: 40.56 (SD = 12.43 )\n",
            "The sample is 49.55 % Female and 50.45 % Male\n",
            "The Mean NewsBias of sample used in model is: 2.29 (SD = 1.23 ; 1=Left & 3=Center & 5=Right)\n"
          ]
        }
      ]
    },
    {
      "cell_type": "code",
      "source": [
        "#Export data to CSV files\n",
        "FDR_sig.to_csv('FDRsig.csv')\n",
        "pPairsPRaM.to_csv('pValPairs.csv')\n",
        "bObsPairsPRaM.to_csv('bObsPairsPRaM.csv')\n",
        "PRaM_cat.to_csv('PRaM_finalModel.csv')"
      ],
      "metadata": {
        "id": "XHuS5VBif_Dh"
      },
      "execution_count": null,
      "outputs": []
    }
  ]
}
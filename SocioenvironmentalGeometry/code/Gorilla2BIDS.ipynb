{
  "nbformat": 4,
  "nbformat_minor": 0,
  "metadata": {
    "colab": {
      "provenance": [],
      "include_colab_link": true
    },
    "kernelspec": {
      "name": "python3",
      "display_name": "Python 3"
    },
    "language_info": {
      "name": "python"
    }
  },
  "cells": [
    {
      "cell_type": "markdown",
      "metadata": {
        "id": "view-in-github",
        "colab_type": "text"
      },
      "source": [
        "<a href=\"https://colab.research.google.com/github/ExCaLBBR/ExCaLBBR_Projects/blob/main/SocioenvironmentalGeometry/code/Gorilla2BIDS.ipynb\" target=\"_parent\"><img src=\"https://colab.research.google.com/assets/colab-badge.svg\" alt=\"Open In Colab\"/></a>"
      ]
    },
    {
      "cell_type": "markdown",
      "source": [
        "Gorilla Info: <br>\n",
        "Project: SocioenvironmentalConceptGeometry <br>\n",
        "Version: 9 <br>\n",
        "Account: Roberto Vargas (robertov@andrew.cmu.edu) "
      ],
      "metadata": {
        "id": "C9mud3ByqVgH"
      }
    },
    {
      "cell_type": "code",
      "source": [
        "#Load relevant libraries and install dependencies\n",
        "import pandas as pd"
      ],
      "metadata": {
        "id": "08gBma2_ivoE"
      },
      "execution_count": 76,
      "outputs": []
    },
    {
      "cell_type": "code",
      "source": [
        "#Load Data:\n",
        "\n",
        "#QUESTIONAIRRES:\n",
        "#Demographics\n",
        "url = 'https://raw.githubusercontent.com/ExCaLBBR/ExCaLBBR_Projects/main/SocioenvironmentalGeometry/data/raw/raw_demographic.csv'\n",
        "df_demographic = pd.read_csv(url)\n",
        "\n",
        "#Ethnic Identity\n",
        "url ='https://raw.githubusercontent.com/ExCaLBBR/ExCaLBBR_Projects/main/SocioenvironmentalGeometry/data/raw/raw_questionnaire_EthnicIdentity.csv'\n",
        "df_EthId = pd.read_csv(url)\n",
        "\n",
        "#Multidimensional Inventory of Black Identity\n",
        "url = 'https://raw.githubusercontent.com/ExCaLBBR/ExCaLBBR_Projects/main/SocioenvironmentalGeometry/data/raw/raw_questionnaire_MIBI.csv'\n",
        "df_MIBI = pd.read_csv(url)\n",
        "\n",
        "#News Consumption\n",
        "url = 'https://raw.githubusercontent.com/ExCaLBBR/ExCaLBBR_Projects/main/SocioenvironmentalGeometry/data/raw/raw_questionnaire_NewsConsumption.csv'\n",
        "df_News = pd.read_csv(url)\n",
        "\n",
        "#Gender/Racial Discrimination\n",
        "url = 'https://raw.githubusercontent.com/ExCaLBBR/ExCaLBBR_Projects/main/SocioenvironmentalGeometry/data/raw/raw_questionnaire_GR-Discrim.csv'\n",
        "df_GRDiscrim = pd.read_csv(url)\n",
        "\n",
        "#Concept Exposure\n",
        "url = 'https://raw.githubusercontent.com/ExCaLBBR/ExCaLBBR_Projects/main/SocioenvironmentalGeometry/data/raw/raw_questionnaire_ConceptExposure.csv'\n",
        "df_ConExposure = pd.read_csv(url)\n",
        "\n",
        "#Concept Feeling\n",
        "url = 'https://raw.githubusercontent.com/ExCaLBBR/ExCaLBBR_Projects/main/SocioenvironmentalGeometry/data/raw/raw_questionnaire_ConceptFeeling.csv'\n",
        "df_ConFeeling = pd.read_csv(url)\n",
        "\n",
        "#Concept Interaction\n",
        "url = 'https://raw.githubusercontent.com/ExCaLBBR/ExCaLBBR_Projects/main/SocioenvironmentalGeometry/data/raw/raw_questionnaire_ConceptInteraction.csv'\n",
        "df_ConInteraction = pd.read_csv(url)\n",
        "\n",
        "#Social Dominance Orientation\n",
        "url = 'https://raw.githubusercontent.com/ExCaLBBR/ExCaLBBR_Projects/main/SocioenvironmentalGeometry/data/raw/raw_questionnaire_SDO.csv'\n",
        "df_SDO = pd.read_csv(url)\n",
        "\n",
        "\n",
        "#TASKS:\n",
        "#PRaM\n",
        "url = 'https://github.com/ExCaLBBR/ExCaLBBR_Projects/raw/main/SocioenvironmentalGeometry/data/raw/raw_task_PRaM.csv.gz'\n",
        "df_taskPRaM = pd.read_csv(url, compression='gzip')\n",
        "\n",
        "#SpAM\n",
        "url = 'https://raw.githubusercontent.com/ExCaLBBR/ExCaLBBR_Projects/main/SocioenvironmentalGeometry/data/raw/raw_task_SpAM.csv'\n",
        "df_taskSpAM = pd.read_csv(url)"
      ],
      "metadata": {
        "colab": {
          "base_uri": "https://localhost:8080/"
        },
        "id": "NA7mXjvZZldd",
        "outputId": "13e8d84e-d993-46fc-a70e-46abede67670"
      },
      "execution_count": 77,
      "outputs": [
        {
          "output_type": "stream",
          "name": "stderr",
          "text": [
            "/usr/local/lib/python3.8/dist-packages/IPython/core/interactiveshell.py:3326: DtypeWarning: Columns (0,35,38) have mixed types.Specify dtype option on import or set low_memory=False.\n",
            "  exec(code_obj, self.user_global_ns, self.user_ns)\n",
            "/usr/local/lib/python3.8/dist-packages/IPython/core/interactiveshell.py:3326: DtypeWarning: Columns (0,35) have mixed types.Specify dtype option on import or set low_memory=False.\n",
            "  exec(code_obj, self.user_global_ns, self.user_ns)\n"
          ]
        }
      ]
    },
    {
      "cell_type": "code",
      "source": [
        "#Isolate relevant columns: Demographics\n",
        "include = ['Participant Completion Code', 'Question Key', 'Response']\n",
        "#df_demographic = df_demographic[~df_demographic['Event Index'].str.contains('END OF FILE', na=True)]\n",
        "df_demographic.drop(columns=df_demographic.columns.difference(include), inplace=True)\n",
        "mask = df_demographic['Question Key'].str.contains('BEGIN QUESTIONNAIRE', na=True) | df_demographic['Question Key'].str.contains('END QUESTIONNAIRE', na=True) | df_demographic['Question Key'].str.contains('quantised', na=True) | df_demographic['Question Key'].str.contains('response-2', na=True)\n",
        "df_demographic = df_demographic[~mask]\n",
        "df_demographic = df_demographic.dropna()\n",
        "#display(df_demographic)\n",
        "\n",
        "#Isolate relevant columns: Ethnic Identity\n",
        "include = ['Participant Completion Code', 'Question Key', 'Response']\n",
        "#df_EthId = df_EthId[~df_EthId['Event Index'].str.contains('END OF FILE', na=True)]\n",
        "df_EthId.drop(columns=df_EthId.columns.difference(include), inplace=True)\n",
        "mask = df_EthId['Question Key'].str.contains('BEGIN QUESTIONNAIRE', na=True) | df_EthId['Question Key'].str.contains('END QUESTIONNAIRE', na=True)\n",
        "df_EthId = df_EthId[~mask]\n",
        "df_EthId = df_EthId.dropna()\n",
        "#display(df_EthId)\n",
        "\n",
        "#Isolate relevant columns: Multidimensional Inventory of Black Identity\n",
        "include = ['Participant Completion Code', 'Question Key', 'Response']\n",
        "#df_MIBI = df_MIBI[~df_MIBI['Event Index'].str.contains('END OF FILE', na=True)]\n",
        "df_MIBI.drop(columns=df_MIBI.columns.difference(include), inplace=True)\n",
        "mask = df_MIBI['Question Key'].str.contains('BEGIN QUESTIONNAIRE', na=True) | df_MIBI['Question Key'].str.contains('END QUESTIONNAIRE', na=True)\n",
        "df_MIBI = df_MIBI[~mask]\n",
        "df_MIBI = df_MIBI.dropna()\n",
        "#display(df_MIBI)\n",
        "\n",
        "#Isolate relevant columns: News Consumption\n",
        "include = ['Participant Completion Code', 'Question Key', 'Response']\n",
        "#df_News = df_News[~df_News['Event Index'].str.contains('END OF FILE', na=True)]\n",
        "df_News.drop(columns=df_News.columns.difference(include), inplace=True)\n",
        "mask = df_News['Question Key'].str.contains('BEGIN QUESTIONNAIRE', na=True) | df_News['Question Key'].str.contains('END QUESTIONNAIRE', na=True)\n",
        "df_News = df_News[~mask]\n",
        "df_News = df_News.dropna()\n",
        "#display(df_News)\n",
        "\n",
        "#Isolate relevant columns: Gender/Racial Discrimination\n",
        "include = ['Participant Completion Code', 'Question Key', 'Response']\n",
        "#df_GRDiscrim = df_GRDiscrim[~df_GRDiscrim['Event Index'].str.contains('END OF FILE', na=True)]\n",
        "df_GRDiscrim.drop(columns=df_GRDiscrim.columns.difference(include), inplace=True)\n",
        "mask = df_GRDiscrim['Question Key'].str.contains('BEGIN QUESTIONNAIRE', na=True) | df_GRDiscrim['Question Key'].str.contains('END QUESTIONNAIRE', na=True)\n",
        "df_GRDiscrim = df_GRDiscrim[~mask]\n",
        "df_GRDiscrim = df_GRDiscrim.dropna()\n",
        "#display(df_GRDiscrim)\n",
        "\n",
        "#Isolate relevant columns: Concept Exposure\n",
        "include = ['Participant Completion Code', 'Question Key', 'Response']\n",
        "#df_ConExposure = df_ConExposure[~df_ConExposure['Event Index'].str.contains('END OF FILE', na=True)]\n",
        "df_ConExposure.drop(columns=df_ConExposure.columns.difference(include), inplace=True)\n",
        "mask = df_ConExposure['Question Key'].str.contains('BEGIN QUESTIONNAIRE', na=True) | df_ConExposure['Question Key'].str.contains('END QUESTIONNAIRE', na=True)\n",
        "df_ConExposure = df_ConExposure[~mask]\n",
        "df_ConExposure = df_ConExposure.dropna()\n",
        "#display(df_ConExposure)\n",
        "\n",
        "#Isolate relevant columns: Concept Feeling\n",
        "include = ['Participant Completion Code', 'Question Key', 'Response']\n",
        "#df_ConFeeling = df_ConFeeling[~df_ConFeeling['Event Index'].str.contains('END OF FILE', na=True)]\n",
        "df_ConFeeling.drop(columns=df_ConFeeling.columns.difference(include), inplace=True)\n",
        "mask = df_ConFeeling['Question Key'].str.contains('BEGIN QUESTIONNAIRE', na=True) | df_ConFeeling['Question Key'].str.contains('END QUESTIONNAIRE', na=True)\n",
        "df_ConFeeling = df_ConFeeling[~mask]\n",
        "df_ConFeeling = df_ConFeeling.dropna()\n",
        "#display(df_ConFeeling)\n",
        "\n",
        "#Isolate relevant columns: Concept Interaction\n",
        "include = ['Participant Completion Code', 'Question Key', 'Response']\n",
        "#df_ConInteraction = df_ConInteraction[~df_ConInteraction['Event Index'].str.contains('END OF FILE', na=True)]\n",
        "df_ConInteraction.drop(columns=df_ConInteraction.columns.difference(include), inplace=True)\n",
        "mask = df_ConInteraction['Question Key'].str.contains('BEGIN QUESTIONNAIRE', na=True) | df_ConInteraction['Question Key'].str.contains('END QUESTIONNAIRE', na=True)\n",
        "df_ConInteraction = df_ConInteraction[~mask]\n",
        "df_ConInteraction = df_ConInteraction.dropna()\n",
        "#display(df_ConInteraction)\n",
        "\n",
        "#Isolate relevant columns: Social Dominance Orientation\n",
        "include = ['Participant Completion Code', 'Question Key', 'Response']\n",
        "#df_SDO = df_SDO[~df_SDO['Event Index'].str.contains('END OF FILE', na=True)]\n",
        "df_SDO.drop(columns=df_SDO.columns.difference(include), inplace=True)\n",
        "mask = df_SDO['Question Key'].str.contains('BEGIN QUESTIONNAIRE', na=True) | df_SDO['Question Key'].str.contains('END QUESTIONNAIRE', na=True)\n",
        "df_SDO = df_SDO[~mask]\n",
        "df_SDO = df_SDO.dropna()\n",
        "#display(df_SDO)\n",
        "\n",
        "#Isolate relevant columns: PRaM\n",
        "include = ['Participant Completion Code', 'Zone Name', 'conceptA', 'conceptB', 'Response']\n",
        "df_taskPRaM.drop(columns=df_taskPRaM.columns.difference(include), inplace=True)\n",
        "mask = df_taskPRaM['Zone Name'].str.contains('Likert', na=True)\n",
        "df_taskPRaM = df_taskPRaM[mask]\n",
        "df_taskPRaM = df_taskPRaM.dropna()\n",
        "df_taskPRaM.drop(columns=['Zone Name'], inplace=True)\n",
        "df_taskPRaM['Pair'] = df_taskPRaM['conceptA'] + '-' + df_taskPRaM['conceptB']\n",
        "#display(df_taskPRaM)\n",
        "\n",
        "#Isolate relevant columns: SpAM\n",
        "include = ['Participant Completion Code', 'Zone Name', 'Zone Type', 'Response']\n",
        "df_taskSpAM = df_taskSpAM[~df_taskSpAM['Event Index'].str.contains('END OF FILE', na=True)]\n",
        "df_taskSpAM.drop(columns=df_taskSpAM.columns.difference(include), inplace=True)\n",
        "mask = df_taskSpAM['Zone Type'].str.contains('drag_and_drop_main', na=True) | df_taskSpAM['Zone Name'].str.contains('Zone10', na=True)\n",
        "df_taskSpAM = df_taskSpAM[mask]\n",
        "df_taskSpAM.drop(columns=['Zone Type'], inplace=True)\n",
        "df_taskSpAM['Zone Name'] = df_taskSpAM['Zone Name'].replace(['conceptA', 'conceptB', 'conceptC', 'conceptD', 'conceptE', 'conceptF', 'conceptG'], ['Police', 'Firefighter', 'Neighbors', 'Conservatives', 'Liberals', 'Healthcare', 'Voting'])\n",
        "df_taskSpAM = df_taskSpAM.dropna(inplace=True)\n",
        "#display(df_taskSpAM)"
      ],
      "metadata": {
        "colab": {
          "base_uri": "https://localhost:8080/"
        },
        "id": "6LwvqmKec1MJ",
        "outputId": "49234e14-cbca-41c9-a876-80e906c6cb78"
      },
      "execution_count": 78,
      "outputs": [
        {
          "output_type": "stream",
          "name": "stderr",
          "text": [
            "/usr/local/lib/python3.8/dist-packages/pandas/core/frame.py:4906: SettingWithCopyWarning: \n",
            "A value is trying to be set on a copy of a slice from a DataFrame\n",
            "\n",
            "See the caveats in the documentation: https://pandas.pydata.org/pandas-docs/stable/user_guide/indexing.html#returning-a-view-versus-a-copy\n",
            "  return super().drop(\n"
          ]
        }
      ]
    },
    {
      "cell_type": "code",
      "source": [
        "#Isolate Pivot dataframes\n",
        "df_demographic = df_demographic.pivot(index = 'Participant Completion Code', columns = ['Question Key'], values = ['Response']) #Demographics\n",
        "#display(df_demographic)\n",
        "\n",
        "df_EthId = df_EthId.pivot(index = 'Participant Completion Code', columns = ['Question Key'], values = ['Response']) #Ethnic Identity\n",
        "#display(df_EthId)\n",
        "\n",
        "df_MIBI = df_MIBI.pivot(index = 'Participant Completion Code', columns = ['Question Key'], values = ['Response']) #Multidimensional Inventory of Black Identity\n",
        "#display(df_MIBI)\n",
        "\n",
        "df_News = df_News.pivot(index = 'Participant Completion Code', columns = ['Question Key'], values = ['Response']) #News Consumption\n",
        "#display(df_News)\n",
        "\n",
        "df_GRDiscrim = df_GRDiscrim.pivot(index = 'Participant Completion Code', columns = ['Question Key'], values = ['Response']) #Gender/Racial Discrimination\n",
        "#display(df_GRDiscrim)\n",
        "\n",
        "df_ConExposure = df_ConExposure.pivot(index = 'Participant Completion Code', columns = ['Question Key'], values = ['Response']) #Concept Exposure\n",
        "#display(df_ConExposure)\n",
        "\n",
        "df_ConFeeling = df_ConFeeling.pivot(index = 'Participant Completion Code', columns = ['Question Key'], values = ['Response']) #Concept Feeling\n",
        "#display(df_ConFeeling)\n",
        "\n",
        "df_ConInteraction = df_ConInteraction.pivot(index = 'Participant Completion Code', columns = ['Question Key'], values = ['Response']) #Concept Interaction\n",
        "#display(df_ConInteraction)\n",
        "\n",
        "df_SDO = df_SDO.pivot(index = 'Participant Completion Code', columns = ['Question Key'], values = ['Response']) #Social Dominance Orientation\n",
        "#display(df_SDO)\n",
        "\n",
        "#TASKS:\n",
        "#TODO: Take last mask out last instance of each concepts. If no isntance is present then use default coordinate. Flag participants that did not move at least half of the concepts (i.e., there are no entries)\n",
        "#df_taskSpAM_test = df_taskSpAM.pivot(index = 'Participant Completion Code', columns = ['Zone Name'], values = ['Response']) #SpAM\n",
        "#display(df_taskSpAM_test)\n",
        "\n",
        "df_taskPRaM = df_taskPRaM.pivot(index = ['Participant Completion Code'], columns = ['Pair'], values = ['Response']) #PRaM\n",
        "display(df_taskPRaM)"
      ],
      "metadata": {
        "id": "8dzVwNOoDY5V",
        "colab": {
          "base_uri": "https://localhost:8080/",
          "height": 363
        },
        "outputId": "8d969d21-f305-4589-a348-6543de6f6658"
      },
      "execution_count": 79,
      "outputs": [
        {
          "output_type": "error",
          "ename": "ValueError",
          "evalue": "ignored",
          "traceback": [
            "\u001b[0;31m---------------------------------------------------------------------------\u001b[0m",
            "\u001b[0;31mValueError\u001b[0m                                Traceback (most recent call last)",
            "\u001b[0;32m<ipython-input-79-6bf3b6b80e47>\u001b[0m in \u001b[0;36m<module>\u001b[0;34m\u001b[0m\n\u001b[1;32m     32\u001b[0m \u001b[0;31m#display(df_taskSpAM_test)\u001b[0m\u001b[0;34m\u001b[0m\u001b[0;34m\u001b[0m\u001b[0;34m\u001b[0m\u001b[0m\n\u001b[1;32m     33\u001b[0m \u001b[0;34m\u001b[0m\u001b[0m\n\u001b[0;32m---> 34\u001b[0;31m \u001b[0mdf_taskPRaM\u001b[0m \u001b[0;34m=\u001b[0m \u001b[0mdf_taskPRaM\u001b[0m\u001b[0;34m.\u001b[0m\u001b[0mpivot\u001b[0m\u001b[0;34m(\u001b[0m\u001b[0mindex\u001b[0m \u001b[0;34m=\u001b[0m \u001b[0;34m[\u001b[0m\u001b[0;34m'Participant Completion Code'\u001b[0m\u001b[0;34m]\u001b[0m\u001b[0;34m,\u001b[0m \u001b[0mcolumns\u001b[0m \u001b[0;34m=\u001b[0m \u001b[0;34m[\u001b[0m\u001b[0;34m'Pair'\u001b[0m\u001b[0;34m]\u001b[0m\u001b[0;34m,\u001b[0m \u001b[0mvalues\u001b[0m \u001b[0;34m=\u001b[0m \u001b[0;34m[\u001b[0m\u001b[0;34m'Response'\u001b[0m\u001b[0;34m]\u001b[0m\u001b[0;34m)\u001b[0m \u001b[0;31m#PRaM\u001b[0m\u001b[0;34m\u001b[0m\u001b[0;34m\u001b[0m\u001b[0m\n\u001b[0m\u001b[1;32m     35\u001b[0m \u001b[0mdisplay\u001b[0m\u001b[0;34m(\u001b[0m\u001b[0mdf_taskPRaM\u001b[0m\u001b[0;34m)\u001b[0m\u001b[0;34m\u001b[0m\u001b[0;34m\u001b[0m\u001b[0m\n",
            "\u001b[0;32m/usr/local/lib/python3.8/dist-packages/pandas/core/frame.py\u001b[0m in \u001b[0;36mpivot\u001b[0;34m(self, index, columns, values)\u001b[0m\n\u001b[1;32m   7791\u001b[0m         \u001b[0;32mfrom\u001b[0m \u001b[0mpandas\u001b[0m\u001b[0;34m.\u001b[0m\u001b[0mcore\u001b[0m\u001b[0;34m.\u001b[0m\u001b[0mreshape\u001b[0m\u001b[0;34m.\u001b[0m\u001b[0mpivot\u001b[0m \u001b[0;32mimport\u001b[0m \u001b[0mpivot\u001b[0m\u001b[0;34m\u001b[0m\u001b[0;34m\u001b[0m\u001b[0m\n\u001b[1;32m   7792\u001b[0m \u001b[0;34m\u001b[0m\u001b[0m\n\u001b[0;32m-> 7793\u001b[0;31m         \u001b[0;32mreturn\u001b[0m \u001b[0mpivot\u001b[0m\u001b[0;34m(\u001b[0m\u001b[0mself\u001b[0m\u001b[0;34m,\u001b[0m \u001b[0mindex\u001b[0m\u001b[0;34m=\u001b[0m\u001b[0mindex\u001b[0m\u001b[0;34m,\u001b[0m \u001b[0mcolumns\u001b[0m\u001b[0;34m=\u001b[0m\u001b[0mcolumns\u001b[0m\u001b[0;34m,\u001b[0m \u001b[0mvalues\u001b[0m\u001b[0;34m=\u001b[0m\u001b[0mvalues\u001b[0m\u001b[0;34m)\u001b[0m\u001b[0;34m\u001b[0m\u001b[0;34m\u001b[0m\u001b[0m\n\u001b[0m\u001b[1;32m   7794\u001b[0m \u001b[0;34m\u001b[0m\u001b[0m\n\u001b[1;32m   7795\u001b[0m     _shared_docs[\n",
            "\u001b[0;32m/usr/local/lib/python3.8/dist-packages/pandas/core/reshape/pivot.py\u001b[0m in \u001b[0;36mpivot\u001b[0;34m(data, index, columns, values)\u001b[0m\n\u001b[1;32m    515\u001b[0m         \u001b[0;32melse\u001b[0m\u001b[0;34m:\u001b[0m\u001b[0;34m\u001b[0m\u001b[0;34m\u001b[0m\u001b[0m\n\u001b[1;32m    516\u001b[0m             \u001b[0mindexed\u001b[0m \u001b[0;34m=\u001b[0m \u001b[0mdata\u001b[0m\u001b[0;34m.\u001b[0m\u001b[0m_constructor_sliced\u001b[0m\u001b[0;34m(\u001b[0m\u001b[0mdata\u001b[0m\u001b[0;34m[\u001b[0m\u001b[0mvalues\u001b[0m\u001b[0;34m]\u001b[0m\u001b[0;34m.\u001b[0m\u001b[0m_values\u001b[0m\u001b[0;34m,\u001b[0m \u001b[0mindex\u001b[0m\u001b[0;34m=\u001b[0m\u001b[0mmultiindex\u001b[0m\u001b[0;34m)\u001b[0m\u001b[0;34m\u001b[0m\u001b[0;34m\u001b[0m\u001b[0m\n\u001b[0;32m--> 517\u001b[0;31m     \u001b[0;32mreturn\u001b[0m \u001b[0mindexed\u001b[0m\u001b[0;34m.\u001b[0m\u001b[0munstack\u001b[0m\u001b[0;34m(\u001b[0m\u001b[0mcolumns_listlike\u001b[0m\u001b[0;34m)\u001b[0m\u001b[0;34m\u001b[0m\u001b[0;34m\u001b[0m\u001b[0m\n\u001b[0m\u001b[1;32m    518\u001b[0m \u001b[0;34m\u001b[0m\u001b[0m\n\u001b[1;32m    519\u001b[0m \u001b[0;34m\u001b[0m\u001b[0m\n",
            "\u001b[0;32m/usr/local/lib/python3.8/dist-packages/pandas/core/frame.py\u001b[0m in \u001b[0;36munstack\u001b[0;34m(self, level, fill_value)\u001b[0m\n\u001b[1;32m   8322\u001b[0m         \u001b[0;32mfrom\u001b[0m \u001b[0mpandas\u001b[0m\u001b[0;34m.\u001b[0m\u001b[0mcore\u001b[0m\u001b[0;34m.\u001b[0m\u001b[0mreshape\u001b[0m\u001b[0;34m.\u001b[0m\u001b[0mreshape\u001b[0m \u001b[0;32mimport\u001b[0m \u001b[0munstack\u001b[0m\u001b[0;34m\u001b[0m\u001b[0;34m\u001b[0m\u001b[0m\n\u001b[1;32m   8323\u001b[0m \u001b[0;34m\u001b[0m\u001b[0m\n\u001b[0;32m-> 8324\u001b[0;31m         \u001b[0mresult\u001b[0m \u001b[0;34m=\u001b[0m \u001b[0munstack\u001b[0m\u001b[0;34m(\u001b[0m\u001b[0mself\u001b[0m\u001b[0;34m,\u001b[0m \u001b[0mlevel\u001b[0m\u001b[0;34m,\u001b[0m \u001b[0mfill_value\u001b[0m\u001b[0;34m)\u001b[0m\u001b[0;34m\u001b[0m\u001b[0;34m\u001b[0m\u001b[0m\n\u001b[0m\u001b[1;32m   8325\u001b[0m \u001b[0;34m\u001b[0m\u001b[0m\n\u001b[1;32m   8326\u001b[0m         \u001b[0;32mreturn\u001b[0m \u001b[0mresult\u001b[0m\u001b[0;34m.\u001b[0m\u001b[0m__finalize__\u001b[0m\u001b[0;34m(\u001b[0m\u001b[0mself\u001b[0m\u001b[0;34m,\u001b[0m \u001b[0mmethod\u001b[0m\u001b[0;34m=\u001b[0m\u001b[0;34m\"unstack\"\u001b[0m\u001b[0;34m)\u001b[0m\u001b[0;34m\u001b[0m\u001b[0;34m\u001b[0m\u001b[0m\n",
            "\u001b[0;32m/usr/local/lib/python3.8/dist-packages/pandas/core/reshape/reshape.py\u001b[0m in \u001b[0;36munstack\u001b[0;34m(obj, level, fill_value)\u001b[0m\n\u001b[1;32m    445\u001b[0m     \u001b[0;32mif\u001b[0m \u001b[0misinstance\u001b[0m\u001b[0;34m(\u001b[0m\u001b[0mobj\u001b[0m\u001b[0;34m,\u001b[0m \u001b[0mDataFrame\u001b[0m\u001b[0;34m)\u001b[0m\u001b[0;34m:\u001b[0m\u001b[0;34m\u001b[0m\u001b[0;34m\u001b[0m\u001b[0m\n\u001b[1;32m    446\u001b[0m         \u001b[0;32mif\u001b[0m \u001b[0misinstance\u001b[0m\u001b[0;34m(\u001b[0m\u001b[0mobj\u001b[0m\u001b[0;34m.\u001b[0m\u001b[0mindex\u001b[0m\u001b[0;34m,\u001b[0m \u001b[0mMultiIndex\u001b[0m\u001b[0;34m)\u001b[0m\u001b[0;34m:\u001b[0m\u001b[0;34m\u001b[0m\u001b[0;34m\u001b[0m\u001b[0m\n\u001b[0;32m--> 447\u001b[0;31m             \u001b[0;32mreturn\u001b[0m \u001b[0m_unstack_frame\u001b[0m\u001b[0;34m(\u001b[0m\u001b[0mobj\u001b[0m\u001b[0;34m,\u001b[0m \u001b[0mlevel\u001b[0m\u001b[0;34m,\u001b[0m \u001b[0mfill_value\u001b[0m\u001b[0;34m=\u001b[0m\u001b[0mfill_value\u001b[0m\u001b[0;34m)\u001b[0m\u001b[0;34m\u001b[0m\u001b[0;34m\u001b[0m\u001b[0m\n\u001b[0m\u001b[1;32m    448\u001b[0m         \u001b[0;32melse\u001b[0m\u001b[0;34m:\u001b[0m\u001b[0;34m\u001b[0m\u001b[0;34m\u001b[0m\u001b[0m\n\u001b[1;32m    449\u001b[0m             \u001b[0;32mreturn\u001b[0m \u001b[0mobj\u001b[0m\u001b[0;34m.\u001b[0m\u001b[0mT\u001b[0m\u001b[0;34m.\u001b[0m\u001b[0mstack\u001b[0m\u001b[0;34m(\u001b[0m\u001b[0mdropna\u001b[0m\u001b[0;34m=\u001b[0m\u001b[0;32mFalse\u001b[0m\u001b[0;34m)\u001b[0m\u001b[0;34m\u001b[0m\u001b[0;34m\u001b[0m\u001b[0m\n",
            "\u001b[0;32m/usr/local/lib/python3.8/dist-packages/pandas/core/reshape/reshape.py\u001b[0m in \u001b[0;36m_unstack_frame\u001b[0;34m(obj, level, fill_value)\u001b[0m\n\u001b[1;32m    472\u001b[0m         \u001b[0;32mreturn\u001b[0m \u001b[0mobj\u001b[0m\u001b[0;34m.\u001b[0m\u001b[0m_constructor\u001b[0m\u001b[0;34m(\u001b[0m\u001b[0mmgr\u001b[0m\u001b[0;34m)\u001b[0m\u001b[0;34m\u001b[0m\u001b[0;34m\u001b[0m\u001b[0m\n\u001b[1;32m    473\u001b[0m     \u001b[0;32melse\u001b[0m\u001b[0;34m:\u001b[0m\u001b[0;34m\u001b[0m\u001b[0;34m\u001b[0m\u001b[0m\n\u001b[0;32m--> 474\u001b[0;31m         \u001b[0munstacker\u001b[0m \u001b[0;34m=\u001b[0m \u001b[0m_Unstacker\u001b[0m\u001b[0;34m(\u001b[0m\u001b[0mobj\u001b[0m\u001b[0;34m.\u001b[0m\u001b[0mindex\u001b[0m\u001b[0;34m,\u001b[0m \u001b[0mlevel\u001b[0m\u001b[0;34m=\u001b[0m\u001b[0mlevel\u001b[0m\u001b[0;34m,\u001b[0m \u001b[0mconstructor\u001b[0m\u001b[0;34m=\u001b[0m\u001b[0mobj\u001b[0m\u001b[0;34m.\u001b[0m\u001b[0m_constructor\u001b[0m\u001b[0;34m)\u001b[0m\u001b[0;34m\u001b[0m\u001b[0;34m\u001b[0m\u001b[0m\n\u001b[0m\u001b[1;32m    475\u001b[0m         return unstacker.get_result(\n\u001b[1;32m    476\u001b[0m             \u001b[0mobj\u001b[0m\u001b[0;34m.\u001b[0m\u001b[0m_values\u001b[0m\u001b[0;34m,\u001b[0m \u001b[0mvalue_columns\u001b[0m\u001b[0;34m=\u001b[0m\u001b[0mobj\u001b[0m\u001b[0;34m.\u001b[0m\u001b[0mcolumns\u001b[0m\u001b[0;34m,\u001b[0m \u001b[0mfill_value\u001b[0m\u001b[0;34m=\u001b[0m\u001b[0mfill_value\u001b[0m\u001b[0;34m\u001b[0m\u001b[0;34m\u001b[0m\u001b[0m\n",
            "\u001b[0;32m/usr/local/lib/python3.8/dist-packages/pandas/core/reshape/reshape.py\u001b[0m in \u001b[0;36m__init__\u001b[0;34m(self, index, level, constructor)\u001b[0m\n\u001b[1;32m    131\u001b[0m             \u001b[0;32mraise\u001b[0m \u001b[0mValueError\u001b[0m\u001b[0;34m(\u001b[0m\u001b[0;34m\"Unstacked DataFrame is too big, causing int32 overflow\"\u001b[0m\u001b[0;34m)\u001b[0m\u001b[0;34m\u001b[0m\u001b[0;34m\u001b[0m\u001b[0m\n\u001b[1;32m    132\u001b[0m \u001b[0;34m\u001b[0m\u001b[0m\n\u001b[0;32m--> 133\u001b[0;31m         \u001b[0mself\u001b[0m\u001b[0;34m.\u001b[0m\u001b[0m_make_selectors\u001b[0m\u001b[0;34m(\u001b[0m\u001b[0;34m)\u001b[0m\u001b[0;34m\u001b[0m\u001b[0;34m\u001b[0m\u001b[0m\n\u001b[0m\u001b[1;32m    134\u001b[0m \u001b[0;34m\u001b[0m\u001b[0m\n\u001b[1;32m    135\u001b[0m     \u001b[0;34m@\u001b[0m\u001b[0mcache_readonly\u001b[0m\u001b[0;34m\u001b[0m\u001b[0;34m\u001b[0m\u001b[0m\n",
            "\u001b[0;32m/usr/local/lib/python3.8/dist-packages/pandas/core/reshape/reshape.py\u001b[0m in \u001b[0;36m_make_selectors\u001b[0;34m(self)\u001b[0m\n\u001b[1;32m    183\u001b[0m \u001b[0;34m\u001b[0m\u001b[0m\n\u001b[1;32m    184\u001b[0m         \u001b[0;32mif\u001b[0m \u001b[0mmask\u001b[0m\u001b[0;34m.\u001b[0m\u001b[0msum\u001b[0m\u001b[0;34m(\u001b[0m\u001b[0;34m)\u001b[0m \u001b[0;34m<\u001b[0m \u001b[0mlen\u001b[0m\u001b[0;34m(\u001b[0m\u001b[0mself\u001b[0m\u001b[0;34m.\u001b[0m\u001b[0mindex\u001b[0m\u001b[0;34m)\u001b[0m\u001b[0;34m:\u001b[0m\u001b[0;34m\u001b[0m\u001b[0;34m\u001b[0m\u001b[0m\n\u001b[0;32m--> 185\u001b[0;31m             \u001b[0;32mraise\u001b[0m \u001b[0mValueError\u001b[0m\u001b[0;34m(\u001b[0m\u001b[0;34m\"Index contains duplicate entries, cannot reshape\"\u001b[0m\u001b[0;34m)\u001b[0m\u001b[0;34m\u001b[0m\u001b[0;34m\u001b[0m\u001b[0m\n\u001b[0m\u001b[1;32m    186\u001b[0m \u001b[0;34m\u001b[0m\u001b[0m\n\u001b[1;32m    187\u001b[0m         \u001b[0mself\u001b[0m\u001b[0;34m.\u001b[0m\u001b[0mgroup_index\u001b[0m \u001b[0;34m=\u001b[0m \u001b[0mcomp_index\u001b[0m\u001b[0;34m\u001b[0m\u001b[0;34m\u001b[0m\u001b[0m\n",
            "\u001b[0;31mValueError\u001b[0m: Index contains duplicate entries, cannot reshape"
          ]
        }
      ]
    },
    {
      "cell_type": "code",
      "source": [
        "df_taskPRaM"
      ],
      "metadata": {
        "colab": {
          "base_uri": "https://localhost:8080/",
          "height": 424
        },
        "id": "8MD91rmWk1bw",
        "outputId": "1e4d9a7f-158d-4199-b6fe-a728b6d46790"
      },
      "execution_count": 85,
      "outputs": [
        {
          "output_type": "execute_result",
          "data": {
            "text/plain": [
              "       Participant Completion Code Response                             Pair\n",
              "3                           vbkcff      2.0         liberals(political)-love\n",
              "5                           vbkcff     -5.0    conservatives(political)-fear\n",
              "7                           vbkcff      7.0  liberals(political)-immigration\n",
              "9                           vbkcff      0.0     firefighter-neighbors(yours)\n",
              "11                          vbkcff      3.0                firefighter-trust\n",
              "...                            ...      ...                              ...\n",
              "133291                      ntirsa      0.0                    anger-sadness\n",
              "133293                      ntirsa      3.0                     fear-sadness\n",
              "133295                      ntirsa     -2.0                         fear-joy\n",
              "133297                      ntirsa      2.0        liberals(political)-trust\n",
              "133299                      ntirsa      4.0                healthcare-voting\n",
              "\n",
              "[65285 rows x 3 columns]"
            ],
            "text/html": [
              "\n",
              "  <div id=\"df-a4bc9b2f-2216-4b0e-8c1c-3e66665824bf\">\n",
              "    <div class=\"colab-df-container\">\n",
              "      <div>\n",
              "<style scoped>\n",
              "    .dataframe tbody tr th:only-of-type {\n",
              "        vertical-align: middle;\n",
              "    }\n",
              "\n",
              "    .dataframe tbody tr th {\n",
              "        vertical-align: top;\n",
              "    }\n",
              "\n",
              "    .dataframe thead th {\n",
              "        text-align: right;\n",
              "    }\n",
              "</style>\n",
              "<table border=\"1\" class=\"dataframe\">\n",
              "  <thead>\n",
              "    <tr style=\"text-align: right;\">\n",
              "      <th></th>\n",
              "      <th>Participant Completion Code</th>\n",
              "      <th>Response</th>\n",
              "      <th>Pair</th>\n",
              "    </tr>\n",
              "  </thead>\n",
              "  <tbody>\n",
              "    <tr>\n",
              "      <th>3</th>\n",
              "      <td>vbkcff</td>\n",
              "      <td>2.0</td>\n",
              "      <td>liberals(political)-love</td>\n",
              "    </tr>\n",
              "    <tr>\n",
              "      <th>5</th>\n",
              "      <td>vbkcff</td>\n",
              "      <td>-5.0</td>\n",
              "      <td>conservatives(political)-fear</td>\n",
              "    </tr>\n",
              "    <tr>\n",
              "      <th>7</th>\n",
              "      <td>vbkcff</td>\n",
              "      <td>7.0</td>\n",
              "      <td>liberals(political)-immigration</td>\n",
              "    </tr>\n",
              "    <tr>\n",
              "      <th>9</th>\n",
              "      <td>vbkcff</td>\n",
              "      <td>0.0</td>\n",
              "      <td>firefighter-neighbors(yours)</td>\n",
              "    </tr>\n",
              "    <tr>\n",
              "      <th>11</th>\n",
              "      <td>vbkcff</td>\n",
              "      <td>3.0</td>\n",
              "      <td>firefighter-trust</td>\n",
              "    </tr>\n",
              "    <tr>\n",
              "      <th>...</th>\n",
              "      <td>...</td>\n",
              "      <td>...</td>\n",
              "      <td>...</td>\n",
              "    </tr>\n",
              "    <tr>\n",
              "      <th>133291</th>\n",
              "      <td>ntirsa</td>\n",
              "      <td>0.0</td>\n",
              "      <td>anger-sadness</td>\n",
              "    </tr>\n",
              "    <tr>\n",
              "      <th>133293</th>\n",
              "      <td>ntirsa</td>\n",
              "      <td>3.0</td>\n",
              "      <td>fear-sadness</td>\n",
              "    </tr>\n",
              "    <tr>\n",
              "      <th>133295</th>\n",
              "      <td>ntirsa</td>\n",
              "      <td>-2.0</td>\n",
              "      <td>fear-joy</td>\n",
              "    </tr>\n",
              "    <tr>\n",
              "      <th>133297</th>\n",
              "      <td>ntirsa</td>\n",
              "      <td>2.0</td>\n",
              "      <td>liberals(political)-trust</td>\n",
              "    </tr>\n",
              "    <tr>\n",
              "      <th>133299</th>\n",
              "      <td>ntirsa</td>\n",
              "      <td>4.0</td>\n",
              "      <td>healthcare-voting</td>\n",
              "    </tr>\n",
              "  </tbody>\n",
              "</table>\n",
              "<p>65285 rows × 3 columns</p>\n",
              "</div>\n",
              "      <button class=\"colab-df-convert\" onclick=\"convertToInteractive('df-a4bc9b2f-2216-4b0e-8c1c-3e66665824bf')\"\n",
              "              title=\"Convert this dataframe to an interactive table.\"\n",
              "              style=\"display:none;\">\n",
              "        \n",
              "  <svg xmlns=\"http://www.w3.org/2000/svg\" height=\"24px\"viewBox=\"0 0 24 24\"\n",
              "       width=\"24px\">\n",
              "    <path d=\"M0 0h24v24H0V0z\" fill=\"none\"/>\n",
              "    <path d=\"M18.56 5.44l.94 2.06.94-2.06 2.06-.94-2.06-.94-.94-2.06-.94 2.06-2.06.94zm-11 1L8.5 8.5l.94-2.06 2.06-.94-2.06-.94L8.5 2.5l-.94 2.06-2.06.94zm10 10l.94 2.06.94-2.06 2.06-.94-2.06-.94-.94-2.06-.94 2.06-2.06.94z\"/><path d=\"M17.41 7.96l-1.37-1.37c-.4-.4-.92-.59-1.43-.59-.52 0-1.04.2-1.43.59L10.3 9.45l-7.72 7.72c-.78.78-.78 2.05 0 2.83L4 21.41c.39.39.9.59 1.41.59.51 0 1.02-.2 1.41-.59l7.78-7.78 2.81-2.81c.8-.78.8-2.07 0-2.86zM5.41 20L4 18.59l7.72-7.72 1.47 1.35L5.41 20z\"/>\n",
              "  </svg>\n",
              "      </button>\n",
              "      \n",
              "  <style>\n",
              "    .colab-df-container {\n",
              "      display:flex;\n",
              "      flex-wrap:wrap;\n",
              "      gap: 12px;\n",
              "    }\n",
              "\n",
              "    .colab-df-convert {\n",
              "      background-color: #E8F0FE;\n",
              "      border: none;\n",
              "      border-radius: 50%;\n",
              "      cursor: pointer;\n",
              "      display: none;\n",
              "      fill: #1967D2;\n",
              "      height: 32px;\n",
              "      padding: 0 0 0 0;\n",
              "      width: 32px;\n",
              "    }\n",
              "\n",
              "    .colab-df-convert:hover {\n",
              "      background-color: #E2EBFA;\n",
              "      box-shadow: 0px 1px 2px rgba(60, 64, 67, 0.3), 0px 1px 3px 1px rgba(60, 64, 67, 0.15);\n",
              "      fill: #174EA6;\n",
              "    }\n",
              "\n",
              "    [theme=dark] .colab-df-convert {\n",
              "      background-color: #3B4455;\n",
              "      fill: #D2E3FC;\n",
              "    }\n",
              "\n",
              "    [theme=dark] .colab-df-convert:hover {\n",
              "      background-color: #434B5C;\n",
              "      box-shadow: 0px 1px 3px 1px rgba(0, 0, 0, 0.15);\n",
              "      filter: drop-shadow(0px 1px 2px rgba(0, 0, 0, 0.3));\n",
              "      fill: #FFFFFF;\n",
              "    }\n",
              "  </style>\n",
              "\n",
              "      <script>\n",
              "        const buttonEl =\n",
              "          document.querySelector('#df-a4bc9b2f-2216-4b0e-8c1c-3e66665824bf button.colab-df-convert');\n",
              "        buttonEl.style.display =\n",
              "          google.colab.kernel.accessAllowed ? 'block' : 'none';\n",
              "\n",
              "        async function convertToInteractive(key) {\n",
              "          const element = document.querySelector('#df-a4bc9b2f-2216-4b0e-8c1c-3e66665824bf');\n",
              "          const dataTable =\n",
              "            await google.colab.kernel.invokeFunction('convertToInteractive',\n",
              "                                                     [key], {});\n",
              "          if (!dataTable) return;\n",
              "\n",
              "          const docLinkHtml = 'Like what you see? Visit the ' +\n",
              "            '<a target=\"_blank\" href=https://colab.research.google.com/notebooks/data_table.ipynb>data table notebook</a>'\n",
              "            + ' to learn more about interactive tables.';\n",
              "          element.innerHTML = '';\n",
              "          dataTable['output_type'] = 'display_data';\n",
              "          await google.colab.output.renderOutput(dataTable, element);\n",
              "          const docLink = document.createElement('div');\n",
              "          docLink.innerHTML = docLinkHtml;\n",
              "          element.appendChild(docLink);\n",
              "        }\n",
              "      </script>\n",
              "    </div>\n",
              "  </div>\n",
              "  "
            ]
          },
          "metadata": {},
          "execution_count": 85
        }
      ]
    },
    {
      "cell_type": "code",
      "source": [
        "#Push to Lab GitHub !!!\n",
        "#NOTE: These credentials should be configured to user's lab GitHub\n",
        "#If user is part of ExCaLBBR Lab then ask Roberto for access\n",
        "!git config --global user.name \"\" #\"YOUR CREDIENTIALS HERE\" \n",
        "!git config --global user.email \"\" #\"YOUR CREDIENTIALS HERE\"\n",
        "!git config --global user.password \"\" #\"YOUR CREDIENTIALS HERE\"\n",
        "\n",
        "token = ''\n",
        "username_organization = ''\n",
        "repo = ''\n",
        "outputDir = ''"
      ],
      "metadata": {
        "id": "P1hSBfkRJkYa"
      },
      "execution_count": null,
      "outputs": []
    },
    {
      "cell_type": "code",
      "source": [
        "#Clone repository and move created files into output directory\n",
        "!git clone https://{token}@github.com/{username_organization}/{repo}"
      ],
      "metadata": {
        "id": "RToVhxKCJntE",
        "outputId": "d9afd5f1-11a1-49b1-e5e4-603246291314",
        "colab": {
          "base_uri": "https://localhost:8080/"
        }
      },
      "execution_count": null,
      "outputs": [
        {
          "output_type": "stream",
          "name": "stdout",
          "text": [
            "Cloning into 'ExCaLBBR_Projects'...\n",
            "remote: Enumerating objects: 237, done.\u001b[K\n",
            "remote: Counting objects:   5% (1/18)\u001b[K\rremote: Counting objects:  11% (2/18)\u001b[K\rremote: Counting objects:  16% (3/18)\u001b[K\rremote: Counting objects:  22% (4/18)\u001b[K\rremote: Counting objects:  27% (5/18)\u001b[K\rremote: Counting objects:  33% (6/18)\u001b[K\rremote: Counting objects:  38% (7/18)\u001b[K\rremote: Counting objects:  44% (8/18)\u001b[K\rremote: Counting objects:  50% (9/18)\u001b[K\rremote: Counting objects:  55% (10/18)\u001b[K\rremote: Counting objects:  61% (11/18)\u001b[K\rremote: Counting objects:  66% (12/18)\u001b[K\rremote: Counting objects:  72% (13/18)\u001b[K\rremote: Counting objects:  77% (14/18)\u001b[K\rremote: Counting objects:  83% (15/18)\u001b[K\rremote: Counting objects:  88% (16/18)\u001b[K\rremote: Counting objects:  94% (17/18)\u001b[K\rremote: Counting objects: 100% (18/18)\u001b[K\rremote: Counting objects: 100% (18/18), done.\u001b[K\n",
            "remote: Compressing objects: 100% (17/17), done.\u001b[K\n",
            "remote: Total 237 (delta 3), reused 0 (delta 0), pack-reused 219\u001b[K\n",
            "Receiving objects: 100% (237/237), 608.26 KiB | 7.80 MiB/s, done.\n",
            "Resolving deltas: 100% (69/69), done.\n"
          ]
        }
      ]
    },
    {
      "cell_type": "code",
      "source": [
        "#Convert all files to csv\n",
        "df_check.to_csv('check.csv')\n",
        "df_demographic.to_csv('demographic.csv')\n",
        "df_taskRGN.to_csv('taskRGN.csv')"
      ],
      "metadata": {
        "id": "GHGoq3mGSf5Q"
      },
      "execution_count": null,
      "outputs": []
    },
    {
      "cell_type": "code",
      "source": [
        "#Move files to Clone repository\n",
        "!mv check.csv {repo}/{outputDir}\n",
        "!mv demographic.csv {repo}/{outputDir}\n",
        "!mv taskRGN.csv {repo}/{outputDir}"
      ],
      "metadata": {
        "id": "8QzFtkfER0-3"
      },
      "execution_count": null,
      "outputs": []
    },
    {
      "cell_type": "code",
      "source": [
        "#Move to principle dir, commit, and push changes\n",
        "%cd {repo}\n",
        "!git add --all\n",
        "!git commit -a -m \"Added restructured output for RGN task to your GitHub repository\"\n",
        "!git push origin"
      ],
      "metadata": {
        "id": "GhSx52_aMfPs",
        "outputId": "f7daa4d4-4621-4262-99be-d0d7979c9dee",
        "colab": {
          "base_uri": "https://localhost:8080/"
        }
      },
      "execution_count": null,
      "outputs": [
        {
          "output_type": "stream",
          "name": "stdout",
          "text": [
            "/content/ExCaLBBR_Projects\n"
          ]
        }
      ]
    }
  ]
}
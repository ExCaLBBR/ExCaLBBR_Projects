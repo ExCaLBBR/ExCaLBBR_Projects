{
  "nbformat": 4,
  "nbformat_minor": 0,
  "metadata": {
    "colab": {
      "provenance": [],
      "toc_visible": true,
      "include_colab_link": true
    },
    "kernelspec": {
      "name": "python3",
      "display_name": "Python 3"
    },
    "language_info": {
      "name": "python"
    }
  },
  "cells": [
    {
      "cell_type": "markdown",
      "metadata": {
        "id": "view-in-github",
        "colab_type": "text"
      },
      "source": [
        "<a href=\"https://colab.research.google.com/github/ExCaLBBR/ExCaLBBR_Projects/blob/main/SocioenvironmentalGeometry/code/Gorilla2BIDS.ipynb\" target=\"_parent\"><img src=\"https://colab.research.google.com/assets/colab-badge.svg\" alt=\"Open In Colab\"/></a>"
      ]
    },
    {
      "cell_type": "markdown",
      "source": [
        "Gorilla Info: <br>\n",
        "Project: SocioenvironmentalConceptGeometry <br>\n",
        "Version: 9 <br>\n",
        "Account: Roberto Vargas (robertov@andrew.cmu.edu) "
      ],
      "metadata": {
        "id": "C9mud3ByqVgH"
      }
    },
    {
      "cell_type": "code",
      "source": [
        "#Load relevant libraries and install dependencies\n",
        "import pandas as pd"
      ],
      "metadata": {
        "id": "08gBma2_ivoE"
      },
      "execution_count": 1,
      "outputs": []
    },
    {
      "cell_type": "code",
      "source": [
        "#Load Data:\n",
        "\n",
        "#QUESTIONAIRRES:\n",
        "#Demographics\n",
        "url = 'https://raw.githubusercontent.com/ExCaLBBR/ExCaLBBR_Projects/main/SocioenvironmentalGeometry/data/raw/raw_demographic.csv'\n",
        "df_demographic = pd.read_csv(url)\n",
        "\n",
        "#Ethnic Identity\n",
        "url ='https://raw.githubusercontent.com/ExCaLBBR/ExCaLBBR_Projects/main/SocioenvironmentalGeometry/data/raw/raw_questionnaire_EthnicIdentity.csv'\n",
        "df_EthId = pd.read_csv(url)\n",
        "\n",
        "#Multidimensional Inventory of Black Identity\n",
        "url = 'https://raw.githubusercontent.com/ExCaLBBR/ExCaLBBR_Projects/main/SocioenvironmentalGeometry/data/raw/raw_questionnaire_MIBI.csv'\n",
        "df_MIBI = pd.read_csv(url)\n",
        "\n",
        "#News Consumption\n",
        "url = 'https://raw.githubusercontent.com/ExCaLBBR/ExCaLBBR_Projects/main/SocioenvironmentalGeometry/data/raw/raw_questionnaire_NewsConsumption.csv'\n",
        "df_News = pd.read_csv(url)\n",
        "\n",
        "#Gender/Racial Discrimination\n",
        "url = 'https://raw.githubusercontent.com/ExCaLBBR/ExCaLBBR_Projects/main/SocioenvironmentalGeometry/data/raw/raw_questionnaire_GR-Discrim.csv'\n",
        "df_GRDiscrim = pd.read_csv(url)\n",
        "\n",
        "#Concept Exposure\n",
        "url = 'https://raw.githubusercontent.com/ExCaLBBR/ExCaLBBR_Projects/main/SocioenvironmentalGeometry/data/raw/raw_questionnaire_ConceptExposure.csv'\n",
        "df_ConExposure = pd.read_csv(url)\n",
        "\n",
        "#Concept Feeling\n",
        "url = 'https://raw.githubusercontent.com/ExCaLBBR/ExCaLBBR_Projects/main/SocioenvironmentalGeometry/data/raw/raw_questionnaire_ConceptFeeling.csv'\n",
        "df_ConFeeling = pd.read_csv(url)\n",
        "\n",
        "#Concept Interaction\n",
        "url = 'https://raw.githubusercontent.com/ExCaLBBR/ExCaLBBR_Projects/main/SocioenvironmentalGeometry/data/raw/raw_questionnaire_ConceptInteraction.csv'\n",
        "df_ConInteraction = pd.read_csv(url)\n",
        "\n",
        "#Social Dominance Orientation\n",
        "url = 'https://github.com/ExCaLBBR/ExCaLBBR_Projects/blob/main/SocioenvironmentalGeometry/data/raw/raw_questionnaire_SDO.csv'\n",
        "df_SDO = pd.read_csv(url)\n",
        "\n",
        "\n",
        "#TASKS:\n",
        "#PRaM\n",
        "url = 'https://github.com/ExCaLBBR/ExCaLBBR_Projects/raw/main/SocioenvironmentalGeometry/data/raw/raw_task_PRaM.csv.gz'\n",
        "df_taskPRaM = pd.read_csv(url, compression='gzip')\n",
        "\n",
        "#SpAM\n",
        "url_check = 'https://raw.githubusercontent.com/ExCaLBBR/ExCaLBBR_Projects/main/SocioenvironmentalGeometry/data/raw/raw_task_SpAM.csv'\n",
        "df_taskSpAM = pd.read_csv(url)"
      ],
      "metadata": {
        "id": "NA7mXjvZZldd"
      },
      "execution_count": 6,
      "outputs": []
    },
    {
      "cell_type": "code",
      "execution_count": null,
      "metadata": {
        "id": "olj3KF08iCYB"
      },
      "outputs": [],
      "source": [
        "# Store in a Pandas Dataframe\n",
        "\n",
        "#Define paths to session files\n",
        "url = 'https://raw.githubusercontent.com/ExCaLBBR/ExCaLBBR_Projects/main/RaciallyBiasedDecisions/Racialized-Gendered_Names/data/raw/data_checkQ.csv'\n",
        "df_check = pd.read_csv(url)\n",
        "\n",
        "#Define paths to session files\n",
        "url = 'https://raw.githubusercontent.com/ExCaLBBR/ExCaLBBR_Projects/main/RaciallyBiasedDecisions/Racialized-Gendered_Names/data/raw/data_demographic.csv'\n",
        "df_demographic = pd.read_csv(url)\n",
        "\n",
        "#Define paths to session files\n",
        "url = 'https://raw.githubusercontent.com/ExCaLBBR/ExCaLBBR_Projects/main/RaciallyBiasedDecisions/Racialized-Gendered_Names/data/raw/data_task_RGN.csv'\n",
        "df_taskRGN = pd.read_csv(url)"
      ]
    },
    {
      "cell_type": "code",
      "source": [
        "#Isolate relevant columns: Check\n",
        "include = ['Participant Completion Code', 'Question Key', 'Screen Name', 'Response']\n",
        "df_check = df_check[~df_check['Event Index'].str.contains('END OF FILE', na=True)]\n",
        "df_check.drop(columns=df_check.columns.difference(include), inplace=True)\n",
        "mask = df_check['Question Key'].str.contains('BEGIN QUESTIONNAIRE', na=True) | df_check['Question Key'].str.contains('END QUESTIONNAIRE', na=True)\n",
        "df_check = df_check[~mask]\n",
        "#display(df_check)\n",
        "\n",
        "#Isolate relevant columns: Demographics\n",
        "include = ['Participant Completion Code', 'Question Key', 'Response']\n",
        "df_demographic = df_demographic[~df_demographic['Event Index'].str.contains('END OF FILE', na=True)]\n",
        "df_demographic.drop(columns=df_demographic.columns.difference(include), inplace=True)\n",
        "mask = df_demographic['Question Key'].str.contains('BEGIN QUESTIONNAIRE', na=True) | df_demographic['Question Key'].str.contains('END QUESTIONNAIRE', na=True) | df_demographic['Question Key'].str.contains('quantised', na=True) | df_demographic['Question Key'].str.contains('response-2', na=True)\n",
        "df_demographic = df_demographic[~mask]\n",
        "#display(df_demographic)\n",
        "\n",
        "#Isolate relevant columns: Task_RGN\n",
        "include = ['Participant Completion Code', 'Reaction Time', 'Screen Name', 'Response', '# name', 'Trial Number']\n",
        "df_taskRGN = df_taskRGN[~df_taskRGN['Event Index'].str.contains('END OF FILE', na=True)]\n",
        "df_taskRGN.drop(columns=df_taskRGN.columns.difference(include), inplace=True)\n",
        "mask = df_taskRGN['Trial Number'].str.contains('BEGIN TASK', na=True) | df_taskRGN['Trial Number'].str.contains('END TASK', na=True) | df_taskRGN['Screen Name'].str.contains('Start', na=True)\n",
        "df_taskRGN = df_taskRGN[~mask]\n",
        "#display(df_taskRGN)"
      ],
      "metadata": {
        "id": "kLaAn9rGCyxh",
        "colab": {
          "base_uri": "https://localhost:8080/"
        },
        "outputId": "be546c21-5cad-4795-ff0f-a5335f3aa97f"
      },
      "execution_count": null,
      "outputs": [
        {
          "output_type": "stream",
          "name": "stderr",
          "text": [
            "/usr/local/lib/python3.8/dist-packages/pandas/core/frame.py:4906: SettingWithCopyWarning: \n",
            "A value is trying to be set on a copy of a slice from a DataFrame\n",
            "\n",
            "See the caveats in the documentation: https://pandas.pydata.org/pandas-docs/stable/user_guide/indexing.html#returning-a-view-versus-a-copy\n",
            "  return super().drop(\n"
          ]
        }
      ]
    },
    {
      "cell_type": "code",
      "source": [
        "#Isolate Pivot dataframes: Check\n",
        "df_check = df_check.pivot(index = 'Participant Completion Code', columns = ['Question Key'], values = ['Response'])\n",
        "#display(df_check)\n",
        "\n",
        "#Isolate Pivot dataframes: Demographics\n",
        "df_demographic = df_demographic.pivot(index = 'Participant Completion Code', columns = ['Question Key'], values = ['Response'])\n",
        "#display(df_demographic)\n",
        "\n",
        "#Isolate Pivot dataframes: Task_RGN\n",
        "df_taskRGN = df_taskRGN.pivot(index = '# name', columns = ['Screen Name', 'Participant Completion Code'], values = ['Response', 'Reaction Time'])\n",
        "#display(df_taskRGN)"
      ],
      "metadata": {
        "id": "8dzVwNOoDY5V"
      },
      "execution_count": null,
      "outputs": []
    },
    {
      "cell_type": "code",
      "source": [
        "#Push to Lab GitHub !!!\n",
        "#NOTE: These credentials should be configured to user's lab GitHub\n",
        "#If user is part of ExCaLBBR Lab then ask Roberto for access\n",
        "!git config --global user.name \"\" #\"YOUR CREDIENTIALS HERE\" \n",
        "!git config --global user.email \"\" #\"YOUR CREDIENTIALS HERE\"\n",
        "!git config --global user.password \"\" #\"YOUR CREDIENTIALS HERE\"\n",
        "\n",
        "token = ''\n",
        "username_organization = ''\n",
        "repo = ''\n",
        "outputDir = ''"
      ],
      "metadata": {
        "id": "P1hSBfkRJkYa"
      },
      "execution_count": null,
      "outputs": []
    },
    {
      "cell_type": "code",
      "source": [
        "#Clone repository and move created files into output directory\n",
        "!git clone https://{token}@github.com/{username_organization}/{repo}"
      ],
      "metadata": {
        "id": "RToVhxKCJntE",
        "outputId": "d9afd5f1-11a1-49b1-e5e4-603246291314",
        "colab": {
          "base_uri": "https://localhost:8080/"
        }
      },
      "execution_count": null,
      "outputs": [
        {
          "output_type": "stream",
          "name": "stdout",
          "text": [
            "Cloning into 'ExCaLBBR_Projects'...\n",
            "remote: Enumerating objects: 237, done.\u001b[K\n",
            "remote: Counting objects:   5% (1/18)\u001b[K\rremote: Counting objects:  11% (2/18)\u001b[K\rremote: Counting objects:  16% (3/18)\u001b[K\rremote: Counting objects:  22% (4/18)\u001b[K\rremote: Counting objects:  27% (5/18)\u001b[K\rremote: Counting objects:  33% (6/18)\u001b[K\rremote: Counting objects:  38% (7/18)\u001b[K\rremote: Counting objects:  44% (8/18)\u001b[K\rremote: Counting objects:  50% (9/18)\u001b[K\rremote: Counting objects:  55% (10/18)\u001b[K\rremote: Counting objects:  61% (11/18)\u001b[K\rremote: Counting objects:  66% (12/18)\u001b[K\rremote: Counting objects:  72% (13/18)\u001b[K\rremote: Counting objects:  77% (14/18)\u001b[K\rremote: Counting objects:  83% (15/18)\u001b[K\rremote: Counting objects:  88% (16/18)\u001b[K\rremote: Counting objects:  94% (17/18)\u001b[K\rremote: Counting objects: 100% (18/18)\u001b[K\rremote: Counting objects: 100% (18/18), done.\u001b[K\n",
            "remote: Compressing objects: 100% (17/17), done.\u001b[K\n",
            "remote: Total 237 (delta 3), reused 0 (delta 0), pack-reused 219\u001b[K\n",
            "Receiving objects: 100% (237/237), 608.26 KiB | 7.80 MiB/s, done.\n",
            "Resolving deltas: 100% (69/69), done.\n"
          ]
        }
      ]
    },
    {
      "cell_type": "code",
      "source": [
        "#Convert all files to csv\n",
        "df_check.to_csv('check.csv')\n",
        "df_demographic.to_csv('demographic.csv')\n",
        "df_taskRGN.to_csv('taskRGN.csv')"
      ],
      "metadata": {
        "id": "GHGoq3mGSf5Q"
      },
      "execution_count": null,
      "outputs": []
    },
    {
      "cell_type": "code",
      "source": [
        "#Move files to Clone repository\n",
        "!mv check.csv {repo}/{outputDir}\n",
        "!mv demographic.csv {repo}/{outputDir}\n",
        "!mv taskRGN.csv {repo}/{outputDir}"
      ],
      "metadata": {
        "id": "8QzFtkfER0-3"
      },
      "execution_count": null,
      "outputs": []
    },
    {
      "cell_type": "code",
      "source": [
        "#Move to principle dir, commit, and push changes\n",
        "%cd {repo}\n",
        "!git add --all\n",
        "!git commit -a -m \"Added restructured output for RGN task to your GitHub repository\"\n",
        "!git push origin"
      ],
      "metadata": {
        "id": "GhSx52_aMfPs",
        "outputId": "f7daa4d4-4621-4262-99be-d0d7979c9dee",
        "colab": {
          "base_uri": "https://localhost:8080/"
        }
      },
      "execution_count": null,
      "outputs": [
        {
          "output_type": "stream",
          "name": "stdout",
          "text": [
            "/content/ExCaLBBR_Projects\n"
          ]
        }
      ]
    }
  ]
}
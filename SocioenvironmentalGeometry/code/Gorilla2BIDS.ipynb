{
  "nbformat": 4,
  "nbformat_minor": 0,
  "metadata": {
    "colab": {
      "provenance": [],
      "include_colab_link": true
    },
    "kernelspec": {
      "name": "python3",
      "display_name": "Python 3"
    },
    "language_info": {
      "name": "python"
    }
  },
  "cells": [
    {
      "cell_type": "markdown",
      "metadata": {
        "id": "view-in-github",
        "colab_type": "text"
      },
      "source": [
        "<a href=\"https://colab.research.google.com/github/ExCaLBBR/ExCaLBBR_Projects/blob/main/SocioenvironmentalGeometry/code/Gorilla2BIDS.ipynb\" target=\"_parent\"><img src=\"https://colab.research.google.com/assets/colab-badge.svg\" alt=\"Open In Colab\"/></a>"
      ]
    },
    {
      "cell_type": "markdown",
      "source": [
        "Gorilla Info: <br>\n",
        "Project: SocioenvironmentalConceptGeometry <br>\n",
        "Version: 9 <br>\n",
        "Account: Roberto Vargas (robertov@andrew.cmu.edu) "
      ],
      "metadata": {
        "id": "C9mud3ByqVgH"
      }
    },
    {
      "cell_type": "code",
      "source": [
        "#Load relevant libraries and install dependencies\n",
        "import pandas as pd"
      ],
      "metadata": {
        "id": "08gBma2_ivoE"
      },
      "execution_count": 1,
      "outputs": []
    },
    {
      "cell_type": "code",
      "source": [
        "#Load Data:\n",
        "\n",
        "#QUESTIONAIRRES:\n",
        "#Demographics\n",
        "url = 'https://raw.githubusercontent.com/ExCaLBBR/ExCaLBBR_Projects/main/SocioenvironmentalGeometry/data/raw/raw_demographic.csv'\n",
        "df_demographic = pd.read_csv(url)\n",
        "\n",
        "#Ethnic Identity\n",
        "url ='https://raw.githubusercontent.com/ExCaLBBR/ExCaLBBR_Projects/main/SocioenvironmentalGeometry/data/raw/raw_questionnaire_EthnicIdentity.csv'\n",
        "df_EthId = pd.read_csv(url)\n",
        "\n",
        "#Multidimensional Inventory of Black Identity\n",
        "url = 'https://raw.githubusercontent.com/ExCaLBBR/ExCaLBBR_Projects/main/SocioenvironmentalGeometry/data/raw/raw_questionnaire_MIBI.csv'\n",
        "df_MIBI = pd.read_csv(url)\n",
        "\n",
        "#News Consumption\n",
        "url = 'https://raw.githubusercontent.com/ExCaLBBR/ExCaLBBR_Projects/main/SocioenvironmentalGeometry/data/raw/raw_questionnaire_NewsConsumption.csv'\n",
        "df_News = pd.read_csv(url)\n",
        "\n",
        "#Gender/Racial Discrimination\n",
        "url = 'https://raw.githubusercontent.com/ExCaLBBR/ExCaLBBR_Projects/main/SocioenvironmentalGeometry/data/raw/raw_questionnaire_GR-Discrim.csv'\n",
        "df_GRDiscrim = pd.read_csv(url)\n",
        "\n",
        "#Concept Exposure\n",
        "url = 'https://raw.githubusercontent.com/ExCaLBBR/ExCaLBBR_Projects/main/SocioenvironmentalGeometry/data/raw/raw_questionnaire_ConceptExposure.csv'\n",
        "df_ConExposure = pd.read_csv(url)\n",
        "\n",
        "#Concept Feeling\n",
        "url = 'https://raw.githubusercontent.com/ExCaLBBR/ExCaLBBR_Projects/main/SocioenvironmentalGeometry/data/raw/raw_questionnaire_ConceptFeeling.csv'\n",
        "df_ConFeeling = pd.read_csv(url)\n",
        "\n",
        "#Concept Interaction\n",
        "url = 'https://raw.githubusercontent.com/ExCaLBBR/ExCaLBBR_Projects/main/SocioenvironmentalGeometry/data/raw/raw_questionnaire_ConceptInteraction.csv'\n",
        "df_ConInteraction = pd.read_csv(url)\n",
        "\n",
        "#Social Dominance Orientation\n",
        "url = 'https://raw.githubusercontent.com/ExCaLBBR/ExCaLBBR_Projects/main/SocioenvironmentalGeometry/data/raw/raw_questionnaire_SDO.csv'\n",
        "df_SDO = pd.read_csv(url)\n",
        "\n",
        "\n",
        "#TASKS:\n",
        "#PRaM\n",
        "url = 'https://github.com/ExCaLBBR/ExCaLBBR_Projects/raw/main/SocioenvironmentalGeometry/data/raw/raw_task_PRaM.csv.gz'\n",
        "df_taskPRaM = pd.read_csv(url, compression='gzip')\n",
        "\n",
        "#SpAM\n",
        "url_check = 'https://raw.githubusercontent.com/ExCaLBBR/ExCaLBBR_Projects/main/SocioenvironmentalGeometry/data/raw/raw_task_SpAM.csv'\n",
        "df_taskSpAM = pd.read_csv(url)"
      ],
      "metadata": {
        "colab": {
          "base_uri": "https://localhost:8080/"
        },
        "id": "NA7mXjvZZldd",
        "outputId": "93a88c04-ae06-44de-e340-a05bb19cc2bc"
      },
      "execution_count": 8,
      "outputs": [
        {
          "output_type": "stream",
          "name": "stderr",
          "text": [
            "/usr/local/lib/python3.8/dist-packages/IPython/core/interactiveshell.py:3326: DtypeWarning: Columns (0,35,38) have mixed types.Specify dtype option on import or set low_memory=False.\n",
            "  exec(code_obj, self.user_global_ns, self.user_ns)\n"
          ]
        }
      ]
    },
    {
      "cell_type": "code",
      "source": [
        "#SpAM\n",
        "url_check = 'https://raw.githubusercontent.com/ExCaLBBR/ExCaLBBR_Projects/main/SocioenvironmentalGeometry/data/raw/raw_task_SpAM.csv'\n",
        "df_taskSpAM = pd.read_csv(url)"
      ],
      "metadata": {
        "id": "YrYf0XkFkCKy",
        "outputId": "920c86ba-bf8b-4b89-a3c8-2be1a645276d",
        "colab": {
          "base_uri": "https://localhost:8080/"
        }
      },
      "execution_count": 46,
      "outputs": [
        {
          "output_type": "stream",
          "name": "stderr",
          "text": [
            "/usr/local/lib/python3.8/dist-packages/IPython/core/interactiveshell.py:3326: DtypeWarning: Columns (0,35,38) have mixed types.Specify dtype option on import or set low_memory=False.\n",
            "  exec(code_obj, self.user_global_ns, self.user_ns)\n"
          ]
        }
      ]
    },
    {
      "cell_type": "code",
      "source": [
        "#Isolate relevant columns: SpAM\n",
        "include = ['Participant Completion Code', 'Zone Name', 'conceptA', 'conceptB', 'Response']\n",
        "df_taskPRaM = df_taskPRaM[~df_taskPRaM['Event Index'].str.contains('END OF FILE', na=True)]\n",
        "df_taskPRaM.drop(columns=df_taskPRaM.columns.difference(include), inplace=True)\n",
        "mask = df_taskPRaM['Zone Name'].str.contains('Likert', na=True)\n",
        "df_taskPRaM = df_taskPRaM[mask]\n",
        "df_taskPRaM.drop(columns=['Zone Name'], inplace=True)\n",
        "#display(df_taskPRaM)"
      ],
      "metadata": {
        "id": "kLaAn9rGCyxh",
        "colab": {
          "base_uri": "https://localhost:8080/",
          "height": 510
        },
        "outputId": "cf7b4c53-10c7-476f-d561-7f175280a1a1"
      },
      "execution_count": 47,
      "outputs": [
        {
          "output_type": "stream",
          "name": "stderr",
          "text": [
            "/usr/local/lib/python3.8/dist-packages/pandas/core/frame.py:4906: SettingWithCopyWarning: \n",
            "A value is trying to be set on a copy of a slice from a DataFrame\n",
            "\n",
            "See the caveats in the documentation: https://pandas.pydata.org/pandas-docs/stable/user_guide/indexing.html#returning-a-view-versus-a-copy\n",
            "  return super().drop(\n"
          ]
        },
        {
          "output_type": "display_data",
          "data": {
            "text/plain": [
              "       Participant Completion Code Response             conceptA conceptB\n",
              "131073                      rbzwbb      1.0  liberals(political)    anger\n",
              "131075                      rbzwbb     -6.0                 fear     love\n",
              "131077                      rbzwbb     -2.0               police      joy\n",
              "131079                      rbzwbb      2.0     neighbors(yours)    trust\n",
              "131081                      rbzwbb      1.0             religion     love\n",
              "...                            ...      ...                  ...      ...\n",
              "133293                      ntirsa      3.0                 fear  sadness\n",
              "133295                      ntirsa     -2.0                 fear      joy\n",
              "133297                      ntirsa      2.0  liberals(political)    trust\n",
              "133299                      ntirsa      4.0           healthcare   voting\n",
              "133302                      ntirsa      NaN                  NaN      NaN\n",
              "\n",
              "[1111 rows x 4 columns]"
            ],
            "text/html": [
              "\n",
              "  <div id=\"df-e7ffbcaf-d7e4-4d98-9558-b62133f7fdeb\">\n",
              "    <div class=\"colab-df-container\">\n",
              "      <div>\n",
              "<style scoped>\n",
              "    .dataframe tbody tr th:only-of-type {\n",
              "        vertical-align: middle;\n",
              "    }\n",
              "\n",
              "    .dataframe tbody tr th {\n",
              "        vertical-align: top;\n",
              "    }\n",
              "\n",
              "    .dataframe thead th {\n",
              "        text-align: right;\n",
              "    }\n",
              "</style>\n",
              "<table border=\"1\" class=\"dataframe\">\n",
              "  <thead>\n",
              "    <tr style=\"text-align: right;\">\n",
              "      <th></th>\n",
              "      <th>Participant Completion Code</th>\n",
              "      <th>Response</th>\n",
              "      <th>conceptA</th>\n",
              "      <th>conceptB</th>\n",
              "    </tr>\n",
              "  </thead>\n",
              "  <tbody>\n",
              "    <tr>\n",
              "      <th>131073</th>\n",
              "      <td>rbzwbb</td>\n",
              "      <td>1.0</td>\n",
              "      <td>liberals(political)</td>\n",
              "      <td>anger</td>\n",
              "    </tr>\n",
              "    <tr>\n",
              "      <th>131075</th>\n",
              "      <td>rbzwbb</td>\n",
              "      <td>-6.0</td>\n",
              "      <td>fear</td>\n",
              "      <td>love</td>\n",
              "    </tr>\n",
              "    <tr>\n",
              "      <th>131077</th>\n",
              "      <td>rbzwbb</td>\n",
              "      <td>-2.0</td>\n",
              "      <td>police</td>\n",
              "      <td>joy</td>\n",
              "    </tr>\n",
              "    <tr>\n",
              "      <th>131079</th>\n",
              "      <td>rbzwbb</td>\n",
              "      <td>2.0</td>\n",
              "      <td>neighbors(yours)</td>\n",
              "      <td>trust</td>\n",
              "    </tr>\n",
              "    <tr>\n",
              "      <th>131081</th>\n",
              "      <td>rbzwbb</td>\n",
              "      <td>1.0</td>\n",
              "      <td>religion</td>\n",
              "      <td>love</td>\n",
              "    </tr>\n",
              "    <tr>\n",
              "      <th>...</th>\n",
              "      <td>...</td>\n",
              "      <td>...</td>\n",
              "      <td>...</td>\n",
              "      <td>...</td>\n",
              "    </tr>\n",
              "    <tr>\n",
              "      <th>133293</th>\n",
              "      <td>ntirsa</td>\n",
              "      <td>3.0</td>\n",
              "      <td>fear</td>\n",
              "      <td>sadness</td>\n",
              "    </tr>\n",
              "    <tr>\n",
              "      <th>133295</th>\n",
              "      <td>ntirsa</td>\n",
              "      <td>-2.0</td>\n",
              "      <td>fear</td>\n",
              "      <td>joy</td>\n",
              "    </tr>\n",
              "    <tr>\n",
              "      <th>133297</th>\n",
              "      <td>ntirsa</td>\n",
              "      <td>2.0</td>\n",
              "      <td>liberals(political)</td>\n",
              "      <td>trust</td>\n",
              "    </tr>\n",
              "    <tr>\n",
              "      <th>133299</th>\n",
              "      <td>ntirsa</td>\n",
              "      <td>4.0</td>\n",
              "      <td>healthcare</td>\n",
              "      <td>voting</td>\n",
              "    </tr>\n",
              "    <tr>\n",
              "      <th>133302</th>\n",
              "      <td>ntirsa</td>\n",
              "      <td>NaN</td>\n",
              "      <td>NaN</td>\n",
              "      <td>NaN</td>\n",
              "    </tr>\n",
              "  </tbody>\n",
              "</table>\n",
              "<p>1111 rows × 4 columns</p>\n",
              "</div>\n",
              "      <button class=\"colab-df-convert\" onclick=\"convertToInteractive('df-e7ffbcaf-d7e4-4d98-9558-b62133f7fdeb')\"\n",
              "              title=\"Convert this dataframe to an interactive table.\"\n",
              "              style=\"display:none;\">\n",
              "        \n",
              "  <svg xmlns=\"http://www.w3.org/2000/svg\" height=\"24px\"viewBox=\"0 0 24 24\"\n",
              "       width=\"24px\">\n",
              "    <path d=\"M0 0h24v24H0V0z\" fill=\"none\"/>\n",
              "    <path d=\"M18.56 5.44l.94 2.06.94-2.06 2.06-.94-2.06-.94-.94-2.06-.94 2.06-2.06.94zm-11 1L8.5 8.5l.94-2.06 2.06-.94-2.06-.94L8.5 2.5l-.94 2.06-2.06.94zm10 10l.94 2.06.94-2.06 2.06-.94-2.06-.94-.94-2.06-.94 2.06-2.06.94z\"/><path d=\"M17.41 7.96l-1.37-1.37c-.4-.4-.92-.59-1.43-.59-.52 0-1.04.2-1.43.59L10.3 9.45l-7.72 7.72c-.78.78-.78 2.05 0 2.83L4 21.41c.39.39.9.59 1.41.59.51 0 1.02-.2 1.41-.59l7.78-7.78 2.81-2.81c.8-.78.8-2.07 0-2.86zM5.41 20L4 18.59l7.72-7.72 1.47 1.35L5.41 20z\"/>\n",
              "  </svg>\n",
              "      </button>\n",
              "      \n",
              "  <style>\n",
              "    .colab-df-container {\n",
              "      display:flex;\n",
              "      flex-wrap:wrap;\n",
              "      gap: 12px;\n",
              "    }\n",
              "\n",
              "    .colab-df-convert {\n",
              "      background-color: #E8F0FE;\n",
              "      border: none;\n",
              "      border-radius: 50%;\n",
              "      cursor: pointer;\n",
              "      display: none;\n",
              "      fill: #1967D2;\n",
              "      height: 32px;\n",
              "      padding: 0 0 0 0;\n",
              "      width: 32px;\n",
              "    }\n",
              "\n",
              "    .colab-df-convert:hover {\n",
              "      background-color: #E2EBFA;\n",
              "      box-shadow: 0px 1px 2px rgba(60, 64, 67, 0.3), 0px 1px 3px 1px rgba(60, 64, 67, 0.15);\n",
              "      fill: #174EA6;\n",
              "    }\n",
              "\n",
              "    [theme=dark] .colab-df-convert {\n",
              "      background-color: #3B4455;\n",
              "      fill: #D2E3FC;\n",
              "    }\n",
              "\n",
              "    [theme=dark] .colab-df-convert:hover {\n",
              "      background-color: #434B5C;\n",
              "      box-shadow: 0px 1px 3px 1px rgba(0, 0, 0, 0.15);\n",
              "      filter: drop-shadow(0px 1px 2px rgba(0, 0, 0, 0.3));\n",
              "      fill: #FFFFFF;\n",
              "    }\n",
              "  </style>\n",
              "\n",
              "      <script>\n",
              "        const buttonEl =\n",
              "          document.querySelector('#df-e7ffbcaf-d7e4-4d98-9558-b62133f7fdeb button.colab-df-convert');\n",
              "        buttonEl.style.display =\n",
              "          google.colab.kernel.accessAllowed ? 'block' : 'none';\n",
              "\n",
              "        async function convertToInteractive(key) {\n",
              "          const element = document.querySelector('#df-e7ffbcaf-d7e4-4d98-9558-b62133f7fdeb');\n",
              "          const dataTable =\n",
              "            await google.colab.kernel.invokeFunction('convertToInteractive',\n",
              "                                                     [key], {});\n",
              "          if (!dataTable) return;\n",
              "\n",
              "          const docLinkHtml = 'Like what you see? Visit the ' +\n",
              "            '<a target=\"_blank\" href=https://colab.research.google.com/notebooks/data_table.ipynb>data table notebook</a>'\n",
              "            + ' to learn more about interactive tables.';\n",
              "          element.innerHTML = '';\n",
              "          dataTable['output_type'] = 'display_data';\n",
              "          await google.colab.output.renderOutput(dataTable, element);\n",
              "          const docLink = document.createElement('div');\n",
              "          docLink.innerHTML = docLinkHtml;\n",
              "          element.appendChild(docLink);\n",
              "        }\n",
              "      </script>\n",
              "    </div>\n",
              "  </div>\n",
              "  "
            ]
          },
          "metadata": {}
        }
      ]
    },
    {
      "cell_type": "code",
      "source": [
        "#Isolate relevant columns: Demographics\n",
        "include = ['Participant Completion Code', 'Question Key', 'Response']\n",
        "df_demographic = df_demographic[~df_demographic['Event Index'].str.contains('END OF FILE', na=True)]\n",
        "df_demographic.drop(columns=df_demographic.columns.difference(include), inplace=True)\n",
        "mask = df_demographic['Question Key'].str.contains('BEGIN QUESTIONNAIRE', na=True) | df_demographic['Question Key'].str.contains('END QUESTIONNAIRE', na=True) | df_demographic['Question Key'].str.contains('quantised', na=True) | df_demographic['Question Key'].str.contains('response-2', na=True)\n",
        "df_demographic = df_demographic[~mask]\n",
        "#display(df_demographic)\n",
        "\n",
        "#Isolate relevant columns: Ethnic Identity\n",
        "include = ['Participant Completion Code', 'Question Key', 'Response']\n",
        "df_EthId = df_EthId[~df_EthId['Event Index'].str.contains('END OF FILE', na=True)]\n",
        "df_EthId.drop(columns=df_EthId.columns.difference(include), inplace=True)\n",
        "mask = df_EthId['Question Key'].str.contains('BEGIN QUESTIONNAIRE', na=True) | df_EthId['Question Key'].str.contains('END QUESTIONNAIRE', na=True)\n",
        "df_EthId = df_EthId[~mask]\n",
        "#display(df_EthId)\n",
        "\n",
        "#Isolate relevant columns: Multidimensional Inventory of Black Identity\n",
        "include = ['Participant Completion Code', 'Question Key', 'Response']\n",
        "df_MIBI = df_MIBI[~df_MIBI['Event Index'].str.contains('END OF FILE', na=True)]\n",
        "df_MIBI.drop(columns=df_MIBI.columns.difference(include), inplace=True)\n",
        "mask = df_MIBI['Question Key'].str.contains('BEGIN QUESTIONNAIRE', na=True) | df_MIBI['Question Key'].str.contains('END QUESTIONNAIRE', na=True)\n",
        "df_MIBI = df_MIBI[~mask]\n",
        "#display(df_MIBI)\n",
        "\n",
        "#Isolate relevant columns: News Consumption\n",
        "include = ['Participant Completion Code', 'Question Key', 'Response']\n",
        "df_News = df_News[~df_News['Event Index'].str.contains('END OF FILE', na=True)]\n",
        "df_News.drop(columns=df_News.columns.difference(include), inplace=True)\n",
        "mask = df_News['Question Key'].str.contains('BEGIN QUESTIONNAIRE', na=True) | df_News['Question Key'].str.contains('END QUESTIONNAIRE', na=True)\n",
        "df_News = df_News[~mask]\n",
        "#display(df_News)\n",
        "\n",
        "#Isolate relevant columns: Gender/Racial Discrimination\n",
        "include = ['Participant Completion Code', 'Question Key', 'Response']\n",
        "df_GRDiscrim = df_GRDiscrim[~df_GRDiscrim['Event Index'].str.contains('END OF FILE', na=True)]\n",
        "df_GRDiscrim.drop(columns=df_GRDiscrim.columns.difference(include), inplace=True)\n",
        "mask = df_GRDiscrim['Question Key'].str.contains('BEGIN QUESTIONNAIRE', na=True) | df_GRDiscrim['Question Key'].str.contains('END QUESTIONNAIRE', na=True)\n",
        "df_GRDiscrim = df_GRDiscrim[~mask]\n",
        "#display(df_GRDiscrim)\n",
        "\n",
        "#Isolate relevant columns: Concept Exposure\n",
        "include = ['Participant Completion Code', 'Question Key', 'Response']\n",
        "df_ConExposure = df_ConExposure[~df_ConExposure['Event Index'].str.contains('END OF FILE', na=True)]\n",
        "df_ConExposure.drop(columns=df_ConExposure.columns.difference(include), inplace=True)\n",
        "mask = df_ConExposure['Question Key'].str.contains('BEGIN QUESTIONNAIRE', na=True) | df_ConExposure['Question Key'].str.contains('END QUESTIONNAIRE', na=True)\n",
        "df_ConExposure = df_ConExposure[~mask]\n",
        "#display(df_ConExposure)\n",
        "\n",
        "#Isolate relevant columns: Concept Feeling\n",
        "include = ['Participant Completion Code', 'Question Key', 'Response']\n",
        "df_ConFeeling = df_ConFeeling[~df_ConFeeling['Event Index'].str.contains('END OF FILE', na=True)]\n",
        "df_ConFeeling.drop(columns=df_ConFeeling.columns.difference(include), inplace=True)\n",
        "mask = df_ConFeeling['Question Key'].str.contains('BEGIN QUESTIONNAIRE', na=True) | df_ConFeeling['Question Key'].str.contains('END QUESTIONNAIRE', na=True)\n",
        "df_ConFeeling = df_ConFeeling[~mask]\n",
        "#display(df_ConFeeling)\n",
        "\n",
        "#Isolate relevant columns: Concept Interaction\n",
        "include = ['Participant Completion Code', 'Question Key', 'Response']\n",
        "df_ConInteraction = df_ConInteraction[~df_ConInteraction['Event Index'].str.contains('END OF FILE', na=True)]\n",
        "df_ConInteraction.drop(columns=df_ConInteraction.columns.difference(include), inplace=True)\n",
        "mask = df_ConInteraction['Question Key'].str.contains('BEGIN QUESTIONNAIRE', na=True) | df_ConInteraction['Question Key'].str.contains('END QUESTIONNAIRE', na=True)\n",
        "df_ConInteraction = df_ConInteraction[~mask]\n",
        "#display(df_ConInteraction)\n",
        "\n",
        "#Isolate relevant columns: Social Dominance Orientation\n",
        "include = ['Participant Completion Code', 'Question Key', 'Response']\n",
        "df_SDO = df_SDO[~df_SDO['Event Index'].str.contains('END OF FILE', na=True)]\n",
        "df_SDO.drop(columns=df_SDO.columns.difference(include), inplace=True)\n",
        "mask = df_SDO['Question Key'].str.contains('BEGIN QUESTIONNAIRE', na=True) | df_SDO['Question Key'].str.contains('END QUESTIONNAIRE', na=True)\n",
        "df_SDO = df_SDO[~mask]\n",
        "#display(df_SDO)\n",
        "\n",
        "#Isolate relevant columns: PRaM\n",
        "include = ['Participant Completion Code', 'Zone Name', 'conceptA', 'conceptB', 'Response']\n",
        "df_taskPRaM = df_taskPRaM[~df_taskPRaM['Event Index'].str.contains('END OF FILE', na=True)]\n",
        "df_taskPRaM.drop(columns=df_taskPRaM.columns.difference(include), inplace=True)\n",
        "mask = df_taskPRaM['Zone Name'].str.contains('Likert', na=True)\n",
        "df_taskPRaM = df_taskPRaM[mask]\n",
        "df_taskPRaM.drop(columns=['Zone Name'], inplace=True)\n",
        "#display(df_taskPRaM)"
      ],
      "metadata": {
        "id": "6LwvqmKec1MJ"
      },
      "execution_count": null,
      "outputs": []
    },
    {
      "cell_type": "code",
      "source": [
        "#Isolate Pivot dataframes: Check\n",
        "df_check = df_check.pivot(index = 'Participant Completion Code', columns = ['Question Key'], values = ['Response'])\n",
        "#display(df_check)\n",
        "\n",
        "#Isolate Pivot dataframes: Demographics\n",
        "df_demographic = df_demographic.pivot(index = 'Participant Completion Code', columns = ['Question Key'], values = ['Response'])\n",
        "#display(df_demographic)\n",
        "\n",
        "#Isolate Pivot dataframes: Task_RGN\n",
        "df_taskRGN = df_taskRGN.pivot(index = '# name', columns = ['Screen Name', 'Participant Completion Code'], values = ['Response', 'Reaction Time'])\n",
        "#display(df_taskRGN)"
      ],
      "metadata": {
        "id": "8dzVwNOoDY5V"
      },
      "execution_count": null,
      "outputs": []
    },
    {
      "cell_type": "code",
      "source": [
        "#Push to Lab GitHub !!!\n",
        "#NOTE: These credentials should be configured to user's lab GitHub\n",
        "#If user is part of ExCaLBBR Lab then ask Roberto for access\n",
        "!git config --global user.name \"\" #\"YOUR CREDIENTIALS HERE\" \n",
        "!git config --global user.email \"\" #\"YOUR CREDIENTIALS HERE\"\n",
        "!git config --global user.password \"\" #\"YOUR CREDIENTIALS HERE\"\n",
        "\n",
        "token = ''\n",
        "username_organization = ''\n",
        "repo = ''\n",
        "outputDir = ''"
      ],
      "metadata": {
        "id": "P1hSBfkRJkYa"
      },
      "execution_count": null,
      "outputs": []
    },
    {
      "cell_type": "code",
      "source": [
        "#Clone repository and move created files into output directory\n",
        "!git clone https://{token}@github.com/{username_organization}/{repo}"
      ],
      "metadata": {
        "id": "RToVhxKCJntE",
        "outputId": "d9afd5f1-11a1-49b1-e5e4-603246291314",
        "colab": {
          "base_uri": "https://localhost:8080/"
        }
      },
      "execution_count": null,
      "outputs": [
        {
          "output_type": "stream",
          "name": "stdout",
          "text": [
            "Cloning into 'ExCaLBBR_Projects'...\n",
            "remote: Enumerating objects: 237, done.\u001b[K\n",
            "remote: Counting objects:   5% (1/18)\u001b[K\rremote: Counting objects:  11% (2/18)\u001b[K\rremote: Counting objects:  16% (3/18)\u001b[K\rremote: Counting objects:  22% (4/18)\u001b[K\rremote: Counting objects:  27% (5/18)\u001b[K\rremote: Counting objects:  33% (6/18)\u001b[K\rremote: Counting objects:  38% (7/18)\u001b[K\rremote: Counting objects:  44% (8/18)\u001b[K\rremote: Counting objects:  50% (9/18)\u001b[K\rremote: Counting objects:  55% (10/18)\u001b[K\rremote: Counting objects:  61% (11/18)\u001b[K\rremote: Counting objects:  66% (12/18)\u001b[K\rremote: Counting objects:  72% (13/18)\u001b[K\rremote: Counting objects:  77% (14/18)\u001b[K\rremote: Counting objects:  83% (15/18)\u001b[K\rremote: Counting objects:  88% (16/18)\u001b[K\rremote: Counting objects:  94% (17/18)\u001b[K\rremote: Counting objects: 100% (18/18)\u001b[K\rremote: Counting objects: 100% (18/18), done.\u001b[K\n",
            "remote: Compressing objects: 100% (17/17), done.\u001b[K\n",
            "remote: Total 237 (delta 3), reused 0 (delta 0), pack-reused 219\u001b[K\n",
            "Receiving objects: 100% (237/237), 608.26 KiB | 7.80 MiB/s, done.\n",
            "Resolving deltas: 100% (69/69), done.\n"
          ]
        }
      ]
    },
    {
      "cell_type": "code",
      "source": [
        "#Convert all files to csv\n",
        "df_check.to_csv('check.csv')\n",
        "df_demographic.to_csv('demographic.csv')\n",
        "df_taskRGN.to_csv('taskRGN.csv')"
      ],
      "metadata": {
        "id": "GHGoq3mGSf5Q"
      },
      "execution_count": null,
      "outputs": []
    },
    {
      "cell_type": "code",
      "source": [
        "#Move files to Clone repository\n",
        "!mv check.csv {repo}/{outputDir}\n",
        "!mv demographic.csv {repo}/{outputDir}\n",
        "!mv taskRGN.csv {repo}/{outputDir}"
      ],
      "metadata": {
        "id": "8QzFtkfER0-3"
      },
      "execution_count": null,
      "outputs": []
    },
    {
      "cell_type": "code",
      "source": [
        "#Move to principle dir, commit, and push changes\n",
        "%cd {repo}\n",
        "!git add --all\n",
        "!git commit -a -m \"Added restructured output for RGN task to your GitHub repository\"\n",
        "!git push origin"
      ],
      "metadata": {
        "id": "GhSx52_aMfPs",
        "outputId": "f7daa4d4-4621-4262-99be-d0d7979c9dee",
        "colab": {
          "base_uri": "https://localhost:8080/"
        }
      },
      "execution_count": null,
      "outputs": [
        {
          "output_type": "stream",
          "name": "stdout",
          "text": [
            "/content/ExCaLBBR_Projects\n"
          ]
        }
      ]
    }
  ]
}
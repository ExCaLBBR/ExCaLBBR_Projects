{
  "nbformat": 4,
  "nbformat_minor": 0,
  "metadata": {
    "colab": {
      "provenance": [],
      "authorship_tag": "ABX9TyMeiLJIj0LmCQxPaXJxa29F",
      "include_colab_link": true
    },
    "kernelspec": {
      "name": "python3",
      "display_name": "Python 3"
    },
    "language_info": {
      "name": "python"
    }
  },
  "cells": [
    {
      "cell_type": "markdown",
      "metadata": {
        "id": "view-in-github",
        "colab_type": "text"
      },
      "source": [
        "<a href=\"https://colab.research.google.com/github/ExCaLBBR/ExCaLBBR_Projects/blob/main/SocioenvironmentalGeometry/code/ConceptGeo_AnalysisNotebook.ipynb\" target=\"_parent\"><img src=\"https://colab.research.google.com/assets/colab-badge.svg\" alt=\"Open In Colab\"/></a>"
      ]
    },
    {
      "cell_type": "markdown",
      "source": [
        "#Concept Geometry analysis pipeline \n",
        "Created by: <b>Roberto Vargas </b><br>\n",
        "Adapted from Octave by: <b>Nahom Mossazghi </b><br>\n",
        "<br>\n",
        "<b>Pipeline includes:</b><br>\n",
        "*   Data restructuring: Sorting accoring to word list\n",
        "*   Regression predicting pair differences\n",
        "\n",
        "\n",
        "<br>\n",
        "<br>"
      ],
      "metadata": {
        "id": "O4Gme4COyVnz"
      }
    },
    {
      "cell_type": "code",
      "source": [
        "#@title Install dependancies\n",
        "import numpy as np\n",
        "import pandas as pd\n",
        "from matplotlib import pyplot as plt \n",
        "from scipy import stats \n",
        "from itertools import combinations\n",
        "import math\n",
        "import statsmodels.api as sm\n",
        "rom sklearn.linear_model import LinearRegression\n",
        "import csv"
      ],
      "metadata": {
        "cellView": "form",
        "id": "SEWVqBcKx9KO"
      },
      "execution_count": null,
      "outputs": []
    }
  ]
}